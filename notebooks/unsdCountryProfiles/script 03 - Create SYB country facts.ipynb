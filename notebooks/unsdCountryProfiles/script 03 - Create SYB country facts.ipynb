{
 "cells": [
  {
   "cell_type": "markdown",
   "metadata": {},
   "source": [
    "# Create country profiles"
   ]
  },
  {
   "cell_type": "code",
   "execution_count": 1,
   "metadata": {},
   "outputs": [],
   "source": [
    "import csv\n",
    "import json\n",
    "import re\n",
    "import statistics\n",
    "import math\n",
    "import os"
   ]
  },
  {
   "cell_type": "markdown",
   "metadata": {},
   "source": [
    "### User parameters"
   ]
  },
  {
   "cell_type": "code",
   "execution_count": 2,
   "metadata": {},
   "outputs": [
    {
     "name": "stdout",
     "output_type": "stream",
     "text": [
      "C:\\Users\\L.GonzalezMorales\\Documents\\GitHub\\FIS4SDGs\\notebooks\\unsdCountryProfiles\n",
      "data inputs dir: ../../data/unsd/countryProfiles\n"
     ]
    }
   ],
   "source": [
    "dir_path = os.path.dirname(os.path.realpath('__file__'))\n",
    "print(dir_path)\n",
    "\n",
    "wd_dir = r'../../data/unsd/countryProfiles'\n",
    "syb_dir = r'../../data/unsd/UNSYB/output'\n",
    "print('data inputs dir: ' + wd_dir)\n",
    "\n",
    "\n",
    "\n",
    "# https://volderette.de/jupyter-notebook-tip-multiple-outputs/\n",
    "from IPython.core.interactiveshell import InteractiveShell\n",
    "InteractiveShell.ast_node_interactivity = \"all\"\n"
   ]
  },
  {
   "cell_type": "markdown",
   "metadata": {},
   "source": [
    "## Utilities"
   ]
  },
  {
   "cell_type": "markdown",
   "metadata": {},
   "source": [
    "#### Commercial rounding"
   ]
  },
  {
   "cell_type": "code",
   "execution_count": 3,
   "metadata": {},
   "outputs": [
    {
     "name": "stdout",
     "output_type": "stream",
     "text": [
      "3.51\n",
      "4.0\n"
     ]
    }
   ],
   "source": [
    "def round_KFM(x, n):\n",
    "    posneg = math.copysign(1, x)\n",
    "    z = abs(x)*10**n\n",
    "    z = z + 0.5\n",
    "    z = math.trunc(z)\n",
    "    z = z/10**n\n",
    "    result = z * posneg\n",
    "    return result\n",
    "    \n",
    "print(round_KFM(3.5123,2))\n",
    "print(round_KFM(4.0,1))"
   ]
  },
  {
   "cell_type": "markdown",
   "metadata": {},
   "source": [
    "#### Regular expression to capture numeric values (including those in scientific notation)\n",
    "The regex is\n",
    "\n",
    "```\n",
    "-?      # an optional -\n",
    "\\d+     # a series of digits\n",
    "(?:     # start non capturing group\n",
    "  \\.    # a dot\n",
    "  \\d+   # a series of digits\n",
    ")?      \n",
    "(?:     # start non capturing group\n",
    "  e     # \"e\"\n",
    "  -?    # an optional -\n",
    "  \\d+   # digits\n",
    ")?\n",
    "```\n"
   ]
  },
  {
   "cell_type": "code",
   "execution_count": 4,
   "metadata": {},
   "outputs": [],
   "source": [
    "def numeric_part(v):\n",
    "    numeric_part_f = re.compile(r'-?\\d+(?:\\.\\d+)?(?:e-?\\d+)?')\n",
    "    x = numeric_part_f.findall(v)\n",
    "    if len(x) > 0:\n",
    "        return float(x[0])\n",
    "    else:\n",
    "        return None\n"
   ]
  },
  {
   "cell_type": "code",
   "execution_count": 5,
   "metadata": {},
   "outputs": [
    {
     "name": "stdout",
     "output_type": "stream",
     "text": [
      "4.0\n",
      "None\n",
      "-2320.0\n",
      "-2320.0\n",
      "0.01\n"
     ]
    }
   ],
   "source": [
    "print(numeric_part('<4'))\n",
    "print(numeric_part('abs'))\n",
    "print(numeric_part('-23.2e2'))\n",
    "print(numeric_part('-23.2e2 or more'))\n",
    "\n",
    "print(numeric_part('0.01'))"
   ]
  },
  {
   "cell_type": "markdown",
   "metadata": {},
   "source": [
    "#### Compute a hash of a dictionary"
   ]
  },
  {
   "cell_type": "code",
   "execution_count": 6,
   "metadata": {},
   "outputs": [],
   "source": [
    "def dict_hash(d):\n",
    "    out = hashlib.md5()\n",
    "    for key, value in d.items():\n",
    "        out.update(key.encode('utf-8'))\n",
    "        out.update(value.encode('utf-8'))\n",
    "    return out.hexdigest()\n"
   ]
  },
  {
   "cell_type": "markdown",
   "metadata": {},
   "source": [
    "#### Get unique dictionaries in a list"
   ]
  },
  {
   "cell_type": "code",
   "execution_count": 7,
   "metadata": {},
   "outputs": [],
   "source": [
    "def unique_dicts(dictionary_list):\n",
    "\n",
    "    uniques_map = {}\n",
    "\n",
    "    for d in dictionary_list:\n",
    "        uniques_map[dict_hash(d)] = d\n",
    "\n",
    "    return list(uniques_map.values())\n"
   ]
  },
  {
   "cell_type": "markdown",
   "metadata": {},
   "source": [
    "#### Extract subset of key-value pairs from Python dictionary object"
   ]
  },
  {
   "cell_type": "code",
   "execution_count": 8,
   "metadata": {},
   "outputs": [],
   "source": [
    "def subdict_list(dict_list, keys_list, exclude = False):\n",
    "    sub_d_list = []\n",
    "    if exclude:\n",
    "        for d in dict_list:\n",
    "            sub_d= {k: d[k] for k in d.keys() if k not in keys_list}\n",
    "            sub_d_list.append(sub_d)\n",
    "    else:\n",
    "        for d in dict_list:\n",
    "            sub_d= {k: d[k] for k in keys_list}\n",
    "            sub_d_list.append(sub_d)\n",
    "    \n",
    "    return sub_d_list\n",
    "\n",
    "\n"
   ]
  },
  {
   "cell_type": "markdown",
   "metadata": {},
   "source": [
    "#### Get a dict from a list based on something inside the dict"
   ]
  },
  {
   "cell_type": "code",
   "execution_count": 9,
   "metadata": {},
   "outputs": [],
   "source": [
    "def select_dict(dict_list, k, v):\n",
    "    selected = []\n",
    "    for d in dict_list:\n",
    "        if d[k] == v:\n",
    "            selected.append(d)\n",
    "    return selected"
   ]
  },
  {
   "cell_type": "markdown",
   "metadata": {},
   "source": [
    "### Create list of countries"
   ]
  },
  {
   "cell_type": "code",
   "execution_count": 10,
   "metadata": {},
   "outputs": [
    {
     "name": "stdout",
     "output_type": "stream",
     "text": [
      "{'X': '20.06660928', 'Y': '41.13897007', 'ISO3': 'ALB', 'M49': '8', 'areaName': 'Albania', 'UN_Member': '1', 'Country_Profile': '1'}\n",
      "Total number or countries:  248\n"
     ]
    }
   ],
   "source": [
    "countryArray = []\n",
    "with open(r'..\\..\\globalResources\\refAreas.txt', newline = '') as countryListXY:                                                                                          \n",
    "    countryListXY = csv.DictReader(countryListXY, delimiter='\\t')\n",
    "    for row in countryListXY:\n",
    "        countryArray.append(dict(row))\n",
    "        \n",
    "print(countryArray[1])\n",
    "\n",
    "    \n",
    "print(\"Total number or countries: \", len(countryArray))"
   ]
  },
  {
   "cell_type": "markdown",
   "metadata": {},
   "source": [
    "### Get catalogue of UN SYB series"
   ]
  },
  {
   "cell_type": "code",
   "execution_count": 18,
   "metadata": {},
   "outputs": [
    {
     "data": {
      "text/plain": [
       "dict_keys(['topicId', 'topicNameEN', 'topicNameFR', 'tables'])"
      ]
     },
     "execution_count": 18,
     "metadata": {},
     "output_type": "execute_result"
    },
    {
     "data": {
      "text/plain": [
       "dict_keys(['tableCode', 'tableId', 'tableName', 'tableNote', 'tableStatusId', 'tbBkCode', 'tbBkPrint', 'series'])"
      ]
     },
     "execution_count": 18,
     "metadata": {},
     "output_type": "execute_result"
    },
    {
     "data": {
      "text/plain": [
       "dict_keys(['newSeriesName', 'units', 'multiplier', 'baseYear', 'SELECT', 'seriesCode', 'SYB_series'])"
      ]
     },
     "execution_count": 18,
     "metadata": {},
     "output_type": "execute_result"
    },
    {
     "data": {
      "text/plain": [
       "{'newSeriesName': 'Infant mortality ratio',\n",
       " 'units': 'Number of deaths per 1,000 live births',\n",
       " 'multiplier': 0,\n",
       " 'baseYear': None,\n",
       " 'SELECT': None,\n",
       " 'seriesCode': 'SYB011',\n",
       " 'SYB_series': [253]}"
      ]
     },
     "execution_count": 18,
     "metadata": {},
     "output_type": "execute_result"
    }
   ],
   "source": [
    "syb_dir = r'..\\..\\data\\unsd\\UNSYB\\output'\n",
    "\n",
    "with open(r'..\\..\\data\\unsd\\UNSYB\\output\\SYB_Series_Catalog.json') as json_file:  \n",
    "    syb_catalogue = json.load(json_file)\n",
    "    \n",
    "syb_catalogue[0].keys()\n",
    "syb_catalogue[0]['tables'][0].keys()\n",
    "syb_catalogue[0]['tables'][0]['series'][0].keys()\n",
    "\n",
    "syb_catalogue[0]['tables'][0]['series'][0]"
   ]
  },
  {
   "cell_type": "markdown",
   "metadata": {},
   "source": [
    "### Get catalogue of SYB items on SDG open data groups"
   ]
  },
  {
   "cell_type": "code",
   "execution_count": 19,
   "metadata": {},
   "outputs": [
    {
     "data": {
      "text/plain": [
       "{'seriesName': 'Asylum seekers  including pending cases',\n",
       " 'publicationYear': '2018',\n",
       " 'id': 'a1bc495b927c4873b6d314a0ce3b7bd1',\n",
       " 'owner': 'unstats_admin',\n",
       " 'created': 1561274445000,\n",
       " 'modified': 1561310873000,\n",
       " 'title': 'SYB indicator: Asylum seekers, including pending cases',\n",
       " 'type': 'Feature Service',\n",
       " 'tags': ['SYB'],\n",
       " 'url': 'https://services7.arcgis.com/gp50Ao2knMlOM89z/arcgis/rest/services/SYB072_2018/FeatureServer',\n",
       " 'seriesCode': 'SYB072'}"
      ]
     },
     "execution_count": 19,
     "metadata": {},
     "output_type": "execute_result"
    }
   ],
   "source": [
    "with open(r'..\\..\\data\\unsd\\UNSYB\\output\\unsd_syb_catalogue_201907.json') as json_file:  \n",
    "    hub_catalogue = json.load(json_file)\n",
    "    \n",
    "hub_catalogue[0]['series'][0]"
   ]
  },
  {
   "cell_type": "markdown",
   "metadata": {},
   "source": [
    "### Get SYB fact builder"
   ]
  },
  {
   "cell_type": "code",
   "execution_count": 20,
   "metadata": {},
   "outputs": [
    {
     "name": "stdout",
     "output_type": "stream",
     "text": [
      "{'countryProfile': '1', 'topicId': '2', 'topicName': 'Population and migration', 'tableId': '89', 'tableName': 'Population, density and surface area', 'seriesCode': 'SYB087', 'hub': '493ee3f35221493fa582b807034fe488', 'seriesDesc': 'Share of population by age group', 'units': 'Percent', 'multiplier': '0', 'baseYear': '', 'multiplierDesc': '', 'personnelTypeCode': '', 'personnelTypeDesc': '', 'activityCode': '', 'activityDesc': '', 'speciesCode': '', 'speciesDesc': '', 'ODACode': '', 'ODADesc': '', 'urbanizationCode': '', 'urbanizationDesc': '', 'ageCode': 'Y_GE65', 'ageDesc': '65 years old and over', 'sexCode': '', 'sexDesc': '', 'educationLevCode': '', 'educationLevDesc': '', 'Country_profiles': 'x', 'FactName': 'Share of population 65 years of age an over', 'Theme': 'Population and migration', 'Units': 'Percent'}\n"
     ]
    }
   ],
   "source": [
    "fact_builder = []\n",
    "with open(wd_dir + r'/input/SYB_CountryProfileBuilder_201907.csv', newline = '') as countryProfileBuilder:                                                                                          \n",
    "    country_profile_builder = csv.DictReader(countryProfileBuilder, delimiter=',')\n",
    "    for row in country_profile_builder:\n",
    "        fact_builder.append(dict(row))\n",
    "        \n",
    "print(fact_builder[1])\n"
   ]
  },
  {
   "cell_type": "markdown",
   "metadata": {},
   "source": [
    "## Create SYB country facts"
   ]
  },
  {
   "cell_type": "code",
   "execution_count": 21,
   "metadata": {},
   "outputs": [
    {
     "data": {
      "text/plain": [
       "dict_keys(['X', 'Y', 'ISO3', 'M49', 'areaName', 'UN_Member', 'Country_Profile'])"
      ]
     },
     "execution_count": 21,
     "metadata": {},
     "output_type": "execute_result"
    },
    {
     "data": {
      "text/plain": [
       "{'X': '66.02688198',\n",
       " 'Y': '33.83160199',\n",
       " 'ISO3': 'AFG',\n",
       " 'M49': '4',\n",
       " 'areaName': 'Afghanistan',\n",
       " 'UN_Member': '1',\n",
       " 'Country_Profile': '1'}"
      ]
     },
     "execution_count": 21,
     "metadata": {},
     "output_type": "execute_result"
    }
   ],
   "source": [
    "countryArray[0].keys()\n",
    "countryArray[0]"
   ]
  },
  {
   "cell_type": "code",
   "execution_count": null,
   "metadata": {},
   "outputs": [
    {
     "name": "stdout",
     "output_type": "stream",
     "text": [
      "Building SYB country facts for: 4-Afghanistan\n",
      "Building SYB country facts for: 8-Albania\n",
      "Building SYB country facts for: 10-Antarctica\n",
      "Building SYB country facts for: 12-Algeria\n",
      "Building SYB country facts for: 16-American Samoa\n",
      "Building SYB country facts for: 20-Andorra\n",
      "Building SYB country facts for: 24-Angola\n",
      "Building SYB country facts for: 28-Antigua and Barbuda\n",
      "Building SYB country facts for: 31-Azerbaijan\n",
      "Building SYB country facts for: 32-Argentina\n",
      "Building SYB country facts for: 36-Australia\n",
      "Building SYB country facts for: 40-Austria\n",
      "Building SYB country facts for: 44-Bahamas\n",
      "Building SYB country facts for: 48-Bahrain\n",
      "Building SYB country facts for: 50-Bangladesh\n",
      "Building SYB country facts for: 51-Armenia\n",
      "Building SYB country facts for: 52-Barbados\n",
      "Building SYB country facts for: 56-Belgium\n",
      "Building SYB country facts for: 60-Bermuda\n",
      "Building SYB country facts for: 64-Bhutan\n",
      "Building SYB country facts for: 68-Bolivia (Plurinational State of)\n",
      "Building SYB country facts for: 70-Bosnia and Herzegovina\n",
      "Building SYB country facts for: 72-Botswana\n",
      "Building SYB country facts for: 74-Bouvet Island\n",
      "Building SYB country facts for: 76-Brazil\n",
      "Building SYB country facts for: 84-Belize\n",
      "Building SYB country facts for: 86-British Indian Ocean Territory\n",
      "Building SYB country facts for: 90-Solomon Islands\n",
      "Building SYB country facts for: 92-British Virgin Islands\n",
      "Building SYB country facts for: 96-Brunei Darussalam\n",
      "Building SYB country facts for: 100-Bulgaria\n",
      "Building SYB country facts for: 104-Myanmar\n",
      "Building SYB country facts for: 108-Burundi\n",
      "Building SYB country facts for: 112-Belarus\n",
      "Building SYB country facts for: 116-Cambodia\n",
      "Building SYB country facts for: 120-Cameroon\n",
      "Building SYB country facts for: 124-Canada\n",
      "Building SYB country facts for: 132-Cabo Verde\n",
      "Building SYB country facts for: 136-Cayman Islands\n",
      "Building SYB country facts for: 140-Central African Republic\n",
      "Building SYB country facts for: 144-Sri Lanka\n",
      "Building SYB country facts for: 148-Chad\n",
      "Building SYB country facts for: 152-Chile\n",
      "Building SYB country facts for: 156-China\n",
      "Building SYB country facts for: 162-Christmas Island\n",
      "Building SYB country facts for: 166-Cocos (Keeling) Islands\n",
      "Building SYB country facts for: 170-Colombia\n",
      "Building SYB country facts for: 174-Comoros\n",
      "Building SYB country facts for: 175-Mayotte\n",
      "Building SYB country facts for: 178-Congo\n",
      "Building SYB country facts for: 180-Democratic Republic of the Congo\n",
      "Building SYB country facts for: 184-Cook Islands\n",
      "Building SYB country facts for: 188-Costa Rica\n",
      "Building SYB country facts for: 191-Croatia\n",
      "Building SYB country facts for: 192-Cuba\n",
      "Building SYB country facts for: 196-Cyprus\n",
      "Building SYB country facts for: 203-Czechia\n",
      "Building SYB country facts for: 204-Benin\n",
      "Building SYB country facts for: 208-Denmark\n",
      "Building SYB country facts for: 212-Dominica\n",
      "Building SYB country facts for: 214-Dominican Republic\n",
      "Building SYB country facts for: 218-Ecuador\n",
      "Building SYB country facts for: 222-El Salvador\n",
      "Building SYB country facts for: 226-Equatorial Guinea\n",
      "Building SYB country facts for: 231-Ethiopia\n",
      "Building SYB country facts for: 232-Eritrea\n",
      "Building SYB country facts for: 233-Estonia\n",
      "Building SYB country facts for: 234-Faroe Islands\n",
      "Building SYB country facts for: 238-Falkland Islands (Malvinas)\n",
      "Building SYB country facts for: 239-South Georgia and the South Sandwich Islands\n",
      "Building SYB country facts for: 242-Fiji\n",
      "Building SYB country facts for: 246-Finland\n",
      "Building SYB country facts for: 248-Åland Islands\n",
      "Building SYB country facts for: 250-France\n",
      "Building SYB country facts for: 254-French Guiana\n",
      "Building SYB country facts for: 258-French Polynesia\n",
      "Building SYB country facts for: 260-French Southern Territories\n",
      "Building SYB country facts for: 262-Djibouti\n",
      "Building SYB country facts for: 266-Gabon\n",
      "Building SYB country facts for: 268-Georgia\n",
      "Building SYB country facts for: 270-Gambia\n",
      "Building SYB country facts for: 275-State of Palestine\n",
      "Building SYB country facts for: 276-Germany\n",
      "Building SYB country facts for: 288-Ghana\n",
      "Building SYB country facts for: 292-Gibraltar\n",
      "Building SYB country facts for: 296-Kiribati\n",
      "Building SYB country facts for: 300-Greece\n",
      "Building SYB country facts for: 304-Greenland\n",
      "Building SYB country facts for: 308-Grenada\n",
      "Building SYB country facts for: 312-Guadeloupe\n",
      "Building SYB country facts for: 316-Guam\n",
      "Building SYB country facts for: 320-Guatemala\n",
      "Building SYB country facts for: 324-Guinea\n",
      "Building SYB country facts for: 328-Guyana\n",
      "Building SYB country facts for: 332-Haiti\n",
      "Building SYB country facts for: 334-Heard Island and McDonald Islands\n",
      "Building SYB country facts for: 336-Holy See\n",
      "Building SYB country facts for: 340-Honduras\n",
      "Building SYB country facts for: 344-China, Hong Kong Special Administrative Region\n",
      "Building SYB country facts for: 348-Hungary\n",
      "Building SYB country facts for: 352-Iceland\n",
      "Building SYB country facts for: 356-India\n",
      "Building SYB country facts for: 360-Indonesia\n",
      "Building SYB country facts for: 364-Iran (Islamic Republic of)\n",
      "Building SYB country facts for: 368-Iraq\n",
      "Building SYB country facts for: 372-Ireland\n",
      "Building SYB country facts for: 376-Israel\n",
      "Building SYB country facts for: 380-Italy\n",
      "Building SYB country facts for: 384-Côte d'Ivoire\n",
      "Building SYB country facts for: 388-Jamaica\n",
      "Building SYB country facts for: 392-Japan\n",
      "Building SYB country facts for: 398-Kazakhstan\n",
      "Building SYB country facts for: 400-Jordan\n",
      "Building SYB country facts for: 404-Kenya\n",
      "Building SYB country facts for: 408-Democratic People's Republic of Korea\n",
      "Building SYB country facts for: 410-Republic of Korea\n",
      "Building SYB country facts for: 414-Kuwait\n",
      "Building SYB country facts for: 417-Kyrgyzstan\n",
      "Building SYB country facts for: 418-Lao People's Democratic Republic\n",
      "Building SYB country facts for: 422-Lebanon\n",
      "Building SYB country facts for: 426-Lesotho\n",
      "Building SYB country facts for: 428-Latvia\n",
      "Building SYB country facts for: 430-Liberia\n",
      "Building SYB country facts for: 434-Libya\n",
      "Building SYB country facts for: 438-Liechtenstein\n",
      "Building SYB country facts for: 440-Lithuania\n",
      "Building SYB country facts for: 442-Luxembourg\n",
      "Building SYB country facts for: 446-China, Macao Special Administrative Region\n",
      "Building SYB country facts for: 450-Madagascar\n",
      "Building SYB country facts for: 454-Malawi\n",
      "Building SYB country facts for: 458-Malaysia\n",
      "Building SYB country facts for: 462-Maldives\n",
      "Building SYB country facts for: 466-Mali\n",
      "Building SYB country facts for: 470-Malta\n",
      "Building SYB country facts for: 474-Martinique\n",
      "Building SYB country facts for: 478-Mauritania\n",
      "Building SYB country facts for: 480-Mauritius\n",
      "Building SYB country facts for: 484-Mexico\n",
      "Building SYB country facts for: 492-Monaco\n",
      "Building SYB country facts for: 496-Mongolia\n",
      "Building SYB country facts for: 498-Republic of Moldova\n",
      "Building SYB country facts for: 499-Montenegro\n",
      "Building SYB country facts for: 500-Montserrat\n",
      "Building SYB country facts for: 504-Morocco\n",
      "Building SYB country facts for: 508-Mozambique\n",
      "Building SYB country facts for: 512-Oman\n",
      "Building SYB country facts for: 516-Namibia\n",
      "Building SYB country facts for: 520-Nauru\n",
      "Building SYB country facts for: 524-Nepal\n",
      "Building SYB country facts for: 528-Netherlands\n",
      "Building SYB country facts for: 530-Netherlands Antilles\n",
      "Building SYB country facts for: 531-Curaçao\n",
      "Building SYB country facts for: 533-Aruba\n",
      "Building SYB country facts for: 534-Sint Maarten (Dutch part)\n",
      "Building SYB country facts for: 540-New Caledonia\n",
      "Building SYB country facts for: 548-Vanuatu\n",
      "Building SYB country facts for: 554-New Zealand\n",
      "Building SYB country facts for: 558-Nicaragua\n",
      "Building SYB country facts for: 562-Niger\n",
      "Building SYB country facts for: 566-Nigeria\n",
      "Building SYB country facts for: 570-Niue\n",
      "Building SYB country facts for: 574-Norfolk Island\n",
      "Building SYB country facts for: 578-Norway\n",
      "Building SYB country facts for: 580-Northern Mariana Islands\n",
      "Building SYB country facts for: 581-United States Minor Outlying Islands\n",
      "Building SYB country facts for: 583-Micronesia (Federated States of)\n",
      "Building SYB country facts for: 584-Marshall Islands\n",
      "Building SYB country facts for: 585-Palau\n",
      "Building SYB country facts for: 586-Pakistan\n",
      "Building SYB country facts for: 591-Panama\n",
      "Building SYB country facts for: 598-Papua New Guinea\n",
      "Building SYB country facts for: 600-Paraguay\n",
      "Building SYB country facts for: 604-Peru\n",
      "Building SYB country facts for: 608-Philippines\n",
      "Building SYB country facts for: 612-Pitcairn\n",
      "Building SYB country facts for: 616-Poland\n",
      "Building SYB country facts for: 620-Portugal\n",
      "Building SYB country facts for: 624-Guinea-Bissau\n",
      "Building SYB country facts for: 626-Timor-Leste\n",
      "Building SYB country facts for: 630-Puerto Rico\n",
      "Building SYB country facts for: 634-Qatar\n",
      "Building SYB country facts for: 638-Réunion\n",
      "Building SYB country facts for: 642-Romania\n",
      "Building SYB country facts for: 643-Russian Federation\n",
      "Building SYB country facts for: 646-Rwanda\n",
      "Building SYB country facts for: 652-Saint Barthélemy\n",
      "Building SYB country facts for: 654-Saint Helena\n",
      "Building SYB country facts for: 659-Saint Kitts and Nevis\n",
      "Building SYB country facts for: 660-Anguilla\n",
      "Building SYB country facts for: 662-Saint Lucia\n",
      "Building SYB country facts for: 663-Saint Martin (French Part)\n",
      "Building SYB country facts for: 666-Saint Pierre and Miquelon\n",
      "Building SYB country facts for: 670-Saint Vincent and the Grenadines\n"
     ]
    }
   ],
   "source": [
    "count_country = 0\n",
    "\n",
    "for this_country in countryArray:\n",
    "    #if this_country['M49'] != '4':\n",
    "    #    continue\n",
    "    \n",
    "    if this_country['Country_Profile'] != '1':\n",
    "        continue\n",
    "    \n",
    "    print('Building SYB country facts for: ' + this_country['M49'] + '-' + this_country['areaName'])\n",
    "    \n",
    "    count_country += 1\n",
    "    \n",
    "    country_syb_facts = {}\n",
    "    country_code = str(this_country['M49'])\n",
    "    country_name = this_country['areaName']\n",
    "    \n",
    "    country_syb_facts['country_code'] = country_code\n",
    "    country_syb_facts['country_name'] = country_name\n",
    "    country_syb_facts['UNMember'] = this_country['UN_Member']\n",
    "    country_syb_facts['CountryProfile'] = this_country['Country_Profile']\n",
    "    country_syb_facts['themes'] = [{'themeTitle':'Population and migration'},\n",
    "                                   {'themeTitle':'National accounts and labour market'},\n",
    "                                   {'themeTitle':'Trade and balance of payments'},\n",
    "                                   {'themeTitle':'Environment'}]\n",
    "    \n",
    "    \n",
    "\n",
    "    \n",
    "    #----Loop through the series of the SYB fact builder:\n",
    "    \n",
    "    for th in country_syb_facts['themes']:\n",
    "        \n",
    "        thisTheme_facts = []\n",
    "        \n",
    "        for fb in select_dict(fact_builder, 'Theme', th['themeTitle']):\n",
    "            \n",
    "            if fb['Country_profiles'] != 'x':\n",
    "                continue\n",
    "                \n",
    "            if fb['seriesCode'] == 'SYB068':\n",
    "                continue\n",
    "                \n",
    "            this_fact = {}\n",
    "            this_fact['seriesCode'] = fb['seriesCode']\n",
    "            this_fact['seriesTitle'] = fb['FactName']\n",
    "            this_fact['units'] = fb['Units']\n",
    "            this_fact['hub'] = fb['hub']\n",
    "            \n",
    "            dim_values = {}\n",
    "            \n",
    "            for d in ['personnelTypeCode',\n",
    "                      'activityCode',\n",
    "                      'speciesCode',\n",
    "                      'ODACode',\n",
    "                      'urbanizationCode',\n",
    "                      'ageCode',\n",
    "                      'sexCode',\n",
    "                      'educationLevCode']:\n",
    "            \n",
    "                if fb[d] != '':\n",
    "                    dim_values[d] = fb[d]\n",
    "            \n",
    "            #display(dim_values)\n",
    "            \n",
    "            #-----read syb series data---\n",
    "            \n",
    "            data_file = r'../../data/unsd/UNSYB/output/Topic' + fb['topicId'].zfill(2) + '_Table' + fb['tableId'].zfill(3) + '_Series' + fb['seriesCode']+ '.json'\n",
    "            with open(data_file) as json_file:  \n",
    "                data = json.load(json_file)\n",
    "                \n",
    "            data = select_dict(data['refAreas'], 'refAreaCode', int(country_code))\n",
    "            \n",
    "            if len(data)>0:\n",
    "                data = data[0]['data']\n",
    "                if len(dim_values) > 0:\n",
    "                    for k,v in dim_values.items():\n",
    "                        data = select_dict(data, k, v)\n",
    "                        \n",
    "                #display(data)\n",
    "\n",
    "                this_fact['years'] = []\n",
    "                this_fact['values'] = []\n",
    "                \n",
    "                years_sorted = []\n",
    "                values_sorted = []\n",
    "\n",
    "                for i in data:\n",
    "                    \n",
    "                    if i['year'] >= 2000:\n",
    "                        \n",
    "                        decimal_pos = str(i['value']).find('.')\n",
    "\n",
    "                        if decimal_pos == -1 and i['value'] is not None:\n",
    "                            i['value'] = int(i['value'])\n",
    "\n",
    "                        if decimal_pos > 0:\n",
    "                            if len(str(i['value'])) - decimal_pos > 2:\n",
    "                                i['value'] = round(i['value'],2)\n",
    "                        \n",
    "                        this_fact['years'].append(i['year'])\n",
    "                        this_fact['values'].append(i['value'])\n",
    "                        \n",
    "                sort_order = sorted(range(len(this_fact['years'])), key = lambda k: this_fact['years'][k])\n",
    "                \n",
    "                for j in sort_order:\n",
    "                    if this_fact['years'][j] < 2020:\n",
    "                        years_sorted.append(this_fact['years'][j])\n",
    "                        values_sorted.append(this_fact['values'][j])\n",
    "                    \n",
    "                \n",
    "                 \n",
    "                this_fact['years'] = years_sorted\n",
    "                this_fact['values'] = values_sorted\n",
    "\n",
    "                #display(this_fact)\n",
    "\n",
    "                thisTheme_facts.append(this_fact)\n",
    "                \n",
    "        th['themeFacts'] = thisTheme_facts\n",
    "        \n",
    "    #display(country_syb_facts)       \n",
    "    \n",
    "    \n",
    "    with open(wd_dir + r'/output/SYB_country_profile' + str(country_code).zfill(3) + \".json\", 'w') as outfile:\n",
    "        json.dump(country_syb_facts, outfile, indent=4 )    \n",
    "\n",
    "        \n",
    "        \n",
    "\n",
    "   "
   ]
  },
  {
   "cell_type": "code",
   "execution_count": null,
   "metadata": {},
   "outputs": [],
   "source": []
  }
 ],
 "metadata": {
  "kernelspec": {
   "display_name": "Python 3",
   "language": "python",
   "name": "python3"
  },
  "language_info": {
   "codemirror_mode": {
    "name": "ipython",
    "version": 3
   },
   "file_extension": ".py",
   "mimetype": "text/x-python",
   "name": "python",
   "nbconvert_exporter": "python",
   "pygments_lexer": "ipython3",
   "version": "3.6.8"
  }
 },
 "nbformat": 4,
 "nbformat_minor": 2
}
