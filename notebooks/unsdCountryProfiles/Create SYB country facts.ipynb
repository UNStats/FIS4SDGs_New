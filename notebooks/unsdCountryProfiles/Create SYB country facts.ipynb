{
 "cells": [
  {
   "cell_type": "markdown",
   "metadata": {},
   "source": [
    "# Create country profiles"
   ]
  },
  {
   "cell_type": "code",
   "execution_count": 1,
   "metadata": {},
   "outputs": [],
   "source": [
    "import csv\n",
    "import json\n",
    "import re\n",
    "import statistics\n",
    "import math\n",
    "import os"
   ]
  },
  {
   "cell_type": "markdown",
   "metadata": {},
   "source": [
    "### User parameters"
   ]
  },
  {
   "cell_type": "code",
   "execution_count": 22,
   "metadata": {},
   "outputs": [
    {
     "name": "stdout",
     "output_type": "stream",
     "text": [
      "C:\\Users\\L.GonzalezMorales\\Documents\\GitHub\\FIS4SDGs\\notebooks\\unsdCountryProfiles\n",
      "data inputs dir: ../../data/unsd/countryProfiles\n"
     ]
    }
   ],
   "source": [
    "dir_path = os.path.dirname(os.path.realpath('__file__'))\n",
    "print(dir_path)\n",
    "\n",
    "wd_dir = r'../../data/unsd/countryProfiles'\n",
    "syb_dir = r'../../data/unsd/UNSYB/output'\n",
    "print('data inputs dir: ' + wd_dir)\n",
    "\n",
    "\n",
    "\n",
    "# https://volderette.de/jupyter-notebook-tip-multiple-outputs/\n",
    "from IPython.core.interactiveshell import InteractiveShell\n",
    "InteractiveShell.ast_node_interactivity = \"all\"\n"
   ]
  },
  {
   "cell_type": "markdown",
   "metadata": {},
   "source": [
    "## Utilities"
   ]
  },
  {
   "cell_type": "markdown",
   "metadata": {},
   "source": [
    "#### Commercial rounding"
   ]
  },
  {
   "cell_type": "code",
   "execution_count": 3,
   "metadata": {},
   "outputs": [
    {
     "name": "stdout",
     "output_type": "stream",
     "text": [
      "3.51\n",
      "4.0\n"
     ]
    }
   ],
   "source": [
    "def round_KFM(x, n):\n",
    "    posneg = math.copysign(1, x)\n",
    "    z = abs(x)*10**n\n",
    "    z = z + 0.5\n",
    "    z = math.trunc(z)\n",
    "    z = z/10**n\n",
    "    result = z * posneg\n",
    "    return result\n",
    "    \n",
    "print(round_KFM(3.5123,2))\n",
    "print(round_KFM(4.0,1))"
   ]
  },
  {
   "cell_type": "markdown",
   "metadata": {},
   "source": [
    "#### Regular expression to capture numeric values (including those in scientific notation)\n",
    "The regex is\n",
    "\n",
    "```\n",
    "-?      # an optional -\n",
    "\\d+     # a series of digits\n",
    "(?:     # start non capturing group\n",
    "  \\.    # a dot\n",
    "  \\d+   # a series of digits\n",
    ")?      \n",
    "(?:     # start non capturing group\n",
    "  e     # \"e\"\n",
    "  -?    # an optional -\n",
    "  \\d+   # digits\n",
    ")?\n",
    "```\n"
   ]
  },
  {
   "cell_type": "code",
   "execution_count": 4,
   "metadata": {},
   "outputs": [],
   "source": [
    "def numeric_part(v):\n",
    "    numeric_part_f = re.compile(r'-?\\d+(?:\\.\\d+)?(?:e-?\\d+)?')\n",
    "    x = numeric_part_f.findall(v)\n",
    "    if len(x) > 0:\n",
    "        return float(x[0])\n",
    "    else:\n",
    "        return None\n"
   ]
  },
  {
   "cell_type": "code",
   "execution_count": 5,
   "metadata": {},
   "outputs": [
    {
     "name": "stdout",
     "output_type": "stream",
     "text": [
      "4.0\n",
      "None\n",
      "-2320.0\n",
      "-2320.0\n",
      "0.01\n"
     ]
    }
   ],
   "source": [
    "print(numeric_part('<4'))\n",
    "print(numeric_part('abs'))\n",
    "print(numeric_part('-23.2e2'))\n",
    "print(numeric_part('-23.2e2 or more'))\n",
    "\n",
    "print(numeric_part('0.01'))"
   ]
  },
  {
   "cell_type": "markdown",
   "metadata": {},
   "source": [
    "#### Compute a hash of a dictionary"
   ]
  },
  {
   "cell_type": "code",
   "execution_count": 6,
   "metadata": {},
   "outputs": [],
   "source": [
    "def dict_hash(d):\n",
    "    out = hashlib.md5()\n",
    "    for key, value in d.items():\n",
    "        out.update(key.encode('utf-8'))\n",
    "        out.update(value.encode('utf-8'))\n",
    "    return out.hexdigest()\n"
   ]
  },
  {
   "cell_type": "markdown",
   "metadata": {},
   "source": [
    "#### Get unique dictionaries in a list"
   ]
  },
  {
   "cell_type": "code",
   "execution_count": 7,
   "metadata": {},
   "outputs": [],
   "source": [
    "def unique_dicts(dictionary_list):\n",
    "\n",
    "    uniques_map = {}\n",
    "\n",
    "    for d in dictionary_list:\n",
    "        uniques_map[dict_hash(d)] = d\n",
    "\n",
    "    return list(uniques_map.values())\n"
   ]
  },
  {
   "cell_type": "markdown",
   "metadata": {},
   "source": [
    "#### Extract subset of key-value pairs from Python dictionary object"
   ]
  },
  {
   "cell_type": "code",
   "execution_count": 8,
   "metadata": {},
   "outputs": [],
   "source": [
    "def subdict_list(dict_list, keys_list, exclude = False):\n",
    "    sub_d_list = []\n",
    "    if exclude:\n",
    "        for d in dict_list:\n",
    "            sub_d= {k: d[k] for k in d.keys() if k not in keys_list}\n",
    "            sub_d_list.append(sub_d)\n",
    "    else:\n",
    "        for d in dict_list:\n",
    "            sub_d= {k: d[k] for k in keys_list}\n",
    "            sub_d_list.append(sub_d)\n",
    "    \n",
    "    return sub_d_list\n",
    "\n",
    "\n"
   ]
  },
  {
   "cell_type": "markdown",
   "metadata": {},
   "source": [
    "#### Get a dict from a list based on something inside the dict"
   ]
  },
  {
   "cell_type": "code",
   "execution_count": 9,
   "metadata": {},
   "outputs": [],
   "source": [
    "def select_dict(dict_list, k, v):\n",
    "    selected = []\n",
    "    for d in dict_list:\n",
    "        if d[k] == v:\n",
    "            selected.append(d)\n",
    "    return selected"
   ]
  },
  {
   "cell_type": "markdown",
   "metadata": {},
   "source": [
    "### Create list of countries"
   ]
  },
  {
   "cell_type": "code",
   "execution_count": 10,
   "metadata": {},
   "outputs": [
    {
     "name": "stdout",
     "output_type": "stream",
     "text": [
      "{'X': '20.06660928', 'Y': '41.13897007', 'ISO3': 'ALB', 'M49': '8', 'areaName': 'Albania', 'UN_Member': '1', 'Country_Profile': '1'}\n",
      "Total number or countries:  248\n"
     ]
    }
   ],
   "source": [
    "countryArray = []\n",
    "with open(r'..\\..\\globalResources\\refAreas.txt', newline = '') as countryListXY:                                                                                          \n",
    "    countryListXY = csv.DictReader(countryListXY, delimiter='\\t')\n",
    "    for row in countryListXY:\n",
    "        countryArray.append(dict(row))\n",
    "        \n",
    "print(countryArray[1])\n",
    "\n",
    "    \n",
    "print(\"Total number or countries: \", len(countryArray))"
   ]
  },
  {
   "cell_type": "markdown",
   "metadata": {},
   "source": [
    "### Get catalogue of UN SYB series"
   ]
  },
  {
   "cell_type": "code",
   "execution_count": 25,
   "metadata": {},
   "outputs": [
    {
     "data": {
      "text/plain": [
       "dict_keys(['topicId', 'topicNameEN', 'topicNameFR', 'tables'])"
      ]
     },
     "execution_count": 25,
     "metadata": {},
     "output_type": "execute_result"
    },
    {
     "data": {
      "text/plain": [
       "dict_keys(['tableCode', 'tableId', 'tableName', 'tableNote', 'tableStatusId', 'tbBkCode', 'tbBkPrint', 'series'])"
      ]
     },
     "execution_count": 25,
     "metadata": {},
     "output_type": "execute_result"
    },
    {
     "data": {
      "text/plain": [
       "dict_keys(['newSeriesName', 'units', 'multiplier', 'baseYear', 'SELECT', 'seriesCode', 'SYB_series'])"
      ]
     },
     "execution_count": 25,
     "metadata": {},
     "output_type": "execute_result"
    },
    {
     "data": {
      "text/plain": [
       "{'newSeriesName': 'Infant mortality ratio',\n",
       " 'units': 'Number of deaths per 1,000 live births',\n",
       " 'multiplier': 0,\n",
       " 'baseYear': None,\n",
       " 'SELECT': None,\n",
       " 'seriesCode': 'SYB011',\n",
       " 'SYB_series': [253]}"
      ]
     },
     "execution_count": 25,
     "metadata": {},
     "output_type": "execute_result"
    }
   ],
   "source": [
    "syb_dir = r'..\\..\\data\\unsd\\UNSYB\\output'\n",
    "\n",
    "with open(r'..\\..\\data\\unsd\\UNSYB\\output\\SYB_Series_Catalog.json') as json_file:  \n",
    "    syb_catalogue = json.load(json_file)\n",
    "    \n",
    "syb_catalogue[0].keys()\n",
    "syb_catalogue[0]['tables'][0].keys()\n",
    "syb_catalogue[0]['tables'][0]['series'][0].keys()\n",
    "syb_catalogue[0]['tables'][0]['series'][0]"
   ]
  },
  {
   "cell_type": "markdown",
   "metadata": {},
   "source": [
    "### Get catalogue of UNSD items on SDG open data groups"
   ]
  },
  {
   "cell_type": "code",
   "execution_count": 26,
   "metadata": {},
   "outputs": [],
   "source": [
    "with open(r'..\\..\\data\\unsd\\unsd_catalogue.json') as json_file:  \n",
    "    hub_catalogue = json.load(json_file)\n",
    "    \n",
    "#hub_catalogue[0]['series'][0]"
   ]
  },
  {
   "cell_type": "markdown",
   "metadata": {},
   "source": [
    "## Create SYB country facts"
   ]
  },
  {
   "cell_type": "code",
   "execution_count": 12,
   "metadata": {},
   "outputs": [
    {
     "data": {
      "text/plain": [
       "{'X': '66.02688198',\n",
       " 'Y': '33.83160199',\n",
       " 'ISO3': 'AFG',\n",
       " 'M49': '4',\n",
       " 'areaName': 'Afghanistan',\n",
       " 'UN_Member': '1',\n",
       " 'Country_Profile': '1'}"
      ]
     },
     "execution_count": 12,
     "metadata": {},
     "output_type": "execute_result"
    }
   ],
   "source": [
    "countryArray[0].keys()\n",
    "countryArray[0]"
   ]
  },
  {
   "cell_type": "code",
   "execution_count": 35,
   "metadata": {},
   "outputs": [
    {
     "name": "stdout",
     "output_type": "stream",
     "text": [
      "Building SYB country facts for: 4-Afghanistan\n",
      "- - - in series [253]: Infant mortality ratio\n",
      "- - - in series [36, 268, 269]: Life expectancy at birth\n",
      "- - - in series [1159]: Maternal mortality ratio\n",
      "- - - in series [13]: Population annual rate of increase\n",
      "- - - in series [392]: Total fertility rate\n",
      "- - - in series [1617]: Asylum seekers, including pending cases\n",
      "- - - in series [1614, 1616, 1615]: International migrant stock as percent of total population\n",
      "- - - in series [1610]: International migrant stock\n",
      "- - - in series [1618]: Other population of concern to UNHCR\n",
      "- - - in series [1619]: Total population of concern to UNHCR\n",
      "- - - in series [1613]: Total refugees and people in refugee-like situations\n",
      "- - - in series [265]: Capital city population as percent of total population\n",
      "- - - in series [266]: Capital city population as percent of total urban population\n",
      "- - - in series [264]: Capital city population\n",
      "- - - in series [329, 330]: Population growth rate per annum\n",
      "- - - in series [328]: Urban population as percent of total populatoin\n",
      "- - - in series [22, 23]: Share of population by age group\n",
      "- - - in series [1171]: Population density\n",
      "- - - in series [1160, 123, 124]: Population mid-year estimates\n",
      "- - - in series [24]: Sex ratio (males per 100 females)\n",
      "- - - in series [1170]: Surface area\n",
      "- - - in series [1641, 1629, 1642, 1630, 1643, 1631]: Gross education enrollment ratio\n",
      "- - - in series [82, 84, 86]: Number of students enrolled in formal education\n",
      "- - - in series [1638]: Public expenditure in education as percent of total expenditure in public institutions: staff compensation\n",
      "- - - in series [1640]: Public expenditure in education as percent of total expenditure in public institutions: capital expenditure\n",
      "- - - in series [1639]: Public expenditure in education as percent of total expenditure in public institutions: Current expenditure other than staff compensation\n",
      "- - - in series [1634, 1635, 1636, 1637, 1633]: Public expenditure in education as percent of government expenditure\n",
      "- - - in series [1632]: Public expenditure in education as percent of GDP\n",
      "- - - in series [1426, 1427, 1428]: Pupil-teacher ratio\n",
      "- - - in series [1429, 1430, 1431]: Number of teachers\n",
      "- - - in series [1387, 1388, 1389]: Gender parity ratio in education\n",
      "- - - in series [1425]: Proportion of seats held by women in national parliament, as of February\n",
      "- - - in series [1491]: Percentage of individuals using the internet\n",
      "- - - in series [1368]: Cellular mobile telephone subscriptions\n",
      "- - - in series [1367]: Cellular mobile telephone subscriptions per 100 inhabitants\n",
      "- - - in series [1581, 1582, 1583]: Gross value added by industry\n",
      "- - - in series [196]: GDP in constant prices\n",
      "- - - in series [198]: GDP in current prices\n",
      "- - - in series [194]: GDP per capita\n",
      "- - - in series [195]: GDP real rates of growth\n",
      "- - - in series [1360]: Balance of Payments: Capital account\n",
      "- - - in series [1355]: Balance of Payments: Current account\n",
      "- - - in series [17]: Balance of Payments: Financial account\n",
      "- - - in series [165]: Exchange rate: end of period\n",
      "- - - in series [166]: Exchange rate: period average\n",
      "- - - in series [1586, 1585, 1584, 1589, 1588, 1587, 1592, 1591, 1590]: Distribution of employment by industry and sex\n",
      "- - - in series [1605, 1604, 1603]: Labour force participation\n",
      "- - - in series [1602, 1601, 1600]: Unemployment rate\n",
      "- - - in series [228, 233, 236, 1445, 239, 1579, 250, 243, 1378, 251, 241, 1580, 248, 249, 1567]: Index of industrial production\n",
      "- - - in series [8]: Index of agricultural production\n",
      "- - - in series [188]: Index of food production\n",
      "- - - in series [1606]: Consumer Price index: food\n",
      "- - - in series [1607]: Consumer Price index: general\n",
      "- - - in series [1624]: Assault rate\n",
      "- - - in series [1621]: Intentional homicide rate\n",
      "- - - in series [1625]: National kidnapping rate\n",
      "- - - in series [1622, 1623]: Distribution of intentional homicide victims by sex\n",
      "- - - in series [1628]: National robbery rate\n",
      "- - - in series [1627]: National theft rate\n",
      "- - - in series [1626]: Total national sexual violence rate\n",
      "- - - in series [387, 390, 391, 10]: Threatened species\n",
      "- - - in series [1576]: Arable land as percent of total land area\n",
      "- - - in series [259]: Arable land area\n",
      "- - - in series [1578]: Forest cover as percent of total land area\n",
      "- - - in series [1375]: Forest cover area\n",
      "- - - in series [40]: Important sites for terrestrial biodiversity protected as percent of total sites protected\n",
      "- - - in series [998]: Land area\n",
      "- - - in series [1577]: Permanent crops as percent of total land area\n",
      "- - - in series [262]: Permanent crops area\n",
      "- - - in series [3, 4, 2]: Proportion of population with access to Improved drinking water sources\n",
      "- - - in series [6, 7, 5]: Proportion of population with access to improved sanitation facilities\n",
      "- - - in series [55, 60, 56]: Proportion of population with access to safely managed drinking water sources\n",
      "- - - in series [78, 61, 122]: Proportion of population with access to safely managed sanitation facilities\n",
      "- - - in series [1521]: Carbon dioxide emissions\n",
      "- - - in series [1520]: Carbon dioxide emissions per capita\n",
      "- - - in series [1393]: Gross domestic expenditure on R & D as a percentage of GDP\n",
      "- - - in series [204]: Gross domestic expenditure on R & D: Business enterprises\n",
      "- - - in series [205]: Gross domestic expenditure on R & D: Funds from abroad\n",
      "- - - in series [206]: Gross domestic expenditure on R & D: Government\n",
      "- - - in series [207]: Gross domestic expenditure on R & D: Higher education\n",
      "- - - in series [208]: Gross domestic expenditure on R & D: Not distributed\n",
      "- - - in series [209]: Gross domestic expenditure on R & D: Private non-profit\n",
      "- - - in series [355, 354, 357, 356, 359, 358, 360]: Population employed in research and development (R&D)\n",
      "- - - in series [318]: Grants of patents\n",
      "- - - in series [319]: Patents in force\n",
      "- - - in series [1400]: Resident patent filings\n",
      "- - - in series [11]: Share of exports to first major trading partner\n",
      "- - - in series [16]: Share of imports from first major trading partner\n",
      "- - - in series [12]: Share of exports to second major trading partner\n",
      "- - - in series [18]: Share of imports from second major trading partner\n",
      "- - - in series [15]: Share of exports to third major trading partner\n",
      "- - - in series [19]: Share of imports from third major trading partner\n",
      "- - - in series [449]: Balance of trade\n",
      "- - - in series [172]: Exports FOB\n",
      "- - - in series [221]: Imports CIF\n",
      "- - - in series [364]: Railway traffic - net weight-distance\n",
      "- - - in series [365]: Railway traffic - passenger-distance\n",
      "- - - in series [300]: Motor vehicles in use: Commercial vehicles\n",
      "- - - in series [301]: Motor vehicles in use: Passenger cars\n",
      "- - - in series [254]: International maritime transport: Vessels cleared\n",
      "- - - in series [255]: International maritime transport: Vessels entered\n",
      "- - - in series [47]: Civil aviation: scheduled international airline traffic - distance flown\n",
      "- - - in series [48]: Civil aviation: scheduled international airline traffic - passenger-distance\n",
      "- - - in series [49]: Civil aviation: scheduled international airline traffic - passengers carried\n",
      "- - - in series [50]: Civil aviation: scheduled international airline traffic - total weight-distance\n",
      "- - - in series [51]: Civil aviation: total scheduled airline traffic - distance\n",
      "- - - in series [52]: Civil aviation: total scheduled airline traffic - passenger-distance\n",
      "- - - in series [53]: Civil aviation: total scheduled airline traffic - passengers carried\n",
      "- - - in series [54]: Civil aviation: total scheduled airline traffic - total weight-distance\n",
      "- - - in series [1390]: Tourism expenditure\n",
      "- - - in series [1391]: Tourist/visitor arrivals\n",
      "- - - in series [75, 76, 77]: Net disbursements of official development assistance received\n",
      "- - - in series [1555]: Net disbursements of official development assistance received as percent of GNI\n",
      "- - - in series [1608]: Net disbursements of official development assistance to developing countries and multilateral organizations as percent of GNI\n",
      "- - - in series [1609]: Net disbursements of official development assistance to developing countries and multilateral organizations\n",
      "- - - in series [1595]: Change in energy stocks\n",
      "- - - in series [1594]: Net energy imports [Imports - Exports - Bunkers]\n",
      "- - - in series [1593]: Primary energy production\n",
      "- - - in series [1597]: Supply of energy per capita\n",
      "- - - in series [1596]: Total energy supply\n",
      "- - - in series [1572]: Current health expenditure as a percentage of GDP\n",
      "- - - in series [1573]: Domestic general government health expenditure as a percent of government expenditure\n",
      "- - - in series [1511, 1513, 1515, 1517]: Health personnel\n",
      "- - - in series [1512, 1516, 1514, 1519]: Health personnel per 1000 population\n"
     ]
    }
   ],
   "source": [
    "count_country = 0\n",
    "\n",
    "for this_country in countryArray:\n",
    "    if this_country['M49'] != '4':\n",
    "        continue\n",
    "    \n",
    "    if this_country['Country_Profile'] != '1':\n",
    "        continue\n",
    "    \n",
    "    print('Building SYB country facts for: ' + this_country['M49'] + '-' + this_country['areaName'])\n",
    "    \n",
    "    count_country += 1\n",
    "    \n",
    "    country_syb_facts = {}\n",
    "    \n",
    "    country_code = str(this_country['M49'])\n",
    "    country_name = this_country['areaName']\n",
    "    \n",
    "    country_syb_facts['country_code'] = country_code\n",
    "    country_syb_facts['country_name'] = country_name\n",
    "    country_syb_facts['UNMember'] = this_country['UN_Member']\n",
    "    country_syb_facts['CountryProfile'] = this_country['Country_Profile']\n",
    "\n",
    "    count_fact = 0\n",
    "    \n",
    "    topics = []\n",
    "    \n",
    "    for t1 in syb_catalogue:\n",
    "        #print(\"- in topic \" + str(t1['topicId']) + ': ' + t1['topicNameEN'])\n",
    "\n",
    "        topic = {}\n",
    "        \n",
    "        topic['topicId'] = t1['topicId']\n",
    "        topic['topicName'] = t1['topicNameEN']\n",
    "            \n",
    "        tables = []\n",
    "\n",
    "        for t2 in t1['tables']:\n",
    "            #print(\"- - in table \" + str(t2['tableId']) + ': ' + t2['tableName'])\n",
    "            table = {}\n",
    "                \n",
    "            table['tableId'] = t2['tableId']\n",
    "            table['tableName'] = t2['tableName']\n",
    "            \n",
    "            for s in t2['series']:\n",
    "                \n",
    "                print(\"- - - in series \" + str(s['SYB_series']) + ': ' + s['newSeriesName'])\n",
    "               \n",
    "    \n",
    "        \n",
    "    \n",
    "    "
   ]
  },
  {
   "cell_type": "code",
   "execution_count": null,
   "metadata": {},
   "outputs": [],
   "source": [
    " \n",
    "                series = []\n",
    "                \n",
    "                indicator = {}\n",
    "                indicator['indicatorCode'] = i['reference']\n",
    "                \n",
    "                facts = []\n",
    "                \n",
    "\n",
    "\n",
    "                if 'series' in i.keys():\n",
    "                    for s in i['series']:\n",
    "                        \n",
    "                        #print(\"- - - - in series \" + s['code'])\n",
    "                        \n",
    "                        if s['release'] == release:\n",
    "                            \n",
    "                            #if s['code'] != 'GB_XPD_RSDV':\n",
    "                            #    continue\n",
    "                            \n",
    "                            \n",
    "                            for this_fact in fact_builder:\n",
    "                                \n",
    "                                \n",
    "                                \n",
    "                                if this_fact['countryProfile'] != '1' or this_fact['seriesCode'] != s['code']:\n",
    "                                    continue\n",
    "                                #print(\"- - - - - in fact \" + this_fact['seriesCode'])\n",
    "                                \n",
    "                                count_fact += 1\n",
    "                                \n",
    "                                seriesCode = s['code']\n",
    "                                seriesTitle = this_fact['sliceDesc']\n",
    "                                \n",
    "                                for h in hub_catalogue:\n",
    "                                    if h['goal'] != int(this_fact['goal']):\n",
    "                                        continue\n",
    "\n",
    "                                    for hs in h['series']:\n",
    "\n",
    "                                        if hs['seriesCode'] != this_fact['seriesCode']:\n",
    "                                            continue\n",
    "\n",
    "                                        hub = hs['id']\n",
    "                                        \n",
    "                                #-----------------------------------------------------------\n",
    "                                # Select dimensions values that are applicable for this fact\n",
    "                                #-----------------------------------------------------------\n",
    "\n",
    "                                slice_dimensions = {d: this_fact[d] for d in this_fact.keys() &\n",
    "                                                    {'ageCode', \n",
    "                                                     'locationCode', \n",
    "                                                     'sexCode', \n",
    "                                                     'boundsCode', \n",
    "                                                     'educationLevelCode', \n",
    "                                                     'typeOfProductCode', \n",
    "                                                     'typeOfMobileTechnologyCode', \n",
    "                                                     'typeOfSpeedCode'}}\n",
    "\n",
    "                                slice_dimensions = dict((k, v) for k, v in slice_dimensions.items() if v != '')\n",
    "\n",
    "                                \n",
    "                                #-----------------------------------------------------------\n",
    "                                # Colect data for this fact\n",
    "                                #-----------------------------------------------------------\n",
    "\n",
    "                                ##--- Read data for this series---#\n",
    "\n",
    "                                filename = 'Indicator_' + this_fact['indicator'] + '_Series_' + this_fact['seriesCode'] + '.json'\n",
    "                                with open(r'../../data/unsd/' + release + '/' + filename) as json_file:  \n",
    "                                    data = json.load(json_file)\n",
    "\n",
    "\n",
    "                                ##--- Filter data for this_country['M49'] ---#\n",
    "\n",
    "                                data = select_dict(data['refAreas'], 'geoAreaCode', str(this_country['M49']).zfill(3))\n",
    "\n",
    "                                data = data[0]['data']\n",
    "                                \n",
    "                                if len(slice_dimensions)>0:\n",
    "                                    for k,v in slice_dimensions.items():\n",
    "                                        data = select_dict(data, k, v)\n",
    "\n",
    "                                #----------------------------------------------------------------\n",
    "                                # Main fact calculation \n",
    "                                #----------------------------------------------------------------\n",
    "\n",
    "                                values = []\n",
    "                                years = []\n",
    "                                values_is_censored = []\n",
    "                                values_numeric_part = []\n",
    "\n",
    "                                n = None      # number of observations available\n",
    "                                y_min = None    # first year available\n",
    "                                y_max = None    # most recent year available\n",
    "\n",
    "                                value_y_min = None   # data value in the first year available\n",
    "                                value_y_max = None   # data value in the most recent year available\n",
    "\n",
    "                                value_y_min_num = None   # data value in the first year available\n",
    "                                value_y_max_num = None   # data value in the most recent year available\n",
    "\n",
    "\n",
    "                                value_median = None\n",
    "                                dif_first_last = None\n",
    "                                value_y_max_is_censored = None\n",
    "\n",
    "                                prog = \"\"\n",
    "                                prog_10 = \"\"\n",
    "                                prog_12 = \"\"\n",
    "                                prog_15 = \"\"\n",
    "                                prog_mmr_min = \"\"\n",
    "                                prog_mmr_max = \"\"\n",
    "\n",
    "                                fact_text = \"\"\n",
    "\n",
    "                                if len(data) > 0:\n",
    "\n",
    "                                    for d in data:\n",
    "                                        if d['value_detail'] not in ['NA', 'N', 'NULL']:\n",
    "                                            values.append(d['value_detail'])\n",
    "                                            years.append(d['timePeriod'])\n",
    "                                            values_is_censored.append(d['value_is_censored'])\n",
    "                                            values_numeric_part.append(numeric_part(d['value_detail']))\n",
    "                                        \n",
    "                                 \n",
    "                                    for i in range(len(values)):\n",
    "                                        values[i] = values[i].replace(\"<\", \"less than \")\n",
    "                                        values[i] = values[i].replace(\">\", \"more than \")\n",
    "\n",
    "                                   # for i in range(len(values_numeric_part)):\n",
    "                                   #     if values_numeric_part[i] is not None:\n",
    "                                   #         if values_numeric_part[i] <1.009 :\n",
    "                                   #             values_numeric_part[i] = round_KFM(values_numeric_part[i],2)\n",
    "                                   #         if values_numeric_part[i] >= 1.009 and values_numeric_part[i] <= 10:\n",
    "                                   #             values_numeric_part[i] = round_KFM(values_numeric_part[i],1)\n",
    "                                   #         if values_numeric_part[i] >10 :\n",
    "                                   #             values_numeric_part[i] = round_KFM(values_numeric_part[i],1)\n",
    "                                                \n",
    "                                    \n",
    "                                    for i in range(len(values)):\n",
    "                                        \n",
    "                                        decimal_pos = values[i].find('.')\n",
    "                                        \n",
    "                                        if decimal_pos == -1 and values_numeric_part[i] is not None:\n",
    "                                            values_numeric_part[i] = int(values_numeric_part[i])\n",
    "                                            \n",
    "                                        if decimal_pos > 0:\n",
    "                                            if len(values[i]) - decimal_pos > 2:\n",
    "                                                values_numeric_part[i] = round_KFM(values_numeric_part[i],2)\n",
    "                                                \n",
    "                                    \n",
    "                                    if all(v is None for v in values_numeric_part):\n",
    "                                        continue\n",
    "\n",
    "\n",
    "                                    #----------------------------------------------------------------\n",
    "                                    # Initial auxiliary variables\n",
    "                                    #----------------------------------------------------------------\n",
    "\n",
    "\n",
    "                                    n = len(data)      # number of observations available\n",
    "                                    y_min = min(years)    # first year available\n",
    "                                    y_max = max(years)    # most recent year available\n",
    "\n",
    "                                    value_y_min = values[years.index(min(years))]   # data value in the first year available\n",
    "                                    value_y_max = values[years.index(max(years))]   # data value in the most recent year available\n",
    "                                    \n",
    "                                    \n",
    "                                    value_y_min_num = values_numeric_part[years.index(min(years))]   # data value in the first year available\n",
    "                                    value_y_max_num = values_numeric_part[years.index(max(years))]   # data value in the most recent year available\n",
    "                                   \n",
    "                                    x =  [i for i in values_numeric_part if i is not None]\n",
    "                                    \n",
    "                                    if len(x)>0:\n",
    "                                        value_median = statistics.median(x)\n",
    "                                    else:\n",
    "                                        value_median = None\n",
    "                                    #print(seriesCode)\n",
    "                                    #display(values_numeric_part)\n",
    "                                    #display()\n",
    "                                    #display(x)\n",
    "                                    #print(\"----------\")\n",
    "\n",
    "                                    \n",
    "                                    if(values_numeric_part[years.index(min(years))] is not None and values_numeric_part[years.index(max(years))] is not None):\n",
    "                                        dif_first_last = abs(values_numeric_part[years.index(min(years))] \\\n",
    "                                                             - values_numeric_part[years.index(max(years))])\n",
    "\n",
    "\n",
    "                                    value_y_min_is_censored = values_is_censored[years.index(min(years))]\n",
    "                                    value_y_max_is_censored = values_is_censored[years.index(max(years))]\n",
    "                                    \n",
    "                                    fact_prog = prog_info (value_y_min_num, value_y_max_num, \n",
    "                                                           down = this_fact['Down'], \n",
    "                                                           up = this_fact['Up'], \n",
    "                                                           unit_1 = this_fact['unit1'])\n",
    "\n",
    "                                    #--------------------------------------------------------------------\n",
    "\n",
    "                                    fact_text = \"\"\n",
    "                                    \n",
    "                                    if value_y_max_num and value_median:\n",
    "                                        condition1 = dif_first_last >= 0.05 * abs(value_y_max_num)\n",
    "                                        condition2 = not value_y_max_is_censored\n",
    "                                        condition3 = value_y_max_num >= .25*value_median\n",
    "                                        condition4 = int(y_min) < 2010\n",
    "                                        condition5 = n > 1\n",
    "\n",
    "                                        conditions = condition1 and condition2 and condition3 and condition4 and condition5\n",
    "\n",
    "                                    else:\n",
    "                                        \n",
    "                                        conditions = False\n",
    "                                    \n",
    "                                    if value_y_min_is_censored:\n",
    "                                        fact_value_y_min = value_y_min\n",
    "                                    else:\n",
    "                                        fact_value_y_min = str(value_y_min_num)\n",
    "                                    \n",
    "                                    if value_y_max_is_censored:\n",
    "                                        fact_value_y_max = value_y_max\n",
    "                                    else:\n",
    "                                        fact_value_y_max = str(value_y_max_num)\n",
    "                                    \n",
    "\n",
    "                                    fact_elements = build_fact(text_type = this_fact['Text.type'], \n",
    "                                                               conditions = conditions, \n",
    "                                                               da2_1 = this_fact['DA2.1'], \n",
    "                                                               da2_2 = this_fact['DA2.2'], \n",
    "                                                               da3_1 = this_fact['DA3.1'], \n",
    "                                                               unit_1 = this_fact['unit1'], \n",
    "                                                               unit_2 = this_fact['unit2'], \n",
    "                                                               value_y_min = fact_value_y_min, \n",
    "                                                               y_min = y_min, \n",
    "                                                               value_y_max = fact_value_y_max, \n",
    "                                                               y_max = y_max, \n",
    "                                                               prog = fact_prog['prog'], \n",
    "                                                               prog_10 = fact_prog['prog_10'], \n",
    "                                                               prog_12 = fact_prog['prog_12'], \n",
    "                                                               prog_15 = fact_prog['prog_15'], \n",
    "                                                               prog_mmr_max = fact_prog['prog_mmr_max'])\n",
    "\n",
    "                                    fact = {}\n",
    "                                    fact['seriesCode'] = seriesCode\n",
    "                                    fact['seriesTitle'] = seriesTitle\n",
    "                                    fact['hub'] = hub \n",
    "                                    fact['slice_dimensions'] = slice_dimensions\n",
    "                                    fact['text_type'] = this_fact['Text.type']\n",
    "                                    fact['fact_text'] = fact_elements['fact_text']\n",
    "                                    fact['fact_values'] = fact_elements['fact_values']\n",
    "                                    fact['fact_units'] = fact_elements['fact_units']\n",
    "                                    fact['fact_years'] = fact_elements['fact_years']\n",
    "                                    fact['data_years'] = years\n",
    "                                    fact['data_values'] = values\n",
    "                                    fact['data_is_censored'] = values_is_censored\n",
    "                                    fact['data_numeric_part'] = values_numeric_part\n",
    "\n",
    "                                    if this_fact['Text.type'] == '10':\n",
    "                                        fact['preferred_visualization'] = 'threshold'\n",
    "                                        fact['threshold'] = this_fact['Threshold']\n",
    "                                    elif this_fact['Text.type'] == '12':\n",
    "                                        fact['preferred_visualization'] = 'boolean'\n",
    "                                    elif(len(values)>3):\n",
    "                                        fact['preferred_visualization'] = 'time_series'\n",
    "                                    else:\n",
    "                                        fact['preferred_visualization'] = 'singleton'\n",
    "\n",
    "\n",
    "                                    #=======================  \n",
    "                                    #print('***** apending fact ******')\n",
    "                                    #display(fact)\n",
    "                                    facts.append(fact)\n",
    "\n",
    "                    if len(facts)>0:\n",
    "                        #print('**** apending facts ******')\n",
    "                        #display(facts)\n",
    "                        indicator['facts'] = facts\n",
    "                        indicators.append(indicator)\n",
    "\n",
    "                if len(indicators)>0:\n",
    "                    #print('*** apending indicators **')\n",
    "                    #display(indicators)\n",
    "                    target['indicators'] = indicators\n",
    "                    targets.append(target)\n",
    "\n",
    "        if len(targets)>0:\n",
    "            #print('** apending targets ******')\n",
    "            #display(targets)\n",
    "            goal['targets'] = targets\n",
    "            goals.append(goal)\n",
    "            \n",
    "    country_profile['goals'] = goals\n",
    "    #display(goals)\n",
    "               \n",
    "    #=======================\n",
    "\n",
    "    #with open('resolutions.json', 'w') as outfile:\n",
    "    with open(wd_dir + r'/output/country_profile' + str(country_code).zfill(3) + \".json\", 'w') as outfile:\n",
    "        json.dump(country_profile, outfile, indent=4 )    \n",
    "\n",
    "    #with open('resolutions.json', 'w') as outfile:\n",
    "\n",
    "\n",
    "\n",
    "                "
   ]
  },
  {
   "cell_type": "code",
   "execution_count": null,
   "metadata": {},
   "outputs": [],
   "source": []
  }
 ],
 "metadata": {
  "kernelspec": {
   "display_name": "Python 3",
   "language": "python",
   "name": "python3"
  },
  "language_info": {
   "codemirror_mode": {
    "name": "ipython",
    "version": 3
   },
   "file_extension": ".py",
   "mimetype": "text/x-python",
   "name": "python",
   "nbconvert_exporter": "python",
   "pygments_lexer": "ipython3",
   "version": "3.6.8"
  }
 },
 "nbformat": 4,
 "nbformat_minor": 2
}
