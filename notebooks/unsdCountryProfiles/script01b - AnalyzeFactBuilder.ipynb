{
 "cells": [
  {
   "cell_type": "markdown",
   "metadata": {},
   "source": [
    "# Create country profiles"
   ]
  },
  {
   "cell_type": "code",
   "execution_count": 59,
   "metadata": {},
   "outputs": [],
   "source": [
    "import csv\n",
    "import pandas as pd\n",
    "import json\n",
    "import urllib3  # allows to access a URL with python\n",
    "import urllib\n",
    "import re\n",
    "import statistics\n",
    "import math\n",
    "import os\n",
    "import numpy as np"
   ]
  },
  {
   "cell_type": "markdown",
   "metadata": {},
   "source": [
    "### User parameters"
   ]
  },
  {
   "cell_type": "code",
   "execution_count": 47,
   "metadata": {},
   "outputs": [
    {
     "name": "stdout",
     "output_type": "stream",
     "text": [
      "C:\\Users\\L.GonzalezMorales\\Documents\\GitHub\\FIS4SDGs\\notebooks\\unsdCountryProfiles\n",
      "data inputs dir: ../../data/unsd/countryProfiles\n"
     ]
    }
   ],
   "source": [
    "release = '2019.Q2.G.01' # Make sure to have the correct release here\n",
    "\n",
    "dir_path = os.path.dirname(os.path.realpath('__file__'))\n",
    "print(dir_path)\n",
    "\n",
    "wd_dir = r'../../data/unsd/countryProfiles'\n",
    "print('data inputs dir: ' + wd_dir)"
   ]
  },
  {
   "cell_type": "markdown",
   "metadata": {},
   "source": [
    "## Utilities"
   ]
  },
  {
   "cell_type": "markdown",
   "metadata": {},
   "source": [
    "#### Compute a hash of a dictionary"
   ]
  },
  {
   "cell_type": "code",
   "execution_count": 48,
   "metadata": {},
   "outputs": [],
   "source": [
    "def dict_hash(d):\n",
    "    out = hashlib.md5()\n",
    "    for key, value in d.items():\n",
    "        out.update(key.encode('utf-8'))\n",
    "        out.update(value.encode('utf-8'))\n",
    "    return out.hexdigest()\n"
   ]
  },
  {
   "cell_type": "markdown",
   "metadata": {},
   "source": [
    "#### Get unique dictionaries in a list"
   ]
  },
  {
   "cell_type": "code",
   "execution_count": 49,
   "metadata": {},
   "outputs": [],
   "source": [
    "def unique_dicts(dictionary_list):\n",
    "\n",
    "    uniques_map = {}\n",
    "\n",
    "    for d in dictionary_list:\n",
    "        uniques_map[dict_hash(d)] = d\n",
    "\n",
    "    return list(uniques_map.values())\n"
   ]
  },
  {
   "cell_type": "markdown",
   "metadata": {},
   "source": [
    "#### Extract subset of key-value pairs from Python dictionary object"
   ]
  },
  {
   "cell_type": "code",
   "execution_count": 50,
   "metadata": {},
   "outputs": [],
   "source": [
    "def subdict_list(dict_list, keys_list, exclude = False):\n",
    "    sub_d_list = []\n",
    "    if exclude:\n",
    "        for d in dict_list:\n",
    "            sub_d= {k: d[k] for k in d.keys() if k not in keys_list}\n",
    "            sub_d_list.append(sub_d)\n",
    "    else:\n",
    "        for d in dict_list:\n",
    "            sub_d= {k: d[k] for k in keys_list}\n",
    "            sub_d_list.append(sub_d)\n",
    "    \n",
    "    return sub_d_list\n",
    "\n",
    "\n"
   ]
  },
  {
   "cell_type": "markdown",
   "metadata": {},
   "source": [
    "#### Get a dict from a list based on something inside the dict"
   ]
  },
  {
   "cell_type": "code",
   "execution_count": 51,
   "metadata": {},
   "outputs": [],
   "source": [
    "def select_dict(dict_list, k, v):\n",
    "    selected = []\n",
    "    for d in dict_list:\n",
    "        if d[k] == v:\n",
    "            selected.append(d)\n",
    "    return selected"
   ]
  },
  {
   "cell_type": "markdown",
   "metadata": {},
   "source": [
    "### Read fact-builder conditions"
   ]
  },
  {
   "cell_type": "code",
   "execution_count": 52,
   "metadata": {},
   "outputs": [
    {
     "name": "stdout",
     "output_type": "stream",
     "text": [
      "{'countryProfile': '1', 'goal': '1', 'target': '1.2', 'indicator': '1.2.1', 'seriesCode': 'SI_POV_NAHC', 'dashboardId': '62f44e7da0864b1eb6f9d4bb5f9d2f54', 'seriesDesc': 'Proportion of population living below the national poverty line (%)', 'sliceDesc': 'Proportion of population living below the national poverty line (percent)', 'ageCode': '', 'locationCode': '_T', 'sexCode': '', 'boundsCode': '', 'educationLevelCode': '', 'typeOfProductCode': '', 'typeOfMobileTechnologyCode': '', 'typeOfSpeedCode': '', 'zero.removal': '1', 'Text.type': '1', 'unit1': '%', 'unit2': '', 'DA2.1': 'The proportion of population living below the national poverty line was approximately', 'DA2.2': '', 'DA3.1': 'The proportion of population living below the national poverty line', 'DA3.2': '', 'Down': ' declined from ', 'Up': ' increased from ', 'Threshold': ''}\n"
     ]
    }
   ],
   "source": [
    "fact_builder = []\n",
    "with open(wd_dir + r'/input/CountryProfileBuilder_new.csv', newline = '') as countryProfileBuilder:                                                                                          \n",
    "    country_profile_builder = csv.DictReader(countryProfileBuilder, delimiter=',')\n",
    "    for row in country_profile_builder:\n",
    "        fact_builder.append(dict(row))\n",
    "        \n",
    "print(fact_builder[1])\n",
    "\n",
    "#fact_builder\n"
   ]
  },
  {
   "cell_type": "markdown",
   "metadata": {},
   "source": [
    "### Get catalogue of UNSD items on SDG open data groups"
   ]
  },
  {
   "cell_type": "code",
   "execution_count": 53,
   "metadata": {},
   "outputs": [
    {
     "data": {
      "text/plain": [
       "{'seriesCode': 'SI_POV_EMP1',\n",
       " 'seriesName': 'Employed population below international poverty line  by sex and age (%)',\n",
       " 'release': '2019.Q2.G.01',\n",
       " 'id': '254e360b5e434665b99233dd1d6747cb',\n",
       " 'owner': 'unstats_admin',\n",
       " 'created': 1562809876000,\n",
       " 'modified': 1562837282000,\n",
       " 'title': 'Indicator 1.1.1: Employed population below international poverty line, by sex and age (percent)',\n",
       " 'type': 'Feature Service',\n",
       " 'tags': ['poverty line',\n",
       "  'poverty',\n",
       "  'standard of living',\n",
       "  'basic needs',\n",
       "  'decent work',\n",
       "  '2019.Q2.G.01'],\n",
       " 'url': 'https://services7.arcgis.com/gp50Ao2knMlOM89z/arcgis/rest/services/SI_POV_EMP1_1_1_1_2019Q2G01/FeatureServer'}"
      ]
     },
     "execution_count": 53,
     "metadata": {},
     "output_type": "execute_result"
    }
   ],
   "source": [
    "with open(r'..\\..\\data\\unsd\\unsd_catalogue_20190711.json') as json_file:  \n",
    "    hub_catalogue = json.load(json_file)\n",
    "    \n",
    "hub_catalogue[0]['series'][0]"
   ]
  },
  {
   "cell_type": "markdown",
   "metadata": {},
   "source": [
    "## Analyze fact builder against unsd catalogue "
   ]
  },
  {
   "cell_type": "code",
   "execution_count": 54,
   "metadata": {},
   "outputs": [],
   "source": [
    "for f in fact_builder:\n",
    "    f['hubID'] = None\n",
    "    for g in hub_catalogue:\n",
    "        if f['goal'] != str(g['goal']):\n",
    "            continue\n",
    "        for s in g['series']:\n",
    "            if s['seriesCode'] != f['seriesCode']:\n",
    "                continue\n",
    "            f['hubID'] = s['id']"
   ]
  },
  {
   "cell_type": "code",
   "execution_count": 57,
   "metadata": {},
   "outputs": [],
   "source": [
    "#for f in fact_builder:\n",
    "    #display(f['seriesCode'])\n",
    "    #display(f['hubID'])\n",
    "    #print('----')"
   ]
  },
  {
   "cell_type": "code",
   "execution_count": 58,
   "metadata": {},
   "outputs": [
    {
     "data": {
      "text/plain": [
       "{'countryProfile': '1',\n",
       " 'goal': '1',\n",
       " 'target': '1.1',\n",
       " 'indicator': '1.1.1',\n",
       " 'seriesCode': 'SI_POV_DAY1',\n",
       " 'dashboardId': '62f44e7da0864b1eb6f9d4bb5f9d2f54',\n",
       " 'seriesDesc': 'Proportion of population below international poverty line (%)',\n",
       " 'sliceDesc': 'Population below international poverty line (percent)',\n",
       " 'ageCode': '',\n",
       " 'locationCode': '',\n",
       " 'sexCode': '',\n",
       " 'boundsCode': '',\n",
       " 'educationLevelCode': '',\n",
       " 'typeOfProductCode': '',\n",
       " 'typeOfMobileTechnologyCode': '',\n",
       " 'typeOfSpeedCode': '',\n",
       " 'zero.removal': '1',\n",
       " 'Text.type': '1',\n",
       " 'unit1': '%',\n",
       " 'unit2': '%',\n",
       " 'DA2.1': 'The proportion of the population living below the extreme poverty line was approximately ',\n",
       " 'DA2.2': '',\n",
       " 'DA3.1': 'The proportion of the population living below the extreme poverty line',\n",
       " 'DA3.2': '',\n",
       " 'Down': ' declined from ',\n",
       " 'Up': ' increased from ',\n",
       " 'Threshold': '',\n",
       " 'hubID': 'd80b4105e32a4832bbea4e0bd3dcbf40'}"
      ]
     },
     "execution_count": 58,
     "metadata": {},
     "output_type": "execute_result"
    }
   ],
   "source": [
    "fact_builder[0]"
   ]
  },
  {
   "cell_type": "code",
   "execution_count": 61,
   "metadata": {},
   "outputs": [],
   "source": [
    "fact_builder_df = pd.DataFrame.from_dict(fact_builder, orient='columns')"
   ]
  },
  {
   "cell_type": "code",
   "execution_count": 65,
   "metadata": {},
   "outputs": [],
   "source": [
    "fact_builder_df.head(4)\n",
    "fact_builder_df.to_csv(wd_dir + '/input/CountryProfileBuilder_20190711.csv', index=False)"
   ]
  },
  {
   "cell_type": "code",
   "execution_count": null,
   "metadata": {},
   "outputs": [],
   "source": []
  }
 ],
 "metadata": {
  "kernelspec": {
   "display_name": "Python 3",
   "language": "python",
   "name": "python3"
  },
  "language_info": {
   "codemirror_mode": {
    "name": "ipython",
    "version": 3
   },
   "file_extension": ".py",
   "mimetype": "text/x-python",
   "name": "python",
   "nbconvert_exporter": "python",
   "pygments_lexer": "ipython3",
   "version": "3.6.8"
  }
 },
 "nbformat": 4,
 "nbformat_minor": 2
}
