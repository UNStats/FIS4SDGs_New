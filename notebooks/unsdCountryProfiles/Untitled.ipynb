{
 "cells": [
  {
   "cell_type": "code",
   "execution_count": 11,
   "metadata": {},
   "outputs": [],
   "source": [
    "import numpy as np"
   ]
  },
  {
   "cell_type": "code",
   "execution_count": 12,
   "metadata": {},
   "outputs": [
    {
     "data": {
      "text/plain": [
       "array([[ 0.12473617,  0.65509715, -2.23442811,  0.48759864, -1.12181323],\n",
       "       [ 0.78873169, -0.82428777,  1.72820296,  1.6288506 , -2.10394986],\n",
       "       [ 0.41803795,  0.87452461, -0.41383543,  0.37801414,  0.06575632],\n",
       "       [-0.27327294, -1.15803499, -1.14208412,  0.68582669, -0.50110616],\n",
       "       [-0.72100402,  1.0905866 ,  0.5289338 , -0.65330517, -1.95737866],\n",
       "       [-0.1699289 ,  1.81971895,  0.47855606,  0.56287207,  3.18676598],\n",
       "       [ 0.84040967, -0.17184708,  0.38277902, -1.58588658, -0.39217878],\n",
       "       [ 0.38849887,  0.8818534 , -0.91923432, -0.6633438 , -1.88765516],\n",
       "       [ 1.08053018, -0.6841919 , -1.52669273,  0.69464362, -0.12086539],\n",
       "       [-2.01747811, -1.12907482,  0.02836847,  0.15281175,  0.71336844]])"
      ]
     },
     "execution_count": 12,
     "metadata": {},
     "output_type": "execute_result"
    }
   ],
   "source": [
    "A"
   ]
  },
  {
   "cell_type": "code",
   "execution_count": 13,
   "metadata": {},
   "outputs": [
    {
     "data": {
      "text/plain": [
       "<function __main__.<lambda>(x)>"
      ]
     },
     "execution_count": 13,
     "metadata": {},
     "output_type": "execute_result"
    }
   ],
   "source": [
    "cv"
   ]
  },
  {
   "cell_type": "code",
   "execution_count": 14,
   "metadata": {},
   "outputs": [
    {
     "data": {
      "text/plain": [
       "array([-2.63546566,  6.11086145,  1.61134083, -1.4198084 , -3.10726942,\n",
       "        1.01588595, -4.43563275, -2.22900686, -8.42883393, -2.18979009])"
      ]
     },
     "execution_count": 14,
     "metadata": {},
     "output_type": "execute_result"
    }
   ],
   "source": [
    "var"
   ]
  },
  {
   "cell_type": "code",
   "execution_count": 10,
   "metadata": {},
   "outputs": [
    {
     "data": {
      "text/plain": [
       "1"
      ]
     },
     "execution_count": 10,
     "metadata": {},
     "output_type": "execute_result"
    }
   ],
   "source": [
    "idmax"
   ]
  },
  {
   "cell_type": "code",
   "execution_count": 15,
   "metadata": {},
   "outputs": [],
   "source": [
    "x = [0.12473617,  0.65509715, -2.23442811,  0.48759864, -1.12181323]"
   ]
  },
  {
   "cell_type": "code",
   "execution_count": 16,
   "metadata": {},
   "outputs": [
    {
     "data": {
      "text/plain": [
       "[0.12473617, 0.65509715, -2.23442811, 0.48759864, -1.12181323]"
      ]
     },
     "execution_count": 16,
     "metadata": {},
     "output_type": "execute_result"
    }
   ],
   "source": [
    "x"
   ]
  },
  {
   "cell_type": "code",
   "execution_count": 17,
   "metadata": {},
   "outputs": [
    {
     "data": {
      "text/plain": [
       "-2.6354656527619067"
      ]
     },
     "execution_count": 17,
     "metadata": {},
     "output_type": "execute_result"
    }
   ],
   "source": [
    "cv(x)"
   ]
  },
  {
   "cell_type": "code",
   "execution_count": 22,
   "metadata": {},
   "outputs": [
    {
     "data": {
      "text/plain": [
       "0.0006161429451633304"
      ]
     },
     "execution_count": 22,
     "metadata": {},
     "output_type": "execute_result"
    }
   ],
   "source": [
    "cv([81.2,81.2,81.1,81.1])"
   ]
  },
  {
   "cell_type": "code",
   "execution_count": 23,
   "metadata": {},
   "outputs": [],
   "source": [
    "def is_quasiConstant(x, cv_threshold):\n",
    "    if len(x) == 1:\n",
    "        return True\n",
    "    elif all(x_i == x[0] for x_i in x):\n",
    "        return True\n",
    "    elif cv(x) < cv_threshold:\n",
    "        return True\n",
    "    else:\n",
    "        return False\n",
    "        \n",
    "            "
   ]
  },
  {
   "cell_type": "code",
   "execution_count": 32,
   "metadata": {},
   "outputs": [
    {
     "data": {
      "text/plain": [
       "True"
      ]
     },
     "metadata": {},
     "output_type": "display_data"
    },
    {
     "data": {
      "text/plain": [
       "True"
      ]
     },
     "metadata": {},
     "output_type": "display_data"
    },
    {
     "data": {
      "text/plain": [
       "True"
      ]
     },
     "metadata": {},
     "output_type": "display_data"
    }
   ],
   "source": [
    "display(is_quasiConstant([81.2,81.2,81.1,81.1],0.004))\n",
    "display(is_quasiConstant([10.2,10.2,10.1,10.1],0.005))\n",
    "display(is_quasiConstant([10.2,10.2,10.1,10.1],0.005))\n"
   ]
  },
  {
   "cell_type": "code",
   "execution_count": null,
   "metadata": {},
   "outputs": [],
   "source": [
    "display(is_quasiConstant([10.2,10.2,10.1,10.1],0.005))\n"
   ]
  }
 ],
 "metadata": {
  "kernelspec": {
   "display_name": "Python 3",
   "language": "python",
   "name": "python3"
  },
  "language_info": {
   "codemirror_mode": {
    "name": "ipython",
    "version": 3
   },
   "file_extension": ".py",
   "mimetype": "text/x-python",
   "name": "python",
   "nbconvert_exporter": "python",
   "pygments_lexer": "ipython3",
   "version": "3.6.8"
  }
 },
 "nbformat": 4,
 "nbformat_minor": 2
}
