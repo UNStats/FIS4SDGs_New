{
 "cells": [
  {
   "cell_type": "markdown",
   "metadata": {},
   "source": [
    "# Create SYB country fact builder"
   ]
  },
  {
   "cell_type": "code",
   "execution_count": 1,
   "metadata": {},
   "outputs": [],
   "source": [
    "import csv\n",
    "import json\n",
    "import re\n",
    "import statistics\n",
    "import math\n",
    "import os\n",
    "import hashlib"
   ]
  },
  {
   "cell_type": "markdown",
   "metadata": {},
   "source": [
    "### User parameters"
   ]
  },
  {
   "cell_type": "code",
   "execution_count": 2,
   "metadata": {},
   "outputs": [
    {
     "name": "stdout",
     "output_type": "stream",
     "text": [
      "C:\\Users\\L.GonzalezMorales\\Documents\\GitHub\\FIS4SDGs\\notebooks\\unsdCountryProfiles\n",
      "data inputs dir: ../../data/unsd/countryProfiles\n"
     ]
    }
   ],
   "source": [
    "dir_path = os.path.dirname(os.path.realpath('__file__'))\n",
    "print(dir_path)\n",
    "\n",
    "wd_dir = r'../../data/unsd/countryProfiles'\n",
    "syb_dir = r'../../data/unsd/UNSYB/output'\n",
    "print('data inputs dir: ' + wd_dir)\n",
    "\n",
    "\n",
    "\n",
    "# https://volderette.de/jupyter-notebook-tip-multiple-outputs/\n",
    "from IPython.core.interactiveshell import InteractiveShell\n",
    "InteractiveShell.ast_node_interactivity = \"all\"\n"
   ]
  },
  {
   "cell_type": "markdown",
   "metadata": {},
   "source": [
    "## Utilities"
   ]
  },
  {
   "cell_type": "markdown",
   "metadata": {},
   "source": [
    "#### Commercial rounding"
   ]
  },
  {
   "cell_type": "code",
   "execution_count": 3,
   "metadata": {},
   "outputs": [
    {
     "name": "stdout",
     "output_type": "stream",
     "text": [
      "3.51\n",
      "4.0\n"
     ]
    }
   ],
   "source": [
    "def round_KFM(x, n):\n",
    "    posneg = math.copysign(1, x)\n",
    "    z = abs(x)*10**n\n",
    "    z = z + 0.5\n",
    "    z = math.trunc(z)\n",
    "    z = z/10**n\n",
    "    result = z * posneg\n",
    "    return result\n",
    "    \n",
    "print(round_KFM(3.5123,2))\n",
    "print(round_KFM(4.0,1))"
   ]
  },
  {
   "cell_type": "markdown",
   "metadata": {},
   "source": [
    "#### Regular expression to capture numeric values (including those in scientific notation)\n",
    "The regex is\n",
    "\n",
    "```\n",
    "-?      # an optional -\n",
    "\\d+     # a series of digits\n",
    "(?:     # start non capturing group\n",
    "  \\.    # a dot\n",
    "  \\d+   # a series of digits\n",
    ")?      \n",
    "(?:     # start non capturing group\n",
    "  e     # \"e\"\n",
    "  -?    # an optional -\n",
    "  \\d+   # digits\n",
    ")?\n",
    "```\n"
   ]
  },
  {
   "cell_type": "code",
   "execution_count": 4,
   "metadata": {},
   "outputs": [],
   "source": [
    "def numeric_part(v):\n",
    "    numeric_part_f = re.compile(r'-?\\d+(?:\\.\\d+)?(?:e-?\\d+)?')\n",
    "    x = numeric_part_f.findall(v)\n",
    "    if len(x) > 0:\n",
    "        return float(x[0])\n",
    "    else:\n",
    "        return None\n"
   ]
  },
  {
   "cell_type": "code",
   "execution_count": 5,
   "metadata": {},
   "outputs": [
    {
     "name": "stdout",
     "output_type": "stream",
     "text": [
      "4.0\n",
      "None\n",
      "-2320.0\n",
      "-2320.0\n",
      "0.01\n"
     ]
    }
   ],
   "source": [
    "print(numeric_part('<4'))\n",
    "print(numeric_part('abs'))\n",
    "print(numeric_part('-23.2e2'))\n",
    "print(numeric_part('-23.2e2 or more'))\n",
    "\n",
    "print(numeric_part('0.01'))"
   ]
  },
  {
   "cell_type": "markdown",
   "metadata": {},
   "source": [
    "#### Compute a hash of a dictionary"
   ]
  },
  {
   "cell_type": "code",
   "execution_count": 6,
   "metadata": {},
   "outputs": [],
   "source": [
    "def dict_hash(d):\n",
    "    out = hashlib.md5()\n",
    "    for key, value in d.items():\n",
    "        out.update(key.encode('utf-8'))\n",
    "        out.update(str(value).encode('utf-8'))\n",
    "    return out.hexdigest()\n"
   ]
  },
  {
   "cell_type": "markdown",
   "metadata": {},
   "source": [
    "#### Get unique dictionaries in a list"
   ]
  },
  {
   "cell_type": "code",
   "execution_count": 7,
   "metadata": {},
   "outputs": [],
   "source": [
    "def unique_dicts(dictionary_list):\n",
    "\n",
    "    uniques_map = {}\n",
    "\n",
    "    for d in dictionary_list:\n",
    "        uniques_map[dict_hash(d)] = d\n",
    "\n",
    "    return list(uniques_map.values())\n"
   ]
  },
  {
   "cell_type": "markdown",
   "metadata": {},
   "source": [
    "#### Extract subset of key-value pairs from Python dictionary object"
   ]
  },
  {
   "cell_type": "code",
   "execution_count": 8,
   "metadata": {},
   "outputs": [],
   "source": [
    "def subdict_list(dict_list, keys_list, exclude = False):\n",
    "    sub_d_list = []\n",
    "    if exclude:\n",
    "        for d in dict_list:\n",
    "            sub_d= {k: d[k] for k in d.keys() if k not in keys_list}\n",
    "            sub_d_list.append(sub_d)\n",
    "    else:\n",
    "        for d in dict_list:\n",
    "            sub_d= {k: d[k] for k in keys_list}\n",
    "            sub_d_list.append(sub_d)\n",
    "    \n",
    "    return sub_d_list\n",
    "\n",
    "\n"
   ]
  },
  {
   "cell_type": "markdown",
   "metadata": {},
   "source": [
    "#### Get a dict from a list based on something inside the dict"
   ]
  },
  {
   "cell_type": "code",
   "execution_count": 9,
   "metadata": {},
   "outputs": [],
   "source": [
    "def select_dict(dict_list, k, v):\n",
    "    selected = []\n",
    "    for d in dict_list:\n",
    "        if d[k] == v:\n",
    "            selected.append(d)\n",
    "    return selected"
   ]
  },
  {
   "cell_type": "markdown",
   "metadata": {},
   "source": [
    "### Get SYB Series catalogue"
   ]
  },
  {
   "cell_type": "code",
   "execution_count": 18,
   "metadata": {},
   "outputs": [
    {
     "data": {
      "text/plain": [
       "{'topicId': 2,\n",
       " 'topicNameEN': 'Population and migration',\n",
       " 'topicNameFR': 'Population et migration',\n",
       " 'tables': [{'tableCode': 'lifecbmort',\n",
       "   'tableId': 8,\n",
       "   'tableName': 'Population growth and indicators of fertility and mortality',\n",
       "   'tableNote': None,\n",
       "   'tableStatusId': 3,\n",
       "   'tbBkCode': 'X03 ',\n",
       "   'tbBkPrint': 'Y',\n",
       "   'series': [{'newSeriesName': 'Infant mortality ratio',\n",
       "     'units': 'Number of deaths per 1,000 live births',\n",
       "     'multiplier': 0,\n",
       "     'baseYear': None,\n",
       "     'SELECT': None,\n",
       "     'seriesCode': 'SYB011',\n",
       "     'SYB_series': [253]},\n",
       "    {'newSeriesName': 'Life expectancy at birth',\n",
       "     'units': 'Number of years',\n",
       "     'multiplier': 0,\n",
       "     'baseYear': None,\n",
       "     'SELECT': None,\n",
       "     'seriesCode': 'SYB012',\n",
       "     'SYB_series': [36, 268, 269]},\n",
       "    {'newSeriesName': 'Maternal mortality ratio',\n",
       "     'units': 'Number of deaths per 1,000 population',\n",
       "     'multiplier': 0,\n",
       "     'baseYear': None,\n",
       "     'SELECT': None,\n",
       "     'seriesCode': 'SYB013',\n",
       "     'SYB_series': [1159]},\n",
       "    {'newSeriesName': 'Population annual rate of increase',\n",
       "     'units': 'Percent',\n",
       "     'multiplier': 0,\n",
       "     'baseYear': None,\n",
       "     'SELECT': None,\n",
       "     'seriesCode': 'SYB014',\n",
       "     'SYB_series': [13]},\n",
       "    {'newSeriesName': 'Total fertility rate',\n",
       "     'units': 'Number of children per women',\n",
       "     'multiplier': 0,\n",
       "     'baseYear': None,\n",
       "     'SELECT': None,\n",
       "     'seriesCode': 'SYB015',\n",
       "     'SYB_series': [392]}]},\n",
       "  {'tableCode': 'intlmigref',\n",
       "   'tableId': 78,\n",
       "   'tableName': 'International migrants and refugees',\n",
       "   'tableNote': None,\n",
       "   'tableStatusId': 1,\n",
       "   'tbBkCode': 'T04 ',\n",
       "   'tbBkPrint': 'Y',\n",
       "   'series': [{'newSeriesName': 'Asylum seekers, including pending cases',\n",
       "     'units': 'Number',\n",
       "     'multiplier': 0,\n",
       "     'baseYear': None,\n",
       "     'SELECT': None,\n",
       "     'seriesCode': 'SYB072',\n",
       "     'SYB_series': [1617]},\n",
       "    {'newSeriesName': 'International migrant stock as percent of total population',\n",
       "     'units': 'Percent of total population',\n",
       "     'multiplier': 0,\n",
       "     'baseYear': None,\n",
       "     'SELECT': 'X',\n",
       "     'seriesCode': 'SYB073',\n",
       "     'SYB_series': [1614, 1616, 1615]},\n",
       "    {'newSeriesName': 'International migrant stock',\n",
       "     'units': 'Number',\n",
       "     'multiplier': 0,\n",
       "     'baseYear': None,\n",
       "     'SELECT': 'X',\n",
       "     'seriesCode': 'SYB074',\n",
       "     'SYB_series': [1610]},\n",
       "    {'newSeriesName': 'Other population of concern to UNHCR',\n",
       "     'units': 'Number',\n",
       "     'multiplier': 0,\n",
       "     'baseYear': None,\n",
       "     'SELECT': 'X',\n",
       "     'seriesCode': 'SYB075',\n",
       "     'SYB_series': [1618]},\n",
       "    {'newSeriesName': 'Total population of concern to UNHCR',\n",
       "     'units': 'Number',\n",
       "     'multiplier': 0,\n",
       "     'baseYear': None,\n",
       "     'SELECT': 'X',\n",
       "     'seriesCode': 'SYB076',\n",
       "     'SYB_series': [1619]},\n",
       "    {'newSeriesName': 'Total refugees and people in refugee-like situations',\n",
       "     'units': 'Number',\n",
       "     'multiplier': 0,\n",
       "     'baseYear': None,\n",
       "     'SELECT': 'X',\n",
       "     'seriesCode': 'SYB077',\n",
       "     'SYB_series': [1613]}]},\n",
       "  {'tableCode': 'popurbrur',\n",
       "   'tableId': 83,\n",
       "   'tableName': 'Population and rates of growth in urban areas and capital cities',\n",
       "   'tableNote': None,\n",
       "   'tableStatusId': 1,\n",
       "   'tbBkCode': 'T03 ',\n",
       "   'tbBkPrint': 'Y',\n",
       "   'series': [{'newSeriesName': 'Capital city population as percent of total population',\n",
       "     'units': 'Percent of total population',\n",
       "     'multiplier': 0,\n",
       "     'baseYear': None,\n",
       "     'SELECT': 'X',\n",
       "     'seriesCode': 'SYB078',\n",
       "     'SYB_series': [265]},\n",
       "    {'newSeriesName': 'Capital city population as percent of total urban population',\n",
       "     'units': 'Percent of total urban population',\n",
       "     'multiplier': 0,\n",
       "     'baseYear': None,\n",
       "     'SELECT': 'X',\n",
       "     'seriesCode': 'SYB079',\n",
       "     'SYB_series': [266]},\n",
       "    {'newSeriesName': 'Capital city population',\n",
       "     'units': 'Number',\n",
       "     'multiplier': 3.0,\n",
       "     'baseYear': None,\n",
       "     'SELECT': 'X',\n",
       "     'seriesCode': 'SYB080',\n",
       "     'SYB_series': [264]},\n",
       "    {'newSeriesName': 'Population growth rate per annum',\n",
       "     'units': 'Percent',\n",
       "     'multiplier': 0,\n",
       "     'baseYear': None,\n",
       "     'SELECT': 'X',\n",
       "     'seriesCode': 'SYB081',\n",
       "     'SYB_series': [329, 330]},\n",
       "    {'newSeriesName': 'Urban population as percent of total populatoin',\n",
       "     'units': 'Percent of total population',\n",
       "     'multiplier': 0,\n",
       "     'baseYear': None,\n",
       "     'SELECT': 'X',\n",
       "     'seriesCode': 'SYB082',\n",
       "     'SYB_series': [328]}]},\n",
       "  {'tableCode': 'pop',\n",
       "   'tableId': 89,\n",
       "   'tableName': 'Population, density and surface area',\n",
       "   'tableNote': None,\n",
       "   'tableStatusId': 1,\n",
       "   'tbBkCode': 'T02 ',\n",
       "   'tbBkPrint': 'Y',\n",
       "   'series': [{'newSeriesName': 'Share of population by age group',\n",
       "     'units': 'Percent',\n",
       "     'multiplier': 0,\n",
       "     'baseYear': None,\n",
       "     'SELECT': 'X',\n",
       "     'seriesCode': 'SYB087',\n",
       "     'SYB_series': [22, 23]},\n",
       "    {'newSeriesName': 'Population density',\n",
       "     'units': None,\n",
       "     'multiplier': 0,\n",
       "     'baseYear': None,\n",
       "     'SELECT': 'X',\n",
       "     'seriesCode': 'SYB088',\n",
       "     'SYB_series': [1171]},\n",
       "    {'newSeriesName': 'Population mid-year estimates',\n",
       "     'units': 'Number',\n",
       "     'multiplier': 6.0,\n",
       "     'baseYear': None,\n",
       "     'SELECT': 'X',\n",
       "     'seriesCode': 'SYB089',\n",
       "     'SYB_series': [1160, 123, 124]},\n",
       "    {'newSeriesName': 'Sex ratio (males per 100 females)',\n",
       "     'units': 'Percent',\n",
       "     'multiplier': 0,\n",
       "     'baseYear': None,\n",
       "     'SELECT': 'X',\n",
       "     'seriesCode': 'SYB090',\n",
       "     'SYB_series': [24]},\n",
       "    {'newSeriesName': 'Surface area',\n",
       "     'units': 'km2',\n",
       "     'multiplier': 3.0,\n",
       "     'baseYear': None,\n",
       "     'SELECT': 'X',\n",
       "     'seriesCode': 'SYB091',\n",
       "     'SYB_series': [1170]}]}]}"
      ]
     },
     "execution_count": 18,
     "metadata": {},
     "output_type": "execute_result"
    }
   ],
   "source": [
    "syb_dir = r'..\\..\\data\\unsd\\UNSYB\\output'\n",
    "\n",
    "with open(r'..\\..\\data\\unsd\\UNSYB\\output\\SYB_Series_Catalog.json') as json_file:  \n",
    "    syb_catalogue = json.load(json_file)\n",
    "    \n",
    "syb_catalogue[0]"
   ]
  },
  {
   "cell_type": "markdown",
   "metadata": {},
   "source": [
    "### Get catalogue of SYB items on arcGIS online"
   ]
  },
  {
   "cell_type": "code",
   "execution_count": 23,
   "metadata": {},
   "outputs": [
    {
     "data": {
      "text/plain": [
       "{'topic': 2,\n",
       " 'id': '29deadbc8f8c4ffaa4e39a1309753967',\n",
       " 'series': [{'seriesName': 'Asylum seekers  including pending cases',\n",
       "   'publicationYear': '2018',\n",
       "   'id': 'a1bc495b927c4873b6d314a0ce3b7bd1',\n",
       "   'owner': 'unstats_admin',\n",
       "   'created': 1561274445000,\n",
       "   'modified': 1561310873000,\n",
       "   'title': 'SYB indicator: Asylum seekers, including pending cases',\n",
       "   'type': 'Feature Service',\n",
       "   'tags': ['SYB'],\n",
       "   'url': 'https://services7.arcgis.com/gp50Ao2knMlOM89z/arcgis/rest/services/SYB072_2018/FeatureServer',\n",
       "   'seriesCode': 'SYB072'},\n",
       "  {'seriesName': 'Capital city population',\n",
       "   'publicationYear': '2018',\n",
       "   'id': '7a7b7cc9beff4fd5b40f8d487a1e23b6',\n",
       "   'owner': 'unstats_admin',\n",
       "   'created': 1561274632000,\n",
       "   'modified': 1561310942000,\n",
       "   'title': 'SYB indicator: Capital city population',\n",
       "   'type': 'Feature Service',\n",
       "   'tags': ['SYB'],\n",
       "   'url': 'https://services7.arcgis.com/gp50Ao2knMlOM89z/arcgis/rest/services/SYB080_2018/FeatureServer',\n",
       "   'seriesCode': 'SYB080'},\n",
       "  {'seriesName': 'Capital city population as percent of total population',\n",
       "   'publicationYear': '2018',\n",
       "   'id': '133574278815466b886afee49f3206b9',\n",
       "   'owner': 'unstats_admin',\n",
       "   'created': 1561274585000,\n",
       "   'modified': 1561310925000,\n",
       "   'title': 'SYB indicator: Capital city population as percent of total population',\n",
       "   'type': 'Feature Service',\n",
       "   'tags': ['SYB'],\n",
       "   'url': 'https://services7.arcgis.com/gp50Ao2knMlOM89z/arcgis/rest/services/SYB078_2018/FeatureServer',\n",
       "   'seriesCode': 'SYB078'},\n",
       "  {'seriesName': 'Capital city population as percent of total urban population',\n",
       "   'publicationYear': '2018',\n",
       "   'id': '966aa129360f4f9a8081dd4d0d4e219f',\n",
       "   'owner': 'unstats_admin',\n",
       "   'created': 1561274610000,\n",
       "   'modified': 1561310933000,\n",
       "   'title': 'SYB indicator: Capital city population as percent of total urban population',\n",
       "   'type': 'Feature Service',\n",
       "   'tags': ['SYB'],\n",
       "   'url': 'https://services7.arcgis.com/gp50Ao2knMlOM89z/arcgis/rest/services/SYB079_2018/FeatureServer',\n",
       "   'seriesCode': 'SYB079'},\n",
       "  {'seriesName': 'Infant mortality ratio',\n",
       "   'publicationYear': '2018',\n",
       "   'id': 'b69e704c91974e69b5ae5763f1a49450',\n",
       "   'owner': 'unstats_admin',\n",
       "   'created': 1561274328000,\n",
       "   'modified': 1561310819000,\n",
       "   'title': 'SYB indicator: Infant mortality ratio',\n",
       "   'type': 'Feature Service',\n",
       "   'tags': ['SYB'],\n",
       "   'url': 'https://services7.arcgis.com/gp50Ao2knMlOM89z/arcgis/rest/services/SYB011_2018/FeatureServer',\n",
       "   'seriesCode': 'SYB011'},\n",
       "  {'seriesName': 'International migrant stock',\n",
       "   'publicationYear': '2018',\n",
       "   'id': '1b32a522b98748ac8c040c4567b4061a',\n",
       "   'owner': 'unstats_admin',\n",
       "   'created': 1561274494000,\n",
       "   'modified': 1561310889000,\n",
       "   'title': 'SYB indicator: International migrant stock',\n",
       "   'type': 'Feature Service',\n",
       "   'tags': ['SYB'],\n",
       "   'url': 'https://services7.arcgis.com/gp50Ao2knMlOM89z/arcgis/rest/services/SYB074_2018/FeatureServer',\n",
       "   'seriesCode': 'SYB074'},\n",
       "  {'seriesName': 'International migrant stock as percent of total population',\n",
       "   'publicationYear': '2018',\n",
       "   'id': 'd7f798f2a6cd46e2b6d9c09065f03de4',\n",
       "   'owner': 'unstats_admin',\n",
       "   'created': 1561274467000,\n",
       "   'modified': 1561310881000,\n",
       "   'title': 'SYB indicator: International migrant stock as percent of total population',\n",
       "   'type': 'Feature Service',\n",
       "   'tags': ['SYB'],\n",
       "   'url': 'https://services7.arcgis.com/gp50Ao2knMlOM89z/arcgis/rest/services/SYB073_2018/FeatureServer',\n",
       "   'seriesCode': 'SYB073'},\n",
       "  {'seriesName': 'Life expectancy at birth',\n",
       "   'publicationYear': '2018',\n",
       "   'id': '3aa919d7703a4ecfa9d55bac8694343f',\n",
       "   'owner': 'unstats_admin',\n",
       "   'created': 1561274353000,\n",
       "   'modified': 1561310837000,\n",
       "   'title': 'SYB indicator: Life expectancy at birth',\n",
       "   'type': 'Feature Service',\n",
       "   'tags': ['SYB'],\n",
       "   'url': 'https://services7.arcgis.com/gp50Ao2knMlOM89z/arcgis/rest/services/SYB012_2018/FeatureServer',\n",
       "   'seriesCode': 'SYB012'},\n",
       "  {'seriesName': 'Maternal mortality ratio',\n",
       "   'publicationYear': '2018',\n",
       "   'id': '0a5482be9b574d9294c03089fe52803f',\n",
       "   'owner': 'unstats_admin',\n",
       "   'created': 1561274380000,\n",
       "   'modified': 1561310845000,\n",
       "   'title': 'SYB indicator: Maternal mortality ratio',\n",
       "   'type': 'Feature Service',\n",
       "   'tags': ['SYB'],\n",
       "   'url': 'https://services7.arcgis.com/gp50Ao2knMlOM89z/arcgis/rest/services/SYB013_2018/FeatureServer',\n",
       "   'seriesCode': 'SYB013'},\n",
       "  {'seriesName': 'Other population of concern to UNHCR',\n",
       "   'publicationYear': '2018',\n",
       "   'id': 'a96325f096344e99a1b44d8a5c891b9e',\n",
       "   'owner': 'unstats_admin',\n",
       "   'created': 1561274520000,\n",
       "   'modified': 1561310899000,\n",
       "   'title': 'SYB indicator: Other population of concern to UNHCR',\n",
       "   'type': 'Feature Service',\n",
       "   'tags': ['SYB'],\n",
       "   'url': 'https://services7.arcgis.com/gp50Ao2knMlOM89z/arcgis/rest/services/SYB075_2018/FeatureServer',\n",
       "   'seriesCode': 'SYB075'},\n",
       "  {'seriesName': 'Population annual rate of increase',\n",
       "   'publicationYear': '2018',\n",
       "   'id': 'f6f16a88b56840249b4439bbea05dba4',\n",
       "   'owner': 'unstats_admin',\n",
       "   'created': 1561274403000,\n",
       "   'modified': 1561310854000,\n",
       "   'title': 'SYB indicator: Population annual rate of increase',\n",
       "   'type': 'Feature Service',\n",
       "   'tags': ['SYB'],\n",
       "   'url': 'https://services7.arcgis.com/gp50Ao2knMlOM89z/arcgis/rest/services/SYB014_2018/FeatureServer',\n",
       "   'seriesCode': 'SYB014'},\n",
       "  {'seriesName': 'Population density',\n",
       "   'publicationYear': '2018',\n",
       "   'id': '566287a1c8f442b389bcef3b2e9454d4',\n",
       "   'owner': 'unstats_admin',\n",
       "   'created': 1561274726000,\n",
       "   'modified': 1561310983000,\n",
       "   'title': 'SYB indicator: Population density',\n",
       "   'type': 'Feature Service',\n",
       "   'tags': ['SYB'],\n",
       "   'url': 'https://services7.arcgis.com/gp50Ao2knMlOM89z/arcgis/rest/services/SYB088_2018/FeatureServer',\n",
       "   'seriesCode': 'SYB088'},\n",
       "  {'seriesName': 'Population growth rate per annum',\n",
       "   'publicationYear': '2018',\n",
       "   'id': 'b95285b0546841fa917c197a6dd73c1e',\n",
       "   'owner': 'unstats_admin',\n",
       "   'created': 1561274658000,\n",
       "   'modified': 1561310950000,\n",
       "   'title': 'SYB indicator: Population growth rate per annum',\n",
       "   'type': 'Feature Service',\n",
       "   'tags': ['SYB'],\n",
       "   'url': 'https://services7.arcgis.com/gp50Ao2knMlOM89z/arcgis/rest/services/SYB081_2018/FeatureServer',\n",
       "   'seriesCode': 'SYB081'},\n",
       "  {'seriesName': 'Population mid-year estimates',\n",
       "   'publicationYear': '2018',\n",
       "   'id': '7e77f35a3ebb49c29d9fc8c10f825f33',\n",
       "   'owner': 'unstats_admin',\n",
       "   'created': 1561274746000,\n",
       "   'modified': 1561310991000,\n",
       "   'title': 'SYB indicator: Population mid-year estimates',\n",
       "   'type': 'Feature Service',\n",
       "   'tags': ['SYB'],\n",
       "   'url': 'https://services7.arcgis.com/gp50Ao2knMlOM89z/arcgis/rest/services/SYB089_2018/FeatureServer',\n",
       "   'seriesCode': 'SYB089'},\n",
       "  {'seriesName': 'Sex ratio (males per 100 females)',\n",
       "   'publicationYear': '2018',\n",
       "   'id': '1e28bd6f12a942deb823d4cf809b6756',\n",
       "   'owner': 'unstats_admin',\n",
       "   'created': 1561274773000,\n",
       "   'modified': 1561311000000,\n",
       "   'title': 'SYB indicator: Sex ratio (males per 100 females)',\n",
       "   'type': 'Feature Service',\n",
       "   'tags': ['SYB'],\n",
       "   'url': 'https://services7.arcgis.com/gp50Ao2knMlOM89z/arcgis/rest/services/SYB090_2018/FeatureServer',\n",
       "   'seriesCode': 'SYB090'},\n",
       "  {'seriesName': 'Share of population by age group',\n",
       "   'publicationYear': '2018',\n",
       "   'id': '493ee3f35221493fa582b807034fe488',\n",
       "   'owner': 'unstats_admin',\n",
       "   'created': 1561274704000,\n",
       "   'modified': 1561310974000,\n",
       "   'title': 'SYB indicator: Share of population by age group',\n",
       "   'type': 'Feature Service',\n",
       "   'tags': ['SYB'],\n",
       "   'url': 'https://services7.arcgis.com/gp50Ao2knMlOM89z/arcgis/rest/services/SYB087_2018/FeatureServer',\n",
       "   'seriesCode': 'SYB087'},\n",
       "  {'seriesName': 'Surface area',\n",
       "   'publicationYear': '2018',\n",
       "   'id': '875ce0c9115b46e6a9fe2471e312ea03',\n",
       "   'owner': 'unstats_admin',\n",
       "   'created': 1561274794000,\n",
       "   'modified': 1561311013000,\n",
       "   'title': 'SYB indicator: Surface area',\n",
       "   'type': 'Feature Service',\n",
       "   'tags': ['SYB'],\n",
       "   'url': 'https://services7.arcgis.com/gp50Ao2knMlOM89z/arcgis/rest/services/SYB091_2018/FeatureServer',\n",
       "   'seriesCode': 'SYB091'},\n",
       "  {'seriesName': 'Total fertility rate',\n",
       "   'publicationYear': '2018',\n",
       "   'id': 'bbb7dbea77a9464c883e3605eca93d51',\n",
       "   'owner': 'unstats_admin',\n",
       "   'created': 1561274424000,\n",
       "   'modified': 1561310864000,\n",
       "   'title': 'SYB indicator: Total fertility rate',\n",
       "   'type': 'Feature Service',\n",
       "   'tags': ['SYB'],\n",
       "   'url': 'https://services7.arcgis.com/gp50Ao2knMlOM89z/arcgis/rest/services/SYB015_2018/FeatureServer',\n",
       "   'seriesCode': 'SYB015'},\n",
       "  {'seriesName': 'Total population of concern to UNHCR',\n",
       "   'publicationYear': '2018',\n",
       "   'id': '772a41a4477f4b1b81409dbad8fbac7a',\n",
       "   'owner': 'unstats_admin',\n",
       "   'created': 1561274541000,\n",
       "   'modified': 1561310909000,\n",
       "   'title': 'SYB indicator: Total population of concern to UNHCR',\n",
       "   'type': 'Feature Service',\n",
       "   'tags': ['SYB'],\n",
       "   'url': 'https://services7.arcgis.com/gp50Ao2knMlOM89z/arcgis/rest/services/SYB076_2018/FeatureServer',\n",
       "   'seriesCode': 'SYB076'},\n",
       "  {'seriesName': 'Total refugees and people in refugee-like situations',\n",
       "   'publicationYear': '2018',\n",
       "   'id': '592ed636d538491593ed9de1e2c3f47b',\n",
       "   'owner': 'unstats_admin',\n",
       "   'created': 1561274562000,\n",
       "   'modified': 1561310917000,\n",
       "   'title': 'SYB indicator: Total refugees and people in refugee-like situations',\n",
       "   'type': 'Feature Service',\n",
       "   'tags': ['SYB'],\n",
       "   'url': 'https://services7.arcgis.com/gp50Ao2knMlOM89z/arcgis/rest/services/SYB077_2018/FeatureServer',\n",
       "   'seriesCode': 'SYB077'},\n",
       "  {'seriesName': 'Urban population as percent of total populatoin',\n",
       "   'publicationYear': '2018',\n",
       "   'id': 'c7e749b42fda4c84b39cf8fa5d038371',\n",
       "   'owner': 'unstats_admin',\n",
       "   'created': 1561274683000,\n",
       "   'modified': 1561310965000,\n",
       "   'title': 'SYB indicator: Urban population as percent of total populatoin',\n",
       "   'type': 'Feature Service',\n",
       "   'tags': ['SYB'],\n",
       "   'url': 'https://services7.arcgis.com/gp50Ao2knMlOM89z/arcgis/rest/services/SYB082_2018/FeatureServer',\n",
       "   'seriesCode': 'SYB082'}]}"
      ]
     },
     "execution_count": 23,
     "metadata": {},
     "output_type": "execute_result"
    }
   ],
   "source": [
    "with open(r'..\\..\\data\\unsd\\unsd_syb_catalogue.json') as json_file:  \n",
    "    syb_arcgis_catalogue = json.load(json_file)\n",
    "\n",
    "syb_arcgis_catalogue[0]"
   ]
  },
  {
   "cell_type": "code",
   "execution_count": 27,
   "metadata": {},
   "outputs": [
    {
     "data": {
      "text/plain": [
       "'b69e704c91974e69b5ae5763f1a49450'"
      ]
     },
     "metadata": {},
     "output_type": "display_data"
    },
    {
     "data": {
      "text/plain": [
       "'SYB011'"
      ]
     },
     "execution_count": 27,
     "metadata": {},
     "output_type": "execute_result"
    },
    {
     "data": {
      "text/plain": [
       "['units', 'multiplier', 'baseYear']"
      ]
     },
     "execution_count": 27,
     "metadata": {},
     "output_type": "execute_result"
    },
    {
     "data": {
      "text/plain": [
       "''"
      ]
     },
     "metadata": {},
     "output_type": "display_data"
    },
    {
     "data": {
      "text/plain": [
       "'SYB012'"
      ]
     },
     "execution_count": 27,
     "metadata": {},
     "output_type": "execute_result"
    },
    {
     "data": {
      "text/plain": [
       "['sexCode', 'sexDesc', 'units', 'multiplier', 'baseYear']"
      ]
     },
     "execution_count": 27,
     "metadata": {},
     "output_type": "execute_result"
    },
    {
     "data": {
      "text/plain": [
       "''"
      ]
     },
     "metadata": {},
     "output_type": "display_data"
    },
    {
     "data": {
      "text/plain": [
       "'SYB013'"
      ]
     },
     "execution_count": 27,
     "metadata": {},
     "output_type": "execute_result"
    },
    {
     "data": {
      "text/plain": [
       "['units', 'multiplier', 'baseYear']"
      ]
     },
     "execution_count": 27,
     "metadata": {},
     "output_type": "execute_result"
    },
    {
     "data": {
      "text/plain": [
       "''"
      ]
     },
     "metadata": {},
     "output_type": "display_data"
    },
    {
     "data": {
      "text/plain": [
       "'SYB014'"
      ]
     },
     "execution_count": 27,
     "metadata": {},
     "output_type": "execute_result"
    },
    {
     "data": {
      "text/plain": [
       "['units', 'multiplier', 'baseYear']"
      ]
     },
     "execution_count": 27,
     "metadata": {},
     "output_type": "execute_result"
    },
    {
     "data": {
      "text/plain": [
       "''"
      ]
     },
     "metadata": {},
     "output_type": "display_data"
    },
    {
     "data": {
      "text/plain": [
       "'SYB015'"
      ]
     },
     "execution_count": 27,
     "metadata": {},
     "output_type": "execute_result"
    },
    {
     "data": {
      "text/plain": [
       "['units', 'multiplier', 'baseYear']"
      ]
     },
     "execution_count": 27,
     "metadata": {},
     "output_type": "execute_result"
    },
    {
     "data": {
      "text/plain": [
       "''"
      ]
     },
     "metadata": {},
     "output_type": "display_data"
    },
    {
     "data": {
      "text/plain": [
       "'SYB072'"
      ]
     },
     "execution_count": 27,
     "metadata": {},
     "output_type": "execute_result"
    },
    {
     "data": {
      "text/plain": [
       "['units', 'multiplier', 'baseYear']"
      ]
     },
     "execution_count": 27,
     "metadata": {},
     "output_type": "execute_result"
    },
    {
     "data": {
      "text/plain": [
       "''"
      ]
     },
     "metadata": {},
     "output_type": "display_data"
    },
    {
     "data": {
      "text/plain": [
       "'SYB073'"
      ]
     },
     "execution_count": 27,
     "metadata": {},
     "output_type": "execute_result"
    },
    {
     "data": {
      "text/plain": [
       "['sexCode', 'sexDesc', 'units', 'multiplier', 'baseYear']"
      ]
     },
     "execution_count": 27,
     "metadata": {},
     "output_type": "execute_result"
    },
    {
     "data": {
      "text/plain": [
       "''"
      ]
     },
     "metadata": {},
     "output_type": "display_data"
    },
    {
     "data": {
      "text/plain": [
       "'SYB074'"
      ]
     },
     "execution_count": 27,
     "metadata": {},
     "output_type": "execute_result"
    },
    {
     "data": {
      "text/plain": [
       "['sexCode', 'sexDesc', 'units', 'multiplier', 'baseYear']"
      ]
     },
     "execution_count": 27,
     "metadata": {},
     "output_type": "execute_result"
    },
    {
     "data": {
      "text/plain": [
       "''"
      ]
     },
     "metadata": {},
     "output_type": "display_data"
    },
    {
     "data": {
      "text/plain": [
       "'SYB075'"
      ]
     },
     "execution_count": 27,
     "metadata": {},
     "output_type": "execute_result"
    },
    {
     "data": {
      "text/plain": [
       "['units', 'multiplier', 'baseYear']"
      ]
     },
     "execution_count": 27,
     "metadata": {},
     "output_type": "execute_result"
    },
    {
     "data": {
      "text/plain": [
       "''"
      ]
     },
     "metadata": {},
     "output_type": "display_data"
    },
    {
     "data": {
      "text/plain": [
       "'SYB076'"
      ]
     },
     "execution_count": 27,
     "metadata": {},
     "output_type": "execute_result"
    },
    {
     "data": {
      "text/plain": [
       "['units', 'multiplier', 'baseYear']"
      ]
     },
     "execution_count": 27,
     "metadata": {},
     "output_type": "execute_result"
    },
    {
     "data": {
      "text/plain": [
       "''"
      ]
     },
     "metadata": {},
     "output_type": "display_data"
    },
    {
     "data": {
      "text/plain": [
       "'SYB077'"
      ]
     },
     "execution_count": 27,
     "metadata": {},
     "output_type": "execute_result"
    },
    {
     "data": {
      "text/plain": [
       "['units', 'multiplier', 'baseYear']"
      ]
     },
     "execution_count": 27,
     "metadata": {},
     "output_type": "execute_result"
    },
    {
     "data": {
      "text/plain": [
       "''"
      ]
     },
     "metadata": {},
     "output_type": "display_data"
    },
    {
     "data": {
      "text/plain": [
       "'SYB078'"
      ]
     },
     "execution_count": 27,
     "metadata": {},
     "output_type": "execute_result"
    },
    {
     "data": {
      "text/plain": [
       "['units', 'multiplier', 'baseYear']"
      ]
     },
     "execution_count": 27,
     "metadata": {},
     "output_type": "execute_result"
    },
    {
     "data": {
      "text/plain": [
       "''"
      ]
     },
     "metadata": {},
     "output_type": "display_data"
    },
    {
     "data": {
      "text/plain": [
       "'SYB079'"
      ]
     },
     "execution_count": 27,
     "metadata": {},
     "output_type": "execute_result"
    },
    {
     "data": {
      "text/plain": [
       "['units', 'multiplier', 'baseYear']"
      ]
     },
     "execution_count": 27,
     "metadata": {},
     "output_type": "execute_result"
    },
    {
     "data": {
      "text/plain": [
       "''"
      ]
     },
     "metadata": {},
     "output_type": "display_data"
    },
    {
     "data": {
      "text/plain": [
       "'SYB080'"
      ]
     },
     "execution_count": 27,
     "metadata": {},
     "output_type": "execute_result"
    },
    {
     "data": {
      "text/plain": [
       "['units', 'multiplier', 'baseYear']"
      ]
     },
     "execution_count": 27,
     "metadata": {},
     "output_type": "execute_result"
    },
    {
     "data": {
      "text/plain": [
       "''"
      ]
     },
     "metadata": {},
     "output_type": "display_data"
    },
    {
     "data": {
      "text/plain": [
       "'SYB081'"
      ]
     },
     "execution_count": 27,
     "metadata": {},
     "output_type": "execute_result"
    },
    {
     "data": {
      "text/plain": [
       "['urbanizationCode', 'urbanizationDesc', 'units', 'multiplier', 'baseYear']"
      ]
     },
     "execution_count": 27,
     "metadata": {},
     "output_type": "execute_result"
    },
    {
     "data": {
      "text/plain": [
       "''"
      ]
     },
     "metadata": {},
     "output_type": "display_data"
    },
    {
     "data": {
      "text/plain": [
       "'SYB082'"
      ]
     },
     "execution_count": 27,
     "metadata": {},
     "output_type": "execute_result"
    },
    {
     "data": {
      "text/plain": [
       "['urbanizationCode', 'urbanizationDesc', 'units', 'multiplier', 'baseYear']"
      ]
     },
     "execution_count": 27,
     "metadata": {},
     "output_type": "execute_result"
    },
    {
     "data": {
      "text/plain": [
       "''"
      ]
     },
     "metadata": {},
     "output_type": "display_data"
    },
    {
     "data": {
      "text/plain": [
       "'SYB087'"
      ]
     },
     "execution_count": 27,
     "metadata": {},
     "output_type": "execute_result"
    },
    {
     "data": {
      "text/plain": [
       "['ageCode', 'ageDesc', 'units', 'multiplier', 'baseYear']"
      ]
     },
     "execution_count": 27,
     "metadata": {},
     "output_type": "execute_result"
    },
    {
     "data": {
      "text/plain": [
       "''"
      ]
     },
     "metadata": {},
     "output_type": "display_data"
    },
    {
     "data": {
      "text/plain": [
       "'SYB088'"
      ]
     },
     "execution_count": 27,
     "metadata": {},
     "output_type": "execute_result"
    },
    {
     "data": {
      "text/plain": [
       "['units', 'multiplier', 'baseYear']"
      ]
     },
     "execution_count": 27,
     "metadata": {},
     "output_type": "execute_result"
    },
    {
     "data": {
      "text/plain": [
       "''"
      ]
     },
     "metadata": {},
     "output_type": "display_data"
    },
    {
     "data": {
      "text/plain": [
       "'SYB089'"
      ]
     },
     "execution_count": 27,
     "metadata": {},
     "output_type": "execute_result"
    },
    {
     "data": {
      "text/plain": [
       "['sexCode', 'sexDesc', 'units', 'multiplier', 'baseYear']"
      ]
     },
     "execution_count": 27,
     "metadata": {},
     "output_type": "execute_result"
    },
    {
     "data": {
      "text/plain": [
       "''"
      ]
     },
     "metadata": {},
     "output_type": "display_data"
    },
    {
     "data": {
      "text/plain": [
       "'SYB090'"
      ]
     },
     "execution_count": 27,
     "metadata": {},
     "output_type": "execute_result"
    },
    {
     "data": {
      "text/plain": [
       "['units', 'multiplier', 'baseYear']"
      ]
     },
     "execution_count": 27,
     "metadata": {},
     "output_type": "execute_result"
    },
    {
     "data": {
      "text/plain": [
       "''"
      ]
     },
     "metadata": {},
     "output_type": "display_data"
    },
    {
     "data": {
      "text/plain": [
       "'SYB091'"
      ]
     },
     "execution_count": 27,
     "metadata": {},
     "output_type": "execute_result"
    },
    {
     "data": {
      "text/plain": [
       "['units', 'multiplier', 'baseYear']"
      ]
     },
     "execution_count": 27,
     "metadata": {},
     "output_type": "execute_result"
    },
    {
     "data": {
      "text/plain": [
       "'f4ebc92d8aea47bdac090dfa3da29bb2'"
      ]
     },
     "metadata": {},
     "output_type": "display_data"
    },
    {
     "data": {
      "text/plain": [
       "'SYB001'"
      ]
     },
     "execution_count": 27,
     "metadata": {},
     "output_type": "execute_result"
    },
    {
     "data": {
      "text/plain": [
       "['sexCode',\n",
       " 'sexDesc',\n",
       " 'educationLevCode',\n",
       " 'educationLevDesc',\n",
       " 'units',\n",
       " 'multiplier',\n",
       " 'baseYear']"
      ]
     },
     "execution_count": 27,
     "metadata": {},
     "output_type": "execute_result"
    },
    {
     "data": {
      "text/plain": [
       "''"
      ]
     },
     "metadata": {},
     "output_type": "display_data"
    },
    {
     "data": {
      "text/plain": [
       "'SYB002'"
      ]
     },
     "execution_count": 27,
     "metadata": {},
     "output_type": "execute_result"
    },
    {
     "data": {
      "text/plain": [
       "['educationLevCode', 'educationLevDesc', 'units', 'multiplier', 'baseYear']"
      ]
     },
     "execution_count": 27,
     "metadata": {},
     "output_type": "execute_result"
    },
    {
     "data": {
      "text/plain": [
       "''"
      ]
     },
     "metadata": {},
     "output_type": "display_data"
    },
    {
     "data": {
      "text/plain": [
       "'SYB108'"
      ]
     },
     "execution_count": 27,
     "metadata": {},
     "output_type": "execute_result"
    },
    {
     "data": {
      "text/plain": [
       "['units', 'multiplier', 'baseYear']"
      ]
     },
     "execution_count": 27,
     "metadata": {},
     "output_type": "execute_result"
    },
    {
     "data": {
      "text/plain": [
       "''"
      ]
     },
     "metadata": {},
     "output_type": "display_data"
    },
    {
     "data": {
      "text/plain": [
       "'SYB109'"
      ]
     },
     "execution_count": 27,
     "metadata": {},
     "output_type": "execute_result"
    },
    {
     "data": {
      "text/plain": [
       "['units', 'multiplier', 'baseYear']"
      ]
     },
     "execution_count": 27,
     "metadata": {},
     "output_type": "execute_result"
    },
    {
     "data": {
      "text/plain": [
       "''"
      ]
     },
     "metadata": {},
     "output_type": "display_data"
    },
    {
     "data": {
      "text/plain": [
       "'SYB110'"
      ]
     },
     "execution_count": 27,
     "metadata": {},
     "output_type": "execute_result"
    },
    {
     "data": {
      "text/plain": [
       "['units', 'multiplier', 'baseYear']"
      ]
     },
     "execution_count": 27,
     "metadata": {},
     "output_type": "execute_result"
    },
    {
     "data": {
      "text/plain": [
       "''"
      ]
     },
     "metadata": {},
     "output_type": "display_data"
    },
    {
     "data": {
      "text/plain": [
       "'SYB111'"
      ]
     },
     "execution_count": 27,
     "metadata": {},
     "output_type": "execute_result"
    },
    {
     "data": {
      "text/plain": [
       "['educationLevCode', 'educationLevDesc', 'units', 'multiplier', 'baseYear']"
      ]
     },
     "execution_count": 27,
     "metadata": {},
     "output_type": "execute_result"
    },
    {
     "data": {
      "text/plain": [
       "''"
      ]
     },
     "metadata": {},
     "output_type": "display_data"
    },
    {
     "data": {
      "text/plain": [
       "'SYB112'"
      ]
     },
     "execution_count": 27,
     "metadata": {},
     "output_type": "execute_result"
    },
    {
     "data": {
      "text/plain": [
       "['educationLevCode', 'educationLevDesc', 'units', 'multiplier', 'baseYear']"
      ]
     },
     "execution_count": 27,
     "metadata": {},
     "output_type": "execute_result"
    },
    {
     "data": {
      "text/plain": [
       "''"
      ]
     },
     "metadata": {},
     "output_type": "display_data"
    },
    {
     "data": {
      "text/plain": [
       "'SYB119'"
      ]
     },
     "execution_count": 27,
     "metadata": {},
     "output_type": "execute_result"
    },
    {
     "data": {
      "text/plain": [
       "['educationLevCode', 'educationLevDesc', 'units', 'multiplier', 'baseYear']"
      ]
     },
     "execution_count": 27,
     "metadata": {},
     "output_type": "execute_result"
    },
    {
     "data": {
      "text/plain": [
       "''"
      ]
     },
     "metadata": {},
     "output_type": "display_data"
    },
    {
     "data": {
      "text/plain": [
       "'SYB120'"
      ]
     },
     "execution_count": 27,
     "metadata": {},
     "output_type": "execute_result"
    },
    {
     "data": {
      "text/plain": [
       "['educationLevCode', 'educationLevDesc', 'units', 'multiplier', 'baseYear']"
      ]
     },
     "execution_count": 27,
     "metadata": {},
     "output_type": "execute_result"
    },
    {
     "data": {
      "text/plain": [
       "'5ab360904e1d44c88a11240eaaf76843'"
      ]
     },
     "metadata": {},
     "output_type": "display_data"
    },
    {
     "data": {
      "text/plain": [
       "'SYB113'"
      ]
     },
     "execution_count": 27,
     "metadata": {},
     "output_type": "execute_result"
    },
    {
     "data": {
      "text/plain": [
       "['educationLevCode', 'educationLevDesc', 'units', 'multiplier', 'baseYear']"
      ]
     },
     "execution_count": 27,
     "metadata": {},
     "output_type": "execute_result"
    },
    {
     "data": {
      "text/plain": [
       "''"
      ]
     },
     "metadata": {},
     "output_type": "display_data"
    },
    {
     "data": {
      "text/plain": [
       "'SYB118'"
      ]
     },
     "execution_count": 27,
     "metadata": {},
     "output_type": "execute_result"
    },
    {
     "data": {
      "text/plain": [
       "['units', 'multiplier', 'baseYear']"
      ]
     },
     "execution_count": 27,
     "metadata": {},
     "output_type": "execute_result"
    },
    {
     "data": {
      "text/plain": [
       "'16d3087c8d544007ac1aa01c2c755c42'"
      ]
     },
     "metadata": {},
     "output_type": "display_data"
    },
    {
     "data": {
      "text/plain": [
       "'SYB105'"
      ]
     },
     "execution_count": 27,
     "metadata": {},
     "output_type": "execute_result"
    },
    {
     "data": {
      "text/plain": [
       "['units', 'multiplier', 'baseYear']"
      ]
     },
     "execution_count": 27,
     "metadata": {},
     "output_type": "execute_result"
    },
    {
     "data": {
      "text/plain": [
       "''"
      ]
     },
     "metadata": {},
     "output_type": "display_data"
    },
    {
     "data": {
      "text/plain": [
       "'SYB106'"
      ]
     },
     "execution_count": 27,
     "metadata": {},
     "output_type": "execute_result"
    },
    {
     "data": {
      "text/plain": [
       "['units', 'multiplier', 'baseYear']"
      ]
     },
     "execution_count": 27,
     "metadata": {},
     "output_type": "execute_result"
    },
    {
     "data": {
      "text/plain": [
       "''"
      ]
     },
     "metadata": {},
     "output_type": "display_data"
    },
    {
     "data": {
      "text/plain": [
       "'SYB107'"
      ]
     },
     "execution_count": 27,
     "metadata": {},
     "output_type": "execute_result"
    },
    {
     "data": {
      "text/plain": [
       "['units', 'multiplier', 'baseYear']"
      ]
     },
     "execution_count": 27,
     "metadata": {},
     "output_type": "execute_result"
    },
    {
     "data": {
      "text/plain": [
       "'4ea3388567b64f33b3601bac26767f96'"
      ]
     },
     "metadata": {},
     "output_type": "display_data"
    },
    {
     "data": {
      "text/plain": [
       "'SYB022'"
      ]
     },
     "execution_count": 27,
     "metadata": {},
     "output_type": "execute_result"
    },
    {
     "data": {
      "text/plain": [
       "['activityCode', 'activityDesc', 'units', 'multiplier', 'baseYear']"
      ]
     },
     "execution_count": 27,
     "metadata": {},
     "output_type": "execute_result"
    },
    {
     "data": {
      "text/plain": [
       "''"
      ]
     },
     "metadata": {},
     "output_type": "display_data"
    },
    {
     "data": {
      "text/plain": [
       "'SYB023'"
      ]
     },
     "execution_count": 27,
     "metadata": {},
     "output_type": "execute_result"
    },
    {
     "data": {
      "text/plain": [
       "['units', 'multiplier', 'baseYear']"
      ]
     },
     "execution_count": 27,
     "metadata": {},
     "output_type": "execute_result"
    },
    {
     "data": {
      "text/plain": [
       "''"
      ]
     },
     "metadata": {},
     "output_type": "display_data"
    },
    {
     "data": {
      "text/plain": [
       "'SYB024'"
      ]
     },
     "execution_count": 27,
     "metadata": {},
     "output_type": "execute_result"
    },
    {
     "data": {
      "text/plain": [
       "['units', 'multiplier', 'baseYear']"
      ]
     },
     "execution_count": 27,
     "metadata": {},
     "output_type": "execute_result"
    },
    {
     "data": {
      "text/plain": [
       "''"
      ]
     },
     "metadata": {},
     "output_type": "display_data"
    },
    {
     "data": {
      "text/plain": [
       "'SYB025'"
      ]
     },
     "execution_count": 27,
     "metadata": {},
     "output_type": "execute_result"
    },
    {
     "data": {
      "text/plain": [
       "['units', 'multiplier', 'baseYear']"
      ]
     },
     "execution_count": 27,
     "metadata": {},
     "output_type": "execute_result"
    },
    {
     "data": {
      "text/plain": [
       "''"
      ]
     },
     "metadata": {},
     "output_type": "display_data"
    },
    {
     "data": {
      "text/plain": [
       "'SYB026'"
      ]
     },
     "execution_count": 27,
     "metadata": {},
     "output_type": "execute_result"
    },
    {
     "data": {
      "text/plain": [
       "['units', 'multiplier', 'baseYear']"
      ]
     },
     "execution_count": 27,
     "metadata": {},
     "output_type": "execute_result"
    },
    {
     "data": {
      "text/plain": [
       "'a201ac34ff6a47a6a978ca2b3b7f0dfd'"
      ]
     },
     "metadata": {},
     "output_type": "display_data"
    },
    {
     "data": {
      "text/plain": [
       "'SYB065'"
      ]
     },
     "execution_count": 27,
     "metadata": {},
     "output_type": "execute_result"
    },
    {
     "data": {
      "text/plain": [
       "['units', 'multiplier', 'baseYear']"
      ]
     },
     "execution_count": 27,
     "metadata": {},
     "output_type": "execute_result"
    },
    {
     "data": {
      "text/plain": [
       "''"
      ]
     },
     "metadata": {},
     "output_type": "display_data"
    },
    {
     "data": {
      "text/plain": [
       "'SYB066'"
      ]
     },
     "execution_count": 27,
     "metadata": {},
     "output_type": "execute_result"
    },
    {
     "data": {
      "text/plain": [
       "['units', 'multiplier', 'baseYear']"
      ]
     },
     "execution_count": 27,
     "metadata": {},
     "output_type": "execute_result"
    },
    {
     "data": {
      "text/plain": [
       "''"
      ]
     },
     "metadata": {},
     "output_type": "display_data"
    },
    {
     "data": {
      "text/plain": [
       "'SYB067'"
      ]
     },
     "execution_count": 27,
     "metadata": {},
     "output_type": "execute_result"
    },
    {
     "data": {
      "text/plain": [
       "['units', 'multiplier', 'baseYear']"
      ]
     },
     "execution_count": 27,
     "metadata": {},
     "output_type": "execute_result"
    },
    {
     "data": {
      "text/plain": [
       "''"
      ]
     },
     "metadata": {},
     "output_type": "display_data"
    },
    {
     "data": {
      "text/plain": [
       "'SYB068'"
      ]
     },
     "execution_count": 27,
     "metadata": {},
     "output_type": "execute_result"
    },
    {
     "data": {
      "text/plain": [
       "['units', 'multiplier', 'baseYear']"
      ]
     },
     "execution_count": 27,
     "metadata": {},
     "output_type": "execute_result"
    },
    {
     "data": {
      "text/plain": [
       "''"
      ]
     },
     "metadata": {},
     "output_type": "display_data"
    },
    {
     "data": {
      "text/plain": [
       "'SYB069'"
      ]
     },
     "execution_count": 27,
     "metadata": {},
     "output_type": "execute_result"
    },
    {
     "data": {
      "text/plain": [
       "['units', 'multiplier', 'baseYear']"
      ]
     },
     "execution_count": 27,
     "metadata": {},
     "output_type": "execute_result"
    },
    {
     "data": {
      "text/plain": [
       "'053bf43b5a724a5082efde98adebc4ca'"
      ]
     },
     "metadata": {},
     "output_type": "display_data"
    },
    {
     "data": {
      "text/plain": [
       "'SYB030'"
      ]
     },
     "execution_count": 27,
     "metadata": {},
     "output_type": "execute_result"
    },
    {
     "data": {
      "text/plain": [
       "['activityCode',\n",
       " 'activityDesc',\n",
       " 'sexCode',\n",
       " 'sexDesc',\n",
       " 'units',\n",
       " 'multiplier',\n",
       " 'baseYear']"
      ]
     },
     "execution_count": 27,
     "metadata": {},
     "output_type": "execute_result"
    },
    {
     "ename": "KeyError",
     "evalue": "'sexCode'",
     "output_type": "error",
     "traceback": [
      "\u001b[1;31m---------------------------------------------------------------------------\u001b[0m",
      "\u001b[1;31mKeyError\u001b[0m                                  Traceback (most recent call last)",
      "\u001b[1;32m<ipython-input-27-139b19fcd4d0>\u001b[0m in \u001b[0;36m<module>\u001b[1;34m\u001b[0m\n\u001b[0;32m     51\u001b[0m             \u001b[1;32mfor\u001b[0m \u001b[0mg\u001b[0m \u001b[1;32min\u001b[0m \u001b[0mrange\u001b[0m\u001b[1;33m(\u001b[0m\u001b[0mlen\u001b[0m\u001b[1;33m(\u001b[0m\u001b[0mdata\u001b[0m\u001b[1;33m[\u001b[0m\u001b[1;34m'data'\u001b[0m\u001b[1;33m]\u001b[0m\u001b[1;33m)\u001b[0m\u001b[1;33m)\u001b[0m\u001b[1;33m:\u001b[0m\u001b[1;33m\u001b[0m\u001b[1;33m\u001b[0m\u001b[0m\n\u001b[0;32m     52\u001b[0m                 \u001b[0mx\u001b[0m \u001b[1;33m=\u001b[0m \u001b[0mdata\u001b[0m\u001b[1;33m[\u001b[0m\u001b[1;34m'data'\u001b[0m\u001b[1;33m]\u001b[0m\u001b[1;33m[\u001b[0m\u001b[0mg\u001b[0m\u001b[1;33m]\u001b[0m\u001b[1;33m[\u001b[0m\u001b[1;34m'data'\u001b[0m\u001b[1;33m]\u001b[0m\u001b[1;33m\u001b[0m\u001b[1;33m\u001b[0m\u001b[0m\n\u001b[1;32m---> 53\u001b[1;33m                 \u001b[0mtemp\u001b[0m\u001b[1;33m.\u001b[0m\u001b[0mextend\u001b[0m\u001b[1;33m(\u001b[0m\u001b[0msubdict_list\u001b[0m\u001b[1;33m(\u001b[0m\u001b[0mdata\u001b[0m\u001b[1;33m[\u001b[0m\u001b[1;34m'data'\u001b[0m\u001b[1;33m]\u001b[0m\u001b[1;33m[\u001b[0m\u001b[0mg\u001b[0m\u001b[1;33m]\u001b[0m\u001b[1;33m[\u001b[0m\u001b[1;34m'data'\u001b[0m\u001b[1;33m]\u001b[0m\u001b[1;33m,\u001b[0m \u001b[0mslice_keys\u001b[0m\u001b[1;33m,\u001b[0m \u001b[0mexclude\u001b[0m \u001b[1;33m=\u001b[0m \u001b[1;32mFalse\u001b[0m\u001b[1;33m)\u001b[0m\u001b[1;33m)\u001b[0m\u001b[1;33m\u001b[0m\u001b[1;33m\u001b[0m\u001b[0m\n\u001b[0m\u001b[0;32m     54\u001b[0m \u001b[1;33m\u001b[0m\u001b[0m\n\u001b[0;32m     55\u001b[0m             \u001b[0mslices\u001b[0m \u001b[1;33m=\u001b[0m  \u001b[0munique_dicts\u001b[0m\u001b[1;33m(\u001b[0m\u001b[0mtemp\u001b[0m\u001b[1;33m)\u001b[0m\u001b[1;33m\u001b[0m\u001b[1;33m\u001b[0m\u001b[0m\n",
      "\u001b[1;32m<ipython-input-8-fad700a5288e>\u001b[0m in \u001b[0;36msubdict_list\u001b[1;34m(dict_list, keys_list, exclude)\u001b[0m\n\u001b[0;32m      7\u001b[0m     \u001b[1;32melse\u001b[0m\u001b[1;33m:\u001b[0m\u001b[1;33m\u001b[0m\u001b[1;33m\u001b[0m\u001b[0m\n\u001b[0;32m      8\u001b[0m         \u001b[1;32mfor\u001b[0m \u001b[0md\u001b[0m \u001b[1;32min\u001b[0m \u001b[0mdict_list\u001b[0m\u001b[1;33m:\u001b[0m\u001b[1;33m\u001b[0m\u001b[1;33m\u001b[0m\u001b[0m\n\u001b[1;32m----> 9\u001b[1;33m             \u001b[0msub_d\u001b[0m\u001b[1;33m=\u001b[0m \u001b[1;33m{\u001b[0m\u001b[0mk\u001b[0m\u001b[1;33m:\u001b[0m \u001b[0md\u001b[0m\u001b[1;33m[\u001b[0m\u001b[0mk\u001b[0m\u001b[1;33m]\u001b[0m \u001b[1;32mfor\u001b[0m \u001b[0mk\u001b[0m \u001b[1;32min\u001b[0m \u001b[0mkeys_list\u001b[0m\u001b[1;33m}\u001b[0m\u001b[1;33m\u001b[0m\u001b[1;33m\u001b[0m\u001b[0m\n\u001b[0m\u001b[0;32m     10\u001b[0m             \u001b[0msub_d_list\u001b[0m\u001b[1;33m.\u001b[0m\u001b[0mappend\u001b[0m\u001b[1;33m(\u001b[0m\u001b[0msub_d\u001b[0m\u001b[1;33m)\u001b[0m\u001b[1;33m\u001b[0m\u001b[1;33m\u001b[0m\u001b[0m\n\u001b[0;32m     11\u001b[0m \u001b[1;33m\u001b[0m\u001b[0m\n",
      "\u001b[1;32m<ipython-input-8-fad700a5288e>\u001b[0m in \u001b[0;36m<dictcomp>\u001b[1;34m(.0)\u001b[0m\n\u001b[0;32m      7\u001b[0m     \u001b[1;32melse\u001b[0m\u001b[1;33m:\u001b[0m\u001b[1;33m\u001b[0m\u001b[1;33m\u001b[0m\u001b[0m\n\u001b[0;32m      8\u001b[0m         \u001b[1;32mfor\u001b[0m \u001b[0md\u001b[0m \u001b[1;32min\u001b[0m \u001b[0mdict_list\u001b[0m\u001b[1;33m:\u001b[0m\u001b[1;33m\u001b[0m\u001b[1;33m\u001b[0m\u001b[0m\n\u001b[1;32m----> 9\u001b[1;33m             \u001b[0msub_d\u001b[0m\u001b[1;33m=\u001b[0m \u001b[1;33m{\u001b[0m\u001b[0mk\u001b[0m\u001b[1;33m:\u001b[0m \u001b[0md\u001b[0m\u001b[1;33m[\u001b[0m\u001b[0mk\u001b[0m\u001b[1;33m]\u001b[0m \u001b[1;32mfor\u001b[0m \u001b[0mk\u001b[0m \u001b[1;32min\u001b[0m \u001b[0mkeys_list\u001b[0m\u001b[1;33m}\u001b[0m\u001b[1;33m\u001b[0m\u001b[1;33m\u001b[0m\u001b[0m\n\u001b[0m\u001b[0;32m     10\u001b[0m             \u001b[0msub_d_list\u001b[0m\u001b[1;33m.\u001b[0m\u001b[0mappend\u001b[0m\u001b[1;33m(\u001b[0m\u001b[0msub_d\u001b[0m\u001b[1;33m)\u001b[0m\u001b[1;33m\u001b[0m\u001b[1;33m\u001b[0m\u001b[0m\n\u001b[0;32m     11\u001b[0m \u001b[1;33m\u001b[0m\u001b[0m\n",
      "\u001b[1;31mKeyError\u001b[0m: 'sexCode'"
     ]
    }
   ],
   "source": [
    "syb_fact_builder = []\n",
    "\n",
    "for t1 in syb_catalogue:\n",
    "    #print(\"- in topic \" + str(t1['topicId']) + ': ' + t1['topicNameEN'])\n",
    "    \n",
    "    syb_arcgis_catalogue_s = select_dict(syb_arcgis_catalogue, 'topic', t1['topicId'])[0]['series']\n",
    "    #display(syb_arcgis_catalogue_s)\n",
    "\n",
    "    for t2 in t1['tables']:\n",
    "\n",
    "        for s in t2['series']:\n",
    "            \n",
    "            #if s['seriesCode'] == 'SYB030':\n",
    "            #    continue\n",
    "            \n",
    "            hub = ''\n",
    "            syb_arcgis_catalogue_s = select_dict(syb_arcgis_catalogue_s, 'seriesCode', s['seriesCode'])\n",
    "            if len(syb_arcgis_catalogue_s)>0:\n",
    "                hub = syb_arcgis_catalogue_s[0]['id']\n",
    "            \n",
    "            display(hub)\n",
    "\n",
    "            ##--- Read data for this series---#\n",
    "\n",
    "            filename = 'wide_Topic' + str(t1['topicId']).zfill(2) + '_Table'+ str(t2['tableId']).zfill(3) + '_Series' + s['seriesCode'] + '.json'\n",
    "            with open(r'../../data/unsd/UNSYB/output/' + filename) as json_file:  \n",
    "                data = json.load(json_file)\n",
    "\n",
    "            slices = []\n",
    "            \n",
    "            slice_keys = []\n",
    "            \n",
    "            all_dimensions = ['units','multiplier', 'baseYear', 'multiplierDesc'\n",
    "                         'personnelTypeCode','personnelTypeDesc',\n",
    "                         'activityCode','activityDesc',\n",
    "                         'speciesCode','speciesDesc',\n",
    "                         'ODACode','ODADesc',\n",
    "                         'urbanizationCode','urbanizationDesc',\n",
    "                         'ageCode','ageDesc',\n",
    "                         'sexCode','sexDesc',\n",
    "                         'educationLevCode','educationLevDesc']\n",
    "            \n",
    "            for k in list(data['data'][0]['data'][0].keys()):\n",
    "                if k in all_dimensions:\n",
    "                    slice_keys.append(k)\n",
    "            \n",
    "            s['seriesCode']\n",
    "            slice_keys\n",
    "            temp = []\n",
    "                    \n",
    "            for g in range(len(data['data'])):\n",
    "                x = data['data'][g]['data']\n",
    "                temp.extend(subdict_list(data['data'][g]['data'], slice_keys, exclude = False))\n",
    "\n",
    "            slices =  unique_dicts(temp)\n",
    "                \n",
    "            for i in slices:\n",
    "                slice = {}\n",
    "                slice['topicId'] = t1['topicId']\n",
    "                slice['topicName'] = t1['topicNameEN']\n",
    "                slice['tableId'] = t2['tableId']\n",
    "                slice['tableName'] = t2['tableName']\n",
    "                slice['seriesCode'] = s['seriesCode']\n",
    "                slice['seriesDesc'] = s['newSeriesName']\n",
    "                slice['hub'] = hub\n",
    "                slice['units'] = None\n",
    "                slice['multiplier'] = None\n",
    "                slice['baseYear'] = None\n",
    "                slice['multiplierDesc'] = None\n",
    "                slice['personnelTypeCode'] = None\n",
    "                slice['personnelTypeDesc'] = None\n",
    "                slice['activityCode'] = None\n",
    "                slice['activityDesc'] = None\n",
    "                slice['speciesCode'] = None\n",
    "                slice['speciesDesc'] = None\n",
    "                slice['ODACode'] = None\n",
    "                slice['ODADesc'] = None\n",
    "                slice['urbanizationCode'] = None\n",
    "                slice['urbanizationDesc'] = None\n",
    "                slice['ageCode'] = None\n",
    "                slice['ageDesc'] = None\n",
    "                slice['sexCode'] = None\n",
    "                slice['sexDesc'] = None\n",
    "                slice['educationLevCode'] = None\n",
    "                slice['educationLevDesc'] = None\n",
    "                for k,v in i.items():\n",
    "                    slice[k] = v\n",
    "                \n",
    "                syb_fact_builder.append(slice)\n",
    "                \n",
    "keys = syb_fact_builder[0].keys()\n",
    "file = 'syb_fact_builder.csv'\n",
    "\n",
    "with open( r'../../data/unsd/countryProfiles/' + file, 'w', newline='', encoding='utf-8') as csv_file:  \n",
    "    dict_writer = csv.DictWriter(csv_file, keys, delimiter='\\t')\n",
    "    dict_writer.writeheader()\n",
    "    dict_writer.writerows(syb_fact_builder)\n",
    "    "
   ]
  },
  {
   "cell_type": "code",
   "execution_count": null,
   "metadata": {},
   "outputs": [],
   "source": []
  }
 ],
 "metadata": {
  "kernelspec": {
   "display_name": "Python 3",
   "language": "python",
   "name": "python3"
  },
  "language_info": {
   "codemirror_mode": {
    "name": "ipython",
    "version": 3
   },
   "file_extension": ".py",
   "mimetype": "text/x-python",
   "name": "python",
   "nbconvert_exporter": "python",
   "pygments_lexer": "ipython3",
   "version": "3.6.8"
  }
 },
 "nbformat": 4,
 "nbformat_minor": 2
}
