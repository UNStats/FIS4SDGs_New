{
 "cells": [
  {
   "cell_type": "markdown",
   "metadata": {},
   "source": [
    "# Create country profiles"
   ]
  },
  {
   "cell_type": "code",
   "execution_count": 3,
   "metadata": {},
   "outputs": [],
   "source": [
    "import csv\n",
    "import json\n",
    "import urllib3  # allows to access a URL with python\n",
    "import urllib\n",
    "import re\n",
    "import statistics\n",
    "import math\n",
    "import os\n",
    "import numpy as np"
   ]
  },
  {
   "cell_type": "markdown",
   "metadata": {},
   "source": [
    "### User parameters"
   ]
  },
  {
   "cell_type": "code",
   "execution_count": 4,
   "metadata": {},
   "outputs": [
    {
     "name": "stdout",
     "output_type": "stream",
     "text": [
      "C:\\Users\\L.GonzalezMorales\\Documents\\GitHub\\FIS4SDGs\\notebooks\\unsdCountryProfiles\n",
      "data inputs dir: ../../data/unsd/countryProfiles\n"
     ]
    }
   ],
   "source": [
    "release = '2019.Q1.G.03' # Make sure to have the correct release here\n",
    "\n",
    "dir_path = os.path.dirname(os.path.realpath('__file__'))\n",
    "print(dir_path)\n",
    "\n",
    "wd_dir = r'../../data/unsd/countryProfiles'\n",
    "print('data inputs dir: ' + wd_dir)"
   ]
  },
  {
   "cell_type": "markdown",
   "metadata": {},
   "source": [
    "## Utilities"
   ]
  },
  {
   "cell_type": "markdown",
   "metadata": {},
   "source": [
    "#### Coefficient of variation"
   ]
  },
  {
   "cell_type": "code",
   "execution_count": 5,
   "metadata": {},
   "outputs": [],
   "source": [
    "cv =  lambda x: np.std(x) / np.mean(x)"
   ]
  },
  {
   "cell_type": "markdown",
   "metadata": {},
   "source": [
    "#### Is quasi constant?"
   ]
  },
  {
   "cell_type": "code",
   "execution_count": 32,
   "metadata": {},
   "outputs": [],
   "source": [
    "def is_quasiConstant(x, cv_threshold):\n",
    "    if len(x) == 1:\n",
    "        return True\n",
    "    elif all(x_i == x[0] for x_i in x):\n",
    "        return True\n",
    "    elif all(x_i > 0 for x_i in x) and cv(x) < cv_threshold:\n",
    "        return True\n",
    "    else:\n",
    "        return False\n",
    "        "
   ]
  },
  {
   "cell_type": "markdown",
   "metadata": {},
   "source": [
    "#### Commercial rounding"
   ]
  },
  {
   "cell_type": "code",
   "execution_count": 7,
   "metadata": {},
   "outputs": [
    {
     "name": "stdout",
     "output_type": "stream",
     "text": [
      "3.51\n",
      "4.0\n"
     ]
    }
   ],
   "source": [
    "def round_KFM(x, n):\n",
    "    posneg = math.copysign(1, x)\n",
    "    z = abs(x)*10**n\n",
    "    z = z + 0.5\n",
    "    z = math.trunc(z)\n",
    "    z = z/10**n\n",
    "    result = z * posneg\n",
    "    return result\n",
    "    \n",
    "print(round_KFM(3.5123,2))\n",
    "print(round_KFM(4.0,1))"
   ]
  },
  {
   "cell_type": "markdown",
   "metadata": {},
   "source": [
    "#### Regular expression to capture numeric values (including those in scientific notation)\n",
    "The regex is\n",
    "\n",
    "```\n",
    "-?      # an optional -\n",
    "\\d+     # a series of digits\n",
    "(?:     # start non capturing group\n",
    "  \\.    # a dot\n",
    "  \\d+   # a series of digits\n",
    ")?      \n",
    "(?:     # start non capturing group\n",
    "  e     # \"e\"\n",
    "  -?    # an optional -\n",
    "  \\d+   # digits\n",
    ")?\n",
    "```\n"
   ]
  },
  {
   "cell_type": "code",
   "execution_count": 8,
   "metadata": {},
   "outputs": [],
   "source": [
    "def numeric_part(v):\n",
    "    numeric_part_f = re.compile(r'-?\\d+(?:\\.\\d+)?(?:e-?\\d+)?')\n",
    "    x = numeric_part_f.findall(v)\n",
    "    if len(x) > 0:\n",
    "        return float(x[0])\n",
    "    else:\n",
    "        return None\n"
   ]
  },
  {
   "cell_type": "code",
   "execution_count": 9,
   "metadata": {},
   "outputs": [
    {
     "name": "stdout",
     "output_type": "stream",
     "text": [
      "4.0\n",
      "None\n",
      "-2320.0\n",
      "-2320.0\n",
      "0.01\n"
     ]
    }
   ],
   "source": [
    "print(numeric_part('<4'))\n",
    "print(numeric_part('abs'))\n",
    "print(numeric_part('-23.2e2'))\n",
    "print(numeric_part('-23.2e2 or more'))\n",
    "\n",
    "print(numeric_part('0.01'))"
   ]
  },
  {
   "cell_type": "markdown",
   "metadata": {},
   "source": [
    "#### Compute a hash of a dictionary"
   ]
  },
  {
   "cell_type": "code",
   "execution_count": 10,
   "metadata": {},
   "outputs": [],
   "source": [
    "def dict_hash(d):\n",
    "    out = hashlib.md5()\n",
    "    for key, value in d.items():\n",
    "        out.update(key.encode('utf-8'))\n",
    "        out.update(value.encode('utf-8'))\n",
    "    return out.hexdigest()\n"
   ]
  },
  {
   "cell_type": "markdown",
   "metadata": {},
   "source": [
    "#### Get unique dictionaries in a list"
   ]
  },
  {
   "cell_type": "code",
   "execution_count": 11,
   "metadata": {},
   "outputs": [],
   "source": [
    "def unique_dicts(dictionary_list):\n",
    "\n",
    "    uniques_map = {}\n",
    "\n",
    "    for d in dictionary_list:\n",
    "        uniques_map[dict_hash(d)] = d\n",
    "\n",
    "    return list(uniques_map.values())\n"
   ]
  },
  {
   "cell_type": "markdown",
   "metadata": {},
   "source": [
    "#### Extract subset of key-value pairs from Python dictionary object"
   ]
  },
  {
   "cell_type": "code",
   "execution_count": 12,
   "metadata": {},
   "outputs": [],
   "source": [
    "def subdict_list(dict_list, keys_list, exclude = False):\n",
    "    sub_d_list = []\n",
    "    if exclude:\n",
    "        for d in dict_list:\n",
    "            sub_d= {k: d[k] for k in d.keys() if k not in keys_list}\n",
    "            sub_d_list.append(sub_d)\n",
    "    else:\n",
    "        for d in dict_list:\n",
    "            sub_d= {k: d[k] for k in keys_list}\n",
    "            sub_d_list.append(sub_d)\n",
    "    \n",
    "    return sub_d_list\n",
    "\n",
    "\n"
   ]
  },
  {
   "cell_type": "markdown",
   "metadata": {},
   "source": [
    "#### Get a dict from a list based on something inside the dict"
   ]
  },
  {
   "cell_type": "code",
   "execution_count": 13,
   "metadata": {},
   "outputs": [],
   "source": [
    "def select_dict(dict_list, k, v):\n",
    "    selected = []\n",
    "    for d in dict_list:\n",
    "        if d[k] == v:\n",
    "            selected.append(d)\n",
    "    return selected"
   ]
  },
  {
   "cell_type": "markdown",
   "metadata": {},
   "source": [
    "### Read fact-builder conditions"
   ]
  },
  {
   "cell_type": "code",
   "execution_count": 14,
   "metadata": {},
   "outputs": [
    {
     "name": "stdout",
     "output_type": "stream",
     "text": [
      "{'countryProfile': '1', 'goal': '1', 'target': '1.2', 'indicator': '1.2.1', 'seriesCode': 'SI_POV_NAHC', 'dashboardId': '62f44e7da0864b1eb6f9d4bb5f9d2f54', 'seriesDesc': 'Proportion of population living below the national poverty line (%)', 'sliceDesc': 'Proportion of population living below the national poverty line (percent)', 'ageCode': '', 'locationCode': '_T', 'sexCode': '', 'boundsCode': '', 'educationLevelCode': '', 'typeOfProductCode': '', 'typeOfMobileTechnologyCode': '', 'typeOfSpeedCode': '', 'zero.removal': '1', 'Text.type': '1', 'unit1': '%', 'unit2': '', 'DA2.1': 'The proportion of population living below the national poverty line was approximately', 'DA2.2': '', 'DA3.1': 'The proportion of population living below the national poverty line', 'DA3.2': '', 'Down': ' declined from ', 'Up': ' increased from ', 'Threshold': ''}\n"
     ]
    }
   ],
   "source": [
    "fact_builder = []\n",
    "with open(wd_dir + r'/input/CountryProfileBuilder_new.csv', newline = '') as countryProfileBuilder:                                                                                          \n",
    "    country_profile_builder = csv.DictReader(countryProfileBuilder, delimiter=',')\n",
    "    for row in country_profile_builder:\n",
    "        fact_builder.append(dict(row))\n",
    "        \n",
    "print(fact_builder[1])\n",
    "\n",
    "#fact_builder\n"
   ]
  },
  {
   "cell_type": "markdown",
   "metadata": {},
   "source": [
    "### Create list of countries"
   ]
  },
  {
   "cell_type": "code",
   "execution_count": 15,
   "metadata": {},
   "outputs": [
    {
     "name": "stdout",
     "output_type": "stream",
     "text": [
      "{'X': '20.06660928', 'Y': '41.13897007', 'ISO3': 'ALB', 'M49': '8', 'areaName': 'Albania', 'UN_Member': '1', 'Country_Profile': '1'}\n",
      "Total number or countries:  248\n"
     ]
    }
   ],
   "source": [
    "countryArray = []\n",
    "with open(r'..\\..\\globalResources\\refAreas.txt', newline = '') as countryListXY:                                                                                          \n",
    "    countryListXY = csv.DictReader(countryListXY, delimiter='\\t')\n",
    "    for row in countryListXY:\n",
    "        countryArray.append(dict(row))\n",
    "        \n",
    "print(countryArray[1])\n",
    "\n",
    "    \n",
    "print(\"Total number or countries: \", len(countryArray))"
   ]
  },
  {
   "cell_type": "markdown",
   "metadata": {},
   "source": [
    "### Get the list of goals, targets, indicators and series"
   ]
  },
  {
   "cell_type": "code",
   "execution_count": 16,
   "metadata": {},
   "outputs": [],
   "source": [
    "with open(r'..\\..\\globalResources\\metadata.json') as json_file:  \n",
    "    metadata = json.load(json_file)"
   ]
  },
  {
   "cell_type": "markdown",
   "metadata": {},
   "source": [
    "### Get catalogue of UNSD items on SDG open data groups"
   ]
  },
  {
   "cell_type": "code",
   "execution_count": 17,
   "metadata": {},
   "outputs": [
    {
     "data": {
      "text/plain": [
       "{'seriesCode': 'SI_POV_EMP1',\n",
       " 'seriesName': 'Employed population below international poverty line  by sex and age (%)',\n",
       " 'release': '2019.Q1.G.03',\n",
       " 'id': 'e8e11539dd9a4293b502b076d041133d',\n",
       " 'owner': 'unstats_admin',\n",
       " 'created': 1560397341000,\n",
       " 'modified': 1560542265180,\n",
       " 'title': 'Indicator 1.1.1: Employed population below international poverty line, by sex and age (percent)',\n",
       " 'type': 'Feature Service',\n",
       " 'tags': ['poverty line',\n",
       "  'poverty',\n",
       "  'standard of living',\n",
       "  'basic needs',\n",
       "  'decent work',\n",
       "  '2019.Q1.G.03'],\n",
       " 'url': 'https://services7.arcgis.com/gp50Ao2knMlOM89z/arcgis/rest/services/SI_POV_EMP1_1_1_1_2019Q1G03/FeatureServer'}"
      ]
     },
     "execution_count": 17,
     "metadata": {},
     "output_type": "execute_result"
    }
   ],
   "source": [
    "with open(r'..\\..\\data\\unsd\\unsd_catalogue.json') as json_file:  \n",
    "    hub_catalogue = json.load(json_file)\n",
    "    \n",
    "hub_catalogue[0]['series'][0]"
   ]
  },
  {
   "cell_type": "markdown",
   "metadata": {},
   "source": [
    "### Read dashboard id's"
   ]
  },
  {
   "cell_type": "code",
   "execution_count": 14,
   "metadata": {},
   "outputs": [
    {
     "name": "stdout",
     "output_type": "stream",
     "text": [
      "{'countryProfile': '1', 'goal': '1', 'target': '1.2', 'indicator': '1.2.1', 'seriesCode': 'SI_POV_NAHC', 'dashboardId': '62f44e7da0864b1eb6f9d4bb5f9d2f54', 'seriesDesc': 'Proportion of population living below the national poverty line (%)', 'sliceDesc': 'Proportion of population living below the national poverty line (percent)', 'ageCode': '', 'locationCode': '_T', 'sexCode': '', 'boundsCode': '', 'educationLevelCode': '', 'typeOfProductCode': '', 'typeOfMobileTechnologyCode': '', 'typeOfSpeedCode': '', 'zero.removal': '1', 'Text.type': '1', 'unit1': '%', 'unit2': '', 'DA2.1': 'The proportion of population living below the national poverty line was approximately', 'DA2.2': '', 'DA3.1': 'The proportion of population living below the national poverty line', 'DA3.2': '', 'Down': ' declined from ', 'Up': ' increased from ', 'Threshold': ''}\n"
     ]
    }
   ],
   "source": [
    "dashboard_catalogue = []\n",
    "with open(r'../../data/unsd/dashboards/output/outputlog.csv', newline = '') as dashboard_ids:                                                                                          \n",
    "    dashboard_ids = csv.DictReader(dashboard_ids, delimiter=',')\n",
    "    for row in dashboard_ids:\n",
    "        dashboard_catalogue.append(dict(row))\n",
    "        \n",
    "print(dashboard_catalogue[1])\n",
    "\n",
    "#fact_builder\n"
   ]
  },
  {
   "cell_type": "markdown",
   "metadata": {},
   "source": [
    "## Create country profiles"
   ]
  },
  {
   "cell_type": "code",
   "execution_count": 18,
   "metadata": {},
   "outputs": [
    {
     "data": {
      "text/plain": [
       "{'X': '66.02688198',\n",
       " 'Y': '33.83160199',\n",
       " 'ISO3': 'AFG',\n",
       " 'M49': '4',\n",
       " 'areaName': 'Afghanistan',\n",
       " 'UN_Member': '1',\n",
       " 'Country_Profile': '1'}"
      ]
     },
     "execution_count": 18,
     "metadata": {},
     "output_type": "execute_result"
    }
   ],
   "source": [
    "countryArray[0].keys()\n",
    "countryArray[0]"
   ]
  },
  {
   "cell_type": "markdown",
   "metadata": {},
   "source": [
    "## Build fact text"
   ]
  },
  {
   "cell_type": "code",
   "execution_count": 19,
   "metadata": {},
   "outputs": [],
   "source": [
    "def build_fact(text_type, conditions, da2_1, da2_2, da3_1, unit_1, unit_2, value_y_min, y_min, value_y_max, y_max, prog, prog_10, prog_12, prog_15, prog_mmr_max):\n",
    "    \n",
    "    fact_text = ''\n",
    "    fact_values = []\n",
    "    fact_units = []\n",
    "    fact_years = []\n",
    "    \n",
    "    if text_type =='1':\n",
    "        if conditions:\n",
    "            fact_text = da3_1 + prog + \"<span class='fact-value'>\" + str(value_y_min) + \"</span>  <span class='fact-unit'>\" + unit_1  + \"</span>  in  <span class='fact-year'>\" + str(y_min) + \"</span> to <span class='fact-value'>\" + str(value_y_max) + unit_1 + \"</span> in <span class='fact-year'>\" + str(y_max)  + \"</span>.\"\n",
    "            fact_values = [ str(value_y_min), str(value_y_max)]\n",
    "            fact_units =  [ unit_1, unit_1]\n",
    "            fact_years =  [ str(y_min), str(y_max)]\n",
    "        else:\n",
    "            fact_text = da2_1 +  \"<span class='fact-value'>\" + str(value_y_max) + \"</span> <span class='fact-unit'>\" + unit_1 + \"</span> in <span class='fact-year'>\" + str(y_max)  + \"</span>.\"\n",
    "            fact_values = [ str(value_y_max)]\n",
    "            fact_units = [ unit_1]\n",
    "            fact_years =  [ str(y_max)]\n",
    "\n",
    "    elif text_type == '2':\n",
    "        fact_text = \"In <span class='fact-year'>\" + str(y_max)  + \"</span>, <span class='fact-value'>\" + str(value_y_max) + \"</span> <span class='fact-unit'>\" + unit_1 + \"</span> \" + da2_1\n",
    "        fact_values = [ str(value_y_max)]\n",
    "        fact_units = [ unit_1]\n",
    "        fact_years =  [ str(y_max)]\n",
    "\n",
    "    elif text_type == '3':\n",
    "        fact_text = \"In <span class='fact-year'> \" + str(y_max) +  \"</span>, \" + da2_1 + \"<span class='fact-value'> \" + str(value_y_max) + \"</span> <span class='fact-unit'>\" + unit_1 + \"</span> \" + da2_2\n",
    "        fact_values = [ str(value_y_max)]\n",
    "        fact_units = [ unit_1]\n",
    "        fact_years =  [ str(y_max)]\n",
    "\n",
    "    elif text_type == '4':\n",
    "        fact_text = da2_1+  \"<span class='fact-value'>\"  + str(value_y_max) +  \"</span> in <span class='fact-year'> \" + str(y_max) +  \"</span> \" + \", meaning \"  + str(float(value_y_max) * 100) +  da2_2 + \".\" \n",
    "        fact_values = [ str(value_y_max)]\n",
    "        fact_units = [ unit_1]\n",
    "        fact_years =  [ str(y_max)]\n",
    "\n",
    "    elif text_type == '7':\n",
    "        fact_text = da2_1 +  \"<span class='fact-value'> \" + str(value_y_max) +  \"</span> <span class='fact-unit'>\" + unit_1 +  \"</span> \"  + \" in \"+  \"<span class='fact-year'> \"  + str(y_max)+  \"</span> \"  + \".\"\n",
    "        fact_values = [ str(value_y_max)]\n",
    "        fact_units = [ unit_1]\n",
    "        fact_years =  [ str(y_max)]\n",
    "\n",
    "    elif text_type == '8':\n",
    "        fact_text = \"In \"+  \"<span class='fact-year'> \"  + str(y_max)+  \"</span>, <span class='fact-value'> \" + str(value_y_max)+  \"</span> \"  + \" <span class='fact-unit'>\" + unit_1 +  \"</span> \"+ da2_1 + \".\"\n",
    "        fact_values = [ str(value_y_max)]\n",
    "        fact_units = [ unit_1]\n",
    "        fact_years =  [ str(y_max)]\n",
    "\n",
    "    elif text_type == '9':\n",
    "        if conditions:\n",
    "            fact_text = \"In \"+  \"<span class='fact-year'> \" + str(y_max) +  \"</span>, \" + da2_1 +  \"<span class='fact-value'> \"+ str(value_y_max) +  \"</span> \" + \" <span class='fact-unit'>\" + unit_1+  \"</span>, \" + prog +  \"<span class='fact-value'> \"+ str(value_y_min) +  \"</span> <span class='fact-unit'>\" + unit_2 + \"</span> in <span class='fact-year'> \" + str(y_min) +  \"</span> \"\n",
    "            fact_values = [ str(value_y_min), str(value_y_max)]\n",
    "            fact_units = [unit_1, unit_1]\n",
    "            fact_years =  [ str(y_min), str(y_max)]\n",
    "        else:\n",
    "            fact_text = \"In \"+  \"<span class='fact-year'> \" + str(y_max)+  \"</span>, \" + da2_1 +  \"<span class='fact-value'> \"+ str(value_y_max) +  \"</span> \"  + \" <span class='fact-unit'>\" + unit_1+  \"</span>.\"\n",
    "            fact_values = [ str(value_y_max)]\n",
    "            fact_units = [ unit_1]\n",
    "            fact_years =  [ str(y_max)]\n",
    "\n",
    "    elif text_type == '10':\n",
    "        fact_text =  \"In \" +  \"<span class='fact-year'> \"+ str(y_max) +  \"</span>, \" +  da2_1 +  \"<span class='fact-value'> \"+ str(value_y_max) +  \"</span> \"  + \" <span class='fact-unit'>\" + unit_1 +  \"</span>. \" + prog_10 \n",
    "        fact_values = [ str(value_y_max)]\n",
    "        fact_units = [ unit_1]\n",
    "        fact_years =  [ str(y_max)]\n",
    "\n",
    "    elif text_type == '11':\n",
    "        fact_text = \"In \"+  \"<span class='fact-year'> \" + str(y_max)+  \"</span>, \" +  da2_1 +  \"<span class='fact-value'> \" + str(value_y_max) +  \"</span> \"  + \" <span class='fact-unit'>\" + unit_1 +  \"</span>. \"\n",
    "        fact_values = [ str(value_y_max)]\n",
    "        fact_units = [ unit_1]\n",
    "        fact_years =  [ str(y_max)]\n",
    "\n",
    "    elif text_type == '12':\n",
    "        fact_text = \"As of \" +  \"<span class='fact-year'> \"+ str(y_max) +  \"</span>, \" + country_name + prog_12 + \".\"\n",
    "        fact_values = [ str(value_y_max)]\n",
    "        fact_units = [ unit_1]\n",
    "        fact_years =  [ str(y_max)]\n",
    "\n",
    "    elif text_type == '13':\n",
    "        fact_text =  \"In \" +  \"<span class='fact-year'> \"+ str(y_max)+  \"</span>, \" +  da2_1 +  \"<span class='fact-value'> \" + str(value_y_max) +  \"</span> \" + \" <span class='fact-unit'>\" + unit_1 +  \"</span> \"+ da2_2 + \".\"\n",
    "        fact_values = [ str(value_y_max)]\n",
    "        fact_units = [ unit_1]\n",
    "        fact_years =  [ str(y_max)]\n",
    "\n",
    "    elif text_type == '14':\n",
    "        if conditions:\n",
    "            fact_text = da3_1 + prog + \"<span class='fact-value'>\" + str(value_y_min) +  \"</span> <span class='fact-unit'>\" + unit_1 +  \"</span> in <span class='fact-year'> \"+ str(y_min)+  \"</span> to <span class='fact-value'> \" + str(value_y_max) +  \"</span> <span class='fact-unit'>\"  + unit_1 +  \"</span> in <span class='fact-year'> \" + str(y_max)+  \"</span>.\"\n",
    "            fact_values = [ str(value_y_min), str(value_y_max)]\n",
    "            fact_units = [ unit_1, unit_1]\n",
    "            fact_years =  [ str(y_min), str(y_max)]\n",
    "        else:\n",
    "            fact_text = da2_1 +  \"<span class='fact-value'> \"+ str(value_y_max)+  \"</span> <span class='fact-unit'>\" + prog_mmr_max + unit_1  +  \"</span> in <span class='fact-year'> \" + str(y_max) +  \"</span>.\"\n",
    "            fact_values = [ str(value_y_max) + prog_mmr_max]\n",
    "            fact_units = [ unit_1]\n",
    "            fact_years =  [ str(y_max)]\n",
    "\n",
    "    elif text_type == '15':\n",
    "        if conditions:\n",
    "            fact_text =  \"In \"+  \"<span class='fact-year'> \" + str(y_max) +  \"</span> , \" +  da2_1 +  \"<span class='fact-value'> \"+ str(value_y_max) +  \"</span> <span class='fact-unit'>\" + unit_1 + \"</span>,\" + prog + prog_15 + \" in <span class='fact-year'> \" + str(y_min) +  \"</span>.\"\n",
    "            fact_values = [ str(value_y_min), str(value_y_max)]\n",
    "            fact_units = [ unit_1, unit_1]\n",
    "            fact_years =  [ str(y_min), str(y_max)]\n",
    "        else:\n",
    "            fact_text =  \"In \"+  \"<span class='fact-year'> \" + str(y_max)+  \"</span> , \" +  da2_1 +  \"<span class='fact-value'> \"+ str(value_y_max)+  \"</span> <span class='fact-unit'>\" + unit_1 + \"</span>.\"\n",
    "            fact_values = [ str(value_y_max)]\n",
    "            fact_units = [ unit_1]\n",
    "            fact_years =  [ str(y_max)]\n",
    "    \n",
    "    return {'fact_text': fact_text,\n",
    "            'fact_values': fact_values,\n",
    "            'fact_units': fact_units,\n",
    "            'fact_years': fact_years\n",
    "           }\n"
   ]
  },
  {
   "cell_type": "markdown",
   "metadata": {},
   "source": [
    "## Information about status of progress: decline/increase?"
   ]
  },
  {
   "cell_type": "code",
   "execution_count": 20,
   "metadata": {},
   "outputs": [],
   "source": [
    "def prog_info (value_y_min_num, value_y_max_num, down, up, unit_1):\n",
    "    \n",
    "    prog = None\n",
    "    prog_10 = None\n",
    "    prog_12 = None\n",
    "    prog_15 = None\n",
    "    prog_mmr_min = None\n",
    "    prog_mmr_max = None\n",
    "    \n",
    "    #-----------------------------------------\n",
    "    if value_y_min_num and value_y_max_num:\n",
    "        if (value_y_min_num > value_y_max_num):\n",
    "            prog = down\n",
    "            # Example: \"declined from\", \"down from\"\n",
    "        elif (value_y_min_num < value_y_max_num):\n",
    "            prog = up\n",
    "            # Example: \"increased from\", \"up from\"\n",
    "        else: prog = \"\"\n",
    "    else:\n",
    "        prog = \"\"\n",
    "\n",
    "    #print(prog)\n",
    "\n",
    "    #--------\n",
    "    # prog.15\n",
    "    #--------\n",
    "    if value_y_min_num < 0.01:\n",
    "         prog_15 = \"nearly no coverage\"\n",
    "    else:\n",
    "        prog_15 = str(value_y_min_num) + unit_1\n",
    "\n",
    "    #--------\n",
    "    # prog.10\n",
    "    #--------\n",
    "    if value_y_max_num:\n",
    "        if value_y_max_num < 10:\n",
    "            prog_10 = down\n",
    "        else:\n",
    "            prog_10 = up\n",
    "    else:\n",
    "        prog_10 = ''\n",
    "\n",
    "    #--------\n",
    "    # prog.12\n",
    "    #--------\n",
    "    \n",
    "    if value_y_max_num is not None:\n",
    "        if value_y_max_num > 0:\n",
    "            prog_12 = up \n",
    "        else:\n",
    "            prog_12 = down\n",
    "    else:\n",
    "        prog_12 = ''\n",
    "\n",
    "\n",
    "    #-------------\n",
    "    # prog_mmr_min\n",
    "    #-------------\n",
    "    if value_y_min_num:\n",
    "        if value_y_min_num > 1: \n",
    "            prog_mmr_min = \"deaths\"\n",
    "        else:\n",
    "            prog_mmr_min = \"death\"\n",
    "    else:\n",
    "        prog_mmr_min = \"\"\n",
    "    \n",
    "    #-------------\n",
    "    # prog_mmr_max\n",
    "    #-------------\n",
    "    \n",
    "    if value_y_max_num:\n",
    "        if value_y_max_num > 1: \n",
    "            prog_mmr_max = \"deaths\" \n",
    "        else:\n",
    "            prog_mmr_max = \"death\"\n",
    "    else:\n",
    "        prog_mmr_max = \"\"\n",
    "\n",
    "    #print(\"min = \",value_y_min_num)\n",
    "    #print(\"max = \",value_y_max_num)\n",
    "    #print(\"prog = \",prog)\n",
    "    #print(prog_15)\n",
    "    #print(prog_10)\n",
    "    #display(print(prog_12))\n",
    "    #print(prog_mmr_min)\n",
    "    #print(prog_mmr_max)\n",
    "    \n",
    "    return {'prog' : prog,\n",
    "            'prog_10' : prog_10,\n",
    "            'prog_12' : prog_12,\n",
    "            'prog_15' : prog_15,\n",
    "            'prog_mmr_min' : prog_mmr_min,\n",
    "            'prog_mmr_max' : prog_mmr_max\n",
    "           }\n"
   ]
  },
  {
   "cell_type": "code",
   "execution_count": 37,
   "metadata": {},
   "outputs": [
    {
     "name": "stdout",
     "output_type": "stream",
     "text": [
      "Building country profile for  Albania  - ( 1 )\n"
     ]
    }
   ],
   "source": [
    "count_country = 0\n",
    "\n",
    "for this_country in countryArray:\n",
    "    if this_country['M49'] != '8':\n",
    "        continue\n",
    "    \n",
    "    if this_country['Country_Profile'] != '1':\n",
    "        continue\n",
    "   \n",
    "    count_country += 1\n",
    "    \n",
    "    country_profile = {}\n",
    "    country_profile['release'] = release \n",
    "\n",
    "    country_code = str(this_country['M49'])\n",
    "    country_name = this_country['areaName']\n",
    "    \n",
    "    country_profile['country_code'] = country_code\n",
    "    country_profile['country_name'] = country_name\n",
    "    country_profile['X'] = this_country['X']\n",
    "    country_profile['Y'] = this_country['Y']\n",
    "    country_profile['ISO3'] = this_country['ISO3']\n",
    "    country_profile['UNMember'] = this_country['UN_Member']\n",
    "    country_profile['CountryProfile'] = this_country['Country_Profile']\n",
    "    \n",
    "    print(\"Building country profile for \", country_name, \" - (\", count_country, \")\")\n",
    "    \n",
    "    count_fact = 0\n",
    "    \n",
    "    goals = []\n",
    "    \n",
    "    for g in metadata:\n",
    "        #print(\"- in goal \" + g['code'])\n",
    "        \n",
    "        goal = {}\n",
    "        \n",
    "        goal['goalCode'] = g['code']\n",
    "            \n",
    "        targets = []\n",
    "    \n",
    "        for t in g['targets']:\n",
    "            #if t['code'] 1= '2.2':\n",
    "            #    continue\n",
    "            #print(\"- - in target \" + t['code'])\n",
    "            \n",
    "            target = {}\n",
    "                \n",
    "            target['targetCode'] = t['code']\n",
    "\n",
    "            indicators = []\n",
    "                \n",
    "            for i in t['indicators']:\n",
    "                #print(\"- - - in indicator \" + i['reference'])\n",
    "                \n",
    "                 \n",
    "                #if i['reference'] != '2.2.2':\n",
    "                #    continue\n",
    "\n",
    "                \n",
    "                indicator = {}\n",
    "                indicator['indicatorCode'] = i['reference']\n",
    "                indicator['facts'] = []\n",
    "                \n",
    "                facts = []\n",
    "                \n",
    "                if 'series' in i.keys():\n",
    "                    for s in i['series']:\n",
    "                        \n",
    "                        #print(\"- - - - in series \" + s['code'])\n",
    "                        \n",
    "                        if s['release'] == release:\n",
    "                            \n",
    "                            #if s['code'] != 'SG_STT_NSDSFND':\n",
    "                            #    continue\n",
    "                            \n",
    "                            \n",
    "                            for this_fact in fact_builder:\n",
    "                                \n",
    "                                \n",
    "                                \n",
    "                                if this_fact['countryProfile'] != '1' or this_fact['seriesCode'] != s['code']:\n",
    "                                    continue\n",
    "                                #print(\"- - - - - in fact \" + this_fact['seriesCode'])\n",
    "                                \n",
    "                                count_fact += 1\n",
    "                                \n",
    "                                seriesCode = s['code']\n",
    "                                seriesTitle = this_fact['sliceDesc']\n",
    "                                \n",
    "                                for h in hub_catalogue:\n",
    "                                    if h['goal'] != int(this_fact['goal']):\n",
    "                                        continue\n",
    "\n",
    "                                    for hs in h['series']:\n",
    "\n",
    "                                        if hs['seriesCode'] != this_fact['seriesCode']:\n",
    "                                            continue\n",
    "\n",
    "                                        hub = hs['id']\n",
    "                                        \n",
    "                                #-----------------------------------------------------------\n",
    "                                # Select dimensions values that are applicable for this fact\n",
    "                                #-----------------------------------------------------------\n",
    "\n",
    "                                slice_dimensions = {d: this_fact[d] for d in this_fact.keys() &\n",
    "                                                    {'ageCode', \n",
    "                                                     'locationCode', \n",
    "                                                     'sexCode', \n",
    "                                                     'boundsCode', \n",
    "                                                     'educationLevelCode', \n",
    "                                                     'typeOfProductCode', \n",
    "                                                     'typeOfMobileTechnologyCode', \n",
    "                                                     'typeOfSpeedCode'}}\n",
    "\n",
    "                                slice_dimensions = dict((k, v) for k, v in slice_dimensions.items() if v != '')\n",
    "\n",
    "                                \n",
    "                                #-----------------------------------------------------------\n",
    "                                # Colect data for this fact\n",
    "                                #-----------------------------------------------------------\n",
    "\n",
    "                                ##--- Read data for this series---#\n",
    "\n",
    "                                filename = 'Indicator_' + this_fact['indicator'] + '_Series_' + this_fact['seriesCode'] + '.json'\n",
    "                                with open(r'../../data/unsd/' + release + '/' + filename) as json_file:  \n",
    "                                    data = json.load(json_file)\n",
    "\n",
    "\n",
    "                                ##--- Filter data for this_country['M49'] ---#\n",
    "\n",
    "                                data = select_dict(data['refAreas'], 'geoAreaCode', str(this_country['M49']).zfill(3))\n",
    "\n",
    "                                data = data[0]['data']\n",
    "                                \n",
    "                                if len(slice_dimensions)>0:\n",
    "                                    for k,v in slice_dimensions.items():\n",
    "                                        data = select_dict(data, k, v)\n",
    "\n",
    "                                #----------------------------------------------------------------\n",
    "                                # Main fact calculation \n",
    "                                #----------------------------------------------------------------\n",
    "\n",
    "                                values = []\n",
    "                                years = []\n",
    "                                values_is_censored = []\n",
    "                                values_numeric_part = []\n",
    "\n",
    "                                n = None      # number of observations available\n",
    "                                y_min = None    # first year available\n",
    "                                y_max = None    # most recent year available\n",
    "\n",
    "                                value_y_min = None   # data value in the first year available\n",
    "                                value_y_max = None   # data value in the most recent year available\n",
    "\n",
    "                                value_y_min_num = None   # data value in the first year available\n",
    "                                value_y_max_num = None   # data value in the most recent year available\n",
    "\n",
    "\n",
    "                                value_median = None\n",
    "                                dif_first_last = None\n",
    "                                value_y_max_is_censored = None\n",
    "\n",
    "                                prog = \"\"\n",
    "                                prog_10 = \"\"\n",
    "                                prog_12 = \"\"\n",
    "                                prog_15 = \"\"\n",
    "                                prog_mmr_min = \"\"\n",
    "                                prog_mmr_max = \"\"\n",
    "\n",
    "                                fact_text = \"\"\n",
    "\n",
    "                                if len(data) > 0:\n",
    "\n",
    "                                    for d in data:\n",
    "                                        if d['value_detail'] not in ['NA', 'N', 'NULL']:\n",
    "                                            values.append(d['value_detail'])\n",
    "                                            years.append(d['timePeriod'])\n",
    "                                            values_is_censored.append(d['value_is_censored'])\n",
    "                                            values_numeric_part.append(numeric_part(d['value_detail']))\n",
    "                                        \n",
    "                                 \n",
    "                                    for i in range(len(values)):\n",
    "                                        values[i] = values[i].replace(\"<\", \"less than \")\n",
    "                                        values[i] = values[i].replace(\">\", \"more than \")\n",
    "                                    \n",
    "                                    for i in range(len(values)):\n",
    "                                        \n",
    "                                        decimal_pos = values[i].find('.')\n",
    "                                        \n",
    "                                        if decimal_pos == -1 and values_numeric_part[i] is not None:\n",
    "                                            values_numeric_part[i] = int(values_numeric_part[i])\n",
    "                                            \n",
    "                                        if decimal_pos > 0:\n",
    "                                            if len(values[i]) - decimal_pos > 2:\n",
    "                                                values_numeric_part[i] = round_KFM(values_numeric_part[i],2)\n",
    "                                                \n",
    "                                    \n",
    "                                    if all(v is None for v in values_numeric_part):\n",
    "                                        continue\n",
    "\n",
    "\n",
    "                                    #----------------------------------------------------------------\n",
    "                                    # Initial auxiliary variables\n",
    "                                    #----------------------------------------------------------------\n",
    "\n",
    "\n",
    "                                    n = len(data)      # number of observations available\n",
    "                                    y_min = min(years)    # first year available\n",
    "                                    y_max = max(years)    # most recent year available\n",
    "\n",
    "                                    value_y_min = values[years.index(min(years))]   # data value in the first year available\n",
    "                                    value_y_max = values[years.index(max(years))]   # data value in the most recent year available\n",
    "                                    \n",
    "                                    \n",
    "                                    value_y_min_num = values_numeric_part[years.index(min(years))]   # data value in the first year available\n",
    "                                    value_y_max_num = values_numeric_part[years.index(max(years))]   # data value in the most recent year available\n",
    "                                   \n",
    "                                    x =  [i for i in values_numeric_part if i is not None]\n",
    "                                    \n",
    "                                    if len(x)>0:\n",
    "                                        value_median = statistics.median(x)\n",
    "                                    else:\n",
    "                                        value_median = None\n",
    "                                    #print(seriesCode)\n",
    "                                    #display(values_numeric_part)\n",
    "                                    #display()\n",
    "                                    #display(x)\n",
    "                                    #print(\"----------\")\n",
    "\n",
    "                                    \n",
    "                                    if(values_numeric_part[years.index(min(years))] is not None and values_numeric_part[years.index(max(years))] is not None):\n",
    "                                        dif_first_last = abs(values_numeric_part[years.index(min(years))] \\\n",
    "                                                             - values_numeric_part[years.index(max(years))])\n",
    "\n",
    "\n",
    "                                    value_y_min_is_censored = values_is_censored[years.index(min(years))]\n",
    "                                    value_y_max_is_censored = values_is_censored[years.index(max(years))]\n",
    "                                    \n",
    "                                    fact_prog = prog_info (value_y_min_num, value_y_max_num, \n",
    "                                                           down = this_fact['Down'], \n",
    "                                                           up = this_fact['Up'], \n",
    "                                                           unit_1 = this_fact['unit1'])\n",
    "\n",
    "                                    #--------------------------------------------------------------------\n",
    "\n",
    "                                    fact_text = \"\"\n",
    "                                    \n",
    "                                    if value_y_max_num and value_median:\n",
    "                                        condition1 = dif_first_last >= 0.05 * abs(value_y_max_num)\n",
    "                                        condition2 = not value_y_max_is_censored\n",
    "                                        condition3 = value_y_max_num >= .25*value_median\n",
    "                                        condition4 = int(y_min) < 2010\n",
    "                                        condition5 = n > 1\n",
    "\n",
    "                                        conditions = condition1 and condition2 and condition3 and condition4 and condition5\n",
    "\n",
    "                                    else:\n",
    "                                        \n",
    "                                        conditions = False\n",
    "                                    \n",
    "                                    if value_y_min_is_censored:\n",
    "                                        fact_value_y_min = value_y_min\n",
    "                                    else:\n",
    "                                        fact_value_y_min = str(value_y_min_num)\n",
    "                                    \n",
    "                                    if value_y_max_is_censored:\n",
    "                                        fact_value_y_max = value_y_max\n",
    "                                    else:\n",
    "                                        fact_value_y_max = str(value_y_max_num)\n",
    "                                    \n",
    "                                    fact_elements = build_fact(text_type = this_fact['Text.type'], \n",
    "                                                               conditions = conditions, \n",
    "                                                               da2_1 = this_fact['DA2.1'], \n",
    "                                                               da2_2 = this_fact['DA2.2'], \n",
    "                                                               da3_1 = this_fact['DA3.1'], \n",
    "                                                               unit_1 = this_fact['unit1'], \n",
    "                                                               unit_2 = this_fact['unit2'], \n",
    "                                                               value_y_min = fact_value_y_min, \n",
    "                                                               y_min = y_min, \n",
    "                                                               value_y_max = fact_value_y_max, \n",
    "                                                               y_max = y_max, \n",
    "                                                               prog = fact_prog['prog'], \n",
    "                                                               prog_10 = fact_prog['prog_10'], \n",
    "                                                               prog_12 = fact_prog['prog_12'], \n",
    "                                                               prog_15 = fact_prog['prog_15'], \n",
    "                                                               prog_mmr_max = fact_prog['prog_mmr_max'])\n",
    "\n",
    "                                    fact = {}\n",
    "                                    fact['seriesCode'] = seriesCode\n",
    "                                    fact['seriesTitle'] = seriesTitle\n",
    "                                    fact['hub'] = hub \n",
    "                                    fact['dashboard'] = this_fact['dashboardId']\n",
    "                                    fact['slice_dimensions'] = slice_dimensions\n",
    "                                    fact['text_type'] = this_fact['Text.type']\n",
    "                                    fact['fact_text'] = fact_elements['fact_text']\n",
    "                                    fact['fact_values'] = fact_elements['fact_values']\n",
    "                                    fact['fact_units'] = fact_elements['fact_units']\n",
    "                                    fact['fact_years'] = fact_elements['fact_years']\n",
    "                                    fact['data_years'] = years\n",
    "                                    fact['data_values'] = values\n",
    "                                    fact['data_is_censored'] = values_is_censored\n",
    "                                    fact['data_numeric_part'] = values_numeric_part\n",
    "\n",
    "                                    if this_fact['Text.type'] == '10':\n",
    "                                        fact['preferred_visualization'] = 'threshold'\n",
    "                                        fact['threshold_value'] = float(this_fact['Threshold'])\n",
    "                                        fact['threshold_units'] = this_fact['unit1']\n",
    "                                    elif this_fact['Text.type'] == '12':\n",
    "                                        fact['preferred_visualization'] = 'boolean'\n",
    "                                    elif is_quasiConstant(values_numeric_part, 0.0001):   \n",
    "                                        #display(values_numeric_part)\n",
    "                                        fact['preferred_visualization'] = 'singleton'\n",
    "                                        #display(\"Quasi constant! - series: \" + seriesCode)\n",
    "                                    elif(len(values)>2):\n",
    "                                        fact['preferred_visualization'] = 'time_series'\n",
    "                                    else:\n",
    "                                        fact['preferred_visualization'] = 'singleton'\n",
    "\n",
    "\n",
    "                                    #=======================  \n",
    "                                    #print('***** apending fact ******')\n",
    "                                    #display(fact)\n",
    "                                    facts.append(fact)\n",
    "\n",
    "                    if len(facts)>0:\n",
    "                        #print('**** apending facts ******')\n",
    "                        #display(facts)\n",
    "                        indicator['facts'] = facts\n",
    "                        indicators.append(indicator)\n",
    "                    #display(indicators)\n",
    "                \n",
    "            target['indicators'] = indicators\n",
    "            #display(target)\n",
    "                \n",
    "            if len(target['indicators'])>0:\n",
    "                #print('*** apending indicators **')\n",
    "                #display(indicators)\n",
    "                targets.append(target)\n",
    "    \n",
    "            #display(targets)\n",
    "    \n",
    "        goal['targets'] = targets\n",
    "        #display(goal)\n",
    "                    \n",
    "        if len(targets)>0:\n",
    "            #print('** apending targets ******')\n",
    "            #display(targets)\n",
    "            goals.append(goal)\n",
    "            #display(goals)\n",
    "    \n",
    "    country_profile['goals'] = goals\n",
    "    #display(goals)\n",
    "               \n",
    "    #=======================\n",
    "\n",
    "    with open(wd_dir + r'/output/country_profile' + str(country_code).zfill(3) + \".json\", 'w') as outfile:\n",
    "        json.dump(country_profile, outfile, indent=4 )    \n",
    "\n",
    "\n",
    "\n",
    "                "
   ]
  },
  {
   "cell_type": "code",
   "execution_count": null,
   "metadata": {},
   "outputs": [],
   "source": []
  },
  {
   "cell_type": "code",
   "execution_count": null,
   "metadata": {},
   "outputs": [],
   "source": []
  },
  {
   "cell_type": "code",
   "execution_count": null,
   "metadata": {},
   "outputs": [],
   "source": []
  },
  {
   "cell_type": "code",
   "execution_count": null,
   "metadata": {},
   "outputs": [],
   "source": []
  },
  {
   "cell_type": "code",
   "execution_count": null,
   "metadata": {},
   "outputs": [],
   "source": []
  }
 ],
 "metadata": {
  "kernelspec": {
   "display_name": "Python 3",
   "language": "python",
   "name": "python3"
  },
  "language_info": {
   "codemirror_mode": {
    "name": "ipython",
    "version": 3
   },
   "file_extension": ".py",
   "mimetype": "text/x-python",
   "name": "python",
   "nbconvert_exporter": "python",
   "pygments_lexer": "ipython3",
   "version": "3.6.8"
  }
 },
 "nbformat": 4,
 "nbformat_minor": 2
}
