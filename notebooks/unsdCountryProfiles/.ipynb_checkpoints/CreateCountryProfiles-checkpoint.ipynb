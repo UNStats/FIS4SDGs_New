{
 "cells": [
  {
   "cell_type": "markdown",
   "metadata": {},
   "source": [
    "# Create country profiles"
   ]
  },
  {
   "cell_type": "code",
   "execution_count": 1,
   "metadata": {},
   "outputs": [],
   "source": [
    "import csv\n",
    "import json\n",
    "import urllib3  # allows to access a URL with python\n",
    "import urllib\n",
    "import re\n",
    "import statistics\n",
    "import math\n",
    "import os"
   ]
  },
  {
   "cell_type": "markdown",
   "metadata": {},
   "source": [
    "### User parameters"
   ]
  },
  {
   "cell_type": "code",
   "execution_count": 2,
   "metadata": {},
   "outputs": [
    {
     "name": "stdout",
     "output_type": "stream",
     "text": [
      "C:\\Users\\L.GonzalezMorales\\Documents\\GitHub\\FIS4SDGs\\notebooks\\unsdCountryProfiles\n",
      "data inputs dir: ../../data/unsd/countryProfiles\n"
     ]
    }
   ],
   "source": [
    "release = '2019.Q1.G.03' # Make sure to have the correct release here\n",
    "\n",
    "dir_path = os.path.dirname(os.path.realpath('__file__'))\n",
    "print(dir_path)\n",
    "\n",
    "wd_dir = r'../../data/unsd/countryProfiles'\n",
    "print('data inputs dir: ' + wd_dir)"
   ]
  },
  {
   "cell_type": "markdown",
   "metadata": {},
   "source": [
    "### Read fact-builder conditions"
   ]
  },
  {
   "cell_type": "code",
   "execution_count": 9,
   "metadata": {},
   "outputs": [
    {
     "name": "stdout",
     "output_type": "stream",
     "text": [
      "{'countryProfile': '1', 'goal': '1', 'target': '1.2', 'indicator': '1.2.1', 'seriesCode': 'SI_POV_NAHC', 'seriesDesc': 'Proportion of population living below the national poverty line (%)', 'sliceDesc': 'Proportion of population living below the national poverty line (percent)', 'ageCode': '', 'locationCode': '_T', 'sexCode': '', 'boundsCode': '', 'educationLevelCode': '', 'typeOfProductCode': '', 'typeOfMobileTechnologyCode': '', 'typeOfSpeedCode': '', 'zero.removal': '1', 'Text.type': '1', 'unit1': '%', 'unit2': '', 'DA2.1': 'The proportion of population living below the national poverty line was approximately', 'DA2.2': '', 'DA3.1': 'The proportion of population living below the national poverty line', 'DA3.2': '', 'Down': ' declined from ', 'Up': ' increased from ', 'Threshold': ''}\n"
     ]
    }
   ],
   "source": [
    "fact_builder = []\n",
    "with open(wd_dir + r'/input/CountryProfileBuilder_new.csv', newline = '') as countryProfileBuilder:                                                                                          \n",
    "    country_profile_builder = csv.DictReader(countryProfileBuilder, delimiter=',')\n",
    "    for row in country_profile_builder:\n",
    "        fact_builder.append(dict(row))\n",
    "        \n",
    "print(fact_builder[1])\n"
   ]
  },
  {
   "cell_type": "markdown",
   "metadata": {},
   "source": [
    "### Create list of countries"
   ]
  },
  {
   "cell_type": "code",
   "execution_count": 15,
   "metadata": {},
   "outputs": [
    {
     "name": "stdout",
     "output_type": "stream",
     "text": [
      "{'X': '20.06660928', 'Y': '41.13897007', 'ISO3': 'ALB', 'M49': '8', 'areaName': 'Albania', 'UN_Member': '1', 'Country_Profile': '1'}\n",
      "Total number or countries:  248\n"
     ]
    }
   ],
   "source": [
    "countryArray = []\n",
    "with open(r'..\\..\\globalResources\\refAreas.txt', newline = '') as countryListXY:                                                                                          \n",
    "    countryListXY = csv.DictReader(countryListXY, delimiter='\\t')\n",
    "    for row in countryListXY:\n",
    "        countryArray.append(dict(row))\n",
    "        \n",
    "print(countryArray[1])\n",
    "\n",
    "    \n",
    "print(\"Total number or countries: \", len(countryArray))"
   ]
  },
  {
   "cell_type": "markdown",
   "metadata": {},
   "source": [
    "### Get the list of goals, targets, indicators and series"
   ]
  },
  {
   "cell_type": "code",
   "execution_count": 16,
   "metadata": {},
   "outputs": [],
   "source": [
    "with open(r'..\\..\\globalResources\\metadata.json') as json_file:  \n",
    "    metadata = json.load(json_file)"
   ]
  },
  {
   "cell_type": "markdown",
   "metadata": {},
   "source": [
    "## Create country profiles"
   ]
  },
  {
   "cell_type": "code",
   "execution_count": 17,
   "metadata": {},
   "outputs": [
    {
     "data": {
      "text/plain": [
       "dict_keys(['X', 'Y', 'ISO3', 'M49', 'areaName', 'UN_Member', 'Country_Profile'])"
      ]
     },
     "execution_count": 17,
     "metadata": {},
     "output_type": "execute_result"
    }
   ],
   "source": [
    "countryArray[0].keys()"
   ]
  },
  {
   "cell_type": "code",
   "execution_count": 25,
   "metadata": {},
   "outputs": [
    {
     "name": "stdout",
     "output_type": "stream",
     "text": [
      "{'release': '2019.Q1.G.03', 'country_code': '8', 'country_name': 'Albania', 'X': '20.06660928', 'Y': '41.13897007', 'ISO3': 'ALB', 'UNMember': '1', 'CountryProfile': '1'}\n"
     ]
    }
   ],
   "source": [
    "count_country = 0\n",
    "\n",
    "for this_country in countryArray:\n",
    "    if this_country['M49'] != '8':\n",
    "        continue\n",
    "    \n",
    "    if this_country['Country_Profile'] != '1':\n",
    "        continue\n",
    "   \n",
    "    count_country += 1\n",
    "    \n",
    "    country_profile = {}\n",
    "    country_profile['release'] = release \n",
    "\n",
    "    country_code = str(this_country['M49'])\n",
    "    country_name = this_country['areaName']\n",
    "    \n",
    "    country_profile['country_code'] = country_code\n",
    "    country_profile['country_name'] = country_name\n",
    "    country_profile['X'] = this_country['X']\n",
    "    country_profile['Y'] = this_country['Y']\n",
    "    country_profile['ISO3'] = this_country['ISO3']\n",
    "    country_profile['UNMember'] = this_country['UN_Member']\n",
    "    country_profile['CountryProfile'] = this_country['Country_Profile']\n",
    "    \n",
    "    print(country_profile)\n",
    "    \n"
   ]
  },
  {
   "cell_type": "code",
   "execution_count": 26,
   "metadata": {},
   "outputs": [
    {
     "data": {
      "text/plain": [
       "{'release': '2019.Q1.G.03',\n",
       " 'country_code': '8',\n",
       " 'country_name': 'Albania',\n",
       " 'X': '20.06660928',\n",
       " 'Y': '41.13897007',\n",
       " 'ISO3': 'ALB',\n",
       " 'UNMember': '1',\n",
       " 'CountryProfile': '1'}"
      ]
     },
     "execution_count": 26,
     "metadata": {},
     "output_type": "execute_result"
    }
   ],
   "source": [
    "country_profile"
   ]
  },
  {
   "cell_type": "code",
   "execution_count": null,
   "metadata": {},
   "outputs": [],
   "source": []
  }
 ],
 "metadata": {
  "kernelspec": {
   "display_name": "Python 3",
   "language": "python",
   "name": "python3"
  },
  "language_info": {
   "codemirror_mode": {
    "name": "ipython",
    "version": 3
   },
   "file_extension": ".py",
   "mimetype": "text/x-python",
   "name": "python",
   "nbconvert_exporter": "python",
   "pygments_lexer": "ipython3",
   "version": "3.6.8"
  }
 },
 "nbformat": 4,
 "nbformat_minor": 2
}
