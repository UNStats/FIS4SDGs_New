{
 "cells": [
  {
   "cell_type": "markdown",
   "metadata": {},
   "source": [
    "# Create SYB country fact builder"
   ]
  },
  {
   "cell_type": "code",
   "execution_count": 1,
   "metadata": {},
   "outputs": [],
   "source": [
    "import csv\n",
    "import json\n",
    "import re\n",
    "import statistics\n",
    "import math\n",
    "import os"
   ]
  },
  {
   "cell_type": "markdown",
   "metadata": {},
   "source": [
    "### User parameters"
   ]
  },
  {
   "cell_type": "code",
   "execution_count": 22,
   "metadata": {},
   "outputs": [
    {
     "name": "stdout",
     "output_type": "stream",
     "text": [
      "C:\\Users\\L.GonzalezMorales\\Documents\\GitHub\\FIS4SDGs\\notebooks\\unsdCountryProfiles\n",
      "data inputs dir: ../../data/unsd/countryProfiles\n"
     ]
    }
   ],
   "source": [
    "dir_path = os.path.dirname(os.path.realpath('__file__'))\n",
    "print(dir_path)\n",
    "\n",
    "wd_dir = r'../../data/unsd/countryProfiles'\n",
    "syb_dir = r'../../data/unsd/UNSYB/output'\n",
    "print('data inputs dir: ' + wd_dir)\n",
    "\n",
    "\n",
    "\n",
    "# https://volderette.de/jupyter-notebook-tip-multiple-outputs/\n",
    "from IPython.core.interactiveshell import InteractiveShell\n",
    "InteractiveShell.ast_node_interactivity = \"all\"\n"
   ]
  },
  {
   "cell_type": "markdown",
   "metadata": {},
   "source": [
    "## Utilities"
   ]
  },
  {
   "cell_type": "markdown",
   "metadata": {},
   "source": [
    "#### Commercial rounding"
   ]
  },
  {
   "cell_type": "code",
   "execution_count": 3,
   "metadata": {},
   "outputs": [
    {
     "name": "stdout",
     "output_type": "stream",
     "text": [
      "3.51\n",
      "4.0\n"
     ]
    }
   ],
   "source": [
    "def round_KFM(x, n):\n",
    "    posneg = math.copysign(1, x)\n",
    "    z = abs(x)*10**n\n",
    "    z = z + 0.5\n",
    "    z = math.trunc(z)\n",
    "    z = z/10**n\n",
    "    result = z * posneg\n",
    "    return result\n",
    "    \n",
    "print(round_KFM(3.5123,2))\n",
    "print(round_KFM(4.0,1))"
   ]
  },
  {
   "cell_type": "markdown",
   "metadata": {},
   "source": [
    "#### Regular expression to capture numeric values (including those in scientific notation)\n",
    "The regex is\n",
    "\n",
    "```\n",
    "-?      # an optional -\n",
    "\\d+     # a series of digits\n",
    "(?:     # start non capturing group\n",
    "  \\.    # a dot\n",
    "  \\d+   # a series of digits\n",
    ")?      \n",
    "(?:     # start non capturing group\n",
    "  e     # \"e\"\n",
    "  -?    # an optional -\n",
    "  \\d+   # digits\n",
    ")?\n",
    "```\n"
   ]
  },
  {
   "cell_type": "code",
   "execution_count": 4,
   "metadata": {},
   "outputs": [],
   "source": [
    "def numeric_part(v):\n",
    "    numeric_part_f = re.compile(r'-?\\d+(?:\\.\\d+)?(?:e-?\\d+)?')\n",
    "    x = numeric_part_f.findall(v)\n",
    "    if len(x) > 0:\n",
    "        return float(x[0])\n",
    "    else:\n",
    "        return None\n"
   ]
  },
  {
   "cell_type": "code",
   "execution_count": 5,
   "metadata": {},
   "outputs": [
    {
     "name": "stdout",
     "output_type": "stream",
     "text": [
      "4.0\n",
      "None\n",
      "-2320.0\n",
      "-2320.0\n",
      "0.01\n"
     ]
    }
   ],
   "source": [
    "print(numeric_part('<4'))\n",
    "print(numeric_part('abs'))\n",
    "print(numeric_part('-23.2e2'))\n",
    "print(numeric_part('-23.2e2 or more'))\n",
    "\n",
    "print(numeric_part('0.01'))"
   ]
  },
  {
   "cell_type": "markdown",
   "metadata": {},
   "source": [
    "#### Compute a hash of a dictionary"
   ]
  },
  {
   "cell_type": "code",
   "execution_count": 6,
   "metadata": {},
   "outputs": [],
   "source": [
    "def dict_hash(d):\n",
    "    out = hashlib.md5()\n",
    "    for key, value in d.items():\n",
    "        out.update(key.encode('utf-8'))\n",
    "        out.update(value.encode('utf-8'))\n",
    "    return out.hexdigest()\n"
   ]
  },
  {
   "cell_type": "markdown",
   "metadata": {},
   "source": [
    "#### Get unique dictionaries in a list"
   ]
  },
  {
   "cell_type": "code",
   "execution_count": 7,
   "metadata": {},
   "outputs": [],
   "source": [
    "def unique_dicts(dictionary_list):\n",
    "\n",
    "    uniques_map = {}\n",
    "\n",
    "    for d in dictionary_list:\n",
    "        uniques_map[dict_hash(d)] = d\n",
    "\n",
    "    return list(uniques_map.values())\n"
   ]
  },
  {
   "cell_type": "markdown",
   "metadata": {},
   "source": [
    "#### Extract subset of key-value pairs from Python dictionary object"
   ]
  },
  {
   "cell_type": "code",
   "execution_count": 8,
   "metadata": {},
   "outputs": [],
   "source": [
    "def subdict_list(dict_list, keys_list, exclude = False):\n",
    "    sub_d_list = []\n",
    "    if exclude:\n",
    "        for d in dict_list:\n",
    "            sub_d= {k: d[k] for k in d.keys() if k not in keys_list}\n",
    "            sub_d_list.append(sub_d)\n",
    "    else:\n",
    "        for d in dict_list:\n",
    "            sub_d= {k: d[k] for k in keys_list}\n",
    "            sub_d_list.append(sub_d)\n",
    "    \n",
    "    return sub_d_list\n",
    "\n",
    "\n"
   ]
  },
  {
   "cell_type": "markdown",
   "metadata": {},
   "source": [
    "#### Get a dict from a list based on something inside the dict"
   ]
  },
  {
   "cell_type": "code",
   "execution_count": 9,
   "metadata": {},
   "outputs": [],
   "source": [
    "def select_dict(dict_list, k, v):\n",
    "    selected = []\n",
    "    for d in dict_list:\n",
    "        if d[k] == v:\n",
    "            selected.append(d)\n",
    "    return selected"
   ]
  },
  {
   "cell_type": "markdown",
   "metadata": {},
   "source": [
    "### Create list of countries"
   ]
  },
  {
   "cell_type": "code",
   "execution_count": 10,
   "metadata": {},
   "outputs": [
    {
     "name": "stdout",
     "output_type": "stream",
     "text": [
      "{'X': '20.06660928', 'Y': '41.13897007', 'ISO3': 'ALB', 'M49': '8', 'areaName': 'Albania', 'UN_Member': '1', 'Country_Profile': '1'}\n",
      "Total number or countries:  248\n"
     ]
    }
   ],
   "source": [
    "countryArray = []\n",
    "with open(r'..\\..\\globalResources\\refAreas.txt', newline = '') as countryListXY:                                                                                          \n",
    "    countryListXY = csv.DictReader(countryListXY, delimiter='\\t')\n",
    "    for row in countryListXY:\n",
    "        countryArray.append(dict(row))\n",
    "        \n",
    "print(countryArray[1])\n",
    "\n",
    "    \n",
    "print(\"Total number or countries: \", len(countryArray))"
   ]
  },
  {
   "cell_type": "code",
   "execution_count": 18,
   "metadata": {},
   "outputs": [
    {
     "data": {
      "text/plain": [
       "{'topicId': 2,\n",
       " 'topicNameEN': 'Population and migration',\n",
       " 'topicNameFR': 'Population et migration',\n",
       " 'tables': [{'tableCode': 'lifecbmort',\n",
       "   'tableId': 8,\n",
       "   'tableName': 'Population growth and indicators of fertility and mortality',\n",
       "   'tableNote': None,\n",
       "   'tableStatusId': 3,\n",
       "   'tbBkCode': 'X03 ',\n",
       "   'tbBkPrint': 'Y',\n",
       "   'series': [{'newSeriesName': 'Infant mortality ratio',\n",
       "     'units': 'Number of deaths per 1,000 live births',\n",
       "     'multiplier': 0,\n",
       "     'baseYear': None,\n",
       "     'SELECT': None,\n",
       "     'seriesCode': 'SYB011',\n",
       "     'SYB_series': [253]},\n",
       "    {'newSeriesName': 'Life expectancy at birth',\n",
       "     'units': 'Number of years',\n",
       "     'multiplier': 0,\n",
       "     'baseYear': None,\n",
       "     'SELECT': None,\n",
       "     'seriesCode': 'SYB012',\n",
       "     'SYB_series': [36, 268, 269]},\n",
       "    {'newSeriesName': 'Maternal mortality ratio',\n",
       "     'units': 'Number of deaths per 1,000 population',\n",
       "     'multiplier': 0,\n",
       "     'baseYear': None,\n",
       "     'SELECT': None,\n",
       "     'seriesCode': 'SYB013',\n",
       "     'SYB_series': [1159]},\n",
       "    {'newSeriesName': 'Population annual rate of increase',\n",
       "     'units': 'Percent',\n",
       "     'multiplier': 0,\n",
       "     'baseYear': None,\n",
       "     'SELECT': None,\n",
       "     'seriesCode': 'SYB014',\n",
       "     'SYB_series': [13]},\n",
       "    {'newSeriesName': 'Total fertility rate',\n",
       "     'units': 'Number of children per women',\n",
       "     'multiplier': 0,\n",
       "     'baseYear': None,\n",
       "     'SELECT': None,\n",
       "     'seriesCode': 'SYB015',\n",
       "     'SYB_series': [392]}]},\n",
       "  {'tableCode': 'intlmigref',\n",
       "   'tableId': 78,\n",
       "   'tableName': 'International migrants and refugees',\n",
       "   'tableNote': None,\n",
       "   'tableStatusId': 1,\n",
       "   'tbBkCode': 'T04 ',\n",
       "   'tbBkPrint': 'Y',\n",
       "   'series': [{'newSeriesName': 'Asylum seekers, including pending cases',\n",
       "     'units': 'Number',\n",
       "     'multiplier': 0,\n",
       "     'baseYear': None,\n",
       "     'SELECT': None,\n",
       "     'seriesCode': 'SYB072',\n",
       "     'SYB_series': [1617]},\n",
       "    {'newSeriesName': 'International migrant stock as percent of total population',\n",
       "     'units': 'Percent of total population',\n",
       "     'multiplier': 0,\n",
       "     'baseYear': None,\n",
       "     'SELECT': 'X',\n",
       "     'seriesCode': 'SYB073',\n",
       "     'SYB_series': [1614, 1616, 1615]},\n",
       "    {'newSeriesName': 'International migrant stock',\n",
       "     'units': 'Number',\n",
       "     'multiplier': 0,\n",
       "     'baseYear': None,\n",
       "     'SELECT': 'X',\n",
       "     'seriesCode': 'SYB074',\n",
       "     'SYB_series': [1610]},\n",
       "    {'newSeriesName': 'Other population of concern to UNHCR',\n",
       "     'units': 'Number',\n",
       "     'multiplier': 0,\n",
       "     'baseYear': None,\n",
       "     'SELECT': 'X',\n",
       "     'seriesCode': 'SYB075',\n",
       "     'SYB_series': [1618]},\n",
       "    {'newSeriesName': 'Total population of concern to UNHCR',\n",
       "     'units': 'Number',\n",
       "     'multiplier': 0,\n",
       "     'baseYear': None,\n",
       "     'SELECT': 'X',\n",
       "     'seriesCode': 'SYB076',\n",
       "     'SYB_series': [1619]},\n",
       "    {'newSeriesName': 'Total refugees and people in refugee-like situations',\n",
       "     'units': 'Number',\n",
       "     'multiplier': 0,\n",
       "     'baseYear': None,\n",
       "     'SELECT': 'X',\n",
       "     'seriesCode': 'SYB077',\n",
       "     'SYB_series': [1613]}]},\n",
       "  {'tableCode': 'popurbrur',\n",
       "   'tableId': 83,\n",
       "   'tableName': 'Population and rates of growth in urban areas and capital cities',\n",
       "   'tableNote': None,\n",
       "   'tableStatusId': 1,\n",
       "   'tbBkCode': 'T03 ',\n",
       "   'tbBkPrint': 'Y',\n",
       "   'series': [{'newSeriesName': 'Capital city population as percent of total population',\n",
       "     'units': 'Percent of total population',\n",
       "     'multiplier': 0,\n",
       "     'baseYear': None,\n",
       "     'SELECT': 'X',\n",
       "     'seriesCode': 'SYB078',\n",
       "     'SYB_series': [265]},\n",
       "    {'newSeriesName': 'Capital city population as percent of total urban population',\n",
       "     'units': 'Percent of total urban population',\n",
       "     'multiplier': 0,\n",
       "     'baseYear': None,\n",
       "     'SELECT': 'X',\n",
       "     'seriesCode': 'SYB079',\n",
       "     'SYB_series': [266]},\n",
       "    {'newSeriesName': 'Capital city population',\n",
       "     'units': 'Number',\n",
       "     'multiplier': 3.0,\n",
       "     'baseYear': None,\n",
       "     'SELECT': 'X',\n",
       "     'seriesCode': 'SYB080',\n",
       "     'SYB_series': [264]},\n",
       "    {'newSeriesName': 'Population growth rate per annum',\n",
       "     'units': 'Percent',\n",
       "     'multiplier': 0,\n",
       "     'baseYear': None,\n",
       "     'SELECT': 'X',\n",
       "     'seriesCode': 'SYB081',\n",
       "     'SYB_series': [329, 330]},\n",
       "    {'newSeriesName': 'Urban population as percent of total populatoin',\n",
       "     'units': 'Percent of total population',\n",
       "     'multiplier': 0,\n",
       "     'baseYear': None,\n",
       "     'SELECT': 'X',\n",
       "     'seriesCode': 'SYB082',\n",
       "     'SYB_series': [328]}]},\n",
       "  {'tableCode': 'pop',\n",
       "   'tableId': 89,\n",
       "   'tableName': 'Population, density and surface area',\n",
       "   'tableNote': None,\n",
       "   'tableStatusId': 1,\n",
       "   'tbBkCode': 'T02 ',\n",
       "   'tbBkPrint': 'Y',\n",
       "   'series': [{'newSeriesName': 'Share of population by age group',\n",
       "     'units': 'Percent',\n",
       "     'multiplier': 0,\n",
       "     'baseYear': None,\n",
       "     'SELECT': 'X',\n",
       "     'seriesCode': 'SYB087',\n",
       "     'SYB_series': [22, 23]},\n",
       "    {'newSeriesName': 'Population density',\n",
       "     'units': None,\n",
       "     'multiplier': 0,\n",
       "     'baseYear': None,\n",
       "     'SELECT': 'X',\n",
       "     'seriesCode': 'SYB088',\n",
       "     'SYB_series': [1171]},\n",
       "    {'newSeriesName': 'Population mid-year estimates',\n",
       "     'units': 'Number',\n",
       "     'multiplier': 6.0,\n",
       "     'baseYear': None,\n",
       "     'SELECT': 'X',\n",
       "     'seriesCode': 'SYB089',\n",
       "     'SYB_series': [1160, 123, 124]},\n",
       "    {'newSeriesName': 'Sex ratio (males per 100 females)',\n",
       "     'units': 'Percent',\n",
       "     'multiplier': 0,\n",
       "     'baseYear': None,\n",
       "     'SELECT': 'X',\n",
       "     'seriesCode': 'SYB090',\n",
       "     'SYB_series': [24]},\n",
       "    {'newSeriesName': 'Surface area',\n",
       "     'units': 'km2',\n",
       "     'multiplier': 3.0,\n",
       "     'baseYear': None,\n",
       "     'SELECT': 'X',\n",
       "     'seriesCode': 'SYB091',\n",
       "     'SYB_series': [1170]}]}]}"
      ]
     },
     "execution_count": 18,
     "metadata": {},
     "output_type": "execute_result"
    }
   ],
   "source": [
    "syb_dir = r'..\\..\\data\\unsd\\UNSYB\\output'\n",
    "\n",
    "with open(r'..\\..\\data\\unsd\\UNSYB\\output\\SYB_Series_Catalog.json') as json_file:  \n",
    "    syb_catalogue = json.load(json_file)\n",
    "    \n",
    "syb_catalogue[0].keys()"
   ]
  }
 ],
 "metadata": {
  "kernelspec": {
   "display_name": "Python 3",
   "language": "python",
   "name": "python3"
  },
  "language_info": {
   "codemirror_mode": {
    "name": "ipython",
    "version": 3
   },
   "file_extension": ".py",
   "mimetype": "text/x-python",
   "name": "python",
   "nbconvert_exporter": "python",
   "pygments_lexer": "ipython3",
   "version": "3.6.8"
  }
 },
 "nbformat": 4,
 "nbformat_minor": 2
}
