{
 "cells": [
  {
   "cell_type": "code",
   "execution_count": 1,
   "metadata": {},
   "outputs": [
    {
     "name": "stderr",
     "output_type": "stream",
     "text": [
      "Updating HTML index of packages in '.Library'\n",
      "Making 'packages.html' ... done\n",
      "Downloading git repo https://gitlab.officialstatistics.org/scanner-task-team-gwg/FEWS_package\n",
      "Installing FEWS\n",
      "Installing MatrixModels\n",
      "'/opt/conda/lib/R/bin/R' --no-site-file --no-environ --no-save --no-restore  \\\n",
      "  --quiet CMD INSTALL '/tmp/RtmpkE87zd/devtools2b481cabdb/MatrixModels'  \\\n",
      "  --library='/opt/conda/lib/R/library' --install-tests \n",
      "\n",
      "'/opt/conda/lib/R/bin/R' --no-site-file --no-environ --no-save --no-restore  \\\n",
      "  --quiet CMD INSTALL '/tmp/RtmpkE87zd/file2b54d43741'  \\\n",
      "  --library='/opt/conda/lib/R/library' --install-tests \n",
      "\n"
     ]
    }
   ],
   "source": [
    "install.packages(\"rjson\")\n",
    "Sys.setenv(TAR = \"/bin/tar\")\n",
    "devtools::install_git(\"https://gitlab.officialstatistics.org/scanner-task-team-gwg/FEWS_package\")"
   ]
  },
  {
   "cell_type": "code",
   "execution_count": null,
   "metadata": {},
   "outputs": [],
   "source": []
  }
 ],
 "metadata": {
  "kernelspec": {
   "display_name": "R",
   "language": "R",
   "name": "ir"
  },
  "language_info": {
   "codemirror_mode": "r",
   "file_extension": ".r",
   "mimetype": "text/x-r-source",
   "name": "R",
   "pygments_lexer": "r",
   "version": "3.5.1"
  }
 },
 "nbformat": 4,
 "nbformat_minor": 2
}
