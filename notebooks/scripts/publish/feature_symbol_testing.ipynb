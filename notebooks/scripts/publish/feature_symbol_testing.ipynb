{
 "cells": [
  {
   "cell_type": "code",
   "execution_count": 11,
   "metadata": {},
   "outputs": [],
   "source": [
    "import copy\n",
    "# used to prompt for user input\n",
    "# when using this script internally, you may remove this and simply hard code in your username and password\n",
    "import getpass\n",
    "import json\n",
    "import os\n",
    "import re\n",
    "import sys\n",
    "import time\n",
    "import traceback\n",
    "import urllib\n",
    "import urllib.request as request\n",
    "import urllib.request as urlopen\n",
    "from datetime import datetime\n",
    "import requests\n",
    "# this helps us do some debugging within the Python Notebook\n",
    "# another optional component\n",
    "from IPython.display import display\n",
    "from arcgis.gis import GIS\n",
    "from arcgis.features import FeatureLayer\n",
    "from arcgis.gis.server import Service\n"
   ]
  },
  {
   "cell_type": "code",
   "execution_count": 12,
   "metadata": {},
   "outputs": [
    {
     "name": "stdout",
     "output_type": "stream",
     "text": [
      "Username: tbutcher_undesa\n",
      "Password: ········\n"
     ]
    },
    {
     "data": {
      "text/html": [
       "GIS @ <a href=\"https://undesa.maps.arcgis.com\">https://undesa.maps.arcgis.com</a>"
      ],
      "text/plain": [
       "<arcgis.gis.GIS at 0x114803588>"
      ]
     },
     "execution_count": 12,
     "metadata": {},
     "output_type": "execute_result"
    }
   ],
   "source": [
    "    online_username = input('Username: ')\n",
    "    online_password = getpass.getpass('Password: ')\n",
    "    online_connection = \"https://www.arcgis.com\"\n",
    "    gis_online_connection = GIS(online_connection, online_username, online_password)\n",
    "    gis_online_connection"
   ]
  },
  {
   "cell_type": "code",
   "execution_count": 13,
   "metadata": {},
   "outputs": [
    {
     "data": {
      "text/html": [
       "<div class=\"item_container\" style=\"height: auto; overflow: hidden; border: 1px solid #cfcfcf; border-radius: 2px; background: #f6fafa; line-height: 1.21429em; padding: 10px;\">\n",
       "                    <div class=\"item_left\" style=\"width: 210px; float: left;\">\n",
       "                       <a href='https://undesa.maps.arcgis.com/home/item.html?id=e3f9f209e936457da967a69fddb2e453' target='_blank'>\n",
       "                        <img src='data:image/png;base64,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' width='200' height='133' class=\"itemThumbnail\">\n",
       "                       </a>\n",
       "                    </div>\n",
       "\n",
       "                    <div class=\"item_right\"     style=\"float: none; width: auto; overflow: hidden;\">\n",
       "                        <a href='https://undesa.maps.arcgis.com/home/item.html?id=e3f9f209e936457da967a69fddb2e453' target='_blank'><b>Indicator 2.c.1: Indicator of Food Price Anomalies (IFPA), wheat</b>\n",
       "                        </a>\n",
       "                        <br/>Indicator 2.c.1: Indicator of Food Price Anomalies (IFPA), wheat<img src='https://undesa.maps.arcgis.com/home/js/jsapi/esri/css/images/item_type_icons/featureshosted16.png' style=\"vertical-align:middle;\">Feature Layer Collection by tbutcher_undesa\n",
       "                        <br/>Last Modified: April 11, 2018\n",
       "                        <br/>0 comments, 0 views\n",
       "                    </div>\n",
       "                </div>\n",
       "                "
      ],
      "text/plain": [
       "<Item title:\"Indicator 2.c.1: Indicator of Food Price Anomalies (IFPA), wheat\" type:Feature Layer Collection owner:tbutcher_undesa>"
      ]
     },
     "execution_count": 13,
     "metadata": {},
     "output_type": "execute_result"
    }
   ],
   "source": [
    "#access an Item\n",
    "test_item = gis_online_connection.content.get('e3f9f209e936457da967a69fddb2e453')\n",
    "test_item"
   ]
  },
  {
   "cell_type": "code",
   "execution_count": 16,
   "metadata": {},
   "outputs": [
    {
     "data": {
      "text/plain": [
       "{'type': 'classBreaks',\n",
       " 'field': 'latest_value',\n",
       " 'defaultSymbol': {'type': 'esriSMS',\n",
       "  'style': 'esriSMSCircle',\n",
       "  'size': 10,\n",
       "  'color': [0, 0, 0, 0],\n",
       "  'outline': {'symbol': {'type': 'esriSLS',\n",
       "    'style': 'esriSLSSolid',\n",
       "    'color': ['#000000'],\n",
       "    'width': 1}}},\n",
       " 'defaultLabel': '',\n",
       " 'minValue': 0.54541167,\n",
       " 'classBreakInfos': [{'classMaxValue': 0.54541167,\n",
       "   'label': '0.5454',\n",
       "   'description': '',\n",
       "   'symbol': None},\n",
       "  {'classMaxValue': 0.70927583,\n",
       "   'label': '0.5454 - 0.7093',\n",
       "   'description': '',\n",
       "   'symbol': None},\n",
       "  {'classMaxValue': 1.16745417,\n",
       "   'label': '0.7093 - 1.1675',\n",
       "   'description': '',\n",
       "   'symbol': None},\n",
       "  {'classMaxValue': 1.19277,\n",
       "   'label': '1.1675 - 1.1928',\n",
       "   'description': '',\n",
       "   'symbol': None},\n",
       "  {'classMaxValue': 2.310926,\n",
       "   'label': '1.1928 - 2.3109',\n",
       "   'description': '',\n",
       "   'symbol': None}]}"
      ]
     },
     "execution_count": 16,
     "metadata": {},
     "output_type": "execute_result"
    }
   ],
   "source": [
    "test_feature_layer = test_item.layers[0]\n",
    "test_feature_layer.properties\n",
    "renderer_definition = {\"type\":\"classBreaksDef\",\"classificationField\":\"latest_value\",\n",
    "                       \"classificationMethod\":\"esriClassifyNaturalBreaks\",\"breakCount\":5,\n",
    "                        \"baseSymbol\":{\"type\": \"esriSMS\",\"style\": \"esriSMSCircle\",\"size\": 10,\n",
    "                                         \"color\": [76,115,0,255]}}\n",
    "renderer = test_item.layers[0].generate_renderer(definition=renderer_definition, where=None)\n",
    "renderer[\"defaultSymbol\"] = {\"type\": \"esriSMS\",\"style\": \"esriSMSCircle\",\"size\": 10,\"color\": [0,0,0,0], \"outline\" : {\"symbol\": {\"type\": \"esriSLS\",\"style\": \"esriSLSSolid\",\"color\": [\"#000000\"],\"width\": 1}}}\n",
    "renderer"
   ]
  },
  {
   "cell_type": "code",
   "execution_count": 5,
   "metadata": {},
   "outputs": [
    {
     "name": "stdout",
     "output_type": "stream",
     "text": [
      "{'classMaxValue': 0.7344625, 'label': '0.5588 - 0.7345', 'description': '', 'symbol': {'type': 'esriSMS', 'style': 'esriSMSCircle', 'size': 10, 'color': [76, 115, 0, 255]}}\n",
      "{'classMaxValue': 1.2901458, 'label': '0.7345 - 1.2901', 'description': '', 'symbol': {'type': 'esriSMS', 'style': 'esriSMSCircle', 'size': 12, 'color': [76, 115, 0, 255]}}\n",
      "{'classMaxValue': 1.995815, 'label': '1.2901 - 1.9958', 'description': '', 'symbol': {'type': 'esriSMS', 'style': 'esriSMSCircle', 'size': 14, 'color': [76, 115, 0, 255]}}\n",
      "{'classMaxValue': 2.9009383, 'label': '1.9958 - 2.9009', 'description': '', 'symbol': {'type': 'esriSMS', 'style': 'esriSMSCircle', 'size': 16, 'color': [76, 115, 0, 255]}}\n",
      "{'classMaxValue': 15.6271025, 'label': '2.9009 - 15.6271', 'description': '', 'symbol': {'type': 'esriSMS', 'style': 'esriSMSCircle', 'size': 18, 'color': [76, 115, 0, 255]}}\n"
     ]
    }
   ],
   "source": [
    "size = 10\n",
    "for classBreak in renderer[\"classBreakInfos\"]:\n",
    "    classBreak[\"symbol\"] = {\"type\": \"esriSMS\",\"style\": \"esriSMSCircle\",\"size\": size,\"color\": [76,115,0,255]}\n",
    "    size += 2\n",
    "    print(classBreak)\n",
    "    "
   ]
  },
  {
   "cell_type": "code",
   "execution_count": 19,
   "metadata": {},
   "outputs": [
    {
     "data": {
      "text/plain": [
       "{'drawingInfo': {'renderer': {'visualVariables': [{'type': 'sizeInfo',\n",
       "     'field': 'latest_value',\n",
       "     'valueExpression': '',\n",
       "     'valueUnit': 'unknown',\n",
       "     'minSize': 6,\n",
       "     'maxSize': 37.5,\n",
       "     'minDataValue': 0.51504,\n",
       "     'maxDataValue': 7.4918925}],\n",
       "   'authoringInfo': {'visualVariables': [{'type': 'sizeInfo',\n",
       "      'minSliderValue': 0.51504,\n",
       "      'maxSliderValue': 7.4918925}]},\n",
       "   'type': 'classBreaks',\n",
       "   'field': 'latest_value',\n",
       "   'defaultSymbol': {'color': [128, 128, 128, 131],\n",
       "    'size': 6,\n",
       "    'angle': 0,\n",
       "    'xoffset': 0,\n",
       "    'yoffset': 0,\n",
       "    'type': 'esriSMS',\n",
       "    'style': 'esriSMSCircle',\n",
       "    'outline': {'color': [153, 153, 153, 255],\n",
       "     'width': 0.75,\n",
       "     'type': 'esriSLS',\n",
       "     'style': 'esriSLSSolid'}},\n",
       "   'minValue': -9007199254740991,\n",
       "   'classBreakInfos': [{'symbol': {'color': [227, 139, 79, 255],\n",
       "      'size': 6,\n",
       "      'angle': 0,\n",
       "      'xoffset': 0,\n",
       "      'yoffset': 0,\n",
       "      'type': 'esriSMS',\n",
       "      'style': 'esriSMSCircle',\n",
       "      'outline': {'color': [255, 255, 255, 255],\n",
       "       'width': 0.75,\n",
       "       'type': 'esriSLS',\n",
       "       'style': 'esriSLSSolid'}},\n",
       "     'classMaxValue': 9007199254740991}],\n",
       "   'defaultLabel': 'Other'},\n",
       "  'transparency': 20}}"
      ]
     },
     "execution_count": 19,
     "metadata": {},
     "output_type": "execute_result"
    }
   ],
   "source": [
    "visual_params = {\"drawingInfo\":{\"renderer\":{\"visualVariables\":[{\"type\":\"sizeInfo\",\"field\":\"latest_value\",\"valueExpression\":\"\",\"valueUnit\":\"unknown\",\"minSize\":6,\"maxSize\":37.5,\"minDataValue\":0.51504,\"maxDataValue\":7.4918925}],\"authoringInfo\":{\"visualVariables\":[{\"type\":\"sizeInfo\",\"minSliderValue\":0.51504,\"maxSliderValue\":7.4918925}]},\"type\":\"classBreaks\",\"field\":\"latest_value\",\"defaultSymbol\":{\"color\":[128,128,128,131],\"size\":6,\"angle\":0,\"xoffset\":0,\"yoffset\":0,\"type\":\"esriSMS\",\"style\":\"esriSMSCircle\",\"outline\":{\"color\":[153,153,153,255],\"width\":0.75,\"type\":\"esriSLS\",\"style\":\"esriSLSSolid\"}},\"minValue\":-9007199254740991,\"classBreakInfos\":[{\"symbol\":{\"color\":[227,139,79,255],\"size\":6,\"angle\":0,\"xoffset\":0,\"yoffset\":0,\"type\":\"esriSMS\",\"style\":\"esriSMSCircle\",\"outline\":{\"color\":[255,255,255,255],\"width\":0.75,\"type\":\"esriSLS\",\"style\":\"esriSLSSolid\"}},\"classMaxValue\":9007199254740991}],\"defaultLabel\":\"Other\"},\"transparency\":20}}\n",
    "visual_params"
   ]
  },
  {
   "cell_type": "code",
   "execution_count": 34,
   "metadata": {},
   "outputs": [
    {
     "name": "stdout",
     "output_type": "stream",
     "text": [
      "max:2.310926 min: 0.54541167\n"
     ]
    }
   ],
   "source": [
    "feature_set = test_item.layers[0].query(where='1=1',out_statistics= [{\"statisticType\": \"max\",\n",
    "    \"onStatisticField\": \"latest_value\", \n",
    "    \"outStatisticFieldName\": \"latest_value_max\"\n",
    "  },\n",
    "  {\"statisticType\": \"min\",\n",
    "    \"onStatisticField\": \"latest_value\", \n",
    "    \"outStatisticFieldName\": \"latest_value_min\"}])\n",
    "print('max:' + feature_set.features[0].attributes[\"latest_value_max\"] + \n",
    "      \" min: \"+ feature_set.features[0].attributes[\"latest_value_min\"])\n",
    "\n",
    "max_value = feature_set.features[0].attributes[\"latest_value_max\"]\n",
    "min_value = feature_set.features[0].attributes[\"latest_value_min\"]\n",
    "\n",
    "\n",
    "   "
   ]
  },
  {
   "cell_type": "code",
   "execution_count": 43,
   "metadata": {},
   "outputs": [
    {
     "data": {
      "text/plain": [
       "{'drawingInfo': {'renderer': {'visualVariables': [{'type': 'sizeInfo',\n",
       "     'field': 'latest_value',\n",
       "     'valueExpression': '',\n",
       "     'valueUnit': 'unknown',\n",
       "     'minSize': 6,\n",
       "     'maxSize': 37.5,\n",
       "     'minDataValue': '0.54541167',\n",
       "     'maxDataValue': '2.310926'}],\n",
       "   'authoringInfo': {'visualVariables': [{'type': 'sizeInfo',\n",
       "      'minSliderValue': '0.54541167',\n",
       "      'maxSliderValue': '2.310926'}]},\n",
       "   'type': 'classBreaks',\n",
       "   'field': 'latest_value',\n",
       "   'defaultSymbol': {'color': [128, 128, 128, 131],\n",
       "    'size': 6,\n",
       "    'angle': 0,\n",
       "    'xoffset': 0,\n",
       "    'yoffset': 0,\n",
       "    'type': 'esriSMS',\n",
       "    'style': 'esriSMSCircle',\n",
       "    'outline': {'color': [153, 153, 153, 255],\n",
       "     'width': 0.75,\n",
       "     'type': 'esriSLS',\n",
       "     'style': 'esriSLSSolid'}},\n",
       "   'minValue': -9007199254740991,\n",
       "   'classBreakInfos': [{'symbol': {'color': '#000000',\n",
       "      'size': 6,\n",
       "      'angle': 0,\n",
       "      'xoffset': 0,\n",
       "      'yoffset': 0,\n",
       "      'type': 'esriSMS',\n",
       "      'style': 'esriSMSCircle',\n",
       "      'outline': {'color': [255, 255, 255, 255],\n",
       "       'width': 0.75,\n",
       "       'type': 'esriSLS',\n",
       "       'style': 'esriSLSSolid'}},\n",
       "     'classMaxValue': 9007199254740991}],\n",
       "   'defaultLabel': 'Other'},\n",
       "  'transparency': 20}}"
      ]
     },
     "execution_count": 43,
     "metadata": {},
     "output_type": "execute_result"
    }
   ],
   "source": [
    "#update the visual variable with the min and max\n",
    "visual_params[\"drawingInfo\"][\"renderer\"][\"visualVariables\"][0][\"minDataValue\"] = min_value\n",
    "visual_params[\"drawingInfo\"][\"renderer\"][\"visualVariables\"][0][\"maxDataValue\"] = max_value\n",
    "\n",
    "visual_params[\"drawingInfo\"][\"renderer\"][\"authoringInfo\"][\"visualVariables\"][0][\"minSliderValue\"] = min_value\n",
    "visual_params[\"drawingInfo\"][\"renderer\"][\"authoringInfo\"][\"visualVariables\"][0][\"maxSliderValue\"] = max_value\n",
    "visual_params[\"drawingInfo\"][\"renderer\"][\"classBreakInfos\"][0][\"symbol\"][\"color\"] = \"#000000\"\n",
    "visual_params\n",
    "\n"
   ]
  },
  {
   "cell_type": "code",
   "execution_count": 21,
   "metadata": {},
   "outputs": [
    {
     "data": {
      "text/plain": [
       "{'success': True}"
      ]
     },
     "execution_count": 21,
     "metadata": {},
     "output_type": "execute_result"
    }
   ],
   "source": [
    "definition_item = test_item.layers[0]\n",
    "definition_update_params = definition_item.properties\n",
    "definition_update_params[\"drawingInfo\"][\"renderer\"] = visual_params[\"drawingInfo\"][\"renderer\"]\n",
    "if \"editingInfo\" in definition_update_params:\n",
    "    del definition_update_params[\"editingInfo\"]\n",
    "definition_update_params\n",
    "definition_item.manager.update_definition(definition_update_params)\n",
    "\n",
    "#.url + \"?f=json&token=\" + gis_online_connection._con.token\n",
    "#definition_url\n",
    "\n",
    "#get the full service definition back in JSON\n",
    "#definition_json_request = requests.get(definition_url)\n",
    "#definition_json_data = json.loads(definition_json_request.content.decode(\"UTF-8\"))\n",
    "#definition_json_data"
   ]
  }
 ],
 "metadata": {
  "kernelspec": {
   "display_name": "Python 3",
   "language": "python",
   "name": "python3"
  },
  "language_info": {
   "codemirror_mode": {
    "name": "ipython",
    "version": 3
   },
   "file_extension": ".py",
   "mimetype": "text/x-python",
   "name": "python",
   "nbconvert_exporter": "python",
   "pygments_lexer": "ipython3",
   "version": "3.6.2"
  }
 },
 "nbformat": 4,
 "nbformat_minor": 2
}
