{
 "cells": [
  {
   "cell_type": "markdown",
   "metadata": {},
   "source": [
    "# Create Categories for ArcGIS Online\n",
    "The purpose of this notebook is to illustrate how to use the SDG Metadata API to create a series of categories in ArcGIS online for organizing and filtering data.\n",
    "\n",
    "# Installation & Requirements\n",
    "Data Package python lib\n",
    "+ pip install ipdb\n",
    "+ pip install requests\n",
    "+ pip install urllib3\n",
    "\n",
    "\n",
    "# ArcGIS API for Python\n",
    "Install & Setup Guide here: https://developers.arcgis.com/python/guide/install-and-set-up "
   ]
  },
  {
   "cell_type": "markdown",
   "metadata": {},
   "source": [
    "### Create a connection to your ArcGIS Online Organization\n",
    "This will rely on using the ArcGIS API for python to connect to your ArcGIS Online Organization to publish and manage data. For more information about this python library visit the developer resources at https://developers.arcgis.com/python/"
   ]
  },
  {
   "cell_type": "code",
   "execution_count": 66,
   "metadata": {},
   "outputs": [
    {
     "name": "stdout",
     "output_type": "stream",
     "text": [
      "Username: tbutcher_undesa\n",
      "Password: ········\n"
     ]
    },
    {
     "data": {
      "text/html": [
       "GIS @ <a href=\"https://undesa.maps.arcgis.com\">https://undesa.maps.arcgis.com</a>"
      ],
      "text/plain": [
       "<arcgis.gis.GIS at 0x10a846630>"
      ]
     },
     "execution_count": 66,
     "metadata": {},
     "output_type": "execute_result"
    }
   ],
   "source": [
    "import copy\n",
    "# used to prompt for user input\n",
    "# when using this script internally, you may remove this and simply hard code in your username and password\n",
    "import getpass\n",
    "import json\n",
    "import os\n",
    "import re\n",
    "import sys\n",
    "import time\n",
    "import traceback\n",
    "import urllib\n",
    "import urllib.request as request\n",
    "import urllib.request as urlopen\n",
    "from datetime import datetime\n",
    "import requests\n",
    "# this helps us do some debugging within the Python Notebook\n",
    "# another optional component\n",
    "from IPython.display import display\n",
    "from arcgis.gis import GIS\n",
    "from arcgis.features import FeatureLayer\n",
    "from arcgis.gis.server import Service\n",
    "\n",
    "online_username = input('Username: ')\n",
    "online_password = getpass.getpass('Password: ')\n",
    "online_connection = \"https://www.arcgis.com\"\n",
    "gis_online_connection = GIS(online_connection, online_username, online_password)\n",
    "gis_online_connection"
   ]
  },
  {
   "cell_type": "markdown",
   "metadata": {},
   "source": [
    "### Get the JSON Data from the UN SDG API\n",
    "\n",
    "The SDG API is designed to  retrieve information and metadata on the [Sustainable Development Goals](http://www.un.org/sustainabledevelopment/sustainable-development-goals/).\n",
    "\n",
    "The Inter-agency Expert Group on SDG Indicators released a series of PDFs that includes metadata for each Indicator. Those PDFs can be downloaded [here](http://unstats.un.org/sdgs/iaeg-sdgs/metadata-compilation/)."
   ]
  },
  {
   "cell_type": "code",
   "execution_count": 67,
   "metadata": {},
   "outputs": [],
   "source": [
    "url = \"https://unstats.un.org/SDGAPI/v1/sdg/Goal/List?includechildren=true\"\n",
    "req = request.Request(url)\n",
    "response = urlopen.urlopen(req)\n",
    "response_bytes = response.read()\n",
    "json_data = json.loads(response_bytes.decode(\"UTF-8\"))"
   ]
  },
  {
   "cell_type": "markdown",
   "metadata": {},
   "source": [
    "### Build the Category Schema File\n",
    "Loop through the SDG Data to build a JSON object to apply as categories"
   ]
  },
  {
   "cell_type": "code",
   "execution_count": 68,
   "metadata": {},
   "outputs": [
    {
     "data": {
      "text/plain": [
       "{'categorySchema': [{'title': 'Categories',\n",
       "   'categories': [{'title': 'Goal 1',\n",
       "     'categories': [{'title': 'Target 1.1', 'categories': []},\n",
       "      {'title': 'Target 1.2', 'categories': []},\n",
       "      {'title': 'Target 1.3', 'categories': []},\n",
       "      {'title': 'Target 1.4', 'categories': []},\n",
       "      {'title': 'Target 1.5', 'categories': []},\n",
       "      {'title': 'Target 1.a', 'categories': []},\n",
       "      {'title': 'Target 1.b', 'categories': []}]},\n",
       "    {'title': 'Goal 2',\n",
       "     'categories': [{'title': 'Target 2.1', 'categories': []},\n",
       "      {'title': 'Target 2.2', 'categories': []},\n",
       "      {'title': 'Target 2.3', 'categories': []},\n",
       "      {'title': 'Target 2.4', 'categories': []},\n",
       "      {'title': 'Target 2.5', 'categories': []},\n",
       "      {'title': 'Target 2.a', 'categories': []},\n",
       "      {'title': 'Target 2.b', 'categories': []},\n",
       "      {'title': 'Target 2.c', 'categories': []}]},\n",
       "    {'title': 'Goal 3',\n",
       "     'categories': [{'title': 'Target 3.1', 'categories': []},\n",
       "      {'title': 'Target 3.2', 'categories': []},\n",
       "      {'title': 'Target 3.3', 'categories': []},\n",
       "      {'title': 'Target 3.4', 'categories': []},\n",
       "      {'title': 'Target 3.5', 'categories': []},\n",
       "      {'title': 'Target 3.6', 'categories': []},\n",
       "      {'title': 'Target 3.7', 'categories': []},\n",
       "      {'title': 'Target 3.8', 'categories': []},\n",
       "      {'title': 'Target 3.9', 'categories': []},\n",
       "      {'title': 'Target 3.a', 'categories': []},\n",
       "      {'title': 'Target 3.b', 'categories': []},\n",
       "      {'title': 'Target 3.c', 'categories': []},\n",
       "      {'title': 'Target 3.d', 'categories': []}]},\n",
       "    {'title': 'Goal 4',\n",
       "     'categories': [{'title': 'Target 4.1', 'categories': []},\n",
       "      {'title': 'Target 4.2', 'categories': []},\n",
       "      {'title': 'Target 4.3', 'categories': []},\n",
       "      {'title': 'Target 4.4', 'categories': []},\n",
       "      {'title': 'Target 4.5', 'categories': []},\n",
       "      {'title': 'Target 4.6', 'categories': []},\n",
       "      {'title': 'Target 4.7', 'categories': []},\n",
       "      {'title': 'Target 4.a', 'categories': []},\n",
       "      {'title': 'Target 4.b', 'categories': []},\n",
       "      {'title': 'Target 4.c', 'categories': []}]},\n",
       "    {'title': 'Goal 5',\n",
       "     'categories': [{'title': 'Target 5.1', 'categories': []},\n",
       "      {'title': 'Target 5.2', 'categories': []},\n",
       "      {'title': 'Target 5.3', 'categories': []},\n",
       "      {'title': 'Target 5.4', 'categories': []},\n",
       "      {'title': 'Target 5.5', 'categories': []},\n",
       "      {'title': 'Target 5.6', 'categories': []},\n",
       "      {'title': 'Target 5.a', 'categories': []},\n",
       "      {'title': 'Target 5.b', 'categories': []},\n",
       "      {'title': 'Target 5.c', 'categories': []}]},\n",
       "    {'title': 'Goal 6',\n",
       "     'categories': [{'title': 'Target 6.1', 'categories': []},\n",
       "      {'title': 'Target 6.2', 'categories': []},\n",
       "      {'title': 'Target 6.3', 'categories': []},\n",
       "      {'title': 'Target 6.4', 'categories': []},\n",
       "      {'title': 'Target 6.5', 'categories': []},\n",
       "      {'title': 'Target 6.6', 'categories': []},\n",
       "      {'title': 'Target 6.a', 'categories': []},\n",
       "      {'title': 'Target 6.b', 'categories': []}]},\n",
       "    {'title': 'Goal 7',\n",
       "     'categories': [{'title': 'Target 7.1', 'categories': []},\n",
       "      {'title': 'Target 7.2', 'categories': []},\n",
       "      {'title': 'Target 7.3', 'categories': []},\n",
       "      {'title': 'Target 7.a', 'categories': []},\n",
       "      {'title': 'Target 7.b', 'categories': []}]},\n",
       "    {'title': 'Goal 8',\n",
       "     'categories': [{'title': 'Target 8.2', 'categories': []},\n",
       "      {'title': 'Target 8.3', 'categories': []},\n",
       "      {'title': 'Target 8.4', 'categories': []},\n",
       "      {'title': 'Target 8.5', 'categories': []},\n",
       "      {'title': 'Target 8.6', 'categories': []},\n",
       "      {'title': 'Target 8.7', 'categories': []},\n",
       "      {'title': 'Target 8.1', 'categories': []},\n",
       "      {'title': 'Target 8.8', 'categories': []},\n",
       "      {'title': 'Target 8.9', 'categories': []},\n",
       "      {'title': 'Target 8.10', 'categories': []},\n",
       "      {'title': 'Target 8.a', 'categories': []},\n",
       "      {'title': 'Target 8.b', 'categories': []}]},\n",
       "    {'title': 'Goal 9',\n",
       "     'categories': [{'title': 'Target 9.1', 'categories': []},\n",
       "      {'title': 'Target 9.2', 'categories': []},\n",
       "      {'title': 'Target 9.3', 'categories': []},\n",
       "      {'title': 'Target 9.4', 'categories': []},\n",
       "      {'title': 'Target 9.5', 'categories': []},\n",
       "      {'title': 'Target 9.a', 'categories': []},\n",
       "      {'title': 'Target 9.b', 'categories': []},\n",
       "      {'title': 'Target 9.c', 'categories': []}]},\n",
       "    {'title': 'Goal 10',\n",
       "     'categories': [{'title': 'Target 10.1', 'categories': []},\n",
       "      {'title': 'Target 10.2', 'categories': []},\n",
       "      {'title': 'Target 10.3', 'categories': []},\n",
       "      {'title': 'Target 10.4', 'categories': []},\n",
       "      {'title': 'Target 10.5', 'categories': []},\n",
       "      {'title': 'Target 10.6', 'categories': []},\n",
       "      {'title': 'Target 10.7', 'categories': []},\n",
       "      {'title': 'Target 10.a', 'categories': []},\n",
       "      {'title': 'Target 10.b', 'categories': []},\n",
       "      {'title': 'Target 10.c', 'categories': []}]},\n",
       "    {'title': 'Goal 11',\n",
       "     'categories': [{'title': 'Target 11.1', 'categories': []},\n",
       "      {'title': 'Target 11.2', 'categories': []},\n",
       "      {'title': 'Target 11.3', 'categories': []},\n",
       "      {'title': 'Target 11.4', 'categories': []},\n",
       "      {'title': 'Target 11.5', 'categories': []},\n",
       "      {'title': 'Target 11.6', 'categories': []},\n",
       "      {'title': 'Target 11.7', 'categories': []},\n",
       "      {'title': 'Target 11.a', 'categories': []},\n",
       "      {'title': 'Target 11.b', 'categories': []},\n",
       "      {'title': 'Target 11.c', 'categories': []}]},\n",
       "    {'title': 'Goal 12',\n",
       "     'categories': [{'title': 'Target 12.1', 'categories': []},\n",
       "      {'title': 'Target 12.2', 'categories': []},\n",
       "      {'title': 'Target 12.3', 'categories': []},\n",
       "      {'title': 'Target 12.4', 'categories': []},\n",
       "      {'title': 'Target 12.5', 'categories': []},\n",
       "      {'title': 'Target 12.6', 'categories': []},\n",
       "      {'title': 'Target 12.7', 'categories': []},\n",
       "      {'title': 'Target 12.8', 'categories': []},\n",
       "      {'title': 'Target 12.a', 'categories': []},\n",
       "      {'title': 'Target 12.b', 'categories': []},\n",
       "      {'title': 'Target 12.c', 'categories': []}]},\n",
       "    {'title': 'Goal 13',\n",
       "     'categories': [{'title': 'Target 13.1', 'categories': []},\n",
       "      {'title': 'Target 13.2', 'categories': []},\n",
       "      {'title': 'Target 13.3', 'categories': []},\n",
       "      {'title': 'Target 13.a', 'categories': []},\n",
       "      {'title': 'Target 13.b', 'categories': []}]},\n",
       "    {'title': 'Goal 14',\n",
       "     'categories': [{'title': 'Target 14.1', 'categories': []},\n",
       "      {'title': 'Target 14.6', 'categories': []},\n",
       "      {'title': 'Target 14.2', 'categories': []},\n",
       "      {'title': 'Target 14.7', 'categories': []},\n",
       "      {'title': 'Target 14.3', 'categories': []},\n",
       "      {'title': 'Target 14.a', 'categories': []},\n",
       "      {'title': 'Target 14.4', 'categories': []},\n",
       "      {'title': 'Target 14.b', 'categories': []},\n",
       "      {'title': 'Target 14.5', 'categories': []},\n",
       "      {'title': 'Target 14.c', 'categories': []}]},\n",
       "    {'title': 'Goal 15',\n",
       "     'categories': [{'title': 'Target 15.1', 'categories': []},\n",
       "      {'title': 'Target 15.2', 'categories': []},\n",
       "      {'title': 'Target 15.3', 'categories': []},\n",
       "      {'title': 'Target 15.4', 'categories': []},\n",
       "      {'title': 'Target 15.5', 'categories': []},\n",
       "      {'title': 'Target 15.6', 'categories': []},\n",
       "      {'title': 'Target 15.7', 'categories': []},\n",
       "      {'title': 'Target 15.8', 'categories': []},\n",
       "      {'title': 'Target 15.9', 'categories': []},\n",
       "      {'title': 'Target 15.a', 'categories': []},\n",
       "      {'title': 'Target 15.b', 'categories': []},\n",
       "      {'title': 'Target 15.c', 'categories': []}]},\n",
       "    {'title': 'Goal 16',\n",
       "     'categories': [{'title': 'Target 16.1', 'categories': []},\n",
       "      {'title': 'Target 16.2', 'categories': []},\n",
       "      {'title': 'Target 16.3', 'categories': []},\n",
       "      {'title': 'Target 16.4', 'categories': []},\n",
       "      {'title': 'Target 16.5', 'categories': []},\n",
       "      {'title': 'Target 16.6', 'categories': []},\n",
       "      {'title': 'Target 16.7', 'categories': []},\n",
       "      {'title': 'Target 16.8', 'categories': []},\n",
       "      {'title': 'Target 16.9', 'categories': []},\n",
       "      {'title': 'Target 16.10', 'categories': []},\n",
       "      {'title': 'Target 16.a', 'categories': []},\n",
       "      {'title': 'Target 16.b', 'categories': []}]},\n",
       "    {'title': 'Goal 17',\n",
       "     'categories': [{'title': 'Target 17.1', 'categories': []},\n",
       "      {'title': 'Target 17.2', 'categories': []},\n",
       "      {'title': 'Target 17.3', 'categories': []},\n",
       "      {'title': 'Target 17.4', 'categories': []},\n",
       "      {'title': 'Target 17.5', 'categories': []},\n",
       "      {'title': 'Target 17.6', 'categories': []},\n",
       "      {'title': 'Target 17.7', 'categories': []},\n",
       "      {'title': 'Target 17.8', 'categories': []},\n",
       "      {'title': 'Target 17.9', 'categories': []},\n",
       "      {'title': 'Target 17.10', 'categories': []},\n",
       "      {'title': 'Target 17.11', 'categories': []},\n",
       "      {'title': 'Target 17.12', 'categories': []},\n",
       "      {'title': 'Target 17.13', 'categories': []},\n",
       "      {'title': 'Target 17.14', 'categories': []},\n",
       "      {'title': 'Target 17.15', 'categories': []},\n",
       "      {'title': 'Target 17.16', 'categories': []},\n",
       "      {'title': 'Target 17.17', 'categories': []},\n",
       "      {'title': 'Target 17.18', 'categories': []},\n",
       "      {'title': 'Target 17.19', 'categories': []}]}]}]}"
      ]
     },
     "execution_count": 68,
     "metadata": {},
     "output_type": "execute_result"
    }
   ],
   "source": [
    "catergory_schema = {\"categorySchema\":[{\"title\":\"Categories\",\"categories\":[]}]}\n",
    "catergory_schema[\"categorySchema\"][0][\"categories\"]\n",
    "\n",
    "for goal in json_data:\n",
    "    goal_schema = {\"title\":\"Goal \" + goal[\"code\"],\"categories\":[]}\n",
    "    for target in goal[\"targets\"]:\n",
    "        target_schema = {\"title\":\"Target \" + target[\"code\"],\"categories\":[]}\n",
    "        for indicator in target[\"indicators\"]:\n",
    "            indicator_schema = {\"title\":\"Indicator \" + indicator[\"code\"]}\n",
    "            # We are currently only building out to the Target Level of the data\n",
    "            #with a limitation on the nodes in ArcGIS Online.  Future versions will\n",
    "            #build out to the indicator and series level\n",
    "            #target_schema[\"categories\"].append(indicator_schema)\n",
    "        goal_schema[\"categories\"].append(target_schema)\n",
    "    catergory_schema[\"categorySchema\"][0][\"categories\"].append(goal_schema)\n",
    "catergory_schema       "
   ]
  },
  {
   "cell_type": "markdown",
   "metadata": {},
   "source": [
    "### Apply the category schema\n",
    "Use the category schema object to build the ArcGIS Online Categories.  This will set the categories for you organization, remember that other members of your organization may have already assigned these categories to their items, and editing the schema will update those items accordingly."
   ]
  },
  {
   "cell_type": "code",
   "execution_count": 69,
   "metadata": {},
   "outputs": [
    {
     "name": "stdout",
     "output_type": "stream",
     "text": [
      "{'f': 'json', 'token': 'XLI3AwuAY5ZIJN01n_v8aCsUAL3raewlQyQGZs4Auc1rM70ZKyviCNcQAo6BO5SFd_K5HDpIRdlNqd8L3m2nEvcGqLvsEobD3u-LKlvqo18Dhu09nlIlARGu7gY9BbHQ', 'categorySchema': '{\"categorySchema\": [{\"title\": \"Categories\", \"categories\": [{\"title\": \"Goal 1\", \"categories\": [{\"title\": \"Target 1.1\", \"categories\": []}, {\"title\": \"Target 1.2\", \"categories\": []}, {\"title\": \"Target 1.3\", \"categories\": []}, {\"title\": \"Target 1.4\", \"categories\": []}, {\"title\": \"Target 1.5\", \"categories\": []}, {\"title\": \"Target 1.a\", \"categories\": []}, {\"title\": \"Target 1.b\", \"categories\": []}]}, {\"title\": \"Goal 2\", \"categories\": [{\"title\": \"Target 2.1\", \"categories\": []}, {\"title\": \"Target 2.2\", \"categories\": []}, {\"title\": \"Target 2.3\", \"categories\": []}, {\"title\": \"Target 2.4\", \"categories\": []}, {\"title\": \"Target 2.5\", \"categories\": []}, {\"title\": \"Target 2.a\", \"categories\": []}, {\"title\": \"Target 2.b\", \"categories\": []}, {\"title\": \"Target 2.c\", \"categories\": []}]}, {\"title\": \"Goal 3\", \"categories\": [{\"title\": \"Target 3.1\", \"categories\": []}, {\"title\": \"Target 3.2\", \"categories\": []}, {\"title\": \"Target 3.3\", \"categories\": []}, {\"title\": \"Target 3.4\", \"categories\": []}, {\"title\": \"Target 3.5\", \"categories\": []}, {\"title\": \"Target 3.6\", \"categories\": []}, {\"title\": \"Target 3.7\", \"categories\": []}, {\"title\": \"Target 3.8\", \"categories\": []}, {\"title\": \"Target 3.9\", \"categories\": []}, {\"title\": \"Target 3.a\", \"categories\": []}, {\"title\": \"Target 3.b\", \"categories\": []}, {\"title\": \"Target 3.c\", \"categories\": []}, {\"title\": \"Target 3.d\", \"categories\": []}]}, {\"title\": \"Goal 4\", \"categories\": [{\"title\": \"Target 4.1\", \"categories\": []}, {\"title\": \"Target 4.2\", \"categories\": []}, {\"title\": \"Target 4.3\", \"categories\": []}, {\"title\": \"Target 4.4\", \"categories\": []}, {\"title\": \"Target 4.5\", \"categories\": []}, {\"title\": \"Target 4.6\", \"categories\": []}, {\"title\": \"Target 4.7\", \"categories\": []}, {\"title\": \"Target 4.a\", \"categories\": []}, {\"title\": \"Target 4.b\", \"categories\": []}, {\"title\": \"Target 4.c\", \"categories\": []}]}, {\"title\": \"Goal 5\", \"categories\": [{\"title\": \"Target 5.1\", \"categories\": []}, {\"title\": \"Target 5.2\", \"categories\": []}, {\"title\": \"Target 5.3\", \"categories\": []}, {\"title\": \"Target 5.4\", \"categories\": []}, {\"title\": \"Target 5.5\", \"categories\": []}, {\"title\": \"Target 5.6\", \"categories\": []}, {\"title\": \"Target 5.a\", \"categories\": []}, {\"title\": \"Target 5.b\", \"categories\": []}, {\"title\": \"Target 5.c\", \"categories\": []}]}, {\"title\": \"Goal 6\", \"categories\": [{\"title\": \"Target 6.1\", \"categories\": []}, {\"title\": \"Target 6.2\", \"categories\": []}, {\"title\": \"Target 6.3\", \"categories\": []}, {\"title\": \"Target 6.4\", \"categories\": []}, {\"title\": \"Target 6.5\", \"categories\": []}, {\"title\": \"Target 6.6\", \"categories\": []}, {\"title\": \"Target 6.a\", \"categories\": []}, {\"title\": \"Target 6.b\", \"categories\": []}]}, {\"title\": \"Goal 7\", \"categories\": [{\"title\": \"Target 7.1\", \"categories\": []}, {\"title\": \"Target 7.2\", \"categories\": []}, {\"title\": \"Target 7.3\", \"categories\": []}, {\"title\": \"Target 7.a\", \"categories\": []}, {\"title\": \"Target 7.b\", \"categories\": []}]}, {\"title\": \"Goal 8\", \"categories\": [{\"title\": \"Target 8.2\", \"categories\": []}, {\"title\": \"Target 8.3\", \"categories\": []}, {\"title\": \"Target 8.4\", \"categories\": []}, {\"title\": \"Target 8.5\", \"categories\": []}, {\"title\": \"Target 8.6\", \"categories\": []}, {\"title\": \"Target 8.7\", \"categories\": []}, {\"title\": \"Target 8.1\", \"categories\": []}, {\"title\": \"Target 8.8\", \"categories\": []}, {\"title\": \"Target 8.9\", \"categories\": []}, {\"title\": \"Target 8.10\", \"categories\": []}, {\"title\": \"Target 8.a\", \"categories\": []}, {\"title\": \"Target 8.b\", \"categories\": []}]}, {\"title\": \"Goal 9\", \"categories\": [{\"title\": \"Target 9.1\", \"categories\": []}, {\"title\": \"Target 9.2\", \"categories\": []}, {\"title\": \"Target 9.3\", \"categories\": []}, {\"title\": \"Target 9.4\", \"categories\": []}, {\"title\": \"Target 9.5\", \"categories\": []}, {\"title\": \"Target 9.a\", \"categories\": []}, {\"title\": \"Target 9.b\", \"categories\": []}, {\"title\": \"Target 9.c\", \"categories\": []}]}, {\"title\": \"Goal 10\", \"categories\": [{\"title\": \"Target 10.1\", \"categories\": []}, {\"title\": \"Target 10.2\", \"categories\": []}, {\"title\": \"Target 10.3\", \"categories\": []}, {\"title\": \"Target 10.4\", \"categories\": []}, {\"title\": \"Target 10.5\", \"categories\": []}, {\"title\": \"Target 10.6\", \"categories\": []}, {\"title\": \"Target 10.7\", \"categories\": []}, {\"title\": \"Target 10.a\", \"categories\": []}, {\"title\": \"Target 10.b\", \"categories\": []}, {\"title\": \"Target 10.c\", \"categories\": []}]}, {\"title\": \"Goal 11\", \"categories\": [{\"title\": \"Target 11.1\", \"categories\": []}, {\"title\": \"Target 11.2\", \"categories\": []}, {\"title\": \"Target 11.3\", \"categories\": []}, {\"title\": \"Target 11.4\", \"categories\": []}, {\"title\": \"Target 11.5\", \"categories\": []}, {\"title\": \"Target 11.6\", \"categories\": []}, {\"title\": \"Target 11.7\", \"categories\": []}, {\"title\": \"Target 11.a\", \"categories\": []}, {\"title\": \"Target 11.b\", \"categories\": []}, {\"title\": \"Target 11.c\", \"categories\": []}]}, {\"title\": \"Goal 12\", \"categories\": [{\"title\": \"Target 12.1\", \"categories\": []}, {\"title\": \"Target 12.2\", \"categories\": []}, {\"title\": \"Target 12.3\", \"categories\": []}, {\"title\": \"Target 12.4\", \"categories\": []}, {\"title\": \"Target 12.5\", \"categories\": []}, {\"title\": \"Target 12.6\", \"categories\": []}, {\"title\": \"Target 12.7\", \"categories\": []}, {\"title\": \"Target 12.8\", \"categories\": []}, {\"title\": \"Target 12.a\", \"categories\": []}, {\"title\": \"Target 12.b\", \"categories\": []}, {\"title\": \"Target 12.c\", \"categories\": []}]}, {\"title\": \"Goal 13\", \"categories\": [{\"title\": \"Target 13.1\", \"categories\": []}, {\"title\": \"Target 13.2\", \"categories\": []}, {\"title\": \"Target 13.3\", \"categories\": []}, {\"title\": \"Target 13.a\", \"categories\": []}, {\"title\": \"Target 13.b\", \"categories\": []}]}, {\"title\": \"Goal 14\", \"categories\": [{\"title\": \"Target 14.1\", \"categories\": []}, {\"title\": \"Target 14.6\", \"categories\": []}, {\"title\": \"Target 14.2\", \"categories\": []}, {\"title\": \"Target 14.7\", \"categories\": []}, {\"title\": \"Target 14.3\", \"categories\": []}, {\"title\": \"Target 14.a\", \"categories\": []}, {\"title\": \"Target 14.4\", \"categories\": []}, {\"title\": \"Target 14.b\", \"categories\": []}, {\"title\": \"Target 14.5\", \"categories\": []}, {\"title\": \"Target 14.c\", \"categories\": []}]}, {\"title\": \"Goal 15\", \"categories\": [{\"title\": \"Target 15.1\", \"categories\": []}, {\"title\": \"Target 15.2\", \"categories\": []}, {\"title\": \"Target 15.3\", \"categories\": []}, {\"title\": \"Target 15.4\", \"categories\": []}, {\"title\": \"Target 15.5\", \"categories\": []}, {\"title\": \"Target 15.6\", \"categories\": []}, {\"title\": \"Target 15.7\", \"categories\": []}, {\"title\": \"Target 15.8\", \"categories\": []}, {\"title\": \"Target 15.9\", \"categories\": []}, {\"title\": \"Target 15.a\", \"categories\": []}, {\"title\": \"Target 15.b\", \"categories\": []}, {\"title\": \"Target 15.c\", \"categories\": []}]}, {\"title\": \"Goal 16\", \"categories\": [{\"title\": \"Target 16.1\", \"categories\": []}, {\"title\": \"Target 16.2\", \"categories\": []}, {\"title\": \"Target 16.3\", \"categories\": []}, {\"title\": \"Target 16.4\", \"categories\": []}, {\"title\": \"Target 16.5\", \"categories\": []}, {\"title\": \"Target 16.6\", \"categories\": []}, {\"title\": \"Target 16.7\", \"categories\": []}, {\"title\": \"Target 16.8\", \"categories\": []}, {\"title\": \"Target 16.9\", \"categories\": []}, {\"title\": \"Target 16.10\", \"categories\": []}, {\"title\": \"Target 16.a\", \"categories\": []}, {\"title\": \"Target 16.b\", \"categories\": []}]}, {\"title\": \"Goal 17\", \"categories\": [{\"title\": \"Target 17.1\", \"categories\": []}, {\"title\": \"Target 17.2\", \"categories\": []}, {\"title\": \"Target 17.3\", \"categories\": []}, {\"title\": \"Target 17.4\", \"categories\": []}, {\"title\": \"Target 17.5\", \"categories\": []}, {\"title\": \"Target 17.6\", \"categories\": []}, {\"title\": \"Target 17.7\", \"categories\": []}, {\"title\": \"Target 17.8\", \"categories\": []}, {\"title\": \"Target 17.9\", \"categories\": []}, {\"title\": \"Target 17.10\", \"categories\": []}, {\"title\": \"Target 17.11\", \"categories\": []}, {\"title\": \"Target 17.12\", \"categories\": []}, {\"title\": \"Target 17.13\", \"categories\": []}, {\"title\": \"Target 17.14\", \"categories\": []}, {\"title\": \"Target 17.15\", \"categories\": []}, {\"title\": \"Target 17.16\", \"categories\": []}, {\"title\": \"Target 17.17\", \"categories\": []}, {\"title\": \"Target 17.18\", \"categories\": []}, {\"title\": \"Target 17.19\", \"categories\": []}]}]}]}'}\n"
     ]
    },
    {
     "data": {
      "text/plain": [
       "{'success': True}"
      ]
     },
     "execution_count": 69,
     "metadata": {},
     "output_type": "execute_result"
    }
   ],
   "source": [
    "category_url = gis_online_connection._url + \"/sharing/rest/portals/\" + gis_online_connection.properties.id + \"/assignCategorySchema\"\n",
    "category_params = {\"f\": \"json\", \n",
    "                   \"token\": gis_online_connection._con.token,\n",
    "                   \"categorySchema\": json.dumps(catergory_schema)\n",
    "                  }\n",
    "print(category_params)\n",
    "r = requests.post(category_url, data=category_params)\n",
    "category_json_data = json.loads(r.content.decode(\"UTF-8\"))\n",
    "category_json_data"
   ]
  },
  {
   "cell_type": "code",
   "execution_count": null,
   "metadata": {},
   "outputs": [],
   "source": []
  }
 ],
 "metadata": {
  "kernelspec": {
   "display_name": "Python 3",
   "language": "python",
   "name": "python3"
  },
  "language_info": {
   "codemirror_mode": {
    "name": "ipython",
    "version": 3
   },
   "file_extension": ".py",
   "mimetype": "text/x-python",
   "name": "python",
   "nbconvert_exporter": "python",
   "pygments_lexer": "ipython3",
   "version": "3.6.2"
  }
 },
 "nbformat": 4,
 "nbformat_minor": 2
}
