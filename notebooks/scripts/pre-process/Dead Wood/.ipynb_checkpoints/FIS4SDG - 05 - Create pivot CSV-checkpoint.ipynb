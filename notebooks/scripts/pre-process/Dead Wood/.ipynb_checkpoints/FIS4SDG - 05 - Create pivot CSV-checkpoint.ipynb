{
 "cells": [
  {
   "cell_type": "markdown",
   "metadata": {},
   "source": [
    "# Create csv files for publication in wide format"
   ]
  },
  {
   "cell_type": "markdown",
   "metadata": {},
   "source": [
    "### Load necessary libraries"
   ]
  },
  {
   "cell_type": "code",
   "execution_count": 1,
   "metadata": {},
   "outputs": [],
   "source": [
    "import csv\n",
    "import json\n",
    "import urllib3  # allows to access a URL with python\n",
    "import math\n",
    "import os\n",
    "import io\n",
    "import collections\n",
    "import numpy as np\n",
    "import pandas as pd\n",
    "import xlsxwriter\n",
    "\n",
    "# https://volderette.de/jupyter-notebook-tip-multiple-outputs/\n",
    "from IPython.core.interactiveshell import InteractiveShell\n",
    "InteractiveShell.ast_node_interactivity = \"all\"\n"
   ]
  },
  {
   "cell_type": "markdown",
   "metadata": {},
   "source": [
    "### User parameters"
   ]
  },
  {
   "cell_type": "code",
   "execution_count": 2,
   "metadata": {},
   "outputs": [
    {
     "name": "stdout",
     "output_type": "stream",
     "text": [
      "C:\\Users\\L.GonzalezMorales\\Documents\\GitHub\\FIS4SDGs\\unsd\\scripts\\pre-process\\Dead Wood\n",
      "data inputs dir: ../\n"
     ]
    }
   ],
   "source": [
    "release = '2019.Q1.G.02' # Make sure to have the correct release here\n",
    "\n",
    "dir_path = os.path.dirname(os.path.realpath('__file__'))\n",
    "print(dir_path)\n",
    "\n",
    "wd_dir = r'../'\n",
    "print('data inputs dir: ' + wd_dir)"
   ]
  },
  {
   "cell_type": "markdown",
   "metadata": {},
   "source": [
    "## Utilities"
   ]
  },
  {
   "cell_type": "markdown",
   "metadata": {},
   "source": [
    "#### Convert string to camelCase"
   ]
  },
  {
   "cell_type": "code",
   "execution_count": 3,
   "metadata": {},
   "outputs": [],
   "source": [
    "def camelCase(st):\n",
    "    \"\"\"\n",
    "    https://stackoverflow.com/questions/8347048/camelcase-every-string-any-standard-library\n",
    "    \n",
    "    \"\"\"\n",
    "    output = ''.join(x for x in st.title() if x.isalnum())\n",
    "    return output[0].lower() + output[1:]"
   ]
  },
  {
   "cell_type": "markdown",
   "metadata": {},
   "source": [
    "#### Disable insecure request warnings when using `urllib3`."
   ]
  },
  {
   "cell_type": "code",
   "execution_count": 4,
   "metadata": {},
   "outputs": [],
   "source": [
    "urllib3.disable_warnings(urllib3.exceptions.InsecureRequestWarning)"
   ]
  },
  {
   "cell_type": "markdown",
   "metadata": {},
   "source": [
    "#### Create array to catch errors"
   ]
  },
  {
   "cell_type": "code",
   "execution_count": 5,
   "metadata": {},
   "outputs": [],
   "source": [
    "error_log = []"
   ]
  },
  {
   "cell_type": "markdown",
   "metadata": {},
   "source": [
    "### Read list of excel files with data for each series"
   ]
  },
  {
   "cell_type": "code",
   "execution_count": 6,
   "metadata": {},
   "outputs": [
    {
     "name": "stdout",
     "output_type": "stream",
     "text": [
      "path: ../data/2019.Q1.G.02/\n"
     ]
    },
    {
     "ename": "FileNotFoundError",
     "evalue": "[WinError 3] The system cannot find the path specified: '../data/2019.Q1.G.02/'",
     "output_type": "error",
     "traceback": [
      "\u001b[1;31m---------------------------------------------------------------------------\u001b[0m",
      "\u001b[1;31mFileNotFoundError\u001b[0m                         Traceback (most recent call last)",
      "\u001b[1;32m<ipython-input-6-69acd3bb3908>\u001b[0m in \u001b[0;36m<module>\u001b[1;34m\u001b[0m\n\u001b[0;32m      1\u001b[0m \u001b[0mpath\u001b[0m \u001b[1;33m=\u001b[0m \u001b[0mwd_dir\u001b[0m \u001b[1;33m+\u001b[0m \u001b[1;34mr'data/'\u001b[0m \u001b[1;33m+\u001b[0m \u001b[0mrelease\u001b[0m \u001b[1;33m+\u001b[0m \u001b[1;34m'/'\u001b[0m\u001b[1;33m\u001b[0m\u001b[1;33m\u001b[0m\u001b[0m\n\u001b[0;32m      2\u001b[0m \u001b[0mprint\u001b[0m\u001b[1;33m(\u001b[0m\u001b[1;34m\"path: \"\u001b[0m \u001b[1;33m+\u001b[0m \u001b[0mpath\u001b[0m\u001b[1;33m)\u001b[0m\u001b[1;33m\u001b[0m\u001b[1;33m\u001b[0m\u001b[0m\n\u001b[1;32m----> 3\u001b[1;33m \u001b[0mfiles\u001b[0m \u001b[1;33m=\u001b[0m \u001b[0mos\u001b[0m\u001b[1;33m.\u001b[0m\u001b[0mlistdir\u001b[0m\u001b[1;33m(\u001b[0m\u001b[0mpath\u001b[0m\u001b[1;33m)\u001b[0m\u001b[1;33m\u001b[0m\u001b[1;33m\u001b[0m\u001b[0m\n\u001b[0m\u001b[0;32m      4\u001b[0m \u001b[0mfiles\u001b[0m\u001b[1;33m[\u001b[0m\u001b[1;36m0\u001b[0m\u001b[1;33m:\u001b[0m\u001b[1;36m10\u001b[0m\u001b[1;33m]\u001b[0m\u001b[1;33m\u001b[0m\u001b[1;33m\u001b[0m\u001b[0m\n",
      "\u001b[1;31mFileNotFoundError\u001b[0m: [WinError 3] The system cannot find the path specified: '../data/2019.Q1.G.02/'"
     ]
    }
   ],
   "source": [
    "path = wd_dir + r'data/' + release + '/' \n",
    "print(\"path: \" + path)\n",
    "files = os.listdir(path)\n",
    "files[0:10]"
   ]
  },
  {
   "cell_type": "markdown",
   "metadata": {},
   "source": [
    "### For a selected file:"
   ]
  },
  {
   "cell_type": "markdown",
   "metadata": {},
   "source": [
    "#### 1)  Convert content of data file into a pandas DataFrame"
   ]
  },
  {
   "cell_type": "code",
   "execution_count": 7,
   "metadata": {},
   "outputs": [
    {
     "data": {
      "text/plain": [
       "(8060, 33)"
      ]
     },
     "execution_count": 7,
     "metadata": {},
     "output_type": "execute_result"
    },
    {
     "data": {
      "text/plain": [
       "Index(['goalCode', 'goalDesc', 'targetCode', 'targetDesc', 'indicatorCode',\n",
       "       'indicatorDesc', 'indicatorTier', 'seriesCode', 'seriesDesc',\n",
       "       'seriesRelease', 'timePeriod', 'geoAreaCode', 'geoAreaName', 'level',\n",
       "       'parentCode', 'parentName', 'type', 'CountryProfile', 'ISO3CD',\n",
       "       'UNMember', 'X', 'Y', 'value', 'valueType', 'timeDetail', 'source',\n",
       "       'footnotes', 'natureCode', 'unitsCode', 'reportingTypeCode',\n",
       "       'natureDesc', 'unitsDesc', 'reportingTypeDesc'],\n",
       "      dtype='object')"
      ]
     },
     "execution_count": 7,
     "metadata": {},
     "output_type": "execute_result"
    },
    {
     "data": {
      "text/html": [
       "<div>\n",
       "<style scoped>\n",
       "    .dataframe tbody tr th:only-of-type {\n",
       "        vertical-align: middle;\n",
       "    }\n",
       "\n",
       "    .dataframe tbody tr th {\n",
       "        vertical-align: top;\n",
       "    }\n",
       "\n",
       "    .dataframe thead th {\n",
       "        text-align: right;\n",
       "    }\n",
       "</style>\n",
       "<table border=\"1\" class=\"dataframe\">\n",
       "  <thead>\n",
       "    <tr style=\"text-align: right;\">\n",
       "      <th></th>\n",
       "      <th>goalCode</th>\n",
       "      <th>goalDesc</th>\n",
       "      <th>targetCode</th>\n",
       "      <th>targetDesc</th>\n",
       "      <th>indicatorCode</th>\n",
       "      <th>indicatorDesc</th>\n",
       "      <th>indicatorTier</th>\n",
       "      <th>seriesCode</th>\n",
       "      <th>seriesDesc</th>\n",
       "      <th>seriesRelease</th>\n",
       "      <th>...</th>\n",
       "      <th>valueType</th>\n",
       "      <th>timeDetail</th>\n",
       "      <th>source</th>\n",
       "      <th>footnotes</th>\n",
       "      <th>natureCode</th>\n",
       "      <th>unitsCode</th>\n",
       "      <th>reportingTypeCode</th>\n",
       "      <th>natureDesc</th>\n",
       "      <th>unitsDesc</th>\n",
       "      <th>reportingTypeDesc</th>\n",
       "    </tr>\n",
       "  </thead>\n",
       "  <tbody>\n",
       "    <tr>\n",
       "      <th>0</th>\n",
       "      <td>1</td>\n",
       "      <td>End poverty in all its forms everywhere</td>\n",
       "      <td>1.5</td>\n",
       "      <td>By 2030, build the resilience of the poor and ...</td>\n",
       "      <td>1.5.2</td>\n",
       "      <td>Direct economic loss attributed to disasters i...</td>\n",
       "      <td>1</td>\n",
       "      <td>VC_DSR_LSGP</td>\n",
       "      <td>Direct economic loss attributed to disasters r...</td>\n",
       "      <td>2019.Q1.G.02</td>\n",
       "      <td>...</td>\n",
       "      <td>NaN</td>\n",
       "      <td>NaN</td>\n",
       "      <td>NaN</td>\n",
       "      <td>NaN</td>\n",
       "      <td>NaN</td>\n",
       "      <td>NaN</td>\n",
       "      <td>NaN</td>\n",
       "      <td>NaN</td>\n",
       "      <td>NaN</td>\n",
       "      <td>NaN</td>\n",
       "    </tr>\n",
       "    <tr>\n",
       "      <th>1</th>\n",
       "      <td>1</td>\n",
       "      <td>End poverty in all its forms everywhere</td>\n",
       "      <td>1.5</td>\n",
       "      <td>By 2030, build the resilience of the poor and ...</td>\n",
       "      <td>1.5.2</td>\n",
       "      <td>Direct economic loss attributed to disasters i...</td>\n",
       "      <td>1</td>\n",
       "      <td>VC_DSR_LSGP</td>\n",
       "      <td>Direct economic loss attributed to disasters r...</td>\n",
       "      <td>2019.Q1.G.02</td>\n",
       "      <td>...</td>\n",
       "      <td>NaN</td>\n",
       "      <td>NaN</td>\n",
       "      <td>NaN</td>\n",
       "      <td>NaN</td>\n",
       "      <td>NaN</td>\n",
       "      <td>NaN</td>\n",
       "      <td>NaN</td>\n",
       "      <td>NaN</td>\n",
       "      <td>NaN</td>\n",
       "      <td>NaN</td>\n",
       "    </tr>\n",
       "    <tr>\n",
       "      <th>2</th>\n",
       "      <td>1</td>\n",
       "      <td>End poverty in all its forms everywhere</td>\n",
       "      <td>1.5</td>\n",
       "      <td>By 2030, build the resilience of the poor and ...</td>\n",
       "      <td>1.5.2</td>\n",
       "      <td>Direct economic loss attributed to disasters i...</td>\n",
       "      <td>1</td>\n",
       "      <td>VC_DSR_LSGP</td>\n",
       "      <td>Direct economic loss attributed to disasters r...</td>\n",
       "      <td>2019.Q1.G.02</td>\n",
       "      <td>...</td>\n",
       "      <td>NaN</td>\n",
       "      <td>NaN</td>\n",
       "      <td>NaN</td>\n",
       "      <td>NaN</td>\n",
       "      <td>NaN</td>\n",
       "      <td>NaN</td>\n",
       "      <td>NaN</td>\n",
       "      <td>NaN</td>\n",
       "      <td>NaN</td>\n",
       "      <td>NaN</td>\n",
       "    </tr>\n",
       "  </tbody>\n",
       "</table>\n",
       "<p>3 rows × 33 columns</p>\n",
       "</div>"
      ],
      "text/plain": [
       "   goalCode                                 goalDesc  targetCode  \\\n",
       "0         1  End poverty in all its forms everywhere         1.5   \n",
       "1         1  End poverty in all its forms everywhere         1.5   \n",
       "2         1  End poverty in all its forms everywhere         1.5   \n",
       "\n",
       "                                          targetDesc indicatorCode  \\\n",
       "0  By 2030, build the resilience of the poor and ...         1.5.2   \n",
       "1  By 2030, build the resilience of the poor and ...         1.5.2   \n",
       "2  By 2030, build the resilience of the poor and ...         1.5.2   \n",
       "\n",
       "                                       indicatorDesc  indicatorTier  \\\n",
       "0  Direct economic loss attributed to disasters i...              1   \n",
       "1  Direct economic loss attributed to disasters i...              1   \n",
       "2  Direct economic loss attributed to disasters i...              1   \n",
       "\n",
       "    seriesCode                                         seriesDesc  \\\n",
       "0  VC_DSR_LSGP  Direct economic loss attributed to disasters r...   \n",
       "1  VC_DSR_LSGP  Direct economic loss attributed to disasters r...   \n",
       "2  VC_DSR_LSGP  Direct economic loss attributed to disasters r...   \n",
       "\n",
       "  seriesRelease  ...  valueType  timeDetail source  footnotes  natureCode  \\\n",
       "0  2019.Q1.G.02  ...        NaN         NaN    NaN        NaN         NaN   \n",
       "1  2019.Q1.G.02  ...        NaN         NaN    NaN        NaN         NaN   \n",
       "2  2019.Q1.G.02  ...        NaN         NaN    NaN        NaN         NaN   \n",
       "\n",
       "  unitsCode reportingTypeCode  natureDesc unitsDesc  reportingTypeDesc  \n",
       "0       NaN               NaN         NaN       NaN                NaN  \n",
       "1       NaN               NaN         NaN       NaN                NaN  \n",
       "2       NaN               NaN         NaN       NaN                NaN  \n",
       "\n",
       "[3 rows x 33 columns]"
      ]
     },
     "execution_count": 7,
     "metadata": {},
     "output_type": "execute_result"
    }
   ],
   "source": [
    "f = 'Data_1.5.2_VC_DSR_LSGP.xlsx'\n",
    "\n",
    "xlsx = pd.ExcelFile(path + f)\n",
    "x = pd.read_excel(xlsx, 'Sheet1')\n",
    "x.shape\n",
    "x.columns\n",
    "x.head(3)\n",
    "\n",
    "\n"
   ]
  },
  {
   "cell_type": "code",
   "execution_count": null,
   "metadata": {},
   "outputs": [],
   "source": []
  },
  {
   "cell_type": "code",
   "execution_count": null,
   "metadata": {},
   "outputs": [],
   "source": []
  }
 ],
 "metadata": {
  "kernelspec": {
   "display_name": "Python 3",
   "language": "python",
   "name": "python3"
  },
  "language_info": {
   "codemirror_mode": {
    "name": "ipython",
    "version": 3
   },
   "file_extension": ".py",
   "mimetype": "text/x-python",
   "name": "python",
   "nbconvert_exporter": "python",
   "pygments_lexer": "ipython3",
   "version": "3.6.8"
  }
 },
 "nbformat": 4,
 "nbformat_minor": 2
}
