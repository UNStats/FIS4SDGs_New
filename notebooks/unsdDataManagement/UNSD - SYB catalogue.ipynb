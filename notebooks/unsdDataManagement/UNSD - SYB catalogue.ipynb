{
 "cells": [
  {
   "cell_type": "markdown",
   "metadata": {},
   "source": [
    "# Get catalogue of SYB feature layers published by UNSD in SDG Open Data Site "
   ]
  },
  {
   "cell_type": "code",
   "execution_count": 4,
   "metadata": {},
   "outputs": [],
   "source": [
    "from arcgis.gis import GIS\n",
    "import os\n",
    "import json\n",
    "\n",
    "try: \n",
    "    from BeautifulSoup import BeautifulSoup\n",
    "except ImportError:\n",
    "    from bs4 import BeautifulSoup\n",
    "\n",
    "# https://volderette.de/jupyter-notebook-tip-multiple-outputs/\n",
    "from IPython.core.interactiveshell import InteractiveShell\n",
    "InteractiveShell.ast_node_interactivity = \"all\""
   ]
  },
  {
   "cell_type": "markdown",
   "metadata": {},
   "source": [
    "### User parameters"
   ]
  },
  {
   "cell_type": "code",
   "execution_count": 5,
   "metadata": {},
   "outputs": [
    {
     "name": "stdout",
     "output_type": "stream",
     "text": [
      "C:\\Users\\L.GonzalezMorales\\Documents\\GitHub\\FIS4SDGs\\notebooks\\unsdDataManagement\n",
      "data inputs dir: ../../data/unsd/\n"
     ]
    }
   ],
   "source": [
    "dir_path = os.path.dirname(os.path.realpath('__file__'))\n",
    "print(dir_path)\n",
    "\n",
    "output_dir = r'../../data/unsd/'\n",
    "print('data inputs dir: ' + output_dir)"
   ]
  },
  {
   "cell_type": "markdown",
   "metadata": {},
   "source": [
    "To create a GIS object, pass the url and login credentials:"
   ]
  },
  {
   "cell_type": "code",
   "execution_count": 6,
   "metadata": {},
   "outputs": [
    {
     "name": "stdin",
     "output_type": "stream",
     "text": [
      "Username:  gonzalezmorales_undesa\n",
      "Password:  ··········\n"
     ]
    }
   ],
   "source": [
    "import getpass\n",
    "\n",
    "online_username = input('Username: ')\n",
    "online_password = getpass.getpass('Password: ')\n",
    "online_connection = \"https://www.arcgis.com\"\n",
    "\n",
    "\n",
    "gis = GIS(online_connection, \n",
    "          online_username, \n",
    "          online_password)"
   ]
  },
  {
   "cell_type": "markdown",
   "metadata": {},
   "source": [
    "### Open data groups to search from"
   ]
  },
  {
   "cell_type": "code",
   "execution_count": 7,
   "metadata": {},
   "outputs": [
    {
     "data": {
      "text/plain": [
       "{'02': '29deadbc8f8c4ffaa4e39a1309753967',\n",
       " '03': 'f490c0547c1441239d1e2774cff18ee1',\n",
       " '04': 'd29d2a9106e4428d8bd3f3a0cae4e021',\n",
       " '05': '583d7057c4ca40b28ee344dd271ffd07',\n",
       " '06': '4682c606514044d3bbbe741f1a3e4e2a',\n",
       " '07': '6e4d253e2e944132ab72b2d8e6e0d149',\n",
       " '08': 'd277c4d7c8a0438394bee1e98e501cb3',\n",
       " '09': 'e682722d7cae463f84b1b50408779451',\n",
       " '11': '4fc4d373d4574eb1bb5e06bb825dc83c',\n",
       " '13': 'd940686a22a84aa7820c619352d3b252',\n",
       " '14': 'f0a7f4c435bf4d54a0b1f89e268d9137',\n",
       " '15': '692d1929a8fa4f91b16e1098afe8d451',\n",
       " '16': '043d947fea5b467e8f6071b299394c9e',\n",
       " '19': '247d50a1970c4310bfc8e5d37c87e789',\n",
       " '20': '768edf7961644d29a730a47c3075c11a',\n",
       " '22': 'a5d0dd033b3e449295276a43e77b8eaa'}"
      ]
     },
     "execution_count": 7,
     "metadata": {},
     "output_type": "execute_result"
    }
   ],
   "source": [
    "open_data_groups = {\n",
    "    '02' : '29deadbc8f8c4ffaa4e39a1309753967', # SYB_Topic02\n",
    "    '03' : 'f490c0547c1441239d1e2774cff18ee1', # SYB_Topic03\n",
    "    '04' : 'd29d2a9106e4428d8bd3f3a0cae4e021', # SYB_Topic04\n",
    "    '05' : '583d7057c4ca40b28ee344dd271ffd07', # SYB_Topic05\n",
    "    '06' : '4682c606514044d3bbbe741f1a3e4e2a', # SYB_Topic06\n",
    "    '07' : '6e4d253e2e944132ab72b2d8e6e0d149', # SYB_Topic07\n",
    "    '08' : 'd277c4d7c8a0438394bee1e98e501cb3', # SYB_Topic08\n",
    "    '09' : 'e682722d7cae463f84b1b50408779451', # SYB_Topic09\n",
    "    '11' : '4fc4d373d4574eb1bb5e06bb825dc83c', # SYB_Topic11\n",
    "    '13' : 'd940686a22a84aa7820c619352d3b252', # SYB_Topic13\n",
    "    '14' : 'f0a7f4c435bf4d54a0b1f89e268d9137', # SYB_Topic14\n",
    "    '15' : '692d1929a8fa4f91b16e1098afe8d451', # SYB_Topic15\n",
    "    '16' : '043d947fea5b467e8f6071b299394c9e', # SYB_Topic16\n",
    "    '19' : '247d50a1970c4310bfc8e5d37c87e789', # SYB_Topic19\n",
    "    '20' : '768edf7961644d29a730a47c3075c11a', # SYB_Topic20\n",
    "    '22' : 'a5d0dd033b3e449295276a43e77b8eaa', # SYB_Topic22\n",
    "}\n",
    "\n",
    "open_data_groups"
   ]
  },
  {
   "cell_type": "code",
   "execution_count": 11,
   "metadata": {},
   "outputs": [
    {
     "name": "stdout",
     "output_type": "stream",
     "text": [
      "SYB072\n",
      "SYB080\n",
      "SYB078\n",
      "SYB079\n",
      "SYB011\n",
      "SYB074\n",
      "SYB073\n",
      "SYB012\n",
      "SYB013\n",
      "SYB075\n",
      "SYB014\n",
      "SYB088\n",
      "SYB081\n",
      "SYB089\n",
      "SYB090\n",
      "SYB087\n",
      "SYB091\n",
      "SYB015\n",
      "SYB076\n",
      "SYB077\n",
      "SYB082\n",
      "SYB001\n",
      "SYB002\n",
      "SYB120\n",
      "SYB112\n",
      "SYB111\n",
      "SYB109\n",
      "SYB110\n",
      "SYB108\n",
      "SYB119\n",
      "SYB113\n",
      "SYB118\n",
      "SYB105\n",
      "SYB023\n",
      "SYB024\n",
      "SYB025\n",
      "SYB026\n",
      "SYB022\n",
      "SYB065\n",
      "SYB066\n",
      "SYB067\n",
      "SYB068\n",
      "SYB069\n",
      "SYB030\n",
      "SYB092\n",
      "SYB093\n",
      "SYB094\n",
      "SYB095\n",
      "SYB028\n",
      "SYB029\n",
      "SYB027\n",
      "SYB098\n",
      "SYB101\n",
      "SYB099\n",
      "SYB100\n",
      "SYB102\n",
      "SYB103\n",
      "SYB104\n",
      "SYB046\n",
      "SYB045\n",
      "SYB123\n",
      "SYB124\n",
      "SYB048\n",
      "SYB047\n",
      "SYB049\n",
      "SYB050\n",
      "SYB052\n",
      "SYB051\n",
      "SYB083\n",
      "SYB084\n",
      "SYB085\n",
      "SYB086\n",
      "SYB003\n",
      "SYB059\n",
      "SYB004\n",
      "SYB005\n",
      "SYB006\n",
      "SYB007\n",
      "SYB008\n",
      "SYB009\n",
      "SYB010\n",
      "SYB060\n",
      "SYB058\n",
      "SYB061\n",
      "SYB062\n",
      "SYB063\n",
      "SYB064\n",
      "SYB016\n",
      "SYB018\n",
      "SYB020\n",
      "SYB017\n",
      "SYB019\n",
      "SYB021\n",
      "SYB037\n",
      "SYB038\n",
      "SYB039\n",
      "SYB040\n",
      "SYB041\n",
      "SYB042\n",
      "SYB043\n",
      "SYB044\n",
      "SYB035\n",
      "SYB036\n",
      "SYB033\n",
      "SYB034\n",
      "SYB031\n",
      "SYB032\n",
      "SYB114\n",
      "SYB115\n",
      "SYB070\n",
      "SYB071\n",
      "SYB097\n",
      "SYB096\n",
      "SYB053\n",
      "SYB054\n",
      "SYB055\n",
      "SYB056\n",
      "SYB057\n",
      "SYB116\n",
      "SYB117\n",
      "SYB121\n",
      "SYB122\n"
     ]
    },
    {
     "data": {
      "text/plain": [
       "{'seriesName': 'Asylum seekers  including pending cases',\n",
       " 'publicationYear': '2018',\n",
       " 'id': 'a1bc495b927c4873b6d314a0ce3b7bd1',\n",
       " 'owner': 'unstats_admin',\n",
       " 'created': 1561274445000,\n",
       " 'modified': 1561310873000,\n",
       " 'title': 'SYB indicator: Asylum seekers, including pending cases',\n",
       " 'type': 'Feature Service',\n",
       " 'tags': ['SYB'],\n",
       " 'url': 'https://services7.arcgis.com/gp50Ao2knMlOM89z/arcgis/rest/services/SYB072_2018/FeatureServer',\n",
       " 'seriesCode': 'SYB072'}"
      ]
     },
     "execution_count": 11,
     "metadata": {},
     "output_type": "execute_result"
    }
   ],
   "source": [
    "layer_info = []\n",
    "\n",
    "for k, topic_id in open_data_groups.items():\n",
    "    \n",
    "    d1 = {}\n",
    "    d1['topic'] = int(k)\n",
    "    d1['id'] = topic_id\n",
    "    d1['series'] = []\n",
    "\n",
    "    group = gis.groups.get(topic_id)\n",
    "    group_content = group.content()\n",
    "    for item in group_content:\n",
    "        \n",
    "        if item['owner'] == 'unstats_admin':\n",
    "            d2 = {}            \n",
    "            \n",
    "            description = item['description']\n",
    "            parsed_description = BeautifulSoup(description)\n",
    "            \n",
    "            if parsed_description.ul:\n",
    "                description_items = parsed_description.ul.find_all('li', recursive=False)\n",
    "            \n",
    "                d2['seriesName'] = description_items[0].text.split(\": \",1)[1]\n",
    "                d2['publicationYear'] = description_items[1].text.split(\": \",1)[1]\n",
    "                \n",
    "            d2['id'] = item['id']\n",
    "            d2['owner'] = item['owner']\n",
    "            d2['created'] = item['created']\n",
    "            d2['modified'] = item['modified']\n",
    "            d2['title'] = item['title']\n",
    "            d2['type'] = item['type']\n",
    "            d2['tags'] = item['tags']\n",
    "            d2['url'] = item['url']\n",
    "            \n",
    "            d2['seriesCode'] = d2['url'].replace(\"https://services7.arcgis.com/gp50Ao2knMlOM89z/arcgis/rest/services/\", \"\").replace('_2018/FeatureServer', '')\n",
    "            print(d2['seriesCode'])\n",
    "          \n",
    "            d1['series'].append(d2)\n",
    "    layer_info.append(d1)\n",
    "\n",
    "layer_info[0]['series'][0]"
   ]
  },
  {
   "cell_type": "code",
   "execution_count": 12,
   "metadata": {},
   "outputs": [],
   "source": [
    "with open(output_dir + 'unsd_syb_catalogue.json', 'w') as f:\n",
    "    json.dump(layer_info, f, indent=4)\n"
   ]
  },
  {
   "cell_type": "code",
   "execution_count": null,
   "metadata": {},
   "outputs": [],
   "source": []
  }
 ],
 "metadata": {
  "kernelspec": {
   "display_name": "Python 3",
   "language": "python",
   "name": "python3"
  },
  "language_info": {
   "codemirror_mode": {
    "name": "ipython",
    "version": 3
   },
   "file_extension": ".py",
   "mimetype": "text/x-python",
   "name": "python",
   "nbconvert_exporter": "python",
   "pygments_lexer": "ipython3",
   "version": "3.6.8"
  }
 },
 "nbformat": 4,
 "nbformat_minor": 2
}
