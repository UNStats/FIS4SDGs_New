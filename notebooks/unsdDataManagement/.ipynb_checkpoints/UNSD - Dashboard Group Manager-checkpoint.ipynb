{
 "cells": [
  {
   "cell_type": "markdown",
   "metadata": {},
   "source": [
    "# Manage content of SDG Dashboard Group"
   ]
  },
  {
   "cell_type": "code",
   "execution_count": null,
   "metadata": {},
   "outputs": [],
   "source": [
    "from arcgis.gis import GIS\n",
    "import os\n",
    "import json\n",
    "\n",
    "try: \n",
    "    from BeautifulSoup import BeautifulSoup\n",
    "except ImportError:\n",
    "    from bs4 import BeautifulSoup\n",
    "\n",
    "# https://volderette.de/jupyter-notebook-tip-multiple-outputs/\n",
    "from IPython.core.interactiveshell import InteractiveShell\n",
    "InteractiveShell.ast_node_interactivity = \"all\""
   ]
  },
  {
   "cell_type": "markdown",
   "metadata": {},
   "source": [
    "### To create a GIS object, pass the url and login credentials:"
   ]
  },
  {
   "cell_type": "code",
   "execution_count": null,
   "metadata": {},
   "outputs": [],
   "source": [
    "import getpass\n",
    "\n",
    "online_username = input('Username: ')\n",
    "online_password = getpass.getpass('Password: ')\n",
    "online_connection = \"https://www.arcgis.com\"\n",
    "\n",
    "\n",
    "gis = GIS(online_connection, \n",
    "          online_username, \n",
    "          online_password)"
   ]
  },
  {
   "cell_type": "markdown",
   "metadata": {},
   "source": [
    "### Admin user name"
   ]
  },
  {
   "cell_type": "code",
   "execution_count": 3,
   "metadata": {},
   "outputs": [],
   "source": [
    "online_username_admin = 'unstats_admin'"
   ]
  },
  {
   "cell_type": "code",
   "execution_count": 4,
   "metadata": {},
   "outputs": [],
   "source": [
    "user = gis.users.get(online_username)\n",
    "admin_user = gis.users.get(online_username_admin)\n"
   ]
  },
  {
   "cell_type": "markdown",
   "metadata": {},
   "source": [
    "### SDG Dashboard Group"
   ]
  },
  {
   "cell_type": "code",
   "execution_count": 6,
   "metadata": {},
   "outputs": [],
   "source": [
    "sdg_dashboard_group = '617e8c414d1d488eb1b2c292cb66a658'\n",
    "cloning_dashboard_group = '8caca00a1edc441f9f6789be4e884276'"
   ]
  },
  {
   "cell_type": "markdown",
   "metadata": {},
   "source": [
    "### Get current contents of SDG Dashboard Group"
   ]
  },
  {
   "cell_type": "code",
   "execution_count": 7,
   "metadata": {},
   "outputs": [],
   "source": [
    "group = gis.groups.get(cloning_dashboard_group)\n",
    "group_content = group.content()\n"
   ]
  },
  {
   "cell_type": "markdown",
   "metadata": {},
   "source": [
    "### Move content from cloning group to public dashboard group"
   ]
  },
  {
   "cell_type": "code",
   "execution_count": 8,
   "metadata": {},
   "outputs": [
    {
     "data": {
      "text/plain": [
       "'reassigning item 1.1.1 Employed population below international poverty line (percent) from apfister_undesa to unstats_admin'"
      ]
     },
     "metadata": {},
     "output_type": "display_data"
    },
    {
     "data": {
      "text/plain": [
       "True"
      ]
     },
     "execution_count": 8,
     "metadata": {},
     "output_type": "execute_result"
    },
    {
     "data": {
      "text/plain": [
       "'unsharing item 1.1.1 Employed population below international poverty line (percent)from the cloning dashboard group'"
      ]
     },
     "metadata": {},
     "output_type": "display_data"
    },
    {
     "data": {
      "text/plain": [
       "{'notUnsharedFrom': [], 'itemId': '2e5d940573a34be3b2f6a492429edb0a'}"
      ]
     },
     "execution_count": 8,
     "metadata": {},
     "output_type": "execute_result"
    },
    {
     "data": {
      "text/plain": [
       "'sharing item 1.1.1 Employed population below international poverty line (percent)with the sdg dashboard group'"
      ]
     },
     "metadata": {},
     "output_type": "display_data"
    },
    {
     "data": {
      "text/plain": [
       "{'notSharedWith': [], 'itemId': '2e5d940573a34be3b2f6a492429edb0a'}"
      ]
     },
     "execution_count": 8,
     "metadata": {},
     "output_type": "execute_result"
    },
    {
     "name": "stdout",
     "output_type": "stream",
     "text": [
      "-----\n"
     ]
    },
    {
     "data": {
      "text/plain": [
       "'reassigning item 1.1.1 Employed population below international poverty line (percent) from apfister_undesa to unstats_admin'"
      ]
     },
     "metadata": {},
     "output_type": "display_data"
    },
    {
     "data": {
      "text/plain": [
       "True"
      ]
     },
     "execution_count": 8,
     "metadata": {},
     "output_type": "execute_result"
    },
    {
     "data": {
      "text/plain": [
       "'unsharing item 1.1.1 Employed population below international poverty line (percent)from the cloning dashboard group'"
      ]
     },
     "metadata": {},
     "output_type": "display_data"
    },
    {
     "data": {
      "text/plain": [
       "{'notUnsharedFrom': [], 'itemId': 'a21cfc148f0b4556a711efd2afdafcd1'}"
      ]
     },
     "execution_count": 8,
     "metadata": {},
     "output_type": "execute_result"
    },
    {
     "data": {
      "text/plain": [
       "'sharing item 1.1.1 Employed population below international poverty line (percent)with the sdg dashboard group'"
      ]
     },
     "metadata": {},
     "output_type": "display_data"
    },
    {
     "data": {
      "text/plain": [
       "{'notSharedWith': [], 'itemId': 'a21cfc148f0b4556a711efd2afdafcd1'}"
      ]
     },
     "execution_count": 8,
     "metadata": {},
     "output_type": "execute_result"
    },
    {
     "name": "stdout",
     "output_type": "stream",
     "text": [
      "-----\n"
     ]
    },
    {
     "data": {
      "text/plain": [
       "'reassigning item 1.1.1 Population below international poverty line (percent) from apfister_undesa to unstats_admin'"
      ]
     },
     "metadata": {},
     "output_type": "display_data"
    },
    {
     "data": {
      "text/plain": [
       "True"
      ]
     },
     "execution_count": 8,
     "metadata": {},
     "output_type": "execute_result"
    },
    {
     "data": {
      "text/plain": [
       "'unsharing item 1.1.1 Population below international poverty line (percent)from the cloning dashboard group'"
      ]
     },
     "metadata": {},
     "output_type": "display_data"
    },
    {
     "data": {
      "text/plain": [
       "{'notUnsharedFrom': [], 'itemId': 'be1a5aba68f34ea2a4bfbe9a2899efad'}"
      ]
     },
     "execution_count": 8,
     "metadata": {},
     "output_type": "execute_result"
    },
    {
     "data": {
      "text/plain": [
       "'sharing item 1.1.1 Population below international poverty line (percent)with the sdg dashboard group'"
      ]
     },
     "metadata": {},
     "output_type": "display_data"
    },
    {
     "data": {
      "text/plain": [
       "{'notSharedWith': [], 'itemId': 'be1a5aba68f34ea2a4bfbe9a2899efad'}"
      ]
     },
     "execution_count": 8,
     "metadata": {},
     "output_type": "execute_result"
    },
    {
     "name": "stdout",
     "output_type": "stream",
     "text": [
      "-----\n"
     ]
    },
    {
     "data": {
      "text/plain": [
       "'reassigning item 1.1.1 Population below international poverty line (percent) from apfister_undesa to unstats_admin'"
      ]
     },
     "metadata": {},
     "output_type": "display_data"
    },
    {
     "data": {
      "text/plain": [
       "True"
      ]
     },
     "execution_count": 8,
     "metadata": {},
     "output_type": "execute_result"
    },
    {
     "data": {
      "text/plain": [
       "'unsharing item 1.1.1 Population below international poverty line (percent)from the cloning dashboard group'"
      ]
     },
     "metadata": {},
     "output_type": "display_data"
    },
    {
     "data": {
      "text/plain": [
       "{'notUnsharedFrom': [], 'itemId': '6ef82418172842ceb70d7fe61f872fa7'}"
      ]
     },
     "execution_count": 8,
     "metadata": {},
     "output_type": "execute_result"
    },
    {
     "data": {
      "text/plain": [
       "'sharing item 1.1.1 Population below international poverty line (percent)with the sdg dashboard group'"
      ]
     },
     "metadata": {},
     "output_type": "display_data"
    },
    {
     "data": {
      "text/plain": [
       "{'notSharedWith': [], 'itemId': '6ef82418172842ceb70d7fe61f872fa7'}"
      ]
     },
     "execution_count": 8,
     "metadata": {},
     "output_type": "execute_result"
    },
    {
     "name": "stdout",
     "output_type": "stream",
     "text": [
      "-----\n"
     ]
    },
    {
     "data": {
      "text/plain": [
       "'reassigning item 1.2.1 Proportion of population living below the national poverty line (percent) from apfister_undesa to unstats_admin'"
      ]
     },
     "metadata": {},
     "output_type": "display_data"
    },
    {
     "data": {
      "text/plain": [
       "True"
      ]
     },
     "execution_count": 8,
     "metadata": {},
     "output_type": "execute_result"
    },
    {
     "data": {
      "text/plain": [
       "'unsharing item 1.2.1 Proportion of population living below the national poverty line (percent)from the cloning dashboard group'"
      ]
     },
     "metadata": {},
     "output_type": "display_data"
    },
    {
     "data": {
      "text/plain": [
       "{'notUnsharedFrom': [], 'itemId': 'f68a6af80d154be2bdeb1221a41fc099'}"
      ]
     },
     "execution_count": 8,
     "metadata": {},
     "output_type": "execute_result"
    },
    {
     "data": {
      "text/plain": [
       "'sharing item 1.2.1 Proportion of population living below the national poverty line (percent)with the sdg dashboard group'"
      ]
     },
     "metadata": {},
     "output_type": "display_data"
    },
    {
     "data": {
      "text/plain": [
       "{'notSharedWith': [], 'itemId': 'f68a6af80d154be2bdeb1221a41fc099'}"
      ]
     },
     "execution_count": 8,
     "metadata": {},
     "output_type": "execute_result"
    },
    {
     "name": "stdout",
     "output_type": "stream",
     "text": [
      "-----\n"
     ]
    },
    {
     "data": {
      "text/plain": [
       "'reassigning item 1.2.1 Proportion of population living below the national poverty line (percent) from apfister_undesa to unstats_admin'"
      ]
     },
     "metadata": {},
     "output_type": "display_data"
    },
    {
     "data": {
      "text/plain": [
       "True"
      ]
     },
     "execution_count": 8,
     "metadata": {},
     "output_type": "execute_result"
    },
    {
     "data": {
      "text/plain": [
       "'unsharing item 1.2.1 Proportion of population living below the national poverty line (percent)from the cloning dashboard group'"
      ]
     },
     "metadata": {},
     "output_type": "display_data"
    },
    {
     "data": {
      "text/plain": [
       "{'notUnsharedFrom': [], 'itemId': '5b85ae203dcd42bd836eb25ffd3832ac'}"
      ]
     },
     "execution_count": 8,
     "metadata": {},
     "output_type": "execute_result"
    },
    {
     "data": {
      "text/plain": [
       "'sharing item 1.2.1 Proportion of population living below the national poverty line (percent)with the sdg dashboard group'"
      ]
     },
     "metadata": {},
     "output_type": "display_data"
    },
    {
     "data": {
      "text/plain": [
       "{'notSharedWith': [], 'itemId': '5b85ae203dcd42bd836eb25ffd3832ac'}"
      ]
     },
     "execution_count": 8,
     "metadata": {},
     "output_type": "execute_result"
    },
    {
     "name": "stdout",
     "output_type": "stream",
     "text": [
      "-----\n"
     ]
    },
    {
     "data": {
      "text/plain": [
       "'reassigning item 10.4.1 Labour share of GDP, comprising wages and social protection transfers (percent) from apfister_undesa to unstats_admin'"
      ]
     },
     "metadata": {},
     "output_type": "display_data"
    },
    {
     "data": {
      "text/plain": [
       "True"
      ]
     },
     "execution_count": 8,
     "metadata": {},
     "output_type": "execute_result"
    },
    {
     "data": {
      "text/plain": [
       "'unsharing item 10.4.1 Labour share of GDP, comprising wages and social protection transfers (percent)from the cloning dashboard group'"
      ]
     },
     "metadata": {},
     "output_type": "display_data"
    },
    {
     "data": {
      "text/plain": [
       "{'notUnsharedFrom': [], 'itemId': '15dc3573891044719a547aa4e380a044'}"
      ]
     },
     "execution_count": 8,
     "metadata": {},
     "output_type": "execute_result"
    },
    {
     "data": {
      "text/plain": [
       "'sharing item 10.4.1 Labour share of GDP, comprising wages and social protection transfers (percent)with the sdg dashboard group'"
      ]
     },
     "metadata": {},
     "output_type": "display_data"
    },
    {
     "data": {
      "text/plain": [
       "{'notSharedWith': [], 'itemId': '15dc3573891044719a547aa4e380a044'}"
      ]
     },
     "execution_count": 8,
     "metadata": {},
     "output_type": "execute_result"
    },
    {
     "name": "stdout",
     "output_type": "stream",
     "text": [
      "-----\n"
     ]
    },
    {
     "data": {
      "text/plain": [
       "'reassigning item 10.4.1 Labour share of GDP, comprising wages and social protection transfers (percent) from apfister_undesa to unstats_admin'"
      ]
     },
     "metadata": {},
     "output_type": "display_data"
    },
    {
     "data": {
      "text/plain": [
       "True"
      ]
     },
     "execution_count": 8,
     "metadata": {},
     "output_type": "execute_result"
    },
    {
     "data": {
      "text/plain": [
       "'unsharing item 10.4.1 Labour share of GDP, comprising wages and social protection transfers (percent)from the cloning dashboard group'"
      ]
     },
     "metadata": {},
     "output_type": "display_data"
    },
    {
     "data": {
      "text/plain": [
       "{'notUnsharedFrom': [], 'itemId': '0bf91155efec49a890bebf9320a4bb48'}"
      ]
     },
     "execution_count": 8,
     "metadata": {},
     "output_type": "execute_result"
    },
    {
     "data": {
      "text/plain": [
       "'sharing item 10.4.1 Labour share of GDP, comprising wages and social protection transfers (percent)with the sdg dashboard group'"
      ]
     },
     "metadata": {},
     "output_type": "display_data"
    },
    {
     "data": {
      "text/plain": [
       "{'notSharedWith': [], 'itemId': '0bf91155efec49a890bebf9320a4bb48'}"
      ]
     },
     "execution_count": 8,
     "metadata": {},
     "output_type": "execute_result"
    },
    {
     "name": "stdout",
     "output_type": "stream",
     "text": [
      "-----\n"
     ]
    },
    {
     "data": {
      "text/plain": [
       "'reassigning item 11.1.1 Proportion of urban population living in slums (percent) from apfister_undesa to unstats_admin'"
      ]
     },
     "metadata": {},
     "output_type": "display_data"
    },
    {
     "data": {
      "text/plain": [
       "True"
      ]
     },
     "execution_count": 8,
     "metadata": {},
     "output_type": "execute_result"
    },
    {
     "data": {
      "text/plain": [
       "'unsharing item 11.1.1 Proportion of urban population living in slums (percent)from the cloning dashboard group'"
      ]
     },
     "metadata": {},
     "output_type": "display_data"
    },
    {
     "data": {
      "text/plain": [
       "{'notUnsharedFrom': [], 'itemId': 'c28d0e785cb64e86af1a02ce845aae1e'}"
      ]
     },
     "execution_count": 8,
     "metadata": {},
     "output_type": "execute_result"
    },
    {
     "data": {
      "text/plain": [
       "'sharing item 11.1.1 Proportion of urban population living in slums (percent)with the sdg dashboard group'"
      ]
     },
     "metadata": {},
     "output_type": "display_data"
    },
    {
     "data": {
      "text/plain": [
       "{'notSharedWith': [], 'itemId': 'c28d0e785cb64e86af1a02ce845aae1e'}"
      ]
     },
     "execution_count": 8,
     "metadata": {},
     "output_type": "execute_result"
    },
    {
     "name": "stdout",
     "output_type": "stream",
     "text": [
      "-----\n"
     ]
    },
    {
     "data": {
      "text/plain": [
       "'reassigning item 11.1.1 Proportion of urban population living in slums (percent) from apfister_undesa to unstats_admin'"
      ]
     },
     "metadata": {},
     "output_type": "display_data"
    },
    {
     "data": {
      "text/plain": [
       "True"
      ]
     },
     "execution_count": 8,
     "metadata": {},
     "output_type": "execute_result"
    },
    {
     "data": {
      "text/plain": [
       "'unsharing item 11.1.1 Proportion of urban population living in slums (percent)from the cloning dashboard group'"
      ]
     },
     "metadata": {},
     "output_type": "display_data"
    },
    {
     "data": {
      "text/plain": [
       "{'notUnsharedFrom': [], 'itemId': 'a4bed4e8509141e9bc1a82c3ece48bc4'}"
      ]
     },
     "execution_count": 8,
     "metadata": {},
     "output_type": "execute_result"
    },
    {
     "data": {
      "text/plain": [
       "'sharing item 11.1.1 Proportion of urban population living in slums (percent)with the sdg dashboard group'"
      ]
     },
     "metadata": {},
     "output_type": "display_data"
    },
    {
     "data": {
      "text/plain": [
       "{'notSharedWith': [], 'itemId': 'a4bed4e8509141e9bc1a82c3ece48bc4'}"
      ]
     },
     "execution_count": 8,
     "metadata": {},
     "output_type": "execute_result"
    },
    {
     "name": "stdout",
     "output_type": "stream",
     "text": [
      "-----\n"
     ]
    },
    {
     "data": {
      "text/plain": [
       "'reassigning item 11.6.2 Annual mean levels of fine particulate matter in cities (micrograms per cubic meter) from apfister_undesa to unstats_admin'"
      ]
     },
     "metadata": {},
     "output_type": "display_data"
    },
    {
     "data": {
      "text/plain": [
       "True"
      ]
     },
     "execution_count": 8,
     "metadata": {},
     "output_type": "execute_result"
    },
    {
     "data": {
      "text/plain": [
       "'unsharing item 11.6.2 Annual mean levels of fine particulate matter in cities (micrograms per cubic meter)from the cloning dashboard group'"
      ]
     },
     "metadata": {},
     "output_type": "display_data"
    },
    {
     "data": {
      "text/plain": [
       "{'notUnsharedFrom': [], 'itemId': '6dc85ce0de404727b61e520d10eb0f9e'}"
      ]
     },
     "execution_count": 8,
     "metadata": {},
     "output_type": "execute_result"
    },
    {
     "data": {
      "text/plain": [
       "'sharing item 11.6.2 Annual mean levels of fine particulate matter in cities (micrograms per cubic meter)with the sdg dashboard group'"
      ]
     },
     "metadata": {},
     "output_type": "display_data"
    },
    {
     "data": {
      "text/plain": [
       "{'notSharedWith': [], 'itemId': '6dc85ce0de404727b61e520d10eb0f9e'}"
      ]
     },
     "execution_count": 8,
     "metadata": {},
     "output_type": "execute_result"
    },
    {
     "name": "stdout",
     "output_type": "stream",
     "text": [
      "-----\n"
     ]
    },
    {
     "data": {
      "text/plain": [
       "'reassigning item 11.6.2 Annual mean levels of fine particulate matter in cities (micrograms per cubic meter) from apfister_undesa to unstats_admin'"
      ]
     },
     "metadata": {},
     "output_type": "display_data"
    },
    {
     "data": {
      "text/plain": [
       "True"
      ]
     },
     "execution_count": 8,
     "metadata": {},
     "output_type": "execute_result"
    },
    {
     "data": {
      "text/plain": [
       "'unsharing item 11.6.2 Annual mean levels of fine particulate matter in cities (micrograms per cubic meter)from the cloning dashboard group'"
      ]
     },
     "metadata": {},
     "output_type": "display_data"
    },
    {
     "data": {
      "text/plain": [
       "{'notUnsharedFrom': [], 'itemId': 'e5f39b918faa4fa58357b941c8dd1eda'}"
      ]
     },
     "execution_count": 8,
     "metadata": {},
     "output_type": "execute_result"
    },
    {
     "data": {
      "text/plain": [
       "'sharing item 11.6.2 Annual mean levels of fine particulate matter in cities (micrograms per cubic meter)with the sdg dashboard group'"
      ]
     },
     "metadata": {},
     "output_type": "display_data"
    },
    {
     "data": {
      "text/plain": [
       "{'notSharedWith': [], 'itemId': 'e5f39b918faa4fa58357b941c8dd1eda'}"
      ]
     },
     "execution_count": 8,
     "metadata": {},
     "output_type": "execute_result"
    },
    {
     "name": "stdout",
     "output_type": "stream",
     "text": [
      "-----\n"
     ]
    },
    {
     "data": {
      "text/plain": [
       "'reassigning item 12.2.2 Domestic material consumption per capita (tonnes) from apfister_undesa to unstats_admin'"
      ]
     },
     "metadata": {},
     "output_type": "display_data"
    },
    {
     "data": {
      "text/plain": [
       "True"
      ]
     },
     "execution_count": 8,
     "metadata": {},
     "output_type": "execute_result"
    },
    {
     "data": {
      "text/plain": [
       "'unsharing item 12.2.2 Domestic material consumption per capita (tonnes)from the cloning dashboard group'"
      ]
     },
     "metadata": {},
     "output_type": "display_data"
    },
    {
     "data": {
      "text/plain": [
       "{'notUnsharedFrom': [], 'itemId': 'e794a8fa2ae2494cb22bc7a7f9712821'}"
      ]
     },
     "execution_count": 8,
     "metadata": {},
     "output_type": "execute_result"
    },
    {
     "data": {
      "text/plain": [
       "'sharing item 12.2.2 Domestic material consumption per capita (tonnes)with the sdg dashboard group'"
      ]
     },
     "metadata": {},
     "output_type": "display_data"
    },
    {
     "data": {
      "text/plain": [
       "{'notSharedWith': [], 'itemId': 'e794a8fa2ae2494cb22bc7a7f9712821'}"
      ]
     },
     "execution_count": 8,
     "metadata": {},
     "output_type": "execute_result"
    },
    {
     "name": "stdout",
     "output_type": "stream",
     "text": [
      "-----\n"
     ]
    },
    {
     "data": {
      "text/plain": [
       "'reassigning item 12.2.2 Domestic material consumption per capita (tonnes) from apfister_undesa to unstats_admin'"
      ]
     },
     "metadata": {},
     "output_type": "display_data"
    },
    {
     "data": {
      "text/plain": [
       "True"
      ]
     },
     "execution_count": 8,
     "metadata": {},
     "output_type": "execute_result"
    },
    {
     "data": {
      "text/plain": [
       "'unsharing item 12.2.2 Domestic material consumption per capita (tonnes)from the cloning dashboard group'"
      ]
     },
     "metadata": {},
     "output_type": "display_data"
    },
    {
     "data": {
      "text/plain": [
       "{'notUnsharedFrom': [], 'itemId': 'b502ce47ce114870ac7e4166189119b5'}"
      ]
     },
     "execution_count": 8,
     "metadata": {},
     "output_type": "execute_result"
    },
    {
     "data": {
      "text/plain": [
       "'sharing item 12.2.2 Domestic material consumption per capita (tonnes)with the sdg dashboard group'"
      ]
     },
     "metadata": {},
     "output_type": "display_data"
    },
    {
     "data": {
      "text/plain": [
       "{'notSharedWith': [], 'itemId': 'b502ce47ce114870ac7e4166189119b5'}"
      ]
     },
     "execution_count": 8,
     "metadata": {},
     "output_type": "execute_result"
    },
    {
     "name": "stdout",
     "output_type": "stream",
     "text": [
      "-----\n"
     ]
    },
    {
     "data": {
      "text/plain": [
       "'reassigning item 12.2.2 Domestic material consumption per unit of GDP (kg per constant 2010 US dollars) from apfister_undesa to unstats_admin'"
      ]
     },
     "metadata": {},
     "output_type": "display_data"
    },
    {
     "data": {
      "text/plain": [
       "True"
      ]
     },
     "execution_count": 8,
     "metadata": {},
     "output_type": "execute_result"
    },
    {
     "data": {
      "text/plain": [
       "'unsharing item 12.2.2 Domestic material consumption per unit of GDP (kg per constant 2010 US dollars)from the cloning dashboard group'"
      ]
     },
     "metadata": {},
     "output_type": "display_data"
    },
    {
     "data": {
      "text/plain": [
       "{'notUnsharedFrom': [], 'itemId': 'f3aa5f4883a5499ab4dfc3571dc37cd9'}"
      ]
     },
     "execution_count": 8,
     "metadata": {},
     "output_type": "execute_result"
    },
    {
     "data": {
      "text/plain": [
       "'sharing item 12.2.2 Domestic material consumption per unit of GDP (kg per constant 2010 US dollars)with the sdg dashboard group'"
      ]
     },
     "metadata": {},
     "output_type": "display_data"
    },
    {
     "data": {
      "text/plain": [
       "{'notSharedWith': [], 'itemId': 'f3aa5f4883a5499ab4dfc3571dc37cd9'}"
      ]
     },
     "execution_count": 8,
     "metadata": {},
     "output_type": "execute_result"
    },
    {
     "name": "stdout",
     "output_type": "stream",
     "text": [
      "-----\n"
     ]
    },
    {
     "data": {
      "text/plain": [
       "'reassigning item 12.2.2 Domestic material consumption per unit of GDP (kg per constant 2010 US dollars) from apfister_undesa to unstats_admin'"
      ]
     },
     "metadata": {},
     "output_type": "display_data"
    },
    {
     "data": {
      "text/plain": [
       "True"
      ]
     },
     "execution_count": 8,
     "metadata": {},
     "output_type": "execute_result"
    },
    {
     "data": {
      "text/plain": [
       "'unsharing item 12.2.2 Domestic material consumption per unit of GDP (kg per constant 2010 US dollars)from the cloning dashboard group'"
      ]
     },
     "metadata": {},
     "output_type": "display_data"
    },
    {
     "data": {
      "text/plain": [
       "{'notUnsharedFrom': [], 'itemId': 'cd710de4f7f44f318cbe706fccacd8e8'}"
      ]
     },
     "execution_count": 8,
     "metadata": {},
     "output_type": "execute_result"
    },
    {
     "data": {
      "text/plain": [
       "'sharing item 12.2.2 Domestic material consumption per unit of GDP (kg per constant 2010 US dollars)with the sdg dashboard group'"
      ]
     },
     "metadata": {},
     "output_type": "display_data"
    },
    {
     "data": {
      "text/plain": [
       "{'notSharedWith': [], 'itemId': 'cd710de4f7f44f318cbe706fccacd8e8'}"
      ]
     },
     "execution_count": 8,
     "metadata": {},
     "output_type": "execute_result"
    },
    {
     "name": "stdout",
     "output_type": "stream",
     "text": [
      "-----\n"
     ]
    },
    {
     "data": {
      "text/plain": [
       "'reassigning item 13.1.2 Existence of legislative and/or regulatory provisions for managing disaster risk from apfister_undesa to unstats_admin'"
      ]
     },
     "metadata": {},
     "output_type": "display_data"
    },
    {
     "data": {
      "text/plain": [
       "True"
      ]
     },
     "execution_count": 8,
     "metadata": {},
     "output_type": "execute_result"
    },
    {
     "data": {
      "text/plain": [
       "'unsharing item 13.1.2 Existence of legislative and/or regulatory provisions for managing disaster riskfrom the cloning dashboard group'"
      ]
     },
     "metadata": {},
     "output_type": "display_data"
    },
    {
     "data": {
      "text/plain": [
       "{'notUnsharedFrom': [], 'itemId': '1d06359a665d4798b8e756f6299cfbb3'}"
      ]
     },
     "execution_count": 8,
     "metadata": {},
     "output_type": "execute_result"
    },
    {
     "data": {
      "text/plain": [
       "'sharing item 13.1.2 Existence of legislative and/or regulatory provisions for managing disaster riskwith the sdg dashboard group'"
      ]
     },
     "metadata": {},
     "output_type": "display_data"
    },
    {
     "data": {
      "text/plain": [
       "{'notSharedWith': [], 'itemId': '1d06359a665d4798b8e756f6299cfbb3'}"
      ]
     },
     "execution_count": 8,
     "metadata": {},
     "output_type": "execute_result"
    },
    {
     "name": "stdout",
     "output_type": "stream",
     "text": [
      "-----\n"
     ]
    },
    {
     "data": {
      "text/plain": [
       "'reassigning item 13.1.2 Existence of legislative and/or regulatory provisions for managing disaster risk from apfister_undesa to unstats_admin'"
      ]
     },
     "metadata": {},
     "output_type": "display_data"
    },
    {
     "data": {
      "text/plain": [
       "True"
      ]
     },
     "execution_count": 8,
     "metadata": {},
     "output_type": "execute_result"
    },
    {
     "data": {
      "text/plain": [
       "'unsharing item 13.1.2 Existence of legislative and/or regulatory provisions for managing disaster riskfrom the cloning dashboard group'"
      ]
     },
     "metadata": {},
     "output_type": "display_data"
    },
    {
     "data": {
      "text/plain": [
       "{'notUnsharedFrom': [], 'itemId': '378491ec94b0404b89f3341386036e5b'}"
      ]
     },
     "execution_count": 8,
     "metadata": {},
     "output_type": "execute_result"
    },
    {
     "data": {
      "text/plain": [
       "'sharing item 13.1.2 Existence of legislative and/or regulatory provisions for managing disaster riskwith the sdg dashboard group'"
      ]
     },
     "metadata": {},
     "output_type": "display_data"
    },
    {
     "data": {
      "text/plain": [
       "{'notSharedWith': [], 'itemId': '378491ec94b0404b89f3341386036e5b'}"
      ]
     },
     "execution_count": 8,
     "metadata": {},
     "output_type": "execute_result"
    },
    {
     "name": "stdout",
     "output_type": "stream",
     "text": [
      "-----\n"
     ]
    },
    {
     "data": {
      "text/plain": [
       "'reassigning item 14.5.1 Coverage of protected areas in relation to marine areas (Exclusive Economic Zones) (percent) from apfister_undesa to unstats_admin'"
      ]
     },
     "metadata": {},
     "output_type": "display_data"
    },
    {
     "data": {
      "text/plain": [
       "True"
      ]
     },
     "execution_count": 8,
     "metadata": {},
     "output_type": "execute_result"
    },
    {
     "data": {
      "text/plain": [
       "'unsharing item 14.5.1 Coverage of protected areas in relation to marine areas (Exclusive Economic Zones) (percent)from the cloning dashboard group'"
      ]
     },
     "metadata": {},
     "output_type": "display_data"
    },
    {
     "data": {
      "text/plain": [
       "{'notUnsharedFrom': [], 'itemId': '0df3caba46e74a5284ebb90ae893d183'}"
      ]
     },
     "execution_count": 8,
     "metadata": {},
     "output_type": "execute_result"
    },
    {
     "data": {
      "text/plain": [
       "'sharing item 14.5.1 Coverage of protected areas in relation to marine areas (Exclusive Economic Zones) (percent)with the sdg dashboard group'"
      ]
     },
     "metadata": {},
     "output_type": "display_data"
    },
    {
     "data": {
      "text/plain": [
       "{'notSharedWith': [], 'itemId': '0df3caba46e74a5284ebb90ae893d183'}"
      ]
     },
     "execution_count": 8,
     "metadata": {},
     "output_type": "execute_result"
    },
    {
     "name": "stdout",
     "output_type": "stream",
     "text": [
      "-----\n"
     ]
    },
    {
     "data": {
      "text/plain": [
       "'reassigning item 14.5.1 Coverage of protected areas in relation to marine areas (Exclusive Economic Zones) (percent) from apfister_undesa to unstats_admin'"
      ]
     },
     "metadata": {},
     "output_type": "display_data"
    },
    {
     "data": {
      "text/plain": [
       "True"
      ]
     },
     "execution_count": 8,
     "metadata": {},
     "output_type": "execute_result"
    },
    {
     "data": {
      "text/plain": [
       "'unsharing item 14.5.1 Coverage of protected areas in relation to marine areas (Exclusive Economic Zones) (percent)from the cloning dashboard group'"
      ]
     },
     "metadata": {},
     "output_type": "display_data"
    },
    {
     "data": {
      "text/plain": [
       "{'notUnsharedFrom': [], 'itemId': '8ebf3c9c33d1480bacf3fa30fecc759b'}"
      ]
     },
     "execution_count": 8,
     "metadata": {},
     "output_type": "execute_result"
    },
    {
     "data": {
      "text/plain": [
       "'sharing item 14.5.1 Coverage of protected areas in relation to marine areas (Exclusive Economic Zones) (percent)with the sdg dashboard group'"
      ]
     },
     "metadata": {},
     "output_type": "display_data"
    },
    {
     "data": {
      "text/plain": [
       "{'notSharedWith': [], 'itemId': '8ebf3c9c33d1480bacf3fa30fecc759b'}"
      ]
     },
     "execution_count": 8,
     "metadata": {},
     "output_type": "execute_result"
    },
    {
     "name": "stdout",
     "output_type": "stream",
     "text": [
      "-----\n"
     ]
    },
    {
     "data": {
      "text/plain": [
       "'reassigning item 15.1.1 Forest area as a proportion of total land area (percent) from apfister_undesa to unstats_admin'"
      ]
     },
     "metadata": {},
     "output_type": "display_data"
    },
    {
     "data": {
      "text/plain": [
       "True"
      ]
     },
     "execution_count": 8,
     "metadata": {},
     "output_type": "execute_result"
    },
    {
     "data": {
      "text/plain": [
       "'unsharing item 15.1.1 Forest area as a proportion of total land area (percent)from the cloning dashboard group'"
      ]
     },
     "metadata": {},
     "output_type": "display_data"
    },
    {
     "data": {
      "text/plain": [
       "{'notUnsharedFrom': [], 'itemId': 'a96dc72c31574b46b5412e9071886647'}"
      ]
     },
     "execution_count": 8,
     "metadata": {},
     "output_type": "execute_result"
    },
    {
     "data": {
      "text/plain": [
       "'sharing item 15.1.1 Forest area as a proportion of total land area (percent)with the sdg dashboard group'"
      ]
     },
     "metadata": {},
     "output_type": "display_data"
    },
    {
     "data": {
      "text/plain": [
       "{'notSharedWith': [], 'itemId': 'a96dc72c31574b46b5412e9071886647'}"
      ]
     },
     "execution_count": 8,
     "metadata": {},
     "output_type": "execute_result"
    },
    {
     "name": "stdout",
     "output_type": "stream",
     "text": [
      "-----\n"
     ]
    },
    {
     "data": {
      "text/plain": [
       "'reassigning item 15.1.1 Forest area as a proportion of total land area (percent) from apfister_undesa to unstats_admin'"
      ]
     },
     "metadata": {},
     "output_type": "display_data"
    },
    {
     "data": {
      "text/plain": [
       "True"
      ]
     },
     "execution_count": 8,
     "metadata": {},
     "output_type": "execute_result"
    },
    {
     "data": {
      "text/plain": [
       "'unsharing item 15.1.1 Forest area as a proportion of total land area (percent)from the cloning dashboard group'"
      ]
     },
     "metadata": {},
     "output_type": "display_data"
    },
    {
     "data": {
      "text/plain": [
       "{'notUnsharedFrom': [], 'itemId': '80866e37499c454788cf48d66c434762'}"
      ]
     },
     "execution_count": 8,
     "metadata": {},
     "output_type": "execute_result"
    },
    {
     "data": {
      "text/plain": [
       "'sharing item 15.1.1 Forest area as a proportion of total land area (percent)with the sdg dashboard group'"
      ]
     },
     "metadata": {},
     "output_type": "display_data"
    },
    {
     "data": {
      "text/plain": [
       "{'notSharedWith': [], 'itemId': '80866e37499c454788cf48d66c434762'}"
      ]
     },
     "execution_count": 8,
     "metadata": {},
     "output_type": "execute_result"
    },
    {
     "name": "stdout",
     "output_type": "stream",
     "text": [
      "-----\n"
     ]
    },
    {
     "data": {
      "text/plain": [
       "'reassigning item 15.1.2 Average proportion of freshwater key biodiversity areas (KBAs) covered by protected areas (percent) from apfister_undesa to unstats_admin'"
      ]
     },
     "metadata": {},
     "output_type": "display_data"
    },
    {
     "data": {
      "text/plain": [
       "True"
      ]
     },
     "execution_count": 8,
     "metadata": {},
     "output_type": "execute_result"
    },
    {
     "data": {
      "text/plain": [
       "'unsharing item 15.1.2 Average proportion of freshwater key biodiversity areas (KBAs) covered by protected areas (percent)from the cloning dashboard group'"
      ]
     },
     "metadata": {},
     "output_type": "display_data"
    },
    {
     "data": {
      "text/plain": [
       "{'notUnsharedFrom': [], 'itemId': '314850537af14ca18a3f00f950415289'}"
      ]
     },
     "execution_count": 8,
     "metadata": {},
     "output_type": "execute_result"
    },
    {
     "data": {
      "text/plain": [
       "'sharing item 15.1.2 Average proportion of freshwater key biodiversity areas (KBAs) covered by protected areas (percent)with the sdg dashboard group'"
      ]
     },
     "metadata": {},
     "output_type": "display_data"
    },
    {
     "data": {
      "text/plain": [
       "{'notSharedWith': [], 'itemId': '314850537af14ca18a3f00f950415289'}"
      ]
     },
     "execution_count": 8,
     "metadata": {},
     "output_type": "execute_result"
    },
    {
     "name": "stdout",
     "output_type": "stream",
     "text": [
      "-----\n"
     ]
    },
    {
     "data": {
      "text/plain": [
       "'reassigning item 15.1.2 Average proportion of freshwater key biodiversity areas (KBAs) covered by protected areas (percent) from apfister_undesa to unstats_admin'"
      ]
     },
     "metadata": {},
     "output_type": "display_data"
    },
    {
     "data": {
      "text/plain": [
       "True"
      ]
     },
     "execution_count": 8,
     "metadata": {},
     "output_type": "execute_result"
    },
    {
     "data": {
      "text/plain": [
       "'unsharing item 15.1.2 Average proportion of freshwater key biodiversity areas (KBAs) covered by protected areas (percent)from the cloning dashboard group'"
      ]
     },
     "metadata": {},
     "output_type": "display_data"
    },
    {
     "data": {
      "text/plain": [
       "{'notUnsharedFrom': [], 'itemId': 'd5ec9d25eaf644488785982eeced61eb'}"
      ]
     },
     "execution_count": 8,
     "metadata": {},
     "output_type": "execute_result"
    },
    {
     "data": {
      "text/plain": [
       "'sharing item 15.1.2 Average proportion of freshwater key biodiversity areas (KBAs) covered by protected areas (percent)with the sdg dashboard group'"
      ]
     },
     "metadata": {},
     "output_type": "display_data"
    },
    {
     "data": {
      "text/plain": [
       "{'notSharedWith': [], 'itemId': 'd5ec9d25eaf644488785982eeced61eb'}"
      ]
     },
     "execution_count": 8,
     "metadata": {},
     "output_type": "execute_result"
    },
    {
     "name": "stdout",
     "output_type": "stream",
     "text": [
      "-----\n"
     ]
    },
    {
     "data": {
      "text/plain": [
       "'reassigning item 15.1.2 Average proportion of terrestrial key biodiversity areas (KBAs) covered by protected areas (percent) from apfister_undesa to unstats_admin'"
      ]
     },
     "metadata": {},
     "output_type": "display_data"
    },
    {
     "data": {
      "text/plain": [
       "True"
      ]
     },
     "execution_count": 8,
     "metadata": {},
     "output_type": "execute_result"
    },
    {
     "data": {
      "text/plain": [
       "'unsharing item 15.1.2 Average proportion of terrestrial key biodiversity areas (KBAs) covered by protected areas (percent)from the cloning dashboard group'"
      ]
     },
     "metadata": {},
     "output_type": "display_data"
    },
    {
     "data": {
      "text/plain": [
       "{'notUnsharedFrom': [], 'itemId': '28c292357f9143e4be546cb68f483c46'}"
      ]
     },
     "execution_count": 8,
     "metadata": {},
     "output_type": "execute_result"
    },
    {
     "data": {
      "text/plain": [
       "'sharing item 15.1.2 Average proportion of terrestrial key biodiversity areas (KBAs) covered by protected areas (percent)with the sdg dashboard group'"
      ]
     },
     "metadata": {},
     "output_type": "display_data"
    },
    {
     "data": {
      "text/plain": [
       "{'notSharedWith': [], 'itemId': '28c292357f9143e4be546cb68f483c46'}"
      ]
     },
     "execution_count": 8,
     "metadata": {},
     "output_type": "execute_result"
    },
    {
     "name": "stdout",
     "output_type": "stream",
     "text": [
      "-----\n"
     ]
    },
    {
     "data": {
      "text/plain": [
       "'reassigning item 15.1.2 Average proportion of terrestrial key biodiversity areas (KBAs) covered by protected areas (percent) from apfister_undesa to unstats_admin'"
      ]
     },
     "metadata": {},
     "output_type": "display_data"
    },
    {
     "data": {
      "text/plain": [
       "True"
      ]
     },
     "execution_count": 8,
     "metadata": {},
     "output_type": "execute_result"
    },
    {
     "data": {
      "text/plain": [
       "'unsharing item 15.1.2 Average proportion of terrestrial key biodiversity areas (KBAs) covered by protected areas (percent)from the cloning dashboard group'"
      ]
     },
     "metadata": {},
     "output_type": "display_data"
    },
    {
     "data": {
      "text/plain": [
       "{'notUnsharedFrom': [], 'itemId': 'c42704c17fc64fcfbccafecfa2c70b44'}"
      ]
     },
     "execution_count": 8,
     "metadata": {},
     "output_type": "execute_result"
    },
    {
     "data": {
      "text/plain": [
       "'sharing item 15.1.2 Average proportion of terrestrial key biodiversity areas (KBAs) covered by protected areas (percent)with the sdg dashboard group'"
      ]
     },
     "metadata": {},
     "output_type": "display_data"
    },
    {
     "data": {
      "text/plain": [
       "{'notSharedWith': [], 'itemId': 'c42704c17fc64fcfbccafecfa2c70b44'}"
      ]
     },
     "execution_count": 8,
     "metadata": {},
     "output_type": "execute_result"
    },
    {
     "name": "stdout",
     "output_type": "stream",
     "text": [
      "-----\n"
     ]
    },
    {
     "data": {
      "text/plain": [
       "'reassigning item 16.1.1 Number of victims of intentional homicide per 100,000 population from apfister_undesa to unstats_admin'"
      ]
     },
     "metadata": {},
     "output_type": "display_data"
    },
    {
     "data": {
      "text/plain": [
       "True"
      ]
     },
     "execution_count": 8,
     "metadata": {},
     "output_type": "execute_result"
    },
    {
     "data": {
      "text/plain": [
       "'unsharing item 16.1.1 Number of victims of intentional homicide per 100,000 populationfrom the cloning dashboard group'"
      ]
     },
     "metadata": {},
     "output_type": "display_data"
    },
    {
     "data": {
      "text/plain": [
       "{'notUnsharedFrom': [], 'itemId': 'e2ae2e8b01024f78a91190a023f672ac'}"
      ]
     },
     "execution_count": 8,
     "metadata": {},
     "output_type": "execute_result"
    },
    {
     "data": {
      "text/plain": [
       "'sharing item 16.1.1 Number of victims of intentional homicide per 100,000 populationwith the sdg dashboard group'"
      ]
     },
     "metadata": {},
     "output_type": "display_data"
    },
    {
     "data": {
      "text/plain": [
       "{'notSharedWith': [], 'itemId': 'e2ae2e8b01024f78a91190a023f672ac'}"
      ]
     },
     "execution_count": 8,
     "metadata": {},
     "output_type": "execute_result"
    },
    {
     "name": "stdout",
     "output_type": "stream",
     "text": [
      "-----\n"
     ]
    },
    {
     "data": {
      "text/plain": [
       "'reassigning item 16.1.1 Number of victims of intentional homicide per 100,000 population from apfister_undesa to unstats_admin'"
      ]
     },
     "metadata": {},
     "output_type": "display_data"
    },
    {
     "data": {
      "text/plain": [
       "True"
      ]
     },
     "execution_count": 8,
     "metadata": {},
     "output_type": "execute_result"
    },
    {
     "data": {
      "text/plain": [
       "'unsharing item 16.1.1 Number of victims of intentional homicide per 100,000 populationfrom the cloning dashboard group'"
      ]
     },
     "metadata": {},
     "output_type": "display_data"
    },
    {
     "data": {
      "text/plain": [
       "{'notUnsharedFrom': [], 'itemId': 'f0714f78d6f44531833430b913875b96'}"
      ]
     },
     "execution_count": 8,
     "metadata": {},
     "output_type": "execute_result"
    },
    {
     "data": {
      "text/plain": [
       "'sharing item 16.1.1 Number of victims of intentional homicide per 100,000 populationwith the sdg dashboard group'"
      ]
     },
     "metadata": {},
     "output_type": "display_data"
    },
    {
     "data": {
      "text/plain": [
       "{'notSharedWith': [], 'itemId': 'f0714f78d6f44531833430b913875b96'}"
      ]
     },
     "execution_count": 8,
     "metadata": {},
     "output_type": "execute_result"
    },
    {
     "name": "stdout",
     "output_type": "stream",
     "text": [
      "-----\n"
     ]
    },
    {
     "data": {
      "text/plain": [
       "'reassigning item 16.9.1 Proportion of children under 5 years of age whose births have been registered with a civil authority (percent) from apfister_undesa to unstats_admin'"
      ]
     },
     "metadata": {},
     "output_type": "display_data"
    },
    {
     "data": {
      "text/plain": [
       "True"
      ]
     },
     "execution_count": 8,
     "metadata": {},
     "output_type": "execute_result"
    },
    {
     "data": {
      "text/plain": [
       "'unsharing item 16.9.1 Proportion of children under 5 years of age whose births have been registered with a civil authority (percent)from the cloning dashboard group'"
      ]
     },
     "metadata": {},
     "output_type": "display_data"
    },
    {
     "data": {
      "text/plain": [
       "{'notUnsharedFrom': [], 'itemId': '5bca94c1a4e24241ae5702506be6f297'}"
      ]
     },
     "execution_count": 8,
     "metadata": {},
     "output_type": "execute_result"
    },
    {
     "data": {
      "text/plain": [
       "'sharing item 16.9.1 Proportion of children under 5 years of age whose births have been registered with a civil authority (percent)with the sdg dashboard group'"
      ]
     },
     "metadata": {},
     "output_type": "display_data"
    },
    {
     "data": {
      "text/plain": [
       "{'notSharedWith': [], 'itemId': '5bca94c1a4e24241ae5702506be6f297'}"
      ]
     },
     "execution_count": 8,
     "metadata": {},
     "output_type": "execute_result"
    },
    {
     "name": "stdout",
     "output_type": "stream",
     "text": [
      "-----\n"
     ]
    },
    {
     "data": {
      "text/plain": [
       "'reassigning item 16.9.1 Proportion of children under 5 years of age whose births have been registered with a civil authority (percent) from apfister_undesa to unstats_admin'"
      ]
     },
     "metadata": {},
     "output_type": "display_data"
    },
    {
     "data": {
      "text/plain": [
       "True"
      ]
     },
     "execution_count": 8,
     "metadata": {},
     "output_type": "execute_result"
    },
    {
     "data": {
      "text/plain": [
       "'unsharing item 16.9.1 Proportion of children under 5 years of age whose births have been registered with a civil authority (percent)from the cloning dashboard group'"
      ]
     },
     "metadata": {},
     "output_type": "display_data"
    },
    {
     "data": {
      "text/plain": [
       "{'notUnsharedFrom': [], 'itemId': '65af5a9c079c4940a5ee9a499a0b10b5'}"
      ]
     },
     "execution_count": 8,
     "metadata": {},
     "output_type": "execute_result"
    },
    {
     "data": {
      "text/plain": [
       "'sharing item 16.9.1 Proportion of children under 5 years of age whose births have been registered with a civil authority (percent)with the sdg dashboard group'"
      ]
     },
     "metadata": {},
     "output_type": "display_data"
    },
    {
     "data": {
      "text/plain": [
       "{'notSharedWith': [], 'itemId': '65af5a9c079c4940a5ee9a499a0b10b5'}"
      ]
     },
     "execution_count": 8,
     "metadata": {},
     "output_type": "execute_result"
    },
    {
     "name": "stdout",
     "output_type": "stream",
     "text": [
      "-----\n"
     ]
    },
    {
     "data": {
      "text/plain": [
       "'reassigning item 17.18.3 Existence of national statistical plans that are fully funded from apfister_undesa to unstats_admin'"
      ]
     },
     "metadata": {},
     "output_type": "display_data"
    },
    {
     "data": {
      "text/plain": [
       "True"
      ]
     },
     "execution_count": 8,
     "metadata": {},
     "output_type": "execute_result"
    },
    {
     "data": {
      "text/plain": [
       "'unsharing item 17.18.3 Existence of national statistical plans that are fully fundedfrom the cloning dashboard group'"
      ]
     },
     "metadata": {},
     "output_type": "display_data"
    },
    {
     "data": {
      "text/plain": [
       "{'notUnsharedFrom': [], 'itemId': 'a915273eb1954cf0ae7ac21aa63bb02d'}"
      ]
     },
     "execution_count": 8,
     "metadata": {},
     "output_type": "execute_result"
    },
    {
     "data": {
      "text/plain": [
       "'sharing item 17.18.3 Existence of national statistical plans that are fully fundedwith the sdg dashboard group'"
      ]
     },
     "metadata": {},
     "output_type": "display_data"
    },
    {
     "data": {
      "text/plain": [
       "{'notSharedWith': [], 'itemId': 'a915273eb1954cf0ae7ac21aa63bb02d'}"
      ]
     },
     "execution_count": 8,
     "metadata": {},
     "output_type": "execute_result"
    },
    {
     "name": "stdout",
     "output_type": "stream",
     "text": [
      "-----\n"
     ]
    },
    {
     "data": {
      "text/plain": [
       "'reassigning item 17.18.3 Existence of national statistical plans that are fully funded from apfister_undesa to unstats_admin'"
      ]
     },
     "metadata": {},
     "output_type": "display_data"
    },
    {
     "data": {
      "text/plain": [
       "True"
      ]
     },
     "execution_count": 8,
     "metadata": {},
     "output_type": "execute_result"
    },
    {
     "data": {
      "text/plain": [
       "'unsharing item 17.18.3 Existence of national statistical plans that are fully fundedfrom the cloning dashboard group'"
      ]
     },
     "metadata": {},
     "output_type": "display_data"
    },
    {
     "data": {
      "text/plain": [
       "{'notUnsharedFrom': [], 'itemId': 'cbd968d7196f4f9081c66dfdb9d53afa'}"
      ]
     },
     "execution_count": 8,
     "metadata": {},
     "output_type": "execute_result"
    },
    {
     "data": {
      "text/plain": [
       "'sharing item 17.18.3 Existence of national statistical plans that are fully fundedwith the sdg dashboard group'"
      ]
     },
     "metadata": {},
     "output_type": "display_data"
    },
    {
     "data": {
      "text/plain": [
       "{'notSharedWith': [], 'itemId': 'cbd968d7196f4f9081c66dfdb9d53afa'}"
      ]
     },
     "execution_count": 8,
     "metadata": {},
     "output_type": "execute_result"
    },
    {
     "name": "stdout",
     "output_type": "stream",
     "text": [
      "-----\n"
     ]
    },
    {
     "data": {
      "text/plain": [
       "'reassigning item 17.18.3 Existence of national statistical plans that are under implementation from apfister_undesa to unstats_admin'"
      ]
     },
     "metadata": {},
     "output_type": "display_data"
    },
    {
     "data": {
      "text/plain": [
       "True"
      ]
     },
     "execution_count": 8,
     "metadata": {},
     "output_type": "execute_result"
    },
    {
     "data": {
      "text/plain": [
       "'unsharing item 17.18.3 Existence of national statistical plans that are under implementationfrom the cloning dashboard group'"
      ]
     },
     "metadata": {},
     "output_type": "display_data"
    },
    {
     "data": {
      "text/plain": [
       "{'notUnsharedFrom': [], 'itemId': '0a3216a0599c47269d894696802b7247'}"
      ]
     },
     "execution_count": 8,
     "metadata": {},
     "output_type": "execute_result"
    },
    {
     "data": {
      "text/plain": [
       "'sharing item 17.18.3 Existence of national statistical plans that are under implementationwith the sdg dashboard group'"
      ]
     },
     "metadata": {},
     "output_type": "display_data"
    },
    {
     "data": {
      "text/plain": [
       "{'notSharedWith': [], 'itemId': '0a3216a0599c47269d894696802b7247'}"
      ]
     },
     "execution_count": 8,
     "metadata": {},
     "output_type": "execute_result"
    },
    {
     "name": "stdout",
     "output_type": "stream",
     "text": [
      "-----\n"
     ]
    },
    {
     "data": {
      "text/plain": [
       "'reassigning item 17.18.3 Existence of national statistical plans that are under implementation from apfister_undesa to unstats_admin'"
      ]
     },
     "metadata": {},
     "output_type": "display_data"
    },
    {
     "data": {
      "text/plain": [
       "True"
      ]
     },
     "execution_count": 8,
     "metadata": {},
     "output_type": "execute_result"
    },
    {
     "data": {
      "text/plain": [
       "'unsharing item 17.18.3 Existence of national statistical plans that are under implementationfrom the cloning dashboard group'"
      ]
     },
     "metadata": {},
     "output_type": "display_data"
    },
    {
     "data": {
      "text/plain": [
       "{'notUnsharedFrom': [], 'itemId': 'e7fce2c1b22e46a2bfcbd097b767bad5'}"
      ]
     },
     "execution_count": 8,
     "metadata": {},
     "output_type": "execute_result"
    },
    {
     "data": {
      "text/plain": [
       "'sharing item 17.18.3 Existence of national statistical plans that are under implementationwith the sdg dashboard group'"
      ]
     },
     "metadata": {},
     "output_type": "display_data"
    },
    {
     "data": {
      "text/plain": [
       "{'notSharedWith': [], 'itemId': 'e7fce2c1b22e46a2bfcbd097b767bad5'}"
      ]
     },
     "execution_count": 8,
     "metadata": {},
     "output_type": "execute_result"
    },
    {
     "name": "stdout",
     "output_type": "stream",
     "text": [
      "-----\n"
     ]
    },
    {
     "data": {
      "text/plain": [
       "'reassigning item 17.3.2 Volume of remittances as a proportion of total GCP (percent) from apfister_undesa to unstats_admin'"
      ]
     },
     "metadata": {},
     "output_type": "display_data"
    },
    {
     "data": {
      "text/plain": [
       "True"
      ]
     },
     "execution_count": 8,
     "metadata": {},
     "output_type": "execute_result"
    },
    {
     "data": {
      "text/plain": [
       "'unsharing item 17.3.2 Volume of remittances as a proportion of total GCP (percent)from the cloning dashboard group'"
      ]
     },
     "metadata": {},
     "output_type": "display_data"
    },
    {
     "data": {
      "text/plain": [
       "{'notUnsharedFrom': [], 'itemId': 'f87c14e992ab4acbb5ea270114a3fa33'}"
      ]
     },
     "execution_count": 8,
     "metadata": {},
     "output_type": "execute_result"
    },
    {
     "data": {
      "text/plain": [
       "'sharing item 17.3.2 Volume of remittances as a proportion of total GCP (percent)with the sdg dashboard group'"
      ]
     },
     "metadata": {},
     "output_type": "display_data"
    },
    {
     "data": {
      "text/plain": [
       "{'notSharedWith': [], 'itemId': 'f87c14e992ab4acbb5ea270114a3fa33'}"
      ]
     },
     "execution_count": 8,
     "metadata": {},
     "output_type": "execute_result"
    },
    {
     "name": "stdout",
     "output_type": "stream",
     "text": [
      "-----\n"
     ]
    },
    {
     "data": {
      "text/plain": [
       "'reassigning item 17.3.2 Volume of remittances as a proportion of total GCP (percent) from apfister_undesa to unstats_admin'"
      ]
     },
     "metadata": {},
     "output_type": "display_data"
    },
    {
     "data": {
      "text/plain": [
       "True"
      ]
     },
     "execution_count": 8,
     "metadata": {},
     "output_type": "execute_result"
    },
    {
     "data": {
      "text/plain": [
       "'unsharing item 17.3.2 Volume of remittances as a proportion of total GCP (percent)from the cloning dashboard group'"
      ]
     },
     "metadata": {},
     "output_type": "display_data"
    },
    {
     "data": {
      "text/plain": [
       "{'notUnsharedFrom': [], 'itemId': '6785de3b7b8844b6b7597695101803f1'}"
      ]
     },
     "execution_count": 8,
     "metadata": {},
     "output_type": "execute_result"
    },
    {
     "data": {
      "text/plain": [
       "'sharing item 17.3.2 Volume of remittances as a proportion of total GCP (percent)with the sdg dashboard group'"
      ]
     },
     "metadata": {},
     "output_type": "display_data"
    },
    {
     "data": {
      "text/plain": [
       "{'notSharedWith': [], 'itemId': '6785de3b7b8844b6b7597695101803f1'}"
      ]
     },
     "execution_count": 8,
     "metadata": {},
     "output_type": "execute_result"
    },
    {
     "name": "stdout",
     "output_type": "stream",
     "text": [
      "-----\n"
     ]
    },
    {
     "data": {
      "text/plain": [
       "'reassigning item 17.4.1 Debt service as a proportion of exports of goods and services (percent) from apfister_undesa to unstats_admin'"
      ]
     },
     "metadata": {},
     "output_type": "display_data"
    },
    {
     "data": {
      "text/plain": [
       "True"
      ]
     },
     "execution_count": 8,
     "metadata": {},
     "output_type": "execute_result"
    },
    {
     "data": {
      "text/plain": [
       "'unsharing item 17.4.1 Debt service as a proportion of exports of goods and services (percent)from the cloning dashboard group'"
      ]
     },
     "metadata": {},
     "output_type": "display_data"
    },
    {
     "data": {
      "text/plain": [
       "{'notUnsharedFrom': [], 'itemId': '1f03ee89a69147ebab82ae5e5a839977'}"
      ]
     },
     "execution_count": 8,
     "metadata": {},
     "output_type": "execute_result"
    },
    {
     "data": {
      "text/plain": [
       "'sharing item 17.4.1 Debt service as a proportion of exports of goods and services (percent)with the sdg dashboard group'"
      ]
     },
     "metadata": {},
     "output_type": "display_data"
    },
    {
     "data": {
      "text/plain": [
       "{'notSharedWith': [], 'itemId': '1f03ee89a69147ebab82ae5e5a839977'}"
      ]
     },
     "execution_count": 8,
     "metadata": {},
     "output_type": "execute_result"
    },
    {
     "name": "stdout",
     "output_type": "stream",
     "text": [
      "-----\n"
     ]
    },
    {
     "data": {
      "text/plain": [
       "'reassigning item 17.4.1 Debt service as a proportion of exports of goods and services (percent) from apfister_undesa to unstats_admin'"
      ]
     },
     "metadata": {},
     "output_type": "display_data"
    },
    {
     "data": {
      "text/plain": [
       "True"
      ]
     },
     "execution_count": 8,
     "metadata": {},
     "output_type": "execute_result"
    },
    {
     "data": {
      "text/plain": [
       "'unsharing item 17.4.1 Debt service as a proportion of exports of goods and services (percent)from the cloning dashboard group'"
      ]
     },
     "metadata": {},
     "output_type": "display_data"
    },
    {
     "data": {
      "text/plain": [
       "{'notUnsharedFrom': [], 'itemId': '08a2e147a489463eb63271446aa15fb5'}"
      ]
     },
     "execution_count": 8,
     "metadata": {},
     "output_type": "execute_result"
    },
    {
     "data": {
      "text/plain": [
       "'sharing item 17.4.1 Debt service as a proportion of exports of goods and services (percent)with the sdg dashboard group'"
      ]
     },
     "metadata": {},
     "output_type": "display_data"
    },
    {
     "data": {
      "text/plain": [
       "{'notSharedWith': [], 'itemId': '08a2e147a489463eb63271446aa15fb5'}"
      ]
     },
     "execution_count": 8,
     "metadata": {},
     "output_type": "execute_result"
    },
    {
     "name": "stdout",
     "output_type": "stream",
     "text": [
      "-----\n"
     ]
    },
    {
     "data": {
      "text/plain": [
       "'reassigning item 17.6.2 Fixed internet broadband subscriptions per 100 inhabitants from apfister_undesa to unstats_admin'"
      ]
     },
     "metadata": {},
     "output_type": "display_data"
    },
    {
     "data": {
      "text/plain": [
       "True"
      ]
     },
     "execution_count": 8,
     "metadata": {},
     "output_type": "execute_result"
    },
    {
     "data": {
      "text/plain": [
       "'unsharing item 17.6.2 Fixed internet broadband subscriptions per 100 inhabitantsfrom the cloning dashboard group'"
      ]
     },
     "metadata": {},
     "output_type": "display_data"
    },
    {
     "data": {
      "text/plain": [
       "{'notUnsharedFrom': [], 'itemId': '90b68790524046dfa6e3101c215e865b'}"
      ]
     },
     "execution_count": 8,
     "metadata": {},
     "output_type": "execute_result"
    },
    {
     "data": {
      "text/plain": [
       "'sharing item 17.6.2 Fixed internet broadband subscriptions per 100 inhabitantswith the sdg dashboard group'"
      ]
     },
     "metadata": {},
     "output_type": "display_data"
    },
    {
     "data": {
      "text/plain": [
       "{'notSharedWith': [], 'itemId': '90b68790524046dfa6e3101c215e865b'}"
      ]
     },
     "execution_count": 8,
     "metadata": {},
     "output_type": "execute_result"
    },
    {
     "name": "stdout",
     "output_type": "stream",
     "text": [
      "-----\n"
     ]
    },
    {
     "data": {
      "text/plain": [
       "'reassigning item 17.6.2 Fixed internet broadband subscriptions per 100 inhabitants from apfister_undesa to unstats_admin'"
      ]
     },
     "metadata": {},
     "output_type": "display_data"
    },
    {
     "data": {
      "text/plain": [
       "True"
      ]
     },
     "execution_count": 8,
     "metadata": {},
     "output_type": "execute_result"
    },
    {
     "data": {
      "text/plain": [
       "'unsharing item 17.6.2 Fixed internet broadband subscriptions per 100 inhabitantsfrom the cloning dashboard group'"
      ]
     },
     "metadata": {},
     "output_type": "display_data"
    },
    {
     "data": {
      "text/plain": [
       "{'notUnsharedFrom': [], 'itemId': '3aa03b2fb75a42bb8f58fc431b016b08'}"
      ]
     },
     "execution_count": 8,
     "metadata": {},
     "output_type": "execute_result"
    },
    {
     "data": {
      "text/plain": [
       "'sharing item 17.6.2 Fixed internet broadband subscriptions per 100 inhabitantswith the sdg dashboard group'"
      ]
     },
     "metadata": {},
     "output_type": "display_data"
    },
    {
     "data": {
      "text/plain": [
       "{'notSharedWith': [], 'itemId': '3aa03b2fb75a42bb8f58fc431b016b08'}"
      ]
     },
     "execution_count": 8,
     "metadata": {},
     "output_type": "execute_result"
    },
    {
     "name": "stdout",
     "output_type": "stream",
     "text": [
      "-----\n"
     ]
    },
    {
     "data": {
      "text/plain": [
       "'reassigning item 2.1.1 Prevalence of undernourishment (percent) from apfister_undesa to unstats_admin'"
      ]
     },
     "metadata": {},
     "output_type": "display_data"
    },
    {
     "data": {
      "text/plain": [
       "True"
      ]
     },
     "execution_count": 8,
     "metadata": {},
     "output_type": "execute_result"
    },
    {
     "data": {
      "text/plain": [
       "'unsharing item 2.1.1 Prevalence of undernourishment (percent)from the cloning dashboard group'"
      ]
     },
     "metadata": {},
     "output_type": "display_data"
    },
    {
     "data": {
      "text/plain": [
       "{'notUnsharedFrom': [], 'itemId': '452f4c395d9c4386944be4bc885df74c'}"
      ]
     },
     "execution_count": 8,
     "metadata": {},
     "output_type": "execute_result"
    },
    {
     "data": {
      "text/plain": [
       "'sharing item 2.1.1 Prevalence of undernourishment (percent)with the sdg dashboard group'"
      ]
     },
     "metadata": {},
     "output_type": "display_data"
    },
    {
     "data": {
      "text/plain": [
       "{'notSharedWith': [], 'itemId': '452f4c395d9c4386944be4bc885df74c'}"
      ]
     },
     "execution_count": 8,
     "metadata": {},
     "output_type": "execute_result"
    },
    {
     "name": "stdout",
     "output_type": "stream",
     "text": [
      "-----\n"
     ]
    },
    {
     "data": {
      "text/plain": [
       "'reassigning item 2.1.1 Prevalence of undernourishment (percent) from apfister_undesa to unstats_admin'"
      ]
     },
     "metadata": {},
     "output_type": "display_data"
    },
    {
     "data": {
      "text/plain": [
       "True"
      ]
     },
     "execution_count": 8,
     "metadata": {},
     "output_type": "execute_result"
    },
    {
     "data": {
      "text/plain": [
       "'unsharing item 2.1.1 Prevalence of undernourishment (percent)from the cloning dashboard group'"
      ]
     },
     "metadata": {},
     "output_type": "display_data"
    },
    {
     "data": {
      "text/plain": [
       "{'notUnsharedFrom': [], 'itemId': '1bcf366e0dc64bf4b6cc7fc8c9910ca0'}"
      ]
     },
     "execution_count": 8,
     "metadata": {},
     "output_type": "execute_result"
    },
    {
     "data": {
      "text/plain": [
       "'sharing item 2.1.1 Prevalence of undernourishment (percent)with the sdg dashboard group'"
      ]
     },
     "metadata": {},
     "output_type": "display_data"
    },
    {
     "data": {
      "text/plain": [
       "{'notSharedWith': [], 'itemId': '1bcf366e0dc64bf4b6cc7fc8c9910ca0'}"
      ]
     },
     "execution_count": 8,
     "metadata": {},
     "output_type": "execute_result"
    },
    {
     "name": "stdout",
     "output_type": "stream",
     "text": [
      "-----\n"
     ]
    },
    {
     "data": {
      "text/plain": [
       "'reassigning item 2.2.1 Proportion of children under 5 years of age who are moderately or severely stunted (percent) from apfister_undesa to unstats_admin'"
      ]
     },
     "metadata": {},
     "output_type": "display_data"
    },
    {
     "data": {
      "text/plain": [
       "True"
      ]
     },
     "execution_count": 8,
     "metadata": {},
     "output_type": "execute_result"
    },
    {
     "data": {
      "text/plain": [
       "'unsharing item 2.2.1 Proportion of children under 5 years of age who are moderately or severely stunted (percent)from the cloning dashboard group'"
      ]
     },
     "metadata": {},
     "output_type": "display_data"
    },
    {
     "data": {
      "text/plain": [
       "{'notUnsharedFrom': [], 'itemId': 'e4463dfbe570440ba3a78c2767643ff3'}"
      ]
     },
     "execution_count": 8,
     "metadata": {},
     "output_type": "execute_result"
    },
    {
     "data": {
      "text/plain": [
       "'sharing item 2.2.1 Proportion of children under 5 years of age who are moderately or severely stunted (percent)with the sdg dashboard group'"
      ]
     },
     "metadata": {},
     "output_type": "display_data"
    },
    {
     "data": {
      "text/plain": [
       "{'notSharedWith': [], 'itemId': 'e4463dfbe570440ba3a78c2767643ff3'}"
      ]
     },
     "execution_count": 8,
     "metadata": {},
     "output_type": "execute_result"
    },
    {
     "name": "stdout",
     "output_type": "stream",
     "text": [
      "-----\n"
     ]
    },
    {
     "data": {
      "text/plain": [
       "'reassigning item 2.2.1 Proportion of children under 5 years of age who are moderately or severely stunted (percent) from apfister_undesa to unstats_admin'"
      ]
     },
     "metadata": {},
     "output_type": "display_data"
    },
    {
     "data": {
      "text/plain": [
       "True"
      ]
     },
     "execution_count": 8,
     "metadata": {},
     "output_type": "execute_result"
    },
    {
     "data": {
      "text/plain": [
       "'unsharing item 2.2.1 Proportion of children under 5 years of age who are moderately or severely stunted (percent)from the cloning dashboard group'"
      ]
     },
     "metadata": {},
     "output_type": "display_data"
    },
    {
     "data": {
      "text/plain": [
       "{'notUnsharedFrom': [], 'itemId': '30af803bb20340dcbf1efb41c3f8815e'}"
      ]
     },
     "execution_count": 8,
     "metadata": {},
     "output_type": "execute_result"
    },
    {
     "data": {
      "text/plain": [
       "'sharing item 2.2.1 Proportion of children under 5 years of age who are moderately or severely stunted (percent)with the sdg dashboard group'"
      ]
     },
     "metadata": {},
     "output_type": "display_data"
    },
    {
     "data": {
      "text/plain": [
       "{'notSharedWith': [], 'itemId': '30af803bb20340dcbf1efb41c3f8815e'}"
      ]
     },
     "execution_count": 8,
     "metadata": {},
     "output_type": "execute_result"
    },
    {
     "name": "stdout",
     "output_type": "stream",
     "text": [
      "-----\n"
     ]
    },
    {
     "data": {
      "text/plain": [
       "'reassigning item 2.2.2 Proportion of children under 5 years of age who are moderately or severely overweight from apfister_undesa to unstats_admin'"
      ]
     },
     "metadata": {},
     "output_type": "display_data"
    },
    {
     "data": {
      "text/plain": [
       "True"
      ]
     },
     "execution_count": 8,
     "metadata": {},
     "output_type": "execute_result"
    },
    {
     "data": {
      "text/plain": [
       "'unsharing item 2.2.2 Proportion of children under 5 years of age who are moderately or severely overweightfrom the cloning dashboard group'"
      ]
     },
     "metadata": {},
     "output_type": "display_data"
    },
    {
     "data": {
      "text/plain": [
       "{'notUnsharedFrom': [], 'itemId': '49effd5b7eca4c1eb9bec35c126caca3'}"
      ]
     },
     "execution_count": 8,
     "metadata": {},
     "output_type": "execute_result"
    },
    {
     "data": {
      "text/plain": [
       "'sharing item 2.2.2 Proportion of children under 5 years of age who are moderately or severely overweightwith the sdg dashboard group'"
      ]
     },
     "metadata": {},
     "output_type": "display_data"
    },
    {
     "data": {
      "text/plain": [
       "{'notSharedWith': [], 'itemId': '49effd5b7eca4c1eb9bec35c126caca3'}"
      ]
     },
     "execution_count": 8,
     "metadata": {},
     "output_type": "execute_result"
    },
    {
     "name": "stdout",
     "output_type": "stream",
     "text": [
      "-----\n"
     ]
    },
    {
     "data": {
      "text/plain": [
       "'reassigning item 2.2.2 Proportion of children under 5 years of age who are moderately or severely overweight from apfister_undesa to unstats_admin'"
      ]
     },
     "metadata": {},
     "output_type": "display_data"
    },
    {
     "data": {
      "text/plain": [
       "True"
      ]
     },
     "execution_count": 8,
     "metadata": {},
     "output_type": "execute_result"
    },
    {
     "data": {
      "text/plain": [
       "'unsharing item 2.2.2 Proportion of children under 5 years of age who are moderately or severely overweightfrom the cloning dashboard group'"
      ]
     },
     "metadata": {},
     "output_type": "display_data"
    },
    {
     "data": {
      "text/plain": [
       "{'notUnsharedFrom': [], 'itemId': '5f71d5db385f4c0f9c7d1f03035be45d'}"
      ]
     },
     "execution_count": 8,
     "metadata": {},
     "output_type": "execute_result"
    },
    {
     "data": {
      "text/plain": [
       "'sharing item 2.2.2 Proportion of children under 5 years of age who are moderately or severely overweightwith the sdg dashboard group'"
      ]
     },
     "metadata": {},
     "output_type": "display_data"
    },
    {
     "data": {
      "text/plain": [
       "{'notSharedWith': [], 'itemId': '5f71d5db385f4c0f9c7d1f03035be45d'}"
      ]
     },
     "execution_count": 8,
     "metadata": {},
     "output_type": "execute_result"
    },
    {
     "name": "stdout",
     "output_type": "stream",
     "text": [
      "-----\n"
     ]
    },
    {
     "data": {
      "text/plain": [
       "'reassigning item 2.2.2 Proportion of children under 5 years of age who are moderately or severely wasted (percent) from apfister_undesa to unstats_admin'"
      ]
     },
     "metadata": {},
     "output_type": "display_data"
    },
    {
     "data": {
      "text/plain": [
       "True"
      ]
     },
     "execution_count": 8,
     "metadata": {},
     "output_type": "execute_result"
    },
    {
     "data": {
      "text/plain": [
       "'unsharing item 2.2.2 Proportion of children under 5 years of age who are moderately or severely wasted (percent)from the cloning dashboard group'"
      ]
     },
     "metadata": {},
     "output_type": "display_data"
    },
    {
     "data": {
      "text/plain": [
       "{'notUnsharedFrom': [], 'itemId': 'd0a9d48333244b2d9be566b383fc7fc7'}"
      ]
     },
     "execution_count": 8,
     "metadata": {},
     "output_type": "execute_result"
    },
    {
     "data": {
      "text/plain": [
       "'sharing item 2.2.2 Proportion of children under 5 years of age who are moderately or severely wasted (percent)with the sdg dashboard group'"
      ]
     },
     "metadata": {},
     "output_type": "display_data"
    },
    {
     "data": {
      "text/plain": [
       "{'notSharedWith': [], 'itemId': 'd0a9d48333244b2d9be566b383fc7fc7'}"
      ]
     },
     "execution_count": 8,
     "metadata": {},
     "output_type": "execute_result"
    },
    {
     "name": "stdout",
     "output_type": "stream",
     "text": [
      "-----\n"
     ]
    },
    {
     "data": {
      "text/plain": [
       "'reassigning item 2.2.2 Proportion of children under 5 years of age who are moderately or severely wasted (percent) from apfister_undesa to unstats_admin'"
      ]
     },
     "metadata": {},
     "output_type": "display_data"
    },
    {
     "data": {
      "text/plain": [
       "True"
      ]
     },
     "execution_count": 8,
     "metadata": {},
     "output_type": "execute_result"
    },
    {
     "data": {
      "text/plain": [
       "'unsharing item 2.2.2 Proportion of children under 5 years of age who are moderately or severely wasted (percent)from the cloning dashboard group'"
      ]
     },
     "metadata": {},
     "output_type": "display_data"
    },
    {
     "data": {
      "text/plain": [
       "{'notUnsharedFrom': [], 'itemId': '22a17a0285e3450fb0287774e2b66532'}"
      ]
     },
     "execution_count": 8,
     "metadata": {},
     "output_type": "execute_result"
    },
    {
     "data": {
      "text/plain": [
       "'sharing item 2.2.2 Proportion of children under 5 years of age who are moderately or severely wasted (percent)with the sdg dashboard group'"
      ]
     },
     "metadata": {},
     "output_type": "display_data"
    },
    {
     "data": {
      "text/plain": [
       "{'notSharedWith': [], 'itemId': '22a17a0285e3450fb0287774e2b66532'}"
      ]
     },
     "execution_count": 8,
     "metadata": {},
     "output_type": "execute_result"
    },
    {
     "name": "stdout",
     "output_type": "stream",
     "text": [
      "-----\n"
     ]
    },
    {
     "data": {
      "text/plain": [
       "'reassigning item 3.1.1 Maternal mortality ratio from apfister_undesa to unstats_admin'"
      ]
     },
     "metadata": {},
     "output_type": "display_data"
    },
    {
     "data": {
      "text/plain": [
       "True"
      ]
     },
     "execution_count": 8,
     "metadata": {},
     "output_type": "execute_result"
    },
    {
     "data": {
      "text/plain": [
       "'unsharing item 3.1.1 Maternal mortality ratiofrom the cloning dashboard group'"
      ]
     },
     "metadata": {},
     "output_type": "display_data"
    },
    {
     "data": {
      "text/plain": [
       "{'notUnsharedFrom': [], 'itemId': '848cad73579d48d8b30d04b5fda73b8f'}"
      ]
     },
     "execution_count": 8,
     "metadata": {},
     "output_type": "execute_result"
    },
    {
     "data": {
      "text/plain": [
       "'sharing item 3.1.1 Maternal mortality ratiowith the sdg dashboard group'"
      ]
     },
     "metadata": {},
     "output_type": "display_data"
    },
    {
     "data": {
      "text/plain": [
       "{'notSharedWith': [], 'itemId': '848cad73579d48d8b30d04b5fda73b8f'}"
      ]
     },
     "execution_count": 8,
     "metadata": {},
     "output_type": "execute_result"
    },
    {
     "name": "stdout",
     "output_type": "stream",
     "text": [
      "-----\n"
     ]
    },
    {
     "data": {
      "text/plain": [
       "'reassigning item 3.1.1 Maternal mortality ratio from apfister_undesa to unstats_admin'"
      ]
     },
     "metadata": {},
     "output_type": "display_data"
    },
    {
     "data": {
      "text/plain": [
       "True"
      ]
     },
     "execution_count": 8,
     "metadata": {},
     "output_type": "execute_result"
    },
    {
     "data": {
      "text/plain": [
       "'unsharing item 3.1.1 Maternal mortality ratiofrom the cloning dashboard group'"
      ]
     },
     "metadata": {},
     "output_type": "display_data"
    },
    {
     "data": {
      "text/plain": [
       "{'notUnsharedFrom': [], 'itemId': 'd7953b9c346c4173a8275411a3aba341'}"
      ]
     },
     "execution_count": 8,
     "metadata": {},
     "output_type": "execute_result"
    },
    {
     "data": {
      "text/plain": [
       "'sharing item 3.1.1 Maternal mortality ratiowith the sdg dashboard group'"
      ]
     },
     "metadata": {},
     "output_type": "display_data"
    },
    {
     "data": {
      "text/plain": [
       "{'notSharedWith': [], 'itemId': 'd7953b9c346c4173a8275411a3aba341'}"
      ]
     },
     "execution_count": 8,
     "metadata": {},
     "output_type": "execute_result"
    },
    {
     "name": "stdout",
     "output_type": "stream",
     "text": [
      "-----\n"
     ]
    },
    {
     "data": {
      "text/plain": [
       "'reassigning item 3.2.1 Under-five mortality rate from apfister_undesa to unstats_admin'"
      ]
     },
     "metadata": {},
     "output_type": "display_data"
    },
    {
     "data": {
      "text/plain": [
       "True"
      ]
     },
     "execution_count": 8,
     "metadata": {},
     "output_type": "execute_result"
    },
    {
     "data": {
      "text/plain": [
       "'unsharing item 3.2.1 Under-five mortality ratefrom the cloning dashboard group'"
      ]
     },
     "metadata": {},
     "output_type": "display_data"
    },
    {
     "data": {
      "text/plain": [
       "{'notUnsharedFrom': [], 'itemId': 'b7407de1b73042b79f929ce06afc484c'}"
      ]
     },
     "execution_count": 8,
     "metadata": {},
     "output_type": "execute_result"
    },
    {
     "data": {
      "text/plain": [
       "'sharing item 3.2.1 Under-five mortality ratewith the sdg dashboard group'"
      ]
     },
     "metadata": {},
     "output_type": "display_data"
    },
    {
     "data": {
      "text/plain": [
       "{'notSharedWith': [], 'itemId': 'b7407de1b73042b79f929ce06afc484c'}"
      ]
     },
     "execution_count": 8,
     "metadata": {},
     "output_type": "execute_result"
    },
    {
     "name": "stdout",
     "output_type": "stream",
     "text": [
      "-----\n"
     ]
    },
    {
     "data": {
      "text/plain": [
       "'reassigning item 3.2.1 Under-five mortality rate from apfister_undesa to unstats_admin'"
      ]
     },
     "metadata": {},
     "output_type": "display_data"
    },
    {
     "data": {
      "text/plain": [
       "True"
      ]
     },
     "execution_count": 8,
     "metadata": {},
     "output_type": "execute_result"
    },
    {
     "data": {
      "text/plain": [
       "'unsharing item 3.2.1 Under-five mortality ratefrom the cloning dashboard group'"
      ]
     },
     "metadata": {},
     "output_type": "display_data"
    },
    {
     "data": {
      "text/plain": [
       "{'notUnsharedFrom': [], 'itemId': '7643ca29e27c44819f0c08d3379df557'}"
      ]
     },
     "execution_count": 8,
     "metadata": {},
     "output_type": "execute_result"
    },
    {
     "data": {
      "text/plain": [
       "'sharing item 3.2.1 Under-five mortality ratewith the sdg dashboard group'"
      ]
     },
     "metadata": {},
     "output_type": "display_data"
    },
    {
     "data": {
      "text/plain": [
       "{'notSharedWith': [], 'itemId': '7643ca29e27c44819f0c08d3379df557'}"
      ]
     },
     "execution_count": 8,
     "metadata": {},
     "output_type": "execute_result"
    },
    {
     "name": "stdout",
     "output_type": "stream",
     "text": [
      "-----\n"
     ]
    },
    {
     "data": {
      "text/plain": [
       "'reassigning item 3.3.1 Number of new HIV infections per 1,000 uninfected population from apfister_undesa to unstats_admin'"
      ]
     },
     "metadata": {},
     "output_type": "display_data"
    },
    {
     "data": {
      "text/plain": [
       "True"
      ]
     },
     "execution_count": 8,
     "metadata": {},
     "output_type": "execute_result"
    },
    {
     "data": {
      "text/plain": [
       "'unsharing item 3.3.1 Number of new HIV infections per 1,000 uninfected populationfrom the cloning dashboard group'"
      ]
     },
     "metadata": {},
     "output_type": "display_data"
    },
    {
     "data": {
      "text/plain": [
       "{'notUnsharedFrom': [], 'itemId': '8362fa2fc9c54f0191c09aef1c5532a1'}"
      ]
     },
     "execution_count": 8,
     "metadata": {},
     "output_type": "execute_result"
    },
    {
     "data": {
      "text/plain": [
       "'sharing item 3.3.1 Number of new HIV infections per 1,000 uninfected populationwith the sdg dashboard group'"
      ]
     },
     "metadata": {},
     "output_type": "display_data"
    },
    {
     "data": {
      "text/plain": [
       "{'notSharedWith': [], 'itemId': '8362fa2fc9c54f0191c09aef1c5532a1'}"
      ]
     },
     "execution_count": 8,
     "metadata": {},
     "output_type": "execute_result"
    },
    {
     "name": "stdout",
     "output_type": "stream",
     "text": [
      "-----\n"
     ]
    },
    {
     "data": {
      "text/plain": [
       "'reassigning item 3.3.1 Number of new HIV infections per 1,000 uninfected population from apfister_undesa to unstats_admin'"
      ]
     },
     "metadata": {},
     "output_type": "display_data"
    },
    {
     "data": {
      "text/plain": [
       "True"
      ]
     },
     "execution_count": 8,
     "metadata": {},
     "output_type": "execute_result"
    },
    {
     "data": {
      "text/plain": [
       "'unsharing item 3.3.1 Number of new HIV infections per 1,000 uninfected populationfrom the cloning dashboard group'"
      ]
     },
     "metadata": {},
     "output_type": "display_data"
    },
    {
     "data": {
      "text/plain": [
       "{'notUnsharedFrom': [], 'itemId': '6096386121f44a49b0da950ad580457a'}"
      ]
     },
     "execution_count": 8,
     "metadata": {},
     "output_type": "execute_result"
    },
    {
     "data": {
      "text/plain": [
       "'sharing item 3.3.1 Number of new HIV infections per 1,000 uninfected populationwith the sdg dashboard group'"
      ]
     },
     "metadata": {},
     "output_type": "display_data"
    },
    {
     "data": {
      "text/plain": [
       "{'notSharedWith': [], 'itemId': '6096386121f44a49b0da950ad580457a'}"
      ]
     },
     "execution_count": 8,
     "metadata": {},
     "output_type": "execute_result"
    },
    {
     "name": "stdout",
     "output_type": "stream",
     "text": [
      "-----\n"
     ]
    },
    {
     "data": {
      "text/plain": [
       "'reassigning item 3.3.2 Tuberculosis incidence (per 100,000 population) from apfister_undesa to unstats_admin'"
      ]
     },
     "metadata": {},
     "output_type": "display_data"
    },
    {
     "data": {
      "text/plain": [
       "True"
      ]
     },
     "execution_count": 8,
     "metadata": {},
     "output_type": "execute_result"
    },
    {
     "data": {
      "text/plain": [
       "'unsharing item 3.3.2 Tuberculosis incidence (per 100,000 population)from the cloning dashboard group'"
      ]
     },
     "metadata": {},
     "output_type": "display_data"
    },
    {
     "data": {
      "text/plain": [
       "{'notUnsharedFrom': [], 'itemId': '57e6a232ad24424fb10f37bd49c0d904'}"
      ]
     },
     "execution_count": 8,
     "metadata": {},
     "output_type": "execute_result"
    },
    {
     "data": {
      "text/plain": [
       "'sharing item 3.3.2 Tuberculosis incidence (per 100,000 population)with the sdg dashboard group'"
      ]
     },
     "metadata": {},
     "output_type": "display_data"
    },
    {
     "data": {
      "text/plain": [
       "{'notSharedWith': [], 'itemId': '57e6a232ad24424fb10f37bd49c0d904'}"
      ]
     },
     "execution_count": 8,
     "metadata": {},
     "output_type": "execute_result"
    },
    {
     "name": "stdout",
     "output_type": "stream",
     "text": [
      "-----\n"
     ]
    },
    {
     "data": {
      "text/plain": [
       "'reassigning item 3.3.2 Tuberculosis incidence (per 100,000 population) from apfister_undesa to unstats_admin'"
      ]
     },
     "metadata": {},
     "output_type": "display_data"
    },
    {
     "data": {
      "text/plain": [
       "True"
      ]
     },
     "execution_count": 8,
     "metadata": {},
     "output_type": "execute_result"
    },
    {
     "data": {
      "text/plain": [
       "'unsharing item 3.3.2 Tuberculosis incidence (per 100,000 population)from the cloning dashboard group'"
      ]
     },
     "metadata": {},
     "output_type": "display_data"
    },
    {
     "data": {
      "text/plain": [
       "{'notUnsharedFrom': [], 'itemId': '7c9e11b108b04b3aa90065c8044f8540'}"
      ]
     },
     "execution_count": 8,
     "metadata": {},
     "output_type": "execute_result"
    },
    {
     "data": {
      "text/plain": [
       "'sharing item 3.3.2 Tuberculosis incidence (per 100,000 population)with the sdg dashboard group'"
      ]
     },
     "metadata": {},
     "output_type": "display_data"
    },
    {
     "data": {
      "text/plain": [
       "{'notSharedWith': [], 'itemId': '7c9e11b108b04b3aa90065c8044f8540'}"
      ]
     },
     "execution_count": 8,
     "metadata": {},
     "output_type": "execute_result"
    },
    {
     "name": "stdout",
     "output_type": "stream",
     "text": [
      "-----\n"
     ]
    },
    {
     "data": {
      "text/plain": [
       "'reassigning item 3.3.3 Malaria incidence per 1,000 population at risk (per 1,000 population) from apfister_undesa to unstats_admin'"
      ]
     },
     "metadata": {},
     "output_type": "display_data"
    },
    {
     "data": {
      "text/plain": [
       "True"
      ]
     },
     "execution_count": 8,
     "metadata": {},
     "output_type": "execute_result"
    },
    {
     "data": {
      "text/plain": [
       "'unsharing item 3.3.3 Malaria incidence per 1,000 population at risk (per 1,000 population)from the cloning dashboard group'"
      ]
     },
     "metadata": {},
     "output_type": "display_data"
    },
    {
     "data": {
      "text/plain": [
       "{'notUnsharedFrom': [], 'itemId': 'c5519754113f4572ad61efefae9f6209'}"
      ]
     },
     "execution_count": 8,
     "metadata": {},
     "output_type": "execute_result"
    },
    {
     "data": {
      "text/plain": [
       "'sharing item 3.3.3 Malaria incidence per 1,000 population at risk (per 1,000 population)with the sdg dashboard group'"
      ]
     },
     "metadata": {},
     "output_type": "display_data"
    },
    {
     "data": {
      "text/plain": [
       "{'notSharedWith': [], 'itemId': 'c5519754113f4572ad61efefae9f6209'}"
      ]
     },
     "execution_count": 8,
     "metadata": {},
     "output_type": "execute_result"
    },
    {
     "name": "stdout",
     "output_type": "stream",
     "text": [
      "-----\n"
     ]
    },
    {
     "data": {
      "text/plain": [
       "'reassigning item 3.3.3 Malaria incidence per 1,000 population at risk (per 1,000 population) from apfister_undesa to unstats_admin'"
      ]
     },
     "metadata": {},
     "output_type": "display_data"
    },
    {
     "data": {
      "text/plain": [
       "True"
      ]
     },
     "execution_count": 8,
     "metadata": {},
     "output_type": "execute_result"
    },
    {
     "data": {
      "text/plain": [
       "'unsharing item 3.3.3 Malaria incidence per 1,000 population at risk (per 1,000 population)from the cloning dashboard group'"
      ]
     },
     "metadata": {},
     "output_type": "display_data"
    },
    {
     "data": {
      "text/plain": [
       "{'notUnsharedFrom': [], 'itemId': 'fb0b7a8efe4f42c094f19f73e9c8cdb8'}"
      ]
     },
     "execution_count": 8,
     "metadata": {},
     "output_type": "execute_result"
    },
    {
     "data": {
      "text/plain": [
       "'sharing item 3.3.3 Malaria incidence per 1,000 population at risk (per 1,000 population)with the sdg dashboard group'"
      ]
     },
     "metadata": {},
     "output_type": "display_data"
    },
    {
     "data": {
      "text/plain": [
       "{'notSharedWith': [], 'itemId': 'fb0b7a8efe4f42c094f19f73e9c8cdb8'}"
      ]
     },
     "execution_count": 8,
     "metadata": {},
     "output_type": "execute_result"
    },
    {
     "name": "stdout",
     "output_type": "stream",
     "text": [
      "-----\n"
     ]
    },
    {
     "data": {
      "text/plain": [
       "'reassigning item 3.4.1 Mortality rate from cardiovascular disease, cancer, diabetes or chronic respiratory disease from apfister_undesa to unstats_admin'"
      ]
     },
     "metadata": {},
     "output_type": "display_data"
    },
    {
     "data": {
      "text/plain": [
       "True"
      ]
     },
     "execution_count": 8,
     "metadata": {},
     "output_type": "execute_result"
    },
    {
     "data": {
      "text/plain": [
       "'unsharing item 3.4.1 Mortality rate from cardiovascular disease, cancer, diabetes or chronic respiratory diseasefrom the cloning dashboard group'"
      ]
     },
     "metadata": {},
     "output_type": "display_data"
    },
    {
     "data": {
      "text/plain": [
       "{'notUnsharedFrom': [], 'itemId': '5060c5afadb24469a5e26aea0052e9b5'}"
      ]
     },
     "execution_count": 8,
     "metadata": {},
     "output_type": "execute_result"
    },
    {
     "data": {
      "text/plain": [
       "'sharing item 3.4.1 Mortality rate from cardiovascular disease, cancer, diabetes or chronic respiratory diseasewith the sdg dashboard group'"
      ]
     },
     "metadata": {},
     "output_type": "display_data"
    },
    {
     "data": {
      "text/plain": [
       "{'notSharedWith': [], 'itemId': '5060c5afadb24469a5e26aea0052e9b5'}"
      ]
     },
     "execution_count": 8,
     "metadata": {},
     "output_type": "execute_result"
    },
    {
     "name": "stdout",
     "output_type": "stream",
     "text": [
      "-----\n"
     ]
    },
    {
     "data": {
      "text/plain": [
       "'reassigning item 3.4.1 Mortality rate from cardiovascular disease, cancer, diabetes or chronic respiratory disease from apfister_undesa to unstats_admin'"
      ]
     },
     "metadata": {},
     "output_type": "display_data"
    },
    {
     "data": {
      "text/plain": [
       "True"
      ]
     },
     "execution_count": 8,
     "metadata": {},
     "output_type": "execute_result"
    },
    {
     "data": {
      "text/plain": [
       "'unsharing item 3.4.1 Mortality rate from cardiovascular disease, cancer, diabetes or chronic respiratory diseasefrom the cloning dashboard group'"
      ]
     },
     "metadata": {},
     "output_type": "display_data"
    },
    {
     "data": {
      "text/plain": [
       "{'notUnsharedFrom': [], 'itemId': '13846c2672cd46fab61b5c1442e63845'}"
      ]
     },
     "execution_count": 8,
     "metadata": {},
     "output_type": "execute_result"
    },
    {
     "data": {
      "text/plain": [
       "'sharing item 3.4.1 Mortality rate from cardiovascular disease, cancer, diabetes or chronic respiratory diseasewith the sdg dashboard group'"
      ]
     },
     "metadata": {},
     "output_type": "display_data"
    },
    {
     "data": {
      "text/plain": [
       "{'notSharedWith': [], 'itemId': '13846c2672cd46fab61b5c1442e63845'}"
      ]
     },
     "execution_count": 8,
     "metadata": {},
     "output_type": "execute_result"
    },
    {
     "name": "stdout",
     "output_type": "stream",
     "text": [
      "-----\n"
     ]
    },
    {
     "data": {
      "text/plain": [
       "'reassigning item 4.2.2 Participation rate in organized learning (one year before the official primary entry age) from apfister_undesa to unstats_admin'"
      ]
     },
     "metadata": {},
     "output_type": "display_data"
    },
    {
     "data": {
      "text/plain": [
       "True"
      ]
     },
     "execution_count": 8,
     "metadata": {},
     "output_type": "execute_result"
    },
    {
     "data": {
      "text/plain": [
       "'unsharing item 4.2.2 Participation rate in organized learning (one year before the official primary entry age)from the cloning dashboard group'"
      ]
     },
     "metadata": {},
     "output_type": "display_data"
    },
    {
     "data": {
      "text/plain": [
       "{'notUnsharedFrom': [], 'itemId': '0cf42d6c0a534927b1e996a9d093ebb5'}"
      ]
     },
     "execution_count": 8,
     "metadata": {},
     "output_type": "execute_result"
    },
    {
     "data": {
      "text/plain": [
       "'sharing item 4.2.2 Participation rate in organized learning (one year before the official primary entry age)with the sdg dashboard group'"
      ]
     },
     "metadata": {},
     "output_type": "display_data"
    },
    {
     "data": {
      "text/plain": [
       "{'notSharedWith': [], 'itemId': '0cf42d6c0a534927b1e996a9d093ebb5'}"
      ]
     },
     "execution_count": 8,
     "metadata": {},
     "output_type": "execute_result"
    },
    {
     "name": "stdout",
     "output_type": "stream",
     "text": [
      "-----\n"
     ]
    },
    {
     "data": {
      "text/plain": [
       "'reassigning item 4.2.2 Participation rate in organized learning (one year before the official primary entry age) from apfister_undesa to unstats_admin'"
      ]
     },
     "metadata": {},
     "output_type": "display_data"
    },
    {
     "data": {
      "text/plain": [
       "True"
      ]
     },
     "execution_count": 8,
     "metadata": {},
     "output_type": "execute_result"
    },
    {
     "data": {
      "text/plain": [
       "'unsharing item 4.2.2 Participation rate in organized learning (one year before the official primary entry age)from the cloning dashboard group'"
      ]
     },
     "metadata": {},
     "output_type": "display_data"
    },
    {
     "data": {
      "text/plain": [
       "{'notUnsharedFrom': [], 'itemId': 'e2b15124e89f4ad4b2d4dfa37326680b'}"
      ]
     },
     "execution_count": 8,
     "metadata": {},
     "output_type": "execute_result"
    },
    {
     "data": {
      "text/plain": [
       "'sharing item 4.2.2 Participation rate in organized learning (one year before the official primary entry age)with the sdg dashboard group'"
      ]
     },
     "metadata": {},
     "output_type": "display_data"
    },
    {
     "data": {
      "text/plain": [
       "{'notSharedWith': [], 'itemId': 'e2b15124e89f4ad4b2d4dfa37326680b'}"
      ]
     },
     "execution_count": 8,
     "metadata": {},
     "output_type": "execute_result"
    },
    {
     "name": "stdout",
     "output_type": "stream",
     "text": [
      "-----\n"
     ]
    },
    {
     "data": {
      "text/plain": [
       "'reassigning item 4.5.1 Gender parity index for achievement in mathematics by the end of primary education from apfister_undesa to unstats_admin'"
      ]
     },
     "metadata": {},
     "output_type": "display_data"
    },
    {
     "data": {
      "text/plain": [
       "True"
      ]
     },
     "execution_count": 8,
     "metadata": {},
     "output_type": "execute_result"
    },
    {
     "data": {
      "text/plain": [
       "'unsharing item 4.5.1 Gender parity index for achievement in mathematics by the end of primary educationfrom the cloning dashboard group'"
      ]
     },
     "metadata": {},
     "output_type": "display_data"
    },
    {
     "data": {
      "text/plain": [
       "{'notUnsharedFrom': [], 'itemId': '3b5847cda71242a78c329c7915551827'}"
      ]
     },
     "execution_count": 8,
     "metadata": {},
     "output_type": "execute_result"
    },
    {
     "data": {
      "text/plain": [
       "'sharing item 4.5.1 Gender parity index for achievement in mathematics by the end of primary educationwith the sdg dashboard group'"
      ]
     },
     "metadata": {},
     "output_type": "display_data"
    },
    {
     "data": {
      "text/plain": [
       "{'notSharedWith': [], 'itemId': '3b5847cda71242a78c329c7915551827'}"
      ]
     },
     "execution_count": 8,
     "metadata": {},
     "output_type": "execute_result"
    },
    {
     "name": "stdout",
     "output_type": "stream",
     "text": [
      "-----\n"
     ]
    },
    {
     "data": {
      "text/plain": [
       "'reassigning item 4.5.1 Gender parity index for achievement in mathematics by the end of primary education from apfister_undesa to unstats_admin'"
      ]
     },
     "metadata": {},
     "output_type": "display_data"
    },
    {
     "data": {
      "text/plain": [
       "True"
      ]
     },
     "execution_count": 8,
     "metadata": {},
     "output_type": "execute_result"
    },
    {
     "data": {
      "text/plain": [
       "'unsharing item 4.5.1 Gender parity index for achievement in mathematics by the end of primary educationfrom the cloning dashboard group'"
      ]
     },
     "metadata": {},
     "output_type": "display_data"
    },
    {
     "data": {
      "text/plain": [
       "{'notUnsharedFrom': [], 'itemId': '739ba008299f45779bb115411f580c76'}"
      ]
     },
     "execution_count": 8,
     "metadata": {},
     "output_type": "execute_result"
    },
    {
     "data": {
      "text/plain": [
       "'sharing item 4.5.1 Gender parity index for achievement in mathematics by the end of primary educationwith the sdg dashboard group'"
      ]
     },
     "metadata": {},
     "output_type": "display_data"
    },
    {
     "data": {
      "text/plain": [
       "{'notSharedWith': [], 'itemId': '739ba008299f45779bb115411f580c76'}"
      ]
     },
     "execution_count": 8,
     "metadata": {},
     "output_type": "execute_result"
    },
    {
     "name": "stdout",
     "output_type": "stream",
     "text": [
      "-----\n"
     ]
    },
    {
     "data": {
      "text/plain": [
       "'reassigning item 4.5.1 Gender parity index for achievement in reading by the end of primary education from apfister_undesa to unstats_admin'"
      ]
     },
     "metadata": {},
     "output_type": "display_data"
    },
    {
     "data": {
      "text/plain": [
       "True"
      ]
     },
     "execution_count": 8,
     "metadata": {},
     "output_type": "execute_result"
    },
    {
     "data": {
      "text/plain": [
       "'unsharing item 4.5.1 Gender parity index for achievement in reading by the end of primary educationfrom the cloning dashboard group'"
      ]
     },
     "metadata": {},
     "output_type": "display_data"
    },
    {
     "data": {
      "text/plain": [
       "{'notUnsharedFrom': [], 'itemId': '6a8b7169f87a4fd7bc1d666a81838180'}"
      ]
     },
     "execution_count": 8,
     "metadata": {},
     "output_type": "execute_result"
    },
    {
     "data": {
      "text/plain": [
       "'sharing item 4.5.1 Gender parity index for achievement in reading by the end of primary educationwith the sdg dashboard group'"
      ]
     },
     "metadata": {},
     "output_type": "display_data"
    },
    {
     "data": {
      "text/plain": [
       "{'notSharedWith': [], 'itemId': '6a8b7169f87a4fd7bc1d666a81838180'}"
      ]
     },
     "execution_count": 8,
     "metadata": {},
     "output_type": "execute_result"
    },
    {
     "name": "stdout",
     "output_type": "stream",
     "text": [
      "-----\n"
     ]
    },
    {
     "data": {
      "text/plain": [
       "'reassigning item 4.5.1 Gender parity index for achievement in reading by the end of primary education from apfister_undesa to unstats_admin'"
      ]
     },
     "metadata": {},
     "output_type": "display_data"
    },
    {
     "data": {
      "text/plain": [
       "True"
      ]
     },
     "execution_count": 8,
     "metadata": {},
     "output_type": "execute_result"
    },
    {
     "data": {
      "text/plain": [
       "'unsharing item 4.5.1 Gender parity index for achievement in reading by the end of primary educationfrom the cloning dashboard group'"
      ]
     },
     "metadata": {},
     "output_type": "display_data"
    },
    {
     "data": {
      "text/plain": [
       "{'notUnsharedFrom': [], 'itemId': '0260c26aef4141c68e8b56c1f392a557'}"
      ]
     },
     "execution_count": 8,
     "metadata": {},
     "output_type": "execute_result"
    },
    {
     "data": {
      "text/plain": [
       "'sharing item 4.5.1 Gender parity index for achievement in reading by the end of primary educationwith the sdg dashboard group'"
      ]
     },
     "metadata": {},
     "output_type": "display_data"
    },
    {
     "data": {
      "text/plain": [
       "{'notSharedWith': [], 'itemId': '0260c26aef4141c68e8b56c1f392a557'}"
      ]
     },
     "execution_count": 8,
     "metadata": {},
     "output_type": "execute_result"
    },
    {
     "name": "stdout",
     "output_type": "stream",
     "text": [
      "-----\n"
     ]
    },
    {
     "data": {
      "text/plain": [
       "'reassigning item 4.5.1 Gender parity index of trained teachers in primary education from apfister_undesa to unstats_admin'"
      ]
     },
     "metadata": {},
     "output_type": "display_data"
    },
    {
     "data": {
      "text/plain": [
       "True"
      ]
     },
     "execution_count": 8,
     "metadata": {},
     "output_type": "execute_result"
    },
    {
     "data": {
      "text/plain": [
       "'unsharing item 4.5.1 Gender parity index of trained teachers in primary educationfrom the cloning dashboard group'"
      ]
     },
     "metadata": {},
     "output_type": "display_data"
    },
    {
     "data": {
      "text/plain": [
       "{'notUnsharedFrom': [], 'itemId': 'f51a1b9c773d4e889d933ac70387e42d'}"
      ]
     },
     "execution_count": 8,
     "metadata": {},
     "output_type": "execute_result"
    },
    {
     "data": {
      "text/plain": [
       "'sharing item 4.5.1 Gender parity index of trained teachers in primary educationwith the sdg dashboard group'"
      ]
     },
     "metadata": {},
     "output_type": "display_data"
    },
    {
     "data": {
      "text/plain": [
       "{'notSharedWith': [], 'itemId': 'f51a1b9c773d4e889d933ac70387e42d'}"
      ]
     },
     "execution_count": 8,
     "metadata": {},
     "output_type": "execute_result"
    },
    {
     "name": "stdout",
     "output_type": "stream",
     "text": [
      "-----\n"
     ]
    },
    {
     "data": {
      "text/plain": [
       "'reassigning item 4.5.1 Gender parity index of trained teachers in primary education from apfister_undesa to unstats_admin'"
      ]
     },
     "metadata": {},
     "output_type": "display_data"
    },
    {
     "data": {
      "text/plain": [
       "True"
      ]
     },
     "execution_count": 8,
     "metadata": {},
     "output_type": "execute_result"
    },
    {
     "data": {
      "text/plain": [
       "'unsharing item 4.5.1 Gender parity index of trained teachers in primary educationfrom the cloning dashboard group'"
      ]
     },
     "metadata": {},
     "output_type": "display_data"
    },
    {
     "data": {
      "text/plain": [
       "{'notUnsharedFrom': [], 'itemId': '3847afe2e7734dc390ba8e0429af6f3c'}"
      ]
     },
     "execution_count": 8,
     "metadata": {},
     "output_type": "execute_result"
    },
    {
     "data": {
      "text/plain": [
       "'sharing item 4.5.1 Gender parity index of trained teachers in primary educationwith the sdg dashboard group'"
      ]
     },
     "metadata": {},
     "output_type": "display_data"
    },
    {
     "data": {
      "text/plain": [
       "{'notSharedWith': [], 'itemId': '3847afe2e7734dc390ba8e0429af6f3c'}"
      ]
     },
     "execution_count": 8,
     "metadata": {},
     "output_type": "execute_result"
    },
    {
     "name": "stdout",
     "output_type": "stream",
     "text": [
      "-----\n"
     ]
    },
    {
     "data": {
      "text/plain": [
       "'reassigning item 5.3.1 Proportion of women aged 20-24 years who were married or in a union before age 18 (percent) from apfister_undesa to unstats_admin'"
      ]
     },
     "metadata": {},
     "output_type": "display_data"
    },
    {
     "data": {
      "text/plain": [
       "True"
      ]
     },
     "execution_count": 8,
     "metadata": {},
     "output_type": "execute_result"
    },
    {
     "data": {
      "text/plain": [
       "'unsharing item 5.3.1 Proportion of women aged 20-24 years who were married or in a union before age 18 (percent)from the cloning dashboard group'"
      ]
     },
     "metadata": {},
     "output_type": "display_data"
    },
    {
     "data": {
      "text/plain": [
       "{'notUnsharedFrom': [], 'itemId': '8f8aec4dc7964775a3d0ad03afb98f2f'}"
      ]
     },
     "execution_count": 8,
     "metadata": {},
     "output_type": "execute_result"
    },
    {
     "data": {
      "text/plain": [
       "'sharing item 5.3.1 Proportion of women aged 20-24 years who were married or in a union before age 18 (percent)with the sdg dashboard group'"
      ]
     },
     "metadata": {},
     "output_type": "display_data"
    },
    {
     "data": {
      "text/plain": [
       "{'notSharedWith': [], 'itemId': '8f8aec4dc7964775a3d0ad03afb98f2f'}"
      ]
     },
     "execution_count": 8,
     "metadata": {},
     "output_type": "execute_result"
    },
    {
     "name": "stdout",
     "output_type": "stream",
     "text": [
      "-----\n"
     ]
    },
    {
     "data": {
      "text/plain": [
       "'reassigning item 5.3.1 Proportion of women aged 20-24 years who were married or in a union before age 18 (percent) from apfister_undesa to unstats_admin'"
      ]
     },
     "metadata": {},
     "output_type": "display_data"
    },
    {
     "data": {
      "text/plain": [
       "True"
      ]
     },
     "execution_count": 8,
     "metadata": {},
     "output_type": "execute_result"
    },
    {
     "data": {
      "text/plain": [
       "'unsharing item 5.3.1 Proportion of women aged 20-24 years who were married or in a union before age 18 (percent)from the cloning dashboard group'"
      ]
     },
     "metadata": {},
     "output_type": "display_data"
    },
    {
     "data": {
      "text/plain": [
       "{'notUnsharedFrom': [], 'itemId': '3b696636b4344907b48974b06da1857e'}"
      ]
     },
     "execution_count": 8,
     "metadata": {},
     "output_type": "execute_result"
    },
    {
     "data": {
      "text/plain": [
       "'sharing item 5.3.1 Proportion of women aged 20-24 years who were married or in a union before age 18 (percent)with the sdg dashboard group'"
      ]
     },
     "metadata": {},
     "output_type": "display_data"
    },
    {
     "data": {
      "text/plain": [
       "{'notSharedWith': [], 'itemId': '3b696636b4344907b48974b06da1857e'}"
      ]
     },
     "execution_count": 8,
     "metadata": {},
     "output_type": "execute_result"
    },
    {
     "name": "stdout",
     "output_type": "stream",
     "text": [
      "-----\n"
     ]
    },
    {
     "data": {
      "text/plain": [
       "'reassigning item 5.5.1 Proportion of seats held by women in national parliaments (percent) from apfister_undesa to unstats_admin'"
      ]
     },
     "metadata": {},
     "output_type": "display_data"
    },
    {
     "data": {
      "text/plain": [
       "True"
      ]
     },
     "execution_count": 8,
     "metadata": {},
     "output_type": "execute_result"
    },
    {
     "data": {
      "text/plain": [
       "'unsharing item 5.5.1 Proportion of seats held by women in national parliaments (percent)from the cloning dashboard group'"
      ]
     },
     "metadata": {},
     "output_type": "display_data"
    },
    {
     "data": {
      "text/plain": [
       "{'notUnsharedFrom': [], 'itemId': '9aca2f15302842dfabd7ee23ac7f3f46'}"
      ]
     },
     "execution_count": 8,
     "metadata": {},
     "output_type": "execute_result"
    },
    {
     "data": {
      "text/plain": [
       "'sharing item 5.5.1 Proportion of seats held by women in national parliaments (percent)with the sdg dashboard group'"
      ]
     },
     "metadata": {},
     "output_type": "display_data"
    },
    {
     "data": {
      "text/plain": [
       "{'notSharedWith': [], 'itemId': '9aca2f15302842dfabd7ee23ac7f3f46'}"
      ]
     },
     "execution_count": 8,
     "metadata": {},
     "output_type": "execute_result"
    },
    {
     "name": "stdout",
     "output_type": "stream",
     "text": [
      "-----\n"
     ]
    },
    {
     "data": {
      "text/plain": [
       "'reassigning item 5.5.1 Proportion of seats held by women in national parliaments (percent) from apfister_undesa to unstats_admin'"
      ]
     },
     "metadata": {},
     "output_type": "display_data"
    },
    {
     "data": {
      "text/plain": [
       "True"
      ]
     },
     "execution_count": 8,
     "metadata": {},
     "output_type": "execute_result"
    },
    {
     "data": {
      "text/plain": [
       "'unsharing item 5.5.1 Proportion of seats held by women in national parliaments (percent)from the cloning dashboard group'"
      ]
     },
     "metadata": {},
     "output_type": "display_data"
    },
    {
     "data": {
      "text/plain": [
       "{'notUnsharedFrom': [], 'itemId': '388d74a92db64b4b88cc4083e6510e17'}"
      ]
     },
     "execution_count": 8,
     "metadata": {},
     "output_type": "execute_result"
    },
    {
     "data": {
      "text/plain": [
       "'sharing item 5.5.1 Proportion of seats held by women in national parliaments (percent)with the sdg dashboard group'"
      ]
     },
     "metadata": {},
     "output_type": "display_data"
    },
    {
     "data": {
      "text/plain": [
       "{'notSharedWith': [], 'itemId': '388d74a92db64b4b88cc4083e6510e17'}"
      ]
     },
     "execution_count": 8,
     "metadata": {},
     "output_type": "execute_result"
    },
    {
     "name": "stdout",
     "output_type": "stream",
     "text": [
      "-----\n"
     ]
    },
    {
     "data": {
      "text/plain": [
       "'reassigning item 5.5.2 Proportion of women in managerial positions (percent) from apfister_undesa to unstats_admin'"
      ]
     },
     "metadata": {},
     "output_type": "display_data"
    },
    {
     "data": {
      "text/plain": [
       "True"
      ]
     },
     "execution_count": 8,
     "metadata": {},
     "output_type": "execute_result"
    },
    {
     "data": {
      "text/plain": [
       "'unsharing item 5.5.2 Proportion of women in managerial positions (percent)from the cloning dashboard group'"
      ]
     },
     "metadata": {},
     "output_type": "display_data"
    },
    {
     "data": {
      "text/plain": [
       "{'notUnsharedFrom': [], 'itemId': 'fdb67deff86740e6bbc37b194adb57b8'}"
      ]
     },
     "execution_count": 8,
     "metadata": {},
     "output_type": "execute_result"
    },
    {
     "data": {
      "text/plain": [
       "'sharing item 5.5.2 Proportion of women in managerial positions (percent)with the sdg dashboard group'"
      ]
     },
     "metadata": {},
     "output_type": "display_data"
    },
    {
     "data": {
      "text/plain": [
       "{'notSharedWith': [], 'itemId': 'fdb67deff86740e6bbc37b194adb57b8'}"
      ]
     },
     "execution_count": 8,
     "metadata": {},
     "output_type": "execute_result"
    },
    {
     "name": "stdout",
     "output_type": "stream",
     "text": [
      "-----\n"
     ]
    },
    {
     "data": {
      "text/plain": [
       "'reassigning item 5.5.2 Proportion of women in managerial positions (percent) from apfister_undesa to unstats_admin'"
      ]
     },
     "metadata": {},
     "output_type": "display_data"
    },
    {
     "data": {
      "text/plain": [
       "True"
      ]
     },
     "execution_count": 8,
     "metadata": {},
     "output_type": "execute_result"
    },
    {
     "data": {
      "text/plain": [
       "'unsharing item 5.5.2 Proportion of women in managerial positions (percent)from the cloning dashboard group'"
      ]
     },
     "metadata": {},
     "output_type": "display_data"
    },
    {
     "data": {
      "text/plain": [
       "{'notUnsharedFrom': [], 'itemId': 'd45978e4a1e047f893d5359a3a1f1986'}"
      ]
     },
     "execution_count": 8,
     "metadata": {},
     "output_type": "execute_result"
    },
    {
     "data": {
      "text/plain": [
       "'sharing item 5.5.2 Proportion of women in managerial positions (percent)with the sdg dashboard group'"
      ]
     },
     "metadata": {},
     "output_type": "display_data"
    },
    {
     "data": {
      "text/plain": [
       "{'notSharedWith': [], 'itemId': 'd45978e4a1e047f893d5359a3a1f1986'}"
      ]
     },
     "execution_count": 8,
     "metadata": {},
     "output_type": "execute_result"
    },
    {
     "name": "stdout",
     "output_type": "stream",
     "text": [
      "-----\n"
     ]
    },
    {
     "data": {
      "text/plain": [
       "'reassigning item 6.1.1 Proportion of population using safely managed drinking water services (percent) from apfister_undesa to unstats_admin'"
      ]
     },
     "metadata": {},
     "output_type": "display_data"
    },
    {
     "data": {
      "text/plain": [
       "True"
      ]
     },
     "execution_count": 8,
     "metadata": {},
     "output_type": "execute_result"
    },
    {
     "data": {
      "text/plain": [
       "'unsharing item 6.1.1 Proportion of population using safely managed drinking water services (percent)from the cloning dashboard group'"
      ]
     },
     "metadata": {},
     "output_type": "display_data"
    },
    {
     "data": {
      "text/plain": [
       "{'notUnsharedFrom': [], 'itemId': 'd1a14aa51e3f40adb0f9df184b5122cd'}"
      ]
     },
     "execution_count": 8,
     "metadata": {},
     "output_type": "execute_result"
    },
    {
     "data": {
      "text/plain": [
       "'sharing item 6.1.1 Proportion of population using safely managed drinking water services (percent)with the sdg dashboard group'"
      ]
     },
     "metadata": {},
     "output_type": "display_data"
    },
    {
     "data": {
      "text/plain": [
       "{'notSharedWith': [], 'itemId': 'd1a14aa51e3f40adb0f9df184b5122cd'}"
      ]
     },
     "execution_count": 8,
     "metadata": {},
     "output_type": "execute_result"
    },
    {
     "name": "stdout",
     "output_type": "stream",
     "text": [
      "-----\n"
     ]
    },
    {
     "data": {
      "text/plain": [
       "'reassigning item 6.1.1 Proportion of population using safely managed drinking water services (percent) from apfister_undesa to unstats_admin'"
      ]
     },
     "metadata": {},
     "output_type": "display_data"
    },
    {
     "data": {
      "text/plain": [
       "True"
      ]
     },
     "execution_count": 8,
     "metadata": {},
     "output_type": "execute_result"
    },
    {
     "data": {
      "text/plain": [
       "'unsharing item 6.1.1 Proportion of population using safely managed drinking water services (percent)from the cloning dashboard group'"
      ]
     },
     "metadata": {},
     "output_type": "display_data"
    },
    {
     "data": {
      "text/plain": [
       "{'notUnsharedFrom': [], 'itemId': 'eb95dae49ec54590a3fe4c83e9143b14'}"
      ]
     },
     "execution_count": 8,
     "metadata": {},
     "output_type": "execute_result"
    },
    {
     "data": {
      "text/plain": [
       "'sharing item 6.1.1 Proportion of population using safely managed drinking water services (percent)with the sdg dashboard group'"
      ]
     },
     "metadata": {},
     "output_type": "display_data"
    },
    {
     "data": {
      "text/plain": [
       "{'notSharedWith': [], 'itemId': 'eb95dae49ec54590a3fe4c83e9143b14'}"
      ]
     },
     "execution_count": 8,
     "metadata": {},
     "output_type": "execute_result"
    },
    {
     "name": "stdout",
     "output_type": "stream",
     "text": [
      "-----\n"
     ]
    },
    {
     "data": {
      "text/plain": [
       "'reassigning item 6.2.1 Proportion of population practicing open defecation (percent) from apfister_undesa to unstats_admin'"
      ]
     },
     "metadata": {},
     "output_type": "display_data"
    },
    {
     "data": {
      "text/plain": [
       "True"
      ]
     },
     "execution_count": 8,
     "metadata": {},
     "output_type": "execute_result"
    },
    {
     "data": {
      "text/plain": [
       "'unsharing item 6.2.1 Proportion of population practicing open defecation (percent)from the cloning dashboard group'"
      ]
     },
     "metadata": {},
     "output_type": "display_data"
    },
    {
     "data": {
      "text/plain": [
       "{'notUnsharedFrom': [], 'itemId': 'd8362e4e92e14feea9da44fd85af9a11'}"
      ]
     },
     "execution_count": 8,
     "metadata": {},
     "output_type": "execute_result"
    },
    {
     "data": {
      "text/plain": [
       "'sharing item 6.2.1 Proportion of population practicing open defecation (percent)with the sdg dashboard group'"
      ]
     },
     "metadata": {},
     "output_type": "display_data"
    },
    {
     "data": {
      "text/plain": [
       "{'notSharedWith': [], 'itemId': 'd8362e4e92e14feea9da44fd85af9a11'}"
      ]
     },
     "execution_count": 8,
     "metadata": {},
     "output_type": "execute_result"
    },
    {
     "name": "stdout",
     "output_type": "stream",
     "text": [
      "-----\n"
     ]
    },
    {
     "data": {
      "text/plain": [
       "'reassigning item 6.2.1 Proportion of population practicing open defecation (percent) from apfister_undesa to unstats_admin'"
      ]
     },
     "metadata": {},
     "output_type": "display_data"
    },
    {
     "data": {
      "text/plain": [
       "True"
      ]
     },
     "execution_count": 8,
     "metadata": {},
     "output_type": "execute_result"
    },
    {
     "data": {
      "text/plain": [
       "'unsharing item 6.2.1 Proportion of population practicing open defecation (percent)from the cloning dashboard group'"
      ]
     },
     "metadata": {},
     "output_type": "display_data"
    },
    {
     "data": {
      "text/plain": [
       "{'notUnsharedFrom': [], 'itemId': '50ade1e2d1da4c189d109805cc795600'}"
      ]
     },
     "execution_count": 8,
     "metadata": {},
     "output_type": "execute_result"
    },
    {
     "data": {
      "text/plain": [
       "'sharing item 6.2.1 Proportion of population practicing open defecation (percent)with the sdg dashboard group'"
      ]
     },
     "metadata": {},
     "output_type": "display_data"
    },
    {
     "data": {
      "text/plain": [
       "{'notSharedWith': [], 'itemId': '50ade1e2d1da4c189d109805cc795600'}"
      ]
     },
     "execution_count": 8,
     "metadata": {},
     "output_type": "execute_result"
    },
    {
     "name": "stdout",
     "output_type": "stream",
     "text": [
      "-----\n"
     ]
    },
    {
     "data": {
      "text/plain": [
       "'reassigning item 6.2.1 Proportion of population using safely managed sanitation services (percent) from apfister_undesa to unstats_admin'"
      ]
     },
     "metadata": {},
     "output_type": "display_data"
    },
    {
     "data": {
      "text/plain": [
       "True"
      ]
     },
     "execution_count": 8,
     "metadata": {},
     "output_type": "execute_result"
    },
    {
     "data": {
      "text/plain": [
       "'unsharing item 6.2.1 Proportion of population using safely managed sanitation services (percent)from the cloning dashboard group'"
      ]
     },
     "metadata": {},
     "output_type": "display_data"
    },
    {
     "data": {
      "text/plain": [
       "{'notUnsharedFrom': [], 'itemId': '0d9afe8d0c984bc7969eba544df91a10'}"
      ]
     },
     "execution_count": 8,
     "metadata": {},
     "output_type": "execute_result"
    },
    {
     "data": {
      "text/plain": [
       "'sharing item 6.2.1 Proportion of population using safely managed sanitation services (percent)with the sdg dashboard group'"
      ]
     },
     "metadata": {},
     "output_type": "display_data"
    },
    {
     "data": {
      "text/plain": [
       "{'notSharedWith': [], 'itemId': '0d9afe8d0c984bc7969eba544df91a10'}"
      ]
     },
     "execution_count": 8,
     "metadata": {},
     "output_type": "execute_result"
    },
    {
     "name": "stdout",
     "output_type": "stream",
     "text": [
      "-----\n"
     ]
    },
    {
     "data": {
      "text/plain": [
       "'reassigning item 6.2.1 Proportion of population using safely managed sanitation services (percent) from apfister_undesa to unstats_admin'"
      ]
     },
     "metadata": {},
     "output_type": "display_data"
    },
    {
     "data": {
      "text/plain": [
       "True"
      ]
     },
     "execution_count": 8,
     "metadata": {},
     "output_type": "execute_result"
    },
    {
     "data": {
      "text/plain": [
       "'unsharing item 6.2.1 Proportion of population using safely managed sanitation services (percent)from the cloning dashboard group'"
      ]
     },
     "metadata": {},
     "output_type": "display_data"
    },
    {
     "data": {
      "text/plain": [
       "{'notUnsharedFrom': [], 'itemId': '97309ad2a8ae46e5ba712e27d62fd2e2'}"
      ]
     },
     "execution_count": 8,
     "metadata": {},
     "output_type": "execute_result"
    },
    {
     "data": {
      "text/plain": [
       "'sharing item 6.2.1 Proportion of population using safely managed sanitation services (percent)with the sdg dashboard group'"
      ]
     },
     "metadata": {},
     "output_type": "display_data"
    },
    {
     "data": {
      "text/plain": [
       "{'notSharedWith': [], 'itemId': '97309ad2a8ae46e5ba712e27d62fd2e2'}"
      ]
     },
     "execution_count": 8,
     "metadata": {},
     "output_type": "execute_result"
    },
    {
     "name": "stdout",
     "output_type": "stream",
     "text": [
      "-----\n"
     ]
    },
    {
     "data": {
      "text/plain": [
       "'reassigning item 6.2.1 Proportion of rural population practicing open defecation (percent) from apfister_undesa to unstats_admin'"
      ]
     },
     "metadata": {},
     "output_type": "display_data"
    },
    {
     "data": {
      "text/plain": [
       "True"
      ]
     },
     "execution_count": 8,
     "metadata": {},
     "output_type": "execute_result"
    },
    {
     "data": {
      "text/plain": [
       "'unsharing item 6.2.1 Proportion of rural population practicing open defecation (percent)from the cloning dashboard group'"
      ]
     },
     "metadata": {},
     "output_type": "display_data"
    },
    {
     "data": {
      "text/plain": [
       "{'notUnsharedFrom': [], 'itemId': '2b9d769b54354976b9fc602c2b708df9'}"
      ]
     },
     "execution_count": 8,
     "metadata": {},
     "output_type": "execute_result"
    },
    {
     "data": {
      "text/plain": [
       "'sharing item 6.2.1 Proportion of rural population practicing open defecation (percent)with the sdg dashboard group'"
      ]
     },
     "metadata": {},
     "output_type": "display_data"
    },
    {
     "data": {
      "text/plain": [
       "{'notSharedWith': [], 'itemId': '2b9d769b54354976b9fc602c2b708df9'}"
      ]
     },
     "execution_count": 8,
     "metadata": {},
     "output_type": "execute_result"
    },
    {
     "name": "stdout",
     "output_type": "stream",
     "text": [
      "-----\n"
     ]
    },
    {
     "data": {
      "text/plain": [
       "'reassigning item 6.2.1 Proportion of rural population practicing open defecation (percent) from apfister_undesa to unstats_admin'"
      ]
     },
     "metadata": {},
     "output_type": "display_data"
    },
    {
     "data": {
      "text/plain": [
       "True"
      ]
     },
     "execution_count": 8,
     "metadata": {},
     "output_type": "execute_result"
    },
    {
     "data": {
      "text/plain": [
       "'unsharing item 6.2.1 Proportion of rural population practicing open defecation (percent)from the cloning dashboard group'"
      ]
     },
     "metadata": {},
     "output_type": "display_data"
    },
    {
     "data": {
      "text/plain": [
       "{'notUnsharedFrom': [], 'itemId': 'aa81e119f1814c0e845579820b88abd6'}"
      ]
     },
     "execution_count": 8,
     "metadata": {},
     "output_type": "execute_result"
    },
    {
     "data": {
      "text/plain": [
       "'sharing item 6.2.1 Proportion of rural population practicing open defecation (percent)with the sdg dashboard group'"
      ]
     },
     "metadata": {},
     "output_type": "display_data"
    },
    {
     "data": {
      "text/plain": [
       "{'notSharedWith': [], 'itemId': 'aa81e119f1814c0e845579820b88abd6'}"
      ]
     },
     "execution_count": 8,
     "metadata": {},
     "output_type": "execute_result"
    },
    {
     "name": "stdout",
     "output_type": "stream",
     "text": [
      "-----\n"
     ]
    },
    {
     "data": {
      "text/plain": [
       "'reassigning item 6.2.1 Proportion of rural population using safely managed sanitation services (percent) from apfister_undesa to unstats_admin'"
      ]
     },
     "metadata": {},
     "output_type": "display_data"
    },
    {
     "data": {
      "text/plain": [
       "True"
      ]
     },
     "execution_count": 8,
     "metadata": {},
     "output_type": "execute_result"
    },
    {
     "data": {
      "text/plain": [
       "'unsharing item 6.2.1 Proportion of rural population using safely managed sanitation services (percent)from the cloning dashboard group'"
      ]
     },
     "metadata": {},
     "output_type": "display_data"
    },
    {
     "data": {
      "text/plain": [
       "{'notUnsharedFrom': [], 'itemId': 'b2f24abfc7424bbcaf49f886eed094b3'}"
      ]
     },
     "execution_count": 8,
     "metadata": {},
     "output_type": "execute_result"
    },
    {
     "data": {
      "text/plain": [
       "'sharing item 6.2.1 Proportion of rural population using safely managed sanitation services (percent)with the sdg dashboard group'"
      ]
     },
     "metadata": {},
     "output_type": "display_data"
    },
    {
     "data": {
      "text/plain": [
       "{'notSharedWith': [], 'itemId': 'b2f24abfc7424bbcaf49f886eed094b3'}"
      ]
     },
     "execution_count": 8,
     "metadata": {},
     "output_type": "execute_result"
    },
    {
     "name": "stdout",
     "output_type": "stream",
     "text": [
      "-----\n"
     ]
    },
    {
     "data": {
      "text/plain": [
       "'reassigning item 6.2.1 Proportion of rural population using safely managed sanitation services (percent) from apfister_undesa to unstats_admin'"
      ]
     },
     "metadata": {},
     "output_type": "display_data"
    },
    {
     "data": {
      "text/plain": [
       "True"
      ]
     },
     "execution_count": 8,
     "metadata": {},
     "output_type": "execute_result"
    },
    {
     "data": {
      "text/plain": [
       "'unsharing item 6.2.1 Proportion of rural population using safely managed sanitation services (percent)from the cloning dashboard group'"
      ]
     },
     "metadata": {},
     "output_type": "display_data"
    },
    {
     "data": {
      "text/plain": [
       "{'notUnsharedFrom': [], 'itemId': 'c72b3ce0a51b40da8747ddd041725a8d'}"
      ]
     },
     "execution_count": 8,
     "metadata": {},
     "output_type": "execute_result"
    },
    {
     "data": {
      "text/plain": [
       "'sharing item 6.2.1 Proportion of rural population using safely managed sanitation services (percent)with the sdg dashboard group'"
      ]
     },
     "metadata": {},
     "output_type": "display_data"
    },
    {
     "data": {
      "text/plain": [
       "{'notSharedWith': [], 'itemId': 'c72b3ce0a51b40da8747ddd041725a8d'}"
      ]
     },
     "execution_count": 8,
     "metadata": {},
     "output_type": "execute_result"
    },
    {
     "name": "stdout",
     "output_type": "stream",
     "text": [
      "-----\n"
     ]
    },
    {
     "data": {
      "text/plain": [
       "'reassigning item 6.2.1 Proportion of urban population practicing open defecation (percent) from apfister_undesa to unstats_admin'"
      ]
     },
     "metadata": {},
     "output_type": "display_data"
    },
    {
     "data": {
      "text/plain": [
       "True"
      ]
     },
     "execution_count": 8,
     "metadata": {},
     "output_type": "execute_result"
    },
    {
     "data": {
      "text/plain": [
       "'unsharing item 6.2.1 Proportion of urban population practicing open defecation (percent)from the cloning dashboard group'"
      ]
     },
     "metadata": {},
     "output_type": "display_data"
    },
    {
     "data": {
      "text/plain": [
       "{'notUnsharedFrom': [], 'itemId': 'c206ace95ead4f5f97acbc9d8246743b'}"
      ]
     },
     "execution_count": 8,
     "metadata": {},
     "output_type": "execute_result"
    },
    {
     "data": {
      "text/plain": [
       "'sharing item 6.2.1 Proportion of urban population practicing open defecation (percent)with the sdg dashboard group'"
      ]
     },
     "metadata": {},
     "output_type": "display_data"
    },
    {
     "data": {
      "text/plain": [
       "{'notSharedWith': [], 'itemId': 'c206ace95ead4f5f97acbc9d8246743b'}"
      ]
     },
     "execution_count": 8,
     "metadata": {},
     "output_type": "execute_result"
    },
    {
     "name": "stdout",
     "output_type": "stream",
     "text": [
      "-----\n"
     ]
    },
    {
     "data": {
      "text/plain": [
       "'reassigning item 6.2.1 Proportion of urban population practicing open defecation (percent) from apfister_undesa to unstats_admin'"
      ]
     },
     "metadata": {},
     "output_type": "display_data"
    },
    {
     "data": {
      "text/plain": [
       "True"
      ]
     },
     "execution_count": 8,
     "metadata": {},
     "output_type": "execute_result"
    },
    {
     "data": {
      "text/plain": [
       "'unsharing item 6.2.1 Proportion of urban population practicing open defecation (percent)from the cloning dashboard group'"
      ]
     },
     "metadata": {},
     "output_type": "display_data"
    },
    {
     "data": {
      "text/plain": [
       "{'notUnsharedFrom': [], 'itemId': '79d55f1f88f2475d9ef1bf95c9ca0500'}"
      ]
     },
     "execution_count": 8,
     "metadata": {},
     "output_type": "execute_result"
    },
    {
     "data": {
      "text/plain": [
       "'sharing item 6.2.1 Proportion of urban population practicing open defecation (percent)with the sdg dashboard group'"
      ]
     },
     "metadata": {},
     "output_type": "display_data"
    },
    {
     "data": {
      "text/plain": [
       "{'notSharedWith': [], 'itemId': '79d55f1f88f2475d9ef1bf95c9ca0500'}"
      ]
     },
     "execution_count": 8,
     "metadata": {},
     "output_type": "execute_result"
    },
    {
     "name": "stdout",
     "output_type": "stream",
     "text": [
      "-----\n"
     ]
    },
    {
     "data": {
      "text/plain": [
       "'reassigning item 6.2.1 Proportion of urban population using safely managed sanitation services (percent) from apfister_undesa to unstats_admin'"
      ]
     },
     "metadata": {},
     "output_type": "display_data"
    },
    {
     "data": {
      "text/plain": [
       "True"
      ]
     },
     "execution_count": 8,
     "metadata": {},
     "output_type": "execute_result"
    },
    {
     "data": {
      "text/plain": [
       "'unsharing item 6.2.1 Proportion of urban population using safely managed sanitation services (percent)from the cloning dashboard group'"
      ]
     },
     "metadata": {},
     "output_type": "display_data"
    },
    {
     "data": {
      "text/plain": [
       "{'notUnsharedFrom': [], 'itemId': 'd78d58c1b3a04f058e9bfb5f9f0cc113'}"
      ]
     },
     "execution_count": 8,
     "metadata": {},
     "output_type": "execute_result"
    },
    {
     "data": {
      "text/plain": [
       "'sharing item 6.2.1 Proportion of urban population using safely managed sanitation services (percent)with the sdg dashboard group'"
      ]
     },
     "metadata": {},
     "output_type": "display_data"
    },
    {
     "data": {
      "text/plain": [
       "{'notSharedWith': [], 'itemId': 'd78d58c1b3a04f058e9bfb5f9f0cc113'}"
      ]
     },
     "execution_count": 8,
     "metadata": {},
     "output_type": "execute_result"
    },
    {
     "name": "stdout",
     "output_type": "stream",
     "text": [
      "-----\n"
     ]
    },
    {
     "data": {
      "text/plain": [
       "'reassigning item 6.2.1 Proportion of urban population using safely managed sanitation services (percent) from apfister_undesa to unstats_admin'"
      ]
     },
     "metadata": {},
     "output_type": "display_data"
    },
    {
     "data": {
      "text/plain": [
       "True"
      ]
     },
     "execution_count": 8,
     "metadata": {},
     "output_type": "execute_result"
    },
    {
     "data": {
      "text/plain": [
       "'unsharing item 6.2.1 Proportion of urban population using safely managed sanitation services (percent)from the cloning dashboard group'"
      ]
     },
     "metadata": {},
     "output_type": "display_data"
    },
    {
     "data": {
      "text/plain": [
       "{'notUnsharedFrom': [], 'itemId': '6e1c5d15439f4a75b30cde9dc541c879'}"
      ]
     },
     "execution_count": 8,
     "metadata": {},
     "output_type": "execute_result"
    },
    {
     "data": {
      "text/plain": [
       "'sharing item 6.2.1 Proportion of urban population using safely managed sanitation services (percent)with the sdg dashboard group'"
      ]
     },
     "metadata": {},
     "output_type": "display_data"
    },
    {
     "data": {
      "text/plain": [
       "{'notSharedWith': [], 'itemId': '6e1c5d15439f4a75b30cde9dc541c879'}"
      ]
     },
     "execution_count": 8,
     "metadata": {},
     "output_type": "execute_result"
    },
    {
     "name": "stdout",
     "output_type": "stream",
     "text": [
      "-----\n"
     ]
    },
    {
     "data": {
      "text/plain": [
       "'reassigning item 7.1.1 Proportion of population with access to electricity (percent) from apfister_undesa to unstats_admin'"
      ]
     },
     "metadata": {},
     "output_type": "display_data"
    },
    {
     "data": {
      "text/plain": [
       "True"
      ]
     },
     "execution_count": 8,
     "metadata": {},
     "output_type": "execute_result"
    },
    {
     "data": {
      "text/plain": [
       "'unsharing item 7.1.1 Proportion of population with access to electricity (percent)from the cloning dashboard group'"
      ]
     },
     "metadata": {},
     "output_type": "display_data"
    },
    {
     "data": {
      "text/plain": [
       "{'notUnsharedFrom': [], 'itemId': 'c73bd2f0f9cb44bb8746565118c5c845'}"
      ]
     },
     "execution_count": 8,
     "metadata": {},
     "output_type": "execute_result"
    },
    {
     "data": {
      "text/plain": [
       "'sharing item 7.1.1 Proportion of population with access to electricity (percent)with the sdg dashboard group'"
      ]
     },
     "metadata": {},
     "output_type": "display_data"
    },
    {
     "data": {
      "text/plain": [
       "{'notSharedWith': [], 'itemId': 'c73bd2f0f9cb44bb8746565118c5c845'}"
      ]
     },
     "execution_count": 8,
     "metadata": {},
     "output_type": "execute_result"
    },
    {
     "name": "stdout",
     "output_type": "stream",
     "text": [
      "-----\n"
     ]
    },
    {
     "data": {
      "text/plain": [
       "'reassigning item 7.1.1 Proportion of population with access to electricity (percent) from apfister_undesa to unstats_admin'"
      ]
     },
     "metadata": {},
     "output_type": "display_data"
    },
    {
     "data": {
      "text/plain": [
       "True"
      ]
     },
     "execution_count": 8,
     "metadata": {},
     "output_type": "execute_result"
    },
    {
     "data": {
      "text/plain": [
       "'unsharing item 7.1.1 Proportion of population with access to electricity (percent)from the cloning dashboard group'"
      ]
     },
     "metadata": {},
     "output_type": "display_data"
    },
    {
     "data": {
      "text/plain": [
       "{'notUnsharedFrom': [], 'itemId': '6b9a0efc758546d79d782a681b0b0e11'}"
      ]
     },
     "execution_count": 8,
     "metadata": {},
     "output_type": "execute_result"
    },
    {
     "data": {
      "text/plain": [
       "'sharing item 7.1.1 Proportion of population with access to electricity (percent)with the sdg dashboard group'"
      ]
     },
     "metadata": {},
     "output_type": "display_data"
    },
    {
     "data": {
      "text/plain": [
       "{'notSharedWith': [], 'itemId': '6b9a0efc758546d79d782a681b0b0e11'}"
      ]
     },
     "execution_count": 8,
     "metadata": {},
     "output_type": "execute_result"
    },
    {
     "name": "stdout",
     "output_type": "stream",
     "text": [
      "-----\n"
     ]
    },
    {
     "data": {
      "text/plain": [
       "'reassigning item 7.1.2 Proportion of population with primary reliance on clean fuels and technology (percent) from apfister_undesa to unstats_admin'"
      ]
     },
     "metadata": {},
     "output_type": "display_data"
    },
    {
     "data": {
      "text/plain": [
       "True"
      ]
     },
     "execution_count": 8,
     "metadata": {},
     "output_type": "execute_result"
    },
    {
     "data": {
      "text/plain": [
       "'unsharing item 7.1.2 Proportion of population with primary reliance on clean fuels and technology (percent)from the cloning dashboard group'"
      ]
     },
     "metadata": {},
     "output_type": "display_data"
    },
    {
     "data": {
      "text/plain": [
       "{'notUnsharedFrom': [], 'itemId': 'db22317b4e504e66820ba6d9fd638797'}"
      ]
     },
     "execution_count": 8,
     "metadata": {},
     "output_type": "execute_result"
    },
    {
     "data": {
      "text/plain": [
       "'sharing item 7.1.2 Proportion of population with primary reliance on clean fuels and technology (percent)with the sdg dashboard group'"
      ]
     },
     "metadata": {},
     "output_type": "display_data"
    },
    {
     "data": {
      "text/plain": [
       "{'notSharedWith': [], 'itemId': 'db22317b4e504e66820ba6d9fd638797'}"
      ]
     },
     "execution_count": 8,
     "metadata": {},
     "output_type": "execute_result"
    },
    {
     "name": "stdout",
     "output_type": "stream",
     "text": [
      "-----\n"
     ]
    },
    {
     "data": {
      "text/plain": [
       "'reassigning item 7.1.2 Proportion of population with primary reliance on clean fuels and technology (percent) from apfister_undesa to unstats_admin'"
      ]
     },
     "metadata": {},
     "output_type": "display_data"
    },
    {
     "data": {
      "text/plain": [
       "True"
      ]
     },
     "execution_count": 8,
     "metadata": {},
     "output_type": "execute_result"
    },
    {
     "data": {
      "text/plain": [
       "'unsharing item 7.1.2 Proportion of population with primary reliance on clean fuels and technology (percent)from the cloning dashboard group'"
      ]
     },
     "metadata": {},
     "output_type": "display_data"
    },
    {
     "data": {
      "text/plain": [
       "{'notUnsharedFrom': [], 'itemId': 'bc376deab4684c14bddcac5ac473a9e1'}"
      ]
     },
     "execution_count": 8,
     "metadata": {},
     "output_type": "execute_result"
    },
    {
     "data": {
      "text/plain": [
       "'sharing item 7.1.2 Proportion of population with primary reliance on clean fuels and technology (percent)with the sdg dashboard group'"
      ]
     },
     "metadata": {},
     "output_type": "display_data"
    },
    {
     "data": {
      "text/plain": [
       "{'notSharedWith': [], 'itemId': 'bc376deab4684c14bddcac5ac473a9e1'}"
      ]
     },
     "execution_count": 8,
     "metadata": {},
     "output_type": "execute_result"
    },
    {
     "name": "stdout",
     "output_type": "stream",
     "text": [
      "-----\n"
     ]
    },
    {
     "data": {
      "text/plain": [
       "'reassigning item 8.1.1 Annual growth rate of real GDP per capita (percent) from apfister_undesa to unstats_admin'"
      ]
     },
     "metadata": {},
     "output_type": "display_data"
    },
    {
     "data": {
      "text/plain": [
       "True"
      ]
     },
     "execution_count": 8,
     "metadata": {},
     "output_type": "execute_result"
    },
    {
     "data": {
      "text/plain": [
       "'unsharing item 8.1.1 Annual growth rate of real GDP per capita (percent)from the cloning dashboard group'"
      ]
     },
     "metadata": {},
     "output_type": "display_data"
    },
    {
     "data": {
      "text/plain": [
       "{'notUnsharedFrom': [], 'itemId': '8c0a16f6ec604ad4a757a301857928d6'}"
      ]
     },
     "execution_count": 8,
     "metadata": {},
     "output_type": "execute_result"
    },
    {
     "data": {
      "text/plain": [
       "'sharing item 8.1.1 Annual growth rate of real GDP per capita (percent)with the sdg dashboard group'"
      ]
     },
     "metadata": {},
     "output_type": "display_data"
    },
    {
     "data": {
      "text/plain": [
       "{'notSharedWith': [], 'itemId': '8c0a16f6ec604ad4a757a301857928d6'}"
      ]
     },
     "execution_count": 8,
     "metadata": {},
     "output_type": "execute_result"
    },
    {
     "name": "stdout",
     "output_type": "stream",
     "text": [
      "-----\n"
     ]
    },
    {
     "data": {
      "text/plain": [
       "'reassigning item 8.1.1 Annual growth rate of real GDP per capita (percent) from apfister_undesa to unstats_admin'"
      ]
     },
     "metadata": {},
     "output_type": "display_data"
    },
    {
     "data": {
      "text/plain": [
       "True"
      ]
     },
     "execution_count": 8,
     "metadata": {},
     "output_type": "execute_result"
    },
    {
     "data": {
      "text/plain": [
       "'unsharing item 8.1.1 Annual growth rate of real GDP per capita (percent)from the cloning dashboard group'"
      ]
     },
     "metadata": {},
     "output_type": "display_data"
    },
    {
     "data": {
      "text/plain": [
       "{'notUnsharedFrom': [], 'itemId': '31c3e5df4b9e4a75a33221157591a37f'}"
      ]
     },
     "execution_count": 8,
     "metadata": {},
     "output_type": "execute_result"
    },
    {
     "data": {
      "text/plain": [
       "'sharing item 8.1.1 Annual growth rate of real GDP per capita (percent)with the sdg dashboard group'"
      ]
     },
     "metadata": {},
     "output_type": "display_data"
    },
    {
     "data": {
      "text/plain": [
       "{'notSharedWith': [], 'itemId': '31c3e5df4b9e4a75a33221157591a37f'}"
      ]
     },
     "execution_count": 8,
     "metadata": {},
     "output_type": "execute_result"
    },
    {
     "name": "stdout",
     "output_type": "stream",
     "text": [
      "-----\n"
     ]
    },
    {
     "data": {
      "text/plain": [
       "'reassigning item 8.5.2 Unemployment rate of men 15 years of age and older (percent) from apfister_undesa to unstats_admin'"
      ]
     },
     "metadata": {},
     "output_type": "display_data"
    },
    {
     "data": {
      "text/plain": [
       "True"
      ]
     },
     "execution_count": 8,
     "metadata": {},
     "output_type": "execute_result"
    },
    {
     "data": {
      "text/plain": [
       "'unsharing item 8.5.2 Unemployment rate of men 15 years of age and older (percent)from the cloning dashboard group'"
      ]
     },
     "metadata": {},
     "output_type": "display_data"
    },
    {
     "data": {
      "text/plain": [
       "{'notUnsharedFrom': [], 'itemId': '7547932147754bcaa8d361dd8c55ea2f'}"
      ]
     },
     "execution_count": 8,
     "metadata": {},
     "output_type": "execute_result"
    },
    {
     "data": {
      "text/plain": [
       "'sharing item 8.5.2 Unemployment rate of men 15 years of age and older (percent)with the sdg dashboard group'"
      ]
     },
     "metadata": {},
     "output_type": "display_data"
    },
    {
     "data": {
      "text/plain": [
       "{'notSharedWith': [], 'itemId': '7547932147754bcaa8d361dd8c55ea2f'}"
      ]
     },
     "execution_count": 8,
     "metadata": {},
     "output_type": "execute_result"
    },
    {
     "name": "stdout",
     "output_type": "stream",
     "text": [
      "-----\n"
     ]
    },
    {
     "data": {
      "text/plain": [
       "'reassigning item 8.5.2 Unemployment rate of men 15 years of age and older (percent) from apfister_undesa to unstats_admin'"
      ]
     },
     "metadata": {},
     "output_type": "display_data"
    },
    {
     "data": {
      "text/plain": [
       "True"
      ]
     },
     "execution_count": 8,
     "metadata": {},
     "output_type": "execute_result"
    },
    {
     "data": {
      "text/plain": [
       "'unsharing item 8.5.2 Unemployment rate of men 15 years of age and older (percent)from the cloning dashboard group'"
      ]
     },
     "metadata": {},
     "output_type": "display_data"
    },
    {
     "data": {
      "text/plain": [
       "{'notUnsharedFrom': [], 'itemId': '9fa275b47c634e8585ca8edcd0a05ffa'}"
      ]
     },
     "execution_count": 8,
     "metadata": {},
     "output_type": "execute_result"
    },
    {
     "data": {
      "text/plain": [
       "'sharing item 8.5.2 Unemployment rate of men 15 years of age and older (percent)with the sdg dashboard group'"
      ]
     },
     "metadata": {},
     "output_type": "display_data"
    },
    {
     "data": {
      "text/plain": [
       "{'notSharedWith': [], 'itemId': '9fa275b47c634e8585ca8edcd0a05ffa'}"
      ]
     },
     "execution_count": 8,
     "metadata": {},
     "output_type": "execute_result"
    },
    {
     "name": "stdout",
     "output_type": "stream",
     "text": [
      "-----\n"
     ]
    },
    {
     "data": {
      "text/plain": [
       "'reassigning item 8.5.2 Unemployment rate of population 15 years of age and older from apfister_undesa to unstats_admin'"
      ]
     },
     "metadata": {},
     "output_type": "display_data"
    },
    {
     "data": {
      "text/plain": [
       "True"
      ]
     },
     "execution_count": 8,
     "metadata": {},
     "output_type": "execute_result"
    },
    {
     "data": {
      "text/plain": [
       "'unsharing item 8.5.2 Unemployment rate of population 15 years of age and olderfrom the cloning dashboard group'"
      ]
     },
     "metadata": {},
     "output_type": "display_data"
    },
    {
     "data": {
      "text/plain": [
       "{'notUnsharedFrom': [], 'itemId': 'ec9cbbc2c020441cb54e11d3e3195da7'}"
      ]
     },
     "execution_count": 8,
     "metadata": {},
     "output_type": "execute_result"
    },
    {
     "data": {
      "text/plain": [
       "'sharing item 8.5.2 Unemployment rate of population 15 years of age and olderwith the sdg dashboard group'"
      ]
     },
     "metadata": {},
     "output_type": "display_data"
    },
    {
     "data": {
      "text/plain": [
       "{'notSharedWith': [], 'itemId': 'ec9cbbc2c020441cb54e11d3e3195da7'}"
      ]
     },
     "execution_count": 8,
     "metadata": {},
     "output_type": "execute_result"
    },
    {
     "name": "stdout",
     "output_type": "stream",
     "text": [
      "-----\n"
     ]
    },
    {
     "data": {
      "text/plain": [
       "'reassigning item 8.5.2 Unemployment rate of population 15 years of age and older from apfister_undesa to unstats_admin'"
      ]
     },
     "metadata": {},
     "output_type": "display_data"
    },
    {
     "data": {
      "text/plain": [
       "True"
      ]
     },
     "execution_count": 8,
     "metadata": {},
     "output_type": "execute_result"
    },
    {
     "data": {
      "text/plain": [
       "'unsharing item 8.5.2 Unemployment rate of population 15 years of age and olderfrom the cloning dashboard group'"
      ]
     },
     "metadata": {},
     "output_type": "display_data"
    },
    {
     "data": {
      "text/plain": [
       "{'notUnsharedFrom': [], 'itemId': '533fa3c5833541b3986ac8309f66b1aa'}"
      ]
     },
     "execution_count": 8,
     "metadata": {},
     "output_type": "execute_result"
    },
    {
     "data": {
      "text/plain": [
       "'sharing item 8.5.2 Unemployment rate of population 15 years of age and olderwith the sdg dashboard group'"
      ]
     },
     "metadata": {},
     "output_type": "display_data"
    },
    {
     "data": {
      "text/plain": [
       "{'notSharedWith': [], 'itemId': '533fa3c5833541b3986ac8309f66b1aa'}"
      ]
     },
     "execution_count": 8,
     "metadata": {},
     "output_type": "execute_result"
    },
    {
     "name": "stdout",
     "output_type": "stream",
     "text": [
      "-----\n"
     ]
    },
    {
     "data": {
      "text/plain": [
       "'reassigning item 8.5.2 Unemployment rate of population 25 years of age and older from apfister_undesa to unstats_admin'"
      ]
     },
     "metadata": {},
     "output_type": "display_data"
    },
    {
     "data": {
      "text/plain": [
       "True"
      ]
     },
     "execution_count": 8,
     "metadata": {},
     "output_type": "execute_result"
    },
    {
     "data": {
      "text/plain": [
       "'unsharing item 8.5.2 Unemployment rate of population 25 years of age and olderfrom the cloning dashboard group'"
      ]
     },
     "metadata": {},
     "output_type": "display_data"
    },
    {
     "data": {
      "text/plain": [
       "{'notUnsharedFrom': [], 'itemId': '9c2a9186cdaa4da483b12185335ede61'}"
      ]
     },
     "execution_count": 8,
     "metadata": {},
     "output_type": "execute_result"
    },
    {
     "data": {
      "text/plain": [
       "'sharing item 8.5.2 Unemployment rate of population 25 years of age and olderwith the sdg dashboard group'"
      ]
     },
     "metadata": {},
     "output_type": "display_data"
    },
    {
     "data": {
      "text/plain": [
       "{'notSharedWith': [], 'itemId': '9c2a9186cdaa4da483b12185335ede61'}"
      ]
     },
     "execution_count": 8,
     "metadata": {},
     "output_type": "execute_result"
    },
    {
     "name": "stdout",
     "output_type": "stream",
     "text": [
      "-----\n"
     ]
    },
    {
     "data": {
      "text/plain": [
       "'reassigning item 8.5.2 Unemployment rate of population 25 years of age and older from apfister_undesa to unstats_admin'"
      ]
     },
     "metadata": {},
     "output_type": "display_data"
    },
    {
     "data": {
      "text/plain": [
       "True"
      ]
     },
     "execution_count": 8,
     "metadata": {},
     "output_type": "execute_result"
    },
    {
     "data": {
      "text/plain": [
       "'unsharing item 8.5.2 Unemployment rate of population 25 years of age and olderfrom the cloning dashboard group'"
      ]
     },
     "metadata": {},
     "output_type": "display_data"
    },
    {
     "data": {
      "text/plain": [
       "{'notUnsharedFrom': [], 'itemId': '36a6c0af0f674a5fa0f1dc3fe1e1b602'}"
      ]
     },
     "execution_count": 8,
     "metadata": {},
     "output_type": "execute_result"
    },
    {
     "data": {
      "text/plain": [
       "'sharing item 8.5.2 Unemployment rate of population 25 years of age and olderwith the sdg dashboard group'"
      ]
     },
     "metadata": {},
     "output_type": "display_data"
    },
    {
     "data": {
      "text/plain": [
       "{'notSharedWith': [], 'itemId': '36a6c0af0f674a5fa0f1dc3fe1e1b602'}"
      ]
     },
     "execution_count": 8,
     "metadata": {},
     "output_type": "execute_result"
    },
    {
     "name": "stdout",
     "output_type": "stream",
     "text": [
      "-----\n"
     ]
    },
    {
     "data": {
      "text/plain": [
       "'reassigning item 8.5.2 Unemployment rate of women 15 years of age and older (percent) from apfister_undesa to unstats_admin'"
      ]
     },
     "metadata": {},
     "output_type": "display_data"
    },
    {
     "data": {
      "text/plain": [
       "True"
      ]
     },
     "execution_count": 8,
     "metadata": {},
     "output_type": "execute_result"
    },
    {
     "data": {
      "text/plain": [
       "'unsharing item 8.5.2 Unemployment rate of women 15 years of age and older (percent)from the cloning dashboard group'"
      ]
     },
     "metadata": {},
     "output_type": "display_data"
    },
    {
     "data": {
      "text/plain": [
       "{'notUnsharedFrom': [], 'itemId': '3391f58684f34d92af498b3b668bef1a'}"
      ]
     },
     "execution_count": 8,
     "metadata": {},
     "output_type": "execute_result"
    },
    {
     "data": {
      "text/plain": [
       "'sharing item 8.5.2 Unemployment rate of women 15 years of age and older (percent)with the sdg dashboard group'"
      ]
     },
     "metadata": {},
     "output_type": "display_data"
    },
    {
     "data": {
      "text/plain": [
       "{'notSharedWith': [], 'itemId': '3391f58684f34d92af498b3b668bef1a'}"
      ]
     },
     "execution_count": 8,
     "metadata": {},
     "output_type": "execute_result"
    },
    {
     "name": "stdout",
     "output_type": "stream",
     "text": [
      "-----\n"
     ]
    },
    {
     "data": {
      "text/plain": [
       "'reassigning item 8.5.2 Unemployment rate of women 15 years of age and older (percent) from apfister_undesa to unstats_admin'"
      ]
     },
     "metadata": {},
     "output_type": "display_data"
    },
    {
     "data": {
      "text/plain": [
       "True"
      ]
     },
     "execution_count": 8,
     "metadata": {},
     "output_type": "execute_result"
    },
    {
     "data": {
      "text/plain": [
       "'unsharing item 8.5.2 Unemployment rate of women 15 years of age and older (percent)from the cloning dashboard group'"
      ]
     },
     "metadata": {},
     "output_type": "display_data"
    },
    {
     "data": {
      "text/plain": [
       "{'notUnsharedFrom': [], 'itemId': 'e4f8bafe9d0d4e1885d9d916b8c30ff1'}"
      ]
     },
     "execution_count": 8,
     "metadata": {},
     "output_type": "execute_result"
    },
    {
     "data": {
      "text/plain": [
       "'sharing item 8.5.2 Unemployment rate of women 15 years of age and older (percent)with the sdg dashboard group'"
      ]
     },
     "metadata": {},
     "output_type": "display_data"
    },
    {
     "data": {
      "text/plain": [
       "{'notSharedWith': [], 'itemId': 'e4f8bafe9d0d4e1885d9d916b8c30ff1'}"
      ]
     },
     "execution_count": 8,
     "metadata": {},
     "output_type": "execute_result"
    },
    {
     "name": "stdout",
     "output_type": "stream",
     "text": [
      "-----\n"
     ]
    },
    {
     "data": {
      "text/plain": [
       "'reassigning item 9.4.1 Carbon dioxide emissions per unit of GDP (kg per constant 2010 US dollars) from apfister_undesa to unstats_admin'"
      ]
     },
     "metadata": {},
     "output_type": "display_data"
    },
    {
     "data": {
      "text/plain": [
       "True"
      ]
     },
     "execution_count": 8,
     "metadata": {},
     "output_type": "execute_result"
    },
    {
     "data": {
      "text/plain": [
       "'unsharing item 9.4.1 Carbon dioxide emissions per unit of GDP (kg per constant 2010 US dollars)from the cloning dashboard group'"
      ]
     },
     "metadata": {},
     "output_type": "display_data"
    },
    {
     "data": {
      "text/plain": [
       "{'notUnsharedFrom': [], 'itemId': 'de854eed105441deb0c78d0cd77a62da'}"
      ]
     },
     "execution_count": 8,
     "metadata": {},
     "output_type": "execute_result"
    },
    {
     "data": {
      "text/plain": [
       "'sharing item 9.4.1 Carbon dioxide emissions per unit of GDP (kg per constant 2010 US dollars)with the sdg dashboard group'"
      ]
     },
     "metadata": {},
     "output_type": "display_data"
    },
    {
     "data": {
      "text/plain": [
       "{'notSharedWith': [], 'itemId': 'de854eed105441deb0c78d0cd77a62da'}"
      ]
     },
     "execution_count": 8,
     "metadata": {},
     "output_type": "execute_result"
    },
    {
     "name": "stdout",
     "output_type": "stream",
     "text": [
      "-----\n"
     ]
    },
    {
     "data": {
      "text/plain": [
       "'reassigning item 9.4.1 Carbon dioxide emissions per unit of GDP (kg per constant 2010 US dollars) from apfister_undesa to unstats_admin'"
      ]
     },
     "metadata": {},
     "output_type": "display_data"
    },
    {
     "data": {
      "text/plain": [
       "True"
      ]
     },
     "execution_count": 8,
     "metadata": {},
     "output_type": "execute_result"
    },
    {
     "data": {
      "text/plain": [
       "'unsharing item 9.4.1 Carbon dioxide emissions per unit of GDP (kg per constant 2010 US dollars)from the cloning dashboard group'"
      ]
     },
     "metadata": {},
     "output_type": "display_data"
    },
    {
     "data": {
      "text/plain": [
       "{'notUnsharedFrom': [], 'itemId': '290f81cf418940b48f3c27a25bf009df'}"
      ]
     },
     "execution_count": 8,
     "metadata": {},
     "output_type": "execute_result"
    },
    {
     "data": {
      "text/plain": [
       "'sharing item 9.4.1 Carbon dioxide emissions per unit of GDP (kg per constant 2010 US dollars)with the sdg dashboard group'"
      ]
     },
     "metadata": {},
     "output_type": "display_data"
    },
    {
     "data": {
      "text/plain": [
       "{'notSharedWith': [], 'itemId': '290f81cf418940b48f3c27a25bf009df'}"
      ]
     },
     "execution_count": 8,
     "metadata": {},
     "output_type": "execute_result"
    },
    {
     "name": "stdout",
     "output_type": "stream",
     "text": [
      "-----\n"
     ]
    },
    {
     "data": {
      "text/plain": [
       "'reassigning item 9.5.1 Research and development expenditure as a proportion of GDP (percent) from apfister_undesa to unstats_admin'"
      ]
     },
     "metadata": {},
     "output_type": "display_data"
    },
    {
     "data": {
      "text/plain": [
       "True"
      ]
     },
     "execution_count": 8,
     "metadata": {},
     "output_type": "execute_result"
    },
    {
     "data": {
      "text/plain": [
       "'unsharing item 9.5.1 Research and development expenditure as a proportion of GDP (percent)from the cloning dashboard group'"
      ]
     },
     "metadata": {},
     "output_type": "display_data"
    },
    {
     "data": {
      "text/plain": [
       "{'notUnsharedFrom': [], 'itemId': '849027f8e0d2446c92ba42c2ab6d11a6'}"
      ]
     },
     "execution_count": 8,
     "metadata": {},
     "output_type": "execute_result"
    },
    {
     "data": {
      "text/plain": [
       "'sharing item 9.5.1 Research and development expenditure as a proportion of GDP (percent)with the sdg dashboard group'"
      ]
     },
     "metadata": {},
     "output_type": "display_data"
    },
    {
     "data": {
      "text/plain": [
       "{'notSharedWith': [], 'itemId': '849027f8e0d2446c92ba42c2ab6d11a6'}"
      ]
     },
     "execution_count": 8,
     "metadata": {},
     "output_type": "execute_result"
    },
    {
     "name": "stdout",
     "output_type": "stream",
     "text": [
      "-----\n"
     ]
    },
    {
     "data": {
      "text/plain": [
       "'reassigning item 9.5.1 Research and development expenditure as a proportion of GDP (percent) from apfister_undesa to unstats_admin'"
      ]
     },
     "metadata": {},
     "output_type": "display_data"
    },
    {
     "data": {
      "text/plain": [
       "True"
      ]
     },
     "execution_count": 8,
     "metadata": {},
     "output_type": "execute_result"
    },
    {
     "data": {
      "text/plain": [
       "'unsharing item 9.5.1 Research and development expenditure as a proportion of GDP (percent)from the cloning dashboard group'"
      ]
     },
     "metadata": {},
     "output_type": "display_data"
    },
    {
     "data": {
      "text/plain": [
       "{'notUnsharedFrom': [], 'itemId': 'f224c829dee248b5bef709794bf271c4'}"
      ]
     },
     "execution_count": 8,
     "metadata": {},
     "output_type": "execute_result"
    },
    {
     "data": {
      "text/plain": [
       "'sharing item 9.5.1 Research and development expenditure as a proportion of GDP (percent)with the sdg dashboard group'"
      ]
     },
     "metadata": {},
     "output_type": "display_data"
    },
    {
     "data": {
      "text/plain": [
       "{'notSharedWith': [], 'itemId': 'f224c829dee248b5bef709794bf271c4'}"
      ]
     },
     "execution_count": 8,
     "metadata": {},
     "output_type": "execute_result"
    },
    {
     "name": "stdout",
     "output_type": "stream",
     "text": [
      "-----\n"
     ]
    },
    {
     "data": {
      "text/plain": [
       "'reassigning item 9.c.1 Proportion of population covered by at least a 2G mobile network (percent) from apfister_undesa to unstats_admin'"
      ]
     },
     "metadata": {},
     "output_type": "display_data"
    },
    {
     "data": {
      "text/plain": [
       "True"
      ]
     },
     "execution_count": 8,
     "metadata": {},
     "output_type": "execute_result"
    },
    {
     "data": {
      "text/plain": [
       "'unsharing item 9.c.1 Proportion of population covered by at least a 2G mobile network (percent)from the cloning dashboard group'"
      ]
     },
     "metadata": {},
     "output_type": "display_data"
    },
    {
     "data": {
      "text/plain": [
       "{'notUnsharedFrom': [], 'itemId': 'e08d9967278346efb827a0c2ddc14c52'}"
      ]
     },
     "execution_count": 8,
     "metadata": {},
     "output_type": "execute_result"
    },
    {
     "data": {
      "text/plain": [
       "'sharing item 9.c.1 Proportion of population covered by at least a 2G mobile network (percent)with the sdg dashboard group'"
      ]
     },
     "metadata": {},
     "output_type": "display_data"
    },
    {
     "data": {
      "text/plain": [
       "{'notSharedWith': [], 'itemId': 'e08d9967278346efb827a0c2ddc14c52'}"
      ]
     },
     "execution_count": 8,
     "metadata": {},
     "output_type": "execute_result"
    },
    {
     "name": "stdout",
     "output_type": "stream",
     "text": [
      "-----\n"
     ]
    },
    {
     "data": {
      "text/plain": [
       "'reassigning item 9.c.1 Proportion of population covered by at least a 2G mobile network (percent) from apfister_undesa to unstats_admin'"
      ]
     },
     "metadata": {},
     "output_type": "display_data"
    },
    {
     "data": {
      "text/plain": [
       "True"
      ]
     },
     "execution_count": 8,
     "metadata": {},
     "output_type": "execute_result"
    },
    {
     "data": {
      "text/plain": [
       "'unsharing item 9.c.1 Proportion of population covered by at least a 2G mobile network (percent)from the cloning dashboard group'"
      ]
     },
     "metadata": {},
     "output_type": "display_data"
    },
    {
     "data": {
      "text/plain": [
       "{'notUnsharedFrom': [], 'itemId': '776b42325c094d0b8d0bbbea0ae9ccb3'}"
      ]
     },
     "execution_count": 8,
     "metadata": {},
     "output_type": "execute_result"
    },
    {
     "data": {
      "text/plain": [
       "'sharing item 9.c.1 Proportion of population covered by at least a 2G mobile network (percent)with the sdg dashboard group'"
      ]
     },
     "metadata": {},
     "output_type": "display_data"
    },
    {
     "data": {
      "text/plain": [
       "{'notSharedWith': [], 'itemId': '776b42325c094d0b8d0bbbea0ae9ccb3'}"
      ]
     },
     "execution_count": 8,
     "metadata": {},
     "output_type": "execute_result"
    },
    {
     "name": "stdout",
     "output_type": "stream",
     "text": [
      "-----\n"
     ]
    }
   ],
   "source": [
    "for item in group_content:\n",
    "    # Assign Item to the Admin User\n",
    "    display('reassigning item ' + item.title + ' from ' + item['owner'] + ' to ' + online_username_admin)\n",
    "    item.reassign_to(online_username_admin, 'SDG Dashboard' )\n",
    "\n",
    "    print('-----')\n",
    "   "
   ]
  },
  {
   "cell_type": "code",
   "execution_count": null,
   "metadata": {},
   "outputs": [],
   "source": []
  },
  {
   "cell_type": "code",
   "execution_count": null,
   "metadata": {},
   "outputs": [],
   "source": []
  }
 ],
 "metadata": {
  "kernelspec": {
   "display_name": "Python 3",
   "language": "python",
   "name": "python3"
  },
  "language_info": {
   "codemirror_mode": {
    "name": "ipython",
    "version": 3
   },
   "file_extension": ".py",
   "mimetype": "text/x-python",
   "name": "python",
   "nbconvert_exporter": "python",
   "pygments_lexer": "ipython3",
   "version": "3.6.8"
  }
 },
 "nbformat": 4,
 "nbformat_minor": 2
}
