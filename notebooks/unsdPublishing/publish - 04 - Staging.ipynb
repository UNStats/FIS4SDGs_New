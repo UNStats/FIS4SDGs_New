{
 "cells": [
  {
   "cell_type": "markdown",
   "metadata": {},
   "source": [
    "# Publishing script"
   ]
  },
  {
   "cell_type": "markdown",
   "metadata": {},
   "source": [
    "## 1. Import required libraries"
   ]
  },
  {
   "cell_type": "code",
   "execution_count": 1,
   "metadata": {},
   "outputs": [],
   "source": [
    "import sys\n",
    "import json\n",
    "import copy\n",
    "import os\n",
    "import csv\n",
    "import fnmatch\n",
    "import getpass\n",
    "import re\n",
    "\n",
    "import requests\n",
    "from arcgis.gis import GIS"
   ]
  },
  {
   "cell_type": "markdown",
   "metadata": {},
   "source": [
    "## 2. Set up the global information and variables"
   ]
  },
  {
   "cell_type": "code",
   "execution_count": 2,
   "metadata": {},
   "outputs": [],
   "source": [
    "global open_data_group         # ArcGIS group with which the data will be shared\n",
    "global failed_series           # Variable to keep track of any csv file that cannot be staged\n",
    "global online_username         # ArcGIS credentials\n",
    "global gis_online_connection   # ArcGIS connection\n",
    "global layer_json_data         # Information pertaining to the layer template\n",
    "global user_items              # Collection of items owned by user"
   ]
  },
  {
   "cell_type": "markdown",
   "metadata": {},
   "source": [
    "#### Initialize failed_series array"
   ]
  },
  {
   "cell_type": "code",
   "execution_count": 3,
   "metadata": {},
   "outputs": [],
   "source": [
    "failed_series = []"
   ]
  },
  {
   "cell_type": "markdown",
   "metadata": {},
   "source": [
    "## 3. User parameters:"
   ]
  },
  {
   "cell_type": "code",
   "execution_count": 4,
   "metadata": {},
   "outputs": [],
   "source": [
    "property_update_only = False\n",
    "update_symbology = True\n",
    "update_sharing = True\n",
    "\n",
    "release = '2019.Q3.G.01' # Make sure to have the correct release here\n",
    "\n",
    "# https://volderette.de/jupyter-notebook-tip-multiple-outputs/\n",
    "from IPython.core.interactiveshell import InteractiveShell\n",
    "InteractiveShell.ast_node_interactivity = \"all\"\n"
   ]
  },
  {
   "cell_type": "markdown",
   "metadata": {},
   "source": [
    "#### Set path to data and metadata directories in the local branch: "
   ]
  },
  {
   "cell_type": "code",
   "execution_count": 5,
   "metadata": {},
   "outputs": [
    {
     "name": "stdout",
     "output_type": "stream",
     "text": [
      "C:\\Users\\L.GonzalezMorales\\Documents\\GitHub\\FIS4SDGs\\notebooks\\unsdPublishing\n",
      "data inputs dir: ../../data/unsd/2019.Q3.G.01/\n"
     ]
    }
   ],
   "source": [
    "dir_path = os.path.dirname(os.path.realpath('__file__'))\n",
    "print(dir_path)\n",
    "\n",
    "data_dir = r'../../data/unsd/' + release + '/'\n",
    "metadata_dir = r\"../../globalResources/\"\n",
    "\n",
    "\n",
    "print('data inputs dir: ' + data_dir)"
   ]
  },
  {
   "cell_type": "markdown",
   "metadata": {},
   "source": [
    "## 4. Utilities"
   ]
  },
  {
   "cell_type": "markdown",
   "metadata": {},
   "source": [
    "### 4.1 - Get metadata"
   ]
  },
  {
   "cell_type": "code",
   "execution_count": 6,
   "metadata": {},
   "outputs": [],
   "source": [
    "\n",
    "def get_series_metadata(file, print_first_element = True):    \n",
    "    \n",
    "    \"\"\" Get json metadata file \"\"\"\n",
    "    \n",
    "    try:\n",
    "        series_metadata = json.load(open(file))\n",
    "        if(print_first_element==True):\n",
    "            print(\"\\n----This is an example of a series_metadata element----\")\n",
    "            print(series_metadata[0])\n",
    "        return series_metadata\n",
    "    \n",
    "    except:\n",
    "        print(\"Unexpected error:\", sys.exc_info()[0])\n",
    "        return None\n",
    "    "
   ]
  },
  {
   "cell_type": "markdown",
   "metadata": {},
   "source": [
    "### 4.2 - Get file catalog"
   ]
  },
  {
   "cell_type": "code",
   "execution_count": 7,
   "metadata": {},
   "outputs": [],
   "source": [
    "def get_file_catalog (dir_path, pattern = '*'):\n",
    "    \n",
    "    \"\"\" Create a list of files in a folder \"\"\"\n",
    "\n",
    "    try:\n",
    "        files = list()\n",
    "\n",
    "        listOfFiles = os.listdir(dir_path)  \n",
    "        for entry in listOfFiles:  \n",
    "            if fnmatch.fnmatch(entry, pattern):\n",
    "                files.append(entry)\n",
    "        return files\n",
    "            \n",
    "    except:\n",
    "        print(\"Unexpected error:\", sys.exc_info()[0]) \n",
    "        return None\n",
    "        "
   ]
  },
  {
   "cell_type": "markdown",
   "metadata": {},
   "source": [
    "### 4.3 - Read csv to list"
   ]
  },
  {
   "cell_type": "code",
   "execution_count": 8,
   "metadata": {},
   "outputs": [],
   "source": [
    "def read_csv_to_list (file, encoding=\"utf8\", delimiter='\\t'):\n",
    "    \n",
    "    \"\"\" Read a csv file into a list \"\"\"\n",
    "\n",
    "    try:\n",
    "        \n",
    "        with open(file, encoding=encoding) as f:\n",
    "            reader = csv.reader(f, delimiter=delimiter)\n",
    "            data = list(reader)\n",
    "        return data\n",
    "            \n",
    "    except:\n",
    "        print(\"Unexpected error:\", sys.exc_info()[0]) \n",
    "        return None"
   ]
  },
  {
   "cell_type": "markdown",
   "metadata": {},
   "source": [
    "### 4.4 - Read csv to dict"
   ]
  },
  {
   "cell_type": "code",
   "execution_count": 9,
   "metadata": {},
   "outputs": [],
   "source": [
    "def read_csv_to_dict (file, encoding=\"utf8\", delimiter='\\t'):\n",
    "    \n",
    "    \"\"\" Read a csv file into a dict \"\"\"\n",
    "\n",
    "    try:\n",
    "   \n",
    "        with open(file,  encoding=encoding) as f:\n",
    "            reader = csv.DictReader(f, delimiter= delimiter)\n",
    "            dict_list = list()\n",
    "            for line in reader:\n",
    "                dict_list.append(dict(line))\n",
    "            return dict_list\n",
    "    \n",
    "    except:\n",
    "        print(\"Unexpected error:\", sys.exc_info()[0]) \n",
    "        return None\n",
    "    \n"
   ]
  },
  {
   "cell_type": "markdown",
   "metadata": {},
   "source": [
    "## 4.5 Split camelCase"
   ]
  },
  {
   "cell_type": "code",
   "execution_count": 10,
   "metadata": {},
   "outputs": [],
   "source": [
    "def camel_case_split(identifier):\n",
    "    matches = re.finditer('.+?(?:(?<=[a-z])(?=[A-Z])|(?<=[A-Z])(?=[A-Z][a-z])|$)', identifier)\n",
    "    x = ' '.join([m.group(0) for m in matches])\n",
    "    return x"
   ]
  },
  {
   "cell_type": "markdown",
   "metadata": {},
   "source": [
    "## 4.6 Compute a hash of a dictionary"
   ]
  },
  {
   "cell_type": "code",
   "execution_count": 11,
   "metadata": {},
   "outputs": [],
   "source": [
    "def dict_hash(d):\n",
    "    out = hashlib.md5()\n",
    "    for key, value in d.items():\n",
    "        out.update(key.encode('utf-8'))\n",
    "        out.update(value.encode('utf-8'))\n",
    "    return out.hexdigest()\n"
   ]
  },
  {
   "cell_type": "markdown",
   "metadata": {},
   "source": [
    "## 4.7 Get unique dictionaries in a list"
   ]
  },
  {
   "cell_type": "code",
   "execution_count": 12,
   "metadata": {},
   "outputs": [],
   "source": [
    "def unique_dicts(dictionary_list):\n",
    "\n",
    "    uniques_map = {}\n",
    "\n",
    "    for d in dictionary_list:\n",
    "        uniques_map[dict_hash(d)] = d\n",
    "\n",
    "    return list(uniques_map.values())\n"
   ]
  },
  {
   "cell_type": "markdown",
   "metadata": {},
   "source": [
    "## 4.8 Extract subset of key-value pairs from Python dictionary object"
   ]
  },
  {
   "cell_type": "code",
   "execution_count": 13,
   "metadata": {},
   "outputs": [],
   "source": [
    "def subdict_list(dict_list, keys_list, exclude = False):\n",
    "    sub_d_list = []\n",
    "    if exclude:\n",
    "        for d in dict_list:\n",
    "            sub_d= {k: d[k] for k in d.keys() if k not in keys_list}\n",
    "            sub_d_list.append(sub_d)\n",
    "    else:\n",
    "        for d in dict_list:\n",
    "            sub_d= {k: d[k] for k in keys_list}\n",
    "            sub_d_list.append(sub_d)\n",
    "    \n",
    "    return sub_d_list\n",
    "\n",
    "\n"
   ]
  },
  {
   "cell_type": "markdown",
   "metadata": {},
   "source": [
    "## 4.9 Get a dict from a list based on something inside the dict"
   ]
  },
  {
   "cell_type": "code",
   "execution_count": 14,
   "metadata": {},
   "outputs": [],
   "source": [
    "def select_dict(dict_list, k, v):\n",
    "    selected = []\n",
    "    for d in dict_list:\n",
    "        if d[k] == v:\n",
    "            selected.append(d)\n",
    "    return selected"
   ]
  },
  {
   "cell_type": "markdown",
   "metadata": {},
   "source": [
    "# 5 - ArcGIS API modules"
   ]
  },
  {
   "cell_type": "markdown",
   "metadata": {},
   "source": [
    "## 5.1 - Open connection to ArcGIS Online Organization"
   ]
  },
  {
   "cell_type": "code",
   "execution_count": 15,
   "metadata": {},
   "outputs": [],
   "source": [
    "def connect_to_arcGIS():\n",
    "\n",
    "    \"\"\"Open connection to ArcGIS Online Organization\"\"\"\n",
    "        \n",
    "    online_username = input('Username: ')\n",
    "    online_password = getpass.getpass('Password: ')\n",
    "    online_connection = \"https://www.arcgis.com\"\n",
    "    gis_online_connection = GIS(online_connection, \n",
    "                                online_username, \n",
    "                                online_password)\n",
    "    \n",
    "    return online_username, gis_online_connection"
   ]
  },
  {
   "cell_type": "markdown",
   "metadata": {},
   "source": [
    "## 5.2 - Explore existing open data gruop"
   ]
  },
  {
   "cell_type": "code",
   "execution_count": 16,
   "metadata": {},
   "outputs": [],
   "source": [
    "def open_data_group(gis_online_connection,id):\n",
    "    \n",
    "    open_data_group = gis_online_connection.groups.get(id)\n",
    "    return (open_data_group)\n",
    "   "
   ]
  },
  {
   "cell_type": "markdown",
   "metadata": {},
   "source": [
    "## 5.3 - Cleanup staging folder"
   ]
  },
  {
   "cell_type": "code",
   "execution_count": 17,
   "metadata": {},
   "outputs": [],
   "source": [
    "def cleanup_staging_folder(user_items):\n",
    "\n",
    "    \"\"\" Cleanup staging folder for Open Data (delete everything in the staging folder for Open Data)\"\"\"\n",
    "    \n",
    "    if input('Do you want to cleanup your staging folder for Open Data? (y/n)') == 'y':\n",
    "        if input('Are you sure? (y/n)') == 'y':\n",
    "            for item in user_items:\n",
    "                print('deleting item ' + item.title)\n",
    "                item.delete()\n",
    "        else: print('Cleanup of staging forlder for Open Data was canceled') \n",
    "    else:\n",
    "        print('Cleanup of staging forlder for Open Data was canceled')      \n",
    "        "
   ]
  },
  {
   "cell_type": "markdown",
   "metadata": {},
   "source": [
    "## 5.4 - Get layer info template"
   ]
  },
  {
   "cell_type": "code",
   "execution_count": 18,
   "metadata": {},
   "outputs": [],
   "source": [
    "def get_layer_info_template(file, print_first_element = True):  \n",
    "    \n",
    "    \"\"\" Get layer info template \"\"\"\n",
    "    \n",
    "    try:\n",
    "        layer_info_template = json.load(open(file))\n",
    "        if(print_first_element==True):\n",
    "            print(\"/n----This is the layer info template ----\")\n",
    "            print(layer_info_template)\n",
    "        return layer_info_template\n",
    "    except:\n",
    "        print(\"Unexpected error:\", sys.exc_info()[0]) \n",
    "        return None\n",
    "        "
   ]
  },
  {
   "cell_type": "markdown",
   "metadata": {},
   "source": [
    "## 5.5 - Build series metadata card"
   ]
  },
  {
   "cell_type": "code",
   "execution_count": 19,
   "metadata": {},
   "outputs": [],
   "source": [
    "def build_series_card(g,t,i,s):\n",
    "    \"\"\" Build series metadata card \"\"\"\n",
    "    \n",
    "    try:\n",
    "        s_card = dict()\n",
    "        title = 'Indicator ' + i['reference'] + ': ' + s['description'].replace('%','percent')\n",
    "        s_card['title'] = (title[:250] + '..') if len(title) > 250 else title\n",
    "        s_card['layer_title'] = s['description'].replace('%','percent').replace(',',' ').replace('/',' ')\n",
    "        \n",
    "        s_card['snippet'] = s_card['title']\n",
    "        \n",
    "        #s_card['snippet'] = (snippet[:250] + '..') if len(snippet) > 250 else snippet\n",
    "        s_card['description'] =  \\\n",
    "                    '<div style=\"background-color: #'+ g['hex'] +'; color:#fff; padding: 15px\">' + \\\n",
    "                    '<ul style=\"list-style: none;\">' + \\\n",
    "                    '<li><strong> Series Name:</strong> ' + s['description'].replace(',',' ').replace('/',' ') + '</li>' + \\\n",
    "                    '<li><strong>Series Code:</strong> ' + s['code'] + '</li>' + \\\n",
    "                    '<li><strong>Release Version:</strong> ' + s['release'] + '</li>'+ \\\n",
    "                    '</ul>' + \\\n",
    "                    '</div>' + \\\n",
    "                    '<div style=\"background-color: #f4f4f4; padding: 15px\">' + \\\n",
    "                    '<p> This dataset is the part of the Global SDG Indicator Database compiled ' + \\\n",
    "                    'through the UN System in preparation for the Secretary-General\\'s annual report on <em>Progress towards the Sustainable Development Goals</em>.' + \\\n",
    "                    '</p>' + \\\n",
    "                    '<p><strong>Indicator ' + i['reference'] + ': </strong>' + i['descEN'] + \\\n",
    "                    '</p>' + \\\n",
    "                    '<p><strong>Target ' + t['code'] + ': </strong>' + t['descEN'] + \\\n",
    "                    '</p>' + \\\n",
    "                    '<p><strong>Goal ' + g['code'] + ': </strong>' + g['descEN'] + \\\n",
    "                    '</p>' +  \\\n",
    "                    '<p><em>For more information on the compilation methodology of this dataset, ' +\\\n",
    "                    ' see <a href=\"https://unstats.un.org/sdgs/metadata/\" target=\"_blank\">https://unstats.un.org/sdgs/metadata/' + \\\n",
    "                    '</a></em></p>'+ \\\n",
    "                    '</div>' \n",
    "        \n",
    "        series_tags = s['tags'][:]\n",
    "        series_tags.append(s['release'])\n",
    "                \n",
    "        s_card['tags'] = series_tags\n",
    "        \n",
    "        return s_card\n",
    "    except:\n",
    "        print('Unexpected error:', sys.exc_info()[0]) \n",
    "        return None\n",
    "        "
   ]
  },
  {
   "cell_type": "markdown",
   "metadata": {},
   "source": [
    "## 5.6 - Find online item"
   ]
  },
  {
   "cell_type": "code",
   "execution_count": 20,
   "metadata": {},
   "outputs": [],
   "source": [
    "def find_online_item(title, owner, gis_online_connection, force_find=True):\n",
    "        \n",
    "    try:\n",
    "\n",
    "        # Search for this ArcGIS Online Item\n",
    "        query_string = \"title:'{}' AND owner:{}\".format(title, owner)\n",
    "        print('Searching for ' + title)\n",
    "        # The search() method returns a list of Item objects that match the \n",
    "        # search criteria\n",
    "        search_results = gis_online_connection.content.search(query_string)\n",
    "        \n",
    "        if search_results:\n",
    "            for item in search_results:\n",
    "                if item['title'] == title:\n",
    "                    print(' -- Item ' + title + ' found (simple find)')\n",
    "                    return item\n",
    "        \n",
    "        if force_find:\n",
    "            user = gis_online_connection.users.get(owner)\n",
    "            user_items = user.items(folder='Open Data', max_items=800)\n",
    "            for item in user_items:\n",
    "                if item['title'] == title:\n",
    "                    print(' -- Item ' + title + ' found (force find)')\n",
    "                    return item\n",
    "            print(' -- Item ' + title + ' not found (force find)')\n",
    "            return None\n",
    "        \n",
    "        print(' -- Item ' + title + ' not found (simple find)')\n",
    "        return None\n",
    "    \n",
    "    except:\n",
    "        print('Unexpected error:', sys.exc_info()[0])\n",
    "        return None"
   ]
  },
  {
   "cell_type": "markdown",
   "metadata": {},
   "source": [
    "## 5.7 - Generate renderer information"
   ]
  },
  {
   "cell_type": "code",
   "execution_count": 21,
   "metadata": {},
   "outputs": [],
   "source": [
    "def generate_renderer_infomation(feature_item, \n",
    "                                 statistic_field,\n",
    "                                 layer_info,\n",
    "                                 color=None):\n",
    "    try:\n",
    "        if len(color) == 3:\n",
    "            color.append(130)  ###---specifies the alpha channel of the color\n",
    "        \n",
    "        visual_params = layer_info['layerInfo']\n",
    "        definition_item = feature_item.layers[0]\n",
    "\n",
    "        #get the min/max values\n",
    "        out_statistics= [{'statisticType': 'max',\n",
    "                          'onStatisticField': statistic_field, \n",
    "                          'outStatisticFieldName': statistic_field + '_max'},\n",
    "                        {'statisticType': 'min',\n",
    "                         'onStatisticField': statistic_field, \n",
    "                         'outStatisticFieldName': statistic_field + '_min'}]\n",
    "        \n",
    "        feature_set = definition_item.query(where='1=1',out_statistics=out_statistics)\n",
    "\n",
    "        max_value = feature_set.features[0].attributes[statistic_field + '_max']\n",
    "        min_value = feature_set.features[0].attributes[statistic_field + '_min']\n",
    "        \n",
    "        visual_params['drawingInfo']['renderer']['visualVariables'][0]['minDataValue'] = min_value\n",
    "        visual_params['drawingInfo']['renderer']['visualVariables'][0]['maxDataValue'] = max_value\n",
    "\n",
    "        visual_params['drawingInfo']['renderer']['authoringInfo']['visualVariables'][0]['minSliderValue'] = min_value\n",
    "        visual_params['drawingInfo']['renderer']['authoringInfo']['visualVariables'][0]['maxSliderValue'] = max_value\n",
    "        \n",
    "        visual_params['drawingInfo']['renderer']['classBreakInfos'][0]['symbol']['color'] = color\n",
    "        visual_params['drawingInfo']['renderer']['transparency'] = 25\n",
    "\n",
    "        definition_update_params = definition_item.properties\n",
    "        definition_update_params['drawingInfo']['renderer'] = visual_params['drawingInfo']['renderer']\n",
    "        if 'editingInfo' in definition_update_params:\n",
    "            del definition_update_params['editingInfo']\n",
    "        definition_update_params['capabilities'] = 'Query, Extract, Sync'\n",
    "        print('Update Feature Service Symbology')\n",
    "        definition_item.manager.update_definition(definition_update_params)\n",
    "\n",
    "        return\n",
    "    except:\n",
    "        print('Unexpected error in generate_renderer_infomation:', sys.exc_info()[0])\n",
    "        return None\n"
   ]
  },
  {
   "cell_type": "markdown",
   "metadata": {},
   "source": [
    "## 5.8 - Publish csv"
   ]
  },
  {
   "cell_type": "code",
   "execution_count": 22,
   "metadata": {},
   "outputs": [],
   "source": [
    "def publish_csv(g,t,i,s, \n",
    "                item_properties, \n",
    "                thumbnail,\n",
    "                layer_info,\n",
    "                gis_online_connection, \n",
    "                data_dir,\n",
    "                online_username,\n",
    "                statistic_field = 'value_latest_year',\n",
    "                property_update_only=False, \n",
    "                color=[169,169,169]):\n",
    "\n",
    "    \n",
    "    # Check if service name is available; if not, update the link\n",
    "    service_title = s['code'] + '_' + i['reference'].replace('.','_') + '_' + s['release'].replace('.', '')\n",
    "    \n",
    "    #display(service_title)\n",
    "    \n",
    "    service_title_num = 1\n",
    "\n",
    "    while not gis_online_connection.content.is_service_name_available(service_name= service_title, \n",
    "                                                                      service_type = 'featureService'):\n",
    "        service_title = s['code'] + '_' + i['reference'].replace('.','_') + '_' + s['release'].replace('.', '') + \\\n",
    "          '_' + str(service_title_num)\n",
    "        service_title_num += 1\n",
    "\n",
    "    #display(service_title_num)\n",
    "    \n",
    "    # csv file to be uploaded:\n",
    "    file = os.path.join(data_dir, 'csv_Indicator_' + i['reference'] + '_Series_' + s['code'] + '.csv' )\n",
    "    \n",
    "    display(file)\n",
    "\n",
    "    if os.path.isfile(file):\n",
    "        csv_item_properties = copy.deepcopy(item_properties)\n",
    "        csv_item_properties['name'] = service_title\n",
    "        csv_item_properties['title'] = service_title\n",
    "        csv_item_properties['type'] = 'CSV'\n",
    "        csv_item_properties['url'] = ''\n",
    "        \n",
    "        #display(csv_item_properties)\n",
    "\n",
    "        # Does this CSV already exist\n",
    "        csv_item = find_online_item(csv_item_properties['title'],online_username,gis_online_connection)\n",
    "        \n",
    "        if csv_item is None:\n",
    "            print('Adding CSV File to ArcGIS Online....')\n",
    "            \n",
    "            #display(gis_online_connection)\n",
    "            #display(thumbnail)\n",
    "            \n",
    "            \n",
    "            csv_item = gis_online_connection.content.add(item_properties=csv_item_properties, \n",
    "                                                         thumbnail=thumbnail,\n",
    "                                                         data=file)\n",
    "            \n",
    "            \n",
    "            \n",
    "            if csv_item is None:\n",
    "                return None\n",
    "\n",
    "            print('Analyze Feature Service....')\n",
    "            publish_parameters = analyze_csv(csv_item['id'],gis_online_connection)\n",
    "            if publish_parameters is None:\n",
    "                return None\n",
    "            else:\n",
    "                publish_parameters['name'] = csv_item_properties['title']\n",
    "                publish_parameters['layerInfo']['name'] = csv_item_properties['layer_title']\n",
    "                print('Publishing Feature Service....')\n",
    "                csv_lyr = csv_item.publish(publish_parameters=publish_parameters, overwrite=True)\n",
    "\n",
    "                # Update the layer infomation with a basic rendering based on the Latest Value\n",
    "                # use the hex color from the SDG Metadata for the symbol color\n",
    "\n",
    "                print('.......call generate renderer within publish_csv')\n",
    "                generate_renderer_infomation(feature_item=csv_lyr,\n",
    "                                             statistic_field = statistic_field,\n",
    "                                             layer_info = layer_info,\n",
    "                                             color=color) \n",
    "                \n",
    "                \n",
    "        else:\n",
    "            # Update the Data file for the CSV File\n",
    "            csv_item.update(item_properties=csv_item_properties, thumbnail=thumbnail, data=file)\n",
    "            # Find the Feature Service and update the properties\n",
    "            csv_lyr = find_online_item(csv_item_properties['title'],online_username,gis_online_connection)\n",
    "\n",
    "        # Move to the Open Data Folder\n",
    "        if csv_item['ownerFolder'] is None:\n",
    "            print('Moving CSV to Open Data Folder')\n",
    "            csv_item.move('Open Data SDG' + g['code'].zfill(2))\n",
    "\n",
    "        if csv_lyr is not None:\n",
    "            print('Updating Feature Service metadata....')\n",
    "            csv_lyr.update(item_properties=item_properties, thumbnail=thumbnail)\n",
    "\n",
    "            if csv_lyr['ownerFolder'] is None:\n",
    "                print('Moving Feature Service to Open Data Folder')\n",
    "                csv_lyr.move('Open Data SDG' + g['code'].zfill(2))\n",
    "\n",
    "            return csv_lyr\n",
    "        else:\n",
    "            return None\n",
    "    else:\n",
    "        return None"
   ]
  },
  {
   "cell_type": "markdown",
   "metadata": {},
   "source": [
    "## 5.9 - Analyze csv"
   ]
  },
  {
   "cell_type": "code",
   "execution_count": 23,
   "metadata": {},
   "outputs": [],
   "source": [
    "def analyze_csv(item_id, gis_online_connection):\n",
    "    try:\n",
    "        sharing_url = gis_online_connection._url + '/sharing/rest/content/features/analyze'\n",
    "        analyze_params = {'f': 'json', \n",
    "                          'token': gis_online_connection._con.token,\n",
    "                          'sourceLocale': 'en-us',\n",
    "                          'filetype': 'csv', \n",
    "                          'itemid': item_id}\n",
    "        r = requests.post(sharing_url, data=analyze_params)\n",
    "        analyze_json_data = json.loads(r.content.decode('UTF-8'))\n",
    "        for field in analyze_json_data['publishParameters']['layerInfo']['fields']:\n",
    "            field['alias'] = set_field_alias(field['name'])\n",
    "            \n",
    "            #display(field['name'])\n",
    "            #display(field['type'])\n",
    "            #display(field['sqlType'])\n",
    "            #print('---')\n",
    "\n",
    "            # IndicatorCode is coming in as a date Field make the correct\n",
    "            if field['name'] == 'indicator':\n",
    "                field['type'] = 'esriFieldTypeString'\n",
    "                field['sqlType'] = 'sqlTypeNVarchar'\n",
    "            \n",
    "            if field['name'] == 'target':\n",
    "                field['type'] = 'esriFieldTypeString'\n",
    "                field['sqlType'] = 'sqlTypeNVarchar'\n",
    "                \n",
    "            if field['name'] == 'latest_year':\n",
    "                field['type'] = 'esriFieldTypeInteger'\n",
    "                field['sqlType'] = 'sqlTypeInt'\n",
    "            \n",
    "            if  field['name'] == 'valueDetails':\n",
    "                field['type'] = 'esriFieldTypeString'\n",
    "                field['sqlType'] = 'sqlTypeNVarchar'\n",
    "            elif field['name'].startswith( 'value' ):\n",
    "                field['type'] = 'esriFieldTypeDouble'\n",
    "                field['sqlType'] = 'sqlTypeFloat'\n",
    "                \n",
    "        # set up some of the layer information for display\n",
    "        analyze_json_data['publishParameters']['layerInfo']['displayField'] = 'geoAreaName'\n",
    "        return analyze_json_data['publishParameters']\n",
    "    except:\n",
    "        print('Unexpected error:', sys.exc_info()[0])\n",
    "        return None"
   ]
  },
  {
   "cell_type": "markdown",
   "metadata": {},
   "source": [
    "## 5.10 Set field alias"
   ]
  },
  {
   "cell_type": "code",
   "execution_count": 24,
   "metadata": {},
   "outputs": [],
   "source": [
    "def set_field_alias(field_name):\n",
    "    if field_name == 'release':\n",
    "        return 'Series Release'\n",
    "    if field_name == 'seriesCode':\n",
    "        return 'Series Code'\n",
    "    if field_name == 'seriesDesc':\n",
    "        return 'Series Description'\n",
    "    if field_name == 'release':\n",
    "        return 'Series Release'\n",
    "    if field_name == 'unitsCode':\n",
    "        return 'Units Code'\n",
    "    if field_name == 'unitsDesc':\n",
    "        return 'Units Description'\n",
    "    if field_name == 'unitmultiplierCode':\n",
    "        return 'Unit Multiplier Code'\n",
    "    if field_name == 'unitmultiplierDesc':\n",
    "        return 'Unit Multiplier Description'\n",
    "    if field_name == 'reportingTypeCode':\n",
    "        return 'Reporting Type Code'\n",
    "    if field_name == 'reportingTypeDesc':\n",
    "        return 'Reporting Type Description'\n",
    "    if field_name == 'geoAreaCode':\n",
    "        return 'Geographic Area Code'\n",
    "    if field_name == 'geoAreaName':\n",
    "        return 'Geographic Area Name'\n",
    "    if field_name == 'latest_year':\n",
    "        return 'Latest Year'\n",
    "    if field_name == 'value_latest_year':\n",
    "        return 'Value Latest Year'\n",
    "    if field_name == 'valueDetails':\n",
    "        return 'Value Details'\n",
    "    if field_name == 'ISO3':\n",
    "        return 'ISO Code'\n",
    "    if field_name == 'goal':\n",
    "        return 'Goal'\n",
    "    if field_name == 'target':\n",
    "        return 'Target'\n",
    "    if field_name == 'indicator':\n",
    "        return 'Indicator'\n",
    "    if field_name == 'timeDetails':\n",
    "        return 'Time Details'\n",
    "    if field_name == 'parentCode':\n",
    "        return 'Parent Area Code'\n",
    "    if field_name == 'parentName':\n",
    "        return 'Parent Area Name'\n",
    "    if field_name == 'type':\n",
    "        return 'Geogroaphic Area Type'\n",
    "    if field_name == 'UN_Member':\n",
    "        return 'UN Member'\n",
    "    else:\n",
    "        return camel_case_split(field_name.replace('_', ' ')).replace(' Desc', ' Description').title()\n",
    "    \n",
    "    "
   ]
  },
  {
   "cell_type": "markdown",
   "metadata": {},
   "source": [
    "## 5.11 - Update item categories"
   ]
  },
  {
   "cell_type": "code",
   "execution_count": 25,
   "metadata": {},
   "outputs": [],
   "source": [
    "def update_item_categories(item, goal, target,gis_online_connection):\n",
    "    update_url = gis_online_connection._url + \"/sharing/rest/content/updateItems\"\n",
    "    items = [{item[\"id\"]:{\"categories\":[\"/Categories/Goal \" + str(goal) + \"/Target \" + str(target)]}}]\n",
    "    update_params = {'f': 'json', \n",
    "                         'token': gis_online_connection._con.token, \n",
    "                         'items': json.dumps(items)}\n",
    "    r = requests.post(update_url, data=update_params)\n",
    "    update_json_data = json.loads(r.content.decode(\"UTF-8\"))\n",
    "    print(update_json_data)"
   ]
  },
  {
   "cell_type": "markdown",
   "metadata": {},
   "source": [
    "---\n",
    "# 6. Main publication script\n",
    "---"
   ]
  },
  {
   "cell_type": "markdown",
   "metadata": {},
   "source": [
    "## 6.1 Establish connections to ArcGIS"
   ]
  },
  {
   "cell_type": "markdown",
   "metadata": {},
   "source": [
    "#### Get ArcGIS connection:"
   ]
  },
  {
   "cell_type": "code",
   "execution_count": 26,
   "metadata": {},
   "outputs": [
    {
     "name": "stdin",
     "output_type": "stream",
     "text": [
      "Username:  gonzalezmorales_undesa\n",
      "Password:  ··········\n"
     ]
    }
   ],
   "source": [
    "online_username, gis_online_connection = connect_to_arcGIS()"
   ]
  },
  {
   "cell_type": "code",
   "execution_count": 27,
   "metadata": {},
   "outputs": [
    {
     "data": {
      "text/html": [
       "GIS @ <a href=\"https://undesa.maps.arcgis.com\">https://undesa.maps.arcgis.com</a>"
      ],
      "text/plain": [
       "<arcgis.gis.GIS at 0x189096860b8>"
      ]
     },
     "execution_count": 27,
     "metadata": {},
     "output_type": "execute_result"
    }
   ],
   "source": [
    "gis_online_connection"
   ]
  },
  {
   "cell_type": "markdown",
   "metadata": {},
   "source": [
    "#### Get open data group:"
   ]
  },
  {
   "cell_type": "code",
   "execution_count": 28,
   "metadata": {},
   "outputs": [],
   "source": [
    "open_data_group = open_data_group(gis_online_connection,'ad013d2911184063a0f0c97d252daf32' ) # Luis\n",
    "#open_data_group = open_data_group(gis_online_connection,'967dbf64d680450eaf424ac4a38799ad' ) # Travis"
   ]
  },
  {
   "cell_type": "code",
   "execution_count": 29,
   "metadata": {},
   "outputs": [
    {
     "data": {
      "text/html": [
       "<div class=\"9item_container\" style=\"height: auto; overflow: hidden; border: 1px solid #cfcfcf; border-radius: 2px; background: #f6fafa; line-height: 1.21429em; padding: 10px;\">\n",
       "                    <div class=\"item_left\" style=\"width: 210px; float: left;\">\n",
       "                       <a href='https://undesa.maps.arcgis.com/home/group.html?id=ad013d2911184063a0f0c97d252daf32' target='_blank'>\n",
       "                        <img src='data:image/png;base64,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' ' class=\"itemThumbnail\">\n",
       "                       </a>\n",
       "                    </div>\n",
       "\n",
       "                    <div class=\"item_right\" style=\"float: none; width: auto; overflow: hidden;\">\n",
       "                        <a href='https://undesa.maps.arcgis.com/home/group.html?id=ad013d2911184063a0f0c97d252daf32' target='_blank'><b>Open Data Staging - Luis</b>\n",
       "                        </a>\n",
       "                        <br/>\n",
       "                        <br/><b>Summary</b>: Personal group for staging data before publication\n",
       "                        <br/><b>Description</b>: Use this group for staging personal content before publication into Open Data Site\n",
       "                        <br/><b>Owner</b>: gonzalezmorales_undesa\n",
       "                        <br/><b>Created</b>: April 05, 2018\n",
       "\n",
       "                    </div>\n",
       "                </div>\n",
       "                "
      ],
      "text/plain": [
       "<Group title:\"Open Data Staging - Luis\" owner:gonzalezmorales_undesa>"
      ]
     },
     "execution_count": 29,
     "metadata": {},
     "output_type": "execute_result"
    }
   ],
   "source": [
    "open_data_group"
   ]
  },
  {
   "cell_type": "code",
   "execution_count": 30,
   "metadata": {},
   "outputs": [
    {
     "data": {
      "text/html": [
       "<div class=\"item_container\" style=\"height: auto; overflow: hidden; border: 1px solid #cfcfcf; border-radius: 2px; background: #f6fafa; line-height: 1.21429em; padding: 10px;\">\n",
       "                    <div class=\"item_left\" style=\"width: 210px; float: left;\">\n",
       "                       <a href='https://undesa.maps.arcgis.com/home/item.html?id=11cdf677475f4675ae6db1aa4bbe1ee6' target='_blank'>\n",
       "                        <img src='data:image/png;base64,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' width='200' height='133' class=\"itemThumbnail\">\n",
       "                       </a>\n",
       "                    </div>\n",
       "\n",
       "                    <div class=\"item_right\"     style=\"float: none; width: auto; overflow: hidden;\">\n",
       "                        <a href='https://undesa.maps.arcgis.com/home/item.html?id=11cdf677475f4675ae6db1aa4bbe1ee6' target='_blank'><b>Indicator 1.1.1: Employed population below international poverty line, by sex and age (percent)</b>\n",
       "                        </a>\n",
       "                        <br/>Indicator 1.1.1: Employed population below international poverty line, by sex and age (percent)<img src='https://undesa.maps.arcgis.com/home/js/jsapi/esri/css/images/item_type_icons/featureshosted16.png' style=\"vertical-align:middle;\">Feature Layer Collection by gonzalezmorales_undesa\n",
       "                        <br/>Last Modified: November 21, 2019\n",
       "                        <br/>0 comments, 0 views\n",
       "                    </div>\n",
       "                </div>\n",
       "                "
      ],
      "text/plain": [
       "<Item title:\"Indicator 1.1.1: Employed population below international poverty line, by sex and age (percent)\" type:Feature Layer Collection owner:gonzalezmorales_undesa>"
      ]
     },
     "execution_count": 30,
     "metadata": {},
     "output_type": "execute_result"
    }
   ],
   "source": [
    "odg_content = open_data_group.content()\n",
    "odg_content[0]"
   ]
  },
  {
   "cell_type": "code",
   "execution_count": 31,
   "metadata": {},
   "outputs": [
    {
     "data": {
      "text/plain": [
       "{'id': '11cdf677475f4675ae6db1aa4bbe1ee6',\n",
       " 'title': 'Indicator 1.1.1: Employed population below international poverty line, by sex and age (percent)',\n",
       " 'type': 'Feature Service',\n",
       " 'owner': 'gonzalezmorales_undesa',\n",
       " 'tags': ['poverty line',\n",
       "  'poverty',\n",
       "  'standard of living',\n",
       "  'basic needs',\n",
       "  'decent work',\n",
       "  '2019.Q3.G.01'],\n",
       " 'description': \"<div style='background-color: #e5243b; color:#fff; padding: 15px'><ul><li><strong> Series Name:</strong> Employed population below international poverty line  by sex and age (%)</li><li><strong>Series Code:</strong> SI_POV_EMP1</li><li><strong>Release Version:</strong> 2019.Q3.G.01</li></ul></div><div style='background-color: #f4f4f4; padding: 15px'><p> This dataset is the part of the Global SDG Indicator Database compiled through the UN System in preparation for the Secretary-General's annual report on <em>Progress towards the Sustainable Development Goals</em>.</p><p><strong>Indicator 1.1.1: </strong> Proportion of population below the international poverty line, by sex, age, employment status and geographical location (urban/rural)</p><p><strong>Target 1.1: </strong>By 2030, eradicate extreme poverty for all people everywhere, currently measured as people living on less than $1.25 a day</p><p><strong>Goal 1: </strong>End poverty in all its forms everywhere</p><p><em>For more information on the compilation methodology of this dataset,  see <a href='https://unstats.un.org/sdgs/metadata/' target='_blank'>https://unstats.un.org/sdgs/metadata/</a></em></p></div>\",\n",
       " 'snippet': 'Indicator 1.1.1: Employed population below international poverty line, by sex and age (percent)',\n",
       " 'access': 'org',\n",
       " 'thumbnail': 'thumbnail/tmp_8iny4a5.png',\n",
       " 'categories': ['/Categories/Goal 1/Target 1.1']}"
      ]
     },
     "execution_count": 31,
     "metadata": {},
     "output_type": "execute_result"
    }
   ],
   "source": [
    "odg_content_metadata = []\n",
    "for i in odg_content:\n",
    "    d = {}\n",
    "    d['id'] = i.id\n",
    "    d['title'] = i.title\n",
    "    d['type'] = i.type\n",
    "    d['owner'] = i.owner\n",
    "    d['tags'] = i.tags\n",
    "    d['description'] = i.description\n",
    "    d['snippet'] = i.snippet\n",
    "    d['access'] = i.access\n",
    "    d['thumbnail'] = i.thumbnail\n",
    "    d['categories'] = i.categories\n",
    "    odg_content_metadata.append(d)\n",
    "\n",
    "odg_content_metadata[0]"
   ]
  },
  {
   "cell_type": "markdown",
   "metadata": {},
   "source": [
    "## 6.2 Data inputs"
   ]
  },
  {
   "cell_type": "code",
   "execution_count": 57,
   "metadata": {},
   "outputs": [],
   "source": [
    "# 1. csv metadata\n",
    "series_metadata = get_series_metadata(metadata_dir + 'metadata.json', False)\n",
    "\n",
    "# 2.  layer info template\n",
    "layer_info = get_series_metadata(metadata_dir + 'layerinfo.json', False)\n"
   ]
  },
  {
   "cell_type": "code",
   "execution_count": 58,
   "metadata": {},
   "outputs": [],
   "source": [
    "goal_properties = list(series_metadata[0].keys())\n",
    "target_properties = list(series_metadata[1]['targets'][0].keys())\n",
    "indicator_properties = list(series_metadata[1]['targets'][0]['indicators'][0].keys())\n",
    "series_properties = list(series_metadata[1]['targets'][0]['indicators'][0]['series'][0].keys())\n",
    "\n",
    "#goal_properties\n",
    "#target_properties\n",
    "#indicator_properties\n",
    "#series_properties"
   ]
  },
  {
   "cell_type": "code",
   "execution_count": 59,
   "metadata": {},
   "outputs": [],
   "source": [
    "layer_info_properties = list(layer_info.keys())\n",
    "#layer_info_properties"
   ]
  },
  {
   "cell_type": "markdown",
   "metadata": {},
   "source": [
    "## 6.3 Publishing loop"
   ]
  },
  {
   "cell_type": "code",
   "execution_count": 70,
   "metadata": {},
   "outputs": [
    {
     "name": "stdout",
     "output_type": "stream",
     "text": [
      "\n",
      "Processing series code: 15.1.1 AG_LND_TOTL\n"
     ]
    },
    {
     "data": {
      "text/plain": [
       "'../../data/unsd/2019.Q3.G.01/csv_Indicator_15.1.1_Series_AG_LND_TOTL.csv'"
      ]
     },
     "metadata": {},
     "output_type": "display_data"
    },
    {
     "name": "stdout",
     "output_type": "stream",
     "text": [
      "Searching for AG_LND_TOTL_15_1_1_2019Q3G01\n",
      " -- Item AG_LND_TOTL_15_1_1_2019Q3G01 not found (force find)\n",
      "Adding CSV File to ArcGIS Online....\n",
      "Analyze Feature Service....\n",
      "Publishing Feature Service....\n",
      ".......call generate renderer within publish_csv\n",
      "Update Feature Service Symbology\n",
      "Moving CSV to Open Data Folder\n",
      "Updating Feature Service metadata....\n",
      "Moving Feature Service to Open Data Folder\n"
     ]
    },
    {
     "data": {
      "text/plain": [
       "{'notSharedWith': [], 'itemId': '543c37356aa14537a4b67cabdf5dfe86'}"
      ]
     },
     "execution_count": 70,
     "metadata": {},
     "output_type": "execute_result"
    },
    {
     "name": "stdout",
     "output_type": "stream",
     "text": [
      "{'results': [{'itemId': '543c37356aa14537a4b67cabdf5dfe86', 'success': True}]}\n",
      "\n",
      "Processing series code: 15.1.1 AG_LND_FRSTN\n"
     ]
    },
    {
     "data": {
      "text/plain": [
       "'../../data/unsd/2019.Q3.G.01/csv_Indicator_15.1.1_Series_AG_LND_FRSTN.csv'"
      ]
     },
     "metadata": {},
     "output_type": "display_data"
    },
    {
     "name": "stdout",
     "output_type": "stream",
     "text": [
      "Searching for AG_LND_FRSTN_15_1_1_2019Q3G01\n",
      " -- Item AG_LND_FRSTN_15_1_1_2019Q3G01 not found (force find)\n",
      "Adding CSV File to ArcGIS Online....\n",
      "Analyze Feature Service....\n",
      "Publishing Feature Service....\n",
      ".......call generate renderer within publish_csv\n",
      "Update Feature Service Symbology\n",
      "Moving CSV to Open Data Folder\n",
      "Updating Feature Service metadata....\n",
      "Moving Feature Service to Open Data Folder\n"
     ]
    },
    {
     "data": {
      "text/plain": [
       "{'notSharedWith': [], 'itemId': '9df0ba32f8424067a99f46ba58958f52'}"
      ]
     },
     "execution_count": 70,
     "metadata": {},
     "output_type": "execute_result"
    },
    {
     "name": "stdout",
     "output_type": "stream",
     "text": [
      "{'results': [{'itemId': '9df0ba32f8424067a99f46ba58958f52', 'success': True}]}\n",
      "\n",
      "Processing series code: 15.1.1 AG_LND_FRST\n"
     ]
    },
    {
     "data": {
      "text/plain": [
       "'../../data/unsd/2019.Q3.G.01/csv_Indicator_15.1.1_Series_AG_LND_FRST.csv'"
      ]
     },
     "metadata": {},
     "output_type": "display_data"
    },
    {
     "name": "stdout",
     "output_type": "stream",
     "text": [
      "Searching for AG_LND_FRST_15_1_1_2019Q3G01\n",
      " -- Item AG_LND_FRST_15_1_1_2019Q3G01 not found (force find)\n",
      "Adding CSV File to ArcGIS Online....\n",
      "Analyze Feature Service....\n",
      "Publishing Feature Service....\n",
      ".......call generate renderer within publish_csv\n",
      "Update Feature Service Symbology\n",
      "Moving CSV to Open Data Folder\n",
      "Updating Feature Service metadata....\n",
      "Moving Feature Service to Open Data Folder\n"
     ]
    },
    {
     "data": {
      "text/plain": [
       "{'notSharedWith': [], 'itemId': 'e0a14f7dbfc240c0bbe6541668654b82'}"
      ]
     },
     "execution_count": 70,
     "metadata": {},
     "output_type": "execute_result"
    },
    {
     "name": "stdout",
     "output_type": "stream",
     "text": [
      "{'results': [{'itemId': 'e0a14f7dbfc240c0bbe6541668654b82', 'success': True}]}\n",
      "\n",
      "Processing series code: 15.1.2 ER_PTD_FRWRT\n"
     ]
    },
    {
     "data": {
      "text/plain": [
       "'../../data/unsd/2019.Q3.G.01/csv_Indicator_15.1.2_Series_ER_PTD_FRWRT.csv'"
      ]
     },
     "metadata": {},
     "output_type": "display_data"
    },
    {
     "name": "stdout",
     "output_type": "stream",
     "text": [
      "Searching for ER_PTD_FRWRT_15_1_2_2019Q3G01\n",
      " -- Item ER_PTD_FRWRT_15_1_2_2019Q3G01 not found (force find)\n",
      "Adding CSV File to ArcGIS Online....\n",
      "Analyze Feature Service....\n",
      "Publishing Feature Service....\n",
      ".......call generate renderer within publish_csv\n",
      "Update Feature Service Symbology\n",
      "Moving CSV to Open Data Folder\n",
      "Updating Feature Service metadata....\n",
      "Moving Feature Service to Open Data Folder\n"
     ]
    },
    {
     "data": {
      "text/plain": [
       "{'notSharedWith': [], 'itemId': 'f10d006f7d484aceb7391037ed7bf65a'}"
      ]
     },
     "execution_count": 70,
     "metadata": {},
     "output_type": "execute_result"
    },
    {
     "name": "stdout",
     "output_type": "stream",
     "text": [
      "{'results': [{'itemId': 'f10d006f7d484aceb7391037ed7bf65a', 'success': True}]}\n",
      "\n",
      "Processing series code: 15.1.2 ER_PTD_TERRS\n"
     ]
    },
    {
     "data": {
      "text/plain": [
       "'../../data/unsd/2019.Q3.G.01/csv_Indicator_15.1.2_Series_ER_PTD_TERRS.csv'"
      ]
     },
     "metadata": {},
     "output_type": "display_data"
    },
    {
     "name": "stdout",
     "output_type": "stream",
     "text": [
      "Searching for ER_PTD_TERRS_15_1_2_2019Q3G01\n",
      " -- Item ER_PTD_TERRS_15_1_2_2019Q3G01 not found (force find)\n",
      "Adding CSV File to ArcGIS Online....\n",
      "Analyze Feature Service....\n",
      "Publishing Feature Service....\n",
      ".......call generate renderer within publish_csv\n",
      "Update Feature Service Symbology\n",
      "Moving CSV to Open Data Folder\n",
      "Updating Feature Service metadata....\n",
      "Moving Feature Service to Open Data Folder\n"
     ]
    },
    {
     "data": {
      "text/plain": [
       "{'notSharedWith': [], 'itemId': 'f3138a26a706407caac0f122452630bb'}"
      ]
     },
     "execution_count": 70,
     "metadata": {},
     "output_type": "execute_result"
    },
    {
     "name": "stdout",
     "output_type": "stream",
     "text": [
      "{'results': [{'itemId': 'f3138a26a706407caac0f122452630bb', 'success': True}]}\n",
      "\n",
      "Processing series code: 15.2.1 AG_LND_FRSTBIOPHA\n"
     ]
    },
    {
     "data": {
      "text/plain": [
       "'../../data/unsd/2019.Q3.G.01/csv_Indicator_15.2.1_Series_AG_LND_FRSTBIOPHA.csv'"
      ]
     },
     "metadata": {},
     "output_type": "display_data"
    },
    {
     "name": "stdout",
     "output_type": "stream",
     "text": [
      "Searching for AG_LND_FRSTBIOPHA_15_2_1_2019Q3G01\n",
      " -- Item AG_LND_FRSTBIOPHA_15_2_1_2019Q3G01 not found (force find)\n",
      "Adding CSV File to ArcGIS Online....\n",
      "Analyze Feature Service....\n",
      "Publishing Feature Service....\n",
      ".......call generate renderer within publish_csv\n",
      "Update Feature Service Symbology\n",
      "Moving CSV to Open Data Folder\n",
      "Updating Feature Service metadata....\n",
      "Moving Feature Service to Open Data Folder\n"
     ]
    },
    {
     "data": {
      "text/plain": [
       "{'notSharedWith': [], 'itemId': '47a07786c0744f3690ca84c152550105'}"
      ]
     },
     "execution_count": 70,
     "metadata": {},
     "output_type": "execute_result"
    },
    {
     "name": "stdout",
     "output_type": "stream",
     "text": [
      "{'results': [{'itemId': '47a07786c0744f3690ca84c152550105', 'success': True}]}\n",
      "\n",
      "Processing series code: 15.2.1 AG_LND_FRSTCERT\n"
     ]
    },
    {
     "data": {
      "text/plain": [
       "'../../data/unsd/2019.Q3.G.01/csv_Indicator_15.2.1_Series_AG_LND_FRSTCERT.csv'"
      ]
     },
     "metadata": {},
     "output_type": "display_data"
    },
    {
     "name": "stdout",
     "output_type": "stream",
     "text": [
      "Searching for AG_LND_FRSTCERT_15_2_1_2019Q3G01\n",
      " -- Item AG_LND_FRSTCERT_15_2_1_2019Q3G01 not found (force find)\n",
      "Adding CSV File to ArcGIS Online....\n",
      "Analyze Feature Service....\n",
      "Publishing Feature Service....\n",
      ".......call generate renderer within publish_csv\n",
      "Update Feature Service Symbology\n",
      "Moving CSV to Open Data Folder\n",
      "Updating Feature Service metadata....\n",
      "Moving Feature Service to Open Data Folder\n"
     ]
    },
    {
     "data": {
      "text/plain": [
       "{'notSharedWith': [], 'itemId': '010fb646eb62478a8442fad55312347e'}"
      ]
     },
     "execution_count": 70,
     "metadata": {},
     "output_type": "execute_result"
    },
    {
     "name": "stdout",
     "output_type": "stream",
     "text": [
      "{'results': [{'itemId': '010fb646eb62478a8442fad55312347e', 'success': True}]}\n",
      "\n",
      "Processing series code: 15.2.1 AG_LND_FRSTCHG\n"
     ]
    },
    {
     "data": {
      "text/plain": [
       "'../../data/unsd/2019.Q3.G.01/csv_Indicator_15.2.1_Series_AG_LND_FRSTCHG.csv'"
      ]
     },
     "metadata": {},
     "output_type": "display_data"
    },
    {
     "name": "stdout",
     "output_type": "stream",
     "text": [
      "Searching for AG_LND_FRSTCHG_15_2_1_2019Q3G01\n",
      " -- Item AG_LND_FRSTCHG_15_2_1_2019Q3G01 not found (force find)\n",
      "Adding CSV File to ArcGIS Online....\n",
      "Analyze Feature Service....\n",
      "Publishing Feature Service....\n",
      ".......call generate renderer within publish_csv\n",
      "Update Feature Service Symbology\n",
      "Moving CSV to Open Data Folder\n",
      "Updating Feature Service metadata....\n",
      "Moving Feature Service to Open Data Folder\n"
     ]
    },
    {
     "data": {
      "text/plain": [
       "{'notSharedWith': [], 'itemId': '2e409ab896ae4a80b355ba3b193bd18c'}"
      ]
     },
     "execution_count": 70,
     "metadata": {},
     "output_type": "execute_result"
    },
    {
     "name": "stdout",
     "output_type": "stream",
     "text": [
      "{'results': [{'itemId': '2e409ab896ae4a80b355ba3b193bd18c', 'success': True}]}\n",
      "\n",
      "Processing series code: 15.2.1 AG_LND_FRSTMGT\n"
     ]
    },
    {
     "data": {
      "text/plain": [
       "'../../data/unsd/2019.Q3.G.01/csv_Indicator_15.2.1_Series_AG_LND_FRSTMGT.csv'"
      ]
     },
     "metadata": {},
     "output_type": "display_data"
    },
    {
     "name": "stdout",
     "output_type": "stream",
     "text": [
      "Searching for AG_LND_FRSTMGT_15_2_1_2019Q3G01\n",
      " -- Item AG_LND_FRSTMGT_15_2_1_2019Q3G01 not found (force find)\n",
      "Adding CSV File to ArcGIS Online....\n",
      "Analyze Feature Service....\n",
      "Publishing Feature Service....\n",
      ".......call generate renderer within publish_csv\n",
      "Update Feature Service Symbology\n",
      "Moving CSV to Open Data Folder\n",
      "Updating Feature Service metadata....\n",
      "Moving Feature Service to Open Data Folder\n"
     ]
    },
    {
     "data": {
      "text/plain": [
       "{'notSharedWith': [], 'itemId': '2b7bc9246b9245008c955c8fda8a8c9f'}"
      ]
     },
     "execution_count": 70,
     "metadata": {},
     "output_type": "execute_result"
    },
    {
     "name": "stdout",
     "output_type": "stream",
     "text": [
      "{'results': [{'itemId': '2b7bc9246b9245008c955c8fda8a8c9f', 'success': True}]}\n",
      "\n",
      "Processing series code: 15.2.1 AG_LND_FRSTPRCT\n"
     ]
    },
    {
     "data": {
      "text/plain": [
       "'../../data/unsd/2019.Q3.G.01/csv_Indicator_15.2.1_Series_AG_LND_FRSTPRCT.csv'"
      ]
     },
     "metadata": {},
     "output_type": "display_data"
    },
    {
     "name": "stdout",
     "output_type": "stream",
     "text": [
      "Searching for AG_LND_FRSTPRCT_15_2_1_2019Q3G01\n",
      " -- Item AG_LND_FRSTPRCT_15_2_1_2019Q3G01 not found (force find)\n",
      "Adding CSV File to ArcGIS Online....\n",
      "Analyze Feature Service....\n",
      "Publishing Feature Service....\n",
      ".......call generate renderer within publish_csv\n",
      "Update Feature Service Symbology\n",
      "Moving CSV to Open Data Folder\n",
      "Updating Feature Service metadata....\n",
      "Moving Feature Service to Open Data Folder\n"
     ]
    },
    {
     "data": {
      "text/plain": [
       "{'notSharedWith': [], 'itemId': '615115e5c7684e04bea4e34cec2b5d0e'}"
      ]
     },
     "execution_count": 70,
     "metadata": {},
     "output_type": "execute_result"
    },
    {
     "name": "stdout",
     "output_type": "stream",
     "text": [
      "{'results': [{'itemId': '615115e5c7684e04bea4e34cec2b5d0e', 'success': True}]}\n",
      "\n",
      "Processing series code: 15.3.1 AG_LND_DGRD\n"
     ]
    },
    {
     "data": {
      "text/plain": [
       "'../../data/unsd/2019.Q3.G.01/csv_Indicator_15.3.1_Series_AG_LND_DGRD.csv'"
      ]
     },
     "metadata": {},
     "output_type": "display_data"
    },
    {
     "name": "stdout",
     "output_type": "stream",
     "text": [
      "Searching for AG_LND_DGRD_15_3_1_2019Q3G01\n",
      " -- Item AG_LND_DGRD_15_3_1_2019Q3G01 not found (force find)\n",
      "Adding CSV File to ArcGIS Online....\n",
      "Analyze Feature Service....\n",
      "Publishing Feature Service....\n",
      ".......call generate renderer within publish_csv\n",
      "Update Feature Service Symbology\n",
      "Moving CSV to Open Data Folder\n",
      "Updating Feature Service metadata....\n",
      "Moving Feature Service to Open Data Folder\n"
     ]
    },
    {
     "data": {
      "text/plain": [
       "{'notSharedWith': [], 'itemId': '0c97ce026212454aad725eb0276b5119'}"
      ]
     },
     "execution_count": 70,
     "metadata": {},
     "output_type": "execute_result"
    },
    {
     "name": "stdout",
     "output_type": "stream",
     "text": [
      "{'results': [{'itemId': '0c97ce026212454aad725eb0276b5119', 'success': True}]}\n",
      "\n",
      "Processing series code: 15.4.1 ER_PTD_MOTN\n"
     ]
    },
    {
     "data": {
      "text/plain": [
       "'../../data/unsd/2019.Q3.G.01/csv_Indicator_15.4.1_Series_ER_PTD_MOTN.csv'"
      ]
     },
     "metadata": {},
     "output_type": "display_data"
    },
    {
     "name": "stdout",
     "output_type": "stream",
     "text": [
      "Searching for ER_PTD_MOTN_15_4_1_2019Q3G01\n",
      " -- Item ER_PTD_MOTN_15_4_1_2019Q3G01 not found (force find)\n",
      "Adding CSV File to ArcGIS Online....\n",
      "Analyze Feature Service....\n",
      "Publishing Feature Service....\n",
      ".......call generate renderer within publish_csv\n",
      "Update Feature Service Symbology\n",
      "Moving CSV to Open Data Folder\n",
      "Updating Feature Service metadata....\n",
      "Moving Feature Service to Open Data Folder\n"
     ]
    },
    {
     "data": {
      "text/plain": [
       "{'notSharedWith': [], 'itemId': '22978ad5a3784a15a4359830f36e58c2'}"
      ]
     },
     "execution_count": 70,
     "metadata": {},
     "output_type": "execute_result"
    },
    {
     "name": "stdout",
     "output_type": "stream",
     "text": [
      "{'results': [{'itemId': '22978ad5a3784a15a4359830f36e58c2', 'success': True}]}\n",
      "\n",
      "Processing series code: 15.4.2 ER_MTN_GRNCVI\n"
     ]
    },
    {
     "data": {
      "text/plain": [
       "'../../data/unsd/2019.Q3.G.01/csv_Indicator_15.4.2_Series_ER_MTN_GRNCVI.csv'"
      ]
     },
     "metadata": {},
     "output_type": "display_data"
    },
    {
     "name": "stdout",
     "output_type": "stream",
     "text": [
      "Searching for ER_MTN_GRNCVI_15_4_2_2019Q3G01\n",
      " -- Item ER_MTN_GRNCVI_15_4_2_2019Q3G01 not found (force find)\n",
      "Adding CSV File to ArcGIS Online....\n",
      "Analyze Feature Service....\n",
      "Publishing Feature Service....\n",
      ".......call generate renderer within publish_csv\n",
      "Update Feature Service Symbology\n",
      "Moving CSV to Open Data Folder\n",
      "Updating Feature Service metadata....\n",
      "Moving Feature Service to Open Data Folder\n"
     ]
    },
    {
     "data": {
      "text/plain": [
       "{'notSharedWith': [], 'itemId': 'aaf678a8b5704daa9ee0f3b2d5b66be8'}"
      ]
     },
     "execution_count": 70,
     "metadata": {},
     "output_type": "execute_result"
    },
    {
     "name": "stdout",
     "output_type": "stream",
     "text": [
      "{'results': [{'itemId': 'aaf678a8b5704daa9ee0f3b2d5b66be8', 'success': True}]}\n",
      "\n",
      "Processing series code: 15.4.2 ER_MTN_TOTL\n"
     ]
    },
    {
     "data": {
      "text/plain": [
       "'../../data/unsd/2019.Q3.G.01/csv_Indicator_15.4.2_Series_ER_MTN_TOTL.csv'"
      ]
     },
     "metadata": {},
     "output_type": "display_data"
    },
    {
     "name": "stdout",
     "output_type": "stream",
     "text": [
      "Searching for ER_MTN_TOTL_15_4_2_2019Q3G01\n",
      " -- Item ER_MTN_TOTL_15_4_2_2019Q3G01 not found (force find)\n",
      "Adding CSV File to ArcGIS Online....\n",
      "Analyze Feature Service....\n",
      "Publishing Feature Service....\n",
      ".......call generate renderer within publish_csv\n",
      "Update Feature Service Symbology\n",
      "Moving CSV to Open Data Folder\n",
      "Updating Feature Service metadata....\n",
      "Moving Feature Service to Open Data Folder\n"
     ]
    },
    {
     "data": {
      "text/plain": [
       "{'notSharedWith': [], 'itemId': 'be899c04e9284709a566804a89bb3cd2'}"
      ]
     },
     "execution_count": 70,
     "metadata": {},
     "output_type": "execute_result"
    },
    {
     "name": "stdout",
     "output_type": "stream",
     "text": [
      "{'results': [{'itemId': 'be899c04e9284709a566804a89bb3cd2', 'success': True}]}\n",
      "\n",
      "Processing series code: 15.4.2 ER_MTN_GRNCOV\n"
     ]
    },
    {
     "data": {
      "text/plain": [
       "'../../data/unsd/2019.Q3.G.01/csv_Indicator_15.4.2_Series_ER_MTN_GRNCOV.csv'"
      ]
     },
     "metadata": {},
     "output_type": "display_data"
    },
    {
     "name": "stdout",
     "output_type": "stream",
     "text": [
      "Searching for ER_MTN_GRNCOV_15_4_2_2019Q3G01\n",
      " -- Item ER_MTN_GRNCOV_15_4_2_2019Q3G01 not found (force find)\n",
      "Adding CSV File to ArcGIS Online....\n",
      "Analyze Feature Service....\n",
      "Publishing Feature Service....\n",
      ".......call generate renderer within publish_csv\n",
      "Update Feature Service Symbology\n",
      "Moving CSV to Open Data Folder\n",
      "Updating Feature Service metadata....\n",
      "Moving Feature Service to Open Data Folder\n"
     ]
    },
    {
     "data": {
      "text/plain": [
       "{'notSharedWith': [], 'itemId': '8b3ec93afc454d099fa7a5549c8ee267'}"
      ]
     },
     "execution_count": 70,
     "metadata": {},
     "output_type": "execute_result"
    },
    {
     "name": "stdout",
     "output_type": "stream",
     "text": [
      "{'results': [{'itemId': '8b3ec93afc454d099fa7a5549c8ee267', 'success': True}]}\n",
      "\n",
      "Processing series code: 15.5.1 ER_RSK_LSTI\n"
     ]
    },
    {
     "data": {
      "text/plain": [
       "'../../data/unsd/2019.Q3.G.01/csv_Indicator_15.5.1_Series_ER_RSK_LSTI.csv'"
      ]
     },
     "metadata": {},
     "output_type": "display_data"
    },
    {
     "name": "stdout",
     "output_type": "stream",
     "text": [
      "Searching for ER_RSK_LSTI_15_5_1_2019Q3G01\n",
      " -- Item ER_RSK_LSTI_15_5_1_2019Q3G01 not found (force find)\n",
      "Adding CSV File to ArcGIS Online....\n",
      "Analyze Feature Service....\n",
      "Publishing Feature Service....\n",
      ".......call generate renderer within publish_csv\n",
      "Update Feature Service Symbology\n",
      "Moving CSV to Open Data Folder\n",
      "Updating Feature Service metadata....\n",
      "Moving Feature Service to Open Data Folder\n"
     ]
    },
    {
     "data": {
      "text/plain": [
       "{'notSharedWith': [], 'itemId': '0fae60f6087e40adbb922903110a97ba'}"
      ]
     },
     "execution_count": 70,
     "metadata": {},
     "output_type": "execute_result"
    },
    {
     "name": "stdout",
     "output_type": "stream",
     "text": [
      "{'results': [{'itemId': '0fae60f6087e40adbb922903110a97ba', 'success': True}]}\n",
      "\n",
      "Processing series code: 15.6.1 ER_CBD_SMTA\n"
     ]
    },
    {
     "data": {
      "text/plain": [
       "'../../data/unsd/2019.Q3.G.01/csv_Indicator_15.6.1_Series_ER_CBD_SMTA.csv'"
      ]
     },
     "metadata": {},
     "output_type": "display_data"
    },
    {
     "name": "stdout",
     "output_type": "stream",
     "text": [
      "Searching for ER_CBD_SMTA_15_6_1_2019Q3G01\n",
      " -- Item ER_CBD_SMTA_15_6_1_2019Q3G01 not found (force find)\n",
      "Adding CSV File to ArcGIS Online....\n",
      "Analyze Feature Service....\n",
      "Publishing Feature Service....\n",
      ".......call generate renderer within publish_csv\n",
      "Update Feature Service Symbology\n",
      "Moving CSV to Open Data Folder\n",
      "Updating Feature Service metadata....\n",
      "Moving Feature Service to Open Data Folder\n"
     ]
    },
    {
     "data": {
      "text/plain": [
       "{'notSharedWith': [], 'itemId': '1ee93490e6ff44d1a1116edd865dcbff'}"
      ]
     },
     "execution_count": 70,
     "metadata": {},
     "output_type": "execute_result"
    },
    {
     "name": "stdout",
     "output_type": "stream",
     "text": [
      "{'results': [{'itemId': '1ee93490e6ff44d1a1116edd865dcbff', 'success': True}]}\n",
      "\n",
      "Processing series code: 15.6.1 ER_CBD_NAGOYA\n"
     ]
    },
    {
     "data": {
      "text/plain": [
       "'../../data/unsd/2019.Q3.G.01/csv_Indicator_15.6.1_Series_ER_CBD_NAGOYA.csv'"
      ]
     },
     "metadata": {},
     "output_type": "display_data"
    },
    {
     "name": "stdout",
     "output_type": "stream",
     "text": [
      "Searching for ER_CBD_NAGOYA_15_6_1_2019Q3G01\n",
      " -- Item ER_CBD_NAGOYA_15_6_1_2019Q3G01 not found (force find)\n",
      "Adding CSV File to ArcGIS Online....\n",
      "Analyze Feature Service....\n",
      "Publishing Feature Service....\n",
      ".......call generate renderer within publish_csv\n",
      "Update Feature Service Symbology\n",
      "Moving CSV to Open Data Folder\n",
      "Updating Feature Service metadata....\n",
      "Moving Feature Service to Open Data Folder\n"
     ]
    },
    {
     "data": {
      "text/plain": [
       "{'notSharedWith': [], 'itemId': '7af1f1a8b47044a8a5b8a4fc812871f9'}"
      ]
     },
     "execution_count": 70,
     "metadata": {},
     "output_type": "execute_result"
    },
    {
     "name": "stdout",
     "output_type": "stream",
     "text": [
      "{'results': [{'itemId': '7af1f1a8b47044a8a5b8a4fc812871f9', 'success': True}]}\n",
      "\n",
      "Processing series code: 15.6.1 ER_CBD_ABSCLRHS\n"
     ]
    },
    {
     "data": {
      "text/plain": [
       "'../../data/unsd/2019.Q3.G.01/csv_Indicator_15.6.1_Series_ER_CBD_ABSCLRHS.csv'"
      ]
     },
     "metadata": {},
     "output_type": "display_data"
    },
    {
     "name": "stdout",
     "output_type": "stream",
     "text": [
      "Searching for ER_CBD_ABSCLRHS_15_6_1_2019Q3G01\n",
      " -- Item ER_CBD_ABSCLRHS_15_6_1_2019Q3G01 not found (force find)\n",
      "Adding CSV File to ArcGIS Online....\n",
      "Analyze Feature Service....\n",
      "Publishing Feature Service....\n",
      ".......call generate renderer within publish_csv\n",
      "Update Feature Service Symbology\n",
      "Moving CSV to Open Data Folder\n",
      "Updating Feature Service metadata....\n",
      "Moving Feature Service to Open Data Folder\n"
     ]
    },
    {
     "data": {
      "text/plain": [
       "{'notSharedWith': [], 'itemId': 'b8b003187df34b7cbf891acafee79f33'}"
      ]
     },
     "execution_count": 70,
     "metadata": {},
     "output_type": "execute_result"
    },
    {
     "name": "stdout",
     "output_type": "stream",
     "text": [
      "{'results': [{'itemId': 'b8b003187df34b7cbf891acafee79f33', 'success': True}]}\n",
      "\n",
      "Processing series code: 15.6.1 ER_CBD_ORSPGRFA\n"
     ]
    },
    {
     "data": {
      "text/plain": [
       "'../../data/unsd/2019.Q3.G.01/csv_Indicator_15.6.1_Series_ER_CBD_ORSPGRFA.csv'"
      ]
     },
     "metadata": {},
     "output_type": "display_data"
    },
    {
     "name": "stdout",
     "output_type": "stream",
     "text": [
      "Searching for ER_CBD_ORSPGRFA_15_6_1_2019Q3G01\n",
      " -- Item ER_CBD_ORSPGRFA_15_6_1_2019Q3G01 not found (force find)\n",
      "Adding CSV File to ArcGIS Online....\n",
      "Analyze Feature Service....\n",
      "Publishing Feature Service....\n",
      ".......call generate renderer within publish_csv\n",
      "Update Feature Service Symbology\n",
      "Moving CSV to Open Data Folder\n",
      "Updating Feature Service metadata....\n",
      "Moving Feature Service to Open Data Folder\n"
     ]
    },
    {
     "data": {
      "text/plain": [
       "{'notSharedWith': [], 'itemId': '575049a0341c4fc88bdbb624ed473acd'}"
      ]
     },
     "execution_count": 70,
     "metadata": {},
     "output_type": "execute_result"
    },
    {
     "name": "stdout",
     "output_type": "stream",
     "text": [
      "{'results': [{'itemId': '575049a0341c4fc88bdbb624ed473acd', 'success': True}]}\n",
      "\n",
      "Processing series code: 15.6.1 ER_CBD_PTYPGRFA\n"
     ]
    },
    {
     "data": {
      "text/plain": [
       "'../../data/unsd/2019.Q3.G.01/csv_Indicator_15.6.1_Series_ER_CBD_PTYPGRFA.csv'"
      ]
     },
     "metadata": {},
     "output_type": "display_data"
    },
    {
     "name": "stdout",
     "output_type": "stream",
     "text": [
      "Searching for ER_CBD_PTYPGRFA_15_6_1_2019Q3G01\n",
      " -- Item ER_CBD_PTYPGRFA_15_6_1_2019Q3G01 not found (force find)\n",
      "Adding CSV File to ArcGIS Online....\n",
      "Analyze Feature Service....\n",
      "Publishing Feature Service....\n",
      ".......call generate renderer within publish_csv\n",
      "Update Feature Service Symbology\n",
      "Moving CSV to Open Data Folder\n",
      "Updating Feature Service metadata....\n",
      "Moving Feature Service to Open Data Folder\n"
     ]
    },
    {
     "data": {
      "text/plain": [
       "{'notSharedWith': [], 'itemId': '9bd2973727794c319f0cddc8575b2aaa'}"
      ]
     },
     "execution_count": 70,
     "metadata": {},
     "output_type": "execute_result"
    },
    {
     "name": "stdout",
     "output_type": "stream",
     "text": [
      "{'results': [{'itemId': '9bd2973727794c319f0cddc8575b2aaa', 'success': True}]}\n",
      "\n",
      "Processing series code: 15.a.1 DC_ODA_BDVDL\n"
     ]
    },
    {
     "data": {
      "text/plain": [
       "'../../data/unsd/2019.Q3.G.01/csv_Indicator_15.a.1_Series_DC_ODA_BDVDL.csv'"
      ]
     },
     "metadata": {},
     "output_type": "display_data"
    },
    {
     "name": "stdout",
     "output_type": "stream",
     "text": [
      "Searching for DC_ODA_BDVDL_15_a_1_2019Q3G01\n",
      " -- Item DC_ODA_BDVDL_15_a_1_2019Q3G01 not found (force find)\n",
      "Adding CSV File to ArcGIS Online....\n",
      "Analyze Feature Service....\n",
      "Publishing Feature Service....\n",
      ".......call generate renderer within publish_csv\n",
      "Update Feature Service Symbology\n",
      "Moving CSV to Open Data Folder\n",
      "Updating Feature Service metadata....\n",
      "Moving Feature Service to Open Data Folder\n"
     ]
    },
    {
     "data": {
      "text/plain": [
       "{'notSharedWith': [], 'itemId': '76690bc14bc74ae9acd53255c290643c'}"
      ]
     },
     "execution_count": 70,
     "metadata": {},
     "output_type": "execute_result"
    },
    {
     "name": "stdout",
     "output_type": "stream",
     "text": [
      "{'results': [{'itemId': '76690bc14bc74ae9acd53255c290643c', 'success': True}]}\n",
      "\n",
      "Processing series code: 15.a.1 DC_ODA_BDVL\n"
     ]
    },
    {
     "data": {
      "text/plain": [
       "'../../data/unsd/2019.Q3.G.01/csv_Indicator_15.a.1_Series_DC_ODA_BDVL.csv'"
      ]
     },
     "metadata": {},
     "output_type": "display_data"
    },
    {
     "name": "stdout",
     "output_type": "stream",
     "text": [
      "Searching for DC_ODA_BDVL_15_a_1_2019Q3G01\n",
      " -- Item DC_ODA_BDVL_15_a_1_2019Q3G01 not found (force find)\n",
      "Adding CSV File to ArcGIS Online....\n",
      "Analyze Feature Service....\n",
      "Publishing Feature Service....\n",
      ".......call generate renderer within publish_csv\n",
      "Update Feature Service Symbology\n",
      "Moving CSV to Open Data Folder\n",
      "Updating Feature Service metadata....\n",
      "Moving Feature Service to Open Data Folder\n"
     ]
    },
    {
     "data": {
      "text/plain": [
       "{'notSharedWith': [], 'itemId': 'b9a47c47be35472d83cd90c5d2581212'}"
      ]
     },
     "execution_count": 70,
     "metadata": {},
     "output_type": "execute_result"
    },
    {
     "name": "stdout",
     "output_type": "stream",
     "text": [
      "{'results': [{'itemId': 'b9a47c47be35472d83cd90c5d2581212', 'success': True}]}\n",
      "\n",
      "Processing series code: 15.b.1 DC_ODA_BDVDL\n"
     ]
    },
    {
     "data": {
      "text/plain": [
       "'../../data/unsd/2019.Q3.G.01/csv_Indicator_15.b.1_Series_DC_ODA_BDVDL.csv'"
      ]
     },
     "metadata": {},
     "output_type": "display_data"
    },
    {
     "name": "stdout",
     "output_type": "stream",
     "text": [
      "Searching for DC_ODA_BDVDL_15_b_1_2019Q3G01\n",
      " -- Item DC_ODA_BDVDL_15_b_1_2019Q3G01 not found (force find)\n",
      "Adding CSV File to ArcGIS Online....\n",
      "Analyze Feature Service....\n",
      "Publishing Feature Service....\n",
      ".......call generate renderer within publish_csv\n",
      "Update Feature Service Symbology\n",
      "Moving CSV to Open Data Folder\n",
      "Updating Feature Service metadata....\n",
      "Moving Feature Service to Open Data Folder\n"
     ]
    },
    {
     "data": {
      "text/plain": [
       "{'notSharedWith': [], 'itemId': '2773b125dd5f4822b2d2231dc70807df'}"
      ]
     },
     "execution_count": 70,
     "metadata": {},
     "output_type": "execute_result"
    },
    {
     "name": "stdout",
     "output_type": "stream",
     "text": [
      "{'results': [{'itemId': '2773b125dd5f4822b2d2231dc70807df', 'success': True}]}\n",
      "\n",
      "Processing series code: 15.b.1 DC_ODA_BDVL\n"
     ]
    },
    {
     "data": {
      "text/plain": [
       "'../../data/unsd/2019.Q3.G.01/csv_Indicator_15.b.1_Series_DC_ODA_BDVL.csv'"
      ]
     },
     "metadata": {},
     "output_type": "display_data"
    },
    {
     "name": "stdout",
     "output_type": "stream",
     "text": [
      "Searching for DC_ODA_BDVL_15_b_1_2019Q3G01\n",
      " -- Item DC_ODA_BDVL_15_b_1_2019Q3G01 not found (force find)\n",
      "Adding CSV File to ArcGIS Online....\n",
      "Analyze Feature Service....\n",
      "Publishing Feature Service....\n",
      ".......call generate renderer within publish_csv\n",
      "Update Feature Service Symbology\n",
      "Moving CSV to Open Data Folder\n",
      "Updating Feature Service metadata....\n",
      "Moving Feature Service to Open Data Folder\n"
     ]
    },
    {
     "data": {
      "text/plain": [
       "{'notSharedWith': [], 'itemId': '9dbe9628b561491686238970f59657e4'}"
      ]
     },
     "execution_count": 70,
     "metadata": {},
     "output_type": "execute_result"
    },
    {
     "name": "stdout",
     "output_type": "stream",
     "text": [
      "{'results': [{'itemId': '9dbe9628b561491686238970f59657e4', 'success': True}]}\n",
      "\n",
      "Processing series code: 16.1.1 VC_IHR_PSRC\n"
     ]
    },
    {
     "data": {
      "text/plain": [
       "'../../data/unsd/2019.Q3.G.01/csv_Indicator_16.1.1_Series_VC_IHR_PSRC.csv'"
      ]
     },
     "metadata": {},
     "output_type": "display_data"
    },
    {
     "name": "stdout",
     "output_type": "stream",
     "text": [
      "Searching for VC_IHR_PSRC_16_1_1_2019Q3G01\n",
      " -- Item VC_IHR_PSRC_16_1_1_2019Q3G01 not found (force find)\n",
      "Adding CSV File to ArcGIS Online....\n",
      "Analyze Feature Service....\n",
      "Publishing Feature Service....\n",
      ".......call generate renderer within publish_csv\n",
      "Update Feature Service Symbology\n",
      "Moving CSV to Open Data Folder\n",
      "Updating Feature Service metadata....\n",
      "Moving Feature Service to Open Data Folder\n"
     ]
    },
    {
     "data": {
      "text/plain": [
       "{'notSharedWith': [], 'itemId': 'e239df0cf7684dc3a350639270bb7abf'}"
      ]
     },
     "execution_count": 70,
     "metadata": {},
     "output_type": "execute_result"
    },
    {
     "name": "stdout",
     "output_type": "stream",
     "text": [
      "{'results': [{'itemId': 'e239df0cf7684dc3a350639270bb7abf', 'success': True}]}\n",
      "\n",
      "Processing series code: 16.1.1 VC_IHR_PSRCN\n"
     ]
    },
    {
     "data": {
      "text/plain": [
       "'../../data/unsd/2019.Q3.G.01/csv_Indicator_16.1.1_Series_VC_IHR_PSRCN.csv'"
      ]
     },
     "metadata": {},
     "output_type": "display_data"
    },
    {
     "name": "stdout",
     "output_type": "stream",
     "text": [
      "Searching for VC_IHR_PSRCN_16_1_1_2019Q3G01\n",
      " -- Item VC_IHR_PSRCN_16_1_1_2019Q3G01 not found (force find)\n",
      "Adding CSV File to ArcGIS Online....\n",
      "Analyze Feature Service....\n",
      "Publishing Feature Service....\n",
      ".......call generate renderer within publish_csv\n",
      "Update Feature Service Symbology\n",
      "Moving CSV to Open Data Folder\n",
      "Updating Feature Service metadata....\n",
      "Moving Feature Service to Open Data Folder\n"
     ]
    },
    {
     "data": {
      "text/plain": [
       "{'notSharedWith': [], 'itemId': '09e952796a5f47a4974a6a704b864356'}"
      ]
     },
     "execution_count": 70,
     "metadata": {},
     "output_type": "execute_result"
    },
    {
     "name": "stdout",
     "output_type": "stream",
     "text": [
      "{'results': [{'itemId': '09e952796a5f47a4974a6a704b864356', 'success': True}]}\n",
      "\n",
      "Processing series code: 16.1.3 VC_VOV_PHYL\n"
     ]
    },
    {
     "data": {
      "text/plain": [
       "'../../data/unsd/2019.Q3.G.01/csv_Indicator_16.1.3_Series_VC_VOV_PHYL.csv'"
      ]
     },
     "metadata": {},
     "output_type": "display_data"
    },
    {
     "name": "stdout",
     "output_type": "stream",
     "text": [
      "Searching for VC_VOV_PHYL_16_1_3_2019Q3G01\n",
      " -- Item VC_VOV_PHYL_16_1_3_2019Q3G01 not found (force find)\n",
      "Adding CSV File to ArcGIS Online....\n",
      "Analyze Feature Service....\n",
      "Publishing Feature Service....\n",
      ".......call generate renderer within publish_csv\n",
      "Update Feature Service Symbology\n",
      "Moving CSV to Open Data Folder\n",
      "Updating Feature Service metadata....\n",
      "Moving Feature Service to Open Data Folder\n"
     ]
    },
    {
     "data": {
      "text/plain": [
       "{'notSharedWith': [], 'itemId': '419ae8d36a2b4482861882a853fdcb35'}"
      ]
     },
     "execution_count": 70,
     "metadata": {},
     "output_type": "execute_result"
    },
    {
     "name": "stdout",
     "output_type": "stream",
     "text": [
      "{'results': [{'itemId': '419ae8d36a2b4482861882a853fdcb35', 'success': True}]}\n",
      "\n",
      "Processing series code: 16.1.3 VC_VOV_ROBB\n"
     ]
    },
    {
     "data": {
      "text/plain": [
       "'../../data/unsd/2019.Q3.G.01/csv_Indicator_16.1.3_Series_VC_VOV_ROBB.csv'"
      ]
     },
     "metadata": {},
     "output_type": "display_data"
    },
    {
     "name": "stdout",
     "output_type": "stream",
     "text": [
      "Searching for VC_VOV_ROBB_16_1_3_2019Q3G01\n",
      " -- Item VC_VOV_ROBB_16_1_3_2019Q3G01 not found (force find)\n",
      "Adding CSV File to ArcGIS Online....\n",
      "Analyze Feature Service....\n",
      "Publishing Feature Service....\n",
      ".......call generate renderer within publish_csv\n",
      "Update Feature Service Symbology\n",
      "Moving CSV to Open Data Folder\n",
      "Updating Feature Service metadata....\n",
      "Moving Feature Service to Open Data Folder\n"
     ]
    },
    {
     "data": {
      "text/plain": [
       "{'notSharedWith': [], 'itemId': 'f01209a2678942e49e4afb4e26888d89'}"
      ]
     },
     "execution_count": 70,
     "metadata": {},
     "output_type": "execute_result"
    },
    {
     "name": "stdout",
     "output_type": "stream",
     "text": [
      "{'results': [{'itemId': 'f01209a2678942e49e4afb4e26888d89', 'success': True}]}\n",
      "\n",
      "Processing series code: 16.1.3 VC_VOV_SEXL\n"
     ]
    },
    {
     "data": {
      "text/plain": [
       "'../../data/unsd/2019.Q3.G.01/csv_Indicator_16.1.3_Series_VC_VOV_SEXL.csv'"
      ]
     },
     "metadata": {},
     "output_type": "display_data"
    },
    {
     "name": "stdout",
     "output_type": "stream",
     "text": [
      "Searching for VC_VOV_SEXL_16_1_3_2019Q3G01\n",
      " -- Item VC_VOV_SEXL_16_1_3_2019Q3G01 not found (force find)\n",
      "Adding CSV File to ArcGIS Online....\n",
      "Analyze Feature Service....\n",
      "Publishing Feature Service....\n",
      ".......call generate renderer within publish_csv\n",
      "Update Feature Service Symbology\n",
      "Moving CSV to Open Data Folder\n",
      "Updating Feature Service metadata....\n",
      "Moving Feature Service to Open Data Folder\n"
     ]
    },
    {
     "data": {
      "text/plain": [
       "{'notSharedWith': [], 'itemId': '93ea4bcf266142a696ffaa3f255fc87d'}"
      ]
     },
     "execution_count": 70,
     "metadata": {},
     "output_type": "execute_result"
    },
    {
     "name": "stdout",
     "output_type": "stream",
     "text": [
      "{'results': [{'itemId': '93ea4bcf266142a696ffaa3f255fc87d', 'success': True}]}\n",
      "\n",
      "Processing series code: 16.1.4 VC_SNS_WALN\n"
     ]
    },
    {
     "data": {
      "text/plain": [
       "'../../data/unsd/2019.Q3.G.01/csv_Indicator_16.1.4_Series_VC_SNS_WALN.csv'"
      ]
     },
     "metadata": {},
     "output_type": "display_data"
    },
    {
     "name": "stdout",
     "output_type": "stream",
     "text": [
      "Searching for VC_SNS_WALN_16_1_4_2019Q3G01\n",
      " -- Item VC_SNS_WALN_16_1_4_2019Q3G01 not found (force find)\n",
      "Adding CSV File to ArcGIS Online....\n",
      "Analyze Feature Service....\n",
      "Publishing Feature Service....\n",
      ".......call generate renderer within publish_csv\n",
      "Update Feature Service Symbology\n",
      "Moving CSV to Open Data Folder\n",
      "Updating Feature Service metadata....\n",
      "Moving Feature Service to Open Data Folder\n"
     ]
    },
    {
     "data": {
      "text/plain": [
       "{'notSharedWith': [], 'itemId': '255a696304e6468d82926b544ac19744'}"
      ]
     },
     "execution_count": 70,
     "metadata": {},
     "output_type": "execute_result"
    },
    {
     "name": "stdout",
     "output_type": "stream",
     "text": [
      "{'results': [{'itemId': '255a696304e6468d82926b544ac19744', 'success': True}]}\n",
      "\n",
      "Processing series code: 16.2.1 VC_VAW_PHYPYV\n"
     ]
    },
    {
     "data": {
      "text/plain": [
       "'../../data/unsd/2019.Q3.G.01/csv_Indicator_16.2.1_Series_VC_VAW_PHYPYV.csv'"
      ]
     },
     "metadata": {},
     "output_type": "display_data"
    },
    {
     "name": "stdout",
     "output_type": "stream",
     "text": [
      "Searching for VC_VAW_PHYPYV_16_2_1_2019Q3G01\n",
      " -- Item VC_VAW_PHYPYV_16_2_1_2019Q3G01 not found (force find)\n",
      "Adding CSV File to ArcGIS Online....\n",
      "Analyze Feature Service....\n",
      "Publishing Feature Service....\n",
      ".......call generate renderer within publish_csv\n",
      "Update Feature Service Symbology\n",
      "Moving CSV to Open Data Folder\n",
      "Updating Feature Service metadata....\n",
      "Moving Feature Service to Open Data Folder\n"
     ]
    },
    {
     "data": {
      "text/plain": [
       "{'notSharedWith': [], 'itemId': 'e9853695c9d94a17aec1567b1b5aa425'}"
      ]
     },
     "execution_count": 70,
     "metadata": {},
     "output_type": "execute_result"
    },
    {
     "name": "stdout",
     "output_type": "stream",
     "text": [
      "{'results': [{'itemId': 'e9853695c9d94a17aec1567b1b5aa425', 'success': True}]}\n",
      "\n",
      "Processing series code: 16.2.2 VC_HTF_DETVFL\n"
     ]
    },
    {
     "data": {
      "text/plain": [
       "'../../data/unsd/2019.Q3.G.01/csv_Indicator_16.2.2_Series_VC_HTF_DETVFL.csv'"
      ]
     },
     "metadata": {},
     "output_type": "display_data"
    },
    {
     "name": "stdout",
     "output_type": "stream",
     "text": [
      "Searching for VC_HTF_DETVFL_16_2_2_2019Q3G01\n",
      " -- Item VC_HTF_DETVFL_16_2_2_2019Q3G01 not found (force find)\n",
      "Adding CSV File to ArcGIS Online....\n",
      "Analyze Feature Service....\n",
      "Publishing Feature Service....\n",
      ".......call generate renderer within publish_csv\n",
      "Update Feature Service Symbology\n",
      "Moving CSV to Open Data Folder\n",
      "Updating Feature Service metadata....\n",
      "Moving Feature Service to Open Data Folder\n"
     ]
    },
    {
     "data": {
      "text/plain": [
       "{'notSharedWith': [], 'itemId': 'd66456419f1149668584cc2d21f4f366'}"
      ]
     },
     "execution_count": 70,
     "metadata": {},
     "output_type": "execute_result"
    },
    {
     "name": "stdout",
     "output_type": "stream",
     "text": [
      "{'results': [{'itemId': 'd66456419f1149668584cc2d21f4f366', 'success': True}]}\n",
      "\n",
      "Processing series code: 16.2.2 VC_HTF_DETVOP\n"
     ]
    },
    {
     "data": {
      "text/plain": [
       "'../../data/unsd/2019.Q3.G.01/csv_Indicator_16.2.2_Series_VC_HTF_DETVOP.csv'"
      ]
     },
     "metadata": {},
     "output_type": "display_data"
    },
    {
     "name": "stdout",
     "output_type": "stream",
     "text": [
      "Searching for VC_HTF_DETVOP_16_2_2_2019Q3G01\n",
      " -- Item VC_HTF_DETVOP_16_2_2_2019Q3G01 not found (force find)\n",
      "Adding CSV File to ArcGIS Online....\n",
      "Analyze Feature Service....\n",
      "Publishing Feature Service....\n",
      ".......call generate renderer within publish_csv\n",
      "Update Feature Service Symbology\n",
      "Moving CSV to Open Data Folder\n",
      "Updating Feature Service metadata....\n",
      "Moving Feature Service to Open Data Folder\n"
     ]
    },
    {
     "data": {
      "text/plain": [
       "{'notSharedWith': [], 'itemId': '8aa1c776dc7642018a2d1250703d3b1b'}"
      ]
     },
     "execution_count": 70,
     "metadata": {},
     "output_type": "execute_result"
    },
    {
     "name": "stdout",
     "output_type": "stream",
     "text": [
      "{'results': [{'itemId': '8aa1c776dc7642018a2d1250703d3b1b', 'success': True}]}\n",
      "\n",
      "Processing series code: 16.2.2 VC_HTF_DETVOG\n"
     ]
    },
    {
     "data": {
      "text/plain": [
       "'../../data/unsd/2019.Q3.G.01/csv_Indicator_16.2.2_Series_VC_HTF_DETVOG.csv'"
      ]
     },
     "metadata": {},
     "output_type": "display_data"
    },
    {
     "name": "stdout",
     "output_type": "stream",
     "text": [
      "Searching for VC_HTF_DETVOG_16_2_2_2019Q3G01\n",
      " -- Item VC_HTF_DETVOG_16_2_2_2019Q3G01 not found (force find)\n",
      "Adding CSV File to ArcGIS Online....\n",
      "Analyze Feature Service....\n",
      "Publishing Feature Service....\n",
      ".......call generate renderer within publish_csv\n",
      "Update Feature Service Symbology\n",
      "Moving CSV to Open Data Folder\n",
      "Updating Feature Service metadata....\n",
      "Moving Feature Service to Open Data Folder\n"
     ]
    },
    {
     "data": {
      "text/plain": [
       "{'notSharedWith': [], 'itemId': 'c0ab936235da46d0a10b4eff59317f06'}"
      ]
     },
     "execution_count": 70,
     "metadata": {},
     "output_type": "execute_result"
    },
    {
     "name": "stdout",
     "output_type": "stream",
     "text": [
      "{'results': [{'itemId': 'c0ab936235da46d0a10b4eff59317f06', 'success': True}]}\n",
      "\n",
      "Processing series code: 16.2.2 VC_HTF_DETVSX\n"
     ]
    },
    {
     "data": {
      "text/plain": [
       "'../../data/unsd/2019.Q3.G.01/csv_Indicator_16.2.2_Series_VC_HTF_DETVSX.csv'"
      ]
     },
     "metadata": {},
     "output_type": "display_data"
    },
    {
     "name": "stdout",
     "output_type": "stream",
     "text": [
      "Searching for VC_HTF_DETVSX_16_2_2_2019Q3G01\n",
      " -- Item VC_HTF_DETVSX_16_2_2_2019Q3G01 not found (force find)\n",
      "Adding CSV File to ArcGIS Online....\n",
      "Analyze Feature Service....\n",
      "Publishing Feature Service....\n",
      ".......call generate renderer within publish_csv\n",
      "Update Feature Service Symbology\n",
      "Moving CSV to Open Data Folder\n",
      "Updating Feature Service metadata....\n",
      "Moving Feature Service to Open Data Folder\n"
     ]
    },
    {
     "data": {
      "text/plain": [
       "{'notSharedWith': [], 'itemId': 'ebc9cdc1a13e4bb4b759820a9acb4af0'}"
      ]
     },
     "execution_count": 70,
     "metadata": {},
     "output_type": "execute_result"
    },
    {
     "name": "stdout",
     "output_type": "stream",
     "text": [
      "{'results': [{'itemId': 'ebc9cdc1a13e4bb4b759820a9acb4af0', 'success': True}]}\n",
      "\n",
      "Processing series code: 16.2.2 VC_HTF_DETV\n"
     ]
    },
    {
     "data": {
      "text/plain": [
       "'../../data/unsd/2019.Q3.G.01/csv_Indicator_16.2.2_Series_VC_HTF_DETV.csv'"
      ]
     },
     "metadata": {},
     "output_type": "display_data"
    },
    {
     "name": "stdout",
     "output_type": "stream",
     "text": [
      "Searching for VC_HTF_DETV_16_2_2_2019Q3G01\n",
      " -- Item VC_HTF_DETV_16_2_2_2019Q3G01 not found (force find)\n",
      "Adding CSV File to ArcGIS Online....\n",
      "Analyze Feature Service....\n",
      "Publishing Feature Service....\n",
      ".......call generate renderer within publish_csv\n",
      "Update Feature Service Symbology\n",
      "Moving CSV to Open Data Folder\n",
      "Updating Feature Service metadata....\n",
      "Moving Feature Service to Open Data Folder\n"
     ]
    },
    {
     "data": {
      "text/plain": [
       "{'notSharedWith': [], 'itemId': '8c6827f3754c4c76bddbe71e7342a370'}"
      ]
     },
     "execution_count": 70,
     "metadata": {},
     "output_type": "execute_result"
    },
    {
     "name": "stdout",
     "output_type": "stream",
     "text": [
      "{'results': [{'itemId': '8c6827f3754c4c76bddbe71e7342a370', 'success': True}]}\n",
      "\n",
      "Processing series code: 16.2.3 VC_VAW_SXVLN\n"
     ]
    },
    {
     "data": {
      "text/plain": [
       "'../../data/unsd/2019.Q3.G.01/csv_Indicator_16.2.3_Series_VC_VAW_SXVLN.csv'"
      ]
     },
     "metadata": {},
     "output_type": "display_data"
    },
    {
     "name": "stdout",
     "output_type": "stream",
     "text": [
      "Searching for VC_VAW_SXVLN_16_2_3_2019Q3G01\n",
      " -- Item VC_VAW_SXVLN_16_2_3_2019Q3G01 not found (force find)\n",
      "Adding CSV File to ArcGIS Online....\n",
      "Analyze Feature Service....\n",
      "Publishing Feature Service....\n",
      ".......call generate renderer within publish_csv\n",
      "Update Feature Service Symbology\n",
      "Moving CSV to Open Data Folder\n",
      "Updating Feature Service metadata....\n",
      "Moving Feature Service to Open Data Folder\n"
     ]
    },
    {
     "data": {
      "text/plain": [
       "{'notSharedWith': [], 'itemId': '3b5bd5b381154a2fbaa68bc22875c760'}"
      ]
     },
     "execution_count": 70,
     "metadata": {},
     "output_type": "execute_result"
    },
    {
     "name": "stdout",
     "output_type": "stream",
     "text": [
      "{'results': [{'itemId': '3b5bd5b381154a2fbaa68bc22875c760', 'success': True}]}\n",
      "\n",
      "Processing series code: 16.3.1 VC_PRR_PHYV\n"
     ]
    },
    {
     "data": {
      "text/plain": [
       "'../../data/unsd/2019.Q3.G.01/csv_Indicator_16.3.1_Series_VC_PRR_PHYV.csv'"
      ]
     },
     "metadata": {},
     "output_type": "display_data"
    },
    {
     "name": "stdout",
     "output_type": "stream",
     "text": [
      "Searching for VC_PRR_PHYV_16_3_1_2019Q3G01\n",
      " -- Item VC_PRR_PHYV_16_3_1_2019Q3G01 not found (force find)\n",
      "Adding CSV File to ArcGIS Online....\n",
      "Analyze Feature Service....\n",
      "Publishing Feature Service....\n",
      ".......call generate renderer within publish_csv\n",
      "Update Feature Service Symbology\n",
      "Moving CSV to Open Data Folder\n",
      "Updating Feature Service metadata....\n",
      "Moving Feature Service to Open Data Folder\n"
     ]
    },
    {
     "data": {
      "text/plain": [
       "{'notSharedWith': [], 'itemId': 'aff787df5a1f4748905a63b45251729a'}"
      ]
     },
     "execution_count": 70,
     "metadata": {},
     "output_type": "execute_result"
    },
    {
     "name": "stdout",
     "output_type": "stream",
     "text": [
      "{'results': [{'itemId': 'aff787df5a1f4748905a63b45251729a', 'success': True}]}\n",
      "\n",
      "Processing series code: 16.3.1 VC_PRR_SEXV\n"
     ]
    },
    {
     "data": {
      "text/plain": [
       "'../../data/unsd/2019.Q3.G.01/csv_Indicator_16.3.1_Series_VC_PRR_SEXV.csv'"
      ]
     },
     "metadata": {},
     "output_type": "display_data"
    },
    {
     "name": "stdout",
     "output_type": "stream",
     "text": [
      "Searching for VC_PRR_SEXV_16_3_1_2019Q3G01\n",
      " -- Item VC_PRR_SEXV_16_3_1_2019Q3G01 not found (force find)\n",
      "Adding CSV File to ArcGIS Online....\n",
      "Analyze Feature Service....\n",
      "Publishing Feature Service....\n",
      ".......call generate renderer within publish_csv\n",
      "Update Feature Service Symbology\n",
      "Moving CSV to Open Data Folder\n",
      "Updating Feature Service metadata....\n",
      "Moving Feature Service to Open Data Folder\n"
     ]
    },
    {
     "data": {
      "text/plain": [
       "{'notSharedWith': [], 'itemId': 'a3b1176727794ca68d194808ccd5623a'}"
      ]
     },
     "execution_count": 70,
     "metadata": {},
     "output_type": "execute_result"
    },
    {
     "name": "stdout",
     "output_type": "stream",
     "text": [
      "{'results': [{'itemId': 'a3b1176727794ca68d194808ccd5623a', 'success': True}]}\n",
      "\n",
      "Processing series code: 16.3.1 VC_PRR_ROBB\n"
     ]
    },
    {
     "data": {
      "text/plain": [
       "'../../data/unsd/2019.Q3.G.01/csv_Indicator_16.3.1_Series_VC_PRR_ROBB.csv'"
      ]
     },
     "metadata": {},
     "output_type": "display_data"
    },
    {
     "name": "stdout",
     "output_type": "stream",
     "text": [
      "Searching for VC_PRR_ROBB_16_3_1_2019Q3G01\n",
      " -- Item VC_PRR_ROBB_16_3_1_2019Q3G01 not found (force find)\n",
      "Adding CSV File to ArcGIS Online....\n",
      "Analyze Feature Service....\n",
      "Publishing Feature Service....\n",
      ".......call generate renderer within publish_csv\n",
      "Update Feature Service Symbology\n",
      "Moving CSV to Open Data Folder\n",
      "Updating Feature Service metadata....\n",
      "Moving Feature Service to Open Data Folder\n"
     ]
    },
    {
     "data": {
      "text/plain": [
       "{'notSharedWith': [], 'itemId': 'edd9bbc4e7b24fe3a586cd56ed0f32d2'}"
      ]
     },
     "execution_count": 70,
     "metadata": {},
     "output_type": "execute_result"
    },
    {
     "name": "stdout",
     "output_type": "stream",
     "text": [
      "{'results': [{'itemId': 'edd9bbc4e7b24fe3a586cd56ed0f32d2', 'success': True}]}\n",
      "\n",
      "Processing series code: 16.3.2 VC_PRS_UNSEC\n"
     ]
    },
    {
     "data": {
      "text/plain": [
       "'../../data/unsd/2019.Q3.G.01/csv_Indicator_16.3.2_Series_VC_PRS_UNSEC.csv'"
      ]
     },
     "metadata": {},
     "output_type": "display_data"
    },
    {
     "name": "stdout",
     "output_type": "stream",
     "text": [
      "Searching for VC_PRS_UNSEC_16_3_2_2019Q3G01\n",
      " -- Item VC_PRS_UNSEC_16_3_2_2019Q3G01 not found (force find)\n",
      "Adding CSV File to ArcGIS Online....\n",
      "Analyze Feature Service....\n",
      "Publishing Feature Service....\n",
      ".......call generate renderer within publish_csv\n",
      "Update Feature Service Symbology\n",
      "Moving CSV to Open Data Folder\n",
      "Updating Feature Service metadata....\n",
      "Moving Feature Service to Open Data Folder\n"
     ]
    },
    {
     "data": {
      "text/plain": [
       "{'notSharedWith': [], 'itemId': 'f120f1a62f46482d80a92e8c9462ee69'}"
      ]
     },
     "execution_count": 70,
     "metadata": {},
     "output_type": "execute_result"
    },
    {
     "name": "stdout",
     "output_type": "stream",
     "text": [
      "{'results': [{'itemId': 'f120f1a62f46482d80a92e8c9462ee69', 'success': True}]}\n",
      "\n",
      "Processing series code: 16.5.1 IU_COR_BRIB\n"
     ]
    },
    {
     "data": {
      "text/plain": [
       "'../../data/unsd/2019.Q3.G.01/csv_Indicator_16.5.1_Series_IU_COR_BRIB.csv'"
      ]
     },
     "metadata": {},
     "output_type": "display_data"
    },
    {
     "name": "stdout",
     "output_type": "stream",
     "text": [
      "Searching for IU_COR_BRIB_16_5_1_2019Q3G01\n",
      " -- Item IU_COR_BRIB_16_5_1_2019Q3G01 not found (force find)\n",
      "Adding CSV File to ArcGIS Online....\n",
      "Analyze Feature Service....\n",
      "Publishing Feature Service....\n",
      ".......call generate renderer within publish_csv\n",
      "Update Feature Service Symbology\n",
      "Moving CSV to Open Data Folder\n",
      "Updating Feature Service metadata....\n",
      "Moving Feature Service to Open Data Folder\n"
     ]
    },
    {
     "data": {
      "text/plain": [
       "{'notSharedWith': [], 'itemId': 'e75627df22bc46afaeff9c03161881c9'}"
      ]
     },
     "execution_count": 70,
     "metadata": {},
     "output_type": "execute_result"
    },
    {
     "name": "stdout",
     "output_type": "stream",
     "text": [
      "{'results': [{'itemId': 'e75627df22bc46afaeff9c03161881c9', 'success': True}]}\n",
      "\n",
      "Processing series code: 16.5.2 IC_FRM_BRIB\n"
     ]
    },
    {
     "data": {
      "text/plain": [
       "'../../data/unsd/2019.Q3.G.01/csv_Indicator_16.5.2_Series_IC_FRM_BRIB.csv'"
      ]
     },
     "metadata": {},
     "output_type": "display_data"
    },
    {
     "name": "stdout",
     "output_type": "stream",
     "text": [
      "Searching for IC_FRM_BRIB_16_5_2_2019Q3G01\n",
      " -- Item IC_FRM_BRIB_16_5_2_2019Q3G01 not found (force find)\n",
      "Adding CSV File to ArcGIS Online....\n",
      "Analyze Feature Service....\n",
      "Publishing Feature Service....\n",
      ".......call generate renderer within publish_csv\n",
      "Update Feature Service Symbology\n",
      "Moving CSV to Open Data Folder\n",
      "Updating Feature Service metadata....\n",
      "Moving Feature Service to Open Data Folder\n"
     ]
    },
    {
     "data": {
      "text/plain": [
       "{'notSharedWith': [], 'itemId': '7c546dc01ce244f29c0ca5a655946756'}"
      ]
     },
     "execution_count": 70,
     "metadata": {},
     "output_type": "execute_result"
    },
    {
     "name": "stdout",
     "output_type": "stream",
     "text": [
      "{'results': [{'itemId': '7c546dc01ce244f29c0ca5a655946756', 'success': True}]}\n",
      "\n",
      "Processing series code: 16.6.1 GF_XPD_GBPC\n"
     ]
    },
    {
     "data": {
      "text/plain": [
       "'../../data/unsd/2019.Q3.G.01/csv_Indicator_16.6.1_Series_GF_XPD_GBPC.csv'"
      ]
     },
     "metadata": {},
     "output_type": "display_data"
    },
    {
     "name": "stdout",
     "output_type": "stream",
     "text": [
      "Searching for GF_XPD_GBPC_16_6_1_2019Q3G01\n",
      " -- Item GF_XPD_GBPC_16_6_1_2019Q3G01 not found (force find)\n",
      "Adding CSV File to ArcGIS Online....\n",
      "Analyze Feature Service....\n",
      "Publishing Feature Service....\n",
      ".......call generate renderer within publish_csv\n",
      "Update Feature Service Symbology\n",
      "Moving CSV to Open Data Folder\n",
      "Updating Feature Service metadata....\n",
      "Moving Feature Service to Open Data Folder\n"
     ]
    },
    {
     "data": {
      "text/plain": [
       "{'notSharedWith': [], 'itemId': '0c912ac5994944ac9effc2c96e6e7cf4'}"
      ]
     },
     "execution_count": 70,
     "metadata": {},
     "output_type": "execute_result"
    },
    {
     "name": "stdout",
     "output_type": "stream",
     "text": [
      "{'results': [{'itemId': '0c912ac5994944ac9effc2c96e6e7cf4', 'success': True}]}\n",
      "\n",
      "Processing series code: 16.8.1 SG_INT_MBRDEV\n"
     ]
    },
    {
     "data": {
      "text/plain": [
       "'../../data/unsd/2019.Q3.G.01/csv_Indicator_16.8.1_Series_SG_INT_MBRDEV.csv'"
      ]
     },
     "metadata": {},
     "output_type": "display_data"
    },
    {
     "name": "stdout",
     "output_type": "stream",
     "text": [
      "Searching for SG_INT_MBRDEV_16_8_1_2019Q3G01\n",
      " -- Item SG_INT_MBRDEV_16_8_1_2019Q3G01 not found (force find)\n",
      "Adding CSV File to ArcGIS Online....\n",
      "Analyze Feature Service....\n",
      "Publishing Feature Service....\n",
      ".......call generate renderer within publish_csv\n",
      "Update Feature Service Symbology\n",
      "Moving CSV to Open Data Folder\n",
      "Updating Feature Service metadata....\n",
      "Moving Feature Service to Open Data Folder\n"
     ]
    },
    {
     "data": {
      "text/plain": [
       "{'notSharedWith': [], 'itemId': 'f08570f41b674846955aad57620ef180'}"
      ]
     },
     "execution_count": 70,
     "metadata": {},
     "output_type": "execute_result"
    },
    {
     "name": "stdout",
     "output_type": "stream",
     "text": [
      "{'results': [{'itemId': 'f08570f41b674846955aad57620ef180', 'success': True}]}\n",
      "\n",
      "Processing series code: 16.8.1 SG_INT_VRTDEV\n"
     ]
    },
    {
     "data": {
      "text/plain": [
       "'../../data/unsd/2019.Q3.G.01/csv_Indicator_16.8.1_Series_SG_INT_VRTDEV.csv'"
      ]
     },
     "metadata": {},
     "output_type": "display_data"
    },
    {
     "name": "stdout",
     "output_type": "stream",
     "text": [
      "Searching for SG_INT_VRTDEV_16_8_1_2019Q3G01\n",
      " -- Item SG_INT_VRTDEV_16_8_1_2019Q3G01 not found (force find)\n",
      "Adding CSV File to ArcGIS Online....\n",
      "Analyze Feature Service....\n",
      "Publishing Feature Service....\n",
      ".......call generate renderer within publish_csv\n",
      "Update Feature Service Symbology\n",
      "Moving CSV to Open Data Folder\n",
      "Updating Feature Service metadata....\n",
      "Moving Feature Service to Open Data Folder\n"
     ]
    },
    {
     "data": {
      "text/plain": [
       "{'notSharedWith': [], 'itemId': '42f597850821458a9cc13f8ee1a13cd7'}"
      ]
     },
     "execution_count": 70,
     "metadata": {},
     "output_type": "execute_result"
    },
    {
     "name": "stdout",
     "output_type": "stream",
     "text": [
      "{'results': [{'itemId': '42f597850821458a9cc13f8ee1a13cd7', 'success': True}]}\n",
      "\n",
      "Processing series code: 16.9.1 SG_REG_BRTH\n"
     ]
    },
    {
     "data": {
      "text/plain": [
       "'../../data/unsd/2019.Q3.G.01/csv_Indicator_16.9.1_Series_SG_REG_BRTH.csv'"
      ]
     },
     "metadata": {},
     "output_type": "display_data"
    },
    {
     "name": "stdout",
     "output_type": "stream",
     "text": [
      "Searching for SG_REG_BRTH_16_9_1_2019Q3G01\n",
      " -- Item SG_REG_BRTH_16_9_1_2019Q3G01 not found (force find)\n",
      "Adding CSV File to ArcGIS Online....\n",
      "Analyze Feature Service....\n",
      "Publishing Feature Service....\n",
      ".......call generate renderer within publish_csv\n",
      "Update Feature Service Symbology\n",
      "Moving CSV to Open Data Folder\n",
      "Updating Feature Service metadata....\n",
      "Moving Feature Service to Open Data Folder\n"
     ]
    },
    {
     "data": {
      "text/plain": [
       "{'notSharedWith': [], 'itemId': '54262dce6a66432b919c8bddd5d66ba3'}"
      ]
     },
     "execution_count": 70,
     "metadata": {},
     "output_type": "execute_result"
    },
    {
     "name": "stdout",
     "output_type": "stream",
     "text": [
      "{'results': [{'itemId': '54262dce6a66432b919c8bddd5d66ba3', 'success': True}]}\n",
      "\n",
      "Processing series code: 16.10.1 VC_VAW_MTUHRA\n"
     ]
    },
    {
     "data": {
      "text/plain": [
       "'../../data/unsd/2019.Q3.G.01/csv_Indicator_16.10.1_Series_VC_VAW_MTUHRA.csv'"
      ]
     },
     "metadata": {},
     "output_type": "display_data"
    },
    {
     "name": "stdout",
     "output_type": "stream",
     "text": [
      "\n",
      "Processing series code: 16.10.2 SG_INF_ACCSS\n"
     ]
    },
    {
     "data": {
      "text/plain": [
       "'../../data/unsd/2019.Q3.G.01/csv_Indicator_16.10.2_Series_SG_INF_ACCSS.csv'"
      ]
     },
     "metadata": {},
     "output_type": "display_data"
    },
    {
     "name": "stdout",
     "output_type": "stream",
     "text": [
      "Searching for SG_INF_ACCSS_16_10_2_2019Q3G01\n",
      " -- Item SG_INF_ACCSS_16_10_2_2019Q3G01 not found (force find)\n",
      "Adding CSV File to ArcGIS Online....\n",
      "Analyze Feature Service....\n",
      "Publishing Feature Service....\n",
      ".......call generate renderer within publish_csv\n",
      "Update Feature Service Symbology\n",
      "Moving CSV to Open Data Folder\n",
      "Updating Feature Service metadata....\n",
      "Moving Feature Service to Open Data Folder\n"
     ]
    },
    {
     "data": {
      "text/plain": [
       "{'notSharedWith': [], 'itemId': 'd9cfaf954e8a4e7d96cbcef1df1a7b1b'}"
      ]
     },
     "execution_count": 70,
     "metadata": {},
     "output_type": "execute_result"
    },
    {
     "name": "stdout",
     "output_type": "stream",
     "text": [
      "{'results': [{'itemId': 'd9cfaf954e8a4e7d96cbcef1df1a7b1b', 'success': True}]}\n",
      "\n",
      "Processing series code: 16.a.1 SG_NHR_IMPL\n"
     ]
    },
    {
     "data": {
      "text/plain": [
       "'../../data/unsd/2019.Q3.G.01/csv_Indicator_16.a.1_Series_SG_NHR_IMPL.csv'"
      ]
     },
     "metadata": {},
     "output_type": "display_data"
    },
    {
     "name": "stdout",
     "output_type": "stream",
     "text": [
      "\n",
      "Processing series code: 16.a.1 SG_NHR_IMPLN\n"
     ]
    },
    {
     "data": {
      "text/plain": [
       "'../../data/unsd/2019.Q3.G.01/csv_Indicator_16.a.1_Series_SG_NHR_IMPLN.csv'"
      ]
     },
     "metadata": {},
     "output_type": "display_data"
    },
    {
     "name": "stdout",
     "output_type": "stream",
     "text": [
      "Searching for SG_NHR_IMPLN_16_a_1_2019Q3G01\n",
      " -- Item SG_NHR_IMPLN_16_a_1_2019Q3G01 not found (force find)\n",
      "Adding CSV File to ArcGIS Online....\n",
      "Analyze Feature Service....\n",
      "Publishing Feature Service....\n",
      ".......call generate renderer within publish_csv\n",
      "Update Feature Service Symbology\n",
      "Moving CSV to Open Data Folder\n",
      "Updating Feature Service metadata....\n",
      "Moving Feature Service to Open Data Folder\n"
     ]
    },
    {
     "data": {
      "text/plain": [
       "{'notSharedWith': [], 'itemId': 'c056ab2bf4fc4aee951e1a3d577272f4'}"
      ]
     },
     "execution_count": 70,
     "metadata": {},
     "output_type": "execute_result"
    },
    {
     "name": "stdout",
     "output_type": "stream",
     "text": [
      "{'results': [{'itemId': 'c056ab2bf4fc4aee951e1a3d577272f4', 'success': True}]}\n",
      "\n",
      "Processing series code: 16.a.1 SG_NHR_INTEXST\n"
     ]
    },
    {
     "data": {
      "text/plain": [
       "'../../data/unsd/2019.Q3.G.01/csv_Indicator_16.a.1_Series_SG_NHR_INTEXST.csv'"
      ]
     },
     "metadata": {},
     "output_type": "display_data"
    },
    {
     "name": "stdout",
     "output_type": "stream",
     "text": [
      "\n",
      "Processing series code: 16.a.1 SG_NHR_NOSTUSN\n"
     ]
    },
    {
     "data": {
      "text/plain": [
       "'../../data/unsd/2019.Q3.G.01/csv_Indicator_16.a.1_Series_SG_NHR_NOSTUSN.csv'"
      ]
     },
     "metadata": {},
     "output_type": "display_data"
    },
    {
     "name": "stdout",
     "output_type": "stream",
     "text": [
      "Searching for SG_NHR_NOSTUSN_16_a_1_2019Q3G01\n",
      " -- Item SG_NHR_NOSTUSN_16_a_1_2019Q3G01 not found (force find)\n",
      "Adding CSV File to ArcGIS Online....\n",
      "Analyze Feature Service....\n",
      "Publishing Feature Service....\n",
      ".......call generate renderer within publish_csv\n",
      "Update Feature Service Symbology\n",
      "Moving CSV to Open Data Folder\n",
      "Updating Feature Service metadata....\n",
      "Moving Feature Service to Open Data Folder\n"
     ]
    },
    {
     "data": {
      "text/plain": [
       "{'notSharedWith': [], 'itemId': 'dd9ba8a8c5a744ddb370c4082d5e46f0'}"
      ]
     },
     "execution_count": 70,
     "metadata": {},
     "output_type": "execute_result"
    },
    {
     "name": "stdout",
     "output_type": "stream",
     "text": [
      "{'results': [{'itemId': 'dd9ba8a8c5a744ddb370c4082d5e46f0', 'success': True}]}\n",
      "\n",
      "Processing series code: 16.a.1 SG_NHR_INTEXSTN\n"
     ]
    },
    {
     "data": {
      "text/plain": [
       "'../../data/unsd/2019.Q3.G.01/csv_Indicator_16.a.1_Series_SG_NHR_INTEXSTN.csv'"
      ]
     },
     "metadata": {},
     "output_type": "display_data"
    },
    {
     "name": "stdout",
     "output_type": "stream",
     "text": [
      "Searching for SG_NHR_INTEXSTN_16_a_1_2019Q3G01\n",
      " -- Item SG_NHR_INTEXSTN_16_a_1_2019Q3G01 not found (force find)\n",
      "Adding CSV File to ArcGIS Online....\n",
      "Analyze Feature Service....\n",
      "Publishing Feature Service....\n",
      ".......call generate renderer within publish_csv\n",
      "Update Feature Service Symbology\n",
      "Moving CSV to Open Data Folder\n",
      "Updating Feature Service metadata....\n",
      "Moving Feature Service to Open Data Folder\n"
     ]
    },
    {
     "data": {
      "text/plain": [
       "{'notSharedWith': [], 'itemId': '981402af061d4139a963b52a0538f475'}"
      ]
     },
     "execution_count": 70,
     "metadata": {},
     "output_type": "execute_result"
    },
    {
     "name": "stdout",
     "output_type": "stream",
     "text": [
      "{'results': [{'itemId': '981402af061d4139a963b52a0538f475', 'success': True}]}\n",
      "\n",
      "Processing series code: 16.a.1 SG_NHR_NOAPPLN\n"
     ]
    },
    {
     "data": {
      "text/plain": [
       "'../../data/unsd/2019.Q3.G.01/csv_Indicator_16.a.1_Series_SG_NHR_NOAPPLN.csv'"
      ]
     },
     "metadata": {},
     "output_type": "display_data"
    },
    {
     "name": "stdout",
     "output_type": "stream",
     "text": [
      "Searching for SG_NHR_NOAPPLN_16_a_1_2019Q3G01\n",
      " -- Item SG_NHR_NOAPPLN_16_a_1_2019Q3G01 not found (force find)\n",
      "Adding CSV File to ArcGIS Online....\n",
      "Analyze Feature Service....\n",
      "Publishing Feature Service....\n",
      ".......call generate renderer within publish_csv\n",
      "Update Feature Service Symbology\n",
      "Moving CSV to Open Data Folder\n",
      "Updating Feature Service metadata....\n",
      "Moving Feature Service to Open Data Folder\n"
     ]
    },
    {
     "data": {
      "text/plain": [
       "{'notSharedWith': [], 'itemId': '79e928d79ccd4d278c66a0aff0683dec'}"
      ]
     },
     "execution_count": 70,
     "metadata": {},
     "output_type": "execute_result"
    },
    {
     "name": "stdout",
     "output_type": "stream",
     "text": [
      "{'results': [{'itemId': '79e928d79ccd4d278c66a0aff0683dec', 'success': True}]}\n",
      "\n",
      "Processing series code: 17.1.1 GR_G14_GDP\n"
     ]
    },
    {
     "data": {
      "text/plain": [
       "'../../data/unsd/2019.Q3.G.01/csv_Indicator_17.1.1_Series_GR_G14_GDP.csv'"
      ]
     },
     "metadata": {},
     "output_type": "display_data"
    },
    {
     "name": "stdout",
     "output_type": "stream",
     "text": [
      "Searching for GR_G14_GDP_17_1_1_2019Q3G01\n",
      " -- Item GR_G14_GDP_17_1_1_2019Q3G01 not found (force find)\n",
      "Adding CSV File to ArcGIS Online....\n",
      "Analyze Feature Service....\n",
      "Publishing Feature Service....\n",
      ".......call generate renderer within publish_csv\n",
      "Update Feature Service Symbology\n",
      "Moving CSV to Open Data Folder\n",
      "Updating Feature Service metadata....\n",
      "Moving Feature Service to Open Data Folder\n"
     ]
    },
    {
     "data": {
      "text/plain": [
       "{'notSharedWith': [], 'itemId': '6381517034584cd1965f71a3ab398f4c'}"
      ]
     },
     "execution_count": 70,
     "metadata": {},
     "output_type": "execute_result"
    },
    {
     "name": "stdout",
     "output_type": "stream",
     "text": [
      "{'results': [{'itemId': '6381517034584cd1965f71a3ab398f4c', 'success': True}]}\n",
      "\n",
      "Processing series code: 17.1.2 GC_GOB_TAXD\n"
     ]
    },
    {
     "data": {
      "text/plain": [
       "'../../data/unsd/2019.Q3.G.01/csv_Indicator_17.1.2_Series_GC_GOB_TAXD.csv'"
      ]
     },
     "metadata": {},
     "output_type": "display_data"
    },
    {
     "name": "stdout",
     "output_type": "stream",
     "text": [
      "Searching for GC_GOB_TAXD_17_1_2_2019Q3G01\n",
      " -- Item GC_GOB_TAXD_17_1_2_2019Q3G01 not found (force find)\n",
      "Adding CSV File to ArcGIS Online....\n",
      "Analyze Feature Service....\n",
      "Publishing Feature Service....\n",
      ".......call generate renderer within publish_csv\n",
      "Update Feature Service Symbology\n",
      "Moving CSV to Open Data Folder\n",
      "Updating Feature Service metadata....\n",
      "Moving Feature Service to Open Data Folder\n"
     ]
    },
    {
     "data": {
      "text/plain": [
       "{'notSharedWith': [], 'itemId': '0af34370fdf24a4c98167fa61715c140'}"
      ]
     },
     "execution_count": 70,
     "metadata": {},
     "output_type": "execute_result"
    },
    {
     "name": "stdout",
     "output_type": "stream",
     "text": [
      "{'results': [{'itemId': '0af34370fdf24a4c98167fa61715c140', 'success': True}]}\n",
      "\n",
      "Processing series code: 17.2.1 DC_ODA_SIDSG\n"
     ]
    },
    {
     "data": {
      "text/plain": [
       "'../../data/unsd/2019.Q3.G.01/csv_Indicator_17.2.1_Series_DC_ODA_SIDSG.csv'"
      ]
     },
     "metadata": {},
     "output_type": "display_data"
    },
    {
     "name": "stdout",
     "output_type": "stream",
     "text": [
      "Searching for DC_ODA_SIDSG_17_2_1_2019Q3G01\n",
      " -- Item DC_ODA_SIDSG_17_2_1_2019Q3G01 not found (force find)\n",
      "Adding CSV File to ArcGIS Online....\n",
      "Analyze Feature Service....\n",
      "Publishing Feature Service....\n",
      ".......call generate renderer within publish_csv\n",
      "Update Feature Service Symbology\n",
      "Moving CSV to Open Data Folder\n",
      "Updating Feature Service metadata....\n",
      "Moving Feature Service to Open Data Folder\n"
     ]
    },
    {
     "data": {
      "text/plain": [
       "{'notSharedWith': [], 'itemId': '26ab884e58304cce9dda4c2189a73458'}"
      ]
     },
     "execution_count": 70,
     "metadata": {},
     "output_type": "execute_result"
    },
    {
     "name": "stdout",
     "output_type": "stream",
     "text": [
      "{'results': [{'itemId': '26ab884e58304cce9dda4c2189a73458', 'success': True}]}\n",
      "\n",
      "Processing series code: 17.2.1 DC_ODA_LDCG\n"
     ]
    },
    {
     "data": {
      "text/plain": [
       "'../../data/unsd/2019.Q3.G.01/csv_Indicator_17.2.1_Series_DC_ODA_LDCG.csv'"
      ]
     },
     "metadata": {},
     "output_type": "display_data"
    },
    {
     "name": "stdout",
     "output_type": "stream",
     "text": [
      "Searching for DC_ODA_LDCG_17_2_1_2019Q3G01\n",
      " -- Item DC_ODA_LDCG_17_2_1_2019Q3G01 not found (force find)\n",
      "Adding CSV File to ArcGIS Online....\n",
      "Analyze Feature Service....\n",
      "Publishing Feature Service....\n",
      ".......call generate renderer within publish_csv\n",
      "Update Feature Service Symbology\n",
      "Moving CSV to Open Data Folder\n",
      "Updating Feature Service metadata....\n",
      "Moving Feature Service to Open Data Folder\n"
     ]
    },
    {
     "data": {
      "text/plain": [
       "{'notSharedWith': [], 'itemId': '04a5facb91bb42c9a08a21ac8994b138'}"
      ]
     },
     "execution_count": 70,
     "metadata": {},
     "output_type": "execute_result"
    },
    {
     "name": "stdout",
     "output_type": "stream",
     "text": [
      "{'results': [{'itemId': '04a5facb91bb42c9a08a21ac8994b138', 'success': True}]}\n",
      "\n",
      "Processing series code: 17.2.1 DC_ODA_LLDC\n"
     ]
    },
    {
     "data": {
      "text/plain": [
       "'../../data/unsd/2019.Q3.G.01/csv_Indicator_17.2.1_Series_DC_ODA_LLDC.csv'"
      ]
     },
     "metadata": {},
     "output_type": "display_data"
    },
    {
     "name": "stdout",
     "output_type": "stream",
     "text": [
      "Searching for DC_ODA_LLDC_17_2_1_2019Q3G01\n",
      " -- Item DC_ODA_LLDC_17_2_1_2019Q3G01 not found (force find)\n",
      "Adding CSV File to ArcGIS Online....\n",
      "Analyze Feature Service....\n",
      "Publishing Feature Service....\n",
      ".......call generate renderer within publish_csv\n",
      "Update Feature Service Symbology\n",
      "Moving CSV to Open Data Folder\n",
      "Updating Feature Service metadata....\n",
      "Moving Feature Service to Open Data Folder\n"
     ]
    },
    {
     "data": {
      "text/plain": [
       "{'notSharedWith': [], 'itemId': 'dcb107f358f04b0a92db42b746fab913'}"
      ]
     },
     "execution_count": 70,
     "metadata": {},
     "output_type": "execute_result"
    },
    {
     "name": "stdout",
     "output_type": "stream",
     "text": [
      "{'results': [{'itemId': 'dcb107f358f04b0a92db42b746fab913', 'success': True}]}\n",
      "\n",
      "Processing series code: 17.2.1 DC_ODA_SIDS\n"
     ]
    },
    {
     "data": {
      "text/plain": [
       "'../../data/unsd/2019.Q3.G.01/csv_Indicator_17.2.1_Series_DC_ODA_SIDS.csv'"
      ]
     },
     "metadata": {},
     "output_type": "display_data"
    },
    {
     "name": "stdout",
     "output_type": "stream",
     "text": [
      "Searching for DC_ODA_SIDS_17_2_1_2019Q3G01\n",
      " -- Item DC_ODA_SIDS_17_2_1_2019Q3G01 not found (force find)\n",
      "Adding CSV File to ArcGIS Online....\n",
      "Analyze Feature Service....\n",
      "Publishing Feature Service....\n",
      ".......call generate renderer within publish_csv\n",
      "Update Feature Service Symbology\n",
      "Moving CSV to Open Data Folder\n",
      "Updating Feature Service metadata....\n",
      "Moving Feature Service to Open Data Folder\n"
     ]
    },
    {
     "data": {
      "text/plain": [
       "{'notSharedWith': [], 'itemId': 'f1564769e9f7440da5923dac2ae77e79'}"
      ]
     },
     "execution_count": 70,
     "metadata": {},
     "output_type": "execute_result"
    },
    {
     "name": "stdout",
     "output_type": "stream",
     "text": [
      "{'results': [{'itemId': 'f1564769e9f7440da5923dac2ae77e79', 'success': True}]}\n",
      "\n",
      "Processing series code: 17.2.1 DC_ODA_LDCS\n"
     ]
    },
    {
     "data": {
      "text/plain": [
       "'../../data/unsd/2019.Q3.G.01/csv_Indicator_17.2.1_Series_DC_ODA_LDCS.csv'"
      ]
     },
     "metadata": {},
     "output_type": "display_data"
    },
    {
     "name": "stdout",
     "output_type": "stream",
     "text": [
      "Searching for DC_ODA_LDCS_17_2_1_2019Q3G01\n",
      " -- Item DC_ODA_LDCS_17_2_1_2019Q3G01 not found (force find)\n",
      "Adding CSV File to ArcGIS Online....\n",
      "Analyze Feature Service....\n",
      "Publishing Feature Service....\n",
      ".......call generate renderer within publish_csv\n",
      "Update Feature Service Symbology\n",
      "Moving CSV to Open Data Folder\n",
      "Updating Feature Service metadata....\n",
      "Moving Feature Service to Open Data Folder\n"
     ]
    },
    {
     "data": {
      "text/plain": [
       "{'notSharedWith': [], 'itemId': 'a25586af555344bfa3f2a9c564bcd6b2'}"
      ]
     },
     "execution_count": 70,
     "metadata": {},
     "output_type": "execute_result"
    },
    {
     "name": "stdout",
     "output_type": "stream",
     "text": [
      "{'results': [{'itemId': 'a25586af555344bfa3f2a9c564bcd6b2', 'success': True}]}\n",
      "\n",
      "Processing series code: 17.2.1 DC_ODA_LLDCG\n"
     ]
    },
    {
     "data": {
      "text/plain": [
       "'../../data/unsd/2019.Q3.G.01/csv_Indicator_17.2.1_Series_DC_ODA_LLDCG.csv'"
      ]
     },
     "metadata": {},
     "output_type": "display_data"
    },
    {
     "name": "stdout",
     "output_type": "stream",
     "text": [
      "Searching for DC_ODA_LLDCG_17_2_1_2019Q3G01\n",
      " -- Item DC_ODA_LLDCG_17_2_1_2019Q3G01 not found (force find)\n",
      "Adding CSV File to ArcGIS Online....\n",
      "Analyze Feature Service....\n",
      "Publishing Feature Service....\n",
      ".......call generate renderer within publish_csv\n",
      "Update Feature Service Symbology\n",
      "Moving CSV to Open Data Folder\n",
      "Updating Feature Service metadata....\n",
      "Moving Feature Service to Open Data Folder\n"
     ]
    },
    {
     "data": {
      "text/plain": [
       "{'notSharedWith': [], 'itemId': '74b6c4b50b144991b4581b319e4051fc'}"
      ]
     },
     "execution_count": 70,
     "metadata": {},
     "output_type": "execute_result"
    },
    {
     "name": "stdout",
     "output_type": "stream",
     "text": [
      "{'results': [{'itemId': '74b6c4b50b144991b4581b319e4051fc', 'success': True}]}\n",
      "\n",
      "Processing series code: 17.2.1 DC_ODA_TOTG\n"
     ]
    },
    {
     "data": {
      "text/plain": [
       "'../../data/unsd/2019.Q3.G.01/csv_Indicator_17.2.1_Series_DC_ODA_TOTG.csv'"
      ]
     },
     "metadata": {},
     "output_type": "display_data"
    },
    {
     "name": "stdout",
     "output_type": "stream",
     "text": [
      "Searching for DC_ODA_TOTG_17_2_1_2019Q3G01\n",
      " -- Item DC_ODA_TOTG_17_2_1_2019Q3G01 not found (force find)\n",
      "Adding CSV File to ArcGIS Online....\n",
      "Analyze Feature Service....\n",
      "Publishing Feature Service....\n",
      ".......call generate renderer within publish_csv\n",
      "Update Feature Service Symbology\n",
      "Moving CSV to Open Data Folder\n",
      "Updating Feature Service metadata....\n",
      "Moving Feature Service to Open Data Folder\n"
     ]
    },
    {
     "data": {
      "text/plain": [
       "{'notSharedWith': [], 'itemId': 'c8e9853c5b0a42d3b688e8547c315ec9'}"
      ]
     },
     "execution_count": 70,
     "metadata": {},
     "output_type": "execute_result"
    },
    {
     "name": "stdout",
     "output_type": "stream",
     "text": [
      "{'results': [{'itemId': 'c8e9853c5b0a42d3b688e8547c315ec9', 'success': True}]}\n",
      "\n",
      "Processing series code: 17.2.1 DC_ODA_TOTL\n"
     ]
    },
    {
     "data": {
      "text/plain": [
       "'../../data/unsd/2019.Q3.G.01/csv_Indicator_17.2.1_Series_DC_ODA_TOTL.csv'"
      ]
     },
     "metadata": {},
     "output_type": "display_data"
    },
    {
     "name": "stdout",
     "output_type": "stream",
     "text": [
      "Searching for DC_ODA_TOTL_17_2_1_2019Q3G01\n",
      " -- Item DC_ODA_TOTL_17_2_1_2019Q3G01 not found (force find)\n",
      "Adding CSV File to ArcGIS Online....\n",
      "Analyze Feature Service....\n",
      "Publishing Feature Service....\n",
      ".......call generate renderer within publish_csv\n",
      "Update Feature Service Symbology\n",
      "Moving CSV to Open Data Folder\n",
      "Updating Feature Service metadata....\n",
      "Moving Feature Service to Open Data Folder\n"
     ]
    },
    {
     "data": {
      "text/plain": [
       "{'notSharedWith': [], 'itemId': '61417df6e6e84efc93359a2698193258'}"
      ]
     },
     "execution_count": 70,
     "metadata": {},
     "output_type": "execute_result"
    },
    {
     "name": "stdout",
     "output_type": "stream",
     "text": [
      "{'results': [{'itemId': '61417df6e6e84efc93359a2698193258', 'success': True}]}\n",
      "\n",
      "Processing series code: 17.2.1 DC_ODA_TOTLGE\n"
     ]
    },
    {
     "data": {
      "text/plain": [
       "'../../data/unsd/2019.Q3.G.01/csv_Indicator_17.2.1_Series_DC_ODA_TOTLGE.csv'"
      ]
     },
     "metadata": {},
     "output_type": "display_data"
    },
    {
     "name": "stdout",
     "output_type": "stream",
     "text": [
      "Searching for DC_ODA_TOTLGE_17_2_1_2019Q3G01\n",
      " -- Item DC_ODA_TOTLGE_17_2_1_2019Q3G01 not found (force find)\n",
      "Adding CSV File to ArcGIS Online....\n",
      "Analyze Feature Service....\n",
      "Publishing Feature Service....\n",
      ".......call generate renderer within publish_csv\n",
      "Update Feature Service Symbology\n",
      "Moving CSV to Open Data Folder\n",
      "Updating Feature Service metadata....\n",
      "Moving Feature Service to Open Data Folder\n"
     ]
    },
    {
     "data": {
      "text/plain": [
       "{'notSharedWith': [], 'itemId': '442f6139eaba4ffb9dc64c619fb8f613'}"
      ]
     },
     "execution_count": 70,
     "metadata": {},
     "output_type": "execute_result"
    },
    {
     "name": "stdout",
     "output_type": "stream",
     "text": [
      "{'results': [{'itemId': '442f6139eaba4ffb9dc64c619fb8f613', 'success': True}]}\n",
      "\n",
      "Processing series code: 17.2.1 DC_ODA_TOTGGE\n"
     ]
    },
    {
     "data": {
      "text/plain": [
       "'../../data/unsd/2019.Q3.G.01/csv_Indicator_17.2.1_Series_DC_ODA_TOTGGE.csv'"
      ]
     },
     "metadata": {},
     "output_type": "display_data"
    },
    {
     "name": "stdout",
     "output_type": "stream",
     "text": [
      "Searching for DC_ODA_TOTGGE_17_2_1_2019Q3G01\n",
      " -- Item DC_ODA_TOTGGE_17_2_1_2019Q3G01 not found (force find)\n",
      "Adding CSV File to ArcGIS Online....\n",
      "Analyze Feature Service....\n",
      "Publishing Feature Service....\n",
      ".......call generate renderer within publish_csv\n",
      "Update Feature Service Symbology\n",
      "Moving CSV to Open Data Folder\n",
      "Updating Feature Service metadata....\n",
      "Moving Feature Service to Open Data Folder\n"
     ]
    },
    {
     "data": {
      "text/plain": [
       "{'notSharedWith': [], 'itemId': '40dfd338cf8a42ceaf5a7ba0bf202a2f'}"
      ]
     },
     "execution_count": 70,
     "metadata": {},
     "output_type": "execute_result"
    },
    {
     "name": "stdout",
     "output_type": "stream",
     "text": [
      "{'results': [{'itemId': '40dfd338cf8a42ceaf5a7ba0bf202a2f', 'success': True}]}\n",
      "\n",
      "Processing series code: 17.3.2 BX_TRF_PWKR\n"
     ]
    },
    {
     "data": {
      "text/plain": [
       "'../../data/unsd/2019.Q3.G.01/csv_Indicator_17.3.2_Series_BX_TRF_PWKR.csv'"
      ]
     },
     "metadata": {},
     "output_type": "display_data"
    },
    {
     "name": "stdout",
     "output_type": "stream",
     "text": [
      "Searching for BX_TRF_PWKR_17_3_2_2019Q3G01\n",
      " -- Item BX_TRF_PWKR_17_3_2_2019Q3G01 not found (force find)\n",
      "Adding CSV File to ArcGIS Online....\n",
      "Analyze Feature Service....\n",
      "Publishing Feature Service....\n",
      ".......call generate renderer within publish_csv\n",
      "Update Feature Service Symbology\n",
      "Moving CSV to Open Data Folder\n",
      "Updating Feature Service metadata....\n",
      "Moving Feature Service to Open Data Folder\n"
     ]
    },
    {
     "data": {
      "text/plain": [
       "{'notSharedWith': [], 'itemId': 'cdf988a4822d4b36904bbe5d976dc6ef'}"
      ]
     },
     "execution_count": 70,
     "metadata": {},
     "output_type": "execute_result"
    },
    {
     "name": "stdout",
     "output_type": "stream",
     "text": [
      "{'results': [{'itemId': 'cdf988a4822d4b36904bbe5d976dc6ef', 'success': True}]}\n",
      "\n",
      "Processing series code: 17.4.1 DT_TDS_DECT\n"
     ]
    },
    {
     "data": {
      "text/plain": [
       "'../../data/unsd/2019.Q3.G.01/csv_Indicator_17.4.1_Series_DT_TDS_DECT.csv'"
      ]
     },
     "metadata": {},
     "output_type": "display_data"
    },
    {
     "name": "stdout",
     "output_type": "stream",
     "text": [
      "Searching for DT_TDS_DECT_17_4_1_2019Q3G01\n",
      " -- Item DT_TDS_DECT_17_4_1_2019Q3G01 not found (force find)\n",
      "Adding CSV File to ArcGIS Online....\n",
      "Analyze Feature Service....\n",
      "Publishing Feature Service....\n",
      ".......call generate renderer within publish_csv\n",
      "Update Feature Service Symbology\n",
      "Moving CSV to Open Data Folder\n",
      "Updating Feature Service metadata....\n",
      "Moving Feature Service to Open Data Folder\n"
     ]
    },
    {
     "data": {
      "text/plain": [
       "{'notSharedWith': [], 'itemId': 'd659d0e6338d41b8b93b3484476c0c05'}"
      ]
     },
     "execution_count": 70,
     "metadata": {},
     "output_type": "execute_result"
    },
    {
     "name": "stdout",
     "output_type": "stream",
     "text": [
      "{'results': [{'itemId': 'd659d0e6338d41b8b93b3484476c0c05', 'success': True}]}\n",
      "\n",
      "Processing series code: 17.6.2 IT_NET_BBN\n"
     ]
    },
    {
     "data": {
      "text/plain": [
       "'../../data/unsd/2019.Q3.G.01/csv_Indicator_17.6.2_Series_IT_NET_BBN.csv'"
      ]
     },
     "metadata": {},
     "output_type": "display_data"
    },
    {
     "name": "stdout",
     "output_type": "stream",
     "text": [
      "Searching for IT_NET_BBN_17_6_2_2019Q3G01\n",
      " -- Item IT_NET_BBN_17_6_2_2019Q3G01 not found (force find)\n",
      "Adding CSV File to ArcGIS Online....\n",
      "Analyze Feature Service....\n",
      "Publishing Feature Service....\n",
      ".......call generate renderer within publish_csv\n",
      "Update Feature Service Symbology\n",
      "Moving CSV to Open Data Folder\n",
      "Updating Feature Service metadata....\n",
      "Moving Feature Service to Open Data Folder\n"
     ]
    },
    {
     "data": {
      "text/plain": [
       "{'notSharedWith': [], 'itemId': '34f152ac6eb848d394bbc36130f3f59b'}"
      ]
     },
     "execution_count": 70,
     "metadata": {},
     "output_type": "execute_result"
    },
    {
     "name": "stdout",
     "output_type": "stream",
     "text": [
      "{'results': [{'itemId': '34f152ac6eb848d394bbc36130f3f59b', 'success': True}]}\n",
      "\n",
      "Processing series code: 17.6.2 IT_NET_BBP\n"
     ]
    },
    {
     "data": {
      "text/plain": [
       "'../../data/unsd/2019.Q3.G.01/csv_Indicator_17.6.2_Series_IT_NET_BBP.csv'"
      ]
     },
     "metadata": {},
     "output_type": "display_data"
    },
    {
     "name": "stdout",
     "output_type": "stream",
     "text": [
      "Searching for IT_NET_BBP_17_6_2_2019Q3G01\n",
      " -- Item IT_NET_BBP_17_6_2_2019Q3G01 not found (force find)\n",
      "Adding CSV File to ArcGIS Online....\n",
      "Analyze Feature Service....\n",
      "Publishing Feature Service....\n",
      ".......call generate renderer within publish_csv\n",
      "Update Feature Service Symbology\n",
      "Moving CSV to Open Data Folder\n",
      "Updating Feature Service metadata....\n",
      "Moving Feature Service to Open Data Folder\n"
     ]
    },
    {
     "data": {
      "text/plain": [
       "{'notSharedWith': [], 'itemId': '8dd58a13e089425698f1bb1a46e5007a'}"
      ]
     },
     "execution_count": 70,
     "metadata": {},
     "output_type": "execute_result"
    },
    {
     "name": "stdout",
     "output_type": "stream",
     "text": [
      "{'results': [{'itemId': '8dd58a13e089425698f1bb1a46e5007a', 'success': True}]}\n",
      "\n",
      "Processing series code: 17.8.1 IT_USE_ii99\n"
     ]
    },
    {
     "data": {
      "text/plain": [
       "'../../data/unsd/2019.Q3.G.01/csv_Indicator_17.8.1_Series_IT_USE_ii99.csv'"
      ]
     },
     "metadata": {},
     "output_type": "display_data"
    },
    {
     "name": "stdout",
     "output_type": "stream",
     "text": [
      "Searching for IT_USE_ii99_17_8_1_2019Q3G01\n",
      " -- Item IT_USE_ii99_17_8_1_2019Q3G01 not found (force find)\n",
      "Adding CSV File to ArcGIS Online....\n",
      "Analyze Feature Service....\n",
      "Publishing Feature Service....\n",
      ".......call generate renderer within publish_csv\n",
      "Update Feature Service Symbology\n",
      "Moving CSV to Open Data Folder\n",
      "Updating Feature Service metadata....\n",
      "Moving Feature Service to Open Data Folder\n"
     ]
    },
    {
     "data": {
      "text/plain": [
       "{'notSharedWith': [], 'itemId': '7f45db241f9041f7a14fc2b8d0a6819f'}"
      ]
     },
     "execution_count": 70,
     "metadata": {},
     "output_type": "execute_result"
    },
    {
     "name": "stdout",
     "output_type": "stream",
     "text": [
      "{'results': [{'itemId': '7f45db241f9041f7a14fc2b8d0a6819f', 'success': True}]}\n",
      "\n",
      "Processing series code: 17.9.1 DC_FTA_TOTAL\n"
     ]
    },
    {
     "data": {
      "text/plain": [
       "'../../data/unsd/2019.Q3.G.01/csv_Indicator_17.9.1_Series_DC_FTA_TOTAL.csv'"
      ]
     },
     "metadata": {},
     "output_type": "display_data"
    },
    {
     "name": "stdout",
     "output_type": "stream",
     "text": [
      "Searching for DC_FTA_TOTAL_17_9_1_2019Q3G01\n",
      " -- Item DC_FTA_TOTAL_17_9_1_2019Q3G01 not found (force find)\n",
      "Adding CSV File to ArcGIS Online....\n",
      "Analyze Feature Service....\n",
      "Publishing Feature Service....\n",
      ".......call generate renderer within publish_csv\n",
      "Update Feature Service Symbology\n",
      "Moving CSV to Open Data Folder\n",
      "Updating Feature Service metadata....\n",
      "Moving Feature Service to Open Data Folder\n"
     ]
    },
    {
     "data": {
      "text/plain": [
       "{'notSharedWith': [], 'itemId': 'c839cd998b184db8933da38ae2dc7dc0'}"
      ]
     },
     "execution_count": 70,
     "metadata": {},
     "output_type": "execute_result"
    },
    {
     "name": "stdout",
     "output_type": "stream",
     "text": [
      "{'results': [{'itemId': 'c839cd998b184db8933da38ae2dc7dc0', 'success': True}]}\n",
      "\n",
      "Processing series code: 17.10.1 TM_TAX_WWTAV\n"
     ]
    },
    {
     "data": {
      "text/plain": [
       "'../../data/unsd/2019.Q3.G.01/csv_Indicator_17.10.1_Series_TM_TAX_WWTAV.csv'"
      ]
     },
     "metadata": {},
     "output_type": "display_data"
    },
    {
     "name": "stdout",
     "output_type": "stream",
     "text": [
      "Searching for TM_TAX_WWTAV_17_10_1_2019Q3G01\n",
      " -- Item TM_TAX_WWTAV_17_10_1_2019Q3G01 not found (force find)\n",
      "Adding CSV File to ArcGIS Online....\n",
      "Analyze Feature Service....\n",
      "Publishing Feature Service....\n",
      ".......call generate renderer within publish_csv\n",
      "Update Feature Service Symbology\n",
      "Moving CSV to Open Data Folder\n",
      "Updating Feature Service metadata....\n",
      "Moving Feature Service to Open Data Folder\n"
     ]
    },
    {
     "data": {
      "text/plain": [
       "{'notSharedWith': [], 'itemId': '57c7af2e74634c02ad5f9af3de9f20a8'}"
      ]
     },
     "execution_count": 70,
     "metadata": {},
     "output_type": "execute_result"
    },
    {
     "name": "stdout",
     "output_type": "stream",
     "text": [
      "{'results': [{'itemId': '57c7af2e74634c02ad5f9af3de9f20a8', 'success': True}]}\n",
      "\n",
      "Processing series code: 17.11.1 TX_IMP_GBMRCH\n"
     ]
    },
    {
     "data": {
      "text/plain": [
       "'../../data/unsd/2019.Q3.G.01/csv_Indicator_17.11.1_Series_TX_IMP_GBMRCH.csv'"
      ]
     },
     "metadata": {},
     "output_type": "display_data"
    },
    {
     "name": "stdout",
     "output_type": "stream",
     "text": [
      "\n",
      "Processing series code: 17.11.1 TX_EXP_GBMRCH\n"
     ]
    },
    {
     "data": {
      "text/plain": [
       "'../../data/unsd/2019.Q3.G.01/csv_Indicator_17.11.1_Series_TX_EXP_GBMRCH.csv'"
      ]
     },
     "metadata": {},
     "output_type": "display_data"
    },
    {
     "name": "stdout",
     "output_type": "stream",
     "text": [
      "\n",
      "Processing series code: 17.11.1 TX_EXP_GBSVR\n"
     ]
    },
    {
     "data": {
      "text/plain": [
       "'../../data/unsd/2019.Q3.G.01/csv_Indicator_17.11.1_Series_TX_EXP_GBSVR.csv'"
      ]
     },
     "metadata": {},
     "output_type": "display_data"
    },
    {
     "name": "stdout",
     "output_type": "stream",
     "text": [
      "\n",
      "Processing series code: 17.11.1 TX_IMP_GBSVR\n"
     ]
    },
    {
     "data": {
      "text/plain": [
       "'../../data/unsd/2019.Q3.G.01/csv_Indicator_17.11.1_Series_TX_IMP_GBSVR.csv'"
      ]
     },
     "metadata": {},
     "output_type": "display_data"
    },
    {
     "name": "stdout",
     "output_type": "stream",
     "text": [
      "\n",
      "Processing series code: 17.12.1 TM_TAX_ATRFD\n"
     ]
    },
    {
     "data": {
      "text/plain": [
       "'../../data/unsd/2019.Q3.G.01/csv_Indicator_17.12.1_Series_TM_TAX_ATRFD.csv'"
      ]
     },
     "metadata": {},
     "output_type": "display_data"
    },
    {
     "name": "stdout",
     "output_type": "stream",
     "text": [
      "Searching for TM_TAX_ATRFD_17_12_1_2019Q3G01\n",
      " -- Item TM_TAX_ATRFD_17_12_1_2019Q3G01 not found (force find)\n",
      "Adding CSV File to ArcGIS Online....\n",
      "Analyze Feature Service....\n",
      "Publishing Feature Service....\n",
      ".......call generate renderer within publish_csv\n",
      "Update Feature Service Symbology\n",
      "Moving CSV to Open Data Folder\n",
      "Updating Feature Service metadata....\n",
      "Moving Feature Service to Open Data Folder\n"
     ]
    },
    {
     "data": {
      "text/plain": [
       "{'notSharedWith': [], 'itemId': 'b31949a64ef34a22aefd9b6c6c44230a'}"
      ]
     },
     "execution_count": 70,
     "metadata": {},
     "output_type": "execute_result"
    },
    {
     "name": "stdout",
     "output_type": "stream",
     "text": [
      "{'results': [{'itemId': 'b31949a64ef34a22aefd9b6c6c44230a', 'success': True}]}\n",
      "\n",
      "Processing series code: 17.15.1 SG_PLN_PRVRIMON\n"
     ]
    },
    {
     "data": {
      "text/plain": [
       "'../../data/unsd/2019.Q3.G.01/csv_Indicator_17.15.1_Series_SG_PLN_PRVRIMON.csv'"
      ]
     },
     "metadata": {},
     "output_type": "display_data"
    },
    {
     "name": "stdout",
     "output_type": "stream",
     "text": [
      "Searching for SG_PLN_PRVRIMON_17_15_1_2019Q3G01\n",
      " -- Item SG_PLN_PRVRIMON_17_15_1_2019Q3G01 not found (force find)\n",
      "Adding CSV File to ArcGIS Online....\n",
      "Analyze Feature Service....\n",
      "Publishing Feature Service....\n",
      ".......call generate renderer within publish_csv\n",
      "Update Feature Service Symbology\n",
      "Moving CSV to Open Data Folder\n",
      "Updating Feature Service metadata....\n",
      "Moving Feature Service to Open Data Folder\n"
     ]
    },
    {
     "data": {
      "text/plain": [
       "{'notSharedWith': [], 'itemId': 'cf42450f8302433aadefbfc7692bc191'}"
      ]
     },
     "execution_count": 70,
     "metadata": {},
     "output_type": "execute_result"
    },
    {
     "name": "stdout",
     "output_type": "stream",
     "text": [
      "{'results': [{'itemId': 'cf42450f8302433aadefbfc7692bc191', 'success': True}]}\n",
      "\n",
      "Processing series code: 17.15.1 SG_PLN_RECRIMON\n"
     ]
    },
    {
     "data": {
      "text/plain": [
       "'../../data/unsd/2019.Q3.G.01/csv_Indicator_17.15.1_Series_SG_PLN_RECRIMON.csv'"
      ]
     },
     "metadata": {},
     "output_type": "display_data"
    },
    {
     "name": "stdout",
     "output_type": "stream",
     "text": [
      "Searching for SG_PLN_RECRIMON_17_15_1_2019Q3G01\n",
      " -- Item SG_PLN_RECRIMON_17_15_1_2019Q3G01 not found (force find)\n",
      "Adding CSV File to ArcGIS Online....\n",
      "Analyze Feature Service....\n",
      "Publishing Feature Service....\n",
      ".......call generate renderer within publish_csv\n",
      "Update Feature Service Symbology\n",
      "Moving CSV to Open Data Folder\n",
      "Updating Feature Service metadata....\n",
      "Moving Feature Service to Open Data Folder\n"
     ]
    },
    {
     "data": {
      "text/plain": [
       "{'notSharedWith': [], 'itemId': 'c53ae9d6dbd249a38651f6d6712d75f5'}"
      ]
     },
     "execution_count": 70,
     "metadata": {},
     "output_type": "execute_result"
    },
    {
     "name": "stdout",
     "output_type": "stream",
     "text": [
      "{'results': [{'itemId': 'c53ae9d6dbd249a38651f6d6712d75f5', 'success': True}]}\n",
      "\n",
      "Processing series code: 17.15.1 SG_PLN_PRVNDI\n"
     ]
    },
    {
     "data": {
      "text/plain": [
       "'../../data/unsd/2019.Q3.G.01/csv_Indicator_17.15.1_Series_SG_PLN_PRVNDI.csv'"
      ]
     },
     "metadata": {},
     "output_type": "display_data"
    },
    {
     "name": "stdout",
     "output_type": "stream",
     "text": [
      "Searching for SG_PLN_PRVNDI_17_15_1_2019Q3G01\n",
      " -- Item SG_PLN_PRVNDI_17_15_1_2019Q3G01 not found (force find)\n",
      "Adding CSV File to ArcGIS Online....\n",
      "Analyze Feature Service....\n",
      "Publishing Feature Service....\n",
      ".......call generate renderer within publish_csv\n",
      "Update Feature Service Symbology\n",
      "Moving CSV to Open Data Folder\n",
      "Updating Feature Service metadata....\n",
      "Moving Feature Service to Open Data Folder\n"
     ]
    },
    {
     "data": {
      "text/plain": [
       "{'notSharedWith': [], 'itemId': '0fa2dddff8d841cfaa0c8cb95b5963f1'}"
      ]
     },
     "execution_count": 70,
     "metadata": {},
     "output_type": "execute_result"
    },
    {
     "name": "stdout",
     "output_type": "stream",
     "text": [
      "{'results': [{'itemId': '0fa2dddff8d841cfaa0c8cb95b5963f1', 'success': True}]}\n",
      "\n",
      "Processing series code: 17.15.1 SG_PLN_RECNDI\n"
     ]
    },
    {
     "data": {
      "text/plain": [
       "'../../data/unsd/2019.Q3.G.01/csv_Indicator_17.15.1_Series_SG_PLN_RECNDI.csv'"
      ]
     },
     "metadata": {},
     "output_type": "display_data"
    },
    {
     "name": "stdout",
     "output_type": "stream",
     "text": [
      "Searching for SG_PLN_RECNDI_17_15_1_2019Q3G01\n",
      " -- Item SG_PLN_RECNDI_17_15_1_2019Q3G01 not found (force find)\n",
      "Adding CSV File to ArcGIS Online....\n",
      "Analyze Feature Service....\n",
      "Publishing Feature Service....\n",
      ".......call generate renderer within publish_csv\n",
      "Update Feature Service Symbology\n",
      "Moving CSV to Open Data Folder\n",
      "Updating Feature Service metadata....\n",
      "Moving Feature Service to Open Data Folder\n"
     ]
    },
    {
     "data": {
      "text/plain": [
       "{'notSharedWith': [], 'itemId': '5b59d7f9c9154ae2b47510ddffbc7207'}"
      ]
     },
     "execution_count": 70,
     "metadata": {},
     "output_type": "execute_result"
    },
    {
     "name": "stdout",
     "output_type": "stream",
     "text": [
      "{'results': [{'itemId': '5b59d7f9c9154ae2b47510ddffbc7207', 'success': True}]}\n",
      "\n",
      "Processing series code: 17.15.1 SG_PLN_PRVRICTRY\n"
     ]
    },
    {
     "data": {
      "text/plain": [
       "'../../data/unsd/2019.Q3.G.01/csv_Indicator_17.15.1_Series_SG_PLN_PRVRICTRY.csv'"
      ]
     },
     "metadata": {},
     "output_type": "display_data"
    },
    {
     "name": "stdout",
     "output_type": "stream",
     "text": [
      "Searching for SG_PLN_PRVRICTRY_17_15_1_2019Q3G01\n",
      " -- Item SG_PLN_PRVRICTRY_17_15_1_2019Q3G01 not found (force find)\n",
      "Adding CSV File to ArcGIS Online....\n",
      "Analyze Feature Service....\n",
      "Publishing Feature Service....\n",
      ".......call generate renderer within publish_csv\n",
      "Update Feature Service Symbology\n",
      "Moving CSV to Open Data Folder\n",
      "Updating Feature Service metadata....\n",
      "Moving Feature Service to Open Data Folder\n"
     ]
    },
    {
     "data": {
      "text/plain": [
       "{'notSharedWith': [], 'itemId': '1171c273e3f446be86aba83ce86aa324'}"
      ]
     },
     "execution_count": 70,
     "metadata": {},
     "output_type": "execute_result"
    },
    {
     "name": "stdout",
     "output_type": "stream",
     "text": [
      "{'results': [{'itemId': '1171c273e3f446be86aba83ce86aa324', 'success': True}]}\n",
      "\n",
      "Processing series code: 17.15.1 SG_PLN_RECRICTRY\n"
     ]
    },
    {
     "data": {
      "text/plain": [
       "'../../data/unsd/2019.Q3.G.01/csv_Indicator_17.15.1_Series_SG_PLN_RECRICTRY.csv'"
      ]
     },
     "metadata": {},
     "output_type": "display_data"
    },
    {
     "name": "stdout",
     "output_type": "stream",
     "text": [
      "Searching for SG_PLN_RECRICTRY_17_15_1_2019Q3G01\n",
      " -- Item SG_PLN_RECRICTRY_17_15_1_2019Q3G01 not found (force find)\n",
      "Adding CSV File to ArcGIS Online....\n",
      "Analyze Feature Service....\n",
      "Publishing Feature Service....\n",
      ".......call generate renderer within publish_csv\n",
      "Update Feature Service Symbology\n",
      "Moving CSV to Open Data Folder\n",
      "Updating Feature Service metadata....\n",
      "Moving Feature Service to Open Data Folder\n"
     ]
    },
    {
     "data": {
      "text/plain": [
       "{'notSharedWith': [], 'itemId': '351e029a4cb44400a40199ebf2a9e021'}"
      ]
     },
     "execution_count": 70,
     "metadata": {},
     "output_type": "execute_result"
    },
    {
     "name": "stdout",
     "output_type": "stream",
     "text": [
      "{'results': [{'itemId': '351e029a4cb44400a40199ebf2a9e021', 'success': True}]}\n",
      "\n",
      "Processing series code: 17.15.1 SG_PLN_REPOLRES\n"
     ]
    },
    {
     "data": {
      "text/plain": [
       "'../../data/unsd/2019.Q3.G.01/csv_Indicator_17.15.1_Series_SG_PLN_REPOLRES.csv'"
      ]
     },
     "metadata": {},
     "output_type": "display_data"
    },
    {
     "name": "stdout",
     "output_type": "stream",
     "text": [
      "Searching for SG_PLN_REPOLRES_17_15_1_2019Q3G01\n",
      " -- Item SG_PLN_REPOLRES_17_15_1_2019Q3G01 not found (force find)\n",
      "Adding CSV File to ArcGIS Online....\n",
      "Analyze Feature Service....\n",
      "Publishing Feature Service....\n",
      ".......call generate renderer within publish_csv\n",
      "Update Feature Service Symbology\n",
      "Moving CSV to Open Data Folder\n",
      "Updating Feature Service metadata....\n",
      "Moving Feature Service to Open Data Folder\n"
     ]
    },
    {
     "data": {
      "text/plain": [
       "{'notSharedWith': [], 'itemId': '60333435797d4014a41aa034b17fdc3b'}"
      ]
     },
     "execution_count": 70,
     "metadata": {},
     "output_type": "execute_result"
    },
    {
     "name": "stdout",
     "output_type": "stream",
     "text": [
      "{'results': [{'itemId': '60333435797d4014a41aa034b17fdc3b', 'success': True}]}\n",
      "\n",
      "Processing series code: 17.15.1 SG_PLN_PRPOLRES\n"
     ]
    },
    {
     "data": {
      "text/plain": [
       "'../../data/unsd/2019.Q3.G.01/csv_Indicator_17.15.1_Series_SG_PLN_PRPOLRES.csv'"
      ]
     },
     "metadata": {},
     "output_type": "display_data"
    },
    {
     "name": "stdout",
     "output_type": "stream",
     "text": [
      "Searching for SG_PLN_PRPOLRES_17_15_1_2019Q3G01\n",
      " -- Item SG_PLN_PRPOLRES_17_15_1_2019Q3G01 not found (force find)\n",
      "Adding CSV File to ArcGIS Online....\n",
      "Analyze Feature Service....\n",
      "Publishing Feature Service....\n",
      ".......call generate renderer within publish_csv\n",
      "Update Feature Service Symbology\n",
      "Moving CSV to Open Data Folder\n",
      "Updating Feature Service metadata....\n",
      "Moving Feature Service to Open Data Folder\n"
     ]
    },
    {
     "data": {
      "text/plain": [
       "{'notSharedWith': [], 'itemId': '1fb363a491c84654a2ce87d3f9d454d4'}"
      ]
     },
     "execution_count": 70,
     "metadata": {},
     "output_type": "execute_result"
    },
    {
     "name": "stdout",
     "output_type": "stream",
     "text": [
      "{'results': [{'itemId': '1fb363a491c84654a2ce87d3f9d454d4', 'success': True}]}\n",
      "\n",
      "Processing series code: 17.16.1 SG_PLN_MSTKSDG\n"
     ]
    },
    {
     "data": {
      "text/plain": [
       "'../../data/unsd/2019.Q3.G.01/csv_Indicator_17.16.1_Series_SG_PLN_MSTKSDG.csv'"
      ]
     },
     "metadata": {},
     "output_type": "display_data"
    },
    {
     "name": "stdout",
     "output_type": "stream",
     "text": [
      "Searching for SG_PLN_MSTKSDG_17_16_1_2019Q3G01\n",
      " -- Item SG_PLN_MSTKSDG_17_16_1_2019Q3G01 not found (force find)\n",
      "Adding CSV File to ArcGIS Online....\n",
      "Analyze Feature Service....\n",
      "Publishing Feature Service....\n",
      ".......call generate renderer within publish_csv\n",
      "Update Feature Service Symbology\n",
      "Moving CSV to Open Data Folder\n",
      "Updating Feature Service metadata....\n",
      "Moving Feature Service to Open Data Folder\n"
     ]
    },
    {
     "data": {
      "text/plain": [
       "{'notSharedWith': [], 'itemId': 'c053b489951e438ca5a69e00db19781b'}"
      ]
     },
     "execution_count": 70,
     "metadata": {},
     "output_type": "execute_result"
    },
    {
     "name": "stdout",
     "output_type": "stream",
     "text": [
      "{'results': [{'itemId': 'c053b489951e438ca5a69e00db19781b', 'success': True}]}\n",
      "\n",
      "Processing series code: 17.18.2 SG_STT_FPOS\n"
     ]
    },
    {
     "data": {
      "text/plain": [
       "'../../data/unsd/2019.Q3.G.01/csv_Indicator_17.18.2_Series_SG_STT_FPOS.csv'"
      ]
     },
     "metadata": {},
     "output_type": "display_data"
    },
    {
     "name": "stdout",
     "output_type": "stream",
     "text": [
      "Searching for SG_STT_FPOS_17_18_2_2019Q3G01\n",
      " -- Item SG_STT_FPOS_17_18_2_2019Q3G01 not found (force find)\n",
      "Adding CSV File to ArcGIS Online....\n",
      "Analyze Feature Service....\n",
      "Publishing Feature Service....\n",
      ".......call generate renderer within publish_csv\n",
      "Update Feature Service Symbology\n",
      "Moving CSV to Open Data Folder\n",
      "Updating Feature Service metadata....\n",
      "Moving Feature Service to Open Data Folder\n"
     ]
    },
    {
     "data": {
      "text/plain": [
       "{'notSharedWith': [], 'itemId': '6052a5176ee945598cdcf34b16afd553'}"
      ]
     },
     "execution_count": 70,
     "metadata": {},
     "output_type": "execute_result"
    },
    {
     "name": "stdout",
     "output_type": "stream",
     "text": [
      "{'results': [{'itemId': '6052a5176ee945598cdcf34b16afd553', 'success': True}]}\n",
      "\n",
      "Processing series code: 17.18.3 SG_STT_NSDSFDGVT\n"
     ]
    },
    {
     "data": {
      "text/plain": [
       "'../../data/unsd/2019.Q3.G.01/csv_Indicator_17.18.3_Series_SG_STT_NSDSFDGVT.csv'"
      ]
     },
     "metadata": {},
     "output_type": "display_data"
    },
    {
     "name": "stdout",
     "output_type": "stream",
     "text": [
      "Searching for SG_STT_NSDSFDGVT_17_18_3_2019Q3G01\n",
      " -- Item SG_STT_NSDSFDGVT_17_18_3_2019Q3G01 not found (force find)\n",
      "Adding CSV File to ArcGIS Online....\n",
      "Analyze Feature Service....\n",
      "Publishing Feature Service....\n",
      ".......call generate renderer within publish_csv\n",
      "Update Feature Service Symbology\n",
      "Moving CSV to Open Data Folder\n",
      "Updating Feature Service metadata....\n",
      "Moving Feature Service to Open Data Folder\n"
     ]
    },
    {
     "data": {
      "text/plain": [
       "{'notSharedWith': [], 'itemId': '0a17b3b6214b483ebf5d14040eaedb5c'}"
      ]
     },
     "execution_count": 70,
     "metadata": {},
     "output_type": "execute_result"
    },
    {
     "name": "stdout",
     "output_type": "stream",
     "text": [
      "{'results': [{'itemId': '0a17b3b6214b483ebf5d14040eaedb5c', 'success': True}]}\n",
      "\n",
      "Processing series code: 17.18.3 SG_STT_NSDSFDDNR\n"
     ]
    },
    {
     "data": {
      "text/plain": [
       "'../../data/unsd/2019.Q3.G.01/csv_Indicator_17.18.3_Series_SG_STT_NSDSFDDNR.csv'"
      ]
     },
     "metadata": {},
     "output_type": "display_data"
    },
    {
     "name": "stdout",
     "output_type": "stream",
     "text": [
      "Searching for SG_STT_NSDSFDDNR_17_18_3_2019Q3G01\n",
      " -- Item SG_STT_NSDSFDDNR_17_18_3_2019Q3G01 not found (force find)\n",
      "Adding CSV File to ArcGIS Online....\n",
      "Analyze Feature Service....\n",
      "Publishing Feature Service....\n",
      ".......call generate renderer within publish_csv\n",
      "Update Feature Service Symbology\n",
      "Moving CSV to Open Data Folder\n",
      "Updating Feature Service metadata....\n",
      "Moving Feature Service to Open Data Folder\n"
     ]
    },
    {
     "data": {
      "text/plain": [
       "{'notSharedWith': [], 'itemId': 'ff493dd686eb4bc3978d76485fee7ad7'}"
      ]
     },
     "execution_count": 70,
     "metadata": {},
     "output_type": "execute_result"
    },
    {
     "name": "stdout",
     "output_type": "stream",
     "text": [
      "{'results': [{'itemId': 'ff493dd686eb4bc3978d76485fee7ad7', 'success': True}]}\n",
      "\n",
      "Processing series code: 17.18.3 SG_STT_NSDSFDOTHR\n"
     ]
    },
    {
     "data": {
      "text/plain": [
       "'../../data/unsd/2019.Q3.G.01/csv_Indicator_17.18.3_Series_SG_STT_NSDSFDOTHR.csv'"
      ]
     },
     "metadata": {},
     "output_type": "display_data"
    },
    {
     "name": "stdout",
     "output_type": "stream",
     "text": [
      "Searching for SG_STT_NSDSFDOTHR_17_18_3_2019Q3G01\n",
      " -- Item SG_STT_NSDSFDOTHR_17_18_3_2019Q3G01 not found (force find)\n",
      "Adding CSV File to ArcGIS Online....\n",
      "Analyze Feature Service....\n",
      "Publishing Feature Service....\n",
      ".......call generate renderer within publish_csv\n",
      "Update Feature Service Symbology\n",
      "Moving CSV to Open Data Folder\n",
      "Updating Feature Service metadata....\n",
      "Moving Feature Service to Open Data Folder\n"
     ]
    },
    {
     "data": {
      "text/plain": [
       "{'notSharedWith': [], 'itemId': 'f6420b49000948f7b715d50f9df9139b'}"
      ]
     },
     "execution_count": 70,
     "metadata": {},
     "output_type": "execute_result"
    },
    {
     "name": "stdout",
     "output_type": "stream",
     "text": [
      "{'results': [{'itemId': 'f6420b49000948f7b715d50f9df9139b', 'success': True}]}\n",
      "\n",
      "Processing series code: 17.18.3 SG_STT_NSDSIMPL\n"
     ]
    },
    {
     "data": {
      "text/plain": [
       "'../../data/unsd/2019.Q3.G.01/csv_Indicator_17.18.3_Series_SG_STT_NSDSIMPL.csv'"
      ]
     },
     "metadata": {},
     "output_type": "display_data"
    },
    {
     "name": "stdout",
     "output_type": "stream",
     "text": [
      "Searching for SG_STT_NSDSIMPL_17_18_3_2019Q3G01\n",
      " -- Item SG_STT_NSDSIMPL_17_18_3_2019Q3G01 not found (force find)\n",
      "Adding CSV File to ArcGIS Online....\n",
      "Analyze Feature Service....\n",
      "Publishing Feature Service....\n",
      ".......call generate renderer within publish_csv\n",
      "Update Feature Service Symbology\n",
      "Moving CSV to Open Data Folder\n",
      "Updating Feature Service metadata....\n",
      "Moving Feature Service to Open Data Folder\n"
     ]
    },
    {
     "data": {
      "text/plain": [
       "{'notSharedWith': [], 'itemId': '8ff074ccc30b4d7fad5fb7a357cee4df'}"
      ]
     },
     "execution_count": 70,
     "metadata": {},
     "output_type": "execute_result"
    },
    {
     "name": "stdout",
     "output_type": "stream",
     "text": [
      "{'results': [{'itemId': '8ff074ccc30b4d7fad5fb7a357cee4df', 'success': True}]}\n",
      "\n",
      "Processing series code: 17.18.3 SG_STT_NSDSFND\n"
     ]
    },
    {
     "data": {
      "text/plain": [
       "'../../data/unsd/2019.Q3.G.01/csv_Indicator_17.18.3_Series_SG_STT_NSDSFND.csv'"
      ]
     },
     "metadata": {},
     "output_type": "display_data"
    },
    {
     "name": "stdout",
     "output_type": "stream",
     "text": [
      "Searching for SG_STT_NSDSFND_17_18_3_2019Q3G01\n",
      " -- Item SG_STT_NSDSFND_17_18_3_2019Q3G01 not found (force find)\n",
      "Adding CSV File to ArcGIS Online....\n",
      "Analyze Feature Service....\n",
      "Publishing Feature Service....\n",
      ".......call generate renderer within publish_csv\n",
      "Update Feature Service Symbology\n",
      "Moving CSV to Open Data Folder\n",
      "Updating Feature Service metadata....\n",
      "Moving Feature Service to Open Data Folder\n"
     ]
    },
    {
     "data": {
      "text/plain": [
       "{'notSharedWith': [], 'itemId': 'f329c6a5901c487098ff288a8326f042'}"
      ]
     },
     "execution_count": 70,
     "metadata": {},
     "output_type": "execute_result"
    },
    {
     "name": "stdout",
     "output_type": "stream",
     "text": [
      "{'results': [{'itemId': 'f329c6a5901c487098ff288a8326f042', 'success': True}]}\n",
      "\n",
      "Processing series code: 17.19.1 SG_STT_CAPTY\n"
     ]
    },
    {
     "data": {
      "text/plain": [
       "'../../data/unsd/2019.Q3.G.01/csv_Indicator_17.19.1_Series_SG_STT_CAPTY.csv'"
      ]
     },
     "metadata": {},
     "output_type": "display_data"
    },
    {
     "name": "stdout",
     "output_type": "stream",
     "text": [
      "Searching for SG_STT_CAPTY_17_19_1_2019Q3G01\n",
      " -- Item SG_STT_CAPTY_17_19_1_2019Q3G01 not found (force find)\n",
      "Adding CSV File to ArcGIS Online....\n",
      "Analyze Feature Service....\n",
      "Publishing Feature Service....\n",
      ".......call generate renderer within publish_csv\n",
      "Update Feature Service Symbology\n",
      "Moving CSV to Open Data Folder\n",
      "Updating Feature Service metadata....\n",
      "Moving Feature Service to Open Data Folder\n"
     ]
    },
    {
     "data": {
      "text/plain": [
       "{'notSharedWith': [], 'itemId': 'd7c1427a082043838ce66b2424af9cf9'}"
      ]
     },
     "execution_count": 70,
     "metadata": {},
     "output_type": "execute_result"
    },
    {
     "name": "stdout",
     "output_type": "stream",
     "text": [
      "{'results': [{'itemId': 'd7c1427a082043838ce66b2424af9cf9', 'success': True}]}\n",
      "\n",
      "Processing series code: 17.19.2 SG_REG_BRTH90\n"
     ]
    },
    {
     "data": {
      "text/plain": [
       "'../../data/unsd/2019.Q3.G.01/csv_Indicator_17.19.2_Series_SG_REG_BRTH90.csv'"
      ]
     },
     "metadata": {},
     "output_type": "display_data"
    },
    {
     "name": "stdout",
     "output_type": "stream",
     "text": [
      "\n",
      "Processing series code: 17.19.2 SG_REG_DETH75\n"
     ]
    },
    {
     "data": {
      "text/plain": [
       "'../../data/unsd/2019.Q3.G.01/csv_Indicator_17.19.2_Series_SG_REG_DETH75.csv'"
      ]
     },
     "metadata": {},
     "output_type": "display_data"
    },
    {
     "name": "stdout",
     "output_type": "stream",
     "text": [
      "\n",
      "Processing series code: 17.19.2 SG_REG_CENSUS\n"
     ]
    },
    {
     "data": {
      "text/plain": [
       "'../../data/unsd/2019.Q3.G.01/csv_Indicator_17.19.2_Series_SG_REG_CENSUS.csv'"
      ]
     },
     "metadata": {},
     "output_type": "display_data"
    },
    {
     "name": "stdout",
     "output_type": "stream",
     "text": [
      "\n",
      "Processing series code: 17.19.2 SG_REG_CENSUSN\n"
     ]
    },
    {
     "data": {
      "text/plain": [
       "'../../data/unsd/2019.Q3.G.01/csv_Indicator_17.19.2_Series_SG_REG_CENSUSN.csv'"
      ]
     },
     "metadata": {},
     "output_type": "display_data"
    },
    {
     "name": "stdout",
     "output_type": "stream",
     "text": [
      "Searching for SG_REG_CENSUSN_17_19_2_2019Q3G01\n",
      " -- Item SG_REG_CENSUSN_17_19_2_2019Q3G01 not found (force find)\n",
      "Adding CSV File to ArcGIS Online....\n",
      "Analyze Feature Service....\n",
      "Publishing Feature Service....\n",
      ".......call generate renderer within publish_csv\n",
      "Update Feature Service Symbology\n",
      "Moving CSV to Open Data Folder\n",
      "Updating Feature Service metadata....\n",
      "Moving Feature Service to Open Data Folder\n"
     ]
    },
    {
     "data": {
      "text/plain": [
       "{'notSharedWith': [], 'itemId': 'f796bf74cf494e4e8b86d0c4c8ed4100'}"
      ]
     },
     "execution_count": 70,
     "metadata": {},
     "output_type": "execute_result"
    },
    {
     "name": "stdout",
     "output_type": "stream",
     "text": [
      "{'results': [{'itemId': 'f796bf74cf494e4e8b86d0c4c8ed4100', 'success': True}]}\n",
      "\n",
      "Processing series code: 17.19.2 SG_REG_BRTH90N\n"
     ]
    },
    {
     "data": {
      "text/plain": [
       "'../../data/unsd/2019.Q3.G.01/csv_Indicator_17.19.2_Series_SG_REG_BRTH90N.csv'"
      ]
     },
     "metadata": {},
     "output_type": "display_data"
    },
    {
     "name": "stdout",
     "output_type": "stream",
     "text": [
      "Searching for SG_REG_BRTH90N_17_19_2_2019Q3G01\n",
      " -- Item SG_REG_BRTH90N_17_19_2_2019Q3G01 not found (force find)\n",
      "Adding CSV File to ArcGIS Online....\n",
      "Analyze Feature Service....\n",
      "Publishing Feature Service....\n",
      ".......call generate renderer within publish_csv\n",
      "Update Feature Service Symbology\n",
      "Moving CSV to Open Data Folder\n",
      "Updating Feature Service metadata....\n",
      "Moving Feature Service to Open Data Folder\n"
     ]
    },
    {
     "data": {
      "text/plain": [
       "{'notSharedWith': [], 'itemId': 'ed1c4084b8ea4a41bec69fd6197cd826'}"
      ]
     },
     "execution_count": 70,
     "metadata": {},
     "output_type": "execute_result"
    },
    {
     "name": "stdout",
     "output_type": "stream",
     "text": [
      "{'results': [{'itemId': 'ed1c4084b8ea4a41bec69fd6197cd826', 'success': True}]}\n",
      "\n",
      "Processing series code: 17.19.2 SG_REG_DETH75N\n"
     ]
    },
    {
     "data": {
      "text/plain": [
       "'../../data/unsd/2019.Q3.G.01/csv_Indicator_17.19.2_Series_SG_REG_DETH75N.csv'"
      ]
     },
     "metadata": {},
     "output_type": "display_data"
    },
    {
     "name": "stdout",
     "output_type": "stream",
     "text": [
      "Searching for SG_REG_DETH75N_17_19_2_2019Q3G01\n",
      " -- Item SG_REG_DETH75N_17_19_2_2019Q3G01 not found (force find)\n",
      "Adding CSV File to ArcGIS Online....\n",
      "Analyze Feature Service....\n",
      "Publishing Feature Service....\n",
      ".......call generate renderer within publish_csv\n",
      "Update Feature Service Symbology\n",
      "Moving CSV to Open Data Folder\n",
      "Updating Feature Service metadata....\n",
      "Moving Feature Service to Open Data Folder\n"
     ]
    },
    {
     "data": {
      "text/plain": [
       "{'notSharedWith': [], 'itemId': 'f15e246ff2c648b3b54e4beb04d82c2f'}"
      ]
     },
     "execution_count": 70,
     "metadata": {},
     "output_type": "execute_result"
    },
    {
     "name": "stdout",
     "output_type": "stream",
     "text": [
      "{'results': [{'itemId': 'f15e246ff2c648b3b54e4beb04d82c2f', 'success': True}]}\n"
     ]
    }
   ],
   "source": [
    "sdgTree = series_metadata.copy()  # Produces a shallow copy of series_metadata\n",
    "\n",
    "for g in sdgTree:\n",
    "    \n",
    "    if g['code'] not in [ '15', '16', '17']:\n",
    "        continue\n",
    "        \n",
    "    for t in g['targets']:\n",
    "        #if t['code'] not in ['10.a']:\n",
    "        #    continue\n",
    "        \n",
    "        for i in t['indicators']:\n",
    "            #if i['reference'] != '13.1.3':\n",
    "            #    continue\n",
    "           \n",
    "            if 'series' in i.keys():\n",
    "                for s in i['series']:\n",
    "\n",
    "                    #if s['code'] != 'SG_CPA_MIGR':\n",
    "                    #    continue\n",
    "\n",
    "                    print('\\nProcessing series code:', i['reference'], s['code'])\n",
    "                    \n",
    "                    this_g = {k: g[k] for k in g.keys() if k not in ['targets']}\n",
    "                    #this_g\n",
    "                    #print('\\n')\n",
    "                    this_t = {k: t[k] for k in t.keys() if k not in ['indicators']}\n",
    "                    #this_t\n",
    "                    #print('\\n')\n",
    "                    this_i = {k: i[k] for k in i.keys() if k not in ['series']}\n",
    "                    #this_i\n",
    "                    #print('\\n')\n",
    "                    #s\n",
    "                    \n",
    "                    s_card = build_series_card(this_g,this_t,this_i,s)\n",
    "                    \n",
    "                    #s_card\n",
    "                    \n",
    "                    #if property_update_only:\n",
    "                    #    online_item = find_online_item(s_card['title'], \n",
    "                    #                                   online_username, \n",
    "                    #                                   gis_online_connection)\n",
    "                    #\n",
    "                    #\n",
    "                    #   if online_item is None:\n",
    "                    #       failed_series.append(s['code'])\n",
    "                    #   else:\n",
    "                    #       online_item.update(item_properties=s_card, \n",
    "                    #                          thumbnail=g['thumbnail'])\n",
    "                    #\n",
    "                    #       if(update_symbology):\n",
    "                    #           generate_renderer_infomation(feature_item=online_item,\n",
    "                    #                                        statistic_field = 'value_latest_year',\n",
    "                    #                                        layer_info = layer_info,\n",
    "                    #                                        color=g['rgb'])     \n",
    "                    #else:\n",
    "                    \n",
    "                    #this_g['thumbnail']\n",
    "                    #layer_info\n",
    "                    #this_g['rgb']\n",
    "\n",
    "                    online_item = publish_csv(this_g,\n",
    "                                              this_t,\n",
    "                                              this_i,\n",
    "                                              s, \n",
    "                                              item_properties=s_card,\n",
    "                                              thumbnail=this_g['thumbnail'],\n",
    "                                              layer_info = layer_info, \n",
    "                                              gis_online_connection= gis_online_connection,\n",
    "                                              data_dir = data_dir,\n",
    "                                              online_username = online_username,\n",
    "                                              statistic_field = 'value_latest_year',\n",
    "                                              property_update_only=False, \n",
    "                                              color=this_g['rgb'])\n",
    "\n",
    "                    \n",
    "\n",
    "                    #Only set the sharing when updating or publishing\n",
    "                    if online_item is not None:\n",
    "                        if update_sharing:\n",
    "                            # Share this content with the open data group\n",
    "                            online_item.share(everyone=False, \n",
    "                                              org=True, \n",
    "                                              groups=open_data_group[\"id\"],\n",
    "                                              allow_members_to_edit=False)\n",
    "\n",
    "                        #display(online_item)\n",
    "                        # Update the Group Information with Data from the Indicator and targets\n",
    "                        update_item_categories(online_item,\n",
    "                                               g[\"code\"], \n",
    "                                               t[\"code\"],\n",
    "                                               gis_online_connection)\n",
    "\n",
    "                        #open_data_group.update(tags=open_data_group[\"tags\"] + [series[\"code\"]])\n",
    "                    else:\n",
    "                        failed_series.append(s[\"code\"])\n",
    "\n",
    "\n",
    "        \n",
    "        \n"
   ]
  },
  {
   "cell_type": "code",
   "execution_count": null,
   "metadata": {},
   "outputs": [],
   "source": []
  },
  {
   "cell_type": "code",
   "execution_count": null,
   "metadata": {},
   "outputs": [],
   "source": []
  }
 ],
 "metadata": {
  "kernelspec": {
   "display_name": "Python 3",
   "language": "python",
   "name": "python3"
  },
  "language_info": {
   "codemirror_mode": {
    "name": "ipython",
    "version": 3
   },
   "file_extension": ".py",
   "mimetype": "text/x-python",
   "name": "python",
   "nbconvert_exporter": "python",
   "pygments_lexer": "ipython3",
   "version": "3.6.8"
  }
 },
 "nbformat": 4,
 "nbformat_minor": 2
}
