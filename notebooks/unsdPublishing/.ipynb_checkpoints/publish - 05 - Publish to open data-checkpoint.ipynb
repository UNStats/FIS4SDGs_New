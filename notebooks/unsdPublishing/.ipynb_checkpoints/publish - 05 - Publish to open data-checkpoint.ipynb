{
 "cells": [
  {
   "cell_type": "markdown",
   "metadata": {},
   "source": [
    "# Promote from staging to Open Data Site"
   ]
  },
  {
   "cell_type": "markdown",
   "metadata": {},
   "source": [
    "## 1 - Import python libraries"
   ]
  },
  {
   "cell_type": "code",
   "execution_count": 1,
   "metadata": {},
   "outputs": [],
   "source": [
    "import copy\n",
    "import getpass\n",
    "import json\n",
    "import os\n",
    "import re\n",
    "import sys\n",
    "import time\n",
    "import traceback\n",
    "import urllib\n",
    "import urllib.request as request\n",
    "import urllib.request as urlopen\n",
    "from datetime import datetime\n",
    "import requests\n",
    "from IPython.display import display\n",
    "from arcgis.gis import GIS\n",
    "from arcgis.features import FeatureLayerCollection"
   ]
  },
  {
   "cell_type": "markdown",
   "metadata": {},
   "source": [
    "## 1.2 - Set up the global information and variables"
   ]
  },
  {
   "cell_type": "code",
   "execution_count": 2,
   "metadata": {},
   "outputs": [],
   "source": [
    "global open_data_group\n",
    "global open_data_group_prod\n",
    "global online_username\n",
    "global online_username_admin\n",
    "global gis_online_connection"
   ]
  },
  {
   "cell_type": "markdown",
   "metadata": {},
   "source": [
    "## 1.3 - Open connection to ArcGIS Online Organization"
   ]
  },
  {
   "cell_type": "code",
   "execution_count": 3,
   "metadata": {},
   "outputs": [],
   "source": [
    "def connect_to_arcGIS():\n",
    "\n",
    "    \"\"\"Open connection to ArcGIS Online Organization\"\"\"\n",
    "        \n",
    "    online_username = input('Username: ')\n",
    "    online_password = getpass.getpass('Password: ')\n",
    "    online_connection = \"https://www.arcgis.com\"\n",
    "    gis_online_connection = GIS(online_connection, \n",
    "                                online_username, \n",
    "                                online_password)\n",
    "    \n",
    "    return online_username, gis_online_connection"
   ]
  },
  {
   "cell_type": "markdown",
   "metadata": {},
   "source": [
    "## 1.4 - IDs of staging and production ArcGIS Online Groups"
   ]
  },
  {
   "cell_type": "code",
   "execution_count": 4,
   "metadata": {},
   "outputs": [],
   "source": [
    " # open_data_group_id:  \n",
    "    #open_data_group_stage_id = '967dbf64d680450eaf424ac4a38799ad' #Travis\n",
    "    open_data_group_stage_id = 'ad013d2911184063a0f0c97d252daf32'  #Luis\n",
    "    open_data_group_prod_id = '15c1671f5fbc4a00b1a359d51ea6a546' # SDG Open Data\n",
    "    open_data_group_prod_id_01 = '66d8595b381440afb5e320a9265c3fe1' # UNSD_SDG01\n",
    "    open_data_group_prod_id_02 = '065896a584ca4ceb920fbdd3892bee05' # UNSD_SDG02\n",
    "    open_data_group_prod_id_03 = 'a5552356ddd04e6fb05905bf931e9e54' # UNSD_SDG03\n",
    "    open_data_group_prod_id_04 = 'c15ae34432ee46b49e3533668ae63d79' # UNSD_SDG04\n",
    "    open_data_group_prod_id_05 = '25e04240b93f498e96427bd633b98dbc' # UNSD_SDG05\n",
    "    open_data_group_prod_id_06 = 'e03793e08ed849be8e8b3abebf7ec983' # UNSD_SDG06\n",
    "    open_data_group_prod_id_07 = 'c7e2215476e14a1a84e6990934275048' # UNSD_SDG07\n",
    "    open_data_group_prod_id_08 = '1c8f53673a514f83bf932b1f8a1e9ec5' # UNSD_SDG08\n",
    "    open_data_group_prod_id_09 = '688e20ebffb74d43b40ffbf297e3cf72' # UNSD_SDG09\n",
    "    open_data_group_prod_id_10 = '2b3548cac5bf4cd2941d41751b45e992' # UNSD_SDG10\n",
    "    open_data_group_prod_id_11 = '2455ce9284e5452a855576aad64e5a75' # UNSD_SDG11\n",
    "    open_data_group_prod_id_12 = '713a738b9851495aba305483fba820ca' # UNSD_SDG12\n",
    "    open_data_group_prod_id_13 = 'a334f601cbce43e4b47b0de8aa1a5b38' # UNSD_SDG13\n",
    "    open_data_group_prod_id_14 = 'b3cc3fd1f58e46df8aaaa9616186f7c7' # UNSD_SDG14\n",
    "    open_data_group_prod_id_15 = '157221a102d3405eb15430aff5204ad8' # UNSD_SDG15\n",
    "    open_data_group_prod_id_16 = '4452219ecc1c4573a4384b6b05a9b5b5' # UNSD_SDG16\n",
    "    open_data_group_prod_id_17 = 'dd0676a1809b40309c1302e9ba64bd89' # UNSD_SDG17\n",
    "    "
   ]
  },
  {
   "cell_type": "markdown",
   "metadata": {},
   "source": [
    "# 2. Main publication block"
   ]
  },
  {
   "cell_type": "markdown",
   "metadata": {},
   "source": [
    "## 2.1 Connect to ArcGIS "
   ]
  },
  {
   "cell_type": "code",
   "execution_count": 5,
   "metadata": {},
   "outputs": [
    {
     "name": "stdin",
     "output_type": "stream",
     "text": [
      "Username:  gonzalezmorales_undesa\n",
      "Password:  ··········\n"
     ]
    }
   ],
   "source": [
    "online_username, gis_online_connection = connect_to_arcGIS()\n",
    "online_username_admin = 'unstats_admin'\n",
    "\n",
    "open_data_group = gis_online_connection.groups.get(open_data_group_stage_id)\n",
    "open_data_group_prod = gis_online_connection.groups.get(open_data_group_prod_id)\n",
    "\n",
    "open_data_group_prod_01 = gis_online_connection.groups.get(open_data_group_prod_id_01)\n",
    "open_data_group_prod_02 = gis_online_connection.groups.get(open_data_group_prod_id_02)\n",
    "open_data_group_prod_03 = gis_online_connection.groups.get(open_data_group_prod_id_03)\n",
    "open_data_group_prod_04 = gis_online_connection.groups.get(open_data_group_prod_id_04)\n",
    "open_data_group_prod_05 = gis_online_connection.groups.get(open_data_group_prod_id_05)\n",
    "open_data_group_prod_06 = gis_online_connection.groups.get(open_data_group_prod_id_06)\n",
    "open_data_group_prod_07 = gis_online_connection.groups.get(open_data_group_prod_id_07)\n",
    "open_data_group_prod_08 = gis_online_connection.groups.get(open_data_group_prod_id_08)\n",
    "open_data_group_prod_09 = gis_online_connection.groups.get(open_data_group_prod_id_09)\n",
    "open_data_group_prod_10 = gis_online_connection.groups.get(open_data_group_prod_id_10)\n",
    "open_data_group_prod_11 = gis_online_connection.groups.get(open_data_group_prod_id_11)\n",
    "open_data_group_prod_12 = gis_online_connection.groups.get(open_data_group_prod_id_12)\n",
    "open_data_group_prod_13 = gis_online_connection.groups.get(open_data_group_prod_id_13)\n",
    "open_data_group_prod_14 = gis_online_connection.groups.get(open_data_group_prod_id_14)\n",
    "open_data_group_prod_15 = gis_online_connection.groups.get(open_data_group_prod_id_15)\n",
    "open_data_group_prod_16 = gis_online_connection.groups.get(open_data_group_prod_id_16)\n",
    "open_data_group_prod_17 = gis_online_connection.groups.get(open_data_group_prod_id_17)"
   ]
  },
  {
   "cell_type": "code",
   "execution_count": 6,
   "metadata": {},
   "outputs": [
    {
     "name": "stdout",
     "output_type": "stream",
     "text": [
      "unstats_admin\n",
      "gonzalezmorales_undesa\n"
     ]
    }
   ],
   "source": [
    "print(online_username_admin)\n",
    "print(online_username)"
   ]
  },
  {
   "cell_type": "code",
   "execution_count": 7,
   "metadata": {},
   "outputs": [],
   "source": [
    "def promote_sdg(goal_code, \n",
    "                indicator_code=None, \n",
    "                target_code=None, \n",
    "                series_code=None,\n",
    "                property_update_only=False):\n",
    "    try:\n",
    "        ## Production Site Changes\n",
    "        #  Search all the Items in Production Open Data Group\n",
    "        user = gis_online_connection.users.get(online_username)\n",
    "        admin_user = gis_online_connection.users.get(online_username_admin)\n",
    "        if admin_user is None:\n",
    "            return\n",
    "\n",
    "        user_items = admin_user.items(folder='Open Data - SDG '+goal_code.zfill(2), max_items=800)\n",
    "        for item in user_items:\n",
    "            #  Move these items into Archive folder under the Admin User\n",
    "            print('Moving ' + item.title + ' to archive folder')\n",
    "            item.move(folder=\"Historic Data 2018Q2G01\", owner=online_username_admin)\n",
    "\n",
    "            #  Unshare the Items from Open Data Group (Production)\n",
    "            display('unsharing item ' + item.title + \" from the open data group\") \n",
    "            item.unshare(open_data_group_prod[\"id\"])\n",
    "            if goal_code == '1':\n",
    "                item.unshare(open_data_group_prod_01[\"id\"])\n",
    "            if goal_code == '2':\n",
    "                item.unshare(open_data_group_prod_02[\"id\"])\n",
    "            if goal_code == '3':\n",
    "                item.unshare(open_data_group_prod_03[\"id\"])\n",
    "            if goal_code == '4':\n",
    "                item.unshare(open_data_group_prod_04[\"id\"])\n",
    "            if goal_code == '5':\n",
    "                item.unshare(open_data_group_prod_05[\"id\"])\n",
    "            if goal_code == '6':\n",
    "                item.unshare(open_data_group_prod_06[\"id\"])\n",
    "            if goal_code == '7':\n",
    "                item.unshare(open_data_group_prod_07[\"id\"])\n",
    "            if goal_code == '8':\n",
    "                item.unshare(open_data_group_prod_08[\"id\"])\n",
    "            if goal_code == '9':\n",
    "                item.unshare(open_data_group_prod_09[\"id\"])\n",
    "            if goal_code == '10':\n",
    "                item.unshare(open_data_group_prod_10[\"id\"])\n",
    "            if goal_code == '11':\n",
    "                item.unshare(open_data_group_prod_11[\"id\"])\n",
    "            if goal_code == '12':\n",
    "                item.unshare(open_data_group_prod_12[\"id\"])\n",
    "            if goal_code == '13':\n",
    "                item.unshare(open_data_group_prod_13[\"id\"])\n",
    "            if goal_code == '14':\n",
    "                item.unshare(open_data_group_prod_14[\"id\"])\n",
    "            if goal_code == '15':\n",
    "                item.unshare(open_data_group_prod_15[\"id\"])\n",
    "            if goal_code == '16':\n",
    "                item.unshare(open_data_group_prod_16[\"id\"])\n",
    "            if goal_code == '17':\n",
    "                item.unshare(open_data_group_prod_17[\"id\"])\n",
    "\n",
    "            #  Update Tags (Remove Current add Historic)\n",
    "            item_properties = {}\n",
    "            item_properties[\"tags\"] = item.tags\n",
    "            if 'Current' in item_properties[\"tags\"]:\n",
    "                item_properties[\"tags\"] = item_properties[\"tags\"].remove('Current');\n",
    "\n",
    "            item_properties[\"tags\"].append('Historic');\n",
    "            item.update(item_properties=item_properties)\n",
    "\n",
    "            # Mark this item as depracated\n",
    "            set_content_status(update_item=item,authoratative=False)\n",
    "\n",
    "        ##   Staging Site Changes\n",
    "        #  Get all the Items in the Open Data Folder\n",
    "        user_items = user.items(folder='Open Data SDG' + goal_code.zfill(2), max_items=800)\n",
    "        for item in user_items:\n",
    "            #Move all the CSV Files to the Open Data Folder of the Admin User\n",
    "            # This will also move the Feature Service Layer!!!!\n",
    "            if item.type == 'CSV':\n",
    "                # Assign Item to the Admin User\n",
    "                display('reassigning item ' + item.title + ' from ' + online_username + ' to ' + online_username_admin)\n",
    "                item.reassign_to(online_username_admin, 'Open Data - SDG ' + goal_code.zfill(2) )\n",
    "                \n",
    "        # Update the Items in the Open Data Folder of the Admin User\n",
    "        user_items = admin_user.items(folder='Open Data - SDG ' + goal_code.zfill(2), max_items=800)\n",
    "        for item in user_items:\n",
    "            # Update Sharing to Public, Share with Open Data Group     \n",
    "            if item.type != 'CSV':\n",
    "                display('updating sharing for item ' + item.title)\n",
    "                if goal_code == '1':\n",
    "                    item.share(everyone=True, org=True, groups=open_data_group_prod_01[\"id\"], allow_members_to_edit=False)\n",
    "                if goal_code == '2':\n",
    "                    item.share(everyone=True, org=True, groups=open_data_group_prod_02[\"id\"], allow_members_to_edit=False)\n",
    "                if goal_code == '3':\n",
    "                    item.share(everyone=True, org=True, groups=open_data_group_prod_03[\"id\"], allow_members_to_edit=False)\n",
    "                if goal_code == '4':\n",
    "                    item.share(everyone=True, org=True, groups=open_data_group_prod_04[\"id\"], allow_members_to_edit=False)\n",
    "                if goal_code == '5':\n",
    "                    item.share(everyone=True, org=True, groups=open_data_group_prod_05[\"id\"], allow_members_to_edit=False)\n",
    "                if goal_code == '6':\n",
    "                    item.share(everyone=True, org=True, groups=open_data_group_prod_06[\"id\"], allow_members_to_edit=False)\n",
    "                if goal_code == '7':\n",
    "                    item.share(everyone=True, org=True, groups=open_data_group_prod_07[\"id\"], allow_members_to_edit=False)\n",
    "                if goal_code == '8':\n",
    "                    item.share(everyone=True, org=True, groups=open_data_group_prod_08[\"id\"], allow_members_to_edit=False)\n",
    "                if goal_code == '9':\n",
    "                    item.share(everyone=True, org=True, groups=open_data_group_prod_09[\"id\"], allow_members_to_edit=False)\n",
    "                if goal_code == '10':\n",
    "                    item.share(everyone=True, org=True, groups=open_data_group_prod_10[\"id\"], allow_members_to_edit=False)\n",
    "                if goal_code == '11':\n",
    "                    item.share(everyone=True, org=True, groups=open_data_group_prod_11[\"id\"], allow_members_to_edit=False)\n",
    "                if goal_code == '12':\n",
    "                    item.share(everyone=True, org=True, groups=open_data_group_prod_12[\"id\"], allow_members_to_edit=False)\n",
    "                if goal_code == '13':\n",
    "                    item.share(everyone=True, org=True, groups=open_data_group_prod_13[\"id\"], allow_members_to_edit=False)\n",
    "                if goal_code == '14':\n",
    "                    item.share(everyone=True, org=True, groups=open_data_group_prod_14[\"id\"], allow_members_to_edit=False)\n",
    "                if goal_code == '15':\n",
    "                    item.share(everyone=True, org=True, groups=open_data_group_prod_15[\"id\"], allow_members_to_edit=False)\n",
    "                if goal_code == '16':\n",
    "                    item.share(everyone=True, org=True, groups=open_data_group_prod_16[\"id\"], allow_members_to_edit=False)\n",
    "                if goal_code == '17':\n",
    "                    item.share(everyone=True, org=True, groups=open_data_group_prod_17[\"id\"], allow_members_to_edit=False)\n",
    "                \n",
    "                # Disable Editing on the Feature Service\n",
    "                display('disable editing for ' + item.title)\n",
    "                item_flc = FeatureLayerCollection.fromitem(item)\n",
    "                update_dict2 = {\"capabilities\": \"Query, Extract\"}\n",
    "                item_flc.manager.update_definition(update_dict2)\n",
    "\n",
    "            #  Unshare from Staging Group\n",
    "            display('unsharing item ' + item.title + \" from the staging group\") \n",
    "            item.unshare(open_data_group[\"id\"])\n",
    "\n",
    "            display('enabling delete protection for: ' + item.title)\n",
    "            item.protect(enable=True)\n",
    "\n",
    "            # Tag as Current\n",
    "            display('updating item properties for ' + item.title)\n",
    "            item_properties = dict()\n",
    "            item_properties[\"tags\"] = item.tags.append('Current')\n",
    "            item.update(item_properties=item_properties)\n",
    "\n",
    "            # Mark this item as authoratative\n",
    "            display('marking item ' + item.title + \" as authortative\")\n",
    "            set_content_status(update_item=item,authoratative=True)\n",
    "\n",
    "    except:\n",
    "        traceback.print_exc()\n",
    "    return\n"
   ]
  },
  {
   "cell_type": "code",
   "execution_count": 8,
   "metadata": {},
   "outputs": [],
   "source": [
    "def set_content_status(update_item, authoratative=True):\n",
    "    sharing_url = gis_online_connection._url + \"/sharing/rest/content/items/\" + update_item.id + \"/setContentStatus\"\n",
    "    sharing_params = {'f': 'json', 'token': gis_online_connection._con.token,\n",
    "                        'status': 'org_authoritative' if authoratative else 'deprecated',\n",
    "                        'clearEmptyFields': 'false'}\n",
    "    r = requests.post(sharing_url, data=sharing_params)\n",
    "    sharing_json_data = json.loads(r.content.decode(\"UTF-8\"))"
   ]
  },
  {
   "cell_type": "code",
   "execution_count": 10,
   "metadata": {},
   "outputs": [
    {
     "data": {
      "text/plain": [
       "'reassigning item SN_ITK_DEFC_2_1_1_2019Q2G01 from gonzalezmorales_undesa to unstats_admin'"
      ]
     },
     "metadata": {},
     "output_type": "display_data"
    },
    {
     "data": {
      "text/plain": [
       "'reassigning item SN_ITK_DEFCN_2_1_1_2019Q2G01 from gonzalezmorales_undesa to unstats_admin'"
      ]
     },
     "metadata": {},
     "output_type": "display_data"
    },
    {
     "data": {
      "text/plain": [
       "'reassigning item AG_PRD_FIESSI_2_1_2_2019Q2G01 from gonzalezmorales_undesa to unstats_admin'"
      ]
     },
     "metadata": {},
     "output_type": "display_data"
    },
    {
     "data": {
      "text/plain": [
       "'reassigning item AG_PRD_FIESSIN_2_1_2_2019Q2G01 from gonzalezmorales_undesa to unstats_admin'"
      ]
     },
     "metadata": {},
     "output_type": "display_data"
    },
    {
     "data": {
      "text/plain": [
       "'reassigning item SH_STA_STUNT_2_2_1_2019Q2G01 from gonzalezmorales_undesa to unstats_admin'"
      ]
     },
     "metadata": {},
     "output_type": "display_data"
    },
    {
     "data": {
      "text/plain": [
       "'reassigning item SH_STA_STUNTN_2_2_1_2019Q2G01 from gonzalezmorales_undesa to unstats_admin'"
      ]
     },
     "metadata": {},
     "output_type": "display_data"
    },
    {
     "data": {
      "text/plain": [
       "'reassigning item SH_STA_WASTE_2_2_2_2019Q2G01 from gonzalezmorales_undesa to unstats_admin'"
      ]
     },
     "metadata": {},
     "output_type": "display_data"
    },
    {
     "data": {
      "text/plain": [
       "'reassigning item SH_STA_WASTEN_2_2_2_2019Q2G01 from gonzalezmorales_undesa to unstats_admin'"
      ]
     },
     "metadata": {},
     "output_type": "display_data"
    },
    {
     "data": {
      "text/plain": [
       "'reassigning item SH_STA_OVRWGT_2_2_2_2019Q2G01 from gonzalezmorales_undesa to unstats_admin'"
      ]
     },
     "metadata": {},
     "output_type": "display_data"
    },
    {
     "data": {
      "text/plain": [
       "'reassigning item PD_AGR_SSFP_2_3_1_2019Q2G01 from gonzalezmorales_undesa to unstats_admin'"
      ]
     },
     "metadata": {},
     "output_type": "display_data"
    },
    {
     "data": {
      "text/plain": [
       "'reassigning item SI_AGR_SSFP_2_3_2_2019Q2G01 from gonzalezmorales_undesa to unstats_admin'"
      ]
     },
     "metadata": {},
     "output_type": "display_data"
    },
    {
     "data": {
      "text/plain": [
       "'reassigning item ER_GRF_ANIMRCNT_2_5_1_2019Q2G01 from gonzalezmorales_undesa to unstats_admin'"
      ]
     },
     "metadata": {},
     "output_type": "display_data"
    },
    {
     "data": {
      "text/plain": [
       "'reassigning item ER_GRF_PLNTSTOR_2_5_1_2019Q2G01 from gonzalezmorales_undesa to unstats_admin'"
      ]
     },
     "metadata": {},
     "output_type": "display_data"
    },
    {
     "data": {
      "text/plain": [
       "'reassigning item ER_RSK_LBREDS_2_5_2_2019Q2G01 from gonzalezmorales_undesa to unstats_admin'"
      ]
     },
     "metadata": {},
     "output_type": "display_data"
    },
    {
     "data": {
      "text/plain": [
       "'reassigning item AG_PRD_ORTIND_2_a_1_2019Q2G01 from gonzalezmorales_undesa to unstats_admin'"
      ]
     },
     "metadata": {},
     "output_type": "display_data"
    },
    {
     "data": {
      "text/plain": [
       "'reassigning item AG_PRD_AGVAS_2_a_1_2019Q2G01 from gonzalezmorales_undesa to unstats_admin'"
      ]
     },
     "metadata": {},
     "output_type": "display_data"
    },
    {
     "data": {
      "text/plain": [
       "'reassigning item AG_XPD_AGSGB_2_a_1_2019Q2G01 from gonzalezmorales_undesa to unstats_admin'"
      ]
     },
     "metadata": {},
     "output_type": "display_data"
    },
    {
     "data": {
      "text/plain": [
       "'reassigning item DC_TOF_AGRL_2_a_2_2019Q2G01 from gonzalezmorales_undesa to unstats_admin'"
      ]
     },
     "metadata": {},
     "output_type": "display_data"
    },
    {
     "data": {
      "text/plain": [
       "'reassigning item AG_FPA_COMM_2_c_1_2019Q2G01 from gonzalezmorales_undesa to unstats_admin'"
      ]
     },
     "metadata": {},
     "output_type": "display_data"
    },
    {
     "data": {
      "text/plain": [
       "'reassigning item AG_FPA_CFPI_2_c_1_2019Q2G01 from gonzalezmorales_undesa to unstats_admin'"
      ]
     },
     "metadata": {},
     "output_type": "display_data"
    },
    {
     "data": {
      "text/plain": [
       "'unsharing item SN_ITK_DEFC_2_1_1_2019Q2G01 from the staging group'"
      ]
     },
     "metadata": {},
     "output_type": "display_data"
    },
    {
     "data": {
      "text/plain": [
       "'enabling delete protection for: SN_ITK_DEFC_2_1_1_2019Q2G01'"
      ]
     },
     "metadata": {},
     "output_type": "display_data"
    },
    {
     "data": {
      "text/plain": [
       "'updating item properties for SN_ITK_DEFC_2_1_1_2019Q2G01'"
      ]
     },
     "metadata": {},
     "output_type": "display_data"
    },
    {
     "data": {
      "text/plain": [
       "'marking item SN_ITK_DEFC_2_1_1_2019Q2G01 as authortative'"
      ]
     },
     "metadata": {},
     "output_type": "display_data"
    },
    {
     "data": {
      "text/plain": [
       "'updating sharing for item Indicator 2.1.1: Prevalence of undernourishment (percent)'"
      ]
     },
     "metadata": {},
     "output_type": "display_data"
    },
    {
     "data": {
      "text/plain": [
       "'disable editing for Indicator 2.1.1: Prevalence of undernourishment (percent)'"
      ]
     },
     "metadata": {},
     "output_type": "display_data"
    },
    {
     "data": {
      "text/plain": [
       "'unsharing item Indicator 2.1.1: Prevalence of undernourishment (percent) from the staging group'"
      ]
     },
     "metadata": {},
     "output_type": "display_data"
    },
    {
     "data": {
      "text/plain": [
       "'enabling delete protection for: Indicator 2.1.1: Prevalence of undernourishment (percent)'"
      ]
     },
     "metadata": {},
     "output_type": "display_data"
    },
    {
     "data": {
      "text/plain": [
       "'updating item properties for Indicator 2.1.1: Prevalence of undernourishment (percent)'"
      ]
     },
     "metadata": {},
     "output_type": "display_data"
    },
    {
     "data": {
      "text/plain": [
       "'marking item Indicator 2.1.1: Prevalence of undernourishment (percent) as authortative'"
      ]
     },
     "metadata": {},
     "output_type": "display_data"
    },
    {
     "data": {
      "text/plain": [
       "'unsharing item SN_ITK_DEFCN_2_1_1_2019Q2G01 from the staging group'"
      ]
     },
     "metadata": {},
     "output_type": "display_data"
    },
    {
     "data": {
      "text/plain": [
       "'enabling delete protection for: SN_ITK_DEFCN_2_1_1_2019Q2G01'"
      ]
     },
     "metadata": {},
     "output_type": "display_data"
    },
    {
     "data": {
      "text/plain": [
       "'updating item properties for SN_ITK_DEFCN_2_1_1_2019Q2G01'"
      ]
     },
     "metadata": {},
     "output_type": "display_data"
    },
    {
     "data": {
      "text/plain": [
       "'marking item SN_ITK_DEFCN_2_1_1_2019Q2G01 as authortative'"
      ]
     },
     "metadata": {},
     "output_type": "display_data"
    },
    {
     "data": {
      "text/plain": [
       "'updating sharing for item Indicator 2.1.1: Number of undernourish people (millions)'"
      ]
     },
     "metadata": {},
     "output_type": "display_data"
    },
    {
     "data": {
      "text/plain": [
       "'disable editing for Indicator 2.1.1: Number of undernourish people (millions)'"
      ]
     },
     "metadata": {},
     "output_type": "display_data"
    },
    {
     "data": {
      "text/plain": [
       "'unsharing item Indicator 2.1.1: Number of undernourish people (millions) from the staging group'"
      ]
     },
     "metadata": {},
     "output_type": "display_data"
    },
    {
     "data": {
      "text/plain": [
       "'enabling delete protection for: Indicator 2.1.1: Number of undernourish people (millions)'"
      ]
     },
     "metadata": {},
     "output_type": "display_data"
    },
    {
     "data": {
      "text/plain": [
       "'updating item properties for Indicator 2.1.1: Number of undernourish people (millions)'"
      ]
     },
     "metadata": {},
     "output_type": "display_data"
    },
    {
     "data": {
      "text/plain": [
       "'marking item Indicator 2.1.1: Number of undernourish people (millions) as authortative'"
      ]
     },
     "metadata": {},
     "output_type": "display_data"
    },
    {
     "data": {
      "text/plain": [
       "'unsharing item AG_PRD_FIESSI_2_1_2_2019Q2G01 from the staging group'"
      ]
     },
     "metadata": {},
     "output_type": "display_data"
    },
    {
     "data": {
      "text/plain": [
       "'enabling delete protection for: AG_PRD_FIESSI_2_1_2_2019Q2G01'"
      ]
     },
     "metadata": {},
     "output_type": "display_data"
    },
    {
     "data": {
      "text/plain": [
       "'updating item properties for AG_PRD_FIESSI_2_1_2_2019Q2G01'"
      ]
     },
     "metadata": {},
     "output_type": "display_data"
    },
    {
     "data": {
      "text/plain": [
       "'marking item AG_PRD_FIESSI_2_1_2_2019Q2G01 as authortative'"
      ]
     },
     "metadata": {},
     "output_type": "display_data"
    },
    {
     "data": {
      "text/plain": [
       "'updating sharing for item Indicator 2.1.2: Prevalence of severe food insecurity in the adult population (percent)'"
      ]
     },
     "metadata": {},
     "output_type": "display_data"
    },
    {
     "data": {
      "text/plain": [
       "'disable editing for Indicator 2.1.2: Prevalence of severe food insecurity in the adult population (percent)'"
      ]
     },
     "metadata": {},
     "output_type": "display_data"
    },
    {
     "data": {
      "text/plain": [
       "'unsharing item Indicator 2.1.2: Prevalence of severe food insecurity in the adult population (percent) from the staging group'"
      ]
     },
     "metadata": {},
     "output_type": "display_data"
    },
    {
     "data": {
      "text/plain": [
       "'enabling delete protection for: Indicator 2.1.2: Prevalence of severe food insecurity in the adult population (percent)'"
      ]
     },
     "metadata": {},
     "output_type": "display_data"
    },
    {
     "data": {
      "text/plain": [
       "'updating item properties for Indicator 2.1.2: Prevalence of severe food insecurity in the adult population (percent)'"
      ]
     },
     "metadata": {},
     "output_type": "display_data"
    },
    {
     "data": {
      "text/plain": [
       "'marking item Indicator 2.1.2: Prevalence of severe food insecurity in the adult population (percent) as authortative'"
      ]
     },
     "metadata": {},
     "output_type": "display_data"
    },
    {
     "data": {
      "text/plain": [
       "'unsharing item AG_PRD_FIESSIN_2_1_2_2019Q2G01 from the staging group'"
      ]
     },
     "metadata": {},
     "output_type": "display_data"
    },
    {
     "data": {
      "text/plain": [
       "'enabling delete protection for: AG_PRD_FIESSIN_2_1_2_2019Q2G01'"
      ]
     },
     "metadata": {},
     "output_type": "display_data"
    },
    {
     "data": {
      "text/plain": [
       "'updating item properties for AG_PRD_FIESSIN_2_1_2_2019Q2G01'"
      ]
     },
     "metadata": {},
     "output_type": "display_data"
    },
    {
     "data": {
      "text/plain": [
       "'marking item AG_PRD_FIESSIN_2_1_2_2019Q2G01 as authortative'"
      ]
     },
     "metadata": {},
     "output_type": "display_data"
    },
    {
     "data": {
      "text/plain": [
       "'updating sharing for item Indicator 2.1.2: Total population in severe food insecurity (thousands of people)'"
      ]
     },
     "metadata": {},
     "output_type": "display_data"
    },
    {
     "data": {
      "text/plain": [
       "'disable editing for Indicator 2.1.2: Total population in severe food insecurity (thousands of people)'"
      ]
     },
     "metadata": {},
     "output_type": "display_data"
    },
    {
     "data": {
      "text/plain": [
       "'unsharing item Indicator 2.1.2: Total population in severe food insecurity (thousands of people) from the staging group'"
      ]
     },
     "metadata": {},
     "output_type": "display_data"
    },
    {
     "data": {
      "text/plain": [
       "'enabling delete protection for: Indicator 2.1.2: Total population in severe food insecurity (thousands of people)'"
      ]
     },
     "metadata": {},
     "output_type": "display_data"
    },
    {
     "data": {
      "text/plain": [
       "'updating item properties for Indicator 2.1.2: Total population in severe food insecurity (thousands of people)'"
      ]
     },
     "metadata": {},
     "output_type": "display_data"
    },
    {
     "data": {
      "text/plain": [
       "'marking item Indicator 2.1.2: Total population in severe food insecurity (thousands of people) as authortative'"
      ]
     },
     "metadata": {},
     "output_type": "display_data"
    },
    {
     "data": {
      "text/plain": [
       "'unsharing item SH_STA_STUNT_2_2_1_2019Q2G01 from the staging group'"
      ]
     },
     "metadata": {},
     "output_type": "display_data"
    },
    {
     "data": {
      "text/plain": [
       "'enabling delete protection for: SH_STA_STUNT_2_2_1_2019Q2G01'"
      ]
     },
     "metadata": {},
     "output_type": "display_data"
    },
    {
     "data": {
      "text/plain": [
       "'updating item properties for SH_STA_STUNT_2_2_1_2019Q2G01'"
      ]
     },
     "metadata": {},
     "output_type": "display_data"
    },
    {
     "data": {
      "text/plain": [
       "'marking item SH_STA_STUNT_2_2_1_2019Q2G01 as authortative'"
      ]
     },
     "metadata": {},
     "output_type": "display_data"
    },
    {
     "data": {
      "text/plain": [
       "'updating sharing for item Indicator 2.2.1: Proportion of children moderately or severely stunted (percent)'"
      ]
     },
     "metadata": {},
     "output_type": "display_data"
    },
    {
     "data": {
      "text/plain": [
       "'disable editing for Indicator 2.2.1: Proportion of children moderately or severely stunted (percent)'"
      ]
     },
     "metadata": {},
     "output_type": "display_data"
    },
    {
     "data": {
      "text/plain": [
       "'unsharing item Indicator 2.2.1: Proportion of children moderately or severely stunted (percent) from the staging group'"
      ]
     },
     "metadata": {},
     "output_type": "display_data"
    },
    {
     "data": {
      "text/plain": [
       "'enabling delete protection for: Indicator 2.2.1: Proportion of children moderately or severely stunted (percent)'"
      ]
     },
     "metadata": {},
     "output_type": "display_data"
    },
    {
     "data": {
      "text/plain": [
       "'updating item properties for Indicator 2.2.1: Proportion of children moderately or severely stunted (percent)'"
      ]
     },
     "metadata": {},
     "output_type": "display_data"
    },
    {
     "data": {
      "text/plain": [
       "'marking item Indicator 2.2.1: Proportion of children moderately or severely stunted (percent) as authortative'"
      ]
     },
     "metadata": {},
     "output_type": "display_data"
    },
    {
     "data": {
      "text/plain": [
       "'unsharing item SH_STA_STUNTN_2_2_1_2019Q2G01 from the staging group'"
      ]
     },
     "metadata": {},
     "output_type": "display_data"
    },
    {
     "data": {
      "text/plain": [
       "'enabling delete protection for: SH_STA_STUNTN_2_2_1_2019Q2G01'"
      ]
     },
     "metadata": {},
     "output_type": "display_data"
    },
    {
     "data": {
      "text/plain": [
       "'updating item properties for SH_STA_STUNTN_2_2_1_2019Q2G01'"
      ]
     },
     "metadata": {},
     "output_type": "display_data"
    },
    {
     "data": {
      "text/plain": [
       "'marking item SH_STA_STUNTN_2_2_1_2019Q2G01 as authortative'"
      ]
     },
     "metadata": {},
     "output_type": "display_data"
    },
    {
     "data": {
      "text/plain": [
       "'updating sharing for item Indicator 2.2.1: Children moderately or severely stunted (millions)'"
      ]
     },
     "metadata": {},
     "output_type": "display_data"
    },
    {
     "data": {
      "text/plain": [
       "'disable editing for Indicator 2.2.1: Children moderately or severely stunted (millions)'"
      ]
     },
     "metadata": {},
     "output_type": "display_data"
    },
    {
     "data": {
      "text/plain": [
       "'unsharing item Indicator 2.2.1: Children moderately or severely stunted (millions) from the staging group'"
      ]
     },
     "metadata": {},
     "output_type": "display_data"
    },
    {
     "data": {
      "text/plain": [
       "'enabling delete protection for: Indicator 2.2.1: Children moderately or severely stunted (millions)'"
      ]
     },
     "metadata": {},
     "output_type": "display_data"
    },
    {
     "data": {
      "text/plain": [
       "'updating item properties for Indicator 2.2.1: Children moderately or severely stunted (millions)'"
      ]
     },
     "metadata": {},
     "output_type": "display_data"
    },
    {
     "data": {
      "text/plain": [
       "'marking item Indicator 2.2.1: Children moderately or severely stunted (millions) as authortative'"
      ]
     },
     "metadata": {},
     "output_type": "display_data"
    },
    {
     "data": {
      "text/plain": [
       "'unsharing item SH_STA_WASTE_2_2_2_2019Q2G01 from the staging group'"
      ]
     },
     "metadata": {},
     "output_type": "display_data"
    },
    {
     "data": {
      "text/plain": [
       "'enabling delete protection for: SH_STA_WASTE_2_2_2_2019Q2G01'"
      ]
     },
     "metadata": {},
     "output_type": "display_data"
    },
    {
     "data": {
      "text/plain": [
       "'updating item properties for SH_STA_WASTE_2_2_2_2019Q2G01'"
      ]
     },
     "metadata": {},
     "output_type": "display_data"
    },
    {
     "data": {
      "text/plain": [
       "'marking item SH_STA_WASTE_2_2_2_2019Q2G01 as authortative'"
      ]
     },
     "metadata": {},
     "output_type": "display_data"
    },
    {
     "data": {
      "text/plain": [
       "'updating sharing for item Indicator 2.2.2: Proportion of children moderately or severely wasted (percent)'"
      ]
     },
     "metadata": {},
     "output_type": "display_data"
    },
    {
     "data": {
      "text/plain": [
       "'disable editing for Indicator 2.2.2: Proportion of children moderately or severely wasted (percent)'"
      ]
     },
     "metadata": {},
     "output_type": "display_data"
    },
    {
     "data": {
      "text/plain": [
       "'unsharing item Indicator 2.2.2: Proportion of children moderately or severely wasted (percent) from the staging group'"
      ]
     },
     "metadata": {},
     "output_type": "display_data"
    },
    {
     "data": {
      "text/plain": [
       "'enabling delete protection for: Indicator 2.2.2: Proportion of children moderately or severely wasted (percent)'"
      ]
     },
     "metadata": {},
     "output_type": "display_data"
    },
    {
     "data": {
      "text/plain": [
       "'updating item properties for Indicator 2.2.2: Proportion of children moderately or severely wasted (percent)'"
      ]
     },
     "metadata": {},
     "output_type": "display_data"
    },
    {
     "data": {
      "text/plain": [
       "'marking item Indicator 2.2.2: Proportion of children moderately or severely wasted (percent) as authortative'"
      ]
     },
     "metadata": {},
     "output_type": "display_data"
    },
    {
     "data": {
      "text/plain": [
       "'unsharing item SH_STA_WASTEN_2_2_2_2019Q2G01 from the staging group'"
      ]
     },
     "metadata": {},
     "output_type": "display_data"
    },
    {
     "data": {
      "text/plain": [
       "'enabling delete protection for: SH_STA_WASTEN_2_2_2_2019Q2G01'"
      ]
     },
     "metadata": {},
     "output_type": "display_data"
    },
    {
     "data": {
      "text/plain": [
       "'updating item properties for SH_STA_WASTEN_2_2_2_2019Q2G01'"
      ]
     },
     "metadata": {},
     "output_type": "display_data"
    },
    {
     "data": {
      "text/plain": [
       "'marking item SH_STA_WASTEN_2_2_2_2019Q2G01 as authortative'"
      ]
     },
     "metadata": {},
     "output_type": "display_data"
    },
    {
     "data": {
      "text/plain": [
       "'updating sharing for item Indicator 2.2.2: Children moderately or severely wasted (millions)'"
      ]
     },
     "metadata": {},
     "output_type": "display_data"
    },
    {
     "data": {
      "text/plain": [
       "'disable editing for Indicator 2.2.2: Children moderately or severely wasted (millions)'"
      ]
     },
     "metadata": {},
     "output_type": "display_data"
    },
    {
     "data": {
      "text/plain": [
       "'unsharing item Indicator 2.2.2: Children moderately or severely wasted (millions) from the staging group'"
      ]
     },
     "metadata": {},
     "output_type": "display_data"
    },
    {
     "data": {
      "text/plain": [
       "'enabling delete protection for: Indicator 2.2.2: Children moderately or severely wasted (millions)'"
      ]
     },
     "metadata": {},
     "output_type": "display_data"
    },
    {
     "data": {
      "text/plain": [
       "'updating item properties for Indicator 2.2.2: Children moderately or severely wasted (millions)'"
      ]
     },
     "metadata": {},
     "output_type": "display_data"
    },
    {
     "data": {
      "text/plain": [
       "'marking item Indicator 2.2.2: Children moderately or severely wasted (millions) as authortative'"
      ]
     },
     "metadata": {},
     "output_type": "display_data"
    },
    {
     "data": {
      "text/plain": [
       "'unsharing item SH_STA_OVRWGT_2_2_2_2019Q2G01 from the staging group'"
      ]
     },
     "metadata": {},
     "output_type": "display_data"
    },
    {
     "data": {
      "text/plain": [
       "'enabling delete protection for: SH_STA_OVRWGT_2_2_2_2019Q2G01'"
      ]
     },
     "metadata": {},
     "output_type": "display_data"
    },
    {
     "data": {
      "text/plain": [
       "'updating item properties for SH_STA_OVRWGT_2_2_2_2019Q2G01'"
      ]
     },
     "metadata": {},
     "output_type": "display_data"
    },
    {
     "data": {
      "text/plain": [
       "'marking item SH_STA_OVRWGT_2_2_2_2019Q2G01 as authortative'"
      ]
     },
     "metadata": {},
     "output_type": "display_data"
    },
    {
     "data": {
      "text/plain": [
       "'updating sharing for item Indicator 2.2.2: Proportion of children moderately or severely overweight (percent)'"
      ]
     },
     "metadata": {},
     "output_type": "display_data"
    },
    {
     "data": {
      "text/plain": [
       "'disable editing for Indicator 2.2.2: Proportion of children moderately or severely overweight (percent)'"
      ]
     },
     "metadata": {},
     "output_type": "display_data"
    },
    {
     "data": {
      "text/plain": [
       "'unsharing item Indicator 2.2.2: Proportion of children moderately or severely overweight (percent) from the staging group'"
      ]
     },
     "metadata": {},
     "output_type": "display_data"
    },
    {
     "data": {
      "text/plain": [
       "'enabling delete protection for: Indicator 2.2.2: Proportion of children moderately or severely overweight (percent)'"
      ]
     },
     "metadata": {},
     "output_type": "display_data"
    },
    {
     "data": {
      "text/plain": [
       "'updating item properties for Indicator 2.2.2: Proportion of children moderately or severely overweight (percent)'"
      ]
     },
     "metadata": {},
     "output_type": "display_data"
    },
    {
     "data": {
      "text/plain": [
       "'marking item Indicator 2.2.2: Proportion of children moderately or severely overweight (percent) as authortative'"
      ]
     },
     "metadata": {},
     "output_type": "display_data"
    },
    {
     "data": {
      "text/plain": [
       "'unsharing item PD_AGR_SSFP_2_3_1_2019Q2G01 from the staging group'"
      ]
     },
     "metadata": {},
     "output_type": "display_data"
    },
    {
     "data": {
      "text/plain": [
       "'enabling delete protection for: PD_AGR_SSFP_2_3_1_2019Q2G01'"
      ]
     },
     "metadata": {},
     "output_type": "display_data"
    },
    {
     "data": {
      "text/plain": [
       "'updating item properties for PD_AGR_SSFP_2_3_1_2019Q2G01'"
      ]
     },
     "metadata": {},
     "output_type": "display_data"
    },
    {
     "data": {
      "text/plain": [
       "'marking item PD_AGR_SSFP_2_3_1_2019Q2G01 as authortative'"
      ]
     },
     "metadata": {},
     "output_type": "display_data"
    },
    {
     "data": {
      "text/plain": [
       "'updating sharing for item Indicator 2.3.1: Productivity of small-scale food producers (agricultural output per labour day, PPP) (constant 2011 international $)'"
      ]
     },
     "metadata": {},
     "output_type": "display_data"
    },
    {
     "data": {
      "text/plain": [
       "'disable editing for Indicator 2.3.1: Productivity of small-scale food producers (agricultural output per labour day, PPP) (constant 2011 international $)'"
      ]
     },
     "metadata": {},
     "output_type": "display_data"
    },
    {
     "data": {
      "text/plain": [
       "'unsharing item Indicator 2.3.1: Productivity of small-scale food producers (agricultural output per labour day, PPP) (constant 2011 international $) from the staging group'"
      ]
     },
     "metadata": {},
     "output_type": "display_data"
    },
    {
     "data": {
      "text/plain": [
       "'enabling delete protection for: Indicator 2.3.1: Productivity of small-scale food producers (agricultural output per labour day, PPP) (constant 2011 international $)'"
      ]
     },
     "metadata": {},
     "output_type": "display_data"
    },
    {
     "data": {
      "text/plain": [
       "'updating item properties for Indicator 2.3.1: Productivity of small-scale food producers (agricultural output per labour day, PPP) (constant 2011 international $)'"
      ]
     },
     "metadata": {},
     "output_type": "display_data"
    },
    {
     "data": {
      "text/plain": [
       "'marking item Indicator 2.3.1: Productivity of small-scale food producers (agricultural output per labour day, PPP) (constant 2011 international $) as authortative'"
      ]
     },
     "metadata": {},
     "output_type": "display_data"
    },
    {
     "data": {
      "text/plain": [
       "'unsharing item SI_AGR_SSFP_2_3_2_2019Q2G01 from the staging group'"
      ]
     },
     "metadata": {},
     "output_type": "display_data"
    },
    {
     "data": {
      "text/plain": [
       "'enabling delete protection for: SI_AGR_SSFP_2_3_2_2019Q2G01'"
      ]
     },
     "metadata": {},
     "output_type": "display_data"
    },
    {
     "data": {
      "text/plain": [
       "'updating item properties for SI_AGR_SSFP_2_3_2_2019Q2G01'"
      ]
     },
     "metadata": {},
     "output_type": "display_data"
    },
    {
     "data": {
      "text/plain": [
       "'marking item SI_AGR_SSFP_2_3_2_2019Q2G01 as authortative'"
      ]
     },
     "metadata": {},
     "output_type": "display_data"
    },
    {
     "data": {
      "text/plain": [
       "'updating sharing for item Indicator 2.3.2: Average income of small-scale food producers, PPP (constant 2011 international $)'"
      ]
     },
     "metadata": {},
     "output_type": "display_data"
    },
    {
     "data": {
      "text/plain": [
       "'disable editing for Indicator 2.3.2: Average income of small-scale food producers, PPP (constant 2011 international $)'"
      ]
     },
     "metadata": {},
     "output_type": "display_data"
    },
    {
     "data": {
      "text/plain": [
       "'unsharing item Indicator 2.3.2: Average income of small-scale food producers, PPP (constant 2011 international $) from the staging group'"
      ]
     },
     "metadata": {},
     "output_type": "display_data"
    },
    {
     "data": {
      "text/plain": [
       "'enabling delete protection for: Indicator 2.3.2: Average income of small-scale food producers, PPP (constant 2011 international $)'"
      ]
     },
     "metadata": {},
     "output_type": "display_data"
    },
    {
     "data": {
      "text/plain": [
       "'updating item properties for Indicator 2.3.2: Average income of small-scale food producers, PPP (constant 2011 international $)'"
      ]
     },
     "metadata": {},
     "output_type": "display_data"
    },
    {
     "data": {
      "text/plain": [
       "'marking item Indicator 2.3.2: Average income of small-scale food producers, PPP (constant 2011 international $) as authortative'"
      ]
     },
     "metadata": {},
     "output_type": "display_data"
    },
    {
     "data": {
      "text/plain": [
       "'unsharing item ER_GRF_ANIMRCNT_2_5_1_2019Q2G01 from the staging group'"
      ]
     },
     "metadata": {},
     "output_type": "display_data"
    },
    {
     "data": {
      "text/plain": [
       "'enabling delete protection for: ER_GRF_ANIMRCNT_2_5_1_2019Q2G01'"
      ]
     },
     "metadata": {},
     "output_type": "display_data"
    },
    {
     "data": {
      "text/plain": [
       "'updating item properties for ER_GRF_ANIMRCNT_2_5_1_2019Q2G01'"
      ]
     },
     "metadata": {},
     "output_type": "display_data"
    },
    {
     "data": {
      "text/plain": [
       "'marking item ER_GRF_ANIMRCNT_2_5_1_2019Q2G01 as authortative'"
      ]
     },
     "metadata": {},
     "output_type": "display_data"
    },
    {
     "data": {
      "text/plain": [
       "'updating sharing for item Indicator 2.5.1: Proportion of local breeds for which sufficient genetic resources are stored for reconstitution (percent)'"
      ]
     },
     "metadata": {},
     "output_type": "display_data"
    },
    {
     "data": {
      "text/plain": [
       "'disable editing for Indicator 2.5.1: Proportion of local breeds for which sufficient genetic resources are stored for reconstitution (percent)'"
      ]
     },
     "metadata": {},
     "output_type": "display_data"
    },
    {
     "data": {
      "text/plain": [
       "'unsharing item Indicator 2.5.1: Proportion of local breeds for which sufficient genetic resources are stored for reconstitution (percent) from the staging group'"
      ]
     },
     "metadata": {},
     "output_type": "display_data"
    },
    {
     "data": {
      "text/plain": [
       "'enabling delete protection for: Indicator 2.5.1: Proportion of local breeds for which sufficient genetic resources are stored for reconstitution (percent)'"
      ]
     },
     "metadata": {},
     "output_type": "display_data"
    },
    {
     "data": {
      "text/plain": [
       "'updating item properties for Indicator 2.5.1: Proportion of local breeds for which sufficient genetic resources are stored for reconstitution (percent)'"
      ]
     },
     "metadata": {},
     "output_type": "display_data"
    },
    {
     "data": {
      "text/plain": [
       "'marking item Indicator 2.5.1: Proportion of local breeds for which sufficient genetic resources are stored for reconstitution (percent) as authortative'"
      ]
     },
     "metadata": {},
     "output_type": "display_data"
    },
    {
     "data": {
      "text/plain": [
       "'unsharing item ER_GRF_PLNTSTOR_2_5_1_2019Q2G01 from the staging group'"
      ]
     },
     "metadata": {},
     "output_type": "display_data"
    },
    {
     "data": {
      "text/plain": [
       "'enabling delete protection for: ER_GRF_PLNTSTOR_2_5_1_2019Q2G01'"
      ]
     },
     "metadata": {},
     "output_type": "display_data"
    },
    {
     "data": {
      "text/plain": [
       "'updating item properties for ER_GRF_PLNTSTOR_2_5_1_2019Q2G01'"
      ]
     },
     "metadata": {},
     "output_type": "display_data"
    },
    {
     "data": {
      "text/plain": [
       "'marking item ER_GRF_PLNTSTOR_2_5_1_2019Q2G01 as authortative'"
      ]
     },
     "metadata": {},
     "output_type": "display_data"
    },
    {
     "data": {
      "text/plain": [
       "'updating sharing for item Indicator 2.5.1: Plant breeds for which sufficient genetic resources are stored (number)'"
      ]
     },
     "metadata": {},
     "output_type": "display_data"
    },
    {
     "data": {
      "text/plain": [
       "'disable editing for Indicator 2.5.1: Plant breeds for which sufficient genetic resources are stored (number)'"
      ]
     },
     "metadata": {},
     "output_type": "display_data"
    },
    {
     "data": {
      "text/plain": [
       "'unsharing item Indicator 2.5.1: Plant breeds for which sufficient genetic resources are stored (number) from the staging group'"
      ]
     },
     "metadata": {},
     "output_type": "display_data"
    },
    {
     "data": {
      "text/plain": [
       "'enabling delete protection for: Indicator 2.5.1: Plant breeds for which sufficient genetic resources are stored (number)'"
      ]
     },
     "metadata": {},
     "output_type": "display_data"
    },
    {
     "data": {
      "text/plain": [
       "'updating item properties for Indicator 2.5.1: Plant breeds for which sufficient genetic resources are stored (number)'"
      ]
     },
     "metadata": {},
     "output_type": "display_data"
    },
    {
     "data": {
      "text/plain": [
       "'marking item Indicator 2.5.1: Plant breeds for which sufficient genetic resources are stored (number) as authortative'"
      ]
     },
     "metadata": {},
     "output_type": "display_data"
    },
    {
     "data": {
      "text/plain": [
       "'unsharing item ER_RSK_LBREDS_2_5_2_2019Q2G01 from the staging group'"
      ]
     },
     "metadata": {},
     "output_type": "display_data"
    },
    {
     "data": {
      "text/plain": [
       "'enabling delete protection for: ER_RSK_LBREDS_2_5_2_2019Q2G01'"
      ]
     },
     "metadata": {},
     "output_type": "display_data"
    },
    {
     "data": {
      "text/plain": [
       "'updating item properties for ER_RSK_LBREDS_2_5_2_2019Q2G01'"
      ]
     },
     "metadata": {},
     "output_type": "display_data"
    },
    {
     "data": {
      "text/plain": [
       "'marking item ER_RSK_LBREDS_2_5_2_2019Q2G01 as authortative'"
      ]
     },
     "metadata": {},
     "output_type": "display_data"
    },
    {
     "data": {
      "text/plain": [
       "'updating sharing for item Indicator 2.5.2: Proportion of local breeds classified as being at risk as a share of local breeds with known level of extinction risk (percent)'"
      ]
     },
     "metadata": {},
     "output_type": "display_data"
    },
    {
     "data": {
      "text/plain": [
       "'disable editing for Indicator 2.5.2: Proportion of local breeds classified as being at risk as a share of local breeds with known level of extinction risk (percent)'"
      ]
     },
     "metadata": {},
     "output_type": "display_data"
    },
    {
     "data": {
      "text/plain": [
       "'unsharing item Indicator 2.5.2: Proportion of local breeds classified as being at risk as a share of local breeds with known level of extinction risk (percent) from the staging group'"
      ]
     },
     "metadata": {},
     "output_type": "display_data"
    },
    {
     "data": {
      "text/plain": [
       "'enabling delete protection for: Indicator 2.5.2: Proportion of local breeds classified as being at risk as a share of local breeds with known level of extinction risk (percent)'"
      ]
     },
     "metadata": {},
     "output_type": "display_data"
    },
    {
     "data": {
      "text/plain": [
       "'updating item properties for Indicator 2.5.2: Proportion of local breeds classified as being at risk as a share of local breeds with known level of extinction risk (percent)'"
      ]
     },
     "metadata": {},
     "output_type": "display_data"
    },
    {
     "data": {
      "text/plain": [
       "'marking item Indicator 2.5.2: Proportion of local breeds classified as being at risk as a share of local breeds with known level of extinction risk (percent) as authortative'"
      ]
     },
     "metadata": {},
     "output_type": "display_data"
    },
    {
     "data": {
      "text/plain": [
       "'unsharing item AG_PRD_ORTIND_2_a_1_2019Q2G01 from the staging group'"
      ]
     },
     "metadata": {},
     "output_type": "display_data"
    },
    {
     "data": {
      "text/plain": [
       "'enabling delete protection for: AG_PRD_ORTIND_2_a_1_2019Q2G01'"
      ]
     },
     "metadata": {},
     "output_type": "display_data"
    },
    {
     "data": {
      "text/plain": [
       "'updating item properties for AG_PRD_ORTIND_2_a_1_2019Q2G01'"
      ]
     },
     "metadata": {},
     "output_type": "display_data"
    },
    {
     "data": {
      "text/plain": [
       "'marking item AG_PRD_ORTIND_2_a_1_2019Q2G01 as authortative'"
      ]
     },
     "metadata": {},
     "output_type": "display_data"
    },
    {
     "data": {
      "text/plain": [
       "'updating sharing for item Indicator 2.a.1: Agriculture orientation index for government expenditures'"
      ]
     },
     "metadata": {},
     "output_type": "display_data"
    },
    {
     "data": {
      "text/plain": [
       "'disable editing for Indicator 2.a.1: Agriculture orientation index for government expenditures'"
      ]
     },
     "metadata": {},
     "output_type": "display_data"
    },
    {
     "data": {
      "text/plain": [
       "'unsharing item Indicator 2.a.1: Agriculture orientation index for government expenditures from the staging group'"
      ]
     },
     "metadata": {},
     "output_type": "display_data"
    },
    {
     "data": {
      "text/plain": [
       "'enabling delete protection for: Indicator 2.a.1: Agriculture orientation index for government expenditures'"
      ]
     },
     "metadata": {},
     "output_type": "display_data"
    },
    {
     "data": {
      "text/plain": [
       "'updating item properties for Indicator 2.a.1: Agriculture orientation index for government expenditures'"
      ]
     },
     "metadata": {},
     "output_type": "display_data"
    },
    {
     "data": {
      "text/plain": [
       "'marking item Indicator 2.a.1: Agriculture orientation index for government expenditures as authortative'"
      ]
     },
     "metadata": {},
     "output_type": "display_data"
    },
    {
     "data": {
      "text/plain": [
       "'unsharing item AG_PRD_AGVAS_2_a_1_2019Q2G01 from the staging group'"
      ]
     },
     "metadata": {},
     "output_type": "display_data"
    },
    {
     "data": {
      "text/plain": [
       "'enabling delete protection for: AG_PRD_AGVAS_2_a_1_2019Q2G01'"
      ]
     },
     "metadata": {},
     "output_type": "display_data"
    },
    {
     "data": {
      "text/plain": [
       "'updating item properties for AG_PRD_AGVAS_2_a_1_2019Q2G01'"
      ]
     },
     "metadata": {},
     "output_type": "display_data"
    },
    {
     "data": {
      "text/plain": [
       "'marking item AG_PRD_AGVAS_2_a_1_2019Q2G01 as authortative'"
      ]
     },
     "metadata": {},
     "output_type": "display_data"
    },
    {
     "data": {
      "text/plain": [
       "'updating sharing for item Indicator 2.a.1: Agriculture value added share of GDP (percent)'"
      ]
     },
     "metadata": {},
     "output_type": "display_data"
    },
    {
     "data": {
      "text/plain": [
       "'disable editing for Indicator 2.a.1: Agriculture value added share of GDP (percent)'"
      ]
     },
     "metadata": {},
     "output_type": "display_data"
    },
    {
     "data": {
      "text/plain": [
       "'unsharing item Indicator 2.a.1: Agriculture value added share of GDP (percent) from the staging group'"
      ]
     },
     "metadata": {},
     "output_type": "display_data"
    },
    {
     "data": {
      "text/plain": [
       "'enabling delete protection for: Indicator 2.a.1: Agriculture value added share of GDP (percent)'"
      ]
     },
     "metadata": {},
     "output_type": "display_data"
    },
    {
     "data": {
      "text/plain": [
       "'updating item properties for Indicator 2.a.1: Agriculture value added share of GDP (percent)'"
      ]
     },
     "metadata": {},
     "output_type": "display_data"
    },
    {
     "data": {
      "text/plain": [
       "'marking item Indicator 2.a.1: Agriculture value added share of GDP (percent) as authortative'"
      ]
     },
     "metadata": {},
     "output_type": "display_data"
    },
    {
     "data": {
      "text/plain": [
       "'unsharing item AG_XPD_AGSGB_2_a_1_2019Q2G01 from the staging group'"
      ]
     },
     "metadata": {},
     "output_type": "display_data"
    },
    {
     "data": {
      "text/plain": [
       "'enabling delete protection for: AG_XPD_AGSGB_2_a_1_2019Q2G01'"
      ]
     },
     "metadata": {},
     "output_type": "display_data"
    },
    {
     "data": {
      "text/plain": [
       "'updating item properties for AG_XPD_AGSGB_2_a_1_2019Q2G01'"
      ]
     },
     "metadata": {},
     "output_type": "display_data"
    },
    {
     "data": {
      "text/plain": [
       "'marking item AG_XPD_AGSGB_2_a_1_2019Q2G01 as authortative'"
      ]
     },
     "metadata": {},
     "output_type": "display_data"
    },
    {
     "data": {
      "text/plain": [
       "'updating sharing for item Indicator 2.a.1: Agriculture share of Government Expenditure (percent)'"
      ]
     },
     "metadata": {},
     "output_type": "display_data"
    },
    {
     "data": {
      "text/plain": [
       "'disable editing for Indicator 2.a.1: Agriculture share of Government Expenditure (percent)'"
      ]
     },
     "metadata": {},
     "output_type": "display_data"
    },
    {
     "data": {
      "text/plain": [
       "'unsharing item Indicator 2.a.1: Agriculture share of Government Expenditure (percent) from the staging group'"
      ]
     },
     "metadata": {},
     "output_type": "display_data"
    },
    {
     "data": {
      "text/plain": [
       "'enabling delete protection for: Indicator 2.a.1: Agriculture share of Government Expenditure (percent)'"
      ]
     },
     "metadata": {},
     "output_type": "display_data"
    },
    {
     "data": {
      "text/plain": [
       "'updating item properties for Indicator 2.a.1: Agriculture share of Government Expenditure (percent)'"
      ]
     },
     "metadata": {},
     "output_type": "display_data"
    },
    {
     "data": {
      "text/plain": [
       "'marking item Indicator 2.a.1: Agriculture share of Government Expenditure (percent) as authortative'"
      ]
     },
     "metadata": {},
     "output_type": "display_data"
    },
    {
     "data": {
      "text/plain": [
       "'unsharing item DC_TOF_AGRL_2_a_2_2019Q2G01 from the staging group'"
      ]
     },
     "metadata": {},
     "output_type": "display_data"
    },
    {
     "data": {
      "text/plain": [
       "'enabling delete protection for: DC_TOF_AGRL_2_a_2_2019Q2G01'"
      ]
     },
     "metadata": {},
     "output_type": "display_data"
    },
    {
     "data": {
      "text/plain": [
       "'updating item properties for DC_TOF_AGRL_2_a_2_2019Q2G01'"
      ]
     },
     "metadata": {},
     "output_type": "display_data"
    },
    {
     "data": {
      "text/plain": [
       "'marking item DC_TOF_AGRL_2_a_2_2019Q2G01 as authortative'"
      ]
     },
     "metadata": {},
     "output_type": "display_data"
    },
    {
     "data": {
      "text/plain": [
       "'updating sharing for item Indicator 2.a.2: Total official flows (disbursements) for agriculture, by recipient countries (millions of constant 2017 United States dollars)'"
      ]
     },
     "metadata": {},
     "output_type": "display_data"
    },
    {
     "data": {
      "text/plain": [
       "'disable editing for Indicator 2.a.2: Total official flows (disbursements) for agriculture, by recipient countries (millions of constant 2017 United States dollars)'"
      ]
     },
     "metadata": {},
     "output_type": "display_data"
    },
    {
     "data": {
      "text/plain": [
       "'unsharing item Indicator 2.a.2: Total official flows (disbursements) for agriculture, by recipient countries (millions of constant 2017 United States dollars) from the staging group'"
      ]
     },
     "metadata": {},
     "output_type": "display_data"
    },
    {
     "data": {
      "text/plain": [
       "'enabling delete protection for: Indicator 2.a.2: Total official flows (disbursements) for agriculture, by recipient countries (millions of constant 2017 United States dollars)'"
      ]
     },
     "metadata": {},
     "output_type": "display_data"
    },
    {
     "data": {
      "text/plain": [
       "'updating item properties for Indicator 2.a.2: Total official flows (disbursements) for agriculture, by recipient countries (millions of constant 2017 United States dollars)'"
      ]
     },
     "metadata": {},
     "output_type": "display_data"
    },
    {
     "data": {
      "text/plain": [
       "'marking item Indicator 2.a.2: Total official flows (disbursements) for agriculture, by recipient countries (millions of constant 2017 United States dollars) as authortative'"
      ]
     },
     "metadata": {},
     "output_type": "display_data"
    },
    {
     "data": {
      "text/plain": [
       "'unsharing item AG_FPA_COMM_2_c_1_2019Q2G01 from the staging group'"
      ]
     },
     "metadata": {},
     "output_type": "display_data"
    },
    {
     "data": {
      "text/plain": [
       "'enabling delete protection for: AG_FPA_COMM_2_c_1_2019Q2G01'"
      ]
     },
     "metadata": {},
     "output_type": "display_data"
    },
    {
     "data": {
      "text/plain": [
       "'updating item properties for AG_FPA_COMM_2_c_1_2019Q2G01'"
      ]
     },
     "metadata": {},
     "output_type": "display_data"
    },
    {
     "data": {
      "text/plain": [
       "'marking item AG_FPA_COMM_2_c_1_2019Q2G01 as authortative'"
      ]
     },
     "metadata": {},
     "output_type": "display_data"
    },
    {
     "data": {
      "text/plain": [
       "'updating sharing for item Indicator 2.c.1: Indicator of Food Price Anomalies (IFPA), by type of product'"
      ]
     },
     "metadata": {},
     "output_type": "display_data"
    },
    {
     "data": {
      "text/plain": [
       "'disable editing for Indicator 2.c.1: Indicator of Food Price Anomalies (IFPA), by type of product'"
      ]
     },
     "metadata": {},
     "output_type": "display_data"
    },
    {
     "data": {
      "text/plain": [
       "'unsharing item Indicator 2.c.1: Indicator of Food Price Anomalies (IFPA), by type of product from the staging group'"
      ]
     },
     "metadata": {},
     "output_type": "display_data"
    },
    {
     "data": {
      "text/plain": [
       "'enabling delete protection for: Indicator 2.c.1: Indicator of Food Price Anomalies (IFPA), by type of product'"
      ]
     },
     "metadata": {},
     "output_type": "display_data"
    },
    {
     "data": {
      "text/plain": [
       "'updating item properties for Indicator 2.c.1: Indicator of Food Price Anomalies (IFPA), by type of product'"
      ]
     },
     "metadata": {},
     "output_type": "display_data"
    },
    {
     "data": {
      "text/plain": [
       "'marking item Indicator 2.c.1: Indicator of Food Price Anomalies (IFPA), by type of product as authortative'"
      ]
     },
     "metadata": {},
     "output_type": "display_data"
    },
    {
     "data": {
      "text/plain": [
       "'unsharing item AG_FPA_CFPI_2_c_1_2019Q2G01 from the staging group'"
      ]
     },
     "metadata": {},
     "output_type": "display_data"
    },
    {
     "data": {
      "text/plain": [
       "'enabling delete protection for: AG_FPA_CFPI_2_c_1_2019Q2G01'"
      ]
     },
     "metadata": {},
     "output_type": "display_data"
    },
    {
     "data": {
      "text/plain": [
       "'updating item properties for AG_FPA_CFPI_2_c_1_2019Q2G01'"
      ]
     },
     "metadata": {},
     "output_type": "display_data"
    },
    {
     "data": {
      "text/plain": [
       "'marking item AG_FPA_CFPI_2_c_1_2019Q2G01 as authortative'"
      ]
     },
     "metadata": {},
     "output_type": "display_data"
    },
    {
     "data": {
      "text/plain": [
       "'updating sharing for item Indicator 2.c.1: Consumer Food Price Index'"
      ]
     },
     "metadata": {},
     "output_type": "display_data"
    },
    {
     "data": {
      "text/plain": [
       "'disable editing for Indicator 2.c.1: Consumer Food Price Index'"
      ]
     },
     "metadata": {},
     "output_type": "display_data"
    },
    {
     "data": {
      "text/plain": [
       "'unsharing item Indicator 2.c.1: Consumer Food Price Index from the staging group'"
      ]
     },
     "metadata": {},
     "output_type": "display_data"
    },
    {
     "data": {
      "text/plain": [
       "'enabling delete protection for: Indicator 2.c.1: Consumer Food Price Index'"
      ]
     },
     "metadata": {},
     "output_type": "display_data"
    },
    {
     "data": {
      "text/plain": [
       "'updating item properties for Indicator 2.c.1: Consumer Food Price Index'"
      ]
     },
     "metadata": {},
     "output_type": "display_data"
    },
    {
     "data": {
      "text/plain": [
       "'marking item Indicator 2.c.1: Consumer Food Price Index as authortative'"
      ]
     },
     "metadata": {},
     "output_type": "display_data"
    }
   ],
   "source": [
    "promote_sdg(goal_code='2')"
   ]
  },
  {
   "cell_type": "code",
   "execution_count": null,
   "metadata": {},
   "outputs": [],
   "source": []
  }
 ],
 "metadata": {
  "kernelspec": {
   "display_name": "Python 3",
   "language": "python",
   "name": "python3"
  },
  "language_info": {
   "codemirror_mode": {
    "name": "ipython",
    "version": 3
   },
   "file_extension": ".py",
   "mimetype": "text/x-python",
   "name": "python",
   "nbconvert_exporter": "python",
   "pygments_lexer": "ipython3",
   "version": "3.6.8"
  }
 },
 "nbformat": 4,
 "nbformat_minor": 2
}
