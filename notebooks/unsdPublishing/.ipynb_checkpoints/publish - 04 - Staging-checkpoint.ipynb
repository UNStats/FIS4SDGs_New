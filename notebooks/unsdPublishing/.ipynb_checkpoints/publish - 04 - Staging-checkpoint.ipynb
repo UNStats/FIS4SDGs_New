{
 "cells": [
  {
   "cell_type": "markdown",
   "metadata": {},
   "source": [
    "# Publishing script"
   ]
  },
  {
   "cell_type": "markdown",
   "metadata": {},
   "source": [
    "## 1. Import required libraries"
   ]
  },
  {
   "cell_type": "code",
   "execution_count": 1,
   "metadata": {},
   "outputs": [],
   "source": [
    "import sys\n",
    "import json\n",
    "import copy\n",
    "import os\n",
    "import csv\n",
    "import fnmatch\n",
    "import getpass\n",
    "import re\n",
    "\n",
    "import requests\n",
    "from arcgis.gis import GIS"
   ]
  },
  {
   "cell_type": "markdown",
   "metadata": {},
   "source": [
    "## 2. Set up the global information and variables"
   ]
  },
  {
   "cell_type": "code",
   "execution_count": 2,
   "metadata": {},
   "outputs": [],
   "source": [
    "global open_data_group         # ArcGIS group with which the data will be shared\n",
    "global failed_series           # Variable to keep track of any csv file that cannot be staged\n",
    "global online_username         # ArcGIS credentials\n",
    "global gis_online_connection   # ArcGIS connection\n",
    "global layer_json_data         # Information pertaining to the layer template\n",
    "global user_items              # Collection of items owned by user"
   ]
  },
  {
   "cell_type": "markdown",
   "metadata": {},
   "source": [
    "#### Initialize failed_series array"
   ]
  },
  {
   "cell_type": "code",
   "execution_count": 3,
   "metadata": {},
   "outputs": [],
   "source": [
    "failed_series = []"
   ]
  },
  {
   "cell_type": "markdown",
   "metadata": {},
   "source": [
    "## 3. User parameters:"
   ]
  },
  {
   "cell_type": "code",
   "execution_count": 4,
   "metadata": {},
   "outputs": [],
   "source": [
    "property_update_only = False\n",
    "update_symbology = True\n",
    "update_sharing = True\n",
    "\n",
    "release = '2019.Q2.G.01' # Make sure to have the correct release here\n",
    "\n",
    "# https://volderette.de/jupyter-notebook-tip-multiple-outputs/\n",
    "from IPython.core.interactiveshell import InteractiveShell\n",
    "InteractiveShell.ast_node_interactivity = \"all\"\n"
   ]
  },
  {
   "cell_type": "markdown",
   "metadata": {},
   "source": [
    "#### Set path to data and metadata directories in the local branch: "
   ]
  },
  {
   "cell_type": "code",
   "execution_count": 5,
   "metadata": {},
   "outputs": [
    {
     "name": "stdout",
     "output_type": "stream",
     "text": [
      "C:\\Users\\L.GonzalezMorales\\Documents\\GitHub\\FIS4SDGs\\notebooks\\unsdPublishing\n",
      "data inputs dir: ../../data/unsd/2019.Q2.G.01/\n"
     ]
    }
   ],
   "source": [
    "dir_path = os.path.dirname(os.path.realpath('__file__'))\n",
    "print(dir_path)\n",
    "\n",
    "data_dir = r'../../data/unsd/' + release + '/'\n",
    "metadata_dir = r\"../../globalResources/\"\n",
    "\n",
    "\n",
    "print('data inputs dir: ' + data_dir)"
   ]
  },
  {
   "cell_type": "markdown",
   "metadata": {},
   "source": [
    "## 4. Utilities"
   ]
  },
  {
   "cell_type": "markdown",
   "metadata": {},
   "source": [
    "### 4.1 - Get metadata"
   ]
  },
  {
   "cell_type": "code",
   "execution_count": 6,
   "metadata": {},
   "outputs": [],
   "source": [
    "\n",
    "def get_series_metadata(file, print_first_element = True):    \n",
    "    \n",
    "    \"\"\" Get json metadata file \"\"\"\n",
    "    \n",
    "    try:\n",
    "        series_metadata = json.load(open(file))\n",
    "        if(print_first_element==True):\n",
    "            print(\"\\n----This is an example of a series_metadata element----\")\n",
    "            print(series_metadata[0])\n",
    "        return series_metadata\n",
    "    \n",
    "    except:\n",
    "        print(\"Unexpected error:\", sys.exc_info()[0])\n",
    "        return None\n",
    "    "
   ]
  },
  {
   "cell_type": "markdown",
   "metadata": {},
   "source": [
    "### 4.2 - Get file catalog"
   ]
  },
  {
   "cell_type": "code",
   "execution_count": 7,
   "metadata": {},
   "outputs": [],
   "source": [
    "def get_file_catalog (dir_path, pattern = '*'):\n",
    "    \n",
    "    \"\"\" Create a list of files in a folder \"\"\"\n",
    "\n",
    "    try:\n",
    "        files = list()\n",
    "\n",
    "        listOfFiles = os.listdir(dir_path)  \n",
    "        for entry in listOfFiles:  \n",
    "            if fnmatch.fnmatch(entry, pattern):\n",
    "                files.append(entry)\n",
    "        return files\n",
    "            \n",
    "    except:\n",
    "        print(\"Unexpected error:\", sys.exc_info()[0]) \n",
    "        return None\n",
    "        "
   ]
  },
  {
   "cell_type": "markdown",
   "metadata": {},
   "source": [
    "### 4.3 - Read csv to list"
   ]
  },
  {
   "cell_type": "code",
   "execution_count": 8,
   "metadata": {},
   "outputs": [],
   "source": [
    "def read_csv_to_list (file, encoding=\"utf8\", delimiter='\\t'):\n",
    "    \n",
    "    \"\"\" Read a csv file into a list \"\"\"\n",
    "\n",
    "    try:\n",
    "        \n",
    "        with open(file, encoding=encoding) as f:\n",
    "            reader = csv.reader(f, delimiter=delimiter)\n",
    "            data = list(reader)\n",
    "        return data\n",
    "            \n",
    "    except:\n",
    "        print(\"Unexpected error:\", sys.exc_info()[0]) \n",
    "        return None"
   ]
  },
  {
   "cell_type": "markdown",
   "metadata": {},
   "source": [
    "### 4.4 - Read csv to dict"
   ]
  },
  {
   "cell_type": "code",
   "execution_count": 9,
   "metadata": {},
   "outputs": [],
   "source": [
    "def read_csv_to_dict (file, encoding=\"utf8\", delimiter='\\t'):\n",
    "    \n",
    "    \"\"\" Read a csv file into a dict \"\"\"\n",
    "\n",
    "    try:\n",
    "   \n",
    "        with open(file,  encoding=encoding) as f:\n",
    "            reader = csv.DictReader(f, delimiter= delimiter)\n",
    "            dict_list = list()\n",
    "            for line in reader:\n",
    "                dict_list.append(dict(line))\n",
    "            return dict_list\n",
    "    \n",
    "    except:\n",
    "        print(\"Unexpected error:\", sys.exc_info()[0]) \n",
    "        return None\n",
    "    \n"
   ]
  },
  {
   "cell_type": "markdown",
   "metadata": {},
   "source": [
    "## 4.5 Split camelCase"
   ]
  },
  {
   "cell_type": "code",
   "execution_count": 10,
   "metadata": {},
   "outputs": [],
   "source": [
    "def camel_case_split(identifier):\n",
    "    matches = re.finditer('.+?(?:(?<=[a-z])(?=[A-Z])|(?<=[A-Z])(?=[A-Z][a-z])|$)', identifier)\n",
    "    x = ' '.join([m.group(0) for m in matches])\n",
    "    return x"
   ]
  },
  {
   "cell_type": "markdown",
   "metadata": {},
   "source": [
    "## 4.6 Compute a hash of a dictionary"
   ]
  },
  {
   "cell_type": "code",
   "execution_count": 34,
   "metadata": {},
   "outputs": [],
   "source": [
    "def dict_hash(d):\n",
    "    out = hashlib.md5()\n",
    "    for key, value in d.items():\n",
    "        out.update(key.encode('utf-8'))\n",
    "        out.update(value.encode('utf-8'))\n",
    "    return out.hexdigest()\n"
   ]
  },
  {
   "cell_type": "markdown",
   "metadata": {},
   "source": [
    "## 4.7 Get unique dictionaries in a list"
   ]
  },
  {
   "cell_type": "code",
   "execution_count": 35,
   "metadata": {},
   "outputs": [],
   "source": [
    "def unique_dicts(dictionary_list):\n",
    "\n",
    "    uniques_map = {}\n",
    "\n",
    "    for d in dictionary_list:\n",
    "        uniques_map[dict_hash(d)] = d\n",
    "\n",
    "    return list(uniques_map.values())\n"
   ]
  },
  {
   "cell_type": "markdown",
   "metadata": {},
   "source": [
    "## 4.8 Extract subset of key-value pairs from Python dictionary object"
   ]
  },
  {
   "cell_type": "code",
   "execution_count": 36,
   "metadata": {},
   "outputs": [],
   "source": [
    "def subdict_list(dict_list, keys_list, exclude = False):\n",
    "    sub_d_list = []\n",
    "    if exclude:\n",
    "        for d in dict_list:\n",
    "            sub_d= {k: d[k] for k in d.keys() if k not in keys_list}\n",
    "            sub_d_list.append(sub_d)\n",
    "    else:\n",
    "        for d in dict_list:\n",
    "            sub_d= {k: d[k] for k in keys_list}\n",
    "            sub_d_list.append(sub_d)\n",
    "    \n",
    "    return sub_d_list\n",
    "\n",
    "\n"
   ]
  },
  {
   "cell_type": "markdown",
   "metadata": {},
   "source": [
    "## 4.9 Get a dict from a list based on something inside the dict"
   ]
  },
  {
   "cell_type": "code",
   "execution_count": 37,
   "metadata": {},
   "outputs": [],
   "source": [
    "def select_dict(dict_list, k, v):\n",
    "    selected = []\n",
    "    for d in dict_list:\n",
    "        if d[k] == v:\n",
    "            selected.append(d)\n",
    "    return selected"
   ]
  },
  {
   "cell_type": "markdown",
   "metadata": {},
   "source": [
    "# 5 - ArcGIS API modules"
   ]
  },
  {
   "cell_type": "markdown",
   "metadata": {},
   "source": [
    "## 5.1 - Open connection to ArcGIS Online Organization"
   ]
  },
  {
   "cell_type": "code",
   "execution_count": 11,
   "metadata": {},
   "outputs": [],
   "source": [
    "def connect_to_arcGIS():\n",
    "\n",
    "    \"\"\"Open connection to ArcGIS Online Organization\"\"\"\n",
    "        \n",
    "    online_username = input('Username: ')\n",
    "    online_password = getpass.getpass('Password: ')\n",
    "    online_connection = \"https://www.arcgis.com\"\n",
    "    gis_online_connection = GIS(online_connection, \n",
    "                                online_username, \n",
    "                                online_password)\n",
    "    \n",
    "    return online_username, gis_online_connection"
   ]
  },
  {
   "cell_type": "markdown",
   "metadata": {},
   "source": [
    "## 5.2 - Explore existing open data gruop"
   ]
  },
  {
   "cell_type": "code",
   "execution_count": 12,
   "metadata": {},
   "outputs": [],
   "source": [
    "def open_data_group(gis_online_connection,id):\n",
    "    \n",
    "    open_data_group = gis_online_connection.groups.get(id)\n",
    "    return (open_data_group)\n",
    "   "
   ]
  },
  {
   "cell_type": "markdown",
   "metadata": {},
   "source": [
    "## 5.3 - Cleanup staging folder"
   ]
  },
  {
   "cell_type": "code",
   "execution_count": 13,
   "metadata": {},
   "outputs": [],
   "source": [
    "def cleanup_staging_folder(user_items):\n",
    "\n",
    "    \"\"\" Cleanup staging folder for Open Data (delete everything in the staging folder for Open Data)\"\"\"\n",
    "    \n",
    "    if input('Do you want to cleanup your staging folder for Open Data? (y/n)') == 'y':\n",
    "        if input('Are you sure? (y/n)') == 'y':\n",
    "            for item in user_items:\n",
    "                print('deleting item ' + item.title)\n",
    "                item.delete()\n",
    "        else: print('Cleanup of staging forlder for Open Data was canceled') \n",
    "    else:\n",
    "        print('Cleanup of staging forlder for Open Data was canceled')      \n",
    "        "
   ]
  },
  {
   "cell_type": "markdown",
   "metadata": {},
   "source": [
    "## 5.4 - Get layer info template"
   ]
  },
  {
   "cell_type": "code",
   "execution_count": 14,
   "metadata": {},
   "outputs": [],
   "source": [
    "def get_layer_info_template(file, print_first_element = True):  \n",
    "    \n",
    "    \"\"\" Get layer info template \"\"\"\n",
    "    \n",
    "    try:\n",
    "        layer_info_template = json.load(open(file))\n",
    "        if(print_first_element==True):\n",
    "            print(\"/n----This is the layer info template ----\")\n",
    "            print(layer_info_template)\n",
    "        return layer_info_template\n",
    "    except:\n",
    "        print(\"Unexpected error:\", sys.exc_info()[0]) \n",
    "        return None\n",
    "        "
   ]
  },
  {
   "cell_type": "markdown",
   "metadata": {},
   "source": [
    "## 5.5 - Build series metadata card"
   ]
  },
  {
   "cell_type": "code",
   "execution_count": 15,
   "metadata": {},
   "outputs": [],
   "source": [
    "def build_series_card(g,t,i,s):\n",
    "    \"\"\" Build series metadata card \"\"\"\n",
    "    \n",
    "    try:\n",
    "        s_card = dict()\n",
    "        title = 'Indicator ' + i['reference'] + ': ' + s['description'].replace('%','percent')\n",
    "        s_card['title'] = (title[:250] + '..') if len(title) > 250 else title\n",
    "        s_card['layer_title'] = s['description'].replace('%','percent').replace(',',' ').replace('/',' ')\n",
    "        \n",
    "        s_card['snippet'] = s_card['title']\n",
    "        \n",
    "        #s_card['snippet'] = (snippet[:250] + '..') if len(snippet) > 250 else snippet\n",
    "        s_card['description'] =  \\\n",
    "                    '<div style=\"background-color: #'+ g['hex'] +'; color:#fff; padding: 15px\">' + \\\n",
    "                    '<ul style=\"list-style: none;\">' + \\\n",
    "                    '<li><strong> Series Name:</strong> ' + s['description'].replace(',',' ').replace('/',' ') + '</li>' + \\\n",
    "                    '<li><strong>Series Code:</strong> ' + s['code'] + '</li>' + \\\n",
    "                    '<li><strong>Release Version:</strong> ' + s['release'] + '</li>'+ \\\n",
    "                    '</ul>' + \\\n",
    "                    '</div>' + \\\n",
    "                    '<div style=\"background-color: #f4f4f4; padding: 15px\">' + \\\n",
    "                    '<p> This dataset is the part of the Global SDG Indicator Database compiled ' + \\\n",
    "                    'through the UN System in preparation for the Secretary-General\\'s annual report on <em>Progress towards the Sustainable Development Goals</em>.' + \\\n",
    "                    '</p>' + \\\n",
    "                    '<p><strong>Indicator ' + i['reference'] + ': </strong>' + i['descEN'] + \\\n",
    "                    '</p>' + \\\n",
    "                    '<p><strong>Target ' + t['code'] + ': </strong>' + t['descEN'] + \\\n",
    "                    '</p>' + \\\n",
    "                    '<p><strong>Goal ' + g['code'] + ': </strong>' + g['descEN'] + \\\n",
    "                    '</p>' +  \\\n",
    "                    '<p><em>For more information on the compilation methodology of this dataset, ' +\\\n",
    "                    ' see <a href=\"https://unstats.un.org/sdgs/metadata/\" target=\"_blank\">https://unstats.un.org/sdgs/metadata/' + \\\n",
    "                    '</a></em></p>'+ \\\n",
    "                    '</div>' \n",
    "        \n",
    "        series_tags = s['tags'][:]\n",
    "        series_tags.append(s['release'])\n",
    "                \n",
    "        s_card['tags'] = series_tags\n",
    "        \n",
    "        return s_card\n",
    "    except:\n",
    "        print('Unexpected error:', sys.exc_info()[0]) \n",
    "        return None\n",
    "        "
   ]
  },
  {
   "cell_type": "markdown",
   "metadata": {},
   "source": [
    "## 5.6 - Find online item"
   ]
  },
  {
   "cell_type": "code",
   "execution_count": 16,
   "metadata": {},
   "outputs": [],
   "source": [
    "def find_online_item(title, owner, gis_online_connection, force_find=True):\n",
    "        \n",
    "    try:\n",
    "\n",
    "        # Search for this ArcGIS Online Item\n",
    "        query_string = \"title:'{}' AND owner:{}\".format(title, owner)\n",
    "        print('Searching for ' + title)\n",
    "        # The search() method returns a list of Item objects that match the \n",
    "        # search criteria\n",
    "        search_results = gis_online_connection.content.search(query_string)\n",
    "        \n",
    "        if search_results:\n",
    "            for item in search_results:\n",
    "                if item['title'] == title:\n",
    "                    print(' -- Item ' + title + ' found (simple find)')\n",
    "                    return item\n",
    "        \n",
    "        if force_find:\n",
    "            user = gis_online_connection.users.get(owner)\n",
    "            user_items = user.items(folder='Open Data', max_items=800)\n",
    "            for item in user_items:\n",
    "                if item['title'] == title:\n",
    "                    print(' -- Item ' + title + ' found (force find)')\n",
    "                    return item\n",
    "            print(' -- Item ' + title + ' not found (force find)')\n",
    "            return None\n",
    "        \n",
    "        print(' -- Item ' + title + ' not found (simple find)')\n",
    "        return None\n",
    "    \n",
    "    except:\n",
    "        print('Unexpected error:', sys.exc_info()[0])\n",
    "        return None"
   ]
  },
  {
   "cell_type": "markdown",
   "metadata": {},
   "source": [
    "## 5.7 - Generate renderer information"
   ]
  },
  {
   "cell_type": "code",
   "execution_count": 17,
   "metadata": {},
   "outputs": [],
   "source": [
    "def generate_renderer_infomation(feature_item, \n",
    "                                 statistic_field,\n",
    "                                 layer_info,\n",
    "                                 color=None):\n",
    "    try:\n",
    "        if len(color) == 3:\n",
    "            color.append(130)  ###---specifies the alpha channel of the color\n",
    "        \n",
    "        visual_params = layer_info['layerInfo']\n",
    "        definition_item = feature_item.layers[0]\n",
    "\n",
    "        #get the min/max values\n",
    "        out_statistics= [{'statisticType': 'max',\n",
    "                          'onStatisticField': statistic_field, \n",
    "                          'outStatisticFieldName': statistic_field + '_max'},\n",
    "                        {'statisticType': 'min',\n",
    "                         'onStatisticField': statistic_field, \n",
    "                         'outStatisticFieldName': statistic_field + '_min'}]\n",
    "        \n",
    "        feature_set = definition_item.query(where='1=1',out_statistics=out_statistics)\n",
    "\n",
    "        max_value = feature_set.features[0].attributes[statistic_field + '_max']\n",
    "        min_value = feature_set.features[0].attributes[statistic_field + '_min']\n",
    "        \n",
    "        visual_params['drawingInfo']['renderer']['visualVariables'][0]['minDataValue'] = min_value\n",
    "        visual_params['drawingInfo']['renderer']['visualVariables'][0]['maxDataValue'] = max_value\n",
    "\n",
    "        visual_params['drawingInfo']['renderer']['authoringInfo']['visualVariables'][0]['minSliderValue'] = min_value\n",
    "        visual_params['drawingInfo']['renderer']['authoringInfo']['visualVariables'][0]['maxSliderValue'] = max_value\n",
    "        \n",
    "        visual_params['drawingInfo']['renderer']['classBreakInfos'][0]['symbol']['color'] = color\n",
    "        visual_params['drawingInfo']['renderer']['transparency'] = 25\n",
    "\n",
    "        definition_update_params = definition_item.properties\n",
    "        definition_update_params['drawingInfo']['renderer'] = visual_params['drawingInfo']['renderer']\n",
    "        if 'editingInfo' in definition_update_params:\n",
    "            del definition_update_params['editingInfo']\n",
    "        definition_update_params['capabilities'] = 'Query, Extract, Sync'\n",
    "        print('Update Feature Service Symbology')\n",
    "        definition_item.manager.update_definition(definition_update_params)\n",
    "\n",
    "        return\n",
    "    except:\n",
    "        print('Unexpected error in generate_renderer_infomation:', sys.exc_info()[0])\n",
    "        return None\n"
   ]
  },
  {
   "cell_type": "markdown",
   "metadata": {},
   "source": [
    "## 5.8 - Publish csv"
   ]
  },
  {
   "cell_type": "code",
   "execution_count": 70,
   "metadata": {},
   "outputs": [],
   "source": [
    "def publish_csv(g,t,i,s, \n",
    "                item_properties, \n",
    "                thumbnail,\n",
    "                layer_info,\n",
    "                gis_online_connection, \n",
    "                data_dir,\n",
    "                online_username,\n",
    "                statistic_field = 'value_latest_year',\n",
    "                property_update_only=False, \n",
    "                color=[169,169,169]):\n",
    "\n",
    "    \n",
    "    # Check if service name is available; if not, update the link\n",
    "    service_title = s['code'] + '_' + i['reference'].replace('.','_') + '_' + s['release'].replace('.', '')\n",
    "    \n",
    "    #display(service_title)\n",
    "    \n",
    "    service_title_num = 1\n",
    "\n",
    "    while not gis_online_connection.content.is_service_name_available(service_name= service_title, \n",
    "                                                                      service_type = 'featureService'):\n",
    "        service_title = s['code'] + '_' + i['reference'].replace('.','_') + '_' + s['release'].replace('.', '') + \\\n",
    "          '_' + str(service_title_num)\n",
    "        service_title_num += 1\n",
    "\n",
    "    #display(service_title_num)\n",
    "    \n",
    "    # csv file to be uploaded:\n",
    "    file = os.path.join(data_dir, 'csv_Indicator_' + i['reference'] + '_Series_' + s['code'] + '.csv' )\n",
    "    \n",
    "    display(file)\n",
    "\n",
    "    if os.path.isfile(file):\n",
    "        csv_item_properties = copy.deepcopy(item_properties)\n",
    "        csv_item_properties['name'] = service_title\n",
    "        csv_item_properties['title'] = service_title\n",
    "        csv_item_properties['type'] = 'CSV'\n",
    "        csv_item_properties['url'] = ''\n",
    "        \n",
    "        display(csv_item_properties)\n",
    "\n",
    "        # Does this CSV already exist\n",
    "        csv_item = find_online_item(csv_item_properties['title'],online_username,gis_online_connection)\n",
    "        \n",
    "        if csv_item is None:\n",
    "            print('Adding CSV File to ArcGIS Online....')\n",
    "            \n",
    "            #display(gis_online_connection)\n",
    "            #display(thumbnail)\n",
    "            \n",
    "            \n",
    "            csv_item = gis_online_connection.content.add(item_properties=csv_item_properties, \n",
    "                                                         thumbnail=thumbnail,\n",
    "                                                         data=file)\n",
    "            \n",
    "            \n",
    "            \n",
    "            if csv_item is None:\n",
    "                return None\n",
    "\n",
    "            print('Analyze Feature Service....')\n",
    "            publish_parameters = analyze_csv(csv_item['id'],gis_online_connection)\n",
    "            if publish_parameters is None:\n",
    "                return None\n",
    "            else:\n",
    "                publish_parameters['name'] = csv_item_properties['title']\n",
    "                publish_parameters['layerInfo']['name'] = csv_item_properties['layer_title']\n",
    "                print('Publishing Feature Service....')\n",
    "                csv_lyr = csv_item.publish(publish_parameters=publish_parameters, overwrite=True)\n",
    "\n",
    "                # Update the layer infomation with a basic rendering based on the Latest Value\n",
    "                # use the hex color from the SDG Metadata for the symbol color\n",
    "\n",
    "                print('.......call generate renderer within publish_csv')\n",
    "                generate_renderer_infomation(feature_item=csv_lyr,\n",
    "                                             statistic_field = statistic_field,\n",
    "                                             layer_info = layer_info,\n",
    "                                             color=color) \n",
    "                \n",
    "                \n",
    "        else:\n",
    "            # Update the Data file for the CSV File\n",
    "            csv_item.update(item_properties=csv_item_properties, thumbnail=thumbnail, data=file)\n",
    "            # Find the Feature Service and update the properties\n",
    "            csv_lyr = find_online_item(csv_item_properties['title'],online_username,gis_online_connection)\n",
    "\n",
    "        # Move to the Open Data Folder\n",
    "        if csv_item['ownerFolder'] is None:\n",
    "            print('Moving CSV to Open Data Folder')\n",
    "            csv_item.move('Open Data SDG' + g['code'].zfill(2))\n",
    "\n",
    "        if csv_lyr is not None:\n",
    "            print('Updating Feature Service metadata....')\n",
    "            csv_lyr.update(item_properties=item_properties, thumbnail=thumbnail)\n",
    "\n",
    "            if csv_lyr['ownerFolder'] is None:\n",
    "                print('Moving Feature Service to Open Data Folder')\n",
    "                csv_lyr.move('Open Data SDG' + g['code'].zfill(2))\n",
    "\n",
    "            return csv_lyr\n",
    "        else:\n",
    "            return None\n",
    "    else:\n",
    "        return None"
   ]
  },
  {
   "cell_type": "markdown",
   "metadata": {},
   "source": [
    "## 5.9 - Analyze csv"
   ]
  },
  {
   "cell_type": "code",
   "execution_count": 19,
   "metadata": {},
   "outputs": [],
   "source": [
    "def analyze_csv(item_id, gis_online_connection):\n",
    "    try:\n",
    "        sharing_url = gis_online_connection._url + '/sharing/rest/content/features/analyze'\n",
    "        analyze_params = {'f': 'json', \n",
    "                          'token': gis_online_connection._con.token,\n",
    "                          'sourceLocale': 'en-us',\n",
    "                          'filetype': 'csv', \n",
    "                          'itemid': item_id}\n",
    "        r = requests.post(sharing_url, data=analyze_params)\n",
    "        analyze_json_data = json.loads(r.content.decode('UTF-8'))\n",
    "        for field in analyze_json_data['publishParameters']['layerInfo']['fields']:\n",
    "            field['alias'] = set_field_alias(field['name'])\n",
    "\n",
    "            # IndicatorCode is coming in as a date Field make the correct\n",
    "            if field['name'] == 'indicator':\n",
    "                field['type'] = 'esriFieldTypeString'\n",
    "                field['sqlType'] = 'sqlTypeNVarchar'\n",
    "            \n",
    "            if field['name'] == 'target':\n",
    "                field['type'] = 'esriFieldTypeString'\n",
    "                field['sqlType'] = 'sqlTypeNVarchar'\n",
    "                \n",
    "            if field['name'] == 'latest_year':\n",
    "                field['type'] = 'esriFieldTypeInteger'\n",
    "                field['sqlType'] = 'sqlTypeInt'\n",
    "                \n",
    "                \n",
    "\n",
    "        # set up some of the layer information for display\n",
    "        analyze_json_data['publishParameters']['layerInfo']['displayField'] = 'geoAreaName'\n",
    "        return analyze_json_data['publishParameters']\n",
    "    except:\n",
    "        print('Unexpected error:', sys.exc_info()[0])\n",
    "        return None"
   ]
  },
  {
   "cell_type": "markdown",
   "metadata": {},
   "source": [
    "## 5.10 Set field alias"
   ]
  },
  {
   "cell_type": "code",
   "execution_count": 20,
   "metadata": {},
   "outputs": [],
   "source": [
    "def set_field_alias(field_name):\n",
    "    if field_name == 'release':\n",
    "        return 'Series Release'\n",
    "    if field_name == 'seriesCode':\n",
    "        return 'Series Code'\n",
    "    if field_name == 'seriesDesc':\n",
    "        return 'Series Description'\n",
    "    if field_name == 'release':\n",
    "        return 'Series Release'\n",
    "    if field_name == 'unitsCode':\n",
    "        return 'Units Code'\n",
    "    if field_name == 'unitsDesc':\n",
    "        return 'Units Description'\n",
    "    if field_name == 'unitmultiplierCode':\n",
    "        return 'Unit Multiplier Code'\n",
    "    if field_name == 'unitmultiplierDesc':\n",
    "        return 'Unit Multiplier Description'\n",
    "    if field_name == 'reportingTypeCode':\n",
    "        return 'Reporting Type Code'\n",
    "    if field_name == 'reportingTypeDesc':\n",
    "        return 'Reporting Type Description'\n",
    "    if field_name == 'geoAreaCode':\n",
    "        return 'Geographic Area Code'\n",
    "    if field_name == 'geoAreaName':\n",
    "        return 'Geographic Area Name'\n",
    "    if field_name == 'latest_year':\n",
    "        return 'Latest Year'\n",
    "    if field_name == 'value_latest_year':\n",
    "        return 'Value Latest Year'\n",
    "    if field_name == 'valueDetails':\n",
    "        return 'Value Details'\n",
    "    if field_name == 'ISO3':\n",
    "        return 'ISO Code'\n",
    "    if field_name == 'goal':\n",
    "        return 'Goal'\n",
    "    if field_name == 'target':\n",
    "        return 'Target'\n",
    "    if field_name == 'indicator':\n",
    "        return 'Indicator'\n",
    "    if field_name == 'timeDetails':\n",
    "        return 'Time Details'\n",
    "    if field_name == 'parentCode':\n",
    "        return 'Parent Area Code'\n",
    "    if field_name == 'parentName':\n",
    "        return 'Parent Area Name'\n",
    "    if field_name == 'type':\n",
    "        return 'Geogroaphic Area Type'\n",
    "    if field_name == 'UN_Member':\n",
    "        return 'UN Member'\n",
    "    else:\n",
    "        return camel_case_split(field_name.replace('_', ' ')).replace(' Desc', ' Description').title()\n",
    "    \n",
    "    "
   ]
  },
  {
   "cell_type": "markdown",
   "metadata": {},
   "source": [
    "## 5.11 - Update item categories"
   ]
  },
  {
   "cell_type": "code",
   "execution_count": 21,
   "metadata": {},
   "outputs": [],
   "source": [
    "def update_item_categories(item, goal, target,gis_online_connection):\n",
    "    update_url = gis_online_connection._url + \"/sharing/rest/content/updateItems\"\n",
    "    items = [{item[\"id\"]:{\"categories\":[\"/Categories/Goal \" + str(goal) + \"/Target \" + str(target)]}}]\n",
    "    update_params = {'f': 'json', \n",
    "                         'token': gis_online_connection._con.token, \n",
    "                         'items': json.dumps(items)}\n",
    "    r = requests.post(update_url, data=update_params)\n",
    "    update_json_data = json.loads(r.content.decode(\"UTF-8\"))\n",
    "    print(update_json_data)"
   ]
  },
  {
   "cell_type": "markdown",
   "metadata": {},
   "source": [
    "---\n",
    "# 6. Main publication script\n",
    "---"
   ]
  },
  {
   "cell_type": "markdown",
   "metadata": {},
   "source": [
    "## 6.1 Establish connections to ArcGIS"
   ]
  },
  {
   "cell_type": "markdown",
   "metadata": {},
   "source": [
    "#### Get ArcGIS connection:"
   ]
  },
  {
   "cell_type": "code",
   "execution_count": 23,
   "metadata": {},
   "outputs": [
    {
     "name": "stdin",
     "output_type": "stream",
     "text": [
      "Username:  gonzalezmorales_undesa\n",
      "Password:  ··········\n"
     ]
    }
   ],
   "source": [
    "online_username, gis_online_connection = connect_to_arcGIS()"
   ]
  },
  {
   "cell_type": "code",
   "execution_count": 69,
   "metadata": {},
   "outputs": [
    {
     "data": {
      "text/html": [
       "GIS @ <a href=\"https://undesa.maps.arcgis.com\">https://undesa.maps.arcgis.com</a>"
      ],
      "text/plain": [
       "<arcgis.gis.GIS at 0x2784a322fd0>"
      ]
     },
     "execution_count": 69,
     "metadata": {},
     "output_type": "execute_result"
    }
   ],
   "source": [
    "gis_online_connection"
   ]
  },
  {
   "cell_type": "markdown",
   "metadata": {},
   "source": [
    "#### Get open data group:"
   ]
  },
  {
   "cell_type": "code",
   "execution_count": 24,
   "metadata": {},
   "outputs": [],
   "source": [
    "open_data_group = open_data_group(gis_online_connection,'ad013d2911184063a0f0c97d252daf32' ) # Luis\n",
    "#open_data_group = open_data_group(gis_online_connection,'967dbf64d680450eaf424ac4a38799ad' ) # Travis"
   ]
  },
  {
   "cell_type": "code",
   "execution_count": 25,
   "metadata": {},
   "outputs": [
    {
     "data": {
      "text/html": [
       "<div class=\"9item_container\" style=\"height: auto; overflow: hidden; border: 1px solid #cfcfcf; border-radius: 2px; background: #f6fafa; line-height: 1.21429em; padding: 10px;\">\n",
       "                    <div class=\"item_left\" style=\"width: 210px; float: left;\">\n",
       "                       <a href='https://undesa.maps.arcgis.com/home/group.html?id=ad013d2911184063a0f0c97d252daf32' target='_blank'>\n",
       "                        <img src='data:image/png;base64,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' ' class=\"itemThumbnail\">\n",
       "                       </a>\n",
       "                    </div>\n",
       "\n",
       "                    <div class=\"item_right\" style=\"float: none; width: auto; overflow: hidden;\">\n",
       "                        <a href='https://undesa.maps.arcgis.com/home/group.html?id=ad013d2911184063a0f0c97d252daf32' target='_blank'><b>Open Data Staging - Luis</b>\n",
       "                        </a>\n",
       "                        <br/>\n",
       "                        <br/><b>Summary</b>: Personal group for staging data before publication\n",
       "                        <br/><b>Description</b>: Use this group for staging personal content before publication into Open Data Site\n",
       "                        <br/><b>Owner</b>: gonzalezmorales_undesa\n",
       "                        <br/><b>Created</b>: April 05, 2018\n",
       "\n",
       "                    </div>\n",
       "                </div>\n",
       "                "
      ],
      "text/plain": [
       "<Group title:\"Open Data Staging - Luis\" owner:gonzalezmorales_undesa>"
      ]
     },
     "execution_count": 25,
     "metadata": {},
     "output_type": "execute_result"
    }
   ],
   "source": [
    "open_data_group"
   ]
  },
  {
   "cell_type": "code",
   "execution_count": 26,
   "metadata": {},
   "outputs": [
    {
     "data": {
      "text/html": [
       "<div class=\"item_container\" style=\"height: auto; overflow: hidden; border: 1px solid #cfcfcf; border-radius: 2px; background: #f6fafa; line-height: 1.21429em; padding: 10px;\">\n",
       "                    <div class=\"item_left\" style=\"width: 210px; float: left;\">\n",
       "                       <a href='https://undesa.maps.arcgis.com/home/item.html?id=4c18088af2434cd0a2507e8238a594c3' target='_blank'>\n",
       "                        <img src='data:image/png;base64,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' width='200' height='133' class=\"itemThumbnail\">\n",
       "                       </a>\n",
       "                    </div>\n",
       "\n",
       "                    <div class=\"item_right\"     style=\"float: none; width: auto; overflow: hidden;\">\n",
       "                        <a href='https://undesa.maps.arcgis.com/home/item.html?id=4c18088af2434cd0a2507e8238a594c3' target='_blank'><b>Indicator 14.a.1: National ocean science expenditure as a share of total research and development funding (percent)</b>\n",
       "                        </a>\n",
       "                        <br/>Indicator 14.a.1: National ocean science expenditure as a share of total research and development funding (percent)<img src='https://undesa.maps.arcgis.com/home/js/jsapi/esri/css/images/item_type_icons/featureshosted16.png' style=\"vertical-align:middle;\">Feature Layer Collection by unstats_admin\n",
       "                        <br/>Last Modified: September 20, 2018\n",
       "                        <br/>0 comments, 7 views\n",
       "                    </div>\n",
       "                </div>\n",
       "                "
      ],
      "text/plain": [
       "<Item title:\"Indicator 14.a.1: National ocean science expenditure as a share of total research and development funding (percent)\" type:Feature Layer Collection owner:unstats_admin>"
      ]
     },
     "execution_count": 26,
     "metadata": {},
     "output_type": "execute_result"
    }
   ],
   "source": [
    "odg_content = open_data_group.content()\n",
    "odg_content[0]"
   ]
  },
  {
   "cell_type": "code",
   "execution_count": 28,
   "metadata": {},
   "outputs": [
    {
     "data": {
      "text/plain": [
       "[{'id': '4c18088af2434cd0a2507e8238a594c3',\n",
       "  'title': 'Indicator 14.a.1: National ocean science expenditure as a share of total research and development funding (percent)',\n",
       "  'type': 'Feature Service',\n",
       "  'owner': 'unstats_admin',\n",
       "  'tags': ['means of implementation',\n",
       "   'marine resources',\n",
       "   'marine ecosystems',\n",
       "   '2018.Q2.G.01'],\n",
       "  'description': '<p><strong>Series ER_RDE_OSEX: </strong>National ocean science expenditure as a share of total research and development funding (%)</p><p><strong>Indicator 14.a.1: </strong>Proportion of total research budget allocated to research in the field of marine technology</p><p><strong>Target 14.a: </strong>Increase scientific knowledge, develop research capacity and transfer marine technology, taking into account the Intergovernmental Oceanographic Commission Criteria and Guidelines on the Transfer of Marine Technology, in order to improve ocean health and to enhance the contribution of marine biodiversity to the development of developing countries, in particular small island developing States and least developed countries</p><p><strong>Goal 14: </strong>Conserve and sustainably use the oceans, seas and marine resources for sustainable development</p><p><em>Release Version: 2018.Q2.G.01 </em></p>',\n",
       "  'snippet': 'Indicator 14.a.1: National ocean science expenditure as a share of total research and development funding (percent)',\n",
       "  'access': 'org',\n",
       "  'thumbnail': 'thumbnail/tmpewt5u0yq.png',\n",
       "  'categories': ['/Categories/Goal 14/Target 14.a']}]"
      ]
     },
     "execution_count": 28,
     "metadata": {},
     "output_type": "execute_result"
    }
   ],
   "source": [
    "odg_content_metadata = []\n",
    "for i in odg_content:\n",
    "    d = {}\n",
    "    d['id'] = i.id\n",
    "    d['title'] = i.title\n",
    "    d['type'] = i.type\n",
    "    d['owner'] = i.owner\n",
    "    d['tags'] = i.tags\n",
    "    d['description'] = i.description\n",
    "    d['snippet'] = i.snippet\n",
    "    d['access'] = i.access\n",
    "    d['thumbnail'] = i.thumbnail\n",
    "    d['categories'] = i.categories\n",
    "    odg_content_metadata.append(d)\n",
    "\n",
    "odg_content_metadata"
   ]
  },
  {
   "cell_type": "markdown",
   "metadata": {},
   "source": [
    "## 6.2 Data inputs"
   ]
  },
  {
   "cell_type": "code",
   "execution_count": 29,
   "metadata": {},
   "outputs": [],
   "source": [
    "# 1. csv metadata\n",
    "series_metadata = get_series_metadata(metadata_dir + 'metadata.json', False)\n",
    "\n",
    "# 2.  layer info template\n",
    "layer_info = get_series_metadata(metadata_dir + 'layerinfo.json', False)\n"
   ]
  },
  {
   "cell_type": "code",
   "execution_count": 30,
   "metadata": {},
   "outputs": [
    {
     "data": {
      "text/plain": [
       "['code',\n",
       " 'labelEN',\n",
       " 'descEN',\n",
       " 'labelES',\n",
       " 'descES',\n",
       " 'labelFR',\n",
       " 'descFR',\n",
       " 'targets',\n",
       " 'thumbnail',\n",
       " 'hex',\n",
       " 'rgb',\n",
       " 'colorScheme']"
      ]
     },
     "execution_count": 30,
     "metadata": {},
     "output_type": "execute_result"
    },
    {
     "data": {
      "text/plain": [
       "['code',\n",
       " 'labelEN',\n",
       " 'descEN',\n",
       " 'labelES',\n",
       " 'descES',\n",
       " 'labelFR',\n",
       " 'descFR',\n",
       " 'indicators']"
      ]
     },
     "execution_count": 30,
     "metadata": {},
     "output_type": "execute_result"
    },
    {
     "data": {
      "text/plain": [
       "['code',\n",
       " 'reference',\n",
       " 'labelEN',\n",
       " 'descEN',\n",
       " 'labelES',\n",
       " 'descES',\n",
       " 'labelFR',\n",
       " 'descFR',\n",
       " 'tier',\n",
       " 'series']"
      ]
     },
     "execution_count": 30,
     "metadata": {},
     "output_type": "execute_result"
    },
    {
     "data": {
      "text/plain": [
       "['code', 'description', 'release', 'tags']"
      ]
     },
     "execution_count": 30,
     "metadata": {},
     "output_type": "execute_result"
    }
   ],
   "source": [
    "goal_properties = list(series_metadata[0].keys())\n",
    "target_properties = list(series_metadata[1]['targets'][0].keys())\n",
    "indicator_properties = list(series_metadata[1]['targets'][0]['indicators'][0].keys())\n",
    "series_properties = list(series_metadata[1]['targets'][0]['indicators'][0]['series'][0].keys())\n",
    "\n",
    "#goal_properties\n",
    "#target_properties\n",
    "#indicator_properties\n",
    "#series_properties"
   ]
  },
  {
   "cell_type": "code",
   "execution_count": 31,
   "metadata": {},
   "outputs": [
    {
     "data": {
      "text/plain": [
       "['layerInfo',\n",
       " 'allowGeometryUpdates',\n",
       " 'hasAttachments',\n",
       " 'htmlPopupType',\n",
       " 'hasM',\n",
       " 'hasZ',\n",
       " 'globalIdField',\n",
       " 'typeIdField',\n",
       " 'fields',\n",
       " 'indexes',\n",
       " 'types',\n",
       " 'templates',\n",
       " 'supportedQueryFormats',\n",
       " 'hasStaticData',\n",
       " 'maxRecordCount',\n",
       " 'standardMaxRecordCount',\n",
       " 'tileMaxRecordCount',\n",
       " 'maxRecordCountFactor',\n",
       " 'capabilities']"
      ]
     },
     "execution_count": 31,
     "metadata": {},
     "output_type": "execute_result"
    }
   ],
   "source": [
    "layer_info_properties = list(layer_info.keys())\n",
    "#layer_info_properties"
   ]
  },
  {
   "cell_type": "markdown",
   "metadata": {},
   "source": [
    "## 6.3 Publishing loop"
   ]
  },
  {
   "cell_type": "code",
   "execution_count": 73,
   "metadata": {},
   "outputs": [
    {
     "name": "stdout",
     "output_type": "stream",
     "text": [
      "\n",
      "Processing series code: 4.1.1 SE_MAT_PROF\n"
     ]
    },
    {
     "data": {
      "text/plain": [
       "{'code': '4',\n",
       " 'labelEN': 'Goal 4',\n",
       " 'descEN': 'Ensure inclusive and equitable quality education and promote lifelong learning opportunities for all',\n",
       " 'labelES': 'Objetivo 4',\n",
       " 'descES': 'Garantizar una educación inclusiva y equitativa de calidad y promover oportunidades de aprendizaje permanente para todos',\n",
       " 'labelFR': 'Objectif 4',\n",
       " 'descFR': 'Assurer à tous une éducation équitable, inclusive et de qualité et des possibilités d’apprentissage    tout au long de la vie',\n",
       " 'thumbnail': 'https://raw.githubusercontent.com/UNStats/FIS4SDGs/master/sdgIcons/sdgIcons_thumbnails/SDG04.png',\n",
       " 'hex': 'c5192d',\n",
       " 'rgb': [197, 25, 45],\n",
       " 'colorScheme': ['F5DDDD',\n",
       "  'E1B3B2',\n",
       "  'CF8D8C',\n",
       "  'C84F59',\n",
       "  'C22033',\n",
       "  'A22035',\n",
       "  '792037',\n",
       "  '462039']}"
      ]
     },
     "execution_count": 73,
     "metadata": {},
     "output_type": "execute_result"
    },
    {
     "data": {
      "text/plain": [
       "'https://raw.githubusercontent.com/UNStats/FIS4SDGs/master/sdgIcons/sdgIcons_thumbnails/SDG04.png'"
      ]
     },
     "execution_count": 73,
     "metadata": {},
     "output_type": "execute_result"
    },
    {
     "data": {
      "text/plain": [
       "'SE_MAT_PROF_4_1_1_2019Q2G01'"
      ]
     },
     "metadata": {},
     "output_type": "display_data"
    },
    {
     "data": {
      "text/plain": [
       "1"
      ]
     },
     "metadata": {},
     "output_type": "display_data"
    },
    {
     "data": {
      "text/plain": [
       "'../../data/unsd/2019.Q2.G.01/csv_Indicator_4.1.1_Series_SE_MAT_PROF.csv'"
      ]
     },
     "metadata": {},
     "output_type": "display_data"
    },
    {
     "data": {
      "text/plain": [
       "{'title': 'SE_MAT_PROF_4_1_1_2019Q2G01',\n",
       " 'layer_title': 'Minimum proficiency in mathematics  by education level and sex (percent)',\n",
       " 'snippet': 'Indicator 4.1.1: Minimum proficiency in mathematics, by education level and sex (percent)',\n",
       " 'description': '<div style=\"background-color: #c5192d; color:#fff; padding: 15px\"><ul style=\"list-style: none;\"><li><strong> Series Name:</strong> Minimum proficiency in mathematics  by education level and sex (%)</li><li><strong>Series Code:</strong> SE_MAT_PROF</li><li><strong>Release Version:</strong> 2019.Q2.G.01</li></ul></div><div style=\"background-color: #f4f4f4; padding: 15px\"><p> This dataset is the part of the Global SDG Indicator Database compiled through the UN System in preparation for the Secretary-General\\'s annual report on <em>Progress towards the Sustainable Development Goals</em>.</p><p><strong>Indicator 4.1.1: </strong> Proportion of children and young people (a) in grades 2/3; (b) at the end of primary; and (c) at the end of lower secondary achieving at least a minimum proficiency level in (i) reading and (ii) mathematics, by sex</p><p><strong>Target 4.1: </strong>By 2030, ensure that all girls and boys complete free, equitable and quality primary and secondary education leading to relevant and effective learning outcomes</p><p><strong>Goal 4: </strong>Ensure inclusive and equitable quality education and promote lifelong learning opportunities for all</p><p><em>For more information on the compilation methodology of this dataset,  see <a href=\"https://unstats.un.org/sdgs/metadata/\" target=\"_blank\">https://unstats.un.org/sdgs/metadata/</a></em></p></div>',\n",
       " 'tags': ['mathematics and numeracy skills',\n",
       "  'education',\n",
       "  'children',\n",
       "  '2019.Q2.G.01'],\n",
       " 'name': 'SE_MAT_PROF_4_1_1_2019Q2G01',\n",
       " 'type': 'CSV',\n",
       " 'url': ''}"
      ]
     },
     "metadata": {},
     "output_type": "display_data"
    },
    {
     "name": "stdout",
     "output_type": "stream",
     "text": [
      "Searching for SE_MAT_PROF_4_1_1_2019Q2G01\n",
      " -- Item SE_MAT_PROF_4_1_1_2019Q2G01 not found (force find)\n",
      "Adding CSV File to ArcGIS Online....\n"
     ]
    },
    {
     "data": {
      "text/html": [
       "GIS @ <a href=\"https://undesa.maps.arcgis.com\">https://undesa.maps.arcgis.com</a>"
      ],
      "text/plain": [
       "<arcgis.gis.GIS at 0x2784a322fd0>"
      ]
     },
     "metadata": {},
     "output_type": "display_data"
    },
    {
     "data": {
      "text/plain": [
       "'https://raw.githubusercontent.com/UNStats/FIS4SDGs/master/sdgIcons/sdgIcons_thumbnails/SDG04.png'"
      ]
     },
     "metadata": {},
     "output_type": "display_data"
    }
   ],
   "source": [
    "sdgTree = series_metadata.copy()  # Produces a shallow copy of series_metadata\n",
    "\n",
    "for g in sdgTree:\n",
    "    #if g['code'] not in [ '2']:\n",
    "    #    continue\n",
    "    for t in g['targets']:\n",
    "        #if t['code'] not in ['16.8', '16.9', '16.10', '16.a', '16.b']:\n",
    "        #    continue\n",
    "        \n",
    "        for i in t['indicators']:\n",
    "            #if i['reference'] != '13.1.3':\n",
    "            #    continue\n",
    "            if 'series' in i.keys():\n",
    "                for s in i['series']:\n",
    "\n",
    "                    if s['code'] != 'SE_MAT_PROF':\n",
    "                        continue\n",
    "\n",
    "                    print('\\nProcessing series code:', i['reference'], s['code'])\n",
    "                    \n",
    "                    this_g = {k: g[k] for k in g.keys() if k not in ['targets']}\n",
    "                    this_g\n",
    "                    #print('\\n')\n",
    "                    this_t = {k: t[k] for k in t.keys() if k not in ['indicators']}\n",
    "                    #this_t\n",
    "                    #print('\\n')\n",
    "                    this_i = {k: i[k] for k in i.keys() if k not in ['series']}\n",
    "                    #this_i\n",
    "                    #print('\\n')\n",
    "                    #s\n",
    "                    \n",
    "                    s_card = build_series_card(this_g,this_t,this_i,s)\n",
    "                    \n",
    "                    #s_card\n",
    "                    \n",
    "                    #if property_update_only:\n",
    "                    #    online_item = find_online_item(s_card['title'], \n",
    "                    #                                   online_username, \n",
    "                    #                                   gis_online_connection)\n",
    "                    #\n",
    "                    #\n",
    "                    #   if online_item is None:\n",
    "                    #       failed_series.append(s['code'])\n",
    "                    #   else:\n",
    "                    #       online_item.update(item_properties=s_card, \n",
    "                    #                          thumbnail=g['thumbnail'])\n",
    "                    #\n",
    "                    #       if(update_symbology):\n",
    "                    #           generate_renderer_infomation(feature_item=online_item,\n",
    "                    #                                        statistic_field = 'value_latest_year',\n",
    "                    #                                        layer_info = layer_info,\n",
    "                    #                                        color=g['rgb'])     \n",
    "                    #else:\n",
    "                    \n",
    "                    this_g['thumbnail']\n",
    "                    #layer_info\n",
    "                    #this_g['rgb']\n",
    "\n",
    "                    online_item = publish_csv(this_g,\n",
    "                                              this_t,\n",
    "                                              this_i,\n",
    "                                              s, \n",
    "                                              item_properties=s_card,\n",
    "                                              thumbnail=this_g['thumbnail'],\n",
    "                                              layer_info = layer_info, \n",
    "                                              gis_online_connection= gis_online_connection,\n",
    "                                              data_dir = data_dir,\n",
    "                                              online_username = online_username,\n",
    "                                              statistic_field = 'value_latest_year',\n",
    "                                              property_update_only=False, \n",
    "                                              color=this_g['rgb'])\n",
    "\n",
    "                    \n",
    "\n",
    "                    #Only set the sharing when updating or publishing\n",
    "                    if online_item is not None:\n",
    "                        if update_sharing:\n",
    "                            # Share this content with the open data group\n",
    "                            online_item.share(everyone=False, \n",
    "                                              org=True, \n",
    "                                              groups=open_data_group[\"id\"],\n",
    "                                              allow_members_to_edit=False)\n",
    "\n",
    "                        display(online_item)\n",
    "                        # Update the Group Information with Data from the Indicator and targets\n",
    "                        update_item_categories(online_item,\n",
    "                                               g[\"code\"], \n",
    "                                               t[\"code\"],\n",
    "                                               gis_online_connection)\n",
    "\n",
    "                        #open_data_group.update(tags=open_data_group[\"tags\"] + [series[\"code\"]])\n",
    "                    else:\n",
    "                        failed_series.append(s[\"code\"])\n",
    "\n",
    "\n",
    "        \n",
    "        \n"
   ]
  },
  {
   "cell_type": "code",
   "execution_count": null,
   "metadata": {},
   "outputs": [],
   "source": []
  },
  {
   "cell_type": "code",
   "execution_count": null,
   "metadata": {},
   "outputs": [],
   "source": []
  }
 ],
 "metadata": {
  "kernelspec": {
   "display_name": "Python 3",
   "language": "python",
   "name": "python3"
  },
  "language_info": {
   "codemirror_mode": {
    "name": "ipython",
    "version": 3
   },
   "file_extension": ".py",
   "mimetype": "text/x-python",
   "name": "python",
   "nbconvert_exporter": "python",
   "pygments_lexer": "ipython3",
   "version": "3.6.8"
  }
 },
 "nbformat": 4,
 "nbformat_minor": 2
}
