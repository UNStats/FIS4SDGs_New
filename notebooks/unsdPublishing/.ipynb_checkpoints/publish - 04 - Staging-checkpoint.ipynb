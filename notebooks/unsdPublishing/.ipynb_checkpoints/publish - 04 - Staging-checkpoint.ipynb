{
 "cells": [
  {
   "cell_type": "markdown",
   "metadata": {},
   "source": [
    "# Publishing script"
   ]
  },
  {
   "cell_type": "markdown",
   "metadata": {},
   "source": [
    "## 1. Import required libraries"
   ]
  },
  {
   "cell_type": "code",
   "execution_count": 1,
   "metadata": {},
   "outputs": [],
   "source": [
    "import sys\n",
    "import json\n",
    "import copy\n",
    "import os\n",
    "import csv\n",
    "import fnmatch\n",
    "import getpass\n",
    "import re\n",
    "\n",
    "import requests\n",
    "from arcgis.gis import GIS"
   ]
  },
  {
   "cell_type": "markdown",
   "metadata": {},
   "source": [
    "## 2. Set up the global information and variables"
   ]
  },
  {
   "cell_type": "code",
   "execution_count": 2,
   "metadata": {},
   "outputs": [],
   "source": [
    "global open_data_group         # ArcGIS group with which the data will be shared\n",
    "global failed_series           # Variable to keep track of any csv file that cannot be staged\n",
    "global online_username         # ArcGIS credentials\n",
    "global gis_online_connection   # ArcGIS connection\n",
    "global layer_json_data         # Information pertaining to the layer template\n",
    "global user_items              # Collection of items owned by user"
   ]
  },
  {
   "cell_type": "markdown",
   "metadata": {},
   "source": [
    "#### Initialize failed_series array"
   ]
  },
  {
   "cell_type": "code",
   "execution_count": 3,
   "metadata": {},
   "outputs": [],
   "source": [
    "failed_series = []"
   ]
  },
  {
   "cell_type": "markdown",
   "metadata": {},
   "source": [
    "## 3. User parameters:"
   ]
  },
  {
   "cell_type": "code",
   "execution_count": 4,
   "metadata": {},
   "outputs": [],
   "source": [
    "property_update_only = False\n",
    "update_symbology = True\n",
    "update_sharing = True\n",
    "\n",
    "release = '2019.Q2.G.01' # Make sure to have the correct release here\n",
    "\n",
    "# https://volderette.de/jupyter-notebook-tip-multiple-outputs/\n",
    "from IPython.core.interactiveshell import InteractiveShell\n",
    "InteractiveShell.ast_node_interactivity = \"all\"\n"
   ]
  },
  {
   "cell_type": "markdown",
   "metadata": {},
   "source": [
    "#### Set path to data and metadata directories in the local branch: "
   ]
  },
  {
   "cell_type": "code",
   "execution_count": 5,
   "metadata": {},
   "outputs": [
    {
     "name": "stdout",
     "output_type": "stream",
     "text": [
      "C:\\Users\\L.GonzalezMorales\\Documents\\GitHub\\FIS4SDGs\\notebooks\\unsdPublishing\n",
      "data inputs dir: ../../data/unsd/2019.Q2.G.01/\n"
     ]
    }
   ],
   "source": [
    "dir_path = os.path.dirname(os.path.realpath('__file__'))\n",
    "print(dir_path)\n",
    "\n",
    "data_dir = r'../../data/unsd/' + release + '/'\n",
    "metadata_dir = r\"../../globalResources/\"\n",
    "\n",
    "\n",
    "print('data inputs dir: ' + data_dir)"
   ]
  },
  {
   "cell_type": "markdown",
   "metadata": {},
   "source": [
    "## 4. Utilities"
   ]
  },
  {
   "cell_type": "markdown",
   "metadata": {},
   "source": [
    "### 4.1 - Get metadata"
   ]
  },
  {
   "cell_type": "code",
   "execution_count": 6,
   "metadata": {},
   "outputs": [],
   "source": [
    "\n",
    "def get_series_metadata(file, print_first_element = True):    \n",
    "    \n",
    "    \"\"\" Get json metadata file \"\"\"\n",
    "    \n",
    "    try:\n",
    "        series_metadata = json.load(open(file))\n",
    "        if(print_first_element==True):\n",
    "            print(\"\\n----This is an example of a series_metadata element----\")\n",
    "            print(series_metadata[0])\n",
    "        return series_metadata\n",
    "    \n",
    "    except:\n",
    "        print(\"Unexpected error:\", sys.exc_info()[0])\n",
    "        return None\n",
    "    "
   ]
  },
  {
   "cell_type": "markdown",
   "metadata": {},
   "source": [
    "### 4.2 - Get file catalog"
   ]
  },
  {
   "cell_type": "code",
   "execution_count": 7,
   "metadata": {},
   "outputs": [],
   "source": [
    "def get_file_catalog (dir_path, pattern = '*'):\n",
    "    \n",
    "    \"\"\" Create a list of files in a folder \"\"\"\n",
    "\n",
    "    try:\n",
    "        files = list()\n",
    "\n",
    "        listOfFiles = os.listdir(dir_path)  \n",
    "        for entry in listOfFiles:  \n",
    "            if fnmatch.fnmatch(entry, pattern):\n",
    "                files.append(entry)\n",
    "        return files\n",
    "            \n",
    "    except:\n",
    "        print(\"Unexpected error:\", sys.exc_info()[0]) \n",
    "        return None\n",
    "        "
   ]
  },
  {
   "cell_type": "markdown",
   "metadata": {},
   "source": [
    "### 4.3 - Read csv to list"
   ]
  },
  {
   "cell_type": "code",
   "execution_count": 8,
   "metadata": {},
   "outputs": [],
   "source": [
    "def read_csv_to_list (file, encoding=\"utf8\", delimiter='\\t'):\n",
    "    \n",
    "    \"\"\" Read a csv file into a list \"\"\"\n",
    "\n",
    "    try:\n",
    "        \n",
    "        with open(file, encoding=encoding) as f:\n",
    "            reader = csv.reader(f, delimiter=delimiter)\n",
    "            data = list(reader)\n",
    "        return data\n",
    "            \n",
    "    except:\n",
    "        print(\"Unexpected error:\", sys.exc_info()[0]) \n",
    "        return None"
   ]
  },
  {
   "cell_type": "markdown",
   "metadata": {},
   "source": [
    "### 4.4 - Read csv to dict"
   ]
  },
  {
   "cell_type": "code",
   "execution_count": 9,
   "metadata": {},
   "outputs": [],
   "source": [
    "def read_csv_to_dict (file, encoding=\"utf8\", delimiter='\\t'):\n",
    "    \n",
    "    \"\"\" Read a csv file into a dict \"\"\"\n",
    "\n",
    "    try:\n",
    "   \n",
    "        with open(file,  encoding=encoding) as f:\n",
    "            reader = csv.DictReader(f, delimiter= delimiter)\n",
    "            dict_list = list()\n",
    "            for line in reader:\n",
    "                dict_list.append(dict(line))\n",
    "            return dict_list\n",
    "    \n",
    "    except:\n",
    "        print(\"Unexpected error:\", sys.exc_info()[0]) \n",
    "        return None\n",
    "    \n"
   ]
  },
  {
   "cell_type": "markdown",
   "metadata": {},
   "source": [
    "## 4.5 Split camelCase"
   ]
  },
  {
   "cell_type": "code",
   "execution_count": 10,
   "metadata": {},
   "outputs": [],
   "source": [
    "def camel_case_split(identifier):\n",
    "    matches = re.finditer('.+?(?:(?<=[a-z])(?=[A-Z])|(?<=[A-Z])(?=[A-Z][a-z])|$)', identifier)\n",
    "    x = ' '.join([m.group(0) for m in matches])\n",
    "    return x"
   ]
  },
  {
   "cell_type": "markdown",
   "metadata": {},
   "source": [
    "## 4.6 Compute a hash of a dictionary"
   ]
  },
  {
   "cell_type": "code",
   "execution_count": 11,
   "metadata": {},
   "outputs": [],
   "source": [
    "def dict_hash(d):\n",
    "    out = hashlib.md5()\n",
    "    for key, value in d.items():\n",
    "        out.update(key.encode('utf-8'))\n",
    "        out.update(value.encode('utf-8'))\n",
    "    return out.hexdigest()\n"
   ]
  },
  {
   "cell_type": "markdown",
   "metadata": {},
   "source": [
    "## 4.7 Get unique dictionaries in a list"
   ]
  },
  {
   "cell_type": "code",
   "execution_count": 12,
   "metadata": {},
   "outputs": [],
   "source": [
    "def unique_dicts(dictionary_list):\n",
    "\n",
    "    uniques_map = {}\n",
    "\n",
    "    for d in dictionary_list:\n",
    "        uniques_map[dict_hash(d)] = d\n",
    "\n",
    "    return list(uniques_map.values())\n"
   ]
  },
  {
   "cell_type": "markdown",
   "metadata": {},
   "source": [
    "## 4.8 Extract subset of key-value pairs from Python dictionary object"
   ]
  },
  {
   "cell_type": "code",
   "execution_count": 13,
   "metadata": {},
   "outputs": [],
   "source": [
    "def subdict_list(dict_list, keys_list, exclude = False):\n",
    "    sub_d_list = []\n",
    "    if exclude:\n",
    "        for d in dict_list:\n",
    "            sub_d= {k: d[k] for k in d.keys() if k not in keys_list}\n",
    "            sub_d_list.append(sub_d)\n",
    "    else:\n",
    "        for d in dict_list:\n",
    "            sub_d= {k: d[k] for k in keys_list}\n",
    "            sub_d_list.append(sub_d)\n",
    "    \n",
    "    return sub_d_list\n",
    "\n",
    "\n"
   ]
  },
  {
   "cell_type": "markdown",
   "metadata": {},
   "source": [
    "## 4.9 Get a dict from a list based on something inside the dict"
   ]
  },
  {
   "cell_type": "code",
   "execution_count": 14,
   "metadata": {},
   "outputs": [],
   "source": [
    "def select_dict(dict_list, k, v):\n",
    "    selected = []\n",
    "    for d in dict_list:\n",
    "        if d[k] == v:\n",
    "            selected.append(d)\n",
    "    return selected"
   ]
  },
  {
   "cell_type": "markdown",
   "metadata": {},
   "source": [
    "# 5 - ArcGIS API modules"
   ]
  },
  {
   "cell_type": "markdown",
   "metadata": {},
   "source": [
    "## 5.1 - Open connection to ArcGIS Online Organization"
   ]
  },
  {
   "cell_type": "code",
   "execution_count": 15,
   "metadata": {},
   "outputs": [],
   "source": [
    "def connect_to_arcGIS():\n",
    "\n",
    "    \"\"\"Open connection to ArcGIS Online Organization\"\"\"\n",
    "        \n",
    "    online_username = input('Username: ')\n",
    "    online_password = getpass.getpass('Password: ')\n",
    "    online_connection = \"https://www.arcgis.com\"\n",
    "    gis_online_connection = GIS(online_connection, \n",
    "                                online_username, \n",
    "                                online_password)\n",
    "    \n",
    "    return online_username, gis_online_connection"
   ]
  },
  {
   "cell_type": "markdown",
   "metadata": {},
   "source": [
    "## 5.2 - Explore existing open data gruop"
   ]
  },
  {
   "cell_type": "code",
   "execution_count": 16,
   "metadata": {},
   "outputs": [],
   "source": [
    "def open_data_group(gis_online_connection,id):\n",
    "    \n",
    "    open_data_group = gis_online_connection.groups.get(id)\n",
    "    return (open_data_group)\n",
    "   "
   ]
  },
  {
   "cell_type": "markdown",
   "metadata": {},
   "source": [
    "## 5.3 - Cleanup staging folder"
   ]
  },
  {
   "cell_type": "code",
   "execution_count": 17,
   "metadata": {},
   "outputs": [],
   "source": [
    "def cleanup_staging_folder(user_items):\n",
    "\n",
    "    \"\"\" Cleanup staging folder for Open Data (delete everything in the staging folder for Open Data)\"\"\"\n",
    "    \n",
    "    if input('Do you want to cleanup your staging folder for Open Data? (y/n)') == 'y':\n",
    "        if input('Are you sure? (y/n)') == 'y':\n",
    "            for item in user_items:\n",
    "                print('deleting item ' + item.title)\n",
    "                item.delete()\n",
    "        else: print('Cleanup of staging forlder for Open Data was canceled') \n",
    "    else:\n",
    "        print('Cleanup of staging forlder for Open Data was canceled')      \n",
    "        "
   ]
  },
  {
   "cell_type": "markdown",
   "metadata": {},
   "source": [
    "## 5.4 - Get layer info template"
   ]
  },
  {
   "cell_type": "code",
   "execution_count": 18,
   "metadata": {},
   "outputs": [],
   "source": [
    "def get_layer_info_template(file, print_first_element = True):  \n",
    "    \n",
    "    \"\"\" Get layer info template \"\"\"\n",
    "    \n",
    "    try:\n",
    "        layer_info_template = json.load(open(file))\n",
    "        if(print_first_element==True):\n",
    "            print(\"/n----This is the layer info template ----\")\n",
    "            print(layer_info_template)\n",
    "        return layer_info_template\n",
    "    except:\n",
    "        print(\"Unexpected error:\", sys.exc_info()[0]) \n",
    "        return None\n",
    "        "
   ]
  },
  {
   "cell_type": "markdown",
   "metadata": {},
   "source": [
    "## 5.5 - Build series metadata card"
   ]
  },
  {
   "cell_type": "code",
   "execution_count": 19,
   "metadata": {},
   "outputs": [],
   "source": [
    "def build_series_card(g,t,i,s):\n",
    "    \"\"\" Build series metadata card \"\"\"\n",
    "    \n",
    "    try:\n",
    "        s_card = dict()\n",
    "        title = 'Indicator ' + i['reference'] + ': ' + s['description'].replace('%','percent')\n",
    "        s_card['title'] = (title[:250] + '..') if len(title) > 250 else title\n",
    "        s_card['layer_title'] = s['description'].replace('%','percent').replace(',',' ').replace('/',' ')\n",
    "        \n",
    "        s_card['snippet'] = s_card['title']\n",
    "        \n",
    "        #s_card['snippet'] = (snippet[:250] + '..') if len(snippet) > 250 else snippet\n",
    "        s_card['description'] =  \\\n",
    "                    '<div style=\"background-color: #'+ g['hex'] +'; color:#fff; padding: 15px\">' + \\\n",
    "                    '<ul style=\"list-style: none;\">' + \\\n",
    "                    '<li><strong> Series Name:</strong> ' + s['description'].replace(',',' ').replace('/',' ') + '</li>' + \\\n",
    "                    '<li><strong>Series Code:</strong> ' + s['code'] + '</li>' + \\\n",
    "                    '<li><strong>Release Version:</strong> ' + s['release'] + '</li>'+ \\\n",
    "                    '</ul>' + \\\n",
    "                    '</div>' + \\\n",
    "                    '<div style=\"background-color: #f4f4f4; padding: 15px\">' + \\\n",
    "                    '<p> This dataset is the part of the Global SDG Indicator Database compiled ' + \\\n",
    "                    'through the UN System in preparation for the Secretary-General\\'s annual report on <em>Progress towards the Sustainable Development Goals</em>.' + \\\n",
    "                    '</p>' + \\\n",
    "                    '<p><strong>Indicator ' + i['reference'] + ': </strong>' + i['descEN'] + \\\n",
    "                    '</p>' + \\\n",
    "                    '<p><strong>Target ' + t['code'] + ': </strong>' + t['descEN'] + \\\n",
    "                    '</p>' + \\\n",
    "                    '<p><strong>Goal ' + g['code'] + ': </strong>' + g['descEN'] + \\\n",
    "                    '</p>' +  \\\n",
    "                    '<p><em>For more information on the compilation methodology of this dataset, ' +\\\n",
    "                    ' see <a href=\"https://unstats.un.org/sdgs/metadata/\" target=\"_blank\">https://unstats.un.org/sdgs/metadata/' + \\\n",
    "                    '</a></em></p>'+ \\\n",
    "                    '</div>' \n",
    "        \n",
    "        series_tags = s['tags'][:]\n",
    "        series_tags.append(s['release'])\n",
    "                \n",
    "        s_card['tags'] = series_tags\n",
    "        \n",
    "        return s_card\n",
    "    except:\n",
    "        print('Unexpected error:', sys.exc_info()[0]) \n",
    "        return None\n",
    "        "
   ]
  },
  {
   "cell_type": "markdown",
   "metadata": {},
   "source": [
    "## 5.6 - Find online item"
   ]
  },
  {
   "cell_type": "code",
   "execution_count": 20,
   "metadata": {},
   "outputs": [],
   "source": [
    "def find_online_item(title, owner, gis_online_connection, force_find=True):\n",
    "        \n",
    "    try:\n",
    "\n",
    "        # Search for this ArcGIS Online Item\n",
    "        query_string = \"title:'{}' AND owner:{}\".format(title, owner)\n",
    "        print('Searching for ' + title)\n",
    "        # The search() method returns a list of Item objects that match the \n",
    "        # search criteria\n",
    "        search_results = gis_online_connection.content.search(query_string)\n",
    "        \n",
    "        if search_results:\n",
    "            for item in search_results:\n",
    "                if item['title'] == title:\n",
    "                    print(' -- Item ' + title + ' found (simple find)')\n",
    "                    return item\n",
    "        \n",
    "        if force_find:\n",
    "            user = gis_online_connection.users.get(owner)\n",
    "            user_items = user.items(folder='Open Data', max_items=800)\n",
    "            for item in user_items:\n",
    "                if item['title'] == title:\n",
    "                    print(' -- Item ' + title + ' found (force find)')\n",
    "                    return item\n",
    "            print(' -- Item ' + title + ' not found (force find)')\n",
    "            return None\n",
    "        \n",
    "        print(' -- Item ' + title + ' not found (simple find)')\n",
    "        return None\n",
    "    \n",
    "    except:\n",
    "        print('Unexpected error:', sys.exc_info()[0])\n",
    "        return None"
   ]
  },
  {
   "cell_type": "markdown",
   "metadata": {},
   "source": [
    "## 5.7 - Generate renderer information"
   ]
  },
  {
   "cell_type": "code",
   "execution_count": 21,
   "metadata": {},
   "outputs": [],
   "source": [
    "def generate_renderer_infomation(feature_item, \n",
    "                                 statistic_field,\n",
    "                                 layer_info,\n",
    "                                 color=None):\n",
    "    try:\n",
    "        if len(color) == 3:\n",
    "            color.append(130)  ###---specifies the alpha channel of the color\n",
    "        \n",
    "        visual_params = layer_info['layerInfo']\n",
    "        definition_item = feature_item.layers[0]\n",
    "\n",
    "        #get the min/max values\n",
    "        out_statistics= [{'statisticType': 'max',\n",
    "                          'onStatisticField': statistic_field, \n",
    "                          'outStatisticFieldName': statistic_field + '_max'},\n",
    "                        {'statisticType': 'min',\n",
    "                         'onStatisticField': statistic_field, \n",
    "                         'outStatisticFieldName': statistic_field + '_min'}]\n",
    "        \n",
    "        feature_set = definition_item.query(where='1=1',out_statistics=out_statistics)\n",
    "\n",
    "        max_value = feature_set.features[0].attributes[statistic_field + '_max']\n",
    "        min_value = feature_set.features[0].attributes[statistic_field + '_min']\n",
    "        \n",
    "        visual_params['drawingInfo']['renderer']['visualVariables'][0]['minDataValue'] = min_value\n",
    "        visual_params['drawingInfo']['renderer']['visualVariables'][0]['maxDataValue'] = max_value\n",
    "\n",
    "        visual_params['drawingInfo']['renderer']['authoringInfo']['visualVariables'][0]['minSliderValue'] = min_value\n",
    "        visual_params['drawingInfo']['renderer']['authoringInfo']['visualVariables'][0]['maxSliderValue'] = max_value\n",
    "        \n",
    "        visual_params['drawingInfo']['renderer']['classBreakInfos'][0]['symbol']['color'] = color\n",
    "        visual_params['drawingInfo']['renderer']['transparency'] = 25\n",
    "\n",
    "        definition_update_params = definition_item.properties\n",
    "        definition_update_params['drawingInfo']['renderer'] = visual_params['drawingInfo']['renderer']\n",
    "        if 'editingInfo' in definition_update_params:\n",
    "            del definition_update_params['editingInfo']\n",
    "        definition_update_params['capabilities'] = 'Query, Extract, Sync'\n",
    "        print('Update Feature Service Symbology')\n",
    "        definition_item.manager.update_definition(definition_update_params)\n",
    "\n",
    "        return\n",
    "    except:\n",
    "        print('Unexpected error in generate_renderer_infomation:', sys.exc_info()[0])\n",
    "        return None\n"
   ]
  },
  {
   "cell_type": "markdown",
   "metadata": {},
   "source": [
    "## 5.8 - Publish csv"
   ]
  },
  {
   "cell_type": "code",
   "execution_count": 42,
   "metadata": {},
   "outputs": [],
   "source": [
    "def publish_csv(g,t,i,s, \n",
    "                item_properties, \n",
    "                thumbnail,\n",
    "                layer_info,\n",
    "                gis_online_connection, \n",
    "                data_dir,\n",
    "                online_username,\n",
    "                statistic_field = 'value_latest_year',\n",
    "                property_update_only=False, \n",
    "                color=[169,169,169]):\n",
    "\n",
    "    \n",
    "    # Check if service name is available; if not, update the link\n",
    "    service_title = s['code'] + '_' + i['reference'].replace('.','_') + '_' + s['release'].replace('.', '')\n",
    "    \n",
    "    #display(service_title)\n",
    "    \n",
    "    service_title_num = 1\n",
    "\n",
    "    while not gis_online_connection.content.is_service_name_available(service_name= service_title, \n",
    "                                                                      service_type = 'featureService'):\n",
    "        service_title = s['code'] + '_' + i['reference'].replace('.','_') + '_' + s['release'].replace('.', '') + \\\n",
    "          '_' + str(service_title_num)\n",
    "        service_title_num += 1\n",
    "\n",
    "    #display(service_title_num)\n",
    "    \n",
    "    # csv file to be uploaded:\n",
    "    file = os.path.join(data_dir, 'csv_Indicator_' + i['reference'] + '_Series_' + s['code'] + '.csv' )\n",
    "    \n",
    "    display(file)\n",
    "\n",
    "    if os.path.isfile(file):\n",
    "        csv_item_properties = copy.deepcopy(item_properties)\n",
    "        csv_item_properties['name'] = service_title\n",
    "        csv_item_properties['title'] = service_title\n",
    "        csv_item_properties['type'] = 'CSV'\n",
    "        csv_item_properties['url'] = ''\n",
    "        \n",
    "        #display(csv_item_properties)\n",
    "\n",
    "        # Does this CSV already exist\n",
    "        csv_item = find_online_item(csv_item_properties['title'],online_username,gis_online_connection)\n",
    "        \n",
    "        if csv_item is None:\n",
    "            print('Adding CSV File to ArcGIS Online....')\n",
    "            \n",
    "            #display(gis_online_connection)\n",
    "            #display(thumbnail)\n",
    "            \n",
    "            \n",
    "            csv_item = gis_online_connection.content.add(item_properties=csv_item_properties, \n",
    "                                                         thumbnail=thumbnail,\n",
    "                                                         data=file)\n",
    "            \n",
    "            \n",
    "            \n",
    "            if csv_item is None:\n",
    "                return None\n",
    "\n",
    "            print('Analyze Feature Service....')\n",
    "            publish_parameters = analyze_csv(csv_item['id'],gis_online_connection)\n",
    "            if publish_parameters is None:\n",
    "                return None\n",
    "            else:\n",
    "                publish_parameters['name'] = csv_item_properties['title']\n",
    "                publish_parameters['layerInfo']['name'] = csv_item_properties['layer_title']\n",
    "                print('Publishing Feature Service....')\n",
    "                csv_lyr = csv_item.publish(publish_parameters=publish_parameters, overwrite=True)\n",
    "\n",
    "                # Update the layer infomation with a basic rendering based on the Latest Value\n",
    "                # use the hex color from the SDG Metadata for the symbol color\n",
    "\n",
    "                print('.......call generate renderer within publish_csv')\n",
    "                generate_renderer_infomation(feature_item=csv_lyr,\n",
    "                                             statistic_field = statistic_field,\n",
    "                                             layer_info = layer_info,\n",
    "                                             color=color) \n",
    "                \n",
    "                \n",
    "        else:\n",
    "            # Update the Data file for the CSV File\n",
    "            csv_item.update(item_properties=csv_item_properties, thumbnail=thumbnail, data=file)\n",
    "            # Find the Feature Service and update the properties\n",
    "            csv_lyr = find_online_item(csv_item_properties['title'],online_username,gis_online_connection)\n",
    "\n",
    "        # Move to the Open Data Folder\n",
    "        if csv_item['ownerFolder'] is None:\n",
    "            print('Moving CSV to Open Data Folder')\n",
    "            csv_item.move('Open Data SDG' + g['code'].zfill(2))\n",
    "\n",
    "        if csv_lyr is not None:\n",
    "            print('Updating Feature Service metadata....')\n",
    "            csv_lyr.update(item_properties=item_properties, thumbnail=thumbnail)\n",
    "\n",
    "            if csv_lyr['ownerFolder'] is None:\n",
    "                print('Moving Feature Service to Open Data Folder')\n",
    "                csv_lyr.move('Open Data SDG' + g['code'].zfill(2))\n",
    "\n",
    "            return csv_lyr\n",
    "        else:\n",
    "            return None\n",
    "    else:\n",
    "        return None"
   ]
  },
  {
   "cell_type": "markdown",
   "metadata": {},
   "source": [
    "## 5.9 - Analyze csv"
   ]
  },
  {
   "cell_type": "code",
   "execution_count": 48,
   "metadata": {},
   "outputs": [],
   "source": [
    "def analyze_csv(item_id, gis_online_connection):\n",
    "    try:\n",
    "        sharing_url = gis_online_connection._url + '/sharing/rest/content/features/analyze'\n",
    "        analyze_params = {'f': 'json', \n",
    "                          'token': gis_online_connection._con.token,\n",
    "                          'sourceLocale': 'en-us',\n",
    "                          'filetype': 'csv', \n",
    "                          'itemid': item_id}\n",
    "        r = requests.post(sharing_url, data=analyze_params)\n",
    "        analyze_json_data = json.loads(r.content.decode('UTF-8'))\n",
    "        for field in analyze_json_data['publishParameters']['layerInfo']['fields']:\n",
    "            field['alias'] = set_field_alias(field['name'])\n",
    "            \n",
    "            #display(field['name'])\n",
    "            #display(field['type'])\n",
    "            #display(field['sqlType'])\n",
    "            #print('---')\n",
    "\n",
    "            # IndicatorCode is coming in as a date Field make the correct\n",
    "            if field['name'] == 'indicator':\n",
    "                field['type'] = 'esriFieldTypeString'\n",
    "                field['sqlType'] = 'sqlTypeNVarchar'\n",
    "            \n",
    "            if field['name'] == 'target':\n",
    "                field['type'] = 'esriFieldTypeString'\n",
    "                field['sqlType'] = 'sqlTypeNVarchar'\n",
    "                \n",
    "            if field['name'] == 'latest_year':\n",
    "                field['type'] = 'esriFieldTypeInteger'\n",
    "                field['sqlType'] = 'sqlTypeInt'\n",
    "            \n",
    "            if  field['name'] == 'valueDetails':\n",
    "                field['type'] = 'esriFieldTypeString'\n",
    "                field['sqlType'] = 'sqlTypeNVarchar'\n",
    "            elif field['name'].startswith( 'value' ):\n",
    "                field['type'] = 'esriFieldTypeDouble'\n",
    "                field['sqlType'] = 'sqlTypeFloat'\n",
    "                \n",
    "        # set up some of the layer information for display\n",
    "        analyze_json_data['publishParameters']['layerInfo']['displayField'] = 'geoAreaName'\n",
    "        return analyze_json_data['publishParameters']\n",
    "    except:\n",
    "        print('Unexpected error:', sys.exc_info()[0])\n",
    "        return None"
   ]
  },
  {
   "cell_type": "markdown",
   "metadata": {},
   "source": [
    "## 5.10 Set field alias"
   ]
  },
  {
   "cell_type": "code",
   "execution_count": 49,
   "metadata": {},
   "outputs": [],
   "source": [
    "def set_field_alias(field_name):\n",
    "    if field_name == 'release':\n",
    "        return 'Series Release'\n",
    "    if field_name == 'seriesCode':\n",
    "        return 'Series Code'\n",
    "    if field_name == 'seriesDesc':\n",
    "        return 'Series Description'\n",
    "    if field_name == 'release':\n",
    "        return 'Series Release'\n",
    "    if field_name == 'unitsCode':\n",
    "        return 'Units Code'\n",
    "    if field_name == 'unitsDesc':\n",
    "        return 'Units Description'\n",
    "    if field_name == 'unitmultiplierCode':\n",
    "        return 'Unit Multiplier Code'\n",
    "    if field_name == 'unitmultiplierDesc':\n",
    "        return 'Unit Multiplier Description'\n",
    "    if field_name == 'reportingTypeCode':\n",
    "        return 'Reporting Type Code'\n",
    "    if field_name == 'reportingTypeDesc':\n",
    "        return 'Reporting Type Description'\n",
    "    if field_name == 'geoAreaCode':\n",
    "        return 'Geographic Area Code'\n",
    "    if field_name == 'geoAreaName':\n",
    "        return 'Geographic Area Name'\n",
    "    if field_name == 'latest_year':\n",
    "        return 'Latest Year'\n",
    "    if field_name == 'value_latest_year':\n",
    "        return 'Value Latest Year'\n",
    "    if field_name == 'valueDetails':\n",
    "        return 'Value Details'\n",
    "    if field_name == 'ISO3':\n",
    "        return 'ISO Code'\n",
    "    if field_name == 'goal':\n",
    "        return 'Goal'\n",
    "    if field_name == 'target':\n",
    "        return 'Target'\n",
    "    if field_name == 'indicator':\n",
    "        return 'Indicator'\n",
    "    if field_name == 'timeDetails':\n",
    "        return 'Time Details'\n",
    "    if field_name == 'parentCode':\n",
    "        return 'Parent Area Code'\n",
    "    if field_name == 'parentName':\n",
    "        return 'Parent Area Name'\n",
    "    if field_name == 'type':\n",
    "        return 'Geogroaphic Area Type'\n",
    "    if field_name == 'UN_Member':\n",
    "        return 'UN Member'\n",
    "    else:\n",
    "        return camel_case_split(field_name.replace('_', ' ')).replace(' Desc', ' Description').title()\n",
    "    \n",
    "    "
   ]
  },
  {
   "cell_type": "markdown",
   "metadata": {},
   "source": [
    "## 5.11 - Update item categories"
   ]
  },
  {
   "cell_type": "code",
   "execution_count": 50,
   "metadata": {},
   "outputs": [],
   "source": [
    "def update_item_categories(item, goal, target,gis_online_connection):\n",
    "    update_url = gis_online_connection._url + \"/sharing/rest/content/updateItems\"\n",
    "    items = [{item[\"id\"]:{\"categories\":[\"/Categories/Goal \" + str(goal) + \"/Target \" + str(target)]}}]\n",
    "    update_params = {'f': 'json', \n",
    "                         'token': gis_online_connection._con.token, \n",
    "                         'items': json.dumps(items)}\n",
    "    r = requests.post(update_url, data=update_params)\n",
    "    update_json_data = json.loads(r.content.decode(\"UTF-8\"))\n",
    "    print(update_json_data)"
   ]
  },
  {
   "cell_type": "markdown",
   "metadata": {},
   "source": [
    "---\n",
    "# 6. Main publication script\n",
    "---"
   ]
  },
  {
   "cell_type": "markdown",
   "metadata": {},
   "source": [
    "## 6.1 Establish connections to ArcGIS"
   ]
  },
  {
   "cell_type": "markdown",
   "metadata": {},
   "source": [
    "#### Get ArcGIS connection:"
   ]
  },
  {
   "cell_type": "code",
   "execution_count": 26,
   "metadata": {},
   "outputs": [
    {
     "name": "stdin",
     "output_type": "stream",
     "text": [
      "Username:  gonzalezmorales_undesa\n",
      "Password:  ··········\n"
     ]
    }
   ],
   "source": [
    "online_username, gis_online_connection = connect_to_arcGIS()"
   ]
  },
  {
   "cell_type": "code",
   "execution_count": 27,
   "metadata": {},
   "outputs": [
    {
     "data": {
      "text/html": [
       "GIS @ <a href=\"https://undesa.maps.arcgis.com\">https://undesa.maps.arcgis.com</a>"
      ],
      "text/plain": [
       "<arcgis.gis.GIS at 0x221e04fb2e8>"
      ]
     },
     "execution_count": 27,
     "metadata": {},
     "output_type": "execute_result"
    }
   ],
   "source": [
    "gis_online_connection"
   ]
  },
  {
   "cell_type": "markdown",
   "metadata": {},
   "source": [
    "#### Get open data group:"
   ]
  },
  {
   "cell_type": "code",
   "execution_count": 28,
   "metadata": {},
   "outputs": [],
   "source": [
    "open_data_group = open_data_group(gis_online_connection,'ad013d2911184063a0f0c97d252daf32' ) # Luis\n",
    "#open_data_group = open_data_group(gis_online_connection,'967dbf64d680450eaf424ac4a38799ad' ) # Travis"
   ]
  },
  {
   "cell_type": "code",
   "execution_count": 29,
   "metadata": {},
   "outputs": [
    {
     "data": {
      "text/html": [
       "<div class=\"9item_container\" style=\"height: auto; overflow: hidden; border: 1px solid #cfcfcf; border-radius: 2px; background: #f6fafa; line-height: 1.21429em; padding: 10px;\">\n",
       "                    <div class=\"item_left\" style=\"width: 210px; float: left;\">\n",
       "                       <a href='https://undesa.maps.arcgis.com/home/group.html?id=ad013d2911184063a0f0c97d252daf32' target='_blank'>\n",
       "                        <img src='data:image/png;base64,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' ' class=\"itemThumbnail\">\n",
       "                       </a>\n",
       "                    </div>\n",
       "\n",
       "                    <div class=\"item_right\" style=\"float: none; width: auto; overflow: hidden;\">\n",
       "                        <a href='https://undesa.maps.arcgis.com/home/group.html?id=ad013d2911184063a0f0c97d252daf32' target='_blank'><b>Open Data Staging - Luis</b>\n",
       "                        </a>\n",
       "                        <br/>\n",
       "                        <br/><b>Summary</b>: Personal group for staging data before publication\n",
       "                        <br/><b>Description</b>: Use this group for staging personal content before publication into Open Data Site\n",
       "                        <br/><b>Owner</b>: gonzalezmorales_undesa\n",
       "                        <br/><b>Created</b>: April 05, 2018\n",
       "\n",
       "                    </div>\n",
       "                </div>\n",
       "                "
      ],
      "text/plain": [
       "<Group title:\"Open Data Staging - Luis\" owner:gonzalezmorales_undesa>"
      ]
     },
     "execution_count": 29,
     "metadata": {},
     "output_type": "execute_result"
    }
   ],
   "source": [
    "open_data_group"
   ]
  },
  {
   "cell_type": "code",
   "execution_count": 30,
   "metadata": {},
   "outputs": [
    {
     "data": {
      "text/html": [
       "<div class=\"item_container\" style=\"height: auto; overflow: hidden; border: 1px solid #cfcfcf; border-radius: 2px; background: #f6fafa; line-height: 1.21429em; padding: 10px;\">\n",
       "                    <div class=\"item_left\" style=\"width: 210px; float: left;\">\n",
       "                       <a href='https://undesa.maps.arcgis.com/home/item.html?id=4c18088af2434cd0a2507e8238a594c3' target='_blank'>\n",
       "                        <img src='data:image/png;base64,iVBORw0KGgoAAAANSUhEUgAAAMgAAACFCAYAAAAenrcsAAATm0lEQVR42u2dCXSc1XWAZWyCwcaYlrSlhBCXnpjQUw5Lk3J6DrRNm4WQhhBCAyGlrQEbLxhvki0xlrxA4wWwvGHLxjaK5F22bK2j3dqX0a6RRotl7fu+77q99/0zo5E1mvlnNBpJo3vPuUf//PP+/7359b7/vfveffc5AQsLy6TixI+AhYUBYWFhQFhYGBAWFgaEhYUBYWFhQFhYGBAWFgaEhcW2MsqATI+cii0DpzU3UW+wzlV9359bkOmSb9KqwWlnJOtc1k/CGRAGhJUBYUBYGRAGhJUBYUBYGRAGhJUBYUBYGRAGhJUBYUBsBciOMNRw8XeBubSu4dq0WpVx/wXu+HdrKDhtDxv7vC1UOucWIR3r9BP8vMXgs7OSAWFAZg6QlV8kQpCmCa7k1kNUSQs4uZiokFiZz6hqRFrSyzn18O0/xprPB0EYGByFi+k10ufNIdDaMQgdPYPwuncmdPUNQ2s3fu4dgpePp4rf0dw1CC2o6VUdElAMCANid0A2BUPv4Mj4H01v9UnSP4IwDI+MeQnR0ROfJ5jPB4EgCVY36POli3sHh+Et32zx3UZ/DXiEl8Cje2PE54SyVnALLYb1NzTmWzUGhAGxNSAPeERBe+/gxB89GSCKSHj3Ys64tKOjtgPEaX2g1L3aJKX9PL5c6pLROQaEAbErIG7hontk9EdPBgieb+zsnz5APgyQbBpt2oNx5fPT/mBAZh6Q0ylVk//oSQB56VT6hLS2BKRP29VzWn1D/B3SduUe2hPDgDAg9gXkHKbRycCwDBsEu1c3sHJPJyC/xr+r/QvA6aMg8VlZ3Azv4ed7sSvIgDAgMwLIe35qyKrtNA/ItlDov8uYt3kXC8EwTPtlQrk0pMxdLAbE3oCcz6gBl5BicVzY1GMaEGw9NgQW6r8PK2qeEiALZAJyKKFCDCsvYEAYEHsD8sT+OP0knzlAFmEXp7N/WHzX1jcEawMKrQakpXsAbpW2wt/+MdYsIJXtfRCDaX2zankehAGZuYlCc4A8+lksjIxKBnNiedu41kQ2IM5KuKlphMt59UKf3BcLN/Mb4Xx2Hbx8UgXKkmZw2hKiTxtc2KRP65lYwfMgDMgsBQRtgHOqMYP+9fM5sN4aQMypgv2vGJA5CMjiXdH68x3YvSLbYVoAYWVA5iIgq6/l688fuHVHzGpbDYhb+JjqK0LExPP09+7Zc6wwTi4Gs+q663THuvOG1yq0aRRj+QtbRnt+ga7lEmkiJpbRsDw6pXsrDMscwYDMW0BcwyCzukN//rnjKaJyWAWIixK8U6rgZHy50Bc8k8T9N14vgJMJFUKPxZXDQuzS+aZWw87gIn3FXoj6aUQppFZ2gGtIMSzyiIYdgUVw6FaZ6AJ+eD0fXCk9VthDMWWw6aZGVNxnPJPBB+/1g0NJsNgjCq6jsU+/7YVjqXA1o0YMXT97JBm8MO9ffJ0OS/bGiDJQ+U6g0vll2IJexC6mroybbxbCP3upxHeku8Nvw/K9MQzIfATk25/dGn+eXM+tBUQ7MtXWMwhaex9+9FUqhGqaxHF6ZbvQBc6h0ufydgkQBOCs1gYKK5LSqhDaD/zUUpmwy6dp6Ia+wWFxXN/ZD/soLhi95bdK9/oPnyzYGVkqjl88qYKDCeXStRuD4GhSpTg+p6qBpVjRVViGrv4hGBwehbzaTliOYJHUtPdBDubrhZC/7ye1qpSv/tlsDmFA5hUg2JUIL2zSn/vpuUwERCl0lX/BOEAeQZDEehIZgATk1oPTBmmm/GffZEJIgZSH09oAyTFxo/SdqrxNAkT7uQXBImfGAExPI2q/v5SnhVYJJc1S+Z02BEIzpqNWyUm7/oTkE2UJ7MPuIclPzmSAd3otnM/E1uTjYBjQTn7S6JyYlMSWLqS4Gcrb+qTfhGlItlKrRH5h2M3TdTufOBgPR5Ill51H98UxIPMJkAf2REMnGuU6yazqEG/QbNRqrDyGUlDXBfupuyMDkKC8Bv3xK94GgHwUKL31JwAiVdA7Tb1iGPgGtjjkbv/wbmnwYB12eZp6JI/kF46nQg+2JKuuqPW2yW2EJ0jdAJ290m85guUkOZ5aJSo8yddJVWPzMFiG8JIWqMTfeI97lN6zeDu2mgIgvKcOkO9jN/FEajUDMh8BoQo4akFw2G/ojSwDkKauATHZqMtHB0gUvrXfuZyn98MyB4gOpB2hJdAzMAxh2No5hxYLB8fnjqXoASlGQG7mSl7LtR394BUnda/+Ae2T57+SFmZtDJK6jMt3x0wKSElTN2Thy2HRrig9IGuxJW3uHtC3ZAzIPALkz3ZHW5TnJeo6yQCkqLFbeBJ3YD//Ve8sPSB+2XXw5vkc+YBgGdsRtMSyNvH92YxaiC1tFcdPHU7W53strx4auqRKfAHzqNS2fs8fSoRVV9WixSGPApJ3qeWZBJD8mk6IxLwXekSNG9kj2P8eDX39KBgDMj8AoZGjZ4+mTNBnsDJ8GVc2zgb5OdoSK8wZ6oZdrO1K6Ma3vm9GzVgXa4N2sZTMLhZ1d8KKJZ+wC1l1sOlGgdFh6ksIhU50dgtd/z20H2i1IrnQfH9/nJRnRbtkexkBxCVQI9kkBl0sf3Uj9A2NwNLp8DZmQObITPqEGe8I2BZs/SiWcFbEyt2DxrF3evUYIJuCpXkJLSD6USytkVzS2CPKdRMBGdICQj5aJCdSqmG1X77R8m8KLNKX02m7VOnIvZ9GrOIRiFHtd/RXg63bZIC4iWHniHGArNP6pK0P0Nh+1SMDMj8BKcW8rmZJb3VPtAd0gOyLLoUvsGWiVoKkHu0Fz/hyeB5bLFWVNBfzSZhkbzR3DwpA3r8qtQjPHEyAf/RSSaNk5E5vEGnllz6SI6RvOtpI6wLEcS++9Wm0iqjwwbI8ii2ID8LWhPYE2RjGAIkvbRHlWYctlW6YdwW2QnSPAbofAs6AOCggQWjg5td3CSVD1qTBiYCs8lMLW4LSq1H/er+MERyErgwN5gLKp64LAjFPmtg7mVQpRsGKGrrFvMMi7MZUtfbpz72FdslffhoDqRVt0IhgJONb/8E90eKer6MNQ/dasS8O/gK1oqUXdiiLx81uP/lFohh1W+OfL6Dwz22AzKp2Yes0dQ7Af5Ldg+m2BBaCGvO/H4+/xucXid03AciWUKht7wNNvVSeM/jdbxC6O/hbnkQ7Zg0a6iX4LFbSxCcD4piA6F01DF02TDoWWpje8DqdGjuniJg8HeVDNsDdxrCxe02Wr9FjM2mMlVFhJF+2QRwYEFZ2VmRAWBkQBoQBYUAYEAaEAWFAGBAGhAFhQFgZEAaElQFhQFgZEAaElQFhQFgZEAZkJlUxxThYChvkz4AwILNS3cLBJbgIXvfJloJAWHq9azisvamBH55ItS6wNea/BfN/6ZTK/Dp6BoQBsau6KMHXYAFTfFkbLLbA2ZHWkZwyiPK4+qpa8riVcy3qst3RIqiDTjb6F4i4w7LzZ0AYEEv08YPxkFffBSsPJUrrIaiyGwaZdtd64W4OAefgYv1adEOhFXmJZa3wHQp6QDvbGgZ60wV12xQiVv+1GNkujhY5/fvX6VLABbe7PGzp2vWBorVSN3QZfVbktv9PJ9Imlt99bNNSyv+/r6ihprPf9uF9GBDHBWTF5/H6PNuw8p5NrwFn7P58cC0fPkSlUDkUnBpkBn9oxbf7lbwG2BN9B4Eqgv2xZaA02GrBlNASXr/celBE3oateC1t3xYh81qSxq4BOJ5cBc4BGngfW6YN2LpsCyqC67RpkEH5aYUjA8KAyAQkweKy0Xrwx7C1aOoZtOq3UUws2oUq2CBml6VCC70OJ1ZaVyEYEAZErt6D3ZCBoVGL3tL3aRcX3YfdmUCNZZWcVu7d7xGtHwV78Wiyxc/GI6xEvwDr5ZNpFl27K+L2+LjCDAgDImcpLS1zNSfOQUXSblGGNsqOMHjDNxuSK9tNXhuCIP3CO0tEXpxgKOM5WvZaaBAG1JhczamDp8lWMhy5QljvQyP/lIkNTUlaeofgXVqa6xbORjoDYqU6K8EVDemMqg4RBKIA3/YZWPF/fykXDeUA09diJb9/ZxR8HKgBP6zIysJmOJ1aBW9dyJU21ZETQZ3CgmIFXu2vgctZ0j280Sb6w6U8YWSbXBqskJbzemALQcG6qfz5CFx2Tac0HE1RH915mJcBsdEkIHW95uyWabryz/SEIgMyTycKXcPhV/hWFgGvrZxopEm+ZTuthBBbmtewW7eE5k/ceSadAZn2f2SERXCsuZKnL+c71IVyi5AfFQSvf+9irv76J79MlD+bjuV85P9i4fP4cv31Kz0Tx8XQsulvZUAYEKpwFDzayVVGxcGKeKeld9yUCB3TPhz/diZD2vrAjJ1Setf1JOfQzjBpo7hLgwEHtVHd777+YnadLON74dZQ8IyrEN4ADAgDYtFEIW04k1zeBh6Rt+FfTqfDY/vj4DsH4uEVrPhfJVaAqqbDbJlpq4V4vMfRhAp4Gw37N7Eb9D/X8tHgroWcui6T11IA6pSKdjiC11IA7DexC7cKr72WUw+ZaGgThOYmGan8W0OK4UdfpYlAeDTH8+tvMuFPqhrIwHvwPAgDYpeJQpLDsWUiPu6olb/vSl49qM1AY0oorGlgQSNPFDIg06uPHYjDim5ZNX/lXIa49iELt1fQdY9+55Ml5b9NKWbDB0csyz+lsl2/g9beqDswbMEmKBS7V7+XOwPCgMgJJfrnn8VCdm2n2TLRG/uhPTHjDPJvoX2wLbhI1m9a66+BB8jz9q5wpNTN88VukBz56UnV+KFbvP4ZNPT7ZHgDbA0thnsUbKQzINbopmD4GbYMZ9BgLm6UNtRs7x0Uk25eSZXwLO34NNnaC6yk9yIoH90oAC8sd3RpC6SgPRCsaYJD2BX7Lc1gUzBtUyNIruFwP8JDM+peqdUQWdICqXiP0KImOI42EA0rm+wa4Xe/u5AD3pm1UIjl70WbpLV3SJT/BF5PXst2HcFiQBx0HkQhjRiJLsw2peWuGYpI64JimwrGbc/yMyAMCCsDwoCwMiAMCCsDwoCwMiAMCAPCgDAgs3Qe5GHyyqXRHmPbo9nLWZL8oxSRsGxvDPzVvjihyz+9Jbmsu4RpHSIZEAbEzoAsRzh0QptuisVF9hoa3REOjx+IhyOJFdA3KLmtGNO+gRE4l14NTx1Omt1xsBgQB2xB8O39mnfmuLy7+ofhWl6DZW7kcluKLSHgElIMiRXtIlyQpUJbSKdVtsMfLudZF7SOAWFArOlm0Z7ixuQ9P7W85bJmFjjRWvJDceU2fUbkV0VewzM6GciAzA8jndxEJpNbpa1WdW3IfrgXK2/OFLx25Qj5Kv7NwXj7Rk1kQObZKBa+5ZvxjTyZVLf3iYiEcpfILsV05AdlT0nVefkyIAzIdPhgbQ8xHfqHFiUt2xVlNnbvx4GFM/rsXtOGF2JAGBDbLp76wvziqaiSFuNryNEAf8rKxVfTIc4IOwPCgNi8myVnieCFnLoJw7U3ChphZHT6n0t77xA0d8kLeaosbmZvXgbEtsOw/+uXL6t8j1Mkd0UEfHd/nNmIiLYQikBPy4PFakC0Mx7cGwMB+eaX3EbeboFFO2coxhcD4mCAYCVagjaEXHnxaIr9/om0NYKRRV45deZXQt6602r/xVIMiAMCQgGpd0dDU/fgrHoW/3U+e9IAce8YxNgyJXEEiYJXFDIgU9R7PaKgtrN/Vj2Lt2nJ7iSAPHdMfit2Td3AgeMYkKkP96rru2bVs1h7VT1pl/BtmS0ICY0hrAvQ2M+fiwFxREAiIE9GhBO7/xON2SBorJe39ll8r5+czWRAGBDHAqS2cwB+8KV2H8XNIfAtj2hIq7J8pj6/vnvqvmUMyPwFZKF7FNxp7Z21z4XmQVqsHESgAHUPo41ltyFfBsQBR7F2RUOjCZ+suSw8isWATFkfxDfsqMxQnpO5yM9G+Tvauo3nQRiQqY5g/dBT3qaan8bcAaeNQXAsoWLWP8vnDiezqwkDYpudo85nmI+RS6E9DY367x2IF9sXzDYhm2MJ7ajLvlgMiC108S550drv85jo8r4Er/XLrZs1z69/aAQWszcvA2JLP6yfn043W64XvdJMrgV5wydbrBuZSbmSUy/gWOAexYAwILaKMBImltaakh+fVslz1VgfAMdTq0SABXsKbeiz71bZzDgmMiCODch3D8SbLM/TVhi6S3fHgE96jV2eV0F9t9T1m02xsxgQBwEEu1dRt1uMlqOitRdW0N4aUzD8Cb5d4ben5TmVYvleow1EZ2O8LAbEMQB5CN+8d0tn/zCcTcUyOIfZZuaZ3uwbg+GzqFJQT3GBFU3TqKo74A1f2lQnaPbulc6AOAAgzspxtsII1r4PrhdM61bJBNxCzHeVXz7Udch3re9FaNdQ2bYpZycQDIjjAUKuJa96pcFLJ9OkbcqclfYzckVM3jB4YHc0rPRMhH/FcryK5fjVn7Lglz5Z4vjHeO5pzyRYSnsjuihnjwHOgMwvG2TWVCrDoVk6do+cO0AwII49UcjKgDAgrAwIA8LKgDAgrAwIA8LKgDAgDAgDwoAwIAwIA8KAsDIgDAgrA8KAsDIgDAgrA8KAsDIgDAgrA8KAsDIgDIgARFWtdfdmnbOqiGBApkuSSlrgw0u5rHNYV13IYUBYWOa6MCAsLAwICwsDwsLCgLCwMCAsLAwICwsDwsLCgLCwOKr8P37JH41ZGUDZAAAAAElFTkSuQmCC' width='200' height='133' class=\"itemThumbnail\">\n",
       "                       </a>\n",
       "                    </div>\n",
       "\n",
       "                    <div class=\"item_right\"     style=\"float: none; width: auto; overflow: hidden;\">\n",
       "                        <a href='https://undesa.maps.arcgis.com/home/item.html?id=4c18088af2434cd0a2507e8238a594c3' target='_blank'><b>Indicator 14.a.1: National ocean science expenditure as a share of total research and development funding (percent)</b>\n",
       "                        </a>\n",
       "                        <br/>Indicator 14.a.1: National ocean science expenditure as a share of total research and development funding (percent)<img src='https://undesa.maps.arcgis.com/home/js/jsapi/esri/css/images/item_type_icons/featureshosted16.png' style=\"vertical-align:middle;\">Feature Layer Collection by unstats_admin\n",
       "                        <br/>Last Modified: September 20, 2018\n",
       "                        <br/>0 comments, 7 views\n",
       "                    </div>\n",
       "                </div>\n",
       "                "
      ],
      "text/plain": [
       "<Item title:\"Indicator 14.a.1: National ocean science expenditure as a share of total research and development funding (percent)\" type:Feature Layer Collection owner:unstats_admin>"
      ]
     },
     "execution_count": 30,
     "metadata": {},
     "output_type": "execute_result"
    }
   ],
   "source": [
    "odg_content = open_data_group.content()\n",
    "odg_content[0]"
   ]
  },
  {
   "cell_type": "code",
   "execution_count": 31,
   "metadata": {},
   "outputs": [
    {
     "data": {
      "text/plain": [
       "[{'id': '4c18088af2434cd0a2507e8238a594c3',\n",
       "  'title': 'Indicator 14.a.1: National ocean science expenditure as a share of total research and development funding (percent)',\n",
       "  'type': 'Feature Service',\n",
       "  'owner': 'unstats_admin',\n",
       "  'tags': ['means of implementation',\n",
       "   'marine resources',\n",
       "   'marine ecosystems',\n",
       "   '2018.Q2.G.01'],\n",
       "  'description': '<p><strong>Series ER_RDE_OSEX: </strong>National ocean science expenditure as a share of total research and development funding (%)</p><p><strong>Indicator 14.a.1: </strong>Proportion of total research budget allocated to research in the field of marine technology</p><p><strong>Target 14.a: </strong>Increase scientific knowledge, develop research capacity and transfer marine technology, taking into account the Intergovernmental Oceanographic Commission Criteria and Guidelines on the Transfer of Marine Technology, in order to improve ocean health and to enhance the contribution of marine biodiversity to the development of developing countries, in particular small island developing States and least developed countries</p><p><strong>Goal 14: </strong>Conserve and sustainably use the oceans, seas and marine resources for sustainable development</p><p><em>Release Version: 2018.Q2.G.01 </em></p>',\n",
       "  'snippet': 'Indicator 14.a.1: National ocean science expenditure as a share of total research and development funding (percent)',\n",
       "  'access': 'org',\n",
       "  'thumbnail': 'thumbnail/tmpewt5u0yq.png',\n",
       "  'categories': ['/Categories/Goal 14/Target 14.a']}]"
      ]
     },
     "execution_count": 31,
     "metadata": {},
     "output_type": "execute_result"
    }
   ],
   "source": [
    "odg_content_metadata = []\n",
    "for i in odg_content:\n",
    "    d = {}\n",
    "    d['id'] = i.id\n",
    "    d['title'] = i.title\n",
    "    d['type'] = i.type\n",
    "    d['owner'] = i.owner\n",
    "    d['tags'] = i.tags\n",
    "    d['description'] = i.description\n",
    "    d['snippet'] = i.snippet\n",
    "    d['access'] = i.access\n",
    "    d['thumbnail'] = i.thumbnail\n",
    "    d['categories'] = i.categories\n",
    "    odg_content_metadata.append(d)\n",
    "\n",
    "odg_content_metadata"
   ]
  },
  {
   "cell_type": "markdown",
   "metadata": {},
   "source": [
    "## 6.2 Data inputs"
   ]
  },
  {
   "cell_type": "code",
   "execution_count": 32,
   "metadata": {},
   "outputs": [],
   "source": [
    "# 1. csv metadata\n",
    "series_metadata = get_series_metadata(metadata_dir + 'metadata.json', False)\n",
    "\n",
    "# 2.  layer info template\n",
    "layer_info = get_series_metadata(metadata_dir + 'layerinfo.json', False)\n"
   ]
  },
  {
   "cell_type": "code",
   "execution_count": 33,
   "metadata": {},
   "outputs": [],
   "source": [
    "goal_properties = list(series_metadata[0].keys())\n",
    "target_properties = list(series_metadata[1]['targets'][0].keys())\n",
    "indicator_properties = list(series_metadata[1]['targets'][0]['indicators'][0].keys())\n",
    "series_properties = list(series_metadata[1]['targets'][0]['indicators'][0]['series'][0].keys())\n",
    "\n",
    "#goal_properties\n",
    "#target_properties\n",
    "#indicator_properties\n",
    "#series_properties"
   ]
  },
  {
   "cell_type": "code",
   "execution_count": 34,
   "metadata": {},
   "outputs": [],
   "source": [
    "layer_info_properties = list(layer_info.keys())\n",
    "#layer_info_properties"
   ]
  },
  {
   "cell_type": "markdown",
   "metadata": {},
   "source": [
    "## 6.3 Publishing loop"
   ]
  },
  {
   "cell_type": "code",
   "execution_count": 55,
   "metadata": {},
   "outputs": [
    {
     "name": "stdout",
     "output_type": "stream",
     "text": [
      "\n",
      "Processing series code: 5.1.1 SG_LGL_GENEQLFP\n"
     ]
    },
    {
     "data": {
      "text/plain": [
       "'../../data/unsd/2019.Q2.G.01/csv_Indicator_5.1.1_Series_SG_LGL_GENEQLFP.csv'"
      ]
     },
     "metadata": {},
     "output_type": "display_data"
    },
    {
     "name": "stdout",
     "output_type": "stream",
     "text": [
      "Searching for SG_LGL_GENEQLFP_5_1_1_2019Q2G01\n",
      " -- Item SG_LGL_GENEQLFP_5_1_1_2019Q2G01 not found (force find)\n",
      "Adding CSV File to ArcGIS Online....\n",
      "Analyze Feature Service....\n",
      "Publishing Feature Service....\n",
      ".......call generate renderer within publish_csv\n",
      "Update Feature Service Symbology\n",
      "Moving CSV to Open Data Folder\n",
      "Updating Feature Service metadata....\n",
      "Moving Feature Service to Open Data Folder\n"
     ]
    },
    {
     "data": {
      "text/plain": [
       "{'notSharedWith': [], 'itemId': '19dea7eab1924ed28a17bf7415555e2c'}"
      ]
     },
     "execution_count": 55,
     "metadata": {},
     "output_type": "execute_result"
    },
    {
     "name": "stdout",
     "output_type": "stream",
     "text": [
      "{'results': [{'itemId': '19dea7eab1924ed28a17bf7415555e2c', 'success': True}]}\n",
      "\n",
      "Processing series code: 5.1.1 SG_LGL_GENEQVAW\n"
     ]
    },
    {
     "data": {
      "text/plain": [
       "'../../data/unsd/2019.Q2.G.01/csv_Indicator_5.1.1_Series_SG_LGL_GENEQVAW.csv'"
      ]
     },
     "metadata": {},
     "output_type": "display_data"
    },
    {
     "name": "stdout",
     "output_type": "stream",
     "text": [
      "Searching for SG_LGL_GENEQVAW_5_1_1_2019Q2G01\n",
      " -- Item SG_LGL_GENEQVAW_5_1_1_2019Q2G01 not found (force find)\n",
      "Adding CSV File to ArcGIS Online....\n",
      "Analyze Feature Service....\n",
      "Publishing Feature Service....\n",
      ".......call generate renderer within publish_csv\n",
      "Update Feature Service Symbology\n",
      "Moving CSV to Open Data Folder\n",
      "Updating Feature Service metadata....\n",
      "Moving Feature Service to Open Data Folder\n"
     ]
    },
    {
     "data": {
      "text/plain": [
       "{'notSharedWith': [], 'itemId': '22a82d19db7c4d72a11aa00ba76f3dc7'}"
      ]
     },
     "execution_count": 55,
     "metadata": {},
     "output_type": "execute_result"
    },
    {
     "name": "stdout",
     "output_type": "stream",
     "text": [
      "{'results': [{'itemId': '22a82d19db7c4d72a11aa00ba76f3dc7', 'success': True}]}\n",
      "\n",
      "Processing series code: 5.1.1 SG_LGL_GENEQEMP\n"
     ]
    },
    {
     "data": {
      "text/plain": [
       "'../../data/unsd/2019.Q2.G.01/csv_Indicator_5.1.1_Series_SG_LGL_GENEQEMP.csv'"
      ]
     },
     "metadata": {},
     "output_type": "display_data"
    },
    {
     "name": "stdout",
     "output_type": "stream",
     "text": [
      "Searching for SG_LGL_GENEQEMP_5_1_1_2019Q2G01\n",
      " -- Item SG_LGL_GENEQEMP_5_1_1_2019Q2G01 not found (force find)\n",
      "Adding CSV File to ArcGIS Online....\n",
      "Analyze Feature Service....\n",
      "Publishing Feature Service....\n",
      ".......call generate renderer within publish_csv\n",
      "Update Feature Service Symbology\n",
      "Moving CSV to Open Data Folder\n",
      "Updating Feature Service metadata....\n",
      "Moving Feature Service to Open Data Folder\n"
     ]
    },
    {
     "data": {
      "text/plain": [
       "{'notSharedWith': [], 'itemId': 'd8001b25e562492384a078e72025a678'}"
      ]
     },
     "execution_count": 55,
     "metadata": {},
     "output_type": "execute_result"
    },
    {
     "name": "stdout",
     "output_type": "stream",
     "text": [
      "{'results': [{'itemId': 'd8001b25e562492384a078e72025a678', 'success': True}]}\n",
      "\n",
      "Processing series code: 5.1.1 SG_LGL_GENEQMAR\n"
     ]
    },
    {
     "data": {
      "text/plain": [
       "'../../data/unsd/2019.Q2.G.01/csv_Indicator_5.1.1_Series_SG_LGL_GENEQMAR.csv'"
      ]
     },
     "metadata": {},
     "output_type": "display_data"
    },
    {
     "name": "stdout",
     "output_type": "stream",
     "text": [
      "Searching for SG_LGL_GENEQMAR_5_1_1_2019Q2G01\n",
      " -- Item SG_LGL_GENEQMAR_5_1_1_2019Q2G01 not found (force find)\n",
      "Adding CSV File to ArcGIS Online....\n",
      "Analyze Feature Service....\n",
      "Publishing Feature Service....\n",
      ".......call generate renderer within publish_csv\n",
      "Update Feature Service Symbology\n",
      "Moving CSV to Open Data Folder\n",
      "Updating Feature Service metadata....\n",
      "Moving Feature Service to Open Data Folder\n"
     ]
    },
    {
     "data": {
      "text/plain": [
       "{'notSharedWith': [], 'itemId': 'd547e5877d1a490f83340af52f1ccea6'}"
      ]
     },
     "execution_count": 55,
     "metadata": {},
     "output_type": "execute_result"
    },
    {
     "name": "stdout",
     "output_type": "stream",
     "text": [
      "{'results': [{'itemId': 'd547e5877d1a490f83340af52f1ccea6', 'success': True}]}\n",
      "\n",
      "Processing series code: 5.2.1 VC_VAW_MARR\n"
     ]
    },
    {
     "data": {
      "text/plain": [
       "'../../data/unsd/2019.Q2.G.01/csv_Indicator_5.2.1_Series_VC_VAW_MARR.csv'"
      ]
     },
     "metadata": {},
     "output_type": "display_data"
    },
    {
     "name": "stdout",
     "output_type": "stream",
     "text": [
      "Searching for VC_VAW_MARR_5_2_1_2019Q2G01\n",
      " -- Item VC_VAW_MARR_5_2_1_2019Q2G01 not found (force find)\n",
      "Adding CSV File to ArcGIS Online....\n",
      "Analyze Feature Service....\n",
      "Publishing Feature Service....\n",
      ".......call generate renderer within publish_csv\n",
      "Update Feature Service Symbology\n",
      "Moving CSV to Open Data Folder\n",
      "Updating Feature Service metadata....\n",
      "Moving Feature Service to Open Data Folder\n"
     ]
    },
    {
     "data": {
      "text/plain": [
       "{'notSharedWith': [], 'itemId': '5fa1cf4fd4db4ccd9188a81788a7d84b'}"
      ]
     },
     "execution_count": 55,
     "metadata": {},
     "output_type": "execute_result"
    },
    {
     "name": "stdout",
     "output_type": "stream",
     "text": [
      "{'results': [{'itemId': '5fa1cf4fd4db4ccd9188a81788a7d84b', 'success': True}]}\n",
      "\n",
      "Processing series code: 5.3.1 SP_DYN_MRBF18\n"
     ]
    },
    {
     "data": {
      "text/plain": [
       "'../../data/unsd/2019.Q2.G.01/csv_Indicator_5.3.1_Series_SP_DYN_MRBF18.csv'"
      ]
     },
     "metadata": {},
     "output_type": "display_data"
    },
    {
     "name": "stdout",
     "output_type": "stream",
     "text": [
      "Searching for SP_DYN_MRBF18_5_3_1_2019Q2G01\n",
      " -- Item SP_DYN_MRBF18_5_3_1_2019Q2G01 not found (force find)\n",
      "Adding CSV File to ArcGIS Online....\n",
      "Analyze Feature Service....\n",
      "Publishing Feature Service....\n",
      ".......call generate renderer within publish_csv\n",
      "Update Feature Service Symbology\n",
      "Moving CSV to Open Data Folder\n",
      "Updating Feature Service metadata....\n",
      "Moving Feature Service to Open Data Folder\n"
     ]
    },
    {
     "data": {
      "text/plain": [
       "{'notSharedWith': [], 'itemId': 'c87948a7e6ab4aec92abffb70bab4e7c'}"
      ]
     },
     "execution_count": 55,
     "metadata": {},
     "output_type": "execute_result"
    },
    {
     "name": "stdout",
     "output_type": "stream",
     "text": [
      "{'results': [{'itemId': 'c87948a7e6ab4aec92abffb70bab4e7c', 'success': True}]}\n",
      "\n",
      "Processing series code: 5.3.1 SP_DYN_MRBF15\n"
     ]
    },
    {
     "data": {
      "text/plain": [
       "'../../data/unsd/2019.Q2.G.01/csv_Indicator_5.3.1_Series_SP_DYN_MRBF15.csv'"
      ]
     },
     "metadata": {},
     "output_type": "display_data"
    },
    {
     "name": "stdout",
     "output_type": "stream",
     "text": [
      "Searching for SP_DYN_MRBF15_5_3_1_2019Q2G01\n",
      " -- Item SP_DYN_MRBF15_5_3_1_2019Q2G01 not found (force find)\n",
      "Adding CSV File to ArcGIS Online....\n",
      "Analyze Feature Service....\n",
      "Publishing Feature Service....\n",
      ".......call generate renderer within publish_csv\n",
      "Update Feature Service Symbology\n",
      "Moving CSV to Open Data Folder\n",
      "Updating Feature Service metadata....\n",
      "Moving Feature Service to Open Data Folder\n"
     ]
    },
    {
     "data": {
      "text/plain": [
       "{'notSharedWith': [], 'itemId': '0be315e76bea42529b3811c8d79bc588'}"
      ]
     },
     "execution_count": 55,
     "metadata": {},
     "output_type": "execute_result"
    },
    {
     "name": "stdout",
     "output_type": "stream",
     "text": [
      "{'results': [{'itemId': '0be315e76bea42529b3811c8d79bc588', 'success': True}]}\n",
      "\n",
      "Processing series code: 5.3.2 SH_STA_FGMS\n"
     ]
    },
    {
     "data": {
      "text/plain": [
       "'../../data/unsd/2019.Q2.G.01/csv_Indicator_5.3.2_Series_SH_STA_FGMS.csv'"
      ]
     },
     "metadata": {},
     "output_type": "display_data"
    },
    {
     "name": "stdout",
     "output_type": "stream",
     "text": [
      "Searching for SH_STA_FGMS_5_3_2_2019Q2G01\n",
      " -- Item SH_STA_FGMS_5_3_2_2019Q2G01 not found (force find)\n",
      "Adding CSV File to ArcGIS Online....\n",
      "Analyze Feature Service....\n",
      "Publishing Feature Service....\n",
      ".......call generate renderer within publish_csv\n",
      "Update Feature Service Symbology\n",
      "Moving CSV to Open Data Folder\n",
      "Updating Feature Service metadata....\n",
      "Moving Feature Service to Open Data Folder\n"
     ]
    },
    {
     "data": {
      "text/plain": [
       "{'notSharedWith': [], 'itemId': '6fe7efaa68ed422497fdfdad1e38788c'}"
      ]
     },
     "execution_count": 55,
     "metadata": {},
     "output_type": "execute_result"
    },
    {
     "name": "stdout",
     "output_type": "stream",
     "text": [
      "{'results': [{'itemId': '6fe7efaa68ed422497fdfdad1e38788c', 'success': True}]}\n",
      "\n",
      "Processing series code: 5.4.1 SL_DOM_TSPDCW\n"
     ]
    },
    {
     "data": {
      "text/plain": [
       "'../../data/unsd/2019.Q2.G.01/csv_Indicator_5.4.1_Series_SL_DOM_TSPDCW.csv'"
      ]
     },
     "metadata": {},
     "output_type": "display_data"
    },
    {
     "name": "stdout",
     "output_type": "stream",
     "text": [
      "Searching for SL_DOM_TSPDCW_5_4_1_2019Q2G01\n",
      " -- Item SL_DOM_TSPDCW_5_4_1_2019Q2G01 not found (force find)\n",
      "Adding CSV File to ArcGIS Online....\n",
      "Analyze Feature Service....\n",
      "Publishing Feature Service....\n",
      ".......call generate renderer within publish_csv\n",
      "Update Feature Service Symbology\n",
      "Moving CSV to Open Data Folder\n",
      "Updating Feature Service metadata....\n",
      "Moving Feature Service to Open Data Folder\n"
     ]
    },
    {
     "data": {
      "text/plain": [
       "{'notSharedWith': [], 'itemId': '906b5a1246f04416a1c36a6178eb37a7'}"
      ]
     },
     "execution_count": 55,
     "metadata": {},
     "output_type": "execute_result"
    },
    {
     "name": "stdout",
     "output_type": "stream",
     "text": [
      "{'results': [{'itemId': '906b5a1246f04416a1c36a6178eb37a7', 'success': True}]}\n",
      "\n",
      "Processing series code: 5.4.1 SL_DOM_TSPDDC\n"
     ]
    },
    {
     "data": {
      "text/plain": [
       "'../../data/unsd/2019.Q2.G.01/csv_Indicator_5.4.1_Series_SL_DOM_TSPDDC.csv'"
      ]
     },
     "metadata": {},
     "output_type": "display_data"
    },
    {
     "name": "stdout",
     "output_type": "stream",
     "text": [
      "Searching for SL_DOM_TSPDDC_5_4_1_2019Q2G01\n",
      " -- Item SL_DOM_TSPDDC_5_4_1_2019Q2G01 not found (force find)\n",
      "Adding CSV File to ArcGIS Online....\n",
      "Analyze Feature Service....\n",
      "Publishing Feature Service....\n",
      ".......call generate renderer within publish_csv\n",
      "Update Feature Service Symbology\n",
      "Moving CSV to Open Data Folder\n",
      "Updating Feature Service metadata....\n",
      "Moving Feature Service to Open Data Folder\n"
     ]
    },
    {
     "data": {
      "text/plain": [
       "{'notSharedWith': [], 'itemId': '53a80ff8d40f48848f23d03779d2fd75'}"
      ]
     },
     "execution_count": 55,
     "metadata": {},
     "output_type": "execute_result"
    },
    {
     "name": "stdout",
     "output_type": "stream",
     "text": [
      "{'results': [{'itemId': '53a80ff8d40f48848f23d03779d2fd75', 'success': True}]}\n",
      "\n",
      "Processing series code: 5.4.1 SL_DOM_TSPD\n"
     ]
    },
    {
     "data": {
      "text/plain": [
       "'../../data/unsd/2019.Q2.G.01/csv_Indicator_5.4.1_Series_SL_DOM_TSPD.csv'"
      ]
     },
     "metadata": {},
     "output_type": "display_data"
    },
    {
     "name": "stdout",
     "output_type": "stream",
     "text": [
      "Searching for SL_DOM_TSPD_5_4_1_2019Q2G01\n",
      " -- Item SL_DOM_TSPD_5_4_1_2019Q2G01 not found (force find)\n",
      "Adding CSV File to ArcGIS Online....\n",
      "Analyze Feature Service....\n",
      "Publishing Feature Service....\n",
      ".......call generate renderer within publish_csv\n",
      "Update Feature Service Symbology\n",
      "Moving CSV to Open Data Folder\n",
      "Updating Feature Service metadata....\n",
      "Moving Feature Service to Open Data Folder\n"
     ]
    },
    {
     "data": {
      "text/plain": [
       "{'notSharedWith': [], 'itemId': 'dd7df028292646b3a5d2e40bce6e804c'}"
      ]
     },
     "execution_count": 55,
     "metadata": {},
     "output_type": "execute_result"
    },
    {
     "name": "stdout",
     "output_type": "stream",
     "text": [
      "{'results': [{'itemId': 'dd7df028292646b3a5d2e40bce6e804c', 'success': True}]}\n",
      "\n",
      "Processing series code: 5.5.1 SG_GEN_PARLN\n"
     ]
    },
    {
     "data": {
      "text/plain": [
       "'../../data/unsd/2019.Q2.G.01/csv_Indicator_5.5.1_Series_SG_GEN_PARLN.csv'"
      ]
     },
     "metadata": {},
     "output_type": "display_data"
    },
    {
     "name": "stdout",
     "output_type": "stream",
     "text": [
      "Searching for SG_GEN_PARLN_5_5_1_2019Q2G01\n",
      " -- Item SG_GEN_PARLN_5_5_1_2019Q2G01 not found (force find)\n",
      "Adding CSV File to ArcGIS Online....\n",
      "Analyze Feature Service....\n",
      "Publishing Feature Service....\n",
      ".......call generate renderer within publish_csv\n",
      "Update Feature Service Symbology\n",
      "Moving CSV to Open Data Folder\n",
      "Updating Feature Service metadata....\n",
      "Moving Feature Service to Open Data Folder\n"
     ]
    },
    {
     "data": {
      "text/plain": [
       "{'notSharedWith': [], 'itemId': 'd13960a703b743948409b0b4716cd6b0'}"
      ]
     },
     "execution_count": 55,
     "metadata": {},
     "output_type": "execute_result"
    },
    {
     "name": "stdout",
     "output_type": "stream",
     "text": [
      "{'results': [{'itemId': 'd13960a703b743948409b0b4716cd6b0', 'success': True}]}\n",
      "\n",
      "Processing series code: 5.5.1 SG_GEN_PARLNT\n"
     ]
    },
    {
     "data": {
      "text/plain": [
       "'../../data/unsd/2019.Q2.G.01/csv_Indicator_5.5.1_Series_SG_GEN_PARLNT.csv'"
      ]
     },
     "metadata": {},
     "output_type": "display_data"
    },
    {
     "name": "stdout",
     "output_type": "stream",
     "text": [
      "Searching for SG_GEN_PARLNT_5_5_1_2019Q2G01\n",
      " -- Item SG_GEN_PARLNT_5_5_1_2019Q2G01 not found (force find)\n",
      "Adding CSV File to ArcGIS Online....\n",
      "Analyze Feature Service....\n",
      "Publishing Feature Service....\n",
      ".......call generate renderer within publish_csv\n",
      "Update Feature Service Symbology\n",
      "Moving CSV to Open Data Folder\n",
      "Updating Feature Service metadata....\n",
      "Moving Feature Service to Open Data Folder\n"
     ]
    },
    {
     "data": {
      "text/plain": [
       "{'notSharedWith': [], 'itemId': '4572412cf4cb45bfaeee5f7bb158eed6'}"
      ]
     },
     "execution_count": 55,
     "metadata": {},
     "output_type": "execute_result"
    },
    {
     "name": "stdout",
     "output_type": "stream",
     "text": [
      "{'results': [{'itemId': '4572412cf4cb45bfaeee5f7bb158eed6', 'success': True}]}\n",
      "\n",
      "Processing series code: 5.5.1 SG_GEN_PARL\n"
     ]
    },
    {
     "data": {
      "text/plain": [
       "'../../data/unsd/2019.Q2.G.01/csv_Indicator_5.5.1_Series_SG_GEN_PARL.csv'"
      ]
     },
     "metadata": {},
     "output_type": "display_data"
    },
    {
     "name": "stdout",
     "output_type": "stream",
     "text": [
      "Searching for SG_GEN_PARL_5_5_1_2019Q2G01\n",
      " -- Item SG_GEN_PARL_5_5_1_2019Q2G01 not found (force find)\n",
      "Adding CSV File to ArcGIS Online....\n",
      "Analyze Feature Service....\n",
      "Publishing Feature Service....\n",
      ".......call generate renderer within publish_csv\n",
      "Update Feature Service Symbology\n",
      "Moving CSV to Open Data Folder\n",
      "Updating Feature Service metadata....\n",
      "Moving Feature Service to Open Data Folder\n"
     ]
    },
    {
     "data": {
      "text/plain": [
       "{'notSharedWith': [], 'itemId': '29b8dbe8209c4966802edf3a38623f2c'}"
      ]
     },
     "execution_count": 55,
     "metadata": {},
     "output_type": "execute_result"
    },
    {
     "name": "stdout",
     "output_type": "stream",
     "text": [
      "{'results': [{'itemId': '29b8dbe8209c4966802edf3a38623f2c', 'success': True}]}\n",
      "\n",
      "Processing series code: 5.5.1 SG_GEN_LOCGELS\n"
     ]
    },
    {
     "data": {
      "text/plain": [
       "'../../data/unsd/2019.Q2.G.01/csv_Indicator_5.5.1_Series_SG_GEN_LOCGELS.csv'"
      ]
     },
     "metadata": {},
     "output_type": "display_data"
    },
    {
     "name": "stdout",
     "output_type": "stream",
     "text": [
      "Searching for SG_GEN_LOCGELS_5_5_1_2019Q2G01\n",
      " -- Item SG_GEN_LOCGELS_5_5_1_2019Q2G01 not found (force find)\n",
      "Adding CSV File to ArcGIS Online....\n",
      "Analyze Feature Service....\n",
      "Publishing Feature Service....\n",
      ".......call generate renderer within publish_csv\n",
      "Update Feature Service Symbology\n",
      "Moving CSV to Open Data Folder\n",
      "Updating Feature Service metadata....\n",
      "Moving Feature Service to Open Data Folder\n"
     ]
    },
    {
     "data": {
      "text/plain": [
       "{'notSharedWith': [], 'itemId': 'df338eed05b94460bd38f86fb9e7ce25'}"
      ]
     },
     "execution_count": 55,
     "metadata": {},
     "output_type": "execute_result"
    },
    {
     "name": "stdout",
     "output_type": "stream",
     "text": [
      "{'results': [{'itemId': 'df338eed05b94460bd38f86fb9e7ce25', 'success': True}]}\n",
      "\n",
      "Processing series code: 5.5.2 IC_GEN_MGTL\n"
     ]
    },
    {
     "data": {
      "text/plain": [
       "'../../data/unsd/2019.Q2.G.01/csv_Indicator_5.5.2_Series_IC_GEN_MGTL.csv'"
      ]
     },
     "metadata": {},
     "output_type": "display_data"
    },
    {
     "name": "stdout",
     "output_type": "stream",
     "text": [
      "Searching for IC_GEN_MGTL_5_5_2_2019Q2G01\n",
      " -- Item IC_GEN_MGTL_5_5_2_2019Q2G01 not found (force find)\n",
      "Adding CSV File to ArcGIS Online....\n",
      "Analyze Feature Service....\n",
      "Publishing Feature Service....\n",
      ".......call generate renderer within publish_csv\n",
      "Update Feature Service Symbology\n",
      "Moving CSV to Open Data Folder\n",
      "Updating Feature Service metadata....\n",
      "Moving Feature Service to Open Data Folder\n"
     ]
    },
    {
     "data": {
      "text/plain": [
       "{'notSharedWith': [], 'itemId': 'b23f560693c240b29009e570903b5ff2'}"
      ]
     },
     "execution_count": 55,
     "metadata": {},
     "output_type": "execute_result"
    },
    {
     "name": "stdout",
     "output_type": "stream",
     "text": [
      "{'results': [{'itemId': 'b23f560693c240b29009e570903b5ff2', 'success': True}]}\n",
      "\n",
      "Processing series code: 5.5.2 IC_GEN_MGTN\n"
     ]
    },
    {
     "data": {
      "text/plain": [
       "'../../data/unsd/2019.Q2.G.01/csv_Indicator_5.5.2_Series_IC_GEN_MGTN.csv'"
      ]
     },
     "metadata": {},
     "output_type": "display_data"
    },
    {
     "name": "stdout",
     "output_type": "stream",
     "text": [
      "Searching for IC_GEN_MGTN_5_5_2_2019Q2G01\n",
      " -- Item IC_GEN_MGTN_5_5_2_2019Q2G01 not found (force find)\n",
      "Adding CSV File to ArcGIS Online....\n",
      "Analyze Feature Service....\n",
      "Publishing Feature Service....\n",
      ".......call generate renderer within publish_csv\n",
      "Update Feature Service Symbology\n",
      "Moving CSV to Open Data Folder\n",
      "Updating Feature Service metadata....\n",
      "Moving Feature Service to Open Data Folder\n"
     ]
    },
    {
     "data": {
      "text/plain": [
       "{'notSharedWith': [], 'itemId': '661b1b0c536e4dc58e70697f59cba4f6'}"
      ]
     },
     "execution_count": 55,
     "metadata": {},
     "output_type": "execute_result"
    },
    {
     "name": "stdout",
     "output_type": "stream",
     "text": [
      "{'results': [{'itemId': '661b1b0c536e4dc58e70697f59cba4f6', 'success': True}]}\n",
      "\n",
      "Processing series code: 5.6.1 SH_FPL_INFM\n"
     ]
    },
    {
     "data": {
      "text/plain": [
       "'../../data/unsd/2019.Q2.G.01/csv_Indicator_5.6.1_Series_SH_FPL_INFM.csv'"
      ]
     },
     "metadata": {},
     "output_type": "display_data"
    },
    {
     "name": "stdout",
     "output_type": "stream",
     "text": [
      "Searching for SH_FPL_INFM_5_6_1_2019Q2G01\n",
      " -- Item SH_FPL_INFM_5_6_1_2019Q2G01 not found (force find)\n",
      "Adding CSV File to ArcGIS Online....\n",
      "Analyze Feature Service....\n",
      "Publishing Feature Service....\n",
      ".......call generate renderer within publish_csv\n",
      "Update Feature Service Symbology\n",
      "Moving CSV to Open Data Folder\n",
      "Updating Feature Service metadata....\n",
      "Moving Feature Service to Open Data Folder\n"
     ]
    },
    {
     "data": {
      "text/plain": [
       "{'notSharedWith': [], 'itemId': '42620f00987a4439be9fcc3bf424d95b'}"
      ]
     },
     "execution_count": 55,
     "metadata": {},
     "output_type": "execute_result"
    },
    {
     "name": "stdout",
     "output_type": "stream",
     "text": [
      "{'results': [{'itemId': '42620f00987a4439be9fcc3bf424d95b', 'success': True}]}\n",
      "\n",
      "Processing series code: 5.6.1 SH_FPL_INFMSR\n"
     ]
    },
    {
     "data": {
      "text/plain": [
       "'../../data/unsd/2019.Q2.G.01/csv_Indicator_5.6.1_Series_SH_FPL_INFMSR.csv'"
      ]
     },
     "metadata": {},
     "output_type": "display_data"
    },
    {
     "name": "stdout",
     "output_type": "stream",
     "text": [
      "Searching for SH_FPL_INFMSR_5_6_1_2019Q2G01\n",
      " -- Item SH_FPL_INFMSR_5_6_1_2019Q2G01 not found (force find)\n",
      "Adding CSV File to ArcGIS Online....\n",
      "Analyze Feature Service....\n",
      "Publishing Feature Service....\n",
      ".......call generate renderer within publish_csv\n",
      "Update Feature Service Symbology\n",
      "Moving CSV to Open Data Folder\n",
      "Updating Feature Service metadata....\n",
      "Moving Feature Service to Open Data Folder\n"
     ]
    },
    {
     "data": {
      "text/plain": [
       "{'notSharedWith': [], 'itemId': '9c731f74577c4c2ca54d6d5de896967b'}"
      ]
     },
     "execution_count": 55,
     "metadata": {},
     "output_type": "execute_result"
    },
    {
     "name": "stdout",
     "output_type": "stream",
     "text": [
      "{'results': [{'itemId': '9c731f74577c4c2ca54d6d5de896967b', 'success': True}]}\n",
      "\n",
      "Processing series code: 5.6.1 SH_FPL_INFMCU\n"
     ]
    },
    {
     "data": {
      "text/plain": [
       "'../../data/unsd/2019.Q2.G.01/csv_Indicator_5.6.1_Series_SH_FPL_INFMCU.csv'"
      ]
     },
     "metadata": {},
     "output_type": "display_data"
    },
    {
     "name": "stdout",
     "output_type": "stream",
     "text": [
      "Searching for SH_FPL_INFMCU_5_6_1_2019Q2G01\n",
      " -- Item SH_FPL_INFMCU_5_6_1_2019Q2G01 not found (force find)\n",
      "Adding CSV File to ArcGIS Online....\n",
      "Analyze Feature Service....\n",
      "Publishing Feature Service....\n",
      ".......call generate renderer within publish_csv\n",
      "Update Feature Service Symbology\n",
      "Moving CSV to Open Data Folder\n",
      "Updating Feature Service metadata....\n",
      "Moving Feature Service to Open Data Folder\n"
     ]
    },
    {
     "data": {
      "text/plain": [
       "{'notSharedWith': [], 'itemId': '5b6f81c721e548a290dc3954a12f949b'}"
      ]
     },
     "execution_count": 55,
     "metadata": {},
     "output_type": "execute_result"
    },
    {
     "name": "stdout",
     "output_type": "stream",
     "text": [
      "{'results': [{'itemId': '5b6f81c721e548a290dc3954a12f949b', 'success': True}]}\n",
      "\n",
      "Processing series code: 5.6.1 SH_FPL_INFMRH\n"
     ]
    },
    {
     "data": {
      "text/plain": [
       "'../../data/unsd/2019.Q2.G.01/csv_Indicator_5.6.1_Series_SH_FPL_INFMRH.csv'"
      ]
     },
     "metadata": {},
     "output_type": "display_data"
    },
    {
     "name": "stdout",
     "output_type": "stream",
     "text": [
      "Searching for SH_FPL_INFMRH_5_6_1_2019Q2G01\n",
      " -- Item SH_FPL_INFMRH_5_6_1_2019Q2G01 not found (force find)\n",
      "Adding CSV File to ArcGIS Online....\n",
      "Analyze Feature Service....\n",
      "Publishing Feature Service....\n",
      ".......call generate renderer within publish_csv\n",
      "Update Feature Service Symbology\n",
      "Moving CSV to Open Data Folder\n",
      "Updating Feature Service metadata....\n",
      "Moving Feature Service to Open Data Folder\n"
     ]
    },
    {
     "data": {
      "text/plain": [
       "{'notSharedWith': [], 'itemId': '9c5616ca58e3434fb4ebf221d66bc5c4'}"
      ]
     },
     "execution_count": 55,
     "metadata": {},
     "output_type": "execute_result"
    },
    {
     "name": "stdout",
     "output_type": "stream",
     "text": [
      "{'results': [{'itemId': '9c5616ca58e3434fb4ebf221d66bc5c4', 'success': True}]}\n",
      "\n",
      "Processing series code: 5.b.1 IT_MOB_OWN\n"
     ]
    },
    {
     "data": {
      "text/plain": [
       "'../../data/unsd/2019.Q2.G.01/csv_Indicator_5.b.1_Series_IT_MOB_OWN.csv'"
      ]
     },
     "metadata": {},
     "output_type": "display_data"
    },
    {
     "name": "stdout",
     "output_type": "stream",
     "text": [
      "Searching for IT_MOB_OWN_5_b_1_2019Q2G01\n",
      " -- Item IT_MOB_OWN_5_b_1_2019Q2G01 not found (force find)\n",
      "Adding CSV File to ArcGIS Online....\n",
      "Analyze Feature Service....\n",
      "Publishing Feature Service....\n",
      ".......call generate renderer within publish_csv\n",
      "Update Feature Service Symbology\n",
      "Moving CSV to Open Data Folder\n",
      "Updating Feature Service metadata....\n",
      "Moving Feature Service to Open Data Folder\n"
     ]
    },
    {
     "data": {
      "text/plain": [
       "{'notSharedWith': [], 'itemId': '8cc97a0a4a1a43e6994c5817d85fb7e7'}"
      ]
     },
     "execution_count": 55,
     "metadata": {},
     "output_type": "execute_result"
    },
    {
     "name": "stdout",
     "output_type": "stream",
     "text": [
      "{'results': [{'itemId': '8cc97a0a4a1a43e6994c5817d85fb7e7', 'success': True}]}\n",
      "\n",
      "Processing series code: 5.c.1 SG_GEN_EQPWN\n"
     ]
    },
    {
     "data": {
      "text/plain": [
       "'../../data/unsd/2019.Q2.G.01/csv_Indicator_5.c.1_Series_SG_GEN_EQPWN.csv'"
      ]
     },
     "metadata": {},
     "output_type": "display_data"
    },
    {
     "name": "stdout",
     "output_type": "stream",
     "text": [
      "Searching for SG_GEN_EQPWN_5_c_1_2019Q2G01\n",
      " -- Item SG_GEN_EQPWN_5_c_1_2019Q2G01 not found (force find)\n",
      "Adding CSV File to ArcGIS Online....\n",
      "Analyze Feature Service....\n",
      "Publishing Feature Service....\n",
      ".......call generate renderer within publish_csv\n",
      "Update Feature Service Symbology\n",
      "Moving CSV to Open Data Folder\n",
      "Updating Feature Service metadata....\n",
      "Moving Feature Service to Open Data Folder\n"
     ]
    },
    {
     "data": {
      "text/plain": [
       "{'notSharedWith': [], 'itemId': '48bebbc623f648ac9fb157bb34410257'}"
      ]
     },
     "execution_count": 55,
     "metadata": {},
     "output_type": "execute_result"
    },
    {
     "name": "stdout",
     "output_type": "stream",
     "text": [
      "{'results': [{'itemId': '48bebbc623f648ac9fb157bb34410257', 'success': True}]}\n",
      "\n",
      "Processing series code: 6.1.1 SH_H2O_SAFE\n"
     ]
    },
    {
     "data": {
      "text/plain": [
       "'../../data/unsd/2019.Q2.G.01/csv_Indicator_6.1.1_Series_SH_H2O_SAFE.csv'"
      ]
     },
     "metadata": {},
     "output_type": "display_data"
    },
    {
     "name": "stdout",
     "output_type": "stream",
     "text": [
      "Searching for SH_H2O_SAFE_6_1_1_2019Q2G01\n",
      " -- Item SH_H2O_SAFE_6_1_1_2019Q2G01 not found (force find)\n",
      "Adding CSV File to ArcGIS Online....\n",
      "Analyze Feature Service....\n",
      "Publishing Feature Service....\n",
      ".......call generate renderer within publish_csv\n",
      "Update Feature Service Symbology\n",
      "Moving CSV to Open Data Folder\n",
      "Updating Feature Service metadata....\n",
      "Moving Feature Service to Open Data Folder\n"
     ]
    },
    {
     "data": {
      "text/plain": [
       "{'notSharedWith': [], 'itemId': 'db95089773654b6898ef4af01c440140'}"
      ]
     },
     "execution_count": 55,
     "metadata": {},
     "output_type": "execute_result"
    },
    {
     "name": "stdout",
     "output_type": "stream",
     "text": [
      "{'results': [{'itemId': 'db95089773654b6898ef4af01c440140', 'success': True}]}\n",
      "\n",
      "Processing series code: 6.2.1 SH_SAN_HNDWSH\n"
     ]
    },
    {
     "data": {
      "text/plain": [
       "'../../data/unsd/2019.Q2.G.01/csv_Indicator_6.2.1_Series_SH_SAN_HNDWSH.csv'"
      ]
     },
     "metadata": {},
     "output_type": "display_data"
    },
    {
     "name": "stdout",
     "output_type": "stream",
     "text": [
      "Searching for SH_SAN_HNDWSH_6_2_1_2019Q2G01\n",
      " -- Item SH_SAN_HNDWSH_6_2_1_2019Q2G01 not found (force find)\n",
      "Adding CSV File to ArcGIS Online....\n",
      "Analyze Feature Service....\n",
      "Publishing Feature Service....\n",
      ".......call generate renderer within publish_csv\n",
      "Update Feature Service Symbology\n",
      "Moving CSV to Open Data Folder\n",
      "Updating Feature Service metadata....\n",
      "Moving Feature Service to Open Data Folder\n"
     ]
    },
    {
     "data": {
      "text/plain": [
       "{'notSharedWith': [], 'itemId': 'e68e470d4e084d4b9f74d6de7594bbad'}"
      ]
     },
     "execution_count": 55,
     "metadata": {},
     "output_type": "execute_result"
    },
    {
     "name": "stdout",
     "output_type": "stream",
     "text": [
      "{'results': [{'itemId': 'e68e470d4e084d4b9f74d6de7594bbad', 'success': True}]}\n",
      "\n",
      "Processing series code: 6.2.1 SH_SAN_SAFE\n"
     ]
    },
    {
     "data": {
      "text/plain": [
       "'../../data/unsd/2019.Q2.G.01/csv_Indicator_6.2.1_Series_SH_SAN_SAFE.csv'"
      ]
     },
     "metadata": {},
     "output_type": "display_data"
    },
    {
     "name": "stdout",
     "output_type": "stream",
     "text": [
      "Searching for SH_SAN_SAFE_6_2_1_2019Q2G01\n",
      " -- Item SH_SAN_SAFE_6_2_1_2019Q2G01 not found (force find)\n",
      "Adding CSV File to ArcGIS Online....\n",
      "Analyze Feature Service....\n",
      "Publishing Feature Service....\n",
      ".......call generate renderer within publish_csv\n",
      "Update Feature Service Symbology\n",
      "Moving CSV to Open Data Folder\n",
      "Updating Feature Service metadata....\n",
      "Moving Feature Service to Open Data Folder\n"
     ]
    },
    {
     "data": {
      "text/plain": [
       "{'notSharedWith': [], 'itemId': '961186c499834224bb09e32f68092855'}"
      ]
     },
     "execution_count": 55,
     "metadata": {},
     "output_type": "execute_result"
    },
    {
     "name": "stdout",
     "output_type": "stream",
     "text": [
      "{'results': [{'itemId': '961186c499834224bb09e32f68092855', 'success': True}]}\n",
      "\n",
      "Processing series code: 6.2.1 SH_SAN_DEFECT\n"
     ]
    },
    {
     "data": {
      "text/plain": [
       "'../../data/unsd/2019.Q2.G.01/csv_Indicator_6.2.1_Series_SH_SAN_DEFECT.csv'"
      ]
     },
     "metadata": {},
     "output_type": "display_data"
    },
    {
     "name": "stdout",
     "output_type": "stream",
     "text": [
      "Searching for SH_SAN_DEFECT_6_2_1_2019Q2G01\n",
      " -- Item SH_SAN_DEFECT_6_2_1_2019Q2G01 not found (force find)\n",
      "Adding CSV File to ArcGIS Online....\n",
      "Analyze Feature Service....\n",
      "Publishing Feature Service....\n",
      ".......call generate renderer within publish_csv\n",
      "Update Feature Service Symbology\n",
      "Moving CSV to Open Data Folder\n",
      "Updating Feature Service metadata....\n",
      "Moving Feature Service to Open Data Folder\n"
     ]
    },
    {
     "data": {
      "text/plain": [
       "{'notSharedWith': [], 'itemId': '6d84807ee23f4ddbaf2b9ba0768c8a12'}"
      ]
     },
     "execution_count": 55,
     "metadata": {},
     "output_type": "execute_result"
    },
    {
     "name": "stdout",
     "output_type": "stream",
     "text": [
      "{'results': [{'itemId': '6d84807ee23f4ddbaf2b9ba0768c8a12', 'success': True}]}\n",
      "\n",
      "Processing series code: 6.3.1 EN_WWT_WWDS\n"
     ]
    },
    {
     "data": {
      "text/plain": [
       "'../../data/unsd/2019.Q2.G.01/csv_Indicator_6.3.1_Series_EN_WWT_WWDS.csv'"
      ]
     },
     "metadata": {},
     "output_type": "display_data"
    },
    {
     "name": "stdout",
     "output_type": "stream",
     "text": [
      "Searching for EN_WWT_WWDS_6_3_1_2019Q2G01\n",
      " -- Item EN_WWT_WWDS_6_3_1_2019Q2G01 not found (force find)\n",
      "Adding CSV File to ArcGIS Online....\n",
      "Analyze Feature Service....\n",
      "Publishing Feature Service....\n",
      ".......call generate renderer within publish_csv\n",
      "Update Feature Service Symbology\n",
      "Moving CSV to Open Data Folder\n",
      "Updating Feature Service metadata....\n",
      "Moving Feature Service to Open Data Folder\n"
     ]
    },
    {
     "data": {
      "text/plain": [
       "{'notSharedWith': [], 'itemId': 'e1b826c0d14f4c139c5dba98a6305cff'}"
      ]
     },
     "execution_count": 55,
     "metadata": {},
     "output_type": "execute_result"
    },
    {
     "name": "stdout",
     "output_type": "stream",
     "text": [
      "{'results': [{'itemId': 'e1b826c0d14f4c139c5dba98a6305cff', 'success': True}]}\n",
      "\n",
      "Processing series code: 6.3.2 EN_H2O_OPAMBQ\n"
     ]
    },
    {
     "data": {
      "text/plain": [
       "'../../data/unsd/2019.Q2.G.01/csv_Indicator_6.3.2_Series_EN_H2O_OPAMBQ.csv'"
      ]
     },
     "metadata": {},
     "output_type": "display_data"
    },
    {
     "name": "stdout",
     "output_type": "stream",
     "text": [
      "Searching for EN_H2O_OPAMBQ_6_3_2_2019Q2G01\n",
      " -- Item EN_H2O_OPAMBQ_6_3_2_2019Q2G01 not found (force find)\n",
      "Adding CSV File to ArcGIS Online....\n",
      "Analyze Feature Service....\n",
      "Publishing Feature Service....\n",
      ".......call generate renderer within publish_csv\n",
      "Update Feature Service Symbology\n",
      "Moving CSV to Open Data Folder\n",
      "Updating Feature Service metadata....\n",
      "Moving Feature Service to Open Data Folder\n"
     ]
    },
    {
     "data": {
      "text/plain": [
       "{'notSharedWith': [], 'itemId': 'a98d42208fc14f2683702ac19d841197'}"
      ]
     },
     "execution_count": 55,
     "metadata": {},
     "output_type": "execute_result"
    },
    {
     "name": "stdout",
     "output_type": "stream",
     "text": [
      "{'results': [{'itemId': 'a98d42208fc14f2683702ac19d841197', 'success': True}]}\n",
      "\n",
      "Processing series code: 6.3.2 EN_H2O_RVAMBQ\n"
     ]
    },
    {
     "data": {
      "text/plain": [
       "'../../data/unsd/2019.Q2.G.01/csv_Indicator_6.3.2_Series_EN_H2O_RVAMBQ.csv'"
      ]
     },
     "metadata": {},
     "output_type": "display_data"
    },
    {
     "name": "stdout",
     "output_type": "stream",
     "text": [
      "Searching for EN_H2O_RVAMBQ_6_3_2_2019Q2G01\n",
      " -- Item EN_H2O_RVAMBQ_6_3_2_2019Q2G01 not found (force find)\n",
      "Adding CSV File to ArcGIS Online....\n",
      "Analyze Feature Service....\n",
      "Publishing Feature Service....\n",
      ".......call generate renderer within publish_csv\n",
      "Update Feature Service Symbology\n",
      "Moving CSV to Open Data Folder\n",
      "Updating Feature Service metadata....\n",
      "Moving Feature Service to Open Data Folder\n"
     ]
    },
    {
     "data": {
      "text/plain": [
       "{'notSharedWith': [], 'itemId': 'd7a02226881b4e3780072f250d443d46'}"
      ]
     },
     "execution_count": 55,
     "metadata": {},
     "output_type": "execute_result"
    },
    {
     "name": "stdout",
     "output_type": "stream",
     "text": [
      "{'results': [{'itemId': 'd7a02226881b4e3780072f250d443d46', 'success': True}]}\n",
      "\n",
      "Processing series code: 6.3.2 EN_H2O_GRAMBQ\n"
     ]
    },
    {
     "data": {
      "text/plain": [
       "'../../data/unsd/2019.Q2.G.01/csv_Indicator_6.3.2_Series_EN_H2O_GRAMBQ.csv'"
      ]
     },
     "metadata": {},
     "output_type": "display_data"
    },
    {
     "name": "stdout",
     "output_type": "stream",
     "text": [
      "Searching for EN_H2O_GRAMBQ_6_3_2_2019Q2G01\n",
      " -- Item EN_H2O_GRAMBQ_6_3_2_2019Q2G01 not found (force find)\n",
      "Adding CSV File to ArcGIS Online....\n",
      "Analyze Feature Service....\n",
      "Publishing Feature Service....\n",
      ".......call generate renderer within publish_csv\n",
      "Update Feature Service Symbology\n",
      "Moving CSV to Open Data Folder\n",
      "Updating Feature Service metadata....\n",
      "Moving Feature Service to Open Data Folder\n"
     ]
    },
    {
     "data": {
      "text/plain": [
       "{'notSharedWith': [], 'itemId': 'b48f6879dd5e4bd39ddedb44c53145f1'}"
      ]
     },
     "execution_count": 55,
     "metadata": {},
     "output_type": "execute_result"
    },
    {
     "name": "stdout",
     "output_type": "stream",
     "text": [
      "{'results': [{'itemId': 'b48f6879dd5e4bd39ddedb44c53145f1', 'success': True}]}\n",
      "\n",
      "Processing series code: 6.3.2 EN_H2O_WBAMBQ\n"
     ]
    },
    {
     "data": {
      "text/plain": [
       "'../../data/unsd/2019.Q2.G.01/csv_Indicator_6.3.2_Series_EN_H2O_WBAMBQ.csv'"
      ]
     },
     "metadata": {},
     "output_type": "display_data"
    },
    {
     "name": "stdout",
     "output_type": "stream",
     "text": [
      "Searching for EN_H2O_WBAMBQ_6_3_2_2019Q2G01\n",
      " -- Item EN_H2O_WBAMBQ_6_3_2_2019Q2G01 not found (force find)\n",
      "Adding CSV File to ArcGIS Online....\n",
      "Analyze Feature Service....\n",
      "Publishing Feature Service....\n",
      ".......call generate renderer within publish_csv\n",
      "Update Feature Service Symbology\n",
      "Moving CSV to Open Data Folder\n",
      "Updating Feature Service metadata....\n",
      "Moving Feature Service to Open Data Folder\n"
     ]
    },
    {
     "data": {
      "text/plain": [
       "{'notSharedWith': [], 'itemId': '27ed1d89d5f14ec4a660d173d4e624da'}"
      ]
     },
     "execution_count": 55,
     "metadata": {},
     "output_type": "execute_result"
    },
    {
     "name": "stdout",
     "output_type": "stream",
     "text": [
      "{'results': [{'itemId': '27ed1d89d5f14ec4a660d173d4e624da', 'success': True}]}\n",
      "\n",
      "Processing series code: 6.4.1 ER_H2O_WUEYST\n"
     ]
    },
    {
     "data": {
      "text/plain": [
       "'../../data/unsd/2019.Q2.G.01/csv_Indicator_6.4.1_Series_ER_H2O_WUEYST.csv'"
      ]
     },
     "metadata": {},
     "output_type": "display_data"
    },
    {
     "name": "stdout",
     "output_type": "stream",
     "text": [
      "Searching for ER_H2O_WUEYST_6_4_1_2019Q2G01\n",
      " -- Item ER_H2O_WUEYST_6_4_1_2019Q2G01 not found (force find)\n",
      "Adding CSV File to ArcGIS Online....\n",
      "Analyze Feature Service....\n",
      "Publishing Feature Service....\n",
      ".......call generate renderer within publish_csv\n",
      "Update Feature Service Symbology\n",
      "Moving CSV to Open Data Folder\n",
      "Updating Feature Service metadata....\n",
      "Moving Feature Service to Open Data Folder\n"
     ]
    },
    {
     "data": {
      "text/plain": [
       "{'notSharedWith': [], 'itemId': '6a6e50a80d634f218cd80ebc6d06a5a3'}"
      ]
     },
     "execution_count": 55,
     "metadata": {},
     "output_type": "execute_result"
    },
    {
     "name": "stdout",
     "output_type": "stream",
     "text": [
      "{'results': [{'itemId': '6a6e50a80d634f218cd80ebc6d06a5a3', 'success': True}]}\n",
      "\n",
      "Processing series code: 6.4.2 ER_H2O_STRESS\n"
     ]
    },
    {
     "data": {
      "text/plain": [
       "'../../data/unsd/2019.Q2.G.01/csv_Indicator_6.4.2_Series_ER_H2O_STRESS.csv'"
      ]
     },
     "metadata": {},
     "output_type": "display_data"
    },
    {
     "name": "stdout",
     "output_type": "stream",
     "text": [
      "Searching for ER_H2O_STRESS_6_4_2_2019Q2G01\n",
      " -- Item ER_H2O_STRESS_6_4_2_2019Q2G01 not found (force find)\n",
      "Adding CSV File to ArcGIS Online....\n",
      "Analyze Feature Service....\n",
      "Publishing Feature Service....\n",
      ".......call generate renderer within publish_csv\n",
      "Update Feature Service Symbology\n",
      "Moving CSV to Open Data Folder\n",
      "Updating Feature Service metadata....\n",
      "Moving Feature Service to Open Data Folder\n"
     ]
    },
    {
     "data": {
      "text/plain": [
       "{'notSharedWith': [], 'itemId': '38451bef4070432fbeb415ba4510965e'}"
      ]
     },
     "execution_count": 55,
     "metadata": {},
     "output_type": "execute_result"
    },
    {
     "name": "stdout",
     "output_type": "stream",
     "text": [
      "{'results': [{'itemId': '38451bef4070432fbeb415ba4510965e', 'success': True}]}\n",
      "\n",
      "Processing series code: 6.5.1 ER_H2O_IWRMD\n"
     ]
    },
    {
     "data": {
      "text/plain": [
       "'../../data/unsd/2019.Q2.G.01/csv_Indicator_6.5.1_Series_ER_H2O_IWRMD.csv'"
      ]
     },
     "metadata": {},
     "output_type": "display_data"
    },
    {
     "name": "stdout",
     "output_type": "stream",
     "text": [
      "Searching for ER_H2O_IWRMD_6_5_1_2019Q2G01\n",
      " -- Item ER_H2O_IWRMD_6_5_1_2019Q2G01 not found (force find)\n",
      "Adding CSV File to ArcGIS Online....\n",
      "Analyze Feature Service....\n",
      "Publishing Feature Service....\n",
      ".......call generate renderer within publish_csv\n",
      "Update Feature Service Symbology\n",
      "Moving CSV to Open Data Folder\n",
      "Updating Feature Service metadata....\n",
      "Moving Feature Service to Open Data Folder\n"
     ]
    },
    {
     "data": {
      "text/plain": [
       "{'notSharedWith': [], 'itemId': '11f76a8f585a4817a9b687631cf78b63'}"
      ]
     },
     "execution_count": 55,
     "metadata": {},
     "output_type": "execute_result"
    },
    {
     "name": "stdout",
     "output_type": "stream",
     "text": [
      "{'results': [{'itemId': '11f76a8f585a4817a9b687631cf78b63', 'success': True}]}\n",
      "\n",
      "Processing series code: 6.5.1 ER_H2O_IWRMP\n"
     ]
    },
    {
     "data": {
      "text/plain": [
       "'../../data/unsd/2019.Q2.G.01/csv_Indicator_6.5.1_Series_ER_H2O_IWRMP.csv'"
      ]
     },
     "metadata": {},
     "output_type": "display_data"
    },
    {
     "name": "stdout",
     "output_type": "stream",
     "text": [
      "\n",
      "Processing series code: 6.5.2 EG_TBA_H2CO\n"
     ]
    },
    {
     "data": {
      "text/plain": [
       "'../../data/unsd/2019.Q2.G.01/csv_Indicator_6.5.2_Series_EG_TBA_H2CO.csv'"
      ]
     },
     "metadata": {},
     "output_type": "display_data"
    },
    {
     "name": "stdout",
     "output_type": "stream",
     "text": [
      "Searching for EG_TBA_H2CO_6_5_2_2019Q2G01\n",
      " -- Item EG_TBA_H2CO_6_5_2_2019Q2G01 not found (force find)\n",
      "Adding CSV File to ArcGIS Online....\n",
      "Analyze Feature Service....\n",
      "Publishing Feature Service....\n",
      ".......call generate renderer within publish_csv\n",
      "Update Feature Service Symbology\n",
      "Moving CSV to Open Data Folder\n",
      "Updating Feature Service metadata....\n",
      "Moving Feature Service to Open Data Folder\n"
     ]
    },
    {
     "data": {
      "text/plain": [
       "{'notSharedWith': [], 'itemId': '608ea511d90d42d28624efc0c77d8ac7'}"
      ]
     },
     "execution_count": 55,
     "metadata": {},
     "output_type": "execute_result"
    },
    {
     "name": "stdout",
     "output_type": "stream",
     "text": [
      "{'results': [{'itemId': '608ea511d90d42d28624efc0c77d8ac7', 'success': True}]}\n",
      "\n",
      "Processing series code: 6.5.2 EG_TBA_H2COAQ\n"
     ]
    },
    {
     "data": {
      "text/plain": [
       "'../../data/unsd/2019.Q2.G.01/csv_Indicator_6.5.2_Series_EG_TBA_H2COAQ.csv'"
      ]
     },
     "metadata": {},
     "output_type": "display_data"
    },
    {
     "name": "stdout",
     "output_type": "stream",
     "text": [
      "Searching for EG_TBA_H2COAQ_6_5_2_2019Q2G01\n",
      " -- Item EG_TBA_H2COAQ_6_5_2_2019Q2G01 not found (force find)\n",
      "Adding CSV File to ArcGIS Online....\n",
      "Analyze Feature Service....\n",
      "Publishing Feature Service....\n",
      ".......call generate renderer within publish_csv\n",
      "Update Feature Service Symbology\n",
      "Moving CSV to Open Data Folder\n",
      "Updating Feature Service metadata....\n",
      "Moving Feature Service to Open Data Folder\n"
     ]
    },
    {
     "data": {
      "text/plain": [
       "{'notSharedWith': [], 'itemId': 'd52f9b57f74545dc85194b0db237d1c0'}"
      ]
     },
     "execution_count": 55,
     "metadata": {},
     "output_type": "execute_result"
    },
    {
     "name": "stdout",
     "output_type": "stream",
     "text": [
      "{'results': [{'itemId': 'd52f9b57f74545dc85194b0db237d1c0', 'success': True}]}\n",
      "\n",
      "Processing series code: 6.5.2 EG_TBA_H2CORL\n"
     ]
    },
    {
     "data": {
      "text/plain": [
       "'../../data/unsd/2019.Q2.G.01/csv_Indicator_6.5.2_Series_EG_TBA_H2CORL.csv'"
      ]
     },
     "metadata": {},
     "output_type": "display_data"
    },
    {
     "name": "stdout",
     "output_type": "stream",
     "text": [
      "Searching for EG_TBA_H2CORL_6_5_2_2019Q2G01\n",
      " -- Item EG_TBA_H2CORL_6_5_2_2019Q2G01 not found (force find)\n",
      "Adding CSV File to ArcGIS Online....\n",
      "Analyze Feature Service....\n",
      "Publishing Feature Service....\n",
      ".......call generate renderer within publish_csv\n",
      "Update Feature Service Symbology\n",
      "Moving CSV to Open Data Folder\n",
      "Updating Feature Service metadata....\n",
      "Moving Feature Service to Open Data Folder\n"
     ]
    },
    {
     "data": {
      "text/plain": [
       "{'notSharedWith': [], 'itemId': '71973ced2c74476f87c0b59eb607b710'}"
      ]
     },
     "execution_count": 55,
     "metadata": {},
     "output_type": "execute_result"
    },
    {
     "name": "stdout",
     "output_type": "stream",
     "text": [
      "{'results': [{'itemId': '71973ced2c74476f87c0b59eb607b710', 'success': True}]}\n",
      "\n",
      "Processing series code: 6.6.1 EN_WBE_PMPR\n"
     ]
    },
    {
     "data": {
      "text/plain": [
       "'../../data/unsd/2019.Q2.G.01/csv_Indicator_6.6.1_Series_EN_WBE_PMPR.csv'"
      ]
     },
     "metadata": {},
     "output_type": "display_data"
    },
    {
     "name": "stdout",
     "output_type": "stream",
     "text": [
      "Searching for EN_WBE_PMPR_6_6_1_2019Q2G01\n",
      " -- Item EN_WBE_PMPR_6_6_1_2019Q2G01 not found (force find)\n",
      "Adding CSV File to ArcGIS Online....\n",
      "Analyze Feature Service....\n",
      "Publishing Feature Service....\n",
      ".......call generate renderer within publish_csv\n",
      "Update Feature Service Symbology\n",
      "Moving CSV to Open Data Folder\n",
      "Updating Feature Service metadata....\n",
      "Moving Feature Service to Open Data Folder\n"
     ]
    },
    {
     "data": {
      "text/plain": [
       "{'notSharedWith': [], 'itemId': '66fa544fc65c4734bbf010e0d1b3f2dd'}"
      ]
     },
     "execution_count": 55,
     "metadata": {},
     "output_type": "execute_result"
    },
    {
     "name": "stdout",
     "output_type": "stream",
     "text": [
      "{'results': [{'itemId': '66fa544fc65c4734bbf010e0d1b3f2dd', 'success': True}]}\n",
      "\n",
      "Processing series code: 6.6.1 EN_WBE_PMNR\n"
     ]
    },
    {
     "data": {
      "text/plain": [
       "'../../data/unsd/2019.Q2.G.01/csv_Indicator_6.6.1_Series_EN_WBE_PMNR.csv'"
      ]
     },
     "metadata": {},
     "output_type": "display_data"
    },
    {
     "name": "stdout",
     "output_type": "stream",
     "text": [
      "Searching for EN_WBE_PMNR_6_6_1_2019Q2G01\n",
      " -- Item EN_WBE_PMNR_6_6_1_2019Q2G01 not found (force find)\n",
      "Adding CSV File to ArcGIS Online....\n",
      "Analyze Feature Service....\n",
      "Publishing Feature Service....\n",
      ".......call generate renderer within publish_csv\n",
      "Update Feature Service Symbology\n",
      "Moving CSV to Open Data Folder\n",
      "Updating Feature Service metadata....\n",
      "Moving Feature Service to Open Data Folder\n"
     ]
    },
    {
     "data": {
      "text/plain": [
       "{'notSharedWith': [], 'itemId': 'ad32b3d4781d4da1b265fbf6017ea3ab'}"
      ]
     },
     "execution_count": 55,
     "metadata": {},
     "output_type": "execute_result"
    },
    {
     "name": "stdout",
     "output_type": "stream",
     "text": [
      "{'results': [{'itemId': 'ad32b3d4781d4da1b265fbf6017ea3ab', 'success': True}]}\n",
      "\n",
      "Processing series code: 6.6.1 EN_WBE_PMPP\n"
     ]
    },
    {
     "data": {
      "text/plain": [
       "'../../data/unsd/2019.Q2.G.01/csv_Indicator_6.6.1_Series_EN_WBE_PMPP.csv'"
      ]
     },
     "metadata": {},
     "output_type": "display_data"
    },
    {
     "name": "stdout",
     "output_type": "stream",
     "text": [
      "Searching for EN_WBE_PMPP_6_6_1_2019Q2G01\n",
      " -- Item EN_WBE_PMPP_6_6_1_2019Q2G01 not found (force find)\n",
      "Adding CSV File to ArcGIS Online....\n",
      "Analyze Feature Service....\n",
      "Publishing Feature Service....\n",
      ".......call generate renderer within publish_csv\n",
      "Update Feature Service Symbology\n",
      "Moving CSV to Open Data Folder\n",
      "Updating Feature Service metadata....\n",
      "Moving Feature Service to Open Data Folder\n"
     ]
    },
    {
     "data": {
      "text/plain": [
       "{'notSharedWith': [], 'itemId': '6dc1215042594eb5834e2af14c8afc4e'}"
      ]
     },
     "execution_count": 55,
     "metadata": {},
     "output_type": "execute_result"
    },
    {
     "name": "stdout",
     "output_type": "stream",
     "text": [
      "{'results': [{'itemId': '6dc1215042594eb5834e2af14c8afc4e', 'success': True}]}\n",
      "\n",
      "Processing series code: 6.6.1 EN_WBE_PMPN\n"
     ]
    },
    {
     "data": {
      "text/plain": [
       "'../../data/unsd/2019.Q2.G.01/csv_Indicator_6.6.1_Series_EN_WBE_PMPN.csv'"
      ]
     },
     "metadata": {},
     "output_type": "display_data"
    },
    {
     "name": "stdout",
     "output_type": "stream",
     "text": [
      "Searching for EN_WBE_PMPN_6_6_1_2019Q2G01\n",
      " -- Item EN_WBE_PMPN_6_6_1_2019Q2G01 not found (force find)\n",
      "Adding CSV File to ArcGIS Online....\n",
      "Analyze Feature Service....\n",
      "Publishing Feature Service....\n",
      ".......call generate renderer within publish_csv\n",
      "Update Feature Service Symbology\n",
      "Moving CSV to Open Data Folder\n",
      "Updating Feature Service metadata....\n",
      "Moving Feature Service to Open Data Folder\n"
     ]
    },
    {
     "data": {
      "text/plain": [
       "{'notSharedWith': [], 'itemId': 'c5defcc7bf504bbe84b88aa901b786bd'}"
      ]
     },
     "execution_count": 55,
     "metadata": {},
     "output_type": "execute_result"
    },
    {
     "name": "stdout",
     "output_type": "stream",
     "text": [
      "{'results': [{'itemId': 'c5defcc7bf504bbe84b88aa901b786bd', 'success': True}]}\n",
      "\n",
      "Processing series code: 6.6.1 EN_WBE_NDETOT\n"
     ]
    },
    {
     "data": {
      "text/plain": [
       "'../../data/unsd/2019.Q2.G.01/csv_Indicator_6.6.1_Series_EN_WBE_NDETOT.csv'"
      ]
     },
     "metadata": {},
     "output_type": "display_data"
    },
    {
     "name": "stdout",
     "output_type": "stream",
     "text": [
      "Searching for EN_WBE_NDETOT_6_6_1_2019Q2G01\n",
      " -- Item EN_WBE_NDETOT_6_6_1_2019Q2G01 not found (force find)\n",
      "Adding CSV File to ArcGIS Online....\n",
      "Analyze Feature Service....\n",
      "Publishing Feature Service....\n",
      ".......call generate renderer within publish_csv\n",
      "Update Feature Service Symbology\n",
      "Moving CSV to Open Data Folder\n",
      "Updating Feature Service metadata....\n",
      "Moving Feature Service to Open Data Folder\n"
     ]
    },
    {
     "data": {
      "text/plain": [
       "{'notSharedWith': [], 'itemId': '08c752f60a9c4faf95cb1bba4df2d48a'}"
      ]
     },
     "execution_count": 55,
     "metadata": {},
     "output_type": "execute_result"
    },
    {
     "name": "stdout",
     "output_type": "stream",
     "text": [
      "{'results': [{'itemId': '08c752f60a9c4faf95cb1bba4df2d48a', 'success': True}]}\n",
      "\n",
      "Processing series code: 6.6.1 EN_WBE_NDOPW\n"
     ]
    },
    {
     "data": {
      "text/plain": [
       "'../../data/unsd/2019.Q2.G.01/csv_Indicator_6.6.1_Series_EN_WBE_NDOPW.csv'"
      ]
     },
     "metadata": {},
     "output_type": "display_data"
    },
    {
     "name": "stdout",
     "output_type": "stream",
     "text": [
      "Searching for EN_WBE_NDOPW_6_6_1_2019Q2G01\n",
      " -- Item EN_WBE_NDOPW_6_6_1_2019Q2G01 not found (force find)\n",
      "Adding CSV File to ArcGIS Online....\n",
      "Analyze Feature Service....\n",
      "Publishing Feature Service....\n",
      ".......call generate renderer within publish_csv\n",
      "Update Feature Service Symbology\n",
      "Moving CSV to Open Data Folder\n",
      "Updating Feature Service metadata....\n",
      "Moving Feature Service to Open Data Folder\n"
     ]
    },
    {
     "data": {
      "text/plain": [
       "{'notSharedWith': [], 'itemId': 'f2b19892c8bc4dbf9f8f8d82f064e83c'}"
      ]
     },
     "execution_count": 55,
     "metadata": {},
     "output_type": "execute_result"
    },
    {
     "name": "stdout",
     "output_type": "stream",
     "text": [
      "{'results': [{'itemId': 'f2b19892c8bc4dbf9f8f8d82f064e83c', 'success': True}]}\n",
      "\n",
      "Processing series code: 6.6.1 EN_WBE_NDQLGRW\n"
     ]
    },
    {
     "data": {
      "text/plain": [
       "'../../data/unsd/2019.Q2.G.01/csv_Indicator_6.6.1_Series_EN_WBE_NDQLGRW.csv'"
      ]
     },
     "metadata": {},
     "output_type": "display_data"
    },
    {
     "name": "stdout",
     "output_type": "stream",
     "text": [
      "Searching for EN_WBE_NDQLGRW_6_6_1_2019Q2G01\n",
      " -- Item EN_WBE_NDQLGRW_6_6_1_2019Q2G01 not found (force find)\n",
      "Adding CSV File to ArcGIS Online....\n",
      "Analyze Feature Service....\n",
      "Publishing Feature Service....\n",
      ".......call generate renderer within publish_csv\n",
      "Update Feature Service Symbology\n",
      "Moving CSV to Open Data Folder\n",
      "Updating Feature Service metadata....\n",
      "Moving Feature Service to Open Data Folder\n"
     ]
    },
    {
     "data": {
      "text/plain": [
       "{'notSharedWith': [], 'itemId': '431256c7eb584fc4addce71a7c3aa12a'}"
      ]
     },
     "execution_count": 55,
     "metadata": {},
     "output_type": "execute_result"
    },
    {
     "name": "stdout",
     "output_type": "stream",
     "text": [
      "{'results': [{'itemId': '431256c7eb584fc4addce71a7c3aa12a', 'success': True}]}\n",
      "\n",
      "Processing series code: 6.6.1 EN_WBE_NDQLOPW\n"
     ]
    },
    {
     "data": {
      "text/plain": [
       "'../../data/unsd/2019.Q2.G.01/csv_Indicator_6.6.1_Series_EN_WBE_NDQLOPW.csv'"
      ]
     },
     "metadata": {},
     "output_type": "display_data"
    },
    {
     "name": "stdout",
     "output_type": "stream",
     "text": [
      "Searching for EN_WBE_NDQLOPW_6_6_1_2019Q2G01\n",
      " -- Item EN_WBE_NDQLOPW_6_6_1_2019Q2G01 not found (force find)\n",
      "Adding CSV File to ArcGIS Online....\n",
      "Analyze Feature Service....\n",
      "Publishing Feature Service....\n",
      ".......call generate renderer within publish_csv\n",
      "Update Feature Service Symbology\n",
      "Moving CSV to Open Data Folder\n",
      "Updating Feature Service metadata....\n",
      "Moving Feature Service to Open Data Folder\n"
     ]
    },
    {
     "data": {
      "text/plain": [
       "{'notSharedWith': [], 'itemId': 'b929fa042c5a486dbce3046039b3b9f7'}"
      ]
     },
     "execution_count": 55,
     "metadata": {},
     "output_type": "execute_result"
    },
    {
     "name": "stdout",
     "output_type": "stream",
     "text": [
      "{'results': [{'itemId': 'b929fa042c5a486dbce3046039b3b9f7', 'success': True}]}\n",
      "\n",
      "Processing series code: 6.6.1 EN_WBE_NDQLRVR\n"
     ]
    },
    {
     "data": {
      "text/plain": [
       "'../../data/unsd/2019.Q2.G.01/csv_Indicator_6.6.1_Series_EN_WBE_NDQLRVR.csv'"
      ]
     },
     "metadata": {},
     "output_type": "display_data"
    },
    {
     "name": "stdout",
     "output_type": "stream",
     "text": [
      "Searching for EN_WBE_NDQLRVR_6_6_1_2019Q2G01\n",
      " -- Item EN_WBE_NDQLRVR_6_6_1_2019Q2G01 not found (force find)\n",
      "Adding CSV File to ArcGIS Online....\n",
      "Analyze Feature Service....\n",
      "Publishing Feature Service....\n",
      ".......call generate renderer within publish_csv\n",
      "Update Feature Service Symbology\n",
      "Moving CSV to Open Data Folder\n",
      "Updating Feature Service metadata....\n",
      "Moving Feature Service to Open Data Folder\n"
     ]
    },
    {
     "data": {
      "text/plain": [
       "{'notSharedWith': [], 'itemId': 'a49bf884154640caa1d2d7f454080c3e'}"
      ]
     },
     "execution_count": 55,
     "metadata": {},
     "output_type": "execute_result"
    },
    {
     "name": "stdout",
     "output_type": "stream",
     "text": [
      "{'results': [{'itemId': 'a49bf884154640caa1d2d7f454080c3e', 'success': True}]}\n",
      "\n",
      "Processing series code: 6.6.1 EN_WBE_NDQLTOT\n"
     ]
    },
    {
     "data": {
      "text/plain": [
       "'../../data/unsd/2019.Q2.G.01/csv_Indicator_6.6.1_Series_EN_WBE_NDQLTOT.csv'"
      ]
     },
     "metadata": {},
     "output_type": "display_data"
    },
    {
     "name": "stdout",
     "output_type": "stream",
     "text": [
      "Searching for EN_WBE_NDQLTOT_6_6_1_2019Q2G01\n",
      " -- Item EN_WBE_NDQLTOT_6_6_1_2019Q2G01 not found (force find)\n",
      "Adding CSV File to ArcGIS Online....\n",
      "Analyze Feature Service....\n",
      "Publishing Feature Service....\n",
      ".......call generate renderer within publish_csv\n",
      "Update Feature Service Symbology\n",
      "Moving CSV to Open Data Folder\n",
      "Updating Feature Service metadata....\n",
      "Moving Feature Service to Open Data Folder\n"
     ]
    },
    {
     "data": {
      "text/plain": [
       "{'notSharedWith': [], 'itemId': 'b5a8397f89134945aa584fa418522011'}"
      ]
     },
     "execution_count": 55,
     "metadata": {},
     "output_type": "execute_result"
    },
    {
     "name": "stdout",
     "output_type": "stream",
     "text": [
      "{'results': [{'itemId': 'b5a8397f89134945aa584fa418522011', 'success': True}]}\n",
      "\n",
      "Processing series code: 6.6.1 EN_WBE_NDQTGRW\n"
     ]
    },
    {
     "data": {
      "text/plain": [
       "'../../data/unsd/2019.Q2.G.01/csv_Indicator_6.6.1_Series_EN_WBE_NDQTGRW.csv'"
      ]
     },
     "metadata": {},
     "output_type": "display_data"
    },
    {
     "name": "stdout",
     "output_type": "stream",
     "text": [
      "Searching for EN_WBE_NDQTGRW_6_6_1_2019Q2G01\n",
      " -- Item EN_WBE_NDQTGRW_6_6_1_2019Q2G01 not found (force find)\n",
      "Adding CSV File to ArcGIS Online....\n",
      "Analyze Feature Service....\n",
      "Publishing Feature Service....\n",
      ".......call generate renderer within publish_csv\n",
      "Update Feature Service Symbology\n",
      "Moving CSV to Open Data Folder\n",
      "Updating Feature Service metadata....\n",
      "Moving Feature Service to Open Data Folder\n"
     ]
    },
    {
     "data": {
      "text/plain": [
       "{'notSharedWith': [], 'itemId': '57b78f74be68422b8b0522abf0aa5d48'}"
      ]
     },
     "execution_count": 55,
     "metadata": {},
     "output_type": "execute_result"
    },
    {
     "name": "stdout",
     "output_type": "stream",
     "text": [
      "{'results': [{'itemId': '57b78f74be68422b8b0522abf0aa5d48', 'success': True}]}\n",
      "\n",
      "Processing series code: 6.6.1 EN_WBE_NDQTOPW\n"
     ]
    },
    {
     "data": {
      "text/plain": [
       "'../../data/unsd/2019.Q2.G.01/csv_Indicator_6.6.1_Series_EN_WBE_NDQTOPW.csv'"
      ]
     },
     "metadata": {},
     "output_type": "display_data"
    },
    {
     "name": "stdout",
     "output_type": "stream",
     "text": [
      "Searching for EN_WBE_NDQTOPW_6_6_1_2019Q2G01\n",
      " -- Item EN_WBE_NDQTOPW_6_6_1_2019Q2G01 not found (force find)\n",
      "Adding CSV File to ArcGIS Online....\n",
      "Analyze Feature Service....\n",
      "Publishing Feature Service....\n",
      ".......call generate renderer within publish_csv\n",
      "Update Feature Service Symbology\n",
      "Moving CSV to Open Data Folder\n",
      "Updating Feature Service metadata....\n",
      "Moving Feature Service to Open Data Folder\n"
     ]
    },
    {
     "data": {
      "text/plain": [
       "{'notSharedWith': [], 'itemId': '8f6966a322cf42ad94cd30fbdec65da6'}"
      ]
     },
     "execution_count": 55,
     "metadata": {},
     "output_type": "execute_result"
    },
    {
     "name": "stdout",
     "output_type": "stream",
     "text": [
      "{'results': [{'itemId': '8f6966a322cf42ad94cd30fbdec65da6', 'success': True}]}\n",
      "\n",
      "Processing series code: 6.6.1 EN_WBE_NDQTRVR\n"
     ]
    },
    {
     "data": {
      "text/plain": [
       "'../../data/unsd/2019.Q2.G.01/csv_Indicator_6.6.1_Series_EN_WBE_NDQTRVR.csv'"
      ]
     },
     "metadata": {},
     "output_type": "display_data"
    },
    {
     "name": "stdout",
     "output_type": "stream",
     "text": [
      "Searching for EN_WBE_NDQTRVR_6_6_1_2019Q2G01\n",
      " -- Item EN_WBE_NDQTRVR_6_6_1_2019Q2G01 not found (force find)\n",
      "Adding CSV File to ArcGIS Online....\n",
      "Analyze Feature Service....\n",
      "Publishing Feature Service....\n",
      ".......call generate renderer within publish_csv\n",
      "Update Feature Service Symbology\n",
      "Moving CSV to Open Data Folder\n",
      "Updating Feature Service metadata....\n",
      "Moving Feature Service to Open Data Folder\n"
     ]
    },
    {
     "data": {
      "text/plain": [
       "{'notSharedWith': [], 'itemId': 'e439a0fac91d4bec8af4eda11c4c32a5'}"
      ]
     },
     "execution_count": 55,
     "metadata": {},
     "output_type": "execute_result"
    },
    {
     "name": "stdout",
     "output_type": "stream",
     "text": [
      "{'results': [{'itemId': 'e439a0fac91d4bec8af4eda11c4c32a5', 'success': True}]}\n",
      "\n",
      "Processing series code: 6.6.1 EN_WBE_NDQTTOT\n"
     ]
    },
    {
     "data": {
      "text/plain": [
       "'../../data/unsd/2019.Q2.G.01/csv_Indicator_6.6.1_Series_EN_WBE_NDQTTOT.csv'"
      ]
     },
     "metadata": {},
     "output_type": "display_data"
    },
    {
     "name": "stdout",
     "output_type": "stream",
     "text": [
      "Searching for EN_WBE_NDQTTOT_6_6_1_2019Q2G01\n",
      " -- Item EN_WBE_NDQTTOT_6_6_1_2019Q2G01 not found (force find)\n",
      "Adding CSV File to ArcGIS Online....\n",
      "Analyze Feature Service....\n",
      "Publishing Feature Service....\n",
      ".......call generate renderer within publish_csv\n",
      "Update Feature Service Symbology\n",
      "Moving CSV to Open Data Folder\n",
      "Updating Feature Service metadata....\n",
      "Moving Feature Service to Open Data Folder\n"
     ]
    },
    {
     "data": {
      "text/plain": [
       "{'notSharedWith': [], 'itemId': '21ae4918bde14ed29159f2e0b1450e5e'}"
      ]
     },
     "execution_count": 55,
     "metadata": {},
     "output_type": "execute_result"
    },
    {
     "name": "stdout",
     "output_type": "stream",
     "text": [
      "{'results': [{'itemId': '21ae4918bde14ed29159f2e0b1450e5e', 'success': True}]}\n",
      "\n",
      "Processing series code: 6.6.1 EN_WBE_NDRV\n"
     ]
    },
    {
     "data": {
      "text/plain": [
       "'../../data/unsd/2019.Q2.G.01/csv_Indicator_6.6.1_Series_EN_WBE_NDRV.csv'"
      ]
     },
     "metadata": {},
     "output_type": "display_data"
    },
    {
     "name": "stdout",
     "output_type": "stream",
     "text": [
      "Searching for EN_WBE_NDRV_6_6_1_2019Q2G01\n",
      " -- Item EN_WBE_NDRV_6_6_1_2019Q2G01 not found (force find)\n",
      "Adding CSV File to ArcGIS Online....\n",
      "Analyze Feature Service....\n",
      "Publishing Feature Service....\n",
      ".......call generate renderer within publish_csv\n",
      "Update Feature Service Symbology\n",
      "Moving CSV to Open Data Folder\n",
      "Updating Feature Service metadata....\n",
      "Moving Feature Service to Open Data Folder\n"
     ]
    },
    {
     "data": {
      "text/plain": [
       "{'notSharedWith': [], 'itemId': 'b31e81ae7353470c861947b27fe976c6'}"
      ]
     },
     "execution_count": 55,
     "metadata": {},
     "output_type": "execute_result"
    },
    {
     "name": "stdout",
     "output_type": "stream",
     "text": [
      "{'results': [{'itemId': 'b31e81ae7353470c861947b27fe976c6', 'success': True}]}\n",
      "\n",
      "Processing series code: 6.6.1 EN_WBE_NDWTL\n"
     ]
    },
    {
     "data": {
      "text/plain": [
       "'../../data/unsd/2019.Q2.G.01/csv_Indicator_6.6.1_Series_EN_WBE_NDWTL.csv'"
      ]
     },
     "metadata": {},
     "output_type": "display_data"
    },
    {
     "name": "stdout",
     "output_type": "stream",
     "text": [
      "Searching for EN_WBE_NDWTL_6_6_1_2019Q2G01\n",
      " -- Item EN_WBE_NDWTL_6_6_1_2019Q2G01 not found (force find)\n",
      "Adding CSV File to ArcGIS Online....\n",
      "Analyze Feature Service....\n",
      "Publishing Feature Service....\n",
      ".......call generate renderer within publish_csv\n",
      "Update Feature Service Symbology\n",
      "Moving CSV to Open Data Folder\n",
      "Updating Feature Service metadata....\n",
      "Moving Feature Service to Open Data Folder\n"
     ]
    },
    {
     "data": {
      "text/plain": [
       "{'notSharedWith': [], 'itemId': '09e37e7a01f64638a4463598289ca0bb'}"
      ]
     },
     "execution_count": 55,
     "metadata": {},
     "output_type": "execute_result"
    },
    {
     "name": "stdout",
     "output_type": "stream",
     "text": [
      "{'results': [{'itemId': '09e37e7a01f64638a4463598289ca0bb', 'success': True}]}\n",
      "\n",
      "Processing series code: 6.a.1 DC_TOF_WASHL\n"
     ]
    },
    {
     "data": {
      "text/plain": [
       "'../../data/unsd/2019.Q2.G.01/csv_Indicator_6.a.1_Series_DC_TOF_WASHL.csv'"
      ]
     },
     "metadata": {},
     "output_type": "display_data"
    },
    {
     "name": "stdout",
     "output_type": "stream",
     "text": [
      "Searching for DC_TOF_WASHL_6_a_1_2019Q2G01\n",
      " -- Item DC_TOF_WASHL_6_a_1_2019Q2G01 not found (force find)\n",
      "Adding CSV File to ArcGIS Online....\n",
      "Analyze Feature Service....\n",
      "Publishing Feature Service....\n",
      ".......call generate renderer within publish_csv\n",
      "Update Feature Service Symbology\n",
      "Moving CSV to Open Data Folder\n",
      "Updating Feature Service metadata....\n",
      "Moving Feature Service to Open Data Folder\n"
     ]
    },
    {
     "data": {
      "text/plain": [
       "{'notSharedWith': [], 'itemId': 'e00ec50b5ef54e2aa9013d457ecfd0a9'}"
      ]
     },
     "execution_count": 55,
     "metadata": {},
     "output_type": "execute_result"
    },
    {
     "name": "stdout",
     "output_type": "stream",
     "text": [
      "{'results': [{'itemId': 'e00ec50b5ef54e2aa9013d457ecfd0a9', 'success': True}]}\n",
      "\n",
      "Processing series code: 6.b.1 ER_WAT_PROCED\n"
     ]
    },
    {
     "data": {
      "text/plain": [
       "'../../data/unsd/2019.Q2.G.01/csv_Indicator_6.b.1_Series_ER_WAT_PROCED.csv'"
      ]
     },
     "metadata": {},
     "output_type": "display_data"
    },
    {
     "name": "stdout",
     "output_type": "stream",
     "text": [
      "\n",
      "Processing series code: 6.b.1 ER_H2O_PARTIC\n"
     ]
    },
    {
     "data": {
      "text/plain": [
       "'../../data/unsd/2019.Q2.G.01/csv_Indicator_6.b.1_Series_ER_H2O_PARTIC.csv'"
      ]
     },
     "metadata": {},
     "output_type": "display_data"
    },
    {
     "name": "stdout",
     "output_type": "stream",
     "text": [
      "\n",
      "Processing series code: 6.b.1 ER_H2O_PROCED\n"
     ]
    },
    {
     "data": {
      "text/plain": [
       "'../../data/unsd/2019.Q2.G.01/csv_Indicator_6.b.1_Series_ER_H2O_PROCED.csv'"
      ]
     },
     "metadata": {},
     "output_type": "display_data"
    },
    {
     "name": "stdout",
     "output_type": "stream",
     "text": [
      "\n",
      "Processing series code: 6.b.1 ER_WAT_PARTIC\n"
     ]
    },
    {
     "data": {
      "text/plain": [
       "'../../data/unsd/2019.Q2.G.01/csv_Indicator_6.b.1_Series_ER_WAT_PARTIC.csv'"
      ]
     },
     "metadata": {},
     "output_type": "display_data"
    },
    {
     "name": "stdout",
     "output_type": "stream",
     "text": [
      "\n",
      "Processing series code: 6.b.1 ER_H2O_RURP\n"
     ]
    },
    {
     "data": {
      "text/plain": [
       "'../../data/unsd/2019.Q2.G.01/csv_Indicator_6.b.1_Series_ER_H2O_RURP.csv'"
      ]
     },
     "metadata": {},
     "output_type": "display_data"
    },
    {
     "name": "stdout",
     "output_type": "stream",
     "text": [
      "Searching for ER_H2O_RURP_6_b_1_2019Q2G01\n",
      " -- Item ER_H2O_RURP_6_b_1_2019Q2G01 not found (force find)\n",
      "Adding CSV File to ArcGIS Online....\n",
      "Analyze Feature Service....\n",
      "Publishing Feature Service....\n",
      ".......call generate renderer within publish_csv\n",
      "Update Feature Service Symbology\n",
      "Moving CSV to Open Data Folder\n",
      "Updating Feature Service metadata....\n",
      "Moving Feature Service to Open Data Folder\n"
     ]
    },
    {
     "data": {
      "text/plain": [
       "{'notSharedWith': [], 'itemId': '5edd9fa1fde5476b9c044f40af95afb8'}"
      ]
     },
     "execution_count": 55,
     "metadata": {},
     "output_type": "execute_result"
    },
    {
     "name": "stdout",
     "output_type": "stream",
     "text": [
      "{'results': [{'itemId': '5edd9fa1fde5476b9c044f40af95afb8', 'success': True}]}\n",
      "\n",
      "Processing series code: 6.b.1 ER_H2O_PRDU\n"
     ]
    },
    {
     "data": {
      "text/plain": [
       "'../../data/unsd/2019.Q2.G.01/csv_Indicator_6.b.1_Series_ER_H2O_PRDU.csv'"
      ]
     },
     "metadata": {},
     "output_type": "display_data"
    },
    {
     "name": "stdout",
     "output_type": "stream",
     "text": [
      "Searching for ER_H2O_PRDU_6_b_1_2019Q2G01\n",
      " -- Item ER_H2O_PRDU_6_b_1_2019Q2G01 not found (force find)\n",
      "Adding CSV File to ArcGIS Online....\n",
      "Analyze Feature Service....\n",
      "Publishing Feature Service....\n",
      ".......call generate renderer within publish_csv\n",
      "Update Feature Service Symbology\n",
      "Moving CSV to Open Data Folder\n",
      "Updating Feature Service metadata....\n",
      "Moving Feature Service to Open Data Folder\n"
     ]
    },
    {
     "data": {
      "text/plain": [
       "{'notSharedWith': [], 'itemId': '8773534c3ac64bda83f7e089b692fb00'}"
      ]
     },
     "execution_count": 55,
     "metadata": {},
     "output_type": "execute_result"
    },
    {
     "name": "stdout",
     "output_type": "stream",
     "text": [
      "{'results': [{'itemId': '8773534c3ac64bda83f7e089b692fb00', 'success': True}]}\n",
      "\n",
      "Processing series code: 6.b.1 ER_WAT_PART\n"
     ]
    },
    {
     "data": {
      "text/plain": [
       "'../../data/unsd/2019.Q2.G.01/csv_Indicator_6.b.1_Series_ER_WAT_PART.csv'"
      ]
     },
     "metadata": {},
     "output_type": "display_data"
    },
    {
     "name": "stdout",
     "output_type": "stream",
     "text": [
      "Searching for ER_WAT_PART_6_b_1_2019Q2G01\n",
      " -- Item ER_WAT_PART_6_b_1_2019Q2G01 not found (force find)\n",
      "Adding CSV File to ArcGIS Online....\n",
      "Analyze Feature Service....\n",
      "Publishing Feature Service....\n",
      ".......call generate renderer within publish_csv\n",
      "Update Feature Service Symbology\n",
      "Moving CSV to Open Data Folder\n",
      "Updating Feature Service metadata....\n",
      "Moving Feature Service to Open Data Folder\n"
     ]
    },
    {
     "data": {
      "text/plain": [
       "{'notSharedWith': [], 'itemId': 'c16a558ff99e445ea2178e1c77953b5b'}"
      ]
     },
     "execution_count": 55,
     "metadata": {},
     "output_type": "execute_result"
    },
    {
     "name": "stdout",
     "output_type": "stream",
     "text": [
      "{'results': [{'itemId': 'c16a558ff99e445ea2178e1c77953b5b', 'success': True}]}\n",
      "\n",
      "Processing series code: 6.b.1 ER_WAT_PRDU\n"
     ]
    },
    {
     "data": {
      "text/plain": [
       "'../../data/unsd/2019.Q2.G.01/csv_Indicator_6.b.1_Series_ER_WAT_PRDU.csv'"
      ]
     },
     "metadata": {},
     "output_type": "display_data"
    },
    {
     "name": "stdout",
     "output_type": "stream",
     "text": [
      "Searching for ER_WAT_PRDU_6_b_1_2019Q2G01\n",
      " -- Item ER_WAT_PRDU_6_b_1_2019Q2G01 not found (force find)\n",
      "Adding CSV File to ArcGIS Online....\n",
      "Analyze Feature Service....\n",
      "Publishing Feature Service....\n",
      ".......call generate renderer within publish_csv\n",
      "Update Feature Service Symbology\n",
      "Moving CSV to Open Data Folder\n",
      "Updating Feature Service metadata....\n",
      "Moving Feature Service to Open Data Folder\n"
     ]
    },
    {
     "data": {
      "text/plain": [
       "{'notSharedWith': [], 'itemId': '24a5778ceac74ce687cfa21cb85e33f4'}"
      ]
     },
     "execution_count": 55,
     "metadata": {},
     "output_type": "execute_result"
    },
    {
     "name": "stdout",
     "output_type": "stream",
     "text": [
      "{'results': [{'itemId': '24a5778ceac74ce687cfa21cb85e33f4', 'success': True}]}\n",
      "\n",
      "Processing series code: 7.1.1 EG_ELC_ACCS\n"
     ]
    },
    {
     "data": {
      "text/plain": [
       "'../../data/unsd/2019.Q2.G.01/csv_Indicator_7.1.1_Series_EG_ELC_ACCS.csv'"
      ]
     },
     "metadata": {},
     "output_type": "display_data"
    },
    {
     "name": "stdout",
     "output_type": "stream",
     "text": [
      "Searching for EG_ELC_ACCS_7_1_1_2019Q2G01\n",
      " -- Item EG_ELC_ACCS_7_1_1_2019Q2G01 not found (force find)\n",
      "Adding CSV File to ArcGIS Online....\n",
      "Analyze Feature Service....\n",
      "Publishing Feature Service....\n",
      ".......call generate renderer within publish_csv\n",
      "Update Feature Service Symbology\n",
      "Moving CSV to Open Data Folder\n",
      "Updating Feature Service metadata....\n",
      "Moving Feature Service to Open Data Folder\n"
     ]
    },
    {
     "data": {
      "text/plain": [
       "{'notSharedWith': [], 'itemId': 'efe5c0628d4749b38b4be596740e2956'}"
      ]
     },
     "execution_count": 55,
     "metadata": {},
     "output_type": "execute_result"
    },
    {
     "name": "stdout",
     "output_type": "stream",
     "text": [
      "{'results': [{'itemId': 'efe5c0628d4749b38b4be596740e2956', 'success': True}]}\n",
      "\n",
      "Processing series code: 7.1.2 EG_EGY_CLEAN\n"
     ]
    },
    {
     "data": {
      "text/plain": [
       "'../../data/unsd/2019.Q2.G.01/csv_Indicator_7.1.2_Series_EG_EGY_CLEAN.csv'"
      ]
     },
     "metadata": {},
     "output_type": "display_data"
    },
    {
     "name": "stdout",
     "output_type": "stream",
     "text": [
      "Searching for EG_EGY_CLEAN_7_1_2_2019Q2G01\n",
      " -- Item EG_EGY_CLEAN_7_1_2_2019Q2G01 not found (force find)\n",
      "Adding CSV File to ArcGIS Online....\n",
      "Analyze Feature Service....\n",
      "Publishing Feature Service....\n",
      ".......call generate renderer within publish_csv\n",
      "Update Feature Service Symbology\n",
      "Moving CSV to Open Data Folder\n",
      "Updating Feature Service metadata....\n",
      "Moving Feature Service to Open Data Folder\n"
     ]
    },
    {
     "data": {
      "text/plain": [
       "{'notSharedWith': [], 'itemId': '1dc5d53ca0834e8da4594e86180cf55e'}"
      ]
     },
     "execution_count": 55,
     "metadata": {},
     "output_type": "execute_result"
    },
    {
     "name": "stdout",
     "output_type": "stream",
     "text": [
      "{'results': [{'itemId': '1dc5d53ca0834e8da4594e86180cf55e', 'success': True}]}\n",
      "\n",
      "Processing series code: 7.2.1 EG_FEC_RNEW\n"
     ]
    },
    {
     "data": {
      "text/plain": [
       "'../../data/unsd/2019.Q2.G.01/csv_Indicator_7.2.1_Series_EG_FEC_RNEW.csv'"
      ]
     },
     "metadata": {},
     "output_type": "display_data"
    },
    {
     "name": "stdout",
     "output_type": "stream",
     "text": [
      "Searching for EG_FEC_RNEW_7_2_1_2019Q2G01\n",
      " -- Item EG_FEC_RNEW_7_2_1_2019Q2G01 not found (force find)\n",
      "Adding CSV File to ArcGIS Online....\n",
      "Analyze Feature Service....\n",
      "Publishing Feature Service....\n",
      ".......call generate renderer within publish_csv\n",
      "Update Feature Service Symbology\n",
      "Moving CSV to Open Data Folder\n",
      "Updating Feature Service metadata....\n",
      "Moving Feature Service to Open Data Folder\n"
     ]
    },
    {
     "data": {
      "text/plain": [
       "{'notSharedWith': [], 'itemId': '10a8bc343fa54dc7a5def8f234e4ca15'}"
      ]
     },
     "execution_count": 55,
     "metadata": {},
     "output_type": "execute_result"
    },
    {
     "name": "stdout",
     "output_type": "stream",
     "text": [
      "{'results': [{'itemId': '10a8bc343fa54dc7a5def8f234e4ca15', 'success': True}]}\n",
      "\n",
      "Processing series code: 7.3.1 EG_EGY_PRIM\n"
     ]
    },
    {
     "data": {
      "text/plain": [
       "'../../data/unsd/2019.Q2.G.01/csv_Indicator_7.3.1_Series_EG_EGY_PRIM.csv'"
      ]
     },
     "metadata": {},
     "output_type": "display_data"
    },
    {
     "name": "stdout",
     "output_type": "stream",
     "text": [
      "Searching for EG_EGY_PRIM_7_3_1_2019Q2G01\n",
      " -- Item EG_EGY_PRIM_7_3_1_2019Q2G01 not found (force find)\n",
      "Adding CSV File to ArcGIS Online....\n",
      "Analyze Feature Service....\n",
      "Publishing Feature Service....\n",
      ".......call generate renderer within publish_csv\n",
      "Update Feature Service Symbology\n",
      "Moving CSV to Open Data Folder\n",
      "Updating Feature Service metadata....\n",
      "Moving Feature Service to Open Data Folder\n"
     ]
    },
    {
     "data": {
      "text/plain": [
       "{'notSharedWith': [], 'itemId': 'f25065ff20b149a8b55e2ab56ece7da4'}"
      ]
     },
     "execution_count": 55,
     "metadata": {},
     "output_type": "execute_result"
    },
    {
     "name": "stdout",
     "output_type": "stream",
     "text": [
      "{'results': [{'itemId': 'f25065ff20b149a8b55e2ab56ece7da4', 'success': True}]}\n",
      "\n",
      "Processing series code: 7.a.1 EG_IFF_RANDN\n"
     ]
    },
    {
     "data": {
      "text/plain": [
       "'../../data/unsd/2019.Q2.G.01/csv_Indicator_7.a.1_Series_EG_IFF_RANDN.csv'"
      ]
     },
     "metadata": {},
     "output_type": "display_data"
    },
    {
     "name": "stdout",
     "output_type": "stream",
     "text": [
      "Searching for EG_IFF_RANDN_7_a_1_2019Q2G01\n",
      " -- Item EG_IFF_RANDN_7_a_1_2019Q2G01 not found (force find)\n",
      "Adding CSV File to ArcGIS Online....\n",
      "Analyze Feature Service....\n",
      "Publishing Feature Service....\n",
      ".......call generate renderer within publish_csv\n",
      "Update Feature Service Symbology\n",
      "Moving CSV to Open Data Folder\n",
      "Updating Feature Service metadata....\n",
      "Moving Feature Service to Open Data Folder\n"
     ]
    },
    {
     "data": {
      "text/plain": [
       "{'notSharedWith': [], 'itemId': '174868e096e5417989316e64752b8d6d'}"
      ]
     },
     "execution_count": 55,
     "metadata": {},
     "output_type": "execute_result"
    },
    {
     "name": "stdout",
     "output_type": "stream",
     "text": [
      "{'results': [{'itemId': '174868e096e5417989316e64752b8d6d', 'success': True}]}\n",
      "\n",
      "Processing series code: 8.1.1 NY_GDP_PCAP\n"
     ]
    },
    {
     "data": {
      "text/plain": [
       "'../../data/unsd/2019.Q2.G.01/csv_Indicator_8.1.1_Series_NY_GDP_PCAP.csv'"
      ]
     },
     "metadata": {},
     "output_type": "display_data"
    },
    {
     "name": "stdout",
     "output_type": "stream",
     "text": [
      "Searching for NY_GDP_PCAP_8_1_1_2019Q2G01\n",
      " -- Item NY_GDP_PCAP_8_1_1_2019Q2G01 not found (force find)\n",
      "Adding CSV File to ArcGIS Online....\n",
      "Analyze Feature Service....\n",
      "Publishing Feature Service....\n",
      ".......call generate renderer within publish_csv\n",
      "Update Feature Service Symbology\n",
      "Moving CSV to Open Data Folder\n",
      "Folder not found for given owner\n",
      "Updating Feature Service metadata....\n",
      "Moving Feature Service to Open Data Folder\n",
      "Folder not found for given owner\n"
     ]
    },
    {
     "data": {
      "text/plain": [
       "{'notSharedWith': [], 'itemId': '97f4c9aba77f4fed8f217784dfdd649f'}"
      ]
     },
     "execution_count": 55,
     "metadata": {},
     "output_type": "execute_result"
    },
    {
     "name": "stdout",
     "output_type": "stream",
     "text": [
      "{'results': [{'itemId': '97f4c9aba77f4fed8f217784dfdd649f', 'success': True}]}\n",
      "\n",
      "Processing series code: 8.2.1 SL_EMP_PCAP\n"
     ]
    },
    {
     "data": {
      "text/plain": [
       "'../../data/unsd/2019.Q2.G.01/csv_Indicator_8.2.1_Series_SL_EMP_PCAP.csv'"
      ]
     },
     "metadata": {},
     "output_type": "display_data"
    },
    {
     "name": "stdout",
     "output_type": "stream",
     "text": [
      "Searching for SL_EMP_PCAP_8_2_1_2019Q2G01\n",
      " -- Item SL_EMP_PCAP_8_2_1_2019Q2G01 not found (force find)\n",
      "Adding CSV File to ArcGIS Online....\n",
      "Analyze Feature Service....\n",
      "Publishing Feature Service....\n",
      ".......call generate renderer within publish_csv\n",
      "Update Feature Service Symbology\n",
      "Moving CSV to Open Data Folder\n",
      "Folder not found for given owner\n",
      "Updating Feature Service metadata....\n",
      "Moving Feature Service to Open Data Folder\n",
      "Folder not found for given owner\n"
     ]
    },
    {
     "data": {
      "text/plain": [
       "{'notSharedWith': [], 'itemId': 'aeb0fdcfc1694cdeb26462aea2628b7e'}"
      ]
     },
     "execution_count": 55,
     "metadata": {},
     "output_type": "execute_result"
    },
    {
     "name": "stdout",
     "output_type": "stream",
     "text": [
      "{'results': [{'itemId': 'aeb0fdcfc1694cdeb26462aea2628b7e', 'success': True}]}\n",
      "\n",
      "Processing series code: 8.3.1 SL_ISV_IFRM\n"
     ]
    },
    {
     "data": {
      "text/plain": [
       "'../../data/unsd/2019.Q2.G.01/csv_Indicator_8.3.1_Series_SL_ISV_IFRM.csv'"
      ]
     },
     "metadata": {},
     "output_type": "display_data"
    },
    {
     "name": "stdout",
     "output_type": "stream",
     "text": [
      "Searching for SL_ISV_IFRM_8_3_1_2019Q2G01\n",
      " -- Item SL_ISV_IFRM_8_3_1_2019Q2G01 not found (force find)\n",
      "Adding CSV File to ArcGIS Online....\n",
      "Analyze Feature Service....\n",
      "Publishing Feature Service....\n",
      ".......call generate renderer within publish_csv\n",
      "Update Feature Service Symbology\n",
      "Moving CSV to Open Data Folder\n",
      "Folder not found for given owner\n",
      "Updating Feature Service metadata....\n",
      "Moving Feature Service to Open Data Folder\n",
      "Folder not found for given owner\n"
     ]
    },
    {
     "data": {
      "text/plain": [
       "{'notSharedWith': [], 'itemId': '6e0e95a8dba041cf9ada90f553edce75'}"
      ]
     },
     "execution_count": 55,
     "metadata": {},
     "output_type": "execute_result"
    },
    {
     "name": "stdout",
     "output_type": "stream",
     "text": [
      "{'results': [{'itemId': '6e0e95a8dba041cf9ada90f553edce75', 'success': True}]}\n",
      "\n",
      "Processing series code: 8.4.1 EN_MAT_FTPRPG\n"
     ]
    },
    {
     "data": {
      "text/plain": [
       "'../../data/unsd/2019.Q2.G.01/csv_Indicator_8.4.1_Series_EN_MAT_FTPRPG.csv'"
      ]
     },
     "metadata": {},
     "output_type": "display_data"
    },
    {
     "name": "stdout",
     "output_type": "stream",
     "text": [
      "\n",
      "Processing series code: 8.4.1 EN_MAT_FTPRPC\n"
     ]
    },
    {
     "data": {
      "text/plain": [
       "'../../data/unsd/2019.Q2.G.01/csv_Indicator_8.4.1_Series_EN_MAT_FTPRPC.csv'"
      ]
     },
     "metadata": {},
     "output_type": "display_data"
    },
    {
     "name": "stdout",
     "output_type": "stream",
     "text": [
      "\n",
      "Processing series code: 8.4.1 EN_MAT_FTPRTN\n"
     ]
    },
    {
     "data": {
      "text/plain": [
       "'../../data/unsd/2019.Q2.G.01/csv_Indicator_8.4.1_Series_EN_MAT_FTPRTN.csv'"
      ]
     },
     "metadata": {},
     "output_type": "display_data"
    },
    {
     "name": "stdout",
     "output_type": "stream",
     "text": [
      "\n",
      "Processing series code: 8.4.2 EN_MAT_DOMCMPT\n"
     ]
    },
    {
     "data": {
      "text/plain": [
       "'../../data/unsd/2019.Q2.G.01/csv_Indicator_8.4.2_Series_EN_MAT_DOMCMPT.csv'"
      ]
     },
     "metadata": {},
     "output_type": "display_data"
    },
    {
     "name": "stdout",
     "output_type": "stream",
     "text": [
      "Searching for EN_MAT_DOMCMPT_8_4_2_2019Q2G01\n",
      " -- Item EN_MAT_DOMCMPT_8_4_2_2019Q2G01 not found (force find)\n",
      "Adding CSV File to ArcGIS Online....\n",
      "Analyze Feature Service....\n",
      "Publishing Feature Service....\n",
      ".......call generate renderer within publish_csv\n",
      "Update Feature Service Symbology\n",
      "Moving CSV to Open Data Folder\n",
      "Folder not found for given owner\n",
      "Updating Feature Service metadata....\n",
      "Moving Feature Service to Open Data Folder\n",
      "Folder not found for given owner\n"
     ]
    },
    {
     "data": {
      "text/plain": [
       "{'notSharedWith': [], 'itemId': 'd2c72381eb134a6eb94b6508db6fbef6'}"
      ]
     },
     "execution_count": 55,
     "metadata": {},
     "output_type": "execute_result"
    },
    {
     "name": "stdout",
     "output_type": "stream",
     "text": [
      "{'results': [{'itemId': 'd2c72381eb134a6eb94b6508db6fbef6', 'success': True}]}\n",
      "\n",
      "Processing series code: 8.4.2 EN_MAT_DOMCMPG\n"
     ]
    },
    {
     "data": {
      "text/plain": [
       "'../../data/unsd/2019.Q2.G.01/csv_Indicator_8.4.2_Series_EN_MAT_DOMCMPG.csv'"
      ]
     },
     "metadata": {},
     "output_type": "display_data"
    },
    {
     "name": "stdout",
     "output_type": "stream",
     "text": [
      "Searching for EN_MAT_DOMCMPG_8_4_2_2019Q2G01\n",
      " -- Item EN_MAT_DOMCMPG_8_4_2_2019Q2G01 not found (force find)\n",
      "Adding CSV File to ArcGIS Online....\n",
      "Analyze Feature Service....\n",
      "Publishing Feature Service....\n",
      ".......call generate renderer within publish_csv\n",
      "Update Feature Service Symbology\n",
      "Moving CSV to Open Data Folder\n",
      "Folder not found for given owner\n",
      "Updating Feature Service metadata....\n",
      "Moving Feature Service to Open Data Folder\n",
      "Folder not found for given owner\n"
     ]
    },
    {
     "data": {
      "text/plain": [
       "{'notSharedWith': [], 'itemId': '16252c6b77c24b4191711a50dd91ed93'}"
      ]
     },
     "execution_count": 55,
     "metadata": {},
     "output_type": "execute_result"
    },
    {
     "name": "stdout",
     "output_type": "stream",
     "text": [
      "{'results': [{'itemId': '16252c6b77c24b4191711a50dd91ed93', 'success': True}]}\n",
      "\n",
      "Processing series code: 8.4.2 EN_MAT_DOMCMPC\n"
     ]
    },
    {
     "data": {
      "text/plain": [
       "'../../data/unsd/2019.Q2.G.01/csv_Indicator_8.4.2_Series_EN_MAT_DOMCMPC.csv'"
      ]
     },
     "metadata": {},
     "output_type": "display_data"
    },
    {
     "name": "stdout",
     "output_type": "stream",
     "text": [
      "Searching for EN_MAT_DOMCMPC_8_4_2_2019Q2G01\n",
      " -- Item EN_MAT_DOMCMPC_8_4_2_2019Q2G01 not found (force find)\n",
      "Adding CSV File to ArcGIS Online....\n",
      "Analyze Feature Service....\n",
      "Publishing Feature Service....\n",
      ".......call generate renderer within publish_csv\n",
      "Update Feature Service Symbology\n",
      "Moving CSV to Open Data Folder\n",
      "Folder not found for given owner\n",
      "Updating Feature Service metadata....\n",
      "Moving Feature Service to Open Data Folder\n",
      "Folder not found for given owner\n"
     ]
    },
    {
     "data": {
      "text/plain": [
       "{'notSharedWith': [], 'itemId': 'b49f2b4b8f3a4616a0075c1eebe0fa0f'}"
      ]
     },
     "execution_count": 55,
     "metadata": {},
     "output_type": "execute_result"
    },
    {
     "name": "stdout",
     "output_type": "stream",
     "text": [
      "{'results': [{'itemId': 'b49f2b4b8f3a4616a0075c1eebe0fa0f', 'success': True}]}\n",
      "\n",
      "Processing series code: 8.5.1 SL_EMP_AEARN\n"
     ]
    },
    {
     "data": {
      "text/plain": [
       "'../../data/unsd/2019.Q2.G.01/csv_Indicator_8.5.1_Series_SL_EMP_AEARN.csv'"
      ]
     },
     "metadata": {},
     "output_type": "display_data"
    },
    {
     "name": "stdout",
     "output_type": "stream",
     "text": [
      "Searching for SL_EMP_AEARN_8_5_1_2019Q2G01\n",
      " -- Item SL_EMP_AEARN_8_5_1_2019Q2G01 not found (force find)\n",
      "Adding CSV File to ArcGIS Online....\n",
      "Analyze Feature Service....\n",
      "Publishing Feature Service....\n",
      ".......call generate renderer within publish_csv\n",
      "Update Feature Service Symbology\n",
      "Moving CSV to Open Data Folder\n",
      "Folder not found for given owner\n",
      "Updating Feature Service metadata....\n",
      "Moving Feature Service to Open Data Folder\n",
      "Folder not found for given owner\n"
     ]
    },
    {
     "data": {
      "text/plain": [
       "{'notSharedWith': [], 'itemId': 'c10f638d227d46e3b52ba2051339375c'}"
      ]
     },
     "execution_count": 55,
     "metadata": {},
     "output_type": "execute_result"
    },
    {
     "name": "stdout",
     "output_type": "stream",
     "text": [
      "{'results': [{'itemId': 'c10f638d227d46e3b52ba2051339375c', 'success': True}]}\n",
      "\n",
      "Processing series code: 8.5.2 SL_TLF_UEM\n"
     ]
    },
    {
     "data": {
      "text/plain": [
       "'../../data/unsd/2019.Q2.G.01/csv_Indicator_8.5.2_Series_SL_TLF_UEM.csv'"
      ]
     },
     "metadata": {},
     "output_type": "display_data"
    },
    {
     "name": "stdout",
     "output_type": "stream",
     "text": [
      "Searching for SL_TLF_UEM_8_5_2_2019Q2G01\n",
      " -- Item SL_TLF_UEM_8_5_2_2019Q2G01 not found (force find)\n",
      "Adding CSV File to ArcGIS Online....\n",
      "Analyze Feature Service....\n",
      "Publishing Feature Service....\n",
      ".......call generate renderer within publish_csv\n",
      "Update Feature Service Symbology\n",
      "Moving CSV to Open Data Folder\n",
      "Folder not found for given owner\n",
      "Updating Feature Service metadata....\n",
      "Moving Feature Service to Open Data Folder\n",
      "Folder not found for given owner\n"
     ]
    },
    {
     "data": {
      "text/plain": [
       "{'notSharedWith': [], 'itemId': 'c386199f78d041d5b1c7b5403ed6bc52'}"
      ]
     },
     "execution_count": 55,
     "metadata": {},
     "output_type": "execute_result"
    },
    {
     "name": "stdout",
     "output_type": "stream",
     "text": [
      "{'results': [{'itemId': 'c386199f78d041d5b1c7b5403ed6bc52', 'success': True}]}\n",
      "\n",
      "Processing series code: 8.5.2 SL_TLF_UEMDIS\n"
     ]
    },
    {
     "data": {
      "text/plain": [
       "'../../data/unsd/2019.Q2.G.01/csv_Indicator_8.5.2_Series_SL_TLF_UEMDIS.csv'"
      ]
     },
     "metadata": {},
     "output_type": "display_data"
    },
    {
     "name": "stdout",
     "output_type": "stream",
     "text": [
      "Searching for SL_TLF_UEMDIS_8_5_2_2019Q2G01\n",
      " -- Item SL_TLF_UEMDIS_8_5_2_2019Q2G01 not found (force find)\n",
      "Adding CSV File to ArcGIS Online....\n",
      "Analyze Feature Service....\n",
      "Publishing Feature Service....\n",
      ".......call generate renderer within publish_csv\n",
      "Update Feature Service Symbology\n",
      "Moving CSV to Open Data Folder\n",
      "Folder not found for given owner\n",
      "Updating Feature Service metadata....\n",
      "Moving Feature Service to Open Data Folder\n",
      "Folder not found for given owner\n"
     ]
    },
    {
     "data": {
      "text/plain": [
       "{'notSharedWith': [], 'itemId': '4d19b22fc060420fa35cf949cc8c378d'}"
      ]
     },
     "execution_count": 55,
     "metadata": {},
     "output_type": "execute_result"
    },
    {
     "name": "stdout",
     "output_type": "stream",
     "text": [
      "{'results': [{'itemId': '4d19b22fc060420fa35cf949cc8c378d', 'success': True}]}\n",
      "\n",
      "Processing series code: 8.6.1 SL_TLF_NEET\n"
     ]
    },
    {
     "data": {
      "text/plain": [
       "'../../data/unsd/2019.Q2.G.01/csv_Indicator_8.6.1_Series_SL_TLF_NEET.csv'"
      ]
     },
     "metadata": {},
     "output_type": "display_data"
    },
    {
     "name": "stdout",
     "output_type": "stream",
     "text": [
      "Searching for SL_TLF_NEET_8_6_1_2019Q2G01\n",
      " -- Item SL_TLF_NEET_8_6_1_2019Q2G01 not found (force find)\n",
      "Adding CSV File to ArcGIS Online....\n",
      "Analyze Feature Service....\n",
      "Publishing Feature Service....\n",
      ".......call generate renderer within publish_csv\n",
      "Update Feature Service Symbology\n",
      "Moving CSV to Open Data Folder\n",
      "Updating Feature Service metadata....\n",
      "Moving Feature Service to Open Data Folder\n"
     ]
    },
    {
     "data": {
      "text/plain": [
       "{'notSharedWith': [], 'itemId': '5e6874c6f26c4b2bbf9897adad94f892'}"
      ]
     },
     "execution_count": 55,
     "metadata": {},
     "output_type": "execute_result"
    },
    {
     "name": "stdout",
     "output_type": "stream",
     "text": [
      "{'results': [{'itemId': '5e6874c6f26c4b2bbf9897adad94f892', 'success': True}]}\n",
      "\n",
      "Processing series code: 8.7.1 SL_TLF_CHLDEC\n"
     ]
    },
    {
     "data": {
      "text/plain": [
       "'../../data/unsd/2019.Q2.G.01/csv_Indicator_8.7.1_Series_SL_TLF_CHLDEC.csv'"
      ]
     },
     "metadata": {},
     "output_type": "display_data"
    },
    {
     "name": "stdout",
     "output_type": "stream",
     "text": [
      "Searching for SL_TLF_CHLDEC_8_7_1_2019Q2G01\n",
      " -- Item SL_TLF_CHLDEC_8_7_1_2019Q2G01 not found (force find)\n",
      "Adding CSV File to ArcGIS Online....\n",
      "Analyze Feature Service....\n",
      "Publishing Feature Service....\n",
      ".......call generate renderer within publish_csv\n",
      "Update Feature Service Symbology\n",
      "Moving CSV to Open Data Folder\n",
      "Updating Feature Service metadata....\n",
      "Moving Feature Service to Open Data Folder\n"
     ]
    },
    {
     "data": {
      "text/plain": [
       "{'notSharedWith': [], 'itemId': 'b6ffddbf6ec645a68a725f723373e76a'}"
      ]
     },
     "execution_count": 55,
     "metadata": {},
     "output_type": "execute_result"
    },
    {
     "name": "stdout",
     "output_type": "stream",
     "text": [
      "{'results': [{'itemId': 'b6ffddbf6ec645a68a725f723373e76a', 'success': True}]}\n",
      "\n",
      "Processing series code: 8.7.1 SL_TLF_CHLDEA\n"
     ]
    },
    {
     "data": {
      "text/plain": [
       "'../../data/unsd/2019.Q2.G.01/csv_Indicator_8.7.1_Series_SL_TLF_CHLDEA.csv'"
      ]
     },
     "metadata": {},
     "output_type": "display_data"
    },
    {
     "name": "stdout",
     "output_type": "stream",
     "text": [
      "Searching for SL_TLF_CHLDEA_8_7_1_2019Q2G01\n",
      " -- Item SL_TLF_CHLDEA_8_7_1_2019Q2G01 not found (force find)\n",
      "Adding CSV File to ArcGIS Online....\n",
      "Analyze Feature Service....\n",
      "Publishing Feature Service....\n",
      ".......call generate renderer within publish_csv\n",
      "Update Feature Service Symbology\n",
      "Moving CSV to Open Data Folder\n",
      "Updating Feature Service metadata....\n"
     ]
    },
    {
     "data": {
      "text/plain": [
       "{'notSharedWith': [], 'itemId': 'ec736c93ab0746f7a9fb86dd1d926439'}"
      ]
     },
     "execution_count": 55,
     "metadata": {},
     "output_type": "execute_result"
    },
    {
     "name": "stdout",
     "output_type": "stream",
     "text": [
      "{'results': [{'itemId': 'ec736c93ab0746f7a9fb86dd1d926439', 'success': True}]}\n",
      "\n",
      "Processing series code: 8.8.1 SL_EMP_FTLINJUR\n"
     ]
    },
    {
     "data": {
      "text/plain": [
       "'../../data/unsd/2019.Q2.G.01/csv_Indicator_8.8.1_Series_SL_EMP_FTLINJUR.csv'"
      ]
     },
     "metadata": {},
     "output_type": "display_data"
    },
    {
     "name": "stdout",
     "output_type": "stream",
     "text": [
      "Searching for SL_EMP_FTLINJUR_8_8_1_2019Q2G01\n",
      " -- Item SL_EMP_FTLINJUR_8_8_1_2019Q2G01 not found (force find)\n",
      "Adding CSV File to ArcGIS Online....\n",
      "Analyze Feature Service....\n",
      "Publishing Feature Service....\n",
      ".......call generate renderer within publish_csv\n",
      "Update Feature Service Symbology\n",
      "Moving CSV to Open Data Folder\n",
      "Updating Feature Service metadata....\n",
      "Moving Feature Service to Open Data Folder\n"
     ]
    },
    {
     "data": {
      "text/plain": [
       "{'notSharedWith': [], 'itemId': '52e8dfb95b7d43f795cc87cff04a9ad3'}"
      ]
     },
     "execution_count": 55,
     "metadata": {},
     "output_type": "execute_result"
    },
    {
     "name": "stdout",
     "output_type": "stream",
     "text": [
      "{'results': [{'itemId': '52e8dfb95b7d43f795cc87cff04a9ad3', 'success': True}]}\n",
      "\n",
      "Processing series code: 8.8.1 SL_EMP_INJUR\n"
     ]
    },
    {
     "data": {
      "text/plain": [
       "'../../data/unsd/2019.Q2.G.01/csv_Indicator_8.8.1_Series_SL_EMP_INJUR.csv'"
      ]
     },
     "metadata": {},
     "output_type": "display_data"
    },
    {
     "name": "stdout",
     "output_type": "stream",
     "text": [
      "Searching for SL_EMP_INJUR_8_8_1_2019Q2G01\n",
      " -- Item SL_EMP_INJUR_8_8_1_2019Q2G01 not found (force find)\n",
      "Adding CSV File to ArcGIS Online....\n",
      "Analyze Feature Service....\n",
      "Publishing Feature Service....\n",
      ".......call generate renderer within publish_csv\n",
      "Update Feature Service Symbology\n",
      "Moving CSV to Open Data Folder\n",
      "Updating Feature Service metadata....\n",
      "Moving Feature Service to Open Data Folder\n"
     ]
    },
    {
     "data": {
      "text/plain": [
       "{'notSharedWith': [], 'itemId': 'd375d8f4e78d48b9b228bb74e2529dce'}"
      ]
     },
     "execution_count": 55,
     "metadata": {},
     "output_type": "execute_result"
    },
    {
     "name": "stdout",
     "output_type": "stream",
     "text": [
      "{'results': [{'itemId': 'd375d8f4e78d48b9b228bb74e2529dce', 'success': True}]}\n",
      "\n",
      "Processing series code: 8.10.1 FB_ATM_TOTL\n"
     ]
    },
    {
     "data": {
      "text/plain": [
       "'../../data/unsd/2019.Q2.G.01/csv_Indicator_8.10.1_Series_FB_ATM_TOTL.csv'"
      ]
     },
     "metadata": {},
     "output_type": "display_data"
    },
    {
     "name": "stdout",
     "output_type": "stream",
     "text": [
      "Searching for FB_ATM_TOTL_8_10_1_2019Q2G01\n",
      " -- Item FB_ATM_TOTL_8_10_1_2019Q2G01 not found (force find)\n",
      "Adding CSV File to ArcGIS Online....\n",
      "Analyze Feature Service....\n",
      "Publishing Feature Service....\n",
      ".......call generate renderer within publish_csv\n",
      "Update Feature Service Symbology\n",
      "Moving CSV to Open Data Folder\n",
      "Updating Feature Service metadata....\n",
      "Moving Feature Service to Open Data Folder\n"
     ]
    },
    {
     "data": {
      "text/plain": [
       "{'notSharedWith': [], 'itemId': '14e27c7d20af4693b67329a910463d52'}"
      ]
     },
     "execution_count": 55,
     "metadata": {},
     "output_type": "execute_result"
    },
    {
     "name": "stdout",
     "output_type": "stream",
     "text": [
      "{'results': [{'itemId': '14e27c7d20af4693b67329a910463d52', 'success': True}]}\n",
      "\n",
      "Processing series code: 8.10.1 FB_CBK_BRCH\n"
     ]
    },
    {
     "data": {
      "text/plain": [
       "'../../data/unsd/2019.Q2.G.01/csv_Indicator_8.10.1_Series_FB_CBK_BRCH.csv'"
      ]
     },
     "metadata": {},
     "output_type": "display_data"
    },
    {
     "name": "stdout",
     "output_type": "stream",
     "text": [
      "Searching for FB_CBK_BRCH_8_10_1_2019Q2G01\n",
      " -- Item FB_CBK_BRCH_8_10_1_2019Q2G01 not found (force find)\n",
      "Adding CSV File to ArcGIS Online....\n",
      "Analyze Feature Service....\n",
      "Publishing Feature Service....\n",
      ".......call generate renderer within publish_csv\n",
      "Update Feature Service Symbology\n",
      "Moving CSV to Open Data Folder\n",
      "Updating Feature Service metadata....\n",
      "Moving Feature Service to Open Data Folder\n"
     ]
    },
    {
     "data": {
      "text/plain": [
       "{'notSharedWith': [], 'itemId': '9adbe0d648b847929e875910973a6660'}"
      ]
     },
     "execution_count": 55,
     "metadata": {},
     "output_type": "execute_result"
    },
    {
     "name": "stdout",
     "output_type": "stream",
     "text": [
      "{'results': [{'itemId': '9adbe0d648b847929e875910973a6660', 'success': True}]}\n",
      "\n",
      "Processing series code: 8.10.2 FB_BNK_ACCSS\n"
     ]
    },
    {
     "data": {
      "text/plain": [
       "'../../data/unsd/2019.Q2.G.01/csv_Indicator_8.10.2_Series_FB_BNK_ACCSS.csv'"
      ]
     },
     "metadata": {},
     "output_type": "display_data"
    },
    {
     "name": "stdout",
     "output_type": "stream",
     "text": [
      "Searching for FB_BNK_ACCSS_8_10_2_2019Q2G01\n",
      " -- Item FB_BNK_ACCSS_8_10_2_2019Q2G01 not found (force find)\n",
      "Adding CSV File to ArcGIS Online....\n",
      "Analyze Feature Service....\n",
      "Publishing Feature Service....\n",
      ".......call generate renderer within publish_csv\n",
      "Update Feature Service Symbology\n",
      "Moving CSV to Open Data Folder\n",
      "Updating Feature Service metadata....\n",
      "Moving Feature Service to Open Data Folder\n"
     ]
    },
    {
     "data": {
      "text/plain": [
       "{'notSharedWith': [], 'itemId': '88416b8611e844b0a9ebaf15ad7ba4a4'}"
      ]
     },
     "execution_count": 55,
     "metadata": {},
     "output_type": "execute_result"
    },
    {
     "name": "stdout",
     "output_type": "stream",
     "text": [
      "{'results': [{'itemId': '88416b8611e844b0a9ebaf15ad7ba4a4', 'success': True}]}\n",
      "\n",
      "Processing series code: 8.a.1 DC_TOF_TRDCMDL\n"
     ]
    },
    {
     "data": {
      "text/plain": [
       "'../../data/unsd/2019.Q2.G.01/csv_Indicator_8.a.1_Series_DC_TOF_TRDCMDL.csv'"
      ]
     },
     "metadata": {},
     "output_type": "display_data"
    },
    {
     "name": "stdout",
     "output_type": "stream",
     "text": [
      "Searching for DC_TOF_TRDCMDL_8_a_1_2019Q2G01\n",
      " -- Item DC_TOF_TRDCMDL_8_a_1_2019Q2G01 not found (force find)\n",
      "Adding CSV File to ArcGIS Online....\n",
      "Analyze Feature Service....\n",
      "Publishing Feature Service....\n",
      ".......call generate renderer within publish_csv\n",
      "Update Feature Service Symbology\n",
      "Moving CSV to Open Data Folder\n",
      "Updating Feature Service metadata....\n",
      "Moving Feature Service to Open Data Folder\n"
     ]
    },
    {
     "data": {
      "text/plain": [
       "{'notSharedWith': [], 'itemId': 'e3f884fba81740e0a8c31743d9c5a5e6'}"
      ]
     },
     "execution_count": 55,
     "metadata": {},
     "output_type": "execute_result"
    },
    {
     "name": "stdout",
     "output_type": "stream",
     "text": [
      "{'results': [{'itemId': 'e3f884fba81740e0a8c31743d9c5a5e6', 'success': True}]}\n",
      "\n",
      "Processing series code: 8.a.1 DC_TOF_TRDDBMDL\n"
     ]
    },
    {
     "data": {
      "text/plain": [
       "'../../data/unsd/2019.Q2.G.01/csv_Indicator_8.a.1_Series_DC_TOF_TRDDBMDL.csv'"
      ]
     },
     "metadata": {},
     "output_type": "display_data"
    },
    {
     "name": "stdout",
     "output_type": "stream",
     "text": [
      "Searching for DC_TOF_TRDDBMDL_8_a_1_2019Q2G01\n",
      " -- Item DC_TOF_TRDDBMDL_8_a_1_2019Q2G01 not found (force find)\n",
      "Adding CSV File to ArcGIS Online....\n",
      "Analyze Feature Service....\n",
      "Publishing Feature Service....\n",
      ".......call generate renderer within publish_csv\n",
      "Update Feature Service Symbology\n",
      "Moving CSV to Open Data Folder\n",
      "Updating Feature Service metadata....\n",
      "Moving Feature Service to Open Data Folder\n"
     ]
    },
    {
     "data": {
      "text/plain": [
       "{'notSharedWith': [], 'itemId': '0e7f37083e084d19bc586beb907ffe85'}"
      ]
     },
     "execution_count": 55,
     "metadata": {},
     "output_type": "execute_result"
    },
    {
     "name": "stdout",
     "output_type": "stream",
     "text": [
      "{'results': [{'itemId': '0e7f37083e084d19bc586beb907ffe85', 'success': True}]}\n",
      "\n",
      "Processing series code: 8.a.1 DC_TOF_TRDDBML\n"
     ]
    },
    {
     "data": {
      "text/plain": [
       "'../../data/unsd/2019.Q2.G.01/csv_Indicator_8.a.1_Series_DC_TOF_TRDDBML.csv'"
      ]
     },
     "metadata": {},
     "output_type": "display_data"
    },
    {
     "name": "stdout",
     "output_type": "stream",
     "text": [
      "Searching for DC_TOF_TRDDBML_8_a_1_2019Q2G01\n",
      " -- Item DC_TOF_TRDDBML_8_a_1_2019Q2G01 not found (force find)\n",
      "Adding CSV File to ArcGIS Online....\n",
      "Analyze Feature Service....\n",
      "Publishing Feature Service....\n",
      ".......call generate renderer within publish_csv\n",
      "Update Feature Service Symbology\n",
      "Moving CSV to Open Data Folder\n",
      "Updating Feature Service metadata....\n",
      "Moving Feature Service to Open Data Folder\n"
     ]
    },
    {
     "data": {
      "text/plain": [
       "{'notSharedWith': [], 'itemId': 'c82c44f990e04cf98fd11e2c0efe0fd7'}"
      ]
     },
     "execution_count": 55,
     "metadata": {},
     "output_type": "execute_result"
    },
    {
     "name": "stdout",
     "output_type": "stream",
     "text": [
      "{'results': [{'itemId': 'c82c44f990e04cf98fd11e2c0efe0fd7', 'success': True}]}\n",
      "\n",
      "Processing series code: 8.a.1 DC_TOF_TRDCML\n"
     ]
    },
    {
     "data": {
      "text/plain": [
       "'../../data/unsd/2019.Q2.G.01/csv_Indicator_8.a.1_Series_DC_TOF_TRDCML.csv'"
      ]
     },
     "metadata": {},
     "output_type": "display_data"
    },
    {
     "name": "stdout",
     "output_type": "stream",
     "text": [
      "Searching for DC_TOF_TRDCML_8_a_1_2019Q2G01\n",
      " -- Item DC_TOF_TRDCML_8_a_1_2019Q2G01 not found (force find)\n",
      "Adding CSV File to ArcGIS Online....\n",
      "Analyze Feature Service....\n",
      "Publishing Feature Service....\n",
      ".......call generate renderer within publish_csv\n",
      "Update Feature Service Symbology\n",
      "Moving CSV to Open Data Folder\n",
      "Updating Feature Service metadata....\n",
      "Moving Feature Service to Open Data Folder\n"
     ]
    },
    {
     "data": {
      "text/plain": [
       "{'notSharedWith': [], 'itemId': 'd58dbd107b9a4a66b45fe51fbb86a9f2'}"
      ]
     },
     "execution_count": 55,
     "metadata": {},
     "output_type": "execute_result"
    },
    {
     "name": "stdout",
     "output_type": "stream",
     "text": [
      "{'results': [{'itemId': 'd58dbd107b9a4a66b45fe51fbb86a9f2', 'success': True}]}\n",
      "\n",
      "Processing series code: 9.1.2 IS_RDP_FRGVOL\n"
     ]
    },
    {
     "data": {
      "text/plain": [
       "'../../data/unsd/2019.Q2.G.01/csv_Indicator_9.1.2_Series_IS_RDP_FRGVOL.csv'"
      ]
     },
     "metadata": {},
     "output_type": "display_data"
    },
    {
     "name": "stdout",
     "output_type": "stream",
     "text": [
      "Searching for IS_RDP_FRGVOL_9_1_2_2019Q2G01\n",
      " -- Item IS_RDP_FRGVOL_9_1_2_2019Q2G01 not found (force find)\n",
      "Adding CSV File to ArcGIS Online....\n",
      "Analyze Feature Service....\n",
      "Publishing Feature Service....\n",
      ".......call generate renderer within publish_csv\n",
      "Update Feature Service Symbology\n",
      "Moving CSV to Open Data Folder\n",
      "Updating Feature Service metadata....\n",
      "Moving Feature Service to Open Data Folder\n"
     ]
    },
    {
     "data": {
      "text/plain": [
       "{'notSharedWith': [], 'itemId': '9827c1115b394f8585898038f54f0be6'}"
      ]
     },
     "execution_count": 55,
     "metadata": {},
     "output_type": "execute_result"
    },
    {
     "name": "stdout",
     "output_type": "stream",
     "text": [
      "{'results': [{'itemId': '9827c1115b394f8585898038f54f0be6', 'success': True}]}\n",
      "\n",
      "Processing series code: 9.1.2 IS_RDP_PFVOL\n"
     ]
    },
    {
     "data": {
      "text/plain": [
       "'../../data/unsd/2019.Q2.G.01/csv_Indicator_9.1.2_Series_IS_RDP_PFVOL.csv'"
      ]
     },
     "metadata": {},
     "output_type": "display_data"
    },
    {
     "name": "stdout",
     "output_type": "stream",
     "text": [
      "Searching for IS_RDP_PFVOL_9_1_2_2019Q2G01\n",
      " -- Item IS_RDP_PFVOL_9_1_2_2019Q2G01 not found (force find)\n",
      "Adding CSV File to ArcGIS Online....\n",
      "Analyze Feature Service....\n",
      "Publishing Feature Service....\n",
      ".......call generate renderer within publish_csv\n",
      "Update Feature Service Symbology\n",
      "Moving CSV to Open Data Folder\n",
      "Updating Feature Service metadata....\n",
      "Moving Feature Service to Open Data Folder\n"
     ]
    },
    {
     "data": {
      "text/plain": [
       "{'notSharedWith': [], 'itemId': '22836bd93c55492ebaf34567469d553c'}"
      ]
     },
     "execution_count": 55,
     "metadata": {},
     "output_type": "execute_result"
    },
    {
     "name": "stdout",
     "output_type": "stream",
     "text": [
      "{'results': [{'itemId': '22836bd93c55492ebaf34567469d553c', 'success': True}]}\n",
      "\n",
      "Processing series code: 9.2.1 NV_IND_MANFPC\n"
     ]
    },
    {
     "data": {
      "text/plain": [
       "'../../data/unsd/2019.Q2.G.01/csv_Indicator_9.2.1_Series_NV_IND_MANFPC.csv'"
      ]
     },
     "metadata": {},
     "output_type": "display_data"
    },
    {
     "name": "stdout",
     "output_type": "stream",
     "text": [
      "Searching for NV_IND_MANFPC_9_2_1_2019Q2G01\n",
      " -- Item NV_IND_MANFPC_9_2_1_2019Q2G01 not found (force find)\n",
      "Adding CSV File to ArcGIS Online....\n",
      "Analyze Feature Service....\n",
      "Publishing Feature Service....\n",
      ".......call generate renderer within publish_csv\n",
      "Update Feature Service Symbology\n",
      "Moving CSV to Open Data Folder\n",
      "Updating Feature Service metadata....\n",
      "Moving Feature Service to Open Data Folder\n"
     ]
    },
    {
     "data": {
      "text/plain": [
       "{'notSharedWith': [], 'itemId': 'ed6057a6f4754ccf8b580a57878912b6'}"
      ]
     },
     "execution_count": 55,
     "metadata": {},
     "output_type": "execute_result"
    },
    {
     "name": "stdout",
     "output_type": "stream",
     "text": [
      "{'results': [{'itemId': 'ed6057a6f4754ccf8b580a57878912b6', 'success': True}]}\n",
      "\n",
      "Processing series code: 9.2.1 NV_IND_MANF\n"
     ]
    },
    {
     "data": {
      "text/plain": [
       "'../../data/unsd/2019.Q2.G.01/csv_Indicator_9.2.1_Series_NV_IND_MANF.csv'"
      ]
     },
     "metadata": {},
     "output_type": "display_data"
    },
    {
     "name": "stdout",
     "output_type": "stream",
     "text": [
      "Searching for NV_IND_MANF_9_2_1_2019Q2G01\n",
      " -- Item NV_IND_MANF_9_2_1_2019Q2G01 not found (force find)\n",
      "Adding CSV File to ArcGIS Online....\n",
      "Analyze Feature Service....\n",
      "Publishing Feature Service....\n",
      ".......call generate renderer within publish_csv\n",
      "Update Feature Service Symbology\n",
      "Moving CSV to Open Data Folder\n",
      "Updating Feature Service metadata....\n",
      "Moving Feature Service to Open Data Folder\n"
     ]
    },
    {
     "data": {
      "text/plain": [
       "{'notSharedWith': [], 'itemId': '2148ac98ecf04161a5648beb637f2ced'}"
      ]
     },
     "execution_count": 55,
     "metadata": {},
     "output_type": "execute_result"
    },
    {
     "name": "stdout",
     "output_type": "stream",
     "text": [
      "{'results': [{'itemId': '2148ac98ecf04161a5648beb637f2ced', 'success': True}]}\n",
      "\n",
      "Processing series code: 9.2.2 SL_TLF_MANF\n"
     ]
    },
    {
     "data": {
      "text/plain": [
       "'../../data/unsd/2019.Q2.G.01/csv_Indicator_9.2.2_Series_SL_TLF_MANF.csv'"
      ]
     },
     "metadata": {},
     "output_type": "display_data"
    },
    {
     "name": "stdout",
     "output_type": "stream",
     "text": [
      "Searching for SL_TLF_MANF_9_2_2_2019Q2G01\n",
      " -- Item SL_TLF_MANF_9_2_2_2019Q2G01 not found (force find)\n",
      "Adding CSV File to ArcGIS Online....\n",
      "Analyze Feature Service....\n",
      "Publishing Feature Service....\n",
      ".......call generate renderer within publish_csv\n",
      "Update Feature Service Symbology\n",
      "Moving CSV to Open Data Folder\n",
      "Updating Feature Service metadata....\n",
      "Moving Feature Service to Open Data Folder\n"
     ]
    },
    {
     "data": {
      "text/plain": [
       "{'notSharedWith': [], 'itemId': '745c1d7f877a4ac5b9fdc72bcccf7d5b'}"
      ]
     },
     "execution_count": 55,
     "metadata": {},
     "output_type": "execute_result"
    },
    {
     "name": "stdout",
     "output_type": "stream",
     "text": [
      "{'results': [{'itemId': '745c1d7f877a4ac5b9fdc72bcccf7d5b', 'success': True}]}\n",
      "\n",
      "Processing series code: 9.3.1 NV_IND_SSIS\n"
     ]
    },
    {
     "data": {
      "text/plain": [
       "'../../data/unsd/2019.Q2.G.01/csv_Indicator_9.3.1_Series_NV_IND_SSIS.csv'"
      ]
     },
     "metadata": {},
     "output_type": "display_data"
    },
    {
     "name": "stdout",
     "output_type": "stream",
     "text": [
      "Searching for NV_IND_SSIS_9_3_1_2019Q2G01\n",
      " -- Item NV_IND_SSIS_9_3_1_2019Q2G01 not found (force find)\n",
      "Adding CSV File to ArcGIS Online....\n",
      "Analyze Feature Service....\n",
      "Publishing Feature Service....\n",
      ".......call generate renderer within publish_csv\n",
      "Update Feature Service Symbology\n",
      "Moving CSV to Open Data Folder\n",
      "Updating Feature Service metadata....\n",
      "Moving Feature Service to Open Data Folder\n"
     ]
    },
    {
     "data": {
      "text/plain": [
       "{'notSharedWith': [], 'itemId': 'e50a59c1eb2f40f7b1e842b8ec7415f6'}"
      ]
     },
     "execution_count": 55,
     "metadata": {},
     "output_type": "execute_result"
    },
    {
     "name": "stdout",
     "output_type": "stream",
     "text": [
      "{'results': [{'itemId': 'e50a59c1eb2f40f7b1e842b8ec7415f6', 'success': True}]}\n",
      "\n",
      "Processing series code: 9.3.2 FC_ACC_SSID\n"
     ]
    },
    {
     "data": {
      "text/plain": [
       "'../../data/unsd/2019.Q2.G.01/csv_Indicator_9.3.2_Series_FC_ACC_SSID.csv'"
      ]
     },
     "metadata": {},
     "output_type": "display_data"
    },
    {
     "name": "stdout",
     "output_type": "stream",
     "text": [
      "Searching for FC_ACC_SSID_9_3_2_2019Q2G01\n",
      " -- Item FC_ACC_SSID_9_3_2_2019Q2G01 not found (force find)\n",
      "Adding CSV File to ArcGIS Online....\n",
      "Analyze Feature Service....\n",
      "Publishing Feature Service....\n",
      ".......call generate renderer within publish_csv\n",
      "Update Feature Service Symbology\n",
      "Moving CSV to Open Data Folder\n",
      "Updating Feature Service metadata....\n",
      "Moving Feature Service to Open Data Folder\n"
     ]
    },
    {
     "data": {
      "text/plain": [
       "{'notSharedWith': [], 'itemId': '4d4b297bae004e15bf1271c3e0831fa4'}"
      ]
     },
     "execution_count": 55,
     "metadata": {},
     "output_type": "execute_result"
    },
    {
     "name": "stdout",
     "output_type": "stream",
     "text": [
      "{'results': [{'itemId': '4d4b297bae004e15bf1271c3e0831fa4', 'success': True}]}\n",
      "\n",
      "Processing series code: 9.4.1 EN_ATM_CO2\n"
     ]
    },
    {
     "data": {
      "text/plain": [
       "'../../data/unsd/2019.Q2.G.01/csv_Indicator_9.4.1_Series_EN_ATM_CO2.csv'"
      ]
     },
     "metadata": {},
     "output_type": "display_data"
    },
    {
     "name": "stdout",
     "output_type": "stream",
     "text": [
      "Searching for EN_ATM_CO2_9_4_1_2019Q2G01\n",
      " -- Item EN_ATM_CO2_9_4_1_2019Q2G01 not found (force find)\n",
      "Adding CSV File to ArcGIS Online....\n",
      "Analyze Feature Service....\n",
      "Publishing Feature Service....\n",
      ".......call generate renderer within publish_csv\n",
      "Update Feature Service Symbology\n",
      "Moving CSV to Open Data Folder\n",
      "Updating Feature Service metadata....\n",
      "Moving Feature Service to Open Data Folder\n"
     ]
    },
    {
     "data": {
      "text/plain": [
       "{'notSharedWith': [], 'itemId': '7426388abf5e454881fcdc6f0c766128'}"
      ]
     },
     "execution_count": 55,
     "metadata": {},
     "output_type": "execute_result"
    },
    {
     "name": "stdout",
     "output_type": "stream",
     "text": [
      "{'results': [{'itemId': '7426388abf5e454881fcdc6f0c766128', 'success': True}]}\n",
      "\n",
      "Processing series code: 9.4.1 EN_ATM_CO2MVA\n"
     ]
    },
    {
     "data": {
      "text/plain": [
       "'../../data/unsd/2019.Q2.G.01/csv_Indicator_9.4.1_Series_EN_ATM_CO2MVA.csv'"
      ]
     },
     "metadata": {},
     "output_type": "display_data"
    },
    {
     "name": "stdout",
     "output_type": "stream",
     "text": [
      "Searching for EN_ATM_CO2MVA_9_4_1_2019Q2G01\n",
      " -- Item EN_ATM_CO2MVA_9_4_1_2019Q2G01 not found (force find)\n",
      "Adding CSV File to ArcGIS Online....\n",
      "Analyze Feature Service....\n",
      "Publishing Feature Service....\n",
      ".......call generate renderer within publish_csv\n",
      "Update Feature Service Symbology\n",
      "Moving CSV to Open Data Folder\n",
      "Updating Feature Service metadata....\n",
      "Moving Feature Service to Open Data Folder\n"
     ]
    },
    {
     "data": {
      "text/plain": [
       "{'notSharedWith': [], 'itemId': '2fb4baf5cebd4ae5a733d734cbeafc33'}"
      ]
     },
     "execution_count": 55,
     "metadata": {},
     "output_type": "execute_result"
    },
    {
     "name": "stdout",
     "output_type": "stream",
     "text": [
      "{'results': [{'itemId': '2fb4baf5cebd4ae5a733d734cbeafc33', 'success': True}]}\n",
      "\n",
      "Processing series code: 9.4.1 EN_ATM_CO2GDP\n"
     ]
    },
    {
     "data": {
      "text/plain": [
       "'../../data/unsd/2019.Q2.G.01/csv_Indicator_9.4.1_Series_EN_ATM_CO2GDP.csv'"
      ]
     },
     "metadata": {},
     "output_type": "display_data"
    },
    {
     "name": "stdout",
     "output_type": "stream",
     "text": [
      "Searching for EN_ATM_CO2GDP_9_4_1_2019Q2G01\n",
      " -- Item EN_ATM_CO2GDP_9_4_1_2019Q2G01 not found (force find)\n",
      "Adding CSV File to ArcGIS Online....\n",
      "Analyze Feature Service....\n",
      "Publishing Feature Service....\n",
      ".......call generate renderer within publish_csv\n",
      "Update Feature Service Symbology\n",
      "Moving CSV to Open Data Folder\n",
      "Updating Feature Service metadata....\n",
      "Moving Feature Service to Open Data Folder\n"
     ]
    },
    {
     "data": {
      "text/plain": [
       "{'notSharedWith': [], 'itemId': '36ff192d48504b34bbc8af3ff30f565b'}"
      ]
     },
     "execution_count": 55,
     "metadata": {},
     "output_type": "execute_result"
    },
    {
     "name": "stdout",
     "output_type": "stream",
     "text": [
      "{'results': [{'itemId': '36ff192d48504b34bbc8af3ff30f565b', 'success': True}]}\n",
      "\n",
      "Processing series code: 9.5.1 GB_XPD_RSDV\n"
     ]
    },
    {
     "data": {
      "text/plain": [
       "'../../data/unsd/2019.Q2.G.01/csv_Indicator_9.5.1_Series_GB_XPD_RSDV.csv'"
      ]
     },
     "metadata": {},
     "output_type": "display_data"
    },
    {
     "name": "stdout",
     "output_type": "stream",
     "text": [
      "Searching for GB_XPD_RSDV_9_5_1_2019Q2G01\n",
      " -- Item GB_XPD_RSDV_9_5_1_2019Q2G01 not found (force find)\n",
      "Adding CSV File to ArcGIS Online....\n",
      "Analyze Feature Service....\n",
      "Publishing Feature Service....\n",
      ".......call generate renderer within publish_csv\n",
      "Update Feature Service Symbology\n",
      "Moving CSV to Open Data Folder\n",
      "Updating Feature Service metadata....\n",
      "Moving Feature Service to Open Data Folder\n"
     ]
    },
    {
     "data": {
      "text/plain": [
       "{'notSharedWith': [], 'itemId': '06bbe00c627d46f884b9caf36413ad97'}"
      ]
     },
     "execution_count": 55,
     "metadata": {},
     "output_type": "execute_result"
    },
    {
     "name": "stdout",
     "output_type": "stream",
     "text": [
      "{'results': [{'itemId': '06bbe00c627d46f884b9caf36413ad97', 'success': True}]}\n",
      "\n",
      "Processing series code: 9.5.2 GB_POP_SCIERD\n"
     ]
    },
    {
     "data": {
      "text/plain": [
       "'../../data/unsd/2019.Q2.G.01/csv_Indicator_9.5.2_Series_GB_POP_SCIERD.csv'"
      ]
     },
     "metadata": {},
     "output_type": "display_data"
    },
    {
     "name": "stdout",
     "output_type": "stream",
     "text": [
      "Searching for GB_POP_SCIERD_9_5_2_2019Q2G01\n",
      " -- Item GB_POP_SCIERD_9_5_2_2019Q2G01 not found (force find)\n",
      "Adding CSV File to ArcGIS Online....\n",
      "Analyze Feature Service....\n",
      "Publishing Feature Service....\n",
      ".......call generate renderer within publish_csv\n",
      "Update Feature Service Symbology\n",
      "Moving CSV to Open Data Folder\n",
      "Updating Feature Service metadata....\n",
      "Moving Feature Service to Open Data Folder\n"
     ]
    },
    {
     "data": {
      "text/plain": [
       "{'notSharedWith': [], 'itemId': 'e442b5b7845743e8960b230aa4de4e37'}"
      ]
     },
     "execution_count": 55,
     "metadata": {},
     "output_type": "execute_result"
    },
    {
     "name": "stdout",
     "output_type": "stream",
     "text": [
      "{'results': [{'itemId': 'e442b5b7845743e8960b230aa4de4e37', 'success': True}]}\n",
      "\n",
      "Processing series code: 9.a.1 DC_TOF_INFRAL\n"
     ]
    },
    {
     "data": {
      "text/plain": [
       "'../../data/unsd/2019.Q2.G.01/csv_Indicator_9.a.1_Series_DC_TOF_INFRAL.csv'"
      ]
     },
     "metadata": {},
     "output_type": "display_data"
    },
    {
     "name": "stdout",
     "output_type": "stream",
     "text": [
      "Searching for DC_TOF_INFRAL_9_a_1_2019Q2G01\n",
      " -- Item DC_TOF_INFRAL_9_a_1_2019Q2G01 not found (force find)\n",
      "Adding CSV File to ArcGIS Online....\n",
      "Analyze Feature Service....\n",
      "Publishing Feature Service....\n",
      ".......call generate renderer within publish_csv\n",
      "Update Feature Service Symbology\n",
      "Moving CSV to Open Data Folder\n",
      "Updating Feature Service metadata....\n",
      "Moving Feature Service to Open Data Folder\n"
     ]
    },
    {
     "data": {
      "text/plain": [
       "{'notSharedWith': [], 'itemId': '40e98439f83e4e0284afdf64d8f59493'}"
      ]
     },
     "execution_count": 55,
     "metadata": {},
     "output_type": "execute_result"
    },
    {
     "name": "stdout",
     "output_type": "stream",
     "text": [
      "{'results': [{'itemId': '40e98439f83e4e0284afdf64d8f59493', 'success': True}]}\n",
      "\n",
      "Processing series code: 9.b.1 NV_IND_TECH\n"
     ]
    },
    {
     "data": {
      "text/plain": [
       "'../../data/unsd/2019.Q2.G.01/csv_Indicator_9.b.1_Series_NV_IND_TECH.csv'"
      ]
     },
     "metadata": {},
     "output_type": "display_data"
    },
    {
     "name": "stdout",
     "output_type": "stream",
     "text": [
      "Searching for NV_IND_TECH_9_b_1_2019Q2G01\n",
      " -- Item NV_IND_TECH_9_b_1_2019Q2G01 not found (force find)\n",
      "Adding CSV File to ArcGIS Online....\n",
      "Analyze Feature Service....\n",
      "Publishing Feature Service....\n",
      ".......call generate renderer within publish_csv\n",
      "Update Feature Service Symbology\n",
      "Moving CSV to Open Data Folder\n",
      "Updating Feature Service metadata....\n",
      "Moving Feature Service to Open Data Folder\n"
     ]
    },
    {
     "data": {
      "text/plain": [
       "{'notSharedWith': [], 'itemId': 'cb950c85c7c7469a925650bda7b3002b'}"
      ]
     },
     "execution_count": 55,
     "metadata": {},
     "output_type": "execute_result"
    },
    {
     "name": "stdout",
     "output_type": "stream",
     "text": [
      "{'results': [{'itemId': 'cb950c85c7c7469a925650bda7b3002b', 'success': True}]}\n",
      "\n",
      "Processing series code: 9.c.1 IT_MOB_NTWK\n"
     ]
    },
    {
     "data": {
      "text/plain": [
       "'../../data/unsd/2019.Q2.G.01/csv_Indicator_9.c.1_Series_IT_MOB_NTWK.csv'"
      ]
     },
     "metadata": {},
     "output_type": "display_data"
    },
    {
     "name": "stdout",
     "output_type": "stream",
     "text": [
      "Searching for IT_MOB_NTWK_9_c_1_2019Q2G01\n",
      " -- Item IT_MOB_NTWK_9_c_1_2019Q2G01 not found (force find)\n",
      "Adding CSV File to ArcGIS Online....\n",
      "Analyze Feature Service....\n",
      "Publishing Feature Service....\n",
      ".......call generate renderer within publish_csv\n",
      "Update Feature Service Symbology\n",
      "Moving CSV to Open Data Folder\n",
      "Updating Feature Service metadata....\n",
      "Moving Feature Service to Open Data Folder\n"
     ]
    },
    {
     "data": {
      "text/plain": [
       "{'notSharedWith': [], 'itemId': 'bcf2ed2c448a4a3bafe7ea8951d4a259'}"
      ]
     },
     "execution_count": 55,
     "metadata": {},
     "output_type": "execute_result"
    },
    {
     "name": "stdout",
     "output_type": "stream",
     "text": [
      "{'results': [{'itemId': 'bcf2ed2c448a4a3bafe7ea8951d4a259', 'success': True}]}\n",
      "\n",
      "Processing series code: 10.1.1 SI_HEI_TOTL\n"
     ]
    },
    {
     "data": {
      "text/plain": [
       "'../../data/unsd/2019.Q2.G.01/csv_Indicator_10.1.1_Series_SI_HEI_TOTL.csv'"
      ]
     },
     "metadata": {},
     "output_type": "display_data"
    },
    {
     "name": "stdout",
     "output_type": "stream",
     "text": [
      "Searching for SI_HEI_TOTL_10_1_1_2019Q2G01\n",
      " -- Item SI_HEI_TOTL_10_1_1_2019Q2G01 not found (force find)\n",
      "Adding CSV File to ArcGIS Online....\n",
      "Analyze Feature Service....\n",
      "Publishing Feature Service....\n",
      ".......call generate renderer within publish_csv\n",
      "Update Feature Service Symbology\n",
      "Moving CSV to Open Data Folder\n",
      "Updating Feature Service metadata....\n",
      "Moving Feature Service to Open Data Folder\n"
     ]
    },
    {
     "data": {
      "text/plain": [
       "{'notSharedWith': [], 'itemId': '688f22c20df3452298e61bc6016329b5'}"
      ]
     },
     "execution_count": 55,
     "metadata": {},
     "output_type": "execute_result"
    },
    {
     "name": "stdout",
     "output_type": "stream",
     "text": [
      "{'results': [{'itemId': '688f22c20df3452298e61bc6016329b5', 'success': True}]}\n",
      "\n",
      "Processing series code: 10.1.1 SI_HEI_BTN40\n"
     ]
    },
    {
     "data": {
      "text/plain": [
       "'../../data/unsd/2019.Q2.G.01/csv_Indicator_10.1.1_Series_SI_HEI_BTN40.csv'"
      ]
     },
     "metadata": {},
     "output_type": "display_data"
    },
    {
     "name": "stdout",
     "output_type": "stream",
     "text": [
      "Searching for SI_HEI_BTN40_10_1_1_2019Q2G01\n",
      " -- Item SI_HEI_BTN40_10_1_1_2019Q2G01 not found (force find)\n",
      "Adding CSV File to ArcGIS Online....\n",
      "Analyze Feature Service....\n",
      "Publishing Feature Service....\n",
      ".......call generate renderer within publish_csv\n",
      "Update Feature Service Symbology\n",
      "Moving CSV to Open Data Folder\n",
      "Updating Feature Service metadata....\n",
      "Moving Feature Service to Open Data Folder\n"
     ]
    },
    {
     "data": {
      "text/plain": [
       "{'notSharedWith': [], 'itemId': 'd8408ca5c21649f08185225611a4241c'}"
      ]
     },
     "execution_count": 55,
     "metadata": {},
     "output_type": "execute_result"
    },
    {
     "name": "stdout",
     "output_type": "stream",
     "text": [
      "{'results': [{'itemId': 'd8408ca5c21649f08185225611a4241c', 'success': True}]}\n",
      "\n",
      "Processing series code: 10.4.1 SL_EMP_GTOTL\n"
     ]
    },
    {
     "data": {
      "text/plain": [
       "'../../data/unsd/2019.Q2.G.01/csv_Indicator_10.4.1_Series_SL_EMP_GTOTL.csv'"
      ]
     },
     "metadata": {},
     "output_type": "display_data"
    },
    {
     "name": "stdout",
     "output_type": "stream",
     "text": [
      "Searching for SL_EMP_GTOTL_10_4_1_2019Q2G01\n",
      " -- Item SL_EMP_GTOTL_10_4_1_2019Q2G01 not found (force find)\n",
      "Adding CSV File to ArcGIS Online....\n",
      "Analyze Feature Service....\n",
      "Publishing Feature Service....\n",
      ".......call generate renderer within publish_csv\n",
      "Update Feature Service Symbology\n",
      "Moving CSV to Open Data Folder\n",
      "Updating Feature Service metadata....\n",
      "Moving Feature Service to Open Data Folder\n"
     ]
    },
    {
     "data": {
      "text/plain": [
       "{'notSharedWith': [], 'itemId': '54681bb23185478eb1e01e147bf32f5d'}"
      ]
     },
     "execution_count": 55,
     "metadata": {},
     "output_type": "execute_result"
    },
    {
     "name": "stdout",
     "output_type": "stream",
     "text": [
      "{'results': [{'itemId': '54681bb23185478eb1e01e147bf32f5d', 'success': True}]}\n",
      "\n",
      "Processing series code: 10.5.1 FI_FSI_FSANL\n"
     ]
    },
    {
     "data": {
      "text/plain": [
       "'../../data/unsd/2019.Q2.G.01/csv_Indicator_10.5.1_Series_FI_FSI_FSANL.csv'"
      ]
     },
     "metadata": {},
     "output_type": "display_data"
    },
    {
     "name": "stdout",
     "output_type": "stream",
     "text": [
      "Searching for FI_FSI_FSANL_10_5_1_2019Q2G01\n",
      " -- Item FI_FSI_FSANL_10_5_1_2019Q2G01 not found (force find)\n",
      "Adding CSV File to ArcGIS Online....\n",
      "Analyze Feature Service....\n",
      "Publishing Feature Service....\n",
      ".......call generate renderer within publish_csv\n",
      "Update Feature Service Symbology\n",
      "Moving CSV to Open Data Folder\n",
      "Updating Feature Service metadata....\n",
      "Moving Feature Service to Open Data Folder\n"
     ]
    },
    {
     "data": {
      "text/plain": [
       "{'notSharedWith': [], 'itemId': 'f5a9e0f399b04ea9b3ed8e3f9c3ecb68'}"
      ]
     },
     "execution_count": 55,
     "metadata": {},
     "output_type": "execute_result"
    },
    {
     "name": "stdout",
     "output_type": "stream",
     "text": [
      "{'results': [{'itemId': 'f5a9e0f399b04ea9b3ed8e3f9c3ecb68', 'success': True}]}\n",
      "\n",
      "Processing series code: 10.5.1 FI_FSI_FSERA\n"
     ]
    },
    {
     "data": {
      "text/plain": [
       "'../../data/unsd/2019.Q2.G.01/csv_Indicator_10.5.1_Series_FI_FSI_FSERA.csv'"
      ]
     },
     "metadata": {},
     "output_type": "display_data"
    },
    {
     "name": "stdout",
     "output_type": "stream",
     "text": [
      "Searching for FI_FSI_FSERA_10_5_1_2019Q2G01\n",
      " -- Item FI_FSI_FSERA_10_5_1_2019Q2G01 not found (force find)\n",
      "Adding CSV File to ArcGIS Online....\n",
      "Analyze Feature Service....\n",
      "Publishing Feature Service....\n",
      ".......call generate renderer within publish_csv\n",
      "Update Feature Service Symbology\n",
      "Moving CSV to Open Data Folder\n",
      "Updating Feature Service metadata....\n",
      "Moving Feature Service to Open Data Folder\n"
     ]
    },
    {
     "data": {
      "text/plain": [
       "{'notSharedWith': [], 'itemId': 'bbee95bd53964e9596f43f904a951f55'}"
      ]
     },
     "execution_count": 55,
     "metadata": {},
     "output_type": "execute_result"
    },
    {
     "name": "stdout",
     "output_type": "stream",
     "text": [
      "{'results': [{'itemId': 'bbee95bd53964e9596f43f904a951f55', 'success': True}]}\n",
      "\n",
      "Processing series code: 10.5.1 FI_FSI_FSKA\n"
     ]
    },
    {
     "data": {
      "text/plain": [
       "'../../data/unsd/2019.Q2.G.01/csv_Indicator_10.5.1_Series_FI_FSI_FSKA.csv'"
      ]
     },
     "metadata": {},
     "output_type": "display_data"
    },
    {
     "name": "stdout",
     "output_type": "stream",
     "text": [
      "Searching for FI_FSI_FSKA_10_5_1_2019Q2G01\n",
      " -- Item FI_FSI_FSKA_10_5_1_2019Q2G01 not found (force find)\n",
      "Adding CSV File to ArcGIS Online....\n",
      "Analyze Feature Service....\n",
      "Publishing Feature Service....\n",
      ".......call generate renderer within publish_csv\n",
      "Update Feature Service Symbology\n",
      "Moving CSV to Open Data Folder\n",
      "Updating Feature Service metadata....\n",
      "Moving Feature Service to Open Data Folder\n"
     ]
    },
    {
     "data": {
      "text/plain": [
       "{'notSharedWith': [], 'itemId': 'bdd3686085714c31894e1c6a7baad5e8'}"
      ]
     },
     "execution_count": 55,
     "metadata": {},
     "output_type": "execute_result"
    },
    {
     "name": "stdout",
     "output_type": "stream",
     "text": [
      "{'results': [{'itemId': 'bdd3686085714c31894e1c6a7baad5e8', 'success': True}]}\n",
      "\n",
      "Processing series code: 10.5.1 FI_FSI_FSKNL\n"
     ]
    },
    {
     "data": {
      "text/plain": [
       "'../../data/unsd/2019.Q2.G.01/csv_Indicator_10.5.1_Series_FI_FSI_FSKNL.csv'"
      ]
     },
     "metadata": {},
     "output_type": "display_data"
    },
    {
     "name": "stdout",
     "output_type": "stream",
     "text": [
      "Searching for FI_FSI_FSKNL_10_5_1_2019Q2G01\n",
      " -- Item FI_FSI_FSKNL_10_5_1_2019Q2G01 not found (force find)\n",
      "Adding CSV File to ArcGIS Online....\n",
      "Analyze Feature Service....\n",
      "Publishing Feature Service....\n",
      ".......call generate renderer within publish_csv\n",
      "Update Feature Service Symbology\n",
      "Moving CSV to Open Data Folder\n",
      "Updating Feature Service metadata....\n",
      "Moving Feature Service to Open Data Folder\n"
     ]
    },
    {
     "data": {
      "text/plain": [
       "{'notSharedWith': [], 'itemId': '6fbc91f34c3c46699639c6f431db8af3'}"
      ]
     },
     "execution_count": 55,
     "metadata": {},
     "output_type": "execute_result"
    },
    {
     "name": "stdout",
     "output_type": "stream",
     "text": [
      "{'results': [{'itemId': '6fbc91f34c3c46699639c6f431db8af3', 'success': True}]}\n",
      "\n",
      "Processing series code: 10.5.1 FI_FSI_FSKRTC\n"
     ]
    },
    {
     "data": {
      "text/plain": [
       "'../../data/unsd/2019.Q2.G.01/csv_Indicator_10.5.1_Series_FI_FSI_FSKRTC.csv'"
      ]
     },
     "metadata": {},
     "output_type": "display_data"
    },
    {
     "name": "stdout",
     "output_type": "stream",
     "text": [
      "Searching for FI_FSI_FSKRTC_10_5_1_2019Q2G01\n",
      " -- Item FI_FSI_FSKRTC_10_5_1_2019Q2G01 not found (force find)\n",
      "Adding CSV File to ArcGIS Online....\n",
      "Analyze Feature Service....\n",
      "Publishing Feature Service....\n",
      ".......call generate renderer within publish_csv\n",
      "Update Feature Service Symbology\n",
      "Moving CSV to Open Data Folder\n",
      "Updating Feature Service metadata....\n",
      "Moving Feature Service to Open Data Folder\n"
     ]
    },
    {
     "data": {
      "text/plain": [
       "{'notSharedWith': [], 'itemId': 'cb0c025f7c994e3c83ad77083f3f7177'}"
      ]
     },
     "execution_count": 55,
     "metadata": {},
     "output_type": "execute_result"
    },
    {
     "name": "stdout",
     "output_type": "stream",
     "text": [
      "{'results': [{'itemId': 'cb0c025f7c994e3c83ad77083f3f7177', 'success': True}]}\n",
      "\n",
      "Processing series code: 10.5.1 FI_FSI_FSLS\n"
     ]
    },
    {
     "data": {
      "text/plain": [
       "'../../data/unsd/2019.Q2.G.01/csv_Indicator_10.5.1_Series_FI_FSI_FSLS.csv'"
      ]
     },
     "metadata": {},
     "output_type": "display_data"
    },
    {
     "name": "stdout",
     "output_type": "stream",
     "text": [
      "Searching for FI_FSI_FSLS_10_5_1_2019Q2G01\n",
      " -- Item FI_FSI_FSLS_10_5_1_2019Q2G01 not found (force find)\n",
      "Adding CSV File to ArcGIS Online....\n",
      "Analyze Feature Service....\n",
      "Publishing Feature Service....\n",
      ".......call generate renderer within publish_csv\n",
      "Update Feature Service Symbology\n",
      "Moving CSV to Open Data Folder\n",
      "Updating Feature Service metadata....\n",
      "Moving Feature Service to Open Data Folder\n"
     ]
    },
    {
     "data": {
      "text/plain": [
       "{'notSharedWith': [], 'itemId': '0bdc551edffa46bba99bf30a40b147d4'}"
      ]
     },
     "execution_count": 55,
     "metadata": {},
     "output_type": "execute_result"
    },
    {
     "name": "stdout",
     "output_type": "stream",
     "text": [
      "{'results': [{'itemId': '0bdc551edffa46bba99bf30a40b147d4', 'success': True}]}\n",
      "\n",
      "Processing series code: 10.5.1 FI_FSI_FSSNO\n"
     ]
    },
    {
     "data": {
      "text/plain": [
       "'../../data/unsd/2019.Q2.G.01/csv_Indicator_10.5.1_Series_FI_FSI_FSSNO.csv'"
      ]
     },
     "metadata": {},
     "output_type": "display_data"
    },
    {
     "name": "stdout",
     "output_type": "stream",
     "text": [
      "Searching for FI_FSI_FSSNO_10_5_1_2019Q2G01\n",
      " -- Item FI_FSI_FSSNO_10_5_1_2019Q2G01 not found (force find)\n",
      "Adding CSV File to ArcGIS Online....\n",
      "Analyze Feature Service....\n",
      "Publishing Feature Service....\n",
      ".......call generate renderer within publish_csv\n",
      "Update Feature Service Symbology\n",
      "Moving CSV to Open Data Folder\n",
      "Updating Feature Service metadata....\n",
      "Moving Feature Service to Open Data Folder\n"
     ]
    },
    {
     "data": {
      "text/plain": [
       "{'notSharedWith': [], 'itemId': '0847ff4c5e4a4f089cc2d54958b29ac8'}"
      ]
     },
     "execution_count": 55,
     "metadata": {},
     "output_type": "execute_result"
    },
    {
     "name": "stdout",
     "output_type": "stream",
     "text": [
      "{'results': [{'itemId': '0847ff4c5e4a4f089cc2d54958b29ac8', 'success': True}]}\n",
      "\n",
      "Processing series code: 10.6.1 SG_INT_MBRDEV\n"
     ]
    },
    {
     "data": {
      "text/plain": [
       "'../../data/unsd/2019.Q2.G.01/csv_Indicator_10.6.1_Series_SG_INT_MBRDEV.csv'"
      ]
     },
     "metadata": {},
     "output_type": "display_data"
    },
    {
     "name": "stdout",
     "output_type": "stream",
     "text": [
      "Searching for SG_INT_MBRDEV_10_6_1_2019Q2G01\n",
      " -- Item SG_INT_MBRDEV_10_6_1_2019Q2G01 not found (force find)\n",
      "Adding CSV File to ArcGIS Online....\n",
      "Analyze Feature Service....\n",
      "Publishing Feature Service....\n",
      ".......call generate renderer within publish_csv\n",
      "Update Feature Service Symbology\n",
      "Moving CSV to Open Data Folder\n",
      "Updating Feature Service metadata....\n",
      "Moving Feature Service to Open Data Folder\n"
     ]
    },
    {
     "data": {
      "text/plain": [
       "{'notSharedWith': [], 'itemId': 'a45be09008c0432093ba184381976ecd'}"
      ]
     },
     "execution_count": 55,
     "metadata": {},
     "output_type": "execute_result"
    },
    {
     "name": "stdout",
     "output_type": "stream",
     "text": [
      "{'results': [{'itemId': 'a45be09008c0432093ba184381976ecd', 'success': True}]}\n",
      "\n",
      "Processing series code: 10.6.1 SG_INT_VRTDEV\n"
     ]
    },
    {
     "data": {
      "text/plain": [
       "'../../data/unsd/2019.Q2.G.01/csv_Indicator_10.6.1_Series_SG_INT_VRTDEV.csv'"
      ]
     },
     "metadata": {},
     "output_type": "display_data"
    },
    {
     "name": "stdout",
     "output_type": "stream",
     "text": [
      "Searching for SG_INT_VRTDEV_10_6_1_2019Q2G01\n",
      " -- Item SG_INT_VRTDEV_10_6_1_2019Q2G01 not found (force find)\n",
      "Adding CSV File to ArcGIS Online....\n",
      "Analyze Feature Service....\n",
      "Publishing Feature Service....\n",
      ".......call generate renderer within publish_csv\n",
      "Update Feature Service Symbology\n",
      "Moving CSV to Open Data Folder\n",
      "Updating Feature Service metadata....\n",
      "Moving Feature Service to Open Data Folder\n"
     ]
    },
    {
     "data": {
      "text/plain": [
       "{'notSharedWith': [], 'itemId': '7132975435cc4ca78e7b92c49b147f1f'}"
      ]
     },
     "execution_count": 55,
     "metadata": {},
     "output_type": "execute_result"
    },
    {
     "name": "stdout",
     "output_type": "stream",
     "text": [
      "{'results': [{'itemId': '7132975435cc4ca78e7b92c49b147f1f', 'success': True}]}\n",
      "\n",
      "Processing series code: 10.a.1 TM_TRF_ZERO\n"
     ]
    },
    {
     "data": {
      "text/plain": [
       "'../../data/unsd/2019.Q2.G.01/csv_Indicator_10.a.1_Series_TM_TRF_ZERO.csv'"
      ]
     },
     "metadata": {},
     "output_type": "display_data"
    },
    {
     "name": "stdout",
     "output_type": "stream",
     "text": [
      "Searching for TM_TRF_ZERO_10_a_1_2019Q2G01\n",
      " -- Item TM_TRF_ZERO_10_a_1_2019Q2G01 not found (force find)\n",
      "Adding CSV File to ArcGIS Online....\n",
      "Analyze Feature Service....\n",
      "Publishing Feature Service....\n",
      ".......call generate renderer within publish_csv\n",
      "Update Feature Service Symbology\n",
      "Moving CSV to Open Data Folder\n",
      "Updating Feature Service metadata....\n",
      "Moving Feature Service to Open Data Folder\n"
     ]
    },
    {
     "data": {
      "text/plain": [
       "{'notSharedWith': [], 'itemId': '26f8ebf4667f4a2886daae4229931980'}"
      ]
     },
     "execution_count": 55,
     "metadata": {},
     "output_type": "execute_result"
    },
    {
     "name": "stdout",
     "output_type": "stream",
     "text": [
      "{'results': [{'itemId': '26f8ebf4667f4a2886daae4229931980', 'success': True}]}\n",
      "\n",
      "Processing series code: 10.b.1 DC_TRF_TOTDL\n"
     ]
    },
    {
     "data": {
      "text/plain": [
       "'../../data/unsd/2019.Q2.G.01/csv_Indicator_10.b.1_Series_DC_TRF_TOTDL.csv'"
      ]
     },
     "metadata": {},
     "output_type": "display_data"
    },
    {
     "name": "stdout",
     "output_type": "stream",
     "text": [
      "Searching for DC_TRF_TOTDL_10_b_1_2019Q2G01\n",
      " -- Item DC_TRF_TOTDL_10_b_1_2019Q2G01 not found (force find)\n",
      "Adding CSV File to ArcGIS Online....\n",
      "Analyze Feature Service....\n",
      "Publishing Feature Service....\n",
      ".......call generate renderer within publish_csv\n",
      "Update Feature Service Symbology\n",
      "Moving CSV to Open Data Folder\n",
      "Updating Feature Service metadata....\n",
      "Moving Feature Service to Open Data Folder\n"
     ]
    },
    {
     "data": {
      "text/plain": [
       "{'notSharedWith': [], 'itemId': 'c81cebd990084d4fa1186e14015e0633'}"
      ]
     },
     "execution_count": 55,
     "metadata": {},
     "output_type": "execute_result"
    },
    {
     "name": "stdout",
     "output_type": "stream",
     "text": [
      "{'results': [{'itemId': 'c81cebd990084d4fa1186e14015e0633', 'success': True}]}\n",
      "\n",
      "Processing series code: 10.b.1 DC_TRF_TOTL\n"
     ]
    },
    {
     "data": {
      "text/plain": [
       "'../../data/unsd/2019.Q2.G.01/csv_Indicator_10.b.1_Series_DC_TRF_TOTL.csv'"
      ]
     },
     "metadata": {},
     "output_type": "display_data"
    },
    {
     "name": "stdout",
     "output_type": "stream",
     "text": [
      "Searching for DC_TRF_TOTL_10_b_1_2019Q2G01\n",
      " -- Item DC_TRF_TOTL_10_b_1_2019Q2G01 not found (force find)\n",
      "Adding CSV File to ArcGIS Online....\n",
      "Analyze Feature Service....\n",
      "Publishing Feature Service....\n",
      ".......call generate renderer within publish_csv\n",
      "Update Feature Service Symbology\n",
      "Moving CSV to Open Data Folder\n",
      "Updating Feature Service metadata....\n",
      "Moving Feature Service to Open Data Folder\n"
     ]
    },
    {
     "data": {
      "text/plain": [
       "{'notSharedWith': [], 'itemId': 'cad47be30bb34febbc5540f4d6ba38c4'}"
      ]
     },
     "execution_count": 55,
     "metadata": {},
     "output_type": "execute_result"
    },
    {
     "name": "stdout",
     "output_type": "stream",
     "text": [
      "{'results': [{'itemId': 'cad47be30bb34febbc5540f4d6ba38c4', 'success': True}]}\n",
      "\n",
      "Processing series code: 10.b.1 DC_TRF_TFDV\n"
     ]
    },
    {
     "data": {
      "text/plain": [
       "'../../data/unsd/2019.Q2.G.01/csv_Indicator_10.b.1_Series_DC_TRF_TFDV.csv'"
      ]
     },
     "metadata": {},
     "output_type": "display_data"
    },
    {
     "name": "stdout",
     "output_type": "stream",
     "text": [
      "\n",
      "Processing series code: 10.c.1 SI_RMT_COST\n"
     ]
    },
    {
     "data": {
      "text/plain": [
       "'../../data/unsd/2019.Q2.G.01/csv_Indicator_10.c.1_Series_SI_RMT_COST.csv'"
      ]
     },
     "metadata": {},
     "output_type": "display_data"
    },
    {
     "name": "stdout",
     "output_type": "stream",
     "text": [
      "Searching for SI_RMT_COST_10_c_1_2019Q2G01\n",
      " -- Item SI_RMT_COST_10_c_1_2019Q2G01 not found (force find)\n",
      "Adding CSV File to ArcGIS Online....\n",
      "Analyze Feature Service....\n",
      "Publishing Feature Service....\n",
      ".......call generate renderer within publish_csv\n",
      "Update Feature Service Symbology\n",
      "Moving CSV to Open Data Folder\n",
      "Updating Feature Service metadata....\n",
      "Moving Feature Service to Open Data Folder\n"
     ]
    },
    {
     "data": {
      "text/plain": [
       "{'notSharedWith': [], 'itemId': '4e7339809c024269a02e5a13eef8b383'}"
      ]
     },
     "execution_count": 55,
     "metadata": {},
     "output_type": "execute_result"
    },
    {
     "name": "stdout",
     "output_type": "stream",
     "text": [
      "{'results': [{'itemId': '4e7339809c024269a02e5a13eef8b383', 'success': True}]}\n",
      "\n",
      "Processing series code: 11.1.1 EN_LND_SLUM\n"
     ]
    },
    {
     "data": {
      "text/plain": [
       "'../../data/unsd/2019.Q2.G.01/csv_Indicator_11.1.1_Series_EN_LND_SLUM.csv'"
      ]
     },
     "metadata": {},
     "output_type": "display_data"
    },
    {
     "name": "stdout",
     "output_type": "stream",
     "text": [
      "Searching for EN_LND_SLUM_11_1_1_2019Q2G01\n",
      " -- Item EN_LND_SLUM_11_1_1_2019Q2G01 not found (force find)\n",
      "Adding CSV File to ArcGIS Online....\n",
      "Analyze Feature Service....\n",
      "Publishing Feature Service....\n",
      ".......call generate renderer within publish_csv\n",
      "Update Feature Service Symbology\n",
      "Moving CSV to Open Data Folder\n",
      "Updating Feature Service metadata....\n",
      "Moving Feature Service to Open Data Folder\n"
     ]
    },
    {
     "data": {
      "text/plain": [
       "{'notSharedWith': [], 'itemId': '27d1c1e5ebc6410597603e9bf52829f3'}"
      ]
     },
     "execution_count": 55,
     "metadata": {},
     "output_type": "execute_result"
    },
    {
     "name": "stdout",
     "output_type": "stream",
     "text": [
      "{'results': [{'itemId': '27d1c1e5ebc6410597603e9bf52829f3', 'success': True}]}\n",
      "\n",
      "Processing series code: 11.5.1 VC_DSR_MISS\n"
     ]
    },
    {
     "data": {
      "text/plain": [
       "'../../data/unsd/2019.Q2.G.01/csv_Indicator_11.5.1_Series_VC_DSR_MISS.csv'"
      ]
     },
     "metadata": {},
     "output_type": "display_data"
    },
    {
     "name": "stdout",
     "output_type": "stream",
     "text": [
      "Searching for VC_DSR_MISS_11_5_1_2019Q2G01\n",
      " -- Item VC_DSR_MISS_11_5_1_2019Q2G01 not found (force find)\n",
      "Adding CSV File to ArcGIS Online....\n",
      "Analyze Feature Service....\n",
      "Publishing Feature Service....\n",
      ".......call generate renderer within publish_csv\n",
      "Update Feature Service Symbology\n",
      "Moving CSV to Open Data Folder\n",
      "Updating Feature Service metadata....\n",
      "Moving Feature Service to Open Data Folder\n"
     ]
    },
    {
     "data": {
      "text/plain": [
       "{'notSharedWith': [], 'itemId': '08f03a7cd9ce4c99a73846b9b35091aa'}"
      ]
     },
     "execution_count": 55,
     "metadata": {},
     "output_type": "execute_result"
    },
    {
     "name": "stdout",
     "output_type": "stream",
     "text": [
      "{'results': [{'itemId': '08f03a7cd9ce4c99a73846b9b35091aa', 'success': True}]}\n",
      "\n",
      "Processing series code: 11.5.1 VC_DSR_AFFCT\n"
     ]
    },
    {
     "data": {
      "text/plain": [
       "'../../data/unsd/2019.Q2.G.01/csv_Indicator_11.5.1_Series_VC_DSR_AFFCT.csv'"
      ]
     },
     "metadata": {},
     "output_type": "display_data"
    },
    {
     "name": "stdout",
     "output_type": "stream",
     "text": [
      "Searching for VC_DSR_AFFCT_11_5_1_2019Q2G01\n",
      " -- Item VC_DSR_AFFCT_11_5_1_2019Q2G01 not found (force find)\n",
      "Adding CSV File to ArcGIS Online....\n",
      "Analyze Feature Service....\n",
      "Publishing Feature Service....\n",
      ".......call generate renderer within publish_csv\n",
      "Update Feature Service Symbology\n",
      "Moving CSV to Open Data Folder\n",
      "Updating Feature Service metadata....\n",
      "Moving Feature Service to Open Data Folder\n"
     ]
    },
    {
     "data": {
      "text/plain": [
       "{'notSharedWith': [], 'itemId': 'd77e444c8e5f43e794ea776dc96b299f'}"
      ]
     },
     "execution_count": 55,
     "metadata": {},
     "output_type": "execute_result"
    },
    {
     "name": "stdout",
     "output_type": "stream",
     "text": [
      "{'results': [{'itemId': 'd77e444c8e5f43e794ea776dc96b299f', 'success': True}]}\n",
      "\n",
      "Processing series code: 11.5.1 VC_DSR_MORT\n"
     ]
    },
    {
     "data": {
      "text/plain": [
       "'../../data/unsd/2019.Q2.G.01/csv_Indicator_11.5.1_Series_VC_DSR_MORT.csv'"
      ]
     },
     "metadata": {},
     "output_type": "display_data"
    },
    {
     "name": "stdout",
     "output_type": "stream",
     "text": [
      "Searching for VC_DSR_MORT_11_5_1_2019Q2G01\n",
      " -- Item VC_DSR_MORT_11_5_1_2019Q2G01 not found (force find)\n",
      "Adding CSV File to ArcGIS Online....\n",
      "Analyze Feature Service....\n",
      "Publishing Feature Service....\n",
      ".......call generate renderer within publish_csv\n",
      "Update Feature Service Symbology\n",
      "Moving CSV to Open Data Folder\n",
      "Updating Feature Service metadata....\n",
      "Moving Feature Service to Open Data Folder\n"
     ]
    },
    {
     "data": {
      "text/plain": [
       "{'notSharedWith': [], 'itemId': 'c51384738257474d89b42c81a65838c3'}"
      ]
     },
     "execution_count": 55,
     "metadata": {},
     "output_type": "execute_result"
    },
    {
     "name": "stdout",
     "output_type": "stream",
     "text": [
      "{'results': [{'itemId': 'c51384738257474d89b42c81a65838c3', 'success': True}]}\n",
      "\n",
      "Processing series code: 11.5.1 VC_DSR_MTMP\n"
     ]
    },
    {
     "data": {
      "text/plain": [
       "'../../data/unsd/2019.Q2.G.01/csv_Indicator_11.5.1_Series_VC_DSR_MTMP.csv'"
      ]
     },
     "metadata": {},
     "output_type": "display_data"
    },
    {
     "name": "stdout",
     "output_type": "stream",
     "text": [
      "Searching for VC_DSR_MTMP_11_5_1_2019Q2G01\n",
      " -- Item VC_DSR_MTMP_11_5_1_2019Q2G01 not found (force find)\n",
      "Adding CSV File to ArcGIS Online....\n",
      "Analyze Feature Service....\n",
      "Publishing Feature Service....\n",
      ".......call generate renderer within publish_csv\n",
      "Update Feature Service Symbology\n",
      "Moving CSV to Open Data Folder\n",
      "Updating Feature Service metadata....\n",
      "Moving Feature Service to Open Data Folder\n"
     ]
    },
    {
     "data": {
      "text/plain": [
       "{'notSharedWith': [], 'itemId': '91e102b3ad3d47928dacb980efffb35e'}"
      ]
     },
     "execution_count": 55,
     "metadata": {},
     "output_type": "execute_result"
    },
    {
     "name": "stdout",
     "output_type": "stream",
     "text": [
      "{'results': [{'itemId': '91e102b3ad3d47928dacb980efffb35e', 'success': True}]}\n",
      "\n",
      "Processing series code: 11.5.1 VC_DSR_MTMN\n"
     ]
    },
    {
     "data": {
      "text/plain": [
       "'../../data/unsd/2019.Q2.G.01/csv_Indicator_11.5.1_Series_VC_DSR_MTMN.csv'"
      ]
     },
     "metadata": {},
     "output_type": "display_data"
    },
    {
     "name": "stdout",
     "output_type": "stream",
     "text": [
      "Searching for VC_DSR_MTMN_11_5_1_2019Q2G01\n",
      " -- Item VC_DSR_MTMN_11_5_1_2019Q2G01 not found (force find)\n",
      "Adding CSV File to ArcGIS Online....\n",
      "Analyze Feature Service....\n",
      "Publishing Feature Service....\n",
      ".......call generate renderer within publish_csv\n",
      "Update Feature Service Symbology\n",
      "Moving CSV to Open Data Folder\n",
      "Updating Feature Service metadata....\n",
      "Moving Feature Service to Open Data Folder\n"
     ]
    },
    {
     "data": {
      "text/plain": [
       "{'notSharedWith': [], 'itemId': 'f57c698b72274029a6327984293b266c'}"
      ]
     },
     "execution_count": 55,
     "metadata": {},
     "output_type": "execute_result"
    },
    {
     "name": "stdout",
     "output_type": "stream",
     "text": [
      "{'results': [{'itemId': 'f57c698b72274029a6327984293b266c', 'success': True}]}\n",
      "\n",
      "Processing series code: 11.5.1 VC_DSR_MMHN\n"
     ]
    },
    {
     "data": {
      "text/plain": [
       "'../../data/unsd/2019.Q2.G.01/csv_Indicator_11.5.1_Series_VC_DSR_MMHN.csv'"
      ]
     },
     "metadata": {},
     "output_type": "display_data"
    },
    {
     "name": "stdout",
     "output_type": "stream",
     "text": [
      "Searching for VC_DSR_MMHN_11_5_1_2019Q2G01\n",
      " -- Item VC_DSR_MMHN_11_5_1_2019Q2G01 not found (force find)\n",
      "Adding CSV File to ArcGIS Online....\n",
      "Analyze Feature Service....\n",
      "Publishing Feature Service....\n",
      ".......call generate renderer within publish_csv\n",
      "Update Feature Service Symbology\n",
      "Moving CSV to Open Data Folder\n",
      "Updating Feature Service metadata....\n",
      "Moving Feature Service to Open Data Folder\n"
     ]
    },
    {
     "data": {
      "text/plain": [
       "{'notSharedWith': [], 'itemId': 'f312e282e4e34ff6b873ffb887cff820'}"
      ]
     },
     "execution_count": 55,
     "metadata": {},
     "output_type": "execute_result"
    },
    {
     "name": "stdout",
     "output_type": "stream",
     "text": [
      "{'results': [{'itemId': 'f312e282e4e34ff6b873ffb887cff820', 'success': True}]}\n",
      "\n",
      "Processing series code: 11.5.1 VC_DSR_DAFF\n"
     ]
    },
    {
     "data": {
      "text/plain": [
       "'../../data/unsd/2019.Q2.G.01/csv_Indicator_11.5.1_Series_VC_DSR_DAFF.csv'"
      ]
     },
     "metadata": {},
     "output_type": "display_data"
    },
    {
     "name": "stdout",
     "output_type": "stream",
     "text": [
      "Searching for VC_DSR_DAFF_11_5_1_2019Q2G01\n",
      " -- Item VC_DSR_DAFF_11_5_1_2019Q2G01 not found (force find)\n",
      "Adding CSV File to ArcGIS Online....\n",
      "Analyze Feature Service....\n",
      "Publishing Feature Service....\n",
      ".......call generate renderer within publish_csv\n",
      "Update Feature Service Symbology\n",
      "Moving CSV to Open Data Folder\n",
      "Updating Feature Service metadata....\n",
      "Moving Feature Service to Open Data Folder\n"
     ]
    },
    {
     "data": {
      "text/plain": [
       "{'notSharedWith': [], 'itemId': '8f6b80ff239041f5b6c2fbd17ce67340'}"
      ]
     },
     "execution_count": 55,
     "metadata": {},
     "output_type": "execute_result"
    },
    {
     "name": "stdout",
     "output_type": "stream",
     "text": [
      "{'results': [{'itemId': '8f6b80ff239041f5b6c2fbd17ce67340', 'success': True}]}\n",
      "\n",
      "Processing series code: 11.5.1 VC_DSR_IJILN\n"
     ]
    },
    {
     "data": {
      "text/plain": [
       "'../../data/unsd/2019.Q2.G.01/csv_Indicator_11.5.1_Series_VC_DSR_IJILN.csv'"
      ]
     },
     "metadata": {},
     "output_type": "display_data"
    },
    {
     "name": "stdout",
     "output_type": "stream",
     "text": [
      "Searching for VC_DSR_IJILN_11_5_1_2019Q2G01\n",
      " -- Item VC_DSR_IJILN_11_5_1_2019Q2G01 not found (force find)\n",
      "Adding CSV File to ArcGIS Online....\n",
      "Analyze Feature Service....\n",
      "Publishing Feature Service....\n",
      ".......call generate renderer within publish_csv\n",
      "Update Feature Service Symbology\n",
      "Moving CSV to Open Data Folder\n",
      "Updating Feature Service metadata....\n",
      "Moving Feature Service to Open Data Folder\n"
     ]
    },
    {
     "data": {
      "text/plain": [
       "{'notSharedWith': [], 'itemId': '124d1a5466d04c3893a9d5db99cd26ac'}"
      ]
     },
     "execution_count": 55,
     "metadata": {},
     "output_type": "execute_result"
    },
    {
     "name": "stdout",
     "output_type": "stream",
     "text": [
      "{'results': [{'itemId': '124d1a5466d04c3893a9d5db99cd26ac', 'success': True}]}\n",
      "\n",
      "Processing series code: 11.5.1 VC_DSR_PDAN\n"
     ]
    },
    {
     "data": {
      "text/plain": [
       "'../../data/unsd/2019.Q2.G.01/csv_Indicator_11.5.1_Series_VC_DSR_PDAN.csv'"
      ]
     },
     "metadata": {},
     "output_type": "display_data"
    },
    {
     "name": "stdout",
     "output_type": "stream",
     "text": [
      "Searching for VC_DSR_PDAN_11_5_1_2019Q2G01\n",
      " -- Item VC_DSR_PDAN_11_5_1_2019Q2G01 not found (force find)\n",
      "Adding CSV File to ArcGIS Online....\n",
      "Analyze Feature Service....\n",
      "Publishing Feature Service....\n",
      ".......call generate renderer within publish_csv\n",
      "Update Feature Service Symbology\n",
      "Moving CSV to Open Data Folder\n",
      "Updating Feature Service metadata....\n",
      "Moving Feature Service to Open Data Folder\n"
     ]
    },
    {
     "data": {
      "text/plain": [
       "{'notSharedWith': [], 'itemId': 'a0dc3ce87d87439ea461ec57047f28ea'}"
      ]
     },
     "execution_count": 55,
     "metadata": {},
     "output_type": "execute_result"
    },
    {
     "name": "stdout",
     "output_type": "stream",
     "text": [
      "{'results': [{'itemId': 'a0dc3ce87d87439ea461ec57047f28ea', 'success': True}]}\n",
      "\n",
      "Processing series code: 11.5.1 VC_DSR_DDHN\n"
     ]
    },
    {
     "data": {
      "text/plain": [
       "'../../data/unsd/2019.Q2.G.01/csv_Indicator_11.5.1_Series_VC_DSR_DDHN.csv'"
      ]
     },
     "metadata": {},
     "output_type": "display_data"
    },
    {
     "name": "stdout",
     "output_type": "stream",
     "text": [
      "Searching for VC_DSR_DDHN_11_5_1_2019Q2G01\n",
      " -- Item VC_DSR_DDHN_11_5_1_2019Q2G01 not found (force find)\n",
      "Adding CSV File to ArcGIS Online....\n",
      "Analyze Feature Service....\n",
      "Publishing Feature Service....\n",
      ".......call generate renderer within publish_csv\n",
      "Update Feature Service Symbology\n",
      "Moving CSV to Open Data Folder\n",
      "Updating Feature Service metadata....\n",
      "Moving Feature Service to Open Data Folder\n"
     ]
    },
    {
     "data": {
      "text/plain": [
       "{'notSharedWith': [], 'itemId': '08ff87d0b4b94857adc0238e42d5898f'}"
      ]
     },
     "execution_count": 55,
     "metadata": {},
     "output_type": "execute_result"
    },
    {
     "name": "stdout",
     "output_type": "stream",
     "text": [
      "{'results': [{'itemId': '08ff87d0b4b94857adc0238e42d5898f', 'success': True}]}\n",
      "\n",
      "Processing series code: 11.5.1 VC_DSR_PDYN\n"
     ]
    },
    {
     "data": {
      "text/plain": [
       "'../../data/unsd/2019.Q2.G.01/csv_Indicator_11.5.1_Series_VC_DSR_PDYN.csv'"
      ]
     },
     "metadata": {},
     "output_type": "display_data"
    },
    {
     "name": "stdout",
     "output_type": "stream",
     "text": [
      "Searching for VC_DSR_PDYN_11_5_1_2019Q2G01\n",
      " -- Item VC_DSR_PDYN_11_5_1_2019Q2G01 not found (force find)\n",
      "Adding CSV File to ArcGIS Online....\n",
      "Analyze Feature Service....\n",
      "Publishing Feature Service....\n",
      ".......call generate renderer within publish_csv\n",
      "Update Feature Service Symbology\n",
      "Moving CSV to Open Data Folder\n",
      "Updating Feature Service metadata....\n",
      "Moving Feature Service to Open Data Folder\n"
     ]
    },
    {
     "data": {
      "text/plain": [
       "{'notSharedWith': [], 'itemId': 'cd6329b8039144178edd78e20b4ecdcd'}"
      ]
     },
     "execution_count": 55,
     "metadata": {},
     "output_type": "execute_result"
    },
    {
     "name": "stdout",
     "output_type": "stream",
     "text": [
      "{'results': [{'itemId': 'cd6329b8039144178edd78e20b4ecdcd', 'success': True}]}\n",
      "\n",
      "Processing series code: 11.5.1 VC_DSR_PDLN\n"
     ]
    },
    {
     "data": {
      "text/plain": [
       "'../../data/unsd/2019.Q2.G.01/csv_Indicator_11.5.1_Series_VC_DSR_PDLN.csv'"
      ]
     },
     "metadata": {},
     "output_type": "display_data"
    },
    {
     "name": "stdout",
     "output_type": "stream",
     "text": [
      "Searching for VC_DSR_PDLN_11_5_1_2019Q2G01\n",
      " -- Item VC_DSR_PDLN_11_5_1_2019Q2G01 not found (force find)\n",
      "Adding CSV File to ArcGIS Online....\n",
      "Analyze Feature Service....\n",
      "Publishing Feature Service....\n",
      ".......call generate renderer within publish_csv\n",
      "Update Feature Service Symbology\n",
      "Moving CSV to Open Data Folder\n",
      "Updating Feature Service metadata....\n",
      "Moving Feature Service to Open Data Folder\n"
     ]
    },
    {
     "data": {
      "text/plain": [
       "{'notSharedWith': [], 'itemId': 'be7d0c761ea24e388e266cd26cbb3e75'}"
      ]
     },
     "execution_count": 55,
     "metadata": {},
     "output_type": "execute_result"
    },
    {
     "name": "stdout",
     "output_type": "stream",
     "text": [
      "{'results': [{'itemId': 'be7d0c761ea24e388e266cd26cbb3e75', 'success': True}]}\n",
      "\n",
      "Processing series code: 11.5.1 VC_DSR_DYHN\n"
     ]
    },
    {
     "data": {
      "text/plain": [
       "'../../data/unsd/2019.Q2.G.01/csv_Indicator_11.5.1_Series_VC_DSR_DYHN.csv'"
      ]
     },
     "metadata": {},
     "output_type": "display_data"
    },
    {
     "name": "stdout",
     "output_type": "stream",
     "text": [
      "Searching for VC_DSR_DYHN_11_5_1_2019Q2G01\n",
      " -- Item VC_DSR_DYHN_11_5_1_2019Q2G01 not found (force find)\n",
      "Adding CSV File to ArcGIS Online....\n",
      "Analyze Feature Service....\n",
      "Publishing Feature Service....\n",
      ".......call generate renderer within publish_csv\n",
      "Update Feature Service Symbology\n",
      "Moving CSV to Open Data Folder\n",
      "Updating Feature Service metadata....\n",
      "Moving Feature Service to Open Data Folder\n"
     ]
    },
    {
     "data": {
      "text/plain": [
       "{'notSharedWith': [], 'itemId': '16207bc61aab40fabeae1c294e3efcaa'}"
      ]
     },
     "execution_count": 55,
     "metadata": {},
     "output_type": "execute_result"
    },
    {
     "name": "stdout",
     "output_type": "stream",
     "text": [
      "{'results': [{'itemId': '16207bc61aab40fabeae1c294e3efcaa', 'success': True}]}\n",
      "\n",
      "Processing series code: 11.5.2 VC_DSR_GDPLS\n"
     ]
    },
    {
     "data": {
      "text/plain": [
       "'../../data/unsd/2019.Q2.G.01/csv_Indicator_11.5.2_Series_VC_DSR_GDPLS.csv'"
      ]
     },
     "metadata": {},
     "output_type": "display_data"
    },
    {
     "name": "stdout",
     "output_type": "stream",
     "text": [
      "Searching for VC_DSR_GDPLS_11_5_2_2019Q2G01\n",
      " -- Item VC_DSR_GDPLS_11_5_2_2019Q2G01 not found (force find)\n",
      "Adding CSV File to ArcGIS Online....\n",
      "Analyze Feature Service....\n",
      "Publishing Feature Service....\n",
      ".......call generate renderer within publish_csv\n",
      "Update Feature Service Symbology\n",
      "Moving CSV to Open Data Folder\n",
      "Updating Feature Service metadata....\n",
      "Moving Feature Service to Open Data Folder\n"
     ]
    },
    {
     "data": {
      "text/plain": [
       "{'notSharedWith': [], 'itemId': '4d4cd05607b647ac8fdee63d124f6fc8'}"
      ]
     },
     "execution_count": 55,
     "metadata": {},
     "output_type": "execute_result"
    },
    {
     "name": "stdout",
     "output_type": "stream",
     "text": [
      "{'results': [{'itemId': '4d4cd05607b647ac8fdee63d124f6fc8', 'success': True}]}\n",
      "\n",
      "Processing series code: 11.5.2 VC_DSR_LSGP\n"
     ]
    },
    {
     "data": {
      "text/plain": [
       "'../../data/unsd/2019.Q2.G.01/csv_Indicator_11.5.2_Series_VC_DSR_LSGP.csv'"
      ]
     },
     "metadata": {},
     "output_type": "display_data"
    },
    {
     "name": "stdout",
     "output_type": "stream",
     "text": [
      "Searching for VC_DSR_LSGP_11_5_2_2019Q2G01\n",
      " -- Item VC_DSR_LSGP_11_5_2_2019Q2G01 not found (force find)\n",
      "Adding CSV File to ArcGIS Online....\n",
      "Analyze Feature Service....\n",
      "Publishing Feature Service....\n",
      ".......call generate renderer within publish_csv\n",
      "Update Feature Service Symbology\n",
      "Moving CSV to Open Data Folder\n",
      "Updating Feature Service metadata....\n",
      "Moving Feature Service to Open Data Folder\n"
     ]
    },
    {
     "data": {
      "text/plain": [
       "{'notSharedWith': [], 'itemId': '628353df91b342f187aa99a4b1861ad7'}"
      ]
     },
     "execution_count": 55,
     "metadata": {},
     "output_type": "execute_result"
    },
    {
     "name": "stdout",
     "output_type": "stream",
     "text": [
      "{'results': [{'itemId': '628353df91b342f187aa99a4b1861ad7', 'success': True}]}\n",
      "\n",
      "Processing series code: 11.5.2 VC_DSR_AGLN\n"
     ]
    },
    {
     "data": {
      "text/plain": [
       "'../../data/unsd/2019.Q2.G.01/csv_Indicator_11.5.2_Series_VC_DSR_AGLN.csv'"
      ]
     },
     "metadata": {},
     "output_type": "display_data"
    },
    {
     "name": "stdout",
     "output_type": "stream",
     "text": [
      "Searching for VC_DSR_AGLN_11_5_2_2019Q2G01\n",
      " -- Item VC_DSR_AGLN_11_5_2_2019Q2G01 not found (force find)\n",
      "Adding CSV File to ArcGIS Online....\n",
      "Analyze Feature Service....\n",
      "Publishing Feature Service....\n",
      ".......call generate renderer within publish_csv\n",
      "Update Feature Service Symbology\n",
      "Moving CSV to Open Data Folder\n",
      "Updating Feature Service metadata....\n",
      "Moving Feature Service to Open Data Folder\n"
     ]
    },
    {
     "data": {
      "text/plain": [
       "{'notSharedWith': [], 'itemId': '8b4da370cab94034941ed6f5938ce056'}"
      ]
     },
     "execution_count": 55,
     "metadata": {},
     "output_type": "execute_result"
    },
    {
     "name": "stdout",
     "output_type": "stream",
     "text": [
      "{'results': [{'itemId': '8b4da370cab94034941ed6f5938ce056', 'success': True}]}\n",
      "\n",
      "Processing series code: 11.5.2 VC_DSR_AGLH\n"
     ]
    },
    {
     "data": {
      "text/plain": [
       "'../../data/unsd/2019.Q2.G.01/csv_Indicator_11.5.2_Series_VC_DSR_AGLH.csv'"
      ]
     },
     "metadata": {},
     "output_type": "display_data"
    },
    {
     "name": "stdout",
     "output_type": "stream",
     "text": [
      "Searching for VC_DSR_AGLH_11_5_2_2019Q2G01\n",
      " -- Item VC_DSR_AGLH_11_5_2_2019Q2G01 not found (force find)\n",
      "Adding CSV File to ArcGIS Online....\n",
      "Analyze Feature Service....\n",
      "Publishing Feature Service....\n",
      ".......call generate renderer within publish_csv\n",
      "Update Feature Service Symbology\n",
      "Moving CSV to Open Data Folder\n",
      "Updating Feature Service metadata....\n",
      "Moving Feature Service to Open Data Folder\n"
     ]
    },
    {
     "data": {
      "text/plain": [
       "{'notSharedWith': [], 'itemId': '20fd8c6b1be443fea62d5be6805a1add'}"
      ]
     },
     "execution_count": 55,
     "metadata": {},
     "output_type": "execute_result"
    },
    {
     "name": "stdout",
     "output_type": "stream",
     "text": [
      "{'results': [{'itemId': '20fd8c6b1be443fea62d5be6805a1add', 'success': True}]}\n",
      "\n",
      "Processing series code: 11.5.2 VC_DSR_HOLN\n"
     ]
    },
    {
     "data": {
      "text/plain": [
       "'../../data/unsd/2019.Q2.G.01/csv_Indicator_11.5.2_Series_VC_DSR_HOLN.csv'"
      ]
     },
     "metadata": {},
     "output_type": "display_data"
    },
    {
     "name": "stdout",
     "output_type": "stream",
     "text": [
      "Searching for VC_DSR_HOLN_11_5_2_2019Q2G01\n",
      " -- Item VC_DSR_HOLN_11_5_2_2019Q2G01 not found (force find)\n",
      "Adding CSV File to ArcGIS Online....\n",
      "Analyze Feature Service....\n",
      "Publishing Feature Service....\n",
      ".......call generate renderer within publish_csv\n",
      "Update Feature Service Symbology\n",
      "Moving CSV to Open Data Folder\n",
      "Updating Feature Service metadata....\n",
      "Moving Feature Service to Open Data Folder\n"
     ]
    },
    {
     "data": {
      "text/plain": [
       "{'notSharedWith': [], 'itemId': 'a507f5748e854456ae9cb8adab3f5aef'}"
      ]
     },
     "execution_count": 55,
     "metadata": {},
     "output_type": "execute_result"
    },
    {
     "name": "stdout",
     "output_type": "stream",
     "text": [
      "{'results': [{'itemId': 'a507f5748e854456ae9cb8adab3f5aef', 'success': True}]}\n",
      "\n",
      "Processing series code: 11.5.2 VC_DSR_HOLH\n"
     ]
    },
    {
     "data": {
      "text/plain": [
       "'../../data/unsd/2019.Q2.G.01/csv_Indicator_11.5.2_Series_VC_DSR_HOLH.csv'"
      ]
     },
     "metadata": {},
     "output_type": "display_data"
    },
    {
     "name": "stdout",
     "output_type": "stream",
     "text": [
      "Searching for VC_DSR_HOLH_11_5_2_2019Q2G01\n",
      " -- Item VC_DSR_HOLH_11_5_2_2019Q2G01 not found (force find)\n",
      "Adding CSV File to ArcGIS Online....\n",
      "Analyze Feature Service....\n",
      "Publishing Feature Service....\n",
      ".......call generate renderer within publish_csv\n",
      "Update Feature Service Symbology\n",
      "Moving CSV to Open Data Folder\n",
      "Updating Feature Service metadata....\n",
      "Moving Feature Service to Open Data Folder\n"
     ]
    },
    {
     "data": {
      "text/plain": [
       "{'notSharedWith': [], 'itemId': 'f94bfe31e0e8405da40033bfca16568f'}"
      ]
     },
     "execution_count": 55,
     "metadata": {},
     "output_type": "execute_result"
    },
    {
     "name": "stdout",
     "output_type": "stream",
     "text": [
      "{'results': [{'itemId': 'f94bfe31e0e8405da40033bfca16568f', 'success': True}]}\n",
      "\n",
      "Processing series code: 11.5.2 VC_DSR_CILN\n"
     ]
    },
    {
     "data": {
      "text/plain": [
       "'../../data/unsd/2019.Q2.G.01/csv_Indicator_11.5.2_Series_VC_DSR_CILN.csv'"
      ]
     },
     "metadata": {},
     "output_type": "display_data"
    },
    {
     "name": "stdout",
     "output_type": "stream",
     "text": [
      "Searching for VC_DSR_CILN_11_5_2_2019Q2G01\n",
      " -- Item VC_DSR_CILN_11_5_2_2019Q2G01 not found (force find)\n",
      "Adding CSV File to ArcGIS Online....\n",
      "Analyze Feature Service....\n",
      "Publishing Feature Service....\n",
      ".......call generate renderer within publish_csv\n",
      "Update Feature Service Symbology\n",
      "Moving CSV to Open Data Folder\n",
      "Updating Feature Service metadata....\n",
      "Moving Feature Service to Open Data Folder\n"
     ]
    },
    {
     "data": {
      "text/plain": [
       "{'notSharedWith': [], 'itemId': '75e40a538ea84ce3afac65d58253d26e'}"
      ]
     },
     "execution_count": 55,
     "metadata": {},
     "output_type": "execute_result"
    },
    {
     "name": "stdout",
     "output_type": "stream",
     "text": [
      "{'results': [{'itemId': '75e40a538ea84ce3afac65d58253d26e', 'success': True}]}\n",
      "\n",
      "Processing series code: 11.5.2 VC_DSR_CHLN\n"
     ]
    },
    {
     "data": {
      "text/plain": [
       "'../../data/unsd/2019.Q2.G.01/csv_Indicator_11.5.2_Series_VC_DSR_CHLN.csv'"
      ]
     },
     "metadata": {},
     "output_type": "display_data"
    },
    {
     "name": "stdout",
     "output_type": "stream",
     "text": [
      "Searching for VC_DSR_CHLN_11_5_2_2019Q2G01\n",
      " -- Item VC_DSR_CHLN_11_5_2_2019Q2G01 not found (force find)\n",
      "Adding CSV File to ArcGIS Online....\n",
      "Analyze Feature Service....\n",
      "Publishing Feature Service....\n",
      ".......call generate renderer within publish_csv\n",
      "Update Feature Service Symbology\n",
      "Moving CSV to Open Data Folder\n",
      "Updating Feature Service metadata....\n",
      "Moving Feature Service to Open Data Folder\n"
     ]
    },
    {
     "data": {
      "text/plain": [
       "{'notSharedWith': [], 'itemId': 'bcd52d90603043cc91eb311db2f79e6b'}"
      ]
     },
     "execution_count": 55,
     "metadata": {},
     "output_type": "execute_result"
    },
    {
     "name": "stdout",
     "output_type": "stream",
     "text": [
      "{'results': [{'itemId': 'bcd52d90603043cc91eb311db2f79e6b', 'success': True}]}\n",
      "\n",
      "Processing series code: 11.5.2 VC_DSR_CDAN\n"
     ]
    },
    {
     "data": {
      "text/plain": [
       "'../../data/unsd/2019.Q2.G.01/csv_Indicator_11.5.2_Series_VC_DSR_CDAN.csv'"
      ]
     },
     "metadata": {},
     "output_type": "display_data"
    },
    {
     "name": "stdout",
     "output_type": "stream",
     "text": [
      "Searching for VC_DSR_CDAN_11_5_2_2019Q2G01\n",
      " -- Item VC_DSR_CDAN_11_5_2_2019Q2G01 not found (force find)\n",
      "Adding CSV File to ArcGIS Online....\n",
      "Analyze Feature Service....\n",
      "Publishing Feature Service....\n",
      ".......call generate renderer within publish_csv\n",
      "Update Feature Service Symbology\n",
      "Moving CSV to Open Data Folder\n",
      "Updating Feature Service metadata....\n",
      "Moving Feature Service to Open Data Folder\n"
     ]
    },
    {
     "data": {
      "text/plain": [
       "{'notSharedWith': [], 'itemId': 'b7d67a6cf7984ac899aa83257a435a4e'}"
      ]
     },
     "execution_count": 55,
     "metadata": {},
     "output_type": "execute_result"
    },
    {
     "name": "stdout",
     "output_type": "stream",
     "text": [
      "{'results': [{'itemId': 'b7d67a6cf7984ac899aa83257a435a4e', 'success': True}]}\n",
      "\n",
      "Processing series code: 11.5.2 VC_DSR_HFDN\n"
     ]
    },
    {
     "data": {
      "text/plain": [
       "'../../data/unsd/2019.Q2.G.01/csv_Indicator_11.5.2_Series_VC_DSR_HFDN.csv'"
      ]
     },
     "metadata": {},
     "output_type": "display_data"
    },
    {
     "name": "stdout",
     "output_type": "stream",
     "text": [
      "Searching for VC_DSR_HFDN_11_5_2_2019Q2G01\n",
      " -- Item VC_DSR_HFDN_11_5_2_2019Q2G01 not found (force find)\n",
      "Adding CSV File to ArcGIS Online....\n",
      "Analyze Feature Service....\n",
      "Publishing Feature Service....\n",
      ".......call generate renderer within publish_csv\n",
      "Update Feature Service Symbology\n",
      "Moving CSV to Open Data Folder\n",
      "Updating Feature Service metadata....\n",
      "Moving Feature Service to Open Data Folder\n"
     ]
    },
    {
     "data": {
      "text/plain": [
       "{'notSharedWith': [], 'itemId': '64f705628d81494180f21edb75155e9d'}"
      ]
     },
     "execution_count": 55,
     "metadata": {},
     "output_type": "execute_result"
    },
    {
     "name": "stdout",
     "output_type": "stream",
     "text": [
      "{'results': [{'itemId': '64f705628d81494180f21edb75155e9d', 'success': True}]}\n",
      "\n",
      "Processing series code: 11.5.2 VC_DSR_EFDN\n"
     ]
    },
    {
     "data": {
      "text/plain": [
       "'../../data/unsd/2019.Q2.G.01/csv_Indicator_11.5.2_Series_VC_DSR_EFDN.csv'"
      ]
     },
     "metadata": {},
     "output_type": "display_data"
    },
    {
     "name": "stdout",
     "output_type": "stream",
     "text": [
      "Searching for VC_DSR_EFDN_11_5_2_2019Q2G01\n",
      " -- Item VC_DSR_EFDN_11_5_2_2019Q2G01 not found (force find)\n",
      "Adding CSV File to ArcGIS Online....\n",
      "Analyze Feature Service....\n",
      "Publishing Feature Service....\n",
      ".......call generate renderer within publish_csv\n",
      "Update Feature Service Symbology\n",
      "Moving CSV to Open Data Folder\n",
      "Updating Feature Service metadata....\n",
      "Moving Feature Service to Open Data Folder\n"
     ]
    },
    {
     "data": {
      "text/plain": [
       "{'notSharedWith': [], 'itemId': 'c406461e017f4abd97856c4508ae37d4'}"
      ]
     },
     "execution_count": 55,
     "metadata": {},
     "output_type": "execute_result"
    },
    {
     "name": "stdout",
     "output_type": "stream",
     "text": [
      "{'results': [{'itemId': 'c406461e017f4abd97856c4508ae37d4', 'success': True}]}\n",
      "\n",
      "Processing series code: 11.5.2 VC_DSR_CDYN\n"
     ]
    },
    {
     "data": {
      "text/plain": [
       "'../../data/unsd/2019.Q2.G.01/csv_Indicator_11.5.2_Series_VC_DSR_CDYN.csv'"
      ]
     },
     "metadata": {},
     "output_type": "display_data"
    },
    {
     "name": "stdout",
     "output_type": "stream",
     "text": [
      "Searching for VC_DSR_CDYN_11_5_2_2019Q2G01\n",
      " -- Item VC_DSR_CDYN_11_5_2_2019Q2G01 not found (force find)\n",
      "Adding CSV File to ArcGIS Online....\n",
      "Analyze Feature Service....\n",
      "Publishing Feature Service....\n",
      ".......call generate renderer within publish_csv\n",
      "Update Feature Service Symbology\n",
      "Moving CSV to Open Data Folder\n",
      "Updating Feature Service metadata....\n",
      "Moving Feature Service to Open Data Folder\n"
     ]
    },
    {
     "data": {
      "text/plain": [
       "{'notSharedWith': [], 'itemId': '9e6bb4bcb60c4aefbf942feae545fc17'}"
      ]
     },
     "execution_count": 55,
     "metadata": {},
     "output_type": "execute_result"
    },
    {
     "name": "stdout",
     "output_type": "stream",
     "text": [
      "{'results': [{'itemId': '9e6bb4bcb60c4aefbf942feae545fc17', 'success': True}]}\n",
      "\n",
      "Processing series code: 11.5.2 VC_DSR_BSDN\n"
     ]
    },
    {
     "data": {
      "text/plain": [
       "'../../data/unsd/2019.Q2.G.01/csv_Indicator_11.5.2_Series_VC_DSR_BSDN.csv'"
      ]
     },
     "metadata": {},
     "output_type": "display_data"
    },
    {
     "name": "stdout",
     "output_type": "stream",
     "text": [
      "Searching for VC_DSR_BSDN_11_5_2_2019Q2G01\n",
      " -- Item VC_DSR_BSDN_11_5_2_2019Q2G01 not found (force find)\n",
      "Adding CSV File to ArcGIS Online....\n",
      "Analyze Feature Service....\n",
      "Publishing Feature Service....\n",
      ".......call generate renderer within publish_csv\n",
      "Update Feature Service Symbology\n",
      "Moving CSV to Open Data Folder\n",
      "Updating Feature Service metadata....\n",
      "Moving Feature Service to Open Data Folder\n"
     ]
    },
    {
     "data": {
      "text/plain": [
       "{'notSharedWith': [], 'itemId': 'f8beed76adc741a3a2a25636338fd058'}"
      ]
     },
     "execution_count": 55,
     "metadata": {},
     "output_type": "execute_result"
    },
    {
     "name": "stdout",
     "output_type": "stream",
     "text": [
      "{'results': [{'itemId': 'f8beed76adc741a3a2a25636338fd058', 'success': True}]}\n",
      "\n",
      "Processing series code: 11.5.2 VC_DSR_ESDN\n"
     ]
    },
    {
     "data": {
      "text/plain": [
       "'../../data/unsd/2019.Q2.G.01/csv_Indicator_11.5.2_Series_VC_DSR_ESDN.csv'"
      ]
     },
     "metadata": {},
     "output_type": "display_data"
    },
    {
     "name": "stdout",
     "output_type": "stream",
     "text": [
      "Searching for VC_DSR_ESDN_11_5_2_2019Q2G01\n",
      " -- Item VC_DSR_ESDN_11_5_2_2019Q2G01 not found (force find)\n",
      "Adding CSV File to ArcGIS Online....\n",
      "Analyze Feature Service....\n",
      "Publishing Feature Service....\n",
      ".......call generate renderer within publish_csv\n",
      "Update Feature Service Symbology\n",
      "Moving CSV to Open Data Folder\n",
      "Updating Feature Service metadata....\n",
      "Moving Feature Service to Open Data Folder\n"
     ]
    },
    {
     "data": {
      "text/plain": [
       "{'notSharedWith': [], 'itemId': '5ad1d9a2fbd346afa1cd5ac485144ac9'}"
      ]
     },
     "execution_count": 55,
     "metadata": {},
     "output_type": "execute_result"
    },
    {
     "name": "stdout",
     "output_type": "stream",
     "text": [
      "{'results': [{'itemId': '5ad1d9a2fbd346afa1cd5ac485144ac9', 'success': True}]}\n",
      "\n",
      "Processing series code: 11.5.2 VC_DSR_HSDN\n"
     ]
    },
    {
     "data": {
      "text/plain": [
       "'../../data/unsd/2019.Q2.G.01/csv_Indicator_11.5.2_Series_VC_DSR_HSDN.csv'"
      ]
     },
     "metadata": {},
     "output_type": "display_data"
    },
    {
     "name": "stdout",
     "output_type": "stream",
     "text": [
      "Searching for VC_DSR_HSDN_11_5_2_2019Q2G01\n",
      " -- Item VC_DSR_HSDN_11_5_2_2019Q2G01 not found (force find)\n",
      "Adding CSV File to ArcGIS Online....\n",
      "Analyze Feature Service....\n",
      "Publishing Feature Service....\n",
      ".......call generate renderer within publish_csv\n",
      "Update Feature Service Symbology\n",
      "Moving CSV to Open Data Folder\n",
      "Updating Feature Service metadata....\n",
      "Moving Feature Service to Open Data Folder\n"
     ]
    },
    {
     "data": {
      "text/plain": [
       "{'notSharedWith': [], 'itemId': '74b5b74c4fbb4f2cb677f9879b6dd90a'}"
      ]
     },
     "execution_count": 55,
     "metadata": {},
     "output_type": "execute_result"
    },
    {
     "name": "stdout",
     "output_type": "stream",
     "text": [
      "{'results': [{'itemId': '74b5b74c4fbb4f2cb677f9879b6dd90a', 'success': True}]}\n",
      "\n",
      "Processing series code: 11.5.2 VC_DSR_OBDN\n"
     ]
    },
    {
     "data": {
      "text/plain": [
       "'../../data/unsd/2019.Q2.G.01/csv_Indicator_11.5.2_Series_VC_DSR_OBDN.csv'"
      ]
     },
     "metadata": {},
     "output_type": "display_data"
    },
    {
     "name": "stdout",
     "output_type": "stream",
     "text": [
      "Searching for VC_DSR_OBDN_11_5_2_2019Q2G01\n",
      " -- Item VC_DSR_OBDN_11_5_2_2019Q2G01 not found (force find)\n",
      "Adding CSV File to ArcGIS Online....\n",
      "Analyze Feature Service....\n",
      "Publishing Feature Service....\n",
      ".......call generate renderer within publish_csv\n",
      "Update Feature Service Symbology\n",
      "Moving CSV to Open Data Folder\n",
      "Updating Feature Service metadata....\n",
      "Moving Feature Service to Open Data Folder\n"
     ]
    },
    {
     "data": {
      "text/plain": [
       "{'notSharedWith': [], 'itemId': '27cfd147df4a4e23a2ab74342e2b0279'}"
      ]
     },
     "execution_count": 55,
     "metadata": {},
     "output_type": "execute_result"
    },
    {
     "name": "stdout",
     "output_type": "stream",
     "text": [
      "{'results': [{'itemId': '27cfd147df4a4e23a2ab74342e2b0279', 'success': True}]}\n",
      "\n",
      "Processing series code: 11.5.2 VC_DSR_DDPA\n"
     ]
    },
    {
     "data": {
      "text/plain": [
       "'../../data/unsd/2019.Q2.G.01/csv_Indicator_11.5.2_Series_VC_DSR_DDPA.csv'"
      ]
     },
     "metadata": {},
     "output_type": "display_data"
    },
    {
     "name": "stdout",
     "output_type": "stream",
     "text": [
      "Searching for VC_DSR_DDPA_11_5_2_2019Q2G01\n",
      " -- Item VC_DSR_DDPA_11_5_2_2019Q2G01 not found (force find)\n",
      "Adding CSV File to ArcGIS Online....\n",
      "Analyze Feature Service....\n",
      "Publishing Feature Service....\n",
      ".......call generate renderer within publish_csv\n",
      "Update Feature Service Symbology\n",
      "Moving CSV to Open Data Folder\n",
      "Updating Feature Service metadata....\n",
      "Moving Feature Service to Open Data Folder\n"
     ]
    },
    {
     "data": {
      "text/plain": [
       "{'notSharedWith': [], 'itemId': '74840644d3084e38a76803c8f4ef3a7f'}"
      ]
     },
     "execution_count": 55,
     "metadata": {},
     "output_type": "execute_result"
    },
    {
     "name": "stdout",
     "output_type": "stream",
     "text": [
      "{'results': [{'itemId': '74840644d3084e38a76803c8f4ef3a7f', 'success': True}]}\n",
      "\n",
      "Processing series code: 11.6.1 EN_REF_WASCOL\n"
     ]
    },
    {
     "data": {
      "text/plain": [
       "'../../data/unsd/2019.Q2.G.01/csv_Indicator_11.6.1_Series_EN_REF_WASCOL.csv'"
      ]
     },
     "metadata": {},
     "output_type": "display_data"
    },
    {
     "name": "stdout",
     "output_type": "stream",
     "text": [
      "Searching for EN_REF_WASCOL_11_6_1_2019Q2G01\n",
      " -- Item EN_REF_WASCOL_11_6_1_2019Q2G01 not found (force find)\n",
      "Adding CSV File to ArcGIS Online....\n",
      "Analyze Feature Service....\n",
      "Publishing Feature Service....\n",
      ".......call generate renderer within publish_csv\n",
      "Update Feature Service Symbology\n",
      "Moving CSV to Open Data Folder\n",
      "Updating Feature Service metadata....\n",
      "Moving Feature Service to Open Data Folder\n"
     ]
    },
    {
     "data": {
      "text/plain": [
       "{'notSharedWith': [], 'itemId': 'a04b2a30d9a243b0a48d46fa188bcf84'}"
      ]
     },
     "execution_count": 55,
     "metadata": {},
     "output_type": "execute_result"
    },
    {
     "name": "stdout",
     "output_type": "stream",
     "text": [
      "{'results': [{'itemId': 'a04b2a30d9a243b0a48d46fa188bcf84', 'success': True}]}\n",
      "\n",
      "Processing series code: 11.6.2 EN_ATM_PM25\n"
     ]
    },
    {
     "data": {
      "text/plain": [
       "'../../data/unsd/2019.Q2.G.01/csv_Indicator_11.6.2_Series_EN_ATM_PM25.csv'"
      ]
     },
     "metadata": {},
     "output_type": "display_data"
    },
    {
     "name": "stdout",
     "output_type": "stream",
     "text": [
      "Searching for EN_ATM_PM25_11_6_2_2019Q2G01\n",
      " -- Item EN_ATM_PM25_11_6_2_2019Q2G01 not found (force find)\n",
      "Adding CSV File to ArcGIS Online....\n",
      "Analyze Feature Service....\n",
      "Publishing Feature Service....\n",
      ".......call generate renderer within publish_csv\n",
      "Update Feature Service Symbology\n",
      "Moving CSV to Open Data Folder\n",
      "Updating Feature Service metadata....\n",
      "Moving Feature Service to Open Data Folder\n"
     ]
    },
    {
     "data": {
      "text/plain": [
       "{'notSharedWith': [], 'itemId': 'e9df4c5818464ca89b1f0cc403897836'}"
      ]
     },
     "execution_count": 55,
     "metadata": {},
     "output_type": "execute_result"
    },
    {
     "name": "stdout",
     "output_type": "stream",
     "text": [
      "{'results': [{'itemId': 'e9df4c5818464ca89b1f0cc403897836', 'success': True}]}\n",
      "\n",
      "Processing series code: 11.b.1 SG_DSR_LGRGSR\n"
     ]
    },
    {
     "data": {
      "text/plain": [
       "'../../data/unsd/2019.Q2.G.01/csv_Indicator_11.b.1_Series_SG_DSR_LGRGSR.csv'"
      ]
     },
     "metadata": {},
     "output_type": "display_data"
    },
    {
     "name": "stdout",
     "output_type": "stream",
     "text": [
      "Searching for SG_DSR_LGRGSR_11_b_1_2019Q2G01\n",
      " -- Item SG_DSR_LGRGSR_11_b_1_2019Q2G01 not found (force find)\n",
      "Adding CSV File to ArcGIS Online....\n",
      "Analyze Feature Service....\n",
      "Publishing Feature Service....\n",
      ".......call generate renderer within publish_csv\n",
      "Update Feature Service Symbology\n",
      "Moving CSV to Open Data Folder\n",
      "Updating Feature Service metadata....\n",
      "Moving Feature Service to Open Data Folder\n"
     ]
    },
    {
     "data": {
      "text/plain": [
       "{'notSharedWith': [], 'itemId': '1f98d95a7cb74cb3892cac937a2f65d1'}"
      ]
     },
     "execution_count": 55,
     "metadata": {},
     "output_type": "execute_result"
    },
    {
     "name": "stdout",
     "output_type": "stream",
     "text": [
      "{'results': [{'itemId': '1f98d95a7cb74cb3892cac937a2f65d1', 'success': True}]}\n",
      "\n",
      "Processing series code: 11.b.2 SG_DSR_SILS\n"
     ]
    },
    {
     "data": {
      "text/plain": [
       "'../../data/unsd/2019.Q2.G.01/csv_Indicator_11.b.2_Series_SG_DSR_SILS.csv'"
      ]
     },
     "metadata": {},
     "output_type": "display_data"
    },
    {
     "name": "stdout",
     "output_type": "stream",
     "text": [
      "Searching for SG_DSR_SILS_11_b_2_2019Q2G01\n",
      " -- Item SG_DSR_SILS_11_b_2_2019Q2G01 not found (force find)\n",
      "Adding CSV File to ArcGIS Online....\n",
      "Analyze Feature Service....\n",
      "Publishing Feature Service....\n",
      ".......call generate renderer within publish_csv\n",
      "Update Feature Service Symbology\n",
      "Moving CSV to Open Data Folder\n",
      "Updating Feature Service metadata....\n",
      "Moving Feature Service to Open Data Folder\n"
     ]
    },
    {
     "data": {
      "text/plain": [
       "{'notSharedWith': [], 'itemId': 'd2bf1f10ddae4f81a19d45e9756dc702'}"
      ]
     },
     "execution_count": 55,
     "metadata": {},
     "output_type": "execute_result"
    },
    {
     "name": "stdout",
     "output_type": "stream",
     "text": [
      "{'results': [{'itemId': 'd2bf1f10ddae4f81a19d45e9756dc702', 'success': True}]}\n",
      "\n",
      "Processing series code: 11.b.2 SG_DSR_SILN\n"
     ]
    },
    {
     "data": {
      "text/plain": [
       "'../../data/unsd/2019.Q2.G.01/csv_Indicator_11.b.2_Series_SG_DSR_SILN.csv'"
      ]
     },
     "metadata": {},
     "output_type": "display_data"
    },
    {
     "name": "stdout",
     "output_type": "stream",
     "text": [
      "Searching for SG_DSR_SILN_11_b_2_2019Q2G01\n",
      " -- Item SG_DSR_SILN_11_b_2_2019Q2G01 not found (force find)\n",
      "Adding CSV File to ArcGIS Online....\n",
      "Analyze Feature Service....\n",
      "Publishing Feature Service....\n",
      ".......call generate renderer within publish_csv\n",
      "Update Feature Service Symbology\n",
      "Moving CSV to Open Data Folder\n",
      "Updating Feature Service metadata....\n",
      "Moving Feature Service to Open Data Folder\n"
     ]
    },
    {
     "data": {
      "text/plain": [
       "{'notSharedWith': [], 'itemId': '3db2a05b1d04428aa7be3bd2863ca9b4'}"
      ]
     },
     "execution_count": 55,
     "metadata": {},
     "output_type": "execute_result"
    },
    {
     "name": "stdout",
     "output_type": "stream",
     "text": [
      "{'results': [{'itemId': '3db2a05b1d04428aa7be3bd2863ca9b4', 'success': True}]}\n",
      "\n",
      "Processing series code: 11.b.2 SG_GOV_LOGV\n"
     ]
    },
    {
     "data": {
      "text/plain": [
       "'../../data/unsd/2019.Q2.G.01/csv_Indicator_11.b.2_Series_SG_GOV_LOGV.csv'"
      ]
     },
     "metadata": {},
     "output_type": "display_data"
    },
    {
     "name": "stdout",
     "output_type": "stream",
     "text": [
      "Searching for SG_GOV_LOGV_11_b_2_2019Q2G01\n",
      " -- Item SG_GOV_LOGV_11_b_2_2019Q2G01 not found (force find)\n",
      "Adding CSV File to ArcGIS Online....\n",
      "Analyze Feature Service....\n",
      "Publishing Feature Service....\n",
      ".......call generate renderer within publish_csv\n",
      "Update Feature Service Symbology\n",
      "Moving CSV to Open Data Folder\n",
      "Updating Feature Service metadata....\n",
      "Moving Feature Service to Open Data Folder\n"
     ]
    },
    {
     "data": {
      "text/plain": [
       "{'notSharedWith': [], 'itemId': 'bf61af28a764484eab75e6b91a462cf0'}"
      ]
     },
     "execution_count": 55,
     "metadata": {},
     "output_type": "execute_result"
    },
    {
     "name": "stdout",
     "output_type": "stream",
     "text": [
      "{'results': [{'itemId': 'bf61af28a764484eab75e6b91a462cf0', 'success': True}]}\n",
      "\n",
      "Processing series code: 12.1.1 SG_SCP_CNTRY\n"
     ]
    },
    {
     "data": {
      "text/plain": [
       "'../../data/unsd/2019.Q2.G.01/csv_Indicator_12.1.1_Series_SG_SCP_CNTRY.csv'"
      ]
     },
     "metadata": {},
     "output_type": "display_data"
    },
    {
     "name": "stdout",
     "output_type": "stream",
     "text": [
      "Searching for SG_SCP_CNTRY_12_1_1_2019Q2G01\n",
      " -- Item SG_SCP_CNTRY_12_1_1_2019Q2G01 not found (force find)\n",
      "Adding CSV File to ArcGIS Online....\n",
      "Analyze Feature Service....\n",
      "Publishing Feature Service....\n",
      ".......call generate renderer within publish_csv\n",
      "Update Feature Service Symbology\n",
      "Moving CSV to Open Data Folder\n",
      "Updating Feature Service metadata....\n",
      "Moving Feature Service to Open Data Folder\n"
     ]
    },
    {
     "data": {
      "text/plain": [
       "{'notSharedWith': [], 'itemId': '7f1da9a0403247b28d6e2a57613cf6d3'}"
      ]
     },
     "execution_count": 55,
     "metadata": {},
     "output_type": "execute_result"
    },
    {
     "name": "stdout",
     "output_type": "stream",
     "text": [
      "{'results': [{'itemId': '7f1da9a0403247b28d6e2a57613cf6d3', 'success': True}]}\n",
      "\n",
      "Processing series code: 12.1.1 SG_SCP_CORMEC\n"
     ]
    },
    {
     "data": {
      "text/plain": [
       "'../../data/unsd/2019.Q2.G.01/csv_Indicator_12.1.1_Series_SG_SCP_CORMEC.csv'"
      ]
     },
     "metadata": {},
     "output_type": "display_data"
    },
    {
     "name": "stdout",
     "output_type": "stream",
     "text": [
      "Searching for SG_SCP_CORMEC_12_1_1_2019Q2G01\n",
      " -- Item SG_SCP_CORMEC_12_1_1_2019Q2G01 not found (force find)\n",
      "Adding CSV File to ArcGIS Online....\n",
      "Analyze Feature Service....\n",
      "Publishing Feature Service....\n",
      ".......call generate renderer within publish_csv\n",
      "Update Feature Service Symbology\n",
      "Moving CSV to Open Data Folder\n",
      "Updating Feature Service metadata....\n",
      "Moving Feature Service to Open Data Folder\n"
     ]
    },
    {
     "data": {
      "text/plain": [
       "{'notSharedWith': [], 'itemId': 'f917cc73ba814f26a14ced3a22ddb9b6'}"
      ]
     },
     "execution_count": 55,
     "metadata": {},
     "output_type": "execute_result"
    },
    {
     "name": "stdout",
     "output_type": "stream",
     "text": [
      "{'results': [{'itemId': 'f917cc73ba814f26a14ced3a22ddb9b6', 'success': True}]}\n",
      "\n",
      "Processing series code: 12.1.1 SG_SCP_MACPOL\n"
     ]
    },
    {
     "data": {
      "text/plain": [
       "'../../data/unsd/2019.Q2.G.01/csv_Indicator_12.1.1_Series_SG_SCP_MACPOL.csv'"
      ]
     },
     "metadata": {},
     "output_type": "display_data"
    },
    {
     "name": "stdout",
     "output_type": "stream",
     "text": [
      "Searching for SG_SCP_MACPOL_12_1_1_2019Q2G01\n",
      " -- Item SG_SCP_MACPOL_12_1_1_2019Q2G01 not found (force find)\n",
      "Adding CSV File to ArcGIS Online....\n",
      "Analyze Feature Service....\n",
      "Publishing Feature Service....\n",
      ".......call generate renderer within publish_csv\n",
      "Update Feature Service Symbology\n",
      "Moving CSV to Open Data Folder\n",
      "Updating Feature Service metadata....\n",
      "Moving Feature Service to Open Data Folder\n"
     ]
    },
    {
     "data": {
      "text/plain": [
       "{'notSharedWith': [], 'itemId': '1941d597b1dc4ec293e38261622e0d71'}"
      ]
     },
     "execution_count": 55,
     "metadata": {},
     "output_type": "execute_result"
    },
    {
     "name": "stdout",
     "output_type": "stream",
     "text": [
      "{'results': [{'itemId': '1941d597b1dc4ec293e38261622e0d71', 'success': True}]}\n",
      "\n",
      "Processing series code: 12.1.1 SG_SCP_POLINS\n"
     ]
    },
    {
     "data": {
      "text/plain": [
       "'../../data/unsd/2019.Q2.G.01/csv_Indicator_12.1.1_Series_SG_SCP_POLINS.csv'"
      ]
     },
     "metadata": {},
     "output_type": "display_data"
    },
    {
     "name": "stdout",
     "output_type": "stream",
     "text": [
      "Searching for SG_SCP_POLINS_12_1_1_2019Q2G01\n",
      " -- Item SG_SCP_POLINS_12_1_1_2019Q2G01 not found (force find)\n",
      "Adding CSV File to ArcGIS Online....\n",
      "Analyze Feature Service....\n",
      "Publishing Feature Service....\n",
      ".......call generate renderer within publish_csv\n",
      "Update Feature Service Symbology\n",
      "Moving CSV to Open Data Folder\n",
      "Updating Feature Service metadata....\n",
      "Moving Feature Service to Open Data Folder\n"
     ]
    },
    {
     "data": {
      "text/plain": [
       "{'notSharedWith': [], 'itemId': '95d9fecb6f4141d9b43c1285c9f5de9a'}"
      ]
     },
     "execution_count": 55,
     "metadata": {},
     "output_type": "execute_result"
    },
    {
     "name": "stdout",
     "output_type": "stream",
     "text": [
      "{'results': [{'itemId': '95d9fecb6f4141d9b43c1285c9f5de9a', 'success': True}]}\n",
      "\n",
      "Processing series code: 12.2.1 EN_MAT_FTPRPG\n"
     ]
    },
    {
     "data": {
      "text/plain": [
       "'../../data/unsd/2019.Q2.G.01/csv_Indicator_12.2.1_Series_EN_MAT_FTPRPG.csv'"
      ]
     },
     "metadata": {},
     "output_type": "display_data"
    },
    {
     "name": "stdout",
     "output_type": "stream",
     "text": [
      "\n",
      "Processing series code: 12.2.1 EN_MAT_FTPRPC\n"
     ]
    },
    {
     "data": {
      "text/plain": [
       "'../../data/unsd/2019.Q2.G.01/csv_Indicator_12.2.1_Series_EN_MAT_FTPRPC.csv'"
      ]
     },
     "metadata": {},
     "output_type": "display_data"
    },
    {
     "name": "stdout",
     "output_type": "stream",
     "text": [
      "\n",
      "Processing series code: 12.2.1 EN_MAT_FTPRTN\n"
     ]
    },
    {
     "data": {
      "text/plain": [
       "'../../data/unsd/2019.Q2.G.01/csv_Indicator_12.2.1_Series_EN_MAT_FTPRTN.csv'"
      ]
     },
     "metadata": {},
     "output_type": "display_data"
    },
    {
     "name": "stdout",
     "output_type": "stream",
     "text": [
      "\n",
      "Processing series code: 12.2.2 EN_MAT_DOMCMPT\n"
     ]
    },
    {
     "data": {
      "text/plain": [
       "'../../data/unsd/2019.Q2.G.01/csv_Indicator_12.2.2_Series_EN_MAT_DOMCMPT.csv'"
      ]
     },
     "metadata": {},
     "output_type": "display_data"
    },
    {
     "name": "stdout",
     "output_type": "stream",
     "text": [
      "Searching for EN_MAT_DOMCMPT_12_2_2_2019Q2G01\n",
      " -- Item EN_MAT_DOMCMPT_12_2_2_2019Q2G01 not found (force find)\n",
      "Adding CSV File to ArcGIS Online....\n",
      "Analyze Feature Service....\n",
      "Publishing Feature Service....\n",
      ".......call generate renderer within publish_csv\n",
      "Update Feature Service Symbology\n",
      "Moving CSV to Open Data Folder\n",
      "Updating Feature Service metadata....\n",
      "Moving Feature Service to Open Data Folder\n"
     ]
    },
    {
     "data": {
      "text/plain": [
       "{'notSharedWith': [], 'itemId': '0859fd20feb04aac9bd04b3054231b8c'}"
      ]
     },
     "execution_count": 55,
     "metadata": {},
     "output_type": "execute_result"
    },
    {
     "name": "stdout",
     "output_type": "stream",
     "text": [
      "{'results': [{'itemId': '0859fd20feb04aac9bd04b3054231b8c', 'success': True}]}\n",
      "\n",
      "Processing series code: 12.2.2 EN_MAT_DOMCMPG\n"
     ]
    },
    {
     "data": {
      "text/plain": [
       "'../../data/unsd/2019.Q2.G.01/csv_Indicator_12.2.2_Series_EN_MAT_DOMCMPG.csv'"
      ]
     },
     "metadata": {},
     "output_type": "display_data"
    },
    {
     "name": "stdout",
     "output_type": "stream",
     "text": [
      "Searching for EN_MAT_DOMCMPG_12_2_2_2019Q2G01\n",
      " -- Item EN_MAT_DOMCMPG_12_2_2_2019Q2G01 not found (force find)\n",
      "Adding CSV File to ArcGIS Online....\n",
      "Analyze Feature Service....\n",
      "Publishing Feature Service....\n",
      ".......call generate renderer within publish_csv\n",
      "Update Feature Service Symbology\n",
      "Moving CSV to Open Data Folder\n",
      "Updating Feature Service metadata....\n",
      "Moving Feature Service to Open Data Folder\n"
     ]
    },
    {
     "data": {
      "text/plain": [
       "{'notSharedWith': [], 'itemId': '7794a89241654512bc4117205a9d6d00'}"
      ]
     },
     "execution_count": 55,
     "metadata": {},
     "output_type": "execute_result"
    },
    {
     "name": "stdout",
     "output_type": "stream",
     "text": [
      "{'results': [{'itemId': '7794a89241654512bc4117205a9d6d00', 'success': True}]}\n",
      "\n",
      "Processing series code: 12.2.2 EN_MAT_DOMCMPC\n"
     ]
    },
    {
     "data": {
      "text/plain": [
       "'../../data/unsd/2019.Q2.G.01/csv_Indicator_12.2.2_Series_EN_MAT_DOMCMPC.csv'"
      ]
     },
     "metadata": {},
     "output_type": "display_data"
    },
    {
     "name": "stdout",
     "output_type": "stream",
     "text": [
      "Searching for EN_MAT_DOMCMPC_12_2_2_2019Q2G01\n",
      " -- Item EN_MAT_DOMCMPC_12_2_2_2019Q2G01 not found (force find)\n",
      "Adding CSV File to ArcGIS Online....\n",
      "Analyze Feature Service....\n",
      "Publishing Feature Service....\n",
      ".......call generate renderer within publish_csv\n",
      "Update Feature Service Symbology\n",
      "Moving CSV to Open Data Folder\n",
      "Updating Feature Service metadata....\n",
      "Moving Feature Service to Open Data Folder\n"
     ]
    },
    {
     "data": {
      "text/plain": [
       "{'notSharedWith': [], 'itemId': 'b224da3fb5df4cbe83dc8b20de71dc89'}"
      ]
     },
     "execution_count": 55,
     "metadata": {},
     "output_type": "execute_result"
    },
    {
     "name": "stdout",
     "output_type": "stream",
     "text": [
      "{'results': [{'itemId': 'b224da3fb5df4cbe83dc8b20de71dc89', 'success': True}]}\n",
      "\n",
      "Processing series code: 12.4.1 SG_HAZ_CMRMNTRL\n"
     ]
    },
    {
     "data": {
      "text/plain": [
       "'../../data/unsd/2019.Q2.G.01/csv_Indicator_12.4.1_Series_SG_HAZ_CMRMNTRL.csv'"
      ]
     },
     "metadata": {},
     "output_type": "display_data"
    },
    {
     "name": "stdout",
     "output_type": "stream",
     "text": [
      "Searching for SG_HAZ_CMRMNTRL_12_4_1_2019Q2G01\n",
      " -- Item SG_HAZ_CMRMNTRL_12_4_1_2019Q2G01 not found (force find)\n",
      "Adding CSV File to ArcGIS Online....\n",
      "Analyze Feature Service....\n",
      "Publishing Feature Service....\n",
      ".......call generate renderer within publish_csv\n",
      "Update Feature Service Symbology\n",
      "Moving CSV to Open Data Folder\n",
      "Updating Feature Service metadata....\n",
      "Moving Feature Service to Open Data Folder\n"
     ]
    },
    {
     "data": {
      "text/plain": [
       "{'notSharedWith': [], 'itemId': '6a7f91dd9e81431a8da4d4ef6dcbd7c7'}"
      ]
     },
     "execution_count": 55,
     "metadata": {},
     "output_type": "execute_result"
    },
    {
     "name": "stdout",
     "output_type": "stream",
     "text": [
      "{'results': [{'itemId': '6a7f91dd9e81431a8da4d4ef6dcbd7c7', 'success': True}]}\n",
      "\n",
      "Processing series code: 12.4.1 SG_HAZ_CMRROTDAM\n"
     ]
    },
    {
     "data": {
      "text/plain": [
       "'../../data/unsd/2019.Q2.G.01/csv_Indicator_12.4.1_Series_SG_HAZ_CMRROTDAM.csv'"
      ]
     },
     "metadata": {},
     "output_type": "display_data"
    },
    {
     "name": "stdout",
     "output_type": "stream",
     "text": [
      "Searching for SG_HAZ_CMRROTDAM_12_4_1_2019Q2G01\n",
      " -- Item SG_HAZ_CMRROTDAM_12_4_1_2019Q2G01 not found (force find)\n",
      "Adding CSV File to ArcGIS Online....\n",
      "Analyze Feature Service....\n",
      "Publishing Feature Service....\n",
      ".......call generate renderer within publish_csv\n",
      "Update Feature Service Symbology\n",
      "Moving CSV to Open Data Folder\n",
      "Updating Feature Service metadata....\n",
      "Moving Feature Service to Open Data Folder\n"
     ]
    },
    {
     "data": {
      "text/plain": [
       "{'notSharedWith': [], 'itemId': 'eb591af45e0a42fdb5eddb08b9147e05'}"
      ]
     },
     "execution_count": 55,
     "metadata": {},
     "output_type": "execute_result"
    },
    {
     "name": "stdout",
     "output_type": "stream",
     "text": [
      "{'results': [{'itemId': 'eb591af45e0a42fdb5eddb08b9147e05', 'success': True}]}\n",
      "\n",
      "Processing series code: 12.4.1 SG_HAZ_CMRBASEL\n"
     ]
    },
    {
     "data": {
      "text/plain": [
       "'../../data/unsd/2019.Q2.G.01/csv_Indicator_12.4.1_Series_SG_HAZ_CMRBASEL.csv'"
      ]
     },
     "metadata": {},
     "output_type": "display_data"
    },
    {
     "name": "stdout",
     "output_type": "stream",
     "text": [
      "Searching for SG_HAZ_CMRBASEL_12_4_1_2019Q2G01\n",
      " -- Item SG_HAZ_CMRBASEL_12_4_1_2019Q2G01 not found (force find)\n",
      "Adding CSV File to ArcGIS Online....\n",
      "Analyze Feature Service....\n",
      "Publishing Feature Service....\n",
      ".......call generate renderer within publish_csv\n",
      "Update Feature Service Symbology\n",
      "Moving CSV to Open Data Folder\n",
      "Updating Feature Service metadata....\n",
      "Moving Feature Service to Open Data Folder\n"
     ]
    },
    {
     "data": {
      "text/plain": [
       "{'notSharedWith': [], 'itemId': 'e857020899fb4cf6b5510c76e34d1223'}"
      ]
     },
     "execution_count": 55,
     "metadata": {},
     "output_type": "execute_result"
    },
    {
     "name": "stdout",
     "output_type": "stream",
     "text": [
      "{'results': [{'itemId': 'e857020899fb4cf6b5510c76e34d1223', 'success': True}]}\n",
      "\n",
      "Processing series code: 12.4.1 SG_HAZ_CMRSTHOLM\n"
     ]
    },
    {
     "data": {
      "text/plain": [
       "'../../data/unsd/2019.Q2.G.01/csv_Indicator_12.4.1_Series_SG_HAZ_CMRSTHOLM.csv'"
      ]
     },
     "metadata": {},
     "output_type": "display_data"
    },
    {
     "name": "stdout",
     "output_type": "stream",
     "text": [
      "Searching for SG_HAZ_CMRSTHOLM_12_4_1_2019Q2G01\n",
      " -- Item SG_HAZ_CMRSTHOLM_12_4_1_2019Q2G01 not found (force find)\n",
      "Adding CSV File to ArcGIS Online....\n",
      "Analyze Feature Service....\n",
      "Publishing Feature Service....\n",
      ".......call generate renderer within publish_csv\n",
      "Update Feature Service Symbology\n",
      "Moving CSV to Open Data Folder\n",
      "Updating Feature Service metadata....\n",
      "Moving Feature Service to Open Data Folder\n"
     ]
    },
    {
     "data": {
      "text/plain": [
       "{'notSharedWith': [], 'itemId': '13b57485f17743209a85d36b2dc399c6'}"
      ]
     },
     "execution_count": 55,
     "metadata": {},
     "output_type": "execute_result"
    },
    {
     "name": "stdout",
     "output_type": "stream",
     "text": [
      "{'results': [{'itemId': '13b57485f17743209a85d36b2dc399c6', 'success': True}]}\n",
      "\n",
      "Processing series code: 12.c.1 ER_FFS_PRTSST\n"
     ]
    },
    {
     "data": {
      "text/plain": [
       "'../../data/unsd/2019.Q2.G.01/csv_Indicator_12.c.1_Series_ER_FFS_PRTSST.csv'"
      ]
     },
     "metadata": {},
     "output_type": "display_data"
    },
    {
     "name": "stdout",
     "output_type": "stream",
     "text": [
      "Searching for ER_FFS_PRTSST_12_c_1_2019Q2G01\n",
      " -- Item ER_FFS_PRTSST_12_c_1_2019Q2G01 not found (force find)\n",
      "Adding CSV File to ArcGIS Online....\n",
      "Analyze Feature Service....\n",
      "Publishing Feature Service....\n",
      ".......call generate renderer within publish_csv\n",
      "Update Feature Service Symbology\n",
      "Moving CSV to Open Data Folder\n",
      "Updating Feature Service metadata....\n",
      "Moving Feature Service to Open Data Folder\n"
     ]
    },
    {
     "data": {
      "text/plain": [
       "{'notSharedWith': [], 'itemId': '1b77d897648c45f0ad31e3a0f3c61498'}"
      ]
     },
     "execution_count": 55,
     "metadata": {},
     "output_type": "execute_result"
    },
    {
     "name": "stdout",
     "output_type": "stream",
     "text": [
      "{'results': [{'itemId': '1b77d897648c45f0ad31e3a0f3c61498', 'success': True}]}\n",
      "\n",
      "Processing series code: 12.c.1 ER_FFS_PRTSPC\n"
     ]
    },
    {
     "data": {
      "text/plain": [
       "'../../data/unsd/2019.Q2.G.01/csv_Indicator_12.c.1_Series_ER_FFS_PRTSPC.csv'"
      ]
     },
     "metadata": {},
     "output_type": "display_data"
    },
    {
     "name": "stdout",
     "output_type": "stream",
     "text": [
      "Searching for ER_FFS_PRTSPC_12_c_1_2019Q2G01\n",
      " -- Item ER_FFS_PRTSPC_12_c_1_2019Q2G01 not found (force find)\n",
      "Adding CSV File to ArcGIS Online....\n",
      "Analyze Feature Service....\n",
      "Publishing Feature Service....\n",
      ".......call generate renderer within publish_csv\n",
      "Update Feature Service Symbology\n",
      "Moving CSV to Open Data Folder\n",
      "Updating Feature Service metadata....\n",
      "Moving Feature Service to Open Data Folder\n"
     ]
    },
    {
     "data": {
      "text/plain": [
       "{'notSharedWith': [], 'itemId': '6525cb46747446d7bc11ae64c1770ea3'}"
      ]
     },
     "execution_count": 55,
     "metadata": {},
     "output_type": "execute_result"
    },
    {
     "name": "stdout",
     "output_type": "stream",
     "text": [
      "{'results': [{'itemId': '6525cb46747446d7bc11ae64c1770ea3', 'success': True}]}\n",
      "\n",
      "Processing series code: 12.c.1 ER_FFS_PRTSPR\n"
     ]
    },
    {
     "data": {
      "text/plain": [
       "'../../data/unsd/2019.Q2.G.01/csv_Indicator_12.c.1_Series_ER_FFS_PRTSPR.csv'"
      ]
     },
     "metadata": {},
     "output_type": "display_data"
    },
    {
     "name": "stdout",
     "output_type": "stream",
     "text": [
      "Searching for ER_FFS_PRTSPR_12_c_1_2019Q2G01\n",
      " -- Item ER_FFS_PRTSPR_12_c_1_2019Q2G01 not found (force find)\n",
      "Adding CSV File to ArcGIS Online....\n",
      "Analyze Feature Service....\n",
      "Publishing Feature Service....\n",
      ".......call generate renderer within publish_csv\n",
      "Update Feature Service Symbology\n",
      "Moving CSV to Open Data Folder\n",
      "Updating Feature Service metadata....\n",
      "Moving Feature Service to Open Data Folder\n"
     ]
    },
    {
     "data": {
      "text/plain": [
       "{'notSharedWith': [], 'itemId': 'f655b5bde5e5471b8f4b9e9f8e8cd18a'}"
      ]
     },
     "execution_count": 55,
     "metadata": {},
     "output_type": "execute_result"
    },
    {
     "name": "stdout",
     "output_type": "stream",
     "text": [
      "{'results': [{'itemId': 'f655b5bde5e5471b8f4b9e9f8e8cd18a', 'success': True}]}\n",
      "\n",
      "Processing series code: 13.1.1 VC_DSR_MISS\n"
     ]
    },
    {
     "data": {
      "text/plain": [
       "'../../data/unsd/2019.Q2.G.01/csv_Indicator_13.1.1_Series_VC_DSR_MISS.csv'"
      ]
     },
     "metadata": {},
     "output_type": "display_data"
    },
    {
     "name": "stdout",
     "output_type": "stream",
     "text": [
      "Searching for VC_DSR_MISS_13_1_1_2019Q2G01\n",
      " -- Item VC_DSR_MISS_13_1_1_2019Q2G01 not found (force find)\n",
      "Adding CSV File to ArcGIS Online....\n",
      "Analyze Feature Service....\n",
      "Publishing Feature Service....\n",
      ".......call generate renderer within publish_csv\n",
      "Update Feature Service Symbology\n",
      "Moving CSV to Open Data Folder\n",
      "Updating Feature Service metadata....\n",
      "Moving Feature Service to Open Data Folder\n"
     ]
    },
    {
     "data": {
      "text/plain": [
       "{'notSharedWith': [], 'itemId': '8b4ab944f101449e987877284665dc25'}"
      ]
     },
     "execution_count": 55,
     "metadata": {},
     "output_type": "execute_result"
    },
    {
     "name": "stdout",
     "output_type": "stream",
     "text": [
      "{'results': [{'itemId': '8b4ab944f101449e987877284665dc25', 'success': True}]}\n",
      "\n",
      "Processing series code: 13.1.1 VC_DSR_AFFCT\n"
     ]
    },
    {
     "data": {
      "text/plain": [
       "'../../data/unsd/2019.Q2.G.01/csv_Indicator_13.1.1_Series_VC_DSR_AFFCT.csv'"
      ]
     },
     "metadata": {},
     "output_type": "display_data"
    },
    {
     "name": "stdout",
     "output_type": "stream",
     "text": [
      "Searching for VC_DSR_AFFCT_13_1_1_2019Q2G01\n",
      " -- Item VC_DSR_AFFCT_13_1_1_2019Q2G01 not found (force find)\n",
      "Adding CSV File to ArcGIS Online....\n",
      "Analyze Feature Service....\n",
      "Publishing Feature Service....\n",
      ".......call generate renderer within publish_csv\n",
      "Update Feature Service Symbology\n",
      "Moving CSV to Open Data Folder\n",
      "Updating Feature Service metadata....\n",
      "Moving Feature Service to Open Data Folder\n"
     ]
    },
    {
     "data": {
      "text/plain": [
       "{'notSharedWith': [], 'itemId': 'de2d83aa794c415db9958aa7f78f7c2d'}"
      ]
     },
     "execution_count": 55,
     "metadata": {},
     "output_type": "execute_result"
    },
    {
     "name": "stdout",
     "output_type": "stream",
     "text": [
      "{'results': [{'itemId': 'de2d83aa794c415db9958aa7f78f7c2d', 'success': True}]}\n",
      "\n",
      "Processing series code: 13.1.1 VC_DSR_MORT\n"
     ]
    },
    {
     "data": {
      "text/plain": [
       "'../../data/unsd/2019.Q2.G.01/csv_Indicator_13.1.1_Series_VC_DSR_MORT.csv'"
      ]
     },
     "metadata": {},
     "output_type": "display_data"
    },
    {
     "name": "stdout",
     "output_type": "stream",
     "text": [
      "Searching for VC_DSR_MORT_13_1_1_2019Q2G01\n",
      " -- Item VC_DSR_MORT_13_1_1_2019Q2G01 not found (force find)\n",
      "Adding CSV File to ArcGIS Online....\n",
      "Analyze Feature Service....\n",
      "Publishing Feature Service....\n",
      ".......call generate renderer within publish_csv\n",
      "Update Feature Service Symbology\n",
      "Moving CSV to Open Data Folder\n",
      "Updating Feature Service metadata....\n",
      "Moving Feature Service to Open Data Folder\n"
     ]
    },
    {
     "data": {
      "text/plain": [
       "{'notSharedWith': [], 'itemId': '9e148493ef744cb39da360954dc81fbb'}"
      ]
     },
     "execution_count": 55,
     "metadata": {},
     "output_type": "execute_result"
    },
    {
     "name": "stdout",
     "output_type": "stream",
     "text": [
      "{'results': [{'itemId': '9e148493ef744cb39da360954dc81fbb', 'success': True}]}\n",
      "\n",
      "Processing series code: 13.1.1 VC_DSR_MTMP\n"
     ]
    },
    {
     "data": {
      "text/plain": [
       "'../../data/unsd/2019.Q2.G.01/csv_Indicator_13.1.1_Series_VC_DSR_MTMP.csv'"
      ]
     },
     "metadata": {},
     "output_type": "display_data"
    },
    {
     "name": "stdout",
     "output_type": "stream",
     "text": [
      "Searching for VC_DSR_MTMP_13_1_1_2019Q2G01\n",
      " -- Item VC_DSR_MTMP_13_1_1_2019Q2G01 not found (force find)\n",
      "Adding CSV File to ArcGIS Online....\n",
      "Analyze Feature Service....\n",
      "Publishing Feature Service....\n",
      ".......call generate renderer within publish_csv\n",
      "Update Feature Service Symbology\n",
      "Moving CSV to Open Data Folder\n",
      "Updating Feature Service metadata....\n",
      "Moving Feature Service to Open Data Folder\n"
     ]
    },
    {
     "data": {
      "text/plain": [
       "{'notSharedWith': [], 'itemId': '53308fad911745aabc16ef1fe5f6134b'}"
      ]
     },
     "execution_count": 55,
     "metadata": {},
     "output_type": "execute_result"
    },
    {
     "name": "stdout",
     "output_type": "stream",
     "text": [
      "{'results': [{'itemId': '53308fad911745aabc16ef1fe5f6134b', 'success': True}]}\n",
      "\n",
      "Processing series code: 13.1.1 VC_DSR_MTMN\n"
     ]
    },
    {
     "data": {
      "text/plain": [
       "'../../data/unsd/2019.Q2.G.01/csv_Indicator_13.1.1_Series_VC_DSR_MTMN.csv'"
      ]
     },
     "metadata": {},
     "output_type": "display_data"
    },
    {
     "name": "stdout",
     "output_type": "stream",
     "text": [
      "Searching for VC_DSR_MTMN_13_1_1_2019Q2G01\n",
      " -- Item VC_DSR_MTMN_13_1_1_2019Q2G01 not found (force find)\n",
      "Adding CSV File to ArcGIS Online....\n",
      "Analyze Feature Service....\n",
      "Publishing Feature Service....\n",
      ".......call generate renderer within publish_csv\n",
      "Update Feature Service Symbology\n",
      "Moving CSV to Open Data Folder\n",
      "Updating Feature Service metadata....\n",
      "Moving Feature Service to Open Data Folder\n"
     ]
    },
    {
     "data": {
      "text/plain": [
       "{'notSharedWith': [], 'itemId': '538c5234dc634fcb9663eb42b4a45c3c'}"
      ]
     },
     "execution_count": 55,
     "metadata": {},
     "output_type": "execute_result"
    },
    {
     "name": "stdout",
     "output_type": "stream",
     "text": [
      "{'results': [{'itemId': '538c5234dc634fcb9663eb42b4a45c3c', 'success': True}]}\n",
      "\n",
      "Processing series code: 13.1.1 VC_DSR_MMHN\n"
     ]
    },
    {
     "data": {
      "text/plain": [
       "'../../data/unsd/2019.Q2.G.01/csv_Indicator_13.1.1_Series_VC_DSR_MMHN.csv'"
      ]
     },
     "metadata": {},
     "output_type": "display_data"
    },
    {
     "name": "stdout",
     "output_type": "stream",
     "text": [
      "Searching for VC_DSR_MMHN_13_1_1_2019Q2G01\n",
      " -- Item VC_DSR_MMHN_13_1_1_2019Q2G01 not found (force find)\n",
      "Adding CSV File to ArcGIS Online....\n",
      "Analyze Feature Service....\n",
      "Publishing Feature Service....\n",
      ".......call generate renderer within publish_csv\n",
      "Update Feature Service Symbology\n",
      "Moving CSV to Open Data Folder\n",
      "Updating Feature Service metadata....\n",
      "Moving Feature Service to Open Data Folder\n"
     ]
    },
    {
     "data": {
      "text/plain": [
       "{'notSharedWith': [], 'itemId': 'd2e3a0e9f36f47e28a9a58469f9d14ab'}"
      ]
     },
     "execution_count": 55,
     "metadata": {},
     "output_type": "execute_result"
    },
    {
     "name": "stdout",
     "output_type": "stream",
     "text": [
      "{'results': [{'itemId': 'd2e3a0e9f36f47e28a9a58469f9d14ab', 'success': True}]}\n",
      "\n",
      "Processing series code: 13.1.1 VC_DSR_DAFF\n"
     ]
    },
    {
     "data": {
      "text/plain": [
       "'../../data/unsd/2019.Q2.G.01/csv_Indicator_13.1.1_Series_VC_DSR_DAFF.csv'"
      ]
     },
     "metadata": {},
     "output_type": "display_data"
    },
    {
     "name": "stdout",
     "output_type": "stream",
     "text": [
      "Searching for VC_DSR_DAFF_13_1_1_2019Q2G01\n",
      " -- Item VC_DSR_DAFF_13_1_1_2019Q2G01 not found (force find)\n",
      "Adding CSV File to ArcGIS Online....\n",
      "Analyze Feature Service....\n",
      "Publishing Feature Service....\n",
      ".......call generate renderer within publish_csv\n",
      "Update Feature Service Symbology\n",
      "Moving CSV to Open Data Folder\n",
      "Updating Feature Service metadata....\n",
      "Moving Feature Service to Open Data Folder\n"
     ]
    },
    {
     "data": {
      "text/plain": [
       "{'notSharedWith': [], 'itemId': '26b4290fee89459a85fb7637f4bd3960'}"
      ]
     },
     "execution_count": 55,
     "metadata": {},
     "output_type": "execute_result"
    },
    {
     "name": "stdout",
     "output_type": "stream",
     "text": [
      "{'results': [{'itemId': '26b4290fee89459a85fb7637f4bd3960', 'success': True}]}\n",
      "\n",
      "Processing series code: 13.1.1 VC_DSR_IJILN\n"
     ]
    },
    {
     "data": {
      "text/plain": [
       "'../../data/unsd/2019.Q2.G.01/csv_Indicator_13.1.1_Series_VC_DSR_IJILN.csv'"
      ]
     },
     "metadata": {},
     "output_type": "display_data"
    },
    {
     "name": "stdout",
     "output_type": "stream",
     "text": [
      "Searching for VC_DSR_IJILN_13_1_1_2019Q2G01\n",
      " -- Item VC_DSR_IJILN_13_1_1_2019Q2G01 not found (force find)\n",
      "Adding CSV File to ArcGIS Online....\n",
      "Analyze Feature Service....\n",
      "Publishing Feature Service....\n",
      ".......call generate renderer within publish_csv\n",
      "Update Feature Service Symbology\n",
      "Moving CSV to Open Data Folder\n",
      "Updating Feature Service metadata....\n",
      "Moving Feature Service to Open Data Folder\n"
     ]
    },
    {
     "data": {
      "text/plain": [
       "{'notSharedWith': [], 'itemId': 'fe2e2df4f3fe4dffb95d85318e7fa757'}"
      ]
     },
     "execution_count": 55,
     "metadata": {},
     "output_type": "execute_result"
    },
    {
     "name": "stdout",
     "output_type": "stream",
     "text": [
      "{'results': [{'itemId': 'fe2e2df4f3fe4dffb95d85318e7fa757', 'success': True}]}\n",
      "\n",
      "Processing series code: 13.1.1 VC_DSR_PDAN\n"
     ]
    },
    {
     "data": {
      "text/plain": [
       "'../../data/unsd/2019.Q2.G.01/csv_Indicator_13.1.1_Series_VC_DSR_PDAN.csv'"
      ]
     },
     "metadata": {},
     "output_type": "display_data"
    },
    {
     "name": "stdout",
     "output_type": "stream",
     "text": [
      "Searching for VC_DSR_PDAN_13_1_1_2019Q2G01\n",
      " -- Item VC_DSR_PDAN_13_1_1_2019Q2G01 not found (force find)\n",
      "Adding CSV File to ArcGIS Online....\n",
      "Analyze Feature Service....\n",
      "Publishing Feature Service....\n",
      ".......call generate renderer within publish_csv\n",
      "Update Feature Service Symbology\n",
      "Moving CSV to Open Data Folder\n",
      "Updating Feature Service metadata....\n",
      "Moving Feature Service to Open Data Folder\n"
     ]
    },
    {
     "data": {
      "text/plain": [
       "{'notSharedWith': [], 'itemId': '320a98ed3e544f62b22175668c445b44'}"
      ]
     },
     "execution_count": 55,
     "metadata": {},
     "output_type": "execute_result"
    },
    {
     "name": "stdout",
     "output_type": "stream",
     "text": [
      "{'results': [{'itemId': '320a98ed3e544f62b22175668c445b44', 'success': True}]}\n",
      "\n",
      "Processing series code: 13.1.1 VC_DSR_DDHN\n"
     ]
    },
    {
     "data": {
      "text/plain": [
       "'../../data/unsd/2019.Q2.G.01/csv_Indicator_13.1.1_Series_VC_DSR_DDHN.csv'"
      ]
     },
     "metadata": {},
     "output_type": "display_data"
    },
    {
     "name": "stdout",
     "output_type": "stream",
     "text": [
      "Searching for VC_DSR_DDHN_13_1_1_2019Q2G01\n",
      " -- Item VC_DSR_DDHN_13_1_1_2019Q2G01 not found (force find)\n",
      "Adding CSV File to ArcGIS Online....\n",
      "Analyze Feature Service....\n",
      "Publishing Feature Service....\n",
      ".......call generate renderer within publish_csv\n",
      "Update Feature Service Symbology\n",
      "Moving CSV to Open Data Folder\n",
      "Updating Feature Service metadata....\n",
      "Moving Feature Service to Open Data Folder\n"
     ]
    },
    {
     "data": {
      "text/plain": [
       "{'notSharedWith': [], 'itemId': 'aff57134211f4fbf8f01b9200048b177'}"
      ]
     },
     "execution_count": 55,
     "metadata": {},
     "output_type": "execute_result"
    },
    {
     "name": "stdout",
     "output_type": "stream",
     "text": [
      "{'results': [{'itemId': 'aff57134211f4fbf8f01b9200048b177', 'success': True}]}\n",
      "\n",
      "Processing series code: 13.1.1 VC_DSR_PDYN\n"
     ]
    },
    {
     "data": {
      "text/plain": [
       "'../../data/unsd/2019.Q2.G.01/csv_Indicator_13.1.1_Series_VC_DSR_PDYN.csv'"
      ]
     },
     "metadata": {},
     "output_type": "display_data"
    },
    {
     "name": "stdout",
     "output_type": "stream",
     "text": [
      "Searching for VC_DSR_PDYN_13_1_1_2019Q2G01\n",
      " -- Item VC_DSR_PDYN_13_1_1_2019Q2G01 not found (force find)\n",
      "Adding CSV File to ArcGIS Online....\n",
      "Analyze Feature Service....\n",
      "Publishing Feature Service....\n",
      ".......call generate renderer within publish_csv\n",
      "Update Feature Service Symbology\n",
      "Moving CSV to Open Data Folder\n",
      "Updating Feature Service metadata....\n",
      "Moving Feature Service to Open Data Folder\n"
     ]
    },
    {
     "data": {
      "text/plain": [
       "{'notSharedWith': [], 'itemId': '679029363f1c4432a3c722012166af5f'}"
      ]
     },
     "execution_count": 55,
     "metadata": {},
     "output_type": "execute_result"
    },
    {
     "name": "stdout",
     "output_type": "stream",
     "text": [
      "{'results': [{'itemId': '679029363f1c4432a3c722012166af5f', 'success': True}]}\n",
      "\n",
      "Processing series code: 13.1.1 VC_DSR_PDLN\n"
     ]
    },
    {
     "data": {
      "text/plain": [
       "'../../data/unsd/2019.Q2.G.01/csv_Indicator_13.1.1_Series_VC_DSR_PDLN.csv'"
      ]
     },
     "metadata": {},
     "output_type": "display_data"
    },
    {
     "name": "stdout",
     "output_type": "stream",
     "text": [
      "Searching for VC_DSR_PDLN_13_1_1_2019Q2G01\n",
      " -- Item VC_DSR_PDLN_13_1_1_2019Q2G01 not found (force find)\n",
      "Adding CSV File to ArcGIS Online....\n",
      "Analyze Feature Service....\n",
      "Publishing Feature Service....\n",
      ".......call generate renderer within publish_csv\n",
      "Update Feature Service Symbology\n",
      "Moving CSV to Open Data Folder\n",
      "Updating Feature Service metadata....\n",
      "Moving Feature Service to Open Data Folder\n"
     ]
    },
    {
     "data": {
      "text/plain": [
       "{'notSharedWith': [], 'itemId': 'e6807c2fedcf4819afb4649085e251e9'}"
      ]
     },
     "execution_count": 55,
     "metadata": {},
     "output_type": "execute_result"
    },
    {
     "name": "stdout",
     "output_type": "stream",
     "text": [
      "{'results': [{'itemId': 'e6807c2fedcf4819afb4649085e251e9', 'success': True}]}\n",
      "\n",
      "Processing series code: 13.1.1 VC_DSR_DYHN\n"
     ]
    },
    {
     "data": {
      "text/plain": [
       "'../../data/unsd/2019.Q2.G.01/csv_Indicator_13.1.1_Series_VC_DSR_DYHN.csv'"
      ]
     },
     "metadata": {},
     "output_type": "display_data"
    },
    {
     "name": "stdout",
     "output_type": "stream",
     "text": [
      "Searching for VC_DSR_DYHN_13_1_1_2019Q2G01\n",
      " -- Item VC_DSR_DYHN_13_1_1_2019Q2G01 not found (force find)\n",
      "Adding CSV File to ArcGIS Online....\n",
      "Analyze Feature Service....\n",
      "Publishing Feature Service....\n",
      ".......call generate renderer within publish_csv\n",
      "Update Feature Service Symbology\n",
      "Moving CSV to Open Data Folder\n",
      "Updating Feature Service metadata....\n",
      "Moving Feature Service to Open Data Folder\n"
     ]
    },
    {
     "data": {
      "text/plain": [
       "{'notSharedWith': [], 'itemId': '4c7a197b855a4647a768d0ef3c532df7'}"
      ]
     },
     "execution_count": 55,
     "metadata": {},
     "output_type": "execute_result"
    },
    {
     "name": "stdout",
     "output_type": "stream",
     "text": [
      "{'results': [{'itemId': '4c7a197b855a4647a768d0ef3c532df7', 'success': True}]}\n",
      "\n",
      "Processing series code: 13.1.2 SG_DSR_LGRGSR\n"
     ]
    },
    {
     "data": {
      "text/plain": [
       "'../../data/unsd/2019.Q2.G.01/csv_Indicator_13.1.2_Series_SG_DSR_LGRGSR.csv'"
      ]
     },
     "metadata": {},
     "output_type": "display_data"
    },
    {
     "name": "stdout",
     "output_type": "stream",
     "text": [
      "Searching for SG_DSR_LGRGSR_13_1_2_2019Q2G01\n",
      " -- Item SG_DSR_LGRGSR_13_1_2_2019Q2G01 not found (force find)\n",
      "Adding CSV File to ArcGIS Online....\n",
      "Analyze Feature Service....\n",
      "Publishing Feature Service....\n",
      ".......call generate renderer within publish_csv\n",
      "Update Feature Service Symbology\n",
      "Moving CSV to Open Data Folder\n",
      "Updating Feature Service metadata....\n",
      "Moving Feature Service to Open Data Folder\n"
     ]
    },
    {
     "data": {
      "text/plain": [
       "{'notSharedWith': [], 'itemId': '184b20498cbc4f48831c47e5d9433d4c'}"
      ]
     },
     "execution_count": 55,
     "metadata": {},
     "output_type": "execute_result"
    },
    {
     "name": "stdout",
     "output_type": "stream",
     "text": [
      "{'results': [{'itemId': '184b20498cbc4f48831c47e5d9433d4c', 'success': True}]}\n",
      "\n",
      "Processing series code: 13.1.3 SG_DSR_SILS\n"
     ]
    },
    {
     "data": {
      "text/plain": [
       "'../../data/unsd/2019.Q2.G.01/csv_Indicator_13.1.3_Series_SG_DSR_SILS.csv'"
      ]
     },
     "metadata": {},
     "output_type": "display_data"
    },
    {
     "name": "stdout",
     "output_type": "stream",
     "text": [
      "Searching for SG_DSR_SILS_13_1_3_2019Q2G01\n",
      " -- Item SG_DSR_SILS_13_1_3_2019Q2G01 not found (force find)\n",
      "Adding CSV File to ArcGIS Online....\n",
      "Analyze Feature Service....\n",
      "Publishing Feature Service....\n",
      ".......call generate renderer within publish_csv\n",
      "Update Feature Service Symbology\n",
      "Moving CSV to Open Data Folder\n",
      "Updating Feature Service metadata....\n",
      "Moving Feature Service to Open Data Folder\n"
     ]
    },
    {
     "data": {
      "text/plain": [
       "{'notSharedWith': [], 'itemId': 'c0f8b223522b48ca9a591c124b4b2197'}"
      ]
     },
     "execution_count": 55,
     "metadata": {},
     "output_type": "execute_result"
    },
    {
     "name": "stdout",
     "output_type": "stream",
     "text": [
      "{'results': [{'itemId': 'c0f8b223522b48ca9a591c124b4b2197', 'success': True}]}\n",
      "\n",
      "Processing series code: 13.1.3 SG_DSR_SILN\n"
     ]
    },
    {
     "data": {
      "text/plain": [
       "'../../data/unsd/2019.Q2.G.01/csv_Indicator_13.1.3_Series_SG_DSR_SILN.csv'"
      ]
     },
     "metadata": {},
     "output_type": "display_data"
    },
    {
     "name": "stdout",
     "output_type": "stream",
     "text": [
      "Searching for SG_DSR_SILN_13_1_3_2019Q2G01\n",
      " -- Item SG_DSR_SILN_13_1_3_2019Q2G01 not found (force find)\n",
      "Adding CSV File to ArcGIS Online....\n",
      "Analyze Feature Service....\n",
      "Publishing Feature Service....\n",
      ".......call generate renderer within publish_csv\n",
      "Update Feature Service Symbology\n",
      "Moving CSV to Open Data Folder\n",
      "Updating Feature Service metadata....\n",
      "Moving Feature Service to Open Data Folder\n"
     ]
    },
    {
     "data": {
      "text/plain": [
       "{'notSharedWith': [], 'itemId': '04b9d27fe1794896b4d7d707766c12db'}"
      ]
     },
     "execution_count": 55,
     "metadata": {},
     "output_type": "execute_result"
    },
    {
     "name": "stdout",
     "output_type": "stream",
     "text": [
      "{'results': [{'itemId': '04b9d27fe1794896b4d7d707766c12db', 'success': True}]}\n",
      "\n",
      "Processing series code: 13.1.3 SG_GOV_LOGV\n"
     ]
    },
    {
     "data": {
      "text/plain": [
       "'../../data/unsd/2019.Q2.G.01/csv_Indicator_13.1.3_Series_SG_GOV_LOGV.csv'"
      ]
     },
     "metadata": {},
     "output_type": "display_data"
    },
    {
     "name": "stdout",
     "output_type": "stream",
     "text": [
      "Searching for SG_GOV_LOGV_13_1_3_2019Q2G01\n",
      " -- Item SG_GOV_LOGV_13_1_3_2019Q2G01 not found (force find)\n",
      "Adding CSV File to ArcGIS Online....\n",
      "Analyze Feature Service....\n",
      "Publishing Feature Service....\n",
      ".......call generate renderer within publish_csv\n",
      "Update Feature Service Symbology\n",
      "Moving CSV to Open Data Folder\n",
      "Updating Feature Service metadata....\n",
      "Moving Feature Service to Open Data Folder\n"
     ]
    },
    {
     "data": {
      "text/plain": [
       "{'notSharedWith': [], 'itemId': '1010b39e5f47452eab39f5c744b65ede'}"
      ]
     },
     "execution_count": 55,
     "metadata": {},
     "output_type": "execute_result"
    },
    {
     "name": "stdout",
     "output_type": "stream",
     "text": [
      "{'results': [{'itemId': '1010b39e5f47452eab39f5c744b65ede', 'success': True}]}\n",
      "\n",
      "Processing series code: 14.4.1 ER_H2O_FWTL\n"
     ]
    },
    {
     "data": {
      "text/plain": [
       "'../../data/unsd/2019.Q2.G.01/csv_Indicator_14.4.1_Series_ER_H2O_FWTL.csv'"
      ]
     },
     "metadata": {},
     "output_type": "display_data"
    },
    {
     "name": "stdout",
     "output_type": "stream",
     "text": [
      "\n",
      "Processing series code: 14.5.1 ER_MRN_MARINT\n"
     ]
    },
    {
     "data": {
      "text/plain": [
       "'../../data/unsd/2019.Q2.G.01/csv_Indicator_14.5.1_Series_ER_MRN_MARINT.csv'"
      ]
     },
     "metadata": {},
     "output_type": "display_data"
    },
    {
     "name": "stdout",
     "output_type": "stream",
     "text": [
      "Searching for ER_MRN_MARINT_14_5_1_2019Q2G01\n",
      " -- Item ER_MRN_MARINT_14_5_1_2019Q2G01 not found (force find)\n",
      "Adding CSV File to ArcGIS Online....\n",
      "Analyze Feature Service....\n",
      "Publishing Feature Service....\n",
      ".......call generate renderer within publish_csv\n",
      "Update Feature Service Symbology\n",
      "Moving CSV to Open Data Folder\n",
      "Updating Feature Service metadata....\n",
      "Moving Feature Service to Open Data Folder\n"
     ]
    },
    {
     "data": {
      "text/plain": [
       "{'notSharedWith': [], 'itemId': 'cefe964c3e3f444db50aa990ebc7ebae'}"
      ]
     },
     "execution_count": 55,
     "metadata": {},
     "output_type": "execute_result"
    },
    {
     "name": "stdout",
     "output_type": "stream",
     "text": [
      "{'results': [{'itemId': 'cefe964c3e3f444db50aa990ebc7ebae', 'success': True}]}\n",
      "\n",
      "Processing series code: 14.5.1 ER_MRN_MARIN\n"
     ]
    },
    {
     "data": {
      "text/plain": [
       "'../../data/unsd/2019.Q2.G.01/csv_Indicator_14.5.1_Series_ER_MRN_MARIN.csv'"
      ]
     },
     "metadata": {},
     "output_type": "display_data"
    },
    {
     "name": "stdout",
     "output_type": "stream",
     "text": [
      "Searching for ER_MRN_MARIN_14_5_1_2019Q2G01\n",
      " -- Item ER_MRN_MARIN_14_5_1_2019Q2G01 not found (force find)\n",
      "Adding CSV File to ArcGIS Online....\n",
      "Analyze Feature Service....\n",
      "Publishing Feature Service....\n",
      ".......call generate renderer within publish_csv\n",
      "Update Feature Service Symbology\n",
      "Moving CSV to Open Data Folder\n",
      "Updating Feature Service metadata....\n",
      "Moving Feature Service to Open Data Folder\n"
     ]
    },
    {
     "data": {
      "text/plain": [
       "{'notSharedWith': [], 'itemId': 'f205b31db8bf44ea9f8d23b41cd4a9a9'}"
      ]
     },
     "execution_count": 55,
     "metadata": {},
     "output_type": "execute_result"
    },
    {
     "name": "stdout",
     "output_type": "stream",
     "text": [
      "{'results': [{'itemId': 'f205b31db8bf44ea9f8d23b41cd4a9a9', 'success': True}]}\n",
      "\n",
      "Processing series code: 14.5.1 ER_MRN_MPA\n"
     ]
    },
    {
     "data": {
      "text/plain": [
       "'../../data/unsd/2019.Q2.G.01/csv_Indicator_14.5.1_Series_ER_MRN_MPA.csv'"
      ]
     },
     "metadata": {},
     "output_type": "display_data"
    },
    {
     "name": "stdout",
     "output_type": "stream",
     "text": [
      "Searching for ER_MRN_MPA_14_5_1_2019Q2G01\n",
      " -- Item ER_MRN_MPA_14_5_1_2019Q2G01 not found (force find)\n",
      "Adding CSV File to ArcGIS Online....\n",
      "Analyze Feature Service....\n",
      "Publishing Feature Service....\n",
      ".......call generate renderer within publish_csv\n",
      "Update Feature Service Symbology\n",
      "Moving CSV to Open Data Folder\n",
      "Updating Feature Service metadata....\n",
      "Moving Feature Service to Open Data Folder\n"
     ]
    },
    {
     "data": {
      "text/plain": [
       "{'notSharedWith': [], 'itemId': '0cc4ed4123e34f91b7e0536762c6c0f6'}"
      ]
     },
     "execution_count": 55,
     "metadata": {},
     "output_type": "execute_result"
    },
    {
     "name": "stdout",
     "output_type": "stream",
     "text": [
      "{'results': [{'itemId': '0cc4ed4123e34f91b7e0536762c6c0f6', 'success': True}]}\n",
      "\n",
      "Processing series code: 14.6.1 ER_REG_UNFCIM\n"
     ]
    },
    {
     "data": {
      "text/plain": [
       "'../../data/unsd/2019.Q2.G.01/csv_Indicator_14.6.1_Series_ER_REG_UNFCIM.csv'"
      ]
     },
     "metadata": {},
     "output_type": "display_data"
    },
    {
     "name": "stdout",
     "output_type": "stream",
     "text": [
      "Searching for ER_REG_UNFCIM_14_6_1_2019Q2G01\n",
      " -- Item ER_REG_UNFCIM_14_6_1_2019Q2G01 not found (force find)\n",
      "Adding CSV File to ArcGIS Online....\n",
      "Analyze Feature Service....\n",
      "Publishing Feature Service....\n",
      ".......call generate renderer within publish_csv\n",
      "Update Feature Service Symbology\n",
      "Moving CSV to Open Data Folder\n",
      "Updating Feature Service metadata....\n",
      "Moving Feature Service to Open Data Folder\n"
     ]
    },
    {
     "data": {
      "text/plain": [
       "{'notSharedWith': [], 'itemId': 'b534c14b76eb46b19a4d947b4b5b8a3f'}"
      ]
     },
     "execution_count": 55,
     "metadata": {},
     "output_type": "execute_result"
    },
    {
     "name": "stdout",
     "output_type": "stream",
     "text": [
      "{'results': [{'itemId': 'b534c14b76eb46b19a4d947b4b5b8a3f', 'success': True}]}\n",
      "\n",
      "Processing series code: 14.a.1 ER_RDE_OSEX\n"
     ]
    },
    {
     "data": {
      "text/plain": [
       "'../../data/unsd/2019.Q2.G.01/csv_Indicator_14.a.1_Series_ER_RDE_OSEX.csv'"
      ]
     },
     "metadata": {},
     "output_type": "display_data"
    },
    {
     "name": "stdout",
     "output_type": "stream",
     "text": [
      "Searching for ER_RDE_OSEX_14_a_1_2019Q2G01\n",
      " -- Item ER_RDE_OSEX_14_a_1_2019Q2G01 not found (force find)\n",
      "Adding CSV File to ArcGIS Online....\n",
      "Analyze Feature Service....\n",
      "Publishing Feature Service....\n",
      ".......call generate renderer within publish_csv\n",
      "Update Feature Service Symbology\n",
      "Moving CSV to Open Data Folder\n",
      "Updating Feature Service metadata....\n",
      "Moving Feature Service to Open Data Folder\n"
     ]
    },
    {
     "data": {
      "text/plain": [
       "{'notSharedWith': [], 'itemId': '9d8d341ee348473587f6125b163df728'}"
      ]
     },
     "execution_count": 55,
     "metadata": {},
     "output_type": "execute_result"
    },
    {
     "name": "stdout",
     "output_type": "stream",
     "text": [
      "{'results': [{'itemId': '9d8d341ee348473587f6125b163df728', 'success': True}]}\n",
      "\n",
      "Processing series code: 14.b.1 ER_REG_SSFRAR\n"
     ]
    },
    {
     "data": {
      "text/plain": [
       "'../../data/unsd/2019.Q2.G.01/csv_Indicator_14.b.1_Series_ER_REG_SSFRAR.csv'"
      ]
     },
     "metadata": {},
     "output_type": "display_data"
    },
    {
     "name": "stdout",
     "output_type": "stream",
     "text": [
      "Searching for ER_REG_SSFRAR_14_b_1_2019Q2G01\n",
      " -- Item ER_REG_SSFRAR_14_b_1_2019Q2G01 not found (force find)\n",
      "Adding CSV File to ArcGIS Online....\n",
      "Analyze Feature Service....\n",
      "Publishing Feature Service....\n",
      ".......call generate renderer within publish_csv\n",
      "Update Feature Service Symbology\n",
      "Moving CSV to Open Data Folder\n",
      "Updating Feature Service metadata....\n",
      "Moving Feature Service to Open Data Folder\n"
     ]
    },
    {
     "data": {
      "text/plain": [
       "{'notSharedWith': [], 'itemId': 'b3f9e72f1adf477c8a41d9f41bee4aee'}"
      ]
     },
     "execution_count": 55,
     "metadata": {},
     "output_type": "execute_result"
    },
    {
     "name": "stdout",
     "output_type": "stream",
     "text": [
      "{'results': [{'itemId': 'b3f9e72f1adf477c8a41d9f41bee4aee', 'success': True}]}\n",
      "\n",
      "Processing series code: 15.1.1 AG_LND_TOTL\n"
     ]
    },
    {
     "data": {
      "text/plain": [
       "'../../data/unsd/2019.Q2.G.01/csv_Indicator_15.1.1_Series_AG_LND_TOTL.csv'"
      ]
     },
     "metadata": {},
     "output_type": "display_data"
    },
    {
     "name": "stdout",
     "output_type": "stream",
     "text": [
      "Searching for AG_LND_TOTL_15_1_1_2019Q2G01\n",
      " -- Item AG_LND_TOTL_15_1_1_2019Q2G01 not found (force find)\n",
      "Adding CSV File to ArcGIS Online....\n",
      "Analyze Feature Service....\n",
      "Publishing Feature Service....\n",
      ".......call generate renderer within publish_csv\n",
      "Update Feature Service Symbology\n",
      "Moving CSV to Open Data Folder\n",
      "Updating Feature Service metadata....\n",
      "Moving Feature Service to Open Data Folder\n"
     ]
    },
    {
     "data": {
      "text/plain": [
       "{'notSharedWith': [], 'itemId': 'f7cad821050549069c77711b9a422e98'}"
      ]
     },
     "execution_count": 55,
     "metadata": {},
     "output_type": "execute_result"
    },
    {
     "name": "stdout",
     "output_type": "stream",
     "text": [
      "{'results': [{'itemId': 'f7cad821050549069c77711b9a422e98', 'success': True}]}\n",
      "\n",
      "Processing series code: 15.1.1 AG_LND_FRSTN\n"
     ]
    },
    {
     "data": {
      "text/plain": [
       "'../../data/unsd/2019.Q2.G.01/csv_Indicator_15.1.1_Series_AG_LND_FRSTN.csv'"
      ]
     },
     "metadata": {},
     "output_type": "display_data"
    },
    {
     "name": "stdout",
     "output_type": "stream",
     "text": [
      "Searching for AG_LND_FRSTN_15_1_1_2019Q2G01\n",
      " -- Item AG_LND_FRSTN_15_1_1_2019Q2G01 not found (force find)\n",
      "Adding CSV File to ArcGIS Online....\n",
      "Analyze Feature Service....\n",
      "Publishing Feature Service....\n",
      ".......call generate renderer within publish_csv\n",
      "Update Feature Service Symbology\n",
      "Moving CSV to Open Data Folder\n",
      "Updating Feature Service metadata....\n",
      "Moving Feature Service to Open Data Folder\n"
     ]
    },
    {
     "data": {
      "text/plain": [
       "{'notSharedWith': [], 'itemId': 'c109e66cb64d4ab080f5b462a054abba'}"
      ]
     },
     "execution_count": 55,
     "metadata": {},
     "output_type": "execute_result"
    },
    {
     "name": "stdout",
     "output_type": "stream",
     "text": [
      "{'results': [{'itemId': 'c109e66cb64d4ab080f5b462a054abba', 'success': True}]}\n",
      "\n",
      "Processing series code: 15.1.1 AG_LND_FRST\n"
     ]
    },
    {
     "data": {
      "text/plain": [
       "'../../data/unsd/2019.Q2.G.01/csv_Indicator_15.1.1_Series_AG_LND_FRST.csv'"
      ]
     },
     "metadata": {},
     "output_type": "display_data"
    },
    {
     "name": "stdout",
     "output_type": "stream",
     "text": [
      "Searching for AG_LND_FRST_15_1_1_2019Q2G01\n",
      " -- Item AG_LND_FRST_15_1_1_2019Q2G01 not found (force find)\n",
      "Adding CSV File to ArcGIS Online....\n",
      "Analyze Feature Service....\n",
      "Publishing Feature Service....\n",
      ".......call generate renderer within publish_csv\n",
      "Update Feature Service Symbology\n",
      "Moving CSV to Open Data Folder\n",
      "Updating Feature Service metadata....\n",
      "Moving Feature Service to Open Data Folder\n"
     ]
    },
    {
     "data": {
      "text/plain": [
       "{'notSharedWith': [], 'itemId': '2f7acf84fdad47d183f7e2041b474e02'}"
      ]
     },
     "execution_count": 55,
     "metadata": {},
     "output_type": "execute_result"
    },
    {
     "name": "stdout",
     "output_type": "stream",
     "text": [
      "{'results': [{'itemId': '2f7acf84fdad47d183f7e2041b474e02', 'success': True}]}\n",
      "\n",
      "Processing series code: 15.1.2 ER_PTD_FRWRT\n"
     ]
    },
    {
     "data": {
      "text/plain": [
       "'../../data/unsd/2019.Q2.G.01/csv_Indicator_15.1.2_Series_ER_PTD_FRWRT.csv'"
      ]
     },
     "metadata": {},
     "output_type": "display_data"
    },
    {
     "name": "stdout",
     "output_type": "stream",
     "text": [
      "Searching for ER_PTD_FRWRT_15_1_2_2019Q2G01\n",
      " -- Item ER_PTD_FRWRT_15_1_2_2019Q2G01 not found (force find)\n",
      "Adding CSV File to ArcGIS Online....\n",
      "Analyze Feature Service....\n",
      "Publishing Feature Service....\n",
      ".......call generate renderer within publish_csv\n",
      "Update Feature Service Symbology\n",
      "Moving CSV to Open Data Folder\n",
      "Updating Feature Service metadata....\n",
      "Moving Feature Service to Open Data Folder\n"
     ]
    },
    {
     "data": {
      "text/plain": [
       "{'notSharedWith': [], 'itemId': '9fcf31b0eb6b40ddb8a4c963bf78d761'}"
      ]
     },
     "execution_count": 55,
     "metadata": {},
     "output_type": "execute_result"
    },
    {
     "name": "stdout",
     "output_type": "stream",
     "text": [
      "{'results': [{'itemId': '9fcf31b0eb6b40ddb8a4c963bf78d761', 'success': True}]}\n",
      "\n",
      "Processing series code: 15.1.2 ER_PTD_TERRS\n"
     ]
    },
    {
     "data": {
      "text/plain": [
       "'../../data/unsd/2019.Q2.G.01/csv_Indicator_15.1.2_Series_ER_PTD_TERRS.csv'"
      ]
     },
     "metadata": {},
     "output_type": "display_data"
    },
    {
     "name": "stdout",
     "output_type": "stream",
     "text": [
      "Searching for ER_PTD_TERRS_15_1_2_2019Q2G01\n",
      " -- Item ER_PTD_TERRS_15_1_2_2019Q2G01 not found (force find)\n",
      "Adding CSV File to ArcGIS Online....\n",
      "Analyze Feature Service....\n",
      "Publishing Feature Service....\n",
      ".......call generate renderer within publish_csv\n",
      "Update Feature Service Symbology\n",
      "Moving CSV to Open Data Folder\n",
      "Updating Feature Service metadata....\n",
      "Moving Feature Service to Open Data Folder\n"
     ]
    },
    {
     "data": {
      "text/plain": [
       "{'notSharedWith': [], 'itemId': '50b0017bc20a400e8bfb92da7591a28b'}"
      ]
     },
     "execution_count": 55,
     "metadata": {},
     "output_type": "execute_result"
    },
    {
     "name": "stdout",
     "output_type": "stream",
     "text": [
      "{'results': [{'itemId': '50b0017bc20a400e8bfb92da7591a28b', 'success': True}]}\n",
      "\n",
      "Processing series code: 15.2.1 AG_LND_FRSTBIOPHA\n"
     ]
    },
    {
     "data": {
      "text/plain": [
       "'../../data/unsd/2019.Q2.G.01/csv_Indicator_15.2.1_Series_AG_LND_FRSTBIOPHA.csv'"
      ]
     },
     "metadata": {},
     "output_type": "display_data"
    },
    {
     "name": "stdout",
     "output_type": "stream",
     "text": [
      "Searching for AG_LND_FRSTBIOPHA_15_2_1_2019Q2G01\n",
      " -- Item AG_LND_FRSTBIOPHA_15_2_1_2019Q2G01 not found (force find)\n",
      "Adding CSV File to ArcGIS Online....\n",
      "Analyze Feature Service....\n",
      "Publishing Feature Service....\n",
      ".......call generate renderer within publish_csv\n",
      "Update Feature Service Symbology\n",
      "Moving CSV to Open Data Folder\n",
      "Updating Feature Service metadata....\n",
      "Moving Feature Service to Open Data Folder\n"
     ]
    },
    {
     "data": {
      "text/plain": [
       "{'notSharedWith': [], 'itemId': '226a7f1d7c964361adf9d093758a4231'}"
      ]
     },
     "execution_count": 55,
     "metadata": {},
     "output_type": "execute_result"
    },
    {
     "name": "stdout",
     "output_type": "stream",
     "text": [
      "{'results': [{'itemId': '226a7f1d7c964361adf9d093758a4231', 'success': True}]}\n",
      "\n",
      "Processing series code: 15.2.1 AG_LND_FRSTCERT\n"
     ]
    },
    {
     "data": {
      "text/plain": [
       "'../../data/unsd/2019.Q2.G.01/csv_Indicator_15.2.1_Series_AG_LND_FRSTCERT.csv'"
      ]
     },
     "metadata": {},
     "output_type": "display_data"
    },
    {
     "name": "stdout",
     "output_type": "stream",
     "text": [
      "Searching for AG_LND_FRSTCERT_15_2_1_2019Q2G01\n",
      " -- Item AG_LND_FRSTCERT_15_2_1_2019Q2G01 not found (force find)\n",
      "Adding CSV File to ArcGIS Online....\n",
      "Analyze Feature Service....\n",
      "Publishing Feature Service....\n",
      ".......call generate renderer within publish_csv\n",
      "Update Feature Service Symbology\n",
      "Moving CSV to Open Data Folder\n",
      "Updating Feature Service metadata....\n",
      "Moving Feature Service to Open Data Folder\n"
     ]
    },
    {
     "data": {
      "text/plain": [
       "{'notSharedWith': [], 'itemId': '96276e5c874048c798d01c90b5d8bb2a'}"
      ]
     },
     "execution_count": 55,
     "metadata": {},
     "output_type": "execute_result"
    },
    {
     "name": "stdout",
     "output_type": "stream",
     "text": [
      "{'results': [{'itemId': '96276e5c874048c798d01c90b5d8bb2a', 'success': True}]}\n",
      "\n",
      "Processing series code: 15.2.1 AG_LND_FRSTCHG\n"
     ]
    },
    {
     "data": {
      "text/plain": [
       "'../../data/unsd/2019.Q2.G.01/csv_Indicator_15.2.1_Series_AG_LND_FRSTCHG.csv'"
      ]
     },
     "metadata": {},
     "output_type": "display_data"
    },
    {
     "name": "stdout",
     "output_type": "stream",
     "text": [
      "Searching for AG_LND_FRSTCHG_15_2_1_2019Q2G01\n",
      " -- Item AG_LND_FRSTCHG_15_2_1_2019Q2G01 not found (force find)\n",
      "Adding CSV File to ArcGIS Online....\n",
      "Analyze Feature Service....\n",
      "Publishing Feature Service....\n",
      ".......call generate renderer within publish_csv\n",
      "Update Feature Service Symbology\n",
      "Moving CSV to Open Data Folder\n",
      "Updating Feature Service metadata....\n",
      "Moving Feature Service to Open Data Folder\n"
     ]
    },
    {
     "data": {
      "text/plain": [
       "{'notSharedWith': [], 'itemId': '963912db309b4db28e4c23ad1d0ef476'}"
      ]
     },
     "execution_count": 55,
     "metadata": {},
     "output_type": "execute_result"
    },
    {
     "name": "stdout",
     "output_type": "stream",
     "text": [
      "{'results': [{'itemId': '963912db309b4db28e4c23ad1d0ef476', 'success': True}]}\n",
      "\n",
      "Processing series code: 15.2.1 AG_LND_FRSTMGT\n"
     ]
    },
    {
     "data": {
      "text/plain": [
       "'../../data/unsd/2019.Q2.G.01/csv_Indicator_15.2.1_Series_AG_LND_FRSTMGT.csv'"
      ]
     },
     "metadata": {},
     "output_type": "display_data"
    },
    {
     "name": "stdout",
     "output_type": "stream",
     "text": [
      "Searching for AG_LND_FRSTMGT_15_2_1_2019Q2G01\n",
      " -- Item AG_LND_FRSTMGT_15_2_1_2019Q2G01 not found (force find)\n",
      "Adding CSV File to ArcGIS Online....\n",
      "Analyze Feature Service....\n",
      "Publishing Feature Service....\n",
      ".......call generate renderer within publish_csv\n",
      "Update Feature Service Symbology\n",
      "Moving CSV to Open Data Folder\n",
      "Updating Feature Service metadata....\n",
      "Moving Feature Service to Open Data Folder\n"
     ]
    },
    {
     "data": {
      "text/plain": [
       "{'notSharedWith': [], 'itemId': '0c7ea3b3d1104a7fbd31ea26666b4435'}"
      ]
     },
     "execution_count": 55,
     "metadata": {},
     "output_type": "execute_result"
    },
    {
     "name": "stdout",
     "output_type": "stream",
     "text": [
      "{'results': [{'itemId': '0c7ea3b3d1104a7fbd31ea26666b4435', 'success': True}]}\n",
      "\n",
      "Processing series code: 15.2.1 AG_LND_FRSTPRCT\n"
     ]
    },
    {
     "data": {
      "text/plain": [
       "'../../data/unsd/2019.Q2.G.01/csv_Indicator_15.2.1_Series_AG_LND_FRSTPRCT.csv'"
      ]
     },
     "metadata": {},
     "output_type": "display_data"
    },
    {
     "name": "stdout",
     "output_type": "stream",
     "text": [
      "Searching for AG_LND_FRSTPRCT_15_2_1_2019Q2G01\n",
      " -- Item AG_LND_FRSTPRCT_15_2_1_2019Q2G01 not found (force find)\n",
      "Adding CSV File to ArcGIS Online....\n",
      "Analyze Feature Service....\n",
      "Publishing Feature Service....\n",
      ".......call generate renderer within publish_csv\n",
      "Update Feature Service Symbology\n",
      "Moving CSV to Open Data Folder\n",
      "Updating Feature Service metadata....\n",
      "Moving Feature Service to Open Data Folder\n"
     ]
    },
    {
     "data": {
      "text/plain": [
       "{'notSharedWith': [], 'itemId': 'f26e7ec07bcf4d63928d9848042a0b52'}"
      ]
     },
     "execution_count": 55,
     "metadata": {},
     "output_type": "execute_result"
    },
    {
     "name": "stdout",
     "output_type": "stream",
     "text": [
      "{'results': [{'itemId': 'f26e7ec07bcf4d63928d9848042a0b52', 'success': True}]}\n",
      "\n",
      "Processing series code: 15.3.1 AG_LND_DGRD\n"
     ]
    },
    {
     "data": {
      "text/plain": [
       "'../../data/unsd/2019.Q2.G.01/csv_Indicator_15.3.1_Series_AG_LND_DGRD.csv'"
      ]
     },
     "metadata": {},
     "output_type": "display_data"
    },
    {
     "name": "stdout",
     "output_type": "stream",
     "text": [
      "Searching for AG_LND_DGRD_15_3_1_2019Q2G01\n",
      " -- Item AG_LND_DGRD_15_3_1_2019Q2G01 not found (force find)\n",
      "Adding CSV File to ArcGIS Online....\n",
      "Analyze Feature Service....\n",
      "Publishing Feature Service....\n",
      ".......call generate renderer within publish_csv\n",
      "Update Feature Service Symbology\n",
      "Moving CSV to Open Data Folder\n",
      "Updating Feature Service metadata....\n",
      "Moving Feature Service to Open Data Folder\n"
     ]
    },
    {
     "data": {
      "text/plain": [
       "{'notSharedWith': [], 'itemId': '54454ff67779406f8569816179ce534d'}"
      ]
     },
     "execution_count": 55,
     "metadata": {},
     "output_type": "execute_result"
    },
    {
     "name": "stdout",
     "output_type": "stream",
     "text": [
      "{'results': [{'itemId': '54454ff67779406f8569816179ce534d', 'success': True}]}\n",
      "\n",
      "Processing series code: 15.4.1 ER_PTD_MOTN\n"
     ]
    },
    {
     "data": {
      "text/plain": [
       "'../../data/unsd/2019.Q2.G.01/csv_Indicator_15.4.1_Series_ER_PTD_MOTN.csv'"
      ]
     },
     "metadata": {},
     "output_type": "display_data"
    },
    {
     "name": "stdout",
     "output_type": "stream",
     "text": [
      "Searching for ER_PTD_MOTN_15_4_1_2019Q2G01\n",
      " -- Item ER_PTD_MOTN_15_4_1_2019Q2G01 not found (force find)\n",
      "Adding CSV File to ArcGIS Online....\n",
      "Analyze Feature Service....\n",
      "Publishing Feature Service....\n",
      ".......call generate renderer within publish_csv\n",
      "Update Feature Service Symbology\n",
      "Moving CSV to Open Data Folder\n",
      "Updating Feature Service metadata....\n",
      "Moving Feature Service to Open Data Folder\n"
     ]
    },
    {
     "data": {
      "text/plain": [
       "{'notSharedWith': [], 'itemId': 'f74924e27ac049659fb8e0cd8f9b226e'}"
      ]
     },
     "execution_count": 55,
     "metadata": {},
     "output_type": "execute_result"
    },
    {
     "name": "stdout",
     "output_type": "stream",
     "text": [
      "{'results': [{'itemId': 'f74924e27ac049659fb8e0cd8f9b226e', 'success': True}]}\n",
      "\n",
      "Processing series code: 15.4.2 ER_MTN_GRNCVI\n"
     ]
    },
    {
     "data": {
      "text/plain": [
       "'../../data/unsd/2019.Q2.G.01/csv_Indicator_15.4.2_Series_ER_MTN_GRNCVI.csv'"
      ]
     },
     "metadata": {},
     "output_type": "display_data"
    },
    {
     "name": "stdout",
     "output_type": "stream",
     "text": [
      "Searching for ER_MTN_GRNCVI_15_4_2_2019Q2G01\n",
      " -- Item ER_MTN_GRNCVI_15_4_2_2019Q2G01 not found (force find)\n",
      "Adding CSV File to ArcGIS Online....\n",
      "Analyze Feature Service....\n",
      "Publishing Feature Service....\n",
      ".......call generate renderer within publish_csv\n",
      "Update Feature Service Symbology\n",
      "Moving CSV to Open Data Folder\n",
      "Updating Feature Service metadata....\n",
      "Moving Feature Service to Open Data Folder\n"
     ]
    },
    {
     "data": {
      "text/plain": [
       "{'notSharedWith': [], 'itemId': 'bd196f3d94344c079d2dc541f1ed8432'}"
      ]
     },
     "execution_count": 55,
     "metadata": {},
     "output_type": "execute_result"
    },
    {
     "name": "stdout",
     "output_type": "stream",
     "text": [
      "{'results': [{'itemId': 'bd196f3d94344c079d2dc541f1ed8432', 'success': True}]}\n",
      "\n",
      "Processing series code: 15.4.2 ER_MTN_TOTL\n"
     ]
    },
    {
     "data": {
      "text/plain": [
       "'../../data/unsd/2019.Q2.G.01/csv_Indicator_15.4.2_Series_ER_MTN_TOTL.csv'"
      ]
     },
     "metadata": {},
     "output_type": "display_data"
    },
    {
     "name": "stdout",
     "output_type": "stream",
     "text": [
      "Searching for ER_MTN_TOTL_15_4_2_2019Q2G01\n",
      " -- Item ER_MTN_TOTL_15_4_2_2019Q2G01 not found (force find)\n",
      "Adding CSV File to ArcGIS Online....\n",
      "Analyze Feature Service....\n",
      "Publishing Feature Service....\n",
      ".......call generate renderer within publish_csv\n",
      "Update Feature Service Symbology\n",
      "Moving CSV to Open Data Folder\n",
      "Updating Feature Service metadata....\n",
      "Moving Feature Service to Open Data Folder\n"
     ]
    },
    {
     "data": {
      "text/plain": [
       "{'notSharedWith': [], 'itemId': 'f0d5bdfc6cd749fdb4ab99bfa2510397'}"
      ]
     },
     "execution_count": 55,
     "metadata": {},
     "output_type": "execute_result"
    },
    {
     "name": "stdout",
     "output_type": "stream",
     "text": [
      "{'results': [{'itemId': 'f0d5bdfc6cd749fdb4ab99bfa2510397', 'success': True}]}\n",
      "\n",
      "Processing series code: 15.4.2 ER_MTN_GRNCOV\n"
     ]
    },
    {
     "data": {
      "text/plain": [
       "'../../data/unsd/2019.Q2.G.01/csv_Indicator_15.4.2_Series_ER_MTN_GRNCOV.csv'"
      ]
     },
     "metadata": {},
     "output_type": "display_data"
    },
    {
     "name": "stdout",
     "output_type": "stream",
     "text": [
      "Searching for ER_MTN_GRNCOV_15_4_2_2019Q2G01\n",
      " -- Item ER_MTN_GRNCOV_15_4_2_2019Q2G01 not found (force find)\n",
      "Adding CSV File to ArcGIS Online....\n",
      "Analyze Feature Service....\n",
      "Publishing Feature Service....\n",
      ".......call generate renderer within publish_csv\n",
      "Update Feature Service Symbology\n",
      "Moving CSV to Open Data Folder\n",
      "Updating Feature Service metadata....\n",
      "Moving Feature Service to Open Data Folder\n"
     ]
    },
    {
     "data": {
      "text/plain": [
       "{'notSharedWith': [], 'itemId': '8ace3e6ec5284950b7126c87ad85fd99'}"
      ]
     },
     "execution_count": 55,
     "metadata": {},
     "output_type": "execute_result"
    },
    {
     "name": "stdout",
     "output_type": "stream",
     "text": [
      "{'results': [{'itemId': '8ace3e6ec5284950b7126c87ad85fd99', 'success': True}]}\n",
      "\n",
      "Processing series code: 15.5.1 ER_RSK_LSTI\n"
     ]
    },
    {
     "data": {
      "text/plain": [
       "'../../data/unsd/2019.Q2.G.01/csv_Indicator_15.5.1_Series_ER_RSK_LSTI.csv'"
      ]
     },
     "metadata": {},
     "output_type": "display_data"
    },
    {
     "name": "stdout",
     "output_type": "stream",
     "text": [
      "Searching for ER_RSK_LSTI_15_5_1_2019Q2G01\n",
      " -- Item ER_RSK_LSTI_15_5_1_2019Q2G01 not found (force find)\n",
      "Adding CSV File to ArcGIS Online....\n",
      "Analyze Feature Service....\n",
      "Publishing Feature Service....\n",
      ".......call generate renderer within publish_csv\n",
      "Update Feature Service Symbology\n",
      "Moving CSV to Open Data Folder\n",
      "Updating Feature Service metadata....\n",
      "Moving Feature Service to Open Data Folder\n"
     ]
    },
    {
     "data": {
      "text/plain": [
       "{'notSharedWith': [], 'itemId': 'bff683ed59e140bf8505fe791e109f16'}"
      ]
     },
     "execution_count": 55,
     "metadata": {},
     "output_type": "execute_result"
    },
    {
     "name": "stdout",
     "output_type": "stream",
     "text": [
      "{'results': [{'itemId': 'bff683ed59e140bf8505fe791e109f16', 'success': True}]}\n",
      "\n",
      "Processing series code: 15.6.1 ER_CBD_SMTA\n"
     ]
    },
    {
     "data": {
      "text/plain": [
       "'../../data/unsd/2019.Q2.G.01/csv_Indicator_15.6.1_Series_ER_CBD_SMTA.csv'"
      ]
     },
     "metadata": {},
     "output_type": "display_data"
    },
    {
     "name": "stdout",
     "output_type": "stream",
     "text": [
      "Searching for ER_CBD_SMTA_15_6_1_2019Q2G01\n",
      " -- Item ER_CBD_SMTA_15_6_1_2019Q2G01 not found (force find)\n",
      "Adding CSV File to ArcGIS Online....\n",
      "Analyze Feature Service....\n",
      "Publishing Feature Service....\n",
      ".......call generate renderer within publish_csv\n",
      "Update Feature Service Symbology\n",
      "Moving CSV to Open Data Folder\n",
      "Updating Feature Service metadata....\n",
      "Moving Feature Service to Open Data Folder\n"
     ]
    },
    {
     "data": {
      "text/plain": [
       "{'notSharedWith': [], 'itemId': 'b68938b6a3a145fea0adeff3e5cc30d1'}"
      ]
     },
     "execution_count": 55,
     "metadata": {},
     "output_type": "execute_result"
    },
    {
     "name": "stdout",
     "output_type": "stream",
     "text": [
      "{'results': [{'itemId': 'b68938b6a3a145fea0adeff3e5cc30d1', 'success': True}]}\n",
      "\n",
      "Processing series code: 15.6.1 ER_CBD_NAGOYA\n"
     ]
    },
    {
     "data": {
      "text/plain": [
       "'../../data/unsd/2019.Q2.G.01/csv_Indicator_15.6.1_Series_ER_CBD_NAGOYA.csv'"
      ]
     },
     "metadata": {},
     "output_type": "display_data"
    },
    {
     "name": "stdout",
     "output_type": "stream",
     "text": [
      "Searching for ER_CBD_NAGOYA_15_6_1_2019Q2G01\n",
      " -- Item ER_CBD_NAGOYA_15_6_1_2019Q2G01 not found (force find)\n",
      "Adding CSV File to ArcGIS Online....\n",
      "Analyze Feature Service....\n",
      "Publishing Feature Service....\n",
      ".......call generate renderer within publish_csv\n",
      "Update Feature Service Symbology\n",
      "Moving CSV to Open Data Folder\n",
      "Updating Feature Service metadata....\n",
      "Moving Feature Service to Open Data Folder\n"
     ]
    },
    {
     "data": {
      "text/plain": [
       "{'notSharedWith': [], 'itemId': '599d0c04c1dd48e4993034f505a1288d'}"
      ]
     },
     "execution_count": 55,
     "metadata": {},
     "output_type": "execute_result"
    },
    {
     "name": "stdout",
     "output_type": "stream",
     "text": [
      "{'results': [{'itemId': '599d0c04c1dd48e4993034f505a1288d', 'success': True}]}\n",
      "\n",
      "Processing series code: 15.6.1 ER_CBD_ABSCLRHS\n"
     ]
    },
    {
     "data": {
      "text/plain": [
       "'../../data/unsd/2019.Q2.G.01/csv_Indicator_15.6.1_Series_ER_CBD_ABSCLRHS.csv'"
      ]
     },
     "metadata": {},
     "output_type": "display_data"
    },
    {
     "name": "stdout",
     "output_type": "stream",
     "text": [
      "Searching for ER_CBD_ABSCLRHS_15_6_1_2019Q2G01\n",
      " -- Item ER_CBD_ABSCLRHS_15_6_1_2019Q2G01 not found (force find)\n",
      "Adding CSV File to ArcGIS Online....\n",
      "Analyze Feature Service....\n",
      "Publishing Feature Service....\n",
      ".......call generate renderer within publish_csv\n",
      "Update Feature Service Symbology\n",
      "Moving CSV to Open Data Folder\n",
      "Updating Feature Service metadata....\n",
      "Moving Feature Service to Open Data Folder\n"
     ]
    },
    {
     "data": {
      "text/plain": [
       "{'notSharedWith': [], 'itemId': '6e50e6ecc10a4cc1bb4b4e26002680bc'}"
      ]
     },
     "execution_count": 55,
     "metadata": {},
     "output_type": "execute_result"
    },
    {
     "name": "stdout",
     "output_type": "stream",
     "text": [
      "{'results': [{'itemId': '6e50e6ecc10a4cc1bb4b4e26002680bc', 'success': True}]}\n",
      "\n",
      "Processing series code: 15.6.1 ER_CBD_ORSPGRFA\n"
     ]
    },
    {
     "data": {
      "text/plain": [
       "'../../data/unsd/2019.Q2.G.01/csv_Indicator_15.6.1_Series_ER_CBD_ORSPGRFA.csv'"
      ]
     },
     "metadata": {},
     "output_type": "display_data"
    },
    {
     "name": "stdout",
     "output_type": "stream",
     "text": [
      "Searching for ER_CBD_ORSPGRFA_15_6_1_2019Q2G01\n",
      " -- Item ER_CBD_ORSPGRFA_15_6_1_2019Q2G01 not found (force find)\n",
      "Adding CSV File to ArcGIS Online....\n",
      "Analyze Feature Service....\n",
      "Publishing Feature Service....\n",
      ".......call generate renderer within publish_csv\n",
      "Update Feature Service Symbology\n",
      "Moving CSV to Open Data Folder\n",
      "Updating Feature Service metadata....\n",
      "Moving Feature Service to Open Data Folder\n"
     ]
    },
    {
     "data": {
      "text/plain": [
       "{'notSharedWith': [], 'itemId': 'df60764a9aca46d0abf12092e1f4dfc4'}"
      ]
     },
     "execution_count": 55,
     "metadata": {},
     "output_type": "execute_result"
    },
    {
     "name": "stdout",
     "output_type": "stream",
     "text": [
      "{'results': [{'itemId': 'df60764a9aca46d0abf12092e1f4dfc4', 'success': True}]}\n",
      "\n",
      "Processing series code: 15.6.1 ER_CBD_PTYPGRFA\n"
     ]
    },
    {
     "data": {
      "text/plain": [
       "'../../data/unsd/2019.Q2.G.01/csv_Indicator_15.6.1_Series_ER_CBD_PTYPGRFA.csv'"
      ]
     },
     "metadata": {},
     "output_type": "display_data"
    },
    {
     "name": "stdout",
     "output_type": "stream",
     "text": [
      "Searching for ER_CBD_PTYPGRFA_15_6_1_2019Q2G01\n",
      " -- Item ER_CBD_PTYPGRFA_15_6_1_2019Q2G01 not found (force find)\n",
      "Adding CSV File to ArcGIS Online....\n",
      "Analyze Feature Service....\n",
      "Publishing Feature Service....\n",
      ".......call generate renderer within publish_csv\n",
      "Update Feature Service Symbology\n",
      "Moving CSV to Open Data Folder\n",
      "Updating Feature Service metadata....\n",
      "Moving Feature Service to Open Data Folder\n"
     ]
    },
    {
     "data": {
      "text/plain": [
       "{'notSharedWith': [], 'itemId': '7b26df8d6ad245ab8d02aef77bf9b679'}"
      ]
     },
     "execution_count": 55,
     "metadata": {},
     "output_type": "execute_result"
    },
    {
     "name": "stdout",
     "output_type": "stream",
     "text": [
      "{'results': [{'itemId': '7b26df8d6ad245ab8d02aef77bf9b679', 'success': True}]}\n",
      "\n",
      "Processing series code: 15.a.1 DC_ODA_BDVDL\n"
     ]
    },
    {
     "data": {
      "text/plain": [
       "'../../data/unsd/2019.Q2.G.01/csv_Indicator_15.a.1_Series_DC_ODA_BDVDL.csv'"
      ]
     },
     "metadata": {},
     "output_type": "display_data"
    },
    {
     "name": "stdout",
     "output_type": "stream",
     "text": [
      "Searching for DC_ODA_BDVDL_15_a_1_2019Q2G01\n",
      " -- Item DC_ODA_BDVDL_15_a_1_2019Q2G01 not found (force find)\n",
      "Adding CSV File to ArcGIS Online....\n",
      "Analyze Feature Service....\n",
      "Publishing Feature Service....\n",
      ".......call generate renderer within publish_csv\n",
      "Update Feature Service Symbology\n",
      "Moving CSV to Open Data Folder\n",
      "Updating Feature Service metadata....\n",
      "Moving Feature Service to Open Data Folder\n"
     ]
    },
    {
     "data": {
      "text/plain": [
       "{'notSharedWith': [], 'itemId': '0324b50730bb4e28bc3785b5a24f179a'}"
      ]
     },
     "execution_count": 55,
     "metadata": {},
     "output_type": "execute_result"
    },
    {
     "name": "stdout",
     "output_type": "stream",
     "text": [
      "{'results': [{'itemId': '0324b50730bb4e28bc3785b5a24f179a', 'success': True}]}\n",
      "\n",
      "Processing series code: 15.a.1 DC_ODA_BDVL\n"
     ]
    },
    {
     "data": {
      "text/plain": [
       "'../../data/unsd/2019.Q2.G.01/csv_Indicator_15.a.1_Series_DC_ODA_BDVL.csv'"
      ]
     },
     "metadata": {},
     "output_type": "display_data"
    },
    {
     "name": "stdout",
     "output_type": "stream",
     "text": [
      "Searching for DC_ODA_BDVL_15_a_1_2019Q2G01\n",
      " -- Item DC_ODA_BDVL_15_a_1_2019Q2G01 not found (force find)\n",
      "Adding CSV File to ArcGIS Online....\n",
      "Analyze Feature Service....\n",
      "Publishing Feature Service....\n",
      ".......call generate renderer within publish_csv\n",
      "Update Feature Service Symbology\n",
      "Moving CSV to Open Data Folder\n",
      "Updating Feature Service metadata....\n",
      "Moving Feature Service to Open Data Folder\n"
     ]
    },
    {
     "data": {
      "text/plain": [
       "{'notSharedWith': [], 'itemId': '6a6dc9e7dc414c51a2badbed5b56b1ec'}"
      ]
     },
     "execution_count": 55,
     "metadata": {},
     "output_type": "execute_result"
    },
    {
     "name": "stdout",
     "output_type": "stream",
     "text": [
      "{'results': [{'itemId': '6a6dc9e7dc414c51a2badbed5b56b1ec', 'success': True}]}\n",
      "\n",
      "Processing series code: 15.b.1 DC_ODA_BDVDL\n"
     ]
    },
    {
     "data": {
      "text/plain": [
       "'../../data/unsd/2019.Q2.G.01/csv_Indicator_15.b.1_Series_DC_ODA_BDVDL.csv'"
      ]
     },
     "metadata": {},
     "output_type": "display_data"
    },
    {
     "name": "stdout",
     "output_type": "stream",
     "text": [
      "Searching for DC_ODA_BDVDL_15_b_1_2019Q2G01\n",
      " -- Item DC_ODA_BDVDL_15_b_1_2019Q2G01 not found (force find)\n",
      "Adding CSV File to ArcGIS Online....\n",
      "Analyze Feature Service....\n",
      "Publishing Feature Service....\n",
      ".......call generate renderer within publish_csv\n",
      "Update Feature Service Symbology\n",
      "Moving CSV to Open Data Folder\n",
      "Updating Feature Service metadata....\n",
      "Moving Feature Service to Open Data Folder\n"
     ]
    },
    {
     "data": {
      "text/plain": [
       "{'notSharedWith': [], 'itemId': '5942ed71706341b4a330897b1d71782a'}"
      ]
     },
     "execution_count": 55,
     "metadata": {},
     "output_type": "execute_result"
    },
    {
     "name": "stdout",
     "output_type": "stream",
     "text": [
      "{'results': [{'itemId': '5942ed71706341b4a330897b1d71782a', 'success': True}]}\n",
      "\n",
      "Processing series code: 15.b.1 DC_ODA_BDVL\n"
     ]
    },
    {
     "data": {
      "text/plain": [
       "'../../data/unsd/2019.Q2.G.01/csv_Indicator_15.b.1_Series_DC_ODA_BDVL.csv'"
      ]
     },
     "metadata": {},
     "output_type": "display_data"
    },
    {
     "name": "stdout",
     "output_type": "stream",
     "text": [
      "Searching for DC_ODA_BDVL_15_b_1_2019Q2G01\n",
      " -- Item DC_ODA_BDVL_15_b_1_2019Q2G01 not found (force find)\n",
      "Adding CSV File to ArcGIS Online....\n",
      "Analyze Feature Service....\n",
      "Publishing Feature Service....\n",
      ".......call generate renderer within publish_csv\n",
      "Update Feature Service Symbology\n",
      "Moving CSV to Open Data Folder\n",
      "Updating Feature Service metadata....\n",
      "Moving Feature Service to Open Data Folder\n"
     ]
    },
    {
     "data": {
      "text/plain": [
       "{'notSharedWith': [], 'itemId': '44be022d0fd3437a97e752558c94da54'}"
      ]
     },
     "execution_count": 55,
     "metadata": {},
     "output_type": "execute_result"
    },
    {
     "name": "stdout",
     "output_type": "stream",
     "text": [
      "{'results': [{'itemId': '44be022d0fd3437a97e752558c94da54', 'success': True}]}\n",
      "\n",
      "Processing series code: 16.1.1 VC_IHR_PSRC\n"
     ]
    },
    {
     "data": {
      "text/plain": [
       "'../../data/unsd/2019.Q2.G.01/csv_Indicator_16.1.1_Series_VC_IHR_PSRC.csv'"
      ]
     },
     "metadata": {},
     "output_type": "display_data"
    },
    {
     "name": "stdout",
     "output_type": "stream",
     "text": [
      "Searching for VC_IHR_PSRC_16_1_1_2019Q2G01\n",
      " -- Item VC_IHR_PSRC_16_1_1_2019Q2G01 not found (force find)\n",
      "Adding CSV File to ArcGIS Online....\n",
      "Analyze Feature Service....\n",
      "Publishing Feature Service....\n",
      ".......call generate renderer within publish_csv\n",
      "Update Feature Service Symbology\n",
      "Moving CSV to Open Data Folder\n",
      "Updating Feature Service metadata....\n",
      "Moving Feature Service to Open Data Folder\n"
     ]
    },
    {
     "data": {
      "text/plain": [
       "{'notSharedWith': [], 'itemId': 'f0b52ccea69a48b09df3f5fd58e58e84'}"
      ]
     },
     "execution_count": 55,
     "metadata": {},
     "output_type": "execute_result"
    },
    {
     "name": "stdout",
     "output_type": "stream",
     "text": [
      "{'results': [{'itemId': 'f0b52ccea69a48b09df3f5fd58e58e84', 'success': True}]}\n",
      "\n",
      "Processing series code: 16.1.1 VC_IHR_PSRCN\n"
     ]
    },
    {
     "data": {
      "text/plain": [
       "'../../data/unsd/2019.Q2.G.01/csv_Indicator_16.1.1_Series_VC_IHR_PSRCN.csv'"
      ]
     },
     "metadata": {},
     "output_type": "display_data"
    },
    {
     "name": "stdout",
     "output_type": "stream",
     "text": [
      "Searching for VC_IHR_PSRCN_16_1_1_2019Q2G01\n",
      " -- Item VC_IHR_PSRCN_16_1_1_2019Q2G01 not found (force find)\n",
      "Adding CSV File to ArcGIS Online....\n",
      "Analyze Feature Service....\n",
      "Publishing Feature Service....\n",
      ".......call generate renderer within publish_csv\n",
      "Update Feature Service Symbology\n",
      "Moving CSV to Open Data Folder\n",
      "Updating Feature Service metadata....\n",
      "Moving Feature Service to Open Data Folder\n"
     ]
    },
    {
     "data": {
      "text/plain": [
       "{'notSharedWith': [], 'itemId': '9d7c33492308466abd69f374d3d67f19'}"
      ]
     },
     "execution_count": 55,
     "metadata": {},
     "output_type": "execute_result"
    },
    {
     "name": "stdout",
     "output_type": "stream",
     "text": [
      "{'results': [{'itemId': '9d7c33492308466abd69f374d3d67f19', 'success': True}]}\n",
      "\n",
      "Processing series code: 16.1.3 VC_VOV_PHYL\n"
     ]
    },
    {
     "data": {
      "text/plain": [
       "'../../data/unsd/2019.Q2.G.01/csv_Indicator_16.1.3_Series_VC_VOV_PHYL.csv'"
      ]
     },
     "metadata": {},
     "output_type": "display_data"
    },
    {
     "name": "stdout",
     "output_type": "stream",
     "text": [
      "Searching for VC_VOV_PHYL_16_1_3_2019Q2G01\n",
      " -- Item VC_VOV_PHYL_16_1_3_2019Q2G01 not found (force find)\n",
      "Adding CSV File to ArcGIS Online....\n",
      "Analyze Feature Service....\n",
      "Publishing Feature Service....\n",
      ".......call generate renderer within publish_csv\n",
      "Update Feature Service Symbology\n",
      "Moving CSV to Open Data Folder\n",
      "Updating Feature Service metadata....\n",
      "Moving Feature Service to Open Data Folder\n"
     ]
    },
    {
     "data": {
      "text/plain": [
       "{'notSharedWith': [], 'itemId': '0cd7febe8fe04dc5a2e662ca0a455802'}"
      ]
     },
     "execution_count": 55,
     "metadata": {},
     "output_type": "execute_result"
    },
    {
     "name": "stdout",
     "output_type": "stream",
     "text": [
      "{'results': [{'itemId': '0cd7febe8fe04dc5a2e662ca0a455802', 'success': True}]}\n",
      "\n",
      "Processing series code: 16.1.3 VC_VOV_ROBB\n"
     ]
    },
    {
     "data": {
      "text/plain": [
       "'../../data/unsd/2019.Q2.G.01/csv_Indicator_16.1.3_Series_VC_VOV_ROBB.csv'"
      ]
     },
     "metadata": {},
     "output_type": "display_data"
    },
    {
     "name": "stdout",
     "output_type": "stream",
     "text": [
      "Searching for VC_VOV_ROBB_16_1_3_2019Q2G01\n",
      " -- Item VC_VOV_ROBB_16_1_3_2019Q2G01 not found (force find)\n",
      "Adding CSV File to ArcGIS Online....\n",
      "Analyze Feature Service....\n",
      "Publishing Feature Service....\n",
      ".......call generate renderer within publish_csv\n",
      "Update Feature Service Symbology\n",
      "Moving CSV to Open Data Folder\n",
      "Updating Feature Service metadata....\n",
      "Moving Feature Service to Open Data Folder\n"
     ]
    },
    {
     "data": {
      "text/plain": [
       "{'notSharedWith': [], 'itemId': '2126c40813a044578c3f86f462c0aa14'}"
      ]
     },
     "execution_count": 55,
     "metadata": {},
     "output_type": "execute_result"
    },
    {
     "name": "stdout",
     "output_type": "stream",
     "text": [
      "{'results': [{'itemId': '2126c40813a044578c3f86f462c0aa14', 'success': True}]}\n",
      "\n",
      "Processing series code: 16.1.3 VC_VOV_SEXL\n"
     ]
    },
    {
     "data": {
      "text/plain": [
       "'../../data/unsd/2019.Q2.G.01/csv_Indicator_16.1.3_Series_VC_VOV_SEXL.csv'"
      ]
     },
     "metadata": {},
     "output_type": "display_data"
    },
    {
     "name": "stdout",
     "output_type": "stream",
     "text": [
      "Searching for VC_VOV_SEXL_16_1_3_2019Q2G01\n",
      " -- Item VC_VOV_SEXL_16_1_3_2019Q2G01 not found (force find)\n",
      "Adding CSV File to ArcGIS Online....\n",
      "Analyze Feature Service....\n",
      "Publishing Feature Service....\n",
      ".......call generate renderer within publish_csv\n",
      "Update Feature Service Symbology\n",
      "Moving CSV to Open Data Folder\n",
      "Updating Feature Service metadata....\n",
      "Moving Feature Service to Open Data Folder\n"
     ]
    },
    {
     "data": {
      "text/plain": [
       "{'notSharedWith': [], 'itemId': '74f24d096eb64380a76df850c3ec1f8e'}"
      ]
     },
     "execution_count": 55,
     "metadata": {},
     "output_type": "execute_result"
    },
    {
     "name": "stdout",
     "output_type": "stream",
     "text": [
      "{'results': [{'itemId': '74f24d096eb64380a76df850c3ec1f8e', 'success': True}]}\n",
      "\n",
      "Processing series code: 16.1.4 VC_SNS_WALN\n"
     ]
    },
    {
     "data": {
      "text/plain": [
       "'../../data/unsd/2019.Q2.G.01/csv_Indicator_16.1.4_Series_VC_SNS_WALN.csv'"
      ]
     },
     "metadata": {},
     "output_type": "display_data"
    },
    {
     "name": "stdout",
     "output_type": "stream",
     "text": [
      "Searching for VC_SNS_WALN_16_1_4_2019Q2G01\n",
      " -- Item VC_SNS_WALN_16_1_4_2019Q2G01 not found (force find)\n",
      "Adding CSV File to ArcGIS Online....\n",
      "Analyze Feature Service....\n",
      "Publishing Feature Service....\n",
      ".......call generate renderer within publish_csv\n",
      "Update Feature Service Symbology\n",
      "Moving CSV to Open Data Folder\n",
      "Updating Feature Service metadata....\n",
      "Moving Feature Service to Open Data Folder\n"
     ]
    },
    {
     "data": {
      "text/plain": [
       "{'notSharedWith': [], 'itemId': '0eb5896a15f34cac89b90af777b5a62e'}"
      ]
     },
     "execution_count": 55,
     "metadata": {},
     "output_type": "execute_result"
    },
    {
     "name": "stdout",
     "output_type": "stream",
     "text": [
      "{'results': [{'itemId': '0eb5896a15f34cac89b90af777b5a62e', 'success': True}]}\n",
      "\n",
      "Processing series code: 16.2.1 VC_VAW_PHYPYV\n"
     ]
    },
    {
     "data": {
      "text/plain": [
       "'../../data/unsd/2019.Q2.G.01/csv_Indicator_16.2.1_Series_VC_VAW_PHYPYV.csv'"
      ]
     },
     "metadata": {},
     "output_type": "display_data"
    },
    {
     "name": "stdout",
     "output_type": "stream",
     "text": [
      "Searching for VC_VAW_PHYPYV_16_2_1_2019Q2G01\n",
      " -- Item VC_VAW_PHYPYV_16_2_1_2019Q2G01 not found (force find)\n",
      "Adding CSV File to ArcGIS Online....\n",
      "Analyze Feature Service....\n",
      "Publishing Feature Service....\n",
      ".......call generate renderer within publish_csv\n",
      "Update Feature Service Symbology\n",
      "Moving CSV to Open Data Folder\n",
      "Updating Feature Service metadata....\n",
      "Moving Feature Service to Open Data Folder\n"
     ]
    },
    {
     "data": {
      "text/plain": [
       "{'notSharedWith': [], 'itemId': '4bdb48d97b9c4008a6c7aaf06d5ed43c'}"
      ]
     },
     "execution_count": 55,
     "metadata": {},
     "output_type": "execute_result"
    },
    {
     "name": "stdout",
     "output_type": "stream",
     "text": [
      "{'results': [{'itemId': '4bdb48d97b9c4008a6c7aaf06d5ed43c', 'success': True}]}\n",
      "\n",
      "Processing series code: 16.2.2 VC_HTF_DETVFL\n"
     ]
    },
    {
     "data": {
      "text/plain": [
       "'../../data/unsd/2019.Q2.G.01/csv_Indicator_16.2.2_Series_VC_HTF_DETVFL.csv'"
      ]
     },
     "metadata": {},
     "output_type": "display_data"
    },
    {
     "name": "stdout",
     "output_type": "stream",
     "text": [
      "Searching for VC_HTF_DETVFL_16_2_2_2019Q2G01\n",
      " -- Item VC_HTF_DETVFL_16_2_2_2019Q2G01 not found (force find)\n",
      "Adding CSV File to ArcGIS Online....\n",
      "Analyze Feature Service....\n",
      "Publishing Feature Service....\n",
      ".......call generate renderer within publish_csv\n",
      "Update Feature Service Symbology\n",
      "Moving CSV to Open Data Folder\n",
      "Updating Feature Service metadata....\n",
      "Moving Feature Service to Open Data Folder\n"
     ]
    },
    {
     "data": {
      "text/plain": [
       "{'notSharedWith': [], 'itemId': 'c5702bf1e5b24acaa9f2a4b1e7572dae'}"
      ]
     },
     "execution_count": 55,
     "metadata": {},
     "output_type": "execute_result"
    },
    {
     "name": "stdout",
     "output_type": "stream",
     "text": [
      "{'results': [{'itemId': 'c5702bf1e5b24acaa9f2a4b1e7572dae', 'success': True}]}\n",
      "\n",
      "Processing series code: 16.2.2 VC_HTF_DETVOP\n"
     ]
    },
    {
     "data": {
      "text/plain": [
       "'../../data/unsd/2019.Q2.G.01/csv_Indicator_16.2.2_Series_VC_HTF_DETVOP.csv'"
      ]
     },
     "metadata": {},
     "output_type": "display_data"
    },
    {
     "name": "stdout",
     "output_type": "stream",
     "text": [
      "Searching for VC_HTF_DETVOP_16_2_2_2019Q2G01\n",
      " -- Item VC_HTF_DETVOP_16_2_2_2019Q2G01 not found (force find)\n",
      "Adding CSV File to ArcGIS Online....\n",
      "Analyze Feature Service....\n",
      "Publishing Feature Service....\n",
      ".......call generate renderer within publish_csv\n",
      "Update Feature Service Symbology\n",
      "Moving CSV to Open Data Folder\n",
      "Updating Feature Service metadata....\n",
      "Moving Feature Service to Open Data Folder\n"
     ]
    },
    {
     "data": {
      "text/plain": [
       "{'notSharedWith': [], 'itemId': 'a022be980f864dc9b9f239f0fe5e1e02'}"
      ]
     },
     "execution_count": 55,
     "metadata": {},
     "output_type": "execute_result"
    },
    {
     "name": "stdout",
     "output_type": "stream",
     "text": [
      "{'results': [{'itemId': 'a022be980f864dc9b9f239f0fe5e1e02', 'success': True}]}\n",
      "\n",
      "Processing series code: 16.2.2 VC_HTF_DETVOG\n"
     ]
    },
    {
     "data": {
      "text/plain": [
       "'../../data/unsd/2019.Q2.G.01/csv_Indicator_16.2.2_Series_VC_HTF_DETVOG.csv'"
      ]
     },
     "metadata": {},
     "output_type": "display_data"
    },
    {
     "name": "stdout",
     "output_type": "stream",
     "text": [
      "Searching for VC_HTF_DETVOG_16_2_2_2019Q2G01\n",
      " -- Item VC_HTF_DETVOG_16_2_2_2019Q2G01 not found (force find)\n",
      "Adding CSV File to ArcGIS Online....\n",
      "Analyze Feature Service....\n",
      "Publishing Feature Service....\n",
      ".......call generate renderer within publish_csv\n",
      "Update Feature Service Symbology\n",
      "Moving CSV to Open Data Folder\n",
      "Updating Feature Service metadata....\n",
      "Moving Feature Service to Open Data Folder\n"
     ]
    },
    {
     "data": {
      "text/plain": [
       "{'notSharedWith': [], 'itemId': 'd30b623ccbe9469098a7ae7bcbd68d79'}"
      ]
     },
     "execution_count": 55,
     "metadata": {},
     "output_type": "execute_result"
    },
    {
     "name": "stdout",
     "output_type": "stream",
     "text": [
      "{'results': [{'itemId': 'd30b623ccbe9469098a7ae7bcbd68d79', 'success': True}]}\n",
      "\n",
      "Processing series code: 16.2.2 VC_HTF_DETVSX\n"
     ]
    },
    {
     "data": {
      "text/plain": [
       "'../../data/unsd/2019.Q2.G.01/csv_Indicator_16.2.2_Series_VC_HTF_DETVSX.csv'"
      ]
     },
     "metadata": {},
     "output_type": "display_data"
    },
    {
     "name": "stdout",
     "output_type": "stream",
     "text": [
      "Searching for VC_HTF_DETVSX_16_2_2_2019Q2G01\n",
      " -- Item VC_HTF_DETVSX_16_2_2_2019Q2G01 not found (force find)\n",
      "Adding CSV File to ArcGIS Online....\n",
      "Analyze Feature Service....\n",
      "Publishing Feature Service....\n",
      ".......call generate renderer within publish_csv\n",
      "Update Feature Service Symbology\n",
      "Moving CSV to Open Data Folder\n",
      "Updating Feature Service metadata....\n",
      "Moving Feature Service to Open Data Folder\n"
     ]
    },
    {
     "data": {
      "text/plain": [
       "{'notSharedWith': [], 'itemId': '7642ec3a34ce4e74bbcd1368b700a46f'}"
      ]
     },
     "execution_count": 55,
     "metadata": {},
     "output_type": "execute_result"
    },
    {
     "name": "stdout",
     "output_type": "stream",
     "text": [
      "{'results': [{'itemId': '7642ec3a34ce4e74bbcd1368b700a46f', 'success': True}]}\n",
      "\n",
      "Processing series code: 16.2.2 VC_HTF_DETV\n"
     ]
    },
    {
     "data": {
      "text/plain": [
       "'../../data/unsd/2019.Q2.G.01/csv_Indicator_16.2.2_Series_VC_HTF_DETV.csv'"
      ]
     },
     "metadata": {},
     "output_type": "display_data"
    },
    {
     "name": "stdout",
     "output_type": "stream",
     "text": [
      "Searching for VC_HTF_DETV_16_2_2_2019Q2G01\n",
      " -- Item VC_HTF_DETV_16_2_2_2019Q2G01 not found (force find)\n",
      "Adding CSV File to ArcGIS Online....\n",
      "Analyze Feature Service....\n",
      "Publishing Feature Service....\n",
      ".......call generate renderer within publish_csv\n",
      "Update Feature Service Symbology\n",
      "Moving CSV to Open Data Folder\n",
      "Updating Feature Service metadata....\n",
      "Moving Feature Service to Open Data Folder\n"
     ]
    },
    {
     "data": {
      "text/plain": [
       "{'notSharedWith': [], 'itemId': '1ca4afb243c24a38aad58db3fe176ad6'}"
      ]
     },
     "execution_count": 55,
     "metadata": {},
     "output_type": "execute_result"
    },
    {
     "name": "stdout",
     "output_type": "stream",
     "text": [
      "{'results': [{'itemId': '1ca4afb243c24a38aad58db3fe176ad6', 'success': True}]}\n",
      "\n",
      "Processing series code: 16.2.3 VC_VAW_SXVLN\n"
     ]
    },
    {
     "data": {
      "text/plain": [
       "'../../data/unsd/2019.Q2.G.01/csv_Indicator_16.2.3_Series_VC_VAW_SXVLN.csv'"
      ]
     },
     "metadata": {},
     "output_type": "display_data"
    },
    {
     "name": "stdout",
     "output_type": "stream",
     "text": [
      "Searching for VC_VAW_SXVLN_16_2_3_2019Q2G01\n",
      " -- Item VC_VAW_SXVLN_16_2_3_2019Q2G01 not found (force find)\n",
      "Adding CSV File to ArcGIS Online....\n",
      "Analyze Feature Service....\n",
      "Publishing Feature Service....\n",
      ".......call generate renderer within publish_csv\n",
      "Update Feature Service Symbology\n",
      "Moving CSV to Open Data Folder\n",
      "Updating Feature Service metadata....\n",
      "Moving Feature Service to Open Data Folder\n"
     ]
    },
    {
     "data": {
      "text/plain": [
       "{'notSharedWith': [], 'itemId': 'fcabb42602e24034bc98be0e5b989334'}"
      ]
     },
     "execution_count": 55,
     "metadata": {},
     "output_type": "execute_result"
    },
    {
     "name": "stdout",
     "output_type": "stream",
     "text": [
      "{'results': [{'itemId': 'fcabb42602e24034bc98be0e5b989334', 'success': True}]}\n",
      "\n",
      "Processing series code: 16.3.1 VC_PRR_PHYV\n"
     ]
    },
    {
     "data": {
      "text/plain": [
       "'../../data/unsd/2019.Q2.G.01/csv_Indicator_16.3.1_Series_VC_PRR_PHYV.csv'"
      ]
     },
     "metadata": {},
     "output_type": "display_data"
    },
    {
     "name": "stdout",
     "output_type": "stream",
     "text": [
      "Searching for VC_PRR_PHYV_16_3_1_2019Q2G01\n",
      " -- Item VC_PRR_PHYV_16_3_1_2019Q2G01 not found (force find)\n",
      "Adding CSV File to ArcGIS Online....\n",
      "Analyze Feature Service....\n",
      "Publishing Feature Service....\n",
      ".......call generate renderer within publish_csv\n",
      "Update Feature Service Symbology\n",
      "Moving CSV to Open Data Folder\n",
      "Updating Feature Service metadata....\n",
      "Moving Feature Service to Open Data Folder\n"
     ]
    },
    {
     "data": {
      "text/plain": [
       "{'notSharedWith': [], 'itemId': '32f0422f1715434190d9a997e6ca3b50'}"
      ]
     },
     "execution_count": 55,
     "metadata": {},
     "output_type": "execute_result"
    },
    {
     "name": "stdout",
     "output_type": "stream",
     "text": [
      "{'results': [{'itemId': '32f0422f1715434190d9a997e6ca3b50', 'success': True}]}\n",
      "\n",
      "Processing series code: 16.3.1 VC_PRR_SEXV\n"
     ]
    },
    {
     "data": {
      "text/plain": [
       "'../../data/unsd/2019.Q2.G.01/csv_Indicator_16.3.1_Series_VC_PRR_SEXV.csv'"
      ]
     },
     "metadata": {},
     "output_type": "display_data"
    },
    {
     "name": "stdout",
     "output_type": "stream",
     "text": [
      "Searching for VC_PRR_SEXV_16_3_1_2019Q2G01\n",
      " -- Item VC_PRR_SEXV_16_3_1_2019Q2G01 not found (force find)\n",
      "Adding CSV File to ArcGIS Online....\n",
      "Analyze Feature Service....\n",
      "Publishing Feature Service....\n",
      ".......call generate renderer within publish_csv\n",
      "Update Feature Service Symbology\n",
      "Moving CSV to Open Data Folder\n",
      "Updating Feature Service metadata....\n",
      "Moving Feature Service to Open Data Folder\n"
     ]
    },
    {
     "data": {
      "text/plain": [
       "{'notSharedWith': [], 'itemId': '094aaaaa41454a0e896eb0e6c0b71e53'}"
      ]
     },
     "execution_count": 55,
     "metadata": {},
     "output_type": "execute_result"
    },
    {
     "name": "stdout",
     "output_type": "stream",
     "text": [
      "{'results': [{'itemId': '094aaaaa41454a0e896eb0e6c0b71e53', 'success': True}]}\n",
      "\n",
      "Processing series code: 16.3.1 VC_PRR_ROBB\n"
     ]
    },
    {
     "data": {
      "text/plain": [
       "'../../data/unsd/2019.Q2.G.01/csv_Indicator_16.3.1_Series_VC_PRR_ROBB.csv'"
      ]
     },
     "metadata": {},
     "output_type": "display_data"
    },
    {
     "name": "stdout",
     "output_type": "stream",
     "text": [
      "Searching for VC_PRR_ROBB_16_3_1_2019Q2G01\n",
      " -- Item VC_PRR_ROBB_16_3_1_2019Q2G01 not found (force find)\n",
      "Adding CSV File to ArcGIS Online....\n",
      "Analyze Feature Service....\n",
      "Publishing Feature Service....\n",
      ".......call generate renderer within publish_csv\n",
      "Update Feature Service Symbology\n",
      "Moving CSV to Open Data Folder\n",
      "Updating Feature Service metadata....\n",
      "Moving Feature Service to Open Data Folder\n"
     ]
    },
    {
     "data": {
      "text/plain": [
       "{'notSharedWith': [], 'itemId': '3aede55ca9564112a3f9cd8a98ea9027'}"
      ]
     },
     "execution_count": 55,
     "metadata": {},
     "output_type": "execute_result"
    },
    {
     "name": "stdout",
     "output_type": "stream",
     "text": [
      "{'results': [{'itemId': '3aede55ca9564112a3f9cd8a98ea9027', 'success': True}]}\n",
      "\n",
      "Processing series code: 16.3.2 VC_PRS_UNSEC\n"
     ]
    },
    {
     "data": {
      "text/plain": [
       "'../../data/unsd/2019.Q2.G.01/csv_Indicator_16.3.2_Series_VC_PRS_UNSEC.csv'"
      ]
     },
     "metadata": {},
     "output_type": "display_data"
    },
    {
     "name": "stdout",
     "output_type": "stream",
     "text": [
      "Searching for VC_PRS_UNSEC_16_3_2_2019Q2G01\n",
      " -- Item VC_PRS_UNSEC_16_3_2_2019Q2G01 not found (force find)\n",
      "Adding CSV File to ArcGIS Online....\n",
      "Analyze Feature Service....\n",
      "Publishing Feature Service....\n",
      ".......call generate renderer within publish_csv\n",
      "Update Feature Service Symbology\n",
      "Moving CSV to Open Data Folder\n",
      "Updating Feature Service metadata....\n",
      "Moving Feature Service to Open Data Folder\n"
     ]
    },
    {
     "data": {
      "text/plain": [
       "{'notSharedWith': [], 'itemId': '032bc466dec04bfb8c54bcf861ed78ab'}"
      ]
     },
     "execution_count": 55,
     "metadata": {},
     "output_type": "execute_result"
    },
    {
     "name": "stdout",
     "output_type": "stream",
     "text": [
      "{'results': [{'itemId': '032bc466dec04bfb8c54bcf861ed78ab', 'success': True}]}\n",
      "\n",
      "Processing series code: 16.5.1 IU_COR_BRIB\n"
     ]
    },
    {
     "data": {
      "text/plain": [
       "'../../data/unsd/2019.Q2.G.01/csv_Indicator_16.5.1_Series_IU_COR_BRIB.csv'"
      ]
     },
     "metadata": {},
     "output_type": "display_data"
    },
    {
     "name": "stdout",
     "output_type": "stream",
     "text": [
      "Searching for IU_COR_BRIB_16_5_1_2019Q2G01\n",
      " -- Item IU_COR_BRIB_16_5_1_2019Q2G01 not found (force find)\n",
      "Adding CSV File to ArcGIS Online....\n",
      "Analyze Feature Service....\n",
      "Publishing Feature Service....\n",
      ".......call generate renderer within publish_csv\n",
      "Update Feature Service Symbology\n",
      "Moving CSV to Open Data Folder\n",
      "Updating Feature Service metadata....\n",
      "Moving Feature Service to Open Data Folder\n"
     ]
    },
    {
     "data": {
      "text/plain": [
       "{'notSharedWith': [], 'itemId': '516b5cf992f94347b0ebaaa74876cd74'}"
      ]
     },
     "execution_count": 55,
     "metadata": {},
     "output_type": "execute_result"
    },
    {
     "name": "stdout",
     "output_type": "stream",
     "text": [
      "{'results': [{'itemId': '516b5cf992f94347b0ebaaa74876cd74', 'success': True}]}\n",
      "\n",
      "Processing series code: 16.5.2 IC_FRM_BRIB\n"
     ]
    },
    {
     "data": {
      "text/plain": [
       "'../../data/unsd/2019.Q2.G.01/csv_Indicator_16.5.2_Series_IC_FRM_BRIB.csv'"
      ]
     },
     "metadata": {},
     "output_type": "display_data"
    },
    {
     "name": "stdout",
     "output_type": "stream",
     "text": [
      "Searching for IC_FRM_BRIB_16_5_2_2019Q2G01\n",
      " -- Item IC_FRM_BRIB_16_5_2_2019Q2G01 not found (force find)\n",
      "Adding CSV File to ArcGIS Online....\n",
      "Analyze Feature Service....\n",
      "Publishing Feature Service....\n",
      ".......call generate renderer within publish_csv\n",
      "Update Feature Service Symbology\n",
      "Moving CSV to Open Data Folder\n",
      "Updating Feature Service metadata....\n",
      "Moving Feature Service to Open Data Folder\n"
     ]
    },
    {
     "data": {
      "text/plain": [
       "{'notSharedWith': [], 'itemId': 'eab46fe04ac54e15be8bb1064c79ffb1'}"
      ]
     },
     "execution_count": 55,
     "metadata": {},
     "output_type": "execute_result"
    },
    {
     "name": "stdout",
     "output_type": "stream",
     "text": [
      "{'results': [{'itemId': 'eab46fe04ac54e15be8bb1064c79ffb1', 'success': True}]}\n",
      "\n",
      "Processing series code: 16.6.1 GF_XPD_GBPC\n"
     ]
    },
    {
     "data": {
      "text/plain": [
       "'../../data/unsd/2019.Q2.G.01/csv_Indicator_16.6.1_Series_GF_XPD_GBPC.csv'"
      ]
     },
     "metadata": {},
     "output_type": "display_data"
    },
    {
     "name": "stdout",
     "output_type": "stream",
     "text": [
      "Searching for GF_XPD_GBPC_16_6_1_2019Q2G01\n",
      " -- Item GF_XPD_GBPC_16_6_1_2019Q2G01 not found (force find)\n",
      "Adding CSV File to ArcGIS Online....\n",
      "Analyze Feature Service....\n",
      "Publishing Feature Service....\n",
      ".......call generate renderer within publish_csv\n",
      "Update Feature Service Symbology\n",
      "Moving CSV to Open Data Folder\n",
      "Updating Feature Service metadata....\n",
      "Moving Feature Service to Open Data Folder\n"
     ]
    },
    {
     "data": {
      "text/plain": [
       "{'notSharedWith': [], 'itemId': '863ff1cf9f7f490d8c90785d9159d247'}"
      ]
     },
     "execution_count": 55,
     "metadata": {},
     "output_type": "execute_result"
    },
    {
     "name": "stdout",
     "output_type": "stream",
     "text": [
      "{'results': [{'itemId': '863ff1cf9f7f490d8c90785d9159d247', 'success': True}]}\n",
      "\n",
      "Processing series code: 16.8.1 SG_INT_MBRDEV\n"
     ]
    },
    {
     "data": {
      "text/plain": [
       "'../../data/unsd/2019.Q2.G.01/csv_Indicator_16.8.1_Series_SG_INT_MBRDEV.csv'"
      ]
     },
     "metadata": {},
     "output_type": "display_data"
    },
    {
     "name": "stdout",
     "output_type": "stream",
     "text": [
      "Searching for SG_INT_MBRDEV_16_8_1_2019Q2G01\n",
      " -- Item SG_INT_MBRDEV_16_8_1_2019Q2G01 not found (force find)\n",
      "Adding CSV File to ArcGIS Online....\n",
      "Analyze Feature Service....\n",
      "Publishing Feature Service....\n",
      ".......call generate renderer within publish_csv\n",
      "Update Feature Service Symbology\n",
      "Moving CSV to Open Data Folder\n",
      "Updating Feature Service metadata....\n",
      "Moving Feature Service to Open Data Folder\n"
     ]
    },
    {
     "data": {
      "text/plain": [
       "{'notSharedWith': [], 'itemId': 'abb3aebb0c74406884fedf1760c39f53'}"
      ]
     },
     "execution_count": 55,
     "metadata": {},
     "output_type": "execute_result"
    },
    {
     "name": "stdout",
     "output_type": "stream",
     "text": [
      "{'results': [{'itemId': 'abb3aebb0c74406884fedf1760c39f53', 'success': True}]}\n",
      "\n",
      "Processing series code: 16.8.1 SG_INT_VRTDEV\n"
     ]
    },
    {
     "data": {
      "text/plain": [
       "'../../data/unsd/2019.Q2.G.01/csv_Indicator_16.8.1_Series_SG_INT_VRTDEV.csv'"
      ]
     },
     "metadata": {},
     "output_type": "display_data"
    },
    {
     "name": "stdout",
     "output_type": "stream",
     "text": [
      "Searching for SG_INT_VRTDEV_16_8_1_2019Q2G01\n",
      " -- Item SG_INT_VRTDEV_16_8_1_2019Q2G01 not found (force find)\n",
      "Adding CSV File to ArcGIS Online....\n",
      "Analyze Feature Service....\n",
      "Publishing Feature Service....\n",
      ".......call generate renderer within publish_csv\n",
      "Update Feature Service Symbology\n",
      "Moving CSV to Open Data Folder\n",
      "Updating Feature Service metadata....\n",
      "Moving Feature Service to Open Data Folder\n"
     ]
    },
    {
     "data": {
      "text/plain": [
       "{'notSharedWith': [], 'itemId': 'fdf75ce8061e4eee8f1a8c18b65a3791'}"
      ]
     },
     "execution_count": 55,
     "metadata": {},
     "output_type": "execute_result"
    },
    {
     "name": "stdout",
     "output_type": "stream",
     "text": [
      "{'results': [{'itemId': 'fdf75ce8061e4eee8f1a8c18b65a3791', 'success': True}]}\n",
      "\n",
      "Processing series code: 16.9.1 SG_REG_BRTH\n"
     ]
    },
    {
     "data": {
      "text/plain": [
       "'../../data/unsd/2019.Q2.G.01/csv_Indicator_16.9.1_Series_SG_REG_BRTH.csv'"
      ]
     },
     "metadata": {},
     "output_type": "display_data"
    },
    {
     "name": "stdout",
     "output_type": "stream",
     "text": [
      "Searching for SG_REG_BRTH_16_9_1_2019Q2G01\n",
      " -- Item SG_REG_BRTH_16_9_1_2019Q2G01 not found (force find)\n",
      "Adding CSV File to ArcGIS Online....\n",
      "Analyze Feature Service....\n",
      "Publishing Feature Service....\n",
      ".......call generate renderer within publish_csv\n",
      "Update Feature Service Symbology\n",
      "Moving CSV to Open Data Folder\n",
      "Updating Feature Service metadata....\n",
      "Moving Feature Service to Open Data Folder\n"
     ]
    },
    {
     "data": {
      "text/plain": [
       "{'notSharedWith': [], 'itemId': '359a92a4ce7545a7a6614a31440f9f5a'}"
      ]
     },
     "execution_count": 55,
     "metadata": {},
     "output_type": "execute_result"
    },
    {
     "name": "stdout",
     "output_type": "stream",
     "text": [
      "{'results': [{'itemId': '359a92a4ce7545a7a6614a31440f9f5a', 'success': True}]}\n",
      "\n",
      "Processing series code: 16.10.1 VC_VAW_MTUHRA\n"
     ]
    },
    {
     "data": {
      "text/plain": [
       "'../../data/unsd/2019.Q2.G.01/csv_Indicator_16.10.1_Series_VC_VAW_MTUHRA.csv'"
      ]
     },
     "metadata": {},
     "output_type": "display_data"
    },
    {
     "name": "stdout",
     "output_type": "stream",
     "text": [
      "\n",
      "Processing series code: 16.10.2 SG_INF_ACCSS\n"
     ]
    },
    {
     "data": {
      "text/plain": [
       "'../../data/unsd/2019.Q2.G.01/csv_Indicator_16.10.2_Series_SG_INF_ACCSS.csv'"
      ]
     },
     "metadata": {},
     "output_type": "display_data"
    },
    {
     "name": "stdout",
     "output_type": "stream",
     "text": [
      "Searching for SG_INF_ACCSS_16_10_2_2019Q2G01\n",
      " -- Item SG_INF_ACCSS_16_10_2_2019Q2G01 not found (force find)\n",
      "Adding CSV File to ArcGIS Online....\n",
      "Analyze Feature Service....\n",
      "Publishing Feature Service....\n",
      ".......call generate renderer within publish_csv\n",
      "Update Feature Service Symbology\n",
      "Moving CSV to Open Data Folder\n",
      "Updating Feature Service metadata....\n",
      "Moving Feature Service to Open Data Folder\n"
     ]
    },
    {
     "data": {
      "text/plain": [
       "{'notSharedWith': [], 'itemId': '92c54a2328714e13a8c54b7b4e289001'}"
      ]
     },
     "execution_count": 55,
     "metadata": {},
     "output_type": "execute_result"
    },
    {
     "name": "stdout",
     "output_type": "stream",
     "text": [
      "{'results': [{'itemId': '92c54a2328714e13a8c54b7b4e289001', 'success': True}]}\n",
      "\n",
      "Processing series code: 16.a.1 SG_NHR_IMPL\n"
     ]
    },
    {
     "data": {
      "text/plain": [
       "'../../data/unsd/2019.Q2.G.01/csv_Indicator_16.a.1_Series_SG_NHR_IMPL.csv'"
      ]
     },
     "metadata": {},
     "output_type": "display_data"
    },
    {
     "name": "stdout",
     "output_type": "stream",
     "text": [
      "\n",
      "Processing series code: 16.a.1 SG_NHR_IMPLN\n"
     ]
    },
    {
     "data": {
      "text/plain": [
       "'../../data/unsd/2019.Q2.G.01/csv_Indicator_16.a.1_Series_SG_NHR_IMPLN.csv'"
      ]
     },
     "metadata": {},
     "output_type": "display_data"
    },
    {
     "name": "stdout",
     "output_type": "stream",
     "text": [
      "Searching for SG_NHR_IMPLN_16_a_1_2019Q2G01\n",
      " -- Item SG_NHR_IMPLN_16_a_1_2019Q2G01 not found (force find)\n",
      "Adding CSV File to ArcGIS Online....\n",
      "Analyze Feature Service....\n",
      "Publishing Feature Service....\n",
      ".......call generate renderer within publish_csv\n",
      "Update Feature Service Symbology\n",
      "Moving CSV to Open Data Folder\n",
      "Updating Feature Service metadata....\n",
      "Moving Feature Service to Open Data Folder\n"
     ]
    },
    {
     "data": {
      "text/plain": [
       "{'notSharedWith': [], 'itemId': '583ec1dcc5274839bb4a0914387dc649'}"
      ]
     },
     "execution_count": 55,
     "metadata": {},
     "output_type": "execute_result"
    },
    {
     "name": "stdout",
     "output_type": "stream",
     "text": [
      "{'results': [{'itemId': '583ec1dcc5274839bb4a0914387dc649', 'success': True}]}\n",
      "\n",
      "Processing series code: 16.a.1 SG_NHR_INTEXST\n"
     ]
    },
    {
     "data": {
      "text/plain": [
       "'../../data/unsd/2019.Q2.G.01/csv_Indicator_16.a.1_Series_SG_NHR_INTEXST.csv'"
      ]
     },
     "metadata": {},
     "output_type": "display_data"
    },
    {
     "name": "stdout",
     "output_type": "stream",
     "text": [
      "\n",
      "Processing series code: 16.a.1 SG_NHR_NOSTUSN\n"
     ]
    },
    {
     "data": {
      "text/plain": [
       "'../../data/unsd/2019.Q2.G.01/csv_Indicator_16.a.1_Series_SG_NHR_NOSTUSN.csv'"
      ]
     },
     "metadata": {},
     "output_type": "display_data"
    },
    {
     "name": "stdout",
     "output_type": "stream",
     "text": [
      "Searching for SG_NHR_NOSTUSN_16_a_1_2019Q2G01\n",
      " -- Item SG_NHR_NOSTUSN_16_a_1_2019Q2G01 not found (force find)\n",
      "Adding CSV File to ArcGIS Online....\n",
      "Analyze Feature Service....\n",
      "Publishing Feature Service....\n",
      ".......call generate renderer within publish_csv\n",
      "Update Feature Service Symbology\n",
      "Moving CSV to Open Data Folder\n",
      "Updating Feature Service metadata....\n",
      "Moving Feature Service to Open Data Folder\n"
     ]
    },
    {
     "data": {
      "text/plain": [
       "{'notSharedWith': [], 'itemId': '8c0ab14a3bd54a73a190f17949f3dcfa'}"
      ]
     },
     "execution_count": 55,
     "metadata": {},
     "output_type": "execute_result"
    },
    {
     "name": "stdout",
     "output_type": "stream",
     "text": [
      "{'results': [{'itemId': '8c0ab14a3bd54a73a190f17949f3dcfa', 'success': True}]}\n",
      "\n",
      "Processing series code: 16.a.1 SG_NHR_INTEXSTN\n"
     ]
    },
    {
     "data": {
      "text/plain": [
       "'../../data/unsd/2019.Q2.G.01/csv_Indicator_16.a.1_Series_SG_NHR_INTEXSTN.csv'"
      ]
     },
     "metadata": {},
     "output_type": "display_data"
    },
    {
     "name": "stdout",
     "output_type": "stream",
     "text": [
      "Searching for SG_NHR_INTEXSTN_16_a_1_2019Q2G01\n",
      " -- Item SG_NHR_INTEXSTN_16_a_1_2019Q2G01 not found (force find)\n",
      "Adding CSV File to ArcGIS Online....\n",
      "Analyze Feature Service....\n",
      "Publishing Feature Service....\n",
      ".......call generate renderer within publish_csv\n",
      "Update Feature Service Symbology\n",
      "Moving CSV to Open Data Folder\n",
      "Updating Feature Service metadata....\n",
      "Moving Feature Service to Open Data Folder\n"
     ]
    },
    {
     "data": {
      "text/plain": [
       "{'notSharedWith': [], 'itemId': 'b21a1f431a3b46dea317f4a7a4e8dabe'}"
      ]
     },
     "execution_count": 55,
     "metadata": {},
     "output_type": "execute_result"
    },
    {
     "name": "stdout",
     "output_type": "stream",
     "text": [
      "{'results': [{'itemId': 'b21a1f431a3b46dea317f4a7a4e8dabe', 'success': True}]}\n",
      "\n",
      "Processing series code: 16.a.1 SG_NHR_NOAPPLN\n"
     ]
    },
    {
     "data": {
      "text/plain": [
       "'../../data/unsd/2019.Q2.G.01/csv_Indicator_16.a.1_Series_SG_NHR_NOAPPLN.csv'"
      ]
     },
     "metadata": {},
     "output_type": "display_data"
    },
    {
     "name": "stdout",
     "output_type": "stream",
     "text": [
      "Searching for SG_NHR_NOAPPLN_16_a_1_2019Q2G01\n",
      " -- Item SG_NHR_NOAPPLN_16_a_1_2019Q2G01 not found (force find)\n",
      "Adding CSV File to ArcGIS Online....\n",
      "Analyze Feature Service....\n",
      "Publishing Feature Service....\n",
      ".......call generate renderer within publish_csv\n",
      "Update Feature Service Symbology\n",
      "Moving CSV to Open Data Folder\n",
      "Updating Feature Service metadata....\n",
      "Moving Feature Service to Open Data Folder\n"
     ]
    },
    {
     "data": {
      "text/plain": [
       "{'notSharedWith': [], 'itemId': '00d9f8f9efcb4e23b8688d2ea4ac6d56'}"
      ]
     },
     "execution_count": 55,
     "metadata": {},
     "output_type": "execute_result"
    },
    {
     "name": "stdout",
     "output_type": "stream",
     "text": [
      "{'results': [{'itemId': '00d9f8f9efcb4e23b8688d2ea4ac6d56', 'success': True}]}\n",
      "\n",
      "Processing series code: 17.1.1 GR_G14_GDP\n"
     ]
    },
    {
     "data": {
      "text/plain": [
       "'../../data/unsd/2019.Q2.G.01/csv_Indicator_17.1.1_Series_GR_G14_GDP.csv'"
      ]
     },
     "metadata": {},
     "output_type": "display_data"
    },
    {
     "name": "stdout",
     "output_type": "stream",
     "text": [
      "Searching for GR_G14_GDP_17_1_1_2019Q2G01\n",
      " -- Item GR_G14_GDP_17_1_1_2019Q2G01 not found (force find)\n",
      "Adding CSV File to ArcGIS Online....\n",
      "Analyze Feature Service....\n",
      "Publishing Feature Service....\n",
      ".......call generate renderer within publish_csv\n",
      "Update Feature Service Symbology\n",
      "Moving CSV to Open Data Folder\n",
      "Updating Feature Service metadata....\n",
      "Moving Feature Service to Open Data Folder\n"
     ]
    },
    {
     "data": {
      "text/plain": [
       "{'notSharedWith': [], 'itemId': 'b86639ec146e44928aefea64b21dc694'}"
      ]
     },
     "execution_count": 55,
     "metadata": {},
     "output_type": "execute_result"
    },
    {
     "name": "stdout",
     "output_type": "stream",
     "text": [
      "{'results': [{'itemId': 'b86639ec146e44928aefea64b21dc694', 'success': True}]}\n",
      "\n",
      "Processing series code: 17.1.2 GC_GOB_TAXD\n"
     ]
    },
    {
     "data": {
      "text/plain": [
       "'../../data/unsd/2019.Q2.G.01/csv_Indicator_17.1.2_Series_GC_GOB_TAXD.csv'"
      ]
     },
     "metadata": {},
     "output_type": "display_data"
    },
    {
     "name": "stdout",
     "output_type": "stream",
     "text": [
      "Searching for GC_GOB_TAXD_17_1_2_2019Q2G01\n",
      " -- Item GC_GOB_TAXD_17_1_2_2019Q2G01 not found (force find)\n",
      "Adding CSV File to ArcGIS Online....\n",
      "Analyze Feature Service....\n",
      "Publishing Feature Service....\n",
      ".......call generate renderer within publish_csv\n",
      "Update Feature Service Symbology\n",
      "Moving CSV to Open Data Folder\n",
      "Updating Feature Service metadata....\n",
      "Moving Feature Service to Open Data Folder\n"
     ]
    },
    {
     "data": {
      "text/plain": [
       "{'notSharedWith': [], 'itemId': '7c25eda73ff046d5ad9340d5636cab20'}"
      ]
     },
     "execution_count": 55,
     "metadata": {},
     "output_type": "execute_result"
    },
    {
     "name": "stdout",
     "output_type": "stream",
     "text": [
      "{'results': [{'itemId': '7c25eda73ff046d5ad9340d5636cab20', 'success': True}]}\n",
      "\n",
      "Processing series code: 17.2.1 DC_ODA_SIDSG\n"
     ]
    },
    {
     "data": {
      "text/plain": [
       "'../../data/unsd/2019.Q2.G.01/csv_Indicator_17.2.1_Series_DC_ODA_SIDSG.csv'"
      ]
     },
     "metadata": {},
     "output_type": "display_data"
    },
    {
     "name": "stdout",
     "output_type": "stream",
     "text": [
      "Searching for DC_ODA_SIDSG_17_2_1_2019Q2G01\n",
      " -- Item DC_ODA_SIDSG_17_2_1_2019Q2G01 not found (force find)\n",
      "Adding CSV File to ArcGIS Online....\n",
      "Analyze Feature Service....\n",
      "Publishing Feature Service....\n",
      ".......call generate renderer within publish_csv\n",
      "Update Feature Service Symbology\n",
      "Moving CSV to Open Data Folder\n",
      "Updating Feature Service metadata....\n",
      "Moving Feature Service to Open Data Folder\n"
     ]
    },
    {
     "data": {
      "text/plain": [
       "{'notSharedWith': [], 'itemId': '751b62af26e8465895d4026f11f710bd'}"
      ]
     },
     "execution_count": 55,
     "metadata": {},
     "output_type": "execute_result"
    },
    {
     "name": "stdout",
     "output_type": "stream",
     "text": [
      "{'results': [{'itemId': '751b62af26e8465895d4026f11f710bd', 'success': True}]}\n",
      "\n",
      "Processing series code: 17.2.1 DC_ODA_LDCG\n"
     ]
    },
    {
     "data": {
      "text/plain": [
       "'../../data/unsd/2019.Q2.G.01/csv_Indicator_17.2.1_Series_DC_ODA_LDCG.csv'"
      ]
     },
     "metadata": {},
     "output_type": "display_data"
    },
    {
     "name": "stdout",
     "output_type": "stream",
     "text": [
      "Searching for DC_ODA_LDCG_17_2_1_2019Q2G01\n",
      " -- Item DC_ODA_LDCG_17_2_1_2019Q2G01 not found (force find)\n",
      "Adding CSV File to ArcGIS Online....\n",
      "Analyze Feature Service....\n",
      "Publishing Feature Service....\n",
      ".......call generate renderer within publish_csv\n",
      "Update Feature Service Symbology\n",
      "Moving CSV to Open Data Folder\n",
      "Updating Feature Service metadata....\n",
      "Moving Feature Service to Open Data Folder\n"
     ]
    },
    {
     "data": {
      "text/plain": [
       "{'notSharedWith': [], 'itemId': '70aea16ccb9045c890915f52a004b573'}"
      ]
     },
     "execution_count": 55,
     "metadata": {},
     "output_type": "execute_result"
    },
    {
     "name": "stdout",
     "output_type": "stream",
     "text": [
      "{'results': [{'itemId': '70aea16ccb9045c890915f52a004b573', 'success': True}]}\n",
      "\n",
      "Processing series code: 17.2.1 DC_ODA_LLDC\n"
     ]
    },
    {
     "data": {
      "text/plain": [
       "'../../data/unsd/2019.Q2.G.01/csv_Indicator_17.2.1_Series_DC_ODA_LLDC.csv'"
      ]
     },
     "metadata": {},
     "output_type": "display_data"
    },
    {
     "name": "stdout",
     "output_type": "stream",
     "text": [
      "Searching for DC_ODA_LLDC_17_2_1_2019Q2G01\n",
      " -- Item DC_ODA_LLDC_17_2_1_2019Q2G01 not found (force find)\n",
      "Adding CSV File to ArcGIS Online....\n",
      "Analyze Feature Service....\n",
      "Publishing Feature Service....\n",
      ".......call generate renderer within publish_csv\n",
      "Update Feature Service Symbology\n",
      "Moving CSV to Open Data Folder\n",
      "Updating Feature Service metadata....\n",
      "Moving Feature Service to Open Data Folder\n"
     ]
    },
    {
     "data": {
      "text/plain": [
       "{'notSharedWith': [], 'itemId': 'a93e65c37b094276a7956f9263dfa56f'}"
      ]
     },
     "execution_count": 55,
     "metadata": {},
     "output_type": "execute_result"
    },
    {
     "name": "stdout",
     "output_type": "stream",
     "text": [
      "{'results': [{'itemId': 'a93e65c37b094276a7956f9263dfa56f', 'success': True}]}\n",
      "\n",
      "Processing series code: 17.2.1 DC_ODA_SIDS\n"
     ]
    },
    {
     "data": {
      "text/plain": [
       "'../../data/unsd/2019.Q2.G.01/csv_Indicator_17.2.1_Series_DC_ODA_SIDS.csv'"
      ]
     },
     "metadata": {},
     "output_type": "display_data"
    },
    {
     "name": "stdout",
     "output_type": "stream",
     "text": [
      "Searching for DC_ODA_SIDS_17_2_1_2019Q2G01\n",
      " -- Item DC_ODA_SIDS_17_2_1_2019Q2G01 not found (force find)\n",
      "Adding CSV File to ArcGIS Online....\n",
      "Analyze Feature Service....\n",
      "Publishing Feature Service....\n",
      ".......call generate renderer within publish_csv\n",
      "Update Feature Service Symbology\n",
      "Moving CSV to Open Data Folder\n",
      "Updating Feature Service metadata....\n",
      "Moving Feature Service to Open Data Folder\n"
     ]
    },
    {
     "data": {
      "text/plain": [
       "{'notSharedWith': [], 'itemId': 'a34abbf7b6284162beb77c9538ce98a2'}"
      ]
     },
     "execution_count": 55,
     "metadata": {},
     "output_type": "execute_result"
    },
    {
     "name": "stdout",
     "output_type": "stream",
     "text": [
      "{'results': [{'itemId': 'a34abbf7b6284162beb77c9538ce98a2', 'success': True}]}\n",
      "\n",
      "Processing series code: 17.2.1 DC_ODA_LDCS\n"
     ]
    },
    {
     "data": {
      "text/plain": [
       "'../../data/unsd/2019.Q2.G.01/csv_Indicator_17.2.1_Series_DC_ODA_LDCS.csv'"
      ]
     },
     "metadata": {},
     "output_type": "display_data"
    },
    {
     "name": "stdout",
     "output_type": "stream",
     "text": [
      "Searching for DC_ODA_LDCS_17_2_1_2019Q2G01\n",
      " -- Item DC_ODA_LDCS_17_2_1_2019Q2G01 not found (force find)\n",
      "Adding CSV File to ArcGIS Online....\n",
      "Analyze Feature Service....\n",
      "Publishing Feature Service....\n",
      ".......call generate renderer within publish_csv\n",
      "Update Feature Service Symbology\n",
      "Moving CSV to Open Data Folder\n",
      "Updating Feature Service metadata....\n",
      "Moving Feature Service to Open Data Folder\n"
     ]
    },
    {
     "data": {
      "text/plain": [
       "{'notSharedWith': [], 'itemId': '65c8f4e1c5734337ac7659d21c100014'}"
      ]
     },
     "execution_count": 55,
     "metadata": {},
     "output_type": "execute_result"
    },
    {
     "name": "stdout",
     "output_type": "stream",
     "text": [
      "{'results': [{'itemId': '65c8f4e1c5734337ac7659d21c100014', 'success': True}]}\n",
      "\n",
      "Processing series code: 17.2.1 DC_ODA_LLDCG\n"
     ]
    },
    {
     "data": {
      "text/plain": [
       "'../../data/unsd/2019.Q2.G.01/csv_Indicator_17.2.1_Series_DC_ODA_LLDCG.csv'"
      ]
     },
     "metadata": {},
     "output_type": "display_data"
    },
    {
     "name": "stdout",
     "output_type": "stream",
     "text": [
      "Searching for DC_ODA_LLDCG_17_2_1_2019Q2G01\n",
      " -- Item DC_ODA_LLDCG_17_2_1_2019Q2G01 not found (force find)\n",
      "Adding CSV File to ArcGIS Online....\n",
      "Analyze Feature Service....\n",
      "Publishing Feature Service....\n",
      ".......call generate renderer within publish_csv\n",
      "Update Feature Service Symbology\n",
      "Moving CSV to Open Data Folder\n",
      "Updating Feature Service metadata....\n",
      "Moving Feature Service to Open Data Folder\n"
     ]
    },
    {
     "data": {
      "text/plain": [
       "{'notSharedWith': [], 'itemId': 'f457d02590ab413c8ce86c4d48441854'}"
      ]
     },
     "execution_count": 55,
     "metadata": {},
     "output_type": "execute_result"
    },
    {
     "name": "stdout",
     "output_type": "stream",
     "text": [
      "{'results': [{'itemId': 'f457d02590ab413c8ce86c4d48441854', 'success': True}]}\n",
      "\n",
      "Processing series code: 17.2.1 DC_ODA_TOTG\n"
     ]
    },
    {
     "data": {
      "text/plain": [
       "'../../data/unsd/2019.Q2.G.01/csv_Indicator_17.2.1_Series_DC_ODA_TOTG.csv'"
      ]
     },
     "metadata": {},
     "output_type": "display_data"
    },
    {
     "name": "stdout",
     "output_type": "stream",
     "text": [
      "Searching for DC_ODA_TOTG_17_2_1_2019Q2G01\n",
      " -- Item DC_ODA_TOTG_17_2_1_2019Q2G01 not found (force find)\n",
      "Adding CSV File to ArcGIS Online....\n",
      "Analyze Feature Service....\n",
      "Publishing Feature Service....\n",
      ".......call generate renderer within publish_csv\n",
      "Update Feature Service Symbology\n",
      "Moving CSV to Open Data Folder\n",
      "Updating Feature Service metadata....\n",
      "Moving Feature Service to Open Data Folder\n"
     ]
    },
    {
     "data": {
      "text/plain": [
       "{'notSharedWith': [], 'itemId': 'e09eff0db177466faa3904627df728db'}"
      ]
     },
     "execution_count": 55,
     "metadata": {},
     "output_type": "execute_result"
    },
    {
     "name": "stdout",
     "output_type": "stream",
     "text": [
      "{'results': [{'itemId': 'e09eff0db177466faa3904627df728db', 'success': True}]}\n",
      "\n",
      "Processing series code: 17.2.1 DC_ODA_TOTL\n"
     ]
    },
    {
     "data": {
      "text/plain": [
       "'../../data/unsd/2019.Q2.G.01/csv_Indicator_17.2.1_Series_DC_ODA_TOTL.csv'"
      ]
     },
     "metadata": {},
     "output_type": "display_data"
    },
    {
     "name": "stdout",
     "output_type": "stream",
     "text": [
      "Searching for DC_ODA_TOTL_17_2_1_2019Q2G01\n",
      " -- Item DC_ODA_TOTL_17_2_1_2019Q2G01 not found (force find)\n",
      "Adding CSV File to ArcGIS Online....\n",
      "Analyze Feature Service....\n",
      "Publishing Feature Service....\n",
      ".......call generate renderer within publish_csv\n",
      "Update Feature Service Symbology\n",
      "Moving CSV to Open Data Folder\n",
      "Updating Feature Service metadata....\n",
      "Moving Feature Service to Open Data Folder\n"
     ]
    },
    {
     "data": {
      "text/plain": [
       "{'notSharedWith': [], 'itemId': 'de48621ee4164a7f9f50b810160e3944'}"
      ]
     },
     "execution_count": 55,
     "metadata": {},
     "output_type": "execute_result"
    },
    {
     "name": "stdout",
     "output_type": "stream",
     "text": [
      "{'results': [{'itemId': 'de48621ee4164a7f9f50b810160e3944', 'success': True}]}\n",
      "\n",
      "Processing series code: 17.2.1 DC_ODA_TOTLGE\n"
     ]
    },
    {
     "data": {
      "text/plain": [
       "'../../data/unsd/2019.Q2.G.01/csv_Indicator_17.2.1_Series_DC_ODA_TOTLGE.csv'"
      ]
     },
     "metadata": {},
     "output_type": "display_data"
    },
    {
     "name": "stdout",
     "output_type": "stream",
     "text": [
      "Searching for DC_ODA_TOTLGE_17_2_1_2019Q2G01\n",
      " -- Item DC_ODA_TOTLGE_17_2_1_2019Q2G01 not found (force find)\n",
      "Adding CSV File to ArcGIS Online....\n",
      "Analyze Feature Service....\n",
      "Publishing Feature Service....\n",
      ".......call generate renderer within publish_csv\n",
      "Update Feature Service Symbology\n",
      "Moving CSV to Open Data Folder\n",
      "Updating Feature Service metadata....\n",
      "Moving Feature Service to Open Data Folder\n"
     ]
    },
    {
     "data": {
      "text/plain": [
       "{'notSharedWith': [], 'itemId': '1ca491018eb64c96ae1a253e3877f920'}"
      ]
     },
     "execution_count": 55,
     "metadata": {},
     "output_type": "execute_result"
    },
    {
     "name": "stdout",
     "output_type": "stream",
     "text": [
      "{'results': [{'itemId': '1ca491018eb64c96ae1a253e3877f920', 'success': True}]}\n",
      "\n",
      "Processing series code: 17.2.1 DC_ODA_TOTGGE\n"
     ]
    },
    {
     "data": {
      "text/plain": [
       "'../../data/unsd/2019.Q2.G.01/csv_Indicator_17.2.1_Series_DC_ODA_TOTGGE.csv'"
      ]
     },
     "metadata": {},
     "output_type": "display_data"
    },
    {
     "name": "stdout",
     "output_type": "stream",
     "text": [
      "Searching for DC_ODA_TOTGGE_17_2_1_2019Q2G01\n",
      " -- Item DC_ODA_TOTGGE_17_2_1_2019Q2G01 not found (force find)\n",
      "Adding CSV File to ArcGIS Online....\n",
      "Analyze Feature Service....\n",
      "Publishing Feature Service....\n",
      ".......call generate renderer within publish_csv\n",
      "Update Feature Service Symbology\n",
      "Moving CSV to Open Data Folder\n",
      "Updating Feature Service metadata....\n",
      "Moving Feature Service to Open Data Folder\n"
     ]
    },
    {
     "data": {
      "text/plain": [
       "{'notSharedWith': [], 'itemId': '50ec10f987ef4bb1aafc6f517169b9b8'}"
      ]
     },
     "execution_count": 55,
     "metadata": {},
     "output_type": "execute_result"
    },
    {
     "name": "stdout",
     "output_type": "stream",
     "text": [
      "{'results': [{'itemId': '50ec10f987ef4bb1aafc6f517169b9b8', 'success': True}]}\n",
      "\n",
      "Processing series code: 17.3.2 BX_TRF_PWKR\n"
     ]
    },
    {
     "data": {
      "text/plain": [
       "'../../data/unsd/2019.Q2.G.01/csv_Indicator_17.3.2_Series_BX_TRF_PWKR.csv'"
      ]
     },
     "metadata": {},
     "output_type": "display_data"
    },
    {
     "name": "stdout",
     "output_type": "stream",
     "text": [
      "Searching for BX_TRF_PWKR_17_3_2_2019Q2G01\n",
      " -- Item BX_TRF_PWKR_17_3_2_2019Q2G01 not found (force find)\n",
      "Adding CSV File to ArcGIS Online....\n",
      "Analyze Feature Service....\n",
      "Publishing Feature Service....\n",
      ".......call generate renderer within publish_csv\n",
      "Update Feature Service Symbology\n",
      "Moving CSV to Open Data Folder\n",
      "Updating Feature Service metadata....\n",
      "Moving Feature Service to Open Data Folder\n"
     ]
    },
    {
     "data": {
      "text/plain": [
       "{'notSharedWith': [], 'itemId': '00e65cf61d8042f591c27ddb56d10063'}"
      ]
     },
     "execution_count": 55,
     "metadata": {},
     "output_type": "execute_result"
    },
    {
     "name": "stdout",
     "output_type": "stream",
     "text": [
      "{'results': [{'itemId': '00e65cf61d8042f591c27ddb56d10063', 'success': True}]}\n",
      "\n",
      "Processing series code: 17.4.1 DT_TDS_DECT\n"
     ]
    },
    {
     "data": {
      "text/plain": [
       "'../../data/unsd/2019.Q2.G.01/csv_Indicator_17.4.1_Series_DT_TDS_DECT.csv'"
      ]
     },
     "metadata": {},
     "output_type": "display_data"
    },
    {
     "name": "stdout",
     "output_type": "stream",
     "text": [
      "Searching for DT_TDS_DECT_17_4_1_2019Q2G01\n",
      " -- Item DT_TDS_DECT_17_4_1_2019Q2G01 not found (force find)\n",
      "Adding CSV File to ArcGIS Online....\n",
      "Analyze Feature Service....\n",
      "Publishing Feature Service....\n",
      ".......call generate renderer within publish_csv\n",
      "Update Feature Service Symbology\n",
      "Moving CSV to Open Data Folder\n",
      "Updating Feature Service metadata....\n",
      "Moving Feature Service to Open Data Folder\n"
     ]
    },
    {
     "data": {
      "text/plain": [
       "{'notSharedWith': [], 'itemId': 'e061fd67f9f84933addcd27ca6154354'}"
      ]
     },
     "execution_count": 55,
     "metadata": {},
     "output_type": "execute_result"
    },
    {
     "name": "stdout",
     "output_type": "stream",
     "text": [
      "{'results': [{'itemId': 'e061fd67f9f84933addcd27ca6154354', 'success': True}]}\n",
      "\n",
      "Processing series code: 17.6.2 IT_NET_BBN\n"
     ]
    },
    {
     "data": {
      "text/plain": [
       "'../../data/unsd/2019.Q2.G.01/csv_Indicator_17.6.2_Series_IT_NET_BBN.csv'"
      ]
     },
     "metadata": {},
     "output_type": "display_data"
    },
    {
     "name": "stdout",
     "output_type": "stream",
     "text": [
      "Searching for IT_NET_BBN_17_6_2_2019Q2G01\n",
      " -- Item IT_NET_BBN_17_6_2_2019Q2G01 not found (force find)\n",
      "Adding CSV File to ArcGIS Online....\n",
      "Analyze Feature Service....\n",
      "Publishing Feature Service....\n",
      ".......call generate renderer within publish_csv\n",
      "Update Feature Service Symbology\n",
      "Moving CSV to Open Data Folder\n",
      "Updating Feature Service metadata....\n",
      "Moving Feature Service to Open Data Folder\n"
     ]
    },
    {
     "data": {
      "text/plain": [
       "{'notSharedWith': [], 'itemId': '14ca31c314cb44fbbbb80de5a8f67316'}"
      ]
     },
     "execution_count": 55,
     "metadata": {},
     "output_type": "execute_result"
    },
    {
     "name": "stdout",
     "output_type": "stream",
     "text": [
      "{'results': [{'itemId': '14ca31c314cb44fbbbb80de5a8f67316', 'success': True}]}\n",
      "\n",
      "Processing series code: 17.6.2 IT_NET_BBP\n"
     ]
    },
    {
     "data": {
      "text/plain": [
       "'../../data/unsd/2019.Q2.G.01/csv_Indicator_17.6.2_Series_IT_NET_BBP.csv'"
      ]
     },
     "metadata": {},
     "output_type": "display_data"
    },
    {
     "name": "stdout",
     "output_type": "stream",
     "text": [
      "Searching for IT_NET_BBP_17_6_2_2019Q2G01\n",
      " -- Item IT_NET_BBP_17_6_2_2019Q2G01 not found (force find)\n",
      "Adding CSV File to ArcGIS Online....\n",
      "Analyze Feature Service....\n",
      "Publishing Feature Service....\n",
      ".......call generate renderer within publish_csv\n",
      "Update Feature Service Symbology\n",
      "Moving CSV to Open Data Folder\n",
      "Updating Feature Service metadata....\n",
      "Moving Feature Service to Open Data Folder\n"
     ]
    },
    {
     "data": {
      "text/plain": [
       "{'notSharedWith': [], 'itemId': '9e7ac88c99e1423abcac29a5f5a3ab28'}"
      ]
     },
     "execution_count": 55,
     "metadata": {},
     "output_type": "execute_result"
    },
    {
     "name": "stdout",
     "output_type": "stream",
     "text": [
      "{'results': [{'itemId': '9e7ac88c99e1423abcac29a5f5a3ab28', 'success': True}]}\n",
      "\n",
      "Processing series code: 17.8.1 IT_USE_ii99\n"
     ]
    },
    {
     "data": {
      "text/plain": [
       "'../../data/unsd/2019.Q2.G.01/csv_Indicator_17.8.1_Series_IT_USE_ii99.csv'"
      ]
     },
     "metadata": {},
     "output_type": "display_data"
    },
    {
     "name": "stdout",
     "output_type": "stream",
     "text": [
      "Searching for IT_USE_ii99_17_8_1_2019Q2G01\n",
      " -- Item IT_USE_ii99_17_8_1_2019Q2G01 not found (force find)\n",
      "Adding CSV File to ArcGIS Online....\n",
      "Analyze Feature Service....\n",
      "Publishing Feature Service....\n",
      ".......call generate renderer within publish_csv\n",
      "Update Feature Service Symbology\n",
      "Moving CSV to Open Data Folder\n",
      "Updating Feature Service metadata....\n",
      "Moving Feature Service to Open Data Folder\n"
     ]
    },
    {
     "data": {
      "text/plain": [
       "{'notSharedWith': [], 'itemId': '240f1316daf7459b9eff2532bde2e791'}"
      ]
     },
     "execution_count": 55,
     "metadata": {},
     "output_type": "execute_result"
    },
    {
     "name": "stdout",
     "output_type": "stream",
     "text": [
      "{'results': [{'itemId': '240f1316daf7459b9eff2532bde2e791', 'success': True}]}\n",
      "\n",
      "Processing series code: 17.9.1 DC_FTA_TOTAL\n"
     ]
    },
    {
     "data": {
      "text/plain": [
       "'../../data/unsd/2019.Q2.G.01/csv_Indicator_17.9.1_Series_DC_FTA_TOTAL.csv'"
      ]
     },
     "metadata": {},
     "output_type": "display_data"
    },
    {
     "name": "stdout",
     "output_type": "stream",
     "text": [
      "Searching for DC_FTA_TOTAL_17_9_1_2019Q2G01\n",
      " -- Item DC_FTA_TOTAL_17_9_1_2019Q2G01 not found (force find)\n",
      "Adding CSV File to ArcGIS Online....\n",
      "Analyze Feature Service....\n",
      "Publishing Feature Service....\n",
      ".......call generate renderer within publish_csv\n",
      "Update Feature Service Symbology\n",
      "Moving CSV to Open Data Folder\n",
      "Updating Feature Service metadata....\n",
      "Moving Feature Service to Open Data Folder\n"
     ]
    },
    {
     "data": {
      "text/plain": [
       "{'notSharedWith': [], 'itemId': '0f82d12ee75a45ffaaefa42b9e23c86f'}"
      ]
     },
     "execution_count": 55,
     "metadata": {},
     "output_type": "execute_result"
    },
    {
     "name": "stdout",
     "output_type": "stream",
     "text": [
      "{'results': [{'itemId': '0f82d12ee75a45ffaaefa42b9e23c86f', 'success': True}]}\n",
      "\n",
      "Processing series code: 17.10.1 TM_TAX_WWTAV\n"
     ]
    },
    {
     "data": {
      "text/plain": [
       "'../../data/unsd/2019.Q2.G.01/csv_Indicator_17.10.1_Series_TM_TAX_WWTAV.csv'"
      ]
     },
     "metadata": {},
     "output_type": "display_data"
    },
    {
     "name": "stdout",
     "output_type": "stream",
     "text": [
      "Searching for TM_TAX_WWTAV_17_10_1_2019Q2G01\n",
      " -- Item TM_TAX_WWTAV_17_10_1_2019Q2G01 not found (force find)\n",
      "Adding CSV File to ArcGIS Online....\n",
      "Analyze Feature Service....\n",
      "Publishing Feature Service....\n",
      ".......call generate renderer within publish_csv\n",
      "Update Feature Service Symbology\n",
      "Moving CSV to Open Data Folder\n",
      "Updating Feature Service metadata....\n",
      "Moving Feature Service to Open Data Folder\n"
     ]
    },
    {
     "data": {
      "text/plain": [
       "{'notSharedWith': [], 'itemId': '9d43dfdf45b94c5cbbe50b7c19f51b96'}"
      ]
     },
     "execution_count": 55,
     "metadata": {},
     "output_type": "execute_result"
    },
    {
     "name": "stdout",
     "output_type": "stream",
     "text": [
      "{'results': [{'itemId': '9d43dfdf45b94c5cbbe50b7c19f51b96', 'success': True}]}\n",
      "\n",
      "Processing series code: 17.11.1 TX_IMP_GBMRCH\n"
     ]
    },
    {
     "data": {
      "text/plain": [
       "'../../data/unsd/2019.Q2.G.01/csv_Indicator_17.11.1_Series_TX_IMP_GBMRCH.csv'"
      ]
     },
     "metadata": {},
     "output_type": "display_data"
    },
    {
     "name": "stdout",
     "output_type": "stream",
     "text": [
      "\n",
      "Processing series code: 17.11.1 TX_EXP_GBMRCH\n"
     ]
    },
    {
     "data": {
      "text/plain": [
       "'../../data/unsd/2019.Q2.G.01/csv_Indicator_17.11.1_Series_TX_EXP_GBMRCH.csv'"
      ]
     },
     "metadata": {},
     "output_type": "display_data"
    },
    {
     "name": "stdout",
     "output_type": "stream",
     "text": [
      "\n",
      "Processing series code: 17.11.1 TX_EXP_GBSVR\n"
     ]
    },
    {
     "data": {
      "text/plain": [
       "'../../data/unsd/2019.Q2.G.01/csv_Indicator_17.11.1_Series_TX_EXP_GBSVR.csv'"
      ]
     },
     "metadata": {},
     "output_type": "display_data"
    },
    {
     "name": "stdout",
     "output_type": "stream",
     "text": [
      "\n",
      "Processing series code: 17.11.1 TX_IMP_GBSVR\n"
     ]
    },
    {
     "data": {
      "text/plain": [
       "'../../data/unsd/2019.Q2.G.01/csv_Indicator_17.11.1_Series_TX_IMP_GBSVR.csv'"
      ]
     },
     "metadata": {},
     "output_type": "display_data"
    },
    {
     "name": "stdout",
     "output_type": "stream",
     "text": [
      "\n",
      "Processing series code: 17.12.1 TM_TAX_ATRFD\n"
     ]
    },
    {
     "data": {
      "text/plain": [
       "'../../data/unsd/2019.Q2.G.01/csv_Indicator_17.12.1_Series_TM_TAX_ATRFD.csv'"
      ]
     },
     "metadata": {},
     "output_type": "display_data"
    },
    {
     "name": "stdout",
     "output_type": "stream",
     "text": [
      "Searching for TM_TAX_ATRFD_17_12_1_2019Q2G01\n",
      " -- Item TM_TAX_ATRFD_17_12_1_2019Q2G01 not found (force find)\n",
      "Adding CSV File to ArcGIS Online....\n",
      "Analyze Feature Service....\n",
      "Publishing Feature Service....\n",
      ".......call generate renderer within publish_csv\n",
      "Update Feature Service Symbology\n",
      "Moving CSV to Open Data Folder\n",
      "Updating Feature Service metadata....\n",
      "Moving Feature Service to Open Data Folder\n"
     ]
    },
    {
     "data": {
      "text/plain": [
       "{'notSharedWith': [], 'itemId': '9da70f5e3fca4d199a2c793903c04f40'}"
      ]
     },
     "execution_count": 55,
     "metadata": {},
     "output_type": "execute_result"
    },
    {
     "name": "stdout",
     "output_type": "stream",
     "text": [
      "{'results': [{'itemId': '9da70f5e3fca4d199a2c793903c04f40', 'success': True}]}\n",
      "\n",
      "Processing series code: 17.15.1 SG_PLN_PRVRIMON\n"
     ]
    },
    {
     "data": {
      "text/plain": [
       "'../../data/unsd/2019.Q2.G.01/csv_Indicator_17.15.1_Series_SG_PLN_PRVRIMON.csv'"
      ]
     },
     "metadata": {},
     "output_type": "display_data"
    },
    {
     "name": "stdout",
     "output_type": "stream",
     "text": [
      "Searching for SG_PLN_PRVRIMON_17_15_1_2019Q2G01\n",
      " -- Item SG_PLN_PRVRIMON_17_15_1_2019Q2G01 not found (force find)\n",
      "Adding CSV File to ArcGIS Online....\n",
      "Analyze Feature Service....\n",
      "Publishing Feature Service....\n",
      ".......call generate renderer within publish_csv\n",
      "Update Feature Service Symbology\n",
      "Moving CSV to Open Data Folder\n",
      "Updating Feature Service metadata....\n",
      "Moving Feature Service to Open Data Folder\n"
     ]
    },
    {
     "data": {
      "text/plain": [
       "{'notSharedWith': [], 'itemId': '4966af446baa48e6a9742707098b6206'}"
      ]
     },
     "execution_count": 55,
     "metadata": {},
     "output_type": "execute_result"
    },
    {
     "name": "stdout",
     "output_type": "stream",
     "text": [
      "{'results': [{'itemId': '4966af446baa48e6a9742707098b6206', 'success': True}]}\n",
      "\n",
      "Processing series code: 17.15.1 SG_PLN_RECRIMON\n"
     ]
    },
    {
     "data": {
      "text/plain": [
       "'../../data/unsd/2019.Q2.G.01/csv_Indicator_17.15.1_Series_SG_PLN_RECRIMON.csv'"
      ]
     },
     "metadata": {},
     "output_type": "display_data"
    },
    {
     "name": "stdout",
     "output_type": "stream",
     "text": [
      "Searching for SG_PLN_RECRIMON_17_15_1_2019Q2G01\n",
      " -- Item SG_PLN_RECRIMON_17_15_1_2019Q2G01 not found (force find)\n",
      "Adding CSV File to ArcGIS Online....\n",
      "Analyze Feature Service....\n",
      "Publishing Feature Service....\n",
      ".......call generate renderer within publish_csv\n",
      "Update Feature Service Symbology\n",
      "Moving CSV to Open Data Folder\n",
      "Updating Feature Service metadata....\n",
      "Moving Feature Service to Open Data Folder\n"
     ]
    },
    {
     "data": {
      "text/plain": [
       "{'notSharedWith': [], 'itemId': '8959ff4fd9cf40fb819118d6964d8e90'}"
      ]
     },
     "execution_count": 55,
     "metadata": {},
     "output_type": "execute_result"
    },
    {
     "name": "stdout",
     "output_type": "stream",
     "text": [
      "{'results': [{'itemId': '8959ff4fd9cf40fb819118d6964d8e90', 'success': True}]}\n",
      "\n",
      "Processing series code: 17.15.1 SG_PLN_PRVNDI\n"
     ]
    },
    {
     "data": {
      "text/plain": [
       "'../../data/unsd/2019.Q2.G.01/csv_Indicator_17.15.1_Series_SG_PLN_PRVNDI.csv'"
      ]
     },
     "metadata": {},
     "output_type": "display_data"
    },
    {
     "name": "stdout",
     "output_type": "stream",
     "text": [
      "Searching for SG_PLN_PRVNDI_17_15_1_2019Q2G01\n",
      " -- Item SG_PLN_PRVNDI_17_15_1_2019Q2G01 not found (force find)\n",
      "Adding CSV File to ArcGIS Online....\n",
      "Analyze Feature Service....\n",
      "Publishing Feature Service....\n",
      ".......call generate renderer within publish_csv\n",
      "Update Feature Service Symbology\n",
      "Moving CSV to Open Data Folder\n",
      "Updating Feature Service metadata....\n",
      "Moving Feature Service to Open Data Folder\n"
     ]
    },
    {
     "data": {
      "text/plain": [
       "{'notSharedWith': [], 'itemId': '4608ae9804eb4db0994499d8a9cade55'}"
      ]
     },
     "execution_count": 55,
     "metadata": {},
     "output_type": "execute_result"
    },
    {
     "name": "stdout",
     "output_type": "stream",
     "text": [
      "{'results': [{'itemId': '4608ae9804eb4db0994499d8a9cade55', 'success': True}]}\n",
      "\n",
      "Processing series code: 17.15.1 SG_PLN_RECNDI\n"
     ]
    },
    {
     "data": {
      "text/plain": [
       "'../../data/unsd/2019.Q2.G.01/csv_Indicator_17.15.1_Series_SG_PLN_RECNDI.csv'"
      ]
     },
     "metadata": {},
     "output_type": "display_data"
    },
    {
     "name": "stdout",
     "output_type": "stream",
     "text": [
      "Searching for SG_PLN_RECNDI_17_15_1_2019Q2G01\n",
      " -- Item SG_PLN_RECNDI_17_15_1_2019Q2G01 not found (force find)\n",
      "Adding CSV File to ArcGIS Online....\n",
      "Analyze Feature Service....\n",
      "Publishing Feature Service....\n",
      ".......call generate renderer within publish_csv\n",
      "Update Feature Service Symbology\n",
      "Moving CSV to Open Data Folder\n",
      "Updating Feature Service metadata....\n",
      "Moving Feature Service to Open Data Folder\n"
     ]
    },
    {
     "data": {
      "text/plain": [
       "{'notSharedWith': [], 'itemId': '797c47d658f8478a9b69b263f588758c'}"
      ]
     },
     "execution_count": 55,
     "metadata": {},
     "output_type": "execute_result"
    },
    {
     "name": "stdout",
     "output_type": "stream",
     "text": [
      "{'results': [{'itemId': '797c47d658f8478a9b69b263f588758c', 'success': True}]}\n",
      "\n",
      "Processing series code: 17.15.1 SG_PLN_PRVRICTRY\n"
     ]
    },
    {
     "data": {
      "text/plain": [
       "'../../data/unsd/2019.Q2.G.01/csv_Indicator_17.15.1_Series_SG_PLN_PRVRICTRY.csv'"
      ]
     },
     "metadata": {},
     "output_type": "display_data"
    },
    {
     "name": "stdout",
     "output_type": "stream",
     "text": [
      "Searching for SG_PLN_PRVRICTRY_17_15_1_2019Q2G01\n",
      " -- Item SG_PLN_PRVRICTRY_17_15_1_2019Q2G01 not found (force find)\n",
      "Adding CSV File to ArcGIS Online....\n",
      "Analyze Feature Service....\n",
      "Publishing Feature Service....\n",
      ".......call generate renderer within publish_csv\n",
      "Update Feature Service Symbology\n",
      "Moving CSV to Open Data Folder\n",
      "Updating Feature Service metadata....\n",
      "Moving Feature Service to Open Data Folder\n"
     ]
    },
    {
     "data": {
      "text/plain": [
       "{'notSharedWith': [], 'itemId': 'e9e00c4b8e2b4c128952378d01dfd1b9'}"
      ]
     },
     "execution_count": 55,
     "metadata": {},
     "output_type": "execute_result"
    },
    {
     "name": "stdout",
     "output_type": "stream",
     "text": [
      "{'results': [{'itemId': 'e9e00c4b8e2b4c128952378d01dfd1b9', 'success': True}]}\n",
      "\n",
      "Processing series code: 17.15.1 SG_PLN_RECRICTRY\n"
     ]
    },
    {
     "data": {
      "text/plain": [
       "'../../data/unsd/2019.Q2.G.01/csv_Indicator_17.15.1_Series_SG_PLN_RECRICTRY.csv'"
      ]
     },
     "metadata": {},
     "output_type": "display_data"
    },
    {
     "name": "stdout",
     "output_type": "stream",
     "text": [
      "Searching for SG_PLN_RECRICTRY_17_15_1_2019Q2G01\n",
      " -- Item SG_PLN_RECRICTRY_17_15_1_2019Q2G01 not found (force find)\n",
      "Adding CSV File to ArcGIS Online....\n",
      "Analyze Feature Service....\n",
      "Publishing Feature Service....\n",
      ".......call generate renderer within publish_csv\n",
      "Update Feature Service Symbology\n",
      "Moving CSV to Open Data Folder\n",
      "Updating Feature Service metadata....\n",
      "Moving Feature Service to Open Data Folder\n"
     ]
    },
    {
     "data": {
      "text/plain": [
       "{'notSharedWith': [], 'itemId': '60d0d20177cc41968c21e838f57502db'}"
      ]
     },
     "execution_count": 55,
     "metadata": {},
     "output_type": "execute_result"
    },
    {
     "name": "stdout",
     "output_type": "stream",
     "text": [
      "{'results': [{'itemId': '60d0d20177cc41968c21e838f57502db', 'success': True}]}\n",
      "\n",
      "Processing series code: 17.15.1 SG_PLN_REPOLRES\n"
     ]
    },
    {
     "data": {
      "text/plain": [
       "'../../data/unsd/2019.Q2.G.01/csv_Indicator_17.15.1_Series_SG_PLN_REPOLRES.csv'"
      ]
     },
     "metadata": {},
     "output_type": "display_data"
    },
    {
     "name": "stdout",
     "output_type": "stream",
     "text": [
      "Searching for SG_PLN_REPOLRES_17_15_1_2019Q2G01\n",
      " -- Item SG_PLN_REPOLRES_17_15_1_2019Q2G01 not found (force find)\n",
      "Adding CSV File to ArcGIS Online....\n",
      "Analyze Feature Service....\n",
      "Publishing Feature Service....\n",
      ".......call generate renderer within publish_csv\n",
      "Update Feature Service Symbology\n",
      "Moving CSV to Open Data Folder\n",
      "Updating Feature Service metadata....\n",
      "Moving Feature Service to Open Data Folder\n"
     ]
    },
    {
     "data": {
      "text/plain": [
       "{'notSharedWith': [], 'itemId': 'ab666512f0ea4d478f912a6250b6a415'}"
      ]
     },
     "execution_count": 55,
     "metadata": {},
     "output_type": "execute_result"
    },
    {
     "name": "stdout",
     "output_type": "stream",
     "text": [
      "{'results': [{'itemId': 'ab666512f0ea4d478f912a6250b6a415', 'success': True}]}\n",
      "\n",
      "Processing series code: 17.15.1 SG_PLN_PRPOLRES\n"
     ]
    },
    {
     "data": {
      "text/plain": [
       "'../../data/unsd/2019.Q2.G.01/csv_Indicator_17.15.1_Series_SG_PLN_PRPOLRES.csv'"
      ]
     },
     "metadata": {},
     "output_type": "display_data"
    },
    {
     "name": "stdout",
     "output_type": "stream",
     "text": [
      "Searching for SG_PLN_PRPOLRES_17_15_1_2019Q2G01\n",
      " -- Item SG_PLN_PRPOLRES_17_15_1_2019Q2G01 not found (force find)\n",
      "Adding CSV File to ArcGIS Online....\n",
      "Analyze Feature Service....\n",
      "Publishing Feature Service....\n",
      ".......call generate renderer within publish_csv\n",
      "Update Feature Service Symbology\n",
      "Moving CSV to Open Data Folder\n",
      "Updating Feature Service metadata....\n",
      "Moving Feature Service to Open Data Folder\n"
     ]
    },
    {
     "data": {
      "text/plain": [
       "{'notSharedWith': [], 'itemId': '28578524dbf5443c939935eab190562f'}"
      ]
     },
     "execution_count": 55,
     "metadata": {},
     "output_type": "execute_result"
    },
    {
     "name": "stdout",
     "output_type": "stream",
     "text": [
      "{'results': [{'itemId': '28578524dbf5443c939935eab190562f', 'success': True}]}\n",
      "\n",
      "Processing series code: 17.16.1 SG_PLN_MSTKSDG\n"
     ]
    },
    {
     "data": {
      "text/plain": [
       "'../../data/unsd/2019.Q2.G.01/csv_Indicator_17.16.1_Series_SG_PLN_MSTKSDG.csv'"
      ]
     },
     "metadata": {},
     "output_type": "display_data"
    },
    {
     "name": "stdout",
     "output_type": "stream",
     "text": [
      "Searching for SG_PLN_MSTKSDG_17_16_1_2019Q2G01\n",
      " -- Item SG_PLN_MSTKSDG_17_16_1_2019Q2G01 not found (force find)\n",
      "Adding CSV File to ArcGIS Online....\n",
      "Analyze Feature Service....\n",
      "Publishing Feature Service....\n",
      ".......call generate renderer within publish_csv\n",
      "Update Feature Service Symbology\n",
      "Moving CSV to Open Data Folder\n",
      "Updating Feature Service metadata....\n",
      "Moving Feature Service to Open Data Folder\n"
     ]
    },
    {
     "data": {
      "text/plain": [
       "{'notSharedWith': [], 'itemId': 'e74701cd4eff4dab98a3fd5253b43d67'}"
      ]
     },
     "execution_count": 55,
     "metadata": {},
     "output_type": "execute_result"
    },
    {
     "name": "stdout",
     "output_type": "stream",
     "text": [
      "{'results': [{'itemId': 'e74701cd4eff4dab98a3fd5253b43d67', 'success': True}]}\n",
      "\n",
      "Processing series code: 17.18.2 SG_STT_FPOS\n"
     ]
    },
    {
     "data": {
      "text/plain": [
       "'../../data/unsd/2019.Q2.G.01/csv_Indicator_17.18.2_Series_SG_STT_FPOS.csv'"
      ]
     },
     "metadata": {},
     "output_type": "display_data"
    },
    {
     "name": "stdout",
     "output_type": "stream",
     "text": [
      "Searching for SG_STT_FPOS_17_18_2_2019Q2G01\n",
      " -- Item SG_STT_FPOS_17_18_2_2019Q2G01 not found (force find)\n",
      "Adding CSV File to ArcGIS Online....\n",
      "Analyze Feature Service....\n",
      "Publishing Feature Service....\n",
      ".......call generate renderer within publish_csv\n",
      "Update Feature Service Symbology\n",
      "Moving CSV to Open Data Folder\n",
      "Updating Feature Service metadata....\n",
      "Moving Feature Service to Open Data Folder\n"
     ]
    },
    {
     "data": {
      "text/plain": [
       "{'notSharedWith': [], 'itemId': 'da59fb877280416889d9a80ba8a70100'}"
      ]
     },
     "execution_count": 55,
     "metadata": {},
     "output_type": "execute_result"
    },
    {
     "name": "stdout",
     "output_type": "stream",
     "text": [
      "{'results': [{'itemId': 'da59fb877280416889d9a80ba8a70100', 'success': True}]}\n",
      "\n",
      "Processing series code: 17.18.3 SG_STT_NSDSFDGVT\n"
     ]
    },
    {
     "data": {
      "text/plain": [
       "'../../data/unsd/2019.Q2.G.01/csv_Indicator_17.18.3_Series_SG_STT_NSDSFDGVT.csv'"
      ]
     },
     "metadata": {},
     "output_type": "display_data"
    },
    {
     "name": "stdout",
     "output_type": "stream",
     "text": [
      "Searching for SG_STT_NSDSFDGVT_17_18_3_2019Q2G01\n",
      " -- Item SG_STT_NSDSFDGVT_17_18_3_2019Q2G01 not found (force find)\n",
      "Adding CSV File to ArcGIS Online....\n",
      "Analyze Feature Service....\n",
      "Publishing Feature Service....\n",
      ".......call generate renderer within publish_csv\n",
      "Update Feature Service Symbology\n",
      "Moving CSV to Open Data Folder\n",
      "Updating Feature Service metadata....\n",
      "Moving Feature Service to Open Data Folder\n"
     ]
    },
    {
     "data": {
      "text/plain": [
       "{'notSharedWith': [], 'itemId': 'b2bacdebf4af482eb16e3b7416e35735'}"
      ]
     },
     "execution_count": 55,
     "metadata": {},
     "output_type": "execute_result"
    },
    {
     "name": "stdout",
     "output_type": "stream",
     "text": [
      "{'results': [{'itemId': 'b2bacdebf4af482eb16e3b7416e35735', 'success': True}]}\n",
      "\n",
      "Processing series code: 17.18.3 SG_STT_NSDSFDDNR\n"
     ]
    },
    {
     "data": {
      "text/plain": [
       "'../../data/unsd/2019.Q2.G.01/csv_Indicator_17.18.3_Series_SG_STT_NSDSFDDNR.csv'"
      ]
     },
     "metadata": {},
     "output_type": "display_data"
    },
    {
     "name": "stdout",
     "output_type": "stream",
     "text": [
      "Searching for SG_STT_NSDSFDDNR_17_18_3_2019Q2G01\n",
      " -- Item SG_STT_NSDSFDDNR_17_18_3_2019Q2G01 not found (force find)\n",
      "Adding CSV File to ArcGIS Online....\n",
      "Analyze Feature Service....\n",
      "Publishing Feature Service....\n",
      ".......call generate renderer within publish_csv\n",
      "Update Feature Service Symbology\n",
      "Moving CSV to Open Data Folder\n",
      "Updating Feature Service metadata....\n",
      "Moving Feature Service to Open Data Folder\n"
     ]
    },
    {
     "data": {
      "text/plain": [
       "{'notSharedWith': [], 'itemId': 'aa5c8b33edff414f949c92af72770aa7'}"
      ]
     },
     "execution_count": 55,
     "metadata": {},
     "output_type": "execute_result"
    },
    {
     "name": "stdout",
     "output_type": "stream",
     "text": [
      "{'results': [{'itemId': 'aa5c8b33edff414f949c92af72770aa7', 'success': True}]}\n",
      "\n",
      "Processing series code: 17.18.3 SG_STT_NSDSFDOTHR\n"
     ]
    },
    {
     "data": {
      "text/plain": [
       "'../../data/unsd/2019.Q2.G.01/csv_Indicator_17.18.3_Series_SG_STT_NSDSFDOTHR.csv'"
      ]
     },
     "metadata": {},
     "output_type": "display_data"
    },
    {
     "name": "stdout",
     "output_type": "stream",
     "text": [
      "Searching for SG_STT_NSDSFDOTHR_17_18_3_2019Q2G01\n",
      " -- Item SG_STT_NSDSFDOTHR_17_18_3_2019Q2G01 not found (force find)\n",
      "Adding CSV File to ArcGIS Online....\n",
      "Analyze Feature Service....\n",
      "Publishing Feature Service....\n",
      ".......call generate renderer within publish_csv\n",
      "Update Feature Service Symbology\n",
      "Moving CSV to Open Data Folder\n",
      "Updating Feature Service metadata....\n",
      "Moving Feature Service to Open Data Folder\n"
     ]
    },
    {
     "data": {
      "text/plain": [
       "{'notSharedWith': [], 'itemId': 'e6df4ff397b24ab895358e1d815ed75e'}"
      ]
     },
     "execution_count": 55,
     "metadata": {},
     "output_type": "execute_result"
    },
    {
     "name": "stdout",
     "output_type": "stream",
     "text": [
      "{'results': [{'itemId': 'e6df4ff397b24ab895358e1d815ed75e', 'success': True}]}\n",
      "\n",
      "Processing series code: 17.18.3 SG_STT_NSDSIMPL\n"
     ]
    },
    {
     "data": {
      "text/plain": [
       "'../../data/unsd/2019.Q2.G.01/csv_Indicator_17.18.3_Series_SG_STT_NSDSIMPL.csv'"
      ]
     },
     "metadata": {},
     "output_type": "display_data"
    },
    {
     "name": "stdout",
     "output_type": "stream",
     "text": [
      "Searching for SG_STT_NSDSIMPL_17_18_3_2019Q2G01\n",
      " -- Item SG_STT_NSDSIMPL_17_18_3_2019Q2G01 not found (force find)\n",
      "Adding CSV File to ArcGIS Online....\n",
      "Analyze Feature Service....\n",
      "Publishing Feature Service....\n",
      ".......call generate renderer within publish_csv\n",
      "Update Feature Service Symbology\n",
      "Moving CSV to Open Data Folder\n",
      "Updating Feature Service metadata....\n",
      "Moving Feature Service to Open Data Folder\n"
     ]
    },
    {
     "data": {
      "text/plain": [
       "{'notSharedWith': [], 'itemId': '007e996bd74146de86baa15033995ee2'}"
      ]
     },
     "execution_count": 55,
     "metadata": {},
     "output_type": "execute_result"
    },
    {
     "name": "stdout",
     "output_type": "stream",
     "text": [
      "{'results': [{'itemId': '007e996bd74146de86baa15033995ee2', 'success': True}]}\n",
      "\n",
      "Processing series code: 17.18.3 SG_STT_NSDSFND\n"
     ]
    },
    {
     "data": {
      "text/plain": [
       "'../../data/unsd/2019.Q2.G.01/csv_Indicator_17.18.3_Series_SG_STT_NSDSFND.csv'"
      ]
     },
     "metadata": {},
     "output_type": "display_data"
    },
    {
     "name": "stdout",
     "output_type": "stream",
     "text": [
      "Searching for SG_STT_NSDSFND_17_18_3_2019Q2G01\n",
      " -- Item SG_STT_NSDSFND_17_18_3_2019Q2G01 not found (force find)\n",
      "Adding CSV File to ArcGIS Online....\n",
      "Analyze Feature Service....\n",
      "Publishing Feature Service....\n",
      ".......call generate renderer within publish_csv\n",
      "Update Feature Service Symbology\n",
      "Moving CSV to Open Data Folder\n",
      "Updating Feature Service metadata....\n",
      "Moving Feature Service to Open Data Folder\n"
     ]
    },
    {
     "data": {
      "text/plain": [
       "{'notSharedWith': [], 'itemId': 'f503b6296a1b48439c57788ac9a10619'}"
      ]
     },
     "execution_count": 55,
     "metadata": {},
     "output_type": "execute_result"
    },
    {
     "name": "stdout",
     "output_type": "stream",
     "text": [
      "{'results': [{'itemId': 'f503b6296a1b48439c57788ac9a10619', 'success': True}]}\n",
      "\n",
      "Processing series code: 17.19.1 SG_STT_CAPTY\n"
     ]
    },
    {
     "data": {
      "text/plain": [
       "'../../data/unsd/2019.Q2.G.01/csv_Indicator_17.19.1_Series_SG_STT_CAPTY.csv'"
      ]
     },
     "metadata": {},
     "output_type": "display_data"
    },
    {
     "name": "stdout",
     "output_type": "stream",
     "text": [
      "Searching for SG_STT_CAPTY_17_19_1_2019Q2G01\n",
      " -- Item SG_STT_CAPTY_17_19_1_2019Q2G01 not found (force find)\n",
      "Adding CSV File to ArcGIS Online....\n",
      "Analyze Feature Service....\n",
      "Publishing Feature Service....\n",
      ".......call generate renderer within publish_csv\n",
      "Update Feature Service Symbology\n",
      "Moving CSV to Open Data Folder\n",
      "Updating Feature Service metadata....\n",
      "Moving Feature Service to Open Data Folder\n"
     ]
    },
    {
     "data": {
      "text/plain": [
       "{'notSharedWith': [], 'itemId': 'c3581b9d777643759c22f0e70c7f41d3'}"
      ]
     },
     "execution_count": 55,
     "metadata": {},
     "output_type": "execute_result"
    },
    {
     "name": "stdout",
     "output_type": "stream",
     "text": [
      "{'results': [{'itemId': 'c3581b9d777643759c22f0e70c7f41d3', 'success': True}]}\n",
      "\n",
      "Processing series code: 17.19.2 SG_REG_BRTH90\n"
     ]
    },
    {
     "data": {
      "text/plain": [
       "'../../data/unsd/2019.Q2.G.01/csv_Indicator_17.19.2_Series_SG_REG_BRTH90.csv'"
      ]
     },
     "metadata": {},
     "output_type": "display_data"
    },
    {
     "name": "stdout",
     "output_type": "stream",
     "text": [
      "\n",
      "Processing series code: 17.19.2 SG_REG_DETH75\n"
     ]
    },
    {
     "data": {
      "text/plain": [
       "'../../data/unsd/2019.Q2.G.01/csv_Indicator_17.19.2_Series_SG_REG_DETH75.csv'"
      ]
     },
     "metadata": {},
     "output_type": "display_data"
    },
    {
     "name": "stdout",
     "output_type": "stream",
     "text": [
      "\n",
      "Processing series code: 17.19.2 SG_REG_CENSUS\n"
     ]
    },
    {
     "data": {
      "text/plain": [
       "'../../data/unsd/2019.Q2.G.01/csv_Indicator_17.19.2_Series_SG_REG_CENSUS.csv'"
      ]
     },
     "metadata": {},
     "output_type": "display_data"
    },
    {
     "name": "stdout",
     "output_type": "stream",
     "text": [
      "\n",
      "Processing series code: 17.19.2 SG_REG_CENSUSN\n"
     ]
    },
    {
     "data": {
      "text/plain": [
       "'../../data/unsd/2019.Q2.G.01/csv_Indicator_17.19.2_Series_SG_REG_CENSUSN.csv'"
      ]
     },
     "metadata": {},
     "output_type": "display_data"
    },
    {
     "name": "stdout",
     "output_type": "stream",
     "text": [
      "Searching for SG_REG_CENSUSN_17_19_2_2019Q2G01\n",
      " -- Item SG_REG_CENSUSN_17_19_2_2019Q2G01 not found (force find)\n",
      "Adding CSV File to ArcGIS Online....\n",
      "Analyze Feature Service....\n",
      "Publishing Feature Service....\n",
      ".......call generate renderer within publish_csv\n",
      "Update Feature Service Symbology\n",
      "Moving CSV to Open Data Folder\n",
      "Updating Feature Service metadata....\n",
      "Moving Feature Service to Open Data Folder\n"
     ]
    },
    {
     "data": {
      "text/plain": [
       "{'notSharedWith': [], 'itemId': 'a9ca23f412da4db4bef36c488d7b5929'}"
      ]
     },
     "execution_count": 55,
     "metadata": {},
     "output_type": "execute_result"
    },
    {
     "name": "stdout",
     "output_type": "stream",
     "text": [
      "{'results': [{'itemId': 'a9ca23f412da4db4bef36c488d7b5929', 'success': True}]}\n",
      "\n",
      "Processing series code: 17.19.2 SG_REG_BRTH90N\n"
     ]
    },
    {
     "data": {
      "text/plain": [
       "'../../data/unsd/2019.Q2.G.01/csv_Indicator_17.19.2_Series_SG_REG_BRTH90N.csv'"
      ]
     },
     "metadata": {},
     "output_type": "display_data"
    },
    {
     "name": "stdout",
     "output_type": "stream",
     "text": [
      "Searching for SG_REG_BRTH90N_17_19_2_2019Q2G01\n",
      " -- Item SG_REG_BRTH90N_17_19_2_2019Q2G01 not found (force find)\n",
      "Adding CSV File to ArcGIS Online....\n",
      "Analyze Feature Service....\n",
      "Publishing Feature Service....\n",
      ".......call generate renderer within publish_csv\n",
      "Update Feature Service Symbology\n",
      "Moving CSV to Open Data Folder\n",
      "Updating Feature Service metadata....\n",
      "Moving Feature Service to Open Data Folder\n"
     ]
    },
    {
     "data": {
      "text/plain": [
       "{'notSharedWith': [], 'itemId': 'e85c463d245740e18dc8bb52cbea4780'}"
      ]
     },
     "execution_count": 55,
     "metadata": {},
     "output_type": "execute_result"
    },
    {
     "name": "stdout",
     "output_type": "stream",
     "text": [
      "{'results': [{'itemId': 'e85c463d245740e18dc8bb52cbea4780', 'success': True}]}\n",
      "\n",
      "Processing series code: 17.19.2 SG_REG_DETH75N\n"
     ]
    },
    {
     "data": {
      "text/plain": [
       "'../../data/unsd/2019.Q2.G.01/csv_Indicator_17.19.2_Series_SG_REG_DETH75N.csv'"
      ]
     },
     "metadata": {},
     "output_type": "display_data"
    },
    {
     "name": "stdout",
     "output_type": "stream",
     "text": [
      "Searching for SG_REG_DETH75N_17_19_2_2019Q2G01\n",
      " -- Item SG_REG_DETH75N_17_19_2_2019Q2G01 not found (force find)\n",
      "Adding CSV File to ArcGIS Online....\n",
      "Analyze Feature Service....\n",
      "Publishing Feature Service....\n",
      ".......call generate renderer within publish_csv\n",
      "Update Feature Service Symbology\n",
      "Moving CSV to Open Data Folder\n",
      "Updating Feature Service metadata....\n",
      "Moving Feature Service to Open Data Folder\n"
     ]
    },
    {
     "data": {
      "text/plain": [
       "{'notSharedWith': [], 'itemId': '5217ea67e88547ab954c583028c10dba'}"
      ]
     },
     "execution_count": 55,
     "metadata": {},
     "output_type": "execute_result"
    },
    {
     "name": "stdout",
     "output_type": "stream",
     "text": [
      "{'results': [{'itemId': '5217ea67e88547ab954c583028c10dba', 'success': True}]}\n"
     ]
    }
   ],
   "source": [
    "sdgTree = series_metadata.copy()  # Produces a shallow copy of series_metadata\n",
    "\n",
    "for g in sdgTree:\n",
    "    if g['code'] not in [ '5', '6', '7','8', '9','10','11','12','13','14','15','16','17']:\n",
    "        continue\n",
    "    for t in g['targets']:\n",
    "        #if t['code'] not in ['16.8', '16.9', '16.10', '16.a', '16.b']:\n",
    "        #    continue\n",
    "        \n",
    "        for i in t['indicators']:\n",
    "            #if i['reference'] != '13.1.3':\n",
    "            #    continue\n",
    "            if 'series' in i.keys():\n",
    "                for s in i['series']:\n",
    "\n",
    "                    #if s['code'] != 'SE_MAT_PROF':\n",
    "                    #    continue\n",
    "\n",
    "                    print('\\nProcessing series code:', i['reference'], s['code'])\n",
    "                    \n",
    "                    this_g = {k: g[k] for k in g.keys() if k not in ['targets']}\n",
    "                    #this_g\n",
    "                    #print('\\n')\n",
    "                    this_t = {k: t[k] for k in t.keys() if k not in ['indicators']}\n",
    "                    #this_t\n",
    "                    #print('\\n')\n",
    "                    this_i = {k: i[k] for k in i.keys() if k not in ['series']}\n",
    "                    #this_i\n",
    "                    #print('\\n')\n",
    "                    #s\n",
    "                    \n",
    "                    s_card = build_series_card(this_g,this_t,this_i,s)\n",
    "                    \n",
    "                    #s_card\n",
    "                    \n",
    "                    #if property_update_only:\n",
    "                    #    online_item = find_online_item(s_card['title'], \n",
    "                    #                                   online_username, \n",
    "                    #                                   gis_online_connection)\n",
    "                    #\n",
    "                    #\n",
    "                    #   if online_item is None:\n",
    "                    #       failed_series.append(s['code'])\n",
    "                    #   else:\n",
    "                    #       online_item.update(item_properties=s_card, \n",
    "                    #                          thumbnail=g['thumbnail'])\n",
    "                    #\n",
    "                    #       if(update_symbology):\n",
    "                    #           generate_renderer_infomation(feature_item=online_item,\n",
    "                    #                                        statistic_field = 'value_latest_year',\n",
    "                    #                                        layer_info = layer_info,\n",
    "                    #                                        color=g['rgb'])     \n",
    "                    #else:\n",
    "                    \n",
    "                    #this_g['thumbnail']\n",
    "                    #layer_info\n",
    "                    #this_g['rgb']\n",
    "\n",
    "                    online_item = publish_csv(this_g,\n",
    "                                              this_t,\n",
    "                                              this_i,\n",
    "                                              s, \n",
    "                                              item_properties=s_card,\n",
    "                                              thumbnail=this_g['thumbnail'],\n",
    "                                              layer_info = layer_info, \n",
    "                                              gis_online_connection= gis_online_connection,\n",
    "                                              data_dir = data_dir,\n",
    "                                              online_username = online_username,\n",
    "                                              statistic_field = 'value_latest_year',\n",
    "                                              property_update_only=False, \n",
    "                                              color=this_g['rgb'])\n",
    "\n",
    "                    \n",
    "\n",
    "                    #Only set the sharing when updating or publishing\n",
    "                    if online_item is not None:\n",
    "                        if update_sharing:\n",
    "                            # Share this content with the open data group\n",
    "                            online_item.share(everyone=False, \n",
    "                                              org=True, \n",
    "                                              groups=open_data_group[\"id\"],\n",
    "                                              allow_members_to_edit=False)\n",
    "\n",
    "                        #display(online_item)\n",
    "                        # Update the Group Information with Data from the Indicator and targets\n",
    "                        update_item_categories(online_item,\n",
    "                                               g[\"code\"], \n",
    "                                               t[\"code\"],\n",
    "                                               gis_online_connection)\n",
    "\n",
    "                        #open_data_group.update(tags=open_data_group[\"tags\"] + [series[\"code\"]])\n",
    "                    else:\n",
    "                        failed_series.append(s[\"code\"])\n",
    "\n",
    "\n",
    "        \n",
    "        \n"
   ]
  },
  {
   "cell_type": "code",
   "execution_count": null,
   "metadata": {},
   "outputs": [],
   "source": []
  },
  {
   "cell_type": "code",
   "execution_count": null,
   "metadata": {},
   "outputs": [],
   "source": []
  }
 ],
 "metadata": {
  "kernelspec": {
   "display_name": "Python 3",
   "language": "python",
   "name": "python3"
  },
  "language_info": {
   "codemirror_mode": {
    "name": "ipython",
    "version": 3
   },
   "file_extension": ".py",
   "mimetype": "text/x-python",
   "name": "python",
   "nbconvert_exporter": "python",
   "pygments_lexer": "ipython3",
   "version": "3.6.8"
  }
 },
 "nbformat": 4,
 "nbformat_minor": 2
}
