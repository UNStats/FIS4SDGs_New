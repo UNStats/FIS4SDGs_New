{
 "cells": [
  {
   "cell_type": "markdown",
   "metadata": {},
   "source": [
    "# Pre-processing script 2\n",
    "This script pulls SDG data from API and transforms it into csv files.\n",
    "The steps are:\n",
    "- pivot into \"wide\" format"
   ]
  },
  {
   "cell_type": "markdown",
   "metadata": {},
   "source": [
    "### Load necessary libraries"
   ]
  },
  {
   "cell_type": "code",
   "execution_count": 1,
   "metadata": {},
   "outputs": [],
   "source": [
    "import csv\n",
    "import json\n",
    "import urllib3  # allows to access a URL with python\n",
    "import math\n",
    "import os\n",
    "import io\n",
    "import collections\n",
    "import hashlib\n",
    "import numpy as np\n",
    "import pandas as pd\n",
    "import re\n",
    "import xlsxwriter\n",
    "\n",
    "# https://volderette.de/jupyter-notebook-tip-multiple-outputs/\n",
    "from IPython.core.interactiveshell import InteractiveShell\n",
    "InteractiveShell.ast_node_interactivity = \"all\"\n"
   ]
  },
  {
   "cell_type": "markdown",
   "metadata": {},
   "source": [
    "### User parameters"
   ]
  },
  {
   "cell_type": "code",
   "execution_count": 2,
   "metadata": {},
   "outputs": [
    {
     "name": "stdout",
     "output_type": "stream",
     "text": [
      "C:\\Users\\L.GonzalezMorales\\Documents\\GitHub\\FIS4SDGs\\notebooks\\unsdPublishing\n",
      "data inputs dir: ../../\n"
     ]
    }
   ],
   "source": [
    "release = '2019.Q1.G.03' # Make sure to have the correct release here\n",
    "\n",
    "dir_path = os.path.dirname(os.path.realpath('__file__'))\n",
    "print(dir_path)\n",
    "\n",
    "wd_dir = r'../../'\n",
    "print('data inputs dir: ' + wd_dir)"
   ]
  },
  {
   "cell_type": "markdown",
   "metadata": {},
   "source": [
    "## Utilities"
   ]
  },
  {
   "cell_type": "markdown",
   "metadata": {},
   "source": [
    "#### Convert string to camelCase"
   ]
  },
  {
   "cell_type": "code",
   "execution_count": 3,
   "metadata": {},
   "outputs": [],
   "source": [
    "def camelCase(st):\n",
    "    \"\"\"\n",
    "    https://stackoverflow.com/questions/8347048/camelcase-every-string-any-standard-library\n",
    "    \n",
    "    \"\"\"\n",
    "    output = ''.join(x for x in st.title() if x.isalnum())\n",
    "    return output[0].lower() + output[1:]"
   ]
  },
  {
   "cell_type": "markdown",
   "metadata": {},
   "source": [
    "#### Disable insecure request warnings when using `urllib3`."
   ]
  },
  {
   "cell_type": "code",
   "execution_count": 4,
   "metadata": {},
   "outputs": [],
   "source": [
    "urllib3.disable_warnings(urllib3.exceptions.InsecureRequestWarning)"
   ]
  },
  {
   "cell_type": "markdown",
   "metadata": {},
   "source": [
    "#### Regular expression to capture numeric values (including those in scientific notation)\n",
    "The regex is\n",
    "\n",
    "```\n",
    "-?      # an optional -\n",
    "\\d+     # a series of digits\n",
    "(?:     # start non capturing group\n",
    "  \\.    # a dot\n",
    "  \\d+   # a series of digits\n",
    ")?      \n",
    "(?:     # start non capturing group\n",
    "  e     # \"e\"\n",
    "  -?    # an optional -\n",
    "  \\d+   # digits\n",
    ")?\n",
    "```\n"
   ]
  },
  {
   "cell_type": "code",
   "execution_count": 5,
   "metadata": {},
   "outputs": [],
   "source": [
    "def numeric_part(v):\n",
    "    numeric_part_f = re.compile(r'-?\\d+(?:\\.\\d+)?(?:e-?\\d+)?')\n",
    "    x = numeric_part_f.findall(v)\n",
    "    if len(x) > 0:\n",
    "        return float(x[0])\n",
    "    else:\n",
    "        return None\n"
   ]
  },
  {
   "cell_type": "markdown",
   "metadata": {},
   "source": [
    "#### Compute a hash of a dictionary"
   ]
  },
  {
   "cell_type": "code",
   "execution_count": 6,
   "metadata": {},
   "outputs": [],
   "source": [
    "def dict_hash(d):\n",
    "    out = hashlib.md5()\n",
    "    for key, value in d.items():\n",
    "        out.update(key.encode('utf-8'))\n",
    "        out.update(str(value).encode('utf-8'))\n",
    "    return out.hexdigest()\n"
   ]
  },
  {
   "cell_type": "markdown",
   "metadata": {},
   "source": [
    "#### Get unique dictionaries in a list"
   ]
  },
  {
   "cell_type": "code",
   "execution_count": 7,
   "metadata": {},
   "outputs": [],
   "source": [
    "def unique_dicts(dictionary_list):\n",
    "\n",
    "    uniques_map = {}\n",
    "\n",
    "    for d in dictionary_list:\n",
    "        uniques_map[dict_hash(d)] = d\n",
    "\n",
    "    return list(uniques_map.values())\n"
   ]
  },
  {
   "cell_type": "markdown",
   "metadata": {},
   "source": [
    "#### Extract subset of key-value pairs from Python dictionary object"
   ]
  },
  {
   "cell_type": "code",
   "execution_count": 8,
   "metadata": {},
   "outputs": [],
   "source": [
    "def subdict_list(dict_list, keys_list, exclude = False):\n",
    "    sub_d_list = []\n",
    "    if exclude:\n",
    "        for d in dict_list:\n",
    "            sub_d= {k: d[k] for k in d.keys() if k not in keys_list}\n",
    "            sub_d_list.append(sub_d)\n",
    "    else:\n",
    "        for d in dict_list:\n",
    "            if set(keys_list) <= set(d.keys()):\n",
    "                sub_d= {k: d[k] for k in keys_list}\n",
    "                sub_d_list.append(sub_d)\n",
    "    \n",
    "    return sub_d_list\n",
    "\n",
    "\n"
   ]
  },
  {
   "cell_type": "markdown",
   "metadata": {},
   "source": [
    "#### Get a dict from a list based on something inside the dict"
   ]
  },
  {
   "cell_type": "code",
   "execution_count": 9,
   "metadata": {},
   "outputs": [],
   "source": [
    "def select_dict(dict_list, k, v):\n",
    "    selected = []\n",
    "    for d in dict_list:\n",
    "        if k in set(d.keys()):\n",
    "            if d[k] == v:\n",
    "                selected.append(d)\n",
    "    return selected"
   ]
  },
  {
   "cell_type": "markdown",
   "metadata": {},
   "source": [
    "#### Find the coverage of an (unordered) list of years"
   ]
  },
  {
   "cell_type": "code",
   "execution_count": 10,
   "metadata": {},
   "outputs": [],
   "source": [
    "def year_intervals (years_list):\n",
    "    \"\"\" Find the coverage of an ordered list of years\"\"\"\n",
    "    \n",
    "    years_list = list(map(int, years_list))\n",
    "    \n",
    "    years_list.sort()\n",
    "    \n",
    "    n = len(years_list)\n",
    "    \n",
    "    start_y = list()\n",
    "    end_y = list()\n",
    "    \n",
    "    start_y.append(years_list[0])\n",
    "    \n",
    "    if n > 1:\n",
    "        for i in range(n-1):\n",
    "            if(years_list[i+1] - years_list[i]>1):\n",
    "                start_y.append(years_list[i+1])\n",
    "                end_y.append(years_list[i])\n",
    "    \n",
    "    end_y.append(years_list[n-1])\n",
    "    \n",
    "    interval_yy = list()\n",
    "    \n",
    "    for i in range(len(start_y)):\n",
    "\n",
    "        if  end_y[i] - start_y[i]> 0 :\n",
    "            interval_yy.append(str(start_y[i]) + '-' + str(end_y[i]))\n",
    "        else:\n",
    "            interval_yy.append(str(start_y[i]))\n",
    "\n",
    "    \n",
    "    x = \",\".join(interval_yy)\n",
    "    return(x)\n"
   ]
  },
  {
   "cell_type": "code",
   "execution_count": 11,
   "metadata": {},
   "outputs": [
    {
     "data": {
      "text/plain": [
       "'1995-1996,2000-2004'"
      ]
     },
     "execution_count": 11,
     "metadata": {},
     "output_type": "execute_result"
    },
    {
     "data": {
      "text/plain": [
       "'1995'"
      ]
     },
     "execution_count": 11,
     "metadata": {},
     "output_type": "execute_result"
    },
    {
     "data": {
      "text/plain": [
       "'2000,2004'"
      ]
     },
     "execution_count": 11,
     "metadata": {},
     "output_type": "execute_result"
    }
   ],
   "source": [
    "year_intervals(['1995','2000', '1996', '2001','2002','2003','2004'])\n",
    "year_intervals(['1995'])\n",
    "year_intervals(['2000','2004'])"
   ]
  },
  {
   "cell_type": "markdown",
   "metadata": {},
   "source": [
    "### Read data file"
   ]
  },
  {
   "cell_type": "code",
   "execution_count": null,
   "metadata": {},
   "outputs": [],
   "source": [
    "indicator = '10.6.1'\n",
    "series = 'SG_INT_VRTDEV'\n",
    "\n",
    "\n",
    "file = 'Indicator_'+indicator+'_Series_'+series+'.json'\n",
    "\n",
    "with open(wd_dir + 'data/unsd/2019.Q1.G.03/' + file) as json_file:  \n",
    "    data = json.load(json_file)"
   ]
  },
  {
   "cell_type": "markdown",
   "metadata": {},
   "source": [
    "### Select `refAreas` that have coordinates"
   ]
  },
  {
   "cell_type": "code",
   "execution_count": null,
   "metadata": {},
   "outputs": [],
   "source": [
    "ref_areas_publish = []\n",
    "for d in data['refAreas']:\n",
    "    if d['X'] and d['Y']:\n",
    "        ref_areas_publish.append(d)\n"
   ]
  },
  {
   "cell_type": "markdown",
   "metadata": {},
   "source": [
    "### Select distinct years among all data records:"
   ]
  },
  {
   "cell_type": "code",
   "execution_count": null,
   "metadata": {},
   "outputs": [],
   "source": [
    "temp = []\n",
    "timePeriods = []\n",
    "\n",
    "for ra in ref_areas_publish:\n",
    "    temp.extend(subdict_list(ra['data'], ['timePeriod'], exclude = False))\n",
    "    \n",
    "for i in unique_dicts(temp):\n",
    "    timePeriods.append(i['timePeriod'])\n",
    "\n",
    "timePeriods.sort()\n",
    "timePeriods\n"
   ]
  },
  {
   "cell_type": "markdown",
   "metadata": {},
   "source": [
    "### Select distinct slices among all data records"
   ]
  },
  {
   "cell_type": "code",
   "execution_count": null,
   "metadata": {},
   "outputs": [],
   "source": [
    "temp = []\n",
    "\n",
    "for ra in ref_areas_publish:\n",
    "    temp.extend(subdict_list(ra['data'], ['timePeriod','timeDetail',\n",
    "                                          'source','footnotes',\n",
    "                                          'natureCode', 'natureDesc',\n",
    "                                          'unitsCode', 'unitsDesc',\n",
    "                                          'unitmultiplierCode', 'unitmultiplierDesc',\n",
    "                                          'reportingTypeCode', 'reportingTypeDesc',\n",
    "                                          'value_numeric_part',\n",
    "                                          'value_is_censored',\n",
    "                                          'value_detail'\n",
    "                                         ], exclude = True))\n",
    "    \n",
    "slices = unique_dicts(temp)"
   ]
  },
  {
   "cell_type": "code",
   "execution_count": null,
   "metadata": {},
   "outputs": [],
   "source": [
    "slices"
   ]
  },
  {
   "cell_type": "markdown",
   "metadata": {},
   "source": [
    "### Write dataset as \"pivot\" version"
   ]
  },
  {
   "cell_type": "code",
   "execution_count": 39,
   "metadata": {},
   "outputs": [
    {
     "name": "stdout",
     "output_type": "stream",
     "text": [
      "Indicator_1.1.1_Series_SI_POV_DAY1.json\n",
      "1.1.1 - SI_POV_DAY1\n"
     ]
    },
    {
     "data": {
      "text/plain": [
       "[1990,\n",
       " 1991,\n",
       " 1992,\n",
       " 1993,\n",
       " 1994,\n",
       " 1995,\n",
       " 1996,\n",
       " 1997,\n",
       " 1998,\n",
       " 1999,\n",
       " 2000,\n",
       " 2001,\n",
       " 2002,\n",
       " 2003,\n",
       " 2004,\n",
       " 2005,\n",
       " 2006,\n",
       " 2007,\n",
       " 2008,\n",
       " 2009,\n",
       " 2010,\n",
       " 2011,\n",
       " 2012,\n",
       " 2013,\n",
       " 2014,\n",
       " 2015,\n",
       " 2016,\n",
       " 2017]"
      ]
     },
     "execution_count": 39,
     "metadata": {},
     "output_type": "execute_result"
    },
    {
     "name": "stdout",
     "output_type": "stream",
     "text": [
      "----\n",
      "wide_Indicator_1.1.1_Series_SI_POV_DAY1.json\n",
      "Indicator_1.1.1_Series_SI_POV_EMP1.json\n",
      "1.1.1 - SI_POV_EMP1\n"
     ]
    },
    {
     "data": {
      "text/plain": [
       "[2000,\n",
       " 2001,\n",
       " 2002,\n",
       " 2003,\n",
       " 2004,\n",
       " 2005,\n",
       " 2006,\n",
       " 2007,\n",
       " 2008,\n",
       " 2009,\n",
       " 2010,\n",
       " 2011,\n",
       " 2012,\n",
       " 2013,\n",
       " 2014,\n",
       " 2015,\n",
       " 2016,\n",
       " 2017]"
      ]
     },
     "execution_count": 39,
     "metadata": {},
     "output_type": "execute_result"
    },
    {
     "name": "stdout",
     "output_type": "stream",
     "text": [
      "----\n",
      "wide_Indicator_1.1.1_Series_SI_POV_EMP1.json\n",
      "Indicator_1.2.1_Series_SI_POV_NAHC.json\n",
      "1.2.1 - SI_POV_NAHC\n"
     ]
    },
    {
     "data": {
      "text/plain": [
       "[1985,\n",
       " 1987,\n",
       " 1989,\n",
       " 1990,\n",
       " 1991,\n",
       " 1992,\n",
       " 1993,\n",
       " 1994,\n",
       " 1995,\n",
       " 1996,\n",
       " 1997,\n",
       " 1998,\n",
       " 1999,\n",
       " 2000,\n",
       " 2001,\n",
       " 2002,\n",
       " 2003,\n",
       " 2004,\n",
       " 2005,\n",
       " 2006,\n",
       " 2007,\n",
       " 2008,\n",
       " 2009,\n",
       " 2010,\n",
       " 2011,\n",
       " 2012,\n",
       " 2013,\n",
       " 2014,\n",
       " 2015,\n",
       " 2016,\n",
       " 2017]"
      ]
     },
     "execution_count": 39,
     "metadata": {},
     "output_type": "execute_result"
    },
    {
     "name": "stdout",
     "output_type": "stream",
     "text": [
      "----\n",
      "wide_Indicator_1.2.1_Series_SI_POV_NAHC.json\n",
      "Indicator_1.3.1_Series_SI_COV_MATNL.json\n",
      "1.3.1 - SI_COV_MATNL\n"
     ]
    },
    {
     "data": {
      "text/plain": [
       "[2016, 2017, 2018]"
      ]
     },
     "execution_count": 39,
     "metadata": {},
     "output_type": "execute_result"
    },
    {
     "name": "stdout",
     "output_type": "stream",
     "text": [
      "----\n",
      "wide_Indicator_1.3.1_Series_SI_COV_MATNL.json\n",
      "Indicator_1.3.1_Series_SI_COV_POOR.json\n",
      "1.3.1 - SI_COV_POOR\n"
     ]
    },
    {
     "data": {
      "text/plain": [
       "[2016, 2017, 2018]"
      ]
     },
     "execution_count": 39,
     "metadata": {},
     "output_type": "execute_result"
    },
    {
     "name": "stdout",
     "output_type": "stream",
     "text": [
      "----\n",
      "wide_Indicator_1.3.1_Series_SI_COV_POOR.json\n",
      "Indicator_1.3.1_Series_SI_COV_SOCAST.json\n",
      "1.3.1 - SI_COV_SOCAST\n"
     ]
    },
    {
     "data": {
      "text/plain": [
       "[1998,\n",
       " 2000,\n",
       " 2001,\n",
       " 2002,\n",
       " 2003,\n",
       " 2004,\n",
       " 2005,\n",
       " 2006,\n",
       " 2007,\n",
       " 2008,\n",
       " 2009,\n",
       " 2010,\n",
       " 2011,\n",
       " 2012,\n",
       " 2013,\n",
       " 2014,\n",
       " 2015,\n",
       " 2016]"
      ]
     },
     "execution_count": 39,
     "metadata": {},
     "output_type": "execute_result"
    },
    {
     "name": "stdout",
     "output_type": "stream",
     "text": [
      "----\n",
      "wide_Indicator_1.3.1_Series_SI_COV_SOCAST.json\n",
      "Indicator_1.3.1_Series_SI_COV_SOCASTPQ.json\n",
      "1.3.1 - SI_COV_SOCASTPQ\n"
     ]
    },
    {
     "data": {
      "text/plain": [
       "[1998,\n",
       " 2000,\n",
       " 2001,\n",
       " 2002,\n",
       " 2003,\n",
       " 2004,\n",
       " 2005,\n",
       " 2006,\n",
       " 2007,\n",
       " 2008,\n",
       " 2009,\n",
       " 2010,\n",
       " 2011,\n",
       " 2012,\n",
       " 2013,\n",
       " 2014,\n",
       " 2015,\n",
       " 2016]"
      ]
     },
     "execution_count": 39,
     "metadata": {},
     "output_type": "execute_result"
    },
    {
     "name": "stdout",
     "output_type": "stream",
     "text": [
      "----\n",
      "wide_Indicator_1.3.1_Series_SI_COV_SOCASTPQ.json\n",
      "Indicator_1.3.1_Series_SI_COV_SOCINS.json\n",
      "1.3.1 - SI_COV_SOCINS\n"
     ]
    },
    {
     "data": {
      "text/plain": [
       "[1998,\n",
       " 1999,\n",
       " 2000,\n",
       " 2002,\n",
       " 2003,\n",
       " 2004,\n",
       " 2005,\n",
       " 2006,\n",
       " 2007,\n",
       " 2008,\n",
       " 2009,\n",
       " 2010,\n",
       " 2011,\n",
       " 2012,\n",
       " 2013,\n",
       " 2014,\n",
       " 2015,\n",
       " 2016]"
      ]
     },
     "execution_count": 39,
     "metadata": {},
     "output_type": "execute_result"
    },
    {
     "name": "stdout",
     "output_type": "stream",
     "text": [
      "----\n",
      "wide_Indicator_1.3.1_Series_SI_COV_SOCINS.json\n",
      "Indicator_1.3.1_Series_SI_COV_CHLD.json\n",
      "1.3.1 - SI_COV_CHLD\n"
     ]
    },
    {
     "data": {
      "text/plain": [
       "[2016, 2017, 2018]"
      ]
     },
     "execution_count": 39,
     "metadata": {},
     "output_type": "execute_result"
    },
    {
     "name": "stdout",
     "output_type": "stream",
     "text": [
      "----\n",
      "wide_Indicator_1.3.1_Series_SI_COV_CHLD.json\n",
      "Indicator_1.3.1_Series_SI_COV_SOCINSPQ.json\n",
      "1.3.1 - SI_COV_SOCINSPQ\n"
     ]
    },
    {
     "data": {
      "text/plain": [
       "[1998,\n",
       " 1999,\n",
       " 2000,\n",
       " 2002,\n",
       " 2003,\n",
       " 2004,\n",
       " 2005,\n",
       " 2006,\n",
       " 2007,\n",
       " 2008,\n",
       " 2009,\n",
       " 2010,\n",
       " 2011,\n",
       " 2012,\n",
       " 2013,\n",
       " 2014,\n",
       " 2015,\n",
       " 2016]"
      ]
     },
     "execution_count": 39,
     "metadata": {},
     "output_type": "execute_result"
    },
    {
     "name": "stdout",
     "output_type": "stream",
     "text": [
      "----\n",
      "wide_Indicator_1.3.1_Series_SI_COV_SOCINSPQ.json\n",
      "Indicator_1.3.1_Series_SI_COV_UEMP.json\n",
      "1.3.1 - SI_COV_UEMP\n"
     ]
    },
    {
     "data": {
      "text/plain": [
       "[2000,\n",
       " 2001,\n",
       " 2002,\n",
       " 2003,\n",
       " 2004,\n",
       " 2005,\n",
       " 2006,\n",
       " 2007,\n",
       " 2008,\n",
       " 2009,\n",
       " 2010,\n",
       " 2011,\n",
       " 2012,\n",
       " 2013,\n",
       " 2014,\n",
       " 2015,\n",
       " 2016,\n",
       " 2017,\n",
       " 2018]"
      ]
     },
     "execution_count": 39,
     "metadata": {},
     "output_type": "execute_result"
    },
    {
     "name": "stdout",
     "output_type": "stream",
     "text": [
      "----\n",
      "wide_Indicator_1.3.1_Series_SI_COV_UEMP.json\n",
      "Indicator_1.3.1_Series_SI_COV_VULN.json\n",
      "1.3.1 - SI_COV_VULN\n"
     ]
    },
    {
     "data": {
      "text/plain": [
       "[2016, 2017, 2018]"
      ]
     },
     "execution_count": 39,
     "metadata": {},
     "output_type": "execute_result"
    },
    {
     "name": "stdout",
     "output_type": "stream",
     "text": [
      "----\n",
      "wide_Indicator_1.3.1_Series_SI_COV_VULN.json\n",
      "Indicator_1.3.1_Series_SI_COV_WKINJRY.json\n",
      "1.3.1 - SI_COV_WKINJRY\n"
     ]
    },
    {
     "data": {
      "text/plain": [
       "[2003, 2004, 2006, 2007, 2008, 2009, 2010, 2011, 2012, 2015, 2016, 2017]"
      ]
     },
     "execution_count": 39,
     "metadata": {},
     "output_type": "execute_result"
    },
    {
     "name": "stdout",
     "output_type": "stream",
     "text": [
      "----\n",
      "wide_Indicator_1.3.1_Series_SI_COV_WKINJRY.json\n",
      "Indicator_1.3.1_Series_SI_COV_BENFTS.json\n",
      "1.3.1 - SI_COV_BENFTS\n"
     ]
    },
    {
     "data": {
      "text/plain": [
       "[2016, 2017, 2018]"
      ]
     },
     "execution_count": 39,
     "metadata": {},
     "output_type": "execute_result"
    },
    {
     "name": "stdout",
     "output_type": "stream",
     "text": [
      "----\n",
      "wide_Indicator_1.3.1_Series_SI_COV_BENFTS.json\n",
      "Indicator_1.3.1_Series_SI_COV_DISAB.json\n",
      "1.3.1 - SI_COV_DISAB\n"
     ]
    },
    {
     "data": {
      "text/plain": [
       "[2013, 2014, 2016, 2017, 2018]"
      ]
     },
     "execution_count": 39,
     "metadata": {},
     "output_type": "execute_result"
    },
    {
     "name": "stdout",
     "output_type": "stream",
     "text": [
      "----\n",
      "wide_Indicator_1.3.1_Series_SI_COV_DISAB.json\n",
      "Indicator_1.3.1_Series_SI_COV_LMKT.json\n",
      "1.3.1 - SI_COV_LMKT\n"
     ]
    },
    {
     "data": {
      "text/plain": [
       "[2002,\n",
       " 2004,\n",
       " 2005,\n",
       " 2006,\n",
       " 2007,\n",
       " 2008,\n",
       " 2009,\n",
       " 2010,\n",
       " 2011,\n",
       " 2012,\n",
       " 2013,\n",
       " 2014,\n",
       " 2015,\n",
       " 2016]"
      ]
     },
     "execution_count": 39,
     "metadata": {},
     "output_type": "execute_result"
    },
    {
     "name": "stdout",
     "output_type": "stream",
     "text": [
      "----\n",
      "wide_Indicator_1.3.1_Series_SI_COV_LMKT.json\n",
      "Indicator_1.3.1_Series_SI_COV_LMKTPQ.json\n",
      "1.3.1 - SI_COV_LMKTPQ\n"
     ]
    },
    {
     "data": {
      "text/plain": [
       "[2002,\n",
       " 2004,\n",
       " 2005,\n",
       " 2006,\n",
       " 2007,\n",
       " 2008,\n",
       " 2009,\n",
       " 2010,\n",
       " 2011,\n",
       " 2012,\n",
       " 2013,\n",
       " 2014,\n",
       " 2015,\n",
       " 2016]"
      ]
     },
     "execution_count": 39,
     "metadata": {},
     "output_type": "execute_result"
    },
    {
     "name": "stdout",
     "output_type": "stream",
     "text": [
      "----\n",
      "wide_Indicator_1.3.1_Series_SI_COV_LMKTPQ.json\n",
      "Indicator_1.3.1_Series_SI_COV_PENSN.json\n",
      "1.3.1 - SI_COV_PENSN\n"
     ]
    },
    {
     "data": {
      "text/plain": [
       "[1996,\n",
       " 2000,\n",
       " 2001,\n",
       " 2002,\n",
       " 2003,\n",
       " 2004,\n",
       " 2005,\n",
       " 2009,\n",
       " 2010,\n",
       " 2011,\n",
       " 2012,\n",
       " 2013,\n",
       " 2014,\n",
       " 2015,\n",
       " 2016,\n",
       " 2017,\n",
       " 2018]"
      ]
     },
     "execution_count": 39,
     "metadata": {},
     "output_type": "execute_result"
    },
    {
     "name": "stdout",
     "output_type": "stream",
     "text": [
      "----\n",
      "wide_Indicator_1.3.1_Series_SI_COV_PENSN.json\n",
      "Indicator_1.5.1_Series_VC_DSR_MISS.json\n",
      "1.5.1 - VC_DSR_MISS\n"
     ]
    },
    {
     "data": {
      "text/plain": [
       "[2005, 2006, 2007, 2008, 2009, 2010, 2011, 2012, 2013, 2014, 2015, 2016, 2017]"
      ]
     },
     "execution_count": 39,
     "metadata": {},
     "output_type": "execute_result"
    },
    {
     "name": "stdout",
     "output_type": "stream",
     "text": [
      "----\n",
      "wide_Indicator_1.5.1_Series_VC_DSR_MISS.json\n",
      "Indicator_1.5.1_Series_VC_DSR_AFFCT.json\n",
      "1.5.1 - VC_DSR_AFFCT\n"
     ]
    },
    {
     "data": {
      "text/plain": [
       "[2005, 2006, 2007, 2008, 2009, 2010, 2011, 2012, 2013, 2014, 2015, 2016, 2017]"
      ]
     },
     "execution_count": 39,
     "metadata": {},
     "output_type": "execute_result"
    },
    {
     "name": "stdout",
     "output_type": "stream",
     "text": [
      "----\n",
      "wide_Indicator_1.5.1_Series_VC_DSR_AFFCT.json\n",
      "Indicator_1.5.1_Series_VC_DSR_MORT.json\n",
      "1.5.1 - VC_DSR_MORT\n"
     ]
    },
    {
     "data": {
      "text/plain": [
       "[2005, 2006, 2007, 2008, 2009, 2010, 2011, 2012, 2013, 2014, 2015, 2016, 2017]"
      ]
     },
     "execution_count": 39,
     "metadata": {},
     "output_type": "execute_result"
    },
    {
     "name": "stdout",
     "output_type": "stream",
     "text": [
      "----\n",
      "wide_Indicator_1.5.1_Series_VC_DSR_MORT.json\n",
      "Indicator_1.5.1_Series_VC_DSR_MTMP.json\n",
      "1.5.1 - VC_DSR_MTMP\n"
     ]
    },
    {
     "data": {
      "text/plain": [
       "[2005, 2006, 2007, 2008, 2009, 2010, 2011, 2012, 2013, 2014, 2015, 2016, 2017]"
      ]
     },
     "execution_count": 39,
     "metadata": {},
     "output_type": "execute_result"
    },
    {
     "name": "stdout",
     "output_type": "stream",
     "text": [
      "----\n",
      "wide_Indicator_1.5.1_Series_VC_DSR_MTMP.json\n",
      "Indicator_1.5.1_Series_VC_DSR_MTMN.json\n",
      "1.5.1 - VC_DSR_MTMN\n"
     ]
    },
    {
     "data": {
      "text/plain": [
       "[2005, 2006, 2007, 2008, 2009, 2010, 2011, 2012, 2013, 2014, 2015, 2016, 2017]"
      ]
     },
     "execution_count": 39,
     "metadata": {},
     "output_type": "execute_result"
    },
    {
     "name": "stdout",
     "output_type": "stream",
     "text": [
      "----\n",
      "wide_Indicator_1.5.1_Series_VC_DSR_MTMN.json\n",
      "Indicator_1.5.1_Series_VC_DSR_MMHN.json\n",
      "1.5.1 - VC_DSR_MMHN\n"
     ]
    },
    {
     "data": {
      "text/plain": [
       "[2005, 2006, 2007, 2008, 2009, 2010, 2011, 2012, 2013, 2014, 2015, 2016, 2017]"
      ]
     },
     "execution_count": 39,
     "metadata": {},
     "output_type": "execute_result"
    },
    {
     "name": "stdout",
     "output_type": "stream",
     "text": [
      "----\n",
      "wide_Indicator_1.5.1_Series_VC_DSR_MMHN.json\n",
      "Indicator_1.5.1_Series_VC_DSR_DAFF.json\n",
      "1.5.1 - VC_DSR_DAFF\n"
     ]
    },
    {
     "data": {
      "text/plain": [
       "[2005, 2006, 2007, 2008, 2009, 2010, 2011, 2012, 2013, 2014, 2015, 2016, 2017]"
      ]
     },
     "execution_count": 39,
     "metadata": {},
     "output_type": "execute_result"
    },
    {
     "name": "stdout",
     "output_type": "stream",
     "text": [
      "----\n",
      "wide_Indicator_1.5.1_Series_VC_DSR_DAFF.json\n",
      "Indicator_1.5.1_Series_VC_DSR_IJILN.json\n",
      "1.5.1 - VC_DSR_IJILN\n"
     ]
    },
    {
     "data": {
      "text/plain": [
       "[2005, 2006, 2007, 2008, 2009, 2010, 2011, 2012, 2013, 2014, 2015, 2016, 2017]"
      ]
     },
     "execution_count": 39,
     "metadata": {},
     "output_type": "execute_result"
    },
    {
     "name": "stdout",
     "output_type": "stream",
     "text": [
      "----\n",
      "wide_Indicator_1.5.1_Series_VC_DSR_IJILN.json\n",
      "Indicator_1.5.1_Series_VC_DSR_PDAN.json\n",
      "1.5.1 - VC_DSR_PDAN\n"
     ]
    },
    {
     "data": {
      "text/plain": [
       "[2005, 2006, 2007, 2008, 2009, 2010, 2011, 2012, 2013, 2014, 2015, 2016, 2017]"
      ]
     },
     "execution_count": 39,
     "metadata": {},
     "output_type": "execute_result"
    },
    {
     "name": "stdout",
     "output_type": "stream",
     "text": [
      "----\n",
      "wide_Indicator_1.5.1_Series_VC_DSR_PDAN.json\n",
      "Indicator_1.5.1_Series_VC_DSR_DADN.json\n",
      "1.5.1 - VC_DSR_DADN\n"
     ]
    },
    {
     "data": {
      "text/plain": [
       "[2005, 2006, 2007, 2008, 2009, 2010, 2011, 2012, 2013, 2014, 2015, 2016, 2017]"
      ]
     },
     "execution_count": 39,
     "metadata": {},
     "output_type": "execute_result"
    },
    {
     "name": "stdout",
     "output_type": "stream",
     "text": [
      "----\n",
      "wide_Indicator_1.5.1_Series_VC_DSR_DADN.json\n",
      "Indicator_1.5.1_Series_VC_DSR_DDHN.json\n",
      "1.5.1 - VC_DSR_DDHN\n"
     ]
    },
    {
     "data": {
      "text/plain": [
       "[2005, 2006, 2007, 2008, 2009, 2010, 2011, 2012, 2013, 2014, 2015, 2016, 2017]"
      ]
     },
     "execution_count": 39,
     "metadata": {},
     "output_type": "execute_result"
    },
    {
     "name": "stdout",
     "output_type": "stream",
     "text": [
      "----\n",
      "wide_Indicator_1.5.1_Series_VC_DSR_DDHN.json\n",
      "Indicator_1.5.1_Series_VC_DSR_PDYN.json\n",
      "1.5.1 - VC_DSR_PDYN\n"
     ]
    },
    {
     "data": {
      "text/plain": [
       "[2005, 2006, 2007, 2008, 2009, 2010, 2011, 2012, 2013, 2014, 2015, 2016, 2017]"
      ]
     },
     "execution_count": 39,
     "metadata": {},
     "output_type": "execute_result"
    },
    {
     "name": "stdout",
     "output_type": "stream",
     "text": [
      "----\n",
      "wide_Indicator_1.5.1_Series_VC_DSR_PDYN.json\n",
      "Indicator_1.5.1_Series_VC_DSR_DYDN.json\n",
      "1.5.1 - VC_DSR_DYDN\n"
     ]
    },
    {
     "data": {
      "text/plain": [
       "[2005, 2006, 2007, 2008, 2009, 2010, 2011, 2012, 2013, 2014, 2015, 2016, 2017]"
      ]
     },
     "execution_count": 39,
     "metadata": {},
     "output_type": "execute_result"
    },
    {
     "name": "stdout",
     "output_type": "stream",
     "text": [
      "----\n",
      "wide_Indicator_1.5.1_Series_VC_DSR_DYDN.json\n",
      "Indicator_1.5.1_Series_VC_DSR_PDLN.json\n",
      "1.5.1 - VC_DSR_PDLN\n"
     ]
    },
    {
     "data": {
      "text/plain": [
       "[2005, 2006, 2007, 2008, 2009, 2010, 2011, 2012, 2013, 2014, 2015, 2016, 2017]"
      ]
     },
     "execution_count": 39,
     "metadata": {},
     "output_type": "execute_result"
    },
    {
     "name": "stdout",
     "output_type": "stream",
     "text": [
      "----\n",
      "wide_Indicator_1.5.1_Series_VC_DSR_PDLN.json\n",
      "Indicator_1.5.1_Series_VC_DSR_DYHN.json\n",
      "1.5.1 - VC_DSR_DYHN\n"
     ]
    },
    {
     "data": {
      "text/plain": [
       "[2005, 2006, 2007, 2008, 2009, 2010, 2011, 2012, 2013, 2014, 2015, 2016, 2017]"
      ]
     },
     "execution_count": 39,
     "metadata": {},
     "output_type": "execute_result"
    },
    {
     "name": "stdout",
     "output_type": "stream",
     "text": [
      "----\n",
      "wide_Indicator_1.5.1_Series_VC_DSR_DYHN.json\n",
      "Indicator_1.5.2_Series_VC_DSR_GDPLS.json\n",
      "1.5.2 - VC_DSR_GDPLS\n"
     ]
    },
    {
     "data": {
      "text/plain": [
       "[2005, 2006, 2007, 2008, 2009, 2010, 2011, 2012, 2013, 2014, 2015, 2016, 2017]"
      ]
     },
     "execution_count": 39,
     "metadata": {},
     "output_type": "execute_result"
    },
    {
     "name": "stdout",
     "output_type": "stream",
     "text": [
      "----\n",
      "wide_Indicator_1.5.2_Series_VC_DSR_GDPLS.json\n",
      "Indicator_1.5.2_Series_VC_DSR_LSGP.json\n",
      "1.5.2 - VC_DSR_LSGP\n"
     ]
    },
    {
     "data": {
      "text/plain": [
       "[2005, 2006, 2007, 2008, 2009, 2010, 2011, 2012, 2013, 2014, 2015, 2016, 2017]"
      ]
     },
     "execution_count": 39,
     "metadata": {},
     "output_type": "execute_result"
    },
    {
     "name": "stdout",
     "output_type": "stream",
     "text": [
      "----\n",
      "wide_Indicator_1.5.2_Series_VC_DSR_LSGP.json\n",
      "Indicator_1.5.2_Series_VC_DSR_AGLN.json\n",
      "1.5.2 - VC_DSR_AGLN\n"
     ]
    },
    {
     "data": {
      "text/plain": [
       "[2005, 2006, 2007, 2008, 2009, 2010, 2011, 2012, 2013, 2014, 2015, 2016, 2017]"
      ]
     },
     "execution_count": 39,
     "metadata": {},
     "output_type": "execute_result"
    },
    {
     "name": "stdout",
     "output_type": "stream",
     "text": [
      "----\n",
      "wide_Indicator_1.5.2_Series_VC_DSR_AGLN.json\n",
      "Indicator_1.5.2_Series_VC_DSR_AGLH.json\n",
      "1.5.2 - VC_DSR_AGLH\n"
     ]
    },
    {
     "data": {
      "text/plain": [
       "[2005, 2006, 2007, 2008, 2009, 2010, 2011, 2012, 2013, 2014, 2015, 2016, 2017]"
      ]
     },
     "execution_count": 39,
     "metadata": {},
     "output_type": "execute_result"
    },
    {
     "name": "stdout",
     "output_type": "stream",
     "text": [
      "----\n",
      "wide_Indicator_1.5.2_Series_VC_DSR_AGLH.json\n",
      "Indicator_1.5.2_Series_VC_DSR_HOLN.json\n",
      "1.5.2 - VC_DSR_HOLN\n"
     ]
    },
    {
     "data": {
      "text/plain": [
       "[2005, 2006, 2007, 2008, 2009, 2010, 2011, 2012, 2013, 2014, 2015, 2016, 2017]"
      ]
     },
     "execution_count": 39,
     "metadata": {},
     "output_type": "execute_result"
    },
    {
     "name": "stdout",
     "output_type": "stream",
     "text": [
      "----\n",
      "wide_Indicator_1.5.2_Series_VC_DSR_HOLN.json\n",
      "Indicator_1.5.2_Series_VC_DSR_HOLH.json\n",
      "1.5.2 - VC_DSR_HOLH\n"
     ]
    },
    {
     "data": {
      "text/plain": [
       "[2005, 2006, 2007, 2008, 2009, 2010, 2011, 2012, 2013, 2014, 2015, 2016, 2017]"
      ]
     },
     "execution_count": 39,
     "metadata": {},
     "output_type": "execute_result"
    },
    {
     "name": "stdout",
     "output_type": "stream",
     "text": [
      "----\n",
      "wide_Indicator_1.5.2_Series_VC_DSR_HOLH.json\n",
      "Indicator_1.5.2_Series_VC_DSR_CILN.json\n",
      "1.5.2 - VC_DSR_CILN\n"
     ]
    },
    {
     "data": {
      "text/plain": [
       "[2005, 2006, 2007, 2008, 2009, 2010, 2011, 2012, 2013, 2014, 2015, 2016, 2017]"
      ]
     },
     "execution_count": 39,
     "metadata": {},
     "output_type": "execute_result"
    },
    {
     "name": "stdout",
     "output_type": "stream",
     "text": [
      "----\n",
      "wide_Indicator_1.5.2_Series_VC_DSR_CILN.json\n",
      "Indicator_1.5.2_Series_VC_DSR_CHLN.json\n",
      "1.5.2 - VC_DSR_CHLN\n"
     ]
    },
    {
     "data": {
      "text/plain": [
       "[2005, 2006, 2007, 2008, 2009, 2010, 2011, 2012, 2013, 2014, 2015, 2016, 2017]"
      ]
     },
     "execution_count": 39,
     "metadata": {},
     "output_type": "execute_result"
    },
    {
     "name": "stdout",
     "output_type": "stream",
     "text": [
      "----\n",
      "wide_Indicator_1.5.2_Series_VC_DSR_CHLN.json\n",
      "Indicator_1.5.3_Series_SG_DSR_LEGREG.json\n",
      "1.5.3 - SG_DSR_LEGREG\n"
     ]
    },
    {
     "data": {
      "text/plain": [
       "[2013, 2015]"
      ]
     },
     "execution_count": 39,
     "metadata": {},
     "output_type": "execute_result"
    },
    {
     "name": "stdout",
     "output_type": "stream",
     "text": [
      "----\n",
      "wide_Indicator_1.5.3_Series_SG_DSR_LEGREG.json\n",
      "Indicator_1.5.3_Series_SG_DSR_LGRGSR.json\n",
      "1.5.3 - SG_DSR_LGRGSR\n"
     ]
    },
    {
     "data": {
      "text/plain": [
       "[2017]"
      ]
     },
     "execution_count": 39,
     "metadata": {},
     "output_type": "execute_result"
    },
    {
     "name": "stdout",
     "output_type": "stream",
     "text": [
      "----\n",
      "wide_Indicator_1.5.3_Series_SG_DSR_LGRGSR.json\n",
      "Indicator_1.5.4_Series_SG_DSR_SILS.json\n",
      "1.5.4 - SG_DSR_SILS\n"
     ]
    },
    {
     "data": {
      "text/plain": [
       "[2017]"
      ]
     },
     "execution_count": 39,
     "metadata": {},
     "output_type": "execute_result"
    },
    {
     "name": "stdout",
     "output_type": "stream",
     "text": [
      "----\n",
      "wide_Indicator_1.5.4_Series_SG_DSR_SILS.json\n",
      "Indicator_1.5.4_Series_SG_DSR_SILN.json\n",
      "1.5.4 - SG_DSR_SILN\n"
     ]
    },
    {
     "data": {
      "text/plain": [
       "[2017]"
      ]
     },
     "execution_count": 39,
     "metadata": {},
     "output_type": "execute_result"
    },
    {
     "name": "stdout",
     "output_type": "stream",
     "text": [
      "----\n",
      "wide_Indicator_1.5.4_Series_SG_DSR_SILN.json\n",
      "Indicator_1.5.4_Series_SG_GOV_LOGV.json\n",
      "1.5.4 - SG_GOV_LOGV\n"
     ]
    },
    {
     "data": {
      "text/plain": [
       "[2017]"
      ]
     },
     "execution_count": 39,
     "metadata": {},
     "output_type": "execute_result"
    },
    {
     "name": "stdout",
     "output_type": "stream",
     "text": [
      "----\n",
      "wide_Indicator_1.5.4_Series_SG_GOV_LOGV.json\n",
      "Indicator_1.a.2_Series_SD_XPD_ESED.json\n",
      "1.a.2 - SD_XPD_ESED\n"
     ]
    },
    {
     "data": {
      "text/plain": [
       "[2000,\n",
       " 2001,\n",
       " 2002,\n",
       " 2003,\n",
       " 2004,\n",
       " 2005,\n",
       " 2006,\n",
       " 2007,\n",
       " 2008,\n",
       " 2009,\n",
       " 2010,\n",
       " 2011,\n",
       " 2012,\n",
       " 2013,\n",
       " 2014,\n",
       " 2015,\n",
       " 2016,\n",
       " 2017,\n",
       " 2018]"
      ]
     },
     "execution_count": 39,
     "metadata": {},
     "output_type": "execute_result"
    },
    {
     "name": "stdout",
     "output_type": "stream",
     "text": [
      "----\n",
      "wide_Indicator_1.a.2_Series_SD_XPD_ESED.json\n",
      "Indicator_2.1.1_Series_SN_ITK_DEFC.json\n",
      "2.1.1 - SN_ITK_DEFC\n"
     ]
    },
    {
     "data": {
      "text/plain": [
       "[2000,\n",
       " 2001,\n",
       " 2002,\n",
       " 2003,\n",
       " 2004,\n",
       " 2005,\n",
       " 2006,\n",
       " 2007,\n",
       " 2008,\n",
       " 2009,\n",
       " 2010,\n",
       " 2011,\n",
       " 2012,\n",
       " 2013,\n",
       " 2014,\n",
       " 2015,\n",
       " 2016]"
      ]
     },
     "execution_count": 39,
     "metadata": {},
     "output_type": "execute_result"
    },
    {
     "name": "stdout",
     "output_type": "stream",
     "text": [
      "----\n",
      "wide_Indicator_2.1.1_Series_SN_ITK_DEFC.json\n",
      "Indicator_2.1.1_Series_SN_ITK_DEFCN.json\n",
      "2.1.1 - SN_ITK_DEFCN\n"
     ]
    },
    {
     "data": {
      "text/plain": [
       "[2000,\n",
       " 2001,\n",
       " 2002,\n",
       " 2003,\n",
       " 2004,\n",
       " 2005,\n",
       " 2006,\n",
       " 2007,\n",
       " 2008,\n",
       " 2009,\n",
       " 2010,\n",
       " 2011,\n",
       " 2012,\n",
       " 2013,\n",
       " 2014,\n",
       " 2015,\n",
       " 2016]"
      ]
     },
     "execution_count": 39,
     "metadata": {},
     "output_type": "execute_result"
    },
    {
     "name": "stdout",
     "output_type": "stream",
     "text": [
      "----\n",
      "wide_Indicator_2.1.1_Series_SN_ITK_DEFCN.json\n",
      "Indicator_2.1.2_Series_AG_PRD_FIESSI.json\n",
      "2.1.2 - AG_PRD_FIESSI\n"
     ]
    },
    {
     "data": {
      "text/plain": [
       "[2015, 2016]"
      ]
     },
     "execution_count": 39,
     "metadata": {},
     "output_type": "execute_result"
    },
    {
     "name": "stdout",
     "output_type": "stream",
     "text": [
      "----\n",
      "wide_Indicator_2.1.2_Series_AG_PRD_FIESSI.json\n",
      "Indicator_2.1.2_Series_AG_PRD_FIESSIN.json\n",
      "2.1.2 - AG_PRD_FIESSIN\n"
     ]
    },
    {
     "data": {
      "text/plain": [
       "[2015, 2016]"
      ]
     },
     "execution_count": 39,
     "metadata": {},
     "output_type": "execute_result"
    },
    {
     "name": "stdout",
     "output_type": "stream",
     "text": [
      "----\n",
      "wide_Indicator_2.1.2_Series_AG_PRD_FIESSIN.json\n",
      "Indicator_2.2.1_Series_SH_STA_STUNT.json\n",
      "2.2.1 - SH_STA_STUNT\n"
     ]
    },
    {
     "data": {
      "text/plain": [
       "[2000,\n",
       " 2001,\n",
       " 2002,\n",
       " 2003,\n",
       " 2004,\n",
       " 2005,\n",
       " 2006,\n",
       " 2007,\n",
       " 2008,\n",
       " 2009,\n",
       " 2010,\n",
       " 2011,\n",
       " 2012,\n",
       " 2013,\n",
       " 2014,\n",
       " 2015,\n",
       " 2016]"
      ]
     },
     "execution_count": 39,
     "metadata": {},
     "output_type": "execute_result"
    },
    {
     "name": "stdout",
     "output_type": "stream",
     "text": [
      "----\n",
      "wide_Indicator_2.2.1_Series_SH_STA_STUNT.json\n",
      "Indicator_2.2.1_Series_SH_STA_STUNTN.json\n",
      "2.2.1 - SH_STA_STUNTN\n"
     ]
    },
    {
     "data": {
      "text/plain": [
       "[]"
      ]
     },
     "execution_count": 39,
     "metadata": {},
     "output_type": "execute_result"
    },
    {
     "name": "stdout",
     "output_type": "stream",
     "text": [
      "----\n",
      "wide_Indicator_2.2.1_Series_SH_STA_STUNTN.json\n",
      "Indicator_2.2.2_Series_SH_STA_WASTE.json\n",
      "2.2.2 - SH_STA_WASTE\n"
     ]
    },
    {
     "data": {
      "text/plain": [
       "[2000,\n",
       " 2001,\n",
       " 2002,\n",
       " 2003,\n",
       " 2004,\n",
       " 2005,\n",
       " 2006,\n",
       " 2007,\n",
       " 2008,\n",
       " 2009,\n",
       " 2010,\n",
       " 2011,\n",
       " 2012,\n",
       " 2013,\n",
       " 2014,\n",
       " 2015,\n",
       " 2016]"
      ]
     },
     "execution_count": 39,
     "metadata": {},
     "output_type": "execute_result"
    },
    {
     "name": "stdout",
     "output_type": "stream",
     "text": [
      "----\n",
      "wide_Indicator_2.2.2_Series_SH_STA_WASTE.json\n",
      "Indicator_2.2.2_Series_SH_STA_WASTEN.json\n",
      "2.2.2 - SH_STA_WASTEN\n"
     ]
    },
    {
     "data": {
      "text/plain": [
       "[]"
      ]
     },
     "execution_count": 39,
     "metadata": {},
     "output_type": "execute_result"
    },
    {
     "name": "stdout",
     "output_type": "stream",
     "text": [
      "----\n",
      "wide_Indicator_2.2.2_Series_SH_STA_WASTEN.json\n",
      "Indicator_2.2.2_Series_SH_STA_OVRWGT.json\n",
      "2.2.2 - SH_STA_OVRWGT\n"
     ]
    },
    {
     "data": {
      "text/plain": [
       "[2000,\n",
       " 2001,\n",
       " 2002,\n",
       " 2003,\n",
       " 2004,\n",
       " 2005,\n",
       " 2006,\n",
       " 2007,\n",
       " 2008,\n",
       " 2009,\n",
       " 2010,\n",
       " 2011,\n",
       " 2012,\n",
       " 2013,\n",
       " 2014,\n",
       " 2015,\n",
       " 2016]"
      ]
     },
     "execution_count": 39,
     "metadata": {},
     "output_type": "execute_result"
    },
    {
     "name": "stdout",
     "output_type": "stream",
     "text": [
      "----\n",
      "wide_Indicator_2.2.2_Series_SH_STA_OVRWGT.json\n",
      "Indicator_2.2.2_Series_SH_STA_OVRWGTN.json\n",
      "2.2.2 - SH_STA_OVRWGTN\n"
     ]
    },
    {
     "data": {
      "text/plain": [
       "[]"
      ]
     },
     "execution_count": 39,
     "metadata": {},
     "output_type": "execute_result"
    },
    {
     "name": "stdout",
     "output_type": "stream",
     "text": [
      "----\n",
      "wide_Indicator_2.2.2_Series_SH_STA_OVRWGTN.json\n",
      "Indicator_2.5.1_Series_ER_GRF_ANIMKPT.json\n",
      "2.5.1 - ER_GRF_ANIMKPT\n"
     ]
    },
    {
     "data": {
      "text/plain": [
       "[2018]"
      ]
     },
     "execution_count": 39,
     "metadata": {},
     "output_type": "execute_result"
    },
    {
     "name": "stdout",
     "output_type": "stream",
     "text": [
      "----\n",
      "wide_Indicator_2.5.1_Series_ER_GRF_ANIMKPT.json\n",
      "Indicator_2.5.1_Series_ER_GRF_ANIMRCNTN.json\n",
      "2.5.1 - ER_GRF_ANIMRCNTN\n"
     ]
    },
    {
     "data": {
      "text/plain": [
       "[2018]"
      ]
     },
     "execution_count": 39,
     "metadata": {},
     "output_type": "execute_result"
    },
    {
     "name": "stdout",
     "output_type": "stream",
     "text": [
      "----\n",
      "wide_Indicator_2.5.1_Series_ER_GRF_ANIMRCNTN.json\n",
      "Indicator_2.5.1_Series_ER_GRF_ANIMSTOR.json\n",
      "2.5.1 - ER_GRF_ANIMSTOR\n"
     ]
    },
    {
     "data": {
      "text/plain": [
       "[2018]"
      ]
     },
     "execution_count": 39,
     "metadata": {},
     "output_type": "execute_result"
    },
    {
     "name": "stdout",
     "output_type": "stream",
     "text": [
      "----\n",
      "wide_Indicator_2.5.1_Series_ER_GRF_ANIMSTOR.json\n",
      "Indicator_2.5.1_Series_ER_GRF_ANIMRCNT.json\n",
      "2.5.1 - ER_GRF_ANIMRCNT\n"
     ]
    },
    {
     "data": {
      "text/plain": [
       "[2018]"
      ]
     },
     "execution_count": 39,
     "metadata": {},
     "output_type": "execute_result"
    },
    {
     "name": "stdout",
     "output_type": "stream",
     "text": [
      "----\n",
      "wide_Indicator_2.5.1_Series_ER_GRF_ANIMRCNT.json\n",
      "Indicator_2.5.1_Series_ER_GRF_PLNTSTOR.json\n",
      "2.5.1 - ER_GRF_PLNTSTOR\n"
     ]
    },
    {
     "data": {
      "text/plain": [
       "[1995, 2000, 2005, 2010, 2012, 2014, 2016, 2017]"
      ]
     },
     "execution_count": 39,
     "metadata": {},
     "output_type": "execute_result"
    },
    {
     "name": "stdout",
     "output_type": "stream",
     "text": [
      "----\n",
      "wide_Indicator_2.5.1_Series_ER_GRF_PLNTSTOR.json\n",
      "Indicator_2.5.1_Series_ER_GRF_ANIMSTORN.json\n",
      "2.5.1 - ER_GRF_ANIMSTORN\n"
     ]
    },
    {
     "data": {
      "text/plain": [
       "[2018]"
      ]
     },
     "execution_count": 39,
     "metadata": {},
     "output_type": "execute_result"
    },
    {
     "name": "stdout",
     "output_type": "stream",
     "text": [
      "----\n",
      "wide_Indicator_2.5.1_Series_ER_GRF_ANIMSTORN.json\n",
      "Indicator_2.5.2_Series_ER_UNK_LBREDN.json\n",
      "2.5.2 - ER_UNK_LBREDN\n"
     ]
    },
    {
     "data": {
      "text/plain": [
       "[1990,\n",
       " 1991,\n",
       " 1992,\n",
       " 1993,\n",
       " 1994,\n",
       " 1995,\n",
       " 1996,\n",
       " 1997,\n",
       " 1998,\n",
       " 1999,\n",
       " 2000,\n",
       " 2001,\n",
       " 2002,\n",
       " 2003,\n",
       " 2004,\n",
       " 2005,\n",
       " 2006,\n",
       " 2007,\n",
       " 2008,\n",
       " 2009,\n",
       " 2010,\n",
       " 2011,\n",
       " 2012,\n",
       " 2013,\n",
       " 2014,\n",
       " 2015,\n",
       " 2016,\n",
       " 2017,\n",
       " 2018]"
      ]
     },
     "execution_count": 39,
     "metadata": {},
     "output_type": "execute_result"
    },
    {
     "name": "stdout",
     "output_type": "stream",
     "text": [
      "----\n",
      "wide_Indicator_2.5.2_Series_ER_UNK_LBREDN.json\n",
      "Indicator_2.5.2_Series_ER_NRK_LBRED.json\n",
      "2.5.2 - ER_NRK_LBRED\n"
     ]
    },
    {
     "data": {
      "text/plain": [
       "[1990,\n",
       " 1991,\n",
       " 1992,\n",
       " 1993,\n",
       " 1994,\n",
       " 1995,\n",
       " 1996,\n",
       " 1997,\n",
       " 1998,\n",
       " 1999,\n",
       " 2000,\n",
       " 2001,\n",
       " 2002,\n",
       " 2003,\n",
       " 2004,\n",
       " 2005,\n",
       " 2006,\n",
       " 2007,\n",
       " 2008,\n",
       " 2009,\n",
       " 2010,\n",
       " 2011,\n",
       " 2012,\n",
       " 2013,\n",
       " 2014,\n",
       " 2015,\n",
       " 2016,\n",
       " 2017,\n",
       " 2018]"
      ]
     },
     "execution_count": 39,
     "metadata": {},
     "output_type": "execute_result"
    },
    {
     "name": "stdout",
     "output_type": "stream",
     "text": [
      "----\n",
      "wide_Indicator_2.5.2_Series_ER_NRK_LBRED.json\n",
      "Indicator_2.5.2_Series_ER_NRK_LBREDN.json\n",
      "2.5.2 - ER_NRK_LBREDN\n"
     ]
    },
    {
     "data": {
      "text/plain": [
       "[1990,\n",
       " 1991,\n",
       " 1992,\n",
       " 1993,\n",
       " 1994,\n",
       " 1995,\n",
       " 1996,\n",
       " 1997,\n",
       " 1998,\n",
       " 1999,\n",
       " 2000,\n",
       " 2001,\n",
       " 2002,\n",
       " 2003,\n",
       " 2004,\n",
       " 2005,\n",
       " 2006,\n",
       " 2007,\n",
       " 2008,\n",
       " 2009,\n",
       " 2010,\n",
       " 2011,\n",
       " 2012,\n",
       " 2013,\n",
       " 2014,\n",
       " 2015,\n",
       " 2016,\n",
       " 2017,\n",
       " 2018]"
      ]
     },
     "execution_count": 39,
     "metadata": {},
     "output_type": "execute_result"
    },
    {
     "name": "stdout",
     "output_type": "stream",
     "text": [
      "----\n",
      "wide_Indicator_2.5.2_Series_ER_NRK_LBREDN.json\n",
      "Indicator_2.5.2_Series_ER_RSK_LBREDN.json\n",
      "2.5.2 - ER_RSK_LBREDN\n"
     ]
    },
    {
     "data": {
      "text/plain": [
       "[1990,\n",
       " 1991,\n",
       " 1992,\n",
       " 1993,\n",
       " 1994,\n",
       " 1995,\n",
       " 1996,\n",
       " 1997,\n",
       " 1998,\n",
       " 1999,\n",
       " 2000,\n",
       " 2001,\n",
       " 2002,\n",
       " 2003,\n",
       " 2004,\n",
       " 2005,\n",
       " 2006,\n",
       " 2007,\n",
       " 2008,\n",
       " 2009,\n",
       " 2010,\n",
       " 2011,\n",
       " 2012,\n",
       " 2013,\n",
       " 2014,\n",
       " 2015,\n",
       " 2016,\n",
       " 2017,\n",
       " 2018]"
      ]
     },
     "execution_count": 39,
     "metadata": {},
     "output_type": "execute_result"
    },
    {
     "name": "stdout",
     "output_type": "stream",
     "text": [
      "----\n",
      "wide_Indicator_2.5.2_Series_ER_RSK_LBREDN.json\n",
      "Indicator_2.5.2_Series_ER_RSK_LBRED.json\n",
      "2.5.2 - ER_RSK_LBRED\n"
     ]
    },
    {
     "data": {
      "text/plain": [
       "[1990,\n",
       " 1991,\n",
       " 1992,\n",
       " 1993,\n",
       " 1994,\n",
       " 1995,\n",
       " 1996,\n",
       " 1997,\n",
       " 1998,\n",
       " 1999,\n",
       " 2000,\n",
       " 2001,\n",
       " 2002,\n",
       " 2003,\n",
       " 2004,\n",
       " 2005,\n",
       " 2006,\n",
       " 2007,\n",
       " 2008,\n",
       " 2009,\n",
       " 2010,\n",
       " 2011,\n",
       " 2012,\n",
       " 2013,\n",
       " 2014,\n",
       " 2015,\n",
       " 2016,\n",
       " 2017,\n",
       " 2018]"
      ]
     },
     "execution_count": 39,
     "metadata": {},
     "output_type": "execute_result"
    },
    {
     "name": "stdout",
     "output_type": "stream",
     "text": [
      "----\n",
      "wide_Indicator_2.5.2_Series_ER_RSK_LBRED.json\n",
      "Indicator_2.5.2_Series_ER_UNK_LBRED.json\n",
      "2.5.2 - ER_UNK_LBRED\n"
     ]
    },
    {
     "data": {
      "text/plain": [
       "[1990,\n",
       " 1991,\n",
       " 1992,\n",
       " 1993,\n",
       " 1994,\n",
       " 1995,\n",
       " 1996,\n",
       " 1997,\n",
       " 1998,\n",
       " 1999,\n",
       " 2000,\n",
       " 2001,\n",
       " 2002,\n",
       " 2003,\n",
       " 2004,\n",
       " 2005,\n",
       " 2006,\n",
       " 2007,\n",
       " 2008,\n",
       " 2009,\n",
       " 2010,\n",
       " 2011,\n",
       " 2012,\n",
       " 2013,\n",
       " 2014,\n",
       " 2015,\n",
       " 2016,\n",
       " 2017,\n",
       " 2018]"
      ]
     },
     "execution_count": 39,
     "metadata": {},
     "output_type": "execute_result"
    },
    {
     "name": "stdout",
     "output_type": "stream",
     "text": [
      "----\n",
      "wide_Indicator_2.5.2_Series_ER_UNK_LBRED.json\n",
      "Indicator_2.a.1_Series_AG_PRD_ORTIND.json\n",
      "2.a.1 - AG_PRD_ORTIND\n"
     ]
    },
    {
     "data": {
      "text/plain": [
       "[2000,\n",
       " 2001,\n",
       " 2002,\n",
       " 2003,\n",
       " 2004,\n",
       " 2005,\n",
       " 2006,\n",
       " 2007,\n",
       " 2008,\n",
       " 2009,\n",
       " 2010,\n",
       " 2011,\n",
       " 2012,\n",
       " 2013,\n",
       " 2014,\n",
       " 2015,\n",
       " 2016,\n",
       " 2017]"
      ]
     },
     "execution_count": 39,
     "metadata": {},
     "output_type": "execute_result"
    },
    {
     "name": "stdout",
     "output_type": "stream",
     "text": [
      "----\n",
      "wide_Indicator_2.a.1_Series_AG_PRD_ORTIND.json\n",
      "Indicator_2.a.1_Series_AG_PRD_AGVAS.json\n",
      "2.a.1 - AG_PRD_AGVAS\n"
     ]
    },
    {
     "data": {
      "text/plain": [
       "[2000,\n",
       " 2001,\n",
       " 2002,\n",
       " 2003,\n",
       " 2004,\n",
       " 2005,\n",
       " 2006,\n",
       " 2007,\n",
       " 2008,\n",
       " 2009,\n",
       " 2010,\n",
       " 2011,\n",
       " 2012,\n",
       " 2013,\n",
       " 2014,\n",
       " 2015,\n",
       " 2016,\n",
       " 2017]"
      ]
     },
     "execution_count": 39,
     "metadata": {},
     "output_type": "execute_result"
    },
    {
     "name": "stdout",
     "output_type": "stream",
     "text": [
      "----\n",
      "wide_Indicator_2.a.1_Series_AG_PRD_AGVAS.json\n",
      "Indicator_2.a.1_Series_AG_XPD_AGSGB.json\n",
      "2.a.1 - AG_XPD_AGSGB\n"
     ]
    },
    {
     "data": {
      "text/plain": [
       "[2000,\n",
       " 2001,\n",
       " 2002,\n",
       " 2003,\n",
       " 2004,\n",
       " 2005,\n",
       " 2006,\n",
       " 2007,\n",
       " 2008,\n",
       " 2009,\n",
       " 2010,\n",
       " 2011,\n",
       " 2012,\n",
       " 2013,\n",
       " 2014,\n",
       " 2015,\n",
       " 2016,\n",
       " 2017]"
      ]
     },
     "execution_count": 39,
     "metadata": {},
     "output_type": "execute_result"
    },
    {
     "name": "stdout",
     "output_type": "stream",
     "text": [
      "----\n",
      "wide_Indicator_2.a.1_Series_AG_XPD_AGSGB.json\n",
      "Indicator_2.a.2_Series_DC_TOF_AGRL.json\n",
      "2.a.2 - DC_TOF_AGRL\n"
     ]
    },
    {
     "data": {
      "text/plain": [
       "[2000,\n",
       " 2001,\n",
       " 2002,\n",
       " 2003,\n",
       " 2004,\n",
       " 2005,\n",
       " 2006,\n",
       " 2007,\n",
       " 2008,\n",
       " 2009,\n",
       " 2010,\n",
       " 2011,\n",
       " 2012,\n",
       " 2013,\n",
       " 2014,\n",
       " 2015,\n",
       " 2016]"
      ]
     },
     "execution_count": 39,
     "metadata": {},
     "output_type": "execute_result"
    },
    {
     "name": "stdout",
     "output_type": "stream",
     "text": [
      "----\n",
      "wide_Indicator_2.a.2_Series_DC_TOF_AGRL.json\n",
      "Indicator_2.b.1_Series_AG_PRD_XSUBDY.json\n",
      "2.b.1 - AG_PRD_XSUBDY\n"
     ]
    },
    {
     "data": {
      "text/plain": [
       "[]"
      ]
     },
     "execution_count": 39,
     "metadata": {},
     "output_type": "execute_result"
    },
    {
     "name": "stdout",
     "output_type": "stream",
     "text": [
      "----\n",
      "wide_Indicator_2.b.1_Series_AG_PRD_XSUBDY.json\n",
      "Indicator_2.c.1_Series_AG_FPA_COMM.json\n",
      "2.c.1 - AG_FPA_COMM\n"
     ]
    },
    {
     "data": {
      "text/plain": [
       "[2016, 2017]"
      ]
     },
     "execution_count": 39,
     "metadata": {},
     "output_type": "execute_result"
    },
    {
     "name": "stdout",
     "output_type": "stream",
     "text": [
      "----\n",
      "wide_Indicator_2.c.1_Series_AG_FPA_COMM.json\n",
      "Indicator_2.c.1_Series_AG_FPA_CFPI.json\n",
      "2.c.1 - AG_FPA_CFPI\n"
     ]
    },
    {
     "data": {
      "text/plain": [
       "[2016, 2017]"
      ]
     },
     "execution_count": 39,
     "metadata": {},
     "output_type": "execute_result"
    },
    {
     "name": "stdout",
     "output_type": "stream",
     "text": [
      "----\n",
      "wide_Indicator_2.c.1_Series_AG_FPA_CFPI.json\n",
      "Indicator_3.1.1_Series_SH_STA_MMR.json\n",
      "3.1.1 - SH_STA_MMR\n"
     ]
    },
    {
     "data": {
      "text/plain": [
       "[1990,\n",
       " 1991,\n",
       " 1992,\n",
       " 1993,\n",
       " 1994,\n",
       " 1995,\n",
       " 1996,\n",
       " 1997,\n",
       " 1998,\n",
       " 1999,\n",
       " 2000,\n",
       " 2001,\n",
       " 2002,\n",
       " 2003,\n",
       " 2004,\n",
       " 2005,\n",
       " 2006,\n",
       " 2007,\n",
       " 2008,\n",
       " 2009,\n",
       " 2010,\n",
       " 2011,\n",
       " 2012,\n",
       " 2013,\n",
       " 2014,\n",
       " 2015]"
      ]
     },
     "execution_count": 39,
     "metadata": {},
     "output_type": "execute_result"
    },
    {
     "name": "stdout",
     "output_type": "stream",
     "text": [
      "----\n",
      "wide_Indicator_3.1.1_Series_SH_STA_MMR.json\n",
      "Indicator_3.1.2_Series_SH_STA_BRTC.json\n",
      "3.1.2 - SH_STA_BRTC\n"
     ]
    },
    {
     "data": {
      "text/plain": [
       "[1990,\n",
       " 1991,\n",
       " 1992,\n",
       " 1993,\n",
       " 1994,\n",
       " 1995,\n",
       " 1996,\n",
       " 1997,\n",
       " 1998,\n",
       " 1999,\n",
       " 2000,\n",
       " 2001,\n",
       " 2002,\n",
       " 2003,\n",
       " 2004,\n",
       " 2005,\n",
       " 2006,\n",
       " 2007,\n",
       " 2008,\n",
       " 2009,\n",
       " 2010,\n",
       " 2011,\n",
       " 2012,\n",
       " 2013,\n",
       " 2014,\n",
       " 2015,\n",
       " 2016,\n",
       " 2017]"
      ]
     },
     "execution_count": 39,
     "metadata": {},
     "output_type": "execute_result"
    },
    {
     "name": "stdout",
     "output_type": "stream",
     "text": [
      "----\n",
      "wide_Indicator_3.1.2_Series_SH_STA_BRTC.json\n",
      "Indicator_3.2.1_Series_SH_DYN_IMRTN.json\n",
      "3.2.1 - SH_DYN_IMRTN\n"
     ]
    },
    {
     "data": {
      "text/plain": [
       "[2000,\n",
       " 2001,\n",
       " 2002,\n",
       " 2003,\n",
       " 2004,\n",
       " 2005,\n",
       " 2006,\n",
       " 2007,\n",
       " 2008,\n",
       " 2009,\n",
       " 2010,\n",
       " 2011,\n",
       " 2012,\n",
       " 2013,\n",
       " 2014,\n",
       " 2015,\n",
       " 2016,\n",
       " 2017]"
      ]
     },
     "execution_count": 39,
     "metadata": {},
     "output_type": "execute_result"
    },
    {
     "name": "stdout",
     "output_type": "stream",
     "text": [
      "----\n",
      "wide_Indicator_3.2.1_Series_SH_DYN_IMRTN.json\n",
      "Indicator_3.2.1_Series_SH_DYN_MORT.json\n",
      "3.2.1 - SH_DYN_MORT\n"
     ]
    },
    {
     "data": {
      "text/plain": [
       "[2000,\n",
       " 2001,\n",
       " 2002,\n",
       " 2003,\n",
       " 2004,\n",
       " 2005,\n",
       " 2006,\n",
       " 2007,\n",
       " 2008,\n",
       " 2009,\n",
       " 2010,\n",
       " 2011,\n",
       " 2012,\n",
       " 2013,\n",
       " 2014,\n",
       " 2015,\n",
       " 2016,\n",
       " 2017]"
      ]
     },
     "execution_count": 39,
     "metadata": {},
     "output_type": "execute_result"
    },
    {
     "name": "stdout",
     "output_type": "stream",
     "text": [
      "----\n",
      "wide_Indicator_3.2.1_Series_SH_DYN_MORT.json\n",
      "Indicator_3.2.1_Series_SH_DYN_IMRT.json\n",
      "3.2.1 - SH_DYN_IMRT\n"
     ]
    },
    {
     "data": {
      "text/plain": [
       "[2000,\n",
       " 2001,\n",
       " 2002,\n",
       " 2003,\n",
       " 2004,\n",
       " 2005,\n",
       " 2006,\n",
       " 2007,\n",
       " 2008,\n",
       " 2009,\n",
       " 2010,\n",
       " 2011,\n",
       " 2012,\n",
       " 2013,\n",
       " 2014,\n",
       " 2015,\n",
       " 2016,\n",
       " 2017]"
      ]
     },
     "execution_count": 39,
     "metadata": {},
     "output_type": "execute_result"
    },
    {
     "name": "stdout",
     "output_type": "stream",
     "text": [
      "----\n",
      "wide_Indicator_3.2.1_Series_SH_DYN_IMRT.json\n",
      "Indicator_3.2.1_Series_SH_DYN_MORTN.json\n",
      "3.2.1 - SH_DYN_MORTN\n"
     ]
    },
    {
     "data": {
      "text/plain": [
       "[2000,\n",
       " 2001,\n",
       " 2002,\n",
       " 2003,\n",
       " 2004,\n",
       " 2005,\n",
       " 2006,\n",
       " 2007,\n",
       " 2008,\n",
       " 2009,\n",
       " 2010,\n",
       " 2011,\n",
       " 2012,\n",
       " 2013,\n",
       " 2014,\n",
       " 2015,\n",
       " 2016,\n",
       " 2017]"
      ]
     },
     "execution_count": 39,
     "metadata": {},
     "output_type": "execute_result"
    },
    {
     "name": "stdout",
     "output_type": "stream",
     "text": [
      "----\n",
      "wide_Indicator_3.2.1_Series_SH_DYN_MORTN.json\n",
      "Indicator_3.2.2_Series_SH_DYN_NMRTN.json\n",
      "3.2.2 - SH_DYN_NMRTN\n"
     ]
    },
    {
     "data": {
      "text/plain": [
       "[2000,\n",
       " 2001,\n",
       " 2002,\n",
       " 2003,\n",
       " 2004,\n",
       " 2005,\n",
       " 2006,\n",
       " 2007,\n",
       " 2008,\n",
       " 2009,\n",
       " 2010,\n",
       " 2011,\n",
       " 2012,\n",
       " 2013,\n",
       " 2014,\n",
       " 2015,\n",
       " 2016,\n",
       " 2017]"
      ]
     },
     "execution_count": 39,
     "metadata": {},
     "output_type": "execute_result"
    },
    {
     "name": "stdout",
     "output_type": "stream",
     "text": [
      "----\n",
      "wide_Indicator_3.2.2_Series_SH_DYN_NMRTN.json\n",
      "Indicator_3.2.2_Series_SH_DYN_NMRT.json\n",
      "3.2.2 - SH_DYN_NMRT\n"
     ]
    },
    {
     "data": {
      "text/plain": [
       "[2000,\n",
       " 2001,\n",
       " 2002,\n",
       " 2003,\n",
       " 2004,\n",
       " 2005,\n",
       " 2006,\n",
       " 2007,\n",
       " 2008,\n",
       " 2009,\n",
       " 2010,\n",
       " 2011,\n",
       " 2012,\n",
       " 2013,\n",
       " 2014,\n",
       " 2015,\n",
       " 2016,\n",
       " 2017]"
      ]
     },
     "execution_count": 39,
     "metadata": {},
     "output_type": "execute_result"
    },
    {
     "name": "stdout",
     "output_type": "stream",
     "text": [
      "----\n",
      "wide_Indicator_3.2.2_Series_SH_DYN_NMRT.json\n",
      "Indicator_3.3.1_Series_SH_HIV_INCD.json\n",
      "3.3.1 - SH_HIV_INCD\n"
     ]
    },
    {
     "data": {
      "text/plain": [
       "[2000,\n",
       " 2001,\n",
       " 2002,\n",
       " 2003,\n",
       " 2004,\n",
       " 2005,\n",
       " 2006,\n",
       " 2007,\n",
       " 2008,\n",
       " 2009,\n",
       " 2010,\n",
       " 2011,\n",
       " 2012,\n",
       " 2013,\n",
       " 2014,\n",
       " 2015,\n",
       " 2016,\n",
       " 2017]"
      ]
     },
     "execution_count": 39,
     "metadata": {},
     "output_type": "execute_result"
    },
    {
     "name": "stdout",
     "output_type": "stream",
     "text": [
      "----\n",
      "wide_Indicator_3.3.1_Series_SH_HIV_INCD.json\n",
      "Indicator_3.3.2_Series_SH_TBS_INCID.json\n",
      "3.3.2 - SH_TBS_INCID\n"
     ]
    },
    {
     "data": {
      "text/plain": [
       "[2000,\n",
       " 2001,\n",
       " 2002,\n",
       " 2003,\n",
       " 2004,\n",
       " 2005,\n",
       " 2006,\n",
       " 2007,\n",
       " 2008,\n",
       " 2009,\n",
       " 2010,\n",
       " 2011,\n",
       " 2012,\n",
       " 2013,\n",
       " 2014,\n",
       " 2015,\n",
       " 2016,\n",
       " 2017]"
      ]
     },
     "execution_count": 39,
     "metadata": {},
     "output_type": "execute_result"
    },
    {
     "name": "stdout",
     "output_type": "stream",
     "text": [
      "----\n",
      "wide_Indicator_3.3.2_Series_SH_TBS_INCID.json\n",
      "Indicator_3.3.3_Series_SH_STA_MALR.json\n",
      "3.3.3 - SH_STA_MALR\n"
     ]
    },
    {
     "data": {
      "text/plain": [
       "[2000, 2005, 2010, 2011, 2012, 2013, 2014, 2015, 2016, 2017]"
      ]
     },
     "execution_count": 39,
     "metadata": {},
     "output_type": "execute_result"
    },
    {
     "name": "stdout",
     "output_type": "stream",
     "text": [
      "----\n",
      "wide_Indicator_3.3.3_Series_SH_STA_MALR.json\n",
      "Indicator_3.3.4_Series_SH_HAP_HBSAG.json\n",
      "3.3.4 - SH_HAP_HBSAG\n"
     ]
    },
    {
     "data": {
      "text/plain": [
       "[2015]"
      ]
     },
     "execution_count": 39,
     "metadata": {},
     "output_type": "execute_result"
    },
    {
     "name": "stdout",
     "output_type": "stream",
     "text": [
      "----\n",
      "wide_Indicator_3.3.4_Series_SH_HAP_HBSAG.json\n",
      "Indicator_3.3.5_Series_SH_TRP_INTVN.json\n",
      "3.3.5 - SH_TRP_INTVN\n"
     ]
    },
    {
     "data": {
      "text/plain": [
       "[2010, 2011, 2012, 2013, 2014, 2015, 2016, 2017]"
      ]
     },
     "execution_count": 39,
     "metadata": {},
     "output_type": "execute_result"
    },
    {
     "name": "stdout",
     "output_type": "stream",
     "text": [
      "----\n",
      "wide_Indicator_3.3.5_Series_SH_TRP_INTVN.json\n",
      "Indicator_3.4.1_Series_SH_DTH_NCOM.json\n",
      "3.4.1 - SH_DTH_NCOM\n"
     ]
    },
    {
     "data": {
      "text/plain": [
       "[2000, 2005, 2010, 2015, 2016]"
      ]
     },
     "execution_count": 39,
     "metadata": {},
     "output_type": "execute_result"
    },
    {
     "name": "stdout",
     "output_type": "stream",
     "text": [
      "----\n",
      "wide_Indicator_3.4.1_Series_SH_DTH_NCOM.json\n",
      "Indicator_3.4.1_Series_SH_DTH_RNCOM.json\n",
      "3.4.1 - SH_DTH_RNCOM\n"
     ]
    },
    {
     "data": {
      "text/plain": [
       "[2000, 2005, 2010, 2015, 2016]"
      ]
     },
     "execution_count": 39,
     "metadata": {},
     "output_type": "execute_result"
    },
    {
     "name": "stdout",
     "output_type": "stream",
     "text": [
      "----\n",
      "wide_Indicator_3.4.1_Series_SH_DTH_RNCOM.json\n",
      "Indicator_3.4.2_Series_SH_STA_SCIDE.json\n",
      "3.4.2 - SH_STA_SCIDE\n"
     ]
    },
    {
     "data": {
      "text/plain": [
       "[2000, 2005, 2010, 2015, 2016]"
      ]
     },
     "execution_count": 39,
     "metadata": {},
     "output_type": "execute_result"
    },
    {
     "name": "stdout",
     "output_type": "stream",
     "text": [
      "----\n",
      "wide_Indicator_3.4.2_Series_SH_STA_SCIDE.json\n",
      "Indicator_3.4.2_Series_SH_STA_SCIDEN.json\n",
      "3.4.2 - SH_STA_SCIDEN\n"
     ]
    },
    {
     "data": {
      "text/plain": [
       "[2000, 2005, 2010, 2015, 2016]"
      ]
     },
     "execution_count": 39,
     "metadata": {},
     "output_type": "execute_result"
    },
    {
     "name": "stdout",
     "output_type": "stream",
     "text": [
      "----\n",
      "wide_Indicator_3.4.2_Series_SH_STA_SCIDEN.json\n",
      "Indicator_3.5.2_Series_SH_ALC_CONSPT.json\n",
      "3.5.2 - SH_ALC_CONSPT\n"
     ]
    },
    {
     "data": {
      "text/plain": [
       "[2000, 2005, 2010, 2015, 2016]"
      ]
     },
     "execution_count": 39,
     "metadata": {},
     "output_type": "execute_result"
    },
    {
     "name": "stdout",
     "output_type": "stream",
     "text": [
      "----\n",
      "wide_Indicator_3.5.2_Series_SH_ALC_CONSPT.json\n",
      "Indicator_3.6.1_Series_SH_STA_TRAF.json\n",
      "3.6.1 - SH_STA_TRAF\n"
     ]
    },
    {
     "data": {
      "text/plain": [
       "[2000,\n",
       " 2001,\n",
       " 2002,\n",
       " 2003,\n",
       " 2004,\n",
       " 2005,\n",
       " 2006,\n",
       " 2007,\n",
       " 2008,\n",
       " 2009,\n",
       " 2010,\n",
       " 2011,\n",
       " 2012,\n",
       " 2013]"
      ]
     },
     "execution_count": 39,
     "metadata": {},
     "output_type": "execute_result"
    },
    {
     "name": "stdout",
     "output_type": "stream",
     "text": [
      "----\n",
      "wide_Indicator_3.6.1_Series_SH_STA_TRAF.json\n",
      "Indicator_3.7.1_Series_SH_FPL_MTMM.json\n",
      "3.7.1 - SH_FPL_MTMM\n"
     ]
    },
    {
     "data": {
      "text/plain": [
       "[2000,\n",
       " 2001,\n",
       " 2002,\n",
       " 2003,\n",
       " 2004,\n",
       " 2005,\n",
       " 2006,\n",
       " 2007,\n",
       " 2008,\n",
       " 2009,\n",
       " 2010,\n",
       " 2011,\n",
       " 2012,\n",
       " 2013,\n",
       " 2014,\n",
       " 2015,\n",
       " 2016,\n",
       " 2017,\n",
       " 2018]"
      ]
     },
     "execution_count": 39,
     "metadata": {},
     "output_type": "execute_result"
    },
    {
     "name": "stdout",
     "output_type": "stream",
     "text": [
      "----\n",
      "wide_Indicator_3.7.1_Series_SH_FPL_MTMM.json\n",
      "Indicator_3.7.2_Series_SP_DYN_ADKL.json\n",
      "3.7.2 - SP_DYN_ADKL\n"
     ]
    },
    {
     "data": {
      "text/plain": [
       "[2000,\n",
       " 2001,\n",
       " 2002,\n",
       " 2003,\n",
       " 2004,\n",
       " 2005,\n",
       " 2006,\n",
       " 2007,\n",
       " 2008,\n",
       " 2009,\n",
       " 2010,\n",
       " 2011,\n",
       " 2012,\n",
       " 2013,\n",
       " 2014,\n",
       " 2015,\n",
       " 2016,\n",
       " 2017]"
      ]
     },
     "execution_count": 39,
     "metadata": {},
     "output_type": "execute_result"
    },
    {
     "name": "stdout",
     "output_type": "stream",
     "text": [
      "----\n",
      "wide_Indicator_3.7.2_Series_SP_DYN_ADKL.json\n",
      "Indicator_3.8.1_Series_SH_ACS_UNHC.json\n",
      "3.8.1 - SH_ACS_UNHC\n"
     ]
    },
    {
     "data": {
      "text/plain": [
       "[2015]"
      ]
     },
     "execution_count": 39,
     "metadata": {},
     "output_type": "execute_result"
    },
    {
     "name": "stdout",
     "output_type": "stream",
     "text": [
      "----\n",
      "wide_Indicator_3.8.1_Series_SH_ACS_UNHC.json\n",
      "Indicator_3.8.2_Series_SH_XPD_EARN25.json\n",
      "3.8.2 - SH_XPD_EARN25\n"
     ]
    },
    {
     "data": {
      "text/plain": [
       "[2000,\n",
       " 2001,\n",
       " 2002,\n",
       " 2003,\n",
       " 2004,\n",
       " 2005,\n",
       " 2006,\n",
       " 2007,\n",
       " 2008,\n",
       " 2009,\n",
       " 2010,\n",
       " 2011,\n",
       " 2012,\n",
       " 2013,\n",
       " 2014,\n",
       " 2015]"
      ]
     },
     "execution_count": 39,
     "metadata": {},
     "output_type": "execute_result"
    },
    {
     "name": "stdout",
     "output_type": "stream",
     "text": [
      "----\n",
      "wide_Indicator_3.8.2_Series_SH_XPD_EARN25.json\n",
      "Indicator_3.8.2_Series_SH_XPD_EARN10.json\n",
      "3.8.2 - SH_XPD_EARN10\n"
     ]
    },
    {
     "data": {
      "text/plain": [
       "[2000,\n",
       " 2001,\n",
       " 2002,\n",
       " 2003,\n",
       " 2004,\n",
       " 2005,\n",
       " 2006,\n",
       " 2007,\n",
       " 2008,\n",
       " 2009,\n",
       " 2010,\n",
       " 2011,\n",
       " 2012,\n",
       " 2013,\n",
       " 2014,\n",
       " 2015]"
      ]
     },
     "execution_count": 39,
     "metadata": {},
     "output_type": "execute_result"
    },
    {
     "name": "stdout",
     "output_type": "stream",
     "text": [
      "----\n",
      "wide_Indicator_3.8.2_Series_SH_XPD_EARN10.json\n",
      "Indicator_3.9.1_Series_SH_HAP_ASMORT.json\n",
      "3.9.1 - SH_HAP_ASMORT\n"
     ]
    },
    {
     "data": {
      "text/plain": [
       "[2016]"
      ]
     },
     "execution_count": 39,
     "metadata": {},
     "output_type": "execute_result"
    },
    {
     "name": "stdout",
     "output_type": "stream",
     "text": [
      "----\n",
      "wide_Indicator_3.9.1_Series_SH_HAP_ASMORT.json\n",
      "Indicator_3.9.1_Series_SH_STA_AIRP.json\n",
      "3.9.1 - SH_STA_AIRP\n"
     ]
    },
    {
     "data": {
      "text/plain": [
       "[2016]"
      ]
     },
     "execution_count": 39,
     "metadata": {},
     "output_type": "execute_result"
    },
    {
     "name": "stdout",
     "output_type": "stream",
     "text": [
      "----\n",
      "wide_Indicator_3.9.1_Series_SH_STA_AIRP.json\n",
      "Indicator_3.9.1_Series_SH_STA_ASAIRP.json\n",
      "3.9.1 - SH_STA_ASAIRP\n"
     ]
    },
    {
     "data": {
      "text/plain": [
       "[2016]"
      ]
     },
     "execution_count": 39,
     "metadata": {},
     "output_type": "execute_result"
    },
    {
     "name": "stdout",
     "output_type": "stream",
     "text": [
      "----\n",
      "wide_Indicator_3.9.1_Series_SH_STA_ASAIRP.json\n",
      "Indicator_3.9.1_Series_SH_AAP_MORT.json\n",
      "3.9.1 - SH_AAP_MORT\n"
     ]
    },
    {
     "data": {
      "text/plain": [
       "[2016]"
      ]
     },
     "execution_count": 39,
     "metadata": {},
     "output_type": "execute_result"
    },
    {
     "name": "stdout",
     "output_type": "stream",
     "text": [
      "----\n",
      "wide_Indicator_3.9.1_Series_SH_AAP_MORT.json\n",
      "Indicator_3.9.1_Series_SH_AAP_ASMORT.json\n",
      "3.9.1 - SH_AAP_ASMORT\n"
     ]
    },
    {
     "data": {
      "text/plain": [
       "[2016]"
      ]
     },
     "execution_count": 39,
     "metadata": {},
     "output_type": "execute_result"
    },
    {
     "name": "stdout",
     "output_type": "stream",
     "text": [
      "----\n",
      "wide_Indicator_3.9.1_Series_SH_AAP_ASMORT.json\n",
      "Indicator_3.9.1_Series_SH_HAP_MORT.json\n",
      "3.9.1 - SH_HAP_MORT\n"
     ]
    },
    {
     "data": {
      "text/plain": [
       "[2016]"
      ]
     },
     "execution_count": 39,
     "metadata": {},
     "output_type": "execute_result"
    },
    {
     "name": "stdout",
     "output_type": "stream",
     "text": [
      "----\n",
      "wide_Indicator_3.9.1_Series_SH_HAP_MORT.json\n",
      "Indicator_3.9.2_Series_SH_STA_WASH.json\n",
      "3.9.2 - SH_STA_WASH\n"
     ]
    },
    {
     "data": {
      "text/plain": [
       "[2016]"
      ]
     },
     "execution_count": 39,
     "metadata": {},
     "output_type": "execute_result"
    },
    {
     "name": "stdout",
     "output_type": "stream",
     "text": [
      "----\n",
      "wide_Indicator_3.9.2_Series_SH_STA_WASH.json\n",
      "Indicator_3.9.3_Series_SH_STA_POISN.json\n",
      "3.9.3 - SH_STA_POISN\n"
     ]
    },
    {
     "data": {
      "text/plain": [
       "[2000, 2005, 2010, 2015, 2016]"
      ]
     },
     "execution_count": 39,
     "metadata": {},
     "output_type": "execute_result"
    },
    {
     "name": "stdout",
     "output_type": "stream",
     "text": [
      "----\n",
      "wide_Indicator_3.9.3_Series_SH_STA_POISN.json\n",
      "Indicator_3.a.1_Series_SH_PRV_SMOK.json\n",
      "3.a.1 - SH_PRV_SMOK\n"
     ]
    },
    {
     "data": {
      "text/plain": [
       "[2000, 2015, 2016]"
      ]
     },
     "execution_count": 39,
     "metadata": {},
     "output_type": "execute_result"
    },
    {
     "name": "stdout",
     "output_type": "stream",
     "text": [
      "----\n",
      "wide_Indicator_3.a.1_Series_SH_PRV_SMOK.json\n",
      "Indicator_3.b.1_Series_SH_ACS_DTP3.json\n",
      "3.b.1 - SH_ACS_DTP3\n"
     ]
    },
    {
     "data": {
      "text/plain": [
       "[2000,\n",
       " 2001,\n",
       " 2002,\n",
       " 2003,\n",
       " 2004,\n",
       " 2005,\n",
       " 2006,\n",
       " 2007,\n",
       " 2008,\n",
       " 2009,\n",
       " 2010,\n",
       " 2011,\n",
       " 2012,\n",
       " 2013,\n",
       " 2014,\n",
       " 2015,\n",
       " 2016,\n",
       " 2017]"
      ]
     },
     "execution_count": 39,
     "metadata": {},
     "output_type": "execute_result"
    },
    {
     "name": "stdout",
     "output_type": "stream",
     "text": [
      "----\n",
      "wide_Indicator_3.b.1_Series_SH_ACS_DTP3.json\n",
      "Indicator_3.b.1_Series_SH_ACS_MCV2.json\n",
      "3.b.1 - SH_ACS_MCV2\n"
     ]
    },
    {
     "data": {
      "text/plain": [
       "[2000,\n",
       " 2001,\n",
       " 2002,\n",
       " 2003,\n",
       " 2004,\n",
       " 2005,\n",
       " 2006,\n",
       " 2007,\n",
       " 2008,\n",
       " 2009,\n",
       " 2010,\n",
       " 2011,\n",
       " 2012,\n",
       " 2013,\n",
       " 2014,\n",
       " 2015,\n",
       " 2016,\n",
       " 2017]"
      ]
     },
     "execution_count": 39,
     "metadata": {},
     "output_type": "execute_result"
    },
    {
     "name": "stdout",
     "output_type": "stream",
     "text": [
      "----\n",
      "wide_Indicator_3.b.1_Series_SH_ACS_MCV2.json\n",
      "Indicator_3.b.1_Series_SH_ACS_PCV3.json\n",
      "3.b.1 - SH_ACS_PCV3\n"
     ]
    },
    {
     "data": {
      "text/plain": [
       "[2008, 2009, 2010, 2011, 2012, 2013, 2014, 2015, 2016, 2017]"
      ]
     },
     "execution_count": 39,
     "metadata": {},
     "output_type": "execute_result"
    },
    {
     "name": "stdout",
     "output_type": "stream",
     "text": [
      "----\n",
      "wide_Indicator_3.b.1_Series_SH_ACS_PCV3.json\n",
      "Indicator_3.b.2_Series_DC_TOF_HLTHNT.json\n",
      "3.b.2 - DC_TOF_HLTHNT\n"
     ]
    },
    {
     "data": {
      "text/plain": [
       "[2010, 2011, 2012, 2013, 2014, 2015, 2016]"
      ]
     },
     "execution_count": 39,
     "metadata": {},
     "output_type": "execute_result"
    },
    {
     "name": "stdout",
     "output_type": "stream",
     "text": [
      "----\n",
      "wide_Indicator_3.b.2_Series_DC_TOF_HLTHNT.json\n",
      "Indicator_3.b.2_Series_DC_TOF_HLTHL.json\n",
      "3.b.2 - DC_TOF_HLTHL\n"
     ]
    },
    {
     "data": {
      "text/plain": [
       "[2000,\n",
       " 2001,\n",
       " 2002,\n",
       " 2003,\n",
       " 2004,\n",
       " 2005,\n",
       " 2006,\n",
       " 2007,\n",
       " 2008,\n",
       " 2009,\n",
       " 2010,\n",
       " 2011,\n",
       " 2012,\n",
       " 2013,\n",
       " 2014,\n",
       " 2015,\n",
       " 2016]"
      ]
     },
     "execution_count": 39,
     "metadata": {},
     "output_type": "execute_result"
    },
    {
     "name": "stdout",
     "output_type": "stream",
     "text": [
      "----\n",
      "wide_Indicator_3.b.2_Series_DC_TOF_HLTHL.json\n",
      "Indicator_3.c.1_Series_SH_MED_HEAWOR.json\n",
      "3.c.1 - SH_MED_HEAWOR\n"
     ]
    },
    {
     "data": {
      "text/plain": [
       "[2000,\n",
       " 2001,\n",
       " 2002,\n",
       " 2003,\n",
       " 2004,\n",
       " 2005,\n",
       " 2006,\n",
       " 2007,\n",
       " 2008,\n",
       " 2009,\n",
       " 2010,\n",
       " 2011,\n",
       " 2012,\n",
       " 2013,\n",
       " 2014,\n",
       " 2015,\n",
       " 2016,\n",
       " 2017,\n",
       " 2018]"
      ]
     },
     "execution_count": 39,
     "metadata": {},
     "output_type": "execute_result"
    },
    {
     "name": "stdout",
     "output_type": "stream",
     "text": [
      "----\n",
      "wide_Indicator_3.c.1_Series_SH_MED_HEAWOR.json\n",
      "Indicator_3.d.1_Series_SH_IHR_CAPPRD.json\n",
      "3.d.1 - SH_IHR_CAPPRD\n"
     ]
    },
    {
     "data": {
      "text/plain": [
       "[2010, 2011, 2012, 2013, 2014, 2015, 2016, 2017]"
      ]
     },
     "execution_count": 39,
     "metadata": {},
     "output_type": "execute_result"
    },
    {
     "name": "stdout",
     "output_type": "stream",
     "text": [
      "----\n",
      "wide_Indicator_3.d.1_Series_SH_IHR_CAPPRD.json\n",
      "Indicator_3.d.1_Series_SH_IHR_CAPS.json\n",
      "3.d.1 - SH_IHR_CAPS\n"
     ]
    },
    {
     "data": {
      "text/plain": [
       "[2010, 2011, 2012, 2013, 2014, 2015, 2016, 2017]"
      ]
     },
     "execution_count": 39,
     "metadata": {},
     "output_type": "execute_result"
    },
    {
     "name": "stdout",
     "output_type": "stream",
     "text": [
      "----\n",
      "wide_Indicator_3.d.1_Series_SH_IHR_CAPS.json\n",
      "Indicator_4.1.1_Series_SE_MAT_PROF.json\n",
      "4.1.1 - SE_MAT_PROF\n"
     ]
    },
    {
     "data": {
      "text/plain": [
       "[2000,\n",
       " 2001,\n",
       " 2003,\n",
       " 2005,\n",
       " 2006,\n",
       " 2007,\n",
       " 2008,\n",
       " 2009,\n",
       " 2010,\n",
       " 2011,\n",
       " 2012,\n",
       " 2013,\n",
       " 2014,\n",
       " 2015,\n",
       " 2016,\n",
       " 2017]"
      ]
     },
     "execution_count": 39,
     "metadata": {},
     "output_type": "execute_result"
    },
    {
     "name": "stdout",
     "output_type": "stream",
     "text": [
      "----\n",
      "wide_Indicator_4.1.1_Series_SE_MAT_PROF.json\n",
      "Indicator_4.1.1_Series_SE_REA_PROF.json\n",
      "4.1.1 - SE_REA_PROF\n"
     ]
    },
    {
     "data": {
      "text/plain": [
       "[2000,\n",
       " 2001,\n",
       " 2003,\n",
       " 2005,\n",
       " 2006,\n",
       " 2007,\n",
       " 2008,\n",
       " 2009,\n",
       " 2010,\n",
       " 2011,\n",
       " 2012,\n",
       " 2013,\n",
       " 2014,\n",
       " 2015,\n",
       " 2016,\n",
       " 2017]"
      ]
     },
     "execution_count": 39,
     "metadata": {},
     "output_type": "execute_result"
    },
    {
     "name": "stdout",
     "output_type": "stream",
     "text": [
      "----\n",
      "wide_Indicator_4.1.1_Series_SE_REA_PROF.json\n",
      "Indicator_4.2.1_Series_SE_DEV_ONTRK.json\n",
      "4.2.1 - SE_DEV_ONTRK\n"
     ]
    },
    {
     "data": {
      "text/plain": [
       "[2010, 2011, 2012, 2013, 2014, 2015, 2016, 2017, 2018]"
      ]
     },
     "execution_count": 39,
     "metadata": {},
     "output_type": "execute_result"
    },
    {
     "name": "stdout",
     "output_type": "stream",
     "text": [
      "----\n",
      "wide_Indicator_4.2.1_Series_SE_DEV_ONTRK.json\n",
      "Indicator_4.2.2_Series_SE_PRE_PARTN.json\n",
      "4.2.2 - SE_PRE_PARTN\n"
     ]
    },
    {
     "data": {
      "text/plain": [
       "[2000,\n",
       " 2001,\n",
       " 2002,\n",
       " 2003,\n",
       " 2004,\n",
       " 2005,\n",
       " 2006,\n",
       " 2007,\n",
       " 2008,\n",
       " 2009,\n",
       " 2010,\n",
       " 2011,\n",
       " 2012,\n",
       " 2013,\n",
       " 2014,\n",
       " 2015,\n",
       " 2016,\n",
       " 2017,\n",
       " 2018]"
      ]
     },
     "execution_count": 39,
     "metadata": {},
     "output_type": "execute_result"
    },
    {
     "name": "stdout",
     "output_type": "stream",
     "text": [
      "----\n",
      "wide_Indicator_4.2.2_Series_SE_PRE_PARTN.json\n",
      "Indicator_4.3.1_Series_SE_ADT_EDUCTRN.json\n",
      "4.3.1 - SE_ADT_EDUCTRN\n"
     ]
    },
    {
     "data": {
      "text/plain": [
       "[2007, 2011, 2012, 2013, 2014, 2015, 2016]"
      ]
     },
     "execution_count": 39,
     "metadata": {},
     "output_type": "execute_result"
    },
    {
     "name": "stdout",
     "output_type": "stream",
     "text": [
      "----\n",
      "wide_Indicator_4.3.1_Series_SE_ADT_EDUCTRN.json\n",
      "Indicator_4.4.1_Series_SE_ADT_ACTS.json\n",
      "4.4.1 - SE_ADT_ACTS\n"
     ]
    },
    {
     "data": {
      "text/plain": [
       "[2014, 2015, 2016, 2017]"
      ]
     },
     "execution_count": 39,
     "metadata": {},
     "output_type": "execute_result"
    },
    {
     "name": "stdout",
     "output_type": "stream",
     "text": [
      "----\n",
      "wide_Indicator_4.4.1_Series_SE_ADT_ACTS.json\n",
      "Indicator_4.5.1_Series_SE_PRE_GPIPARTN.json\n",
      "4.5.1 - SE_PRE_GPIPARTN\n"
     ]
    },
    {
     "data": {
      "text/plain": [
       "[2000,\n",
       " 2001,\n",
       " 2002,\n",
       " 2003,\n",
       " 2004,\n",
       " 2005,\n",
       " 2006,\n",
       " 2007,\n",
       " 2008,\n",
       " 2009,\n",
       " 2010,\n",
       " 2011,\n",
       " 2012,\n",
       " 2013,\n",
       " 2014,\n",
       " 2015,\n",
       " 2016,\n",
       " 2017,\n",
       " 2018]"
      ]
     },
     "execution_count": 39,
     "metadata": {},
     "output_type": "execute_result"
    },
    {
     "name": "stdout",
     "output_type": "stream",
     "text": [
      "----\n",
      "wide_Indicator_4.5.1_Series_SE_PRE_GPIPARTN.json\n",
      "Indicator_4.5.1_Series_SE_GPI_FUNPROF.json\n",
      "4.5.1 - SE_GPI_FUNPROF\n"
     ]
    },
    {
     "data": {
      "text/plain": [
       "[2012, 2013, 2015]"
      ]
     },
     "execution_count": 39,
     "metadata": {},
     "output_type": "execute_result"
    },
    {
     "name": "stdout",
     "output_type": "stream",
     "text": [
      "----\n",
      "wide_Indicator_4.5.1_Series_SE_GPI_FUNPROF.json\n",
      "Indicator_4.5.1_Series_SE_GPI_MATACH.json\n",
      "4.5.1 - SE_GPI_MATACH\n"
     ]
    },
    {
     "data": {
      "text/plain": [
       "[2000, 2003, 2006, 2007, 2009, 2010, 2011, 2012, 2013, 2014, 2015, 2016, 2017]"
      ]
     },
     "execution_count": 39,
     "metadata": {},
     "output_type": "execute_result"
    },
    {
     "name": "stdout",
     "output_type": "stream",
     "text": [
      "----\n",
      "wide_Indicator_4.5.1_Series_SE_GPI_MATACH.json\n",
      "Indicator_4.5.1_Series_SE_GPI_REAACH.json\n",
      "4.5.1 - SE_GPI_REAACH\n"
     ]
    },
    {
     "data": {
      "text/plain": [
       "[2000, 2001, 2003, 2006, 2009, 2010, 2011, 2012, 2013, 2014, 2015, 2016, 2017]"
      ]
     },
     "execution_count": 39,
     "metadata": {},
     "output_type": "execute_result"
    },
    {
     "name": "stdout",
     "output_type": "stream",
     "text": [
      "----\n",
      "wide_Indicator_4.5.1_Series_SE_GPI_REAACH.json\n",
      "Indicator_4.5.1_Series_SE_GPI_TRATEA.json\n",
      "4.5.1 - SE_GPI_TRATEA\n"
     ]
    },
    {
     "data": {
      "text/plain": [
       "[2000,\n",
       " 2001,\n",
       " 2002,\n",
       " 2003,\n",
       " 2004,\n",
       " 2005,\n",
       " 2006,\n",
       " 2007,\n",
       " 2008,\n",
       " 2009,\n",
       " 2010,\n",
       " 2011,\n",
       " 2012,\n",
       " 2013,\n",
       " 2014,\n",
       " 2015,\n",
       " 2016,\n",
       " 2017,\n",
       " 2018]"
      ]
     },
     "execution_count": 39,
     "metadata": {},
     "output_type": "execute_result"
    },
    {
     "name": "stdout",
     "output_type": "stream",
     "text": [
      "----\n",
      "wide_Indicator_4.5.1_Series_SE_GPI_TRATEA.json\n",
      "Indicator_4.5.1_Series_SE_SEP_FUNPROF.json\n",
      "4.5.1 - SE_SEP_FUNPROF\n"
     ]
    },
    {
     "data": {
      "text/plain": [
       "[2012, 2013, 2015]"
      ]
     },
     "execution_count": 39,
     "metadata": {},
     "output_type": "execute_result"
    },
    {
     "name": "stdout",
     "output_type": "stream",
     "text": [
      "----\n",
      "wide_Indicator_4.5.1_Series_SE_SEP_FUNPROF.json\n",
      "Indicator_4.5.1_Series_SE_SEP_MATACH.json\n",
      "4.5.1 - SE_SEP_MATACH\n"
     ]
    },
    {
     "data": {
      "text/plain": [
       "[2000, 2003, 2006, 2007, 2009, 2010, 2011, 2012, 2013, 2014, 2015, 2016, 2017]"
      ]
     },
     "execution_count": 39,
     "metadata": {},
     "output_type": "execute_result"
    },
    {
     "name": "stdout",
     "output_type": "stream",
     "text": [
      "----\n",
      "wide_Indicator_4.5.1_Series_SE_SEP_MATACH.json\n",
      "Indicator_4.5.1_Series_SE_SEP_REAACH.json\n",
      "4.5.1 - SE_SEP_REAACH\n"
     ]
    },
    {
     "data": {
      "text/plain": [
       "[2001, 2003, 2006, 2009, 2010, 2011, 2012, 2013, 2014, 2015, 2016, 2017]"
      ]
     },
     "execution_count": 39,
     "metadata": {},
     "output_type": "execute_result"
    },
    {
     "name": "stdout",
     "output_type": "stream",
     "text": [
      "----\n",
      "wide_Indicator_4.5.1_Series_SE_SEP_REAACH.json\n",
      "Indicator_4.5.1_Series_SE_URP_MATACH.json\n",
      "4.5.1 - SE_URP_MATACH\n"
     ]
    },
    {
     "data": {
      "text/plain": [
       "[2000, 2003, 2006, 2007, 2009, 2011, 2012, 2013, 2014, 2015, 2016, 2017]"
      ]
     },
     "execution_count": 39,
     "metadata": {},
     "output_type": "execute_result"
    },
    {
     "name": "stdout",
     "output_type": "stream",
     "text": [
      "----\n",
      "wide_Indicator_4.5.1_Series_SE_URP_MATACH.json\n",
      "Indicator_4.5.1_Series_SE_URP_REAACH.json\n",
      "4.5.1 - SE_URP_REAACH\n"
     ]
    },
    {
     "data": {
      "text/plain": [
       "[2000, 2001, 2003, 2006, 2009, 2011, 2012, 2013, 2014, 2015, 2016, 2017]"
      ]
     },
     "execution_count": 39,
     "metadata": {},
     "output_type": "execute_result"
    },
    {
     "name": "stdout",
     "output_type": "stream",
     "text": [
      "----\n",
      "wide_Indicator_4.5.1_Series_SE_URP_REAACH.json\n",
      "Indicator_4.5.1_Series_SE_GPI_PART.json\n",
      "4.5.1 - SE_GPI_PART\n"
     ]
    },
    {
     "data": {
      "text/plain": [
       "[2007, 2011, 2012, 2013, 2014, 2015, 2016]"
      ]
     },
     "execution_count": 39,
     "metadata": {},
     "output_type": "execute_result"
    },
    {
     "name": "stdout",
     "output_type": "stream",
     "text": [
      "----\n",
      "wide_Indicator_4.5.1_Series_SE_GPI_PART.json\n",
      "Indicator_4.5.1_Series_SE_GPI_ICTS.json\n",
      "4.5.1 - SE_GPI_ICTS\n"
     ]
    },
    {
     "data": {
      "text/plain": [
       "[2014, 2015, 2016, 2017, 2018]"
      ]
     },
     "execution_count": 39,
     "metadata": {},
     "output_type": "execute_result"
    },
    {
     "name": "stdout",
     "output_type": "stream",
     "text": [
      "----\n",
      "wide_Indicator_4.5.1_Series_SE_GPI_ICTS.json\n",
      "Indicator_4.5.1_Series_SE_NAP_ACHIRE.json\n",
      "4.5.1 - SE_NAP_ACHIRE\n"
     ]
    },
    {
     "data": {
      "text/plain": [
       "[2003, 2006, 2009, 2012, 2013, 2015, 2016]"
      ]
     },
     "execution_count": 39,
     "metadata": {},
     "output_type": "execute_result"
    },
    {
     "name": "stdout",
     "output_type": "stream",
     "text": [
      "----\n",
      "wide_Indicator_4.5.1_Series_SE_NAP_ACHIRE.json\n",
      "Indicator_4.5.1_Series_SE_NAP_ACHIMA.json\n",
      "4.5.1 - SE_NAP_ACHIMA\n"
     ]
    },
    {
     "data": {
      "text/plain": [
       "[2003, 2006, 2009, 2012, 2013, 2015, 2017]"
      ]
     },
     "execution_count": 39,
     "metadata": {},
     "output_type": "execute_result"
    },
    {
     "name": "stdout",
     "output_type": "stream",
     "text": [
      "----\n",
      "wide_Indicator_4.5.1_Series_SE_NAP_ACHIMA.json\n",
      "Indicator_4.5.1_Series_SE_LGP_ACHIRE.json\n",
      "4.5.1 - SE_LGP_ACHIRE\n"
     ]
    },
    {
     "data": {
      "text/plain": [
       "[2001, 2003, 2006, 2009, 2011, 2012, 2013, 2014, 2015, 2016, 2017]"
      ]
     },
     "execution_count": 39,
     "metadata": {},
     "output_type": "execute_result"
    },
    {
     "name": "stdout",
     "output_type": "stream",
     "text": [
      "----\n",
      "wide_Indicator_4.5.1_Series_SE_LGP_ACHIRE.json\n",
      "Indicator_4.5.1_Series_SE_LGP_ACHIMA.json\n",
      "4.5.1 - SE_LGP_ACHIMA\n"
     ]
    },
    {
     "data": {
      "text/plain": [
       "[2000, 2003, 2006, 2007, 2009, 2011, 2012, 2013, 2014, 2015, 2016, 2017]"
      ]
     },
     "execution_count": 39,
     "metadata": {},
     "output_type": "execute_result"
    },
    {
     "name": "stdout",
     "output_type": "stream",
     "text": [
      "----\n",
      "wide_Indicator_4.5.1_Series_SE_LGP_ACHIMA.json\n",
      "Indicator_4.5.1_Series_SE_IMP_FPOF.json\n",
      "4.5.1 - SE_IMP_FPOF\n"
     ]
    },
    {
     "data": {
      "text/plain": [
       "[2012, 2015]"
      ]
     },
     "execution_count": 39,
     "metadata": {},
     "output_type": "execute_result"
    },
    {
     "name": "stdout",
     "output_type": "stream",
     "text": [
      "----\n",
      "wide_Indicator_4.5.1_Series_SE_IMP_FPOF.json\n",
      "Indicator_4.6.1_Series_SE_ADT_FUNS.json\n",
      "4.6.1 - SE_ADT_FUNS\n"
     ]
    },
    {
     "data": {
      "text/plain": [
       "[2006, 2007, 2008, 2009, 2010, 2011, 2012, 2013, 2014, 2015, 2016, 2017]"
      ]
     },
     "execution_count": 39,
     "metadata": {},
     "output_type": "execute_result"
    },
    {
     "name": "stdout",
     "output_type": "stream",
     "text": [
      "----\n",
      "wide_Indicator_4.6.1_Series_SE_ADT_FUNS.json\n",
      "Indicator_4.a.1_Series_SE_ACC_COMP.json\n",
      "4.a.1 - SE_ACC_COMP\n"
     ]
    },
    {
     "data": {
      "text/plain": [
       "[2000,\n",
       " 2001,\n",
       " 2002,\n",
       " 2003,\n",
       " 2004,\n",
       " 2005,\n",
       " 2006,\n",
       " 2007,\n",
       " 2008,\n",
       " 2009,\n",
       " 2010,\n",
       " 2011,\n",
       " 2012,\n",
       " 2013,\n",
       " 2014,\n",
       " 2015,\n",
       " 2016,\n",
       " 2017,\n",
       " 2018]"
      ]
     },
     "execution_count": 39,
     "metadata": {},
     "output_type": "execute_result"
    },
    {
     "name": "stdout",
     "output_type": "stream",
     "text": [
      "----\n",
      "wide_Indicator_4.a.1_Series_SE_ACC_COMP.json\n",
      "Indicator_4.a.1_Series_SE_ACC_DWAT.json\n",
      "4.a.1 - SE_ACC_DWAT\n"
     ]
    },
    {
     "data": {
      "text/plain": [
       "[2000,\n",
       " 2001,\n",
       " 2002,\n",
       " 2003,\n",
       " 2004,\n",
       " 2005,\n",
       " 2006,\n",
       " 2007,\n",
       " 2008,\n",
       " 2009,\n",
       " 2010,\n",
       " 2011,\n",
       " 2012,\n",
       " 2013,\n",
       " 2014,\n",
       " 2015,\n",
       " 2016,\n",
       " 2017,\n",
       " 2018]"
      ]
     },
     "execution_count": 39,
     "metadata": {},
     "output_type": "execute_result"
    },
    {
     "name": "stdout",
     "output_type": "stream",
     "text": [
      "----\n",
      "wide_Indicator_4.a.1_Series_SE_ACC_DWAT.json\n",
      "Indicator_4.a.1_Series_SE_ACC_ELEC.json\n",
      "4.a.1 - SE_ACC_ELEC\n"
     ]
    },
    {
     "data": {
      "text/plain": [
       "[2000,\n",
       " 2001,\n",
       " 2002,\n",
       " 2003,\n",
       " 2004,\n",
       " 2005,\n",
       " 2006,\n",
       " 2007,\n",
       " 2008,\n",
       " 2009,\n",
       " 2010,\n",
       " 2011,\n",
       " 2012,\n",
       " 2013,\n",
       " 2014,\n",
       " 2015,\n",
       " 2016,\n",
       " 2017,\n",
       " 2018]"
      ]
     },
     "execution_count": 39,
     "metadata": {},
     "output_type": "execute_result"
    },
    {
     "name": "stdout",
     "output_type": "stream",
     "text": [
      "----\n",
      "wide_Indicator_4.a.1_Series_SE_ACC_ELEC.json\n",
      "Indicator_4.a.1_Series_SE_ACC_HNWA.json\n",
      "4.a.1 - SE_ACC_HNWA\n"
     ]
    },
    {
     "data": {
      "text/plain": [
       "[2000,\n",
       " 2001,\n",
       " 2002,\n",
       " 2003,\n",
       " 2004,\n",
       " 2005,\n",
       " 2006,\n",
       " 2007,\n",
       " 2008,\n",
       " 2009,\n",
       " 2010,\n",
       " 2011,\n",
       " 2012,\n",
       " 2013,\n",
       " 2014,\n",
       " 2015,\n",
       " 2016,\n",
       " 2017,\n",
       " 2018]"
      ]
     },
     "execution_count": 39,
     "metadata": {},
     "output_type": "execute_result"
    },
    {
     "name": "stdout",
     "output_type": "stream",
     "text": [
      "----\n",
      "wide_Indicator_4.a.1_Series_SE_ACC_HNWA.json\n",
      "Indicator_4.a.1_Series_SE_ACC_INTN.json\n",
      "4.a.1 - SE_ACC_INTN\n"
     ]
    },
    {
     "data": {
      "text/plain": [
       "[2000,\n",
       " 2001,\n",
       " 2002,\n",
       " 2003,\n",
       " 2004,\n",
       " 2005,\n",
       " 2006,\n",
       " 2007,\n",
       " 2008,\n",
       " 2009,\n",
       " 2010,\n",
       " 2011,\n",
       " 2012,\n",
       " 2013,\n",
       " 2014,\n",
       " 2015,\n",
       " 2016,\n",
       " 2017,\n",
       " 2018]"
      ]
     },
     "execution_count": 39,
     "metadata": {},
     "output_type": "execute_result"
    },
    {
     "name": "stdout",
     "output_type": "stream",
     "text": [
      "----\n",
      "wide_Indicator_4.a.1_Series_SE_ACC_INTN.json\n",
      "Indicator_4.a.1_Series_SE_ACC_SANI.json\n",
      "4.a.1 - SE_ACC_SANI\n"
     ]
    },
    {
     "data": {
      "text/plain": [
       "[2000,\n",
       " 2001,\n",
       " 2002,\n",
       " 2003,\n",
       " 2004,\n",
       " 2005,\n",
       " 2006,\n",
       " 2007,\n",
       " 2008,\n",
       " 2009,\n",
       " 2010,\n",
       " 2011,\n",
       " 2012,\n",
       " 2013,\n",
       " 2014,\n",
       " 2015,\n",
       " 2016,\n",
       " 2017,\n",
       " 2018]"
      ]
     },
     "execution_count": 39,
     "metadata": {},
     "output_type": "execute_result"
    },
    {
     "name": "stdout",
     "output_type": "stream",
     "text": [
      "----\n",
      "wide_Indicator_4.a.1_Series_SE_ACC_SANI.json\n",
      "Indicator_4.a.1_Series_SE_INF_DSBL.json\n",
      "4.a.1 - SE_INF_DSBL\n"
     ]
    },
    {
     "data": {
      "text/plain": [
       "[2000,\n",
       " 2001,\n",
       " 2002,\n",
       " 2003,\n",
       " 2004,\n",
       " 2005,\n",
       " 2006,\n",
       " 2007,\n",
       " 2008,\n",
       " 2009,\n",
       " 2010,\n",
       " 2011,\n",
       " 2012,\n",
       " 2013,\n",
       " 2014,\n",
       " 2015,\n",
       " 2016,\n",
       " 2017,\n",
       " 2018]"
      ]
     },
     "execution_count": 39,
     "metadata": {},
     "output_type": "execute_result"
    },
    {
     "name": "stdout",
     "output_type": "stream",
     "text": [
      "----\n",
      "wide_Indicator_4.a.1_Series_SE_INF_DSBL.json\n",
      "Indicator_4.b.1_Series_DC_TOF_SCHIPSL.json\n",
      "4.b.1 - DC_TOF_SCHIPSL\n"
     ]
    },
    {
     "data": {
      "text/plain": [
       "[2006, 2007, 2008, 2009, 2010, 2011, 2012, 2013, 2014, 2015, 2016]"
      ]
     },
     "execution_count": 39,
     "metadata": {},
     "output_type": "execute_result"
    },
    {
     "name": "stdout",
     "output_type": "stream",
     "text": [
      "----\n",
      "wide_Indicator_4.b.1_Series_DC_TOF_SCHIPSL.json\n",
      "Indicator_4.c.1_Series_SE_TRA_GRDL.json\n",
      "4.c.1 - SE_TRA_GRDL\n"
     ]
    },
    {
     "data": {
      "text/plain": [
       "[2000,\n",
       " 2001,\n",
       " 2002,\n",
       " 2003,\n",
       " 2004,\n",
       " 2005,\n",
       " 2006,\n",
       " 2007,\n",
       " 2008,\n",
       " 2009,\n",
       " 2010,\n",
       " 2011,\n",
       " 2012,\n",
       " 2013,\n",
       " 2014,\n",
       " 2015,\n",
       " 2016,\n",
       " 2017,\n",
       " 2018]"
      ]
     },
     "execution_count": 39,
     "metadata": {},
     "output_type": "execute_result"
    },
    {
     "name": "stdout",
     "output_type": "stream",
     "text": [
      "----\n",
      "wide_Indicator_4.c.1_Series_SE_TRA_GRDL.json\n",
      "Indicator_5.2.1_Series_VC_VAW_MARR.json\n",
      "5.2.1 - VC_VAW_MARR\n"
     ]
    },
    {
     "data": {
      "text/plain": [
       "[2000,\n",
       " 2005,\n",
       " 2006,\n",
       " 2007,\n",
       " 2008,\n",
       " 2009,\n",
       " 2010,\n",
       " 2011,\n",
       " 2012,\n",
       " 2013,\n",
       " 2014,\n",
       " 2015,\n",
       " 2016,\n",
       " 2017]"
      ]
     },
     "execution_count": 39,
     "metadata": {},
     "output_type": "execute_result"
    },
    {
     "name": "stdout",
     "output_type": "stream",
     "text": [
      "----\n",
      "wide_Indicator_5.2.1_Series_VC_VAW_MARR.json\n",
      "Indicator_5.3.1_Series_SP_DYN_MRBF18.json\n",
      "5.3.1 - SP_DYN_MRBF18\n"
     ]
    },
    {
     "data": {
      "text/plain": [
       "[2003,\n",
       " 2004,\n",
       " 2005,\n",
       " 2006,\n",
       " 2007,\n",
       " 2009,\n",
       " 2010,\n",
       " 2011,\n",
       " 2012,\n",
       " 2013,\n",
       " 2014,\n",
       " 2015,\n",
       " 2016,\n",
       " 2017]"
      ]
     },
     "execution_count": 39,
     "metadata": {},
     "output_type": "execute_result"
    },
    {
     "name": "stdout",
     "output_type": "stream",
     "text": [
      "----\n",
      "wide_Indicator_5.3.1_Series_SP_DYN_MRBF18.json\n",
      "Indicator_5.3.1_Series_SP_DYN_MRBF15.json\n",
      "5.3.1 - SP_DYN_MRBF15\n"
     ]
    },
    {
     "data": {
      "text/plain": [
       "[2003,\n",
       " 2004,\n",
       " 2005,\n",
       " 2006,\n",
       " 2007,\n",
       " 2009,\n",
       " 2010,\n",
       " 2011,\n",
       " 2012,\n",
       " 2013,\n",
       " 2014,\n",
       " 2015,\n",
       " 2016,\n",
       " 2017]"
      ]
     },
     "execution_count": 39,
     "metadata": {},
     "output_type": "execute_result"
    },
    {
     "name": "stdout",
     "output_type": "stream",
     "text": [
      "----\n",
      "wide_Indicator_5.3.1_Series_SP_DYN_MRBF15.json\n",
      "Indicator_5.3.2_Series_SH_STA_FGMS.json\n",
      "5.3.2 - SH_STA_FGMS\n"
     ]
    },
    {
     "data": {
      "text/plain": [
       "[2004, 2006, 2010, 2011, 2012, 2013, 2014, 2015, 2016, 2017, 2018]"
      ]
     },
     "execution_count": 39,
     "metadata": {},
     "output_type": "execute_result"
    },
    {
     "name": "stdout",
     "output_type": "stream",
     "text": [
      "----\n",
      "wide_Indicator_5.3.2_Series_SH_STA_FGMS.json\n",
      "Indicator_5.4.1_Series_SL_DOM_TSPDCW.json\n",
      "5.4.1 - SL_DOM_TSPDCW\n"
     ]
    },
    {
     "data": {
      "text/plain": [
       "[2000,\n",
       " 2001,\n",
       " 2002,\n",
       " 2003,\n",
       " 2004,\n",
       " 2005,\n",
       " 2006,\n",
       " 2007,\n",
       " 2008,\n",
       " 2009,\n",
       " 2010,\n",
       " 2011,\n",
       " 2012,\n",
       " 2013,\n",
       " 2014,\n",
       " 2015,\n",
       " 2016,\n",
       " 2017]"
      ]
     },
     "execution_count": 39,
     "metadata": {},
     "output_type": "execute_result"
    },
    {
     "name": "stdout",
     "output_type": "stream",
     "text": [
      "----\n",
      "wide_Indicator_5.4.1_Series_SL_DOM_TSPDCW.json\n",
      "Indicator_5.4.1_Series_SL_DOM_TSPDDC.json\n",
      "5.4.1 - SL_DOM_TSPDDC\n"
     ]
    },
    {
     "data": {
      "text/plain": [
       "[2000,\n",
       " 2001,\n",
       " 2002,\n",
       " 2003,\n",
       " 2004,\n",
       " 2005,\n",
       " 2006,\n",
       " 2007,\n",
       " 2008,\n",
       " 2009,\n",
       " 2010,\n",
       " 2011,\n",
       " 2012,\n",
       " 2013,\n",
       " 2014,\n",
       " 2015,\n",
       " 2016,\n",
       " 2017]"
      ]
     },
     "execution_count": 39,
     "metadata": {},
     "output_type": "execute_result"
    },
    {
     "name": "stdout",
     "output_type": "stream",
     "text": [
      "----\n",
      "wide_Indicator_5.4.1_Series_SL_DOM_TSPDDC.json\n",
      "Indicator_5.4.1_Series_SL_DOM_TSPD.json\n",
      "5.4.1 - SL_DOM_TSPD\n"
     ]
    },
    {
     "data": {
      "text/plain": [
       "[2000,\n",
       " 2001,\n",
       " 2002,\n",
       " 2003,\n",
       " 2004,\n",
       " 2005,\n",
       " 2006,\n",
       " 2007,\n",
       " 2008,\n",
       " 2009,\n",
       " 2010,\n",
       " 2011,\n",
       " 2012,\n",
       " 2013,\n",
       " 2014,\n",
       " 2015,\n",
       " 2016,\n",
       " 2017]"
      ]
     },
     "execution_count": 39,
     "metadata": {},
     "output_type": "execute_result"
    },
    {
     "name": "stdout",
     "output_type": "stream",
     "text": [
      "----\n",
      "wide_Indicator_5.4.1_Series_SL_DOM_TSPD.json\n",
      "Indicator_5.5.1_Series_SG_GEN_PARLN.json\n",
      "5.5.1 - SG_GEN_PARLN\n"
     ]
    },
    {
     "data": {
      "text/plain": [
       "[2000,\n",
       " 2001,\n",
       " 2002,\n",
       " 2003,\n",
       " 2004,\n",
       " 2005,\n",
       " 2006,\n",
       " 2007,\n",
       " 2008,\n",
       " 2009,\n",
       " 2010,\n",
       " 2011,\n",
       " 2012,\n",
       " 2013,\n",
       " 2014,\n",
       " 2015,\n",
       " 2016,\n",
       " 2017,\n",
       " 2018]"
      ]
     },
     "execution_count": 39,
     "metadata": {},
     "output_type": "execute_result"
    },
    {
     "name": "stdout",
     "output_type": "stream",
     "text": [
      "----\n",
      "wide_Indicator_5.5.1_Series_SG_GEN_PARLN.json\n",
      "Indicator_5.5.1_Series_SG_GEN_PARLNT.json\n",
      "5.5.1 - SG_GEN_PARLNT\n"
     ]
    },
    {
     "data": {
      "text/plain": [
       "[2000,\n",
       " 2001,\n",
       " 2002,\n",
       " 2003,\n",
       " 2004,\n",
       " 2005,\n",
       " 2006,\n",
       " 2007,\n",
       " 2008,\n",
       " 2009,\n",
       " 2010,\n",
       " 2011,\n",
       " 2012,\n",
       " 2013,\n",
       " 2014,\n",
       " 2015,\n",
       " 2016,\n",
       " 2017,\n",
       " 2018]"
      ]
     },
     "execution_count": 39,
     "metadata": {},
     "output_type": "execute_result"
    },
    {
     "name": "stdout",
     "output_type": "stream",
     "text": [
      "----\n",
      "wide_Indicator_5.5.1_Series_SG_GEN_PARLNT.json\n",
      "Indicator_5.5.1_Series_SG_GEN_PARL.json\n",
      "5.5.1 - SG_GEN_PARL\n"
     ]
    },
    {
     "data": {
      "text/plain": [
       "[2000,\n",
       " 2001,\n",
       " 2002,\n",
       " 2003,\n",
       " 2004,\n",
       " 2005,\n",
       " 2006,\n",
       " 2007,\n",
       " 2008,\n",
       " 2009,\n",
       " 2010,\n",
       " 2011,\n",
       " 2012,\n",
       " 2013,\n",
       " 2014,\n",
       " 2015,\n",
       " 2016,\n",
       " 2017,\n",
       " 2018]"
      ]
     },
     "execution_count": 39,
     "metadata": {},
     "output_type": "execute_result"
    },
    {
     "name": "stdout",
     "output_type": "stream",
     "text": [
      "----\n",
      "wide_Indicator_5.5.1_Series_SG_GEN_PARL.json\n",
      "Indicator_5.5.2_Series_IC_GEN_MGTL.json\n",
      "5.5.2 - IC_GEN_MGTL\n"
     ]
    },
    {
     "data": {
      "text/plain": [
       "[2000,\n",
       " 2001,\n",
       " 2002,\n",
       " 2003,\n",
       " 2004,\n",
       " 2005,\n",
       " 2006,\n",
       " 2007,\n",
       " 2008,\n",
       " 2009,\n",
       " 2010,\n",
       " 2011,\n",
       " 2012,\n",
       " 2013,\n",
       " 2014,\n",
       " 2015,\n",
       " 2016,\n",
       " 2017]"
      ]
     },
     "execution_count": 39,
     "metadata": {},
     "output_type": "execute_result"
    },
    {
     "name": "stdout",
     "output_type": "stream",
     "text": [
      "----\n",
      "wide_Indicator_5.5.2_Series_IC_GEN_MGTL.json\n",
      "Indicator_5.5.2_Series_IC_GEN_MGTN.json\n",
      "5.5.2 - IC_GEN_MGTN\n"
     ]
    },
    {
     "data": {
      "text/plain": [
       "[2000,\n",
       " 2001,\n",
       " 2002,\n",
       " 2003,\n",
       " 2004,\n",
       " 2005,\n",
       " 2006,\n",
       " 2007,\n",
       " 2008,\n",
       " 2009,\n",
       " 2010,\n",
       " 2011,\n",
       " 2012,\n",
       " 2013,\n",
       " 2014,\n",
       " 2015,\n",
       " 2016,\n",
       " 2017]"
      ]
     },
     "execution_count": 39,
     "metadata": {},
     "output_type": "execute_result"
    },
    {
     "name": "stdout",
     "output_type": "stream",
     "text": [
      "----\n",
      "wide_Indicator_5.5.2_Series_IC_GEN_MGTN.json\n",
      "Indicator_5.6.1_Series_SH_FPL_INFM.json\n",
      "5.6.1 - SH_FPL_INFM\n"
     ]
    },
    {
     "data": {
      "text/plain": [
       "[2006, 2007, 2008, 2009, 2010, 2011, 2012, 2013, 2014, 2015, 2016, 2017, 2018]"
      ]
     },
     "execution_count": 39,
     "metadata": {},
     "output_type": "execute_result"
    },
    {
     "name": "stdout",
     "output_type": "stream",
     "text": [
      "----\n",
      "wide_Indicator_5.6.1_Series_SH_FPL_INFM.json\n",
      "Indicator_5.6.1_Series_SH_FPL_INFMSR.json\n",
      "5.6.1 - SH_FPL_INFMSR\n"
     ]
    },
    {
     "data": {
      "text/plain": [
       "[2006, 2007, 2008, 2009, 2010, 2011, 2012, 2013, 2014, 2015, 2016, 2017, 2018]"
      ]
     },
     "execution_count": 39,
     "metadata": {},
     "output_type": "execute_result"
    },
    {
     "name": "stdout",
     "output_type": "stream",
     "text": [
      "----\n",
      "wide_Indicator_5.6.1_Series_SH_FPL_INFMSR.json\n",
      "Indicator_5.6.1_Series_SH_FPL_INFMCU.json\n",
      "5.6.1 - SH_FPL_INFMCU\n"
     ]
    },
    {
     "data": {
      "text/plain": [
       "[2006, 2007, 2008, 2009, 2010, 2011, 2012, 2013, 2014, 2015, 2016, 2017, 2018]"
      ]
     },
     "execution_count": 39,
     "metadata": {},
     "output_type": "execute_result"
    },
    {
     "name": "stdout",
     "output_type": "stream",
     "text": [
      "----\n",
      "wide_Indicator_5.6.1_Series_SH_FPL_INFMCU.json\n",
      "Indicator_5.6.1_Series_SH_FPL_INFMRH.json\n",
      "5.6.1 - SH_FPL_INFMRH\n"
     ]
    },
    {
     "data": {
      "text/plain": [
       "[2006, 2007, 2008, 2009, 2010, 2011, 2012, 2013, 2014, 2015, 2016, 2017, 2018]"
      ]
     },
     "execution_count": 39,
     "metadata": {},
     "output_type": "execute_result"
    },
    {
     "name": "stdout",
     "output_type": "stream",
     "text": [
      "----\n",
      "wide_Indicator_5.6.1_Series_SH_FPL_INFMRH.json\n",
      "Indicator_5.b.1_Series_IT_MOB_OWN.json\n",
      "5.b.1 - IT_MOB_OWN\n"
     ]
    },
    {
     "data": {
      "text/plain": [
       "[2014, 2015, 2016, 2017]"
      ]
     },
     "execution_count": 39,
     "metadata": {},
     "output_type": "execute_result"
    },
    {
     "name": "stdout",
     "output_type": "stream",
     "text": [
      "----\n",
      "wide_Indicator_5.b.1_Series_IT_MOB_OWN.json\n",
      "Indicator_6.1.1_Series_SH_H2O_SAFE.json\n",
      "6.1.1 - SH_H2O_SAFE\n"
     ]
    },
    {
     "data": {
      "text/plain": [
       "[2000,\n",
       " 2001,\n",
       " 2002,\n",
       " 2003,\n",
       " 2004,\n",
       " 2005,\n",
       " 2006,\n",
       " 2007,\n",
       " 2008,\n",
       " 2009,\n",
       " 2010,\n",
       " 2011,\n",
       " 2012,\n",
       " 2013,\n",
       " 2014,\n",
       " 2015]"
      ]
     },
     "execution_count": 39,
     "metadata": {},
     "output_type": "execute_result"
    },
    {
     "name": "stdout",
     "output_type": "stream",
     "text": [
      "----\n",
      "wide_Indicator_6.1.1_Series_SH_H2O_SAFE.json\n",
      "Indicator_6.2.1_Series_SH_SAN_HNDWSH.json\n",
      "6.2.1 - SH_SAN_HNDWSH\n"
     ]
    },
    {
     "data": {
      "text/plain": [
       "[2000,\n",
       " 2001,\n",
       " 2002,\n",
       " 2003,\n",
       " 2004,\n",
       " 2005,\n",
       " 2006,\n",
       " 2007,\n",
       " 2008,\n",
       " 2009,\n",
       " 2010,\n",
       " 2011,\n",
       " 2012,\n",
       " 2013,\n",
       " 2014,\n",
       " 2015]"
      ]
     },
     "execution_count": 39,
     "metadata": {},
     "output_type": "execute_result"
    },
    {
     "name": "stdout",
     "output_type": "stream",
     "text": [
      "----\n",
      "wide_Indicator_6.2.1_Series_SH_SAN_HNDWSH.json\n",
      "Indicator_6.2.1_Series_SH_SAN_SAFE.json\n",
      "6.2.1 - SH_SAN_SAFE\n"
     ]
    },
    {
     "data": {
      "text/plain": [
       "[2000,\n",
       " 2001,\n",
       " 2002,\n",
       " 2003,\n",
       " 2004,\n",
       " 2005,\n",
       " 2006,\n",
       " 2007,\n",
       " 2008,\n",
       " 2009,\n",
       " 2010,\n",
       " 2011,\n",
       " 2012,\n",
       " 2013,\n",
       " 2014,\n",
       " 2015]"
      ]
     },
     "execution_count": 39,
     "metadata": {},
     "output_type": "execute_result"
    },
    {
     "name": "stdout",
     "output_type": "stream",
     "text": [
      "----\n",
      "wide_Indicator_6.2.1_Series_SH_SAN_SAFE.json\n",
      "Indicator_6.2.1_Series_SH_SAN_DEFECT.json\n",
      "6.2.1 - SH_SAN_DEFECT\n"
     ]
    },
    {
     "data": {
      "text/plain": [
       "[2000,\n",
       " 2001,\n",
       " 2002,\n",
       " 2003,\n",
       " 2004,\n",
       " 2005,\n",
       " 2006,\n",
       " 2007,\n",
       " 2008,\n",
       " 2009,\n",
       " 2010,\n",
       " 2011,\n",
       " 2012,\n",
       " 2013,\n",
       " 2014,\n",
       " 2015]"
      ]
     },
     "execution_count": 39,
     "metadata": {},
     "output_type": "execute_result"
    },
    {
     "name": "stdout",
     "output_type": "stream",
     "text": [
      "----\n",
      "wide_Indicator_6.2.1_Series_SH_SAN_DEFECT.json\n",
      "Indicator_6.3.1_Series_EN_WWT_WWDS.json\n",
      "6.3.1 - EN_WWT_WWDS\n"
     ]
    },
    {
     "data": {
      "text/plain": [
       "[2018]"
      ]
     },
     "execution_count": 39,
     "metadata": {},
     "output_type": "execute_result"
    },
    {
     "name": "stdout",
     "output_type": "stream",
     "text": [
      "----\n",
      "wide_Indicator_6.3.1_Series_EN_WWT_WWDS.json\n",
      "Indicator_6.3.2_Series_EN_H2O_OPAMBQ.json\n",
      "6.3.2 - EN_H2O_OPAMBQ\n"
     ]
    },
    {
     "data": {
      "text/plain": [
       "[2017]"
      ]
     },
     "execution_count": 39,
     "metadata": {},
     "output_type": "execute_result"
    },
    {
     "name": "stdout",
     "output_type": "stream",
     "text": [
      "----\n",
      "wide_Indicator_6.3.2_Series_EN_H2O_OPAMBQ.json\n",
      "Indicator_6.3.2_Series_EN_H2O_RVAMBQ.json\n",
      "6.3.2 - EN_H2O_RVAMBQ\n"
     ]
    },
    {
     "data": {
      "text/plain": [
       "[2017]"
      ]
     },
     "execution_count": 39,
     "metadata": {},
     "output_type": "execute_result"
    },
    {
     "name": "stdout",
     "output_type": "stream",
     "text": [
      "----\n",
      "wide_Indicator_6.3.2_Series_EN_H2O_RVAMBQ.json\n",
      "Indicator_6.3.2_Series_EN_H2O_GRAMBQ.json\n",
      "6.3.2 - EN_H2O_GRAMBQ\n"
     ]
    },
    {
     "data": {
      "text/plain": [
       "[2017]"
      ]
     },
     "execution_count": 39,
     "metadata": {},
     "output_type": "execute_result"
    },
    {
     "name": "stdout",
     "output_type": "stream",
     "text": [
      "----\n",
      "wide_Indicator_6.3.2_Series_EN_H2O_GRAMBQ.json\n",
      "Indicator_6.3.2_Series_EN_H2O_WBAMBQ.json\n",
      "6.3.2 - EN_H2O_WBAMBQ\n"
     ]
    },
    {
     "data": {
      "text/plain": [
       "[2017]"
      ]
     },
     "execution_count": 39,
     "metadata": {},
     "output_type": "execute_result"
    },
    {
     "name": "stdout",
     "output_type": "stream",
     "text": [
      "----\n",
      "wide_Indicator_6.3.2_Series_EN_H2O_WBAMBQ.json\n",
      "Indicator_6.4.1_Series_ER_H2O_WUEYST.json\n",
      "6.4.1 - ER_H2O_WUEYST\n"
     ]
    },
    {
     "data": {
      "text/plain": [
       "[2000, 2005, 2010, 2015]"
      ]
     },
     "execution_count": 39,
     "metadata": {},
     "output_type": "execute_result"
    },
    {
     "name": "stdout",
     "output_type": "stream",
     "text": [
      "----\n",
      "wide_Indicator_6.4.1_Series_ER_H2O_WUEYST.json\n",
      "Indicator_6.4.2_Series_ER_H2O_STRESS.json\n",
      "6.4.2 - ER_H2O_STRESS\n"
     ]
    },
    {
     "data": {
      "text/plain": [
       "[2000, 2005, 2010, 2015]"
      ]
     },
     "execution_count": 39,
     "metadata": {},
     "output_type": "execute_result"
    },
    {
     "name": "stdout",
     "output_type": "stream",
     "text": [
      "----\n",
      "wide_Indicator_6.4.2_Series_ER_H2O_STRESS.json\n",
      "Indicator_6.5.1_Series_ER_H2O_IWRMD.json\n",
      "6.5.1 - ER_H2O_IWRMD\n"
     ]
    },
    {
     "data": {
      "text/plain": [
       "[2017]"
      ]
     },
     "execution_count": 39,
     "metadata": {},
     "output_type": "execute_result"
    },
    {
     "name": "stdout",
     "output_type": "stream",
     "text": [
      "----\n",
      "wide_Indicator_6.5.1_Series_ER_H2O_IWRMD.json\n",
      "Indicator_6.5.1_Series_ER_H2O_IWRMP.json\n",
      "6.5.1 - ER_H2O_IWRMP\n"
     ]
    },
    {
     "data": {
      "text/plain": [
       "[]"
      ]
     },
     "execution_count": 39,
     "metadata": {},
     "output_type": "execute_result"
    },
    {
     "name": "stdout",
     "output_type": "stream",
     "text": [
      "----\n",
      "wide_Indicator_6.5.1_Series_ER_H2O_IWRMP.json\n",
      "Indicator_6.5.2_Series_EG_TBA_H2CO.json\n",
      "6.5.2 - EG_TBA_H2CO\n"
     ]
    },
    {
     "data": {
      "text/plain": [
       "[2017, 2018]"
      ]
     },
     "execution_count": 39,
     "metadata": {},
     "output_type": "execute_result"
    },
    {
     "name": "stdout",
     "output_type": "stream",
     "text": [
      "----\n",
      "wide_Indicator_6.5.2_Series_EG_TBA_H2CO.json\n",
      "Indicator_6.5.2_Series_EG_TBA_H2COAQ.json\n",
      "6.5.2 - EG_TBA_H2COAQ\n"
     ]
    },
    {
     "data": {
      "text/plain": [
       "[2017, 2018]"
      ]
     },
     "execution_count": 39,
     "metadata": {},
     "output_type": "execute_result"
    },
    {
     "name": "stdout",
     "output_type": "stream",
     "text": [
      "----\n",
      "wide_Indicator_6.5.2_Series_EG_TBA_H2COAQ.json\n",
      "Indicator_6.5.2_Series_EG_TBA_H2CORL.json\n",
      "6.5.2 - EG_TBA_H2CORL\n"
     ]
    },
    {
     "data": {
      "text/plain": [
       "[2017, 2018]"
      ]
     },
     "execution_count": 39,
     "metadata": {},
     "output_type": "execute_result"
    },
    {
     "name": "stdout",
     "output_type": "stream",
     "text": [
      "----\n",
      "wide_Indicator_6.5.2_Series_EG_TBA_H2CORL.json\n",
      "Indicator_6.6.1_Series_EN_WBE_PMPR.json\n",
      "6.6.1 - EN_WBE_PMPR\n"
     ]
    },
    {
     "data": {
      "text/plain": [
       "[2005, 2006, 2007, 2008, 2009, 2010, 2011, 2012, 2013, 2014, 2015, 2016]"
      ]
     },
     "execution_count": 39,
     "metadata": {},
     "output_type": "execute_result"
    },
    {
     "name": "stdout",
     "output_type": "stream",
     "text": [
      "----\n",
      "wide_Indicator_6.6.1_Series_EN_WBE_PMPR.json\n",
      "Indicator_6.6.1_Series_EN_WBE_PMNR.json\n",
      "6.6.1 - EN_WBE_PMNR\n"
     ]
    },
    {
     "data": {
      "text/plain": [
       "[2005, 2006, 2007, 2008, 2009, 2010, 2011, 2012, 2013, 2014, 2015, 2016]"
      ]
     },
     "execution_count": 39,
     "metadata": {},
     "output_type": "execute_result"
    },
    {
     "name": "stdout",
     "output_type": "stream",
     "text": [
      "----\n",
      "wide_Indicator_6.6.1_Series_EN_WBE_PMNR.json\n",
      "Indicator_6.6.1_Series_EN_WBE_PMPP.json\n",
      "6.6.1 - EN_WBE_PMPP\n"
     ]
    },
    {
     "data": {
      "text/plain": [
       "[2005, 2006, 2007, 2008, 2009, 2010, 2011, 2012, 2013, 2014, 2015, 2016]"
      ]
     },
     "execution_count": 39,
     "metadata": {},
     "output_type": "execute_result"
    },
    {
     "name": "stdout",
     "output_type": "stream",
     "text": [
      "----\n",
      "wide_Indicator_6.6.1_Series_EN_WBE_PMPP.json\n",
      "Indicator_6.6.1_Series_EN_WBE_PMPN.json\n",
      "6.6.1 - EN_WBE_PMPN\n"
     ]
    },
    {
     "data": {
      "text/plain": [
       "[2005, 2006, 2007, 2008, 2009, 2010, 2011, 2012, 2013, 2014, 2015, 2016]"
      ]
     },
     "execution_count": 39,
     "metadata": {},
     "output_type": "execute_result"
    },
    {
     "name": "stdout",
     "output_type": "stream",
     "text": [
      "----\n",
      "wide_Indicator_6.6.1_Series_EN_WBE_PMPN.json\n",
      "Indicator_6.6.1_Series_EN_WBE_NDETOT.json\n",
      "6.6.1 - EN_WBE_NDETOT\n"
     ]
    },
    {
     "data": {
      "text/plain": [
       "[2017]"
      ]
     },
     "execution_count": 39,
     "metadata": {},
     "output_type": "execute_result"
    },
    {
     "name": "stdout",
     "output_type": "stream",
     "text": [
      "----\n",
      "wide_Indicator_6.6.1_Series_EN_WBE_NDETOT.json\n",
      "Indicator_6.6.1_Series_EN_WBE_NDOPW.json\n",
      "6.6.1 - EN_WBE_NDOPW\n"
     ]
    },
    {
     "data": {
      "text/plain": [
       "[2017]"
      ]
     },
     "execution_count": 39,
     "metadata": {},
     "output_type": "execute_result"
    },
    {
     "name": "stdout",
     "output_type": "stream",
     "text": [
      "----\n",
      "wide_Indicator_6.6.1_Series_EN_WBE_NDOPW.json\n",
      "Indicator_6.6.1_Series_EN_WBE_NDQLGRW.json\n",
      "6.6.1 - EN_WBE_NDQLGRW\n"
     ]
    },
    {
     "data": {
      "text/plain": [
       "[2017]"
      ]
     },
     "execution_count": 39,
     "metadata": {},
     "output_type": "execute_result"
    },
    {
     "name": "stdout",
     "output_type": "stream",
     "text": [
      "----\n",
      "wide_Indicator_6.6.1_Series_EN_WBE_NDQLGRW.json\n",
      "Indicator_6.6.1_Series_EN_WBE_NDQLOPW.json\n",
      "6.6.1 - EN_WBE_NDQLOPW\n"
     ]
    },
    {
     "data": {
      "text/plain": [
       "[2017]"
      ]
     },
     "execution_count": 39,
     "metadata": {},
     "output_type": "execute_result"
    },
    {
     "name": "stdout",
     "output_type": "stream",
     "text": [
      "----\n",
      "wide_Indicator_6.6.1_Series_EN_WBE_NDQLOPW.json\n",
      "Indicator_6.6.1_Series_EN_WBE_NDQLRVR.json\n",
      "6.6.1 - EN_WBE_NDQLRVR\n"
     ]
    },
    {
     "data": {
      "text/plain": [
       "[2017]"
      ]
     },
     "execution_count": 39,
     "metadata": {},
     "output_type": "execute_result"
    },
    {
     "name": "stdout",
     "output_type": "stream",
     "text": [
      "----\n",
      "wide_Indicator_6.6.1_Series_EN_WBE_NDQLRVR.json\n",
      "Indicator_6.6.1_Series_EN_WBE_NDQLTOT.json\n",
      "6.6.1 - EN_WBE_NDQLTOT\n"
     ]
    },
    {
     "data": {
      "text/plain": [
       "[2017]"
      ]
     },
     "execution_count": 39,
     "metadata": {},
     "output_type": "execute_result"
    },
    {
     "name": "stdout",
     "output_type": "stream",
     "text": [
      "----\n",
      "wide_Indicator_6.6.1_Series_EN_WBE_NDQLTOT.json\n",
      "Indicator_6.6.1_Series_EN_WBE_NDQTGRW.json\n",
      "6.6.1 - EN_WBE_NDQTGRW\n"
     ]
    },
    {
     "data": {
      "text/plain": [
       "[2017]"
      ]
     },
     "execution_count": 39,
     "metadata": {},
     "output_type": "execute_result"
    },
    {
     "name": "stdout",
     "output_type": "stream",
     "text": [
      "----\n",
      "wide_Indicator_6.6.1_Series_EN_WBE_NDQTGRW.json\n",
      "Indicator_6.6.1_Series_EN_WBE_NDQTOPW.json\n",
      "6.6.1 - EN_WBE_NDQTOPW\n"
     ]
    },
    {
     "data": {
      "text/plain": [
       "[2017]"
      ]
     },
     "execution_count": 39,
     "metadata": {},
     "output_type": "execute_result"
    },
    {
     "name": "stdout",
     "output_type": "stream",
     "text": [
      "----\n",
      "wide_Indicator_6.6.1_Series_EN_WBE_NDQTOPW.json\n",
      "Indicator_6.6.1_Series_EN_WBE_NDQTRVR.json\n",
      "6.6.1 - EN_WBE_NDQTRVR\n"
     ]
    },
    {
     "data": {
      "text/plain": [
       "[2017]"
      ]
     },
     "execution_count": 39,
     "metadata": {},
     "output_type": "execute_result"
    },
    {
     "name": "stdout",
     "output_type": "stream",
     "text": [
      "----\n",
      "wide_Indicator_6.6.1_Series_EN_WBE_NDQTRVR.json\n",
      "Indicator_6.6.1_Series_EN_WBE_NDQTTOT.json\n",
      "6.6.1 - EN_WBE_NDQTTOT\n"
     ]
    },
    {
     "data": {
      "text/plain": [
       "[2017]"
      ]
     },
     "execution_count": 39,
     "metadata": {},
     "output_type": "execute_result"
    },
    {
     "name": "stdout",
     "output_type": "stream",
     "text": [
      "----\n",
      "wide_Indicator_6.6.1_Series_EN_WBE_NDQTTOT.json\n",
      "Indicator_6.6.1_Series_EN_WBE_NDRV.json\n",
      "6.6.1 - EN_WBE_NDRV\n"
     ]
    },
    {
     "data": {
      "text/plain": [
       "[2017]"
      ]
     },
     "execution_count": 39,
     "metadata": {},
     "output_type": "execute_result"
    },
    {
     "name": "stdout",
     "output_type": "stream",
     "text": [
      "----\n",
      "wide_Indicator_6.6.1_Series_EN_WBE_NDRV.json\n",
      "Indicator_6.6.1_Series_EN_WBE_NDWTL.json\n",
      "6.6.1 - EN_WBE_NDWTL\n"
     ]
    },
    {
     "data": {
      "text/plain": [
       "[2017]"
      ]
     },
     "execution_count": 39,
     "metadata": {},
     "output_type": "execute_result"
    },
    {
     "name": "stdout",
     "output_type": "stream",
     "text": [
      "----\n",
      "wide_Indicator_6.6.1_Series_EN_WBE_NDWTL.json\n",
      "Indicator_6.a.1_Series_DC_TOF_WASHL.json\n",
      "6.a.1 - DC_TOF_WASHL\n"
     ]
    },
    {
     "data": {
      "text/plain": [
       "[2000,\n",
       " 2001,\n",
       " 2002,\n",
       " 2003,\n",
       " 2004,\n",
       " 2005,\n",
       " 2006,\n",
       " 2007,\n",
       " 2008,\n",
       " 2009,\n",
       " 2010,\n",
       " 2011,\n",
       " 2012,\n",
       " 2013,\n",
       " 2014,\n",
       " 2015,\n",
       " 2016]"
      ]
     },
     "execution_count": 39,
     "metadata": {},
     "output_type": "execute_result"
    },
    {
     "name": "stdout",
     "output_type": "stream",
     "text": [
      "----\n",
      "wide_Indicator_6.a.1_Series_DC_TOF_WASHL.json\n",
      "Indicator_6.b.1_Series_ER_WAT_PROCED.json\n",
      "6.b.1 - ER_WAT_PROCED\n"
     ]
    },
    {
     "data": {
      "text/plain": [
       "[]"
      ]
     },
     "execution_count": 39,
     "metadata": {},
     "output_type": "execute_result"
    },
    {
     "name": "stdout",
     "output_type": "stream",
     "text": [
      "----\n",
      "wide_Indicator_6.b.1_Series_ER_WAT_PROCED.json\n",
      "Indicator_6.b.1_Series_ER_H2O_PARTIC.json\n",
      "6.b.1 - ER_H2O_PARTIC\n"
     ]
    },
    {
     "data": {
      "text/plain": [
       "[]"
      ]
     },
     "execution_count": 39,
     "metadata": {},
     "output_type": "execute_result"
    },
    {
     "name": "stdout",
     "output_type": "stream",
     "text": [
      "----\n",
      "wide_Indicator_6.b.1_Series_ER_H2O_PARTIC.json\n",
      "Indicator_6.b.1_Series_ER_H2O_PROCED.json\n",
      "6.b.1 - ER_H2O_PROCED\n"
     ]
    },
    {
     "data": {
      "text/plain": [
       "[]"
      ]
     },
     "execution_count": 39,
     "metadata": {},
     "output_type": "execute_result"
    },
    {
     "name": "stdout",
     "output_type": "stream",
     "text": [
      "----\n",
      "wide_Indicator_6.b.1_Series_ER_H2O_PROCED.json\n",
      "Indicator_6.b.1_Series_ER_WAT_PARTIC.json\n",
      "6.b.1 - ER_WAT_PARTIC\n"
     ]
    },
    {
     "data": {
      "text/plain": [
       "[]"
      ]
     },
     "execution_count": 39,
     "metadata": {},
     "output_type": "execute_result"
    },
    {
     "name": "stdout",
     "output_type": "stream",
     "text": [
      "----\n",
      "wide_Indicator_6.b.1_Series_ER_WAT_PARTIC.json\n",
      "Indicator_6.b.1_Series_ER_H2O_RURP.json\n",
      "6.b.1 - ER_H2O_RURP\n"
     ]
    },
    {
     "data": {
      "text/plain": [
       "[2010, 2012, 2014, 2017]"
      ]
     },
     "execution_count": 39,
     "metadata": {},
     "output_type": "execute_result"
    },
    {
     "name": "stdout",
     "output_type": "stream",
     "text": [
      "----\n",
      "wide_Indicator_6.b.1_Series_ER_H2O_RURP.json\n",
      "Indicator_6.b.1_Series_ER_H2O_PRDU.json\n",
      "6.b.1 - ER_H2O_PRDU\n"
     ]
    },
    {
     "data": {
      "text/plain": [
       "[2010, 2012, 2014, 2017]"
      ]
     },
     "execution_count": 39,
     "metadata": {},
     "output_type": "execute_result"
    },
    {
     "name": "stdout",
     "output_type": "stream",
     "text": [
      "----\n",
      "wide_Indicator_6.b.1_Series_ER_H2O_PRDU.json\n",
      "Indicator_6.b.1_Series_ER_WAT_PART.json\n",
      "6.b.1 - ER_WAT_PART\n"
     ]
    },
    {
     "data": {
      "text/plain": [
       "[2017]"
      ]
     },
     "execution_count": 39,
     "metadata": {},
     "output_type": "execute_result"
    },
    {
     "name": "stdout",
     "output_type": "stream",
     "text": [
      "----\n",
      "wide_Indicator_6.b.1_Series_ER_WAT_PART.json\n",
      "Indicator_6.b.1_Series_ER_WAT_PRDU.json\n",
      "6.b.1 - ER_WAT_PRDU\n"
     ]
    },
    {
     "data": {
      "text/plain": [
       "[2017]"
      ]
     },
     "execution_count": 39,
     "metadata": {},
     "output_type": "execute_result"
    },
    {
     "name": "stdout",
     "output_type": "stream",
     "text": [
      "----\n",
      "wide_Indicator_6.b.1_Series_ER_WAT_PRDU.json\n",
      "Indicator_7.1.1_Series_EG_ELC_ACCS.json\n",
      "7.1.1 - EG_ELC_ACCS\n"
     ]
    },
    {
     "data": {
      "text/plain": [
       "[2000,\n",
       " 2001,\n",
       " 2002,\n",
       " 2003,\n",
       " 2004,\n",
       " 2005,\n",
       " 2006,\n",
       " 2007,\n",
       " 2008,\n",
       " 2009,\n",
       " 2010,\n",
       " 2011,\n",
       " 2012,\n",
       " 2013,\n",
       " 2014,\n",
       " 2015,\n",
       " 2016]"
      ]
     },
     "execution_count": 39,
     "metadata": {},
     "output_type": "execute_result"
    },
    {
     "name": "stdout",
     "output_type": "stream",
     "text": [
      "----\n",
      "wide_Indicator_7.1.1_Series_EG_ELC_ACCS.json\n",
      "Indicator_7.1.2_Series_EG_EGY_CLEAN.json\n",
      "7.1.2 - EG_EGY_CLEAN\n"
     ]
    },
    {
     "data": {
      "text/plain": [
       "[2000, 2005, 2010, 2015, 2016, 2017]"
      ]
     },
     "execution_count": 39,
     "metadata": {},
     "output_type": "execute_result"
    },
    {
     "name": "stdout",
     "output_type": "stream",
     "text": [
      "----\n",
      "wide_Indicator_7.1.2_Series_EG_EGY_CLEAN.json\n",
      "Indicator_7.2.1_Series_EG_FEC_RNEW.json\n",
      "7.2.1 - EG_FEC_RNEW\n"
     ]
    },
    {
     "data": {
      "text/plain": [
       "[2000,\n",
       " 2001,\n",
       " 2002,\n",
       " 2003,\n",
       " 2004,\n",
       " 2005,\n",
       " 2006,\n",
       " 2007,\n",
       " 2008,\n",
       " 2009,\n",
       " 2010,\n",
       " 2011,\n",
       " 2012,\n",
       " 2013,\n",
       " 2014,\n",
       " 2015,\n",
       " 2016]"
      ]
     },
     "execution_count": 39,
     "metadata": {},
     "output_type": "execute_result"
    },
    {
     "name": "stdout",
     "output_type": "stream",
     "text": [
      "----\n",
      "wide_Indicator_7.2.1_Series_EG_FEC_RNEW.json\n",
      "Indicator_7.3.1_Series_EG_EGY_PRIM.json\n",
      "7.3.1 - EG_EGY_PRIM\n"
     ]
    },
    {
     "data": {
      "text/plain": [
       "[2000,\n",
       " 2001,\n",
       " 2002,\n",
       " 2003,\n",
       " 2004,\n",
       " 2005,\n",
       " 2006,\n",
       " 2007,\n",
       " 2008,\n",
       " 2009,\n",
       " 2010,\n",
       " 2011,\n",
       " 2012,\n",
       " 2013,\n",
       " 2014,\n",
       " 2015,\n",
       " 2016]"
      ]
     },
     "execution_count": 39,
     "metadata": {},
     "output_type": "execute_result"
    },
    {
     "name": "stdout",
     "output_type": "stream",
     "text": [
      "----\n",
      "wide_Indicator_7.3.1_Series_EG_EGY_PRIM.json\n",
      "Indicator_8.1.1_Series_NY_GDP_PCAP.json\n",
      "8.1.1 - NY_GDP_PCAP\n"
     ]
    },
    {
     "data": {
      "text/plain": [
       "[2000,\n",
       " 2001,\n",
       " 2002,\n",
       " 2003,\n",
       " 2004,\n",
       " 2005,\n",
       " 2006,\n",
       " 2007,\n",
       " 2008,\n",
       " 2009,\n",
       " 2010,\n",
       " 2011,\n",
       " 2012,\n",
       " 2013,\n",
       " 2014,\n",
       " 2015,\n",
       " 2016,\n",
       " 2017]"
      ]
     },
     "execution_count": 39,
     "metadata": {},
     "output_type": "execute_result"
    },
    {
     "name": "stdout",
     "output_type": "stream",
     "text": [
      "----\n",
      "wide_Indicator_8.1.1_Series_NY_GDP_PCAP.json\n",
      "Indicator_8.2.1_Series_SL_EMP_PCAP.json\n",
      "8.2.1 - SL_EMP_PCAP\n"
     ]
    },
    {
     "data": {
      "text/plain": [
       "[2000,\n",
       " 2001,\n",
       " 2002,\n",
       " 2003,\n",
       " 2004,\n",
       " 2005,\n",
       " 2006,\n",
       " 2007,\n",
       " 2008,\n",
       " 2009,\n",
       " 2010,\n",
       " 2011,\n",
       " 2012,\n",
       " 2013,\n",
       " 2014,\n",
       " 2015,\n",
       " 2016,\n",
       " 2017,\n",
       " 2018]"
      ]
     },
     "execution_count": 39,
     "metadata": {},
     "output_type": "execute_result"
    },
    {
     "name": "stdout",
     "output_type": "stream",
     "text": [
      "----\n",
      "wide_Indicator_8.2.1_Series_SL_EMP_PCAP.json\n",
      "Indicator_8.3.1_Series_SL_ISV_IFRM.json\n",
      "8.3.1 - SL_ISV_IFRM\n"
     ]
    },
    {
     "data": {
      "text/plain": [
       "[2001,\n",
       " 2003,\n",
       " 2004,\n",
       " 2005,\n",
       " 2006,\n",
       " 2007,\n",
       " 2008,\n",
       " 2009,\n",
       " 2010,\n",
       " 2011,\n",
       " 2012,\n",
       " 2013,\n",
       " 2014,\n",
       " 2015,\n",
       " 2016,\n",
       " 2017]"
      ]
     },
     "execution_count": 39,
     "metadata": {},
     "output_type": "execute_result"
    },
    {
     "name": "stdout",
     "output_type": "stream",
     "text": [
      "----\n",
      "wide_Indicator_8.3.1_Series_SL_ISV_IFRM.json\n",
      "Indicator_8.4.2_Series_EN_MAT_DOMCMPT.json\n",
      "8.4.2 - EN_MAT_DOMCMPT\n"
     ]
    },
    {
     "data": {
      "text/plain": [
       "[2000,\n",
       " 2001,\n",
       " 2002,\n",
       " 2003,\n",
       " 2004,\n",
       " 2005,\n",
       " 2006,\n",
       " 2007,\n",
       " 2008,\n",
       " 2009,\n",
       " 2010,\n",
       " 2011,\n",
       " 2012,\n",
       " 2013,\n",
       " 2014,\n",
       " 2015,\n",
       " 2016,\n",
       " 2017]"
      ]
     },
     "execution_count": 39,
     "metadata": {},
     "output_type": "execute_result"
    },
    {
     "name": "stdout",
     "output_type": "stream",
     "text": [
      "----\n",
      "wide_Indicator_8.4.2_Series_EN_MAT_DOMCMPT.json\n",
      "Indicator_8.4.2_Series_EN_MAT_DOMCMPG.json\n",
      "8.4.2 - EN_MAT_DOMCMPG\n"
     ]
    },
    {
     "data": {
      "text/plain": [
       "[2000,\n",
       " 2001,\n",
       " 2002,\n",
       " 2003,\n",
       " 2004,\n",
       " 2005,\n",
       " 2006,\n",
       " 2007,\n",
       " 2008,\n",
       " 2009,\n",
       " 2010,\n",
       " 2011,\n",
       " 2012,\n",
       " 2013,\n",
       " 2014,\n",
       " 2015,\n",
       " 2016,\n",
       " 2017]"
      ]
     },
     "execution_count": 39,
     "metadata": {},
     "output_type": "execute_result"
    },
    {
     "name": "stdout",
     "output_type": "stream",
     "text": [
      "----\n",
      "wide_Indicator_8.4.2_Series_EN_MAT_DOMCMPG.json\n",
      "Indicator_8.4.2_Series_EN_MAT_DOMCMPC.json\n",
      "8.4.2 - EN_MAT_DOMCMPC\n"
     ]
    },
    {
     "data": {
      "text/plain": [
       "[2000,\n",
       " 2001,\n",
       " 2002,\n",
       " 2003,\n",
       " 2004,\n",
       " 2005,\n",
       " 2006,\n",
       " 2007,\n",
       " 2008,\n",
       " 2009,\n",
       " 2010,\n",
       " 2011,\n",
       " 2012,\n",
       " 2013,\n",
       " 2014,\n",
       " 2015,\n",
       " 2016,\n",
       " 2017]"
      ]
     },
     "execution_count": 39,
     "metadata": {},
     "output_type": "execute_result"
    },
    {
     "name": "stdout",
     "output_type": "stream",
     "text": [
      "----\n",
      "wide_Indicator_8.4.2_Series_EN_MAT_DOMCMPC.json\n",
      "Indicator_8.5.1_Series_SL_EMP_AEARN.json\n",
      "8.5.1 - SL_EMP_AEARN\n"
     ]
    },
    {
     "data": {
      "text/plain": [
       "[2000,\n",
       " 2001,\n",
       " 2002,\n",
       " 2003,\n",
       " 2004,\n",
       " 2005,\n",
       " 2006,\n",
       " 2007,\n",
       " 2008,\n",
       " 2009,\n",
       " 2010,\n",
       " 2011,\n",
       " 2012,\n",
       " 2013,\n",
       " 2014,\n",
       " 2015,\n",
       " 2016,\n",
       " 2017]"
      ]
     },
     "execution_count": 39,
     "metadata": {},
     "output_type": "execute_result"
    },
    {
     "name": "stdout",
     "output_type": "stream",
     "text": [
      "----\n",
      "wide_Indicator_8.5.1_Series_SL_EMP_AEARN.json\n",
      "Indicator_8.5.2_Series_SL_TLF_UEM.json\n",
      "8.5.2 - SL_TLF_UEM\n"
     ]
    },
    {
     "data": {
      "text/plain": [
       "[2000,\n",
       " 2001,\n",
       " 2002,\n",
       " 2003,\n",
       " 2004,\n",
       " 2005,\n",
       " 2006,\n",
       " 2007,\n",
       " 2008,\n",
       " 2009,\n",
       " 2010,\n",
       " 2011,\n",
       " 2012,\n",
       " 2013,\n",
       " 2014,\n",
       " 2015,\n",
       " 2016,\n",
       " 2017]"
      ]
     },
     "execution_count": 39,
     "metadata": {},
     "output_type": "execute_result"
    },
    {
     "name": "stdout",
     "output_type": "stream",
     "text": [
      "----\n",
      "wide_Indicator_8.5.2_Series_SL_TLF_UEM.json\n",
      "Indicator_8.5.2_Series_SL_TLF_UEMDIS.json\n",
      "8.5.2 - SL_TLF_UEMDIS\n"
     ]
    },
    {
     "data": {
      "text/plain": [
       "[2005, 2006, 2007, 2008, 2009, 2010, 2011, 2012, 2013, 2014, 2015, 2016, 2017]"
      ]
     },
     "execution_count": 39,
     "metadata": {},
     "output_type": "execute_result"
    },
    {
     "name": "stdout",
     "output_type": "stream",
     "text": [
      "----\n",
      "wide_Indicator_8.5.2_Series_SL_TLF_UEMDIS.json\n",
      "Indicator_8.6.1_Series_SL_TLF_NEET.json\n",
      "8.6.1 - SL_TLF_NEET\n"
     ]
    },
    {
     "data": {
      "text/plain": [
       "[2000,\n",
       " 2001,\n",
       " 2002,\n",
       " 2003,\n",
       " 2004,\n",
       " 2005,\n",
       " 2006,\n",
       " 2007,\n",
       " 2008,\n",
       " 2009,\n",
       " 2010,\n",
       " 2011,\n",
       " 2012,\n",
       " 2013,\n",
       " 2014,\n",
       " 2015,\n",
       " 2016,\n",
       " 2017]"
      ]
     },
     "execution_count": 39,
     "metadata": {},
     "output_type": "execute_result"
    },
    {
     "name": "stdout",
     "output_type": "stream",
     "text": [
      "----\n",
      "wide_Indicator_8.6.1_Series_SL_TLF_NEET.json\n",
      "Indicator_8.7.1_Series_SL_TLF_CHLDEC.json\n",
      "8.7.1 - SL_TLF_CHLDEC\n"
     ]
    },
    {
     "data": {
      "text/plain": [
       "[2010, 2011, 2012, 2013, 2014, 2015, 2016]"
      ]
     },
     "execution_count": 39,
     "metadata": {},
     "output_type": "execute_result"
    },
    {
     "name": "stdout",
     "output_type": "stream",
     "text": [
      "----\n",
      "wide_Indicator_8.7.1_Series_SL_TLF_CHLDEC.json\n",
      "Indicator_8.7.1_Series_SL_TLF_CHLDEA.json\n",
      "8.7.1 - SL_TLF_CHLDEA\n"
     ]
    },
    {
     "data": {
      "text/plain": [
       "[2010, 2011, 2012, 2013, 2014, 2015, 2016]"
      ]
     },
     "execution_count": 39,
     "metadata": {},
     "output_type": "execute_result"
    },
    {
     "name": "stdout",
     "output_type": "stream",
     "text": [
      "----\n",
      "wide_Indicator_8.7.1_Series_SL_TLF_CHLDEA.json\n",
      "Indicator_8.8.1_Series_SL_EMP_FTLINJUR.json\n",
      "8.8.1 - SL_EMP_FTLINJUR\n"
     ]
    },
    {
     "data": {
      "text/plain": [
       "[2000,\n",
       " 2001,\n",
       " 2002,\n",
       " 2003,\n",
       " 2004,\n",
       " 2005,\n",
       " 2006,\n",
       " 2007,\n",
       " 2008,\n",
       " 2009,\n",
       " 2010,\n",
       " 2011,\n",
       " 2012,\n",
       " 2013,\n",
       " 2014,\n",
       " 2015,\n",
       " 2016,\n",
       " 2017]"
      ]
     },
     "execution_count": 39,
     "metadata": {},
     "output_type": "execute_result"
    },
    {
     "name": "stdout",
     "output_type": "stream",
     "text": [
      "----\n",
      "wide_Indicator_8.8.1_Series_SL_EMP_FTLINJUR.json\n",
      "Indicator_8.8.1_Series_SL_EMP_INJUR.json\n",
      "8.8.1 - SL_EMP_INJUR\n"
     ]
    },
    {
     "data": {
      "text/plain": [
       "[2000,\n",
       " 2001,\n",
       " 2002,\n",
       " 2003,\n",
       " 2004,\n",
       " 2005,\n",
       " 2006,\n",
       " 2007,\n",
       " 2008,\n",
       " 2009,\n",
       " 2010,\n",
       " 2011,\n",
       " 2012,\n",
       " 2013,\n",
       " 2014,\n",
       " 2015,\n",
       " 2016,\n",
       " 2017]"
      ]
     },
     "execution_count": 39,
     "metadata": {},
     "output_type": "execute_result"
    },
    {
     "name": "stdout",
     "output_type": "stream",
     "text": [
      "----\n",
      "wide_Indicator_8.8.1_Series_SL_EMP_INJUR.json\n",
      "Indicator_8.10.1_Series_FB_ATM_TOTL.json\n",
      "8.10.1 - FB_ATM_TOTL\n"
     ]
    },
    {
     "data": {
      "text/plain": [
       "[2004,\n",
       " 2005,\n",
       " 2006,\n",
       " 2007,\n",
       " 2008,\n",
       " 2009,\n",
       " 2010,\n",
       " 2011,\n",
       " 2012,\n",
       " 2013,\n",
       " 2014,\n",
       " 2015,\n",
       " 2016,\n",
       " 2017]"
      ]
     },
     "execution_count": 39,
     "metadata": {},
     "output_type": "execute_result"
    },
    {
     "name": "stdout",
     "output_type": "stream",
     "text": [
      "----\n",
      "wide_Indicator_8.10.1_Series_FB_ATM_TOTL.json\n",
      "Indicator_8.10.1_Series_FB_CBK_BRCH.json\n",
      "8.10.1 - FB_CBK_BRCH\n"
     ]
    },
    {
     "data": {
      "text/plain": [
       "[2004,\n",
       " 2005,\n",
       " 2006,\n",
       " 2007,\n",
       " 2008,\n",
       " 2009,\n",
       " 2010,\n",
       " 2011,\n",
       " 2012,\n",
       " 2013,\n",
       " 2014,\n",
       " 2015,\n",
       " 2016,\n",
       " 2017]"
      ]
     },
     "execution_count": 39,
     "metadata": {},
     "output_type": "execute_result"
    },
    {
     "name": "stdout",
     "output_type": "stream",
     "text": [
      "----\n",
      "wide_Indicator_8.10.1_Series_FB_CBK_BRCH.json\n",
      "Indicator_8.10.2_Series_FB_BNK_ACCSS.json\n",
      "8.10.2 - FB_BNK_ACCSS\n"
     ]
    },
    {
     "data": {
      "text/plain": [
       "[2011, 2014, 2017]"
      ]
     },
     "execution_count": 39,
     "metadata": {},
     "output_type": "execute_result"
    },
    {
     "name": "stdout",
     "output_type": "stream",
     "text": [
      "----\n",
      "wide_Indicator_8.10.2_Series_FB_BNK_ACCSS.json\n",
      "Indicator_8.a.1_Series_DC_TOF_TRDCMDL.json\n",
      "8.a.1 - DC_TOF_TRDCMDL\n"
     ]
    },
    {
     "data": {
      "text/plain": [
       "[2005, 2006, 2007, 2008, 2009, 2010, 2011, 2012, 2013, 2014, 2015, 2016]"
      ]
     },
     "execution_count": 39,
     "metadata": {},
     "output_type": "execute_result"
    },
    {
     "name": "stdout",
     "output_type": "stream",
     "text": [
      "----\n",
      "wide_Indicator_8.a.1_Series_DC_TOF_TRDCMDL.json\n",
      "Indicator_8.a.1_Series_DC_TOF_TRDDBMDL.json\n",
      "8.a.1 - DC_TOF_TRDDBMDL\n"
     ]
    },
    {
     "data": {
      "text/plain": [
       "[2006, 2007, 2008, 2009, 2010, 2011, 2012, 2013, 2014, 2015, 2016]"
      ]
     },
     "execution_count": 39,
     "metadata": {},
     "output_type": "execute_result"
    },
    {
     "name": "stdout",
     "output_type": "stream",
     "text": [
      "----\n",
      "wide_Indicator_8.a.1_Series_DC_TOF_TRDDBMDL.json\n",
      "Indicator_8.a.1_Series_DC_TOF_TRDDBML.json\n",
      "8.a.1 - DC_TOF_TRDDBML\n"
     ]
    },
    {
     "data": {
      "text/plain": [
       "[2006, 2007, 2008, 2009, 2010, 2011, 2012, 2013, 2014, 2015, 2016]"
      ]
     },
     "execution_count": 39,
     "metadata": {},
     "output_type": "execute_result"
    },
    {
     "name": "stdout",
     "output_type": "stream",
     "text": [
      "----\n",
      "wide_Indicator_8.a.1_Series_DC_TOF_TRDDBML.json\n",
      "Indicator_8.a.1_Series_DC_TOF_TRDCML.json\n",
      "8.a.1 - DC_TOF_TRDCML\n"
     ]
    },
    {
     "data": {
      "text/plain": [
       "[2005, 2006, 2007, 2008, 2009, 2010, 2011, 2012, 2013, 2014, 2015, 2016]"
      ]
     },
     "execution_count": 39,
     "metadata": {},
     "output_type": "execute_result"
    },
    {
     "name": "stdout",
     "output_type": "stream",
     "text": [
      "----\n",
      "wide_Indicator_8.a.1_Series_DC_TOF_TRDCML.json\n",
      "Indicator_9.1.2_Series_IS_TRP_MAILTKM.json\n",
      "9.1.2 - IS_TRP_MAILTKM\n"
     ]
    },
    {
     "data": {
      "text/plain": [
       "[2016]"
      ]
     },
     "execution_count": 39,
     "metadata": {},
     "output_type": "execute_result"
    },
    {
     "name": "stdout",
     "output_type": "stream",
     "text": [
      "----\n",
      "wide_Indicator_9.1.2_Series_IS_TRP_MAILTKM.json\n",
      "Indicator_9.1.2_Series_IS_RDP_FRGVOL.json\n",
      "9.1.2 - IS_RDP_FRGVOL\n"
     ]
    },
    {
     "data": {
      "text/plain": [
       "[2016]"
      ]
     },
     "execution_count": 39,
     "metadata": {},
     "output_type": "execute_result"
    },
    {
     "name": "stdout",
     "output_type": "stream",
     "text": [
      "----\n",
      "wide_Indicator_9.1.2_Series_IS_RDP_FRGVOL.json\n",
      "Indicator_9.1.2_Series_IS_RDP_PFVOL.json\n",
      "9.1.2 - IS_RDP_PFVOL\n"
     ]
    },
    {
     "data": {
      "text/plain": [
       "[2016]"
      ]
     },
     "execution_count": 39,
     "metadata": {},
     "output_type": "execute_result"
    },
    {
     "name": "stdout",
     "output_type": "stream",
     "text": [
      "----\n",
      "wide_Indicator_9.1.2_Series_IS_RDP_PFVOL.json\n",
      "Indicator_9.2.1_Series_NV_IND_MANFPC.json\n",
      "9.2.1 - NV_IND_MANFPC\n"
     ]
    },
    {
     "data": {
      "text/plain": [
       "[2000,\n",
       " 2001,\n",
       " 2002,\n",
       " 2003,\n",
       " 2004,\n",
       " 2005,\n",
       " 2006,\n",
       " 2007,\n",
       " 2008,\n",
       " 2009,\n",
       " 2010,\n",
       " 2011,\n",
       " 2012,\n",
       " 2013,\n",
       " 2014,\n",
       " 2015,\n",
       " 2016,\n",
       " 2017,\n",
       " 2018]"
      ]
     },
     "execution_count": 39,
     "metadata": {},
     "output_type": "execute_result"
    },
    {
     "name": "stdout",
     "output_type": "stream",
     "text": [
      "----\n",
      "wide_Indicator_9.2.1_Series_NV_IND_MANFPC.json\n",
      "Indicator_9.2.1_Series_NV_IND_MANF.json\n",
      "9.2.1 - NV_IND_MANF\n"
     ]
    },
    {
     "data": {
      "text/plain": [
       "[2000,\n",
       " 2001,\n",
       " 2002,\n",
       " 2003,\n",
       " 2004,\n",
       " 2005,\n",
       " 2006,\n",
       " 2007,\n",
       " 2008,\n",
       " 2009,\n",
       " 2010,\n",
       " 2011,\n",
       " 2012,\n",
       " 2013,\n",
       " 2014,\n",
       " 2015,\n",
       " 2016,\n",
       " 2017,\n",
       " 2018]"
      ]
     },
     "execution_count": 39,
     "metadata": {},
     "output_type": "execute_result"
    },
    {
     "name": "stdout",
     "output_type": "stream",
     "text": [
      "----\n",
      "wide_Indicator_9.2.1_Series_NV_IND_MANF.json\n",
      "Indicator_9.2.2_Series_SL_TLF_MANF.json\n",
      "9.2.2 - SL_TLF_MANF\n"
     ]
    },
    {
     "data": {
      "text/plain": [
       "[2000,\n",
       " 2001,\n",
       " 2002,\n",
       " 2003,\n",
       " 2004,\n",
       " 2005,\n",
       " 2006,\n",
       " 2007,\n",
       " 2008,\n",
       " 2009,\n",
       " 2010,\n",
       " 2011,\n",
       " 2012,\n",
       " 2013,\n",
       " 2014,\n",
       " 2015,\n",
       " 2016,\n",
       " 2017]"
      ]
     },
     "execution_count": 39,
     "metadata": {},
     "output_type": "execute_result"
    },
    {
     "name": "stdout",
     "output_type": "stream",
     "text": [
      "----\n",
      "wide_Indicator_9.2.2_Series_SL_TLF_MANF.json\n",
      "Indicator_9.3.1_Series_NV_IND_SSIS.json\n",
      "9.3.1 - NV_IND_SSIS\n"
     ]
    },
    {
     "data": {
      "text/plain": [
       "[2000,\n",
       " 2001,\n",
       " 2002,\n",
       " 2003,\n",
       " 2004,\n",
       " 2005,\n",
       " 2006,\n",
       " 2007,\n",
       " 2008,\n",
       " 2009,\n",
       " 2010,\n",
       " 2011,\n",
       " 2012,\n",
       " 2013,\n",
       " 2014,\n",
       " 2015,\n",
       " 2016]"
      ]
     },
     "execution_count": 39,
     "metadata": {},
     "output_type": "execute_result"
    },
    {
     "name": "stdout",
     "output_type": "stream",
     "text": [
      "----\n",
      "wide_Indicator_9.3.1_Series_NV_IND_SSIS.json\n",
      "Indicator_9.3.2_Series_FC_ACC_SSID.json\n",
      "9.3.2 - FC_ACC_SSID\n"
     ]
    },
    {
     "data": {
      "text/plain": [
       "[2006, 2007, 2008, 2009, 2010, 2011, 2012, 2013, 2014, 2015, 2016, 2017, 2018]"
      ]
     },
     "execution_count": 39,
     "metadata": {},
     "output_type": "execute_result"
    },
    {
     "name": "stdout",
     "output_type": "stream",
     "text": [
      "----\n",
      "wide_Indicator_9.3.2_Series_FC_ACC_SSID.json\n",
      "Indicator_9.4.1_Series_EN_ATM_CO2.json\n",
      "9.4.1 - EN_ATM_CO2\n"
     ]
    },
    {
     "data": {
      "text/plain": [
       "[2000,\n",
       " 2001,\n",
       " 2002,\n",
       " 2003,\n",
       " 2004,\n",
       " 2005,\n",
       " 2006,\n",
       " 2007,\n",
       " 2008,\n",
       " 2009,\n",
       " 2010,\n",
       " 2011,\n",
       " 2012,\n",
       " 2013,\n",
       " 2014,\n",
       " 2015,\n",
       " 2016]"
      ]
     },
     "execution_count": 39,
     "metadata": {},
     "output_type": "execute_result"
    },
    {
     "name": "stdout",
     "output_type": "stream",
     "text": [
      "----\n",
      "wide_Indicator_9.4.1_Series_EN_ATM_CO2.json\n",
      "Indicator_9.4.1_Series_EN_ATM_CO2MVA.json\n",
      "9.4.1 - EN_ATM_CO2MVA\n"
     ]
    },
    {
     "data": {
      "text/plain": [
       "[2000,\n",
       " 2001,\n",
       " 2002,\n",
       " 2003,\n",
       " 2004,\n",
       " 2005,\n",
       " 2006,\n",
       " 2007,\n",
       " 2008,\n",
       " 2009,\n",
       " 2010,\n",
       " 2011,\n",
       " 2012,\n",
       " 2013,\n",
       " 2014,\n",
       " 2015,\n",
       " 2016]"
      ]
     },
     "execution_count": 39,
     "metadata": {},
     "output_type": "execute_result"
    },
    {
     "name": "stdout",
     "output_type": "stream",
     "text": [
      "----\n",
      "wide_Indicator_9.4.1_Series_EN_ATM_CO2MVA.json\n",
      "Indicator_9.4.1_Series_EN_ATM_CO2GDP.json\n",
      "9.4.1 - EN_ATM_CO2GDP\n"
     ]
    },
    {
     "data": {
      "text/plain": [
       "[2000,\n",
       " 2001,\n",
       " 2002,\n",
       " 2003,\n",
       " 2004,\n",
       " 2005,\n",
       " 2006,\n",
       " 2007,\n",
       " 2008,\n",
       " 2009,\n",
       " 2010,\n",
       " 2011,\n",
       " 2012,\n",
       " 2013,\n",
       " 2014,\n",
       " 2015,\n",
       " 2016]"
      ]
     },
     "execution_count": 39,
     "metadata": {},
     "output_type": "execute_result"
    },
    {
     "name": "stdout",
     "output_type": "stream",
     "text": [
      "----\n",
      "wide_Indicator_9.4.1_Series_EN_ATM_CO2GDP.json\n",
      "Indicator_9.5.1_Series_GB_XPD_RSDV.json\n",
      "9.5.1 - GB_XPD_RSDV\n"
     ]
    },
    {
     "data": {
      "text/plain": [
       "[2000,\n",
       " 2001,\n",
       " 2002,\n",
       " 2003,\n",
       " 2004,\n",
       " 2005,\n",
       " 2006,\n",
       " 2007,\n",
       " 2008,\n",
       " 2009,\n",
       " 2010,\n",
       " 2011,\n",
       " 2012,\n",
       " 2013,\n",
       " 2014,\n",
       " 2015,\n",
       " 2016,\n",
       " 2017]"
      ]
     },
     "execution_count": 39,
     "metadata": {},
     "output_type": "execute_result"
    },
    {
     "name": "stdout",
     "output_type": "stream",
     "text": [
      "----\n",
      "wide_Indicator_9.5.1_Series_GB_XPD_RSDV.json\n",
      "Indicator_9.5.2_Series_GB_POP_SCIERD.json\n",
      "9.5.2 - GB_POP_SCIERD\n"
     ]
    },
    {
     "data": {
      "text/plain": [
       "[2000,\n",
       " 2001,\n",
       " 2002,\n",
       " 2003,\n",
       " 2004,\n",
       " 2005,\n",
       " 2006,\n",
       " 2007,\n",
       " 2008,\n",
       " 2009,\n",
       " 2010,\n",
       " 2011,\n",
       " 2012,\n",
       " 2013,\n",
       " 2014,\n",
       " 2015,\n",
       " 2016,\n",
       " 2017]"
      ]
     },
     "execution_count": 39,
     "metadata": {},
     "output_type": "execute_result"
    },
    {
     "name": "stdout",
     "output_type": "stream",
     "text": [
      "----\n",
      "wide_Indicator_9.5.2_Series_GB_POP_SCIERD.json\n",
      "Indicator_9.a.1_Series_DC_TOF_INFRAL.json\n",
      "9.a.1 - DC_TOF_INFRAL\n"
     ]
    },
    {
     "data": {
      "text/plain": [
       "[2000,\n",
       " 2001,\n",
       " 2002,\n",
       " 2003,\n",
       " 2004,\n",
       " 2005,\n",
       " 2006,\n",
       " 2007,\n",
       " 2008,\n",
       " 2009,\n",
       " 2010,\n",
       " 2011,\n",
       " 2012,\n",
       " 2013,\n",
       " 2014,\n",
       " 2015,\n",
       " 2016]"
      ]
     },
     "execution_count": 39,
     "metadata": {},
     "output_type": "execute_result"
    },
    {
     "name": "stdout",
     "output_type": "stream",
     "text": [
      "----\n",
      "wide_Indicator_9.a.1_Series_DC_TOF_INFRAL.json\n",
      "Indicator_9.b.1_Series_NV_IND_TECH.json\n",
      "9.b.1 - NV_IND_TECH\n"
     ]
    },
    {
     "data": {
      "text/plain": [
       "[2000,\n",
       " 2001,\n",
       " 2002,\n",
       " 2003,\n",
       " 2004,\n",
       " 2005,\n",
       " 2006,\n",
       " 2007,\n",
       " 2008,\n",
       " 2009,\n",
       " 2010,\n",
       " 2011,\n",
       " 2012,\n",
       " 2013,\n",
       " 2014,\n",
       " 2015,\n",
       " 2016]"
      ]
     },
     "execution_count": 39,
     "metadata": {},
     "output_type": "execute_result"
    },
    {
     "name": "stdout",
     "output_type": "stream",
     "text": [
      "----\n",
      "wide_Indicator_9.b.1_Series_NV_IND_TECH.json\n",
      "Indicator_9.c.1_Series_IT_MOB_NTWK.json\n",
      "9.c.1 - IT_MOB_NTWK\n"
     ]
    },
    {
     "data": {
      "text/plain": [
       "[2000,\n",
       " 2001,\n",
       " 2002,\n",
       " 2003,\n",
       " 2004,\n",
       " 2005,\n",
       " 2006,\n",
       " 2007,\n",
       " 2008,\n",
       " 2009,\n",
       " 2010,\n",
       " 2011,\n",
       " 2012,\n",
       " 2013,\n",
       " 2014,\n",
       " 2015,\n",
       " 2016,\n",
       " 2017]"
      ]
     },
     "execution_count": 39,
     "metadata": {},
     "output_type": "execute_result"
    },
    {
     "name": "stdout",
     "output_type": "stream",
     "text": [
      "----\n",
      "wide_Indicator_9.c.1_Series_IT_MOB_NTWK.json\n",
      "Indicator_10.1.1_Series_SI_HEI_TOTL.json\n",
      "10.1.1 - SI_HEI_TOTL\n"
     ]
    },
    {
     "data": {
      "text/plain": [
       "[2010, 2011, 2012, 2013, 2014, 2015, 2016]"
      ]
     },
     "execution_count": 39,
     "metadata": {},
     "output_type": "execute_result"
    },
    {
     "name": "stdout",
     "output_type": "stream",
     "text": [
      "----\n",
      "wide_Indicator_10.1.1_Series_SI_HEI_TOTL.json\n",
      "Indicator_10.1.1_Series_SI_HEI_BTN40.json\n",
      "10.1.1 - SI_HEI_BTN40\n"
     ]
    },
    {
     "data": {
      "text/plain": [
       "[2010, 2011, 2012, 2013, 2014, 2015, 2016]"
      ]
     },
     "execution_count": 39,
     "metadata": {},
     "output_type": "execute_result"
    },
    {
     "name": "stdout",
     "output_type": "stream",
     "text": [
      "----\n",
      "wide_Indicator_10.1.1_Series_SI_HEI_BTN40.json\n",
      "Indicator_10.4.1_Series_SL_EMP_GTOTL.json\n",
      "10.4.1 - SL_EMP_GTOTL\n"
     ]
    },
    {
     "data": {
      "text/plain": [
       "[2000,\n",
       " 2001,\n",
       " 2002,\n",
       " 2003,\n",
       " 2004,\n",
       " 2005,\n",
       " 2006,\n",
       " 2007,\n",
       " 2008,\n",
       " 2009,\n",
       " 2010,\n",
       " 2011,\n",
       " 2012,\n",
       " 2013,\n",
       " 2014,\n",
       " 2015,\n",
       " 2016,\n",
       " 2017,\n",
       " 2018]"
      ]
     },
     "execution_count": 39,
     "metadata": {},
     "output_type": "execute_result"
    },
    {
     "name": "stdout",
     "output_type": "stream",
     "text": [
      "----\n",
      "wide_Indicator_10.4.1_Series_SL_EMP_GTOTL.json\n",
      "Indicator_10.5.1_Series_FI_FSI_FSANL.json\n",
      "10.5.1 - FI_FSI_FSANL\n"
     ]
    },
    {
     "data": {
      "text/plain": [
       "[2000,\n",
       " 2001,\n",
       " 2002,\n",
       " 2003,\n",
       " 2004,\n",
       " 2005,\n",
       " 2006,\n",
       " 2007,\n",
       " 2008,\n",
       " 2009,\n",
       " 2010,\n",
       " 2011,\n",
       " 2012,\n",
       " 2013,\n",
       " 2014,\n",
       " 2015,\n",
       " 2016,\n",
       " 2017,\n",
       " 2018]"
      ]
     },
     "execution_count": 39,
     "metadata": {},
     "output_type": "execute_result"
    },
    {
     "name": "stdout",
     "output_type": "stream",
     "text": [
      "----\n",
      "wide_Indicator_10.5.1_Series_FI_FSI_FSANL.json\n",
      "Indicator_10.5.1_Series_FI_FSI_FSERA.json\n",
      "10.5.1 - FI_FSI_FSERA\n"
     ]
    },
    {
     "data": {
      "text/plain": [
       "[2000,\n",
       " 2001,\n",
       " 2002,\n",
       " 2003,\n",
       " 2004,\n",
       " 2005,\n",
       " 2006,\n",
       " 2007,\n",
       " 2008,\n",
       " 2009,\n",
       " 2010,\n",
       " 2011,\n",
       " 2012,\n",
       " 2013,\n",
       " 2014,\n",
       " 2015,\n",
       " 2016,\n",
       " 2017,\n",
       " 2018]"
      ]
     },
     "execution_count": 39,
     "metadata": {},
     "output_type": "execute_result"
    },
    {
     "name": "stdout",
     "output_type": "stream",
     "text": [
      "----\n",
      "wide_Indicator_10.5.1_Series_FI_FSI_FSERA.json\n",
      "Indicator_10.5.1_Series_FI_FSI_FSKA.json\n",
      "10.5.1 - FI_FSI_FSKA\n"
     ]
    },
    {
     "data": {
      "text/plain": [
       "[2000,\n",
       " 2001,\n",
       " 2002,\n",
       " 2003,\n",
       " 2004,\n",
       " 2005,\n",
       " 2006,\n",
       " 2007,\n",
       " 2008,\n",
       " 2009,\n",
       " 2010,\n",
       " 2011,\n",
       " 2012,\n",
       " 2013,\n",
       " 2014,\n",
       " 2015,\n",
       " 2016,\n",
       " 2017,\n",
       " 2018]"
      ]
     },
     "execution_count": 39,
     "metadata": {},
     "output_type": "execute_result"
    },
    {
     "name": "stdout",
     "output_type": "stream",
     "text": [
      "----\n",
      "wide_Indicator_10.5.1_Series_FI_FSI_FSKA.json\n",
      "Indicator_10.5.1_Series_FI_FSI_FSKNL.json\n",
      "10.5.1 - FI_FSI_FSKNL\n"
     ]
    },
    {
     "data": {
      "text/plain": [
       "[2000,\n",
       " 2001,\n",
       " 2002,\n",
       " 2003,\n",
       " 2004,\n",
       " 2005,\n",
       " 2006,\n",
       " 2007,\n",
       " 2008,\n",
       " 2009,\n",
       " 2010,\n",
       " 2011,\n",
       " 2012,\n",
       " 2013,\n",
       " 2014,\n",
       " 2015,\n",
       " 2016,\n",
       " 2017,\n",
       " 2018]"
      ]
     },
     "execution_count": 39,
     "metadata": {},
     "output_type": "execute_result"
    },
    {
     "name": "stdout",
     "output_type": "stream",
     "text": [
      "----\n",
      "wide_Indicator_10.5.1_Series_FI_FSI_FSKNL.json\n",
      "Indicator_10.5.1_Series_FI_FSI_FSKRTC.json\n",
      "10.5.1 - FI_FSI_FSKRTC\n"
     ]
    },
    {
     "data": {
      "text/plain": [
       "[2000,\n",
       " 2001,\n",
       " 2002,\n",
       " 2003,\n",
       " 2004,\n",
       " 2005,\n",
       " 2006,\n",
       " 2007,\n",
       " 2008,\n",
       " 2009,\n",
       " 2010,\n",
       " 2011,\n",
       " 2012,\n",
       " 2013,\n",
       " 2014,\n",
       " 2015,\n",
       " 2016,\n",
       " 2017,\n",
       " 2018]"
      ]
     },
     "execution_count": 39,
     "metadata": {},
     "output_type": "execute_result"
    },
    {
     "name": "stdout",
     "output_type": "stream",
     "text": [
      "----\n",
      "wide_Indicator_10.5.1_Series_FI_FSI_FSKRTC.json\n",
      "Indicator_10.5.1_Series_FI_FSI_FSLS.json\n",
      "10.5.1 - FI_FSI_FSLS\n"
     ]
    },
    {
     "data": {
      "text/plain": [
       "[2000,\n",
       " 2001,\n",
       " 2002,\n",
       " 2003,\n",
       " 2004,\n",
       " 2005,\n",
       " 2006,\n",
       " 2007,\n",
       " 2008,\n",
       " 2009,\n",
       " 2010,\n",
       " 2011,\n",
       " 2012,\n",
       " 2013,\n",
       " 2014,\n",
       " 2015,\n",
       " 2016,\n",
       " 2017,\n",
       " 2018]"
      ]
     },
     "execution_count": 39,
     "metadata": {},
     "output_type": "execute_result"
    },
    {
     "name": "stdout",
     "output_type": "stream",
     "text": [
      "----\n",
      "wide_Indicator_10.5.1_Series_FI_FSI_FSLS.json\n",
      "Indicator_10.5.1_Series_FI_FSI_FSSNO.json\n",
      "10.5.1 - FI_FSI_FSSNO\n"
     ]
    },
    {
     "data": {
      "text/plain": [
       "[2000,\n",
       " 2001,\n",
       " 2002,\n",
       " 2003,\n",
       " 2004,\n",
       " 2005,\n",
       " 2006,\n",
       " 2007,\n",
       " 2008,\n",
       " 2009,\n",
       " 2010,\n",
       " 2011,\n",
       " 2012,\n",
       " 2013,\n",
       " 2014,\n",
       " 2015,\n",
       " 2016,\n",
       " 2017,\n",
       " 2018]"
      ]
     },
     "execution_count": 39,
     "metadata": {},
     "output_type": "execute_result"
    },
    {
     "name": "stdout",
     "output_type": "stream",
     "text": [
      "----\n",
      "wide_Indicator_10.5.1_Series_FI_FSI_FSSNO.json\n",
      "Indicator_10.6.1_Series_SG_INT_MBRDEV.json\n",
      "10.6.1 - SG_INT_MBRDEV\n"
     ]
    },
    {
     "data": {
      "text/plain": [
       "[2000, 2005, 2010, 2014, 2015, 2016, 2017]"
      ]
     },
     "execution_count": 39,
     "metadata": {},
     "output_type": "execute_result"
    },
    {
     "name": "stdout",
     "output_type": "stream",
     "text": [
      "----\n",
      "wide_Indicator_10.6.1_Series_SG_INT_MBRDEV.json\n",
      "Indicator_10.6.1_Series_SG_INT_VRTDEV.json\n",
      "10.6.1 - SG_INT_VRTDEV\n"
     ]
    },
    {
     "data": {
      "text/plain": [
       "[2000, 2005, 2010, 2014, 2015, 2016, 2017]"
      ]
     },
     "execution_count": 39,
     "metadata": {},
     "output_type": "execute_result"
    },
    {
     "name": "stdout",
     "output_type": "stream",
     "text": [
      "----\n",
      "wide_Indicator_10.6.1_Series_SG_INT_VRTDEV.json\n",
      "Indicator_10.a.1_Series_TM_TRF_ZERO.json\n",
      "10.a.1 - TM_TRF_ZERO\n"
     ]
    },
    {
     "data": {
      "text/plain": [
       "[]"
      ]
     },
     "execution_count": 39,
     "metadata": {},
     "output_type": "execute_result"
    },
    {
     "name": "stdout",
     "output_type": "stream",
     "text": [
      "----\n",
      "wide_Indicator_10.a.1_Series_TM_TRF_ZERO.json\n",
      "Indicator_10.b.1_Series_DC_TRF_TOTDL.json\n",
      "10.b.1 - DC_TRF_TOTDL\n"
     ]
    },
    {
     "data": {
      "text/plain": [
       "[2000,\n",
       " 2001,\n",
       " 2002,\n",
       " 2003,\n",
       " 2004,\n",
       " 2005,\n",
       " 2006,\n",
       " 2007,\n",
       " 2008,\n",
       " 2009,\n",
       " 2010,\n",
       " 2011,\n",
       " 2012,\n",
       " 2013,\n",
       " 2014,\n",
       " 2015,\n",
       " 2016]"
      ]
     },
     "execution_count": 39,
     "metadata": {},
     "output_type": "execute_result"
    },
    {
     "name": "stdout",
     "output_type": "stream",
     "text": [
      "----\n",
      "wide_Indicator_10.b.1_Series_DC_TRF_TOTDL.json\n",
      "Indicator_10.b.1_Series_DC_TRF_TOTL.json\n",
      "10.b.1 - DC_TRF_TOTL\n"
     ]
    },
    {
     "data": {
      "text/plain": [
       "[2000,\n",
       " 2001,\n",
       " 2002,\n",
       " 2003,\n",
       " 2004,\n",
       " 2005,\n",
       " 2006,\n",
       " 2007,\n",
       " 2008,\n",
       " 2009,\n",
       " 2010,\n",
       " 2011,\n",
       " 2012,\n",
       " 2013,\n",
       " 2014,\n",
       " 2015,\n",
       " 2016]"
      ]
     },
     "execution_count": 39,
     "metadata": {},
     "output_type": "execute_result"
    },
    {
     "name": "stdout",
     "output_type": "stream",
     "text": [
      "----\n",
      "wide_Indicator_10.b.1_Series_DC_TRF_TOTL.json\n",
      "Indicator_10.b.1_Series_DC_TRF_TFDV.json\n",
      "10.b.1 - DC_TRF_TFDV\n"
     ]
    },
    {
     "data": {
      "text/plain": [
       "[2000,\n",
       " 2001,\n",
       " 2002,\n",
       " 2003,\n",
       " 2004,\n",
       " 2005,\n",
       " 2006,\n",
       " 2007,\n",
       " 2008,\n",
       " 2009,\n",
       " 2010,\n",
       " 2011,\n",
       " 2012,\n",
       " 2013,\n",
       " 2014,\n",
       " 2015,\n",
       " 2016]"
      ]
     },
     "execution_count": 39,
     "metadata": {},
     "output_type": "execute_result"
    },
    {
     "name": "stdout",
     "output_type": "stream",
     "text": [
      "----\n",
      "wide_Indicator_10.b.1_Series_DC_TRF_TFDV.json\n",
      "Indicator_10.c.1_Series_SI_RMT_COST.json\n",
      "10.c.1 - SI_RMT_COST\n"
     ]
    },
    {
     "data": {
      "text/plain": [
       "[2011, 2015, 2017]"
      ]
     },
     "execution_count": 39,
     "metadata": {},
     "output_type": "execute_result"
    },
    {
     "name": "stdout",
     "output_type": "stream",
     "text": [
      "----\n",
      "wide_Indicator_10.c.1_Series_SI_RMT_COST.json\n",
      "Indicator_11.1.1_Series_EN_LND_SLUM.json\n",
      "11.1.1 - EN_LND_SLUM\n"
     ]
    },
    {
     "data": {
      "text/plain": [
       "[1990, 1995, 2000, 2005, 2010, 2014]"
      ]
     },
     "execution_count": 39,
     "metadata": {},
     "output_type": "execute_result"
    },
    {
     "name": "stdout",
     "output_type": "stream",
     "text": [
      "----\n",
      "wide_Indicator_11.1.1_Series_EN_LND_SLUM.json\n",
      "Indicator_11.5.1_Series_VC_DSR_MISS.json\n",
      "11.5.1 - VC_DSR_MISS\n"
     ]
    },
    {
     "data": {
      "text/plain": [
       "[2005, 2006, 2007, 2008, 2009, 2010, 2011, 2012, 2013, 2014, 2015, 2016, 2017]"
      ]
     },
     "execution_count": 39,
     "metadata": {},
     "output_type": "execute_result"
    },
    {
     "name": "stdout",
     "output_type": "stream",
     "text": [
      "----\n",
      "wide_Indicator_11.5.1_Series_VC_DSR_MISS.json\n",
      "Indicator_11.5.1_Series_VC_DSR_AFFCT.json\n",
      "11.5.1 - VC_DSR_AFFCT\n"
     ]
    },
    {
     "data": {
      "text/plain": [
       "[2005, 2006, 2007, 2008, 2009, 2010, 2011, 2012, 2013, 2014, 2015, 2016, 2017]"
      ]
     },
     "execution_count": 39,
     "metadata": {},
     "output_type": "execute_result"
    },
    {
     "name": "stdout",
     "output_type": "stream",
     "text": [
      "----\n",
      "wide_Indicator_11.5.1_Series_VC_DSR_AFFCT.json\n",
      "Indicator_11.5.1_Series_VC_DSR_MORT.json\n",
      "11.5.1 - VC_DSR_MORT\n"
     ]
    },
    {
     "data": {
      "text/plain": [
       "[2005, 2006, 2007, 2008, 2009, 2010, 2011, 2012, 2013, 2014, 2015, 2016, 2017]"
      ]
     },
     "execution_count": 39,
     "metadata": {},
     "output_type": "execute_result"
    },
    {
     "name": "stdout",
     "output_type": "stream",
     "text": [
      "----\n",
      "wide_Indicator_11.5.1_Series_VC_DSR_MORT.json\n",
      "Indicator_11.5.1_Series_VC_DSR_MTMP.json\n",
      "11.5.1 - VC_DSR_MTMP\n"
     ]
    },
    {
     "data": {
      "text/plain": [
       "[2005, 2006, 2007, 2008, 2009, 2010, 2011, 2012, 2013, 2014, 2015, 2016, 2017]"
      ]
     },
     "execution_count": 39,
     "metadata": {},
     "output_type": "execute_result"
    },
    {
     "name": "stdout",
     "output_type": "stream",
     "text": [
      "----\n",
      "wide_Indicator_11.5.1_Series_VC_DSR_MTMP.json\n",
      "Indicator_11.5.1_Series_VC_DSR_MTMN.json\n",
      "11.5.1 - VC_DSR_MTMN\n"
     ]
    },
    {
     "data": {
      "text/plain": [
       "[2005, 2006, 2007, 2008, 2009, 2010, 2011, 2012, 2013, 2014, 2015, 2016, 2017]"
      ]
     },
     "execution_count": 39,
     "metadata": {},
     "output_type": "execute_result"
    },
    {
     "name": "stdout",
     "output_type": "stream",
     "text": [
      "----\n",
      "wide_Indicator_11.5.1_Series_VC_DSR_MTMN.json\n",
      "Indicator_11.5.1_Series_VC_DSR_MMHN.json\n",
      "11.5.1 - VC_DSR_MMHN\n"
     ]
    },
    {
     "data": {
      "text/plain": [
       "[2005, 2006, 2007, 2008, 2009, 2010, 2011, 2012, 2013, 2014, 2015, 2016, 2017]"
      ]
     },
     "execution_count": 39,
     "metadata": {},
     "output_type": "execute_result"
    },
    {
     "name": "stdout",
     "output_type": "stream",
     "text": [
      "----\n",
      "wide_Indicator_11.5.1_Series_VC_DSR_MMHN.json\n",
      "Indicator_11.5.1_Series_VC_DSR_DAFF.json\n",
      "11.5.1 - VC_DSR_DAFF\n"
     ]
    },
    {
     "data": {
      "text/plain": [
       "[2005, 2006, 2007, 2008, 2009, 2010, 2011, 2012, 2013, 2014, 2015, 2016, 2017]"
      ]
     },
     "execution_count": 39,
     "metadata": {},
     "output_type": "execute_result"
    },
    {
     "name": "stdout",
     "output_type": "stream",
     "text": [
      "----\n",
      "wide_Indicator_11.5.1_Series_VC_DSR_DAFF.json\n",
      "Indicator_11.5.1_Series_VC_DSR_IJILN.json\n",
      "11.5.1 - VC_DSR_IJILN\n"
     ]
    },
    {
     "data": {
      "text/plain": [
       "[2005, 2006, 2007, 2008, 2009, 2010, 2011, 2012, 2013, 2014, 2015, 2016, 2017]"
      ]
     },
     "execution_count": 39,
     "metadata": {},
     "output_type": "execute_result"
    },
    {
     "name": "stdout",
     "output_type": "stream",
     "text": [
      "----\n",
      "wide_Indicator_11.5.1_Series_VC_DSR_IJILN.json\n",
      "Indicator_11.5.1_Series_VC_DSR_PDAN.json\n",
      "11.5.1 - VC_DSR_PDAN\n"
     ]
    },
    {
     "data": {
      "text/plain": [
       "[2005, 2006, 2007, 2008, 2009, 2010, 2011, 2012, 2013, 2014, 2015, 2016, 2017]"
      ]
     },
     "execution_count": 39,
     "metadata": {},
     "output_type": "execute_result"
    },
    {
     "name": "stdout",
     "output_type": "stream",
     "text": [
      "----\n",
      "wide_Indicator_11.5.1_Series_VC_DSR_PDAN.json\n",
      "Indicator_11.5.1_Series_VC_DSR_DADN.json\n",
      "11.5.1 - VC_DSR_DADN\n"
     ]
    },
    {
     "data": {
      "text/plain": [
       "[2005, 2006, 2007, 2008, 2009, 2010, 2011, 2012, 2013, 2014, 2015, 2016, 2017]"
      ]
     },
     "execution_count": 39,
     "metadata": {},
     "output_type": "execute_result"
    },
    {
     "name": "stdout",
     "output_type": "stream",
     "text": [
      "----\n",
      "wide_Indicator_11.5.1_Series_VC_DSR_DADN.json\n",
      "Indicator_11.5.1_Series_VC_DSR_DDHN.json\n",
      "11.5.1 - VC_DSR_DDHN\n"
     ]
    },
    {
     "data": {
      "text/plain": [
       "[2005, 2006, 2007, 2008, 2009, 2010, 2011, 2012, 2013, 2014, 2015, 2016, 2017]"
      ]
     },
     "execution_count": 39,
     "metadata": {},
     "output_type": "execute_result"
    },
    {
     "name": "stdout",
     "output_type": "stream",
     "text": [
      "----\n",
      "wide_Indicator_11.5.1_Series_VC_DSR_DDHN.json\n",
      "Indicator_11.5.1_Series_VC_DSR_PDYN.json\n",
      "11.5.1 - VC_DSR_PDYN\n"
     ]
    },
    {
     "data": {
      "text/plain": [
       "[2005, 2006, 2007, 2008, 2009, 2010, 2011, 2012, 2013, 2014, 2015, 2016, 2017]"
      ]
     },
     "execution_count": 39,
     "metadata": {},
     "output_type": "execute_result"
    },
    {
     "name": "stdout",
     "output_type": "stream",
     "text": [
      "----\n",
      "wide_Indicator_11.5.1_Series_VC_DSR_PDYN.json\n",
      "Indicator_11.5.1_Series_VC_DSR_DYDN.json\n",
      "11.5.1 - VC_DSR_DYDN\n"
     ]
    },
    {
     "data": {
      "text/plain": [
       "[2005, 2006, 2007, 2008, 2009, 2010, 2011, 2012, 2013, 2014, 2015, 2016, 2017]"
      ]
     },
     "execution_count": 39,
     "metadata": {},
     "output_type": "execute_result"
    },
    {
     "name": "stdout",
     "output_type": "stream",
     "text": [
      "----\n",
      "wide_Indicator_11.5.1_Series_VC_DSR_DYDN.json\n",
      "Indicator_11.5.1_Series_VC_DSR_PDLN.json\n",
      "11.5.1 - VC_DSR_PDLN\n"
     ]
    },
    {
     "data": {
      "text/plain": [
       "[2005, 2006, 2007, 2008, 2009, 2010, 2011, 2012, 2013, 2014, 2015, 2016, 2017]"
      ]
     },
     "execution_count": 39,
     "metadata": {},
     "output_type": "execute_result"
    },
    {
     "name": "stdout",
     "output_type": "stream",
     "text": [
      "----\n",
      "wide_Indicator_11.5.1_Series_VC_DSR_PDLN.json\n",
      "Indicator_11.5.1_Series_VC_DSR_DYHN.json\n",
      "11.5.1 - VC_DSR_DYHN\n"
     ]
    },
    {
     "data": {
      "text/plain": [
       "[2005, 2006, 2007, 2008, 2009, 2010, 2011, 2012, 2013, 2014, 2015, 2016, 2017]"
      ]
     },
     "execution_count": 39,
     "metadata": {},
     "output_type": "execute_result"
    },
    {
     "name": "stdout",
     "output_type": "stream",
     "text": [
      "----\n",
      "wide_Indicator_11.5.1_Series_VC_DSR_DYHN.json\n",
      "Indicator_11.5.2_Series_VC_DSR_GDPLS.json\n",
      "11.5.2 - VC_DSR_GDPLS\n"
     ]
    },
    {
     "data": {
      "text/plain": [
       "[2005, 2006, 2007, 2008, 2009, 2010, 2011, 2012, 2013, 2014, 2015, 2016, 2017]"
      ]
     },
     "execution_count": 39,
     "metadata": {},
     "output_type": "execute_result"
    },
    {
     "name": "stdout",
     "output_type": "stream",
     "text": [
      "----\n",
      "wide_Indicator_11.5.2_Series_VC_DSR_GDPLS.json\n",
      "Indicator_11.5.2_Series_VC_DSR_LSGP.json\n",
      "11.5.2 - VC_DSR_LSGP\n"
     ]
    },
    {
     "data": {
      "text/plain": [
       "[2005, 2006, 2007, 2008, 2009, 2010, 2011, 2012, 2013, 2014, 2015, 2016, 2017]"
      ]
     },
     "execution_count": 39,
     "metadata": {},
     "output_type": "execute_result"
    },
    {
     "name": "stdout",
     "output_type": "stream",
     "text": [
      "----\n",
      "wide_Indicator_11.5.2_Series_VC_DSR_LSGP.json\n",
      "Indicator_11.5.2_Series_VC_DSR_AGLN.json\n",
      "11.5.2 - VC_DSR_AGLN\n"
     ]
    },
    {
     "data": {
      "text/plain": [
       "[2005, 2006, 2007, 2008, 2009, 2010, 2011, 2012, 2013, 2014, 2015, 2016, 2017]"
      ]
     },
     "execution_count": 39,
     "metadata": {},
     "output_type": "execute_result"
    },
    {
     "name": "stdout",
     "output_type": "stream",
     "text": [
      "----\n",
      "wide_Indicator_11.5.2_Series_VC_DSR_AGLN.json\n",
      "Indicator_11.5.2_Series_VC_DSR_AGLH.json\n",
      "11.5.2 - VC_DSR_AGLH\n"
     ]
    },
    {
     "data": {
      "text/plain": [
       "[2005, 2006, 2007, 2008, 2009, 2010, 2011, 2012, 2013, 2014, 2015, 2016, 2017]"
      ]
     },
     "execution_count": 39,
     "metadata": {},
     "output_type": "execute_result"
    },
    {
     "name": "stdout",
     "output_type": "stream",
     "text": [
      "----\n",
      "wide_Indicator_11.5.2_Series_VC_DSR_AGLH.json\n",
      "Indicator_11.5.2_Series_VC_DSR_HOLN.json\n",
      "11.5.2 - VC_DSR_HOLN\n"
     ]
    },
    {
     "data": {
      "text/plain": [
       "[2005, 2006, 2007, 2008, 2009, 2010, 2011, 2012, 2013, 2014, 2015, 2016, 2017]"
      ]
     },
     "execution_count": 39,
     "metadata": {},
     "output_type": "execute_result"
    },
    {
     "name": "stdout",
     "output_type": "stream",
     "text": [
      "----\n",
      "wide_Indicator_11.5.2_Series_VC_DSR_HOLN.json\n",
      "Indicator_11.5.2_Series_VC_DSR_HOLH.json\n",
      "11.5.2 - VC_DSR_HOLH\n"
     ]
    },
    {
     "data": {
      "text/plain": [
       "[2005, 2006, 2007, 2008, 2009, 2010, 2011, 2012, 2013, 2014, 2015, 2016, 2017]"
      ]
     },
     "execution_count": 39,
     "metadata": {},
     "output_type": "execute_result"
    },
    {
     "name": "stdout",
     "output_type": "stream",
     "text": [
      "----\n",
      "wide_Indicator_11.5.2_Series_VC_DSR_HOLH.json\n",
      "Indicator_11.5.2_Series_VC_DSR_CILN.json\n",
      "11.5.2 - VC_DSR_CILN\n"
     ]
    },
    {
     "data": {
      "text/plain": [
       "[2005, 2006, 2007, 2008, 2009, 2010, 2011, 2012, 2013, 2014, 2015, 2016, 2017]"
      ]
     },
     "execution_count": 39,
     "metadata": {},
     "output_type": "execute_result"
    },
    {
     "name": "stdout",
     "output_type": "stream",
     "text": [
      "----\n",
      "wide_Indicator_11.5.2_Series_VC_DSR_CILN.json\n",
      "Indicator_11.5.2_Series_VC_DSR_CHLN.json\n",
      "11.5.2 - VC_DSR_CHLN\n"
     ]
    },
    {
     "data": {
      "text/plain": [
       "[2005, 2006, 2007, 2008, 2009, 2010, 2011, 2012, 2013, 2014, 2015, 2016, 2017]"
      ]
     },
     "execution_count": 39,
     "metadata": {},
     "output_type": "execute_result"
    },
    {
     "name": "stdout",
     "output_type": "stream",
     "text": [
      "----\n",
      "wide_Indicator_11.5.2_Series_VC_DSR_CHLN.json\n",
      "Indicator_11.5.2_Series_VC_DSR_CDAN.json\n",
      "11.5.2 - VC_DSR_CDAN\n"
     ]
    },
    {
     "data": {
      "text/plain": [
       "[2005, 2006, 2007, 2008, 2009, 2010, 2011, 2012, 2013, 2014, 2015, 2016, 2017]"
      ]
     },
     "execution_count": 39,
     "metadata": {},
     "output_type": "execute_result"
    },
    {
     "name": "stdout",
     "output_type": "stream",
     "text": [
      "----\n",
      "wide_Indicator_11.5.2_Series_VC_DSR_CDAN.json\n",
      "Indicator_11.5.2_Series_VC_DSR_HFDN.json\n",
      "11.5.2 - VC_DSR_HFDN\n"
     ]
    },
    {
     "data": {
      "text/plain": [
       "[2005, 2006, 2007, 2008, 2009, 2010, 2011, 2012, 2013, 2014, 2015, 2016, 2017]"
      ]
     },
     "execution_count": 39,
     "metadata": {},
     "output_type": "execute_result"
    },
    {
     "name": "stdout",
     "output_type": "stream",
     "text": [
      "----\n",
      "wide_Indicator_11.5.2_Series_VC_DSR_HFDN.json\n",
      "Indicator_11.5.2_Series_VC_DSR_EFDN.json\n",
      "11.5.2 - VC_DSR_EFDN\n"
     ]
    },
    {
     "data": {
      "text/plain": [
       "[2005, 2006, 2007, 2008, 2009, 2010, 2011, 2012, 2013, 2014, 2015, 2016, 2017]"
      ]
     },
     "execution_count": 39,
     "metadata": {},
     "output_type": "execute_result"
    },
    {
     "name": "stdout",
     "output_type": "stream",
     "text": [
      "----\n",
      "wide_Indicator_11.5.2_Series_VC_DSR_EFDN.json\n",
      "Indicator_11.5.2_Series_VC_DSR_CDYN.json\n",
      "11.5.2 - VC_DSR_CDYN\n"
     ]
    },
    {
     "data": {
      "text/plain": [
       "[2005, 2006, 2007, 2008, 2009, 2010, 2011, 2012, 2013, 2014, 2015, 2016, 2017]"
      ]
     },
     "execution_count": 39,
     "metadata": {},
     "output_type": "execute_result"
    },
    {
     "name": "stdout",
     "output_type": "stream",
     "text": [
      "----\n",
      "wide_Indicator_11.5.2_Series_VC_DSR_CDYN.json\n",
      "Indicator_11.5.2_Series_VC_DSR_BSDN.json\n",
      "11.5.2 - VC_DSR_BSDN\n"
     ]
    },
    {
     "data": {
      "text/plain": [
       "[2005, 2006, 2007, 2008, 2009, 2010, 2011, 2012, 2013, 2014, 2015, 2016, 2017]"
      ]
     },
     "execution_count": 39,
     "metadata": {},
     "output_type": "execute_result"
    },
    {
     "name": "stdout",
     "output_type": "stream",
     "text": [
      "----\n",
      "wide_Indicator_11.5.2_Series_VC_DSR_BSDN.json\n",
      "Indicator_11.5.2_Series_VC_DSR_ESDN.json\n",
      "11.5.2 - VC_DSR_ESDN\n"
     ]
    },
    {
     "data": {
      "text/plain": [
       "[2005, 2006, 2007, 2008, 2009, 2010, 2011, 2012, 2013, 2014, 2015, 2016, 2017]"
      ]
     },
     "execution_count": 39,
     "metadata": {},
     "output_type": "execute_result"
    },
    {
     "name": "stdout",
     "output_type": "stream",
     "text": [
      "----\n",
      "wide_Indicator_11.5.2_Series_VC_DSR_ESDN.json\n",
      "Indicator_11.5.2_Series_VC_DSR_HSDN.json\n",
      "11.5.2 - VC_DSR_HSDN\n"
     ]
    },
    {
     "data": {
      "text/plain": [
       "[2005, 2006, 2007, 2008, 2009, 2010, 2011, 2012, 2013, 2014, 2015, 2016, 2017]"
      ]
     },
     "execution_count": 39,
     "metadata": {},
     "output_type": "execute_result"
    },
    {
     "name": "stdout",
     "output_type": "stream",
     "text": [
      "----\n",
      "wide_Indicator_11.5.2_Series_VC_DSR_HSDN.json\n",
      "Indicator_11.5.2_Series_VC_DSR_OBDN.json\n",
      "11.5.2 - VC_DSR_OBDN\n"
     ]
    },
    {
     "data": {
      "text/plain": [
       "[2005, 2006, 2007, 2008, 2009, 2010, 2011, 2012, 2013, 2014, 2015, 2016, 2017]"
      ]
     },
     "execution_count": 39,
     "metadata": {},
     "output_type": "execute_result"
    },
    {
     "name": "stdout",
     "output_type": "stream",
     "text": [
      "----\n",
      "wide_Indicator_11.5.2_Series_VC_DSR_OBDN.json\n",
      "Indicator_11.6.1_Series_EN_REF_WASCOL.json\n",
      "11.6.1 - EN_REF_WASCOL\n"
     ]
    },
    {
     "data": {
      "text/plain": [
       "[2001,\n",
       " 2002,\n",
       " 2003,\n",
       " 2004,\n",
       " 2005,\n",
       " 2006,\n",
       " 2007,\n",
       " 2008,\n",
       " 2009,\n",
       " 2010,\n",
       " 2011,\n",
       " 2012,\n",
       " 2013,\n",
       " 2014,\n",
       " 2015]"
      ]
     },
     "execution_count": 39,
     "metadata": {},
     "output_type": "execute_result"
    },
    {
     "name": "stdout",
     "output_type": "stream",
     "text": [
      "----\n",
      "wide_Indicator_11.6.1_Series_EN_REF_WASCOL.json\n",
      "Indicator_11.6.2_Series_EN_ATM_PM25.json\n",
      "11.6.2 - EN_ATM_PM25\n"
     ]
    },
    {
     "data": {
      "text/plain": [
       "[2016]"
      ]
     },
     "execution_count": 39,
     "metadata": {},
     "output_type": "execute_result"
    },
    {
     "name": "stdout",
     "output_type": "stream",
     "text": [
      "----\n",
      "wide_Indicator_11.6.2_Series_EN_ATM_PM25.json\n",
      "Indicator_11.b.1_Series_SG_DSR_LEGREG.json\n",
      "11.b.1 - SG_DSR_LEGREG\n"
     ]
    },
    {
     "data": {
      "text/plain": [
       "[2013, 2015]"
      ]
     },
     "execution_count": 39,
     "metadata": {},
     "output_type": "execute_result"
    },
    {
     "name": "stdout",
     "output_type": "stream",
     "text": [
      "----\n",
      "wide_Indicator_11.b.1_Series_SG_DSR_LEGREG.json\n",
      "Indicator_11.b.1_Series_SG_DSR_LGRGSR.json\n",
      "11.b.1 - SG_DSR_LGRGSR\n"
     ]
    },
    {
     "data": {
      "text/plain": [
       "[2017]"
      ]
     },
     "execution_count": 39,
     "metadata": {},
     "output_type": "execute_result"
    },
    {
     "name": "stdout",
     "output_type": "stream",
     "text": [
      "----\n",
      "wide_Indicator_11.b.1_Series_SG_DSR_LGRGSR.json\n",
      "Indicator_11.b.2_Series_SG_DSR_SILS.json\n",
      "11.b.2 - SG_DSR_SILS\n"
     ]
    },
    {
     "data": {
      "text/plain": [
       "[2017]"
      ]
     },
     "execution_count": 39,
     "metadata": {},
     "output_type": "execute_result"
    },
    {
     "name": "stdout",
     "output_type": "stream",
     "text": [
      "----\n",
      "wide_Indicator_11.b.2_Series_SG_DSR_SILS.json\n",
      "Indicator_11.b.2_Series_SG_DSR_SILN.json\n",
      "11.b.2 - SG_DSR_SILN\n"
     ]
    },
    {
     "data": {
      "text/plain": [
       "[2017]"
      ]
     },
     "execution_count": 39,
     "metadata": {},
     "output_type": "execute_result"
    },
    {
     "name": "stdout",
     "output_type": "stream",
     "text": [
      "----\n",
      "wide_Indicator_11.b.2_Series_SG_DSR_SILN.json\n",
      "Indicator_11.b.2_Series_SG_GOV_LOGV.json\n",
      "11.b.2 - SG_GOV_LOGV\n"
     ]
    },
    {
     "data": {
      "text/plain": [
       "[2017]"
      ]
     },
     "execution_count": 39,
     "metadata": {},
     "output_type": "execute_result"
    },
    {
     "name": "stdout",
     "output_type": "stream",
     "text": [
      "----\n",
      "wide_Indicator_11.b.2_Series_SG_GOV_LOGV.json\n",
      "Indicator_12.1.1_Series_SG_SCP_CNTRY.json\n",
      "12.1.1 - SG_SCP_CNTRY\n"
     ]
    },
    {
     "data": {
      "text/plain": [
       "[2017]"
      ]
     },
     "execution_count": 39,
     "metadata": {},
     "output_type": "execute_result"
    },
    {
     "name": "stdout",
     "output_type": "stream",
     "text": [
      "----\n",
      "wide_Indicator_12.1.1_Series_SG_SCP_CNTRY.json\n",
      "Indicator_12.1.1_Series_SG_SCP_CORMEC.json\n",
      "12.1.1 - SG_SCP_CORMEC\n"
     ]
    },
    {
     "data": {
      "text/plain": [
       "[2017]"
      ]
     },
     "execution_count": 39,
     "metadata": {},
     "output_type": "execute_result"
    },
    {
     "name": "stdout",
     "output_type": "stream",
     "text": [
      "----\n",
      "wide_Indicator_12.1.1_Series_SG_SCP_CORMEC.json\n",
      "Indicator_12.1.1_Series_SG_SCP_MACPOL.json\n",
      "12.1.1 - SG_SCP_MACPOL\n"
     ]
    },
    {
     "data": {
      "text/plain": [
       "[2017]"
      ]
     },
     "execution_count": 39,
     "metadata": {},
     "output_type": "execute_result"
    },
    {
     "name": "stdout",
     "output_type": "stream",
     "text": [
      "----\n",
      "wide_Indicator_12.1.1_Series_SG_SCP_MACPOL.json\n",
      "Indicator_12.1.1_Series_SG_SCP_POLINS.json\n",
      "12.1.1 - SG_SCP_POLINS\n"
     ]
    },
    {
     "data": {
      "text/plain": [
       "[2017]"
      ]
     },
     "execution_count": 39,
     "metadata": {},
     "output_type": "execute_result"
    },
    {
     "name": "stdout",
     "output_type": "stream",
     "text": [
      "----\n",
      "wide_Indicator_12.1.1_Series_SG_SCP_POLINS.json\n",
      "Indicator_12.2.2_Series_EN_MAT_DOMCMPT.json\n",
      "12.2.2 - EN_MAT_DOMCMPT\n"
     ]
    },
    {
     "data": {
      "text/plain": [
       "[2000,\n",
       " 2001,\n",
       " 2002,\n",
       " 2003,\n",
       " 2004,\n",
       " 2005,\n",
       " 2006,\n",
       " 2007,\n",
       " 2008,\n",
       " 2009,\n",
       " 2010,\n",
       " 2011,\n",
       " 2012,\n",
       " 2013,\n",
       " 2014,\n",
       " 2015,\n",
       " 2016,\n",
       " 2017]"
      ]
     },
     "execution_count": 39,
     "metadata": {},
     "output_type": "execute_result"
    },
    {
     "name": "stdout",
     "output_type": "stream",
     "text": [
      "----\n",
      "wide_Indicator_12.2.2_Series_EN_MAT_DOMCMPT.json\n",
      "Indicator_12.2.2_Series_EN_MAT_DOMCMPG.json\n",
      "12.2.2 - EN_MAT_DOMCMPG\n"
     ]
    },
    {
     "data": {
      "text/plain": [
       "[2000,\n",
       " 2001,\n",
       " 2002,\n",
       " 2003,\n",
       " 2004,\n",
       " 2005,\n",
       " 2006,\n",
       " 2007,\n",
       " 2008,\n",
       " 2009,\n",
       " 2010,\n",
       " 2011,\n",
       " 2012,\n",
       " 2013,\n",
       " 2014,\n",
       " 2015,\n",
       " 2016,\n",
       " 2017]"
      ]
     },
     "execution_count": 39,
     "metadata": {},
     "output_type": "execute_result"
    },
    {
     "name": "stdout",
     "output_type": "stream",
     "text": [
      "----\n",
      "wide_Indicator_12.2.2_Series_EN_MAT_DOMCMPG.json\n",
      "Indicator_12.2.2_Series_EN_MAT_DOMCMPC.json\n",
      "12.2.2 - EN_MAT_DOMCMPC\n"
     ]
    },
    {
     "data": {
      "text/plain": [
       "[2000,\n",
       " 2001,\n",
       " 2002,\n",
       " 2003,\n",
       " 2004,\n",
       " 2005,\n",
       " 2006,\n",
       " 2007,\n",
       " 2008,\n",
       " 2009,\n",
       " 2010,\n",
       " 2011,\n",
       " 2012,\n",
       " 2013,\n",
       " 2014,\n",
       " 2015,\n",
       " 2016,\n",
       " 2017]"
      ]
     },
     "execution_count": 39,
     "metadata": {},
     "output_type": "execute_result"
    },
    {
     "name": "stdout",
     "output_type": "stream",
     "text": [
      "----\n",
      "wide_Indicator_12.2.2_Series_EN_MAT_DOMCMPC.json\n",
      "Indicator_12.4.1_Series_SG_HAZ_CMRMNTRL.json\n",
      "12.4.1 - SG_HAZ_CMRMNTRL\n"
     ]
    },
    {
     "data": {
      "text/plain": [
       "[2015]"
      ]
     },
     "execution_count": 39,
     "metadata": {},
     "output_type": "execute_result"
    },
    {
     "name": "stdout",
     "output_type": "stream",
     "text": [
      "----\n",
      "wide_Indicator_12.4.1_Series_SG_HAZ_CMRMNTRL.json\n",
      "Indicator_12.4.1_Series_SG_HAZ_CMRROTDAM.json\n",
      "12.4.1 - SG_HAZ_CMRROTDAM\n"
     ]
    },
    {
     "data": {
      "text/plain": [
       "[2015]"
      ]
     },
     "execution_count": 39,
     "metadata": {},
     "output_type": "execute_result"
    },
    {
     "name": "stdout",
     "output_type": "stream",
     "text": [
      "----\n",
      "wide_Indicator_12.4.1_Series_SG_HAZ_CMRROTDAM.json\n",
      "Indicator_12.4.1_Series_SG_HAZ_CMRBASEL.json\n",
      "12.4.1 - SG_HAZ_CMRBASEL\n"
     ]
    },
    {
     "data": {
      "text/plain": [
       "[2015]"
      ]
     },
     "execution_count": 39,
     "metadata": {},
     "output_type": "execute_result"
    },
    {
     "name": "stdout",
     "output_type": "stream",
     "text": [
      "----\n",
      "wide_Indicator_12.4.1_Series_SG_HAZ_CMRBASEL.json\n",
      "Indicator_12.4.1_Series_SG_HAZ_CMRSTHOLM.json\n",
      "12.4.1 - SG_HAZ_CMRSTHOLM\n"
     ]
    },
    {
     "data": {
      "text/plain": [
       "[2015]"
      ]
     },
     "execution_count": 39,
     "metadata": {},
     "output_type": "execute_result"
    },
    {
     "name": "stdout",
     "output_type": "stream",
     "text": [
      "----\n",
      "wide_Indicator_12.4.1_Series_SG_HAZ_CMRSTHOLM.json\n",
      "Indicator_12.c.1_Series_ER_FFS_PRTSST.json\n",
      "12.c.1 - ER_FFS_PRTSST\n"
     ]
    },
    {
     "data": {
      "text/plain": [
       "[2013, 2015]"
      ]
     },
     "execution_count": 39,
     "metadata": {},
     "output_type": "execute_result"
    },
    {
     "name": "stdout",
     "output_type": "stream",
     "text": [
      "----\n",
      "wide_Indicator_12.c.1_Series_ER_FFS_PRTSST.json\n",
      "Indicator_12.c.1_Series_ER_FFS_PRTSPC.json\n",
      "12.c.1 - ER_FFS_PRTSPC\n"
     ]
    },
    {
     "data": {
      "text/plain": [
       "[2013, 2015]"
      ]
     },
     "execution_count": 39,
     "metadata": {},
     "output_type": "execute_result"
    },
    {
     "name": "stdout",
     "output_type": "stream",
     "text": [
      "----\n",
      "wide_Indicator_12.c.1_Series_ER_FFS_PRTSPC.json\n",
      "Indicator_12.c.1_Series_ER_FFS_PRTSPR.json\n",
      "12.c.1 - ER_FFS_PRTSPR\n"
     ]
    },
    {
     "data": {
      "text/plain": [
       "[2013, 2015]"
      ]
     },
     "execution_count": 39,
     "metadata": {},
     "output_type": "execute_result"
    },
    {
     "name": "stdout",
     "output_type": "stream",
     "text": [
      "----\n",
      "wide_Indicator_12.c.1_Series_ER_FFS_PRTSPR.json\n",
      "Indicator_13.1.1_Series_VC_DSR_MISS.json\n",
      "13.1.1 - VC_DSR_MISS\n"
     ]
    },
    {
     "data": {
      "text/plain": [
       "[2005, 2006, 2007, 2008, 2009, 2010, 2011, 2012, 2013, 2014, 2015, 2016, 2017]"
      ]
     },
     "execution_count": 39,
     "metadata": {},
     "output_type": "execute_result"
    },
    {
     "name": "stdout",
     "output_type": "stream",
     "text": [
      "----\n",
      "wide_Indicator_13.1.1_Series_VC_DSR_MISS.json\n",
      "Indicator_13.1.1_Series_VC_DSR_AFFCT.json\n",
      "13.1.1 - VC_DSR_AFFCT\n"
     ]
    },
    {
     "data": {
      "text/plain": [
       "[2005, 2006, 2007, 2008, 2009, 2010, 2011, 2012, 2013, 2014, 2015, 2016, 2017]"
      ]
     },
     "execution_count": 39,
     "metadata": {},
     "output_type": "execute_result"
    },
    {
     "name": "stdout",
     "output_type": "stream",
     "text": [
      "----\n",
      "wide_Indicator_13.1.1_Series_VC_DSR_AFFCT.json\n",
      "Indicator_13.1.1_Series_VC_DSR_MORT.json\n",
      "13.1.1 - VC_DSR_MORT\n"
     ]
    },
    {
     "data": {
      "text/plain": [
       "[2005, 2006, 2007, 2008, 2009, 2010, 2011, 2012, 2013, 2014, 2015, 2016, 2017]"
      ]
     },
     "execution_count": 39,
     "metadata": {},
     "output_type": "execute_result"
    },
    {
     "name": "stdout",
     "output_type": "stream",
     "text": [
      "----\n",
      "wide_Indicator_13.1.1_Series_VC_DSR_MORT.json\n",
      "Indicator_13.1.1_Series_VC_DSR_MTMP.json\n",
      "13.1.1 - VC_DSR_MTMP\n"
     ]
    },
    {
     "data": {
      "text/plain": [
       "[2005, 2006, 2007, 2008, 2009, 2010, 2011, 2012, 2013, 2014, 2015, 2016, 2017]"
      ]
     },
     "execution_count": 39,
     "metadata": {},
     "output_type": "execute_result"
    },
    {
     "name": "stdout",
     "output_type": "stream",
     "text": [
      "----\n",
      "wide_Indicator_13.1.1_Series_VC_DSR_MTMP.json\n",
      "Indicator_13.1.1_Series_VC_DSR_MTMN.json\n",
      "13.1.1 - VC_DSR_MTMN\n"
     ]
    },
    {
     "data": {
      "text/plain": [
       "[2005, 2006, 2007, 2008, 2009, 2010, 2011, 2012, 2013, 2014, 2015, 2016, 2017]"
      ]
     },
     "execution_count": 39,
     "metadata": {},
     "output_type": "execute_result"
    },
    {
     "name": "stdout",
     "output_type": "stream",
     "text": [
      "----\n",
      "wide_Indicator_13.1.1_Series_VC_DSR_MTMN.json\n",
      "Indicator_13.1.1_Series_VC_DSR_MMHN.json\n",
      "13.1.1 - VC_DSR_MMHN\n"
     ]
    },
    {
     "data": {
      "text/plain": [
       "[2005, 2006, 2007, 2008, 2009, 2010, 2011, 2012, 2013, 2014, 2015, 2016, 2017]"
      ]
     },
     "execution_count": 39,
     "metadata": {},
     "output_type": "execute_result"
    },
    {
     "name": "stdout",
     "output_type": "stream",
     "text": [
      "----\n",
      "wide_Indicator_13.1.1_Series_VC_DSR_MMHN.json\n",
      "Indicator_13.1.1_Series_VC_DSR_DAFF.json\n",
      "13.1.1 - VC_DSR_DAFF\n"
     ]
    },
    {
     "data": {
      "text/plain": [
       "[2005, 2006, 2007, 2008, 2009, 2010, 2011, 2012, 2013, 2014, 2015, 2016, 2017]"
      ]
     },
     "execution_count": 39,
     "metadata": {},
     "output_type": "execute_result"
    },
    {
     "name": "stdout",
     "output_type": "stream",
     "text": [
      "----\n",
      "wide_Indicator_13.1.1_Series_VC_DSR_DAFF.json\n",
      "Indicator_13.1.1_Series_VC_DSR_IJILN.json\n",
      "13.1.1 - VC_DSR_IJILN\n"
     ]
    },
    {
     "data": {
      "text/plain": [
       "[2005, 2006, 2007, 2008, 2009, 2010, 2011, 2012, 2013, 2014, 2015, 2016, 2017]"
      ]
     },
     "execution_count": 39,
     "metadata": {},
     "output_type": "execute_result"
    },
    {
     "name": "stdout",
     "output_type": "stream",
     "text": [
      "----\n",
      "wide_Indicator_13.1.1_Series_VC_DSR_IJILN.json\n",
      "Indicator_13.1.1_Series_VC_DSR_PDAN.json\n",
      "13.1.1 - VC_DSR_PDAN\n"
     ]
    },
    {
     "data": {
      "text/plain": [
       "[2005, 2006, 2007, 2008, 2009, 2010, 2011, 2012, 2013, 2014, 2015, 2016, 2017]"
      ]
     },
     "execution_count": 39,
     "metadata": {},
     "output_type": "execute_result"
    },
    {
     "name": "stdout",
     "output_type": "stream",
     "text": [
      "----\n",
      "wide_Indicator_13.1.1_Series_VC_DSR_PDAN.json\n",
      "Indicator_13.1.1_Series_VC_DSR_DADN.json\n",
      "13.1.1 - VC_DSR_DADN\n"
     ]
    },
    {
     "data": {
      "text/plain": [
       "[2005, 2006, 2007, 2008, 2009, 2010, 2011, 2012, 2013, 2014, 2015, 2016, 2017]"
      ]
     },
     "execution_count": 39,
     "metadata": {},
     "output_type": "execute_result"
    },
    {
     "name": "stdout",
     "output_type": "stream",
     "text": [
      "----\n",
      "wide_Indicator_13.1.1_Series_VC_DSR_DADN.json\n",
      "Indicator_13.1.1_Series_VC_DSR_DDHN.json\n",
      "13.1.1 - VC_DSR_DDHN\n"
     ]
    },
    {
     "data": {
      "text/plain": [
       "[2005, 2006, 2007, 2008, 2009, 2010, 2011, 2012, 2013, 2014, 2015, 2016, 2017]"
      ]
     },
     "execution_count": 39,
     "metadata": {},
     "output_type": "execute_result"
    },
    {
     "name": "stdout",
     "output_type": "stream",
     "text": [
      "----\n",
      "wide_Indicator_13.1.1_Series_VC_DSR_DDHN.json\n",
      "Indicator_13.1.1_Series_VC_DSR_PDYN.json\n",
      "13.1.1 - VC_DSR_PDYN\n"
     ]
    },
    {
     "data": {
      "text/plain": [
       "[2005, 2006, 2007, 2008, 2009, 2010, 2011, 2012, 2013, 2014, 2015, 2016, 2017]"
      ]
     },
     "execution_count": 39,
     "metadata": {},
     "output_type": "execute_result"
    },
    {
     "name": "stdout",
     "output_type": "stream",
     "text": [
      "----\n",
      "wide_Indicator_13.1.1_Series_VC_DSR_PDYN.json\n",
      "Indicator_13.1.1_Series_VC_DSR_DYDN.json\n",
      "13.1.1 - VC_DSR_DYDN\n"
     ]
    },
    {
     "data": {
      "text/plain": [
       "[2005, 2006, 2007, 2008, 2009, 2010, 2011, 2012, 2013, 2014, 2015, 2016, 2017]"
      ]
     },
     "execution_count": 39,
     "metadata": {},
     "output_type": "execute_result"
    },
    {
     "name": "stdout",
     "output_type": "stream",
     "text": [
      "----\n",
      "wide_Indicator_13.1.1_Series_VC_DSR_DYDN.json\n",
      "Indicator_13.1.1_Series_VC_DSR_PDLN.json\n",
      "13.1.1 - VC_DSR_PDLN\n"
     ]
    },
    {
     "data": {
      "text/plain": [
       "[2005, 2006, 2007, 2008, 2009, 2010, 2011, 2012, 2013, 2014, 2015, 2016, 2017]"
      ]
     },
     "execution_count": 39,
     "metadata": {},
     "output_type": "execute_result"
    },
    {
     "name": "stdout",
     "output_type": "stream",
     "text": [
      "----\n",
      "wide_Indicator_13.1.1_Series_VC_DSR_PDLN.json\n",
      "Indicator_13.1.1_Series_VC_DSR_DYHN.json\n",
      "13.1.1 - VC_DSR_DYHN\n"
     ]
    },
    {
     "data": {
      "text/plain": [
       "[2005, 2006, 2007, 2008, 2009, 2010, 2011, 2012, 2013, 2014, 2015, 2016, 2017]"
      ]
     },
     "execution_count": 39,
     "metadata": {},
     "output_type": "execute_result"
    },
    {
     "name": "stdout",
     "output_type": "stream",
     "text": [
      "----\n",
      "wide_Indicator_13.1.1_Series_VC_DSR_DYHN.json\n",
      "Indicator_13.1.2_Series_SG_DSR_LEGREG.json\n",
      "13.1.2 - SG_DSR_LEGREG\n"
     ]
    },
    {
     "data": {
      "text/plain": [
       "[2013, 2015]"
      ]
     },
     "execution_count": 39,
     "metadata": {},
     "output_type": "execute_result"
    },
    {
     "name": "stdout",
     "output_type": "stream",
     "text": [
      "----\n",
      "wide_Indicator_13.1.2_Series_SG_DSR_LEGREG.json\n",
      "Indicator_13.1.2_Series_SG_DSR_LGRGSR.json\n",
      "13.1.2 - SG_DSR_LGRGSR\n"
     ]
    },
    {
     "data": {
      "text/plain": [
       "[2017]"
      ]
     },
     "execution_count": 39,
     "metadata": {},
     "output_type": "execute_result"
    },
    {
     "name": "stdout",
     "output_type": "stream",
     "text": [
      "----\n",
      "wide_Indicator_13.1.2_Series_SG_DSR_LGRGSR.json\n",
      "Indicator_13.1.3_Series_SG_DSR_SILS.json\n",
      "13.1.3 - SG_DSR_SILS\n"
     ]
    },
    {
     "data": {
      "text/plain": [
       "[2017]"
      ]
     },
     "execution_count": 39,
     "metadata": {},
     "output_type": "execute_result"
    },
    {
     "name": "stdout",
     "output_type": "stream",
     "text": [
      "----\n",
      "wide_Indicator_13.1.3_Series_SG_DSR_SILS.json\n",
      "Indicator_13.1.3_Series_SG_DSR_SILN.json\n",
      "13.1.3 - SG_DSR_SILN\n"
     ]
    },
    {
     "data": {
      "text/plain": [
       "[2017]"
      ]
     },
     "execution_count": 39,
     "metadata": {},
     "output_type": "execute_result"
    },
    {
     "name": "stdout",
     "output_type": "stream",
     "text": [
      "----\n",
      "wide_Indicator_13.1.3_Series_SG_DSR_SILN.json\n",
      "Indicator_13.1.3_Series_SG_GOV_LOGV.json\n",
      "13.1.3 - SG_GOV_LOGV\n"
     ]
    },
    {
     "data": {
      "text/plain": [
       "[2017]"
      ]
     },
     "execution_count": 39,
     "metadata": {},
     "output_type": "execute_result"
    },
    {
     "name": "stdout",
     "output_type": "stream",
     "text": [
      "----\n",
      "wide_Indicator_13.1.3_Series_SG_GOV_LOGV.json\n",
      "Indicator_14.4.1_Series_ER_H2O_FWTL.json\n",
      "14.4.1 - ER_H2O_FWTL\n"
     ]
    },
    {
     "data": {
      "text/plain": [
       "[]"
      ]
     },
     "execution_count": 39,
     "metadata": {},
     "output_type": "execute_result"
    },
    {
     "name": "stdout",
     "output_type": "stream",
     "text": [
      "----\n",
      "wide_Indicator_14.4.1_Series_ER_H2O_FWTL.json\n",
      "Indicator_14.5.1_Series_ER_MRN_MARINT.json\n",
      "14.5.1 - ER_MRN_MARINT\n"
     ]
    },
    {
     "data": {
      "text/plain": [
       "[2017, 2018]"
      ]
     },
     "execution_count": 39,
     "metadata": {},
     "output_type": "execute_result"
    },
    {
     "name": "stdout",
     "output_type": "stream",
     "text": [
      "----\n",
      "wide_Indicator_14.5.1_Series_ER_MRN_MARINT.json\n",
      "Indicator_14.5.1_Series_ER_MRN_MARIN.json\n",
      "14.5.1 - ER_MRN_MARIN\n"
     ]
    },
    {
     "data": {
      "text/plain": [
       "[2018]"
      ]
     },
     "execution_count": 39,
     "metadata": {},
     "output_type": "execute_result"
    },
    {
     "name": "stdout",
     "output_type": "stream",
     "text": [
      "----\n",
      "wide_Indicator_14.5.1_Series_ER_MRN_MARIN.json\n",
      "Indicator_14.5.1_Series_ER_MRN_MPA.json\n",
      "14.5.1 - ER_MRN_MPA\n"
     ]
    },
    {
     "data": {
      "text/plain": [
       "[2000,\n",
       " 2001,\n",
       " 2002,\n",
       " 2003,\n",
       " 2004,\n",
       " 2005,\n",
       " 2006,\n",
       " 2007,\n",
       " 2008,\n",
       " 2009,\n",
       " 2010,\n",
       " 2011,\n",
       " 2012,\n",
       " 2013,\n",
       " 2014,\n",
       " 2015,\n",
       " 2016,\n",
       " 2017,\n",
       " 2018]"
      ]
     },
     "execution_count": 39,
     "metadata": {},
     "output_type": "execute_result"
    },
    {
     "name": "stdout",
     "output_type": "stream",
     "text": [
      "----\n",
      "wide_Indicator_14.5.1_Series_ER_MRN_MPA.json\n",
      "Indicator_14.6.1_Series_ER_REG_UNFCIM.json\n",
      "14.6.1 - ER_REG_UNFCIM\n"
     ]
    },
    {
     "data": {
      "text/plain": [
       "[2018]"
      ]
     },
     "execution_count": 39,
     "metadata": {},
     "output_type": "execute_result"
    },
    {
     "name": "stdout",
     "output_type": "stream",
     "text": [
      "----\n",
      "wide_Indicator_14.6.1_Series_ER_REG_UNFCIM.json\n",
      "Indicator_14.a.1_Series_ER_RDE_OSEX.json\n",
      "14.a.1 - ER_RDE_OSEX\n"
     ]
    },
    {
     "data": {
      "text/plain": [
       "[2009, 2010, 2011, 2012, 2013]"
      ]
     },
     "execution_count": 39,
     "metadata": {},
     "output_type": "execute_result"
    },
    {
     "name": "stdout",
     "output_type": "stream",
     "text": [
      "----\n",
      "wide_Indicator_14.a.1_Series_ER_RDE_OSEX.json\n",
      "Indicator_14.b.1_Series_ER_REG_SSFRAR.json\n",
      "14.b.1 - ER_REG_SSFRAR\n"
     ]
    },
    {
     "data": {
      "text/plain": [
       "[2018]"
      ]
     },
     "execution_count": 39,
     "metadata": {},
     "output_type": "execute_result"
    },
    {
     "name": "stdout",
     "output_type": "stream",
     "text": [
      "----\n",
      "wide_Indicator_14.b.1_Series_ER_REG_SSFRAR.json\n",
      "Indicator_15.1.1_Series_AG_LND_TOTL.json\n",
      "15.1.1 - AG_LND_TOTL\n"
     ]
    },
    {
     "data": {
      "text/plain": [
       "[2015]"
      ]
     },
     "execution_count": 39,
     "metadata": {},
     "output_type": "execute_result"
    },
    {
     "name": "stdout",
     "output_type": "stream",
     "text": [
      "----\n",
      "wide_Indicator_15.1.1_Series_AG_LND_TOTL.json\n",
      "Indicator_15.1.1_Series_AG_LND_FRSTN.json\n",
      "15.1.1 - AG_LND_FRSTN\n"
     ]
    },
    {
     "data": {
      "text/plain": [
       "[2000, 2005, 2010, 2015]"
      ]
     },
     "execution_count": 39,
     "metadata": {},
     "output_type": "execute_result"
    },
    {
     "name": "stdout",
     "output_type": "stream",
     "text": [
      "----\n",
      "wide_Indicator_15.1.1_Series_AG_LND_FRSTN.json\n",
      "Indicator_15.1.1_Series_AG_LND_FRST.json\n",
      "15.1.1 - AG_LND_FRST\n"
     ]
    },
    {
     "data": {
      "text/plain": [
       "[2000, 2005, 2010, 2015]"
      ]
     },
     "execution_count": 39,
     "metadata": {},
     "output_type": "execute_result"
    },
    {
     "name": "stdout",
     "output_type": "stream",
     "text": [
      "----\n",
      "wide_Indicator_15.1.1_Series_AG_LND_FRST.json\n",
      "Indicator_15.1.2_Series_ER_PTD_FRWRT.json\n",
      "15.1.2 - ER_PTD_FRWRT\n"
     ]
    },
    {
     "data": {
      "text/plain": [
       "[2000,\n",
       " 2001,\n",
       " 2002,\n",
       " 2003,\n",
       " 2004,\n",
       " 2005,\n",
       " 2006,\n",
       " 2007,\n",
       " 2008,\n",
       " 2009,\n",
       " 2010,\n",
       " 2011,\n",
       " 2012,\n",
       " 2013,\n",
       " 2014,\n",
       " 2015,\n",
       " 2016,\n",
       " 2017,\n",
       " 2018]"
      ]
     },
     "execution_count": 39,
     "metadata": {},
     "output_type": "execute_result"
    },
    {
     "name": "stdout",
     "output_type": "stream",
     "text": [
      "----\n",
      "wide_Indicator_15.1.2_Series_ER_PTD_FRWRT.json\n",
      "Indicator_15.1.2_Series_ER_PTD_TERRS.json\n",
      "15.1.2 - ER_PTD_TERRS\n"
     ]
    },
    {
     "data": {
      "text/plain": [
       "[2000,\n",
       " 2001,\n",
       " 2002,\n",
       " 2003,\n",
       " 2004,\n",
       " 2005,\n",
       " 2006,\n",
       " 2007,\n",
       " 2008,\n",
       " 2009,\n",
       " 2010,\n",
       " 2011,\n",
       " 2012,\n",
       " 2013,\n",
       " 2014,\n",
       " 2015,\n",
       " 2016,\n",
       " 2017,\n",
       " 2018]"
      ]
     },
     "execution_count": 39,
     "metadata": {},
     "output_type": "execute_result"
    },
    {
     "name": "stdout",
     "output_type": "stream",
     "text": [
      "----\n",
      "wide_Indicator_15.1.2_Series_ER_PTD_TERRS.json\n",
      "Indicator_15.2.1_Series_AG_LND_FRSTBIOPHA.json\n",
      "15.2.1 - AG_LND_FRSTBIOPHA\n"
     ]
    },
    {
     "data": {
      "text/plain": [
       "[2000, 2005, 2010, 2015]"
      ]
     },
     "execution_count": 39,
     "metadata": {},
     "output_type": "execute_result"
    },
    {
     "name": "stdout",
     "output_type": "stream",
     "text": [
      "----\n",
      "wide_Indicator_15.2.1_Series_AG_LND_FRSTBIOPHA.json\n",
      "Indicator_15.2.1_Series_AG_LND_FRSTCERT.json\n",
      "15.2.1 - AG_LND_FRSTCERT\n"
     ]
    },
    {
     "data": {
      "text/plain": [
       "[2000, 2005, 2010, 2015, 2016, 2017, 2018]"
      ]
     },
     "execution_count": 39,
     "metadata": {},
     "output_type": "execute_result"
    },
    {
     "name": "stdout",
     "output_type": "stream",
     "text": [
      "----\n",
      "wide_Indicator_15.2.1_Series_AG_LND_FRSTCERT.json\n",
      "Indicator_15.2.1_Series_AG_LND_FRSTCHG.json\n",
      "15.2.1 - AG_LND_FRSTCHG\n"
     ]
    },
    {
     "data": {
      "text/plain": [
       "[2005, 2010, 2015]"
      ]
     },
     "execution_count": 39,
     "metadata": {},
     "output_type": "execute_result"
    },
    {
     "name": "stdout",
     "output_type": "stream",
     "text": [
      "----\n",
      "wide_Indicator_15.2.1_Series_AG_LND_FRSTCHG.json\n",
      "Indicator_15.2.1_Series_AG_LND_FRSTMGT.json\n",
      "15.2.1 - AG_LND_FRSTMGT\n"
     ]
    },
    {
     "data": {
      "text/plain": [
       "[2000, 2005, 2010]"
      ]
     },
     "execution_count": 39,
     "metadata": {},
     "output_type": "execute_result"
    },
    {
     "name": "stdout",
     "output_type": "stream",
     "text": [
      "----\n",
      "wide_Indicator_15.2.1_Series_AG_LND_FRSTMGT.json\n",
      "Indicator_15.2.1_Series_AG_LND_FRSTPRCT.json\n",
      "15.2.1 - AG_LND_FRSTPRCT\n"
     ]
    },
    {
     "data": {
      "text/plain": [
       "[2000, 2005, 2010, 2015]"
      ]
     },
     "execution_count": 39,
     "metadata": {},
     "output_type": "execute_result"
    },
    {
     "name": "stdout",
     "output_type": "stream",
     "text": [
      "----\n",
      "wide_Indicator_15.2.1_Series_AG_LND_FRSTPRCT.json\n",
      "Indicator_15.4.1_Series_ER_PTD_MOTN.json\n",
      "15.4.1 - ER_PTD_MOTN\n"
     ]
    },
    {
     "data": {
      "text/plain": [
       "[2000,\n",
       " 2001,\n",
       " 2002,\n",
       " 2003,\n",
       " 2004,\n",
       " 2005,\n",
       " 2006,\n",
       " 2007,\n",
       " 2008,\n",
       " 2009,\n",
       " 2010,\n",
       " 2011,\n",
       " 2012,\n",
       " 2013,\n",
       " 2014,\n",
       " 2015,\n",
       " 2016,\n",
       " 2017,\n",
       " 2018]"
      ]
     },
     "execution_count": 39,
     "metadata": {},
     "output_type": "execute_result"
    },
    {
     "name": "stdout",
     "output_type": "stream",
     "text": [
      "----\n",
      "wide_Indicator_15.4.1_Series_ER_PTD_MOTN.json\n",
      "Indicator_15.4.2_Series_ER_MTN_GRNCVI.json\n",
      "15.4.2 - ER_MTN_GRNCVI\n"
     ]
    },
    {
     "data": {
      "text/plain": [
       "[2017]"
      ]
     },
     "execution_count": 39,
     "metadata": {},
     "output_type": "execute_result"
    },
    {
     "name": "stdout",
     "output_type": "stream",
     "text": [
      "----\n",
      "wide_Indicator_15.4.2_Series_ER_MTN_GRNCVI.json\n",
      "Indicator_15.4.2_Series_ER_MTN_TOTL.json\n",
      "15.4.2 - ER_MTN_TOTL\n"
     ]
    },
    {
     "data": {
      "text/plain": [
       "[2017]"
      ]
     },
     "execution_count": 39,
     "metadata": {},
     "output_type": "execute_result"
    },
    {
     "name": "stdout",
     "output_type": "stream",
     "text": [
      "----\n",
      "wide_Indicator_15.4.2_Series_ER_MTN_TOTL.json\n",
      "Indicator_15.4.2_Series_ER_MTN_GRNCOV.json\n",
      "15.4.2 - ER_MTN_GRNCOV\n"
     ]
    },
    {
     "data": {
      "text/plain": [
       "[2017]"
      ]
     },
     "execution_count": 39,
     "metadata": {},
     "output_type": "execute_result"
    },
    {
     "name": "stdout",
     "output_type": "stream",
     "text": [
      "----\n",
      "wide_Indicator_15.4.2_Series_ER_MTN_GRNCOV.json\n",
      "Indicator_15.5.1_Series_ER_RSK_LSTI.json\n",
      "15.5.1 - ER_RSK_LSTI\n"
     ]
    },
    {
     "data": {
      "text/plain": [
       "[1993,\n",
       " 1994,\n",
       " 1995,\n",
       " 1996,\n",
       " 1997,\n",
       " 1998,\n",
       " 1999,\n",
       " 2000,\n",
       " 2001,\n",
       " 2002,\n",
       " 2003,\n",
       " 2004,\n",
       " 2005,\n",
       " 2006,\n",
       " 2007,\n",
       " 2008,\n",
       " 2009,\n",
       " 2010,\n",
       " 2011,\n",
       " 2012,\n",
       " 2013,\n",
       " 2014,\n",
       " 2015,\n",
       " 2016,\n",
       " 2017,\n",
       " 2018,\n",
       " 2019]"
      ]
     },
     "execution_count": 39,
     "metadata": {},
     "output_type": "execute_result"
    },
    {
     "name": "stdout",
     "output_type": "stream",
     "text": [
      "----\n",
      "wide_Indicator_15.5.1_Series_ER_RSK_LSTI.json\n",
      "Indicator_15.6.1_Series_ER_CBD_NAGOYA.json\n",
      "15.6.1 - ER_CBD_NAGOYA\n"
     ]
    },
    {
     "data": {
      "text/plain": [
       "[2012, 2014, 2015, 2016, 2017, 2018]"
      ]
     },
     "execution_count": 39,
     "metadata": {},
     "output_type": "execute_result"
    },
    {
     "name": "stdout",
     "output_type": "stream",
     "text": [
      "----\n",
      "wide_Indicator_15.6.1_Series_ER_CBD_NAGOYA.json\n",
      "Indicator_15.6.1_Series_ER_CBD_ABSCLRHS.json\n",
      "15.6.1 - ER_CBD_ABSCLRHS\n"
     ]
    },
    {
     "data": {
      "text/plain": [
       "[2012, 2013, 2014, 2015, 2016, 2017, 2018, 2019]"
      ]
     },
     "execution_count": 39,
     "metadata": {},
     "output_type": "execute_result"
    },
    {
     "name": "stdout",
     "output_type": "stream",
     "text": [
      "----\n",
      "wide_Indicator_15.6.1_Series_ER_CBD_ABSCLRHS.json\n",
      "Indicator_15.6.1_Series_ER_CBD_ORSPGRFA.json\n",
      "15.6.1 - ER_CBD_ORSPGRFA\n"
     ]
    },
    {
     "data": {
      "text/plain": [
       "[2012, 2013, 2014, 2015, 2016, 2017, 2018]"
      ]
     },
     "execution_count": 39,
     "metadata": {},
     "output_type": "execute_result"
    },
    {
     "name": "stdout",
     "output_type": "stream",
     "text": [
      "----\n",
      "wide_Indicator_15.6.1_Series_ER_CBD_ORSPGRFA.json\n",
      "Indicator_15.6.1_Series_ER_CBD_PTYPGRFA.json\n",
      "15.6.1 - ER_CBD_PTYPGRFA\n"
     ]
    },
    {
     "data": {
      "text/plain": [
       "[2017, 2018]"
      ]
     },
     "execution_count": 39,
     "metadata": {},
     "output_type": "execute_result"
    },
    {
     "name": "stdout",
     "output_type": "stream",
     "text": [
      "----\n",
      "wide_Indicator_15.6.1_Series_ER_CBD_PTYPGRFA.json\n",
      "Indicator_15.a.1_Series_DC_ODA_BDVDL.json\n",
      "15.a.1 - DC_ODA_BDVDL\n"
     ]
    },
    {
     "data": {
      "text/plain": [
       "[2002,\n",
       " 2003,\n",
       " 2004,\n",
       " 2005,\n",
       " 2006,\n",
       " 2007,\n",
       " 2008,\n",
       " 2009,\n",
       " 2010,\n",
       " 2011,\n",
       " 2012,\n",
       " 2013,\n",
       " 2014,\n",
       " 2015,\n",
       " 2016]"
      ]
     },
     "execution_count": 39,
     "metadata": {},
     "output_type": "execute_result"
    },
    {
     "name": "stdout",
     "output_type": "stream",
     "text": [
      "----\n",
      "wide_Indicator_15.a.1_Series_DC_ODA_BDVDL.json\n",
      "Indicator_15.a.1_Series_DC_ODA_BDVL.json\n",
      "15.a.1 - DC_ODA_BDVL\n"
     ]
    },
    {
     "data": {
      "text/plain": [
       "[2002,\n",
       " 2003,\n",
       " 2004,\n",
       " 2005,\n",
       " 2006,\n",
       " 2007,\n",
       " 2008,\n",
       " 2009,\n",
       " 2010,\n",
       " 2011,\n",
       " 2012,\n",
       " 2013,\n",
       " 2014,\n",
       " 2015,\n",
       " 2016]"
      ]
     },
     "execution_count": 39,
     "metadata": {},
     "output_type": "execute_result"
    },
    {
     "name": "stdout",
     "output_type": "stream",
     "text": [
      "----\n",
      "wide_Indicator_15.a.1_Series_DC_ODA_BDVL.json\n",
      "Indicator_15.b.1_Series_DC_ODA_BDVDL.json\n",
      "15.b.1 - DC_ODA_BDVDL\n"
     ]
    },
    {
     "data": {
      "text/plain": [
       "[2002,\n",
       " 2003,\n",
       " 2004,\n",
       " 2005,\n",
       " 2006,\n",
       " 2007,\n",
       " 2008,\n",
       " 2009,\n",
       " 2010,\n",
       " 2011,\n",
       " 2012,\n",
       " 2013,\n",
       " 2014,\n",
       " 2015,\n",
       " 2016]"
      ]
     },
     "execution_count": 39,
     "metadata": {},
     "output_type": "execute_result"
    },
    {
     "name": "stdout",
     "output_type": "stream",
     "text": [
      "----\n",
      "wide_Indicator_15.b.1_Series_DC_ODA_BDVDL.json\n",
      "Indicator_15.b.1_Series_DC_ODA_BDVL.json\n",
      "15.b.1 - DC_ODA_BDVL\n"
     ]
    },
    {
     "data": {
      "text/plain": [
       "[2002,\n",
       " 2003,\n",
       " 2004,\n",
       " 2005,\n",
       " 2006,\n",
       " 2007,\n",
       " 2008,\n",
       " 2009,\n",
       " 2010,\n",
       " 2011,\n",
       " 2012,\n",
       " 2013,\n",
       " 2014,\n",
       " 2015,\n",
       " 2016]"
      ]
     },
     "execution_count": 39,
     "metadata": {},
     "output_type": "execute_result"
    },
    {
     "name": "stdout",
     "output_type": "stream",
     "text": [
      "----\n",
      "wide_Indicator_15.b.1_Series_DC_ODA_BDVL.json\n",
      "Indicator_16.1.1_Series_VC_IHR_PSRC.json\n",
      "16.1.1 - VC_IHR_PSRC\n"
     ]
    },
    {
     "data": {
      "text/plain": [
       "[2010, 2011, 2012, 2013, 2014, 2015, 2016]"
      ]
     },
     "execution_count": 39,
     "metadata": {},
     "output_type": "execute_result"
    },
    {
     "name": "stdout",
     "output_type": "stream",
     "text": [
      "----\n",
      "wide_Indicator_16.1.1_Series_VC_IHR_PSRC.json\n",
      "Indicator_16.1.1_Series_VC_IHR_PSRCN.json\n",
      "16.1.1 - VC_IHR_PSRCN\n"
     ]
    },
    {
     "data": {
      "text/plain": [
       "[2010, 2011, 2012, 2013, 2014, 2015, 2016]"
      ]
     },
     "execution_count": 39,
     "metadata": {},
     "output_type": "execute_result"
    },
    {
     "name": "stdout",
     "output_type": "stream",
     "text": [
      "----\n",
      "wide_Indicator_16.1.1_Series_VC_IHR_PSRCN.json\n",
      "Indicator_16.2.1_Series_VC_VAW_PHYPYV.json\n",
      "16.2.1 - VC_VAW_PHYPYV\n"
     ]
    },
    {
     "data": {
      "text/plain": [
       "[2005,\n",
       " 2006,\n",
       " 2007,\n",
       " 2008,\n",
       " 2009,\n",
       " 2010,\n",
       " 2011,\n",
       " 2012,\n",
       " 2013,\n",
       " 2014,\n",
       " 2015,\n",
       " 2016,\n",
       " 2017,\n",
       " 2018]"
      ]
     },
     "execution_count": 39,
     "metadata": {},
     "output_type": "execute_result"
    },
    {
     "name": "stdout",
     "output_type": "stream",
     "text": [
      "----\n",
      "wide_Indicator_16.2.1_Series_VC_VAW_PHYPYV.json\n",
      "Indicator_16.2.2_Series_VC_VAW_DIST.json\n",
      "16.2.2 - VC_VAW_DIST\n"
     ]
    },
    {
     "data": {
      "text/plain": [
       "[2014, 2015, 2016]"
      ]
     },
     "execution_count": 39,
     "metadata": {},
     "output_type": "execute_result"
    },
    {
     "name": "stdout",
     "output_type": "stream",
     "text": [
      "----\n",
      "wide_Indicator_16.2.2_Series_VC_VAW_DIST.json\n",
      "Indicator_16.2.3_Series_VC_VAW_SXVLN.json\n",
      "16.2.3 - VC_VAW_SXVLN\n"
     ]
    },
    {
     "data": {
      "text/plain": [
       "[2005, 2006, 2007, 2008, 2009, 2011, 2012, 2013, 2014, 2015, 2016, 2017]"
      ]
     },
     "execution_count": 39,
     "metadata": {},
     "output_type": "execute_result"
    },
    {
     "name": "stdout",
     "output_type": "stream",
     "text": [
      "----\n",
      "wide_Indicator_16.2.3_Series_VC_VAW_SXVLN.json\n",
      "Indicator_16.3.2_Series_VC_PRS_UNSEC.json\n",
      "16.3.2 - VC_PRS_UNSEC\n"
     ]
    },
    {
     "data": {
      "text/plain": [
       "[2005, 2016]"
      ]
     },
     "execution_count": 39,
     "metadata": {},
     "output_type": "execute_result"
    },
    {
     "name": "stdout",
     "output_type": "stream",
     "text": [
      "----\n",
      "wide_Indicator_16.3.2_Series_VC_PRS_UNSEC.json\n",
      "Indicator_16.5.2_Series_IC_FRM_BRIB.json\n",
      "16.5.2 - IC_FRM_BRIB\n"
     ]
    },
    {
     "data": {
      "text/plain": [
       "[2006, 2007, 2009, 2010, 2011, 2012, 2013, 2014, 2015, 2016, 2017]"
      ]
     },
     "execution_count": 39,
     "metadata": {},
     "output_type": "execute_result"
    },
    {
     "name": "stdout",
     "output_type": "stream",
     "text": [
      "----\n",
      "wide_Indicator_16.5.2_Series_IC_FRM_BRIB.json\n",
      "Indicator_16.6.1_Series_GF_XPD_GBPC.json\n",
      "16.6.1 - GF_XPD_GBPC\n"
     ]
    },
    {
     "data": {
      "text/plain": [
       "[2004,\n",
       " 2005,\n",
       " 2006,\n",
       " 2007,\n",
       " 2008,\n",
       " 2009,\n",
       " 2010,\n",
       " 2011,\n",
       " 2012,\n",
       " 2013,\n",
       " 2014,\n",
       " 2015,\n",
       " 2016,\n",
       " 2017]"
      ]
     },
     "execution_count": 39,
     "metadata": {},
     "output_type": "execute_result"
    },
    {
     "name": "stdout",
     "output_type": "stream",
     "text": [
      "----\n",
      "wide_Indicator_16.6.1_Series_GF_XPD_GBPC.json\n",
      "Indicator_16.8.1_Series_SG_INT_MBRDEV.json\n",
      "16.8.1 - SG_INT_MBRDEV\n"
     ]
    },
    {
     "data": {
      "text/plain": [
       "[2000, 2005, 2010, 2014, 2015, 2016, 2017]"
      ]
     },
     "execution_count": 39,
     "metadata": {},
     "output_type": "execute_result"
    },
    {
     "name": "stdout",
     "output_type": "stream",
     "text": [
      "----\n",
      "wide_Indicator_16.8.1_Series_SG_INT_MBRDEV.json\n",
      "Indicator_16.8.1_Series_SG_INT_VRTDEV.json\n",
      "16.8.1 - SG_INT_VRTDEV\n"
     ]
    },
    {
     "data": {
      "text/plain": [
       "[2000, 2005, 2010, 2014, 2015, 2016, 2017]"
      ]
     },
     "execution_count": 39,
     "metadata": {},
     "output_type": "execute_result"
    },
    {
     "name": "stdout",
     "output_type": "stream",
     "text": [
      "----\n",
      "wide_Indicator_16.8.1_Series_SG_INT_VRTDEV.json\n",
      "Indicator_16.9.1_Series_SG_REG_BRTH.json\n",
      "16.9.1 - SG_REG_BRTH\n"
     ]
    },
    {
     "data": {
      "text/plain": [
       "[2006, 2007, 2009, 2010, 2011, 2012, 2013, 2014, 2015, 2016, 2017, 2018]"
      ]
     },
     "execution_count": 39,
     "metadata": {},
     "output_type": "execute_result"
    },
    {
     "name": "stdout",
     "output_type": "stream",
     "text": [
      "----\n",
      "wide_Indicator_16.9.1_Series_SG_REG_BRTH.json\n",
      "Indicator_16.10.1_Series_VC_VAW_MTUHRA.json\n",
      "16.10.1 - VC_VAW_MTUHRA\n"
     ]
    },
    {
     "data": {
      "text/plain": [
       "[]"
      ]
     },
     "execution_count": 39,
     "metadata": {},
     "output_type": "execute_result"
    },
    {
     "name": "stdout",
     "output_type": "stream",
     "text": [
      "----\n",
      "wide_Indicator_16.10.1_Series_VC_VAW_MTUHRA.json\n",
      "Indicator_16.10.2_Series_SG_INF_ACCSS.json\n",
      "16.10.2 - SG_INF_ACCSS\n"
     ]
    },
    {
     "data": {
      "text/plain": [
       "[2019]"
      ]
     },
     "execution_count": 39,
     "metadata": {},
     "output_type": "execute_result"
    },
    {
     "name": "stdout",
     "output_type": "stream",
     "text": [
      "----\n",
      "wide_Indicator_16.10.2_Series_SG_INF_ACCSS.json\n",
      "Indicator_16.a.1_Series_SG_NHR_IMPL.json\n",
      "16.a.1 - SG_NHR_IMPL\n"
     ]
    },
    {
     "data": {
      "text/plain": [
       "[]"
      ]
     },
     "execution_count": 39,
     "metadata": {},
     "output_type": "execute_result"
    },
    {
     "name": "stdout",
     "output_type": "stream",
     "text": [
      "----\n",
      "wide_Indicator_16.a.1_Series_SG_NHR_IMPL.json\n",
      "Indicator_16.a.1_Series_SG_NHR_IMPLN.json\n",
      "16.a.1 - SG_NHR_IMPLN\n"
     ]
    },
    {
     "data": {
      "text/plain": [
       "[2000, 2005, 2010, 2015, 2016, 2017, 2018]"
      ]
     },
     "execution_count": 39,
     "metadata": {},
     "output_type": "execute_result"
    },
    {
     "name": "stdout",
     "output_type": "stream",
     "text": [
      "----\n",
      "wide_Indicator_16.a.1_Series_SG_NHR_IMPLN.json\n",
      "Indicator_16.a.1_Series_SG_NHR_INTEXST.json\n",
      "16.a.1 - SG_NHR_INTEXST\n"
     ]
    },
    {
     "data": {
      "text/plain": [
       "[]"
      ]
     },
     "execution_count": 39,
     "metadata": {},
     "output_type": "execute_result"
    },
    {
     "name": "stdout",
     "output_type": "stream",
     "text": [
      "----\n",
      "wide_Indicator_16.a.1_Series_SG_NHR_INTEXST.json\n",
      "Indicator_16.a.1_Series_SG_NHR_NOSTUSN.json\n",
      "16.a.1 - SG_NHR_NOSTUSN\n"
     ]
    },
    {
     "data": {
      "text/plain": [
       "[2000, 2005, 2010, 2015, 2016, 2017, 2018]"
      ]
     },
     "execution_count": 39,
     "metadata": {},
     "output_type": "execute_result"
    },
    {
     "name": "stdout",
     "output_type": "stream",
     "text": [
      "----\n",
      "wide_Indicator_16.a.1_Series_SG_NHR_NOSTUSN.json\n",
      "Indicator_16.a.1_Series_SG_NHR_INTEXSTN.json\n",
      "16.a.1 - SG_NHR_INTEXSTN\n"
     ]
    },
    {
     "data": {
      "text/plain": [
       "[2000, 2005, 2010, 2015, 2016, 2017, 2018]"
      ]
     },
     "execution_count": 39,
     "metadata": {},
     "output_type": "execute_result"
    },
    {
     "name": "stdout",
     "output_type": "stream",
     "text": [
      "----\n",
      "wide_Indicator_16.a.1_Series_SG_NHR_INTEXSTN.json\n",
      "Indicator_16.a.1_Series_SG_NHR_NOAPPLN.json\n",
      "16.a.1 - SG_NHR_NOAPPLN\n"
     ]
    },
    {
     "data": {
      "text/plain": [
       "[2000, 2005, 2010, 2015, 2016, 2017, 2018]"
      ]
     },
     "execution_count": 39,
     "metadata": {},
     "output_type": "execute_result"
    },
    {
     "name": "stdout",
     "output_type": "stream",
     "text": [
      "----\n",
      "wide_Indicator_16.a.1_Series_SG_NHR_NOAPPLN.json\n",
      "Indicator_17.2.1_Series_DC_ODA_SIDSG.json\n",
      "17.2.1 - DC_ODA_SIDSG\n"
     ]
    },
    {
     "data": {
      "text/plain": [
       "[2000,\n",
       " 2001,\n",
       " 2002,\n",
       " 2003,\n",
       " 2004,\n",
       " 2005,\n",
       " 2006,\n",
       " 2007,\n",
       " 2008,\n",
       " 2009,\n",
       " 2010,\n",
       " 2011,\n",
       " 2012,\n",
       " 2013,\n",
       " 2014,\n",
       " 2015,\n",
       " 2016]"
      ]
     },
     "execution_count": 39,
     "metadata": {},
     "output_type": "execute_result"
    },
    {
     "name": "stdout",
     "output_type": "stream",
     "text": [
      "----\n",
      "wide_Indicator_17.2.1_Series_DC_ODA_SIDSG.json\n",
      "Indicator_17.2.1_Series_DC_ODA_LDCG.json\n",
      "17.2.1 - DC_ODA_LDCG\n"
     ]
    },
    {
     "data": {
      "text/plain": [
       "[2000,\n",
       " 2001,\n",
       " 2002,\n",
       " 2003,\n",
       " 2004,\n",
       " 2005,\n",
       " 2006,\n",
       " 2007,\n",
       " 2008,\n",
       " 2009,\n",
       " 2010,\n",
       " 2011,\n",
       " 2012,\n",
       " 2013,\n",
       " 2014,\n",
       " 2015]"
      ]
     },
     "execution_count": 39,
     "metadata": {},
     "output_type": "execute_result"
    },
    {
     "name": "stdout",
     "output_type": "stream",
     "text": [
      "----\n",
      "wide_Indicator_17.2.1_Series_DC_ODA_LDCG.json\n",
      "Indicator_17.2.1_Series_DC_ODA_LLDC.json\n",
      "17.2.1 - DC_ODA_LLDC\n"
     ]
    },
    {
     "data": {
      "text/plain": [
       "[2000,\n",
       " 2001,\n",
       " 2002,\n",
       " 2003,\n",
       " 2004,\n",
       " 2005,\n",
       " 2006,\n",
       " 2007,\n",
       " 2008,\n",
       " 2009,\n",
       " 2010,\n",
       " 2011,\n",
       " 2012,\n",
       " 2013,\n",
       " 2014,\n",
       " 2015,\n",
       " 2016]"
      ]
     },
     "execution_count": 39,
     "metadata": {},
     "output_type": "execute_result"
    },
    {
     "name": "stdout",
     "output_type": "stream",
     "text": [
      "----\n",
      "wide_Indicator_17.2.1_Series_DC_ODA_LLDC.json\n",
      "Indicator_17.2.1_Series_DC_ODA_SIDS.json\n",
      "17.2.1 - DC_ODA_SIDS\n"
     ]
    },
    {
     "data": {
      "text/plain": [
       "[2000,\n",
       " 2001,\n",
       " 2002,\n",
       " 2003,\n",
       " 2004,\n",
       " 2005,\n",
       " 2006,\n",
       " 2007,\n",
       " 2008,\n",
       " 2009,\n",
       " 2010,\n",
       " 2011,\n",
       " 2012,\n",
       " 2013,\n",
       " 2014,\n",
       " 2015,\n",
       " 2016]"
      ]
     },
     "execution_count": 39,
     "metadata": {},
     "output_type": "execute_result"
    },
    {
     "name": "stdout",
     "output_type": "stream",
     "text": [
      "----\n",
      "wide_Indicator_17.2.1_Series_DC_ODA_SIDS.json\n",
      "Indicator_17.2.1_Series_DC_ODA_LDCS.json\n",
      "17.2.1 - DC_ODA_LDCS\n"
     ]
    },
    {
     "data": {
      "text/plain": [
       "[2000,\n",
       " 2001,\n",
       " 2002,\n",
       " 2003,\n",
       " 2004,\n",
       " 2005,\n",
       " 2006,\n",
       " 2007,\n",
       " 2008,\n",
       " 2009,\n",
       " 2010,\n",
       " 2011,\n",
       " 2012,\n",
       " 2013,\n",
       " 2014,\n",
       " 2015,\n",
       " 2016]"
      ]
     },
     "execution_count": 39,
     "metadata": {},
     "output_type": "execute_result"
    },
    {
     "name": "stdout",
     "output_type": "stream",
     "text": [
      "----\n",
      "wide_Indicator_17.2.1_Series_DC_ODA_LDCS.json\n",
      "Indicator_17.2.1_Series_DC_ODA_LLDCG.json\n",
      "17.2.1 - DC_ODA_LLDCG\n"
     ]
    },
    {
     "data": {
      "text/plain": [
       "[2000,\n",
       " 2001,\n",
       " 2002,\n",
       " 2003,\n",
       " 2004,\n",
       " 2005,\n",
       " 2006,\n",
       " 2007,\n",
       " 2008,\n",
       " 2009,\n",
       " 2010,\n",
       " 2011,\n",
       " 2012,\n",
       " 2013,\n",
       " 2014,\n",
       " 2015,\n",
       " 2016]"
      ]
     },
     "execution_count": 39,
     "metadata": {},
     "output_type": "execute_result"
    },
    {
     "name": "stdout",
     "output_type": "stream",
     "text": [
      "----\n",
      "wide_Indicator_17.2.1_Series_DC_ODA_LLDCG.json\n",
      "Indicator_17.2.1_Series_DC_ODA_TOTG.json\n",
      "17.2.1 - DC_ODA_TOTG\n"
     ]
    },
    {
     "data": {
      "text/plain": [
       "[2000,\n",
       " 2001,\n",
       " 2002,\n",
       " 2003,\n",
       " 2004,\n",
       " 2005,\n",
       " 2006,\n",
       " 2007,\n",
       " 2008,\n",
       " 2009,\n",
       " 2010,\n",
       " 2011,\n",
       " 2012,\n",
       " 2013,\n",
       " 2014,\n",
       " 2015,\n",
       " 2016,\n",
       " 2017]"
      ]
     },
     "execution_count": 39,
     "metadata": {},
     "output_type": "execute_result"
    },
    {
     "name": "stdout",
     "output_type": "stream",
     "text": [
      "----\n",
      "wide_Indicator_17.2.1_Series_DC_ODA_TOTG.json\n",
      "Indicator_17.2.1_Series_DC_ODA_TOTL.json\n",
      "17.2.1 - DC_ODA_TOTL\n"
     ]
    },
    {
     "data": {
      "text/plain": [
       "[2000,\n",
       " 2001,\n",
       " 2002,\n",
       " 2003,\n",
       " 2004,\n",
       " 2005,\n",
       " 2006,\n",
       " 2007,\n",
       " 2008,\n",
       " 2009,\n",
       " 2010,\n",
       " 2011,\n",
       " 2012,\n",
       " 2013,\n",
       " 2014,\n",
       " 2015,\n",
       " 2016,\n",
       " 2017]"
      ]
     },
     "execution_count": 39,
     "metadata": {},
     "output_type": "execute_result"
    },
    {
     "name": "stdout",
     "output_type": "stream",
     "text": [
      "----\n",
      "wide_Indicator_17.2.1_Series_DC_ODA_TOTL.json\n",
      "Indicator_17.3.2_Series_BX_TRF_PWKR.json\n",
      "17.3.2 - BX_TRF_PWKR\n"
     ]
    },
    {
     "data": {
      "text/plain": [
       "[1990,\n",
       " 1991,\n",
       " 1992,\n",
       " 1993,\n",
       " 1994,\n",
       " 1995,\n",
       " 1996,\n",
       " 1997,\n",
       " 1998,\n",
       " 1999,\n",
       " 2000,\n",
       " 2001,\n",
       " 2002,\n",
       " 2003,\n",
       " 2004,\n",
       " 2005,\n",
       " 2006,\n",
       " 2007,\n",
       " 2008,\n",
       " 2009,\n",
       " 2010,\n",
       " 2011,\n",
       " 2012,\n",
       " 2013,\n",
       " 2014,\n",
       " 2015,\n",
       " 2016]"
      ]
     },
     "execution_count": 39,
     "metadata": {},
     "output_type": "execute_result"
    },
    {
     "name": "stdout",
     "output_type": "stream",
     "text": [
      "----\n",
      "wide_Indicator_17.3.2_Series_BX_TRF_PWKR.json\n",
      "Indicator_17.4.1_Series_DT_TDS_DECT.json\n",
      "17.4.1 - DT_TDS_DECT\n"
     ]
    },
    {
     "data": {
      "text/plain": [
       "[1990,\n",
       " 1991,\n",
       " 1992,\n",
       " 1993,\n",
       " 1994,\n",
       " 1995,\n",
       " 1996,\n",
       " 1997,\n",
       " 1998,\n",
       " 1999,\n",
       " 2000,\n",
       " 2001,\n",
       " 2002,\n",
       " 2003,\n",
       " 2004,\n",
       " 2005,\n",
       " 2006,\n",
       " 2007,\n",
       " 2008,\n",
       " 2009,\n",
       " 2010,\n",
       " 2011,\n",
       " 2012,\n",
       " 2013,\n",
       " 2014,\n",
       " 2015,\n",
       " 2016]"
      ]
     },
     "execution_count": 39,
     "metadata": {},
     "output_type": "execute_result"
    },
    {
     "name": "stdout",
     "output_type": "stream",
     "text": [
      "----\n",
      "wide_Indicator_17.4.1_Series_DT_TDS_DECT.json\n",
      "Indicator_17.6.2_Series_IT_NET_BBN.json\n",
      "17.6.2 - IT_NET_BBN\n"
     ]
    },
    {
     "data": {
      "text/plain": [
       "[2000,\n",
       " 2001,\n",
       " 2002,\n",
       " 2003,\n",
       " 2004,\n",
       " 2005,\n",
       " 2006,\n",
       " 2007,\n",
       " 2008,\n",
       " 2009,\n",
       " 2010,\n",
       " 2011,\n",
       " 2012,\n",
       " 2013,\n",
       " 2014,\n",
       " 2015,\n",
       " 2016,\n",
       " 2017]"
      ]
     },
     "execution_count": 39,
     "metadata": {},
     "output_type": "execute_result"
    },
    {
     "name": "stdout",
     "output_type": "stream",
     "text": [
      "----\n",
      "wide_Indicator_17.6.2_Series_IT_NET_BBN.json\n",
      "Indicator_17.6.2_Series_IT_NET_BBP.json\n",
      "17.6.2 - IT_NET_BBP\n"
     ]
    },
    {
     "data": {
      "text/plain": [
       "[2000,\n",
       " 2001,\n",
       " 2002,\n",
       " 2003,\n",
       " 2004,\n",
       " 2005,\n",
       " 2006,\n",
       " 2007,\n",
       " 2008,\n",
       " 2009,\n",
       " 2010,\n",
       " 2011,\n",
       " 2012,\n",
       " 2013,\n",
       " 2014,\n",
       " 2015,\n",
       " 2016,\n",
       " 2017]"
      ]
     },
     "execution_count": 39,
     "metadata": {},
     "output_type": "execute_result"
    },
    {
     "name": "stdout",
     "output_type": "stream",
     "text": [
      "----\n",
      "wide_Indicator_17.6.2_Series_IT_NET_BBP.json\n",
      "Indicator_17.8.1_Series_IT_USE_ii99.json\n",
      "17.8.1 - IT_USE_ii99\n"
     ]
    },
    {
     "data": {
      "text/plain": [
       "[2000,\n",
       " 2001,\n",
       " 2002,\n",
       " 2003,\n",
       " 2004,\n",
       " 2005,\n",
       " 2006,\n",
       " 2007,\n",
       " 2008,\n",
       " 2009,\n",
       " 2010,\n",
       " 2011,\n",
       " 2012,\n",
       " 2013,\n",
       " 2014,\n",
       " 2015,\n",
       " 2016,\n",
       " 2017]"
      ]
     },
     "execution_count": 39,
     "metadata": {},
     "output_type": "execute_result"
    },
    {
     "name": "stdout",
     "output_type": "stream",
     "text": [
      "----\n",
      "wide_Indicator_17.8.1_Series_IT_USE_ii99.json\n",
      "Indicator_17.9.1_Series_DC_FTA_TOTAL.json\n",
      "17.9.1 - DC_FTA_TOTAL\n"
     ]
    },
    {
     "data": {
      "text/plain": [
       "[2000,\n",
       " 2001,\n",
       " 2002,\n",
       " 2003,\n",
       " 2004,\n",
       " 2005,\n",
       " 2006,\n",
       " 2007,\n",
       " 2008,\n",
       " 2009,\n",
       " 2010,\n",
       " 2011,\n",
       " 2012,\n",
       " 2013,\n",
       " 2014,\n",
       " 2015,\n",
       " 2016]"
      ]
     },
     "execution_count": 39,
     "metadata": {},
     "output_type": "execute_result"
    },
    {
     "name": "stdout",
     "output_type": "stream",
     "text": [
      "----\n",
      "wide_Indicator_17.9.1_Series_DC_FTA_TOTAL.json\n",
      "Indicator_17.10.1_Series_TM_TAX_WWTAV.json\n",
      "17.10.1 - TM_TAX_WWTAV\n"
     ]
    },
    {
     "data": {
      "text/plain": [
       "[]"
      ]
     },
     "execution_count": 39,
     "metadata": {},
     "output_type": "execute_result"
    },
    {
     "name": "stdout",
     "output_type": "stream",
     "text": [
      "----\n",
      "wide_Indicator_17.10.1_Series_TM_TAX_WWTAV.json\n",
      "Indicator_17.11.1_Series_TX_IMP_GBMRCH.json\n",
      "17.11.1 - TX_IMP_GBMRCH\n"
     ]
    },
    {
     "data": {
      "text/plain": [
       "[]"
      ]
     },
     "execution_count": 39,
     "metadata": {},
     "output_type": "execute_result"
    },
    {
     "name": "stdout",
     "output_type": "stream",
     "text": [
      "----\n",
      "wide_Indicator_17.11.1_Series_TX_IMP_GBMRCH.json\n",
      "Indicator_17.11.1_Series_TX_EXP_GBMRCH.json\n",
      "17.11.1 - TX_EXP_GBMRCH\n"
     ]
    },
    {
     "data": {
      "text/plain": [
       "[]"
      ]
     },
     "execution_count": 39,
     "metadata": {},
     "output_type": "execute_result"
    },
    {
     "name": "stdout",
     "output_type": "stream",
     "text": [
      "----\n",
      "wide_Indicator_17.11.1_Series_TX_EXP_GBMRCH.json\n",
      "Indicator_17.11.1_Series_TX_EXP_GBSVR.json\n",
      "17.11.1 - TX_EXP_GBSVR\n"
     ]
    },
    {
     "data": {
      "text/plain": [
       "[]"
      ]
     },
     "execution_count": 39,
     "metadata": {},
     "output_type": "execute_result"
    },
    {
     "name": "stdout",
     "output_type": "stream",
     "text": [
      "----\n",
      "wide_Indicator_17.11.1_Series_TX_EXP_GBSVR.json\n",
      "Indicator_17.11.1_Series_TX_IMP_GBSVR.json\n",
      "17.11.1 - TX_IMP_GBSVR\n"
     ]
    },
    {
     "data": {
      "text/plain": [
       "[]"
      ]
     },
     "execution_count": 39,
     "metadata": {},
     "output_type": "execute_result"
    },
    {
     "name": "stdout",
     "output_type": "stream",
     "text": [
      "----\n",
      "wide_Indicator_17.11.1_Series_TX_IMP_GBSVR.json\n",
      "Indicator_17.12.1_Series_TM_TAX_ATRFD.json\n",
      "17.12.1 - TM_TAX_ATRFD\n"
     ]
    },
    {
     "data": {
      "text/plain": [
       "[]"
      ]
     },
     "execution_count": 39,
     "metadata": {},
     "output_type": "execute_result"
    },
    {
     "name": "stdout",
     "output_type": "stream",
     "text": [
      "----\n",
      "wide_Indicator_17.12.1_Series_TM_TAX_ATRFD.json\n",
      "Indicator_17.15.1_Series_SG_PLN_PRVRIMON.json\n",
      "17.15.1 - SG_PLN_PRVRIMON\n"
     ]
    },
    {
     "data": {
      "text/plain": [
       "[2017]"
      ]
     },
     "execution_count": 39,
     "metadata": {},
     "output_type": "execute_result"
    },
    {
     "name": "stdout",
     "output_type": "stream",
     "text": [
      "----\n",
      "wide_Indicator_17.15.1_Series_SG_PLN_PRVRIMON.json\n",
      "Indicator_17.15.1_Series_SG_PLN_RECRIMON.json\n",
      "17.15.1 - SG_PLN_RECRIMON\n"
     ]
    },
    {
     "data": {
      "text/plain": [
       "[2017]"
      ]
     },
     "execution_count": 39,
     "metadata": {},
     "output_type": "execute_result"
    },
    {
     "name": "stdout",
     "output_type": "stream",
     "text": [
      "----\n",
      "wide_Indicator_17.15.1_Series_SG_PLN_RECRIMON.json\n",
      "Indicator_17.15.1_Series_SG_PLN_PRVNDI.json\n",
      "17.15.1 - SG_PLN_PRVNDI\n"
     ]
    },
    {
     "data": {
      "text/plain": [
       "[2017]"
      ]
     },
     "execution_count": 39,
     "metadata": {},
     "output_type": "execute_result"
    },
    {
     "name": "stdout",
     "output_type": "stream",
     "text": [
      "----\n",
      "wide_Indicator_17.15.1_Series_SG_PLN_PRVNDI.json\n",
      "Indicator_17.15.1_Series_SG_PLN_RECNDI.json\n",
      "17.15.1 - SG_PLN_RECNDI\n"
     ]
    },
    {
     "data": {
      "text/plain": [
       "[2017]"
      ]
     },
     "execution_count": 39,
     "metadata": {},
     "output_type": "execute_result"
    },
    {
     "name": "stdout",
     "output_type": "stream",
     "text": [
      "----\n",
      "wide_Indicator_17.15.1_Series_SG_PLN_RECNDI.json\n",
      "Indicator_17.15.1_Series_SG_PLN_PRVRICTRY.json\n",
      "17.15.1 - SG_PLN_PRVRICTRY\n"
     ]
    },
    {
     "data": {
      "text/plain": [
       "[2017]"
      ]
     },
     "execution_count": 39,
     "metadata": {},
     "output_type": "execute_result"
    },
    {
     "name": "stdout",
     "output_type": "stream",
     "text": [
      "----\n",
      "wide_Indicator_17.15.1_Series_SG_PLN_PRVRICTRY.json\n",
      "Indicator_17.15.1_Series_SG_PLN_RECRICTRY.json\n",
      "17.15.1 - SG_PLN_RECRICTRY\n"
     ]
    },
    {
     "data": {
      "text/plain": [
       "[2017]"
      ]
     },
     "execution_count": 39,
     "metadata": {},
     "output_type": "execute_result"
    },
    {
     "name": "stdout",
     "output_type": "stream",
     "text": [
      "----\n",
      "wide_Indicator_17.15.1_Series_SG_PLN_RECRICTRY.json\n",
      "Indicator_17.15.1_Series_SG_PLN_REPOLRES.json\n",
      "17.15.1 - SG_PLN_REPOLRES\n"
     ]
    },
    {
     "data": {
      "text/plain": [
       "[2017]"
      ]
     },
     "execution_count": 39,
     "metadata": {},
     "output_type": "execute_result"
    },
    {
     "name": "stdout",
     "output_type": "stream",
     "text": [
      "----\n",
      "wide_Indicator_17.15.1_Series_SG_PLN_REPOLRES.json\n",
      "Indicator_17.15.1_Series_SG_PLN_PRPOLRES.json\n",
      "17.15.1 - SG_PLN_PRPOLRES\n"
     ]
    },
    {
     "data": {
      "text/plain": [
       "[2017]"
      ]
     },
     "execution_count": 39,
     "metadata": {},
     "output_type": "execute_result"
    },
    {
     "name": "stdout",
     "output_type": "stream",
     "text": [
      "----\n",
      "wide_Indicator_17.15.1_Series_SG_PLN_PRPOLRES.json\n",
      "Indicator_17.16.1_Series_SG_PLN_MSTKSDG.json\n",
      "17.16.1 - SG_PLN_MSTKSDG\n"
     ]
    },
    {
     "data": {
      "text/plain": [
       "[2017]"
      ]
     },
     "execution_count": 39,
     "metadata": {},
     "output_type": "execute_result"
    },
    {
     "name": "stdout",
     "output_type": "stream",
     "text": [
      "----\n",
      "wide_Indicator_17.16.1_Series_SG_PLN_MSTKSDG.json\n",
      "Indicator_17.18.2_Series_SG_STT_FPOS.json\n",
      "17.18.2 - SG_STT_FPOS\n"
     ]
    },
    {
     "data": {
      "text/plain": [
       "[2018]"
      ]
     },
     "execution_count": 39,
     "metadata": {},
     "output_type": "execute_result"
    },
    {
     "name": "stdout",
     "output_type": "stream",
     "text": [
      "----\n",
      "wide_Indicator_17.18.2_Series_SG_STT_FPOS.json\n",
      "Indicator_17.18.3_Series_SG_STT_NSDSFDGVT.json\n",
      "17.18.3 - SG_STT_NSDSFDGVT\n"
     ]
    },
    {
     "data": {
      "text/plain": [
       "[2018]"
      ]
     },
     "execution_count": 39,
     "metadata": {},
     "output_type": "execute_result"
    },
    {
     "name": "stdout",
     "output_type": "stream",
     "text": [
      "----\n",
      "wide_Indicator_17.18.3_Series_SG_STT_NSDSFDGVT.json\n",
      "Indicator_17.18.3_Series_SG_STT_NSDSFDDNR.json\n",
      "17.18.3 - SG_STT_NSDSFDDNR\n"
     ]
    },
    {
     "data": {
      "text/plain": [
       "[2018]"
      ]
     },
     "execution_count": 39,
     "metadata": {},
     "output_type": "execute_result"
    },
    {
     "name": "stdout",
     "output_type": "stream",
     "text": [
      "----\n",
      "wide_Indicator_17.18.3_Series_SG_STT_NSDSFDDNR.json\n",
      "Indicator_17.18.3_Series_SG_STT_NSDSFDOTHR.json\n",
      "17.18.3 - SG_STT_NSDSFDOTHR\n"
     ]
    },
    {
     "data": {
      "text/plain": [
       "[2018]"
      ]
     },
     "execution_count": 39,
     "metadata": {},
     "output_type": "execute_result"
    },
    {
     "name": "stdout",
     "output_type": "stream",
     "text": [
      "----\n",
      "wide_Indicator_17.18.3_Series_SG_STT_NSDSFDOTHR.json\n",
      "Indicator_17.18.3_Series_SG_STT_NSDSIMPL.json\n",
      "17.18.3 - SG_STT_NSDSIMPL\n"
     ]
    },
    {
     "data": {
      "text/plain": [
       "[2018]"
      ]
     },
     "execution_count": 39,
     "metadata": {},
     "output_type": "execute_result"
    },
    {
     "name": "stdout",
     "output_type": "stream",
     "text": [
      "----\n",
      "wide_Indicator_17.18.3_Series_SG_STT_NSDSIMPL.json\n",
      "Indicator_17.18.3_Series_SG_STT_NSDSFND.json\n",
      "17.18.3 - SG_STT_NSDSFND\n"
     ]
    },
    {
     "data": {
      "text/plain": [
       "[2018]"
      ]
     },
     "execution_count": 39,
     "metadata": {},
     "output_type": "execute_result"
    },
    {
     "name": "stdout",
     "output_type": "stream",
     "text": [
      "----\n",
      "wide_Indicator_17.18.3_Series_SG_STT_NSDSFND.json\n",
      "Indicator_17.19.1_Series_SG_STT_CAPTY.json\n",
      "17.19.1 - SG_STT_CAPTY\n"
     ]
    },
    {
     "data": {
      "text/plain": [
       "[2006, 2007, 2008, 2009, 2010, 2011, 2012, 2013, 2014, 2015, 2016]"
      ]
     },
     "execution_count": 39,
     "metadata": {},
     "output_type": "execute_result"
    },
    {
     "name": "stdout",
     "output_type": "stream",
     "text": [
      "----\n",
      "wide_Indicator_17.19.1_Series_SG_STT_CAPTY.json\n",
      "Indicator_17.19.2_Series_SG_REG_BRTH90.json\n",
      "17.19.2 - SG_REG_BRTH90\n"
     ]
    },
    {
     "data": {
      "text/plain": [
       "[]"
      ]
     },
     "execution_count": 39,
     "metadata": {},
     "output_type": "execute_result"
    },
    {
     "name": "stdout",
     "output_type": "stream",
     "text": [
      "----\n",
      "wide_Indicator_17.19.2_Series_SG_REG_BRTH90.json\n",
      "Indicator_17.19.2_Series_SG_REG_DETH75.json\n",
      "17.19.2 - SG_REG_DETH75\n"
     ]
    },
    {
     "data": {
      "text/plain": [
       "[]"
      ]
     },
     "execution_count": 39,
     "metadata": {},
     "output_type": "execute_result"
    },
    {
     "name": "stdout",
     "output_type": "stream",
     "text": [
      "----\n",
      "wide_Indicator_17.19.2_Series_SG_REG_DETH75.json\n",
      "Indicator_17.19.2_Series_SG_REG_CENSUS.json\n",
      "17.19.2 - SG_REG_CENSUS\n"
     ]
    },
    {
     "data": {
      "text/plain": [
       "[]"
      ]
     },
     "execution_count": 39,
     "metadata": {},
     "output_type": "execute_result"
    },
    {
     "name": "stdout",
     "output_type": "stream",
     "text": [
      "----\n",
      "wide_Indicator_17.19.2_Series_SG_REG_CENSUS.json\n",
      "Indicator_17.19.2_Series_SG_REG_CENSUSN.json\n",
      "17.19.2 - SG_REG_CENSUSN\n"
     ]
    },
    {
     "data": {
      "text/plain": [
       "[2008, 2009, 2010, 2011, 2012, 2013, 2014, 2015, 2016, 2017]"
      ]
     },
     "execution_count": 39,
     "metadata": {},
     "output_type": "execute_result"
    },
    {
     "name": "stdout",
     "output_type": "stream",
     "text": [
      "----\n",
      "wide_Indicator_17.19.2_Series_SG_REG_CENSUSN.json\n",
      "Indicator_17.19.2_Series_SG_REG_BRTH90N.json\n",
      "17.19.2 - SG_REG_BRTH90N\n"
     ]
    },
    {
     "data": {
      "text/plain": [
       "[2015, 2016]"
      ]
     },
     "execution_count": 39,
     "metadata": {},
     "output_type": "execute_result"
    },
    {
     "name": "stdout",
     "output_type": "stream",
     "text": [
      "----\n",
      "wide_Indicator_17.19.2_Series_SG_REG_BRTH90N.json\n",
      "Indicator_17.19.2_Series_SG_REG_DETH75N.json\n",
      "17.19.2 - SG_REG_DETH75N\n"
     ]
    },
    {
     "data": {
      "text/plain": [
       "[2015, 2016]"
      ]
     },
     "execution_count": 39,
     "metadata": {},
     "output_type": "execute_result"
    },
    {
     "name": "stdout",
     "output_type": "stream",
     "text": [
      "----\n",
      "wide_Indicator_17.19.2_Series_SG_REG_DETH75N.json\n"
     ]
    }
   ],
   "source": [
    "with open(wd_dir + 'globalResources/metadata.json') as json_file:  \n",
    "    metadata = json.load(json_file)\n",
    "\n",
    "\n",
    "for g in metadata:\n",
    "    for t in g['targets']:\n",
    "        for i in t['indicators']:\n",
    "            if 'series' in i.keys():\n",
    "                for s in i['series']:\n",
    "                    \n",
    "                    # Read data file:\n",
    "                    \n",
    "                    file = 'Indicator_'+i['reference']+'_Series_'+s['code']+'.json'\n",
    "\n",
    "                    with open(wd_dir + 'data/unsd/2019.Q1.G.03/' + file) as json_file:  \n",
    "                        data = json.load(json_file)\n",
    "                        \n",
    "                    # Select only refAreas that have coordinates:\n",
    "                        \n",
    "                    ref_areas_publish = []\n",
    "                    for d in data['refAreas']:\n",
    "                        if d['X'] and d['Y']:\n",
    "                            ref_areas_publish.append(d)\n",
    "                            \n",
    "                    # Select unique time periods among all records:\n",
    "                            \n",
    "                    temp = []\n",
    "                    timePeriods = []\n",
    "\n",
    "                    for ra in ref_areas_publish:\n",
    "                        temp.extend(subdict_list(ra['data'], ['timePeriod'], exclude = False))\n",
    "\n",
    "                    for dt in unique_dicts(temp):\n",
    "                        timePeriods.append(dt['timePeriod'])\n",
    "\n",
    "                    timePeriods.sort()\n",
    "                    \n",
    "                    temp = []\n",
    "                    \n",
    "                    # Obtain unique slices:\n",
    "\n",
    "                    for ra in ref_areas_publish:\n",
    "                        temp.extend(subdict_list(ra['data'], ['timePeriod','timeDetail',\n",
    "                                                              'source','footnotes',\n",
    "                                                              'natureCode', 'natureDesc',\n",
    "                                                              'unitsCode', 'unitsDesc',\n",
    "                                                              'unitmultiplierCode', 'unitmultiplierDesc',\n",
    "                                                              'reportingTypeCode', 'reportingTypeDesc',\n",
    "                                                              'value_numeric_part',\n",
    "                                                              'value_is_censored',\n",
    "                                                              'value_detail'\n",
    "                                                             ], exclude = True))\n",
    "\n",
    "                    slices = unique_dicts(temp)\n",
    "                            \n",
    "                    for ra in ref_areas_publish:\n",
    "                        \n",
    "                        data_new = []\n",
    "\n",
    "                        for j in slices:\n",
    "                            \n",
    "                            # Select data corresponding to reference area ra and slice j:\n",
    "                            slice_values = set(j.values())\n",
    "                            slice_keys = set(j.keys())\n",
    "                            slice_data = []\n",
    "\n",
    "                            slice_data_wide = j.copy()\n",
    "\n",
    "                            for record in ra['data']:\n",
    "                                record_values = set(record.values())\n",
    "                                if slice_values <= record_values:\n",
    "                                    slice_data.append(record)\n",
    "\n",
    "                            #----------------------------\n",
    "                            slice_footnotes = []\n",
    "                            slice_sources = []\n",
    "                            slice_timeDetails = []\n",
    "                            slice_years = []\n",
    "                            slice_unitsCode = []\n",
    "                            slice_unitsDesc = []\n",
    "                            slice_unitmultiplierCode = []\n",
    "                            slice_unitmultiplierDesc = []\n",
    "                            slice_reportingTypeCode = []\n",
    "                            slice_reportingTypeDesc = []\n",
    "\n",
    "\n",
    "                            for r in slice_data:\n",
    "                                if 'footnotes' in r.keys():\n",
    "                                    slice_footnotes.append(r['footnotes'])\n",
    "                                if 'source' in r.keys():\n",
    "                                    slice_sources.append(r['source'])\n",
    "                                if 'timeDetail' in r.keys():\n",
    "                                    slice_timeDetails.append(r['timeDetail'])\n",
    "                                if 'timePeriod' in r.keys():\n",
    "                                    slice_years.append(r['timePeriod'])\n",
    "                                if 'unitsCode' in r.keys():\n",
    "                                    slice_unitsCode.append(r['unitsCode'])\n",
    "                                if 'unitsDesc' in r.keys():\n",
    "                                    slice_unitsDesc.append(r['unitsDesc'])\n",
    "                                if 'unitmultiplierCode' in r.keys():\n",
    "                                    slice_unitmultiplierCode.append(r['unitmultiplierCode'])\n",
    "                                if 'unitmultiplierDesc' in r.keys():\n",
    "                                    slice_unitmultiplierDesc.append(r['unitmultiplierDesc'])\n",
    "                                if 'reportingTypeCode' in r.keys():\n",
    "                                    slice_reportingTypeCode.append(r['reportingTypeCode'])\n",
    "                                if 'reportingTypeDesc' in r.keys():\n",
    "                                    slice_reportingTypeDesc.append(r['reportingTypeDesc'])\n",
    "\n",
    "                            slice_footnotes = list(set(slice_footnotes))\n",
    "                            slice_sources = list(set(slice_sources))\n",
    "                            slice_timeDetails = list(set(slice_timeDetails))\n",
    "\n",
    "                            max_year = None\n",
    "                            if len(slice_years)>0:\n",
    "                                max_year = max(slice_years)\n",
    "\n",
    "                            slice_unitsCode = ' // '.join(list(set(slice_unitsCode)))\n",
    "                            slice_unitsDesc = ' // '.join(list(set(slice_unitsDesc)))\n",
    "                            slice_unitmultiplierCode = ' // '.join(list(set(slice_unitmultiplierCode)))\n",
    "                            slice_unitmultiplierDesc = ' // '.join(list(set(slice_unitmultiplierDesc)))\n",
    "                            slice_reportingTypeCode = ' // '.join(list(set(slice_reportingTypeCode)))\n",
    "                            slice_reportingTypeDesc = ' // '.join(list(set(slice_reportingTypeDesc)))\n",
    "\n",
    "\n",
    "                            slice_data_wide['unitsCode'] = slice_unitsCode\n",
    "                            slice_data_wide['unitsDesc'] = slice_unitsDesc\n",
    "                            slice_data_wide['unitmultiplierCode'] = slice_unitmultiplierCode\n",
    "                            slice_data_wide['unitmultiplierDesc'] = slice_unitmultiplierDesc\n",
    "                            slice_data_wide['reportingTypeCode'] = slice_reportingTypeCode\n",
    "                            slice_data_wide['reportingTypeDesc'] = slice_reportingTypeDesc\n",
    "\n",
    "\n",
    "                            #----------------------------\n",
    "\n",
    "                            slice_footnote_join = []\n",
    "                            counter = 0\n",
    "                            for fn in slice_footnotes:\n",
    "                                counter += 1\n",
    "                                fn_years = []\n",
    "                                for r in slice_data:\n",
    "                                    if 'footnotes' in r.keys():\n",
    "                                        if fn == r['footnotes']:\n",
    "                                            fn_years.append(r['timePeriod'])\n",
    "                                if fn:\n",
    "                                    slice_footnote_join.append('['+year_intervals(fn_years)+']: ' + fn)\n",
    "                                    \n",
    "                                    \n",
    "\n",
    "                            slice_footnote_join.sort()\n",
    "                            slice_footnote_join = ' // '.join(slice_footnote_join)\n",
    "\n",
    "                            slice_data_wide['footnotes'] = slice_footnote_join\n",
    "\n",
    "                            #-----------------------\n",
    "\n",
    "                            slice_sources_join = []\n",
    "                            counter = 0\n",
    "                            for src in slice_sources:\n",
    "                                counter += 1\n",
    "                                src_years = []\n",
    "                                for r in slice_data:\n",
    "                                    if src == r['source']:\n",
    "                                        src_years.append(r['timePeriod'])\n",
    "                                if src:\n",
    "                                    slice_sources_join.append('['+year_intervals(src_years)+']: ' + src)\n",
    "\n",
    "                            slice_sources_join.sort()\n",
    "                            slice_sources_join = ' // '.join(slice_sources_join)\n",
    "\n",
    "                            slice_data_wide['sources'] = slice_sources_join\n",
    "\n",
    "                            #------------------------\n",
    "\n",
    "                            slice_timeDetail_join = []\n",
    "                            counter = 0\n",
    "                            for td in slice_timeDetails:\n",
    "                                counter += 1\n",
    "                                td_years = []\n",
    "                                for r in slice_data:\n",
    "                                    if td == r['timeDetail']:\n",
    "                                        td_years.append(r['timePeriod'])\n",
    "                                if td:\n",
    "                                    slice_timeDetail_join.append('['+year_intervals(td_years)+']: ' + td)\n",
    "\n",
    "                            slice_timeDetail_join.sort()\n",
    "                            slice_timeDetail_join = ' // '.join(slice_timeDetail_join)\n",
    "\n",
    "                            slice_data_wide['timeDetails'] = slice_timeDetail_join\n",
    "\n",
    "                            #------------------------\n",
    "\n",
    "                            s_keys = list(slice_keys)\n",
    "                            s_keys.extend(['footnotes','source', 'timeDetail',\n",
    "                                           'unitsCode','unitsDesc',\n",
    "                                           'unitmultiplierCode', 'unitmultiplierDesc',\n",
    "                                           'reportingTypeCode','reportingTypeDesc'])\n",
    "\n",
    "\n",
    "                            for y in timePeriods:\n",
    "\n",
    "                                slice_data_y = subdict_list(select_dict(slice_data, 'timePeriod', y), \n",
    "                                                            s_keys, exclude = True)\n",
    "                                if len(slice_data_y)>0:\n",
    "                                    for ry in slice_data_y:\n",
    "                                        if 'natureCode' in ry.keys():\n",
    "                                            slice_data_wide['nature_'+str(y)] = ry['natureCode'] + ' : ' + ry['natureDesc']\n",
    "                                        else:\n",
    "                                            slice_data_wide['nature_'+str(y)] = None\n",
    "\n",
    "                                        if 'value_numeric_part' in ry.keys():\n",
    "                                            slice_data_wide['value_numeric_part_'+str(y)] = ry['value_numeric_part']\n",
    "                                        else:\n",
    "                                            slice_data_wide['value_numeric_part_'+str(y)] = None\n",
    "\n",
    "                                        if 'value_is_censored' in ry.keys():\n",
    "                                            slice_data_wide['value_is_censored_'+str(y)] = ry['value_is_censored'] \n",
    "                                        else:\n",
    "                                            slice_data_wide['value_is_censored_'+str(y)] = None\n",
    "\n",
    "                                        if 'value_detail' in ry.keys():\n",
    "                                            slice_data_wide['value_detail_'+str(y)] = ry['value_detail'] \n",
    "                                        else:\n",
    "                                            slice_data_wide['value_detail_'+str(y)] = None\n",
    "                                else:\n",
    "\n",
    "                                    slice_data_wide['nature_'+str(y)] = None\n",
    "                                    slice_data_wide['value_numeric_part_'+str(y)] = None\n",
    "                                    slice_data_wide['value_is_censored_'+str(y)] = None\n",
    "                                    slice_data_wide['value_detail_'+str(y)] = None\n",
    "\n",
    "                            if max_year:\n",
    "                                slice_data_wide['value_numeric_part_latest'] = slice_data_wide['value_numeric_part_'+str(max_year)]\n",
    "                                slice_data_wide['value_is_censored_latest'] = slice_data_wide['value_is_censored_'+str(max_year)]\n",
    "                                slice_data_wide['value_detail_latest'] = slice_data_wide['value_detail_'+str(max_year)]\n",
    "                                slice_data_wide['latest_year'] = max_year\n",
    "                            else:\n",
    "                                slice_data_wide['value_numeric_part_latest'] = None\n",
    "                                slice_data_wide['value_is_censored_latest'] = None\n",
    "                                slice_data_wide['value_detail_latest'] = None\n",
    "                                slice_data_wide['latest_year'] = None\n",
    "\n",
    "\n",
    "\n",
    "                            data_new.append(slice_data_wide)\n",
    "\n",
    "                        del ra['data']\n",
    "                        ra['data'] = data_new\n",
    "                    \n",
    "                    new_data = {}\n",
    "                    new_data['goal'] = data['goal']\n",
    "                    new_data['target'] = data['target']\n",
    "                    new_data['indicator'] = data['indicator']\n",
    "                    new_data['seriesCode'] = data['seriesCode']\n",
    "                    new_data['seriesDesc'] = data['seriesDesc']\n",
    "                    new_data['release'] = data['release']\n",
    "                    new_data['data'] = ref_areas_publish\n",
    "                    \n",
    "                    \n",
    "                    file_name = 'wide_Indicator_'+i['reference']+'_Series_'+s['code']+'.json'\n",
    "\n",
    "                    with open(wd_dir + r'data\\unsd\\2019.Q1.G.03\\\\' + file_name, 'w') as f:\n",
    "                        json.dump(new_data, f, indent=4)\n",
    "                        \n",
    "                    \n",
    "                    print(file_name)\n",
    "\n",
    "                    "
   ]
  },
  {
   "cell_type": "code",
   "execution_count": null,
   "metadata": {},
   "outputs": [],
   "source": []
  },
  {
   "cell_type": "code",
   "execution_count": null,
   "metadata": {},
   "outputs": [],
   "source": []
  }
 ],
 "metadata": {
  "kernelspec": {
   "display_name": "Python 3",
   "language": "python",
   "name": "python3"
  },
  "language_info": {
   "codemirror_mode": {
    "name": "ipython",
    "version": 3
   },
   "file_extension": ".py",
   "mimetype": "text/x-python",
   "name": "python",
   "nbconvert_exporter": "python",
   "pygments_lexer": "ipython3",
   "version": "3.6.8"
  }
 },
 "nbformat": 4,
 "nbformat_minor": 2
}
