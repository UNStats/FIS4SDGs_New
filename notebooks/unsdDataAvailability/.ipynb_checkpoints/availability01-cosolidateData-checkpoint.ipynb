{
 "cells": [
  {
   "cell_type": "markdown",
   "metadata": {},
   "source": [
    "# Data availability analysis by country"
   ]
  },
  {
   "cell_type": "markdown",
   "metadata": {},
   "source": [
    "## This is the plan:\n",
    "1. Read metadata (catalogue of all series available)\n",
    "2. Create a consolidated file with all the data \n",
    "3. Split the consolidated file by country -- this will be James' request\n",
    "4. Compute availability statistics by country series\n",
    "    - Number of \"slices / disaggregations\" available\n",
    "    - Latest year available\n",
    "    - Number of data points for the most aggregated slice\n",
    "    - Average no. of data points for the rest of the slices"
   ]
  },
  {
   "cell_type": "markdown",
   "metadata": {},
   "source": [
    "## Load necessary libraries"
   ]
  },
  {
   "cell_type": "code",
   "execution_count": 1,
   "metadata": {},
   "outputs": [],
   "source": [
    "import os\n",
    "import sys\n",
    "import json\n",
    "import urllib3  # allows to access a URL with python\n",
    "import pandas as pd\n",
    "import math\n",
    "import os \n",
    "import hashlib\n",
    "import csv\n",
    "import copy\n",
    "import unicodedata"
   ]
  },
  {
   "cell_type": "code",
   "execution_count": 2,
   "metadata": {},
   "outputs": [
    {
     "data": {
      "text/plain": [
       "'C:\\\\Users\\\\L.GonzalezMorales\\\\Documents\\\\GitHub\\\\FIS4SDGs\\\\notebooks\\\\unsdDataAvailability'"
      ]
     },
     "execution_count": 2,
     "metadata": {},
     "output_type": "execute_result"
    }
   ],
   "source": [
    "os.path.abspath(os.curdir)"
   ]
  },
  {
   "cell_type": "markdown",
   "metadata": {},
   "source": [
    "## Setup interactive shell"
   ]
  },
  {
   "cell_type": "code",
   "execution_count": 3,
   "metadata": {},
   "outputs": [],
   "source": [
    "# https://volderette.de/jupyter-notebook-tip-multiple-outputs/\n",
    "from IPython.core.interactiveshell import InteractiveShell\n",
    "InteractiveShell.ast_node_interactivity = \"all\""
   ]
  },
  {
   "cell_type": "markdown",
   "metadata": {},
   "source": [
    "## Set path to data and metadata directories in the local branch: "
   ]
  },
  {
   "cell_type": "code",
   "execution_count": 4,
   "metadata": {},
   "outputs": [
    {
     "name": "stdout",
     "output_type": "stream",
     "text": [
      "C:\\Users\\L.GonzalezMorales\\Documents\\GitHub\\FIS4SDGs\\notebooks\\unsdDataAvailability\n"
     ]
    },
    {
     "data": {
      "text/plain": [
       "'../../globalResources/'"
      ]
     },
     "execution_count": 4,
     "metadata": {},
     "output_type": "execute_result"
    },
    {
     "name": "stdout",
     "output_type": "stream",
     "text": [
      "data inputs dir: ../../data/unsd/2019.Q2.G.01/\n"
     ]
    }
   ],
   "source": [
    "release = '2019.Q2.G.01'\n",
    "\n",
    "dir_path = os.path.dirname(os.path.realpath('__file__'))\n",
    "print(dir_path)\n",
    "\n",
    "data_dir = r'../../data/unsd/' + release + '/'\n",
    "metadata_dir = r\"../../globalResources/\"\n",
    "metadata_dir\n",
    "\n",
    "\n",
    "print('data inputs dir: ' + data_dir)"
   ]
  },
  {
   "cell_type": "markdown",
   "metadata": {},
   "source": [
    "## Utilities"
   ]
  },
  {
   "cell_type": "markdown",
   "metadata": {},
   "source": [
    "#### Convert string to camelCase"
   ]
  },
  {
   "cell_type": "code",
   "execution_count": 5,
   "metadata": {},
   "outputs": [],
   "source": [
    "def camelCase(st, toAscii = True, startLowercase = True):\n",
    "    \"\"\"\n",
    "    https://stackoverflow.com/questions/8347048/camelcase-every-string-any-standard-library\n",
    "    \n",
    "    \"\"\"\n",
    "    output = ''.join(x for x in st.title() if x.isalnum())\n",
    "    if startLowercase:\n",
    "        output = output[0].lower() + output[1:]\n",
    "    \n",
    "    if toAscii:\n",
    "        output = unicodedata.normalize('NFD', output).encode('ascii', 'ignore').decode('utf-8')\n",
    "        \n",
    "    return output"
   ]
  },
  {
   "cell_type": "markdown",
   "metadata": {},
   "source": [
    "### Get data from a json file"
   ]
  },
  {
   "cell_type": "code",
   "execution_count": 6,
   "metadata": {},
   "outputs": [],
   "source": [
    "\n",
    "def get_json_data(file, print_first_element = True):    \n",
    "    \n",
    "    \"\"\" Get json metadata file \"\"\"\n",
    "    \n",
    "    try:\n",
    "        json_data = json.load(open(file))\n",
    "        if(print_first_element==True):\n",
    "            print(\"\\n----This is an example of a series_metadata element----\")\n",
    "            print(json_data[0])\n",
    "        return json_data\n",
    "    \n",
    "    except:\n",
    "        print(\"Unexpected error:\", sys.exc_info()[0])\n",
    "        return None\n",
    "    \n",
    "    "
   ]
  },
  {
   "cell_type": "markdown",
   "metadata": {},
   "source": [
    "#### Print the tree structure of nested dictionaries"
   ]
  },
  {
   "cell_type": "code",
   "execution_count": 7,
   "metadata": {},
   "outputs": [],
   "source": [
    "def jsonTree(d, depth=0):\n",
    "  for x, v in d.items():\n",
    "    print('-'*depth + x)\n",
    "    if isinstance(v, list):\n",
    "        v0 = v[0]\n",
    "        if isinstance(v0, dict):\n",
    "          jsonTree(v0, depth = depth+2)"
   ]
  },
  {
   "cell_type": "markdown",
   "metadata": {},
   "source": [
    "#### Compute a hash of a dictionary"
   ]
  },
  {
   "cell_type": "code",
   "execution_count": 8,
   "metadata": {},
   "outputs": [],
   "source": [
    "def dict_hash(d):\n",
    "    out = hashlib.md5()\n",
    "    for key, value in d.items():\n",
    "        out.update(key.encode('utf-8'))\n",
    "        out.update(str(value).encode('utf-8'))\n",
    "    return out.hexdigest()\n"
   ]
  },
  {
   "cell_type": "markdown",
   "metadata": {},
   "source": [
    "#### Get unique dictionaries in a list"
   ]
  },
  {
   "cell_type": "code",
   "execution_count": 9,
   "metadata": {},
   "outputs": [],
   "source": [
    "def unique_dicts(dictionary_list):\n",
    "\n",
    "    uniques_map = {}\n",
    "\n",
    "    for d in dictionary_list:\n",
    "        uniques_map[dict_hash(d)] = d\n",
    "\n",
    "    return list(uniques_map.values())\n"
   ]
  },
  {
   "cell_type": "markdown",
   "metadata": {},
   "source": [
    "#### Extract subset of key-value pairs from Python dictionary object"
   ]
  },
  {
   "cell_type": "code",
   "execution_count": 10,
   "metadata": {},
   "outputs": [],
   "source": [
    "def subdict_list(dict_list, keys_list, exclude = False):\n",
    "    sub_d_list = []\n",
    "    if exclude:\n",
    "        for d in dict_list:\n",
    "            sub_d= {k: d[k] for k in d.keys() if k not in keys_list}\n",
    "            sub_d_list.append(sub_d)\n",
    "    else:\n",
    "        for d in dict_list:\n",
    "            sub_d= {k: d[k] for k in keys_list}\n",
    "            sub_d_list.append(sub_d)\n",
    "    \n",
    "    return sub_d_list\n",
    "\n",
    "\n"
   ]
  },
  {
   "cell_type": "markdown",
   "metadata": {},
   "source": [
    "#### Get a dict from a list based on something inside the dict"
   ]
  },
  {
   "cell_type": "code",
   "execution_count": 11,
   "metadata": {},
   "outputs": [],
   "source": [
    "def select_dict(dict_list, k, v):\n",
    "    selected = []\n",
    "    for d in dict_list:\n",
    "        if d[k] == v:\n",
    "            selected.append(d)\n",
    "    return selected"
   ]
  },
  {
   "cell_type": "markdown",
   "metadata": {},
   "source": [
    "### List of countries"
   ]
  },
  {
   "cell_type": "code",
   "execution_count": 12,
   "metadata": {},
   "outputs": [],
   "source": [
    "def countryListXY(file):\n",
    "    \n",
    "    countryListXY = []\n",
    "    \n",
    "    with open(file, newline = '', encoding='latin-1') as countryList:                                                                                          \n",
    "        countryList = csv.DictReader(countryList, delimiter='\\t')\n",
    "        for row in countryList:\n",
    "            countryListXY.append(dict(row))\n",
    "            \n",
    "    countryListXY = pd.DataFrame(countryListXY).astype({'M49':'str'})\n",
    "    \n",
    "    return(countryListXY)\n",
    "\n",
    "    #print(countryListXY[1])\n",
    "    #for c in countryListXY:"
   ]
  },
  {
   "cell_type": "code",
   "execution_count": 13,
   "metadata": {},
   "outputs": [
    {
     "data": {
      "text/html": [
       "<div>\n",
       "<style scoped>\n",
       "    .dataframe tbody tr th:only-of-type {\n",
       "        vertical-align: middle;\n",
       "    }\n",
       "\n",
       "    .dataframe tbody tr th {\n",
       "        vertical-align: top;\n",
       "    }\n",
       "\n",
       "    .dataframe thead th {\n",
       "        text-align: right;\n",
       "    }\n",
       "</style>\n",
       "<table border=\"1\" class=\"dataframe\">\n",
       "  <thead>\n",
       "    <tr style=\"text-align: right;\">\n",
       "      <th></th>\n",
       "      <th>Country_Profile</th>\n",
       "      <th>ISO3</th>\n",
       "      <th>M49</th>\n",
       "      <th>UN_Member</th>\n",
       "      <th>X</th>\n",
       "      <th>Y</th>\n",
       "      <th>areaName</th>\n",
       "    </tr>\n",
       "  </thead>\n",
       "  <tbody>\n",
       "    <tr>\n",
       "      <th>0</th>\n",
       "      <td>1</td>\n",
       "      <td>AFG</td>\n",
       "      <td>4</td>\n",
       "      <td>1</td>\n",
       "      <td>66.02688198</td>\n",
       "      <td>33.83160199</td>\n",
       "      <td>Afghanistan</td>\n",
       "    </tr>\n",
       "    <tr>\n",
       "      <th>1</th>\n",
       "      <td>1</td>\n",
       "      <td>ALB</td>\n",
       "      <td>8</td>\n",
       "      <td>1</td>\n",
       "      <td>20.06660928</td>\n",
       "      <td>41.13897007</td>\n",
       "      <td>Albania</td>\n",
       "    </tr>\n",
       "    <tr>\n",
       "      <th>2</th>\n",
       "      <td>1</td>\n",
       "      <td>ATA</td>\n",
       "      <td>10</td>\n",
       "      <td>0</td>\n",
       "      <td>21.47585697</td>\n",
       "      <td>-80.40897662</td>\n",
       "      <td>Antarctica</td>\n",
       "    </tr>\n",
       "    <tr>\n",
       "      <th>3</th>\n",
       "      <td>1</td>\n",
       "      <td>DZA</td>\n",
       "      <td>12</td>\n",
       "      <td>1</td>\n",
       "      <td>2.678164227</td>\n",
       "      <td>28.15940032</td>\n",
       "      <td>Algeria</td>\n",
       "    </tr>\n",
       "    <tr>\n",
       "      <th>4</th>\n",
       "      <td>1</td>\n",
       "      <td>ASM</td>\n",
       "      <td>16</td>\n",
       "      <td>0</td>\n",
       "      <td>-170.7187269</td>\n",
       "      <td>-14.30587306</td>\n",
       "      <td>American Samoa</td>\n",
       "    </tr>\n",
       "    <tr>\n",
       "      <th>5</th>\n",
       "      <td>1</td>\n",
       "      <td>AND</td>\n",
       "      <td>20</td>\n",
       "      <td>1</td>\n",
       "      <td>1.576257417</td>\n",
       "      <td>42.54548611</td>\n",
       "      <td>Andorra</td>\n",
       "    </tr>\n",
       "    <tr>\n",
       "      <th>6</th>\n",
       "      <td>1</td>\n",
       "      <td>AGO</td>\n",
       "      <td>24</td>\n",
       "      <td>1</td>\n",
       "      <td>17.57817062</td>\n",
       "      <td>-12.33724746</td>\n",
       "      <td>Angola</td>\n",
       "    </tr>\n",
       "    <tr>\n",
       "      <th>7</th>\n",
       "      <td>1</td>\n",
       "      <td>ATG</td>\n",
       "      <td>28</td>\n",
       "      <td>1</td>\n",
       "      <td>-61.7999755</td>\n",
       "      <td>17.07761471</td>\n",
       "      <td>Antigua and Barbuda</td>\n",
       "    </tr>\n",
       "    <tr>\n",
       "      <th>8</th>\n",
       "      <td>1</td>\n",
       "      <td>AZE</td>\n",
       "      <td>31</td>\n",
       "      <td>1</td>\n",
       "      <td>50.01064725</td>\n",
       "      <td>40.39229544</td>\n",
       "      <td>Azerbaijan</td>\n",
       "    </tr>\n",
       "    <tr>\n",
       "      <th>9</th>\n",
       "      <td>1</td>\n",
       "      <td>ARG</td>\n",
       "      <td>32</td>\n",
       "      <td>1</td>\n",
       "      <td>-65.14563274</td>\n",
       "      <td>-35.19446255</td>\n",
       "      <td>Argentina</td>\n",
       "    </tr>\n",
       "  </tbody>\n",
       "</table>\n",
       "</div>"
      ],
      "text/plain": [
       "  Country_Profile ISO3 M49 UN_Member             X             Y  \\\n",
       "0               1  AFG   4         1   66.02688198   33.83160199   \n",
       "1               1  ALB   8         1   20.06660928   41.13897007   \n",
       "2               1  ATA  10         0   21.47585697  -80.40897662   \n",
       "3               1  DZA  12         1   2.678164227   28.15940032   \n",
       "4               1  ASM  16         0  -170.7187269  -14.30587306   \n",
       "5               1  AND  20         1   1.576257417   42.54548611   \n",
       "6               1  AGO  24         1   17.57817062  -12.33724746   \n",
       "7               1  ATG  28         1   -61.7999755   17.07761471   \n",
       "8               1  AZE  31         1   50.01064725   40.39229544   \n",
       "9               1  ARG  32         1  -65.14563274  -35.19446255   \n",
       "\n",
       "              areaName  \n",
       "0          Afghanistan  \n",
       "1              Albania  \n",
       "2           Antarctica  \n",
       "3              Algeria  \n",
       "4       American Samoa  \n",
       "5              Andorra  \n",
       "6               Angola  \n",
       "7  Antigua and Barbuda  \n",
       "8           Azerbaijan  \n",
       "9            Argentina  "
      ]
     },
     "execution_count": 13,
     "metadata": {},
     "output_type": "execute_result"
    }
   ],
   "source": [
    "countries_df = countryListXY(metadata_dir + 'refAreas.txt')\n",
    "countries_df.head(10)"
   ]
  },
  {
   "cell_type": "markdown",
   "metadata": {},
   "source": [
    "# 1. Read metadata"
   ]
  },
  {
   "cell_type": "markdown",
   "metadata": {},
   "source": [
    "## Get metadata file"
   ]
  },
  {
   "cell_type": "code",
   "execution_count": 14,
   "metadata": {},
   "outputs": [
    {
     "name": "stdout",
     "output_type": "stream",
     "text": [
      "code\n",
      "labelEN\n",
      "descEN\n",
      "labelES\n",
      "descES\n",
      "labelFR\n",
      "descFR\n",
      "targets\n",
      "--code\n",
      "--labelEN\n",
      "--descEN\n",
      "--labelES\n",
      "--descES\n",
      "--labelFR\n",
      "--descFR\n",
      "--indicators\n",
      "----code\n",
      "----reference\n",
      "----tier\n",
      "----custodianAgencies\n",
      "----labelEN\n",
      "----descEN\n",
      "----labelES\n",
      "----descES\n",
      "----labelFR\n",
      "----descFR\n",
      "----series\n",
      "------code\n",
      "------description\n",
      "------release\n",
      "------tags\n",
      "thumbnail\n",
      "hex\n",
      "rgb\n",
      "colorScheme\n"
     ]
    },
    {
     "data": {
      "text/plain": [
       "'1'"
      ]
     },
     "execution_count": 14,
     "metadata": {},
     "output_type": "execute_result"
    }
   ],
   "source": [
    "series_metadata = get_json_data(metadata_dir + 'metadata.json', False)\n",
    "jsonTree(series_metadata[0])\n",
    "series_metadata[0]['code']"
   ]
  },
  {
   "cell_type": "markdown",
   "metadata": {},
   "source": [
    "# 2. Create a consolidated file with all the data"
   ]
  },
  {
   "cell_type": "markdown",
   "metadata": {},
   "source": [
    "### Utilities"
   ]
  },
  {
   "cell_type": "markdown",
   "metadata": {},
   "source": [
    "#### Re-arrange columns\n",
    "- Keep all dimenions together\n",
    "- Keep all value columns together\n",
    "- Push `value_latest_year` and `latest_year` to the end"
   ]
  },
  {
   "cell_type": "code",
   "execution_count": 23,
   "metadata": {},
   "outputs": [],
   "source": [
    "def rearrange(bigtable):\n",
    "    \n",
    "    keys_1 = ['goal', 'target', 'indicator', 'seriesCode', 'seriesDesc', 'release',\n",
    "       'geoAreaCode', 'geoAreaName', 'parentCode', 'parentName', 'type',\n",
    "       'ISO3', 'UN_Member', 'X', 'Y']\n",
    "\n",
    "    keys_2 = ['unitsCode', 'unitsDesc',\n",
    "           'unitmultiplierCode', 'unitmultiplierDesc', 'reportingTypeCode',\n",
    "           'reportingTypeDesc', 'valueDetails', 'footnotes', 'sources',\n",
    "           'timeDetails', 'nature']\n",
    "\n",
    "    keys_3 = ['value_latest_year', 'latest_year']\n",
    "    \n",
    "    value_cols = [x for x in list(bigtable.columns) if x.startswith('value_') and x != 'value_latest_year']\n",
    "    value_cols = sorted(value_cols)\n",
    "    \n",
    "    dimension_cols = [x for x in list(bigtable.columns) if x not in keys_1 + keys_2 + keys_3 + value_cols]\n",
    "    dimension_cols = sorted(dimension_cols)\n",
    "    \n",
    "    x =  bigtable[keys_1 + dimension_cols + keys_2 + value_cols + keys_3]\n",
    "    \n",
    "    x = x.sort_values(by= ['goal', 'target', 'indicator', 'seriesCode','geoAreaName'] + dimension_cols)\n",
    "    \n",
    "    return x\n",
    "\n",
    "    "
   ]
  },
  {
   "cell_type": "code",
   "execution_count": 24,
   "metadata": {},
   "outputs": [],
   "source": [
    "def split_by_country(bigtable, domain='', target_dir=''):\n",
    "    \n",
    "    country_catalog = bigtable[['geoAreaCode', 'geoAreaName']].drop_duplicates()\n",
    "    \n",
    "    for row in country_catalog.itertuples():\n",
    "\n",
    "        geoAreaCode = row.geoAreaCode\n",
    "        geoAreaName = camelCase(row.geoAreaName, startLowercase=False)\n",
    "        \n",
    "        \n",
    "        country_table = bigtable.loc[bigtable['geoAreaCode'] == geoAreaCode]\n",
    "        \n",
    "        country_table = country_table.dropna(how='all', axis=1)\n",
    "        \n",
    "        country_table.to_excel(target_dir + 'Country_' +geoAreaName+'_'+ str(geoAreaCode) + '_' + domain + '.xlsx', index=False)\n",
    "      "
   ]
  },
  {
   "cell_type": "markdown",
   "metadata": {},
   "source": [
    "## Merge all the data for each goal"
   ]
  },
  {
   "cell_type": "code",
   "execution_count": 25,
   "metadata": {},
   "outputs": [
    {
     "data": {
      "text/plain": [
       "['goal',\n",
       " 'target',\n",
       " 'indicator',\n",
       " 'seriesCode',\n",
       " 'seriesDesc',\n",
       " 'release',\n",
       " 'geoAreaCode',\n",
       " 'geoAreaName',\n",
       " 'parentCode',\n",
       " 'parentName',\n",
       " 'type',\n",
       " 'ISO3',\n",
       " 'UN_Member',\n",
       " 'X',\n",
       " 'Y']"
      ]
     },
     "metadata": {},
     "output_type": "display_data"
    },
    {
     "data": {
      "text/plain": [
       "['unitsCode',\n",
       " 'unitsDesc',\n",
       " 'unitmultiplierCode',\n",
       " 'unitmultiplierDesc',\n",
       " 'reportingTypeCode',\n",
       " 'reportingTypeDesc',\n",
       " 'valueDetails',\n",
       " 'footnotes',\n",
       " 'sources',\n",
       " 'timeDetails',\n",
       " 'nature']"
      ]
     },
     "metadata": {},
     "output_type": "display_data"
    },
    {
     "data": {
      "text/plain": [
       "['value_latest_year', 'latest_year']"
      ]
     },
     "metadata": {},
     "output_type": "display_data"
    },
    {
     "data": {
      "text/plain": [
       "['value_1990',\n",
       " 'value_1991',\n",
       " 'value_1992',\n",
       " 'value_1993',\n",
       " 'value_1994',\n",
       " 'value_1995',\n",
       " 'value_1996',\n",
       " 'value_1997',\n",
       " 'value_1998',\n",
       " 'value_1999',\n",
       " 'value_2000',\n",
       " 'value_2001',\n",
       " 'value_2002',\n",
       " 'value_2003',\n",
       " 'value_2004',\n",
       " 'value_2005',\n",
       " 'value_2006',\n",
       " 'value_2007',\n",
       " 'value_2008',\n",
       " 'value_2009',\n",
       " 'value_2010',\n",
       " 'value_2011',\n",
       " 'value_2012',\n",
       " 'value_2013',\n",
       " 'value_2014',\n",
       " 'value_2015',\n",
       " 'value_2016',\n",
       " 'value_2017',\n",
       " 'value_2018']"
      ]
     },
     "metadata": {},
     "output_type": "display_data"
    },
    {
     "data": {
      "text/plain": [
       "'finished processing goal 1'"
      ]
     },
     "metadata": {},
     "output_type": "display_data"
    },
    {
     "data": {
      "text/plain": [
       "['goal',\n",
       " 'target',\n",
       " 'indicator',\n",
       " 'seriesCode',\n",
       " 'seriesDesc',\n",
       " 'release',\n",
       " 'geoAreaCode',\n",
       " 'geoAreaName',\n",
       " 'parentCode',\n",
       " 'parentName',\n",
       " 'type',\n",
       " 'ISO3',\n",
       " 'UN_Member',\n",
       " 'X',\n",
       " 'Y']"
      ]
     },
     "metadata": {},
     "output_type": "display_data"
    },
    {
     "data": {
      "text/plain": [
       "['unitsCode',\n",
       " 'unitsDesc',\n",
       " 'unitmultiplierCode',\n",
       " 'unitmultiplierDesc',\n",
       " 'reportingTypeCode',\n",
       " 'reportingTypeDesc',\n",
       " 'valueDetails',\n",
       " 'footnotes',\n",
       " 'sources',\n",
       " 'timeDetails',\n",
       " 'nature']"
      ]
     },
     "metadata": {},
     "output_type": "display_data"
    },
    {
     "data": {
      "text/plain": [
       "['value_latest_year', 'latest_year']"
      ]
     },
     "metadata": {},
     "output_type": "display_data"
    },
    {
     "data": {
      "text/plain": [
       "['value_1991',\n",
       " 'value_1994',\n",
       " 'value_1995',\n",
       " 'value_1997',\n",
       " 'value_2000',\n",
       " 'value_2001',\n",
       " 'value_2002',\n",
       " 'value_2003',\n",
       " 'value_2004',\n",
       " 'value_2005',\n",
       " 'value_2006',\n",
       " 'value_2007',\n",
       " 'value_2008',\n",
       " 'value_2009',\n",
       " 'value_2010',\n",
       " 'value_2011',\n",
       " 'value_2012',\n",
       " 'value_2013',\n",
       " 'value_2014',\n",
       " 'value_2015',\n",
       " 'value_2016',\n",
       " 'value_2017',\n",
       " 'value_2018',\n",
       " 'value_2019']"
      ]
     },
     "metadata": {},
     "output_type": "display_data"
    },
    {
     "data": {
      "text/plain": [
       "'finished processing goal 2'"
      ]
     },
     "metadata": {},
     "output_type": "display_data"
    },
    {
     "data": {
      "text/plain": [
       "['goal',\n",
       " 'target',\n",
       " 'indicator',\n",
       " 'seriesCode',\n",
       " 'seriesDesc',\n",
       " 'release',\n",
       " 'geoAreaCode',\n",
       " 'geoAreaName',\n",
       " 'parentCode',\n",
       " 'parentName',\n",
       " 'type',\n",
       " 'ISO3',\n",
       " 'UN_Member',\n",
       " 'X',\n",
       " 'Y']"
      ]
     },
     "metadata": {},
     "output_type": "display_data"
    },
    {
     "data": {
      "text/plain": [
       "['unitsCode',\n",
       " 'unitsDesc',\n",
       " 'unitmultiplierCode',\n",
       " 'unitmultiplierDesc',\n",
       " 'reportingTypeCode',\n",
       " 'reportingTypeDesc',\n",
       " 'valueDetails',\n",
       " 'footnotes',\n",
       " 'sources',\n",
       " 'timeDetails',\n",
       " 'nature']"
      ]
     },
     "metadata": {},
     "output_type": "display_data"
    },
    {
     "data": {
      "text/plain": [
       "['value_latest_year', 'latest_year']"
      ]
     },
     "metadata": {},
     "output_type": "display_data"
    },
    {
     "data": {
      "text/plain": [
       "['value_1990',\n",
       " 'value_1991',\n",
       " 'value_1992',\n",
       " 'value_1993',\n",
       " 'value_1994',\n",
       " 'value_1995',\n",
       " 'value_1996',\n",
       " 'value_1997',\n",
       " 'value_1998',\n",
       " 'value_1999',\n",
       " 'value_2000',\n",
       " 'value_2001',\n",
       " 'value_2002',\n",
       " 'value_2003',\n",
       " 'value_2004',\n",
       " 'value_2005',\n",
       " 'value_2006',\n",
       " 'value_2007',\n",
       " 'value_2008',\n",
       " 'value_2009',\n",
       " 'value_2010',\n",
       " 'value_2011',\n",
       " 'value_2012',\n",
       " 'value_2013',\n",
       " 'value_2014',\n",
       " 'value_2015',\n",
       " 'value_2016',\n",
       " 'value_2017',\n",
       " 'value_2018']"
      ]
     },
     "metadata": {},
     "output_type": "display_data"
    },
    {
     "data": {
      "text/plain": [
       "'finished processing goal 3'"
      ]
     },
     "metadata": {},
     "output_type": "display_data"
    },
    {
     "data": {
      "text/plain": [
       "['goal',\n",
       " 'target',\n",
       " 'indicator',\n",
       " 'seriesCode',\n",
       " 'seriesDesc',\n",
       " 'release',\n",
       " 'geoAreaCode',\n",
       " 'geoAreaName',\n",
       " 'parentCode',\n",
       " 'parentName',\n",
       " 'type',\n",
       " 'ISO3',\n",
       " 'UN_Member',\n",
       " 'X',\n",
       " 'Y']"
      ]
     },
     "metadata": {},
     "output_type": "display_data"
    },
    {
     "data": {
      "text/plain": [
       "['unitsCode',\n",
       " 'unitsDesc',\n",
       " 'unitmultiplierCode',\n",
       " 'unitmultiplierDesc',\n",
       " 'reportingTypeCode',\n",
       " 'reportingTypeDesc',\n",
       " 'valueDetails',\n",
       " 'footnotes',\n",
       " 'sources',\n",
       " 'timeDetails',\n",
       " 'nature']"
      ]
     },
     "metadata": {},
     "output_type": "display_data"
    },
    {
     "data": {
      "text/plain": [
       "['value_latest_year', 'latest_year']"
      ]
     },
     "metadata": {},
     "output_type": "display_data"
    },
    {
     "data": {
      "text/plain": [
       "['value_2000',\n",
       " 'value_2001',\n",
       " 'value_2002',\n",
       " 'value_2003',\n",
       " 'value_2004',\n",
       " 'value_2005',\n",
       " 'value_2006',\n",
       " 'value_2007',\n",
       " 'value_2008',\n",
       " 'value_2009',\n",
       " 'value_2010',\n",
       " 'value_2011',\n",
       " 'value_2012',\n",
       " 'value_2013',\n",
       " 'value_2014',\n",
       " 'value_2015',\n",
       " 'value_2016',\n",
       " 'value_2017',\n",
       " 'value_2018']"
      ]
     },
     "metadata": {},
     "output_type": "display_data"
    },
    {
     "data": {
      "text/plain": [
       "'finished processing goal 4'"
      ]
     },
     "metadata": {},
     "output_type": "display_data"
    },
    {
     "data": {
      "text/plain": [
       "['goal',\n",
       " 'target',\n",
       " 'indicator',\n",
       " 'seriesCode',\n",
       " 'seriesDesc',\n",
       " 'release',\n",
       " 'geoAreaCode',\n",
       " 'geoAreaName',\n",
       " 'parentCode',\n",
       " 'parentName',\n",
       " 'type',\n",
       " 'ISO3',\n",
       " 'UN_Member',\n",
       " 'X',\n",
       " 'Y']"
      ]
     },
     "metadata": {},
     "output_type": "display_data"
    },
    {
     "data": {
      "text/plain": [
       "['unitsCode',\n",
       " 'unitsDesc',\n",
       " 'unitmultiplierCode',\n",
       " 'unitmultiplierDesc',\n",
       " 'reportingTypeCode',\n",
       " 'reportingTypeDesc',\n",
       " 'valueDetails',\n",
       " 'footnotes',\n",
       " 'sources',\n",
       " 'timeDetails',\n",
       " 'nature']"
      ]
     },
     "metadata": {},
     "output_type": "display_data"
    },
    {
     "data": {
      "text/plain": [
       "['value_latest_year', 'latest_year']"
      ]
     },
     "metadata": {},
     "output_type": "display_data"
    },
    {
     "data": {
      "text/plain": [
       "['value_2000',\n",
       " 'value_2001',\n",
       " 'value_2002',\n",
       " 'value_2003',\n",
       " 'value_2004',\n",
       " 'value_2005',\n",
       " 'value_2006',\n",
       " 'value_2007',\n",
       " 'value_2008',\n",
       " 'value_2009',\n",
       " 'value_2010',\n",
       " 'value_2011',\n",
       " 'value_2012',\n",
       " 'value_2013',\n",
       " 'value_2014',\n",
       " 'value_2015',\n",
       " 'value_2016',\n",
       " 'value_2017',\n",
       " 'value_2018',\n",
       " 'value_2019']"
      ]
     },
     "metadata": {},
     "output_type": "display_data"
    },
    {
     "data": {
      "text/plain": [
       "'finished processing goal 5'"
      ]
     },
     "metadata": {},
     "output_type": "display_data"
    },
    {
     "data": {
      "text/plain": [
       "['goal',\n",
       " 'target',\n",
       " 'indicator',\n",
       " 'seriesCode',\n",
       " 'seriesDesc',\n",
       " 'release',\n",
       " 'geoAreaCode',\n",
       " 'geoAreaName',\n",
       " 'parentCode',\n",
       " 'parentName',\n",
       " 'type',\n",
       " 'ISO3',\n",
       " 'UN_Member',\n",
       " 'X',\n",
       " 'Y']"
      ]
     },
     "metadata": {},
     "output_type": "display_data"
    },
    {
     "data": {
      "text/plain": [
       "['unitsCode',\n",
       " 'unitsDesc',\n",
       " 'unitmultiplierCode',\n",
       " 'unitmultiplierDesc',\n",
       " 'reportingTypeCode',\n",
       " 'reportingTypeDesc',\n",
       " 'valueDetails',\n",
       " 'footnotes',\n",
       " 'sources',\n",
       " 'timeDetails',\n",
       " 'nature']"
      ]
     },
     "metadata": {},
     "output_type": "display_data"
    },
    {
     "data": {
      "text/plain": [
       "['value_latest_year', 'latest_year']"
      ]
     },
     "metadata": {},
     "output_type": "display_data"
    },
    {
     "data": {
      "text/plain": [
       "['value_2000',\n",
       " 'value_2001',\n",
       " 'value_2002',\n",
       " 'value_2003',\n",
       " 'value_2004',\n",
       " 'value_2005',\n",
       " 'value_2006',\n",
       " 'value_2007',\n",
       " 'value_2008',\n",
       " 'value_2009',\n",
       " 'value_2010',\n",
       " 'value_2011',\n",
       " 'value_2012',\n",
       " 'value_2013',\n",
       " 'value_2014',\n",
       " 'value_2015',\n",
       " 'value_2016',\n",
       " 'value_2017',\n",
       " 'value_2018',\n",
       " 'value_2019']"
      ]
     },
     "metadata": {},
     "output_type": "display_data"
    },
    {
     "data": {
      "text/plain": [
       "'finished processing goal 6'"
      ]
     },
     "metadata": {},
     "output_type": "display_data"
    },
    {
     "data": {
      "text/plain": [
       "['goal',\n",
       " 'target',\n",
       " 'indicator',\n",
       " 'seriesCode',\n",
       " 'seriesDesc',\n",
       " 'release',\n",
       " 'geoAreaCode',\n",
       " 'geoAreaName',\n",
       " 'parentCode',\n",
       " 'parentName',\n",
       " 'type',\n",
       " 'ISO3',\n",
       " 'UN_Member',\n",
       " 'X',\n",
       " 'Y']"
      ]
     },
     "metadata": {},
     "output_type": "display_data"
    },
    {
     "data": {
      "text/plain": [
       "['unitsCode',\n",
       " 'unitsDesc',\n",
       " 'unitmultiplierCode',\n",
       " 'unitmultiplierDesc',\n",
       " 'reportingTypeCode',\n",
       " 'reportingTypeDesc',\n",
       " 'valueDetails',\n",
       " 'footnotes',\n",
       " 'sources',\n",
       " 'timeDetails',\n",
       " 'nature']"
      ]
     },
     "metadata": {},
     "output_type": "display_data"
    },
    {
     "data": {
      "text/plain": [
       "['value_latest_year', 'latest_year']"
      ]
     },
     "metadata": {},
     "output_type": "display_data"
    },
    {
     "data": {
      "text/plain": [
       "['value_1990',\n",
       " 'value_1991',\n",
       " 'value_1992',\n",
       " 'value_1993',\n",
       " 'value_1994',\n",
       " 'value_1995',\n",
       " 'value_1996',\n",
       " 'value_1997',\n",
       " 'value_1998',\n",
       " 'value_1999',\n",
       " 'value_2000',\n",
       " 'value_2001',\n",
       " 'value_2002',\n",
       " 'value_2003',\n",
       " 'value_2004',\n",
       " 'value_2005',\n",
       " 'value_2006',\n",
       " 'value_2007',\n",
       " 'value_2008',\n",
       " 'value_2009',\n",
       " 'value_2010',\n",
       " 'value_2011',\n",
       " 'value_2012',\n",
       " 'value_2013',\n",
       " 'value_2014',\n",
       " 'value_2015',\n",
       " 'value_2016',\n",
       " 'value_2017']"
      ]
     },
     "metadata": {},
     "output_type": "display_data"
    },
    {
     "data": {
      "text/plain": [
       "'finished processing goal 7'"
      ]
     },
     "metadata": {},
     "output_type": "display_data"
    },
    {
     "data": {
      "text/plain": [
       "['goal',\n",
       " 'target',\n",
       " 'indicator',\n",
       " 'seriesCode',\n",
       " 'seriesDesc',\n",
       " 'release',\n",
       " 'geoAreaCode',\n",
       " 'geoAreaName',\n",
       " 'parentCode',\n",
       " 'parentName',\n",
       " 'type',\n",
       " 'ISO3',\n",
       " 'UN_Member',\n",
       " 'X',\n",
       " 'Y']"
      ]
     },
     "metadata": {},
     "output_type": "display_data"
    },
    {
     "data": {
      "text/plain": [
       "['unitsCode',\n",
       " 'unitsDesc',\n",
       " 'unitmultiplierCode',\n",
       " 'unitmultiplierDesc',\n",
       " 'reportingTypeCode',\n",
       " 'reportingTypeDesc',\n",
       " 'valueDetails',\n",
       " 'footnotes',\n",
       " 'sources',\n",
       " 'timeDetails',\n",
       " 'nature']"
      ]
     },
     "metadata": {},
     "output_type": "display_data"
    },
    {
     "data": {
      "text/plain": [
       "['value_latest_year', 'latest_year']"
      ]
     },
     "metadata": {},
     "output_type": "display_data"
    },
    {
     "data": {
      "text/plain": [
       "['value_2000',\n",
       " 'value_2001',\n",
       " 'value_2002',\n",
       " 'value_2003',\n",
       " 'value_2004',\n",
       " 'value_2005',\n",
       " 'value_2006',\n",
       " 'value_2007',\n",
       " 'value_2008',\n",
       " 'value_2009',\n",
       " 'value_2010',\n",
       " 'value_2011',\n",
       " 'value_2012',\n",
       " 'value_2013',\n",
       " 'value_2014',\n",
       " 'value_2015',\n",
       " 'value_2016',\n",
       " 'value_2017',\n",
       " 'value_2018']"
      ]
     },
     "metadata": {},
     "output_type": "display_data"
    },
    {
     "data": {
      "text/plain": [
       "'finished processing goal 8'"
      ]
     },
     "metadata": {},
     "output_type": "display_data"
    },
    {
     "data": {
      "text/plain": [
       "['goal',\n",
       " 'target',\n",
       " 'indicator',\n",
       " 'seriesCode',\n",
       " 'seriesDesc',\n",
       " 'release',\n",
       " 'geoAreaCode',\n",
       " 'geoAreaName',\n",
       " 'parentCode',\n",
       " 'parentName',\n",
       " 'type',\n",
       " 'ISO3',\n",
       " 'UN_Member',\n",
       " 'X',\n",
       " 'Y']"
      ]
     },
     "metadata": {},
     "output_type": "display_data"
    },
    {
     "data": {
      "text/plain": [
       "['unitsCode',\n",
       " 'unitsDesc',\n",
       " 'unitmultiplierCode',\n",
       " 'unitmultiplierDesc',\n",
       " 'reportingTypeCode',\n",
       " 'reportingTypeDesc',\n",
       " 'valueDetails',\n",
       " 'footnotes',\n",
       " 'sources',\n",
       " 'timeDetails',\n",
       " 'nature']"
      ]
     },
     "metadata": {},
     "output_type": "display_data"
    },
    {
     "data": {
      "text/plain": [
       "['value_latest_year', 'latest_year']"
      ]
     },
     "metadata": {},
     "output_type": "display_data"
    },
    {
     "data": {
      "text/plain": [
       "['value_2000',\n",
       " 'value_2001',\n",
       " 'value_2002',\n",
       " 'value_2003',\n",
       " 'value_2004',\n",
       " 'value_2005',\n",
       " 'value_2006',\n",
       " 'value_2007',\n",
       " 'value_2008',\n",
       " 'value_2009',\n",
       " 'value_2010',\n",
       " 'value_2011',\n",
       " 'value_2012',\n",
       " 'value_2013',\n",
       " 'value_2014',\n",
       " 'value_2015',\n",
       " 'value_2016',\n",
       " 'value_2017',\n",
       " 'value_2018']"
      ]
     },
     "metadata": {},
     "output_type": "display_data"
    },
    {
     "data": {
      "text/plain": [
       "'finished processing goal 9'"
      ]
     },
     "metadata": {},
     "output_type": "display_data"
    },
    {
     "data": {
      "text/plain": [
       "['goal',\n",
       " 'target',\n",
       " 'indicator',\n",
       " 'seriesCode',\n",
       " 'seriesDesc',\n",
       " 'release',\n",
       " 'geoAreaCode',\n",
       " 'geoAreaName',\n",
       " 'parentCode',\n",
       " 'parentName',\n",
       " 'type',\n",
       " 'ISO3',\n",
       " 'UN_Member',\n",
       " 'X',\n",
       " 'Y']"
      ]
     },
     "metadata": {},
     "output_type": "display_data"
    },
    {
     "data": {
      "text/plain": [
       "['unitsCode',\n",
       " 'unitsDesc',\n",
       " 'unitmultiplierCode',\n",
       " 'unitmultiplierDesc',\n",
       " 'reportingTypeCode',\n",
       " 'reportingTypeDesc',\n",
       " 'valueDetails',\n",
       " 'footnotes',\n",
       " 'sources',\n",
       " 'timeDetails',\n",
       " 'nature']"
      ]
     },
     "metadata": {},
     "output_type": "display_data"
    },
    {
     "data": {
      "text/plain": [
       "['value_latest_year', 'latest_year']"
      ]
     },
     "metadata": {},
     "output_type": "display_data"
    },
    {
     "data": {
      "text/plain": [
       "['value_2000',\n",
       " 'value_2001',\n",
       " 'value_2002',\n",
       " 'value_2003',\n",
       " 'value_2004',\n",
       " 'value_2005',\n",
       " 'value_2006',\n",
       " 'value_2007',\n",
       " 'value_2008',\n",
       " 'value_2009',\n",
       " 'value_2010',\n",
       " 'value_2011',\n",
       " 'value_2012',\n",
       " 'value_2013',\n",
       " 'value_2014',\n",
       " 'value_2015',\n",
       " 'value_2016',\n",
       " 'value_2017',\n",
       " 'value_2018']"
      ]
     },
     "metadata": {},
     "output_type": "display_data"
    },
    {
     "data": {
      "text/plain": [
       "'finished processing goal 10'"
      ]
     },
     "metadata": {},
     "output_type": "display_data"
    },
    {
     "data": {
      "text/plain": [
       "['goal',\n",
       " 'target',\n",
       " 'indicator',\n",
       " 'seriesCode',\n",
       " 'seriesDesc',\n",
       " 'release',\n",
       " 'geoAreaCode',\n",
       " 'geoAreaName',\n",
       " 'parentCode',\n",
       " 'parentName',\n",
       " 'type',\n",
       " 'ISO3',\n",
       " 'UN_Member',\n",
       " 'X',\n",
       " 'Y']"
      ]
     },
     "metadata": {},
     "output_type": "display_data"
    },
    {
     "data": {
      "text/plain": [
       "['unitsCode',\n",
       " 'unitsDesc',\n",
       " 'unitmultiplierCode',\n",
       " 'unitmultiplierDesc',\n",
       " 'reportingTypeCode',\n",
       " 'reportingTypeDesc',\n",
       " 'valueDetails',\n",
       " 'footnotes',\n",
       " 'sources',\n",
       " 'timeDetails',\n",
       " 'nature']"
      ]
     },
     "metadata": {},
     "output_type": "display_data"
    },
    {
     "data": {
      "text/plain": [
       "['value_latest_year', 'latest_year']"
      ]
     },
     "metadata": {},
     "output_type": "display_data"
    },
    {
     "data": {
      "text/plain": [
       "['value_1990',\n",
       " 'value_1995',\n",
       " 'value_2000',\n",
       " 'value_2001',\n",
       " 'value_2002',\n",
       " 'value_2003',\n",
       " 'value_2004',\n",
       " 'value_2005',\n",
       " 'value_2006',\n",
       " 'value_2007',\n",
       " 'value_2008',\n",
       " 'value_2009',\n",
       " 'value_2010',\n",
       " 'value_2011',\n",
       " 'value_2012',\n",
       " 'value_2013',\n",
       " 'value_2014',\n",
       " 'value_2015',\n",
       " 'value_2016',\n",
       " 'value_2017',\n",
       " 'value_2018']"
      ]
     },
     "metadata": {},
     "output_type": "display_data"
    },
    {
     "data": {
      "text/plain": [
       "'finished processing goal 11'"
      ]
     },
     "metadata": {},
     "output_type": "display_data"
    },
    {
     "data": {
      "text/plain": [
       "['goal',\n",
       " 'target',\n",
       " 'indicator',\n",
       " 'seriesCode',\n",
       " 'seriesDesc',\n",
       " 'release',\n",
       " 'geoAreaCode',\n",
       " 'geoAreaName',\n",
       " 'parentCode',\n",
       " 'parentName',\n",
       " 'type',\n",
       " 'ISO3',\n",
       " 'UN_Member',\n",
       " 'X',\n",
       " 'Y']"
      ]
     },
     "metadata": {},
     "output_type": "display_data"
    },
    {
     "data": {
      "text/plain": [
       "['unitsCode',\n",
       " 'unitsDesc',\n",
       " 'unitmultiplierCode',\n",
       " 'unitmultiplierDesc',\n",
       " 'reportingTypeCode',\n",
       " 'reportingTypeDesc',\n",
       " 'valueDetails',\n",
       " 'footnotes',\n",
       " 'sources',\n",
       " 'timeDetails',\n",
       " 'nature']"
      ]
     },
     "metadata": {},
     "output_type": "display_data"
    },
    {
     "data": {
      "text/plain": [
       "['value_latest_year', 'latest_year']"
      ]
     },
     "metadata": {},
     "output_type": "display_data"
    },
    {
     "data": {
      "text/plain": [
       "['value_2000',\n",
       " 'value_2001',\n",
       " 'value_2002',\n",
       " 'value_2003',\n",
       " 'value_2004',\n",
       " 'value_2005',\n",
       " 'value_2006',\n",
       " 'value_2007',\n",
       " 'value_2008',\n",
       " 'value_2009',\n",
       " 'value_2010',\n",
       " 'value_2011',\n",
       " 'value_2012',\n",
       " 'value_2013',\n",
       " 'value_2014',\n",
       " 'value_2015',\n",
       " 'value_2016',\n",
       " 'value_2017']"
      ]
     },
     "metadata": {},
     "output_type": "display_data"
    },
    {
     "data": {
      "text/plain": [
       "'finished processing goal 12'"
      ]
     },
     "metadata": {},
     "output_type": "display_data"
    },
    {
     "data": {
      "text/plain": [
       "['goal',\n",
       " 'target',\n",
       " 'indicator',\n",
       " 'seriesCode',\n",
       " 'seriesDesc',\n",
       " 'release',\n",
       " 'geoAreaCode',\n",
       " 'geoAreaName',\n",
       " 'parentCode',\n",
       " 'parentName',\n",
       " 'type',\n",
       " 'ISO3',\n",
       " 'UN_Member',\n",
       " 'X',\n",
       " 'Y']"
      ]
     },
     "metadata": {},
     "output_type": "display_data"
    },
    {
     "data": {
      "text/plain": [
       "['unitsCode',\n",
       " 'unitsDesc',\n",
       " 'unitmultiplierCode',\n",
       " 'unitmultiplierDesc',\n",
       " 'reportingTypeCode',\n",
       " 'reportingTypeDesc',\n",
       " 'valueDetails',\n",
       " 'footnotes',\n",
       " 'sources',\n",
       " 'timeDetails',\n",
       " 'nature']"
      ]
     },
     "metadata": {},
     "output_type": "display_data"
    },
    {
     "data": {
      "text/plain": [
       "['value_latest_year', 'latest_year']"
      ]
     },
     "metadata": {},
     "output_type": "display_data"
    },
    {
     "data": {
      "text/plain": [
       "['value_2005',\n",
       " 'value_2006',\n",
       " 'value_2007',\n",
       " 'value_2008',\n",
       " 'value_2009',\n",
       " 'value_2010',\n",
       " 'value_2011',\n",
       " 'value_2012',\n",
       " 'value_2013',\n",
       " 'value_2014',\n",
       " 'value_2015',\n",
       " 'value_2016',\n",
       " 'value_2017',\n",
       " 'value_2018']"
      ]
     },
     "metadata": {},
     "output_type": "display_data"
    },
    {
     "data": {
      "text/plain": [
       "'finished processing goal 13'"
      ]
     },
     "metadata": {},
     "output_type": "display_data"
    },
    {
     "data": {
      "text/plain": [
       "['goal',\n",
       " 'target',\n",
       " 'indicator',\n",
       " 'seriesCode',\n",
       " 'seriesDesc',\n",
       " 'release',\n",
       " 'geoAreaCode',\n",
       " 'geoAreaName',\n",
       " 'parentCode',\n",
       " 'parentName',\n",
       " 'type',\n",
       " 'ISO3',\n",
       " 'UN_Member',\n",
       " 'X',\n",
       " 'Y']"
      ]
     },
     "metadata": {},
     "output_type": "display_data"
    },
    {
     "data": {
      "text/plain": [
       "['unitsCode',\n",
       " 'unitsDesc',\n",
       " 'unitmultiplierCode',\n",
       " 'unitmultiplierDesc',\n",
       " 'reportingTypeCode',\n",
       " 'reportingTypeDesc',\n",
       " 'valueDetails',\n",
       " 'footnotes',\n",
       " 'sources',\n",
       " 'timeDetails',\n",
       " 'nature']"
      ]
     },
     "metadata": {},
     "output_type": "display_data"
    },
    {
     "data": {
      "text/plain": [
       "['value_latest_year', 'latest_year']"
      ]
     },
     "metadata": {},
     "output_type": "display_data"
    },
    {
     "data": {
      "text/plain": [
       "['value_2000',\n",
       " 'value_2001',\n",
       " 'value_2002',\n",
       " 'value_2003',\n",
       " 'value_2004',\n",
       " 'value_2005',\n",
       " 'value_2006',\n",
       " 'value_2007',\n",
       " 'value_2008',\n",
       " 'value_2009',\n",
       " 'value_2010',\n",
       " 'value_2011',\n",
       " 'value_2012',\n",
       " 'value_2013',\n",
       " 'value_2014',\n",
       " 'value_2015',\n",
       " 'value_2016',\n",
       " 'value_2017',\n",
       " 'value_2018']"
      ]
     },
     "metadata": {},
     "output_type": "display_data"
    },
    {
     "data": {
      "text/plain": [
       "'finished processing goal 14'"
      ]
     },
     "metadata": {},
     "output_type": "display_data"
    },
    {
     "data": {
      "text/plain": [
       "['goal',\n",
       " 'target',\n",
       " 'indicator',\n",
       " 'seriesCode',\n",
       " 'seriesDesc',\n",
       " 'release',\n",
       " 'geoAreaCode',\n",
       " 'geoAreaName',\n",
       " 'parentCode',\n",
       " 'parentName',\n",
       " 'type',\n",
       " 'ISO3',\n",
       " 'UN_Member',\n",
       " 'X',\n",
       " 'Y']"
      ]
     },
     "metadata": {},
     "output_type": "display_data"
    },
    {
     "data": {
      "text/plain": [
       "['unitsCode',\n",
       " 'unitsDesc',\n",
       " 'unitmultiplierCode',\n",
       " 'unitmultiplierDesc',\n",
       " 'reportingTypeCode',\n",
       " 'reportingTypeDesc',\n",
       " 'valueDetails',\n",
       " 'footnotes',\n",
       " 'sources',\n",
       " 'timeDetails',\n",
       " 'nature']"
      ]
     },
     "metadata": {},
     "output_type": "display_data"
    },
    {
     "data": {
      "text/plain": [
       "['value_latest_year', 'latest_year']"
      ]
     },
     "metadata": {},
     "output_type": "display_data"
    },
    {
     "data": {
      "text/plain": [
       "['value_1993',\n",
       " 'value_1994',\n",
       " 'value_1995',\n",
       " 'value_1996',\n",
       " 'value_1997',\n",
       " 'value_1998',\n",
       " 'value_1999',\n",
       " 'value_2000',\n",
       " 'value_2001',\n",
       " 'value_2002',\n",
       " 'value_2003',\n",
       " 'value_2004',\n",
       " 'value_2005',\n",
       " 'value_2006',\n",
       " 'value_2007',\n",
       " 'value_2008',\n",
       " 'value_2009',\n",
       " 'value_2010',\n",
       " 'value_2011',\n",
       " 'value_2012',\n",
       " 'value_2013',\n",
       " 'value_2014',\n",
       " 'value_2015',\n",
       " 'value_2016',\n",
       " 'value_2017',\n",
       " 'value_2018',\n",
       " 'value_2019']"
      ]
     },
     "metadata": {},
     "output_type": "display_data"
    },
    {
     "name": "stderr",
     "output_type": "stream",
     "text": [
      "C:\\Users\\L.GonzalezMorales\\AppData\\Local\\Continuum\\anaconda3\\lib\\site-packages\\xlsxwriter\\worksheet.py:915: UserWarning: Ignoring URL 'https://www.cbd.int/abs/nagoya-protocol/signatories/default.shtml,%20Access%20and%20Benefit-sharing%20Clearing-house%20https://absch.cbd.int/,%20http://www.fao.org/plant-treaty/countries/membership/en/,%20%20The%20Online%20Reporting%20System%20on%20Compliance%20of%20the%20International%20Treaty%20on%20PGRFA%20http://faoitpgrfa.ort-production.linode.unep-wcmc.org%20and%20%20Easy-SMTA https://mls.planttreaty.org%20,' with link or location/anchor > 255 characters since it exceeds Excel's limit for URLS\n",
      "  force_unicode(url))\n"
     ]
    },
    {
     "data": {
      "text/plain": [
       "'finished processing goal 15'"
      ]
     },
     "metadata": {},
     "output_type": "display_data"
    },
    {
     "data": {
      "text/plain": [
       "['goal',\n",
       " 'target',\n",
       " 'indicator',\n",
       " 'seriesCode',\n",
       " 'seriesDesc',\n",
       " 'release',\n",
       " 'geoAreaCode',\n",
       " 'geoAreaName',\n",
       " 'parentCode',\n",
       " 'parentName',\n",
       " 'type',\n",
       " 'ISO3',\n",
       " 'UN_Member',\n",
       " 'X',\n",
       " 'Y']"
      ]
     },
     "metadata": {},
     "output_type": "display_data"
    },
    {
     "data": {
      "text/plain": [
       "['unitsCode',\n",
       " 'unitsDesc',\n",
       " 'unitmultiplierCode',\n",
       " 'unitmultiplierDesc',\n",
       " 'reportingTypeCode',\n",
       " 'reportingTypeDesc',\n",
       " 'valueDetails',\n",
       " 'footnotes',\n",
       " 'sources',\n",
       " 'timeDetails',\n",
       " 'nature']"
      ]
     },
     "metadata": {},
     "output_type": "display_data"
    },
    {
     "data": {
      "text/plain": [
       "['value_latest_year', 'latest_year']"
      ]
     },
     "metadata": {},
     "output_type": "display_data"
    },
    {
     "data": {
      "text/plain": [
       "['value_2000',\n",
       " 'value_2003',\n",
       " 'value_2004',\n",
       " 'value_2005',\n",
       " 'value_2006',\n",
       " 'value_2007',\n",
       " 'value_2008',\n",
       " 'value_2009',\n",
       " 'value_2010',\n",
       " 'value_2011',\n",
       " 'value_2012',\n",
       " 'value_2013',\n",
       " 'value_2014',\n",
       " 'value_2015',\n",
       " 'value_2016',\n",
       " 'value_2017',\n",
       " 'value_2018',\n",
       " 'value_2019']"
      ]
     },
     "metadata": {},
     "output_type": "display_data"
    },
    {
     "data": {
      "text/plain": [
       "'finished processing goal 16'"
      ]
     },
     "metadata": {},
     "output_type": "display_data"
    },
    {
     "data": {
      "text/plain": [
       "['goal',\n",
       " 'target',\n",
       " 'indicator',\n",
       " 'seriesCode',\n",
       " 'seriesDesc',\n",
       " 'release',\n",
       " 'geoAreaCode',\n",
       " 'geoAreaName',\n",
       " 'parentCode',\n",
       " 'parentName',\n",
       " 'type',\n",
       " 'ISO3',\n",
       " 'UN_Member',\n",
       " 'X',\n",
       " 'Y']"
      ]
     },
     "metadata": {},
     "output_type": "display_data"
    },
    {
     "data": {
      "text/plain": [
       "['unitsCode',\n",
       " 'unitsDesc',\n",
       " 'unitmultiplierCode',\n",
       " 'unitmultiplierDesc',\n",
       " 'reportingTypeCode',\n",
       " 'reportingTypeDesc',\n",
       " 'valueDetails',\n",
       " 'footnotes',\n",
       " 'sources',\n",
       " 'timeDetails',\n",
       " 'nature']"
      ]
     },
     "metadata": {},
     "output_type": "display_data"
    },
    {
     "data": {
      "text/plain": [
       "['value_latest_year', 'latest_year']"
      ]
     },
     "metadata": {},
     "output_type": "display_data"
    },
    {
     "data": {
      "text/plain": [
       "['value_1990',\n",
       " 'value_1991',\n",
       " 'value_1992',\n",
       " 'value_1993',\n",
       " 'value_1994',\n",
       " 'value_1995',\n",
       " 'value_1996',\n",
       " 'value_1997',\n",
       " 'value_1998',\n",
       " 'value_1999',\n",
       " 'value_2000',\n",
       " 'value_2001',\n",
       " 'value_2002',\n",
       " 'value_2003',\n",
       " 'value_2004',\n",
       " 'value_2005',\n",
       " 'value_2006',\n",
       " 'value_2007',\n",
       " 'value_2008',\n",
       " 'value_2009',\n",
       " 'value_2010',\n",
       " 'value_2011',\n",
       " 'value_2012',\n",
       " 'value_2013',\n",
       " 'value_2014',\n",
       " 'value_2015',\n",
       " 'value_2016',\n",
       " 'value_2017',\n",
       " 'value_2018']"
      ]
     },
     "metadata": {},
     "output_type": "display_data"
    },
    {
     "data": {
      "text/plain": [
       "'finished processing goal 17'"
      ]
     },
     "metadata": {},
     "output_type": "display_data"
    }
   ],
   "source": [
    "for g in series_metadata:\n",
    "    counter = 0\n",
    "    #if g['code']!= '1':\n",
    "    #    continue\n",
    "    for t in g['targets']:\n",
    "        #if t['code']!= '1.1':\n",
    "        #    continue\n",
    "        for i in t['indicators']:\n",
    "            #if i['reference']!= '1.1.1':\n",
    "            #    continue\n",
    "            if 'series' in i.keys():\n",
    "                for s in i['series']:\n",
    "                    filename = 'csv_Indicator_' + i['reference'] + '_Series_' + s['code']+'.csv'\n",
    "                    \n",
    "                    if os.path.isfile(data_dir + filename):\n",
    "                        small_table = pd.read_csv(data_dir + filename, sep='\\t')\n",
    "                        #drop empty rows:\n",
    "                        small_table = small_table.dropna(subset=['value_latest_year'])\n",
    "                    \n",
    "                        if counter == 0:\n",
    "                            big_table = copy.deepcopy(small_table)  \n",
    "                        else:\n",
    "                            big_table = pd.concat([big_table, small_table], ignore_index=True, sort=False)\n",
    "                        counter = counter + 1\n",
    "                        \n",
    "                        #display('--'+str(counter) + ' - added series ' + s['code'])\n",
    "                        \n",
    "    big_table = rearrange(big_table)\n",
    "\n",
    "    split_by_country(big_table, domain='Goal_' + g['code'], target_dir=data_dir)\n",
    "    \n",
    "    big_table.to_excel(data_dir + 'All_Countries_Goal_' + g['code']+'.xlsx', index=False)\n",
    "    \n",
    "    display('finished processing goal ' + g['code'])\n",
    "    \n",
    "    "
   ]
  },
  {
   "cell_type": "code",
   "execution_count": null,
   "metadata": {},
   "outputs": [],
   "source": []
  }
 ],
 "metadata": {
  "kernelspec": {
   "display_name": "Python 3",
   "language": "python",
   "name": "python3"
  },
  "language_info": {
   "codemirror_mode": {
    "name": "ipython",
    "version": 3
   },
   "file_extension": ".py",
   "mimetype": "text/x-python",
   "name": "python",
   "nbconvert_exporter": "python",
   "pygments_lexer": "ipython3",
   "version": "3.6.8"
  }
 },
 "nbformat": 4,
 "nbformat_minor": 2
}
