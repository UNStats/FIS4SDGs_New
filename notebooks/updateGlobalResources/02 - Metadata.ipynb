{
 "cells": [
  {
   "cell_type": "markdown",
   "metadata": {},
   "source": [
    "# Create Metadata file"
   ]
  },
  {
   "cell_type": "markdown",
   "metadata": {},
   "source": [
    "#### Import required libraries"
   ]
  },
  {
   "cell_type": "code",
   "execution_count": 1,
   "metadata": {},
   "outputs": [],
   "source": [
    "import json\n",
    "import os\n",
    "import urllib3  # allows to access a URL with python\n",
    "import pandas as pd\n",
    "import re\n",
    "import csv"
   ]
  },
  {
   "cell_type": "markdown",
   "metadata": {},
   "source": [
    "#### Specify the working directory"
   ]
  },
  {
   "cell_type": "code",
   "execution_count": 2,
   "metadata": {},
   "outputs": [
    {
     "name": "stdout",
     "output_type": "stream",
     "text": [
      "C:\\Users\\L.GonzalezMorales\\Documents\\GitHub\\FIS4SDGs\\notebooks\\updateGlobalResources\n",
      "data inputs dir: ../../\n"
     ]
    }
   ],
   "source": [
    "dir_path = os.path.dirname(os.path.realpath('__file__'))\n",
    "print(dir_path)\n",
    "\n",
    "wd_dir = r'../../'\n",
    "print('data inputs dir: ' + wd_dir)"
   ]
  },
  {
   "cell_type": "markdown",
   "metadata": {},
   "source": [
    "#### Print multiple outputs when running the code block within a notebook cell"
   ]
  },
  {
   "cell_type": "code",
   "execution_count": 3,
   "metadata": {},
   "outputs": [],
   "source": [
    "# https://volderette.de/jupyter-notebook-tip-multiple-outputs/\n",
    "from IPython.core.interactiveshell import InteractiveShell\n",
    "InteractiveShell.ast_node_interactivity = \"all\""
   ]
  },
  {
   "cell_type": "markdown",
   "metadata": {},
   "source": [
    "#### Disable insecure request warnings when using `urllib3`."
   ]
  },
  {
   "cell_type": "code",
   "execution_count": 4,
   "metadata": {},
   "outputs": [],
   "source": [
    "urllib3.disable_warnings(urllib3.exceptions.InsecureRequestWarning)"
   ]
  },
  {
   "cell_type": "markdown",
   "metadata": {},
   "source": [
    "#### Read `sdgTree.json` "
   ]
  },
  {
   "cell_type": "code",
   "execution_count": 5,
   "metadata": {},
   "outputs": [],
   "source": [
    "with open(wd_dir + 'globalResources/sdgTree.json') as json_file:  \n",
    "    sdgTree = json.load(json_file)\n",
    "    \n",
    "\n"
   ]
  },
  {
   "cell_type": "markdown",
   "metadata": {},
   "source": [
    "#### Read `sdg_colors.json`"
   ]
  },
  {
   "cell_type": "code",
   "execution_count": 6,
   "metadata": {},
   "outputs": [
    {
     "data": {
      "text/plain": [
       "{'GoalCode': 1,\n",
       " 'hex': 'e5243b',\n",
       " 'rgb': [229, 36, 59],\n",
       " 'ColorScheme': ['FFDA99',\n",
       "  'FAC590',\n",
       "  'F5967F',\n",
       "  'F1786E',\n",
       "  'ED5C5E',\n",
       "  'E5233D',\n",
       "  'BF162F',\n",
       "  '93071F']}"
      ]
     },
     "execution_count": 6,
     "metadata": {},
     "output_type": "execute_result"
    }
   ],
   "source": [
    "with open(wd_dir + 'globalResources/sdgColors.json') as json_file:  \n",
    "    sdgColors = json.load(json_file)\n",
    "\n",
    "sdgColors['ColorScheme'][0]"
   ]
  },
  {
   "cell_type": "markdown",
   "metadata": {},
   "source": [
    "#### Read `tags_template.txt`"
   ]
  },
  {
   "cell_type": "code",
   "execution_count": 7,
   "metadata": {},
   "outputs": [
    {
     "data": {
      "text/html": [
       "<div>\n",
       "<style scoped>\n",
       "    .dataframe tbody tr th:only-of-type {\n",
       "        vertical-align: middle;\n",
       "    }\n",
       "\n",
       "    .dataframe tbody tr th {\n",
       "        vertical-align: top;\n",
       "    }\n",
       "\n",
       "    .dataframe thead th {\n",
       "        text-align: right;\n",
       "    }\n",
       "</style>\n",
       "<table border=\"1\" class=\"dataframe\">\n",
       "  <thead>\n",
       "    <tr style=\"text-align: right;\">\n",
       "      <th></th>\n",
       "      <th>goalCode</th>\n",
       "      <th>goalDesc</th>\n",
       "      <th>targetCode</th>\n",
       "      <th>targetDesc</th>\n",
       "      <th>indicatorCode</th>\n",
       "      <th>indicatorReference</th>\n",
       "      <th>indicatorDesc</th>\n",
       "      <th>seriesCode</th>\n",
       "      <th>seriesDesc</th>\n",
       "      <th>release</th>\n",
       "      <th>TAGS</th>\n",
       "    </tr>\n",
       "  </thead>\n",
       "  <tbody>\n",
       "    <tr>\n",
       "      <th>0</th>\n",
       "      <td>1</td>\n",
       "      <td>End poverty in all its forms everywhere</td>\n",
       "      <td>1.1</td>\n",
       "      <td>b'By 2030, eradicate extreme poverty for all p...</td>\n",
       "      <td>C010101</td>\n",
       "      <td>1.1.1</td>\n",
       "      <td>b' Proportion of population below the internat...</td>\n",
       "      <td>SI_POV_DAY1</td>\n",
       "      <td>b'Proportion of population below international...</td>\n",
       "      <td>2019.Q2.G.01</td>\n",
       "      <td>['poverty line', 'poverty', 'standard of livin...</td>\n",
       "    </tr>\n",
       "    <tr>\n",
       "      <th>1</th>\n",
       "      <td>1</td>\n",
       "      <td>End poverty in all its forms everywhere</td>\n",
       "      <td>1.1</td>\n",
       "      <td>b'By 2030, eradicate extreme poverty for all p...</td>\n",
       "      <td>C010101</td>\n",
       "      <td>1.1.1</td>\n",
       "      <td>b' Proportion of population below the internat...</td>\n",
       "      <td>SI_POV_EMP1</td>\n",
       "      <td>b'Employed population below international pove...</td>\n",
       "      <td>2019.Q2.G.01</td>\n",
       "      <td>['poverty line', 'poverty', 'standard of livin...</td>\n",
       "    </tr>\n",
       "    <tr>\n",
       "      <th>2</th>\n",
       "      <td>1</td>\n",
       "      <td>End poverty in all its forms everywhere</td>\n",
       "      <td>1.2</td>\n",
       "      <td>b'By 2030, reduce at least by half the proport...</td>\n",
       "      <td>C010201</td>\n",
       "      <td>1.2.1</td>\n",
       "      <td>b' Proportion of population living below the n...</td>\n",
       "      <td>SI_POV_NAHC</td>\n",
       "      <td>b'Proportion of population living below the na...</td>\n",
       "      <td>2019.Q2.G.01</td>\n",
       "      <td>['poverty line', 'poverty', 'standard of livin...</td>\n",
       "    </tr>\n",
       "  </tbody>\n",
       "</table>\n",
       "</div>"
      ],
      "text/plain": [
       "   goalCode                                 goalDesc targetCode  \\\n",
       "0         1  End poverty in all its forms everywhere        1.1   \n",
       "1         1  End poverty in all its forms everywhere        1.1   \n",
       "2         1  End poverty in all its forms everywhere        1.2   \n",
       "\n",
       "                                          targetDesc indicatorCode  \\\n",
       "0  b'By 2030, eradicate extreme poverty for all p...       C010101   \n",
       "1  b'By 2030, eradicate extreme poverty for all p...       C010101   \n",
       "2  b'By 2030, reduce at least by half the proport...       C010201   \n",
       "\n",
       "  indicatorReference                                      indicatorDesc  \\\n",
       "0              1.1.1  b' Proportion of population below the internat...   \n",
       "1              1.1.1  b' Proportion of population below the internat...   \n",
       "2              1.2.1  b' Proportion of population living below the n...   \n",
       "\n",
       "    seriesCode                                         seriesDesc  \\\n",
       "0  SI_POV_DAY1  b'Proportion of population below international...   \n",
       "1  SI_POV_EMP1  b'Employed population below international pove...   \n",
       "2  SI_POV_NAHC  b'Proportion of population living below the na...   \n",
       "\n",
       "        release                                               TAGS  \n",
       "0  2019.Q2.G.01  ['poverty line', 'poverty', 'standard of livin...  \n",
       "1  2019.Q2.G.01  ['poverty line', 'poverty', 'standard of livin...  \n",
       "2  2019.Q2.G.01  ['poverty line', 'poverty', 'standard of livin...  "
      ]
     },
     "execution_count": 7,
     "metadata": {},
     "output_type": "execute_result"
    },
    {
     "data": {
      "text/plain": [
       "(447, 11)"
      ]
     },
     "execution_count": 7,
     "metadata": {},
     "output_type": "execute_result"
    },
    {
     "data": {
      "text/plain": [
       "{'goalDesc': 'End poverty in all its forms everywhere',\n",
       " 'targetDesc': \"b'By 2030, eradicate extreme poverty for all people everywhere, currently measured as people living on less than $1.25 a day'\",\n",
       " 'indicatorCode': 'C010101',\n",
       " 'indicatorReference': '1.1.1',\n",
       " 'indicatorDesc': \"b' Proportion of population below the international poverty line, by sex, age, employment status and geographical location (urban/rural)'\",\n",
       " 'seriesCode': 'SI_POV_DAY1',\n",
       " 'release': '2019.Q2.G.01',\n",
       " 'TAGS': \"['poverty line', 'poverty', 'standard of living', 'basic needs']\"}"
      ]
     },
     "execution_count": 7,
     "metadata": {},
     "output_type": "execute_result"
    }
   ],
   "source": [
    "tags_df = pd.read_csv(wd_dir + 'globalResources/tagsTemplate2019.Q2.G.01.txt', sep='\\t')\n",
    "tags_df.head(3)\n",
    "tags_df.shape\n",
    "tags_df = tags_df.drop(columns=['goalCode','targetCode','seriesDesc'] )\n",
    "tags = tags_df.to_dict('records')\n",
    "tags[0]"
   ]
  },
  {
   "cell_type": "code",
   "execution_count": 8,
   "metadata": {},
   "outputs": [
    {
     "data": {
      "text/plain": [
       "{'goalDesc': 'End poverty in all its forms everywhere',\n",
       " 'targetDesc': \"b'Implement nationally appropriate social protection systems and measures for all, including floors, and by 2030 achieve substantial coverage of the poor and the vulnerable'\",\n",
       " 'indicatorCode': 'C010301',\n",
       " 'indicatorReference': '1.3.1',\n",
       " 'indicatorDesc': \"b' Proportion of population covered by social protection floors/systems, by sex, distinguishing children, unemployed persons, older persons, persons with disabilities, pregnant women, newborns, work-injury victims and the poor and the vulnerable'\",\n",
       " 'seriesCode': 'SI_COV_SOCAST',\n",
       " 'release': '2019.Q2.G.01',\n",
       " 'TAGS': ['poverty', 'standard of living', 'basic needs', 'social welfare']}"
      ]
     },
     "execution_count": 8,
     "metadata": {},
     "output_type": "execute_result"
    }
   ],
   "source": [
    "for i in tags:\n",
    "    tags_string = i['TAGS']\n",
    "    tags_string = re.sub('[\\[\\]\\']','',tags_string)\n",
    "    tags_list = tags_string.split(', ')\n",
    "    i['TAGS'] = tags_list\n",
    "\n",
    "tags[5]"
   ]
  },
  {
   "cell_type": "code",
   "execution_count": 9,
   "metadata": {},
   "outputs": [],
   "source": [
    "#for t in tags:\n",
    "#    display('indicator: ' + t['indicatorReference'] + ', series: ' + t['seriesCode'] + ', tags: ' + str(t['TAGS']))"
   ]
  },
  {
   "cell_type": "markdown",
   "metadata": {},
   "source": [
    "## Join SDG Tree and Tags"
   ]
  },
  {
   "cell_type": "code",
   "execution_count": 10,
   "metadata": {},
   "outputs": [],
   "source": [
    "for g in sdgTree:\n",
    "    goal = g['code']\n",
    "    thumbnail = 'https://raw.githubusercontent.com/UNStats/FIS4SDGs_New/master/sdgIcons/sdgIcons_thumbnails/SDG'+goal.zfill(2)+'.png'\n",
    "    g['thumbnail'] = thumbnail\n",
    "    \n",
    "    for sc in sdgColors['ColorScheme']:\n",
    "        if str(sc['GoalCode']) == g['code']:\n",
    "            g['hex'] = sc['hex']\n",
    "            g['rgb'] = sc['rgb']\n",
    "            g['colorScheme'] = sc['ColorScheme']\n",
    "    \n",
    "    for t in g['targets']:\n",
    "        \n",
    "        for i in t['indicators']:\n",
    "            \n",
    "            if 'series' in i:\n",
    "                for s in i['series']:\n",
    "\n",
    "                    for tg in tags:\n",
    "\n",
    "                        if tg['indicatorReference'] == i['reference'] and tg['seriesCode'] == s['code']:\n",
    "                            s['tags'] = tg['TAGS']\n"
   ]
  },
  {
   "cell_type": "markdown",
   "metadata": {},
   "source": [
    "#### Save metadata as a json file"
   ]
  },
  {
   "cell_type": "code",
   "execution_count": 11,
   "metadata": {},
   "outputs": [],
   "source": [
    "with open(wd_dir + 'globalResources/metadata.json', 'w') as f:\n",
    "    json.dump(sdgTree, f, indent=4)"
   ]
  },
  {
   "cell_type": "markdown",
   "metadata": {},
   "source": [
    "### Diagnostic: Series with missing tags"
   ]
  },
  {
   "cell_type": "code",
   "execution_count": 12,
   "metadata": {},
   "outputs": [],
   "source": [
    "with open(wd_dir + 'globalResources/metadata.json') as json_file:  \n",
    "    metadata = json.load(json_file)\n",
    "\n",
    "tagsTemplate = []\n",
    "for g in metadata:\n",
    "    goalCode = g['code']\n",
    "    goalDesc = g['descEN']\n",
    "    for t in g['targets']:\n",
    "        targetCode = t['code']\n",
    "        targetDesc = t['descEN']\n",
    "        for i in t['indicators']:\n",
    "            indicatorCode = i['code']\n",
    "            indicatorReference = i['reference']\n",
    "            indicatorDesc = i['descEN']\n",
    "            if 'series' in i.keys():\n",
    "                for s in i['series']:\n",
    "                    seriesCode = s['code']\n",
    "                    seriesDesc = s['description']\n",
    "                    release = s['release']\n",
    "                    TAGS = []\n",
    "                    if 'tags' in s.keys():\n",
    "                        TAGS = s['tags']\n",
    "\n",
    "                    record = {}\n",
    "\n",
    "                    record['goalCode'] = goalCode\n",
    "                    record['goalDesc'] = goalDesc\n",
    "                    record['targetCode'] = targetCode\n",
    "                    record['targetDesc'] = targetDesc.encode(\"utf-8\") \n",
    "                    record['indicatorCode'] = indicatorCode\n",
    "                    record['indicatorReference'] = indicatorReference \n",
    "                    record['indicatorDesc'] = indicatorDesc.encode(\"utf-8\") \n",
    "                    record['seriesCode'] = seriesCode\n",
    "                    record['seriesDesc'] = seriesDesc.encode(\"utf-8\")\n",
    "                    record['release'] = release\n",
    "                    record['TAGS'] = TAGS\n",
    "\n",
    "                    tagsTemplate.append(record)\n",
    "\n"
   ]
  },
  {
   "cell_type": "code",
   "execution_count": 13,
   "metadata": {},
   "outputs": [],
   "source": [
    "filename = wd_dir + 'globalResources/' + 'tagsTemplate' + release + '.txt'    \n",
    "\n",
    "with open(filename, \"w\", newline='') as f:\n",
    "    writer = csv.DictWriter(f, fieldnames= list(tagsTemplate[0].keys()), delimiter = '\\t')\n",
    "    writer.writeheader()\n",
    "    writer.writerows(tagsTemplate)\n",
    "    f.close()"
   ]
  },
  {
   "cell_type": "code",
   "execution_count": 14,
   "metadata": {},
   "outputs": [
    {
     "data": {
      "text/plain": [
       "'2019.Q3.G.01'"
      ]
     },
     "execution_count": 14,
     "metadata": {},
     "output_type": "execute_result"
    }
   ],
   "source": [
    "release"
   ]
  },
  {
   "cell_type": "code",
   "execution_count": null,
   "metadata": {},
   "outputs": [],
   "source": []
  }
 ],
 "metadata": {
  "kernelspec": {
   "display_name": "Python 3",
   "language": "python",
   "name": "python3"
  },
  "language_info": {
   "codemirror_mode": {
    "name": "ipython",
    "version": 3
   },
   "file_extension": ".py",
   "mimetype": "text/x-python",
   "name": "python",
   "nbconvert_exporter": "python",
   "pygments_lexer": "ipython3",
   "version": "3.6.8"
  }
 },
 "nbformat": 4,
 "nbformat_minor": 2
}
